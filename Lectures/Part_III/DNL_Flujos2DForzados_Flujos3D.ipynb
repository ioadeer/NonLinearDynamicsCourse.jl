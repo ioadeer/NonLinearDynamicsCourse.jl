{
 "cells": [
  {
   "cell_type": "code",
   "execution_count": 72,
   "id": "2254df9f",
   "metadata": {
    "ExecuteTime": {
     "end_time": "2022-02-03T19:51:46.426000-03:00",
     "start_time": "2022-02-03T22:51:46.381Z"
    }
   },
   "outputs": [
    {
     "data": {
      "text/plain": [
       "plot_manifolds (generic function with 1 method)"
      ]
     },
     "execution_count": 72,
     "metadata": {},
     "output_type": "execute_result"
    }
   ],
   "source": [
    "using Interact, Plots, DifferentialEquations, LinearAlgebra, Polynomials"
   ]
  },
  {
   "cell_type": "markdown",
   "id": "0c24bc68",
   "metadata": {},
   "source": [
    "# Resonancias No lineales, respuestas a un Forzado\n",
    "\n",
    "Los auto-osciladores se diferencian fundamentalmente de un oscilador harmonico forzado porque no necesitan de una frecuencia externa que se sintonice a su frecuencia de resonancia, el propio auto-oscilador setea su propia frecuencia y fase a partir de su dinamica intrinseca.\n",
    "\n",
    "En este sentido son osciladores activos, no solo porque tienen su propia fuente de energia sino porque intentan mantener en la medida de lo posible su propia frecuencia de oscilacion cuando son sometidos a un forzado externo, pero cuando la frecuencia del forzado externo se aparta de su auto-frecuencia la respuesta es no trivial. \n",
    "\n",
    "A diferencia del oscilador armónico que siempre se somete a la frecuencia del forzado y su unica libertad de respuesta esta en la amplitud y fase de la oscilación, la respuesta del auto-oscilador a un forzado puede ser muy compleja, multiperiódica o cuasi-periódica (sin llegar nunca a ser completamente aperiódica o caótica como en el caso del auto-oscilador de Duffing-Van der Pol que vamos a ver mas adelante)"
   ]
  },
  {
   "cell_type": "markdown",
   "id": "cb11d939",
   "metadata": {},
   "source": [
    "## Van der Pol Forzado\n",
    "\n",
    "En el caso de oscilador de Van der Pol introducimos el forzado como una fuerza periodica con dos parametros de control: la frecuencia angular $\\omega$ y la amplitud del forzado $A$. Como es una fuerza, se agrega como un termino en la segunda ecuacion, junto con la fuerza restitutiva $-x$ y la disipacion no lineal $\\mu(1-x^2)y$. \n",
    "\n",
    "Sin embargo, antes de escribir las ecuaciones conviene recordar que cuando definimos un sistema dinamico dijimos que las reglas de evolucion, dadas por las ecuaciones diferenciales eran fijas y no se modificaban en el tiempo. Sin embargo, siempre podemos escribir un sistema uqe depende del tiempo 'inventando' el tiempo como una nueva variable, o en el caso de una funcion periodica, la fase del forzado $\\phi$. De esta forma podemos escribir el Van der Pol forzado de la siguiente forma.\n",
    "\n",
    "$\\dot{x} = y$\n",
    "\n",
    "$\\dot{y} = \\mu y -x^2y - x + A sin(\\phi) $\n",
    "\n",
    "$\\dot{\\phi} = \\omega$\n",
    "\n",
    "al costo de agregar una dimension mas, el flujo ahora es 3D. De todos modos vamos a proyectar en el plano $(x,y)$ pero teniendo en cuanta que ahora sobre el espacio de fases (o mejor dicho sobre su proyeccion) vamos a ver trayectorias que se cruzan pero que corresponden a dos coordenadas de $\\phi$ diferentes.\n",
    "\n",
    "De todos modos si bien la forma anterior es la forma correcta de escribir un sistema dinamico. por ahora escribimos las ecuaciones usando la dependencia explicita del tiempo porque es mas eficiente para el calculo y para poder usar las funciones que veniamos utilizando\n"
   ]
  },
  {
   "cell_type": "code",
   "execution_count": null,
   "id": "cbbb6166",
   "metadata": {
    "ExecuteTime": {
     "end_time": "2021-08-24T21:47:11.755809Z",
     "start_time": "2021-08-24T21:47:11.743826Z"
    }
   },
   "outputs": [],
   "source": [
    "def vanderpol_forced(t, x, μ, A, ω):\n",
    "    return[\n",
    "        x[1],\n",
    "        μ*(1-x[0]**2)*x[1]-x[0]+A*np.sin(ω*t),\n",
    "    ]"
   ]
  },
  {
   "cell_type": "code",
   "execution_count": null,
   "id": "911db4c2",
   "metadata": {
    "ExecuteTime": {
     "end_time": "2021-08-24T21:47:13.498699Z",
     "start_time": "2021-08-24T21:47:13.486703Z"
    }
   },
   "outputs": [],
   "source": [
    "import importlib as imp\n",
    "import putils\n",
    "from putils import *\n",
    "imp.reload(putils)\n",
    "from putils import *"
   ]
  },
  {
   "cell_type": "code",
   "execution_count": null,
   "id": "2a7db3b4",
   "metadata": {
    "ExecuteTime": {
     "end_time": "2021-08-24T21:47:16.482772Z",
     "start_time": "2021-08-24T21:47:16.111765Z"
    }
   },
   "outputs": [],
   "source": [
    "def plot2D_vanderpol_forced_interactive(μ,A,ω,x0,y0,tmax):\n",
    "    xini = [x0,y0]\n",
    "    dt = tmax/500\n",
    "    pars={'μ':μ,'A':A,'ω':ω}\n",
    "    trans = tmax/4\n",
    "    solve_plot(vanderpol_forced,pars,xini,tmax,dt,trans=trans)\n",
    "    \n",
    "iplot3 = interactive(plot2D_vanderpol_forced_interactive,\n",
    "                    μ = (-0.4, 2.0, 0.001),\n",
    "                    A = (0,1.0,0.001),\n",
    "                    ω = (0,1.0,0.001), \n",
    "                    x0=(-1,1,0.01), \n",
    "                    y0=(-1,1,0.01), \n",
    "                    tmax=(0,200,0.1))\n",
    "\n",
    "iplot3    "
   ]
  },
  {
   "cell_type": "markdown",
   "id": "b7b60aef",
   "metadata": {},
   "source": [
    "## Recurrence Plot\n",
    "\n",
    "Una mejor forma de visualizar la periodicidad es mediante un **recurrence plot** donde las estructuras periodicas se ven como lineas diagonales y el periodo es el espaciamiento entre las lineas. Como referencia se muestra ademas el periodo del forzado.\n",
    "\n"
   ]
  },
  {
   "cell_type": "code",
   "execution_count": null,
   "id": "20ef00ac",
   "metadata": {
    "ExecuteTime": {
     "end_time": "2021-08-24T21:47:30.147022Z",
     "start_time": "2021-08-24T21:47:28.849117Z"
    }
   },
   "outputs": [],
   "source": [
    "def recurrent_vanderpol_forced_interactive(μ,A,ω,ncycles,ee):\n",
    "    xini = [1,-1]\n",
    "    tmax = np.pi*ncycles\n",
    "    dt = 0.1\n",
    "    pars={'μ':μ,'A':A,'ω':ω}\n",
    "    trans = tmax/2\n",
    "    eps = np.power(10.0,ee)\n",
    "    recurrence_plot(vanderpol_forced,pars,xini,tmax,dt,trans=trans,eps=eps,period=2*np.pi/ω)\n",
    "\n",
    "\n",
    "iplot4 = interactive(recurrent_vanderpol_forced_interactive,\n",
    "                    μ = (0.0, 2.0, 0.001),\n",
    "                    A = (0,1.0,0.001),\n",
    "                    ω = (0,3.0,0.001), \n",
    "                    ncycles=(1,200,1),\n",
    "                    ee=(-3,-1,0.001))\n",
    "\n",
    "iplot4    "
   ]
  },
  {
   "cell_type": "markdown",
   "id": "5f81f939",
   "metadata": {},
   "source": [
    "## Duffing Forzado\n",
    "\n",
    "Para ver otro sistema forzado periodico donde la respuesta es mucho mas irregular volvemos al oscilador de Duffing (con friccion lineal). Recordar que llegamos a este sistema escribiendo primero la ecuacion del oscilador armonico de forma general con una fuerza de restitucion $K(x)$\n",
    "\n",
    "$\\dot{x}=y$\n",
    "\n",
    "$\\dot{y}=-\\mu y + K(x)$\n",
    "\n",
    "y eligiendo una fuerza de restitucion con un termino lineal y uno cubico\n",
    "\n",
    "$K(x) = \\beta x - x^3$\n",
    "\n",
    "Como para valores de $x$ grande va a dominar el termino cubico esta garantizado que el sistema es globalmente atractor porque si $x$ es muy positivo $-K(x)$ es muy negativo y viceversa.\n",
    "\n",
    "El oscilador de Duffing NO es un auto oscilador porque no tiene friccion negativa (inyeccion de energia). De todas formas lo que nos interesa estudiar aca es el oscilador de Duffing forzado:\n",
    "\n",
    "$\\dot{x} = y$\n",
    "\n",
    "$\\dot{y} = -\\mu y + \\beta x -  x^3 + A sin(\\phi)$\n",
    "\n",
    "$\\dot{\\phi} = \\omega$"
   ]
  },
  {
   "cell_type": "code",
   "execution_count": null,
   "id": "d0d74cc8",
   "metadata": {
    "ExecuteTime": {
     "end_time": "2021-08-24T21:47:41.325193Z",
     "start_time": "2021-08-24T21:47:41.311231Z"
    }
   },
   "outputs": [],
   "source": [
    "def duffing_forced(t, x, μ, β, A, ω):\n",
    "    return [\n",
    "        x[1],\n",
    "        -μ*x[1]+x[0]*(β-x[0]**2)+A*np.sin(ω*t),\n",
    "    ]"
   ]
  },
  {
   "cell_type": "code",
   "execution_count": null,
   "id": "2faa075d",
   "metadata": {
    "ExecuteTime": {
     "end_time": "2021-08-25T15:32:07.827363Z",
     "start_time": "2021-08-25T15:32:07.458211Z"
    }
   },
   "outputs": [],
   "source": [
    "def plot2D_duffing_forced_interactive(μ,β,A,ω,x0,y0,tmax):\n",
    "    xini = [x0,y0]\n",
    "    dt = tmax/500\n",
    "    pars={'μ':μ,'β':β,'A':A,'ω':ω}\n",
    "    trans = tmax/4\n",
    "    solve_plot(duffing_forced,pars,xini,tmax,dt,trans=trans)\n",
    "    \n",
    "iplot3 = interactive(plot2D_duffing_forced_interactive,\n",
    "                    μ = (0, 2.0, 0.001),\n",
    "                    β = (-5.0,2.0,0.001), \n",
    "                    A = (0,5.0,0.001),\n",
    "                    ω = (0,2.0,0.001), \n",
    "                    x0=(-1,1,0.01), \n",
    "                    y0=(-1,1,0.01), \n",
    "                    tmax=(0,100,0.1))\n",
    "\n",
    "iplot3    "
   ]
  },
  {
   "cell_type": "code",
   "execution_count": null,
   "id": "ec7caa3f",
   "metadata": {
    "ExecuteTime": {
     "end_time": "2021-08-24T21:47:52.210477Z",
     "start_time": "2021-08-24T21:47:50.694501Z"
    }
   },
   "outputs": [],
   "source": [
    "def recurrent_duffing_forced_interactive(μ,β,A,ω,ncycles,ee):\n",
    "    xini = [1,-1]\n",
    "    tmax = np.pi*ncycles\n",
    "    dt = 0.1\n",
    "    pars={'μ':μ,'β':β,'A':A,'ω':ω}\n",
    "    trans = tmax/2\n",
    "    eps = np.power(10.0,ee)\n",
    "    recurrence_plot(duffing_forced,pars,xini,tmax,dt,trans=trans,eps=eps,period=2*np.pi/ω)\n",
    "\n",
    "\n",
    "iplot4 = interactive(recurrent_duffing_forced_interactive,\n",
    "                    μ = (0.0, 2.0, 0.001),\n",
    "                    β = (-2.0,2.0,0.001),\n",
    "                    A = (0,1.0,0.001),\n",
    "                    ω = (0,3.0,0.001), \n",
    "                    ncycles=(1,200,1),\n",
    "                    ee=(-4,-3,0.001))\n",
    "\n",
    "iplot4    "
   ]
  },
  {
   "cell_type": "markdown",
   "id": "8a632283",
   "metadata": {},
   "source": [
    "# Subarmonicos. Oscilador cuadratico\n",
    "\n",
    "Cuando escribimos una forma no lineal para la restitucion $K(x)$ en el oscilador de Duffing elegimos agregar un termino cubico. Que hubiese pasado si en lugar de eso hubiesemos elegido un termino cuadratico? El problema es que el sistema no es globalmente atractor porque para valores de $x$ grande la restitucion es o siempre positiva o siempre negativa y para uno de los dos lados van a escaparse trayectorias. Podemos solucionar eso agregando un termino cuadratico y un termino cubico, pero poniendo un coeficiente muy chico al termino cubico y agregando un parametro al termino cuadratico que es el que nos interesa estudiar. De esta forma la fuerza de restitucion quedaria.\n",
    "\n",
    "$K(x) = -x +\\alpha x^2 - \\delta x^3$\n",
    "\n",
    "y eligiendo por ejemplo $\\delta=0.01$. Notar que ahora el parametro $\\alpha$ lo colocamos en el termino cuadratico (en Duffing el parametro de control $\\beta$ estaba en el termino lineal.\n",
    "De esta forma cuando $\\alpha$ sea igual a cero voy a tener el oscilador armonico para pequeñas oscilaciones, y a medida que voy subiendo el parametro $\\alpha$ voy incrementando la no linealidad del oscilador.\n",
    "\n",
    "El oscilador cuadratico se puede escribir entonces, con un termino de forzado externo como:\n",
    "\n",
    "$\\dot{x} = y$\n",
    "\n",
    "$\\dot{y} = -\\mu y - x +\\alpha x^2 -  0.01 x^3 + A sin(\\phi)$\n",
    "\n",
    "$\\dot{\\phi} = \\omega$\n",
    "\n",
    "A diferencia del oscilador de Duffing que tiende a ser simetrico en el eje x, el oscilador cuadratico va a ser mucho mas asimetrico para valores considerables de $\\alpha$ y vamos a ver ciclos limites con forma de 'huevo'.\n",
    "\n",
    "Pero la caracteristica mas relevante que tiene el osiclador cuadratico forzado es la aparicion de subarmonicos, incluso sin variar la frecuencia del forzado, a medida que se incrementa la amplitud. Esta aparicion de subarmonicos (que puede dar lugar a una casacada de duplicaciones de periodo que de lugar a la aparcion de Caos) se observa en muchos ociladores no lineales en el mundo real.\n",
    "\n",
    "Para el sistema que sigue probar por ejempo: \n",
    "$\\mu = 0.35$, $\\alpha=0.2$ $\\omega=1$ para valores crecientes de $A$"
   ]
  },
  {
   "cell_type": "code",
   "execution_count": null,
   "id": "d70499e6",
   "metadata": {
    "ExecuteTime": {
     "end_time": "2021-08-26T02:51:22.088505Z",
     "start_time": "2021-08-26T02:51:22.083519Z"
    }
   },
   "outputs": [],
   "source": [
    "def quadratic_forced(t, x, μ, α, A, ω):\n",
    "    return [\n",
    "        x[1],\n",
    "        -μ*x[1]-x[0]*(1.0-α*x[0]+0.01*x[0]**2)+A*np.sin(ω*t),\n",
    "    ]"
   ]
  },
  {
   "cell_type": "code",
   "execution_count": null,
   "id": "1837d8b9",
   "metadata": {
    "ExecuteTime": {
     "end_time": "2021-08-26T05:24:15.561340Z",
     "start_time": "2021-08-26T05:24:15.177270Z"
    },
    "scrolled": false
   },
   "outputs": [],
   "source": [
    "def plot2D_quadratic_forced_interactive(μ,α,A,ω,tmax):\n",
    "    xini = [0,0]\n",
    "    dt = tmax/1000\n",
    "    pars={'μ':μ,'α':α,'A':A,'ω':ω}\n",
    "    trans = tmax/2\n",
    "    solve_plot(quadratic_forced,pars,xini,tmax,dt,trans=trans)\n",
    "    \n",
    "iplot3 = interactive(plot2D_quadratic_forced_interactive,\n",
    "                    μ = (0, 1.0, 0.001),\n",
    "                    α = (-1,1,0.001), \n",
    "                    A = (0,5.0,0.001),\n",
    "                    ω = (0,2.0,0.001), \n",
    "                    tmax=(0,300,0.1))\n",
    "\n",
    "iplot3    "
   ]
  },
  {
   "cell_type": "markdown",
   "id": "03c1a48a",
   "metadata": {},
   "source": [
    "# Caos\n",
    "\n",
    "Para ciertos valores de parametros (probar por ejemplo μ = 0.05, β = 1.0, A = 0.44, ω = 0.21) el oscilador de Duffing forzado presenta orbitas aperiodicas, esto es que no se cierran nunca y van llenando el espacio de fases de forma densa en una region. \n",
    "\n",
    "Es ademas muy dificil (por no decir imposible en la practica) predecir la evolucion de la trayectoria y anticipar en cual de los lobulos (x positivo o x negativo) va a estar la trayectoria luego de un cierto tiempo. El sistema tiene una de las caracteristicas que define a los **sistemas caoticos**. Una perturbacion infinitesimal en las condiciones iniciales conduce a dos trayectorias que se apartan entre si exponencialmente, algo que se conocio durante el boom de la Teoria del Caos en los '80 como \"efecto Mariposa\"\n",
    "\n",
    "Las dos caracteristicas que definen un sistema caotico de forma mas rigurosa son\n",
    "\n",
    "- Mixing topologico: cualquier region del espacio de fases por pequeña que sea se va a superponer con la evolucion temporal de cualquier otra region si se espera el tiempo suficiente\n",
    "- Sensibilidad a las condiciones iniciales (efecto Mariposa), dos condiciones inciales muy proximas se alejan entre si durante un tiempo con una tasa de crecimiento exponencial. \n",
    "- Otra caracteristica que hace mas rigurosa la definicion es la existencia de infinitas orbitas periodicas inestables.\n",
    "\n",
    "Nos va a interesar caracterizar solo la segunda propiedad, usamos la funcion butterfly para pasar una condicion incial xini y una perturbacion eps de $10^{-12}$ y en el grafico de la derecha vemos como se alejan entre si en escala logaritmica. A la pendiente positiva se la conoce como **exponente de Lyapunov**. Se puede probar otro sistema que converja a un atractor y mostrar que se ve una pendiente negativa. Un exponente de Lyapunov positivo se considera indicio de Caos."
   ]
  },
  {
   "cell_type": "code",
   "execution_count": null,
   "id": "74bd43c1",
   "metadata": {
    "ExecuteTime": {
     "end_time": "2021-08-24T22:01:50.664439Z",
     "start_time": "2021-08-24T22:01:46.894471Z"
    }
   },
   "outputs": [],
   "source": [
    "μ = 0.05\n",
    "β = 1.0\n",
    "A = 0.44\n",
    "ω = 0.21\n",
    "xini = [1,-1]\n",
    "ncycles = 200\n",
    "tmax = np.pi*ncycles\n",
    "dt = 0.05\n",
    "pars={'μ':μ,'β':β,'A':A,'ω':ω}\n",
    "butterfly(duffing_forced,pars,xini,tmax,dt,eps=1e-12)"
   ]
  },
  {
   "cell_type": "code",
   "execution_count": null,
   "id": "d37db2a5",
   "metadata": {},
   "outputs": [],
   "source": []
  }
 ],
 "metadata": {
  "@webio": {
   "lastCommId": "970d262f3c474b699ecaeb3ebe50c556",
   "lastKernelId": "be1da9b6-92ab-40cb-a7db-1cd831b014e5"
  },
  "kernelspec": {
   "display_name": "Julia 1.6.5",
   "language": "julia",
   "name": "julia-1.6"
  },
  "language_info": {
   "file_extension": ".jl",
   "mimetype": "application/julia",
   "name": "julia",
   "version": "1.6.5"
  },
  "toc": {
   "base_numbering": 1,
   "nav_menu": {},
   "number_sections": true,
   "sideBar": true,
   "skip_h1_title": false,
   "title_cell": "Table of Contents",
   "title_sidebar": "Contents",
   "toc_cell": false,
   "toc_position": {
    "height": "calc(100% - 180px)",
    "left": "10px",
    "top": "150px",
    "width": "320px"
   },
   "toc_section_display": true,
   "toc_window_display": true
  },
  "varInspector": {
   "cols": {
    "lenName": 16,
    "lenType": 16,
    "lenVar": 40
   },
   "kernels_config": {
    "python": {
     "delete_cmd_postfix": "",
     "delete_cmd_prefix": "del ",
     "library": "var_list.py",
     "varRefreshCmd": "print(var_dic_list())"
    },
    "r": {
     "delete_cmd_postfix": ") ",
     "delete_cmd_prefix": "rm(",
     "library": "var_list.r",
     "varRefreshCmd": "cat(var_dic_list()) "
    }
   },
   "types_to_exclude": [
    "module",
    "function",
    "builtin_function_or_method",
    "instance",
    "_Feature"
   ],
   "window_display": true
  }
 },
 "nbformat": 4,
 "nbformat_minor": 5
}
