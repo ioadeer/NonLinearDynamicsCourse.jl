{
 "cells": [
  {
   "cell_type": "code",
   "execution_count": 1,
   "id": "2254df9f",
   "metadata": {
    "ExecuteTime": {
     "end_time": "2022-02-03T19:51:46.426000-03:00",
     "start_time": "2022-02-03T22:51:46.381Z"
    }
   },
   "outputs": [
    {
     "data": {
      "application/vnd.webio.node+json": {
       "children": [],
       "instanceArgs": {
        "namespace": "html",
        "tag": "div"
       },
       "nodeType": "DOM",
       "props": {},
       "type": "node"
      },
      "text/html": [
       "<div style=\"padding: 1em; background-color: #f8d6da; border: 1px solid #f5c6cb; font-weight: bold;\">\n",
       "<p>The WebIO Jupyter extension was not detected. See the\n",
       "<a href=\"https://juliagizmos.github.io/WebIO.jl/latest/providers/ijulia/\" target=\"_blank\">\n",
       "    WebIO Jupyter integration documentation\n",
       "</a>\n",
       "for more information.\n",
       "</div>\n"
      ],
      "text/plain": [
       "WebIO._IJuliaInit()"
      ]
     },
     "metadata": {
      "application/vnd.webio.node+json": {
       "kernelId": "6f199235-1784-4403-a90a-7cc2d446a373"
      }
     },
     "output_type": "display_data"
    }
   ],
   "source": [
    "using Interact, Plots, DifferentialEquations, LinearAlgebra, Polynomials\n",
    "using NonLinearDynamicsCourse"
   ]
  },
  {
   "cell_type": "markdown",
   "id": "0c24bc68",
   "metadata": {},
   "source": [
    "# Resonancias No lineales, respuestas a un Forzado\n",
    "\n",
    "Los auto-osciladores se diferencian fundamentalmente de un oscilador harmonico forzado porque no necesitan de una frecuencia externa que se sintonice a su frecuencia de resonancia, el propio auto-oscilador setea su propia frecuencia y fase a partir de su dinamica intrinseca.\n",
    "\n",
    "En este sentido son osciladores activos, no solo porque tienen su propia fuente de energia sino porque intentan mantener en la medida de lo posible su propia frecuencia de oscilacion cuando son sometidos a un forzado externo, pero cuando la frecuencia del forzado externo se aparta de su auto-frecuencia la respuesta es no trivial. \n",
    "\n",
    "A diferencia del oscilador armónico que siempre se somete a la frecuencia del forzado y su unica libertad de respuesta esta en la amplitud y fase de la oscilación, la respuesta del auto-oscilador a un forzado puede ser muy compleja, multiperiódica o cuasi-periódica (sin llegar nunca a ser completamente aperiódica o caótica como en el caso del auto-oscilador de Duffing-Van der Pol que vamos a ver mas adelante)"
   ]
  },
  {
   "cell_type": "markdown",
   "id": "cb11d939",
   "metadata": {},
   "source": [
    "## Van der Pol Forzado\n",
    "\n",
    "En el caso de oscilador de Van der Pol introducimos el forzado como una fuerza periodica con dos parametros de control: la frecuencia angular $\\omega$ y la amplitud del forzado $A$. Como es una fuerza, se agrega como un termino en la segunda ecuacion, junto con la fuerza restitutiva $-x$ y la disipacion no lineal $\\mu(1-x^2)y$. \n",
    "\n",
    "Sin embargo, antes de escribir las ecuaciones conviene recordar que cuando definimos un sistema dinamico dijimos que las reglas de evolucion, dadas por las ecuaciones diferenciales eran fijas y no se modificaban en el tiempo. Sin embargo, siempre podemos escribir un sistema uqe depende del tiempo 'inventando' el tiempo como una nueva variable, o en el caso de una funcion periodica, la fase del forzado $\\phi$. De esta forma podemos escribir el Van der Pol forzado de la siguiente forma.\n",
    "\n",
    "$\\dot{x} = y$\n",
    "\n",
    "$\\dot{y} = \\mu (1 -x^2)y - x + A sin(\\phi) $\n",
    "\n",
    "$\\dot{\\phi} = \\omega$\n",
    "\n",
    "al costo de agregar una dimension mas, el flujo ahora es 3D. De todos modos vamos a proyectar en el plano $(x,y)$ pero teniendo en cuanta que ahora sobre el espacio de fases (o mejor dicho sobre su proyeccion) vamos a ver trayectorias que se cruzan pero que corresponden a dos coordenadas de $\\phi$ diferentes.\n",
    "\n",
    "De todos modos si bien la forma anterior es la forma correcta de escribir un sistema dinamico. por ahora escribimos las ecuaciones usando la dependencia explicita del tiempo porque es mas eficiente para el calculo y para poder usar las funciones que veniamos utilizando\n"
   ]
  },
  {
   "cell_type": "code",
   "execution_count": 2,
   "id": "cbbb6166",
   "metadata": {
    "ExecuteTime": {
     "end_time": "2021-08-24T21:47:11.755809Z",
     "start_time": "2021-08-24T21:47:11.743826Z"
    }
   },
   "outputs": [
    {
     "data": {
      "text/plain": [
       "vdp! (generic function with 1 method)"
      ]
     },
     "execution_count": 2,
     "metadata": {},
     "output_type": "execute_result"
    }
   ],
   "source": [
    "function fvdp!(du,u,p,t)\n",
    "    du[1] = u[2]\n",
    "    du[2] = p[1]*(1.0-u[1]*u[1])*u[2]-u[1]+p[2]*sin(u[3])\n",
    "    du[3] = p[3]\n",
    "    du\n",
    "end    "
   ]
  },
  {
   "cell_type": "code",
   "execution_count": 42,
   "id": "92790d5f",
   "metadata": {},
   "outputs": [
    {
     "name": "stdout",
     "output_type": "stream",
     "text": [
      "  0.129388 seconds (460.70 k allocations: 39.394 MiB, 20.94% gc time, 62.64% compilation time)\n"
     ]
    },
    {
     "data": {
      "image/svg+xml": [
       "<?xml version=\"1.0\" encoding=\"utf-8\"?>\n",
       "<svg xmlns=\"http://www.w3.org/2000/svg\" xmlns:xlink=\"http://www.w3.org/1999/xlink\" width=\"900\" height=\"400\" viewBox=\"0 0 3600 1600\">\n",
       "<defs>\n",
       "  <clipPath id=\"clip490\">\n",
       "    <rect x=\"0\" y=\"0\" width=\"3600\" height=\"1600\"/>\n",
       "  </clipPath>\n",
       "</defs>\n",
       "<path clip-path=\"url(#clip490)\" d=\"\n",
       "M0 1600 L3600 1600 L3600 0 L0 0  Z\n",
       "  \" fill=\"#ffffff\" fill-rule=\"evenodd\" fill-opacity=\"1\"/>\n",
       "<defs>\n",
       "  <clipPath id=\"clip491\">\n",
       "    <rect x=\"720\" y=\"0\" width=\"2521\" height=\"1600\"/>\n",
       "  </clipPath>\n",
       "</defs>\n",
       "<defs>\n",
       "  <clipPath id=\"clip492\">\n",
       "    <rect x=\"198\" y=\"47\" width=\"1575\" height=\"1452\"/>\n",
       "  </clipPath>\n",
       "</defs>\n",
       "<path clip-path=\"url(#clip492)\" d=\"\n",
       "M198.274 1412.27 L198.274 304.34 L774.354 47.2441 L1772.15 132.943 L1772.15 1240.87 L1196.07 1497.97 L198.274 1412.27  Z\n",
       "  \" fill=\"#ffffff\" fill-rule=\"evenodd\" fill-opacity=\"1\"/>\n",
       "<polyline clip-path=\"url(#clip492)\" style=\"stroke:#000000; stroke-linecap:butt; stroke-linejoin:round; stroke-width:2; stroke-opacity:0.1; fill:none\" points=\"\n",
       "  304.191,1421.37 880.271,1164.27 \n",
       "  \"/>\n",
       "<polyline clip-path=\"url(#clip492)\" style=\"stroke:#000000; stroke-linecap:butt; stroke-linejoin:round; stroke-width:2; stroke-opacity:0.1; fill:none\" points=\"\n",
       "  880.271,1164.27 880.271,56.3411 \n",
       "  \"/>\n",
       "<polyline clip-path=\"url(#clip492)\" style=\"stroke:#000000; stroke-linecap:butt; stroke-linejoin:round; stroke-width:2; stroke-opacity:0.1; fill:none\" points=\"\n",
       "  500.758,1438.25 1076.84,1181.15 \n",
       "  \"/>\n",
       "<polyline clip-path=\"url(#clip492)\" style=\"stroke:#000000; stroke-linecap:butt; stroke-linejoin:round; stroke-width:2; stroke-opacity:0.1; fill:none\" points=\"\n",
       "  1076.84,1181.15 1076.84,73.2237 \n",
       "  \"/>\n",
       "<polyline clip-path=\"url(#clip492)\" style=\"stroke:#000000; stroke-linecap:butt; stroke-linejoin:round; stroke-width:2; stroke-opacity:0.1; fill:none\" points=\"\n",
       "  697.324,1455.13 1273.4,1198.04 \n",
       "  \"/>\n",
       "<polyline clip-path=\"url(#clip492)\" style=\"stroke:#000000; stroke-linecap:butt; stroke-linejoin:round; stroke-width:2; stroke-opacity:0.1; fill:none\" points=\"\n",
       "  1273.4,1198.04 1273.4,90.1063 \n",
       "  \"/>\n",
       "<polyline clip-path=\"url(#clip492)\" style=\"stroke:#000000; stroke-linecap:butt; stroke-linejoin:round; stroke-width:2; stroke-opacity:0.1; fill:none\" points=\"\n",
       "  893.891,1472.01 1469.97,1214.92 \n",
       "  \"/>\n",
       "<polyline clip-path=\"url(#clip492)\" style=\"stroke:#000000; stroke-linecap:butt; stroke-linejoin:round; stroke-width:2; stroke-opacity:0.1; fill:none\" points=\"\n",
       "  1469.97,1214.92 1469.97,106.989 \n",
       "  \"/>\n",
       "<polyline clip-path=\"url(#clip492)\" style=\"stroke:#000000; stroke-linecap:butt; stroke-linejoin:round; stroke-width:2; stroke-opacity:0.1; fill:none\" points=\"\n",
       "  1090.46,1488.9 1666.54,1231.8 \n",
       "  \"/>\n",
       "<polyline clip-path=\"url(#clip492)\" style=\"stroke:#000000; stroke-linecap:butt; stroke-linejoin:round; stroke-width:2; stroke-opacity:0.1; fill:none\" points=\"\n",
       "  1666.54,1231.8 1666.54,123.872 \n",
       "  \"/>\n",
       "<polyline clip-path=\"url(#clip490)\" style=\"stroke:#000000; stroke-linecap:butt; stroke-linejoin:round; stroke-width:4; stroke-opacity:1; fill:none\" points=\"\n",
       "  198.274,1412.27 1196.07,1497.97 \n",
       "  \"/>\n",
       "<polyline clip-path=\"url(#clip490)\" style=\"stroke:#000000; stroke-linecap:butt; stroke-linejoin:round; stroke-width:4; stroke-opacity:1; fill:none\" points=\"\n",
       "  774.354,47.2441 1772.15,132.943 \n",
       "  \"/>\n",
       "<polyline clip-path=\"url(#clip490)\" style=\"stroke:#000000; stroke-linecap:butt; stroke-linejoin:round; stroke-width:4; stroke-opacity:1; fill:none\" points=\"\n",
       "  304.191,1421.37 311.104,1418.28 \n",
       "  \"/>\n",
       "<polyline clip-path=\"url(#clip490)\" style=\"stroke:#000000; stroke-linecap:butt; stroke-linejoin:round; stroke-width:4; stroke-opacity:1; fill:none\" points=\"\n",
       "  500.758,1438.25 507.671,1435.16 \n",
       "  \"/>\n",
       "<polyline clip-path=\"url(#clip490)\" style=\"stroke:#000000; stroke-linecap:butt; stroke-linejoin:round; stroke-width:4; stroke-opacity:1; fill:none\" points=\"\n",
       "  697.324,1455.13 704.237,1452.05 \n",
       "  \"/>\n",
       "<polyline clip-path=\"url(#clip490)\" style=\"stroke:#000000; stroke-linecap:butt; stroke-linejoin:round; stroke-width:4; stroke-opacity:1; fill:none\" points=\"\n",
       "  893.891,1472.01 900.804,1468.93 \n",
       "  \"/>\n",
       "<polyline clip-path=\"url(#clip490)\" style=\"stroke:#000000; stroke-linecap:butt; stroke-linejoin:round; stroke-width:4; stroke-opacity:1; fill:none\" points=\"\n",
       "  1090.46,1488.9 1097.37,1485.81 \n",
       "  \"/>\n",
       "<path clip-path=\"url(#clip490)\" d=\"M240.379 1464.86 L270.055 1464.86 L270.055 1468.79 L240.379 1468.79 L240.379 1464.86 Z\" fill=\"#000000\" fill-rule=\"evenodd\" fill-opacity=\"1\" /><path clip-path=\"url(#clip490)\" d=\"M284.175 1477.75 L300.494 1477.75 L300.494 1481.69 L278.55 1481.69 L278.55 1477.75 Q281.212 1475 285.795 1470.37 Q290.402 1465.72 291.582 1464.37 Q293.828 1461.85 294.707 1460.11 Q295.61 1458.35 295.61 1456.66 Q295.61 1453.91 293.666 1452.17 Q291.744 1450.44 288.643 1450.44 Q286.444 1450.44 283.99 1451.2 Q281.559 1451.97 278.782 1453.52 L278.782 1448.79 Q281.606 1447.66 284.059 1447.08 Q286.513 1446.5 288.55 1446.5 Q293.92 1446.5 297.115 1449.19 Q300.309 1451.87 300.309 1456.36 Q300.309 1458.49 299.499 1460.41 Q298.712 1462.31 296.606 1464.91 Q296.027 1465.58 292.925 1468.79 Q289.823 1471.99 284.175 1477.75 Z\" fill=\"#000000\" fill-rule=\"evenodd\" fill-opacity=\"1\" /><path clip-path=\"url(#clip490)\" d=\"M436.575 1481.74 L466.251 1481.74 L466.251 1485.68 L436.575 1485.68 L436.575 1481.74 Z\" fill=\"#000000\" fill-rule=\"evenodd\" fill-opacity=\"1\" /><path clip-path=\"url(#clip490)\" d=\"M477.154 1494.64 L484.793 1494.64 L484.793 1468.27 L476.482 1469.94 L476.482 1465.68 L484.746 1464.01 L489.422 1464.01 L489.422 1494.64 L497.061 1494.64 L497.061 1498.57 L477.154 1498.57 L477.154 1494.64 Z\" fill=\"#000000\" fill-rule=\"evenodd\" fill-opacity=\"1\" /><path clip-path=\"url(#clip490)\" d=\"M681.683 1483.97 Q678.072 1483.97 676.244 1487.54 Q674.438 1491.08 674.438 1498.21 Q674.438 1505.31 676.244 1508.88 Q678.072 1512.42 681.683 1512.42 Q685.318 1512.42 687.123 1508.88 Q688.952 1505.31 688.952 1498.21 Q688.952 1491.08 687.123 1487.54 Q685.318 1483.97 681.683 1483.97 M681.683 1480.27 Q687.494 1480.27 690.549 1484.87 Q693.628 1489.46 693.628 1498.21 Q693.628 1506.93 690.549 1511.54 Q687.494 1516.12 681.683 1516.12 Q675.873 1516.12 672.795 1511.54 Q669.739 1506.93 669.739 1498.21 Q669.739 1489.46 672.795 1484.87 Q675.873 1480.27 681.683 1480.27 Z\" fill=\"#000000\" fill-rule=\"evenodd\" fill-opacity=\"1\" /><path clip-path=\"url(#clip490)\" d=\"M870.287 1528.4 L877.926 1528.4 L877.926 1502.03 L869.616 1503.7 L869.616 1499.44 L877.88 1497.78 L882.556 1497.78 L882.556 1528.4 L890.194 1528.4 L890.194 1532.34 L870.287 1532.34 L870.287 1528.4 Z\" fill=\"#000000\" fill-rule=\"evenodd\" fill-opacity=\"1\" /><path clip-path=\"url(#clip490)\" d=\"M1070.44 1545.28 L1086.76 1545.28 L1086.76 1549.22 L1064.82 1549.22 L1064.82 1545.28 Q1067.48 1542.53 1072.06 1537.9 Q1076.67 1533.25 1077.85 1531.9 Q1080.09 1529.38 1080.97 1527.64 Q1081.88 1525.89 1081.88 1524.2 Q1081.88 1521.44 1079.93 1519.7 Q1078.01 1517.97 1074.91 1517.97 Q1072.71 1517.97 1070.26 1518.73 Q1067.83 1519.5 1065.05 1521.05 L1065.05 1516.32 Q1067.87 1515.19 1070.33 1514.61 Q1072.78 1514.03 1074.82 1514.03 Q1080.19 1514.03 1083.38 1516.72 Q1086.58 1519.4 1086.58 1523.89 Q1086.58 1526.02 1085.77 1527.95 Q1084.98 1529.84 1082.87 1532.44 Q1082.29 1533.11 1079.19 1536.32 Q1076.09 1539.52 1070.44 1545.28 Z\" fill=\"#000000\" fill-rule=\"evenodd\" fill-opacity=\"1\" /><polyline clip-path=\"url(#clip492)\" style=\"stroke:#000000; stroke-linecap:butt; stroke-linejoin:round; stroke-width:2; stroke-opacity:0.1; fill:none\" points=\"\n",
       "  1242.61,1477.2 244.813,1391.5 \n",
       "  \"/>\n",
       "<polyline clip-path=\"url(#clip492)\" style=\"stroke:#000000; stroke-linecap:butt; stroke-linejoin:round; stroke-width:2; stroke-opacity:0.1; fill:none\" points=\"\n",
       "  244.813,1391.5 244.813,283.57 \n",
       "  \"/>\n",
       "<polyline clip-path=\"url(#clip492)\" style=\"stroke:#000000; stroke-linecap:butt; stroke-linejoin:round; stroke-width:2; stroke-opacity:0.1; fill:none\" points=\"\n",
       "  1363.39,1423.3 365.589,1337.6 \n",
       "  \"/>\n",
       "<polyline clip-path=\"url(#clip492)\" style=\"stroke:#000000; stroke-linecap:butt; stroke-linejoin:round; stroke-width:2; stroke-opacity:0.1; fill:none\" points=\"\n",
       "  365.589,1337.6 365.589,229.67 \n",
       "  \"/>\n",
       "<polyline clip-path=\"url(#clip492)\" style=\"stroke:#000000; stroke-linecap:butt; stroke-linejoin:round; stroke-width:2; stroke-opacity:0.1; fill:none\" points=\"\n",
       "  1484.16,1369.4 486.365,1283.7 \n",
       "  \"/>\n",
       "<polyline clip-path=\"url(#clip492)\" style=\"stroke:#000000; stroke-linecap:butt; stroke-linejoin:round; stroke-width:2; stroke-opacity:0.1; fill:none\" points=\"\n",
       "  486.365,1283.7 486.365,175.769 \n",
       "  \"/>\n",
       "<polyline clip-path=\"url(#clip492)\" style=\"stroke:#000000; stroke-linecap:butt; stroke-linejoin:round; stroke-width:2; stroke-opacity:0.1; fill:none\" points=\"\n",
       "  1604.94,1315.5 607.14,1229.8 \n",
       "  \"/>\n",
       "<polyline clip-path=\"url(#clip492)\" style=\"stroke:#000000; stroke-linecap:butt; stroke-linejoin:round; stroke-width:2; stroke-opacity:0.1; fill:none\" points=\"\n",
       "  607.14,1229.8 607.14,121.869 \n",
       "  \"/>\n",
       "<polyline clip-path=\"url(#clip492)\" style=\"stroke:#000000; stroke-linecap:butt; stroke-linejoin:round; stroke-width:2; stroke-opacity:0.1; fill:none\" points=\"\n",
       "  1725.72,1261.6 727.916,1175.9 \n",
       "  \"/>\n",
       "<polyline clip-path=\"url(#clip492)\" style=\"stroke:#000000; stroke-linecap:butt; stroke-linejoin:round; stroke-width:2; stroke-opacity:0.1; fill:none\" points=\"\n",
       "  727.916,1175.9 727.916,67.9686 \n",
       "  \"/>\n",
       "<polyline clip-path=\"url(#clip490)\" style=\"stroke:#000000; stroke-linecap:butt; stroke-linejoin:round; stroke-width:4; stroke-opacity:1; fill:none\" points=\"\n",
       "  1196.07,1497.97 1772.15,1240.87 \n",
       "  \"/>\n",
       "<polyline clip-path=\"url(#clip490)\" style=\"stroke:#000000; stroke-linecap:butt; stroke-linejoin:round; stroke-width:4; stroke-opacity:1; fill:none\" points=\"\n",
       "  198.274,304.34 774.354,47.2441 \n",
       "  \"/>\n",
       "<polyline clip-path=\"url(#clip490)\" style=\"stroke:#000000; stroke-linecap:butt; stroke-linejoin:round; stroke-width:4; stroke-opacity:1; fill:none\" points=\"\n",
       "  1242.61,1477.2 1230.64,1476.17 \n",
       "  \"/>\n",
       "<polyline clip-path=\"url(#clip490)\" style=\"stroke:#000000; stroke-linecap:butt; stroke-linejoin:round; stroke-width:4; stroke-opacity:1; fill:none\" points=\"\n",
       "  1363.39,1423.3 1351.42,1422.27 \n",
       "  \"/>\n",
       "<polyline clip-path=\"url(#clip490)\" style=\"stroke:#000000; stroke-linecap:butt; stroke-linejoin:round; stroke-width:4; stroke-opacity:1; fill:none\" points=\"\n",
       "  1484.16,1369.4 1472.19,1368.37 \n",
       "  \"/>\n",
       "<polyline clip-path=\"url(#clip490)\" style=\"stroke:#000000; stroke-linecap:butt; stroke-linejoin:round; stroke-width:4; stroke-opacity:1; fill:none\" points=\"\n",
       "  1604.94,1315.5 1592.97,1314.47 \n",
       "  \"/>\n",
       "<polyline clip-path=\"url(#clip490)\" style=\"stroke:#000000; stroke-linecap:butt; stroke-linejoin:round; stroke-width:4; stroke-opacity:1; fill:none\" points=\"\n",
       "  1725.72,1261.6 1713.74,1260.57 \n",
       "  \"/>\n",
       "<path clip-path=\"url(#clip490)\" d=\"M1260.22 1517.1 L1289.89 1517.1 L1289.89 1521.03 L1260.22 1521.03 L1260.22 1517.1 Z\" fill=\"#000000\" fill-rule=\"evenodd\" fill-opacity=\"1\" /><path clip-path=\"url(#clip490)\" d=\"M1304.02 1529.99 L1320.33 1529.99 L1320.33 1533.93 L1298.39 1533.93 L1298.39 1529.99 Q1301.05 1527.24 1305.64 1522.61 Q1310.24 1517.96 1311.42 1516.61 Q1313.67 1514.09 1314.55 1512.35 Q1315.45 1510.59 1315.45 1508.9 Q1315.45 1506.15 1313.51 1504.41 Q1311.58 1502.68 1308.48 1502.68 Q1306.28 1502.68 1303.83 1503.44 Q1301.4 1504.21 1298.62 1505.76 L1298.62 1501.03 Q1301.45 1499.9 1303.9 1499.32 Q1306.35 1498.74 1308.39 1498.74 Q1313.76 1498.74 1316.95 1501.43 Q1320.15 1504.11 1320.15 1508.6 Q1320.15 1510.73 1319.34 1512.65 Q1318.55 1514.55 1316.45 1517.15 Q1315.87 1517.82 1312.76 1521.03 Q1309.66 1524.23 1304.02 1529.99 Z\" fill=\"#000000\" fill-rule=\"evenodd\" fill-opacity=\"1\" /><path clip-path=\"url(#clip490)\" d=\"M1380.99 1463.2 L1410.67 1463.2 L1410.67 1467.13 L1380.99 1467.13 L1380.99 1463.2 Z\" fill=\"#000000\" fill-rule=\"evenodd\" fill-opacity=\"1\" /><path clip-path=\"url(#clip490)\" d=\"M1421.57 1476.09 L1429.21 1476.09 L1429.21 1449.73 L1420.9 1451.39 L1420.9 1447.13 L1429.17 1445.47 L1433.84 1445.47 L1433.84 1476.09 L1441.48 1476.09 L1441.48 1480.03 L1421.57 1480.03 L1421.57 1476.09 Z\" fill=\"#000000\" fill-rule=\"evenodd\" fill-opacity=\"1\" /><path clip-path=\"url(#clip490)\" d=\"M1513.71 1394.65 Q1510.1 1394.65 1508.27 1398.21 Q1506.47 1401.75 1506.47 1408.88 Q1506.47 1415.99 1508.27 1419.55 Q1510.1 1423.09 1513.71 1423.09 Q1517.35 1423.09 1519.15 1419.55 Q1520.98 1415.99 1520.98 1408.88 Q1520.98 1401.75 1519.15 1398.21 Q1517.35 1394.65 1513.71 1394.65 M1513.71 1390.94 Q1519.52 1390.94 1522.58 1395.55 Q1525.66 1400.13 1525.66 1408.88 Q1525.66 1417.61 1522.58 1422.21 Q1519.52 1426.8 1513.71 1426.8 Q1507.9 1426.8 1504.83 1422.21 Q1501.77 1417.61 1501.77 1408.88 Q1501.77 1400.13 1504.83 1395.55 Q1507.9 1390.94 1513.71 1390.94 Z\" fill=\"#000000\" fill-rule=\"evenodd\" fill-opacity=\"1\" /><path clip-path=\"url(#clip490)\" d=\"M1623.22 1368.29 L1630.86 1368.29 L1630.86 1341.93 L1622.55 1343.59 L1622.55 1339.33 L1630.81 1337.67 L1635.49 1337.67 L1635.49 1368.29 L1643.12 1368.29 L1643.12 1372.23 L1623.22 1372.23 L1623.22 1368.29 Z\" fill=\"#000000\" fill-rule=\"evenodd\" fill-opacity=\"1\" /><path clip-path=\"url(#clip490)\" d=\"M1748.95 1314.39 L1765.27 1314.39 L1765.27 1318.33 L1743.32 1318.33 L1743.32 1314.39 Q1745.98 1311.64 1750.57 1307.01 Q1755.17 1302.35 1756.35 1301.01 Q1758.6 1298.49 1759.48 1296.75 Q1760.38 1294.99 1760.38 1293.3 Q1760.38 1290.55 1758.44 1288.81 Q1756.52 1287.08 1753.41 1287.08 Q1751.22 1287.08 1748.76 1287.84 Q1746.33 1288.6 1743.55 1290.16 L1743.55 1285.43 Q1746.38 1284.3 1748.83 1283.72 Q1751.28 1283.14 1753.32 1283.14 Q1758.69 1283.14 1761.89 1285.83 Q1765.08 1288.51 1765.08 1293 Q1765.08 1295.13 1764.27 1297.05 Q1763.48 1298.95 1761.38 1301.54 Q1760.8 1302.22 1757.7 1305.43 Q1754.59 1308.63 1748.95 1314.39 Z\" fill=\"#000000\" fill-rule=\"evenodd\" fill-opacity=\"1\" /><polyline clip-path=\"url(#clip492)\" style=\"stroke:#000000; stroke-linecap:butt; stroke-linejoin:round; stroke-width:2; stroke-opacity:0.1; fill:none\" points=\"\n",
       "  198.274,1380.91 774.354,1123.82 \n",
       "  \"/>\n",
       "<polyline clip-path=\"url(#clip492)\" style=\"stroke:#000000; stroke-linecap:butt; stroke-linejoin:round; stroke-width:2; stroke-opacity:0.1; fill:none\" points=\"\n",
       "  774.354,1123.82 1772.15,1209.52 \n",
       "  \"/>\n",
       "<polyline clip-path=\"url(#clip492)\" style=\"stroke:#000000; stroke-linecap:butt; stroke-linejoin:round; stroke-width:2; stroke-opacity:0.1; fill:none\" points=\"\n",
       "  198.274,1119.61 774.354,862.513 \n",
       "  \"/>\n",
       "<polyline clip-path=\"url(#clip492)\" style=\"stroke:#000000; stroke-linecap:butt; stroke-linejoin:round; stroke-width:2; stroke-opacity:0.1; fill:none\" points=\"\n",
       "  774.354,862.513 1772.15,948.211 \n",
       "  \"/>\n",
       "<polyline clip-path=\"url(#clip492)\" style=\"stroke:#000000; stroke-linecap:butt; stroke-linejoin:round; stroke-width:2; stroke-opacity:0.1; fill:none\" points=\"\n",
       "  198.274,858.305 774.354,601.209 \n",
       "  \"/>\n",
       "<polyline clip-path=\"url(#clip492)\" style=\"stroke:#000000; stroke-linecap:butt; stroke-linejoin:round; stroke-width:2; stroke-opacity:0.1; fill:none\" points=\"\n",
       "  774.354,601.209 1772.15,686.907 \n",
       "  \"/>\n",
       "<polyline clip-path=\"url(#clip492)\" style=\"stroke:#000000; stroke-linecap:butt; stroke-linejoin:round; stroke-width:2; stroke-opacity:0.1; fill:none\" points=\"\n",
       "  198.274,597.001 774.354,339.905 \n",
       "  \"/>\n",
       "<polyline clip-path=\"url(#clip492)\" style=\"stroke:#000000; stroke-linecap:butt; stroke-linejoin:round; stroke-width:2; stroke-opacity:0.1; fill:none\" points=\"\n",
       "  774.354,339.905 1772.15,425.603 \n",
       "  \"/>\n",
       "<polyline clip-path=\"url(#clip492)\" style=\"stroke:#000000; stroke-linecap:butt; stroke-linejoin:round; stroke-width:2; stroke-opacity:0.1; fill:none\" points=\"\n",
       "  198.274,335.696 774.354,78.6006 \n",
       "  \"/>\n",
       "<polyline clip-path=\"url(#clip492)\" style=\"stroke:#000000; stroke-linecap:butt; stroke-linejoin:round; stroke-width:2; stroke-opacity:0.1; fill:none\" points=\"\n",
       "  774.354,78.6006 1772.15,164.299 \n",
       "  \"/>\n",
       "<polyline clip-path=\"url(#clip490)\" style=\"stroke:#000000; stroke-linecap:butt; stroke-linejoin:round; stroke-width:4; stroke-opacity:1; fill:none\" points=\"\n",
       "  198.274,1412.27 198.274,304.34 \n",
       "  \"/>\n",
       "<polyline clip-path=\"url(#clip490)\" style=\"stroke:#000000; stroke-linecap:butt; stroke-linejoin:round; stroke-width:4; stroke-opacity:1; fill:none\" points=\"\n",
       "  1772.15,1240.87 1772.15,132.943 \n",
       "  \"/>\n",
       "<polyline clip-path=\"url(#clip490)\" style=\"stroke:#000000; stroke-linecap:butt; stroke-linejoin:round; stroke-width:4; stroke-opacity:1; fill:none\" points=\"\n",
       "  198.274,1380.91 205.187,1377.83 \n",
       "  \"/>\n",
       "<polyline clip-path=\"url(#clip490)\" style=\"stroke:#000000; stroke-linecap:butt; stroke-linejoin:round; stroke-width:4; stroke-opacity:1; fill:none\" points=\"\n",
       "  198.274,1119.61 205.187,1116.52 \n",
       "  \"/>\n",
       "<polyline clip-path=\"url(#clip490)\" style=\"stroke:#000000; stroke-linecap:butt; stroke-linejoin:round; stroke-width:4; stroke-opacity:1; fill:none\" points=\"\n",
       "  198.274,858.305 205.187,855.219 \n",
       "  \"/>\n",
       "<polyline clip-path=\"url(#clip490)\" style=\"stroke:#000000; stroke-linecap:butt; stroke-linejoin:round; stroke-width:4; stroke-opacity:1; fill:none\" points=\"\n",
       "  198.274,597.001 205.187,593.915 \n",
       "  \"/>\n",
       "<polyline clip-path=\"url(#clip490)\" style=\"stroke:#000000; stroke-linecap:butt; stroke-linejoin:round; stroke-width:4; stroke-opacity:1; fill:none\" points=\"\n",
       "  198.274,335.696 205.187,332.611 \n",
       "  \"/>\n",
       "<path clip-path=\"url(#clip490)\" d=\"M67.7365 1366.71 Q64.1254 1366.71 62.2967 1370.28 Q60.4912 1373.82 60.4912 1380.95 Q60.4912 1388.05 62.2967 1391.62 Q64.1254 1395.16 67.7365 1395.16 Q71.3707 1395.16 73.1763 1391.62 Q75.005 1388.05 75.005 1380.95 Q75.005 1373.82 73.1763 1370.28 Q71.3707 1366.71 67.7365 1366.71 M67.7365 1363.01 Q73.5467 1363.01 76.6022 1367.61 Q79.6809 1372.2 79.6809 1380.95 Q79.6809 1389.67 76.6022 1394.28 Q73.5467 1398.86 67.7365 1398.86 Q61.9264 1398.86 58.8477 1394.28 Q55.7921 1389.67 55.7921 1380.95 Q55.7921 1372.2 58.8477 1367.61 Q61.9264 1363.01 67.7365 1363.01 Z\" fill=\"#000000\" fill-rule=\"evenodd\" fill-opacity=\"1\" /><path clip-path=\"url(#clip490)\" d=\"M87.8984 1392.31 L92.7827 1392.31 L92.7827 1398.19 L87.8984 1398.19 L87.8984 1392.31 Z\" fill=\"#000000\" fill-rule=\"evenodd\" fill-opacity=\"1\" /><path clip-path=\"url(#clip490)\" d=\"M112.968 1366.71 Q109.357 1366.71 107.528 1370.28 Q105.722 1373.82 105.722 1380.95 Q105.722 1388.05 107.528 1391.62 Q109.357 1395.16 112.968 1395.16 Q116.602 1395.16 118.408 1391.62 Q120.236 1388.05 120.236 1380.95 Q120.236 1373.82 118.408 1370.28 Q116.602 1366.71 112.968 1366.71 M112.968 1363.01 Q118.778 1363.01 121.833 1367.61 Q124.912 1372.2 124.912 1380.95 Q124.912 1389.67 121.833 1394.28 Q118.778 1398.86 112.968 1398.86 Q107.158 1398.86 104.079 1394.28 Q101.023 1389.67 101.023 1380.95 Q101.023 1372.2 104.079 1367.61 Q107.158 1363.01 112.968 1363.01 Z\" fill=\"#000000\" fill-rule=\"evenodd\" fill-opacity=\"1\" /><path clip-path=\"url(#clip490)\" d=\"M143.13 1366.71 Q139.519 1366.71 137.69 1370.28 Q135.884 1373.82 135.884 1380.95 Q135.884 1388.05 137.69 1391.62 Q139.519 1395.16 143.13 1395.16 Q146.764 1395.16 148.569 1391.62 Q150.398 1388.05 150.398 1380.95 Q150.398 1373.82 148.569 1370.28 Q146.764 1366.71 143.13 1366.71 M143.13 1363.01 Q148.94 1363.01 151.995 1367.61 Q155.074 1372.2 155.074 1380.95 Q155.074 1389.67 151.995 1394.28 Q148.94 1398.86 143.13 1398.86 Q137.319 1398.86 134.241 1394.28 Q131.185 1389.67 131.185 1380.95 Q131.185 1372.2 134.241 1367.61 Q137.319 1363.01 143.13 1363.01 Z\" fill=\"#000000\" fill-rule=\"evenodd\" fill-opacity=\"1\" /><path clip-path=\"url(#clip490)\" d=\"M68.7319 1105.41 Q65.1208 1105.41 63.2921 1108.97 Q61.4865 1112.51 61.4865 1119.64 Q61.4865 1126.75 63.2921 1130.31 Q65.1208 1133.86 68.7319 1133.86 Q72.3661 1133.86 74.1717 1130.31 Q76.0004 1126.75 76.0004 1119.64 Q76.0004 1112.51 74.1717 1108.97 Q72.3661 1105.41 68.7319 1105.41 M68.7319 1101.7 Q74.542 1101.7 77.5976 1106.31 Q80.6763 1110.89 80.6763 1119.64 Q80.6763 1128.37 77.5976 1132.98 Q74.542 1137.56 68.7319 1137.56 Q62.9217 1137.56 59.843 1132.98 Q56.7875 1128.37 56.7875 1119.64 Q56.7875 1110.89 59.843 1106.31 Q62.9217 1101.7 68.7319 1101.7 Z\" fill=\"#000000\" fill-rule=\"evenodd\" fill-opacity=\"1\" /><path clip-path=\"url(#clip490)\" d=\"M88.8938 1131.01 L93.778 1131.01 L93.778 1136.89 L88.8938 1136.89 L88.8938 1131.01 Z\" fill=\"#000000\" fill-rule=\"evenodd\" fill-opacity=\"1\" /><path clip-path=\"url(#clip490)\" d=\"M107.991 1132.95 L124.31 1132.95 L124.31 1136.89 L102.366 1136.89 L102.366 1132.95 Q105.028 1130.2 109.611 1125.57 Q114.218 1120.92 115.398 1119.57 Q117.644 1117.05 118.523 1115.31 Q119.426 1113.56 119.426 1111.87 Q119.426 1109.11 117.482 1107.37 Q115.56 1105.64 112.458 1105.64 Q110.259 1105.64 107.806 1106.4 Q105.375 1107.17 102.597 1108.72 L102.597 1104 Q105.421 1102.86 107.875 1102.28 Q110.329 1101.7 112.366 1101.7 Q117.736 1101.7 120.931 1104.39 Q124.125 1107.07 124.125 1111.56 Q124.125 1113.69 123.315 1115.62 Q122.528 1117.51 120.421 1120.11 Q119.843 1120.78 116.741 1124 Q113.639 1127.19 107.991 1132.95 Z\" fill=\"#000000\" fill-rule=\"evenodd\" fill-opacity=\"1\" /><path clip-path=\"url(#clip490)\" d=\"M134.171 1102.33 L152.528 1102.33 L152.528 1106.26 L138.454 1106.26 L138.454 1114.74 Q139.472 1114.39 140.491 1114.23 Q141.509 1114.04 142.528 1114.04 Q148.315 1114.04 151.694 1117.21 Q155.074 1120.38 155.074 1125.8 Q155.074 1131.38 151.602 1134.48 Q148.13 1137.56 141.81 1137.56 Q139.634 1137.56 137.366 1137.19 Q135.12 1136.82 132.713 1136.08 L132.713 1131.38 Q134.796 1132.51 137.019 1133.07 Q139.241 1133.62 141.718 1133.62 Q145.722 1133.62 148.06 1131.52 Q150.398 1129.41 150.398 1125.8 Q150.398 1122.19 148.06 1120.08 Q145.722 1117.98 141.718 1117.98 Q139.843 1117.98 137.968 1118.39 Q136.116 1118.81 134.171 1119.69 L134.171 1102.33 Z\" fill=\"#000000\" fill-rule=\"evenodd\" fill-opacity=\"1\" /><path clip-path=\"url(#clip490)\" d=\"M67.7365 844.103 Q64.1254 844.103 62.2967 847.668 Q60.4912 851.21 60.4912 858.339 Q60.4912 865.446 62.2967 869.011 Q64.1254 872.552 67.7365 872.552 Q71.3707 872.552 73.1763 869.011 Q75.005 865.446 75.005 858.339 Q75.005 851.21 73.1763 847.668 Q71.3707 844.103 67.7365 844.103 M67.7365 840.4 Q73.5467 840.4 76.6022 845.006 Q79.6809 849.589 79.6809 858.339 Q79.6809 867.066 76.6022 871.673 Q73.5467 876.256 67.7365 876.256 Q61.9264 876.256 58.8477 871.673 Q55.7921 867.066 55.7921 858.339 Q55.7921 849.589 58.8477 845.006 Q61.9264 840.4 67.7365 840.4 Z\" fill=\"#000000\" fill-rule=\"evenodd\" fill-opacity=\"1\" /><path clip-path=\"url(#clip490)\" d=\"M87.8984 869.705 L92.7827 869.705 L92.7827 875.585 L87.8984 875.585 L87.8984 869.705 Z\" fill=\"#000000\" fill-rule=\"evenodd\" fill-opacity=\"1\" /><path clip-path=\"url(#clip490)\" d=\"M103.014 841.025 L121.37 841.025 L121.37 844.96 L107.296 844.96 L107.296 853.432 Q108.315 853.085 109.334 852.923 Q110.352 852.738 111.371 852.738 Q117.158 852.738 120.537 855.909 Q123.917 859.08 123.917 864.497 Q123.917 870.075 120.445 873.177 Q116.972 876.256 110.653 876.256 Q108.477 876.256 106.209 875.886 Q103.963 875.515 101.556 874.774 L101.556 870.075 Q103.639 871.21 105.861 871.765 Q108.084 872.321 110.56 872.321 Q114.565 872.321 116.903 870.214 Q119.241 868.108 119.241 864.497 Q119.241 860.886 116.903 858.779 Q114.565 856.673 110.56 856.673 Q108.685 856.673 106.81 857.089 Q104.959 857.506 103.014 858.386 L103.014 841.025 Z\" fill=\"#000000\" fill-rule=\"evenodd\" fill-opacity=\"1\" /><path clip-path=\"url(#clip490)\" d=\"M143.13 844.103 Q139.519 844.103 137.69 847.668 Q135.884 851.21 135.884 858.339 Q135.884 865.446 137.69 869.011 Q139.519 872.552 143.13 872.552 Q146.764 872.552 148.569 869.011 Q150.398 865.446 150.398 858.339 Q150.398 851.21 148.569 847.668 Q146.764 844.103 143.13 844.103 M143.13 840.4 Q148.94 840.4 151.995 845.006 Q155.074 849.589 155.074 858.339 Q155.074 867.066 151.995 871.673 Q148.94 876.256 143.13 876.256 Q137.319 876.256 134.241 871.673 Q131.185 867.066 131.185 858.339 Q131.185 849.589 134.241 845.006 Q137.319 840.4 143.13 840.4 Z\" fill=\"#000000\" fill-rule=\"evenodd\" fill-opacity=\"1\" /><path clip-path=\"url(#clip490)\" d=\"M68.7319 582.799 Q65.1208 582.799 63.2921 586.364 Q61.4865 589.906 61.4865 597.035 Q61.4865 604.142 63.2921 607.706 Q65.1208 611.248 68.7319 611.248 Q72.3661 611.248 74.1717 607.706 Q76.0004 604.142 76.0004 597.035 Q76.0004 589.906 74.1717 586.364 Q72.3661 582.799 68.7319 582.799 M68.7319 579.096 Q74.542 579.096 77.5976 583.702 Q80.6763 588.285 80.6763 597.035 Q80.6763 605.762 77.5976 610.369 Q74.542 614.952 68.7319 614.952 Q62.9217 614.952 59.843 610.369 Q56.7875 605.762 56.7875 597.035 Q56.7875 588.285 59.843 583.702 Q62.9217 579.096 68.7319 579.096 Z\" fill=\"#000000\" fill-rule=\"evenodd\" fill-opacity=\"1\" /><path clip-path=\"url(#clip490)\" d=\"M88.8938 608.401 L93.778 608.401 L93.778 614.281 L88.8938 614.281 L88.8938 608.401 Z\" fill=\"#000000\" fill-rule=\"evenodd\" fill-opacity=\"1\" /><path clip-path=\"url(#clip490)\" d=\"M102.783 579.721 L125.005 579.721 L125.005 581.711 L112.458 614.281 L107.574 614.281 L119.38 583.656 L102.783 583.656 L102.783 579.721 Z\" fill=\"#000000\" fill-rule=\"evenodd\" fill-opacity=\"1\" /><path clip-path=\"url(#clip490)\" d=\"M134.171 579.721 L152.528 579.721 L152.528 583.656 L138.454 583.656 L138.454 592.128 Q139.472 591.781 140.491 591.619 Q141.509 591.433 142.528 591.433 Q148.315 591.433 151.694 594.605 Q155.074 597.776 155.074 603.193 Q155.074 608.771 151.602 611.873 Q148.13 614.952 141.81 614.952 Q139.634 614.952 137.366 614.581 Q135.12 614.211 132.713 613.47 L132.713 608.771 Q134.796 609.906 137.019 610.461 Q139.241 611.017 141.718 611.017 Q145.722 611.017 148.06 608.91 Q150.398 606.804 150.398 603.193 Q150.398 599.582 148.06 597.475 Q145.722 595.369 141.718 595.369 Q139.843 595.369 137.968 595.785 Q136.116 596.202 134.171 597.082 L134.171 579.721 Z\" fill=\"#000000\" fill-rule=\"evenodd\" fill-opacity=\"1\" /><path clip-path=\"url(#clip490)\" d=\"M58.5467 349.041 L66.1856 349.041 L66.1856 322.676 L57.8754 324.342 L57.8754 320.083 L66.1393 318.416 L70.8152 318.416 L70.8152 349.041 L78.454 349.041 L78.454 352.976 L58.5467 352.976 L58.5467 349.041 Z\" fill=\"#000000\" fill-rule=\"evenodd\" fill-opacity=\"1\" /><path clip-path=\"url(#clip490)\" d=\"M87.8984 347.097 L92.7827 347.097 L92.7827 352.976 L87.8984 352.976 L87.8984 347.097 Z\" fill=\"#000000\" fill-rule=\"evenodd\" fill-opacity=\"1\" /><path clip-path=\"url(#clip490)\" d=\"M112.968 321.495 Q109.357 321.495 107.528 325.06 Q105.722 328.602 105.722 335.731 Q105.722 342.838 107.528 346.402 Q109.357 349.944 112.968 349.944 Q116.602 349.944 118.408 346.402 Q120.236 342.838 120.236 335.731 Q120.236 328.602 118.408 325.06 Q116.602 321.495 112.968 321.495 M112.968 317.791 Q118.778 317.791 121.833 322.398 Q124.912 326.981 124.912 335.731 Q124.912 344.458 121.833 349.064 Q118.778 353.648 112.968 353.648 Q107.158 353.648 104.079 349.064 Q101.023 344.458 101.023 335.731 Q101.023 326.981 104.079 322.398 Q107.158 317.791 112.968 317.791 Z\" fill=\"#000000\" fill-rule=\"evenodd\" fill-opacity=\"1\" /><path clip-path=\"url(#clip490)\" d=\"M143.13 321.495 Q139.519 321.495 137.69 325.06 Q135.884 328.602 135.884 335.731 Q135.884 342.838 137.69 346.402 Q139.519 349.944 143.13 349.944 Q146.764 349.944 148.569 346.402 Q150.398 342.838 150.398 335.731 Q150.398 328.602 148.569 325.06 Q146.764 321.495 143.13 321.495 M143.13 317.791 Q148.94 317.791 151.995 322.398 Q155.074 326.981 155.074 335.731 Q155.074 344.458 151.995 349.064 Q148.94 353.648 143.13 353.648 Q137.319 353.648 134.241 349.064 Q131.185 344.458 131.185 335.731 Q131.185 326.981 134.241 322.398 Q137.319 317.791 143.13 317.791 Z\" fill=\"#000000\" fill-rule=\"evenodd\" fill-opacity=\"1\" /><polyline clip-path=\"url(#clip492)\" style=\"stroke:#009af9; stroke-linecap:butt; stroke-linejoin:round; stroke-width:4; stroke-opacity:1; fill:none\" points=\"\n",
       "  1302.76,1258.19 1306.84,1258.97 1309.56,1259.91 1310.92,1260.99 1310.96,1262.17 1309.71,1263.4 1307.22,1264.65 1303.56,1265.88 1298.77,1267.07 1292.94,1268.18 \n",
       "  1286.11,1269.17 1278.36,1270.03 1269.75,1270.74 1260.34,1271.27 1250.19,1271.62 1239.36,1271.76 1227.89,1271.7 1215.82,1271.43 1203.22,1270.95 1190.11,1270.25 \n",
       "  1176.53,1269.34 1162.52,1268.22 1148.11,1266.88 1133.34,1265.34 1118.24,1263.6 1102.84,1261.66 1087.19,1259.52 1071.31,1257.18 1055.24,1254.65 1039.03,1251.93 \n",
       "  1022.72,1249 1006.36,1245.88 989.998,1242.56 973.693,1239.03 957.505,1235.3 941.5,1231.34 925.746,1227.17 910.317,1222.77 895.289,1218.13 880.734,1213.24 \n",
       "  866.743,1208.11 853.408,1202.72 840.817,1197.06 829.054,1191.14 818.196,1184.94 808.32,1178.48 799.494,1171.75 791.785,1164.76 785.255,1157.53 779.961,1150.06 \n",
       "  775.949,1142.38 773.247,1134.48 771.874,1126.41 771.842,1118.19 773.157,1109.83 775.812,1101.37 779.798,1092.83 785.092,1084.23 791.667,1075.61 799.488,1067 \n",
       "  808.522,1058.41 818.735,1049.88 830.089,1041.41 842.548,1033.03 856.073,1024.76 870.628,1016.61 886.171,1008.59 902.664,1000.73 920.066,993.013 938.335,985.465 \n",
       "  957.427,978.09 977.298,970.897 997.907,963.895 1019.2,957.093 1041.13,950.501 1063.61,944.135 1086.57,938.011 1109.91,932.146 1133.53,926.562 1157.32,921.281 \n",
       "  1181.16,916.327 1204.96,911.713 1228.51,907.484 1251.6,903.684 1274.05,900.347 1295.66,897.504 1316.26,895.176 1335.67,893.381 1353.72,892.128 1370.26,891.42 \n",
       "  1385.14,891.254 1398.22,891.621 1409.37,892.505 1418.48,893.879 1425.54,895.686 1430.58,897.857 1433.64,900.32 1434.78,903.008 1434.08,905.851 1431.61,908.781 \n",
       "  1427.5,911.734 1421.85,914.641 1414.79,917.439 1406.48,920.063 1397.06,922.46 1386.6,924.611 1375.2,926.496 1362.93,928.102 1349.86,929.415 1336.05,930.432 \n",
       "  1321.56,931.15 1306.43,931.576 1290.69,931.718 1274.35,931.59 1257.43,931.213 1239.94,930.61 1221.87,929.797 1203.25,928.781 1184.05,927.578 1164.28,926.203 \n",
       "  1143.95,924.668 1123.04,922.985 1101.57,921.16 1079.53,919.202 1056.96,917.113 1033.84,914.896 1010.2,912.553 986.066,910.084 961.469,907.48 936.463,904.723 \n",
       "  911.115,901.798 885.505,898.683 859.726,895.357 833.888,891.795 808.111,887.971 782.533,883.855 757.303,879.417 732.586,874.621 708.56,869.433 685.417,863.814 \n",
       "  663.363,857.723 642.62,851.117 623.408,843.966 605.903,836.278 590.25,828.059 576.566,819.324 564.938,810.097 555.428,800.411 548.066,790.307 542.857,779.838 \n",
       "  539.776,769.064 538.77,758.056 539.758,746.893 542.631,735.662 547.25,724.462 553.451,713.395 561.062,702.506 569.928,691.845 579.911,681.458 590.883,671.382 \n",
       "  602.734,661.645 615.363,652.266 628.687,643.253 642.632,634.606 657.141,626.318 672.17,618.368 687.673,610.746 703.616,603.445 719.98,596.445 736.745,589.728 \n",
       "  753.894,583.277 771.408,577.078 789.268,571.117 807.457,565.38 825.955,559.855 844.745,554.534 863.809,549.406 883.163,544.45 902.807,539.652 922.683,535.023 \n",
       "  942.728,530.575 962.877,526.317 983.062,522.261 1003.21,518.417 1023.25,514.794 1043.09,511.404 1062.67,508.255 1081.89,505.358 1100.66,502.723 1118.89,500.358 \n",
       "  1136.48,498.273 1153.35,496.477 1169.38,494.979 1184.47,493.787 1198.5,492.912 1211.38,492.36 1222.98,492.14 1233.18,492.26 1241.86,492.729 1248.96,493.524 \n",
       "  1254.43,494.612 1258.26,495.958 1260.44,497.529 1260.97,499.292 1259.86,501.211 1257.13,503.251 1252.79,505.376 1246.89,507.549 1239.47,509.733 1230.59,511.89 \n",
       "  1220.31,513.982 1208.71,515.968 1195.86,517.817 1181.81,519.514 1166.62,521.047 1150.31,522.404 1132.92,523.575 1114.5,524.55 1095.09,525.322 1074.73,525.882 \n",
       "  1053.46,526.226 1031.33,526.348 1008.39,526.245 984.685,525.914 960.258,525.354 935.161,524.563 909.454,523.53 883.224,522.233 856.577,520.646 829.637,518.743 \n",
       "  802.54,516.497 775.442,513.875 748.511,510.844 721.934,507.369 695.913,503.412 670.666,498.933 646.427,493.889 623.446,488.235 601.988,481.928 582.281,474.957 \n",
       "  564.522,467.328 548.877,459.048 535.477,450.139 524.415,440.634 515.748,430.578 509.497,420.032 505.645,409.066 504.139,397.762 504.89,386.218 507.771,374.542 \n",
       "  512.621,362.854 519.247,351.263 527.467,339.821 537.107,328.597 548.012,317.646 560.046,307.012 573.089,296.727 587.042,286.808 601.821,277.263 617.363,268.085 \n",
       "  633.616,259.26 650.532,250.784 668.095,242.635 686.297,234.792 705.132,227.233 724.599,219.936 744.696,212.88 765.428,206.046 786.802,199.414 808.827,192.967 \n",
       "  831.515,186.685 854.869,180.556 878.881,174.573 903.578,168.72 928.976,162.988 955.071,157.373 981.845,151.876 1009.26,146.504 \n",
       "  \"/>\n",
       "<circle clip-path=\"url(#clip492)\" cx=\"1009.26\" cy=\"146.504\" r=\"7\" fill=\"#009af9\" fill-rule=\"evenodd\" fill-opacity=\"1\" stroke=\"#000000\" stroke-opacity=\"1\" stroke-width=\"3.2\"/>\n",
       "<circle clip-path=\"url(#clip492)\" cx=\"1302.76\" cy=\"1258.19\" r=\"7\" fill=\"#009af9\" fill-rule=\"evenodd\" fill-opacity=\"1\" stroke=\"#000000\" stroke-opacity=\"1\" stroke-width=\"3.2\"/>\n",
       "<polyline clip-path=\"url(#clip492)\" style=\"stroke:#e26f46; stroke-linecap:butt; stroke-linejoin:round; stroke-width:4; stroke-opacity:1; fill:none\" points=\"\n",
       "  1009.26,1191.72 1037.27,1186.48 1065.8,1181.4 1094.76,1176.49 1124.06,1171.79 1153.58,1167.33 1183.17,1163.14 1212.7,1159.28 1241.99,1155.78 1270.92,1152.68 \n",
       "  1299.14,1150.04 1326.32,1147.96 1352.16,1146.49 1376.38,1145.69 1398.73,1145.58 1419.01,1146.17 1437.01,1147.47 1452.59,1149.46 1465.62,1152.1 1476,1155.35 \n",
       "  1483.67,1159.14 1488.58,1163.4 1490.85,1168.02 1490.7,1172.88 1488.31,1177.83 1483.9,1182.76 1477.67,1187.56 1469.81,1192.15 1460.51,1196.45 1449.97,1200.4 \n",
       "  1438.36,1203.94 1425.87,1207.04 1412.68,1209.68 1398.87,1211.85 1384.49,1213.57 1369.61,1214.84 1354.27,1215.69 1338.51,1216.14 1322.37,1216.2 1305.88,1215.9 \n",
       "  1289.05,1215.26 1271.9,1214.31 1254.42,1213.08 1236.63,1211.58 1218.53,1209.85 1200.13,1207.9 1181.41,1205.74 1162.39,1203.39 1143.08,1200.86 1123.49,1198.17 \n",
       "  1103.65,1195.33 1083.57,1192.32 1063.28,1189.17 1042.82,1185.86 1022.21,1182.39 1001.51,1178.76 980.742,1174.96 959.981,1170.99 939.304,1166.83 918.796,1162.46 \n",
       "  898.547,1157.87 878.651,1153.04 859.208,1147.95 840.324,1142.6 822.11,1136.96 804.68,1131.03 788.156,1124.77 772.664,1118.19 758.335,1111.26 745.305,1103.97 \n",
       "  733.676,1096.34 723.526,1088.37 714.924,1080.08 707.922,1071.49 702.564,1062.62 698.878,1053.49 696.881,1044.13 696.577,1034.58 697.958,1024.87 701.004,1015.05 \n",
       "  705.681,1005.14 711.943,995.21 719.733,985.295 728.978,975.451 739.59,965.708 751.497,956.091 764.637,946.624 778.95,937.328 794.382,928.222 810.877,919.321 \n",
       "  828.387,910.635 846.864,902.171 866.264,893.934 886.546,885.924 907.673,878.138 929.591,870.583 952.273,863.26 975.688,856.167 999.792,849.309 1024.52,842.691 \n",
       "  1049.81,836.324 1075.58,830.223 1101.71,824.407 1128.1,818.897 1154.62,813.72 1181.13,808.905 1207.48,804.486 1233.55,800.476 1259.15,796.906 1283.99,793.844 \n",
       "  1307.8,791.342 1330.33,789.441 1351.35,788.169 1370.67,787.542 1388.12,787.565 1403.54,788.228 1416.8,789.511 1427.81,791.382 1436.48,793.794 1442.77,796.69 \n",
       "  1446.63,800 1448.06,803.643 1447.19,807.53 1444.2,811.558 1439.25,815.623 1432.52,819.637 1424.15,823.521 1414.29,827.21 1403.06,830.65 1390.61,833.799 \n",
       "  1377.05,836.628 1362.49,839.119 1347.03,841.264 1330.74,843.059 1313.66,844.511 1295.8,845.636 1277.18,846.45 1257.83,846.972 1237.75,847.218 1216.94,847.207 \n",
       "  1195.41,846.958 1173.15,846.491 1150.15,845.826 1126.4,844.985 1101.9,843.976 1076.64,842.812 1050.61,841.507 1023.77,840.071 996.147,838.508 967.761,836.815 \n",
       "  938.657,834.982 908.9,832.993 878.572,830.828 847.774,828.457 816.626,825.846 785.268,822.954 753.857,819.734 722.56,816.136 691.49,812.138 661.007,807.649 \n",
       "  631.508,802.57 603.357,796.824 576.878,790.348 552.36,783.101 530.058,775.06 510.187,766.22 492.928,756.597 478.426,746.222 466.788,735.147 458.087,723.444 \n",
       "  452.358,711.2 449.573,698.517 449.509,685.525 451.886,672.395 456.437,659.278 462.911,646.306 471.066,633.589 480.679,621.218 491.537,609.266 503.441,597.784 \n",
       "  516.207,586.803 529.663,576.334 543.66,566.373 558.14,556.92 573.061,547.956 588.382,539.456 604.066,531.392 620.084,523.738 636.415,516.466 653.042,509.549 \n",
       "  669.959,502.956 687.164,496.659 704.66,490.627 722.446,484.841 740.528,479.276 758.913,473.913 777.6,468.732 796.587,463.72 815.868,458.863 835.433,454.152 \n",
       "  855.267,449.58 875.355,445.143 895.673,440.839 916.197,436.669 936.899,432.638 957.745,428.749 978.692,425.005 999.68,421.417 1020.64,417.999 1041.5,414.765 \n",
       "  1062.18,411.73 1082.59,408.909 1102.63,406.319 1122.2,403.977 1141.2,401.901 1159.51,400.109 1177,398.62 1193.54,397.454 1209,396.626 1223.25,396.139 \n",
       "  1236.19,395.992 1247.73,396.184 1257.78,396.705 1266.28,397.544 1273.17,398.684 1278.42,400.103 1281.99,401.775 1283.88,403.669 1284.08,405.751 1282.6,407.982 \n",
       "  1279.47,410.316 1274.72,412.706 1268.41,415.098 1260.61,417.439 1251.42,419.697 1240.92,421.842 1229.18,423.843 1216.27,425.676 1202.24,427.319 1187.17,428.754 \n",
       "  1171.11,429.97 1154.1,430.957 1136.2,431.711 1117.46,432.231 1097.9,432.518 1077.6,432.566 1056.55,432.379 1034.8,431.96 1012.39,431.308 989.366,430.421 \n",
       "  965.784,429.293 941.714,427.916 917.235,426.276 892.434,424.362 867.406,422.155 842.259,419.635 817.082,416.789 791.933,413.621 767.046,410.073 742.664,406.091 \n",
       "  719.016,401.629 696.314,396.65 674.759,391.124 654.536,385.032 635.817,378.361 618.759,371.108 603.506,363.28 590.187,354.89 578.918,345.96 569.799,336.523 \n",
       "  562.917,326.618 558.346,316.294 556.124,305.609 556.128,294.647 558.222,283.504 562.279,272.269 568.177,261.021 575.792,249.832 \n",
       "  \"/>\n",
       "<circle clip-path=\"url(#clip492)\" cx=\"575.792\" cy=\"249.832\" r=\"7\" fill=\"#e26f46\" fill-rule=\"evenodd\" fill-opacity=\"1\" stroke=\"#000000\" stroke-opacity=\"1\" stroke-width=\"3.2\"/>\n",
       "<circle clip-path=\"url(#clip492)\" cx=\"1009.26\" cy=\"1191.72\" r=\"7\" fill=\"#e26f46\" fill-rule=\"evenodd\" fill-opacity=\"1\" stroke=\"#000000\" stroke-opacity=\"1\" stroke-width=\"3.2\"/>\n",
       "<polyline clip-path=\"url(#clip492)\" style=\"stroke:#3da44d; stroke-linecap:butt; stroke-linejoin:round; stroke-width:4; stroke-opacity:1; fill:none\" points=\"\n",
       "  575.792,1295.05 585.004,1283.98 595.696,1273.09 607.75,1262.41 621.053,1251.99 635.492,1241.86 650.958,1232.03 667.374,1222.51 684.712,1213.29 702.947,1204.38 \n",
       "  722.058,1195.75 742.025,1187.4 762.836,1179.31 784.482,1171.46 806.957,1163.85 830.259,1156.45 854.392,1149.25 879.362,1142.23 905.18,1135.39 931.821,1128.7 \n",
       "  959.285,1122.18 987.584,1115.8 1016.71,1109.58 1046.61,1103.52 1077.24,1097.64 1108.5,1091.95 1140.27,1086.5 1172.4,1081.31 1204.74,1076.44 1237.09,1071.93 \n",
       "  1269.22,1067.86 1300.88,1064.27 1331.82,1061.25 1361.8,1058.84 1390.41,1057.11 1417.24,1056.15 1441.96,1056.01 1464.26,1056.72 1483.92,1058.3 1500.75,1060.72 \n",
       "  1514.62,1063.94 1525.46,1067.9 1533.25,1072.51 1538.02,1077.65 1539.87,1083.2 1538.94,1088.98 1535.48,1094.86 1529.83,1100.69 1522.33,1106.32 1513.25,1111.65 \n",
       "  1502.86,1116.55 1491.37,1120.98 1478.98,1124.87 1465.86,1128.2 1452.11,1130.97 1437.85,1133.21 1423.13,1134.96 1408.03,1136.22 1392.6,1137 1376.84,1137.34 \n",
       "  1360.78,1137.28 1344.43,1136.84 1327.79,1136.06 1310.87,1134.97 1293.67,1133.59 1276.18,1131.95 1258.41,1130.09 1240.33,1128.01 1221.95,1125.75 1203.25,1123.31 \n",
       "  1184.23,1120.72 1164.89,1117.99 1145.25,1115.12 1125.3,1112.14 1105.05,1109.03 1084.54,1105.81 1063.77,1102.47 1042.78,1099.01 1021.58,1095.43 1000.23,1091.71 \n",
       "  978.751,1087.86 957.219,1083.86 935.704,1079.69 914.282,1075.34 893.04,1070.79 872.072,1066.03 851.478,1061.03 831.365,1055.77 811.851,1050.24 793.058,1044.42 \n",
       "  775.117,1038.28 758.165,1031.8 742.338,1024.97 727.759,1017.79 714.544,1010.26 702.794,1002.36 692.597,994.128 684.02,985.561 677.117,976.681 671.924,967.514 \n",
       "  668.463,958.092 666.737,948.449 666.736,938.628 668.432,928.677 671.78,918.649 676.722,908.601 683.177,898.591 691.05,888.647 700.256,878.81 710.715,869.113 \n",
       "  722.349,859.588 735.089,850.258 748.865,841.144 763.615,832.261 779.279,823.618 795.803,815.219 813.136,807.066 831.228,799.164 850.052,791.51 869.576,784.097 \n",
       "  889.767,776.924 910.586,769.988 931.991,763.29 953.935,756.829 976.367,750.608 999.231,744.632 1022.47,738.906 1046.01,733.435 1069.84,728.211 1093.84,723.262 \n",
       "  1117.86,718.62 1141.74,714.317 1165.34,710.381 1188.51,706.841 1211.08,703.718 1232.9,701.037 1253.81,698.815 1273.65,697.07 1292.24,695.816 1309.44,695.066 \n",
       "  1325.05,694.83 1338.93,695.114 1350.88,695.924 1360.77,697.249 1368.56,699.036 1374.25,701.229 1377.83,703.768 1379.35,706.594 1378.82,709.649 1376.32,712.869 \n",
       "  1371.9,716.195 1365.65,719.564 1357.68,722.912 1348.1,726.175 1337.04,729.288 1324.63,732.195 1310.96,734.881 1296.08,737.329 1280.07,739.523 1262.99,741.455 \n",
       "  1244.88,743.117 1225.78,744.51 1205.72,745.637 1184.73,746.505 1162.82,747.126 1140,747.518 1116.27,747.703 1091.64,747.685 1066.11,747.473 1039.67,747.081 \n",
       "  1012.32,746.517 984.073,745.785 954.966,744.879 925.051,743.792 894.397,742.505 863.091,740.999 831.235,739.243 798.949,737.204 766.349,734.848 733.466,732.167 \n",
       "  700.648,729.062 668.295,725.428 636.778,721.174 606.449,716.226 577.63,710.523 550.621,704.019 525.698,696.685 503.111,688.505 483.087,679.478 465.826,669.619 \n",
       "  451.506,658.958 440.278,647.539 432.271,635.422 427.486,622.706 425.656,609.574 426.503,596.207 429.757,582.768 435.154,569.403 442.435,556.237 451.351,543.376 \n",
       "  461.658,530.907 473.118,518.9 485.501,507.404 498.586,496.452 512.256,486.053 526.45,476.195 541.101,466.855 556.156,458.011 571.571,449.636 587.312,441.704 \n",
       "  603.355,434.184 619.686,427.044 636.303,420.25 653.212,413.766 670.426,407.557 687.948,401.6 705.791,395.869 723.967,390.34 742.485,384.991 761.352,379.804 \n",
       "  780.572,374.764 800.146,369.857 820.073,365.074 840.349,360.407 860.967,355.853 881.917,351.409 903.186,347.075 924.75,342.849 946.586,338.735 968.659,334.74 \n",
       "  990.925,330.872 1013.33,327.143 1035.81,323.566 1058.29,320.157 1080.69,316.934 1102.91,313.916 1124.84,311.127 1146.39,308.591 1167.41,306.334 1187.79,304.38 \n",
       "  1207.42,302.736 1226.12,301.434 1243.71,300.499 1260.07,299.951 1275.04,299.799 1288.52,300.047 1300.41,300.69 1310.62,301.715 1319.1,303.102 1325.79,304.823 \n",
       "  1330.67,306.843 1333.71,309.118 1334.93,311.598 1334.33,314.224 1331.97,316.937 1327.96,319.691 1322.4,322.429 1315.38,325.098 1307,327.654 1297.35,330.056 \n",
       "  1286.51,332.269 1274.56,334.267 1261.6,336.026 1247.68,337.533 1232.9,338.776 1217.31,339.75 1200.96,340.449 1183.9,340.877 1166.16,341.041 1147.76,340.947 \n",
       "  1128.74,340.598 1109.13,340.001 1088.98,339.16 1068.32,338.077 1047.19,336.756 1025.64,335.199 1003.69,333.409 981.397,331.388 \n",
       "  \"/>\n",
       "<circle clip-path=\"url(#clip492)\" cx=\"981.397\" cy=\"331.388\" r=\"7\" fill=\"#3da44d\" fill-rule=\"evenodd\" fill-opacity=\"1\" stroke=\"#000000\" stroke-opacity=\"1\" stroke-width=\"3.2\"/>\n",
       "<circle clip-path=\"url(#clip492)\" cx=\"575.792\" cy=\"1295.05\" r=\"7\" fill=\"#3da44d\" fill-rule=\"evenodd\" fill-opacity=\"1\" stroke=\"#000000\" stroke-opacity=\"1\" stroke-width=\"3.2\"/>\n",
       "<polyline clip-path=\"url(#clip492)\" style=\"stroke:#c271d2; stroke-linecap:butt; stroke-linejoin:round; stroke-width:4; stroke-opacity:1; fill:none\" points=\"\n",
       "  981.397,1376.6 958.799,1374.35 935.98,1371.86 913.033,1369.09 890.057,1366.05 867.163,1362.71 844.465,1359.06 822.089,1355.07 800.166,1350.72 778.836,1346 \n",
       "  758.245,1340.88 738.551,1335.35 719.915,1329.37 702.508,1322.94 686.51,1316.03 672.105,1308.62 659.424,1300.74 648.55,1292.4 639.55,1283.63 632.474,1274.46 \n",
       "  627.357,1264.94 624.215,1255.09 623.048,1244.97 623.84,1234.61 626.556,1224.09 631.148,1213.44 637.548,1202.74 645.672,1192.05 655.42,1181.44 666.675,1170.96 \n",
       "  679.334,1160.64 693.319,1150.51 708.557,1140.58 724.986,1130.88 742.55,1121.42 761.202,1112.21 780.904,1103.25 801.623,1094.54 823.339,1086.06 846.036,1077.81 \n",
       "  869.683,1069.78 894.277,1061.96 919.829,1054.35 946.336,1046.92 973.781,1039.68 1002.13,1032.64 1031.33,1025.78 1061.33,1019.14 1092.04,1012.73 1123.36,1006.56 \n",
       "  1155.19,1000.68 1187.41,995.113 1219.99,989.864 1252.71,985.002 1285.15,980.633 1316.96,976.851 1347.76,973.734 1377.25,971.345 1405.1,969.737 1431.04,968.945 \n",
       "  1454.81,968.99 1476.17,969.882 1494.9,971.613 1510.82,974.163 1523.75,977.498 1533.55,981.569 1540.11,986.31 1543.58,991.58 1544.22,997.188 1542.31,1002.96 \n",
       "  1538.12,1008.75 1531.9,1014.42 1523.9,1019.85 1514.36,1024.94 1503.52,1029.62 1491.62,1033.83 1478.87,1037.52 1465.46,1040.67 1451.48,1043.28 1436.99,1045.37 \n",
       "  1422.03,1046.95 1406.66,1048.07 1390.92,1048.73 1374.83,1048.98 1358.41,1048.83 1341.67,1048.33 1324.61,1047.5 1307.21,1046.39 1289.46,1045.02 1271.36,1043.41 \n",
       "  1252.88,1041.6 1234.02,1039.6 1214.76,1037.44 1195.09,1035.13 1175.02,1032.69 1154.52,1030.12 1133.61,1027.45 1112.29,1024.67 1090.56,1021.78 1068.43,1018.79 \n",
       "  1045.91,1015.7 1023.04,1012.51 999.838,1009.21 976.339,1005.78 952.597,1002.23 928.674,998.527 904.645,994.662 880.599,990.615 856.635,986.36 832.865,981.873 \n",
       "  809.414,977.126 786.418,972.087 764.026,966.722 742.378,961.007 721.625,954.927 701.972,948.446 683.603,941.536 666.68,934.179 651.347,926.366 637.722,918.099 \n",
       "  625.906,909.387 615.974,900.251 607.985,890.72 601.972,880.834 597.948,870.64 595.906,860.197 595.817,849.571 597.628,838.842 601.236,828.073 606.491,817.322 \n",
       "  613.267,806.654 621.443,796.125 630.907,785.782 641.551,775.667 653.276,765.809 665.989,756.235 679.603,746.959 694.04,737.99 709.226,729.326 725.098,720.974 \n",
       "  741.618,712.928 758.755,705.178 776.479,697.713 794.76,690.524 813.567,683.599 832.87,676.932 852.641,670.512 872.849,664.332 893.465,658.385 914.461,652.662 \n",
       "  935.808,647.157 957.471,641.867 979.398,636.797 1001.52,631.956 1023.78,627.353 1046.09,622.997 1068.35,618.903 1090.48,615.083 1112.36,611.554 1133.89,608.332 \n",
       "  1154.93,605.437 1175.35,602.887 1195.02,600.705 1213.78,598.915 1231.47,597.54 1247.93,596.603 1263,596.101 1276.57,596.033 1288.5,596.393 1298.72,597.171 \n",
       "  1307.13,598.347 1313.68,599.898 1318.33,601.794 1321.06,603.999 1321.85,606.471 1320.73,609.161 1317.71,612.015 1312.84,614.972 1306.19,617.967 1297.85,620.934 \n",
       "  1287.93,623.84 1276.51,626.642 1263.67,629.306 1249.48,631.799 1234.02,634.098 1217.33,636.184 1199.48,638.043 1180.52,639.669 1160.47,641.06 1139.38,642.221 \n",
       "  1117.27,643.158 1094.19,643.866 1070.11,644.356 1045.06,644.638 1019.05,644.716 992.103,644.591 964.267,644.257 935.598,643.708 906.162,642.928 876.039,641.902 \n",
       "  845.322,640.606 814.116,639.015 782.434,637.128 750.428,634.901 718.456,632.237 686.861,629.048 655.969,625.259 626.092,620.807 597.523,615.637 570.544,609.709 \n",
       "  545.415,602.992 522.385,595.468 501.686,587.13 483.531,577.982 468.122,568.039 455.641,557.327 446.257,545.886 440.042,533.788 436.78,521.205 436.235,508.307 \n",
       "  438.173,495.248 442.359,482.168 448.561,469.191 456.546,456.425 466.081,443.965 476.936,431.889 488.879,420.259 501.681,409.123 515.182,398.507 529.327,388.4 \n",
       "  544.045,378.786 559.278,369.648 574.978,360.964 591.109,352.71 607.643,344.861 624.563,337.387 641.864,330.258 659.551,323.441 677.639,316.897 696.142,310.598 \n",
       "  715.067,304.523 734.434,298.646 754.26,292.946 774.559,287.401 795.343,281.996 816.617,276.716 838.388,271.55 860.655,266.491 883.416,261.533 906.666,256.674 \n",
       "  930.395,251.917 954.588,247.263 979.212,242.713 1004.23,238.28 1029.61,233.978 1055.26,229.823 1081.12,225.837 1107.1,222.043 1133.07,218.468 1158.92,215.142 \n",
       "  1184.49,212.098 1209.64,209.372 1234.2,207.005 1257.96,205.037 1280.74,203.514 1302.34,202.452 1322.55,201.877 1341.17,201.813 1358.03,202.272 1372.99,203.255 \n",
       "  1385.94,204.749 1396.78,206.734 1405.46,209.175 1411.95,212.028 1416.25,215.237 1418.37,218.734 1418.38,222.44 1416.35,226.265 \n",
       "  \"/>\n",
       "<circle clip-path=\"url(#clip492)\" cx=\"1416.35\" cy=\"226.265\" r=\"7\" fill=\"#c271d2\" fill-rule=\"evenodd\" fill-opacity=\"1\" stroke=\"#000000\" stroke-opacity=\"1\" stroke-width=\"3.2\"/>\n",
       "<circle clip-path=\"url(#clip492)\" cx=\"981.397\" cy=\"1376.6\" r=\"7\" fill=\"#c271d2\" fill-rule=\"evenodd\" fill-opacity=\"1\" stroke=\"#000000\" stroke-opacity=\"1\" stroke-width=\"3.2\"/>\n",
       "<polyline clip-path=\"url(#clip492)\" style=\"stroke:#ac8d18; stroke-linecap:butt; stroke-linejoin:round; stroke-width:4; stroke-opacity:1; fill:none\" points=\"\n",
       "  1416.35,1271.48 1412.4,1275.32 1406.69,1279.1 1399.41,1282.75 1390.72,1286.21 1380.78,1289.43 1369.7,1292.35 1357.6,1294.96 1344.61,1297.21 1330.8,1299.1 \n",
       "  1316.25,1300.63 1301.05,1301.8 1285.23,1302.62 1268.87,1303.09 1251.98,1303.24 1234.58,1303.07 1216.71,1302.61 1198.38,1301.86 1179.61,1300.85 1160.43,1299.59 \n",
       "  1140.87,1298.08 1120.93,1296.35 1100.63,1294.4 1080.01,1292.24 1059.07,1289.88 1037.85,1287.33 1016.4,1284.57 994.767,1281.61 973.018,1278.43 951.221,1275.03 \n",
       "  929.454,1271.4 907.804,1267.52 886.364,1263.39 865.235,1258.99 844.528,1254.3 824.359,1249.31 804.853,1243.99 786.145,1238.32 768.373,1232.29 751.689,1225.87 \n",
       "  736.242,1219.04 722.165,1211.8 709.583,1204.16 698.603,1196.13 689.313,1187.71 681.787,1178.92 676.077,1169.8 672.222,1160.36 670.239,1150.64 670.133,1140.69 \n",
       "  671.885,1130.55 675.464,1120.27 680.818,1109.92 687.879,1099.55 696.561,1089.21 706.782,1078.94 718.466,1068.76 731.542,1058.72 745.943,1048.85 761.608,1039.16 \n",
       "  778.48,1029.68 796.507,1020.42 815.643,1011.39 835.845,1002.58 857.077,993.99 879.298,985.627 902.481,977.491 926.62,969.575 951.698,961.873 977.685,954.385 \n",
       "  1004.54,947.115 1032.19,940.073 1060.58,933.27 1089.63,926.724 1119.22,920.458 1149.25,914.497 1179.61,908.87 1210.27,903.574 1240.99,898.678 1271.4,894.271 \n",
       "  1301.19,890.432 1330.03,887.227 1357.64,884.711 1383.74,882.925 1408.07,881.897 1430.41,881.645 1450.54,882.174 1468.26,883.475 1483.41,885.527 1495.82,888.299 \n",
       "  1505.38,891.745 1511.95,895.808 1515.61,900.383 1516.58,905.31 1515.09,910.435 1511.37,915.621 1505.63,920.747 1498.08,925.707 1488.94,930.41 1478.4,934.78 \n",
       "  1466.66,938.76 1453.92,942.303 1440.37,945.383 1426.12,947.986 1411.22,950.124 1395.72,951.814 1379.66,953.076 1363.08,953.932 1346.01,954.405 1328.45,954.52 \n",
       "  1310.43,954.305 1291.93,953.789 1272.95,953.002 1253.48,951.977 1233.5,950.736 1212.99,949.299 1191.94,947.69 1170.32,945.93 1148.12,944.035 1125.34,942.018 \n",
       "  1101.96,939.889 1078,937.654 1053.45,935.317 1028.34,932.878 1002.67,930.332 976.463,927.673 949.754,924.894 922.59,921.986 895.052,918.922 867.233,915.673 \n",
       "  839.248,912.207 811.226,908.489 783.318,904.483 755.687,900.15 728.516,895.448 702.008,890.335 676.378,884.763 651.863,878.685 628.715,872.051 607.199,864.811 \n",
       "  587.532,856.956 569.908,848.486 554.49,839.409 541.401,829.747 530.726,819.533 522.509,808.817 516.753,797.66 513.424,786.136 512.447,774.335 513.708,762.359 \n",
       "  517.051,750.322 522.285,738.351 529.215,726.526 537.65,714.911 547.408,703.572 558.324,692.564 570.254,681.928 583.069,671.693 596.659,661.876 610.934,652.479 \n",
       "  625.82,643.493 641.255,634.902 657.18,626.704 673.568,618.875 690.396,611.395 707.642,604.242 725.287,597.396 743.313,590.837 761.706,584.547 780.451,578.507 \n",
       "  799.539,572.702 818.959,567.114 838.697,561.732 858.739,556.546 879.069,551.547 899.664,546.729 920.495,542.089 941.522,537.626 962.7,533.342 983.975,529.243 \n",
       "  1005.29,525.334 1026.56,521.627 1047.73,518.133 1068.7,514.867 1089.39,511.849 1109.69,509.098 1129.5,506.629 1148.71,504.453 1167.17,502.599 1184.72,501.09 \n",
       "  1201.22,499.943 1216.55,499.169 1230.59,498.776 1243.23,498.763 1254.36,499.126 1263.9,499.853 1271.76,500.929 1277.88,502.33 1282.2,504.031 1284.67,506.003 \n",
       "  1285.33,508.2 1284.2,510.571 1281.32,513.068 1276.74,515.647 1270.51,518.262 1262.67,520.872 1253.3,523.439 1242.46,525.926 1230.22,528.297 1216.67,530.52 \n",
       "  1201.87,532.564 1185.93,534.408 1168.86,536.045 1150.69,537.472 1131.46,538.688 1111.2,539.688 1089.93,540.47 1067.71,541.03 1044.57,541.363 1020.55,541.467 \n",
       "  995.705,541.338 970.084,540.97 943.741,540.36 916.732,539.504 889.113,538.396 860.959,537.022 832.403,535.345 803.602,533.325 774.726,530.923 745.962,528.098 \n",
       "  717.511,524.809 689.59,521.013 662.431,516.667 636.282,511.727 611.405,506.149 588.077,499.886 566.592,492.894 547.229,485.144 530.174,476.662 515.567,467.479 \n",
       "  503.506,457.637 494.047,447.191 487.209,436.207 482.965,424.764 481.252,412.951 481.962,400.872 484.948,388.64 490.022,376.383 496.954,364.239 505.524,352.303 \n",
       "  515.548,340.624 526.849,329.26 539.269,318.259 552.673,307.653 566.948,297.463 582.004,287.695 597.771,278.343 614.202,269.387 631.258,260.806 648.906,252.587 \n",
       "  667.143,244.703 685.967,237.125 705.383,229.828 725.394,222.788 746.008,215.98 767.234,209.383 789.084,202.976 811.573,196.74 834.715,190.658 858.494,184.722 \n",
       "  882.932,178.919 908.061,173.233 933.891,167.657 960.417,162.187 987.617,156.828 1015.45,151.587 1043.86,146.478 1072.77,141.521 \n",
       "  \"/>\n",
       "<circle clip-path=\"url(#clip492)\" cx=\"1072.77\" cy=\"141.521\" r=\"7\" fill=\"#ac8d18\" fill-rule=\"evenodd\" fill-opacity=\"1\" stroke=\"#000000\" stroke-opacity=\"1\" stroke-width=\"3.2\"/>\n",
       "<circle clip-path=\"url(#clip492)\" cx=\"1416.35\" cy=\"1271.48\" r=\"7\" fill=\"#ac8d18\" fill-rule=\"evenodd\" fill-opacity=\"1\" stroke=\"#000000\" stroke-opacity=\"1\" stroke-width=\"3.2\"/>\n",
       "<path clip-path=\"url(#clip490)\" d=\"\n",
       "M1978.88 1497.97 L3552.76 1497.97 L3552.76 47.2441 L1978.88 47.2441  Z\n",
       "  \" fill=\"#ffffff\" fill-rule=\"evenodd\" fill-opacity=\"1\"/>\n",
       "<defs>\n",
       "  <clipPath id=\"clip493\">\n",
       "    <rect x=\"1978\" y=\"47\" width=\"1575\" height=\"1452\"/>\n",
       "  </clipPath>\n",
       "</defs>\n",
       "<polyline clip-path=\"url(#clip493)\" style=\"stroke:#000000; stroke-linecap:butt; stroke-linejoin:round; stroke-width:2; stroke-opacity:0.1; fill:none\" points=\"\n",
       "  2145.94,1497.97 2145.94,47.2441 \n",
       "  \"/>\n",
       "<polyline clip-path=\"url(#clip493)\" style=\"stroke:#000000; stroke-linecap:butt; stroke-linejoin:round; stroke-width:2; stroke-opacity:0.1; fill:none\" points=\"\n",
       "  2456,1497.97 2456,47.2441 \n",
       "  \"/>\n",
       "<polyline clip-path=\"url(#clip493)\" style=\"stroke:#000000; stroke-linecap:butt; stroke-linejoin:round; stroke-width:2; stroke-opacity:0.1; fill:none\" points=\"\n",
       "  2766.05,1497.97 2766.05,47.2441 \n",
       "  \"/>\n",
       "<polyline clip-path=\"url(#clip493)\" style=\"stroke:#000000; stroke-linecap:butt; stroke-linejoin:round; stroke-width:2; stroke-opacity:0.1; fill:none\" points=\"\n",
       "  3076.11,1497.97 3076.11,47.2441 \n",
       "  \"/>\n",
       "<polyline clip-path=\"url(#clip493)\" style=\"stroke:#000000; stroke-linecap:butt; stroke-linejoin:round; stroke-width:2; stroke-opacity:0.1; fill:none\" points=\"\n",
       "  3386.16,1497.97 3386.16,47.2441 \n",
       "  \"/>\n",
       "<polyline clip-path=\"url(#clip490)\" style=\"stroke:#000000; stroke-linecap:butt; stroke-linejoin:round; stroke-width:4; stroke-opacity:1; fill:none\" points=\"\n",
       "  1978.88,1497.97 3552.76,1497.97 \n",
       "  \"/>\n",
       "<polyline clip-path=\"url(#clip490)\" style=\"stroke:#000000; stroke-linecap:butt; stroke-linejoin:round; stroke-width:4; stroke-opacity:1; fill:none\" points=\"\n",
       "  2145.94,1497.97 2145.94,1479.07 \n",
       "  \"/>\n",
       "<polyline clip-path=\"url(#clip490)\" style=\"stroke:#000000; stroke-linecap:butt; stroke-linejoin:round; stroke-width:4; stroke-opacity:1; fill:none\" points=\"\n",
       "  2456,1497.97 2456,1479.07 \n",
       "  \"/>\n",
       "<polyline clip-path=\"url(#clip490)\" style=\"stroke:#000000; stroke-linecap:butt; stroke-linejoin:round; stroke-width:4; stroke-opacity:1; fill:none\" points=\"\n",
       "  2766.05,1497.97 2766.05,1479.07 \n",
       "  \"/>\n",
       "<polyline clip-path=\"url(#clip490)\" style=\"stroke:#000000; stroke-linecap:butt; stroke-linejoin:round; stroke-width:4; stroke-opacity:1; fill:none\" points=\"\n",
       "  3076.11,1497.97 3076.11,1479.07 \n",
       "  \"/>\n",
       "<polyline clip-path=\"url(#clip490)\" style=\"stroke:#000000; stroke-linecap:butt; stroke-linejoin:round; stroke-width:4; stroke-opacity:1; fill:none\" points=\"\n",
       "  3386.16,1497.97 3386.16,1479.07 \n",
       "  \"/>\n",
       "<path clip-path=\"url(#clip490)\" d=\"M2115.89 1553.14 L2145.56 1553.14 L2145.56 1557.07 L2115.89 1557.07 L2115.89 1553.14 Z\" fill=\"#000000\" fill-rule=\"evenodd\" fill-opacity=\"1\" /><path clip-path=\"url(#clip490)\" d=\"M2159.68 1566.03 L2176 1566.03 L2176 1569.97 L2154.06 1569.97 L2154.06 1566.03 Q2156.72 1563.28 2161.3 1558.65 Q2165.91 1554 2167.09 1552.65 Q2169.34 1550.13 2170.22 1548.39 Q2171.12 1546.63 2171.12 1544.94 Q2171.12 1542.19 2169.17 1540.45 Q2167.25 1538.72 2164.15 1538.72 Q2161.95 1538.72 2159.5 1539.48 Q2157.07 1540.25 2154.29 1541.8 L2154.29 1537.07 Q2157.11 1535.94 2159.57 1535.36 Q2162.02 1534.78 2164.06 1534.78 Q2169.43 1534.78 2172.62 1537.47 Q2175.82 1540.15 2175.82 1544.64 Q2175.82 1546.77 2175.01 1548.69 Q2174.22 1550.59 2172.11 1553.19 Q2171.53 1553.86 2168.43 1557.07 Q2165.33 1560.27 2159.68 1566.03 Z\" fill=\"#000000\" fill-rule=\"evenodd\" fill-opacity=\"1\" /><path clip-path=\"url(#clip490)\" d=\"M2425.76 1553.14 L2455.43 1553.14 L2455.43 1557.07 L2425.76 1557.07 L2425.76 1553.14 Z\" fill=\"#000000\" fill-rule=\"evenodd\" fill-opacity=\"1\" /><path clip-path=\"url(#clip490)\" d=\"M2466.33 1566.03 L2473.97 1566.03 L2473.97 1539.67 L2465.66 1541.33 L2465.66 1537.07 L2473.93 1535.41 L2478.6 1535.41 L2478.6 1566.03 L2486.24 1566.03 L2486.24 1569.97 L2466.33 1569.97 L2466.33 1566.03 Z\" fill=\"#000000\" fill-rule=\"evenodd\" fill-opacity=\"1\" /><path clip-path=\"url(#clip490)\" d=\"M2766.05 1538.49 Q2762.44 1538.49 2760.61 1542.05 Q2758.81 1545.59 2758.81 1552.72 Q2758.81 1559.83 2760.61 1563.39 Q2762.44 1566.94 2766.05 1566.94 Q2769.69 1566.94 2771.49 1563.39 Q2773.32 1559.83 2773.32 1552.72 Q2773.32 1545.59 2771.49 1542.05 Q2769.69 1538.49 2766.05 1538.49 M2766.05 1534.78 Q2771.86 1534.78 2774.92 1539.39 Q2778 1543.97 2778 1552.72 Q2778 1561.45 2774.92 1566.06 Q2771.86 1570.64 2766.05 1570.64 Q2760.24 1570.64 2757.16 1566.06 Q2754.11 1561.45 2754.11 1552.72 Q2754.11 1543.97 2757.16 1539.39 Q2760.24 1534.78 2766.05 1534.78 Z\" fill=\"#000000\" fill-rule=\"evenodd\" fill-opacity=\"1\" /><path clip-path=\"url(#clip490)\" d=\"M3066.49 1566.03 L3074.13 1566.03 L3074.13 1539.67 L3065.82 1541.33 L3065.82 1537.07 L3074.08 1535.41 L3078.76 1535.41 L3078.76 1566.03 L3086.4 1566.03 L3086.4 1569.97 L3066.49 1569.97 L3066.49 1566.03 Z\" fill=\"#000000\" fill-rule=\"evenodd\" fill-opacity=\"1\" /><path clip-path=\"url(#clip490)\" d=\"M3380.82 1566.03 L3397.13 1566.03 L3397.13 1569.97 L3375.19 1569.97 L3375.19 1566.03 Q3377.85 1563.28 3382.44 1558.65 Q3387.04 1554 3388.22 1552.65 Q3390.47 1550.13 3391.35 1548.39 Q3392.25 1546.63 3392.25 1544.94 Q3392.25 1542.19 3390.31 1540.45 Q3388.38 1538.72 3385.28 1538.72 Q3383.08 1538.72 3380.63 1539.48 Q3378.2 1540.25 3375.42 1541.8 L3375.42 1537.07 Q3378.25 1535.94 3380.7 1535.36 Q3383.15 1534.78 3385.19 1534.78 Q3390.56 1534.78 3393.75 1537.47 Q3396.95 1540.15 3396.95 1544.64 Q3396.95 1546.77 3396.14 1548.69 Q3395.35 1550.59 3393.25 1553.19 Q3392.67 1553.86 3389.57 1557.07 Q3386.46 1560.27 3380.82 1566.03 Z\" fill=\"#000000\" fill-rule=\"evenodd\" fill-opacity=\"1\" /><polyline clip-path=\"url(#clip493)\" style=\"stroke:#000000; stroke-linecap:butt; stroke-linejoin:round; stroke-width:2; stroke-opacity:0.1; fill:none\" points=\"\n",
       "  1978.88,1380.77 3552.76,1380.77 \n",
       "  \"/>\n",
       "<polyline clip-path=\"url(#clip493)\" style=\"stroke:#000000; stroke-linecap:butt; stroke-linejoin:round; stroke-width:2; stroke-opacity:0.1; fill:none\" points=\"\n",
       "  1978.88,1076.62 3552.76,1076.62 \n",
       "  \"/>\n",
       "<polyline clip-path=\"url(#clip493)\" style=\"stroke:#000000; stroke-linecap:butt; stroke-linejoin:round; stroke-width:2; stroke-opacity:0.1; fill:none\" points=\"\n",
       "  1978.88,772.478 3552.76,772.478 \n",
       "  \"/>\n",
       "<polyline clip-path=\"url(#clip493)\" style=\"stroke:#000000; stroke-linecap:butt; stroke-linejoin:round; stroke-width:2; stroke-opacity:0.1; fill:none\" points=\"\n",
       "  1978.88,468.333 3552.76,468.333 \n",
       "  \"/>\n",
       "<polyline clip-path=\"url(#clip493)\" style=\"stroke:#000000; stroke-linecap:butt; stroke-linejoin:round; stroke-width:2; stroke-opacity:0.1; fill:none\" points=\"\n",
       "  1978.88,164.187 3552.76,164.187 \n",
       "  \"/>\n",
       "<polyline clip-path=\"url(#clip490)\" style=\"stroke:#000000; stroke-linecap:butt; stroke-linejoin:round; stroke-width:4; stroke-opacity:1; fill:none\" points=\"\n",
       "  1978.88,1497.97 1978.88,47.2441 \n",
       "  \"/>\n",
       "<polyline clip-path=\"url(#clip490)\" style=\"stroke:#000000; stroke-linecap:butt; stroke-linejoin:round; stroke-width:4; stroke-opacity:1; fill:none\" points=\"\n",
       "  1978.88,1380.77 1997.77,1380.77 \n",
       "  \"/>\n",
       "<polyline clip-path=\"url(#clip490)\" style=\"stroke:#000000; stroke-linecap:butt; stroke-linejoin:round; stroke-width:4; stroke-opacity:1; fill:none\" points=\"\n",
       "  1978.88,1076.62 1997.77,1076.62 \n",
       "  \"/>\n",
       "<polyline clip-path=\"url(#clip490)\" style=\"stroke:#000000; stroke-linecap:butt; stroke-linejoin:round; stroke-width:4; stroke-opacity:1; fill:none\" points=\"\n",
       "  1978.88,772.478 1997.77,772.478 \n",
       "  \"/>\n",
       "<polyline clip-path=\"url(#clip490)\" style=\"stroke:#000000; stroke-linecap:butt; stroke-linejoin:round; stroke-width:4; stroke-opacity:1; fill:none\" points=\"\n",
       "  1978.88,468.333 1997.77,468.333 \n",
       "  \"/>\n",
       "<polyline clip-path=\"url(#clip490)\" style=\"stroke:#000000; stroke-linecap:butt; stroke-linejoin:round; stroke-width:4; stroke-opacity:1; fill:none\" points=\"\n",
       "  1978.88,164.187 1997.77,164.187 \n",
       "  \"/>\n",
       "<path clip-path=\"url(#clip490)\" d=\"M1864.76 1381.22 L1894.44 1381.22 L1894.44 1385.16 L1864.76 1385.16 L1864.76 1381.22 Z\" fill=\"#000000\" fill-rule=\"evenodd\" fill-opacity=\"1\" /><path clip-path=\"url(#clip490)\" d=\"M1908.56 1394.11 L1924.88 1394.11 L1924.88 1398.05 L1902.93 1398.05 L1902.93 1394.11 Q1905.59 1391.36 1910.18 1386.73 Q1914.78 1382.08 1915.96 1380.73 Q1918.21 1378.21 1919.09 1376.48 Q1919.99 1374.72 1919.99 1373.03 Q1919.99 1370.27 1918.05 1368.54 Q1916.13 1366.8 1913.02 1366.8 Q1910.83 1366.8 1908.37 1367.56 Q1905.94 1368.33 1903.16 1369.88 L1903.16 1365.16 Q1905.99 1364.02 1908.44 1363.44 Q1910.89 1362.86 1912.93 1362.86 Q1918.3 1362.86 1921.5 1365.55 Q1924.69 1368.23 1924.69 1372.73 Q1924.69 1374.86 1923.88 1376.78 Q1923.09 1378.67 1920.99 1381.27 Q1920.41 1381.94 1917.31 1385.16 Q1914.2 1388.35 1908.56 1394.11 Z\" fill=\"#000000\" fill-rule=\"evenodd\" fill-opacity=\"1\" /><path clip-path=\"url(#clip490)\" d=\"M1864.39 1077.08 L1894.07 1077.08 L1894.07 1081.01 L1864.39 1081.01 L1864.39 1077.08 Z\" fill=\"#000000\" fill-rule=\"evenodd\" fill-opacity=\"1\" /><path clip-path=\"url(#clip490)\" d=\"M1904.97 1089.97 L1912.61 1089.97 L1912.61 1063.6 L1904.3 1065.27 L1904.3 1061.01 L1912.56 1059.34 L1917.24 1059.34 L1917.24 1089.97 L1924.88 1089.97 L1924.88 1093.9 L1904.97 1093.9 L1904.97 1089.97 Z\" fill=\"#000000\" fill-rule=\"evenodd\" fill-opacity=\"1\" /><path clip-path=\"url(#clip490)\" d=\"M1912.93 758.277 Q1909.32 758.277 1907.49 761.842 Q1905.69 765.383 1905.69 772.513 Q1905.69 779.62 1907.49 783.184 Q1909.32 786.726 1912.93 786.726 Q1916.57 786.726 1918.37 783.184 Q1920.2 779.62 1920.2 772.513 Q1920.2 765.383 1918.37 761.842 Q1916.57 758.277 1912.93 758.277 M1912.93 754.573 Q1918.74 754.573 1921.8 759.18 Q1924.88 763.763 1924.88 772.513 Q1924.88 781.24 1921.8 785.846 Q1918.74 790.43 1912.93 790.43 Q1907.12 790.43 1904.04 785.846 Q1900.99 781.24 1900.99 772.513 Q1900.99 763.763 1904.04 759.18 Q1907.12 754.573 1912.93 754.573 Z\" fill=\"#000000\" fill-rule=\"evenodd\" fill-opacity=\"1\" /><path clip-path=\"url(#clip490)\" d=\"M1904.97 481.678 L1912.61 481.678 L1912.61 455.312 L1904.3 456.979 L1904.3 452.719 L1912.56 451.053 L1917.24 451.053 L1917.24 481.678 L1924.88 481.678 L1924.88 485.613 L1904.97 485.613 L1904.97 481.678 Z\" fill=\"#000000\" fill-rule=\"evenodd\" fill-opacity=\"1\" /><path clip-path=\"url(#clip490)\" d=\"M1908.56 177.532 L1924.88 177.532 L1924.88 181.467 L1902.93 181.467 L1902.93 177.532 Q1905.59 174.777 1910.18 170.148 Q1914.78 165.495 1915.96 164.153 Q1918.21 161.629 1919.09 159.893 Q1919.99 158.134 1919.99 156.444 Q1919.99 153.69 1918.05 151.953 Q1916.13 150.217 1913.02 150.217 Q1910.83 150.217 1908.37 150.981 Q1905.94 151.745 1903.16 153.296 L1903.16 148.574 Q1905.99 147.44 1908.44 146.861 Q1910.89 146.282 1912.93 146.282 Q1918.3 146.282 1921.5 148.967 Q1924.69 151.653 1924.69 156.143 Q1924.69 158.273 1923.88 160.194 Q1923.09 162.092 1920.99 164.685 Q1920.41 165.356 1917.31 168.574 Q1914.2 171.768 1908.56 177.532 Z\" fill=\"#000000\" fill-rule=\"evenodd\" fill-opacity=\"1\" /><polyline clip-path=\"url(#clip493)\" style=\"stroke:#009af9; stroke-linecap:butt; stroke-linejoin:round; stroke-width:4; stroke-opacity:1; fill:none\" points=\"\n",
       "  3076.11,468.333 3095.01,488.222 3112.6,509.455 3128.78,531.861 3143.49,555.255 3156.67,579.445 3168.27,604.232 3178.27,629.425 3186.64,654.839 3193.38,680.297 \n",
       "  3198.49,705.639 3201.98,730.72 3203.86,755.413 3204.18,779.609 3202.96,803.219 3200.24,826.171 3196.08,848.408 3190.5,869.888 3183.58,890.58 3175.35,910.463 \n",
       "  3165.87,929.525 3155.19,947.759 3143.37,965.164 3130.46,981.741 3116.51,997.493 3101.57,1012.42 3085.7,1026.51 3068.95,1039.76 3051.38,1052.17 3033.04,1063.71 \n",
       "  3013.99,1074.36 2994.28,1084.1 2973.97,1092.89 2953.14,1100.68 2931.83,1107.43 2910.13,1113.09 2888.1,1117.59 2865.82,1120.88 2843.37,1122.88 2820.83,1123.55 \n",
       "  2798.3,1122.81 2775.86,1120.57 2753.62,1116.77 2731.68,1111.36 2710.14,1104.31 2689.1,1095.59 2668.67,1085.2 2648.95,1073.14 2630.06,1059.43 2612.11,1044.1 \n",
       "  2595.2,1027.2 2579.42,1008.81 2564.87,989.037 2551.63,967.981 2539.78,945.756 2529.39,922.484 2520.53,898.297 2513.25,873.334 2507.58,847.739 2503.58,821.657 \n",
       "  2501.27,795.208 2500.66,768.514 2501.76,741.688 2504.59,714.834 2509.15,688.05 2515.43,661.423 2523.42,635.033 2533.1,608.951 2544.44,583.239 2557.42,557.952 \n",
       "  2572,533.147 2588.15,508.891 2605.84,485.236 2625.03,462.246 2645.68,440.001 2667.74,418.595 2691.13,398.139 2715.81,378.756 2741.69,360.587 2768.69,343.787 \n",
       "  2796.72,328.505 2825.71,314.857 2855.51,303.133 2885.98,293.618 2916.97,286.56 2948.32,282.176 2979.85,280.647 3011.38,282.12 3042.73,286.708 3073.7,294.492 \n",
       "  3104.07,305.516 3133.65,319.792 3162.2,337.296 3189.51,357.952 3215.39,381.492 3239.67,407.571 3262.2,435.84 3282.86,465.949 3301.54,497.544 3318.15,530.269 \n",
       "  3332.65,563.767 3344.97,597.679 3355.12,631.642 3363.09,665.292 3368.91,698.317 3372.63,730.601 3374.32,762.016 3374.03,792.455 3371.82,821.838 3367.76,850.114 \n",
       "  3361.91,877.259 3354.34,903.279 3345.11,928.205 3334.31,952.096 3322,975.041 3308.25,997.156 3293.13,1018.51 3276.67,1039.12 3258.89,1059.09 3239.85,1078.47 \n",
       "  3219.59,1097.33 3198.12,1115.72 3175.5,1133.67 3151.73,1151.21 3126.86,1168.35 3100.9,1185.11 3073.87,1201.49 3045.81,1217.47 3016.74,1233 2986.67,1247.98 \n",
       "  2955.66,1262.29 2923.73,1275.82 2890.96,1288.41 2857.41,1299.91 2823.16,1310.15 2788.31,1318.92 2752.96,1326.03 2717.24,1331.24 2681.27,1334.31 2645.18,1334.98 \n",
       "  2609.14,1332.97 2573.3,1328 2537.88,1319.83 2503.12,1308.42 2469.24,1293.74 2436.43,1275.83 2404.89,1254.74 2374.78,1230.63 2346.28,1203.66 2319.54,1174.1 \n",
       "  2294.72,1142.22 2271.95,1108.4 2251.35,1073.02 2233.04,1036.57 2217.14,999.55 2203.73,962.512 2192.7,925.75 2184.02,889.554 2177.62,854.201 2173.45,819.918 \n",
       "  2171.45,786.881 2171.54,755.218 2173.63,725.008 2177.64,696.282 2183.45,669.018 2190.95,643.149 2200.05,618.637 2210.68,595.462 2222.76,573.541 2236.21,552.798 \n",
       "  2250.96,533.161 2266.94,514.565 2284.08,496.95 2302.32,480.265 2321.6,464.461 2341.87,449.499 2363.07,435.342 2385.16,421.877 2408.11,409.045 2431.87,396.919 \n",
       "  2456.38,385.578 2481.6,375.098 2507.46,365.556 2533.9,357.031 2560.85,349.602 2588.24,343.348 2615.99,338.349 2644,334.687 2672.21,332.442 2700.5,331.697 \n",
       "  2728.78,332.534 2756.95,335.037 2784.89,339.289 2812.5,345.375 2839.66,353.38 2866.24,363.39 2892.12,375.492 2917.15,389.772 2941.21,406.314 2964.13,425.054 \n",
       "  2985.78,445.831 3006.02,468.499 3024.75,492.903 3041.86,518.884 3057.27,546.272 3070.88,574.893 3082.62,604.566 3092.44,635.104 3100.29,666.309 3106.12,697.982 \n",
       "  3109.91,729.912 3111.63,761.885 3111.29,793.711 3108.93,825.305 3104.56,856.591 3098.19,887.498 3089.84,917.96 3079.55,947.917 3067.35,977.313 3053.26,1006.1 \n",
       "  3037.33,1034.22 3019.61,1061.65 3000.14,1088.34 2978.98,1114.26 2956.2,1139.4 2931.84,1163.71 2905.96,1187.13 2878.6,1209.5 2849.83,1230.68 2819.74,1250.48 \n",
       "  2788.42,1268.72 2755.99,1285.18 2722.57,1299.64 2688.3,1311.85 2653.33,1321.56 2617.84,1328.48 2582.01,1332.32 2546.04,1332.76 2510.15,1329.49 2474.6,1322.37 \n",
       "  2439.68,1311.34 2405.63,1296.38 2372.68,1277.52 2341.06,1254.89 2310.98,1228.69 2282.63,1199.18 2256.22,1166.71 2231.91,1131.69 2209.87,1094.61 2190.25,1056.04 \n",
       "  2173.21,1016.62 2158.8,976.929 2146.95,937.302 2137.62,898.127 2130.77,859.731 2126.35,822.376 2124.3,786.259 2124.54,751.508 2126.99,718.189 2131.53,686.298 \n",
       "  2138.05,655.788 2146.49,626.657 2156.75,598.816 2168.77,572.161 2182.46,546.589 2197.77,522.003 2214.62,498.302 2232.97,475.393 2252.77,453.181 2273.98,431.575 \n",
       "  2296.56,410.484 2320.47,389.846 2345.68,369.629 2372.19,349.751 2399.98,330.162 2429.04,310.842 2459.34,291.803 2490.87,273.092 \n",
       "  \"/>\n",
       "<polyline clip-path=\"url(#clip493)\" style=\"stroke:#e26f46; stroke-linecap:butt; stroke-linejoin:round; stroke-width:4; stroke-opacity:1; fill:none\" points=\"\n",
       "  2490.87,273.092 2523.58,254.786 2557.44,236.995 2592.4,219.862 2628.4,203.562 2665.4,188.302 2703.32,174.321 2742.11,161.893 2781.67,151.289 2821.91,142.689 \n",
       "  2862.62,136.616 2903.59,133.577 2944.61,133.993 2985.45,138.196 3025.87,146.432 3065.63,158.858 3104.48,175.545 3142.17,196.475 3178.42,221.542 3212.97,250.555 \n",
       "  3245.52,283.233 3275.82,319.228 3303.72,358.044 3329.08,398.932 3351.79,441.186 3371.75,484.165 3388.94,527.296 3403.33,570.073 3414.96,612.054 3423.89,652.864 \n",
       "  3430.22,692.194 3434.08,729.804 3435.63,765.517 3434.98,799.262 3432.24,831.072 3427.51,861.001 3420.91,889.109 3412.57,915.472 3402.59,940.174 3391.06,963.31 \n",
       "  3378.1,984.987 3363.78,1005.32 3348.2,1024.44 3331.43,1042.47 3313.53,1059.48 3294.57,1075.57 3274.6,1090.81 3253.67,1105.29 3231.83,1119.05 3209.13,1132.14 \n",
       "  3185.62,1144.58 3161.34,1156.38 3136.33,1167.55 3110.64,1178.05 3084.29,1187.87 3057.32,1196.96 3029.78,1205.29 3001.73,1212.79 2973.22,1219.35 2944.33,1224.87 \n",
       "  2915.12,1229.23 2885.68,1232.32 2856.08,1234.02 2826.42,1234.22 2796.8,1232.81 2767.33,1229.65 2738.12,1224.63 2709.29,1217.63 2680.98,1208.51 2653.34,1197.19 \n",
       "  2626.52,1183.66 2600.66,1167.93 2575.89,1150.05 2552.35,1130.09 2530.14,1108.14 2509.39,1084.29 2490.21,1058.69 2472.68,1031.48 2456.92,1002.83 2443.01,972.95 \n",
       "  2431.02,942.04 2421.05,910.343 2413.15,878.115 2407.38,845.632 2403.73,813.071 2402.15,780.577 2402.66,748.292 2405.23,716.344 2409.83,684.839 2416.45,653.869 \n",
       "  2425.05,623.505 2435.59,593.802 2448.02,564.794 2462.3,536.502 2478.35,508.928 2496.13,482.125 2515.61,456.108 2536.75,430.885 2559.49,406.488 2583.77,382.975 \n",
       "  2609.54,360.424 2636.72,338.941 2665.23,318.653 2694.99,299.71 2725.91,282.288 2757.9,266.585 2790.83,252.823 2824.62,241.103 2859.09,231.663 2894.05,224.933 \n",
       "  2929.31,221.273 2964.66,220.977 2999.88,224.269 3034.76,231.306 3069.09,242.178 3102.64,256.906 3135.18,275.443 3166.47,297.675 3196.27,323.42 3224.35,352.426 \n",
       "  3250.46,384.377 3274.34,418.886 3295.89,455.493 3315.05,493.623 3331.74,532.725 3345.92,572.31 3357.54,611.947 3366.61,651.269 3373.15,689.964 3377.2,727.783 \n",
       "  3378.83,764.537 3378.13,800.095 3375.23,834.386 3370.18,867.354 3363.07,899.025 3353.96,929.463 3342.94,958.738 3330.07,986.926 3315.42,1014.11 3299.05,1040.37 \n",
       "  3281.02,1065.8 3261.37,1090.49 3240.16,1114.55 3217.43,1138.08 3193.22,1161.12 3167.54,1183.72 3140.41,1205.99 3111.85,1227.96 3081.86,1249.64 3050.48,1271.02 \n",
       "  3017.73,1292.03 2983.66,1312.57 2948.31,1332.51 2911.72,1351.66 2873.97,1369.82 2835.1,1386.74 2795.19,1402.12 2754.31,1415.67 2712.55,1427.23 2670.1,1436.24 \n",
       "  2627.21,1442.05 2584.13,1444.15 2541.09,1442.13 2498.36,1435.65 2456.21,1424.52 2414.91,1408.63 2374.74,1387.96 2335.99,1362.61 2298.96,1332.79 2263.94,1298.8 \n",
       "  2231.26,1261.05 2201.16,1220.02 2173.76,1176.42 2149.17,1131.18 2127.5,1085.12 2108.79,1038.96 2093.07,993.318 2080.31,948.73 2070.43,905.616 2063.32,864.298 \n",
       "  2058.85,825.002 2056.8,787.851 2056.98,752.881 2059.3,720.121 2063.65,689.494 2069.9,660.898 2077.93,634.221 2087.62,609.347 2098.85,586.156 2111.53,564.519 \n",
       "  2125.55,544.302 2140.82,525.366 2157.28,507.571 2174.83,490.814 2193.44,474.988 2213.05,459.992 2233.6,445.74 2255.04,432.161 2277.34,419.198 2300.44,406.81 \n",
       "  2324.31,394.968 2348.91,383.662 2374.21,372.892 2400.19,362.675 2426.81,353.043 2454.04,344.024 2481.83,335.647 2510.15,327.995 2538.92,321.157 2568.12,315.232 \n",
       "  2597.66,310.321 2627.48,306.535 2657.5,303.99 2687.63,302.807 2717.79,303.116 2747.88,305.05 2777.79,308.752 2807.4,314.369 2836.58,322.023 2865.17,331.778 \n",
       "  2893.04,343.682 2920.05,357.756 2946.07,373.995 2970.98,392.368 2994.67,412.814 3017,435.251 3037.86,459.565 3057.16,485.619 3074.78,513.246 3090.62,542.257 \n",
       "  3104.58,572.431 3116.57,603.525 3126.5,635.266 3134.3,667.369 3140.02,699.646 3143.67,731.919 3145.25,764.017 3144.79,795.793 3142.3,827.12 3137.8,857.894 \n",
       "  3131.34,888.031 3122.95,917.469 3112.69,946.166 3100.62,974.103 3086.79,1001.26 3071.25,1027.6 3054.05,1053.12 3035.22,1077.83 3014.83,1101.72 2992.92,1124.73 \n",
       "  2969.57,1146.84 2944.83,1167.95 2918.78,1188 2891.48,1206.88 2863.02,1224.46 2833.47,1240.61 2802.92,1255.24 2771.44,1268.32 2739.19,1279.5 2706.32,1288.42 \n",
       "  2673,1294.78 2639.39,1298.3 2605.69,1298.77 2572.06,1296.01 2538.71,1289.91 2505.84,1280.38 2473.64,1267.39 2442.34,1250.95 2412.15,1231.13 2383.3,1208.04 \n",
       "  2356.02,1181.82 2330.56,1152.68 2307.13,1120.87 2285.83,1086.86 2266.76,1051.13 2250.01,1014.17 2235.66,976.409 2223.75,938.222 \n",
       "  \"/>\n",
       "<polyline clip-path=\"url(#clip493)\" style=\"stroke:#3da44d; stroke-linecap:butt; stroke-linejoin:round; stroke-width:4; stroke-opacity:1; fill:none\" points=\"\n",
       "  2223.75,938.222 2214.31,899.959 2207.35,861.92 2202.84,824.366 2200.74,787.513 2200.99,751.539 2203.48,716.578 2208.17,682.714 2214.98,649.937 2223.87,618.204 \n",
       "  2234.76,587.47 2247.6,557.681 2262.33,528.78 2278.88,500.707 2297.23,473.393 2317.3,446.767 2339.08,420.753 2362.5,395.268 2387.54,370.226 2414.15,345.621 \n",
       "  2442.32,321.433 2472.04,297.624 2503.31,274.204 2536.09,251.226 2570.35,228.791 2606.03,207.045 2643.07,186.18 2681.39,166.434 2720.91,148.091 2761.53,131.48 \n",
       "  2803.12,116.977 2845.57,105.004 2888.74,96.0052 2932.42,90.2502 2976.32,88.3023 3020.15,90.7015 3063.62,97.8515 3106.42,110.02 3148.28,127.337 3188.89,149.799 \n",
       "  3227.97,177.264 3265.23,209.455 3300.38,245.958 3333.13,286.223 3363.2,329.565 3390.29,375.16 3414.31,422.228 3435.31,469.963 3453.27,517.542 3468.22,564.27 \n",
       "  3480.2,609.581 3489.31,653.038 3495.64,694.333 3499.33,733.288 3500.55,769.854 3499.51,804.11 3496.41,836.233 3491.35,866.164 3484.43,893.991 3475.79,919.87 \n",
       "  3465.54,943.951 3453.8,966.382 3440.66,987.306 3426.22,1006.86 3410.57,1025.18 3393.77,1042.41 3375.91,1058.65 3357.03,1074.03 3337.18,1088.64 3316.41,1102.57 \n",
       "  3294.76,1115.9 3272.27,1128.68 3248.98,1140.98 3224.92,1152.81 3200.12,1164.19 3174.62,1175.14 3148.43,1185.63 3121.59,1195.65 3094.12,1205.16 3066.04,1214.11 \n",
       "  3037.4,1222.47 3008.24,1230.15 2978.62,1237.03 2948.58,1243.01 2918.18,1247.98 2887.5,1251.8 2856.62,1254.36 2825.62,1255.52 2794.61,1255.14 2763.67,1253.08 \n",
       "  2732.92,1249.17 2702.49,1243.27 2672.5,1235.25 2643.11,1225.05 2614.47,1212.61 2586.73,1197.9 2560.01,1180.92 2534.45,1161.72 2510.19,1140.36 2487.33,1116.95 \n",
       "  2466.01,1091.63 2446.33,1064.55 2428.41,1035.94 2412.34,1006.02 2398.23,975.054 2386.17,943.358 2376.22,911.218 2368.34,878.82 2362.55,846.383 2358.83,814.104 \n",
       "  2357.17,782.157 2357.55,750.687 2359.95,719.817 2364.31,689.641 2370.6,660.23 2378.75,631.627 2388.69,603.859 2400.39,576.969 2413.78,550.952 2428.82,525.797 \n",
       "  2445.45,501.503 2463.62,478.076 2483.26,455.533 2504.32,433.897 2526.74,413.201 2550.46,393.485 2575.4,374.8 2601.52,357.195 2628.75,340.648 2657,325.33 \n",
       "  2686.19,311.458 2716.22,299.244 2746.96,288.885 2778.29,280.571 2810.08,274.479 2842.18,270.776 2874.44,269.62 2906.69,271.156 2938.75,275.521 2970.46,282.841 \n",
       "  3001.6,293.23 3031.97,306.792 3061.37,323.621 3089.56,343.727 3116.35,366.874 3141.56,392.794 3165.01,421.207 3186.58,451.824 3206.12,484.345 3223.53,518.46 \n",
       "  3238.73,553.849 3251.64,590.182 3262.2,627.12 3270.38,664.311 3276.17,701.396 3279.55,738.05 3280.61,774.174 3279.37,809.657 3275.89,844.403 3270.2,878.342 \n",
       "  3262.35,911.427 3252.4,943.637 3240.39,974.975 3226.38,1005.47 3210.42,1035.17 3192.58,1064.16 3172.92,1092.53 3151.47,1120.31 3128.26,1147.54 3103.31,1174.28 \n",
       "  3076.64,1200.59 3048.29,1226.46 3018.29,1251.86 2986.68,1276.73 2953.5,1300.95 2918.81,1324.4 2882.65,1346.9 2845.09,1368.23 2806.17,1388.19 2765.91,1406.72 \n",
       "  2724.48,1423.22 2682.09,1437.03 2638.98,1447.56 2595.38,1454.33 2551.54,1456.91 2507.72,1454.97 2464.19,1448.25 2421.25,1436.57 2379.2,1419.85 2338.33,1398.07 \n",
       "  2298.97,1371.3 2261.46,1339.68 2226.13,1303.45 2193.3,1263.08 2163.14,1219.54 2135.82,1173.79 2111.48,1126.74 2090.19,1079.15 2071.98,1031.75 2056.84,985.118 \n",
       "  2044.7,939.783 2035.45,896.163 2028.94,854.588 2024.97,815.297 2023.42,778.391 2024.16,743.827 2027.04,711.532 2031.92,681.416 2038.68,653.378 2047.17,627.3 \n",
       "  2057.29,603.05 2068.91,580.483 2081.94,559.437 2096.27,539.737 2111.82,521.215 2128.53,503.761 2146.33,487.245 2165.17,471.55 2184.99,456.569 2205.76,442.212 \n",
       "  2227.43,428.405 2249.96,415.086 2273.33,402.209 2297.5,389.741 2322.46,377.665 2348.18,365.978 2374.66,354.682 2401.84,343.776 2429.71,333.289 2458.25,323.268 \n",
       "  2487.43,313.772 2517.19,304.876 2547.51,296.669 2578.33,289.256 2609.59,282.755 2641.22,277.301 2673.15,273.041 2705.32,270.14 2737.62,268.774 2769.98,269.096 \n",
       "  2802.25,271.195 2834.3,275.29 2866,281.573 2897.18,290.188 2927.73,301.241 2957.47,314.791 2986.29,330.856 3014.02,349.409 3040.53,370.382 3065.67,393.662 \n",
       "  3089.29,419.095 3111.25,446.481 3131.39,475.579 3149.57,506.103 3165.68,537.754 3179.72,570.27 3191.66,603.342 3201.47,636.684 3209.14,670.04 3214.67,703.184 \n",
       "  3218.08,735.919 3219.39,768.081 3218.63,799.534 3215.88,830.173 3211.19,859.921 3204.64,888.724 3196.28,916.527 3186.16,943.343 3174.36,969.188 3160.92,994.074 \n",
       "  3145.91,1018.01 3129.4,1041.01 3111.43,1063.07 3092.08,1084.2 3071.4,1104.39 3049.45,1123.64 3026.3,1141.95 3002.01,1159.3 \n",
       "  \"/>\n",
       "<polyline clip-path=\"url(#clip493)\" style=\"stroke:#c271d2; stroke-linecap:butt; stroke-linejoin:round; stroke-width:4; stroke-opacity:1; fill:none\" points=\"\n",
       "  3002.01,1159.3 2976.63,1175.69 2950.22,1191 2922.87,1205.12 2894.65,1217.92 2865.65,1229.28 2835.97,1239.05 2805.73,1247.11 2775.02,1253.31 2744,1257.49 \n",
       "  2712.78,1259.5 2681.51,1259.17 2650.34,1256.35 2619.44,1250.85 2588.98,1242.5 2559.15,1231.16 2530.19,1216.85 2502.27,1199.66 2475.55,1179.67 2450.21,1157.03 \n",
       "  2426.39,1131.89 2404.23,1104.42 2383.86,1074.84 2365.41,1043.39 2348.99,1010.33 2334.7,975.956 2322.64,940.577 2312.88,904.542 2305.51,868.224 2300.52,831.923 \n",
       "  2297.86,795.792 2297.5,759.999 2299.42,724.688 2303.59,689.971 2309.97,655.931 2318.53,622.623 2329.21,590.072 2341.98,558.275 2356.77,527.198 2373.52,496.781 \n",
       "  2392.18,467.022 2412.72,437.894 2435.13,409.324 2459.37,381.269 2485.41,353.72 2513.2,326.699 2542.7,300.261 2573.88,274.493 2606.66,249.513 2641.02,225.472 \n",
       "  2676.87,202.554 2714.17,180.974 2752.9,160.749 2792.95,142.301 2834.1,126.297 2876.14,113.329 2918.84,103.912 2961.94,98.4837 3005.2,97.4081 3048.35,100.971 \n",
       "  3091.11,109.383 3133.19,122.777 3174.29,141.21 3214.08,164.665 3252.26,193.046 3288.48,226.181 3322.39,263.804 3353.77,305.189 3382.43,349.324 3408.21,395.285 \n",
       "  3431.01,442.238 3450.76,489.44 3467.46,536.24 3481.12,582.078 3491.84,626.482 3499.74,669.076 3505,709.572 3507.79,747.778 3508.21,783.663 3506.41,817.293 \n",
       "  3502.52,848.748 3496.67,878.121 3489,905.522 3479.63,931.073 3468.66,954.911 3456.21,977.186 3442.37,998.062 3427.24,1017.72 3410.88,1036.3 3393.37,1053.92 \n",
       "  3374.74,1070.7 3355.05,1086.77 3334.35,1102.23 3312.68,1117.15 3290.06,1131.61 3266.54,1145.67 3242.14,1159.36 3216.87,1172.72 3190.76,1185.76 3163.82,1198.47 \n",
       "  3136.06,1210.85 3107.52,1222.88 3078.22,1234.53 3048.17,1245.74 3017.41,1256.42 2985.98,1266.49 2953.93,1275.82 2921.31,1284.3 2888.18,1291.76 2854.62,1298.05 \n",
       "  2820.72,1302.97 2786.55,1306.32 2752.21,1307.89 2717.82,1307.5 2683.53,1305.02 2649.51,1300.2 2615.91,1292.82 2582.91,1282.74 2550.65,1269.86 2519.31,1254.13 \n",
       "  2489.04,1235.56 2460.01,1214.22 2432.38,1190.23 2406.3,1163.74 2381.95,1134.99 2359.48,1104.26 2339.05,1071.88 2320.83,1038.22 2304.87,1003.65 2291.14,968.499 \n",
       "  2279.66,933.119 2270.46,897.827 2263.5,862.895 2258.78,828.556 2256.26,795.002 2255.88,762.384 2257.58,730.812 2261.28,700.356 2266.87,671.045 2274.29,642.927 \n",
       "  2283.48,615.995 2294.37,590.212 2306.87,565.54 2320.92,541.944 2336.46,519.39 2353.42,497.849 2371.73,477.292 2391.33,457.691 2412.15,439.023 2434.15,421.265 \n",
       "  2457.25,404.395 2481.41,388.413 2506.57,373.368 2532.68,359.322 2559.66,346.347 2587.44,334.529 2615.94,323.96 2645.07,314.749 2674.74,307.01 2704.85,300.871 \n",
       "  2735.28,296.472 2765.93,293.962 2796.66,293.501 2827.35,295.26 2857.86,299.422 2888.04,306.152 2917.67,315.504 2946.6,327.525 2974.64,342.237 3001.64,359.62 \n",
       "  3027.44,379.623 3051.89,402.155 3074.85,427.093 3096.17,454.275 3115.73,483.503 3133.4,514.546 3149.05,547.134 3162.56,580.963 3173.83,615.691 3182.78,650.978 \n",
       "  3189.44,686.615 3193.82,722.375 3195.92,758.053 3195.73,793.474 3193.27,828.494 3188.57,862.999 3181.65,896.908 3172.57,930.166 3161.36,962.752 3148.08,994.673 \n",
       "  3132.8,1025.95 3115.54,1056.53 3096.34,1086.49 3075.22,1115.86 3052.23,1144.66 3027.4,1172.88 3000.77,1200.47 2972.4,1227.37 2942.34,1253.51 2910.64,1278.75 \n",
       "  2877.35,1302.96 2842.54,1325.97 2806.22,1347.77 2768.47,1368.09 2729.46,1386.33 2689.4,1401.94 2648.49,1414.42 2606.96,1423.35 2565.03,1428.35 2522.95,1429.12 \n",
       "  2480.99,1425.41 2439.41,1417.02 2398.5,1403.83 2358.55,1385.78 2319.88,1362.84 2282.81,1335.08 2247.67,1302.61 2214.77,1265.75 2184.35,1225.39 2156.58,1182.43 \n",
       "  2131.62,1137.7 2109.58,1091.96 2090.5,1045.89 2074.41,1000.09 2061.27,955.109 2051.02,911.406 2043.53,869.374 2038.65,829.333 2036.22,791.462 2036.16,755.742 \n",
       "  2038.32,722.125 2042.57,690.547 2048.78,660.927 2056.84,633.17 2066.63,607.163 2078.04,582.777 2090.98,559.867 2105.35,538.272 2121.07,517.814 2138.06,498.339 \n",
       "  2156.27,479.755 2175.65,461.932 2196.17,444.755 2217.77,428.124 2240.42,411.954 2264.1,396.178 2288.77,380.74 2314.41,365.605 2341.01,350.749 2368.55,336.166 \n",
       "  2397.02,321.864 2426.41,307.863 2456.68,294.184 2487.83,280.892 2519.82,268.076 2552.63,255.843 2586.2,244.325 2620.5,233.671 2655.44,224.054 2690.96,215.666 \n",
       "  2726.95,208.723 2763.33,203.46 2799.97,200.133 2836.76,199.019 2873.56,200.408 2910.17,204.459 2946.38,211.383 2982.01,221.369 3016.86,234.544 3050.74,250.967 \n",
       "  3083.48,270.633 3114.89,293.474 3144.79,319.354 3173.02,348.074 3199.39,379.368 3223.76,412.907 3245.94,448.296 3265.78,485.075 \n",
       "  \"/>\n",
       "<polyline clip-path=\"url(#clip493)\" style=\"stroke:#ac8d18; stroke-linecap:butt; stroke-linejoin:round; stroke-width:4; stroke-opacity:1; fill:none\" points=\"\n",
       "  3265.78,485.075 3283.12,522.72 3297.94,560.766 3310.32,598.858 3320.27,636.621 3327.83,673.738 3333.03,709.943 3335.93,745.025 3336.6,778.828 3335.12,811.248 \n",
       "  3331.6,842.238 3326.13,871.802 3318.83,899.975 3309.78,926.734 3299.05,952.143 3286.73,976.276 3272.89,999.201 3257.62,1020.98 3240.99,1041.68 3223.06,1061.35 \n",
       "  3203.9,1080.04 3183.57,1097.79 3162.13,1114.66 3139.63,1130.68 3116.13,1145.89 3091.67,1160.28 3066.31,1173.81 3040.09,1186.43 3013.09,1198.09 2985.37,1208.72 \n",
       "  2956.99,1218.24 2928.06,1226.57 2898.64,1233.59 2868.82,1239.2 2838.72,1243.28 2808.42,1245.7 2778.04,1246.31 2747.68,1244.97 2717.48,1241.5 2687.56,1235.74 \n",
       "  2658.05,1227.54 2629.17,1216.88 2601.07,1203.7 2573.92,1188 2547.86,1169.8 2523.05,1149.14 2499.63,1126.13 2477.74,1100.88 2457.5,1073.56 2439.04,1044.37 \n",
       "  2422.49,1013.52 2407.95,981.296 2395.53,947.988 2385.33,913.924 2377.35,879.318 2371.59,844.388 2368.08,809.35 2366.8,774.391 2367.77,739.672 2370.97,705.328 \n",
       "  2376.37,671.466 2383.95,638.166 2393.66,605.482 2405.46,573.44 2419.28,542.038 2435.07,511.289 2452.81,481.224 2472.46,451.808 2493.98,423.024 2517.35,394.885 \n",
       "  2542.5,367.427 2569.4,340.716 2597.97,314.842 2628.17,289.921 2659.93,266.096 2693.17,243.536 2727.83,222.429 2763.88,202.764 2801.18,184.965 2839.54,169.603 \n",
       "  2878.75,157.186 2918.59,148.155 2958.83,142.884 2999.24,141.68 3039.57,144.785 3079.55,152.371 3118.93,164.547 3157.41,181.354 3194.71,202.766 3230.54,228.691 \n",
       "  3264.57,258.971 3296.5,293.379 3326.08,331.401 3353.15,372.175 3377.56,414.887 3399.19,458.797 3417.98,503.243 3433.88,547.635 3446.9,591.461 3457.1,634.284 \n",
       "  3464.55,675.74 3469.38,715.542 3471.77,753.478 3471.83,789.443 3469.64,823.471 3465.33,855.624 3459.01,885.978 3450.8,914.622 3440.8,941.655 3429.1,967.191 \n",
       "  3415.81,991.355 3400.99,1014.28 3384.74,1036.13 3367.13,1057.05 3348.2,1077.15 3328,1096.54 3306.57,1115.34 3283.94,1133.66 3260.14,1151.57 3235.21,1169.14 \n",
       "  3209.17,1186.42 3182.03,1203.44 3153.82,1220.21 3124.55,1236.73 3094.23,1252.97 3062.87,1268.9 3030.49,1284.46 2997.12,1299.59 2962.8,1314.14 2927.55,1327.93 \n",
       "  2891.44,1340.76 2854.54,1352.41 2816.94,1362.65 2778.73,1371.23 2740.04,1377.88 2701,1382.31 2661.76,1384.22 2622.51,1383.28 2583.41,1379.15 2544.67,1371.49 \n",
       "  2506.56,1360.17 2469.32,1345.11 2433.21,1326.27 2398.44,1303.73 2365.23,1277.59 2333.78,1248.08 2304.28,1215.47 2276.91,1180.15 2251.82,1142.56 2229.18,1103.23 \n",
       "  2209.11,1062.77 2191.73,1021.85 2177.04,980.935 2164.95,940.398 2155.43,900.631 2148.43,861.959 2143.87,824.637 2141.67,788.853 2141.73,754.728 2143.95,722.315 \n",
       "  2148.19,691.598 2154.32,662.531 2162.27,635.118 2171.93,609.269 2183.21,584.889 2196,561.887 2210.23,540.175 2225.82,519.666 2242.69,500.28 2260.77,481.938 \n",
       "  2279.99,464.564 2300.31,448.087 2321.65,432.453 2343.97,417.622 2367.23,403.558 2391.38,390.245 2416.36,377.677 2442.13,365.868 2468.64,354.847 2495.81,344.656 \n",
       "  2523.6,335.354 2551.94,327.018 2580.77,319.738 2610.01,313.619 2639.61,308.784 2669.49,305.37 2699.57,303.489 2729.72,303.242 2759.82,304.824 2789.75,308.406 \n",
       "  2819.36,314.125 2848.53,322.09 2877.12,332.379 2904.98,345.039 2931.96,360.086 2957.92,377.506 2982.7,397.255 3006.13,419.256 3028.07,443.407 3048.37,469.588 \n",
       "  3066.93,497.571 3083.65,527.106 3098.43,557.949 3111.2,589.866 3121.88,622.631 3130.44,656.024 3136.84,689.835 3141.05,723.862 3143.08,757.911 3142.92,791.797 \n",
       "  3140.6,825.339 3136.15,858.399 3129.61,890.938 3121,922.933 3110.34,954.357 3097.69,985.183 3083.06,1015.38 3066.5,1044.92 3048.06,1073.76 3027.79,1101.86 \n",
       "  3005.72,1129.2 2981.93,1155.73 2956.46,1181.41 2929.38,1206.19 2900.75,1230.03 2870.61,1252.83 2839.05,1274.35 2806.15,1294.35 2772.02,1312.58 2736.78,1328.76 \n",
       "  2700.58,1342.61 2663.58,1353.85 2625.96,1362.18 2587.92,1367.29 2549.66,1368.86 2511.42,1366.56 2473.46,1360.06 2436.06,1349.11 2399.55,1333.76 2364.19,1314.1 \n",
       "  2330.25,1290.28 2297.96,1262.55 2267.54,1231.21 2239.19,1196.64 2213.1,1159.29 2189.42,1119.7 2168.3,1078.47 2149.87,1036.26 2134.22,993.827 2121.37,951.72 \n",
       "  2111.19,910.233 2103.64,869.722 2098.65,830.471 2096.13,792.691 2095.99,756.525 2098.14,722.039 2102.46,689.233 2108.83,658.032 2117.15,628.349 2127.32,600.141 \n",
       "  2139.25,573.276 2152.88,547.623 2168.12,523.059 2184.9,499.464 2203.18,476.727 2222.88,454.737 2243.98,433.395 2266.43,412.603 2290.2,392.273 2315.24,372.376 \n",
       "  2341.55,352.835 2369.12,333.572 2397.95,314.544 2428.01,295.738 2459.29,277.179 2491.76,258.921 2525.38,241.054 2560.12,223.702 \n",
       "  \"/>\n",
       "</svg>\n"
      ]
     },
     "execution_count": 42,
     "metadata": {},
     "output_type": "execute_result"
    }
   ],
   "source": [
    "@time  solve_plot_forced(fvdp!,[1.0;1.0;0.0],[0.22,0.55,0.36],2*pi/0.36; tmax=100)"
   ]
  },
  {
   "cell_type": "code",
   "execution_count": 43,
   "id": "2b805f73",
   "metadata": {},
   "outputs": [
    {
     "data": {
      "application/vnd.webio.node+json": {
       "children": [
        {
         "children": [
          {
           "children": [
            {
             "children": [
              {
               "children": [
                {
                 "children": [
                  "μ"
                 ],
                 "instanceArgs": {
                  "namespace": "html",
                  "tag": "label"
                 },
                 "nodeType": "DOM",
                 "props": {
                  "className": "interact ",
                  "style": {
                   "padding": "5px 10px 0px 10px"
                  }
                 },
                 "type": "node"
                }
               ],
               "instanceArgs": {
                "namespace": "html",
                "tag": "div"
               },
               "nodeType": "DOM",
               "props": {
                "className": "interact-flex-row-left"
               },
               "type": "node"
              },
              {
               "children": [
                {
                 "children": [],
                 "instanceArgs": {
                  "namespace": "html",
                  "tag": "input"
                 },
                 "nodeType": "DOM",
                 "props": {
                  "attributes": {
                   "data-bind": "numericValue: index, valueUpdate: 'input', event: {change: function (){this.changes(this.changes()+1)}}",
                   "orient": "horizontal",
                   "type": "range"
                  },
                  "className": "slider slider is-fullwidth",
                  "max": 301,
                  "min": 1,
                  "step": 1,
                  "style": {}
                 },
                 "type": "node"
                }
               ],
               "instanceArgs": {
                "namespace": "html",
                "tag": "div"
               },
               "nodeType": "DOM",
               "props": {
                "className": "interact-flex-row-center"
               },
               "type": "node"
              },
              {
               "children": [
                {
                 "children": [],
                 "instanceArgs": {
                  "namespace": "html",
                  "tag": "p"
                 },
                 "nodeType": "DOM",
                 "props": {
                  "attributes": {
                   "data-bind": "text: formatted_val"
                  }
                 },
                 "type": "node"
                }
               ],
               "instanceArgs": {
                "namespace": "html",
                "tag": "div"
               },
               "nodeType": "DOM",
               "props": {
                "className": "interact-flex-row-right"
               },
               "type": "node"
              }
             ],
             "instanceArgs": {
              "namespace": "html",
              "tag": "div"
             },
             "nodeType": "DOM",
             "props": {
              "className": "interact-flex-row interact-widget"
             },
             "type": "node"
            }
           ],
           "instanceArgs": {
            "handlers": {
             "changes": [
              "(function (val){return (val!=this.model[\"changes\"]()) ? (this.valueFromJulia[\"changes\"]=true, this.model[\"changes\"](val)) : undefined})"
             ],
             "index": [
              "(function (val){return (val!=this.model[\"index\"]()) ? (this.valueFromJulia[\"index\"]=true, this.model[\"index\"](val)) : undefined})"
             ]
            },
            "id": "13888494177324787140",
            "imports": {
             "data": [
              {
               "name": "knockout",
               "type": "js",
               "url": "/assetserver/2712bb0a7395d062608c2f218a74b700f6c76b99-knockout.js"
              },
              {
               "name": "knockout_punches",
               "type": "js",
               "url": "/assetserver/fb4445501a2be4ab82176667f844e40da26fa007-knockout_punches.js"
              },
              {
               "name": null,
               "type": "js",
               "url": "/assetserver/a8ea7d9192d5fa85c6fac26c72d7fece1e500138-all.js"
              },
              {
               "name": null,
               "type": "css",
               "url": "/assetserver/620a53798cfdb29a4a2142ce0588e9aadc351d94-style.css"
              },
              {
               "name": null,
               "type": "css",
               "url": "/assetserver/9f2f17f677abbfd015a7c6b0c0f09a2da809bee2-bulma_confined.min.css"
              }
             ],
             "type": "async_block"
            },
            "mount_callbacks": [
             "function () {\n    var handler = (function (ko, koPunches) {\n    ko.punches.enableAll();\n    ko.bindingHandlers.numericValue = {\n        init: function(element, valueAccessor, allBindings, data, context) {\n            var stringified = ko.observable(ko.unwrap(valueAccessor()));\n            stringified.subscribe(function(value) {\n                var val = parseFloat(value);\n                if (!isNaN(val)) {\n                    valueAccessor()(val);\n                }\n            });\n            valueAccessor().subscribe(function(value) {\n                var str = JSON.stringify(value);\n                if ((str == \"0\") && ([\"-0\", \"-0.\"].indexOf(stringified()) >= 0))\n                     return;\n                 if ([\"null\", \"\"].indexOf(str) >= 0)\n                     return;\n                stringified(str);\n            });\n            ko.applyBindingsToNode(\n                element,\n                {\n                    value: stringified,\n                    valueUpdate: allBindings.get('valueUpdate'),\n                },\n                context,\n            );\n        }\n    };\n    var json_data = {\"formatted_vals\":[\"0.0\",\"0.01\",\"0.02\",\"0.03\",\"0.04\",\"0.05\",\"0.06\",\"0.07\",\"0.08\",\"0.09\",\"0.1\",\"0.11\",\"0.12\",\"0.13\",\"0.14\",\"0.15\",\"0.16\",\"0.17\",\"0.18\",\"0.19\",\"0.2\",\"0.21\",\"0.22\",\"0.23\",\"0.24\",\"0.25\",\"0.26\",\"0.27\",\"0.28\",\"0.29\",\"0.3\",\"0.31\",\"0.32\",\"0.33\",\"0.34\",\"0.35\",\"0.36\",\"0.37\",\"0.38\",\"0.39\",\"0.4\",\"0.41\",\"0.42\",\"0.43\",\"0.44\",\"0.45\",\"0.46\",\"0.47\",\"0.48\",\"0.49\",\"0.5\",\"0.51\",\"0.52\",\"0.53\",\"0.54\",\"0.55\",\"0.56\",\"0.57\",\"0.58\",\"0.59\",\"0.6\",\"0.61\",\"0.62\",\"0.63\",\"0.64\",\"0.65\",\"0.66\",\"0.67\",\"0.68\",\"0.69\",\"0.7\",\"0.71\",\"0.72\",\"0.73\",\"0.74\",\"0.75\",\"0.76\",\"0.77\",\"0.78\",\"0.79\",\"0.8\",\"0.81\",\"0.82\",\"0.83\",\"0.84\",\"0.85\",\"0.86\",\"0.87\",\"0.88\",\"0.89\",\"0.9\",\"0.91\",\"0.92\",\"0.93\",\"0.94\",\"0.95\",\"0.96\",\"0.97\",\"0.98\",\"0.99\",\"1.0\",\"1.01\",\"1.02\",\"1.03\",\"1.04\",\"1.05\",\"1.06\",\"1.07\",\"1.08\",\"1.09\",\"1.1\",\"1.11\",\"1.12\",\"1.13\",\"1.14\",\"1.15\",\"1.16\",\"1.17\",\"1.18\",\"1.19\",\"1.2\",\"1.21\",\"1.22\",\"1.23\",\"1.24\",\"1.25\",\"1.26\",\"1.27\",\"1.28\",\"1.29\",\"1.3\",\"1.31\",\"1.32\",\"1.33\",\"1.34\",\"1.35\",\"1.36\",\"1.37\",\"1.38\",\"1.39\",\"1.4\",\"1.41\",\"1.42\",\"1.43\",\"1.44\",\"1.45\",\"1.46\",\"1.47\",\"1.48\",\"1.49\",\"1.5\",\"1.51\",\"1.52\",\"1.53\",\"1.54\",\"1.55\",\"1.56\",\"1.57\",\"1.58\",\"1.59\",\"1.6\",\"1.61\",\"1.62\",\"1.63\",\"1.64\",\"1.65\",\"1.66\",\"1.67\",\"1.68\",\"1.69\",\"1.7\",\"1.71\",\"1.72\",\"1.73\",\"1.74\",\"1.75\",\"1.76\",\"1.77\",\"1.78\",\"1.79\",\"1.8\",\"1.81\",\"1.82\",\"1.83\",\"1.84\",\"1.85\",\"1.86\",\"1.87\",\"1.88\",\"1.89\",\"1.9\",\"1.91\",\"1.92\",\"1.93\",\"1.94\",\"1.95\",\"1.96\",\"1.97\",\"1.98\",\"1.99\",\"2.0\",\"2.01\",\"2.02\",\"2.03\",\"2.04\",\"2.05\",\"2.06\",\"2.07\",\"2.08\",\"2.09\",\"2.1\",\"2.11\",\"2.12\",\"2.13\",\"2.14\",\"2.15\",\"2.16\",\"2.17\",\"2.18\",\"2.19\",\"2.2\",\"2.21\",\"2.22\",\"2.23\",\"2.24\",\"2.25\",\"2.26\",\"2.27\",\"2.28\",\"2.29\",\"2.3\",\"2.31\",\"2.32\",\"2.33\",\"2.34\",\"2.35\",\"2.36\",\"2.37\",\"2.38\",\"2.39\",\"2.4\",\"2.41\",\"2.42\",\"2.43\",\"2.44\",\"2.45\",\"2.46\",\"2.47\",\"2.48\",\"2.49\",\"2.5\",\"2.51\",\"2.52\",\"2.53\",\"2.54\",\"2.55\",\"2.56\",\"2.57\",\"2.58\",\"2.59\",\"2.6\",\"2.61\",\"2.62\",\"2.63\",\"2.64\",\"2.65\",\"2.66\",\"2.67\",\"2.68\",\"2.69\",\"2.7\",\"2.71\",\"2.72\",\"2.73\",\"2.74\",\"2.75\",\"2.76\",\"2.77\",\"2.78\",\"2.79\",\"2.8\",\"2.81\",\"2.82\",\"2.83\",\"2.84\",\"2.85\",\"2.86\",\"2.87\",\"2.88\",\"2.89\",\"2.9\",\"2.91\",\"2.92\",\"2.93\",\"2.94\",\"2.95\",\"2.96\",\"2.97\",\"2.98\",\"2.99\",\"3.0\"],\"changes\":WebIO.getval({\"name\":\"changes\",\"scope\":\"13888494177324787140\",\"id\":\"9452695838165017632\",\"type\":\"observable\"}),\"index\":WebIO.getval({\"name\":\"index\",\"scope\":\"13888494177324787140\",\"id\":\"5806075212670491706\",\"type\":\"observable\"})};\n    var self = this;\n    function AppViewModel() {\n        for (var key in json_data) {\n            var el = json_data[key];\n            this[key] = Array.isArray(el) ? ko.observableArray(el) : ko.observable(el);\n        }\n        \n        [this[\"formatted_val\"]=ko.computed(    function(){\n        return this.formatted_vals()[parseInt(this.index())-(1)];\n    }\n,this)]\n        [this[\"changes\"].subscribe((function (val){!(this.valueFromJulia[\"changes\"]) ? (WebIO.setval({\"name\":\"changes\",\"scope\":\"13888494177324787140\",\"id\":\"9452695838165017632\",\"type\":\"observable\"},val)) : undefined; return this.valueFromJulia[\"changes\"]=false}),self),this[\"index\"].subscribe((function (val){!(this.valueFromJulia[\"index\"]) ? (WebIO.setval({\"name\":\"index\",\"scope\":\"13888494177324787140\",\"id\":\"5806075212670491706\",\"type\":\"observable\"},val)) : undefined; return this.valueFromJulia[\"index\"]=false}),self)]\n        \n    }\n    self.model = new AppViewModel();\n    self.valueFromJulia = {};\n    for (var key in json_data) {\n        self.valueFromJulia[key] = false;\n    }\n    ko.applyBindings(self.model, self.dom);\n}\n);\n    (WebIO.importBlock({\"data\":[{\"name\":\"knockout\",\"type\":\"js\",\"url\":\"/assetserver/2712bb0a7395d062608c2f218a74b700f6c76b99-knockout.js\"},{\"name\":\"knockout_punches\",\"type\":\"js\",\"url\":\"/assetserver/fb4445501a2be4ab82176667f844e40da26fa007-knockout_punches.js\"}],\"type\":\"async_block\"})).then((imports) => handler.apply(this, imports));\n}\n"
            ],
            "observables": {
             "changes": {
              "id": "9452695838165017632",
              "sync": false,
              "value": 0
             },
             "index": {
              "id": "5806075212670491706",
              "sync": true,
              "value": 151
             }
            },
            "systemjs_options": null
           },
           "nodeType": "Scope",
           "props": {},
           "type": "node"
          }
         ],
         "instanceArgs": {
          "namespace": "html",
          "tag": "div"
         },
         "nodeType": "DOM",
         "props": {
          "className": "field interact-widget"
         },
         "type": "node"
        },
        {
         "children": [
          {
           "children": [
            {
             "children": [
              {
               "children": [
                {
                 "children": [
                  "A"
                 ],
                 "instanceArgs": {
                  "namespace": "html",
                  "tag": "label"
                 },
                 "nodeType": "DOM",
                 "props": {
                  "className": "interact ",
                  "style": {
                   "padding": "5px 10px 0px 10px"
                  }
                 },
                 "type": "node"
                }
               ],
               "instanceArgs": {
                "namespace": "html",
                "tag": "div"
               },
               "nodeType": "DOM",
               "props": {
                "className": "interact-flex-row-left"
               },
               "type": "node"
              },
              {
               "children": [
                {
                 "children": [],
                 "instanceArgs": {
                  "namespace": "html",
                  "tag": "input"
                 },
                 "nodeType": "DOM",
                 "props": {
                  "attributes": {
                   "data-bind": "numericValue: index, valueUpdate: 'input', event: {change: function (){this.changes(this.changes()+1)}}",
                   "orient": "horizontal",
                   "type": "range"
                  },
                  "className": "slider slider is-fullwidth",
                  "max": 201,
                  "min": 1,
                  "step": 1,
                  "style": {}
                 },
                 "type": "node"
                }
               ],
               "instanceArgs": {
                "namespace": "html",
                "tag": "div"
               },
               "nodeType": "DOM",
               "props": {
                "className": "interact-flex-row-center"
               },
               "type": "node"
              },
              {
               "children": [
                {
                 "children": [],
                 "instanceArgs": {
                  "namespace": "html",
                  "tag": "p"
                 },
                 "nodeType": "DOM",
                 "props": {
                  "attributes": {
                   "data-bind": "text: formatted_val"
                  }
                 },
                 "type": "node"
                }
               ],
               "instanceArgs": {
                "namespace": "html",
                "tag": "div"
               },
               "nodeType": "DOM",
               "props": {
                "className": "interact-flex-row-right"
               },
               "type": "node"
              }
             ],
             "instanceArgs": {
              "namespace": "html",
              "tag": "div"
             },
             "nodeType": "DOM",
             "props": {
              "className": "interact-flex-row interact-widget"
             },
             "type": "node"
            }
           ],
           "instanceArgs": {
            "handlers": {
             "changes": [
              "(function (val){return (val!=this.model[\"changes\"]()) ? (this.valueFromJulia[\"changes\"]=true, this.model[\"changes\"](val)) : undefined})"
             ],
             "index": [
              "(function (val){return (val!=this.model[\"index\"]()) ? (this.valueFromJulia[\"index\"]=true, this.model[\"index\"](val)) : undefined})"
             ]
            },
            "id": "2419313914630837045",
            "imports": {
             "data": [
              {
               "name": "knockout",
               "type": "js",
               "url": "/assetserver/2712bb0a7395d062608c2f218a74b700f6c76b99-knockout.js"
              },
              {
               "name": "knockout_punches",
               "type": "js",
               "url": "/assetserver/fb4445501a2be4ab82176667f844e40da26fa007-knockout_punches.js"
              },
              {
               "name": null,
               "type": "js",
               "url": "/assetserver/a8ea7d9192d5fa85c6fac26c72d7fece1e500138-all.js"
              },
              {
               "name": null,
               "type": "css",
               "url": "/assetserver/620a53798cfdb29a4a2142ce0588e9aadc351d94-style.css"
              },
              {
               "name": null,
               "type": "css",
               "url": "/assetserver/9f2f17f677abbfd015a7c6b0c0f09a2da809bee2-bulma_confined.min.css"
              }
             ],
             "type": "async_block"
            },
            "mount_callbacks": [
             "function () {\n    var handler = (function (ko, koPunches) {\n    ko.punches.enableAll();\n    ko.bindingHandlers.numericValue = {\n        init: function(element, valueAccessor, allBindings, data, context) {\n            var stringified = ko.observable(ko.unwrap(valueAccessor()));\n            stringified.subscribe(function(value) {\n                var val = parseFloat(value);\n                if (!isNaN(val)) {\n                    valueAccessor()(val);\n                }\n            });\n            valueAccessor().subscribe(function(value) {\n                var str = JSON.stringify(value);\n                if ((str == \"0\") && ([\"-0\", \"-0.\"].indexOf(stringified()) >= 0))\n                     return;\n                 if ([\"null\", \"\"].indexOf(str) >= 0)\n                     return;\n                stringified(str);\n            });\n            ko.applyBindingsToNode(\n                element,\n                {\n                    value: stringified,\n                    valueUpdate: allBindings.get('valueUpdate'),\n                },\n                context,\n            );\n        }\n    };\n    var json_data = {\"formatted_vals\":[\"0.0\",\"0.01\",\"0.02\",\"0.03\",\"0.04\",\"0.05\",\"0.06\",\"0.07\",\"0.08\",\"0.09\",\"0.1\",\"0.11\",\"0.12\",\"0.13\",\"0.14\",\"0.15\",\"0.16\",\"0.17\",\"0.18\",\"0.19\",\"0.2\",\"0.21\",\"0.22\",\"0.23\",\"0.24\",\"0.25\",\"0.26\",\"0.27\",\"0.28\",\"0.29\",\"0.3\",\"0.31\",\"0.32\",\"0.33\",\"0.34\",\"0.35\",\"0.36\",\"0.37\",\"0.38\",\"0.39\",\"0.4\",\"0.41\",\"0.42\",\"0.43\",\"0.44\",\"0.45\",\"0.46\",\"0.47\",\"0.48\",\"0.49\",\"0.5\",\"0.51\",\"0.52\",\"0.53\",\"0.54\",\"0.55\",\"0.56\",\"0.57\",\"0.58\",\"0.59\",\"0.6\",\"0.61\",\"0.62\",\"0.63\",\"0.64\",\"0.65\",\"0.66\",\"0.67\",\"0.68\",\"0.69\",\"0.7\",\"0.71\",\"0.72\",\"0.73\",\"0.74\",\"0.75\",\"0.76\",\"0.77\",\"0.78\",\"0.79\",\"0.8\",\"0.81\",\"0.82\",\"0.83\",\"0.84\",\"0.85\",\"0.86\",\"0.87\",\"0.88\",\"0.89\",\"0.9\",\"0.91\",\"0.92\",\"0.93\",\"0.94\",\"0.95\",\"0.96\",\"0.97\",\"0.98\",\"0.99\",\"1.0\",\"1.01\",\"1.02\",\"1.03\",\"1.04\",\"1.05\",\"1.06\",\"1.07\",\"1.08\",\"1.09\",\"1.1\",\"1.11\",\"1.12\",\"1.13\",\"1.14\",\"1.15\",\"1.16\",\"1.17\",\"1.18\",\"1.19\",\"1.2\",\"1.21\",\"1.22\",\"1.23\",\"1.24\",\"1.25\",\"1.26\",\"1.27\",\"1.28\",\"1.29\",\"1.3\",\"1.31\",\"1.32\",\"1.33\",\"1.34\",\"1.35\",\"1.36\",\"1.37\",\"1.38\",\"1.39\",\"1.4\",\"1.41\",\"1.42\",\"1.43\",\"1.44\",\"1.45\",\"1.46\",\"1.47\",\"1.48\",\"1.49\",\"1.5\",\"1.51\",\"1.52\",\"1.53\",\"1.54\",\"1.55\",\"1.56\",\"1.57\",\"1.58\",\"1.59\",\"1.6\",\"1.61\",\"1.62\",\"1.63\",\"1.64\",\"1.65\",\"1.66\",\"1.67\",\"1.68\",\"1.69\",\"1.7\",\"1.71\",\"1.72\",\"1.73\",\"1.74\",\"1.75\",\"1.76\",\"1.77\",\"1.78\",\"1.79\",\"1.8\",\"1.81\",\"1.82\",\"1.83\",\"1.84\",\"1.85\",\"1.86\",\"1.87\",\"1.88\",\"1.89\",\"1.9\",\"1.91\",\"1.92\",\"1.93\",\"1.94\",\"1.95\",\"1.96\",\"1.97\",\"1.98\",\"1.99\",\"2.0\"],\"changes\":WebIO.getval({\"name\":\"changes\",\"scope\":\"2419313914630837045\",\"id\":\"5836328880711371560\",\"type\":\"observable\"}),\"index\":WebIO.getval({\"name\":\"index\",\"scope\":\"2419313914630837045\",\"id\":\"2613206927893695011\",\"type\":\"observable\"})};\n    var self = this;\n    function AppViewModel() {\n        for (var key in json_data) {\n            var el = json_data[key];\n            this[key] = Array.isArray(el) ? ko.observableArray(el) : ko.observable(el);\n        }\n        \n        [this[\"formatted_val\"]=ko.computed(    function(){\n        return this.formatted_vals()[parseInt(this.index())-(1)];\n    }\n,this)]\n        [this[\"changes\"].subscribe((function (val){!(this.valueFromJulia[\"changes\"]) ? (WebIO.setval({\"name\":\"changes\",\"scope\":\"2419313914630837045\",\"id\":\"5836328880711371560\",\"type\":\"observable\"},val)) : undefined; return this.valueFromJulia[\"changes\"]=false}),self),this[\"index\"].subscribe((function (val){!(this.valueFromJulia[\"index\"]) ? (WebIO.setval({\"name\":\"index\",\"scope\":\"2419313914630837045\",\"id\":\"2613206927893695011\",\"type\":\"observable\"},val)) : undefined; return this.valueFromJulia[\"index\"]=false}),self)]\n        \n    }\n    self.model = new AppViewModel();\n    self.valueFromJulia = {};\n    for (var key in json_data) {\n        self.valueFromJulia[key] = false;\n    }\n    ko.applyBindings(self.model, self.dom);\n}\n);\n    (WebIO.importBlock({\"data\":[{\"name\":\"knockout\",\"type\":\"js\",\"url\":\"/assetserver/2712bb0a7395d062608c2f218a74b700f6c76b99-knockout.js\"},{\"name\":\"knockout_punches\",\"type\":\"js\",\"url\":\"/assetserver/fb4445501a2be4ab82176667f844e40da26fa007-knockout_punches.js\"}],\"type\":\"async_block\"})).then((imports) => handler.apply(this, imports));\n}\n"
            ],
            "observables": {
             "changes": {
              "id": "5836328880711371560",
              "sync": false,
              "value": 0
             },
             "index": {
              "id": "2613206927893695011",
              "sync": true,
              "value": 101
             }
            },
            "systemjs_options": null
           },
           "nodeType": "Scope",
           "props": {},
           "type": "node"
          }
         ],
         "instanceArgs": {
          "namespace": "html",
          "tag": "div"
         },
         "nodeType": "DOM",
         "props": {
          "className": "field interact-widget"
         },
         "type": "node"
        },
        {
         "children": [
          {
           "children": [
            {
             "children": [
              {
               "children": [
                {
                 "children": [
                  "ω"
                 ],
                 "instanceArgs": {
                  "namespace": "html",
                  "tag": "label"
                 },
                 "nodeType": "DOM",
                 "props": {
                  "className": "interact ",
                  "style": {
                   "padding": "5px 10px 0px 10px"
                  }
                 },
                 "type": "node"
                }
               ],
               "instanceArgs": {
                "namespace": "html",
                "tag": "div"
               },
               "nodeType": "DOM",
               "props": {
                "className": "interact-flex-row-left"
               },
               "type": "node"
              },
              {
               "children": [
                {
                 "children": [],
                 "instanceArgs": {
                  "namespace": "html",
                  "tag": "input"
                 },
                 "nodeType": "DOM",
                 "props": {
                  "attributes": {
                   "data-bind": "numericValue: index, valueUpdate: 'input', event: {change: function (){this.changes(this.changes()+1)}}",
                   "orient": "horizontal",
                   "type": "range"
                  },
                  "className": "slider slider is-fullwidth",
                  "max": 201,
                  "min": 1,
                  "step": 1,
                  "style": {}
                 },
                 "type": "node"
                }
               ],
               "instanceArgs": {
                "namespace": "html",
                "tag": "div"
               },
               "nodeType": "DOM",
               "props": {
                "className": "interact-flex-row-center"
               },
               "type": "node"
              },
              {
               "children": [
                {
                 "children": [],
                 "instanceArgs": {
                  "namespace": "html",
                  "tag": "p"
                 },
                 "nodeType": "DOM",
                 "props": {
                  "attributes": {
                   "data-bind": "text: formatted_val"
                  }
                 },
                 "type": "node"
                }
               ],
               "instanceArgs": {
                "namespace": "html",
                "tag": "div"
               },
               "nodeType": "DOM",
               "props": {
                "className": "interact-flex-row-right"
               },
               "type": "node"
              }
             ],
             "instanceArgs": {
              "namespace": "html",
              "tag": "div"
             },
             "nodeType": "DOM",
             "props": {
              "className": "interact-flex-row interact-widget"
             },
             "type": "node"
            }
           ],
           "instanceArgs": {
            "handlers": {
             "changes": [
              "(function (val){return (val!=this.model[\"changes\"]()) ? (this.valueFromJulia[\"changes\"]=true, this.model[\"changes\"](val)) : undefined})"
             ],
             "index": [
              "(function (val){return (val!=this.model[\"index\"]()) ? (this.valueFromJulia[\"index\"]=true, this.model[\"index\"](val)) : undefined})"
             ]
            },
            "id": "13140446702345088630",
            "imports": {
             "data": [
              {
               "name": "knockout",
               "type": "js",
               "url": "/assetserver/2712bb0a7395d062608c2f218a74b700f6c76b99-knockout.js"
              },
              {
               "name": "knockout_punches",
               "type": "js",
               "url": "/assetserver/fb4445501a2be4ab82176667f844e40da26fa007-knockout_punches.js"
              },
              {
               "name": null,
               "type": "js",
               "url": "/assetserver/a8ea7d9192d5fa85c6fac26c72d7fece1e500138-all.js"
              },
              {
               "name": null,
               "type": "css",
               "url": "/assetserver/620a53798cfdb29a4a2142ce0588e9aadc351d94-style.css"
              },
              {
               "name": null,
               "type": "css",
               "url": "/assetserver/9f2f17f677abbfd015a7c6b0c0f09a2da809bee2-bulma_confined.min.css"
              }
             ],
             "type": "async_block"
            },
            "mount_callbacks": [
             "function () {\n    var handler = (function (ko, koPunches) {\n    ko.punches.enableAll();\n    ko.bindingHandlers.numericValue = {\n        init: function(element, valueAccessor, allBindings, data, context) {\n            var stringified = ko.observable(ko.unwrap(valueAccessor()));\n            stringified.subscribe(function(value) {\n                var val = parseFloat(value);\n                if (!isNaN(val)) {\n                    valueAccessor()(val);\n                }\n            });\n            valueAccessor().subscribe(function(value) {\n                var str = JSON.stringify(value);\n                if ((str == \"0\") && ([\"-0\", \"-0.\"].indexOf(stringified()) >= 0))\n                     return;\n                 if ([\"null\", \"\"].indexOf(str) >= 0)\n                     return;\n                stringified(str);\n            });\n            ko.applyBindingsToNode(\n                element,\n                {\n                    value: stringified,\n                    valueUpdate: allBindings.get('valueUpdate'),\n                },\n                context,\n            );\n        }\n    };\n    var json_data = {\"formatted_vals\":[\"0.0\",\"0.01\",\"0.02\",\"0.03\",\"0.04\",\"0.05\",\"0.06\",\"0.07\",\"0.08\",\"0.09\",\"0.1\",\"0.11\",\"0.12\",\"0.13\",\"0.14\",\"0.15\",\"0.16\",\"0.17\",\"0.18\",\"0.19\",\"0.2\",\"0.21\",\"0.22\",\"0.23\",\"0.24\",\"0.25\",\"0.26\",\"0.27\",\"0.28\",\"0.29\",\"0.3\",\"0.31\",\"0.32\",\"0.33\",\"0.34\",\"0.35\",\"0.36\",\"0.37\",\"0.38\",\"0.39\",\"0.4\",\"0.41\",\"0.42\",\"0.43\",\"0.44\",\"0.45\",\"0.46\",\"0.47\",\"0.48\",\"0.49\",\"0.5\",\"0.51\",\"0.52\",\"0.53\",\"0.54\",\"0.55\",\"0.56\",\"0.57\",\"0.58\",\"0.59\",\"0.6\",\"0.61\",\"0.62\",\"0.63\",\"0.64\",\"0.65\",\"0.66\",\"0.67\",\"0.68\",\"0.69\",\"0.7\",\"0.71\",\"0.72\",\"0.73\",\"0.74\",\"0.75\",\"0.76\",\"0.77\",\"0.78\",\"0.79\",\"0.8\",\"0.81\",\"0.82\",\"0.83\",\"0.84\",\"0.85\",\"0.86\",\"0.87\",\"0.88\",\"0.89\",\"0.9\",\"0.91\",\"0.92\",\"0.93\",\"0.94\",\"0.95\",\"0.96\",\"0.97\",\"0.98\",\"0.99\",\"1.0\",\"1.01\",\"1.02\",\"1.03\",\"1.04\",\"1.05\",\"1.06\",\"1.07\",\"1.08\",\"1.09\",\"1.1\",\"1.11\",\"1.12\",\"1.13\",\"1.14\",\"1.15\",\"1.16\",\"1.17\",\"1.18\",\"1.19\",\"1.2\",\"1.21\",\"1.22\",\"1.23\",\"1.24\",\"1.25\",\"1.26\",\"1.27\",\"1.28\",\"1.29\",\"1.3\",\"1.31\",\"1.32\",\"1.33\",\"1.34\",\"1.35\",\"1.36\",\"1.37\",\"1.38\",\"1.39\",\"1.4\",\"1.41\",\"1.42\",\"1.43\",\"1.44\",\"1.45\",\"1.46\",\"1.47\",\"1.48\",\"1.49\",\"1.5\",\"1.51\",\"1.52\",\"1.53\",\"1.54\",\"1.55\",\"1.56\",\"1.57\",\"1.58\",\"1.59\",\"1.6\",\"1.61\",\"1.62\",\"1.63\",\"1.64\",\"1.65\",\"1.66\",\"1.67\",\"1.68\",\"1.69\",\"1.7\",\"1.71\",\"1.72\",\"1.73\",\"1.74\",\"1.75\",\"1.76\",\"1.77\",\"1.78\",\"1.79\",\"1.8\",\"1.81\",\"1.82\",\"1.83\",\"1.84\",\"1.85\",\"1.86\",\"1.87\",\"1.88\",\"1.89\",\"1.9\",\"1.91\",\"1.92\",\"1.93\",\"1.94\",\"1.95\",\"1.96\",\"1.97\",\"1.98\",\"1.99\",\"2.0\"],\"changes\":WebIO.getval({\"name\":\"changes\",\"scope\":\"13140446702345088630\",\"id\":\"2899681470006960995\",\"type\":\"observable\"}),\"index\":WebIO.getval({\"name\":\"index\",\"scope\":\"13140446702345088630\",\"id\":\"17603253559442038303\",\"type\":\"observable\"})};\n    var self = this;\n    function AppViewModel() {\n        for (var key in json_data) {\n            var el = json_data[key];\n            this[key] = Array.isArray(el) ? ko.observableArray(el) : ko.observable(el);\n        }\n        \n        [this[\"formatted_val\"]=ko.computed(    function(){\n        return this.formatted_vals()[parseInt(this.index())-(1)];\n    }\n,this)]\n        [this[\"changes\"].subscribe((function (val){!(this.valueFromJulia[\"changes\"]) ? (WebIO.setval({\"name\":\"changes\",\"scope\":\"13140446702345088630\",\"id\":\"2899681470006960995\",\"type\":\"observable\"},val)) : undefined; return this.valueFromJulia[\"changes\"]=false}),self),this[\"index\"].subscribe((function (val){!(this.valueFromJulia[\"index\"]) ? (WebIO.setval({\"name\":\"index\",\"scope\":\"13140446702345088630\",\"id\":\"17603253559442038303\",\"type\":\"observable\"},val)) : undefined; return this.valueFromJulia[\"index\"]=false}),self)]\n        \n    }\n    self.model = new AppViewModel();\n    self.valueFromJulia = {};\n    for (var key in json_data) {\n        self.valueFromJulia[key] = false;\n    }\n    ko.applyBindings(self.model, self.dom);\n}\n);\n    (WebIO.importBlock({\"data\":[{\"name\":\"knockout\",\"type\":\"js\",\"url\":\"/assetserver/2712bb0a7395d062608c2f218a74b700f6c76b99-knockout.js\"},{\"name\":\"knockout_punches\",\"type\":\"js\",\"url\":\"/assetserver/fb4445501a2be4ab82176667f844e40da26fa007-knockout_punches.js\"}],\"type\":\"async_block\"})).then((imports) => handler.apply(this, imports));\n}\n"
            ],
            "observables": {
             "changes": {
              "id": "2899681470006960995",
              "sync": false,
              "value": 0
             },
             "index": {
              "id": "17603253559442038303",
              "sync": true,
              "value": 101
             }
            },
            "systemjs_options": null
           },
           "nodeType": "Scope",
           "props": {},
           "type": "node"
          }
         ],
         "instanceArgs": {
          "namespace": "html",
          "tag": "div"
         },
         "nodeType": "DOM",
         "props": {
          "className": "field interact-widget"
         },
         "type": "node"
        },
        {
         "children": [
          {
           "children": [
            {
             "children": [
              {
               "children": [
                {
                 "children": [
                  "tmax"
                 ],
                 "instanceArgs": {
                  "namespace": "html",
                  "tag": "label"
                 },
                 "nodeType": "DOM",
                 "props": {
                  "className": "interact ",
                  "style": {
                   "padding": "5px 10px 0px 10px"
                  }
                 },
                 "type": "node"
                }
               ],
               "instanceArgs": {
                "namespace": "html",
                "tag": "div"
               },
               "nodeType": "DOM",
               "props": {
                "className": "interact-flex-row-left"
               },
               "type": "node"
              },
              {
               "children": [
                {
                 "children": [],
                 "instanceArgs": {
                  "namespace": "html",
                  "tag": "input"
                 },
                 "nodeType": "DOM",
                 "props": {
                  "attributes": {
                   "data-bind": "numericValue: index, valueUpdate: 'input', event: {change: function (){this.changes(this.changes()+1)}}",
                   "orient": "horizontal",
                   "type": "range"
                  },
                  "className": "slider slider is-fullwidth",
                  "max": 200,
                  "min": 0,
                  "step": 1,
                  "style": {}
                 },
                 "type": "node"
                }
               ],
               "instanceArgs": {
                "namespace": "html",
                "tag": "div"
               },
               "nodeType": "DOM",
               "props": {
                "className": "interact-flex-row-center"
               },
               "type": "node"
              },
              {
               "children": [
                {
                 "children": [],
                 "instanceArgs": {
                  "namespace": "html",
                  "tag": "p"
                 },
                 "nodeType": "DOM",
                 "props": {
                  "attributes": {
                   "data-bind": "text: formatted_val"
                  }
                 },
                 "type": "node"
                }
               ],
               "instanceArgs": {
                "namespace": "html",
                "tag": "div"
               },
               "nodeType": "DOM",
               "props": {
                "className": "interact-flex-row-right"
               },
               "type": "node"
              }
             ],
             "instanceArgs": {
              "namespace": "html",
              "tag": "div"
             },
             "nodeType": "DOM",
             "props": {
              "className": "interact-flex-row interact-widget"
             },
             "type": "node"
            }
           ],
           "instanceArgs": {
            "handlers": {
             "changes": [
              "(function (val){return (val!=this.model[\"changes\"]()) ? (this.valueFromJulia[\"changes\"]=true, this.model[\"changes\"](val)) : undefined})"
             ],
             "index": [
              "(function (val){return (val!=this.model[\"index\"]()) ? (this.valueFromJulia[\"index\"]=true, this.model[\"index\"](val)) : undefined})"
             ]
            },
            "id": "11677190095257288595",
            "imports": {
             "data": [
              {
               "name": "knockout",
               "type": "js",
               "url": "/assetserver/2712bb0a7395d062608c2f218a74b700f6c76b99-knockout.js"
              },
              {
               "name": "knockout_punches",
               "type": "js",
               "url": "/assetserver/fb4445501a2be4ab82176667f844e40da26fa007-knockout_punches.js"
              },
              {
               "name": null,
               "type": "js",
               "url": "/assetserver/a8ea7d9192d5fa85c6fac26c72d7fece1e500138-all.js"
              },
              {
               "name": null,
               "type": "css",
               "url": "/assetserver/620a53798cfdb29a4a2142ce0588e9aadc351d94-style.css"
              },
              {
               "name": null,
               "type": "css",
               "url": "/assetserver/9f2f17f677abbfd015a7c6b0c0f09a2da809bee2-bulma_confined.min.css"
              }
             ],
             "type": "async_block"
            },
            "mount_callbacks": [
             "function () {\n    var handler = (function (ko, koPunches) {\n    ko.punches.enableAll();\n    ko.bindingHandlers.numericValue = {\n        init: function(element, valueAccessor, allBindings, data, context) {\n            var stringified = ko.observable(ko.unwrap(valueAccessor()));\n            stringified.subscribe(function(value) {\n                var val = parseFloat(value);\n                if (!isNaN(val)) {\n                    valueAccessor()(val);\n                }\n            });\n            valueAccessor().subscribe(function(value) {\n                var str = JSON.stringify(value);\n                if ((str == \"0\") && ([\"-0\", \"-0.\"].indexOf(stringified()) >= 0))\n                     return;\n                 if ([\"null\", \"\"].indexOf(str) >= 0)\n                     return;\n                stringified(str);\n            });\n            ko.applyBindingsToNode(\n                element,\n                {\n                    value: stringified,\n                    valueUpdate: allBindings.get('valueUpdate'),\n                },\n                context,\n            );\n        }\n    };\n    var json_data = {\"formatted_vals\":[\"0\",\"1\",\"2\",\"3\",\"4\",\"5\",\"6\",\"7\",\"8\",\"9\",\"10\",\"11\",\"12\",\"13\",\"14\",\"15\",\"16\",\"17\",\"18\",\"19\",\"20\",\"21\",\"22\",\"23\",\"24\",\"25\",\"26\",\"27\",\"28\",\"29\",\"30\",\"31\",\"32\",\"33\",\"34\",\"35\",\"36\",\"37\",\"38\",\"39\",\"40\",\"41\",\"42\",\"43\",\"44\",\"45\",\"46\",\"47\",\"48\",\"49\",\"50\",\"51\",\"52\",\"53\",\"54\",\"55\",\"56\",\"57\",\"58\",\"59\",\"60\",\"61\",\"62\",\"63\",\"64\",\"65\",\"66\",\"67\",\"68\",\"69\",\"70\",\"71\",\"72\",\"73\",\"74\",\"75\",\"76\",\"77\",\"78\",\"79\",\"80\",\"81\",\"82\",\"83\",\"84\",\"85\",\"86\",\"87\",\"88\",\"89\",\"90\",\"91\",\"92\",\"93\",\"94\",\"95\",\"96\",\"97\",\"98\",\"99\",\"100\",\"101\",\"102\",\"103\",\"104\",\"105\",\"106\",\"107\",\"108\",\"109\",\"110\",\"111\",\"112\",\"113\",\"114\",\"115\",\"116\",\"117\",\"118\",\"119\",\"120\",\"121\",\"122\",\"123\",\"124\",\"125\",\"126\",\"127\",\"128\",\"129\",\"130\",\"131\",\"132\",\"133\",\"134\",\"135\",\"136\",\"137\",\"138\",\"139\",\"140\",\"141\",\"142\",\"143\",\"144\",\"145\",\"146\",\"147\",\"148\",\"149\",\"150\",\"151\",\"152\",\"153\",\"154\",\"155\",\"156\",\"157\",\"158\",\"159\",\"160\",\"161\",\"162\",\"163\",\"164\",\"165\",\"166\",\"167\",\"168\",\"169\",\"170\",\"171\",\"172\",\"173\",\"174\",\"175\",\"176\",\"177\",\"178\",\"179\",\"180\",\"181\",\"182\",\"183\",\"184\",\"185\",\"186\",\"187\",\"188\",\"189\",\"190\",\"191\",\"192\",\"193\",\"194\",\"195\",\"196\",\"197\",\"198\",\"199\",\"200\"],\"changes\":WebIO.getval({\"name\":\"changes\",\"scope\":\"11677190095257288595\",\"id\":\"13637538984935582066\",\"type\":\"observable\"}),\"index\":WebIO.getval({\"name\":\"index\",\"scope\":\"11677190095257288595\",\"id\":\"2207746971838634866\",\"type\":\"observable\"})};\n    var self = this;\n    function AppViewModel() {\n        for (var key in json_data) {\n            var el = json_data[key];\n            this[key] = Array.isArray(el) ? ko.observableArray(el) : ko.observable(el);\n        }\n        \n        [this[\"formatted_val\"]=ko.computed(    function(){\n        return this.formatted_vals()[parseInt(this.index())-(0)];\n    }\n,this)]\n        [this[\"changes\"].subscribe((function (val){!(this.valueFromJulia[\"changes\"]) ? (WebIO.setval({\"name\":\"changes\",\"scope\":\"11677190095257288595\",\"id\":\"13637538984935582066\",\"type\":\"observable\"},val)) : undefined; return this.valueFromJulia[\"changes\"]=false}),self),this[\"index\"].subscribe((function (val){!(this.valueFromJulia[\"index\"]) ? (WebIO.setval({\"name\":\"index\",\"scope\":\"11677190095257288595\",\"id\":\"2207746971838634866\",\"type\":\"observable\"},val)) : undefined; return this.valueFromJulia[\"index\"]=false}),self)]\n        \n    }\n    self.model = new AppViewModel();\n    self.valueFromJulia = {};\n    for (var key in json_data) {\n        self.valueFromJulia[key] = false;\n    }\n    ko.applyBindings(self.model, self.dom);\n}\n);\n    (WebIO.importBlock({\"data\":[{\"name\":\"knockout\",\"type\":\"js\",\"url\":\"/assetserver/2712bb0a7395d062608c2f218a74b700f6c76b99-knockout.js\"},{\"name\":\"knockout_punches\",\"type\":\"js\",\"url\":\"/assetserver/fb4445501a2be4ab82176667f844e40da26fa007-knockout_punches.js\"}],\"type\":\"async_block\"})).then((imports) => handler.apply(this, imports));\n}\n"
            ],
            "observables": {
             "changes": {
              "id": "13637538984935582066",
              "sync": false,
              "value": 0
             },
             "index": {
              "id": "2207746971838634866",
              "sync": true,
              "value": 100
             }
            },
            "systemjs_options": null
           },
           "nodeType": "Scope",
           "props": {},
           "type": "node"
          }
         ],
         "instanceArgs": {
          "namespace": "html",
          "tag": "div"
         },
         "nodeType": "DOM",
         "props": {
          "className": "field interact-widget"
         },
         "type": "node"
        },
        {
         "children": [
          {
           "children": [],
           "instanceArgs": {
            "id": "18142787303972931885",
            "name": "obs-node"
           },
           "nodeType": "ObservableNode",
           "props": {},
           "type": "node"
          }
         ],
         "instanceArgs": {
          "handlers": {},
          "id": "11638437341558992194",
          "imports": {
           "data": [],
           "type": "async_block"
          },
          "mount_callbacks": [],
          "observables": {
           "obs-node": {
            "id": "18142787303972931885",
            "sync": false,
            "value": {
             "children": [
              {
               "children": [],
               "instanceArgs": {
                "namespace": "html",
                "tag": "div"
               },
               "nodeType": "DOM",
               "props": {
                "setInnerHtml": "<?xml version=\"1.0\" encoding=\"utf-8\"?>\n<svg xmlns=\"http://www.w3.org/2000/svg\" xmlns:xlink=\"http://www.w3.org/1999/xlink\" width=\"900\" height=\"400\" viewBox=\"0 0 3600 1600\">\n<defs>\n  <clipPath id=\"clip570\">\n    <rect x=\"0\" y=\"0\" width=\"3600\" height=\"1600\"/>\n  </clipPath>\n</defs>\n<path clip-path=\"url(#clip570)\" d=\"\nM0 1600 L3600 1600 L3600 0 L0 0  Z\n  \" fill=\"#ffffff\" fill-rule=\"evenodd\" fill-opacity=\"1\"/>\n<defs>\n  <clipPath id=\"clip571\">\n    <rect x=\"720\" y=\"0\" width=\"2521\" height=\"1600\"/>\n  </clipPath>\n</defs>\n<defs>\n  <clipPath id=\"clip572\">\n    <rect x=\"198\" y=\"47\" width=\"1574\" height=\"1452\"/>\n  </clipPath>\n</defs>\n<path clip-path=\"url(#clip572)\" d=\"\nM198.274 1412.27 L198.274 304.34 L774.041 47.2441 L1771.3 132.943 L1771.3 1240.87 L1195.53 1497.97 L198.274 1412.27  Z\n  \" fill=\"#ffffff\" fill-rule=\"evenodd\" fill-opacity=\"1\"/>\n<polyline clip-path=\"url(#clip572)\" style=\"stroke:#000000; stroke-linecap:butt; stroke-linejoin:round; stroke-width:2; stroke-opacity:0.1; fill:none\" points=\"\n  269.067,1418.35 844.834,1161.26 \n  \"/>\n<polyline clip-path=\"url(#clip572)\" style=\"stroke:#000000; stroke-linecap:butt; stroke-linejoin:round; stroke-width:2; stroke-opacity:0.1; fill:none\" points=\"\n  844.834,1161.26 844.834,53.3277 \n  \"/>\n<polyline clip-path=\"url(#clip572)\" style=\"stroke:#000000; stroke-linecap:butt; stroke-linejoin:round; stroke-width:2; stroke-opacity:0.1; fill:none\" points=\"\n  482.494,1436.69 1058.26,1179.6 \n  \"/>\n<polyline clip-path=\"url(#clip572)\" style=\"stroke:#000000; stroke-linecap:butt; stroke-linejoin:round; stroke-width:2; stroke-opacity:0.1; fill:none\" points=\"\n  1058.26,1179.6 1058.26,71.6683 \n  \"/>\n<polyline clip-path=\"url(#clip572)\" style=\"stroke:#000000; stroke-linecap:butt; stroke-linejoin:round; stroke-width:2; stroke-opacity:0.1; fill:none\" points=\"\n  695.92,1455.03 1271.69,1197.94 \n  \"/>\n<polyline clip-path=\"url(#clip572)\" style=\"stroke:#000000; stroke-linecap:butt; stroke-linejoin:round; stroke-width:2; stroke-opacity:0.1; fill:none\" points=\"\n  1271.69,1197.94 1271.69,90.009 \n  \"/>\n<polyline clip-path=\"url(#clip572)\" style=\"stroke:#000000; stroke-linecap:butt; stroke-linejoin:round; stroke-width:2; stroke-opacity:0.1; fill:none\" points=\"\n  909.347,1473.37 1485.11,1216.28 \n  \"/>\n<polyline clip-path=\"url(#clip572)\" style=\"stroke:#000000; stroke-linecap:butt; stroke-linejoin:round; stroke-width:2; stroke-opacity:0.1; fill:none\" points=\"\n  1485.11,1216.28 1485.11,108.35 \n  \"/>\n<polyline clip-path=\"url(#clip572)\" style=\"stroke:#000000; stroke-linecap:butt; stroke-linejoin:round; stroke-width:2; stroke-opacity:0.1; fill:none\" points=\"\n  1122.77,1491.72 1698.54,1234.62 \n  \"/>\n<polyline clip-path=\"url(#clip572)\" style=\"stroke:#000000; stroke-linecap:butt; stroke-linejoin:round; stroke-width:2; stroke-opacity:0.1; fill:none\" points=\"\n  1698.54,1234.62 1698.54,126.69 \n  \"/>\n<polyline clip-path=\"url(#clip570)\" style=\"stroke:#000000; stroke-linecap:butt; stroke-linejoin:round; stroke-width:4; stroke-opacity:1; fill:none\" points=\"\n  198.274,1412.27 1195.53,1497.97 \n  \"/>\n<polyline clip-path=\"url(#clip570)\" style=\"stroke:#000000; stroke-linecap:butt; stroke-linejoin:round; stroke-width:4; stroke-opacity:1; fill:none\" points=\"\n  774.041,47.2441 1771.3,132.943 \n  \"/>\n<polyline clip-path=\"url(#clip570)\" style=\"stroke:#000000; stroke-linecap:butt; stroke-linejoin:round; stroke-width:4; stroke-opacity:1; fill:none\" points=\"\n  269.067,1418.35 275.977,1415.27 \n  \"/>\n<polyline clip-path=\"url(#clip570)\" style=\"stroke:#000000; stroke-linecap:butt; stroke-linejoin:round; stroke-width:4; stroke-opacity:1; fill:none\" points=\"\n  482.494,1436.69 489.403,1433.61 \n  \"/>\n<polyline clip-path=\"url(#clip570)\" style=\"stroke:#000000; stroke-linecap:butt; stroke-linejoin:round; stroke-width:4; stroke-opacity:1; fill:none\" points=\"\n  695.92,1455.03 702.829,1451.95 \n  \"/>\n<polyline clip-path=\"url(#clip570)\" style=\"stroke:#000000; stroke-linecap:butt; stroke-linejoin:round; stroke-width:4; stroke-opacity:1; fill:none\" points=\"\n  909.347,1473.37 916.256,1470.29 \n  \"/>\n<polyline clip-path=\"url(#clip570)\" style=\"stroke:#000000; stroke-linecap:butt; stroke-linejoin:round; stroke-width:4; stroke-opacity:1; fill:none\" points=\"\n  1122.77,1491.72 1129.68,1488.63 \n  \"/>\n<path clip-path=\"url(#clip570)\" d=\"M205.253 1461.85 L234.929 1461.85 L234.929 1465.78 L205.253 1465.78 L205.253 1461.85 Z\" fill=\"#000000\" fill-rule=\"evenodd\" fill-opacity=\"1\" /><path clip-path=\"url(#clip570)\" d=\"M249.049 1474.74 L265.369 1474.74 L265.369 1478.67 L243.424 1478.67 L243.424 1474.74 Q246.086 1471.98 250.67 1467.35 Q255.276 1462.7 256.457 1461.36 Q258.702 1458.84 259.582 1457.1 Q260.484 1455.34 260.484 1453.65 Q260.484 1450.9 258.54 1449.16 Q256.619 1447.42 253.517 1447.42 Q251.318 1447.42 248.864 1448.19 Q246.434 1448.95 243.656 1450.5 L243.656 1445.78 Q246.48 1444.65 248.934 1444.07 Q251.387 1443.49 253.424 1443.49 Q258.795 1443.49 261.989 1446.17 Q265.183 1448.86 265.183 1453.35 Q265.183 1455.48 264.373 1457.4 Q263.586 1459.3 261.48 1461.89 Q260.901 1462.56 257.799 1465.78 Q254.697 1468.98 249.049 1474.74 Z\" fill=\"#000000\" fill-rule=\"evenodd\" fill-opacity=\"1\" /><path clip-path=\"url(#clip570)\" d=\"M418.309 1480.19 L447.985 1480.19 L447.985 1484.12 L418.309 1484.12 L418.309 1480.19 Z\" fill=\"#000000\" fill-rule=\"evenodd\" fill-opacity=\"1\" /><path clip-path=\"url(#clip570)\" d=\"M458.888 1493.08 L466.527 1493.08 L466.527 1466.71 L458.217 1468.38 L458.217 1464.12 L466.48 1462.45 L471.156 1462.45 L471.156 1493.08 L478.795 1493.08 L478.795 1497.01 L458.888 1497.01 L458.888 1493.08 Z\" fill=\"#000000\" fill-rule=\"evenodd\" fill-opacity=\"1\" /><path clip-path=\"url(#clip570)\" d=\"M680.277 1483.87 Q676.666 1483.87 674.837 1487.44 Q673.032 1490.98 673.032 1498.11 Q673.032 1505.22 674.837 1508.78 Q676.666 1512.32 680.277 1512.32 Q683.911 1512.32 685.717 1508.78 Q687.546 1505.22 687.546 1498.11 Q687.546 1490.98 685.717 1487.44 Q683.911 1483.87 680.277 1483.87 M680.277 1480.17 Q686.087 1480.17 689.143 1484.78 Q692.222 1489.36 692.222 1498.11 Q692.222 1506.84 689.143 1511.44 Q686.087 1516.03 680.277 1516.03 Q674.467 1516.03 671.388 1511.44 Q668.333 1506.84 668.333 1498.11 Q668.333 1489.36 671.388 1484.78 Q674.467 1480.17 680.277 1480.17 Z\" fill=\"#000000\" fill-rule=\"evenodd\" fill-opacity=\"1\" /><path clip-path=\"url(#clip570)\" d=\"M885.741 1529.76 L893.38 1529.76 L893.38 1503.4 L885.069 1505.06 L885.069 1500.8 L893.333 1499.14 L898.009 1499.14 L898.009 1529.76 L905.648 1529.76 L905.648 1533.7 L885.741 1533.7 L885.741 1529.76 Z\" fill=\"#000000\" fill-rule=\"evenodd\" fill-opacity=\"1\" /><path clip-path=\"url(#clip570)\" d=\"M1102.76 1548.1 L1119.07 1548.1 L1119.07 1552.04 L1097.13 1552.04 L1097.13 1548.1 Q1099.79 1545.35 1104.38 1540.72 Q1108.98 1536.06 1110.16 1534.72 Q1112.41 1532.2 1113.29 1530.46 Q1114.19 1528.7 1114.19 1527.01 Q1114.19 1524.26 1112.25 1522.52 Q1110.32 1520.79 1107.22 1520.79 Q1105.02 1520.79 1102.57 1521.55 Q1100.14 1522.31 1097.36 1523.87 L1097.36 1519.14 Q1100.19 1518.01 1102.64 1517.43 Q1105.09 1516.85 1107.13 1516.85 Q1112.5 1516.85 1115.69 1519.54 Q1118.89 1522.22 1118.89 1526.71 Q1118.89 1528.84 1118.08 1530.76 Q1117.29 1532.66 1115.19 1535.25 Q1114.61 1535.93 1111.51 1539.14 Q1108.4 1542.34 1102.76 1548.1 Z\" fill=\"#000000\" fill-rule=\"evenodd\" fill-opacity=\"1\" /><polyline clip-path=\"url(#clip572)\" style=\"stroke:#000000; stroke-linecap:butt; stroke-linejoin:round; stroke-width:2; stroke-opacity:0.1; fill:none\" points=\"\n  1218.29,1487.81 221.033,1402.11 \n  \"/>\n<polyline clip-path=\"url(#clip572)\" style=\"stroke:#000000; stroke-linecap:butt; stroke-linejoin:round; stroke-width:2; stroke-opacity:0.1; fill:none\" points=\"\n  221.033,1402.11 221.033,294.177 \n  \"/>\n<polyline clip-path=\"url(#clip572)\" style=\"stroke:#000000; stroke-linecap:butt; stroke-linejoin:round; stroke-width:2; stroke-opacity:0.1; fill:none\" points=\"\n  1350.63,1428.71 353.37,1343.01 \n  \"/>\n<polyline clip-path=\"url(#clip572)\" style=\"stroke:#000000; stroke-linecap:butt; stroke-linejoin:round; stroke-width:2; stroke-opacity:0.1; fill:none\" points=\"\n  353.37,1343.01 353.37,235.085 \n  \"/>\n<polyline clip-path=\"url(#clip572)\" style=\"stroke:#000000; stroke-linecap:butt; stroke-linejoin:round; stroke-width:2; stroke-opacity:0.1; fill:none\" points=\"\n  1482.96,1369.62 485.706,1283.92 \n  \"/>\n<polyline clip-path=\"url(#clip572)\" style=\"stroke:#000000; stroke-linecap:butt; stroke-linejoin:round; stroke-width:2; stroke-opacity:0.1; fill:none\" points=\"\n  485.706,1283.92 485.706,175.993 \n  \"/>\n<polyline clip-path=\"url(#clip572)\" style=\"stroke:#000000; stroke-linecap:butt; stroke-linejoin:round; stroke-width:2; stroke-opacity:0.1; fill:none\" points=\"\n  1615.3,1310.53 618.043,1224.83 \n  \"/>\n<polyline clip-path=\"url(#clip572)\" style=\"stroke:#000000; stroke-linecap:butt; stroke-linejoin:round; stroke-width:2; stroke-opacity:0.1; fill:none\" points=\"\n  618.043,1224.83 618.043,116.901 \n  \"/>\n<polyline clip-path=\"url(#clip572)\" style=\"stroke:#000000; stroke-linecap:butt; stroke-linejoin:round; stroke-width:2; stroke-opacity:0.1; fill:none\" points=\"\n  1747.64,1251.44 750.38,1165.74 \n  \"/>\n<polyline clip-path=\"url(#clip572)\" style=\"stroke:#000000; stroke-linecap:butt; stroke-linejoin:round; stroke-width:2; stroke-opacity:0.1; fill:none\" points=\"\n  750.38,1165.74 750.38,57.8093 \n  \"/>\n<polyline clip-path=\"url(#clip570)\" style=\"stroke:#000000; stroke-linecap:butt; stroke-linejoin:round; stroke-width:4; stroke-opacity:1; fill:none\" points=\"\n  1195.53,1497.97 1771.3,1240.87 \n  \"/>\n<polyline clip-path=\"url(#clip570)\" style=\"stroke:#000000; stroke-linecap:butt; stroke-linejoin:round; stroke-width:4; stroke-opacity:1; fill:none\" points=\"\n  198.274,304.34 774.041,47.2441 \n  \"/>\n<polyline clip-path=\"url(#clip570)\" style=\"stroke:#000000; stroke-linecap:butt; stroke-linejoin:round; stroke-width:4; stroke-opacity:1; fill:none\" points=\"\n  1218.29,1487.81 1206.32,1486.78 \n  \"/>\n<polyline clip-path=\"url(#clip570)\" style=\"stroke:#000000; stroke-linecap:butt; stroke-linejoin:round; stroke-width:4; stroke-opacity:1; fill:none\" points=\"\n  1350.63,1428.71 1338.66,1427.68 \n  \"/>\n<polyline clip-path=\"url(#clip570)\" style=\"stroke:#000000; stroke-linecap:butt; stroke-linejoin:round; stroke-width:4; stroke-opacity:1; fill:none\" points=\"\n  1482.96,1369.62 1471,1368.59 \n  \"/>\n<polyline clip-path=\"url(#clip570)\" style=\"stroke:#000000; stroke-linecap:butt; stroke-linejoin:round; stroke-width:4; stroke-opacity:1; fill:none\" points=\"\n  1615.3,1310.53 1603.33,1309.5 \n  \"/>\n<polyline clip-path=\"url(#clip570)\" style=\"stroke:#000000; stroke-linecap:butt; stroke-linejoin:round; stroke-width:4; stroke-opacity:1; fill:none\" points=\"\n  1747.64,1251.44 1735.67,1250.41 \n  \"/>\n<path clip-path=\"url(#clip570)\" d=\"M1235.9 1527.7 L1265.58 1527.7 L1265.58 1531.64 L1235.9 1531.64 L1235.9 1527.7 Z\" fill=\"#000000\" fill-rule=\"evenodd\" fill-opacity=\"1\" /><path clip-path=\"url(#clip570)\" d=\"M1288.52 1514.05 L1276.71 1532.49 L1288.52 1532.49 L1288.52 1514.05 M1287.29 1509.97 L1293.17 1509.97 L1293.17 1532.49 L1298.1 1532.49 L1298.1 1536.38 L1293.17 1536.38 L1293.17 1544.53 L1288.52 1544.53 L1288.52 1536.38 L1272.92 1536.38 L1272.92 1531.87 L1287.29 1509.97 Z\" fill=\"#000000\" fill-rule=\"evenodd\" fill-opacity=\"1\" /><path clip-path=\"url(#clip570)\" d=\"M1368.24 1468.61 L1397.92 1468.61 L1397.92 1472.55 L1368.24 1472.55 L1368.24 1468.61 Z\" fill=\"#000000\" fill-rule=\"evenodd\" fill-opacity=\"1\" /><path clip-path=\"url(#clip570)\" d=\"M1412.04 1481.5 L1428.36 1481.5 L1428.36 1485.44 L1406.41 1485.44 L1406.41 1481.5 Q1409.07 1478.75 1413.66 1474.12 Q1418.26 1469.47 1419.44 1468.12 Q1421.69 1465.6 1422.57 1463.87 Q1423.47 1462.11 1423.47 1460.42 Q1423.47 1457.66 1421.53 1455.93 Q1419.61 1454.19 1416.5 1454.19 Q1414.31 1454.19 1411.85 1454.95 Q1409.42 1455.72 1406.64 1457.27 L1406.64 1452.55 Q1409.47 1451.41 1411.92 1450.83 Q1414.37 1450.25 1416.41 1450.25 Q1421.78 1450.25 1424.98 1452.94 Q1428.17 1455.62 1428.17 1460.12 Q1428.17 1462.25 1427.36 1464.17 Q1426.57 1466.06 1424.47 1468.66 Q1423.89 1469.33 1420.79 1472.55 Q1417.68 1475.74 1412.04 1481.5 Z\" fill=\"#000000\" fill-rule=\"evenodd\" fill-opacity=\"1\" /><path clip-path=\"url(#clip570)\" d=\"M1512.52 1394.87 Q1508.91 1394.87 1507.08 1398.43 Q1505.28 1401.97 1505.28 1409.1 Q1505.28 1416.21 1507.08 1419.77 Q1508.91 1423.31 1512.52 1423.31 Q1516.16 1423.31 1517.96 1419.77 Q1519.79 1416.21 1519.79 1409.1 Q1519.79 1401.97 1517.96 1398.43 Q1516.16 1394.87 1512.52 1394.87 M1512.52 1391.16 Q1518.33 1391.16 1521.39 1395.77 Q1524.47 1400.35 1524.47 1409.1 Q1524.47 1417.83 1521.39 1422.44 Q1518.33 1427.02 1512.52 1427.02 Q1506.71 1427.02 1503.63 1422.44 Q1500.58 1417.83 1500.58 1409.1 Q1500.58 1400.35 1503.63 1395.77 Q1506.71 1391.16 1512.52 1391.16 Z\" fill=\"#000000\" fill-rule=\"evenodd\" fill-opacity=\"1\" /><path clip-path=\"url(#clip570)\" d=\"M1638.54 1363.32 L1654.86 1363.32 L1654.86 1367.26 L1632.91 1367.26 L1632.91 1363.32 Q1635.58 1360.57 1640.16 1355.94 Q1644.77 1351.28 1645.95 1349.94 Q1648.19 1347.42 1649.07 1345.68 Q1649.97 1343.92 1649.97 1342.23 Q1649.97 1339.48 1648.03 1337.74 Q1646.11 1336.01 1643.01 1336.01 Q1640.81 1336.01 1638.35 1336.77 Q1635.92 1337.53 1633.15 1339.08 L1633.15 1334.36 Q1635.97 1333.23 1638.42 1332.65 Q1640.88 1332.07 1642.91 1332.07 Q1648.28 1332.07 1651.48 1334.76 Q1654.67 1337.44 1654.67 1341.93 Q1654.67 1344.06 1653.86 1345.98 Q1653.08 1347.88 1650.97 1350.47 Q1650.39 1351.14 1647.29 1354.36 Q1644.19 1357.56 1638.54 1363.32 Z\" fill=\"#000000\" fill-rule=\"evenodd\" fill-opacity=\"1\" /><path clip-path=\"url(#clip570)\" d=\"M1780.85 1277.68 L1769.05 1296.13 L1780.85 1296.13 L1780.85 1277.68 M1779.63 1273.6 L1785.51 1273.6 L1785.51 1296.13 L1790.44 1296.13 L1790.44 1300.02 L1785.51 1300.02 L1785.51 1308.16 L1780.85 1308.16 L1780.85 1300.02 L1765.25 1300.02 L1765.25 1295.5 L1779.63 1273.6 Z\" fill=\"#000000\" fill-rule=\"evenodd\" fill-opacity=\"1\" /><polyline clip-path=\"url(#clip572)\" style=\"stroke:#000000; stroke-linecap:butt; stroke-linejoin:round; stroke-width:2; stroke-opacity:0.1; fill:none\" points=\"\n  198.274,1380.91 774.041,1123.82 \n  \"/>\n<polyline clip-path=\"url(#clip572)\" style=\"stroke:#000000; stroke-linecap:butt; stroke-linejoin:round; stroke-width:2; stroke-opacity:0.1; fill:none\" points=\"\n  774.041,1123.82 1771.3,1209.52 \n  \"/>\n<polyline clip-path=\"url(#clip572)\" style=\"stroke:#000000; stroke-linecap:butt; stroke-linejoin:round; stroke-width:2; stroke-opacity:0.1; fill:none\" points=\"\n  198.274,1119.61 774.041,862.513 \n  \"/>\n<polyline clip-path=\"url(#clip572)\" style=\"stroke:#000000; stroke-linecap:butt; stroke-linejoin:round; stroke-width:2; stroke-opacity:0.1; fill:none\" points=\"\n  774.041,862.513 1771.3,948.211 \n  \"/>\n<polyline clip-path=\"url(#clip572)\" style=\"stroke:#000000; stroke-linecap:butt; stroke-linejoin:round; stroke-width:2; stroke-opacity:0.1; fill:none\" points=\"\n  198.274,858.305 774.041,601.209 \n  \"/>\n<polyline clip-path=\"url(#clip572)\" style=\"stroke:#000000; stroke-linecap:butt; stroke-linejoin:round; stroke-width:2; stroke-opacity:0.1; fill:none\" points=\"\n  774.041,601.209 1771.3,686.907 \n  \"/>\n<polyline clip-path=\"url(#clip572)\" style=\"stroke:#000000; stroke-linecap:butt; stroke-linejoin:round; stroke-width:2; stroke-opacity:0.1; fill:none\" points=\"\n  198.274,597.001 774.041,339.905 \n  \"/>\n<polyline clip-path=\"url(#clip572)\" style=\"stroke:#000000; stroke-linecap:butt; stroke-linejoin:round; stroke-width:2; stroke-opacity:0.1; fill:none\" points=\"\n  774.041,339.905 1771.3,425.603 \n  \"/>\n<polyline clip-path=\"url(#clip572)\" style=\"stroke:#000000; stroke-linecap:butt; stroke-linejoin:round; stroke-width:2; stroke-opacity:0.1; fill:none\" points=\"\n  198.274,335.696 774.041,78.6006 \n  \"/>\n<polyline clip-path=\"url(#clip572)\" style=\"stroke:#000000; stroke-linecap:butt; stroke-linejoin:round; stroke-width:2; stroke-opacity:0.1; fill:none\" points=\"\n  774.041,78.6006 1771.3,164.299 \n  \"/>\n<polyline clip-path=\"url(#clip570)\" style=\"stroke:#000000; stroke-linecap:butt; stroke-linejoin:round; stroke-width:4; stroke-opacity:1; fill:none\" points=\"\n  198.274,1412.27 198.274,304.34 \n  \"/>\n<polyline clip-path=\"url(#clip570)\" style=\"stroke:#000000; stroke-linecap:butt; stroke-linejoin:round; stroke-width:4; stroke-opacity:1; fill:none\" points=\"\n  1771.3,1240.87 1771.3,132.943 \n  \"/>\n<polyline clip-path=\"url(#clip570)\" style=\"stroke:#000000; stroke-linecap:butt; stroke-linejoin:round; stroke-width:4; stroke-opacity:1; fill:none\" points=\"\n  198.274,1380.91 205.183,1377.83 \n  \"/>\n<polyline clip-path=\"url(#clip570)\" style=\"stroke:#000000; stroke-linecap:butt; stroke-linejoin:round; stroke-width:4; stroke-opacity:1; fill:none\" points=\"\n  198.274,1119.61 205.183,1116.52 \n  \"/>\n<polyline clip-path=\"url(#clip570)\" style=\"stroke:#000000; stroke-linecap:butt; stroke-linejoin:round; stroke-width:4; stroke-opacity:1; fill:none\" points=\"\n  198.274,858.305 205.183,855.219 \n  \"/>\n<polyline clip-path=\"url(#clip570)\" style=\"stroke:#000000; stroke-linecap:butt; stroke-linejoin:round; stroke-width:4; stroke-opacity:1; fill:none\" points=\"\n  198.274,597.001 205.183,593.915 \n  \"/>\n<polyline clip-path=\"url(#clip570)\" style=\"stroke:#000000; stroke-linecap:butt; stroke-linejoin:round; stroke-width:4; stroke-opacity:1; fill:none\" points=\"\n  198.274,335.696 205.183,332.611 \n  \"/>\n<path clip-path=\"url(#clip570)\" d=\"M67.7365 1366.71 Q64.1254 1366.71 62.2967 1370.28 Q60.4912 1373.82 60.4912 1380.95 Q60.4912 1388.05 62.2967 1391.62 Q64.1254 1395.16 67.7365 1395.16 Q71.3707 1395.16 73.1763 1391.62 Q75.005 1388.05 75.005 1380.95 Q75.005 1373.82 73.1763 1370.28 Q71.3707 1366.71 67.7365 1366.71 M67.7365 1363.01 Q73.5467 1363.01 76.6022 1367.61 Q79.6809 1372.2 79.6809 1380.95 Q79.6809 1389.67 76.6022 1394.28 Q73.5467 1398.86 67.7365 1398.86 Q61.9264 1398.86 58.8477 1394.28 Q55.7921 1389.67 55.7921 1380.95 Q55.7921 1372.2 58.8477 1367.61 Q61.9264 1363.01 67.7365 1363.01 Z\" fill=\"#000000\" fill-rule=\"evenodd\" fill-opacity=\"1\" /><path clip-path=\"url(#clip570)\" d=\"M87.8984 1392.31 L92.7827 1392.31 L92.7827 1398.19 L87.8984 1398.19 L87.8984 1392.31 Z\" fill=\"#000000\" fill-rule=\"evenodd\" fill-opacity=\"1\" /><path clip-path=\"url(#clip570)\" d=\"M112.968 1366.71 Q109.357 1366.71 107.528 1370.28 Q105.722 1373.82 105.722 1380.95 Q105.722 1388.05 107.528 1391.62 Q109.357 1395.16 112.968 1395.16 Q116.602 1395.16 118.408 1391.62 Q120.236 1388.05 120.236 1380.95 Q120.236 1373.82 118.408 1370.28 Q116.602 1366.71 112.968 1366.71 M112.968 1363.01 Q118.778 1363.01 121.833 1367.61 Q124.912 1372.2 124.912 1380.95 Q124.912 1389.67 121.833 1394.28 Q118.778 1398.86 112.968 1398.86 Q107.158 1398.86 104.079 1394.28 Q101.023 1389.67 101.023 1380.95 Q101.023 1372.2 104.079 1367.61 Q107.158 1363.01 112.968 1363.01 Z\" fill=\"#000000\" fill-rule=\"evenodd\" fill-opacity=\"1\" /><path clip-path=\"url(#clip570)\" d=\"M143.13 1366.71 Q139.519 1366.71 137.69 1370.28 Q135.884 1373.82 135.884 1380.95 Q135.884 1388.05 137.69 1391.62 Q139.519 1395.16 143.13 1395.16 Q146.764 1395.16 148.569 1391.62 Q150.398 1388.05 150.398 1380.95 Q150.398 1373.82 148.569 1370.28 Q146.764 1366.71 143.13 1366.71 M143.13 1363.01 Q148.94 1363.01 151.995 1367.61 Q155.074 1372.2 155.074 1380.95 Q155.074 1389.67 151.995 1394.28 Q148.94 1398.86 143.13 1398.86 Q137.319 1398.86 134.241 1394.28 Q131.185 1389.67 131.185 1380.95 Q131.185 1372.2 134.241 1367.61 Q137.319 1363.01 143.13 1363.01 Z\" fill=\"#000000\" fill-rule=\"evenodd\" fill-opacity=\"1\" /><path clip-path=\"url(#clip570)\" d=\"M68.7319 1105.41 Q65.1208 1105.41 63.2921 1108.97 Q61.4865 1112.51 61.4865 1119.64 Q61.4865 1126.75 63.2921 1130.31 Q65.1208 1133.86 68.7319 1133.86 Q72.3661 1133.86 74.1717 1130.31 Q76.0004 1126.75 76.0004 1119.64 Q76.0004 1112.51 74.1717 1108.97 Q72.3661 1105.41 68.7319 1105.41 M68.7319 1101.7 Q74.542 1101.7 77.5976 1106.31 Q80.6763 1110.89 80.6763 1119.64 Q80.6763 1128.37 77.5976 1132.98 Q74.542 1137.56 68.7319 1137.56 Q62.9217 1137.56 59.843 1132.98 Q56.7875 1128.37 56.7875 1119.64 Q56.7875 1110.89 59.843 1106.31 Q62.9217 1101.7 68.7319 1101.7 Z\" fill=\"#000000\" fill-rule=\"evenodd\" fill-opacity=\"1\" /><path clip-path=\"url(#clip570)\" d=\"M88.8938 1131.01 L93.778 1131.01 L93.778 1136.89 L88.8938 1136.89 L88.8938 1131.01 Z\" fill=\"#000000\" fill-rule=\"evenodd\" fill-opacity=\"1\" /><path clip-path=\"url(#clip570)\" d=\"M107.991 1132.95 L124.31 1132.95 L124.31 1136.89 L102.366 1136.89 L102.366 1132.95 Q105.028 1130.2 109.611 1125.57 Q114.218 1120.92 115.398 1119.57 Q117.644 1117.05 118.523 1115.31 Q119.426 1113.56 119.426 1111.87 Q119.426 1109.11 117.482 1107.37 Q115.56 1105.64 112.458 1105.64 Q110.259 1105.64 107.806 1106.4 Q105.375 1107.17 102.597 1108.72 L102.597 1104 Q105.421 1102.86 107.875 1102.28 Q110.329 1101.7 112.366 1101.7 Q117.736 1101.7 120.931 1104.39 Q124.125 1107.07 124.125 1111.56 Q124.125 1113.69 123.315 1115.62 Q122.528 1117.51 120.421 1120.11 Q119.843 1120.78 116.741 1124 Q113.639 1127.19 107.991 1132.95 Z\" fill=\"#000000\" fill-rule=\"evenodd\" fill-opacity=\"1\" /><path clip-path=\"url(#clip570)\" d=\"M134.171 1102.33 L152.528 1102.33 L152.528 1106.26 L138.454 1106.26 L138.454 1114.74 Q139.472 1114.39 140.491 1114.23 Q141.509 1114.04 142.528 1114.04 Q148.315 1114.04 151.694 1117.21 Q155.074 1120.38 155.074 1125.8 Q155.074 1131.38 151.602 1134.48 Q148.13 1137.56 141.81 1137.56 Q139.634 1137.56 137.366 1137.19 Q135.12 1136.82 132.713 1136.08 L132.713 1131.38 Q134.796 1132.51 137.019 1133.07 Q139.241 1133.62 141.718 1133.62 Q145.722 1133.62 148.06 1131.52 Q150.398 1129.41 150.398 1125.8 Q150.398 1122.19 148.06 1120.08 Q145.722 1117.98 141.718 1117.98 Q139.843 1117.98 137.968 1118.39 Q136.116 1118.81 134.171 1119.69 L134.171 1102.33 Z\" fill=\"#000000\" fill-rule=\"evenodd\" fill-opacity=\"1\" /><path clip-path=\"url(#clip570)\" d=\"M67.7365 844.103 Q64.1254 844.103 62.2967 847.668 Q60.4912 851.21 60.4912 858.339 Q60.4912 865.446 62.2967 869.011 Q64.1254 872.552 67.7365 872.552 Q71.3707 872.552 73.1763 869.011 Q75.005 865.446 75.005 858.339 Q75.005 851.21 73.1763 847.668 Q71.3707 844.103 67.7365 844.103 M67.7365 840.4 Q73.5467 840.4 76.6022 845.006 Q79.6809 849.589 79.6809 858.339 Q79.6809 867.066 76.6022 871.673 Q73.5467 876.256 67.7365 876.256 Q61.9264 876.256 58.8477 871.673 Q55.7921 867.066 55.7921 858.339 Q55.7921 849.589 58.8477 845.006 Q61.9264 840.4 67.7365 840.4 Z\" fill=\"#000000\" fill-rule=\"evenodd\" fill-opacity=\"1\" /><path clip-path=\"url(#clip570)\" d=\"M87.8984 869.705 L92.7827 869.705 L92.7827 875.585 L87.8984 875.585 L87.8984 869.705 Z\" fill=\"#000000\" fill-rule=\"evenodd\" fill-opacity=\"1\" /><path clip-path=\"url(#clip570)\" d=\"M103.014 841.025 L121.37 841.025 L121.37 844.96 L107.296 844.96 L107.296 853.432 Q108.315 853.085 109.334 852.923 Q110.352 852.738 111.371 852.738 Q117.158 852.738 120.537 855.909 Q123.917 859.08 123.917 864.497 Q123.917 870.075 120.445 873.177 Q116.972 876.256 110.653 876.256 Q108.477 876.256 106.209 875.886 Q103.963 875.515 101.556 874.774 L101.556 870.075 Q103.639 871.21 105.861 871.765 Q108.084 872.321 110.56 872.321 Q114.565 872.321 116.903 870.214 Q119.241 868.108 119.241 864.497 Q119.241 860.886 116.903 858.779 Q114.565 856.673 110.56 856.673 Q108.685 856.673 106.81 857.089 Q104.959 857.506 103.014 858.386 L103.014 841.025 Z\" fill=\"#000000\" fill-rule=\"evenodd\" fill-opacity=\"1\" /><path clip-path=\"url(#clip570)\" d=\"M143.13 844.103 Q139.519 844.103 137.69 847.668 Q135.884 851.21 135.884 858.339 Q135.884 865.446 137.69 869.011 Q139.519 872.552 143.13 872.552 Q146.764 872.552 148.569 869.011 Q150.398 865.446 150.398 858.339 Q150.398 851.21 148.569 847.668 Q146.764 844.103 143.13 844.103 M143.13 840.4 Q148.94 840.4 151.995 845.006 Q155.074 849.589 155.074 858.339 Q155.074 867.066 151.995 871.673 Q148.94 876.256 143.13 876.256 Q137.319 876.256 134.241 871.673 Q131.185 867.066 131.185 858.339 Q131.185 849.589 134.241 845.006 Q137.319 840.4 143.13 840.4 Z\" fill=\"#000000\" fill-rule=\"evenodd\" fill-opacity=\"1\" /><path clip-path=\"url(#clip570)\" d=\"M68.7319 582.799 Q65.1208 582.799 63.2921 586.364 Q61.4865 589.906 61.4865 597.035 Q61.4865 604.142 63.2921 607.706 Q65.1208 611.248 68.7319 611.248 Q72.3661 611.248 74.1717 607.706 Q76.0004 604.142 76.0004 597.035 Q76.0004 589.906 74.1717 586.364 Q72.3661 582.799 68.7319 582.799 M68.7319 579.096 Q74.542 579.096 77.5976 583.702 Q80.6763 588.285 80.6763 597.035 Q80.6763 605.762 77.5976 610.369 Q74.542 614.952 68.7319 614.952 Q62.9217 614.952 59.843 610.369 Q56.7875 605.762 56.7875 597.035 Q56.7875 588.285 59.843 583.702 Q62.9217 579.096 68.7319 579.096 Z\" fill=\"#000000\" fill-rule=\"evenodd\" fill-opacity=\"1\" /><path clip-path=\"url(#clip570)\" d=\"M88.8938 608.401 L93.778 608.401 L93.778 614.281 L88.8938 614.281 L88.8938 608.401 Z\" fill=\"#000000\" fill-rule=\"evenodd\" fill-opacity=\"1\" /><path clip-path=\"url(#clip570)\" d=\"M102.783 579.721 L125.005 579.721 L125.005 581.711 L112.458 614.281 L107.574 614.281 L119.38 583.656 L102.783 583.656 L102.783 579.721 Z\" fill=\"#000000\" fill-rule=\"evenodd\" fill-opacity=\"1\" /><path clip-path=\"url(#clip570)\" d=\"M134.171 579.721 L152.528 579.721 L152.528 583.656 L138.454 583.656 L138.454 592.128 Q139.472 591.781 140.491 591.619 Q141.509 591.433 142.528 591.433 Q148.315 591.433 151.694 594.605 Q155.074 597.776 155.074 603.193 Q155.074 608.771 151.602 611.873 Q148.13 614.952 141.81 614.952 Q139.634 614.952 137.366 614.581 Q135.12 614.211 132.713 613.47 L132.713 608.771 Q134.796 609.906 137.019 610.461 Q139.241 611.017 141.718 611.017 Q145.722 611.017 148.06 608.91 Q150.398 606.804 150.398 603.193 Q150.398 599.582 148.06 597.475 Q145.722 595.369 141.718 595.369 Q139.843 595.369 137.968 595.785 Q136.116 596.202 134.171 597.082 L134.171 579.721 Z\" fill=\"#000000\" fill-rule=\"evenodd\" fill-opacity=\"1\" /><path clip-path=\"url(#clip570)\" d=\"M58.5467 349.041 L66.1856 349.041 L66.1856 322.676 L57.8754 324.342 L57.8754 320.083 L66.1393 318.416 L70.8152 318.416 L70.8152 349.041 L78.454 349.041 L78.454 352.976 L58.5467 352.976 L58.5467 349.041 Z\" fill=\"#000000\" fill-rule=\"evenodd\" fill-opacity=\"1\" /><path clip-path=\"url(#clip570)\" d=\"M87.8984 347.097 L92.7827 347.097 L92.7827 352.976 L87.8984 352.976 L87.8984 347.097 Z\" fill=\"#000000\" fill-rule=\"evenodd\" fill-opacity=\"1\" /><path clip-path=\"url(#clip570)\" d=\"M112.968 321.495 Q109.357 321.495 107.528 325.06 Q105.722 328.602 105.722 335.731 Q105.722 342.838 107.528 346.402 Q109.357 349.944 112.968 349.944 Q116.602 349.944 118.408 346.402 Q120.236 342.838 120.236 335.731 Q120.236 328.602 118.408 325.06 Q116.602 321.495 112.968 321.495 M112.968 317.791 Q118.778 317.791 121.833 322.398 Q124.912 326.981 124.912 335.731 Q124.912 344.458 121.833 349.064 Q118.778 353.648 112.968 353.648 Q107.158 353.648 104.079 349.064 Q101.023 344.458 101.023 335.731 Q101.023 326.981 104.079 322.398 Q107.158 317.791 112.968 317.791 Z\" fill=\"#000000\" fill-rule=\"evenodd\" fill-opacity=\"1\" /><path clip-path=\"url(#clip570)\" d=\"M143.13 321.495 Q139.519 321.495 137.69 325.06 Q135.884 328.602 135.884 335.731 Q135.884 342.838 137.69 346.402 Q139.519 349.944 143.13 349.944 Q146.764 349.944 148.569 346.402 Q150.398 342.838 150.398 335.731 Q150.398 328.602 148.569 325.06 Q146.764 321.495 143.13 321.495 M143.13 317.791 Q148.94 317.791 151.995 322.398 Q155.074 326.981 155.074 335.731 Q155.074 344.458 151.995 349.064 Q148.94 353.648 143.13 353.648 Q137.319 353.648 134.241 349.064 Q131.185 344.458 131.185 335.731 Q131.185 326.981 134.241 322.398 Q137.319 317.791 143.13 317.791 Z\" fill=\"#000000\" fill-rule=\"evenodd\" fill-opacity=\"1\" /><polyline clip-path=\"url(#clip572)\" style=\"stroke:#00a8cb; stroke-linecap:butt; stroke-linejoin:round; stroke-width:4; stroke-opacity:1; fill:none\" points=\"\n  481.864,1274.28 495.607,1254.37 507.243,1237.24 517.29,1222.14 526.184,1208.5 534.343,1195.87 542.086,1183.94 549.638,1172.47 557.163,1161.32 564.774,1150.37 \n  572.555,1139.58 580.568,1128.87 588.861,1118.23 597.474,1107.62 606.445,1097.04 615.808,1086.47 625.599,1075.89 635.857,1065.31 646.623,1054.71 657.944,1044.09 \n  669.872,1033.44 682.468,1022.75 695.808,1012 709.973,1001.19 725.068,990.302 741.203,979.318 758.515,968.217 777.175,956.973 797.393,945.55 819.416,933.908 \n  843.513,921.999 870.049,909.754 899.51,897.096 932.42,883.949 969.34,870.238 1010.87,855.887 1057.64,840.826 1110.29,824.985 1169.07,808.435 1233.82,791.631 \n  1302.84,775.447 1372.59,761.178 1437.73,750.54 1491.52,745.476 1528.34,746.982 1545.81,754.559 1545.85,766.06 1534.16,778.037 1517.23,787.748 1500.11,793.605 \n  1484.96,795.383 1471.52,793.991 1460.05,789.948 1450.2,783.897 1441.46,776.461 1433.42,768.054 1425.77,758.992 1418.29,749.489 1410.83,739.688 1403.28,729.689 \n  1395.55,719.558 1387.58,709.338 1379.34,699.062 1370.78,688.75 1361.86,678.418 1352.56,668.077 1342.83,657.738 1332.64,647.406 1321.95,637.091 1310.71,626.799 \n  1298.88,616.538 1286.38,606.317 1273.16,596.145 1259.13,586.033 1244.2,575.997 1228.25,566.054 1211.14,556.226 1192.71,546.538 1172.76,537.025 1151.05,527.722 \n  1127.32,518.673 1101.21,509.937 1072.29,501.585 1040.07,493.702 1004.15,486.357 963.829,479.681 917.942,473.826 865.902,468.769 807.721,464.297 744.009,460.013 \n  675.974,455.335 605.958,449.243 539.916,439.647 484.231,424.757 444.308,403.51 424.241,375.684 422.165,343.601 432.236,310.735 448.685,279.756 466.047,252.443 \n  481.883,229.055 \n  \"/>\n<circle clip-path=\"url(#clip572)\" cx=\"481.883\" cy=\"229.055\" r=\"7\" fill=\"#00a8cb\" fill-rule=\"evenodd\" fill-opacity=\"1\" stroke=\"#000000\" stroke-opacity=\"1\" stroke-width=\"3.2\"/>\n<circle clip-path=\"url(#clip572)\" cx=\"481.864\" cy=\"1274.28\" r=\"7\" fill=\"#00a8cb\" fill-rule=\"evenodd\" fill-opacity=\"1\" stroke=\"#000000\" stroke-opacity=\"1\" stroke-width=\"3.2\"/>\n<polyline clip-path=\"url(#clip572)\" style=\"stroke:#9b7fe8; stroke-linecap:butt; stroke-linejoin:round; stroke-width:4; stroke-opacity:1; fill:none\" points=\"\n  481.883,1274.27 495.622,1254.36 507.256,1237.24 517.301,1222.13 526.193,1208.5 534.351,1195.87 542.094,1183.94 549.645,1172.47 557.17,1161.31 564.781,1150.37 \n  572.562,1139.58 580.575,1128.87 588.868,1118.23 597.482,1107.62 606.453,1097.04 615.816,1086.47 625.607,1075.89 635.865,1065.31 646.632,1054.71 657.953,1044.09 \n  669.881,1033.44 682.479,1022.75 695.819,1012 709.985,1001.19 725.081,990.302 741.217,979.318 758.529,968.217 777.19,956.972 797.41,945.549 819.434,933.907 \n  843.533,921.998 870.072,909.752 899.536,897.094 932.449,883.947 969.372,870.235 1010.9,855.885 1057.68,840.822 1110.34,824.98 1169.11,808.429 1233.88,791.626 \n  1302.9,775.442 1372.65,761.175 1437.78,750.541 1491.57,745.482 1528.37,746.992 1545.82,754.573 1545.86,766.077 1534.15,778.055 1517.21,787.767 1500.09,793.619 \n  1484.96,795.389 1471.53,793.995 1460.05,789.951 1450.2,783.9 1441.46,776.463 1433.42,768.055 1425.77,758.993 1418.3,749.49 1410.84,739.688 1403.28,729.69 \n  1395.55,719.558 1387.59,709.338 1379.35,699.062 1370.78,688.75 1361.87,678.418 1352.56,668.077 1342.83,657.738 1332.64,647.406 1321.96,637.091 1310.72,626.799 \n  1298.88,616.538 1286.38,606.317 1273.16,596.145 1259.14,586.033 1244.21,575.997 1228.26,566.054 1211.15,556.225 1192.72,546.537 1172.77,537.024 1151.07,527.721 \n  1127.34,518.672 1101.22,509.936 1072.31,501.584 1040.09,493.7 1004.17,486.355 963.854,479.678 917.972,473.823 865.936,468.766 807.756,464.294 744.044,460.011 \n  676.012,455.332 605.998,449.241 539.948,439.648 484.257,424.761 444.325,403.517 424.245,375.696 422.164,343.612 432.231,310.746 448.674,279.767 466.037,252.452 \n  481.874,229.061 \n  \"/>\n<circle clip-path=\"url(#clip572)\" cx=\"481.874\" cy=\"229.061\" r=\"7\" fill=\"#9b7fe8\" fill-rule=\"evenodd\" fill-opacity=\"1\" stroke=\"#000000\" stroke-opacity=\"1\" stroke-width=\"3.2\"/>\n<circle clip-path=\"url(#clip572)\" cx=\"481.883\" cy=\"1274.27\" r=\"7\" fill=\"#9b7fe8\" fill-rule=\"evenodd\" fill-opacity=\"1\" stroke=\"#000000\" stroke-opacity=\"1\" stroke-width=\"3.2\"/>\n<polyline clip-path=\"url(#clip572)\" style=\"stroke:#608cf6; stroke-linecap:butt; stroke-linejoin:round; stroke-width:4; stroke-opacity:1; fill:none\" points=\"\n  481.874,1274.28 495.614,1254.36 507.25,1237.24 517.295,1222.13 526.189,1208.5 534.347,1195.87 542.09,1183.94 549.641,1172.47 557.167,1161.31 564.777,1150.37 \n  572.558,1139.58 580.571,1128.87 588.864,1118.23 597.478,1107.62 606.449,1097.04 615.812,1086.47 625.603,1075.89 635.861,1065.31 646.627,1054.71 657.948,1044.09 \n  669.876,1033.44 682.473,1022.75 695.813,1012 709.978,1001.19 725.074,990.302 741.21,979.318 758.522,968.217 777.182,956.972 797.401,945.55 819.425,933.908 \n  843.522,921.998 870.059,909.753 899.522,897.095 932.434,883.948 969.356,870.236 1010.89,855.886 1057.66,840.824 1110.31,824.982 1169.09,808.432 1233.85,791.629 \n  1302.87,775.445 1372.62,761.177 1437.75,750.54 1491.54,745.479 1528.35,746.987 1545.82,754.566 1545.86,766.068 1534.16,778.046 1517.22,787.757 1500.1,793.611 \n  1484.96,795.386 1471.52,793.993 1460.05,789.95 1450.2,783.898 1441.46,776.462 1433.42,768.054 1425.77,758.993 1418.29,749.489 1410.83,739.688 1403.28,729.69 \n  1395.55,719.558 1387.59,709.338 1379.34,699.062 1370.78,688.75 1361.86,678.418 1352.56,668.077 1342.83,657.738 1332.64,647.406 1321.95,637.091 1310.72,626.799 \n  1298.88,616.538 1286.38,606.317 1273.16,596.145 1259.13,586.033 1244.21,575.997 1228.26,566.054 1211.15,556.226 1192.71,546.538 1172.76,537.025 1151.06,527.721 \n  1127.33,518.673 1101.21,509.937 1072.29,501.585 1040.08,493.702 1004.16,486.357 963.836,479.68 917.95,473.826 865.911,468.768 807.73,464.297 744.018,460.013 \n  675.984,455.335 605.968,449.243 539.924,439.647 484.238,424.758 444.312,403.512 424.242,375.687 422.165,343.604 432.235,310.738 448.682,279.759 466.045,252.446 \n  481.88,229.056 \n  \"/>\n<circle clip-path=\"url(#clip572)\" cx=\"481.88\" cy=\"229.056\" r=\"7\" fill=\"#608cf6\" fill-rule=\"evenodd\" fill-opacity=\"1\" stroke=\"#000000\" stroke-opacity=\"1\" stroke-width=\"3.2\"/>\n<circle clip-path=\"url(#clip572)\" cx=\"481.874\" cy=\"1274.28\" r=\"7\" fill=\"#608cf6\" fill-rule=\"evenodd\" fill-opacity=\"1\" stroke=\"#000000\" stroke-opacity=\"1\" stroke-width=\"3.2\"/>\n<polyline clip-path=\"url(#clip572)\" style=\"stroke:#f05f73; stroke-linecap:butt; stroke-linejoin:round; stroke-width:4; stroke-opacity:1; fill:none\" points=\"\n  481.88,1274.27 495.62,1254.36 507.254,1237.24 517.299,1222.13 526.192,1208.5 534.35,1195.87 542.093,1183.94 549.644,1172.47 557.169,1161.31 564.78,1150.37 \n  572.561,1139.58 580.574,1128.87 588.867,1118.23 597.481,1107.62 606.452,1097.04 615.815,1086.47 625.606,1075.89 635.864,1065.31 646.631,1054.71 657.952,1044.09 \n  669.88,1033.44 682.477,1022.75 695.817,1012 709.983,1001.19 725.079,990.302 741.215,979.318 758.527,968.217 777.188,956.972 797.408,945.549 819.432,933.907 \n  843.53,921.998 870.068,909.753 899.532,897.095 932.445,883.947 969.368,870.235 1010.9,855.885 1057.67,840.823 1110.33,824.98 1169.11,808.43 1233.87,791.627 \n  1302.89,775.443 1372.64,761.175 1437.77,750.541 1491.56,745.481 1528.36,746.991 1545.82,754.571 1545.86,766.074 1534.15,778.053 1517.21,787.764 1500.1,793.617 \n  1484.96,795.388 1471.53,793.994 1460.05,789.951 1450.2,783.899 1441.46,776.462 1433.42,768.055 1425.77,758.993 1418.3,749.49 1410.84,739.688 1403.28,729.69 \n  1395.55,719.558 1387.59,709.338 1379.34,699.062 1370.78,688.75 1361.87,678.418 1352.56,668.077 1342.83,657.738 1332.64,647.406 1321.95,637.091 1310.72,626.799 \n  1298.88,616.538 1286.38,606.317 1273.16,596.145 1259.14,586.033 1244.21,575.997 1228.26,566.054 1211.15,556.225 1192.72,546.538 1172.76,537.025 1151.06,527.721 \n  1127.33,518.672 1101.22,509.936 1072.3,501.585 1040.08,493.701 1004.17,486.356 963.848,479.679 917.964,473.824 865.927,468.767 807.747,464.295 744.034,460.012 \n  676.002,455.333 605.987,449.242 539.939,439.648 484.25,424.76 444.321,403.515 424.244,375.693 422.165,343.609 432.232,310.743 448.677,279.764 466.04,252.45 \n  481.876,229.059 \n  \"/>\n<circle clip-path=\"url(#clip572)\" cx=\"481.876\" cy=\"229.059\" r=\"7\" fill=\"#f05f73\" fill-rule=\"evenodd\" fill-opacity=\"1\" stroke=\"#000000\" stroke-opacity=\"1\" stroke-width=\"3.2\"/>\n<circle clip-path=\"url(#clip572)\" cx=\"481.88\" cy=\"1274.27\" r=\"7\" fill=\"#f05f73\" fill-rule=\"evenodd\" fill-opacity=\"1\" stroke=\"#000000\" stroke-opacity=\"1\" stroke-width=\"3.2\"/>\n<polyline clip-path=\"url(#clip572)\" style=\"stroke:#dd64b5; stroke-linecap:butt; stroke-linejoin:round; stroke-width:4; stroke-opacity:1; fill:none\" points=\"\n  481.876,1274.28 495.616,1254.36 507.251,1237.24 517.297,1222.13 526.19,1208.5 534.348,1195.87 542.091,1183.94 549.642,1172.47 557.168,1161.31 564.778,1150.37 \n  572.559,1139.58 580.572,1128.87 588.865,1118.23 597.479,1107.62 606.45,1097.04 615.813,1086.47 625.604,1075.89 635.862,1065.31 646.628,1054.71 657.95,1044.09 \n  669.878,1033.44 682.475,1022.75 695.814,1012 709.98,1001.19 725.076,990.302 741.212,979.318 758.524,968.217 777.184,956.972 797.403,945.55 819.427,933.908 \n  843.525,921.998 870.063,909.753 899.526,897.095 932.438,883.948 969.36,870.236 1010.89,855.886 1057.67,840.824 1110.32,824.982 1169.1,808.432 1233.86,791.628 \n  1302.88,775.444 1372.63,761.176 1437.76,750.54 1491.55,745.479 1528.36,746.989 1545.82,754.568 1545.86,766.07 1534.16,778.048 1517.22,787.759 1500.1,793.613 \n  1484.96,795.387 1471.52,793.993 1460.05,789.95 1450.2,783.899 1441.46,776.462 1433.42,768.054 1425.77,758.993 1418.29,749.489 1410.84,739.688 1403.28,729.69 \n  1395.55,719.558 1387.59,709.338 1379.34,699.062 1370.78,688.75 1361.86,678.418 1352.56,668.077 1342.83,657.738 1332.64,647.406 1321.95,637.091 1310.72,626.799 \n  1298.88,616.538 1286.38,606.317 1273.16,596.145 1259.13,586.033 1244.21,575.997 1228.26,566.054 1211.15,556.226 1192.72,546.538 1172.76,537.025 1151.06,527.721 \n  1127.33,518.673 1101.21,509.937 1072.3,501.585 1040.08,493.701 1004.16,486.357 963.84,479.679 917.955,473.825 865.916,468.768 807.736,464.296 744.023,460.013 \n  675.99,455.334 605.975,449.242 539.929,439.647 484.242,424.758 444.315,403.513 424.243,375.689 422.165,343.605 432.234,310.74 448.68,279.761 466.043,252.447 \n  481.879,229.057 \n  \"/>\n<circle clip-path=\"url(#clip572)\" cx=\"481.879\" cy=\"229.057\" r=\"7\" fill=\"#dd64b5\" fill-rule=\"evenodd\" fill-opacity=\"1\" stroke=\"#000000\" stroke-opacity=\"1\" stroke-width=\"3.2\"/>\n<circle clip-path=\"url(#clip572)\" cx=\"481.876\" cy=\"1274.28\" r=\"7\" fill=\"#dd64b5\" fill-rule=\"evenodd\" fill-opacity=\"1\" stroke=\"#000000\" stroke-opacity=\"1\" stroke-width=\"3.2\"/>\n<path clip-path=\"url(#clip570)\" d=\"\nM1979.73 1497.97 L3552.76 1497.97 L3552.76 47.2441 L1979.73 47.2441  Z\n  \" fill=\"#ffffff\" fill-rule=\"evenodd\" fill-opacity=\"1\"/>\n<defs>\n  <clipPath id=\"clip573\">\n    <rect x=\"1979\" y=\"47\" width=\"1574\" height=\"1452\"/>\n  </clipPath>\n</defs>\n<polyline clip-path=\"url(#clip573)\" style=\"stroke:#000000; stroke-linecap:butt; stroke-linejoin:round; stroke-width:2; stroke-opacity:0.1; fill:none\" points=\"\n  2091.4,1497.97 2091.4,47.2441 \n  \"/>\n<polyline clip-path=\"url(#clip573)\" style=\"stroke:#000000; stroke-linecap:butt; stroke-linejoin:round; stroke-width:2; stroke-opacity:0.1; fill:none\" points=\"\n  2428.05,1497.97 2428.05,47.2441 \n  \"/>\n<polyline clip-path=\"url(#clip573)\" style=\"stroke:#000000; stroke-linecap:butt; stroke-linejoin:round; stroke-width:2; stroke-opacity:0.1; fill:none\" points=\"\n  2764.69,1497.97 2764.69,47.2441 \n  \"/>\n<polyline clip-path=\"url(#clip573)\" style=\"stroke:#000000; stroke-linecap:butt; stroke-linejoin:round; stroke-width:2; stroke-opacity:0.1; fill:none\" points=\"\n  3101.34,1497.97 3101.34,47.2441 \n  \"/>\n<polyline clip-path=\"url(#clip573)\" style=\"stroke:#000000; stroke-linecap:butt; stroke-linejoin:round; stroke-width:2; stroke-opacity:0.1; fill:none\" points=\"\n  3437.99,1497.97 3437.99,47.2441 \n  \"/>\n<polyline clip-path=\"url(#clip570)\" style=\"stroke:#000000; stroke-linecap:butt; stroke-linejoin:round; stroke-width:4; stroke-opacity:1; fill:none\" points=\"\n  1979.73,1497.97 3552.76,1497.97 \n  \"/>\n<polyline clip-path=\"url(#clip570)\" style=\"stroke:#000000; stroke-linecap:butt; stroke-linejoin:round; stroke-width:4; stroke-opacity:1; fill:none\" points=\"\n  2091.4,1497.97 2091.4,1479.07 \n  \"/>\n<polyline clip-path=\"url(#clip570)\" style=\"stroke:#000000; stroke-linecap:butt; stroke-linejoin:round; stroke-width:4; stroke-opacity:1; fill:none\" points=\"\n  2428.05,1497.97 2428.05,1479.07 \n  \"/>\n<polyline clip-path=\"url(#clip570)\" style=\"stroke:#000000; stroke-linecap:butt; stroke-linejoin:round; stroke-width:4; stroke-opacity:1; fill:none\" points=\"\n  2764.69,1497.97 2764.69,1479.07 \n  \"/>\n<polyline clip-path=\"url(#clip570)\" style=\"stroke:#000000; stroke-linecap:butt; stroke-linejoin:round; stroke-width:4; stroke-opacity:1; fill:none\" points=\"\n  3101.34,1497.97 3101.34,1479.07 \n  \"/>\n<polyline clip-path=\"url(#clip570)\" style=\"stroke:#000000; stroke-linecap:butt; stroke-linejoin:round; stroke-width:4; stroke-opacity:1; fill:none\" points=\"\n  3437.99,1497.97 3437.99,1479.07 \n  \"/>\n<path clip-path=\"url(#clip570)\" d=\"M2061.34 1553.14 L2091.02 1553.14 L2091.02 1557.07 L2061.34 1557.07 L2061.34 1553.14 Z\" fill=\"#000000\" fill-rule=\"evenodd\" fill-opacity=\"1\" /><path clip-path=\"url(#clip570)\" d=\"M2105.14 1566.03 L2121.46 1566.03 L2121.46 1569.97 L2099.51 1569.97 L2099.51 1566.03 Q2102.17 1563.28 2106.76 1558.65 Q2111.36 1554 2112.54 1552.65 Q2114.79 1550.13 2115.67 1548.39 Q2116.57 1546.63 2116.57 1544.94 Q2116.57 1542.19 2114.63 1540.45 Q2112.71 1538.72 2109.6 1538.72 Q2107.41 1538.72 2104.95 1539.48 Q2102.52 1540.25 2099.74 1541.8 L2099.74 1537.07 Q2102.57 1535.94 2105.02 1535.36 Q2107.47 1534.78 2109.51 1534.78 Q2114.88 1534.78 2118.08 1537.47 Q2121.27 1540.15 2121.27 1544.64 Q2121.27 1546.77 2120.46 1548.69 Q2119.67 1550.59 2117.57 1553.19 Q2116.99 1553.86 2113.89 1557.07 Q2110.78 1560.27 2105.14 1566.03 Z\" fill=\"#000000\" fill-rule=\"evenodd\" fill-opacity=\"1\" /><path clip-path=\"url(#clip570)\" d=\"M2397.8 1553.14 L2427.48 1553.14 L2427.48 1557.07 L2397.8 1557.07 L2397.8 1553.14 Z\" fill=\"#000000\" fill-rule=\"evenodd\" fill-opacity=\"1\" /><path clip-path=\"url(#clip570)\" d=\"M2438.38 1566.03 L2446.02 1566.03 L2446.02 1539.67 L2437.71 1541.33 L2437.71 1537.07 L2445.97 1535.41 L2450.65 1535.41 L2450.65 1566.03 L2458.29 1566.03 L2458.29 1569.97 L2438.38 1569.97 L2438.38 1566.03 Z\" fill=\"#000000\" fill-rule=\"evenodd\" fill-opacity=\"1\" /><path clip-path=\"url(#clip570)\" d=\"M2764.69 1538.49 Q2761.08 1538.49 2759.26 1542.05 Q2757.45 1545.59 2757.45 1552.72 Q2757.45 1559.83 2759.26 1563.39 Q2761.08 1566.94 2764.69 1566.94 Q2768.33 1566.94 2770.13 1563.39 Q2771.96 1559.83 2771.96 1552.72 Q2771.96 1545.59 2770.13 1542.05 Q2768.33 1538.49 2764.69 1538.49 M2764.69 1534.78 Q2770.51 1534.78 2773.56 1539.39 Q2776.64 1543.97 2776.64 1552.72 Q2776.64 1561.45 2773.56 1566.06 Q2770.51 1570.64 2764.69 1570.64 Q2758.88 1570.64 2755.81 1566.06 Q2752.75 1561.45 2752.75 1552.72 Q2752.75 1543.97 2755.81 1539.39 Q2758.88 1534.78 2764.69 1534.78 Z\" fill=\"#000000\" fill-rule=\"evenodd\" fill-opacity=\"1\" /><path clip-path=\"url(#clip570)\" d=\"M3091.73 1566.03 L3099.36 1566.03 L3099.36 1539.67 L3091.05 1541.33 L3091.05 1537.07 L3099.32 1535.41 L3103.99 1535.41 L3103.99 1566.03 L3111.63 1566.03 L3111.63 1569.97 L3091.73 1569.97 L3091.73 1566.03 Z\" fill=\"#000000\" fill-rule=\"evenodd\" fill-opacity=\"1\" /><path clip-path=\"url(#clip570)\" d=\"M3432.64 1566.03 L3448.96 1566.03 L3448.96 1569.97 L3427.02 1569.97 L3427.02 1566.03 Q3429.68 1563.28 3434.26 1558.65 Q3438.87 1554 3440.05 1552.65 Q3442.3 1550.13 3443.18 1548.39 Q3444.08 1546.63 3444.08 1544.94 Q3444.08 1542.19 3442.14 1540.45 Q3440.21 1538.72 3437.11 1538.72 Q3434.91 1538.72 3432.46 1539.48 Q3430.03 1540.25 3427.25 1541.8 L3427.25 1537.07 Q3430.07 1535.94 3432.53 1535.36 Q3434.98 1534.78 3437.02 1534.78 Q3442.39 1534.78 3445.58 1537.47 Q3448.78 1540.15 3448.78 1544.64 Q3448.78 1546.77 3447.97 1548.69 Q3447.18 1550.59 3445.07 1553.19 Q3444.5 1553.86 3441.39 1557.07 Q3438.29 1560.27 3432.64 1566.03 Z\" fill=\"#000000\" fill-rule=\"evenodd\" fill-opacity=\"1\" /><polyline clip-path=\"url(#clip573)\" style=\"stroke:#000000; stroke-linecap:butt; stroke-linejoin:round; stroke-width:2; stroke-opacity:0.1; fill:none\" points=\"\n  1979.73,1440.62 3552.76,1440.62 \n  \"/>\n<polyline clip-path=\"url(#clip573)\" style=\"stroke:#000000; stroke-linecap:butt; stroke-linejoin:round; stroke-width:2; stroke-opacity:0.1; fill:none\" points=\"\n  1979.73,1107.18 3552.76,1107.18 \n  \"/>\n<polyline clip-path=\"url(#clip573)\" style=\"stroke:#000000; stroke-linecap:butt; stroke-linejoin:round; stroke-width:2; stroke-opacity:0.1; fill:none\" points=\"\n  1979.73,773.742 3552.76,773.742 \n  \"/>\n<polyline clip-path=\"url(#clip573)\" style=\"stroke:#000000; stroke-linecap:butt; stroke-linejoin:round; stroke-width:2; stroke-opacity:0.1; fill:none\" points=\"\n  1979.73,440.301 3552.76,440.301 \n  \"/>\n<polyline clip-path=\"url(#clip573)\" style=\"stroke:#000000; stroke-linecap:butt; stroke-linejoin:round; stroke-width:2; stroke-opacity:0.1; fill:none\" points=\"\n  1979.73,106.86 3552.76,106.86 \n  \"/>\n<polyline clip-path=\"url(#clip570)\" style=\"stroke:#000000; stroke-linecap:butt; stroke-linejoin:round; stroke-width:4; stroke-opacity:1; fill:none\" points=\"\n  1979.73,1497.97 1979.73,47.2441 \n  \"/>\n<polyline clip-path=\"url(#clip570)\" style=\"stroke:#000000; stroke-linecap:butt; stroke-linejoin:round; stroke-width:4; stroke-opacity:1; fill:none\" points=\"\n  1979.73,1440.62 1998.63,1440.62 \n  \"/>\n<polyline clip-path=\"url(#clip570)\" style=\"stroke:#000000; stroke-linecap:butt; stroke-linejoin:round; stroke-width:4; stroke-opacity:1; fill:none\" points=\"\n  1979.73,1107.18 1998.63,1107.18 \n  \"/>\n<polyline clip-path=\"url(#clip570)\" style=\"stroke:#000000; stroke-linecap:butt; stroke-linejoin:round; stroke-width:4; stroke-opacity:1; fill:none\" points=\"\n  1979.73,773.742 1998.63,773.742 \n  \"/>\n<polyline clip-path=\"url(#clip570)\" style=\"stroke:#000000; stroke-linecap:butt; stroke-linejoin:round; stroke-width:4; stroke-opacity:1; fill:none\" points=\"\n  1979.73,440.301 1998.63,440.301 \n  \"/>\n<polyline clip-path=\"url(#clip570)\" style=\"stroke:#000000; stroke-linecap:butt; stroke-linejoin:round; stroke-width:4; stroke-opacity:1; fill:none\" points=\"\n  1979.73,106.86 1998.63,106.86 \n  \"/>\n<path clip-path=\"url(#clip570)\" d=\"M1863.53 1441.07 L1893.21 1441.07 L1893.21 1445.01 L1863.53 1445.01 L1863.53 1441.07 Z\" fill=\"#000000\" fill-rule=\"evenodd\" fill-opacity=\"1\" /><path clip-path=\"url(#clip570)\" d=\"M1916.15 1427.42 L1904.34 1445.87 L1916.15 1445.87 L1916.15 1427.42 M1914.92 1423.34 L1920.8 1423.34 L1920.8 1445.87 L1925.73 1445.87 L1925.73 1449.76 L1920.8 1449.76 L1920.8 1457.9 L1916.15 1457.9 L1916.15 1449.76 L1900.55 1449.76 L1900.55 1445.24 L1914.92 1423.34 Z\" fill=\"#000000\" fill-rule=\"evenodd\" fill-opacity=\"1\" /><path clip-path=\"url(#clip570)\" d=\"M1865.62 1107.63 L1895.29 1107.63 L1895.29 1111.57 L1865.62 1111.57 L1865.62 1107.63 Z\" fill=\"#000000\" fill-rule=\"evenodd\" fill-opacity=\"1\" /><path clip-path=\"url(#clip570)\" d=\"M1909.41 1120.53 L1925.73 1120.53 L1925.73 1124.46 L1903.79 1124.46 L1903.79 1120.53 Q1906.45 1117.77 1911.03 1113.14 Q1915.64 1108.49 1916.82 1107.15 Q1919.07 1104.62 1919.95 1102.89 Q1920.85 1101.13 1920.85 1099.44 Q1920.85 1096.68 1918.9 1094.95 Q1916.98 1093.21 1913.88 1093.21 Q1911.68 1093.21 1909.23 1093.98 Q1906.8 1094.74 1904.02 1096.29 L1904.02 1091.57 Q1906.84 1090.43 1909.3 1089.86 Q1911.75 1089.28 1913.79 1089.28 Q1919.16 1089.28 1922.35 1091.96 Q1925.55 1094.65 1925.55 1099.14 Q1925.55 1101.27 1924.74 1103.19 Q1923.95 1105.09 1921.84 1107.68 Q1921.26 1108.35 1918.16 1111.57 Q1915.06 1114.76 1909.41 1120.53 Z\" fill=\"#000000\" fill-rule=\"evenodd\" fill-opacity=\"1\" /><path clip-path=\"url(#clip570)\" d=\"M1913.79 759.541 Q1910.18 759.541 1908.35 763.105 Q1906.54 766.647 1906.54 773.777 Q1906.54 780.883 1908.35 784.448 Q1910.18 787.989 1913.79 787.989 Q1917.42 787.989 1919.23 784.448 Q1921.06 780.883 1921.06 773.777 Q1921.06 766.647 1919.23 763.105 Q1917.42 759.541 1913.79 759.541 M1913.79 755.837 Q1919.6 755.837 1922.65 760.443 Q1925.73 765.027 1925.73 773.777 Q1925.73 782.503 1922.65 787.11 Q1919.6 791.693 1913.79 791.693 Q1907.98 791.693 1904.9 787.11 Q1901.84 782.503 1901.84 773.777 Q1901.84 765.027 1904.9 760.443 Q1907.98 755.837 1913.79 755.837 Z\" fill=\"#000000\" fill-rule=\"evenodd\" fill-opacity=\"1\" /><path clip-path=\"url(#clip570)\" d=\"M1909.41 453.646 L1925.73 453.646 L1925.73 457.581 L1903.79 457.581 L1903.79 453.646 Q1906.45 450.891 1911.03 446.262 Q1915.64 441.609 1916.82 440.266 Q1919.07 437.743 1919.95 436.007 Q1920.85 434.248 1920.85 432.558 Q1920.85 429.804 1918.9 428.067 Q1916.98 426.331 1913.88 426.331 Q1911.68 426.331 1909.23 427.095 Q1906.8 427.859 1904.02 429.41 L1904.02 424.688 Q1906.84 423.554 1909.3 422.975 Q1911.75 422.396 1913.79 422.396 Q1919.16 422.396 1922.35 425.081 Q1925.55 427.766 1925.55 432.257 Q1925.55 434.387 1924.74 436.308 Q1923.95 438.206 1921.84 440.799 Q1921.26 441.47 1918.16 444.688 Q1915.06 447.882 1909.41 453.646 Z\" fill=\"#000000\" fill-rule=\"evenodd\" fill-opacity=\"1\" /><path clip-path=\"url(#clip570)\" d=\"M1916.15 93.6545 L1904.34 112.104 L1916.15 112.104 L1916.15 93.6545 M1914.92 89.5805 L1920.8 89.5805 L1920.8 112.104 L1925.73 112.104 L1925.73 115.992 L1920.8 115.992 L1920.8 124.14 L1916.15 124.14 L1916.15 115.992 L1900.55 115.992 L1900.55 111.479 L1914.92 89.5805 Z\" fill=\"#000000\" fill-rule=\"evenodd\" fill-opacity=\"1\" /><polyline clip-path=\"url(#clip573)\" style=\"stroke:#00a8cb; stroke-linecap:butt; stroke-linejoin:round; stroke-width:4; stroke-opacity:1; fill:none\" points=\"\n  2038.99,878.078 2029.12,827.694 2024.76,791.4 2024.25,765.278 2026.58,746.594 2030.94,732.995 2036.78,722.82 2043.77,714.944 2051.64,708.562 2060.26,703.157 \n  2069.53,698.354 2079.38,693.897 2089.78,689.62 2100.72,685.395 2112.2,681.127 2124.23,676.747 2136.82,672.193 2150,667.408 2163.81,662.341 2178.29,656.936 \n  2193.47,651.135 2209.42,644.869 2226.19,638.056 2243.87,630.607 2262.55,622.404 2282.32,613.325 2303.29,603.216 2325.63,591.879 2349.5,579.065 2375.11,564.48 \n  2402.66,547.786 2432.46,528.512 2464.89,506.095 2500.44,479.96 2539.62,449.522 2583.01,414.189 2631.22,373.358 2684.91,326.447 2744.59,273.693 2811.43,217.304 \n  2885.75,162.114 2966.71,115.688 3052.31,88.3198 3139.43,91.9416 3223.56,133.559 3300.08,211.767 3365.17,315.634 3416.15,426.524 3453.48,528.824 3479.14,612.962 \n  3495.34,676.993 3504.41,725.33 3508.21,760.327 3508.23,785.158 3505.59,802.986 3501.01,815.931 3495.02,825.622 3487.94,833.152 3480,839.265 3471.35,844.486 \n  3462.08,849.145 3452.23,853.483 3441.85,857.669 3430.94,861.815 3419.5,866.008 3407.52,870.321 3394.98,874.809 3381.86,879.524 3368.13,884.518 3353.74,889.844 \n  3338.65,895.564 3322.8,901.742 3306.14,908.444 3288.6,915.757 3270.08,923.794 3250.49,932.689 3229.71,942.601 3207.59,953.712 3183.98,966.272 3158.67,980.533 \n  3131.44,996.825 3101.98,1015.57 3069.95,1037.27 3034.94,1062.52 2996.64,1091.83 2954.48,1126.1 2907.4,1166.51 2854.55,1213.2 2795.3,1265.16 2729.3,1320.26 \n  2656.41,1375.25 2576.71,1424.35 2491.88,1455.26 2405.08,1456.9 2320.29,1422.06 2242.28,1348 2175.45,1246.49 2122.38,1136.33 2083.33,1032.51 2056.35,945.661 \n  2038.97,878.005 \n  \"/>\n<polyline clip-path=\"url(#clip573)\" style=\"stroke:#9b7fe8; stroke-linecap:butt; stroke-linejoin:round; stroke-width:4; stroke-opacity:1; fill:none\" points=\"\n  2038.97,878.005 2029.11,827.641 2024.75,791.362 2024.25,765.252 2026.59,746.576 2030.95,732.982 2036.79,722.811 2043.77,714.938 2051.65,708.557 2060.27,703.153 \n  2069.54,698.351 2079.39,693.894 2089.79,689.617 2100.73,685.392 2112.21,681.124 2124.24,676.744 2136.83,672.19 2150.02,667.405 2163.83,662.338 2178.3,656.933 \n  2193.48,651.131 2209.43,644.864 2226.21,638.051 2243.89,630.601 2262.56,622.398 2282.33,613.318 2303.31,603.209 2325.65,591.87 2349.52,579.054 2375.13,564.468 \n  2402.69,547.771 2432.48,528.494 2464.92,506.074 2500.47,479.936 2539.66,449.497 2583.05,414.161 2631.27,373.325 2684.95,326.404 2744.63,273.646 2811.49,217.255 \n  2885.82,162.066 2966.78,115.647 3052.39,88.3023 3139.51,91.9507 3223.63,133.595 3300.14,211.829 3365.23,315.71 3416.19,426.614 3453.51,528.921 3479.17,613.033 \n  3495.36,677.023 3504.42,725.348 3508.22,760.34 3508.24,785.167 3505.6,802.993 3501.02,815.935 3495.03,825.625 3487.95,833.154 3480.01,839.266 3471.36,844.486 \n  3462.08,849.145 3452.24,853.482 3441.85,857.668 3430.94,861.814 3419.5,866.007 3407.53,870.32 3394.99,874.808 3381.87,879.522 3368.14,884.516 3353.75,889.842 \n  3338.66,895.562 3322.81,901.74 3306.15,908.441 3288.61,915.753 3270.09,923.79 3250.51,932.685 3229.72,942.595 3207.61,953.706 3183.99,966.265 3158.69,980.525 \n  3131.46,996.816 3102,1015.56 3069.97,1037.25 3034.96,1062.51 2996.66,1091.82 2954.51,1126.07 2907.43,1166.49 2854.58,1213.17 2795.34,1265.13 2729.34,1320.23 \n  2656.45,1375.22 2576.75,1424.33 2491.93,1455.25 2405.12,1456.91 2320.34,1422.08 2242.32,1348.06 2175.49,1246.54 2122.4,1136.38 2083.35,1032.56 2056.36,945.707 \n  2038.98,878.039 \n  \"/>\n<polyline clip-path=\"url(#clip573)\" style=\"stroke:#608cf6; stroke-linecap:butt; stroke-linejoin:round; stroke-width:4; stroke-opacity:1; fill:none\" points=\"\n  2038.98,878.039 2029.12,827.666 2024.76,791.38 2024.25,765.264 2026.59,746.584 2030.94,732.988 2036.79,722.815 2043.77,714.941 2051.64,708.559 2060.27,703.155 \n  2069.53,698.352 2079.38,693.896 2089.79,689.619 2100.73,685.394 2112.21,681.126 2124.23,676.745 2136.83,672.191 2150.01,667.407 2163.82,662.339 2178.29,656.935 \n  2193.48,651.134 2209.42,644.867 2226.2,638.054 2243.88,630.604 2262.56,622.401 2282.32,613.322 2303.3,603.213 2325.64,591.874 2349.51,579.059 2375.12,564.474 \n  2402.68,547.779 2432.47,528.504 2464.91,506.085 2500.46,479.949 2539.64,449.51 2583.03,414.175 2631.24,373.342 2684.93,326.427 2744.61,273.671 2811.46,217.281 \n  2885.78,162.091 2966.74,115.669 3052.35,88.3118 3139.47,91.9466 3223.59,133.578 3300.11,211.798 3365.2,315.672 3416.17,426.567 3453.49,528.868 3479.15,612.994 \n  3495.35,677.009 3504.41,725.341 3508.22,760.335 3508.23,785.164 3505.59,802.99 3501.02,815.934 3495.02,825.623 3487.94,833.154 3480,839.266 3471.35,844.487 \n  3462.08,849.145 3452.23,853.483 3441.85,857.669 3430.94,861.814 3419.5,866.008 3407.52,870.321 3394.98,874.809 3381.87,879.524 3368.13,884.517 3353.74,889.844 \n  3338.65,895.564 3322.8,901.742 3306.14,908.443 3288.6,915.756 3270.09,923.793 3250.5,932.688 3229.71,942.599 3207.6,953.711 3183.98,966.27 3158.68,980.531 \n  3131.44,996.823 3101.99,1015.56 3069.96,1037.26 3034.95,1062.52 2996.64,1091.83 2954.49,1126.09 2907.41,1166.51 2854.56,1213.2 2795.31,1265.16 2729.31,1320.25 \n  2656.42,1375.24 2576.72,1424.35 2491.9,1455.26 2405.09,1456.9 2320.3,1422.06 2242.29,1348.02 2175.46,1246.5 2122.39,1136.34 2083.33,1032.52 2056.35,945.673 \n  2038.97,878.014 \n  \"/>\n<polyline clip-path=\"url(#clip573)\" style=\"stroke:#f05f73; stroke-linecap:butt; stroke-linejoin:round; stroke-width:4; stroke-opacity:1; fill:none\" points=\"\n  2038.97,878.014 2029.12,827.648 2024.75,791.367 2024.25,765.255 2026.59,746.578 2030.94,732.984 2036.79,722.812 2043.77,714.939 2051.65,708.557 2060.27,703.154 \n  2069.54,698.351 2079.39,693.895 2089.79,689.618 2100.73,685.393 2112.21,681.125 2124.24,676.744 2136.83,672.19 2150.01,667.406 2163.82,662.338 2178.3,656.933 \n  2193.48,651.132 2209.43,644.865 2226.21,638.052 2243.89,630.602 2262.56,622.399 2282.33,613.319 2303.31,603.21 2325.65,591.871 2349.52,579.055 2375.12,564.469 \n  2402.68,547.773 2432.48,528.497 2464.92,506.077 2500.47,479.94 2539.65,449.5 2583.04,414.165 2631.26,373.33 2684.94,326.411 2744.63,273.653 2811.48,217.262 \n  2885.81,162.073 2966.77,115.654 3052.38,88.3051 3139.5,91.9497 3223.62,133.59 3300.13,211.82 3365.22,315.7 3416.18,426.601 3453.51,528.905 3479.16,613.022 \n  3495.36,677.019 3504.42,725.346 3508.22,760.339 3508.23,785.167 3505.6,802.992 3501.02,815.935 3495.02,825.624 3487.95,833.154 3480.01,839.266 3471.36,844.487 \n  3462.08,849.145 3452.24,853.483 3441.85,857.668 3430.94,861.814 3419.5,866.008 3407.52,870.32 3394.99,874.808 3381.87,879.523 3368.13,884.516 3353.75,889.843 \n  3338.66,895.563 3322.81,901.74 3306.15,908.441 3288.61,915.754 3270.09,923.791 3250.5,932.686 3229.72,942.597 3207.6,953.708 3183.99,966.267 3158.68,980.527 \n  3131.45,996.818 3101.99,1015.56 3069.96,1037.26 3034.96,1062.51 2996.65,1091.82 2954.5,1126.08 2907.43,1166.49 2854.57,1213.18 2795.33,1265.14 2729.33,1320.24 \n  2656.44,1375.23 2576.74,1424.33 2491.92,1455.25 2405.11,1456.91 2320.32,1422.08 2242.31,1348.04 2175.48,1246.53 2122.4,1136.37 2083.34,1032.55 2056.36,945.695 \n  2038.98,878.03 \n  \"/>\n<polyline clip-path=\"url(#clip573)\" style=\"stroke:#dd64b5; stroke-linecap:butt; stroke-linejoin:round; stroke-width:4; stroke-opacity:1; fill:none\" points=\"\n  2038.98,878.03 2029.12,827.659 2024.76,791.375 2024.25,765.261 2026.59,746.582 2030.94,732.987 2036.79,722.814 2043.77,714.94 2051.65,708.559 2060.27,703.155 \n  2069.53,698.352 2079.38,693.895 2089.79,689.618 2100.73,685.393 2112.21,681.125 2124.23,676.745 2136.83,672.191 2150.01,667.407 2163.82,662.339 2178.3,656.934 \n  2193.48,651.133 2209.43,644.866 2226.2,638.053 2243.88,630.604 2262.56,622.4 2282.33,613.321 2303.3,603.212 2325.64,591.873 2349.51,579.058 2375.12,564.472 \n  2402.68,547.777 2432.47,528.502 2464.91,506.083 2500.46,479.946 2539.64,449.506 2583.03,414.172 2631.25,373.337 2684.93,326.421 2744.62,273.664 2811.47,217.274 \n  2885.79,162.085 2966.75,115.664 3052.36,88.3094 3139.48,91.9477 3223.6,133.582 3300.11,211.806 3365.2,315.682 3416.17,426.579 3453.5,528.881 3479.16,613.004 \n  3495.35,677.013 3504.41,725.343 3508.22,760.336 3508.23,785.165 3505.6,802.991 3501.02,815.934 3495.02,825.624 3487.94,833.154 3480,839.266 3471.35,844.487 \n  3462.08,849.145 3452.23,853.483 3441.85,857.669 3430.94,861.814 3419.5,866.008 3407.52,870.32 3394.99,874.809 3381.87,879.523 3368.13,884.517 3353.74,889.843 \n  3338.65,895.564 3322.81,901.741 3306.15,908.442 3288.6,915.756 3270.09,923.792 3250.5,932.687 3229.71,942.598 3207.6,953.71 3183.98,966.269 3158.68,980.53 \n  3131.45,996.821 3101.99,1015.56 3069.96,1037.26 3034.95,1062.52 2996.64,1091.83 2954.49,1126.09 2907.42,1166.5 2854.56,1213.19 2795.32,1265.15 2729.31,1320.25 \n  2656.43,1375.24 2576.73,1424.34 2491.9,1455.26 2405.1,1456.9 2320.31,1422.07 2242.3,1348.02 2175.47,1246.51 2122.39,1136.35 2083.34,1032.53 2056.35,945.68 \n  2038.97,878.019 \n  \"/>\n</svg>\n"
               },
               "type": "node"
              }
             ],
             "instanceArgs": {
              "namespace": "html",
              "tag": "div"
             },
             "nodeType": "DOM",
             "props": {
              "className": "interact-flex-row interact-widget"
             },
             "type": "node"
            }
           }
          },
          "systemjs_options": null
         },
         "nodeType": "Scope",
         "props": {},
         "type": "node"
        }
       ],
       "instanceArgs": {
        "namespace": "html",
        "tag": "div"
       },
       "nodeType": "DOM",
       "props": {},
       "type": "node"
      },
      "text/html": [
       "<div\n",
       "    class=\"webio-mountpoint\"\n",
       "    data-webio-mountpoint=\"3936667530268666325\"\n",
       ">\n",
       "    <script>\n",
       "    (function(){\n",
       "    // Some integrations (namely, IJulia/Jupyter) use an alternate render pathway than\n",
       "    // just putting the html on the page. If WebIO isn't defined, then it's pretty likely\n",
       "    // that we're in one of those situations and the integration just isn't installed\n",
       "    // correctly.\n",
       "    if (typeof window.WebIO === \"undefined\") {\n",
       "        document\n",
       "            .querySelector('[data-webio-mountpoint=\"3936667530268666325\"]')\n",
       "            .innerHTML = (\n",
       "                '<div style=\"padding: 1em; background-color: #f8d6da; border: 1px solid #f5c6cb; font-weight: bold;\">' +\n",
       "                '<p><strong>WebIO not detected.</strong></p>' +\n",
       "                '<p>Please read ' +\n",
       "                '<a href=\"https://juliagizmos.github.io/WebIO.jl/latest/troubleshooting/not-detected/\" target=\"_blank\">the troubleshooting guide</a> ' +\n",
       "                'for more information on how to resolve this issue.</p>' +\n",
       "                '<p><a href=\"https://juliagizmos.github.io/WebIO.jl/latest/troubleshooting/not-detected/\" target=\"_blank\">https://juliagizmos.github.io/WebIO.jl/latest/troubleshooting/not-detected/</a></p>' +\n",
       "                '</div>'\n",
       "            );\n",
       "        return;\n",
       "    }\n",
       "    WebIO.mount(\n",
       "        document.querySelector('[data-webio-mountpoint=\"3936667530268666325\"]'),\n",
       "        {\"props\":{},\"nodeType\":\"DOM\",\"type\":\"node\",\"instanceArgs\":{\"namespace\":\"html\",\"tag\":\"div\"},\"children\":[{\"props\":{\"className\":\"field interact-widget\"},\"nodeType\":\"DOM\",\"type\":\"node\",\"instanceArgs\":{\"namespace\":\"html\",\"tag\":\"div\"},\"children\":[{\"props\":{},\"nodeType\":\"Scope\",\"type\":\"node\",\"instanceArgs\":{\"imports\":{\"data\":[{\"name\":\"knockout\",\"type\":\"js\",\"url\":\"\\/assetserver\\/2712bb0a7395d062608c2f218a74b700f6c76b99-knockout.js\"},{\"name\":\"knockout_punches\",\"type\":\"js\",\"url\":\"\\/assetserver\\/fb4445501a2be4ab82176667f844e40da26fa007-knockout_punches.js\"},{\"name\":null,\"type\":\"js\",\"url\":\"\\/assetserver\\/a8ea7d9192d5fa85c6fac26c72d7fece1e500138-all.js\"},{\"name\":null,\"type\":\"css\",\"url\":\"\\/assetserver\\/620a53798cfdb29a4a2142ce0588e9aadc351d94-style.css\"},{\"name\":null,\"type\":\"css\",\"url\":\"\\/assetserver\\/9f2f17f677abbfd015a7c6b0c0f09a2da809bee2-bulma_confined.min.css\"}],\"type\":\"async_block\"},\"id\":\"13888494177324787140\",\"handlers\":{\"changes\":[\"(function (val){return (val!=this.model[\\\"changes\\\"]()) ? (this.valueFromJulia[\\\"changes\\\"]=true, this.model[\\\"changes\\\"](val)) : undefined})\"],\"index\":[\"(function (val){return (val!=this.model[\\\"index\\\"]()) ? (this.valueFromJulia[\\\"index\\\"]=true, this.model[\\\"index\\\"](val)) : undefined})\"]},\"systemjs_options\":null,\"mount_callbacks\":[\"function () {\\n    var handler = (function (ko, koPunches) {\\n    ko.punches.enableAll();\\n    ko.bindingHandlers.numericValue = {\\n        init: function(element, valueAccessor, allBindings, data, context) {\\n            var stringified = ko.observable(ko.unwrap(valueAccessor()));\\n            stringified.subscribe(function(value) {\\n                var val = parseFloat(value);\\n                if (!isNaN(val)) {\\n                    valueAccessor()(val);\\n                }\\n            });\\n            valueAccessor().subscribe(function(value) {\\n                var str = JSON.stringify(value);\\n                if ((str == \\\"0\\\") && ([\\\"-0\\\", \\\"-0.\\\"].indexOf(stringified()) >= 0))\\n                     return;\\n                 if ([\\\"null\\\", \\\"\\\"].indexOf(str) >= 0)\\n                     return;\\n                stringified(str);\\n            });\\n            ko.applyBindingsToNode(\\n                element,\\n                {\\n                    value: stringified,\\n                    valueUpdate: allBindings.get('valueUpdate'),\\n                },\\n                context,\\n            );\\n        }\\n    };\\n    var json_data = {\\\"formatted_vals\\\":[\\\"0.0\\\",\\\"0.01\\\",\\\"0.02\\\",\\\"0.03\\\",\\\"0.04\\\",\\\"0.05\\\",\\\"0.06\\\",\\\"0.07\\\",\\\"0.08\\\",\\\"0.09\\\",\\\"0.1\\\",\\\"0.11\\\",\\\"0.12\\\",\\\"0.13\\\",\\\"0.14\\\",\\\"0.15\\\",\\\"0.16\\\",\\\"0.17\\\",\\\"0.18\\\",\\\"0.19\\\",\\\"0.2\\\",\\\"0.21\\\",\\\"0.22\\\",\\\"0.23\\\",\\\"0.24\\\",\\\"0.25\\\",\\\"0.26\\\",\\\"0.27\\\",\\\"0.28\\\",\\\"0.29\\\",\\\"0.3\\\",\\\"0.31\\\",\\\"0.32\\\",\\\"0.33\\\",\\\"0.34\\\",\\\"0.35\\\",\\\"0.36\\\",\\\"0.37\\\",\\\"0.38\\\",\\\"0.39\\\",\\\"0.4\\\",\\\"0.41\\\",\\\"0.42\\\",\\\"0.43\\\",\\\"0.44\\\",\\\"0.45\\\",\\\"0.46\\\",\\\"0.47\\\",\\\"0.48\\\",\\\"0.49\\\",\\\"0.5\\\",\\\"0.51\\\",\\\"0.52\\\",\\\"0.53\\\",\\\"0.54\\\",\\\"0.55\\\",\\\"0.56\\\",\\\"0.57\\\",\\\"0.58\\\",\\\"0.59\\\",\\\"0.6\\\",\\\"0.61\\\",\\\"0.62\\\",\\\"0.63\\\",\\\"0.64\\\",\\\"0.65\\\",\\\"0.66\\\",\\\"0.67\\\",\\\"0.68\\\",\\\"0.69\\\",\\\"0.7\\\",\\\"0.71\\\",\\\"0.72\\\",\\\"0.73\\\",\\\"0.74\\\",\\\"0.75\\\",\\\"0.76\\\",\\\"0.77\\\",\\\"0.78\\\",\\\"0.79\\\",\\\"0.8\\\",\\\"0.81\\\",\\\"0.82\\\",\\\"0.83\\\",\\\"0.84\\\",\\\"0.85\\\",\\\"0.86\\\",\\\"0.87\\\",\\\"0.88\\\",\\\"0.89\\\",\\\"0.9\\\",\\\"0.91\\\",\\\"0.92\\\",\\\"0.93\\\",\\\"0.94\\\",\\\"0.95\\\",\\\"0.96\\\",\\\"0.97\\\",\\\"0.98\\\",\\\"0.99\\\",\\\"1.0\\\",\\\"1.01\\\",\\\"1.02\\\",\\\"1.03\\\",\\\"1.04\\\",\\\"1.05\\\",\\\"1.06\\\",\\\"1.07\\\",\\\"1.08\\\",\\\"1.09\\\",\\\"1.1\\\",\\\"1.11\\\",\\\"1.12\\\",\\\"1.13\\\",\\\"1.14\\\",\\\"1.15\\\",\\\"1.16\\\",\\\"1.17\\\",\\\"1.18\\\",\\\"1.19\\\",\\\"1.2\\\",\\\"1.21\\\",\\\"1.22\\\",\\\"1.23\\\",\\\"1.24\\\",\\\"1.25\\\",\\\"1.26\\\",\\\"1.27\\\",\\\"1.28\\\",\\\"1.29\\\",\\\"1.3\\\",\\\"1.31\\\",\\\"1.32\\\",\\\"1.33\\\",\\\"1.34\\\",\\\"1.35\\\",\\\"1.36\\\",\\\"1.37\\\",\\\"1.38\\\",\\\"1.39\\\",\\\"1.4\\\",\\\"1.41\\\",\\\"1.42\\\",\\\"1.43\\\",\\\"1.44\\\",\\\"1.45\\\",\\\"1.46\\\",\\\"1.47\\\",\\\"1.48\\\",\\\"1.49\\\",\\\"1.5\\\",\\\"1.51\\\",\\\"1.52\\\",\\\"1.53\\\",\\\"1.54\\\",\\\"1.55\\\",\\\"1.56\\\",\\\"1.57\\\",\\\"1.58\\\",\\\"1.59\\\",\\\"1.6\\\",\\\"1.61\\\",\\\"1.62\\\",\\\"1.63\\\",\\\"1.64\\\",\\\"1.65\\\",\\\"1.66\\\",\\\"1.67\\\",\\\"1.68\\\",\\\"1.69\\\",\\\"1.7\\\",\\\"1.71\\\",\\\"1.72\\\",\\\"1.73\\\",\\\"1.74\\\",\\\"1.75\\\",\\\"1.76\\\",\\\"1.77\\\",\\\"1.78\\\",\\\"1.79\\\",\\\"1.8\\\",\\\"1.81\\\",\\\"1.82\\\",\\\"1.83\\\",\\\"1.84\\\",\\\"1.85\\\",\\\"1.86\\\",\\\"1.87\\\",\\\"1.88\\\",\\\"1.89\\\",\\\"1.9\\\",\\\"1.91\\\",\\\"1.92\\\",\\\"1.93\\\",\\\"1.94\\\",\\\"1.95\\\",\\\"1.96\\\",\\\"1.97\\\",\\\"1.98\\\",\\\"1.99\\\",\\\"2.0\\\",\\\"2.01\\\",\\\"2.02\\\",\\\"2.03\\\",\\\"2.04\\\",\\\"2.05\\\",\\\"2.06\\\",\\\"2.07\\\",\\\"2.08\\\",\\\"2.09\\\",\\\"2.1\\\",\\\"2.11\\\",\\\"2.12\\\",\\\"2.13\\\",\\\"2.14\\\",\\\"2.15\\\",\\\"2.16\\\",\\\"2.17\\\",\\\"2.18\\\",\\\"2.19\\\",\\\"2.2\\\",\\\"2.21\\\",\\\"2.22\\\",\\\"2.23\\\",\\\"2.24\\\",\\\"2.25\\\",\\\"2.26\\\",\\\"2.27\\\",\\\"2.28\\\",\\\"2.29\\\",\\\"2.3\\\",\\\"2.31\\\",\\\"2.32\\\",\\\"2.33\\\",\\\"2.34\\\",\\\"2.35\\\",\\\"2.36\\\",\\\"2.37\\\",\\\"2.38\\\",\\\"2.39\\\",\\\"2.4\\\",\\\"2.41\\\",\\\"2.42\\\",\\\"2.43\\\",\\\"2.44\\\",\\\"2.45\\\",\\\"2.46\\\",\\\"2.47\\\",\\\"2.48\\\",\\\"2.49\\\",\\\"2.5\\\",\\\"2.51\\\",\\\"2.52\\\",\\\"2.53\\\",\\\"2.54\\\",\\\"2.55\\\",\\\"2.56\\\",\\\"2.57\\\",\\\"2.58\\\",\\\"2.59\\\",\\\"2.6\\\",\\\"2.61\\\",\\\"2.62\\\",\\\"2.63\\\",\\\"2.64\\\",\\\"2.65\\\",\\\"2.66\\\",\\\"2.67\\\",\\\"2.68\\\",\\\"2.69\\\",\\\"2.7\\\",\\\"2.71\\\",\\\"2.72\\\",\\\"2.73\\\",\\\"2.74\\\",\\\"2.75\\\",\\\"2.76\\\",\\\"2.77\\\",\\\"2.78\\\",\\\"2.79\\\",\\\"2.8\\\",\\\"2.81\\\",\\\"2.82\\\",\\\"2.83\\\",\\\"2.84\\\",\\\"2.85\\\",\\\"2.86\\\",\\\"2.87\\\",\\\"2.88\\\",\\\"2.89\\\",\\\"2.9\\\",\\\"2.91\\\",\\\"2.92\\\",\\\"2.93\\\",\\\"2.94\\\",\\\"2.95\\\",\\\"2.96\\\",\\\"2.97\\\",\\\"2.98\\\",\\\"2.99\\\",\\\"3.0\\\"],\\\"changes\\\":WebIO.getval({\\\"name\\\":\\\"changes\\\",\\\"scope\\\":\\\"13888494177324787140\\\",\\\"id\\\":\\\"9452695838165017632\\\",\\\"type\\\":\\\"observable\\\"}),\\\"index\\\":WebIO.getval({\\\"name\\\":\\\"index\\\",\\\"scope\\\":\\\"13888494177324787140\\\",\\\"id\\\":\\\"5806075212670491706\\\",\\\"type\\\":\\\"observable\\\"})};\\n    var self = this;\\n    function AppViewModel() {\\n        for (var key in json_data) {\\n            var el = json_data[key];\\n            this[key] = Array.isArray(el) ? ko.observableArray(el) : ko.observable(el);\\n        }\\n        \\n        [this[\\\"formatted_val\\\"]=ko.computed(    function(){\\n        return this.formatted_vals()[parseInt(this.index())-(1)];\\n    }\\n,this)]\\n        [this[\\\"changes\\\"].subscribe((function (val){!(this.valueFromJulia[\\\"changes\\\"]) ? (WebIO.setval({\\\"name\\\":\\\"changes\\\",\\\"scope\\\":\\\"13888494177324787140\\\",\\\"id\\\":\\\"9452695838165017632\\\",\\\"type\\\":\\\"observable\\\"},val)) : undefined; return this.valueFromJulia[\\\"changes\\\"]=false}),self),this[\\\"index\\\"].subscribe((function (val){!(this.valueFromJulia[\\\"index\\\"]) ? (WebIO.setval({\\\"name\\\":\\\"index\\\",\\\"scope\\\":\\\"13888494177324787140\\\",\\\"id\\\":\\\"5806075212670491706\\\",\\\"type\\\":\\\"observable\\\"},val)) : undefined; return this.valueFromJulia[\\\"index\\\"]=false}),self)]\\n        \\n    }\\n    self.model = new AppViewModel();\\n    self.valueFromJulia = {};\\n    for (var key in json_data) {\\n        self.valueFromJulia[key] = false;\\n    }\\n    ko.applyBindings(self.model, self.dom);\\n}\\n);\\n    (WebIO.importBlock({\\\"data\\\":[{\\\"name\\\":\\\"knockout\\\",\\\"type\\\":\\\"js\\\",\\\"url\\\":\\\"\\/assetserver\\/2712bb0a7395d062608c2f218a74b700f6c76b99-knockout.js\\\"},{\\\"name\\\":\\\"knockout_punches\\\",\\\"type\\\":\\\"js\\\",\\\"url\\\":\\\"\\/assetserver\\/fb4445501a2be4ab82176667f844e40da26fa007-knockout_punches.js\\\"}],\\\"type\\\":\\\"async_block\\\"})).then((imports) => handler.apply(this, imports));\\n}\\n\"],\"observables\":{\"changes\":{\"sync\":false,\"id\":\"9452695838165017632\",\"value\":0},\"index\":{\"sync\":true,\"id\":\"5806075212670491706\",\"value\":151}}},\"children\":[{\"props\":{\"className\":\"interact-flex-row interact-widget\"},\"nodeType\":\"DOM\",\"type\":\"node\",\"instanceArgs\":{\"namespace\":\"html\",\"tag\":\"div\"},\"children\":[{\"props\":{\"className\":\"interact-flex-row-left\"},\"nodeType\":\"DOM\",\"type\":\"node\",\"instanceArgs\":{\"namespace\":\"html\",\"tag\":\"div\"},\"children\":[{\"props\":{\"className\":\"interact \",\"style\":{\"padding\":\"5px 10px 0px 10px\"}},\"nodeType\":\"DOM\",\"type\":\"node\",\"instanceArgs\":{\"namespace\":\"html\",\"tag\":\"label\"},\"children\":[\"μ\"]}]},{\"props\":{\"className\":\"interact-flex-row-center\"},\"nodeType\":\"DOM\",\"type\":\"node\",\"instanceArgs\":{\"namespace\":\"html\",\"tag\":\"div\"},\"children\":[{\"props\":{\"max\":301,\"min\":1,\"attributes\":{\"type\":\"range\",\"data-bind\":\"numericValue: index, valueUpdate: 'input', event: {change: function (){this.changes(this.changes()+1)}}\",\"orient\":\"horizontal\"},\"step\":1,\"className\":\"slider slider is-fullwidth\",\"style\":{}},\"nodeType\":\"DOM\",\"type\":\"node\",\"instanceArgs\":{\"namespace\":\"html\",\"tag\":\"input\"},\"children\":[]}]},{\"props\":{\"className\":\"interact-flex-row-right\"},\"nodeType\":\"DOM\",\"type\":\"node\",\"instanceArgs\":{\"namespace\":\"html\",\"tag\":\"div\"},\"children\":[{\"props\":{\"attributes\":{\"data-bind\":\"text: formatted_val\"}},\"nodeType\":\"DOM\",\"type\":\"node\",\"instanceArgs\":{\"namespace\":\"html\",\"tag\":\"p\"},\"children\":[]}]}]}]}]},{\"props\":{\"className\":\"field interact-widget\"},\"nodeType\":\"DOM\",\"type\":\"node\",\"instanceArgs\":{\"namespace\":\"html\",\"tag\":\"div\"},\"children\":[{\"props\":{},\"nodeType\":\"Scope\",\"type\":\"node\",\"instanceArgs\":{\"imports\":{\"data\":[{\"name\":\"knockout\",\"type\":\"js\",\"url\":\"\\/assetserver\\/2712bb0a7395d062608c2f218a74b700f6c76b99-knockout.js\"},{\"name\":\"knockout_punches\",\"type\":\"js\",\"url\":\"\\/assetserver\\/fb4445501a2be4ab82176667f844e40da26fa007-knockout_punches.js\"},{\"name\":null,\"type\":\"js\",\"url\":\"\\/assetserver\\/a8ea7d9192d5fa85c6fac26c72d7fece1e500138-all.js\"},{\"name\":null,\"type\":\"css\",\"url\":\"\\/assetserver\\/620a53798cfdb29a4a2142ce0588e9aadc351d94-style.css\"},{\"name\":null,\"type\":\"css\",\"url\":\"\\/assetserver\\/9f2f17f677abbfd015a7c6b0c0f09a2da809bee2-bulma_confined.min.css\"}],\"type\":\"async_block\"},\"id\":\"2419313914630837045\",\"handlers\":{\"changes\":[\"(function (val){return (val!=this.model[\\\"changes\\\"]()) ? (this.valueFromJulia[\\\"changes\\\"]=true, this.model[\\\"changes\\\"](val)) : undefined})\"],\"index\":[\"(function (val){return (val!=this.model[\\\"index\\\"]()) ? (this.valueFromJulia[\\\"index\\\"]=true, this.model[\\\"index\\\"](val)) : undefined})\"]},\"systemjs_options\":null,\"mount_callbacks\":[\"function () {\\n    var handler = (function (ko, koPunches) {\\n    ko.punches.enableAll();\\n    ko.bindingHandlers.numericValue = {\\n        init: function(element, valueAccessor, allBindings, data, context) {\\n            var stringified = ko.observable(ko.unwrap(valueAccessor()));\\n            stringified.subscribe(function(value) {\\n                var val = parseFloat(value);\\n                if (!isNaN(val)) {\\n                    valueAccessor()(val);\\n                }\\n            });\\n            valueAccessor().subscribe(function(value) {\\n                var str = JSON.stringify(value);\\n                if ((str == \\\"0\\\") && ([\\\"-0\\\", \\\"-0.\\\"].indexOf(stringified()) >= 0))\\n                     return;\\n                 if ([\\\"null\\\", \\\"\\\"].indexOf(str) >= 0)\\n                     return;\\n                stringified(str);\\n            });\\n            ko.applyBindingsToNode(\\n                element,\\n                {\\n                    value: stringified,\\n                    valueUpdate: allBindings.get('valueUpdate'),\\n                },\\n                context,\\n            );\\n        }\\n    };\\n    var json_data = {\\\"formatted_vals\\\":[\\\"0.0\\\",\\\"0.01\\\",\\\"0.02\\\",\\\"0.03\\\",\\\"0.04\\\",\\\"0.05\\\",\\\"0.06\\\",\\\"0.07\\\",\\\"0.08\\\",\\\"0.09\\\",\\\"0.1\\\",\\\"0.11\\\",\\\"0.12\\\",\\\"0.13\\\",\\\"0.14\\\",\\\"0.15\\\",\\\"0.16\\\",\\\"0.17\\\",\\\"0.18\\\",\\\"0.19\\\",\\\"0.2\\\",\\\"0.21\\\",\\\"0.22\\\",\\\"0.23\\\",\\\"0.24\\\",\\\"0.25\\\",\\\"0.26\\\",\\\"0.27\\\",\\\"0.28\\\",\\\"0.29\\\",\\\"0.3\\\",\\\"0.31\\\",\\\"0.32\\\",\\\"0.33\\\",\\\"0.34\\\",\\\"0.35\\\",\\\"0.36\\\",\\\"0.37\\\",\\\"0.38\\\",\\\"0.39\\\",\\\"0.4\\\",\\\"0.41\\\",\\\"0.42\\\",\\\"0.43\\\",\\\"0.44\\\",\\\"0.45\\\",\\\"0.46\\\",\\\"0.47\\\",\\\"0.48\\\",\\\"0.49\\\",\\\"0.5\\\",\\\"0.51\\\",\\\"0.52\\\",\\\"0.53\\\",\\\"0.54\\\",\\\"0.55\\\",\\\"0.56\\\",\\\"0.57\\\",\\\"0.58\\\",\\\"0.59\\\",\\\"0.6\\\",\\\"0.61\\\",\\\"0.62\\\",\\\"0.63\\\",\\\"0.64\\\",\\\"0.65\\\",\\\"0.66\\\",\\\"0.67\\\",\\\"0.68\\\",\\\"0.69\\\",\\\"0.7\\\",\\\"0.71\\\",\\\"0.72\\\",\\\"0.73\\\",\\\"0.74\\\",\\\"0.75\\\",\\\"0.76\\\",\\\"0.77\\\",\\\"0.78\\\",\\\"0.79\\\",\\\"0.8\\\",\\\"0.81\\\",\\\"0.82\\\",\\\"0.83\\\",\\\"0.84\\\",\\\"0.85\\\",\\\"0.86\\\",\\\"0.87\\\",\\\"0.88\\\",\\\"0.89\\\",\\\"0.9\\\",\\\"0.91\\\",\\\"0.92\\\",\\\"0.93\\\",\\\"0.94\\\",\\\"0.95\\\",\\\"0.96\\\",\\\"0.97\\\",\\\"0.98\\\",\\\"0.99\\\",\\\"1.0\\\",\\\"1.01\\\",\\\"1.02\\\",\\\"1.03\\\",\\\"1.04\\\",\\\"1.05\\\",\\\"1.06\\\",\\\"1.07\\\",\\\"1.08\\\",\\\"1.09\\\",\\\"1.1\\\",\\\"1.11\\\",\\\"1.12\\\",\\\"1.13\\\",\\\"1.14\\\",\\\"1.15\\\",\\\"1.16\\\",\\\"1.17\\\",\\\"1.18\\\",\\\"1.19\\\",\\\"1.2\\\",\\\"1.21\\\",\\\"1.22\\\",\\\"1.23\\\",\\\"1.24\\\",\\\"1.25\\\",\\\"1.26\\\",\\\"1.27\\\",\\\"1.28\\\",\\\"1.29\\\",\\\"1.3\\\",\\\"1.31\\\",\\\"1.32\\\",\\\"1.33\\\",\\\"1.34\\\",\\\"1.35\\\",\\\"1.36\\\",\\\"1.37\\\",\\\"1.38\\\",\\\"1.39\\\",\\\"1.4\\\",\\\"1.41\\\",\\\"1.42\\\",\\\"1.43\\\",\\\"1.44\\\",\\\"1.45\\\",\\\"1.46\\\",\\\"1.47\\\",\\\"1.48\\\",\\\"1.49\\\",\\\"1.5\\\",\\\"1.51\\\",\\\"1.52\\\",\\\"1.53\\\",\\\"1.54\\\",\\\"1.55\\\",\\\"1.56\\\",\\\"1.57\\\",\\\"1.58\\\",\\\"1.59\\\",\\\"1.6\\\",\\\"1.61\\\",\\\"1.62\\\",\\\"1.63\\\",\\\"1.64\\\",\\\"1.65\\\",\\\"1.66\\\",\\\"1.67\\\",\\\"1.68\\\",\\\"1.69\\\",\\\"1.7\\\",\\\"1.71\\\",\\\"1.72\\\",\\\"1.73\\\",\\\"1.74\\\",\\\"1.75\\\",\\\"1.76\\\",\\\"1.77\\\",\\\"1.78\\\",\\\"1.79\\\",\\\"1.8\\\",\\\"1.81\\\",\\\"1.82\\\",\\\"1.83\\\",\\\"1.84\\\",\\\"1.85\\\",\\\"1.86\\\",\\\"1.87\\\",\\\"1.88\\\",\\\"1.89\\\",\\\"1.9\\\",\\\"1.91\\\",\\\"1.92\\\",\\\"1.93\\\",\\\"1.94\\\",\\\"1.95\\\",\\\"1.96\\\",\\\"1.97\\\",\\\"1.98\\\",\\\"1.99\\\",\\\"2.0\\\"],\\\"changes\\\":WebIO.getval({\\\"name\\\":\\\"changes\\\",\\\"scope\\\":\\\"2419313914630837045\\\",\\\"id\\\":\\\"5836328880711371560\\\",\\\"type\\\":\\\"observable\\\"}),\\\"index\\\":WebIO.getval({\\\"name\\\":\\\"index\\\",\\\"scope\\\":\\\"2419313914630837045\\\",\\\"id\\\":\\\"2613206927893695011\\\",\\\"type\\\":\\\"observable\\\"})};\\n    var self = this;\\n    function AppViewModel() {\\n        for (var key in json_data) {\\n            var el = json_data[key];\\n            this[key] = Array.isArray(el) ? ko.observableArray(el) : ko.observable(el);\\n        }\\n        \\n        [this[\\\"formatted_val\\\"]=ko.computed(    function(){\\n        return this.formatted_vals()[parseInt(this.index())-(1)];\\n    }\\n,this)]\\n        [this[\\\"changes\\\"].subscribe((function (val){!(this.valueFromJulia[\\\"changes\\\"]) ? (WebIO.setval({\\\"name\\\":\\\"changes\\\",\\\"scope\\\":\\\"2419313914630837045\\\",\\\"id\\\":\\\"5836328880711371560\\\",\\\"type\\\":\\\"observable\\\"},val)) : undefined; return this.valueFromJulia[\\\"changes\\\"]=false}),self),this[\\\"index\\\"].subscribe((function (val){!(this.valueFromJulia[\\\"index\\\"]) ? (WebIO.setval({\\\"name\\\":\\\"index\\\",\\\"scope\\\":\\\"2419313914630837045\\\",\\\"id\\\":\\\"2613206927893695011\\\",\\\"type\\\":\\\"observable\\\"},val)) : undefined; return this.valueFromJulia[\\\"index\\\"]=false}),self)]\\n        \\n    }\\n    self.model = new AppViewModel();\\n    self.valueFromJulia = {};\\n    for (var key in json_data) {\\n        self.valueFromJulia[key] = false;\\n    }\\n    ko.applyBindings(self.model, self.dom);\\n}\\n);\\n    (WebIO.importBlock({\\\"data\\\":[{\\\"name\\\":\\\"knockout\\\",\\\"type\\\":\\\"js\\\",\\\"url\\\":\\\"\\/assetserver\\/2712bb0a7395d062608c2f218a74b700f6c76b99-knockout.js\\\"},{\\\"name\\\":\\\"knockout_punches\\\",\\\"type\\\":\\\"js\\\",\\\"url\\\":\\\"\\/assetserver\\/fb4445501a2be4ab82176667f844e40da26fa007-knockout_punches.js\\\"}],\\\"type\\\":\\\"async_block\\\"})).then((imports) => handler.apply(this, imports));\\n}\\n\"],\"observables\":{\"changes\":{\"sync\":false,\"id\":\"5836328880711371560\",\"value\":0},\"index\":{\"sync\":true,\"id\":\"2613206927893695011\",\"value\":101}}},\"children\":[{\"props\":{\"className\":\"interact-flex-row interact-widget\"},\"nodeType\":\"DOM\",\"type\":\"node\",\"instanceArgs\":{\"namespace\":\"html\",\"tag\":\"div\"},\"children\":[{\"props\":{\"className\":\"interact-flex-row-left\"},\"nodeType\":\"DOM\",\"type\":\"node\",\"instanceArgs\":{\"namespace\":\"html\",\"tag\":\"div\"},\"children\":[{\"props\":{\"className\":\"interact \",\"style\":{\"padding\":\"5px 10px 0px 10px\"}},\"nodeType\":\"DOM\",\"type\":\"node\",\"instanceArgs\":{\"namespace\":\"html\",\"tag\":\"label\"},\"children\":[\"A\"]}]},{\"props\":{\"className\":\"interact-flex-row-center\"},\"nodeType\":\"DOM\",\"type\":\"node\",\"instanceArgs\":{\"namespace\":\"html\",\"tag\":\"div\"},\"children\":[{\"props\":{\"max\":201,\"min\":1,\"attributes\":{\"type\":\"range\",\"data-bind\":\"numericValue: index, valueUpdate: 'input', event: {change: function (){this.changes(this.changes()+1)}}\",\"orient\":\"horizontal\"},\"step\":1,\"className\":\"slider slider is-fullwidth\",\"style\":{}},\"nodeType\":\"DOM\",\"type\":\"node\",\"instanceArgs\":{\"namespace\":\"html\",\"tag\":\"input\"},\"children\":[]}]},{\"props\":{\"className\":\"interact-flex-row-right\"},\"nodeType\":\"DOM\",\"type\":\"node\",\"instanceArgs\":{\"namespace\":\"html\",\"tag\":\"div\"},\"children\":[{\"props\":{\"attributes\":{\"data-bind\":\"text: formatted_val\"}},\"nodeType\":\"DOM\",\"type\":\"node\",\"instanceArgs\":{\"namespace\":\"html\",\"tag\":\"p\"},\"children\":[]}]}]}]}]},{\"props\":{\"className\":\"field interact-widget\"},\"nodeType\":\"DOM\",\"type\":\"node\",\"instanceArgs\":{\"namespace\":\"html\",\"tag\":\"div\"},\"children\":[{\"props\":{},\"nodeType\":\"Scope\",\"type\":\"node\",\"instanceArgs\":{\"imports\":{\"data\":[{\"name\":\"knockout\",\"type\":\"js\",\"url\":\"\\/assetserver\\/2712bb0a7395d062608c2f218a74b700f6c76b99-knockout.js\"},{\"name\":\"knockout_punches\",\"type\":\"js\",\"url\":\"\\/assetserver\\/fb4445501a2be4ab82176667f844e40da26fa007-knockout_punches.js\"},{\"name\":null,\"type\":\"js\",\"url\":\"\\/assetserver\\/a8ea7d9192d5fa85c6fac26c72d7fece1e500138-all.js\"},{\"name\":null,\"type\":\"css\",\"url\":\"\\/assetserver\\/620a53798cfdb29a4a2142ce0588e9aadc351d94-style.css\"},{\"name\":null,\"type\":\"css\",\"url\":\"\\/assetserver\\/9f2f17f677abbfd015a7c6b0c0f09a2da809bee2-bulma_confined.min.css\"}],\"type\":\"async_block\"},\"id\":\"13140446702345088630\",\"handlers\":{\"changes\":[\"(function (val){return (val!=this.model[\\\"changes\\\"]()) ? (this.valueFromJulia[\\\"changes\\\"]=true, this.model[\\\"changes\\\"](val)) : undefined})\"],\"index\":[\"(function (val){return (val!=this.model[\\\"index\\\"]()) ? (this.valueFromJulia[\\\"index\\\"]=true, this.model[\\\"index\\\"](val)) : undefined})\"]},\"systemjs_options\":null,\"mount_callbacks\":[\"function () {\\n    var handler = (function (ko, koPunches) {\\n    ko.punches.enableAll();\\n    ko.bindingHandlers.numericValue = {\\n        init: function(element, valueAccessor, allBindings, data, context) {\\n            var stringified = ko.observable(ko.unwrap(valueAccessor()));\\n            stringified.subscribe(function(value) {\\n                var val = parseFloat(value);\\n                if (!isNaN(val)) {\\n                    valueAccessor()(val);\\n                }\\n            });\\n            valueAccessor().subscribe(function(value) {\\n                var str = JSON.stringify(value);\\n                if ((str == \\\"0\\\") && ([\\\"-0\\\", \\\"-0.\\\"].indexOf(stringified()) >= 0))\\n                     return;\\n                 if ([\\\"null\\\", \\\"\\\"].indexOf(str) >= 0)\\n                     return;\\n                stringified(str);\\n            });\\n            ko.applyBindingsToNode(\\n                element,\\n                {\\n                    value: stringified,\\n                    valueUpdate: allBindings.get('valueUpdate'),\\n                },\\n                context,\\n            );\\n        }\\n    };\\n    var json_data = {\\\"formatted_vals\\\":[\\\"0.0\\\",\\\"0.01\\\",\\\"0.02\\\",\\\"0.03\\\",\\\"0.04\\\",\\\"0.05\\\",\\\"0.06\\\",\\\"0.07\\\",\\\"0.08\\\",\\\"0.09\\\",\\\"0.1\\\",\\\"0.11\\\",\\\"0.12\\\",\\\"0.13\\\",\\\"0.14\\\",\\\"0.15\\\",\\\"0.16\\\",\\\"0.17\\\",\\\"0.18\\\",\\\"0.19\\\",\\\"0.2\\\",\\\"0.21\\\",\\\"0.22\\\",\\\"0.23\\\",\\\"0.24\\\",\\\"0.25\\\",\\\"0.26\\\",\\\"0.27\\\",\\\"0.28\\\",\\\"0.29\\\",\\\"0.3\\\",\\\"0.31\\\",\\\"0.32\\\",\\\"0.33\\\",\\\"0.34\\\",\\\"0.35\\\",\\\"0.36\\\",\\\"0.37\\\",\\\"0.38\\\",\\\"0.39\\\",\\\"0.4\\\",\\\"0.41\\\",\\\"0.42\\\",\\\"0.43\\\",\\\"0.44\\\",\\\"0.45\\\",\\\"0.46\\\",\\\"0.47\\\",\\\"0.48\\\",\\\"0.49\\\",\\\"0.5\\\",\\\"0.51\\\",\\\"0.52\\\",\\\"0.53\\\",\\\"0.54\\\",\\\"0.55\\\",\\\"0.56\\\",\\\"0.57\\\",\\\"0.58\\\",\\\"0.59\\\",\\\"0.6\\\",\\\"0.61\\\",\\\"0.62\\\",\\\"0.63\\\",\\\"0.64\\\",\\\"0.65\\\",\\\"0.66\\\",\\\"0.67\\\",\\\"0.68\\\",\\\"0.69\\\",\\\"0.7\\\",\\\"0.71\\\",\\\"0.72\\\",\\\"0.73\\\",\\\"0.74\\\",\\\"0.75\\\",\\\"0.76\\\",\\\"0.77\\\",\\\"0.78\\\",\\\"0.79\\\",\\\"0.8\\\",\\\"0.81\\\",\\\"0.82\\\",\\\"0.83\\\",\\\"0.84\\\",\\\"0.85\\\",\\\"0.86\\\",\\\"0.87\\\",\\\"0.88\\\",\\\"0.89\\\",\\\"0.9\\\",\\\"0.91\\\",\\\"0.92\\\",\\\"0.93\\\",\\\"0.94\\\",\\\"0.95\\\",\\\"0.96\\\",\\\"0.97\\\",\\\"0.98\\\",\\\"0.99\\\",\\\"1.0\\\",\\\"1.01\\\",\\\"1.02\\\",\\\"1.03\\\",\\\"1.04\\\",\\\"1.05\\\",\\\"1.06\\\",\\\"1.07\\\",\\\"1.08\\\",\\\"1.09\\\",\\\"1.1\\\",\\\"1.11\\\",\\\"1.12\\\",\\\"1.13\\\",\\\"1.14\\\",\\\"1.15\\\",\\\"1.16\\\",\\\"1.17\\\",\\\"1.18\\\",\\\"1.19\\\",\\\"1.2\\\",\\\"1.21\\\",\\\"1.22\\\",\\\"1.23\\\",\\\"1.24\\\",\\\"1.25\\\",\\\"1.26\\\",\\\"1.27\\\",\\\"1.28\\\",\\\"1.29\\\",\\\"1.3\\\",\\\"1.31\\\",\\\"1.32\\\",\\\"1.33\\\",\\\"1.34\\\",\\\"1.35\\\",\\\"1.36\\\",\\\"1.37\\\",\\\"1.38\\\",\\\"1.39\\\",\\\"1.4\\\",\\\"1.41\\\",\\\"1.42\\\",\\\"1.43\\\",\\\"1.44\\\",\\\"1.45\\\",\\\"1.46\\\",\\\"1.47\\\",\\\"1.48\\\",\\\"1.49\\\",\\\"1.5\\\",\\\"1.51\\\",\\\"1.52\\\",\\\"1.53\\\",\\\"1.54\\\",\\\"1.55\\\",\\\"1.56\\\",\\\"1.57\\\",\\\"1.58\\\",\\\"1.59\\\",\\\"1.6\\\",\\\"1.61\\\",\\\"1.62\\\",\\\"1.63\\\",\\\"1.64\\\",\\\"1.65\\\",\\\"1.66\\\",\\\"1.67\\\",\\\"1.68\\\",\\\"1.69\\\",\\\"1.7\\\",\\\"1.71\\\",\\\"1.72\\\",\\\"1.73\\\",\\\"1.74\\\",\\\"1.75\\\",\\\"1.76\\\",\\\"1.77\\\",\\\"1.78\\\",\\\"1.79\\\",\\\"1.8\\\",\\\"1.81\\\",\\\"1.82\\\",\\\"1.83\\\",\\\"1.84\\\",\\\"1.85\\\",\\\"1.86\\\",\\\"1.87\\\",\\\"1.88\\\",\\\"1.89\\\",\\\"1.9\\\",\\\"1.91\\\",\\\"1.92\\\",\\\"1.93\\\",\\\"1.94\\\",\\\"1.95\\\",\\\"1.96\\\",\\\"1.97\\\",\\\"1.98\\\",\\\"1.99\\\",\\\"2.0\\\"],\\\"changes\\\":WebIO.getval({\\\"name\\\":\\\"changes\\\",\\\"scope\\\":\\\"13140446702345088630\\\",\\\"id\\\":\\\"2899681470006960995\\\",\\\"type\\\":\\\"observable\\\"}),\\\"index\\\":WebIO.getval({\\\"name\\\":\\\"index\\\",\\\"scope\\\":\\\"13140446702345088630\\\",\\\"id\\\":\\\"17603253559442038303\\\",\\\"type\\\":\\\"observable\\\"})};\\n    var self = this;\\n    function AppViewModel() {\\n        for (var key in json_data) {\\n            var el = json_data[key];\\n            this[key] = Array.isArray(el) ? ko.observableArray(el) : ko.observable(el);\\n        }\\n        \\n        [this[\\\"formatted_val\\\"]=ko.computed(    function(){\\n        return this.formatted_vals()[parseInt(this.index())-(1)];\\n    }\\n,this)]\\n        [this[\\\"changes\\\"].subscribe((function (val){!(this.valueFromJulia[\\\"changes\\\"]) ? (WebIO.setval({\\\"name\\\":\\\"changes\\\",\\\"scope\\\":\\\"13140446702345088630\\\",\\\"id\\\":\\\"2899681470006960995\\\",\\\"type\\\":\\\"observable\\\"},val)) : undefined; return this.valueFromJulia[\\\"changes\\\"]=false}),self),this[\\\"index\\\"].subscribe((function (val){!(this.valueFromJulia[\\\"index\\\"]) ? (WebIO.setval({\\\"name\\\":\\\"index\\\",\\\"scope\\\":\\\"13140446702345088630\\\",\\\"id\\\":\\\"17603253559442038303\\\",\\\"type\\\":\\\"observable\\\"},val)) : undefined; return this.valueFromJulia[\\\"index\\\"]=false}),self)]\\n        \\n    }\\n    self.model = new AppViewModel();\\n    self.valueFromJulia = {};\\n    for (var key in json_data) {\\n        self.valueFromJulia[key] = false;\\n    }\\n    ko.applyBindings(self.model, self.dom);\\n}\\n);\\n    (WebIO.importBlock({\\\"data\\\":[{\\\"name\\\":\\\"knockout\\\",\\\"type\\\":\\\"js\\\",\\\"url\\\":\\\"\\/assetserver\\/2712bb0a7395d062608c2f218a74b700f6c76b99-knockout.js\\\"},{\\\"name\\\":\\\"knockout_punches\\\",\\\"type\\\":\\\"js\\\",\\\"url\\\":\\\"\\/assetserver\\/fb4445501a2be4ab82176667f844e40da26fa007-knockout_punches.js\\\"}],\\\"type\\\":\\\"async_block\\\"})).then((imports) => handler.apply(this, imports));\\n}\\n\"],\"observables\":{\"changes\":{\"sync\":false,\"id\":\"2899681470006960995\",\"value\":0},\"index\":{\"sync\":true,\"id\":\"17603253559442038303\",\"value\":101}}},\"children\":[{\"props\":{\"className\":\"interact-flex-row interact-widget\"},\"nodeType\":\"DOM\",\"type\":\"node\",\"instanceArgs\":{\"namespace\":\"html\",\"tag\":\"div\"},\"children\":[{\"props\":{\"className\":\"interact-flex-row-left\"},\"nodeType\":\"DOM\",\"type\":\"node\",\"instanceArgs\":{\"namespace\":\"html\",\"tag\":\"div\"},\"children\":[{\"props\":{\"className\":\"interact \",\"style\":{\"padding\":\"5px 10px 0px 10px\"}},\"nodeType\":\"DOM\",\"type\":\"node\",\"instanceArgs\":{\"namespace\":\"html\",\"tag\":\"label\"},\"children\":[\"ω\"]}]},{\"props\":{\"className\":\"interact-flex-row-center\"},\"nodeType\":\"DOM\",\"type\":\"node\",\"instanceArgs\":{\"namespace\":\"html\",\"tag\":\"div\"},\"children\":[{\"props\":{\"max\":201,\"min\":1,\"attributes\":{\"type\":\"range\",\"data-bind\":\"numericValue: index, valueUpdate: 'input', event: {change: function (){this.changes(this.changes()+1)}}\",\"orient\":\"horizontal\"},\"step\":1,\"className\":\"slider slider is-fullwidth\",\"style\":{}},\"nodeType\":\"DOM\",\"type\":\"node\",\"instanceArgs\":{\"namespace\":\"html\",\"tag\":\"input\"},\"children\":[]}]},{\"props\":{\"className\":\"interact-flex-row-right\"},\"nodeType\":\"DOM\",\"type\":\"node\",\"instanceArgs\":{\"namespace\":\"html\",\"tag\":\"div\"},\"children\":[{\"props\":{\"attributes\":{\"data-bind\":\"text: formatted_val\"}},\"nodeType\":\"DOM\",\"type\":\"node\",\"instanceArgs\":{\"namespace\":\"html\",\"tag\":\"p\"},\"children\":[]}]}]}]}]},{\"props\":{\"className\":\"field interact-widget\"},\"nodeType\":\"DOM\",\"type\":\"node\",\"instanceArgs\":{\"namespace\":\"html\",\"tag\":\"div\"},\"children\":[{\"props\":{},\"nodeType\":\"Scope\",\"type\":\"node\",\"instanceArgs\":{\"imports\":{\"data\":[{\"name\":\"knockout\",\"type\":\"js\",\"url\":\"\\/assetserver\\/2712bb0a7395d062608c2f218a74b700f6c76b99-knockout.js\"},{\"name\":\"knockout_punches\",\"type\":\"js\",\"url\":\"\\/assetserver\\/fb4445501a2be4ab82176667f844e40da26fa007-knockout_punches.js\"},{\"name\":null,\"type\":\"js\",\"url\":\"\\/assetserver\\/a8ea7d9192d5fa85c6fac26c72d7fece1e500138-all.js\"},{\"name\":null,\"type\":\"css\",\"url\":\"\\/assetserver\\/620a53798cfdb29a4a2142ce0588e9aadc351d94-style.css\"},{\"name\":null,\"type\":\"css\",\"url\":\"\\/assetserver\\/9f2f17f677abbfd015a7c6b0c0f09a2da809bee2-bulma_confined.min.css\"}],\"type\":\"async_block\"},\"id\":\"11677190095257288595\",\"handlers\":{\"changes\":[\"(function (val){return (val!=this.model[\\\"changes\\\"]()) ? (this.valueFromJulia[\\\"changes\\\"]=true, this.model[\\\"changes\\\"](val)) : undefined})\"],\"index\":[\"(function (val){return (val!=this.model[\\\"index\\\"]()) ? (this.valueFromJulia[\\\"index\\\"]=true, this.model[\\\"index\\\"](val)) : undefined})\"]},\"systemjs_options\":null,\"mount_callbacks\":[\"function () {\\n    var handler = (function (ko, koPunches) {\\n    ko.punches.enableAll();\\n    ko.bindingHandlers.numericValue = {\\n        init: function(element, valueAccessor, allBindings, data, context) {\\n            var stringified = ko.observable(ko.unwrap(valueAccessor()));\\n            stringified.subscribe(function(value) {\\n                var val = parseFloat(value);\\n                if (!isNaN(val)) {\\n                    valueAccessor()(val);\\n                }\\n            });\\n            valueAccessor().subscribe(function(value) {\\n                var str = JSON.stringify(value);\\n                if ((str == \\\"0\\\") && ([\\\"-0\\\", \\\"-0.\\\"].indexOf(stringified()) >= 0))\\n                     return;\\n                 if ([\\\"null\\\", \\\"\\\"].indexOf(str) >= 0)\\n                     return;\\n                stringified(str);\\n            });\\n            ko.applyBindingsToNode(\\n                element,\\n                {\\n                    value: stringified,\\n                    valueUpdate: allBindings.get('valueUpdate'),\\n                },\\n                context,\\n            );\\n        }\\n    };\\n    var json_data = {\\\"formatted_vals\\\":[\\\"0\\\",\\\"1\\\",\\\"2\\\",\\\"3\\\",\\\"4\\\",\\\"5\\\",\\\"6\\\",\\\"7\\\",\\\"8\\\",\\\"9\\\",\\\"10\\\",\\\"11\\\",\\\"12\\\",\\\"13\\\",\\\"14\\\",\\\"15\\\",\\\"16\\\",\\\"17\\\",\\\"18\\\",\\\"19\\\",\\\"20\\\",\\\"21\\\",\\\"22\\\",\\\"23\\\",\\\"24\\\",\\\"25\\\",\\\"26\\\",\\\"27\\\",\\\"28\\\",\\\"29\\\",\\\"30\\\",\\\"31\\\",\\\"32\\\",\\\"33\\\",\\\"34\\\",\\\"35\\\",\\\"36\\\",\\\"37\\\",\\\"38\\\",\\\"39\\\",\\\"40\\\",\\\"41\\\",\\\"42\\\",\\\"43\\\",\\\"44\\\",\\\"45\\\",\\\"46\\\",\\\"47\\\",\\\"48\\\",\\\"49\\\",\\\"50\\\",\\\"51\\\",\\\"52\\\",\\\"53\\\",\\\"54\\\",\\\"55\\\",\\\"56\\\",\\\"57\\\",\\\"58\\\",\\\"59\\\",\\\"60\\\",\\\"61\\\",\\\"62\\\",\\\"63\\\",\\\"64\\\",\\\"65\\\",\\\"66\\\",\\\"67\\\",\\\"68\\\",\\\"69\\\",\\\"70\\\",\\\"71\\\",\\\"72\\\",\\\"73\\\",\\\"74\\\",\\\"75\\\",\\\"76\\\",\\\"77\\\",\\\"78\\\",\\\"79\\\",\\\"80\\\",\\\"81\\\",\\\"82\\\",\\\"83\\\",\\\"84\\\",\\\"85\\\",\\\"86\\\",\\\"87\\\",\\\"88\\\",\\\"89\\\",\\\"90\\\",\\\"91\\\",\\\"92\\\",\\\"93\\\",\\\"94\\\",\\\"95\\\",\\\"96\\\",\\\"97\\\",\\\"98\\\",\\\"99\\\",\\\"100\\\",\\\"101\\\",\\\"102\\\",\\\"103\\\",\\\"104\\\",\\\"105\\\",\\\"106\\\",\\\"107\\\",\\\"108\\\",\\\"109\\\",\\\"110\\\",\\\"111\\\",\\\"112\\\",\\\"113\\\",\\\"114\\\",\\\"115\\\",\\\"116\\\",\\\"117\\\",\\\"118\\\",\\\"119\\\",\\\"120\\\",\\\"121\\\",\\\"122\\\",\\\"123\\\",\\\"124\\\",\\\"125\\\",\\\"126\\\",\\\"127\\\",\\\"128\\\",\\\"129\\\",\\\"130\\\",\\\"131\\\",\\\"132\\\",\\\"133\\\",\\\"134\\\",\\\"135\\\",\\\"136\\\",\\\"137\\\",\\\"138\\\",\\\"139\\\",\\\"140\\\",\\\"141\\\",\\\"142\\\",\\\"143\\\",\\\"144\\\",\\\"145\\\",\\\"146\\\",\\\"147\\\",\\\"148\\\",\\\"149\\\",\\\"150\\\",\\\"151\\\",\\\"152\\\",\\\"153\\\",\\\"154\\\",\\\"155\\\",\\\"156\\\",\\\"157\\\",\\\"158\\\",\\\"159\\\",\\\"160\\\",\\\"161\\\",\\\"162\\\",\\\"163\\\",\\\"164\\\",\\\"165\\\",\\\"166\\\",\\\"167\\\",\\\"168\\\",\\\"169\\\",\\\"170\\\",\\\"171\\\",\\\"172\\\",\\\"173\\\",\\\"174\\\",\\\"175\\\",\\\"176\\\",\\\"177\\\",\\\"178\\\",\\\"179\\\",\\\"180\\\",\\\"181\\\",\\\"182\\\",\\\"183\\\",\\\"184\\\",\\\"185\\\",\\\"186\\\",\\\"187\\\",\\\"188\\\",\\\"189\\\",\\\"190\\\",\\\"191\\\",\\\"192\\\",\\\"193\\\",\\\"194\\\",\\\"195\\\",\\\"196\\\",\\\"197\\\",\\\"198\\\",\\\"199\\\",\\\"200\\\"],\\\"changes\\\":WebIO.getval({\\\"name\\\":\\\"changes\\\",\\\"scope\\\":\\\"11677190095257288595\\\",\\\"id\\\":\\\"13637538984935582066\\\",\\\"type\\\":\\\"observable\\\"}),\\\"index\\\":WebIO.getval({\\\"name\\\":\\\"index\\\",\\\"scope\\\":\\\"11677190095257288595\\\",\\\"id\\\":\\\"2207746971838634866\\\",\\\"type\\\":\\\"observable\\\"})};\\n    var self = this;\\n    function AppViewModel() {\\n        for (var key in json_data) {\\n            var el = json_data[key];\\n            this[key] = Array.isArray(el) ? ko.observableArray(el) : ko.observable(el);\\n        }\\n        \\n        [this[\\\"formatted_val\\\"]=ko.computed(    function(){\\n        return this.formatted_vals()[parseInt(this.index())-(0)];\\n    }\\n,this)]\\n        [this[\\\"changes\\\"].subscribe((function (val){!(this.valueFromJulia[\\\"changes\\\"]) ? (WebIO.setval({\\\"name\\\":\\\"changes\\\",\\\"scope\\\":\\\"11677190095257288595\\\",\\\"id\\\":\\\"13637538984935582066\\\",\\\"type\\\":\\\"observable\\\"},val)) : undefined; return this.valueFromJulia[\\\"changes\\\"]=false}),self),this[\\\"index\\\"].subscribe((function (val){!(this.valueFromJulia[\\\"index\\\"]) ? (WebIO.setval({\\\"name\\\":\\\"index\\\",\\\"scope\\\":\\\"11677190095257288595\\\",\\\"id\\\":\\\"2207746971838634866\\\",\\\"type\\\":\\\"observable\\\"},val)) : undefined; return this.valueFromJulia[\\\"index\\\"]=false}),self)]\\n        \\n    }\\n    self.model = new AppViewModel();\\n    self.valueFromJulia = {};\\n    for (var key in json_data) {\\n        self.valueFromJulia[key] = false;\\n    }\\n    ko.applyBindings(self.model, self.dom);\\n}\\n);\\n    (WebIO.importBlock({\\\"data\\\":[{\\\"name\\\":\\\"knockout\\\",\\\"type\\\":\\\"js\\\",\\\"url\\\":\\\"\\/assetserver\\/2712bb0a7395d062608c2f218a74b700f6c76b99-knockout.js\\\"},{\\\"name\\\":\\\"knockout_punches\\\",\\\"type\\\":\\\"js\\\",\\\"url\\\":\\\"\\/assetserver\\/fb4445501a2be4ab82176667f844e40da26fa007-knockout_punches.js\\\"}],\\\"type\\\":\\\"async_block\\\"})).then((imports) => handler.apply(this, imports));\\n}\\n\"],\"observables\":{\"changes\":{\"sync\":false,\"id\":\"13637538984935582066\",\"value\":0},\"index\":{\"sync\":true,\"id\":\"2207746971838634866\",\"value\":100}}},\"children\":[{\"props\":{\"className\":\"interact-flex-row interact-widget\"},\"nodeType\":\"DOM\",\"type\":\"node\",\"instanceArgs\":{\"namespace\":\"html\",\"tag\":\"div\"},\"children\":[{\"props\":{\"className\":\"interact-flex-row-left\"},\"nodeType\":\"DOM\",\"type\":\"node\",\"instanceArgs\":{\"namespace\":\"html\",\"tag\":\"div\"},\"children\":[{\"props\":{\"className\":\"interact \",\"style\":{\"padding\":\"5px 10px 0px 10px\"}},\"nodeType\":\"DOM\",\"type\":\"node\",\"instanceArgs\":{\"namespace\":\"html\",\"tag\":\"label\"},\"children\":[\"tmax\"]}]},{\"props\":{\"className\":\"interact-flex-row-center\"},\"nodeType\":\"DOM\",\"type\":\"node\",\"instanceArgs\":{\"namespace\":\"html\",\"tag\":\"div\"},\"children\":[{\"props\":{\"max\":200,\"min\":0,\"attributes\":{\"type\":\"range\",\"data-bind\":\"numericValue: index, valueUpdate: 'input', event: {change: function (){this.changes(this.changes()+1)}}\",\"orient\":\"horizontal\"},\"step\":1,\"className\":\"slider slider is-fullwidth\",\"style\":{}},\"nodeType\":\"DOM\",\"type\":\"node\",\"instanceArgs\":{\"namespace\":\"html\",\"tag\":\"input\"},\"children\":[]}]},{\"props\":{\"className\":\"interact-flex-row-right\"},\"nodeType\":\"DOM\",\"type\":\"node\",\"instanceArgs\":{\"namespace\":\"html\",\"tag\":\"div\"},\"children\":[{\"props\":{\"attributes\":{\"data-bind\":\"text: formatted_val\"}},\"nodeType\":\"DOM\",\"type\":\"node\",\"instanceArgs\":{\"namespace\":\"html\",\"tag\":\"p\"},\"children\":[]}]}]}]}]},{\"props\":{},\"nodeType\":\"Scope\",\"type\":\"node\",\"instanceArgs\":{\"imports\":{\"data\":[],\"type\":\"async_block\"},\"id\":\"17663556312775506389\",\"handlers\":{},\"systemjs_options\":null,\"mount_callbacks\":[],\"observables\":{\"obs-node\":{\"sync\":false,\"id\":\"515046661679987449\",\"value\":{\"props\":{\"className\":\"interact-flex-row interact-widget\"},\"nodeType\":\"DOM\",\"type\":\"node\",\"instanceArgs\":{\"namespace\":\"html\",\"tag\":\"div\"},\"children\":[{\"props\":{\"setInnerHtml\":\"<?xml version=\\\"1.0\\\" encoding=\\\"utf-8\\\"?>\\n<svg xmlns=\\\"http:\\/\\/www.w3.org\\/2000\\/svg\\\" xmlns:xlink=\\\"http:\\/\\/www.w3.org\\/1999\\/xlink\\\" width=\\\"900\\\" height=\\\"400\\\" viewBox=\\\"0 0 3600 1600\\\">\\n<defs>\\n  <clipPath id=\\\"clip530\\\">\\n    <rect x=\\\"0\\\" y=\\\"0\\\" width=\\\"3600\\\" height=\\\"1600\\\"\\/>\\n  <\\/clipPath>\\n<\\/defs>\\n<path clip-path=\\\"url(#clip530)\\\" d=\\\"\\nM0 1600 L3600 1600 L3600 0 L0 0  Z\\n  \\\" fill=\\\"#ffffff\\\" fill-rule=\\\"evenodd\\\" fill-opacity=\\\"1\\\"\\/>\\n<defs>\\n  <clipPath id=\\\"clip531\\\">\\n    <rect x=\\\"720\\\" y=\\\"0\\\" width=\\\"2521\\\" height=\\\"1600\\\"\\/>\\n  <\\/clipPath>\\n<\\/defs>\\n<defs>\\n  <clipPath id=\\\"clip532\\\">\\n    <rect x=\\\"198\\\" y=\\\"47\\\" width=\\\"1574\\\" height=\\\"1452\\\"\\/>\\n  <\\/clipPath>\\n<\\/defs>\\n<path clip-path=\\\"url(#clip532)\\\" d=\\\"\\nM198.274 1412.27 L198.274 304.34 L774.041 47.2441 L1771.3 132.943 L1771.3 1240.87 L1195.53 1497.97 L198.274 1412.27  Z\\n  \\\" fill=\\\"#ffffff\\\" fill-rule=\\\"evenodd\\\" fill-opacity=\\\"1\\\"\\/>\\n<polyline clip-path=\\\"url(#clip532)\\\" style=\\\"stroke:#000000; stroke-linecap:butt; stroke-linejoin:round; stroke-width:2; stroke-opacity:0.1; fill:none\\\" points=\\\"\\n  269.067,1418.35 844.834,1161.26 \\n  \\\"\\/>\\n<polyline clip-path=\\\"url(#clip532)\\\" style=\\\"stroke:#000000; stroke-linecap:butt; stroke-linejoin:round; stroke-width:2; stroke-opacity:0.1; fill:none\\\" points=\\\"\\n  844.834,1161.26 844.834,53.3277 \\n  \\\"\\/>\\n<polyline clip-path=\\\"url(#clip532)\\\" style=\\\"stroke:#000000; stroke-linecap:butt; stroke-linejoin:round; stroke-width:2; stroke-opacity:0.1; fill:none\\\" points=\\\"\\n  482.494,1436.69 1058.26,1179.6 \\n  \\\"\\/>\\n<polyline clip-path=\\\"url(#clip532)\\\" style=\\\"stroke:#000000; stroke-linecap:butt; stroke-linejoin:round; stroke-width:2; stroke-opacity:0.1; fill:none\\\" points=\\\"\\n  1058.26,1179.6 1058.26,71.6683 \\n  \\\"\\/>\\n<polyline clip-path=\\\"url(#clip532)\\\" style=\\\"stroke:#000000; stroke-linecap:butt; stroke-linejoin:round; stroke-width:2; stroke-opacity:0.1; fill:none\\\" points=\\\"\\n  695.92,1455.03 1271.69,1197.94 \\n  \\\"\\/>\\n<polyline clip-path=\\\"url(#clip532)\\\" style=\\\"stroke:#000000; stroke-linecap:butt; stroke-linejoin:round; stroke-width:2; stroke-opacity:0.1; fill:none\\\" points=\\\"\\n  1271.69,1197.94 1271.69,90.009 \\n  \\\"\\/>\\n<polyline clip-path=\\\"url(#clip532)\\\" style=\\\"stroke:#000000; stroke-linecap:butt; stroke-linejoin:round; stroke-width:2; stroke-opacity:0.1; fill:none\\\" points=\\\"\\n  909.347,1473.37 1485.11,1216.28 \\n  \\\"\\/>\\n<polyline clip-path=\\\"url(#clip532)\\\" style=\\\"stroke:#000000; stroke-linecap:butt; stroke-linejoin:round; stroke-width:2; stroke-opacity:0.1; fill:none\\\" points=\\\"\\n  1485.11,1216.28 1485.11,108.35 \\n  \\\"\\/>\\n<polyline clip-path=\\\"url(#clip532)\\\" style=\\\"stroke:#000000; stroke-linecap:butt; stroke-linejoin:round; stroke-width:2; stroke-opacity:0.1; fill:none\\\" points=\\\"\\n  1122.77,1491.72 1698.54,1234.62 \\n  \\\"\\/>\\n<polyline clip-path=\\\"url(#clip532)\\\" style=\\\"stroke:#000000; stroke-linecap:butt; stroke-linejoin:round; stroke-width:2; stroke-opacity:0.1; fill:none\\\" points=\\\"\\n  1698.54,1234.62 1698.54,126.69 \\n  \\\"\\/>\\n<polyline clip-path=\\\"url(#clip530)\\\" style=\\\"stroke:#000000; stroke-linecap:butt; stroke-linejoin:round; stroke-width:4; stroke-opacity:1; fill:none\\\" points=\\\"\\n  198.274,1412.27 1195.53,1497.97 \\n  \\\"\\/>\\n<polyline clip-path=\\\"url(#clip530)\\\" style=\\\"stroke:#000000; stroke-linecap:butt; stroke-linejoin:round; stroke-width:4; stroke-opacity:1; fill:none\\\" points=\\\"\\n  774.041,47.2441 1771.3,132.943 \\n  \\\"\\/>\\n<polyline clip-path=\\\"url(#clip530)\\\" style=\\\"stroke:#000000; stroke-linecap:butt; stroke-linejoin:round; stroke-width:4; stroke-opacity:1; fill:none\\\" points=\\\"\\n  269.067,1418.35 275.977,1415.27 \\n  \\\"\\/>\\n<polyline clip-path=\\\"url(#clip530)\\\" style=\\\"stroke:#000000; stroke-linecap:butt; stroke-linejoin:round; stroke-width:4; stroke-opacity:1; fill:none\\\" points=\\\"\\n  482.494,1436.69 489.403,1433.61 \\n  \\\"\\/>\\n<polyline clip-path=\\\"url(#clip530)\\\" style=\\\"stroke:#000000; stroke-linecap:butt; stroke-linejoin:round; stroke-width:4; stroke-opacity:1; fill:none\\\" points=\\\"\\n  695.92,1455.03 702.829,1451.95 \\n  \\\"\\/>\\n<polyline clip-path=\\\"url(#clip530)\\\" style=\\\"stroke:#000000; stroke-linecap:butt; stroke-linejoin:round; stroke-width:4; stroke-opacity:1; fill:none\\\" points=\\\"\\n  909.347,1473.37 916.256,1470.29 \\n  \\\"\\/>\\n<polyline clip-path=\\\"url(#clip530)\\\" style=\\\"stroke:#000000; stroke-linecap:butt; stroke-linejoin:round; stroke-width:4; stroke-opacity:1; fill:none\\\" points=\\\"\\n  1122.77,1491.72 1129.68,1488.63 \\n  \\\"\\/>\\n<path clip-path=\\\"url(#clip530)\\\" d=\\\"M205.253 1461.85 L234.929 1461.85 L234.929 1465.78 L205.253 1465.78 L205.253 1461.85 Z\\\" fill=\\\"#000000\\\" fill-rule=\\\"evenodd\\\" fill-opacity=\\\"1\\\" \\/><path clip-path=\\\"url(#clip530)\\\" d=\\\"M249.049 1474.74 L265.369 1474.74 L265.369 1478.67 L243.424 1478.67 L243.424 1474.74 Q246.086 1471.98 250.67 1467.35 Q255.276 1462.7 256.457 1461.36 Q258.702 1458.84 259.582 1457.1 Q260.484 1455.34 260.484 1453.65 Q260.484 1450.9 258.54 1449.16 Q256.619 1447.42 253.517 1447.42 Q251.318 1447.42 248.864 1448.19 Q246.434 1448.95 243.656 1450.5 L243.656 1445.78 Q246.48 1444.65 248.934 1444.07 Q251.387 1443.49 253.424 1443.49 Q258.795 1443.49 261.989 1446.17 Q265.183 1448.86 265.183 1453.35 Q265.183 1455.48 264.373 1457.4 Q263.586 1459.3 261.48 1461.89 Q260.901 1462.56 257.799 1465.78 Q254.697 1468.98 249.049 1474.74 Z\\\" fill=\\\"#000000\\\" fill-rule=\\\"evenodd\\\" fill-opacity=\\\"1\\\" \\/><path clip-path=\\\"url(#clip530)\\\" d=\\\"M418.309 1480.19 L447.985 1480.19 L447.985 1484.12 L418.309 1484.12 L418.309 1480.19 Z\\\" fill=\\\"#000000\\\" fill-rule=\\\"evenodd\\\" fill-opacity=\\\"1\\\" \\/><path clip-path=\\\"url(#clip530)\\\" d=\\\"M458.888 1493.08 L466.527 1493.08 L466.527 1466.71 L458.217 1468.38 L458.217 1464.12 L466.48 1462.45 L471.156 1462.45 L471.156 1493.08 L478.795 1493.08 L478.795 1497.01 L458.888 1497.01 L458.888 1493.08 Z\\\" fill=\\\"#000000\\\" fill-rule=\\\"evenodd\\\" fill-opacity=\\\"1\\\" \\/><path clip-path=\\\"url(#clip530)\\\" d=\\\"M680.277 1483.87 Q676.666 1483.87 674.837 1487.44 Q673.032 1490.98 673.032 1498.11 Q673.032 1505.22 674.837 1508.78 Q676.666 1512.32 680.277 1512.32 Q683.911 1512.32 685.717 1508.78 Q687.546 1505.22 687.546 1498.11 Q687.546 1490.98 685.717 1487.44 Q683.911 1483.87 680.277 1483.87 M680.277 1480.17 Q686.087 1480.17 689.143 1484.78 Q692.222 1489.36 692.222 1498.11 Q692.222 1506.84 689.143 1511.44 Q686.087 1516.03 680.277 1516.03 Q674.467 1516.03 671.388 1511.44 Q668.333 1506.84 668.333 1498.11 Q668.333 1489.36 671.388 1484.78 Q674.467 1480.17 680.277 1480.17 Z\\\" fill=\\\"#000000\\\" fill-rule=\\\"evenodd\\\" fill-opacity=\\\"1\\\" \\/><path clip-path=\\\"url(#clip530)\\\" d=\\\"M885.741 1529.76 L893.38 1529.76 L893.38 1503.4 L885.069 1505.06 L885.069 1500.8 L893.333 1499.14 L898.009 1499.14 L898.009 1529.76 L905.648 1529.76 L905.648 1533.7 L885.741 1533.7 L885.741 1529.76 Z\\\" fill=\\\"#000000\\\" fill-rule=\\\"evenodd\\\" fill-opacity=\\\"1\\\" \\/><path clip-path=\\\"url(#clip530)\\\" d=\\\"M1102.76 1548.1 L1119.07 1548.1 L1119.07 1552.04 L1097.13 1552.04 L1097.13 1548.1 Q1099.79 1545.35 1104.38 1540.72 Q1108.98 1536.06 1110.16 1534.72 Q1112.41 1532.2 1113.29 1530.46 Q1114.19 1528.7 1114.19 1527.01 Q1114.19 1524.26 1112.25 1522.52 Q1110.32 1520.79 1107.22 1520.79 Q1105.02 1520.79 1102.57 1521.55 Q1100.14 1522.31 1097.36 1523.87 L1097.36 1519.14 Q1100.19 1518.01 1102.64 1517.43 Q1105.09 1516.85 1107.13 1516.85 Q1112.5 1516.85 1115.69 1519.54 Q1118.89 1522.22 1118.89 1526.71 Q1118.89 1528.84 1118.08 1530.76 Q1117.29 1532.66 1115.19 1535.25 Q1114.61 1535.93 1111.51 1539.14 Q1108.4 1542.34 1102.76 1548.1 Z\\\" fill=\\\"#000000\\\" fill-rule=\\\"evenodd\\\" fill-opacity=\\\"1\\\" \\/><polyline clip-path=\\\"url(#clip532)\\\" style=\\\"stroke:#000000; stroke-linecap:butt; stroke-linejoin:round; stroke-width:2; stroke-opacity:0.1; fill:none\\\" points=\\\"\\n  1218.29,1487.81 221.033,1402.11 \\n  \\\"\\/>\\n<polyline clip-path=\\\"url(#clip532)\\\" style=\\\"stroke:#000000; stroke-linecap:butt; stroke-linejoin:round; stroke-width:2; stroke-opacity:0.1; fill:none\\\" points=\\\"\\n  221.033,1402.11 221.033,294.177 \\n  \\\"\\/>\\n<polyline clip-path=\\\"url(#clip532)\\\" style=\\\"stroke:#000000; stroke-linecap:butt; stroke-linejoin:round; stroke-width:2; stroke-opacity:0.1; fill:none\\\" points=\\\"\\n  1350.63,1428.71 353.37,1343.01 \\n  \\\"\\/>\\n<polyline clip-path=\\\"url(#clip532)\\\" style=\\\"stroke:#000000; stroke-linecap:butt; stroke-linejoin:round; stroke-width:2; stroke-opacity:0.1; fill:none\\\" points=\\\"\\n  353.37,1343.01 353.37,235.085 \\n  \\\"\\/>\\n<polyline clip-path=\\\"url(#clip532)\\\" style=\\\"stroke:#000000; stroke-linecap:butt; stroke-linejoin:round; stroke-width:2; stroke-opacity:0.1; fill:none\\\" points=\\\"\\n  1482.96,1369.62 485.706,1283.92 \\n  \\\"\\/>\\n<polyline clip-path=\\\"url(#clip532)\\\" style=\\\"stroke:#000000; stroke-linecap:butt; stroke-linejoin:round; stroke-width:2; stroke-opacity:0.1; fill:none\\\" points=\\\"\\n  485.706,1283.92 485.706,175.993 \\n  \\\"\\/>\\n<polyline clip-path=\\\"url(#clip532)\\\" style=\\\"stroke:#000000; stroke-linecap:butt; stroke-linejoin:round; stroke-width:2; stroke-opacity:0.1; fill:none\\\" points=\\\"\\n  1615.3,1310.53 618.043,1224.83 \\n  \\\"\\/>\\n<polyline clip-path=\\\"url(#clip532)\\\" style=\\\"stroke:#000000; stroke-linecap:butt; stroke-linejoin:round; stroke-width:2; stroke-opacity:0.1; fill:none\\\" points=\\\"\\n  618.043,1224.83 618.043,116.901 \\n  \\\"\\/>\\n<polyline clip-path=\\\"url(#clip532)\\\" style=\\\"stroke:#000000; stroke-linecap:butt; stroke-linejoin:round; stroke-width:2; stroke-opacity:0.1; fill:none\\\" points=\\\"\\n  1747.64,1251.44 750.38,1165.74 \\n  \\\"\\/>\\n<polyline clip-path=\\\"url(#clip532)\\\" style=\\\"stroke:#000000; stroke-linecap:butt; stroke-linejoin:round; stroke-width:2; stroke-opacity:0.1; fill:none\\\" points=\\\"\\n  750.38,1165.74 750.38,57.8093 \\n  \\\"\\/>\\n<polyline clip-path=\\\"url(#clip530)\\\" style=\\\"stroke:#000000; stroke-linecap:butt; stroke-linejoin:round; stroke-width:4; stroke-opacity:1; fill:none\\\" points=\\\"\\n  1195.53,1497.97 1771.3,1240.87 \\n  \\\"\\/>\\n<polyline clip-path=\\\"url(#clip530)\\\" style=\\\"stroke:#000000; stroke-linecap:butt; stroke-linejoin:round; stroke-width:4; stroke-opacity:1; fill:none\\\" points=\\\"\\n  198.274,304.34 774.041,47.2441 \\n  \\\"\\/>\\n<polyline clip-path=\\\"url(#clip530)\\\" style=\\\"stroke:#000000; stroke-linecap:butt; stroke-linejoin:round; stroke-width:4; stroke-opacity:1; fill:none\\\" points=\\\"\\n  1218.29,1487.81 1206.32,1486.78 \\n  \\\"\\/>\\n<polyline clip-path=\\\"url(#clip530)\\\" style=\\\"stroke:#000000; stroke-linecap:butt; stroke-linejoin:round; stroke-width:4; stroke-opacity:1; fill:none\\\" points=\\\"\\n  1350.63,1428.71 1338.66,1427.68 \\n  \\\"\\/>\\n<polyline clip-path=\\\"url(#clip530)\\\" style=\\\"stroke:#000000; stroke-linecap:butt; stroke-linejoin:round; stroke-width:4; stroke-opacity:1; fill:none\\\" points=\\\"\\n  1482.96,1369.62 1471,1368.59 \\n  \\\"\\/>\\n<polyline clip-path=\\\"url(#clip530)\\\" style=\\\"stroke:#000000; stroke-linecap:butt; stroke-linejoin:round; stroke-width:4; stroke-opacity:1; fill:none\\\" points=\\\"\\n  1615.3,1310.53 1603.33,1309.5 \\n  \\\"\\/>\\n<polyline clip-path=\\\"url(#clip530)\\\" style=\\\"stroke:#000000; stroke-linecap:butt; stroke-linejoin:round; stroke-width:4; stroke-opacity:1; fill:none\\\" points=\\\"\\n  1747.64,1251.44 1735.67,1250.41 \\n  \\\"\\/>\\n<path clip-path=\\\"url(#clip530)\\\" d=\\\"M1235.9 1527.7 L1265.58 1527.7 L1265.58 1531.64 L1235.9 1531.64 L1235.9 1527.7 Z\\\" fill=\\\"#000000\\\" fill-rule=\\\"evenodd\\\" fill-opacity=\\\"1\\\" \\/><path clip-path=\\\"url(#clip530)\\\" d=\\\"M1288.52 1514.05 L1276.71 1532.49 L1288.52 1532.49 L1288.52 1514.05 M1287.29 1509.97 L1293.17 1509.97 L1293.17 1532.49 L1298.1 1532.49 L1298.1 1536.38 L1293.17 1536.38 L1293.17 1544.53 L1288.52 1544.53 L1288.52 1536.38 L1272.92 1536.38 L1272.92 1531.87 L1287.29 1509.97 Z\\\" fill=\\\"#000000\\\" fill-rule=\\\"evenodd\\\" fill-opacity=\\\"1\\\" \\/><path clip-path=\\\"url(#clip530)\\\" d=\\\"M1368.24 1468.61 L1397.92 1468.61 L1397.92 1472.55 L1368.24 1472.55 L1368.24 1468.61 Z\\\" fill=\\\"#000000\\\" fill-rule=\\\"evenodd\\\" fill-opacity=\\\"1\\\" \\/><path clip-path=\\\"url(#clip530)\\\" d=\\\"M1412.04 1481.5 L1428.36 1481.5 L1428.36 1485.44 L1406.41 1485.44 L1406.41 1481.5 Q1409.07 1478.75 1413.66 1474.12 Q1418.26 1469.47 1419.44 1468.12 Q1421.69 1465.6 1422.57 1463.87 Q1423.47 1462.11 1423.47 1460.42 Q1423.47 1457.66 1421.53 1455.93 Q1419.61 1454.19 1416.5 1454.19 Q1414.31 1454.19 1411.85 1454.95 Q1409.42 1455.72 1406.64 1457.27 L1406.64 1452.55 Q1409.47 1451.41 1411.92 1450.83 Q1414.37 1450.25 1416.41 1450.25 Q1421.78 1450.25 1424.98 1452.94 Q1428.17 1455.62 1428.17 1460.12 Q1428.17 1462.25 1427.36 1464.17 Q1426.57 1466.06 1424.47 1468.66 Q1423.89 1469.33 1420.79 1472.55 Q1417.68 1475.74 1412.04 1481.5 Z\\\" fill=\\\"#000000\\\" fill-rule=\\\"evenodd\\\" fill-opacity=\\\"1\\\" \\/><path clip-path=\\\"url(#clip530)\\\" d=\\\"M1512.52 1394.87 Q1508.91 1394.87 1507.08 1398.43 Q1505.28 1401.97 1505.28 1409.1 Q1505.28 1416.21 1507.08 1419.77 Q1508.91 1423.31 1512.52 1423.31 Q1516.16 1423.31 1517.96 1419.77 Q1519.79 1416.21 1519.79 1409.1 Q1519.79 1401.97 1517.96 1398.43 Q1516.16 1394.87 1512.52 1394.87 M1512.52 1391.16 Q1518.33 1391.16 1521.39 1395.77 Q1524.47 1400.35 1524.47 1409.1 Q1524.47 1417.83 1521.39 1422.44 Q1518.33 1427.02 1512.52 1427.02 Q1506.71 1427.02 1503.63 1422.44 Q1500.58 1417.83 1500.58 1409.1 Q1500.58 1400.35 1503.63 1395.77 Q1506.71 1391.16 1512.52 1391.16 Z\\\" fill=\\\"#000000\\\" fill-rule=\\\"evenodd\\\" fill-opacity=\\\"1\\\" \\/><path clip-path=\\\"url(#clip530)\\\" d=\\\"M1638.54 1363.32 L1654.86 1363.32 L1654.86 1367.26 L1632.91 1367.26 L1632.91 1363.32 Q1635.58 1360.57 1640.16 1355.94 Q1644.77 1351.28 1645.95 1349.94 Q1648.19 1347.42 1649.07 1345.68 Q1649.97 1343.92 1649.97 1342.23 Q1649.97 1339.48 1648.03 1337.74 Q1646.11 1336.01 1643.01 1336.01 Q1640.81 1336.01 1638.35 1336.77 Q1635.92 1337.53 1633.15 1339.08 L1633.15 1334.36 Q1635.97 1333.23 1638.42 1332.65 Q1640.88 1332.07 1642.91 1332.07 Q1648.28 1332.07 1651.48 1334.76 Q1654.67 1337.44 1654.67 1341.93 Q1654.67 1344.06 1653.86 1345.98 Q1653.08 1347.88 1650.97 1350.47 Q1650.39 1351.14 1647.29 1354.36 Q1644.19 1357.56 1638.54 1363.32 Z\\\" fill=\\\"#000000\\\" fill-rule=\\\"evenodd\\\" fill-opacity=\\\"1\\\" \\/><path clip-path=\\\"url(#clip530)\\\" d=\\\"M1780.85 1277.68 L1769.05 1296.13 L1780.85 1296.13 L1780.85 1277.68 M1779.63 1273.6 L1785.51 1273.6 L1785.51 1296.13 L1790.44 1296.13 L1790.44 1300.02 L1785.51 1300.02 L1785.51 1308.16 L1780.85 1308.16 L1780.85 1300.02 L1765.25 1300.02 L1765.25 1295.5 L1779.63 1273.6 Z\\\" fill=\\\"#000000\\\" fill-rule=\\\"evenodd\\\" fill-opacity=\\\"1\\\" \\/><polyline clip-path=\\\"url(#clip532)\\\" style=\\\"stroke:#000000; stroke-linecap:butt; stroke-linejoin:round; stroke-width:2; stroke-opacity:0.1; fill:none\\\" points=\\\"\\n  198.274,1380.91 774.041,1123.82 \\n  \\\"\\/>\\n<polyline clip-path=\\\"url(#clip532)\\\" style=\\\"stroke:#000000; stroke-linecap:butt; stroke-linejoin:round; stroke-width:2; stroke-opacity:0.1; fill:none\\\" points=\\\"\\n  774.041,1123.82 1771.3,1209.52 \\n  \\\"\\/>\\n<polyline clip-path=\\\"url(#clip532)\\\" style=\\\"stroke:#000000; stroke-linecap:butt; stroke-linejoin:round; stroke-width:2; stroke-opacity:0.1; fill:none\\\" points=\\\"\\n  198.274,1119.61 774.041,862.513 \\n  \\\"\\/>\\n<polyline clip-path=\\\"url(#clip532)\\\" style=\\\"stroke:#000000; stroke-linecap:butt; stroke-linejoin:round; stroke-width:2; stroke-opacity:0.1; fill:none\\\" points=\\\"\\n  774.041,862.513 1771.3,948.211 \\n  \\\"\\/>\\n<polyline clip-path=\\\"url(#clip532)\\\" style=\\\"stroke:#000000; stroke-linecap:butt; stroke-linejoin:round; stroke-width:2; stroke-opacity:0.1; fill:none\\\" points=\\\"\\n  198.274,858.305 774.041,601.209 \\n  \\\"\\/>\\n<polyline clip-path=\\\"url(#clip532)\\\" style=\\\"stroke:#000000; stroke-linecap:butt; stroke-linejoin:round; stroke-width:2; stroke-opacity:0.1; fill:none\\\" points=\\\"\\n  774.041,601.209 1771.3,686.907 \\n  \\\"\\/>\\n<polyline clip-path=\\\"url(#clip532)\\\" style=\\\"stroke:#000000; stroke-linecap:butt; stroke-linejoin:round; stroke-width:2; stroke-opacity:0.1; fill:none\\\" points=\\\"\\n  198.274,597.001 774.041,339.905 \\n  \\\"\\/>\\n<polyline clip-path=\\\"url(#clip532)\\\" style=\\\"stroke:#000000; stroke-linecap:butt; stroke-linejoin:round; stroke-width:2; stroke-opacity:0.1; fill:none\\\" points=\\\"\\n  774.041,339.905 1771.3,425.603 \\n  \\\"\\/>\\n<polyline clip-path=\\\"url(#clip532)\\\" style=\\\"stroke:#000000; stroke-linecap:butt; stroke-linejoin:round; stroke-width:2; stroke-opacity:0.1; fill:none\\\" points=\\\"\\n  198.274,335.696 774.041,78.6006 \\n  \\\"\\/>\\n<polyline clip-path=\\\"url(#clip532)\\\" style=\\\"stroke:#000000; stroke-linecap:butt; stroke-linejoin:round; stroke-width:2; stroke-opacity:0.1; fill:none\\\" points=\\\"\\n  774.041,78.6006 1771.3,164.299 \\n  \\\"\\/>\\n<polyline clip-path=\\\"url(#clip530)\\\" style=\\\"stroke:#000000; stroke-linecap:butt; stroke-linejoin:round; stroke-width:4; stroke-opacity:1; fill:none\\\" points=\\\"\\n  198.274,1412.27 198.274,304.34 \\n  \\\"\\/>\\n<polyline clip-path=\\\"url(#clip530)\\\" style=\\\"stroke:#000000; stroke-linecap:butt; stroke-linejoin:round; stroke-width:4; stroke-opacity:1; fill:none\\\" points=\\\"\\n  1771.3,1240.87 1771.3,132.943 \\n  \\\"\\/>\\n<polyline clip-path=\\\"url(#clip530)\\\" style=\\\"stroke:#000000; stroke-linecap:butt; stroke-linejoin:round; stroke-width:4; stroke-opacity:1; fill:none\\\" points=\\\"\\n  198.274,1380.91 205.183,1377.83 \\n  \\\"\\/>\\n<polyline clip-path=\\\"url(#clip530)\\\" style=\\\"stroke:#000000; stroke-linecap:butt; stroke-linejoin:round; stroke-width:4; stroke-opacity:1; fill:none\\\" points=\\\"\\n  198.274,1119.61 205.183,1116.52 \\n  \\\"\\/>\\n<polyline clip-path=\\\"url(#clip530)\\\" style=\\\"stroke:#000000; stroke-linecap:butt; stroke-linejoin:round; stroke-width:4; stroke-opacity:1; fill:none\\\" points=\\\"\\n  198.274,858.305 205.183,855.219 \\n  \\\"\\/>\\n<polyline clip-path=\\\"url(#clip530)\\\" style=\\\"stroke:#000000; stroke-linecap:butt; stroke-linejoin:round; stroke-width:4; stroke-opacity:1; fill:none\\\" points=\\\"\\n  198.274,597.001 205.183,593.915 \\n  \\\"\\/>\\n<polyline clip-path=\\\"url(#clip530)\\\" style=\\\"stroke:#000000; stroke-linecap:butt; stroke-linejoin:round; stroke-width:4; stroke-opacity:1; fill:none\\\" points=\\\"\\n  198.274,335.696 205.183,332.611 \\n  \\\"\\/>\\n<path clip-path=\\\"url(#clip530)\\\" d=\\\"M67.7365 1366.71 Q64.1254 1366.71 62.2967 1370.28 Q60.4912 1373.82 60.4912 1380.95 Q60.4912 1388.05 62.2967 1391.62 Q64.1254 1395.16 67.7365 1395.16 Q71.3707 1395.16 73.1763 1391.62 Q75.005 1388.05 75.005 1380.95 Q75.005 1373.82 73.1763 1370.28 Q71.3707 1366.71 67.7365 1366.71 M67.7365 1363.01 Q73.5467 1363.01 76.6022 1367.61 Q79.6809 1372.2 79.6809 1380.95 Q79.6809 1389.67 76.6022 1394.28 Q73.5467 1398.86 67.7365 1398.86 Q61.9264 1398.86 58.8477 1394.28 Q55.7921 1389.67 55.7921 1380.95 Q55.7921 1372.2 58.8477 1367.61 Q61.9264 1363.01 67.7365 1363.01 Z\\\" fill=\\\"#000000\\\" fill-rule=\\\"evenodd\\\" fill-opacity=\\\"1\\\" \\/><path clip-path=\\\"url(#clip530)\\\" d=\\\"M87.8984 1392.31 L92.7827 1392.31 L92.7827 1398.19 L87.8984 1398.19 L87.8984 1392.31 Z\\\" fill=\\\"#000000\\\" fill-rule=\\\"evenodd\\\" fill-opacity=\\\"1\\\" \\/><path clip-path=\\\"url(#clip530)\\\" d=\\\"M112.968 1366.71 Q109.357 1366.71 107.528 1370.28 Q105.722 1373.82 105.722 1380.95 Q105.722 1388.05 107.528 1391.62 Q109.357 1395.16 112.968 1395.16 Q116.602 1395.16 118.408 1391.62 Q120.236 1388.05 120.236 1380.95 Q120.236 1373.82 118.408 1370.28 Q116.602 1366.71 112.968 1366.71 M112.968 1363.01 Q118.778 1363.01 121.833 1367.61 Q124.912 1372.2 124.912 1380.95 Q124.912 1389.67 121.833 1394.28 Q118.778 1398.86 112.968 1398.86 Q107.158 1398.86 104.079 1394.28 Q101.023 1389.67 101.023 1380.95 Q101.023 1372.2 104.079 1367.61 Q107.158 1363.01 112.968 1363.01 Z\\\" fill=\\\"#000000\\\" fill-rule=\\\"evenodd\\\" fill-opacity=\\\"1\\\" \\/><path clip-path=\\\"url(#clip530)\\\" d=\\\"M143.13 1366.71 Q139.519 1366.71 137.69 1370.28 Q135.884 1373.82 135.884 1380.95 Q135.884 1388.05 137.69 1391.62 Q139.519 1395.16 143.13 1395.16 Q146.764 1395.16 148.569 1391.62 Q150.398 1388.05 150.398 1380.95 Q150.398 1373.82 148.569 1370.28 Q146.764 1366.71 143.13 1366.71 M143.13 1363.01 Q148.94 1363.01 151.995 1367.61 Q155.074 1372.2 155.074 1380.95 Q155.074 1389.67 151.995 1394.28 Q148.94 1398.86 143.13 1398.86 Q137.319 1398.86 134.241 1394.28 Q131.185 1389.67 131.185 1380.95 Q131.185 1372.2 134.241 1367.61 Q137.319 1363.01 143.13 1363.01 Z\\\" fill=\\\"#000000\\\" fill-rule=\\\"evenodd\\\" fill-opacity=\\\"1\\\" \\/><path clip-path=\\\"url(#clip530)\\\" d=\\\"M68.7319 1105.41 Q65.1208 1105.41 63.2921 1108.97 Q61.4865 1112.51 61.4865 1119.64 Q61.4865 1126.75 63.2921 1130.31 Q65.1208 1133.86 68.7319 1133.86 Q72.3661 1133.86 74.1717 1130.31 Q76.0004 1126.75 76.0004 1119.64 Q76.0004 1112.51 74.1717 1108.97 Q72.3661 1105.41 68.7319 1105.41 M68.7319 1101.7 Q74.542 1101.7 77.5976 1106.31 Q80.6763 1110.89 80.6763 1119.64 Q80.6763 1128.37 77.5976 1132.98 Q74.542 1137.56 68.7319 1137.56 Q62.9217 1137.56 59.843 1132.98 Q56.7875 1128.37 56.7875 1119.64 Q56.7875 1110.89 59.843 1106.31 Q62.9217 1101.7 68.7319 1101.7 Z\\\" fill=\\\"#000000\\\" fill-rule=\\\"evenodd\\\" fill-opacity=\\\"1\\\" \\/><path clip-path=\\\"url(#clip530)\\\" d=\\\"M88.8938 1131.01 L93.778 1131.01 L93.778 1136.89 L88.8938 1136.89 L88.8938 1131.01 Z\\\" fill=\\\"#000000\\\" fill-rule=\\\"evenodd\\\" fill-opacity=\\\"1\\\" \\/><path clip-path=\\\"url(#clip530)\\\" d=\\\"M107.991 1132.95 L124.31 1132.95 L124.31 1136.89 L102.366 1136.89 L102.366 1132.95 Q105.028 1130.2 109.611 1125.57 Q114.218 1120.92 115.398 1119.57 Q117.644 1117.05 118.523 1115.31 Q119.426 1113.56 119.426 1111.87 Q119.426 1109.11 117.482 1107.37 Q115.56 1105.64 112.458 1105.64 Q110.259 1105.64 107.806 1106.4 Q105.375 1107.17 102.597 1108.72 L102.597 1104 Q105.421 1102.86 107.875 1102.28 Q110.329 1101.7 112.366 1101.7 Q117.736 1101.7 120.931 1104.39 Q124.125 1107.07 124.125 1111.56 Q124.125 1113.69 123.315 1115.62 Q122.528 1117.51 120.421 1120.11 Q119.843 1120.78 116.741 1124 Q113.639 1127.19 107.991 1132.95 Z\\\" fill=\\\"#000000\\\" fill-rule=\\\"evenodd\\\" fill-opacity=\\\"1\\\" \\/><path clip-path=\\\"url(#clip530)\\\" d=\\\"M134.171 1102.33 L152.528 1102.33 L152.528 1106.26 L138.454 1106.26 L138.454 1114.74 Q139.472 1114.39 140.491 1114.23 Q141.509 1114.04 142.528 1114.04 Q148.315 1114.04 151.694 1117.21 Q155.074 1120.38 155.074 1125.8 Q155.074 1131.38 151.602 1134.48 Q148.13 1137.56 141.81 1137.56 Q139.634 1137.56 137.366 1137.19 Q135.12 1136.82 132.713 1136.08 L132.713 1131.38 Q134.796 1132.51 137.019 1133.07 Q139.241 1133.62 141.718 1133.62 Q145.722 1133.62 148.06 1131.52 Q150.398 1129.41 150.398 1125.8 Q150.398 1122.19 148.06 1120.08 Q145.722 1117.98 141.718 1117.98 Q139.843 1117.98 137.968 1118.39 Q136.116 1118.81 134.171 1119.69 L134.171 1102.33 Z\\\" fill=\\\"#000000\\\" fill-rule=\\\"evenodd\\\" fill-opacity=\\\"1\\\" \\/><path clip-path=\\\"url(#clip530)\\\" d=\\\"M67.7365 844.103 Q64.1254 844.103 62.2967 847.668 Q60.4912 851.21 60.4912 858.339 Q60.4912 865.446 62.2967 869.011 Q64.1254 872.552 67.7365 872.552 Q71.3707 872.552 73.1763 869.011 Q75.005 865.446 75.005 858.339 Q75.005 851.21 73.1763 847.668 Q71.3707 844.103 67.7365 844.103 M67.7365 840.4 Q73.5467 840.4 76.6022 845.006 Q79.6809 849.589 79.6809 858.339 Q79.6809 867.066 76.6022 871.673 Q73.5467 876.256 67.7365 876.256 Q61.9264 876.256 58.8477 871.673 Q55.7921 867.066 55.7921 858.339 Q55.7921 849.589 58.8477 845.006 Q61.9264 840.4 67.7365 840.4 Z\\\" fill=\\\"#000000\\\" fill-rule=\\\"evenodd\\\" fill-opacity=\\\"1\\\" \\/><path clip-path=\\\"url(#clip530)\\\" d=\\\"M87.8984 869.705 L92.7827 869.705 L92.7827 875.585 L87.8984 875.585 L87.8984 869.705 Z\\\" fill=\\\"#000000\\\" fill-rule=\\\"evenodd\\\" fill-opacity=\\\"1\\\" \\/><path clip-path=\\\"url(#clip530)\\\" d=\\\"M103.014 841.025 L121.37 841.025 L121.37 844.96 L107.296 844.96 L107.296 853.432 Q108.315 853.085 109.334 852.923 Q110.352 852.738 111.371 852.738 Q117.158 852.738 120.537 855.909 Q123.917 859.08 123.917 864.497 Q123.917 870.075 120.445 873.177 Q116.972 876.256 110.653 876.256 Q108.477 876.256 106.209 875.886 Q103.963 875.515 101.556 874.774 L101.556 870.075 Q103.639 871.21 105.861 871.765 Q108.084 872.321 110.56 872.321 Q114.565 872.321 116.903 870.214 Q119.241 868.108 119.241 864.497 Q119.241 860.886 116.903 858.779 Q114.565 856.673 110.56 856.673 Q108.685 856.673 106.81 857.089 Q104.959 857.506 103.014 858.386 L103.014 841.025 Z\\\" fill=\\\"#000000\\\" fill-rule=\\\"evenodd\\\" fill-opacity=\\\"1\\\" \\/><path clip-path=\\\"url(#clip530)\\\" d=\\\"M143.13 844.103 Q139.519 844.103 137.69 847.668 Q135.884 851.21 135.884 858.339 Q135.884 865.446 137.69 869.011 Q139.519 872.552 143.13 872.552 Q146.764 872.552 148.569 869.011 Q150.398 865.446 150.398 858.339 Q150.398 851.21 148.569 847.668 Q146.764 844.103 143.13 844.103 M143.13 840.4 Q148.94 840.4 151.995 845.006 Q155.074 849.589 155.074 858.339 Q155.074 867.066 151.995 871.673 Q148.94 876.256 143.13 876.256 Q137.319 876.256 134.241 871.673 Q131.185 867.066 131.185 858.339 Q131.185 849.589 134.241 845.006 Q137.319 840.4 143.13 840.4 Z\\\" fill=\\\"#000000\\\" fill-rule=\\\"evenodd\\\" fill-opacity=\\\"1\\\" \\/><path clip-path=\\\"url(#clip530)\\\" d=\\\"M68.7319 582.799 Q65.1208 582.799 63.2921 586.364 Q61.4865 589.906 61.4865 597.035 Q61.4865 604.142 63.2921 607.706 Q65.1208 611.248 68.7319 611.248 Q72.3661 611.248 74.1717 607.706 Q76.0004 604.142 76.0004 597.035 Q76.0004 589.906 74.1717 586.364 Q72.3661 582.799 68.7319 582.799 M68.7319 579.096 Q74.542 579.096 77.5976 583.702 Q80.6763 588.285 80.6763 597.035 Q80.6763 605.762 77.5976 610.369 Q74.542 614.952 68.7319 614.952 Q62.9217 614.952 59.843 610.369 Q56.7875 605.762 56.7875 597.035 Q56.7875 588.285 59.843 583.702 Q62.9217 579.096 68.7319 579.096 Z\\\" fill=\\\"#000000\\\" fill-rule=\\\"evenodd\\\" fill-opacity=\\\"1\\\" \\/><path clip-path=\\\"url(#clip530)\\\" d=\\\"M88.8938 608.401 L93.778 608.401 L93.778 614.281 L88.8938 614.281 L88.8938 608.401 Z\\\" fill=\\\"#000000\\\" fill-rule=\\\"evenodd\\\" fill-opacity=\\\"1\\\" \\/><path clip-path=\\\"url(#clip530)\\\" d=\\\"M102.783 579.721 L125.005 579.721 L125.005 581.711 L112.458 614.281 L107.574 614.281 L119.38 583.656 L102.783 583.656 L102.783 579.721 Z\\\" fill=\\\"#000000\\\" fill-rule=\\\"evenodd\\\" fill-opacity=\\\"1\\\" \\/><path clip-path=\\\"url(#clip530)\\\" d=\\\"M134.171 579.721 L152.528 579.721 L152.528 583.656 L138.454 583.656 L138.454 592.128 Q139.472 591.781 140.491 591.619 Q141.509 591.433 142.528 591.433 Q148.315 591.433 151.694 594.605 Q155.074 597.776 155.074 603.193 Q155.074 608.771 151.602 611.873 Q148.13 614.952 141.81 614.952 Q139.634 614.952 137.366 614.581 Q135.12 614.211 132.713 613.47 L132.713 608.771 Q134.796 609.906 137.019 610.461 Q139.241 611.017 141.718 611.017 Q145.722 611.017 148.06 608.91 Q150.398 606.804 150.398 603.193 Q150.398 599.582 148.06 597.475 Q145.722 595.369 141.718 595.369 Q139.843 595.369 137.968 595.785 Q136.116 596.202 134.171 597.082 L134.171 579.721 Z\\\" fill=\\\"#000000\\\" fill-rule=\\\"evenodd\\\" fill-opacity=\\\"1\\\" \\/><path clip-path=\\\"url(#clip530)\\\" d=\\\"M58.5467 349.041 L66.1856 349.041 L66.1856 322.676 L57.8754 324.342 L57.8754 320.083 L66.1393 318.416 L70.8152 318.416 L70.8152 349.041 L78.454 349.041 L78.454 352.976 L58.5467 352.976 L58.5467 349.041 Z\\\" fill=\\\"#000000\\\" fill-rule=\\\"evenodd\\\" fill-opacity=\\\"1\\\" \\/><path clip-path=\\\"url(#clip530)\\\" d=\\\"M87.8984 347.097 L92.7827 347.097 L92.7827 352.976 L87.8984 352.976 L87.8984 347.097 Z\\\" fill=\\\"#000000\\\" fill-rule=\\\"evenodd\\\" fill-opacity=\\\"1\\\" \\/><path clip-path=\\\"url(#clip530)\\\" d=\\\"M112.968 321.495 Q109.357 321.495 107.528 325.06 Q105.722 328.602 105.722 335.731 Q105.722 342.838 107.528 346.402 Q109.357 349.944 112.968 349.944 Q116.602 349.944 118.408 346.402 Q120.236 342.838 120.236 335.731 Q120.236 328.602 118.408 325.06 Q116.602 321.495 112.968 321.495 M112.968 317.791 Q118.778 317.791 121.833 322.398 Q124.912 326.981 124.912 335.731 Q124.912 344.458 121.833 349.064 Q118.778 353.648 112.968 353.648 Q107.158 353.648 104.079 349.064 Q101.023 344.458 101.023 335.731 Q101.023 326.981 104.079 322.398 Q107.158 317.791 112.968 317.791 Z\\\" fill=\\\"#000000\\\" fill-rule=\\\"evenodd\\\" fill-opacity=\\\"1\\\" \\/><path clip-path=\\\"url(#clip530)\\\" d=\\\"M143.13 321.495 Q139.519 321.495 137.69 325.06 Q135.884 328.602 135.884 335.731 Q135.884 342.838 137.69 346.402 Q139.519 349.944 143.13 349.944 Q146.764 349.944 148.569 346.402 Q150.398 342.838 150.398 335.731 Q150.398 328.602 148.569 325.06 Q146.764 321.495 143.13 321.495 M143.13 317.791 Q148.94 317.791 151.995 322.398 Q155.074 326.981 155.074 335.731 Q155.074 344.458 151.995 349.064 Q148.94 353.648 143.13 353.648 Q137.319 353.648 134.241 349.064 Q131.185 344.458 131.185 335.731 Q131.185 326.981 134.241 322.398 Q137.319 317.791 143.13 317.791 Z\\\" fill=\\\"#000000\\\" fill-rule=\\\"evenodd\\\" fill-opacity=\\\"1\\\" \\/><polyline clip-path=\\\"url(#clip532)\\\" style=\\\"stroke:#00a8cb; stroke-linecap:butt; stroke-linejoin:round; stroke-width:4; stroke-opacity:1; fill:none\\\" points=\\\"\\n  481.864,1274.28 495.607,1254.37 507.243,1237.24 517.29,1222.14 526.184,1208.5 534.343,1195.87 542.086,1183.94 549.638,1172.47 557.163,1161.32 564.774,1150.37 \\n  572.555,1139.58 580.568,1128.87 588.861,1118.23 597.474,1107.62 606.445,1097.04 615.808,1086.47 625.599,1075.89 635.857,1065.31 646.623,1054.71 657.944,1044.09 \\n  669.872,1033.44 682.468,1022.75 695.808,1012 709.973,1001.19 725.068,990.302 741.203,979.318 758.515,968.217 777.175,956.973 797.393,945.55 819.416,933.908 \\n  843.513,921.999 870.049,909.754 899.51,897.096 932.42,883.949 969.34,870.238 1010.87,855.887 1057.64,840.826 1110.29,824.985 1169.07,808.435 1233.82,791.631 \\n  1302.84,775.447 1372.59,761.178 1437.73,750.54 1491.52,745.476 1528.34,746.982 1545.81,754.559 1545.85,766.06 1534.16,778.037 1517.23,787.748 1500.11,793.605 \\n  1484.96,795.383 1471.52,793.991 1460.05,789.948 1450.2,783.897 1441.46,776.461 1433.42,768.054 1425.77,758.992 1418.29,749.489 1410.83,739.688 1403.28,729.689 \\n  1395.55,719.558 1387.58,709.338 1379.34,699.062 1370.78,688.75 1361.86,678.418 1352.56,668.077 1342.83,657.738 1332.64,647.406 1321.95,637.091 1310.71,626.799 \\n  1298.88,616.538 1286.38,606.317 1273.16,596.145 1259.13,586.033 1244.2,575.997 1228.25,566.054 1211.14,556.226 1192.71,546.538 1172.76,537.025 1151.05,527.722 \\n  1127.32,518.673 1101.21,509.937 1072.29,501.585 1040.07,493.702 1004.15,486.357 963.829,479.681 917.942,473.826 865.902,468.769 807.721,464.297 744.009,460.013 \\n  675.974,455.335 605.958,449.243 539.916,439.647 484.231,424.757 444.308,403.51 424.241,375.684 422.165,343.601 432.236,310.735 448.685,279.756 466.047,252.443 \\n  481.883,229.055 \\n  \\\"\\/>\\n<circle clip-path=\\\"url(#clip532)\\\" cx=\\\"481.883\\\" cy=\\\"229.055\\\" r=\\\"7\\\" fill=\\\"#00a8cb\\\" fill-rule=\\\"evenodd\\\" fill-opacity=\\\"1\\\" stroke=\\\"#000000\\\" stroke-opacity=\\\"1\\\" stroke-width=\\\"3.2\\\"\\/>\\n<circle clip-path=\\\"url(#clip532)\\\" cx=\\\"481.864\\\" cy=\\\"1274.28\\\" r=\\\"7\\\" fill=\\\"#00a8cb\\\" fill-rule=\\\"evenodd\\\" fill-opacity=\\\"1\\\" stroke=\\\"#000000\\\" stroke-opacity=\\\"1\\\" stroke-width=\\\"3.2\\\"\\/>\\n<polyline clip-path=\\\"url(#clip532)\\\" style=\\\"stroke:#9b7fe8; stroke-linecap:butt; stroke-linejoin:round; stroke-width:4; stroke-opacity:1; fill:none\\\" points=\\\"\\n  481.883,1274.27 495.622,1254.36 507.256,1237.24 517.301,1222.13 526.193,1208.5 534.351,1195.87 542.094,1183.94 549.645,1172.47 557.17,1161.31 564.781,1150.37 \\n  572.562,1139.58 580.575,1128.87 588.868,1118.23 597.482,1107.62 606.453,1097.04 615.816,1086.47 625.607,1075.89 635.865,1065.31 646.632,1054.71 657.953,1044.09 \\n  669.881,1033.44 682.479,1022.75 695.819,1012 709.985,1001.19 725.081,990.302 741.217,979.318 758.529,968.217 777.19,956.972 797.41,945.549 819.434,933.907 \\n  843.533,921.998 870.072,909.752 899.536,897.094 932.449,883.947 969.372,870.235 1010.9,855.885 1057.68,840.822 1110.34,824.98 1169.11,808.429 1233.88,791.626 \\n  1302.9,775.442 1372.65,761.175 1437.78,750.541 1491.57,745.482 1528.37,746.992 1545.82,754.573 1545.86,766.077 1534.15,778.055 1517.21,787.767 1500.09,793.619 \\n  1484.96,795.389 1471.53,793.995 1460.05,789.951 1450.2,783.9 1441.46,776.463 1433.42,768.055 1425.77,758.993 1418.3,749.49 1410.84,739.688 1403.28,729.69 \\n  1395.55,719.558 1387.59,709.338 1379.35,699.062 1370.78,688.75 1361.87,678.418 1352.56,668.077 1342.83,657.738 1332.64,647.406 1321.96,637.091 1310.72,626.799 \\n  1298.88,616.538 1286.38,606.317 1273.16,596.145 1259.14,586.033 1244.21,575.997 1228.26,566.054 1211.15,556.225 1192.72,546.537 1172.77,537.024 1151.07,527.721 \\n  1127.34,518.672 1101.22,509.936 1072.31,501.584 1040.09,493.7 1004.17,486.355 963.854,479.678 917.972,473.823 865.936,468.766 807.756,464.294 744.044,460.011 \\n  676.012,455.332 605.998,449.241 539.948,439.648 484.257,424.761 444.325,403.517 424.245,375.696 422.164,343.612 432.231,310.746 448.674,279.767 466.037,252.452 \\n  481.874,229.061 \\n  \\\"\\/>\\n<circle clip-path=\\\"url(#clip532)\\\" cx=\\\"481.874\\\" cy=\\\"229.061\\\" r=\\\"7\\\" fill=\\\"#9b7fe8\\\" fill-rule=\\\"evenodd\\\" fill-opacity=\\\"1\\\" stroke=\\\"#000000\\\" stroke-opacity=\\\"1\\\" stroke-width=\\\"3.2\\\"\\/>\\n<circle clip-path=\\\"url(#clip532)\\\" cx=\\\"481.883\\\" cy=\\\"1274.27\\\" r=\\\"7\\\" fill=\\\"#9b7fe8\\\" fill-rule=\\\"evenodd\\\" fill-opacity=\\\"1\\\" stroke=\\\"#000000\\\" stroke-opacity=\\\"1\\\" stroke-width=\\\"3.2\\\"\\/>\\n<polyline clip-path=\\\"url(#clip532)\\\" style=\\\"stroke:#608cf6; stroke-linecap:butt; stroke-linejoin:round; stroke-width:4; stroke-opacity:1; fill:none\\\" points=\\\"\\n  481.874,1274.28 495.614,1254.36 507.25,1237.24 517.295,1222.13 526.189,1208.5 534.347,1195.87 542.09,1183.94 549.641,1172.47 557.167,1161.31 564.777,1150.37 \\n  572.558,1139.58 580.571,1128.87 588.864,1118.23 597.478,1107.62 606.449,1097.04 615.812,1086.47 625.603,1075.89 635.861,1065.31 646.627,1054.71 657.948,1044.09 \\n  669.876,1033.44 682.473,1022.75 695.813,1012 709.978,1001.19 725.074,990.302 741.21,979.318 758.522,968.217 777.182,956.972 797.401,945.55 819.425,933.908 \\n  843.522,921.998 870.059,909.753 899.522,897.095 932.434,883.948 969.356,870.236 1010.89,855.886 1057.66,840.824 1110.31,824.982 1169.09,808.432 1233.85,791.629 \\n  1302.87,775.445 1372.62,761.177 1437.75,750.54 1491.54,745.479 1528.35,746.987 1545.82,754.566 1545.86,766.068 1534.16,778.046 1517.22,787.757 1500.1,793.611 \\n  1484.96,795.386 1471.52,793.993 1460.05,789.95 1450.2,783.898 1441.46,776.462 1433.42,768.054 1425.77,758.993 1418.29,749.489 1410.83,739.688 1403.28,729.69 \\n  1395.55,719.558 1387.59,709.338 1379.34,699.062 1370.78,688.75 1361.86,678.418 1352.56,668.077 1342.83,657.738 1332.64,647.406 1321.95,637.091 1310.72,626.799 \\n  1298.88,616.538 1286.38,606.317 1273.16,596.145 1259.13,586.033 1244.21,575.997 1228.26,566.054 1211.15,556.226 1192.71,546.538 1172.76,537.025 1151.06,527.721 \\n  1127.33,518.673 1101.21,509.937 1072.29,501.585 1040.08,493.702 1004.16,486.357 963.836,479.68 917.95,473.826 865.911,468.768 807.73,464.297 744.018,460.013 \\n  675.984,455.335 605.968,449.243 539.924,439.647 484.238,424.758 444.312,403.512 424.242,375.687 422.165,343.604 432.235,310.738 448.682,279.759 466.045,252.446 \\n  481.88,229.056 \\n  \\\"\\/>\\n<circle clip-path=\\\"url(#clip532)\\\" cx=\\\"481.88\\\" cy=\\\"229.056\\\" r=\\\"7\\\" fill=\\\"#608cf6\\\" fill-rule=\\\"evenodd\\\" fill-opacity=\\\"1\\\" stroke=\\\"#000000\\\" stroke-opacity=\\\"1\\\" stroke-width=\\\"3.2\\\"\\/>\\n<circle clip-path=\\\"url(#clip532)\\\" cx=\\\"481.874\\\" cy=\\\"1274.28\\\" r=\\\"7\\\" fill=\\\"#608cf6\\\" fill-rule=\\\"evenodd\\\" fill-opacity=\\\"1\\\" stroke=\\\"#000000\\\" stroke-opacity=\\\"1\\\" stroke-width=\\\"3.2\\\"\\/>\\n<polyline clip-path=\\\"url(#clip532)\\\" style=\\\"stroke:#f05f73; stroke-linecap:butt; stroke-linejoin:round; stroke-width:4; stroke-opacity:1; fill:none\\\" points=\\\"\\n  481.88,1274.27 495.62,1254.36 507.254,1237.24 517.299,1222.13 526.192,1208.5 534.35,1195.87 542.093,1183.94 549.644,1172.47 557.169,1161.31 564.78,1150.37 \\n  572.561,1139.58 580.574,1128.87 588.867,1118.23 597.481,1107.62 606.452,1097.04 615.815,1086.47 625.606,1075.89 635.864,1065.31 646.631,1054.71 657.952,1044.09 \\n  669.88,1033.44 682.477,1022.75 695.817,1012 709.983,1001.19 725.079,990.302 741.215,979.318 758.527,968.217 777.188,956.972 797.408,945.549 819.432,933.907 \\n  843.53,921.998 870.068,909.753 899.532,897.095 932.445,883.947 969.368,870.235 1010.9,855.885 1057.67,840.823 1110.33,824.98 1169.11,808.43 1233.87,791.627 \\n  1302.89,775.443 1372.64,761.175 1437.77,750.541 1491.56,745.481 1528.36,746.991 1545.82,754.571 1545.86,766.074 1534.15,778.053 1517.21,787.764 1500.1,793.617 \\n  1484.96,795.388 1471.53,793.994 1460.05,789.951 1450.2,783.899 1441.46,776.462 1433.42,768.055 1425.77,758.993 1418.3,749.49 1410.84,739.688 1403.28,729.69 \\n  1395.55,719.558 1387.59,709.338 1379.34,699.062 1370.78,688.75 1361.87,678.418 1352.56,668.077 1342.83,657.738 1332.64,647.406 1321.95,637.091 1310.72,626.799 \\n  1298.88,616.538 1286.38,606.317 1273.16,596.145 1259.14,586.033 1244.21,575.997 1228.26,566.054 1211.15,556.225 1192.72,546.538 1172.76,537.025 1151.06,527.721 \\n  1127.33,518.672 1101.22,509.936 1072.3,501.585 1040.08,493.701 1004.17,486.356 963.848,479.679 917.964,473.824 865.927,468.767 807.747,464.295 744.034,460.012 \\n  676.002,455.333 605.987,449.242 539.939,439.648 484.25,424.76 444.321,403.515 424.244,375.693 422.165,343.609 432.232,310.743 448.677,279.764 466.04,252.45 \\n  481.876,229.059 \\n  \\\"\\/>\\n<circle clip-path=\\\"url(#clip532)\\\" cx=\\\"481.876\\\" cy=\\\"229.059\\\" r=\\\"7\\\" fill=\\\"#f05f73\\\" fill-rule=\\\"evenodd\\\" fill-opacity=\\\"1\\\" stroke=\\\"#000000\\\" stroke-opacity=\\\"1\\\" stroke-width=\\\"3.2\\\"\\/>\\n<circle clip-path=\\\"url(#clip532)\\\" cx=\\\"481.88\\\" cy=\\\"1274.27\\\" r=\\\"7\\\" fill=\\\"#f05f73\\\" fill-rule=\\\"evenodd\\\" fill-opacity=\\\"1\\\" stroke=\\\"#000000\\\" stroke-opacity=\\\"1\\\" stroke-width=\\\"3.2\\\"\\/>\\n<polyline clip-path=\\\"url(#clip532)\\\" style=\\\"stroke:#dd64b5; stroke-linecap:butt; stroke-linejoin:round; stroke-width:4; stroke-opacity:1; fill:none\\\" points=\\\"\\n  481.876,1274.28 495.616,1254.36 507.251,1237.24 517.297,1222.13 526.19,1208.5 534.348,1195.87 542.091,1183.94 549.642,1172.47 557.168,1161.31 564.778,1150.37 \\n  572.559,1139.58 580.572,1128.87 588.865,1118.23 597.479,1107.62 606.45,1097.04 615.813,1086.47 625.604,1075.89 635.862,1065.31 646.628,1054.71 657.95,1044.09 \\n  669.878,1033.44 682.475,1022.75 695.814,1012 709.98,1001.19 725.076,990.302 741.212,979.318 758.524,968.217 777.184,956.972 797.403,945.55 819.427,933.908 \\n  843.525,921.998 870.063,909.753 899.526,897.095 932.438,883.948 969.36,870.236 1010.89,855.886 1057.67,840.824 1110.32,824.982 1169.1,808.432 1233.86,791.628 \\n  1302.88,775.444 1372.63,761.176 1437.76,750.54 1491.55,745.479 1528.36,746.989 1545.82,754.568 1545.86,766.07 1534.16,778.048 1517.22,787.759 1500.1,793.613 \\n  1484.96,795.387 1471.52,793.993 1460.05,789.95 1450.2,783.899 1441.46,776.462 1433.42,768.054 1425.77,758.993 1418.29,749.489 1410.84,739.688 1403.28,729.69 \\n  1395.55,719.558 1387.59,709.338 1379.34,699.062 1370.78,688.75 1361.86,678.418 1352.56,668.077 1342.83,657.738 1332.64,647.406 1321.95,637.091 1310.72,626.799 \\n  1298.88,616.538 1286.38,606.317 1273.16,596.145 1259.13,586.033 1244.21,575.997 1228.26,566.054 1211.15,556.226 1192.72,546.538 1172.76,537.025 1151.06,527.721 \\n  1127.33,518.673 1101.21,509.937 1072.3,501.585 1040.08,493.701 1004.16,486.357 963.84,479.679 917.955,473.825 865.916,468.768 807.736,464.296 744.023,460.013 \\n  675.99,455.334 605.975,449.242 539.929,439.647 484.242,424.758 444.315,403.513 424.243,375.689 422.165,343.605 432.234,310.74 448.68,279.761 466.043,252.447 \\n  481.879,229.057 \\n  \\\"\\/>\\n<circle clip-path=\\\"url(#clip532)\\\" cx=\\\"481.879\\\" cy=\\\"229.057\\\" r=\\\"7\\\" fill=\\\"#dd64b5\\\" fill-rule=\\\"evenodd\\\" fill-opacity=\\\"1\\\" stroke=\\\"#000000\\\" stroke-opacity=\\\"1\\\" stroke-width=\\\"3.2\\\"\\/>\\n<circle clip-path=\\\"url(#clip532)\\\" cx=\\\"481.876\\\" cy=\\\"1274.28\\\" r=\\\"7\\\" fill=\\\"#dd64b5\\\" fill-rule=\\\"evenodd\\\" fill-opacity=\\\"1\\\" stroke=\\\"#000000\\\" stroke-opacity=\\\"1\\\" stroke-width=\\\"3.2\\\"\\/>\\n<path clip-path=\\\"url(#clip530)\\\" d=\\\"\\nM1979.73 1497.97 L3552.76 1497.97 L3552.76 47.2441 L1979.73 47.2441  Z\\n  \\\" fill=\\\"#ffffff\\\" fill-rule=\\\"evenodd\\\" fill-opacity=\\\"1\\\"\\/>\\n<defs>\\n  <clipPath id=\\\"clip533\\\">\\n    <rect x=\\\"1979\\\" y=\\\"47\\\" width=\\\"1574\\\" height=\\\"1452\\\"\\/>\\n  <\\/clipPath>\\n<\\/defs>\\n<polyline clip-path=\\\"url(#clip533)\\\" style=\\\"stroke:#000000; stroke-linecap:butt; stroke-linejoin:round; stroke-width:2; stroke-opacity:0.1; fill:none\\\" points=\\\"\\n  2091.4,1497.97 2091.4,47.2441 \\n  \\\"\\/>\\n<polyline clip-path=\\\"url(#clip533)\\\" style=\\\"stroke:#000000; stroke-linecap:butt; stroke-linejoin:round; stroke-width:2; stroke-opacity:0.1; fill:none\\\" points=\\\"\\n  2428.05,1497.97 2428.05,47.2441 \\n  \\\"\\/>\\n<polyline clip-path=\\\"url(#clip533)\\\" style=\\\"stroke:#000000; stroke-linecap:butt; stroke-linejoin:round; stroke-width:2; stroke-opacity:0.1; fill:none\\\" points=\\\"\\n  2764.69,1497.97 2764.69,47.2441 \\n  \\\"\\/>\\n<polyline clip-path=\\\"url(#clip533)\\\" style=\\\"stroke:#000000; stroke-linecap:butt; stroke-linejoin:round; stroke-width:2; stroke-opacity:0.1; fill:none\\\" points=\\\"\\n  3101.34,1497.97 3101.34,47.2441 \\n  \\\"\\/>\\n<polyline clip-path=\\\"url(#clip533)\\\" style=\\\"stroke:#000000; stroke-linecap:butt; stroke-linejoin:round; stroke-width:2; stroke-opacity:0.1; fill:none\\\" points=\\\"\\n  3437.99,1497.97 3437.99,47.2441 \\n  \\\"\\/>\\n<polyline clip-path=\\\"url(#clip530)\\\" style=\\\"stroke:#000000; stroke-linecap:butt; stroke-linejoin:round; stroke-width:4; stroke-opacity:1; fill:none\\\" points=\\\"\\n  1979.73,1497.97 3552.76,1497.97 \\n  \\\"\\/>\\n<polyline clip-path=\\\"url(#clip530)\\\" style=\\\"stroke:#000000; stroke-linecap:butt; stroke-linejoin:round; stroke-width:4; stroke-opacity:1; fill:none\\\" points=\\\"\\n  2091.4,1497.97 2091.4,1479.07 \\n  \\\"\\/>\\n<polyline clip-path=\\\"url(#clip530)\\\" style=\\\"stroke:#000000; stroke-linecap:butt; stroke-linejoin:round; stroke-width:4; stroke-opacity:1; fill:none\\\" points=\\\"\\n  2428.05,1497.97 2428.05,1479.07 \\n  \\\"\\/>\\n<polyline clip-path=\\\"url(#clip530)\\\" style=\\\"stroke:#000000; stroke-linecap:butt; stroke-linejoin:round; stroke-width:4; stroke-opacity:1; fill:none\\\" points=\\\"\\n  2764.69,1497.97 2764.69,1479.07 \\n  \\\"\\/>\\n<polyline clip-path=\\\"url(#clip530)\\\" style=\\\"stroke:#000000; stroke-linecap:butt; stroke-linejoin:round; stroke-width:4; stroke-opacity:1; fill:none\\\" points=\\\"\\n  3101.34,1497.97 3101.34,1479.07 \\n  \\\"\\/>\\n<polyline clip-path=\\\"url(#clip530)\\\" style=\\\"stroke:#000000; stroke-linecap:butt; stroke-linejoin:round; stroke-width:4; stroke-opacity:1; fill:none\\\" points=\\\"\\n  3437.99,1497.97 3437.99,1479.07 \\n  \\\"\\/>\\n<path clip-path=\\\"url(#clip530)\\\" d=\\\"M2061.34 1553.14 L2091.02 1553.14 L2091.02 1557.07 L2061.34 1557.07 L2061.34 1553.14 Z\\\" fill=\\\"#000000\\\" fill-rule=\\\"evenodd\\\" fill-opacity=\\\"1\\\" \\/><path clip-path=\\\"url(#clip530)\\\" d=\\\"M2105.14 1566.03 L2121.46 1566.03 L2121.46 1569.97 L2099.51 1569.97 L2099.51 1566.03 Q2102.17 1563.28 2106.76 1558.65 Q2111.36 1554 2112.54 1552.65 Q2114.79 1550.13 2115.67 1548.39 Q2116.57 1546.63 2116.57 1544.94 Q2116.57 1542.19 2114.63 1540.45 Q2112.71 1538.72 2109.6 1538.72 Q2107.41 1538.72 2104.95 1539.48 Q2102.52 1540.25 2099.74 1541.8 L2099.74 1537.07 Q2102.57 1535.94 2105.02 1535.36 Q2107.47 1534.78 2109.51 1534.78 Q2114.88 1534.78 2118.08 1537.47 Q2121.27 1540.15 2121.27 1544.64 Q2121.27 1546.77 2120.46 1548.69 Q2119.67 1550.59 2117.57 1553.19 Q2116.99 1553.86 2113.89 1557.07 Q2110.78 1560.27 2105.14 1566.03 Z\\\" fill=\\\"#000000\\\" fill-rule=\\\"evenodd\\\" fill-opacity=\\\"1\\\" \\/><path clip-path=\\\"url(#clip530)\\\" d=\\\"M2397.8 1553.14 L2427.48 1553.14 L2427.48 1557.07 L2397.8 1557.07 L2397.8 1553.14 Z\\\" fill=\\\"#000000\\\" fill-rule=\\\"evenodd\\\" fill-opacity=\\\"1\\\" \\/><path clip-path=\\\"url(#clip530)\\\" d=\\\"M2438.38 1566.03 L2446.02 1566.03 L2446.02 1539.67 L2437.71 1541.33 L2437.71 1537.07 L2445.97 1535.41 L2450.65 1535.41 L2450.65 1566.03 L2458.29 1566.03 L2458.29 1569.97 L2438.38 1569.97 L2438.38 1566.03 Z\\\" fill=\\\"#000000\\\" fill-rule=\\\"evenodd\\\" fill-opacity=\\\"1\\\" \\/><path clip-path=\\\"url(#clip530)\\\" d=\\\"M2764.69 1538.49 Q2761.08 1538.49 2759.26 1542.05 Q2757.45 1545.59 2757.45 1552.72 Q2757.45 1559.83 2759.26 1563.39 Q2761.08 1566.94 2764.69 1566.94 Q2768.33 1566.94 2770.13 1563.39 Q2771.96 1559.83 2771.96 1552.72 Q2771.96 1545.59 2770.13 1542.05 Q2768.33 1538.49 2764.69 1538.49 M2764.69 1534.78 Q2770.51 1534.78 2773.56 1539.39 Q2776.64 1543.97 2776.64 1552.72 Q2776.64 1561.45 2773.56 1566.06 Q2770.51 1570.64 2764.69 1570.64 Q2758.88 1570.64 2755.81 1566.06 Q2752.75 1561.45 2752.75 1552.72 Q2752.75 1543.97 2755.81 1539.39 Q2758.88 1534.78 2764.69 1534.78 Z\\\" fill=\\\"#000000\\\" fill-rule=\\\"evenodd\\\" fill-opacity=\\\"1\\\" \\/><path clip-path=\\\"url(#clip530)\\\" d=\\\"M3091.73 1566.03 L3099.36 1566.03 L3099.36 1539.67 L3091.05 1541.33 L3091.05 1537.07 L3099.32 1535.41 L3103.99 1535.41 L3103.99 1566.03 L3111.63 1566.03 L3111.63 1569.97 L3091.73 1569.97 L3091.73 1566.03 Z\\\" fill=\\\"#000000\\\" fill-rule=\\\"evenodd\\\" fill-opacity=\\\"1\\\" \\/><path clip-path=\\\"url(#clip530)\\\" d=\\\"M3432.64 1566.03 L3448.96 1566.03 L3448.96 1569.97 L3427.02 1569.97 L3427.02 1566.03 Q3429.68 1563.28 3434.26 1558.65 Q3438.87 1554 3440.05 1552.65 Q3442.3 1550.13 3443.18 1548.39 Q3444.08 1546.63 3444.08 1544.94 Q3444.08 1542.19 3442.14 1540.45 Q3440.21 1538.72 3437.11 1538.72 Q3434.91 1538.72 3432.46 1539.48 Q3430.03 1540.25 3427.25 1541.8 L3427.25 1537.07 Q3430.07 1535.94 3432.53 1535.36 Q3434.98 1534.78 3437.02 1534.78 Q3442.39 1534.78 3445.58 1537.47 Q3448.78 1540.15 3448.78 1544.64 Q3448.78 1546.77 3447.97 1548.69 Q3447.18 1550.59 3445.07 1553.19 Q3444.5 1553.86 3441.39 1557.07 Q3438.29 1560.27 3432.64 1566.03 Z\\\" fill=\\\"#000000\\\" fill-rule=\\\"evenodd\\\" fill-opacity=\\\"1\\\" \\/><polyline clip-path=\\\"url(#clip533)\\\" style=\\\"stroke:#000000; stroke-linecap:butt; stroke-linejoin:round; stroke-width:2; stroke-opacity:0.1; fill:none\\\" points=\\\"\\n  1979.73,1440.62 3552.76,1440.62 \\n  \\\"\\/>\\n<polyline clip-path=\\\"url(#clip533)\\\" style=\\\"stroke:#000000; stroke-linecap:butt; stroke-linejoin:round; stroke-width:2; stroke-opacity:0.1; fill:none\\\" points=\\\"\\n  1979.73,1107.18 3552.76,1107.18 \\n  \\\"\\/>\\n<polyline clip-path=\\\"url(#clip533)\\\" style=\\\"stroke:#000000; stroke-linecap:butt; stroke-linejoin:round; stroke-width:2; stroke-opacity:0.1; fill:none\\\" points=\\\"\\n  1979.73,773.742 3552.76,773.742 \\n  \\\"\\/>\\n<polyline clip-path=\\\"url(#clip533)\\\" style=\\\"stroke:#000000; stroke-linecap:butt; stroke-linejoin:round; stroke-width:2; stroke-opacity:0.1; fill:none\\\" points=\\\"\\n  1979.73,440.301 3552.76,440.301 \\n  \\\"\\/>\\n<polyline clip-path=\\\"url(#clip533)\\\" style=\\\"stroke:#000000; stroke-linecap:butt; stroke-linejoin:round; stroke-width:2; stroke-opacity:0.1; fill:none\\\" points=\\\"\\n  1979.73,106.86 3552.76,106.86 \\n  \\\"\\/>\\n<polyline clip-path=\\\"url(#clip530)\\\" style=\\\"stroke:#000000; stroke-linecap:butt; stroke-linejoin:round; stroke-width:4; stroke-opacity:1; fill:none\\\" points=\\\"\\n  1979.73,1497.97 1979.73,47.2441 \\n  \\\"\\/>\\n<polyline clip-path=\\\"url(#clip530)\\\" style=\\\"stroke:#000000; stroke-linecap:butt; stroke-linejoin:round; stroke-width:4; stroke-opacity:1; fill:none\\\" points=\\\"\\n  1979.73,1440.62 1998.63,1440.62 \\n  \\\"\\/>\\n<polyline clip-path=\\\"url(#clip530)\\\" style=\\\"stroke:#000000; stroke-linecap:butt; stroke-linejoin:round; stroke-width:4; stroke-opacity:1; fill:none\\\" points=\\\"\\n  1979.73,1107.18 1998.63,1107.18 \\n  \\\"\\/>\\n<polyline clip-path=\\\"url(#clip530)\\\" style=\\\"stroke:#000000; stroke-linecap:butt; stroke-linejoin:round; stroke-width:4; stroke-opacity:1; fill:none\\\" points=\\\"\\n  1979.73,773.742 1998.63,773.742 \\n  \\\"\\/>\\n<polyline clip-path=\\\"url(#clip530)\\\" style=\\\"stroke:#000000; stroke-linecap:butt; stroke-linejoin:round; stroke-width:4; stroke-opacity:1; fill:none\\\" points=\\\"\\n  1979.73,440.301 1998.63,440.301 \\n  \\\"\\/>\\n<polyline clip-path=\\\"url(#clip530)\\\" style=\\\"stroke:#000000; stroke-linecap:butt; stroke-linejoin:round; stroke-width:4; stroke-opacity:1; fill:none\\\" points=\\\"\\n  1979.73,106.86 1998.63,106.86 \\n  \\\"\\/>\\n<path clip-path=\\\"url(#clip530)\\\" d=\\\"M1863.53 1441.07 L1893.21 1441.07 L1893.21 1445.01 L1863.53 1445.01 L1863.53 1441.07 Z\\\" fill=\\\"#000000\\\" fill-rule=\\\"evenodd\\\" fill-opacity=\\\"1\\\" \\/><path clip-path=\\\"url(#clip530)\\\" d=\\\"M1916.15 1427.42 L1904.34 1445.87 L1916.15 1445.87 L1916.15 1427.42 M1914.92 1423.34 L1920.8 1423.34 L1920.8 1445.87 L1925.73 1445.87 L1925.73 1449.76 L1920.8 1449.76 L1920.8 1457.9 L1916.15 1457.9 L1916.15 1449.76 L1900.55 1449.76 L1900.55 1445.24 L1914.92 1423.34 Z\\\" fill=\\\"#000000\\\" fill-rule=\\\"evenodd\\\" fill-opacity=\\\"1\\\" \\/><path clip-path=\\\"url(#clip530)\\\" d=\\\"M1865.62 1107.63 L1895.29 1107.63 L1895.29 1111.57 L1865.62 1111.57 L1865.62 1107.63 Z\\\" fill=\\\"#000000\\\" fill-rule=\\\"evenodd\\\" fill-opacity=\\\"1\\\" \\/><path clip-path=\\\"url(#clip530)\\\" d=\\\"M1909.41 1120.53 L1925.73 1120.53 L1925.73 1124.46 L1903.79 1124.46 L1903.79 1120.53 Q1906.45 1117.77 1911.03 1113.14 Q1915.64 1108.49 1916.82 1107.15 Q1919.07 1104.62 1919.95 1102.89 Q1920.85 1101.13 1920.85 1099.44 Q1920.85 1096.68 1918.9 1094.95 Q1916.98 1093.21 1913.88 1093.21 Q1911.68 1093.21 1909.23 1093.98 Q1906.8 1094.74 1904.02 1096.29 L1904.02 1091.57 Q1906.84 1090.43 1909.3 1089.86 Q1911.75 1089.28 1913.79 1089.28 Q1919.16 1089.28 1922.35 1091.96 Q1925.55 1094.65 1925.55 1099.14 Q1925.55 1101.27 1924.74 1103.19 Q1923.95 1105.09 1921.84 1107.68 Q1921.26 1108.35 1918.16 1111.57 Q1915.06 1114.76 1909.41 1120.53 Z\\\" fill=\\\"#000000\\\" fill-rule=\\\"evenodd\\\" fill-opacity=\\\"1\\\" \\/><path clip-path=\\\"url(#clip530)\\\" d=\\\"M1913.79 759.541 Q1910.18 759.541 1908.35 763.105 Q1906.54 766.647 1906.54 773.777 Q1906.54 780.883 1908.35 784.448 Q1910.18 787.989 1913.79 787.989 Q1917.42 787.989 1919.23 784.448 Q1921.06 780.883 1921.06 773.777 Q1921.06 766.647 1919.23 763.105 Q1917.42 759.541 1913.79 759.541 M1913.79 755.837 Q1919.6 755.837 1922.65 760.443 Q1925.73 765.027 1925.73 773.777 Q1925.73 782.503 1922.65 787.11 Q1919.6 791.693 1913.79 791.693 Q1907.98 791.693 1904.9 787.11 Q1901.84 782.503 1901.84 773.777 Q1901.84 765.027 1904.9 760.443 Q1907.98 755.837 1913.79 755.837 Z\\\" fill=\\\"#000000\\\" fill-rule=\\\"evenodd\\\" fill-opacity=\\\"1\\\" \\/><path clip-path=\\\"url(#clip530)\\\" d=\\\"M1909.41 453.646 L1925.73 453.646 L1925.73 457.581 L1903.79 457.581 L1903.79 453.646 Q1906.45 450.891 1911.03 446.262 Q1915.64 441.609 1916.82 440.266 Q1919.07 437.743 1919.95 436.007 Q1920.85 434.248 1920.85 432.558 Q1920.85 429.804 1918.9 428.067 Q1916.98 426.331 1913.88 426.331 Q1911.68 426.331 1909.23 427.095 Q1906.8 427.859 1904.02 429.41 L1904.02 424.688 Q1906.84 423.554 1909.3 422.975 Q1911.75 422.396 1913.79 422.396 Q1919.16 422.396 1922.35 425.081 Q1925.55 427.766 1925.55 432.257 Q1925.55 434.387 1924.74 436.308 Q1923.95 438.206 1921.84 440.799 Q1921.26 441.47 1918.16 444.688 Q1915.06 447.882 1909.41 453.646 Z\\\" fill=\\\"#000000\\\" fill-rule=\\\"evenodd\\\" fill-opacity=\\\"1\\\" \\/><path clip-path=\\\"url(#clip530)\\\" d=\\\"M1916.15 93.6545 L1904.34 112.104 L1916.15 112.104 L1916.15 93.6545 M1914.92 89.5805 L1920.8 89.5805 L1920.8 112.104 L1925.73 112.104 L1925.73 115.992 L1920.8 115.992 L1920.8 124.14 L1916.15 124.14 L1916.15 115.992 L1900.55 115.992 L1900.55 111.479 L1914.92 89.5805 Z\\\" fill=\\\"#000000\\\" fill-rule=\\\"evenodd\\\" fill-opacity=\\\"1\\\" \\/><polyline clip-path=\\\"url(#clip533)\\\" style=\\\"stroke:#00a8cb; stroke-linecap:butt; stroke-linejoin:round; stroke-width:4; stroke-opacity:1; fill:none\\\" points=\\\"\\n  2038.99,878.078 2029.12,827.694 2024.76,791.4 2024.25,765.278 2026.58,746.594 2030.94,732.995 2036.78,722.82 2043.77,714.944 2051.64,708.562 2060.26,703.157 \\n  2069.53,698.354 2079.38,693.897 2089.78,689.62 2100.72,685.395 2112.2,681.127 2124.23,676.747 2136.82,672.193 2150,667.408 2163.81,662.341 2178.29,656.936 \\n  2193.47,651.135 2209.42,644.869 2226.19,638.056 2243.87,630.607 2262.55,622.404 2282.32,613.325 2303.29,603.216 2325.63,591.879 2349.5,579.065 2375.11,564.48 \\n  2402.66,547.786 2432.46,528.512 2464.89,506.095 2500.44,479.96 2539.62,449.522 2583.01,414.189 2631.22,373.358 2684.91,326.447 2744.59,273.693 2811.43,217.304 \\n  2885.75,162.114 2966.71,115.688 3052.31,88.3198 3139.43,91.9416 3223.56,133.559 3300.08,211.767 3365.17,315.634 3416.15,426.524 3453.48,528.824 3479.14,612.962 \\n  3495.34,676.993 3504.41,725.33 3508.21,760.327 3508.23,785.158 3505.59,802.986 3501.01,815.931 3495.02,825.622 3487.94,833.152 3480,839.265 3471.35,844.486 \\n  3462.08,849.145 3452.23,853.483 3441.85,857.669 3430.94,861.815 3419.5,866.008 3407.52,870.321 3394.98,874.809 3381.86,879.524 3368.13,884.518 3353.74,889.844 \\n  3338.65,895.564 3322.8,901.742 3306.14,908.444 3288.6,915.757 3270.08,923.794 3250.49,932.689 3229.71,942.601 3207.59,953.712 3183.98,966.272 3158.67,980.533 \\n  3131.44,996.825 3101.98,1015.57 3069.95,1037.27 3034.94,1062.52 2996.64,1091.83 2954.48,1126.1 2907.4,1166.51 2854.55,1213.2 2795.3,1265.16 2729.3,1320.26 \\n  2656.41,1375.25 2576.71,1424.35 2491.88,1455.26 2405.08,1456.9 2320.29,1422.06 2242.28,1348 2175.45,1246.49 2122.38,1136.33 2083.33,1032.51 2056.35,945.661 \\n  2038.97,878.005 \\n  \\\"\\/>\\n<polyline clip-path=\\\"url(#clip533)\\\" style=\\\"stroke:#9b7fe8; stroke-linecap:butt; stroke-linejoin:round; stroke-width:4; stroke-opacity:1; fill:none\\\" points=\\\"\\n  2038.97,878.005 2029.11,827.641 2024.75,791.362 2024.25,765.252 2026.59,746.576 2030.95,732.982 2036.79,722.811 2043.77,714.938 2051.65,708.557 2060.27,703.153 \\n  2069.54,698.351 2079.39,693.894 2089.79,689.617 2100.73,685.392 2112.21,681.124 2124.24,676.744 2136.83,672.19 2150.02,667.405 2163.83,662.338 2178.3,656.933 \\n  2193.48,651.131 2209.43,644.864 2226.21,638.051 2243.89,630.601 2262.56,622.398 2282.33,613.318 2303.31,603.209 2325.65,591.87 2349.52,579.054 2375.13,564.468 \\n  2402.69,547.771 2432.48,528.494 2464.92,506.074 2500.47,479.936 2539.66,449.497 2583.05,414.161 2631.27,373.325 2684.95,326.404 2744.63,273.646 2811.49,217.255 \\n  2885.82,162.066 2966.78,115.647 3052.39,88.3023 3139.51,91.9507 3223.63,133.595 3300.14,211.829 3365.23,315.71 3416.19,426.614 3453.51,528.921 3479.17,613.033 \\n  3495.36,677.023 3504.42,725.348 3508.22,760.34 3508.24,785.167 3505.6,802.993 3501.02,815.935 3495.03,825.625 3487.95,833.154 3480.01,839.266 3471.36,844.486 \\n  3462.08,849.145 3452.24,853.482 3441.85,857.668 3430.94,861.814 3419.5,866.007 3407.53,870.32 3394.99,874.808 3381.87,879.522 3368.14,884.516 3353.75,889.842 \\n  3338.66,895.562 3322.81,901.74 3306.15,908.441 3288.61,915.753 3270.09,923.79 3250.51,932.685 3229.72,942.595 3207.61,953.706 3183.99,966.265 3158.69,980.525 \\n  3131.46,996.816 3102,1015.56 3069.97,1037.25 3034.96,1062.51 2996.66,1091.82 2954.51,1126.07 2907.43,1166.49 2854.58,1213.17 2795.34,1265.13 2729.34,1320.23 \\n  2656.45,1375.22 2576.75,1424.33 2491.93,1455.25 2405.12,1456.91 2320.34,1422.08 2242.32,1348.06 2175.49,1246.54 2122.4,1136.38 2083.35,1032.56 2056.36,945.707 \\n  2038.98,878.039 \\n  \\\"\\/>\\n<polyline clip-path=\\\"url(#clip533)\\\" style=\\\"stroke:#608cf6; stroke-linecap:butt; stroke-linejoin:round; stroke-width:4; stroke-opacity:1; fill:none\\\" points=\\\"\\n  2038.98,878.039 2029.12,827.666 2024.76,791.38 2024.25,765.264 2026.59,746.584 2030.94,732.988 2036.79,722.815 2043.77,714.941 2051.64,708.559 2060.27,703.155 \\n  2069.53,698.352 2079.38,693.896 2089.79,689.619 2100.73,685.394 2112.21,681.126 2124.23,676.745 2136.83,672.191 2150.01,667.407 2163.82,662.339 2178.29,656.935 \\n  2193.48,651.134 2209.42,644.867 2226.2,638.054 2243.88,630.604 2262.56,622.401 2282.32,613.322 2303.3,603.213 2325.64,591.874 2349.51,579.059 2375.12,564.474 \\n  2402.68,547.779 2432.47,528.504 2464.91,506.085 2500.46,479.949 2539.64,449.51 2583.03,414.175 2631.24,373.342 2684.93,326.427 2744.61,273.671 2811.46,217.281 \\n  2885.78,162.091 2966.74,115.669 3052.35,88.3118 3139.47,91.9466 3223.59,133.578 3300.11,211.798 3365.2,315.672 3416.17,426.567 3453.49,528.868 3479.15,612.994 \\n  3495.35,677.009 3504.41,725.341 3508.22,760.335 3508.23,785.164 3505.59,802.99 3501.02,815.934 3495.02,825.623 3487.94,833.154 3480,839.266 3471.35,844.487 \\n  3462.08,849.145 3452.23,853.483 3441.85,857.669 3430.94,861.814 3419.5,866.008 3407.52,870.321 3394.98,874.809 3381.87,879.524 3368.13,884.517 3353.74,889.844 \\n  3338.65,895.564 3322.8,901.742 3306.14,908.443 3288.6,915.756 3270.09,923.793 3250.5,932.688 3229.71,942.599 3207.6,953.711 3183.98,966.27 3158.68,980.531 \\n  3131.44,996.823 3101.99,1015.56 3069.96,1037.26 3034.95,1062.52 2996.64,1091.83 2954.49,1126.09 2907.41,1166.51 2854.56,1213.2 2795.31,1265.16 2729.31,1320.25 \\n  2656.42,1375.24 2576.72,1424.35 2491.9,1455.26 2405.09,1456.9 2320.3,1422.06 2242.29,1348.02 2175.46,1246.5 2122.39,1136.34 2083.33,1032.52 2056.35,945.673 \\n  2038.97,878.014 \\n  \\\"\\/>\\n<polyline clip-path=\\\"url(#clip533)\\\" style=\\\"stroke:#f05f73; stroke-linecap:butt; stroke-linejoin:round; stroke-width:4; stroke-opacity:1; fill:none\\\" points=\\\"\\n  2038.97,878.014 2029.12,827.648 2024.75,791.367 2024.25,765.255 2026.59,746.578 2030.94,732.984 2036.79,722.812 2043.77,714.939 2051.65,708.557 2060.27,703.154 \\n  2069.54,698.351 2079.39,693.895 2089.79,689.618 2100.73,685.393 2112.21,681.125 2124.24,676.744 2136.83,672.19 2150.01,667.406 2163.82,662.338 2178.3,656.933 \\n  2193.48,651.132 2209.43,644.865 2226.21,638.052 2243.89,630.602 2262.56,622.399 2282.33,613.319 2303.31,603.21 2325.65,591.871 2349.52,579.055 2375.12,564.469 \\n  2402.68,547.773 2432.48,528.497 2464.92,506.077 2500.47,479.94 2539.65,449.5 2583.04,414.165 2631.26,373.33 2684.94,326.411 2744.63,273.653 2811.48,217.262 \\n  2885.81,162.073 2966.77,115.654 3052.38,88.3051 3139.5,91.9497 3223.62,133.59 3300.13,211.82 3365.22,315.7 3416.18,426.601 3453.51,528.905 3479.16,613.022 \\n  3495.36,677.019 3504.42,725.346 3508.22,760.339 3508.23,785.167 3505.6,802.992 3501.02,815.935 3495.02,825.624 3487.95,833.154 3480.01,839.266 3471.36,844.487 \\n  3462.08,849.145 3452.24,853.483 3441.85,857.668 3430.94,861.814 3419.5,866.008 3407.52,870.32 3394.99,874.808 3381.87,879.523 3368.13,884.516 3353.75,889.843 \\n  3338.66,895.563 3322.81,901.74 3306.15,908.441 3288.61,915.754 3270.09,923.791 3250.5,932.686 3229.72,942.597 3207.6,953.708 3183.99,966.267 3158.68,980.527 \\n  3131.45,996.818 3101.99,1015.56 3069.96,1037.26 3034.96,1062.51 2996.65,1091.82 2954.5,1126.08 2907.43,1166.49 2854.57,1213.18 2795.33,1265.14 2729.33,1320.24 \\n  2656.44,1375.23 2576.74,1424.33 2491.92,1455.25 2405.11,1456.91 2320.32,1422.08 2242.31,1348.04 2175.48,1246.53 2122.4,1136.37 2083.34,1032.55 2056.36,945.695 \\n  2038.98,878.03 \\n  \\\"\\/>\\n<polyline clip-path=\\\"url(#clip533)\\\" style=\\\"stroke:#dd64b5; stroke-linecap:butt; stroke-linejoin:round; stroke-width:4; stroke-opacity:1; fill:none\\\" points=\\\"\\n  2038.98,878.03 2029.12,827.659 2024.76,791.375 2024.25,765.261 2026.59,746.582 2030.94,732.987 2036.79,722.814 2043.77,714.94 2051.65,708.559 2060.27,703.155 \\n  2069.53,698.352 2079.38,693.895 2089.79,689.618 2100.73,685.393 2112.21,681.125 2124.23,676.745 2136.83,672.191 2150.01,667.407 2163.82,662.339 2178.3,656.934 \\n  2193.48,651.133 2209.43,644.866 2226.2,638.053 2243.88,630.604 2262.56,622.4 2282.33,613.321 2303.3,603.212 2325.64,591.873 2349.51,579.058 2375.12,564.472 \\n  2402.68,547.777 2432.47,528.502 2464.91,506.083 2500.46,479.946 2539.64,449.506 2583.03,414.172 2631.25,373.337 2684.93,326.421 2744.62,273.664 2811.47,217.274 \\n  2885.79,162.085 2966.75,115.664 3052.36,88.3094 3139.48,91.9477 3223.6,133.582 3300.11,211.806 3365.2,315.682 3416.17,426.579 3453.5,528.881 3479.16,613.004 \\n  3495.35,677.013 3504.41,725.343 3508.22,760.336 3508.23,785.165 3505.6,802.991 3501.02,815.934 3495.02,825.624 3487.94,833.154 3480,839.266 3471.35,844.487 \\n  3462.08,849.145 3452.23,853.483 3441.85,857.669 3430.94,861.814 3419.5,866.008 3407.52,870.32 3394.99,874.809 3381.87,879.523 3368.13,884.517 3353.74,889.843 \\n  3338.65,895.564 3322.81,901.741 3306.15,908.442 3288.6,915.756 3270.09,923.792 3250.5,932.687 3229.71,942.598 3207.6,953.71 3183.98,966.269 3158.68,980.53 \\n  3131.45,996.821 3101.99,1015.56 3069.96,1037.26 3034.95,1062.52 2996.64,1091.83 2954.49,1126.09 2907.42,1166.5 2854.56,1213.19 2795.32,1265.15 2729.31,1320.25 \\n  2656.43,1375.24 2576.73,1424.34 2491.9,1455.26 2405.1,1456.9 2320.31,1422.07 2242.3,1348.02 2175.47,1246.51 2122.39,1136.35 2083.34,1032.53 2056.35,945.68 \\n  2038.97,878.019 \\n  \\\"\\/>\\n<\\/svg>\\n\"},\"nodeType\":\"DOM\",\"type\":\"node\",\"instanceArgs\":{\"namespace\":\"html\",\"tag\":\"div\"},\"children\":[]}]}}}},\"children\":[{\"props\":{},\"nodeType\":\"ObservableNode\",\"type\":\"node\",\"instanceArgs\":{\"id\":\"515046661679987449\",\"name\":\"obs-node\"},\"children\":[]}]}]},\n",
       "        window,\n",
       "    );\n",
       "    })()\n",
       "    </script>\n",
       "</div>\n"
      ],
      "text/plain": [
       "Node{WebIO.DOM}(WebIO.DOM(:html, :div), Any[Node{WebIO.DOM}(WebIO.DOM(:html, :div), Any[Scope(Node{WebIO.DOM}(WebIO.DOM(:html, :div), Any[Node{WebIO.DOM}(WebIO.DOM(:html, :div), Any[Node{WebIO.DOM}(WebIO.DOM(:html, :label), Any[\"μ\"], Dict{Symbol, Any}(:className => \"interact \", :style => Dict{Any, Any}(:padding => \"5px 10px 0px 10px\")))], Dict{Symbol, Any}(:className => \"interact-flex-row-left\")), Node{WebIO.DOM}(WebIO.DOM(:html, :div), Any[Node{WebIO.DOM}(WebIO.DOM(:html, :input), Any[], Dict{Symbol, Any}(:max => 301, :min => 1, :attributes => Dict{Any, Any}(:type => \"range\", Symbol(\"data-bind\") => \"numericValue: index, valueUpdate: 'input', event: {change: function (){this.changes(this.changes()+1)}}\", \"orient\" => \"horizontal\"), :step => 1, :className => \"slider slider is-fullwidth\", :style => Dict{Any, Any}()))], Dict{Symbol, Any}(:className => \"interact-flex-row-center\")), Node{WebIO.DOM}(WebIO.DOM(:html, :div), Any[Node{WebIO.DOM}(WebIO.DOM(:html, :p), Any[], Dict{Symbol, Any}(:attributes => Dict(\"data-bind\" => \"text: formatted_val\")))], Dict{Symbol, Any}(:className => \"interact-flex-row-right\"))], Dict{Symbol, Any}(:className => \"interact-flex-row interact-widget\")), Dict{String, Tuple{Observables.AbstractObservable, Union{Nothing, Bool}}}(\"changes\" => (Observable{Int64} with 1 listeners. Value:\n",
       "0, nothing), \"index\" => (Observable{Any} with 2 listeners. Value:\n",
       "151, nothing)), Set{String}(), nothing, Asset[Asset(\"js\", \"knockout\", \"C:\\\\Users\\\\Camilo\\\\.julia\\\\packages\\\\Knockout\\\\3gjS1\\\\src\\\\..\\\\assets\\\\knockout.js\"), Asset(\"js\", \"knockout_punches\", \"C:\\\\Users\\\\Camilo\\\\.julia\\\\packages\\\\Knockout\\\\3gjS1\\\\src\\\\..\\\\assets\\\\knockout_punches.js\"), Asset(\"js\", nothing, \"C:\\\\Users\\\\Camilo\\\\.julia\\\\packages\\\\InteractBase\\\\h8Fwe\\\\src\\\\..\\\\assets\\\\all.js\"), Asset(\"css\", nothing, \"C:\\\\Users\\\\Camilo\\\\.julia\\\\packages\\\\InteractBase\\\\h8Fwe\\\\src\\\\..\\\\assets\\\\style.css\"), Asset(\"css\", nothing, \"C:\\\\Users\\\\Camilo\\\\.julia\\\\packages\\\\Interact\\\\pVyN2\\\\src\\\\..\\\\assets\\\\bulma_confined.min.css\")], Dict{Any, Any}(\"changes\" => Any[WebIO.JSString(\"(function (val){return (val!=this.model[\\\"changes\\\"]()) ? (this.valueFromJulia[\\\"changes\\\"]=true, this.model[\\\"changes\\\"](val)) : undefined})\")], \"index\" => Any[WebIO.JSString(\"(function (val){return (val!=this.model[\\\"index\\\"]()) ? (this.valueFromJulia[\\\"index\\\"]=true, this.model[\\\"index\\\"](val)) : undefined})\")]), WebIO.ConnectionPool(Channel{Any}(32), Set{AbstractConnection}(), Condition(Base.InvasiveLinkedList{Task}(Task (runnable) @0x000000007ca3bb70, Task (runnable) @0x000000007ca3bb70), Base.AlwaysLockedST(1))), WebIO.JSString[WebIO.JSString(\"function () {\\n    var handler = (function (ko, koPunches) {\\n    ko.punches.enableAll();\\n    ko.bindingHandlers.numericValue = {\\n        init: function(element, valueAccessor, allBindings, data, context) {\\n            var stringified = ko.observable(ko.unwrap(valueAccessor()));\\n            stringified.subscribe(function(value) {\\n                var val = parseFloat(value);\\n                if (!isNaN(val)) {\\n                    valueAccessor()(val);\\n                }\\n            });\\n            valueAccessor().subscribe(function(value) {\\n                var str = JSON.stringify(value);\\n                if ((str == \\\"0\\\") && ([\\\"-0\\\", \\\"-0.\\\"].indexOf(stringified()) >= 0))\\n                     return;\\n                 if ([\\\"null\\\", \\\"\\\"].indexOf(str) >= 0)\\n                     return;\\n                stringified(str);\\n            });\\n            ko.applyBindingsToNode(\\n                element,\\n                {\\n                    value: stringified,\\n                    valueUpdate: allBindings.get('valueUpdate'),\\n                },\\n                context,\\n            );\\n        }\\n    };\\n    var json_data = {\\\"formatted_vals\\\":[\\\"0.0\\\",\\\"0.01\\\",\\\"0.02\\\",\\\"0.03\\\",\\\"0.04\\\",\\\"0.05\\\",\\\"0.06\\\",\\\"0.07\\\",\\\"0.08\\\",\\\"0.09\\\",\\\"0.1\\\",\\\"0.11\\\",\\\"0.12\\\",\\\"0.13\\\",\\\"0.14\\\",\\\"0.15\\\",\\\"0.16\\\",\\\"0.17\\\",\\\"0.18\\\",\\\"0.19\\\",\\\"0.2\\\",\\\"0.21\\\",\\\"0.22\\\",\\\"0.23\\\",\\\"0.24\\\",\\\"0.25\\\",\\\"0.26\\\",\\\"0.27\\\",\\\"0.28\\\",\\\"0.29\\\",\\\"0.3\\\",\\\"0.31\\\",\\\"0.32\\\",\\\"0.33\\\",\\\"0.34\\\",\\\"0.35\\\",\\\"0.36\\\",\\\"0.37\\\",\\\"0.38\\\",\\\"0.39\\\",\\\"0.4\\\",\\\"0.41\\\",\\\"0.42\\\",\\\"0.43\\\",\\\"0.44\\\",\\\"0.45\\\",\\\"0.46\\\",\\\"0.47\\\",\\\"0.48\\\",\\\"0.49\\\",\\\"0.5\\\",\\\"0.51\\\",\\\"0.52\\\",\\\"0.53\\\",\\\"0.54\\\",\\\"0.55\\\",\\\"0.56\\\",\\\"0.57\\\",\\\"0.58\\\",\\\"0.59\\\",\\\"0.6\\\",\\\"0.61\\\",\\\"0.62\\\",\\\"0.63\\\",\\\"0.64\\\",\\\"0.65\\\",\\\"0.66\\\",\\\"0.67\\\",\\\"0.68\\\",\\\"0.69\\\",\\\"0.7\\\",\\\"0.71\\\",\\\"0.72\\\",\\\"0.73\\\",\\\"0.74\\\",\\\"0.75\\\",\\\"0.76\\\",\\\"0.77\\\",\\\"0.78\\\",\\\"0.79\\\",\\\"0.8\\\",\\\"0.81\\\",\\\"0.82\\\",\\\"0.83\\\",\\\"0.84\\\",\\\"0.85\\\",\\\"0.86\\\",\\\"0.87\\\",\\\"0.88\\\",\\\"0.89\\\",\\\"0.9\\\",\\\"0.91\\\",\\\"0.92\\\",\\\"0.93\\\",\\\"0.94\\\",\\\"0.95\\\",\\\"0.96\\\",\\\"0.97\\\",\\\"0.98\\\",\\\"0.99\\\",\\\"1.0\\\",\\\"1.01\\\",\\\"1.02\\\",\\\"1.03\\\",\\\"1.04\\\",\\\"1.05\\\",\\\"1.06\\\",\\\"1.07\\\",\\\"1.08\\\",\\\"1.09\\\",\\\"1.1\\\",\\\"1.11\\\",\\\"1.12\\\",\\\"1.13\\\",\\\"1.14\\\",\\\"1.15\\\",\\\"1.16\\\",\\\"1.17\\\",\\\"1.18\\\",\\\"1.19\\\",\\\"1.2\\\",\\\"1.21\\\",\\\"1.22\\\",\\\"1.23\\\",\\\"1.24\\\",\\\"1.25\\\",\\\"1.26\\\",\\\"1.27\\\",\\\"1.28\\\",\\\"1.29\\\",\\\"1.3\\\",\\\"1.31\\\",\\\"1.32\\\",\\\"1.33\\\",\\\"1.34\\\",\\\"1.35\\\",\\\"1.36\\\",\\\"1.37\\\",\\\"1.38\\\",\\\"1.39\\\",\\\"1.4\\\",\\\"1.41\\\",\\\"1.42\\\",\\\"1.43\\\",\\\"1.44\\\",\\\"1.45\\\",\\\"1.46\\\",\\\"1.47\\\",\\\"1.48\\\",\\\"1.49\\\",\\\"1.5\\\",\\\"1.51\\\",\\\"1.52\\\",\\\"1.53\\\",\\\"1.54\\\",\\\"1.55\\\",\\\"1.56\\\",\\\"1.57\\\",\\\"1.58\\\",\\\"1.59\\\",\\\"1.6\\\",\\\"1.61\\\",\\\"1.62\\\",\\\"1.63\\\",\\\"1.64\\\",\\\"1.65\\\",\\\"1.66\\\",\\\"1.67\\\",\\\"1.68\\\",\\\"1.69\\\",\\\"1.7\\\",\\\"1.71\\\",\\\"1.72\\\",\\\"1.73\\\",\\\"1.74\\\",\\\"1.75\\\",\\\"1.76\\\",\\\"1.77\\\",\\\"1.78\\\",\\\"1.79\\\",\\\"1.8\\\",\\\"1.81\\\",\\\"1.82\\\",\\\"1.83\\\",\\\"1.84\\\",\\\"1.85\\\",\\\"1.86\\\",\\\"1.87\\\",\\\"1.88\\\",\\\"1.89\\\",\\\"1.9\\\",\\\"1.91\\\",\\\"1.92\\\",\\\"1.93\\\",\\\"1.94\\\",\\\"1.95\\\",\\\"1.96\\\",\\\"1.97\\\",\\\"1.98\\\",\\\"1.99\\\",\\\"2.0\\\",\\\"2.01\\\",\\\"2.02\\\",\\\"2.03\\\",\\\"2.04\\\",\\\"2.05\\\",\\\"2.06\\\",\\\"2.07\\\",\\\"2.08\\\",\\\"2.09\\\",\\\"2.1\\\",\\\"2.11\\\",\\\"2.12\\\",\\\"2.13\\\",\\\"2.14\\\",\\\"2.15\\\",\\\"2.16\\\",\\\"2.17\\\",\\\"2.18\\\",\\\"2.19\\\",\\\"2.2\\\",\\\"2.21\\\",\\\"2.22\\\",\\\"2.23\\\",\\\"2.24\\\",\\\"2.25\\\",\\\"2.26\\\",\\\"2.27\\\",\\\"2.28\\\",\\\"2.29\\\",\\\"2.3\\\",\\\"2.31\\\",\\\"2.32\\\",\\\"2.33\\\",\\\"2.34\\\",\\\"2.35\\\",\\\"2.36\\\",\\\"2.37\\\",\\\"2.38\\\",\\\"2.39\\\",\\\"2.4\\\",\\\"2.41\\\",\\\"2.42\\\",\\\"2.43\\\",\\\"2.44\\\",\\\"2.45\\\",\\\"2.46\\\",\\\"2.47\\\",\\\"2.48\\\",\\\"2.49\\\",\\\"2.5\\\",\\\"2.51\\\",\\\"2.52\\\",\\\"2.53\\\",\\\"2.54\\\",\\\"2.55\\\",\\\"2.56\\\",\\\"2.57\\\",\\\"2.58\\\",\\\"2.59\\\",\\\"2.6\\\",\\\"2.61\\\",\\\"2.62\\\",\\\"2.63\\\",\\\"2.64\\\",\\\"2.65\\\",\\\"2.66\\\",\\\"2.67\\\",\\\"2.68\\\",\\\"2.69\\\",\\\"2.7\\\",\\\"2.71\\\",\\\"2.72\\\",\\\"2.73\\\",\\\"2.74\\\",\\\"2.75\\\",\\\"2.76\\\",\\\"2.77\\\",\\\"2.78\\\",\\\"2.79\\\",\\\"2.8\\\",\\\"2.81\\\",\\\"2.82\\\",\\\"2.83\\\",\\\"2.84\\\",\\\"2.85\\\",\\\"2.86\\\",\\\"2.87\\\",\\\"2.88\\\",\\\"2.89\\\",\\\"2.9\\\",\\\"2.91\\\",\\\"2.92\\\",\\\"2.93\\\",\\\"2.94\\\",\\\"2.95\\\",\\\"2.96\\\",\\\"2.97\\\",\\\"2.98\\\",\\\"2.99\\\",\\\"3.0\\\"],\\\"changes\\\":WebIO.getval({\\\"name\\\":\\\"changes\\\",\\\"scope\\\":\\\"13888494177324787140\\\",\\\"id\\\":\\\"9452695838165017632\\\",\\\"type\\\":\\\"observable\\\"}),\\\"index\\\":WebIO.getval({\\\"name\\\":\\\"index\\\",\\\"scope\\\":\\\"13888494177324787140\\\",\\\"id\\\":\\\"5806075212670491706\\\",\\\"type\\\":\\\"observable\\\"})};\\n    var self = this;\\n    function AppViewModel() {\\n        for (var key in json_data) {\\n            var el = json_data[key];\\n            this[key] = Array.isArray(el) ? ko.observableArray(el) : ko.observable(el);\\n        }\\n        \\n        [this[\\\"formatted_val\\\"]=ko.computed(    function(){\\n        return this.formatted_vals()[parseInt(this.index())-(1)];\\n    }\\n,this)]\\n        [this[\\\"changes\\\"].subscribe((function (val){!(this.valueFromJulia[\\\"changes\\\"]) ? (WebIO.setval({\\\"name\\\":\\\"changes\\\",\\\"scope\\\":\\\"13888494177324787140\\\",\\\"id\\\":\\\"9452695838165017632\\\",\\\"type\\\":\\\"observable\\\"},val)) : undefined; return this.valueFromJulia[\\\"changes\\\"]=false}),self),this[\\\"index\\\"].subscribe((function (val){!(this.valueFromJulia[\\\"index\\\"]) ? (WebIO.setval({\\\"name\\\":\\\"index\\\",\\\"scope\\\":\\\"13888494177324787140\\\",\\\"id\\\":\\\"5806075212670491706\\\",\\\"type\\\":\\\"observable\\\"},val)) : undefined; return this.valueFromJulia[\\\"index\\\"]=false}),self)]\\n        \\n    }\\n    self.model = new AppViewModel();\\n    self.valueFromJulia = {};\\n    for (var key in json_data) {\\n        self.valueFromJulia[key] = false;\\n    }\\n    ko.applyBindings(self.model, self.dom);\\n}\\n);\\n    (WebIO.importBlock({\\\"data\\\":[{\\\"name\\\":\\\"knockout\\\",\\\"type\\\":\\\"js\\\",\\\"url\\\":\\\"/assetserver/2712bb0a7395d062608c2f218a74b700f6c76b99-knockout.js\\\"},{\\\"name\\\":\\\"knockout_punches\\\",\\\"type\\\":\\\"js\\\",\\\"url\\\":\\\"/assetserver/fb4445501a2be4ab82176667f844e40da26fa007-knockout_punches.js\\\"}],\\\"type\\\":\\\"async_block\\\"})).then((imports) => handler.apply(this, imports));\\n}\\n\")])], Dict{Symbol, Any}(:className => \"field interact-widget\")), Node{WebIO.DOM}(WebIO.DOM(:html, :div), Any[Scope(Node{WebIO.DOM}(WebIO.DOM(:html, :div), Any[Node{WebIO.DOM}(WebIO.DOM(:html, :div), Any[Node{WebIO.DOM}(WebIO.DOM(:html, :label), Any[\"A\"], Dict{Symbol, Any}(:className => \"interact \", :style => Dict{Any, Any}(:padding => \"5px 10px 0px 10px\")))], Dict{Symbol, Any}(:className => \"interact-flex-row-left\")), Node{WebIO.DOM}(WebIO.DOM(:html, :div), Any[Node{WebIO.DOM}(WebIO.DOM(:html, :input), Any[], Dict{Symbol, Any}(:max => 201, :min => 1, :attributes => Dict{Any, Any}(:type => \"range\", Symbol(\"data-bind\") => \"numericValue: index, valueUpdate: 'input', event: {change: function (){this.changes(this.changes()+1)}}\", \"orient\" => \"horizontal\"), :step => 1, :className => \"slider slider is-fullwidth\", :style => Dict{Any, Any}()))], Dict{Symbol, Any}(:className => \"interact-flex-row-center\")), Node{WebIO.DOM}(WebIO.DOM(:html, :div), Any[Node{WebIO.DOM}(WebIO.DOM(:html, :p), Any[], Dict{Symbol, Any}(:attributes => Dict(\"data-bind\" => \"text: formatted_val\")))], Dict{Symbol, Any}(:className => \"interact-flex-row-right\"))], Dict{Symbol, Any}(:className => \"interact-flex-row interact-widget\")), Dict{String, Tuple{Observables.AbstractObservable, Union{Nothing, Bool}}}(\"changes\" => (Observable{Int64} with 1 listeners. Value:\n",
       "0, nothing), \"index\" => (Observable{Any} with 2 listeners. Value:\n",
       "101, nothing)), Set{String}(), nothing, Asset[Asset(\"js\", \"knockout\", \"C:\\\\Users\\\\Camilo\\\\.julia\\\\packages\\\\Knockout\\\\3gjS1\\\\src\\\\..\\\\assets\\\\knockout.js\"), Asset(\"js\", \"knockout_punches\", \"C:\\\\Users\\\\Camilo\\\\.julia\\\\packages\\\\Knockout\\\\3gjS1\\\\src\\\\..\\\\assets\\\\knockout_punches.js\"), Asset(\"js\", nothing, \"C:\\\\Users\\\\Camilo\\\\.julia\\\\packages\\\\InteractBase\\\\h8Fwe\\\\src\\\\..\\\\assets\\\\all.js\"), Asset(\"css\", nothing, \"C:\\\\Users\\\\Camilo\\\\.julia\\\\packages\\\\InteractBase\\\\h8Fwe\\\\src\\\\..\\\\assets\\\\style.css\"), Asset(\"css\", nothing, \"C:\\\\Users\\\\Camilo\\\\.julia\\\\packages\\\\Interact\\\\pVyN2\\\\src\\\\..\\\\assets\\\\bulma_confined.min.css\")], Dict{Any, Any}(\"changes\" => Any[WebIO.JSString(\"(function (val){return (val!=this.model[\\\"changes\\\"]()) ? (this.valueFromJulia[\\\"changes\\\"]=true, this.model[\\\"changes\\\"](val)) : undefined})\")], \"index\" => Any[WebIO.JSString(\"(function (val){return (val!=this.model[\\\"index\\\"]()) ? (this.valueFromJulia[\\\"index\\\"]=true, this.model[\\\"index\\\"](val)) : undefined})\")]), WebIO.ConnectionPool(Channel{Any}(32), Set{AbstractConnection}(), Condition(Base.InvasiveLinkedList{Task}(Task (runnable) @0x000000007cb612d0, Task (runnable) @0x000000007cb612d0), Base.AlwaysLockedST(1))), WebIO.JSString[WebIO.JSString(\"function () {\\n    var handler = (function (ko, koPunches) {\\n    ko.punches.enableAll();\\n    ko.bindingHandlers.numericValue = {\\n        init: function(element, valueAccessor, allBindings, data, context) {\\n            var stringified = ko.observable(ko.unwrap(valueAccessor()));\\n            stringified.subscribe(function(value) {\\n                var val = parseFloat(value);\\n                if (!isNaN(val)) {\\n                    valueAccessor()(val);\\n                }\\n            });\\n            valueAccessor().subscribe(function(value) {\\n                var str = JSON.stringify(value);\\n                if ((str == \\\"0\\\") && ([\\\"-0\\\", \\\"-0.\\\"].indexOf(stringified()) >= 0))\\n                     return;\\n                 if ([\\\"null\\\", \\\"\\\"].indexOf(str) >= 0)\\n                     return;\\n                stringified(str);\\n            });\\n            ko.applyBindingsToNode(\\n                element,\\n                {\\n                    value: stringified,\\n                    valueUpdate: allBindings.get('valueUpdate'),\\n                },\\n                context,\\n            );\\n        }\\n    };\\n    var json_data = {\\\"formatted_vals\\\":[\\\"0.0\\\",\\\"0.01\\\",\\\"0.02\\\",\\\"0.03\\\",\\\"0.04\\\",\\\"0.05\\\",\\\"0.06\\\",\\\"0.07\\\",\\\"0.08\\\",\\\"0.09\\\",\\\"0.1\\\",\\\"0.11\\\",\\\"0.12\\\",\\\"0.13\\\",\\\"0.14\\\",\\\"0.15\\\",\\\"0.16\\\",\\\"0.17\\\",\\\"0.18\\\",\\\"0.19\\\",\\\"0.2\\\",\\\"0.21\\\",\\\"0.22\\\",\\\"0.23\\\",\\\"0.24\\\",\\\"0.25\\\",\\\"0.26\\\",\\\"0.27\\\",\\\"0.28\\\",\\\"0.29\\\",\\\"0.3\\\",\\\"0.31\\\",\\\"0.32\\\",\\\"0.33\\\",\\\"0.34\\\",\\\"0.35\\\",\\\"0.36\\\",\\\"0.37\\\",\\\"0.38\\\",\\\"0.39\\\",\\\"0.4\\\",\\\"0.41\\\",\\\"0.42\\\",\\\"0.43\\\",\\\"0.44\\\",\\\"0.45\\\",\\\"0.46\\\",\\\"0.47\\\",\\\"0.48\\\",\\\"0.49\\\",\\\"0.5\\\",\\\"0.51\\\",\\\"0.52\\\",\\\"0.53\\\",\\\"0.54\\\",\\\"0.55\\\",\\\"0.56\\\",\\\"0.57\\\",\\\"0.58\\\",\\\"0.59\\\",\\\"0.6\\\",\\\"0.61\\\",\\\"0.62\\\",\\\"0.63\\\",\\\"0.64\\\",\\\"0.65\\\",\\\"0.66\\\",\\\"0.67\\\",\\\"0.68\\\",\\\"0.69\\\",\\\"0.7\\\",\\\"0.71\\\",\\\"0.72\\\",\\\"0.73\\\",\\\"0.74\\\",\\\"0.75\\\",\\\"0.76\\\",\\\"0.77\\\",\\\"0.78\\\",\\\"0.79\\\",\\\"0.8\\\",\\\"0.81\\\",\\\"0.82\\\",\\\"0.83\\\",\\\"0.84\\\",\\\"0.85\\\",\\\"0.86\\\",\\\"0.87\\\",\\\"0.88\\\",\\\"0.89\\\",\\\"0.9\\\",\\\"0.91\\\",\\\"0.92\\\",\\\"0.93\\\",\\\"0.94\\\",\\\"0.95\\\",\\\"0.96\\\",\\\"0.97\\\",\\\"0.98\\\",\\\"0.99\\\",\\\"1.0\\\",\\\"1.01\\\",\\\"1.02\\\",\\\"1.03\\\",\\\"1.04\\\",\\\"1.05\\\",\\\"1.06\\\",\\\"1.07\\\",\\\"1.08\\\",\\\"1.09\\\",\\\"1.1\\\",\\\"1.11\\\",\\\"1.12\\\",\\\"1.13\\\",\\\"1.14\\\",\\\"1.15\\\",\\\"1.16\\\",\\\"1.17\\\",\\\"1.18\\\",\\\"1.19\\\",\\\"1.2\\\",\\\"1.21\\\",\\\"1.22\\\",\\\"1.23\\\",\\\"1.24\\\",\\\"1.25\\\",\\\"1.26\\\",\\\"1.27\\\",\\\"1.28\\\",\\\"1.29\\\",\\\"1.3\\\",\\\"1.31\\\",\\\"1.32\\\",\\\"1.33\\\",\\\"1.34\\\",\\\"1.35\\\",\\\"1.36\\\",\\\"1.37\\\",\\\"1.38\\\",\\\"1.39\\\",\\\"1.4\\\",\\\"1.41\\\",\\\"1.42\\\",\\\"1.43\\\",\\\"1.44\\\",\\\"1.45\\\",\\\"1.46\\\",\\\"1.47\\\",\\\"1.48\\\",\\\"1.49\\\",\\\"1.5\\\",\\\"1.51\\\",\\\"1.52\\\",\\\"1.53\\\",\\\"1.54\\\",\\\"1.55\\\",\\\"1.56\\\",\\\"1.57\\\",\\\"1.58\\\",\\\"1.59\\\",\\\"1.6\\\",\\\"1.61\\\",\\\"1.62\\\",\\\"1.63\\\",\\\"1.64\\\",\\\"1.65\\\",\\\"1.66\\\",\\\"1.67\\\",\\\"1.68\\\",\\\"1.69\\\",\\\"1.7\\\",\\\"1.71\\\",\\\"1.72\\\",\\\"1.73\\\",\\\"1.74\\\",\\\"1.75\\\",\\\"1.76\\\",\\\"1.77\\\",\\\"1.78\\\",\\\"1.79\\\",\\\"1.8\\\",\\\"1.81\\\",\\\"1.82\\\",\\\"1.83\\\",\\\"1.84\\\",\\\"1.85\\\",\\\"1.86\\\",\\\"1.87\\\",\\\"1.88\\\",\\\"1.89\\\",\\\"1.9\\\",\\\"1.91\\\",\\\"1.92\\\",\\\"1.93\\\",\\\"1.94\\\",\\\"1.95\\\",\\\"1.96\\\",\\\"1.97\\\",\\\"1.98\\\",\\\"1.99\\\",\\\"2.0\\\"],\\\"changes\\\":WebIO.getval({\\\"name\\\":\\\"changes\\\",\\\"scope\\\":\\\"2419313914630837045\\\",\\\"id\\\":\\\"5836328880711371560\\\",\\\"type\\\":\\\"observable\\\"}),\\\"index\\\":WebIO.getval({\\\"name\\\":\\\"index\\\",\\\"scope\\\":\\\"2419313914630837045\\\",\\\"id\\\":\\\"2613206927893695011\\\",\\\"type\\\":\\\"observable\\\"})};\\n    var self = this;\\n    function AppViewModel() {\\n        for (var key in json_data) {\\n            var el = json_data[key];\\n            this[key] = Array.isArray(el) ? ko.observableArray(el) : ko.observable(el);\\n        }\\n        \\n        [this[\\\"formatted_val\\\"]=ko.computed(    function(){\\n        return this.formatted_vals()[parseInt(this.index())-(1)];\\n    }\\n,this)]\\n        [this[\\\"changes\\\"].subscribe((function (val){!(this.valueFromJulia[\\\"changes\\\"]) ? (WebIO.setval({\\\"name\\\":\\\"changes\\\",\\\"scope\\\":\\\"2419313914630837045\\\",\\\"id\\\":\\\"5836328880711371560\\\",\\\"type\\\":\\\"observable\\\"},val)) : undefined; return this.valueFromJulia[\\\"changes\\\"]=false}),self),this[\\\"index\\\"].subscribe((function (val){!(this.valueFromJulia[\\\"index\\\"]) ? (WebIO.setval({\\\"name\\\":\\\"index\\\",\\\"scope\\\":\\\"2419313914630837045\\\",\\\"id\\\":\\\"2613206927893695011\\\",\\\"type\\\":\\\"observable\\\"},val)) : undefined; return this.valueFromJulia[\\\"index\\\"]=false}),self)]\\n        \\n    }\\n    self.model = new AppViewModel();\\n    self.valueFromJulia = {};\\n    for (var key in json_data) {\\n        self.valueFromJulia[key] = false;\\n    }\\n    ko.applyBindings(self.model, self.dom);\\n}\\n);\\n    (WebIO.importBlock({\\\"data\\\":[{\\\"name\\\":\\\"knockout\\\",\\\"type\\\":\\\"js\\\",\\\"url\\\":\\\"/assetserver/2712bb0a7395d062608c2f218a74b700f6c76b99-knockout.js\\\"},{\\\"name\\\":\\\"knockout_punches\\\",\\\"type\\\":\\\"js\\\",\\\"url\\\":\\\"/assetserver/fb4445501a2be4ab82176667f844e40da26fa007-knockout_punches.js\\\"}],\\\"type\\\":\\\"async_block\\\"})).then((imports) => handler.apply(this, imports));\\n}\\n\")])], Dict{Symbol, Any}(:className => \"field interact-widget\")), Node{WebIO.DOM}(WebIO.DOM(:html, :div), Any[Scope(Node{WebIO.DOM}(WebIO.DOM(:html, :div), Any[Node{WebIO.DOM}(WebIO.DOM(:html, :div), Any[Node{WebIO.DOM}(WebIO.DOM(:html, :label), Any[\"ω\"], Dict{Symbol, Any}(:className => \"interact \", :style => Dict{Any, Any}(:padding => \"5px 10px 0px 10px\")))], Dict{Symbol, Any}(:className => \"interact-flex-row-left\")), Node{WebIO.DOM}(WebIO.DOM(:html, :div), Any[Node{WebIO.DOM}(WebIO.DOM(:html, :input), Any[], Dict{Symbol, Any}(:max => 201, :min => 1, :attributes => Dict{Any, Any}(:type => \"range\", Symbol(\"data-bind\") => \"numericValue: index, valueUpdate: 'input', event: {change: function (){this.changes(this.changes()+1)}}\", \"orient\" => \"horizontal\"), :step => 1, :className => \"slider slider is-fullwidth\", :style => Dict{Any, Any}()))], Dict{Symbol, Any}(:className => \"interact-flex-row-center\")), Node{WebIO.DOM}(WebIO.DOM(:html, :div), Any[Node{WebIO.DOM}(WebIO.DOM(:html, :p), Any[], Dict{Symbol, Any}(:attributes => Dict(\"data-bind\" => \"text: formatted_val\")))], Dict{Symbol, Any}(:className => \"interact-flex-row-right\"))], Dict{Symbol, Any}(:className => \"interact-flex-row interact-widget\")), Dict{String, Tuple{Observables.AbstractObservable, Union{Nothing, Bool}}}(\"changes\" => (Observable{Int64} with 1 listeners. Value:\n",
       "0, nothing), \"index\" => (Observable{Any} with 2 listeners. Value:\n",
       "101, nothing)), Set{String}(), nothing, Asset[Asset(\"js\", \"knockout\", \"C:\\\\Users\\\\Camilo\\\\.julia\\\\packages\\\\Knockout\\\\3gjS1\\\\src\\\\..\\\\assets\\\\knockout.js\"), Asset(\"js\", \"knockout_punches\", \"C:\\\\Users\\\\Camilo\\\\.julia\\\\packages\\\\Knockout\\\\3gjS1\\\\src\\\\..\\\\assets\\\\knockout_punches.js\"), Asset(\"js\", nothing, \"C:\\\\Users\\\\Camilo\\\\.julia\\\\packages\\\\InteractBase\\\\h8Fwe\\\\src\\\\..\\\\assets\\\\all.js\"), Asset(\"css\", nothing, \"C:\\\\Users\\\\Camilo\\\\.julia\\\\packages\\\\InteractBase\\\\h8Fwe\\\\src\\\\..\\\\assets\\\\style.css\"), Asset(\"css\", nothing, \"C:\\\\Users\\\\Camilo\\\\.julia\\\\packages\\\\Interact\\\\pVyN2\\\\src\\\\..\\\\assets\\\\bulma_confined.min.css\")], Dict{Any, Any}(\"changes\" => Any[WebIO.JSString(\"(function (val){return (val!=this.model[\\\"changes\\\"]()) ? (this.valueFromJulia[\\\"changes\\\"]=true, this.model[\\\"changes\\\"](val)) : undefined})\")], \"index\" => Any[WebIO.JSString(\"(function (val){return (val!=this.model[\\\"index\\\"]()) ? (this.valueFromJulia[\\\"index\\\"]=true, this.model[\\\"index\\\"](val)) : undefined})\")]), WebIO.ConnectionPool(Channel{Any}(32), Set{AbstractConnection}(), Condition(Base.InvasiveLinkedList{Task}(Task (runnable) @0x000000007cbe2d60, Task (runnable) @0x000000007cbe2d60), Base.AlwaysLockedST(1))), WebIO.JSString[WebIO.JSString(\"function () {\\n    var handler = (function (ko, koPunches) {\\n    ko.punches.enableAll();\\n    ko.bindingHandlers.numericValue = {\\n        init: function(element, valueAccessor, allBindings, data, context) {\\n            var stringified = ko.observable(ko.unwrap(valueAccessor()));\\n            stringified.subscribe(function(value) {\\n                var val = parseFloat(value);\\n                if (!isNaN(val)) {\\n                    valueAccessor()(val);\\n                }\\n            });\\n            valueAccessor().subscribe(function(value) {\\n                var str = JSON.stringify(value);\\n                if ((str == \\\"0\\\") && ([\\\"-0\\\", \\\"-0.\\\"].indexOf(stringified()) >= 0))\\n                     return;\\n                 if ([\\\"null\\\", \\\"\\\"].indexOf(str) >= 0)\\n                     return;\\n                stringified(str);\\n            });\\n            ko.applyBindingsToNode(\\n                element,\\n                {\\n                    value: stringified,\\n                    valueUpdate: allBindings.get('valueUpdate'),\\n                },\\n                context,\\n            );\\n        }\\n    };\\n    var json_data = {\\\"formatted_vals\\\":[\\\"0.0\\\",\\\"0.01\\\",\\\"0.02\\\",\\\"0.03\\\",\\\"0.04\\\",\\\"0.05\\\",\\\"0.06\\\",\\\"0.07\\\",\\\"0.08\\\",\\\"0.09\\\",\\\"0.1\\\",\\\"0.11\\\",\\\"0.12\\\",\\\"0.13\\\",\\\"0.14\\\",\\\"0.15\\\",\\\"0.16\\\",\\\"0.17\\\",\\\"0.18\\\",\\\"0.19\\\",\\\"0.2\\\",\\\"0.21\\\",\\\"0.22\\\",\\\"0.23\\\",\\\"0.24\\\",\\\"0.25\\\",\\\"0.26\\\",\\\"0.27\\\",\\\"0.28\\\",\\\"0.29\\\",\\\"0.3\\\",\\\"0.31\\\",\\\"0.32\\\",\\\"0.33\\\",\\\"0.34\\\",\\\"0.35\\\",\\\"0.36\\\",\\\"0.37\\\",\\\"0.38\\\",\\\"0.39\\\",\\\"0.4\\\",\\\"0.41\\\",\\\"0.42\\\",\\\"0.43\\\",\\\"0.44\\\",\\\"0.45\\\",\\\"0.46\\\",\\\"0.47\\\",\\\"0.48\\\",\\\"0.49\\\",\\\"0.5\\\",\\\"0.51\\\",\\\"0.52\\\",\\\"0.53\\\",\\\"0.54\\\",\\\"0.55\\\",\\\"0.56\\\",\\\"0.57\\\",\\\"0.58\\\",\\\"0.59\\\",\\\"0.6\\\",\\\"0.61\\\",\\\"0.62\\\",\\\"0.63\\\",\\\"0.64\\\",\\\"0.65\\\",\\\"0.66\\\",\\\"0.67\\\",\\\"0.68\\\",\\\"0.69\\\",\\\"0.7\\\",\\\"0.71\\\",\\\"0.72\\\",\\\"0.73\\\",\\\"0.74\\\",\\\"0.75\\\",\\\"0.76\\\",\\\"0.77\\\",\\\"0.78\\\",\\\"0.79\\\",\\\"0.8\\\",\\\"0.81\\\",\\\"0.82\\\",\\\"0.83\\\",\\\"0.84\\\",\\\"0.85\\\",\\\"0.86\\\",\\\"0.87\\\",\\\"0.88\\\",\\\"0.89\\\",\\\"0.9\\\",\\\"0.91\\\",\\\"0.92\\\",\\\"0.93\\\",\\\"0.94\\\",\\\"0.95\\\",\\\"0.96\\\",\\\"0.97\\\",\\\"0.98\\\",\\\"0.99\\\",\\\"1.0\\\",\\\"1.01\\\",\\\"1.02\\\",\\\"1.03\\\",\\\"1.04\\\",\\\"1.05\\\",\\\"1.06\\\",\\\"1.07\\\",\\\"1.08\\\",\\\"1.09\\\",\\\"1.1\\\",\\\"1.11\\\",\\\"1.12\\\",\\\"1.13\\\",\\\"1.14\\\",\\\"1.15\\\",\\\"1.16\\\",\\\"1.17\\\",\\\"1.18\\\",\\\"1.19\\\",\\\"1.2\\\",\\\"1.21\\\",\\\"1.22\\\",\\\"1.23\\\",\\\"1.24\\\",\\\"1.25\\\",\\\"1.26\\\",\\\"1.27\\\",\\\"1.28\\\",\\\"1.29\\\",\\\"1.3\\\",\\\"1.31\\\",\\\"1.32\\\",\\\"1.33\\\",\\\"1.34\\\",\\\"1.35\\\",\\\"1.36\\\",\\\"1.37\\\",\\\"1.38\\\",\\\"1.39\\\",\\\"1.4\\\",\\\"1.41\\\",\\\"1.42\\\",\\\"1.43\\\",\\\"1.44\\\",\\\"1.45\\\",\\\"1.46\\\",\\\"1.47\\\",\\\"1.48\\\",\\\"1.49\\\",\\\"1.5\\\",\\\"1.51\\\",\\\"1.52\\\",\\\"1.53\\\",\\\"1.54\\\",\\\"1.55\\\",\\\"1.56\\\",\\\"1.57\\\",\\\"1.58\\\",\\\"1.59\\\",\\\"1.6\\\",\\\"1.61\\\",\\\"1.62\\\",\\\"1.63\\\",\\\"1.64\\\",\\\"1.65\\\",\\\"1.66\\\",\\\"1.67\\\",\\\"1.68\\\",\\\"1.69\\\",\\\"1.7\\\",\\\"1.71\\\",\\\"1.72\\\",\\\"1.73\\\",\\\"1.74\\\",\\\"1.75\\\",\\\"1.76\\\",\\\"1.77\\\",\\\"1.78\\\",\\\"1.79\\\",\\\"1.8\\\",\\\"1.81\\\",\\\"1.82\\\",\\\"1.83\\\",\\\"1.84\\\",\\\"1.85\\\",\\\"1.86\\\",\\\"1.87\\\",\\\"1.88\\\",\\\"1.89\\\",\\\"1.9\\\",\\\"1.91\\\",\\\"1.92\\\",\\\"1.93\\\",\\\"1.94\\\",\\\"1.95\\\",\\\"1.96\\\",\\\"1.97\\\",\\\"1.98\\\",\\\"1.99\\\",\\\"2.0\\\"],\\\"changes\\\":WebIO.getval({\\\"name\\\":\\\"changes\\\",\\\"scope\\\":\\\"13140446702345088630\\\",\\\"id\\\":\\\"2899681470006960995\\\",\\\"type\\\":\\\"observable\\\"}),\\\"index\\\":WebIO.getval({\\\"name\\\":\\\"index\\\",\\\"scope\\\":\\\"13140446702345088630\\\",\\\"id\\\":\\\"17603253559442038303\\\",\\\"type\\\":\\\"observable\\\"})};\\n    var self = this;\\n    function AppViewModel() {\\n        for (var key in json_data) {\\n            var el = json_data[key];\\n            this[key] = Array.isArray(el) ? ko.observableArray(el) : ko.observable(el);\\n        }\\n        \\n        [this[\\\"formatted_val\\\"]=ko.computed(    function(){\\n        return this.formatted_vals()[parseInt(this.index())-(1)];\\n    }\\n,this)]\\n        [this[\\\"changes\\\"].subscribe((function (val){!(this.valueFromJulia[\\\"changes\\\"]) ? (WebIO.setval({\\\"name\\\":\\\"changes\\\",\\\"scope\\\":\\\"13140446702345088630\\\",\\\"id\\\":\\\"2899681470006960995\\\",\\\"type\\\":\\\"observable\\\"},val)) : undefined; return this.valueFromJulia[\\\"changes\\\"]=false}),self),this[\\\"index\\\"].subscribe((function (val){!(this.valueFromJulia[\\\"index\\\"]) ? (WebIO.setval({\\\"name\\\":\\\"index\\\",\\\"scope\\\":\\\"13140446702345088630\\\",\\\"id\\\":\\\"17603253559442038303\\\",\\\"type\\\":\\\"observable\\\"},val)) : undefined; return this.valueFromJulia[\\\"index\\\"]=false}),self)]\\n        \\n    }\\n    self.model = new AppViewModel();\\n    self.valueFromJulia = {};\\n    for (var key in json_data) {\\n        self.valueFromJulia[key] = false;\\n    }\\n    ko.applyBindings(self.model, self.dom);\\n}\\n);\\n    (WebIO.importBlock({\\\"data\\\":[{\\\"name\\\":\\\"knockout\\\",\\\"type\\\":\\\"js\\\",\\\"url\\\":\\\"/assetserver/2712bb0a7395d062608c2f218a74b700f6c76b99-knockout.js\\\"},{\\\"name\\\":\\\"knockout_punches\\\",\\\"type\\\":\\\"js\\\",\\\"url\\\":\\\"/assetserver/fb4445501a2be4ab82176667f844e40da26fa007-knockout_punches.js\\\"}],\\\"type\\\":\\\"async_block\\\"})).then((imports) => handler.apply(this, imports));\\n}\\n\")])], Dict{Symbol, Any}(:className => \"field interact-widget\")), Node{WebIO.DOM}(WebIO.DOM(:html, :div), Any[Scope(Node{WebIO.DOM}(WebIO.DOM(:html, :div), Any[Node{WebIO.DOM}(WebIO.DOM(:html, :div), Any[Node{WebIO.DOM}(WebIO.DOM(:html, :label), Any[\"tmax\"], Dict{Symbol, Any}(:className => \"interact \", :style => Dict{Any, Any}(:padding => \"5px 10px 0px 10px\")))], Dict{Symbol, Any}(:className => \"interact-flex-row-left\")), Node{WebIO.DOM}(WebIO.DOM(:html, :div), Any[Node{WebIO.DOM}(WebIO.DOM(:html, :input), Any[], Dict{Symbol, Any}(:max => 200, :min => 0, :attributes => Dict{Any, Any}(:type => \"range\", Symbol(\"data-bind\") => \"numericValue: index, valueUpdate: 'input', event: {change: function (){this.changes(this.changes()+1)}}\", \"orient\" => \"horizontal\"), :step => 1, :className => \"slider slider is-fullwidth\", :style => Dict{Any, Any}()))], Dict{Symbol, Any}(:className => \"interact-flex-row-center\")), Node{WebIO.DOM}(WebIO.DOM(:html, :div), Any[Node{WebIO.DOM}(WebIO.DOM(:html, :p), Any[], Dict{Symbol, Any}(:attributes => Dict(\"data-bind\" => \"text: formatted_val\")))], Dict{Symbol, Any}(:className => \"interact-flex-row-right\"))], Dict{Symbol, Any}(:className => \"interact-flex-row interact-widget\")), Dict{String, Tuple{Observables.AbstractObservable, Union{Nothing, Bool}}}(\"changes\" => (Observable{Int64} with 1 listeners. Value:\n",
       "0, nothing), \"index\" => (Observable{Int64} with 2 listeners. Value:\n",
       "100, nothing)), Set{String}(), nothing, Asset[Asset(\"js\", \"knockout\", \"C:\\\\Users\\\\Camilo\\\\.julia\\\\packages\\\\Knockout\\\\3gjS1\\\\src\\\\..\\\\assets\\\\knockout.js\"), Asset(\"js\", \"knockout_punches\", \"C:\\\\Users\\\\Camilo\\\\.julia\\\\packages\\\\Knockout\\\\3gjS1\\\\src\\\\..\\\\assets\\\\knockout_punches.js\"), Asset(\"js\", nothing, \"C:\\\\Users\\\\Camilo\\\\.julia\\\\packages\\\\InteractBase\\\\h8Fwe\\\\src\\\\..\\\\assets\\\\all.js\"), Asset(\"css\", nothing, \"C:\\\\Users\\\\Camilo\\\\.julia\\\\packages\\\\InteractBase\\\\h8Fwe\\\\src\\\\..\\\\assets\\\\style.css\"), Asset(\"css\", nothing, \"C:\\\\Users\\\\Camilo\\\\.julia\\\\packages\\\\Interact\\\\pVyN2\\\\src\\\\..\\\\assets\\\\bulma_confined.min.css\")], Dict{Any, Any}(\"changes\" => Any[WebIO.JSString(\"(function (val){return (val!=this.model[\\\"changes\\\"]()) ? (this.valueFromJulia[\\\"changes\\\"]=true, this.model[\\\"changes\\\"](val)) : undefined})\")], \"index\" => Any[WebIO.JSString(\"(function (val){return (val!=this.model[\\\"index\\\"]()) ? (this.valueFromJulia[\\\"index\\\"]=true, this.model[\\\"index\\\"](val)) : undefined})\")]), WebIO.ConnectionPool(Channel{Any}(32), Set{AbstractConnection}(), Condition(Base.InvasiveLinkedList{Task}(Task (runnable) @0x000000007cec9780, Task (runnable) @0x000000007cec9780), Base.AlwaysLockedST(1))), WebIO.JSString[WebIO.JSString(\"function () {\\n    var handler = (function (ko, koPunches) {\\n    ko.punches.enableAll();\\n    ko.bindingHandlers.numericValue = {\\n        init: function(element, valueAccessor, allBindings, data, context) {\\n            var stringified = ko.observable(ko.unwrap(valueAccessor()));\\n            stringified.subscribe(function(value) {\\n                var val = parseFloat(value);\\n                if (!isNaN(val)) {\\n                    valueAccessor()(val);\\n                }\\n            });\\n            valueAccessor().subscribe(function(value) {\\n                var str = JSON.stringify(value);\\n                if ((str == \\\"0\\\") && ([\\\"-0\\\", \\\"-0.\\\"].indexOf(stringified()) >= 0))\\n                     return;\\n                 if ([\\\"null\\\", \\\"\\\"].indexOf(str) >= 0)\\n                     return;\\n                stringified(str);\\n            });\\n            ko.applyBindingsToNode(\\n                element,\\n                {\\n                    value: stringified,\\n                    valueUpdate: allBindings.get('valueUpdate'),\\n                },\\n                context,\\n            );\\n        }\\n    };\\n    var json_data = {\\\"formatted_vals\\\":[\\\"0\\\",\\\"1\\\",\\\"2\\\",\\\"3\\\",\\\"4\\\",\\\"5\\\",\\\"6\\\",\\\"7\\\",\\\"8\\\",\\\"9\\\",\\\"10\\\",\\\"11\\\",\\\"12\\\",\\\"13\\\",\\\"14\\\",\\\"15\\\",\\\"16\\\",\\\"17\\\",\\\"18\\\",\\\"19\\\",\\\"20\\\",\\\"21\\\",\\\"22\\\",\\\"23\\\",\\\"24\\\",\\\"25\\\",\\\"26\\\",\\\"27\\\",\\\"28\\\",\\\"29\\\",\\\"30\\\",\\\"31\\\",\\\"32\\\",\\\"33\\\",\\\"34\\\",\\\"35\\\",\\\"36\\\",\\\"37\\\",\\\"38\\\",\\\"39\\\",\\\"40\\\",\\\"41\\\",\\\"42\\\",\\\"43\\\",\\\"44\\\",\\\"45\\\",\\\"46\\\",\\\"47\\\",\\\"48\\\",\\\"49\\\",\\\"50\\\",\\\"51\\\",\\\"52\\\",\\\"53\\\",\\\"54\\\",\\\"55\\\",\\\"56\\\",\\\"57\\\",\\\"58\\\",\\\"59\\\",\\\"60\\\",\\\"61\\\",\\\"62\\\",\\\"63\\\",\\\"64\\\",\\\"65\\\",\\\"66\\\",\\\"67\\\",\\\"68\\\",\\\"69\\\",\\\"70\\\",\\\"71\\\",\\\"72\\\",\\\"73\\\",\\\"74\\\",\\\"75\\\",\\\"76\\\",\\\"77\\\",\\\"78\\\",\\\"79\\\",\\\"80\\\",\\\"81\\\",\\\"82\\\",\\\"83\\\",\\\"84\\\",\\\"85\\\",\\\"86\\\",\\\"87\\\",\\\"88\\\",\\\"89\\\",\\\"90\\\",\\\"91\\\",\\\"92\\\",\\\"93\\\",\\\"94\\\",\\\"95\\\",\\\"96\\\",\\\"97\\\",\\\"98\\\",\\\"99\\\",\\\"100\\\",\\\"101\\\",\\\"102\\\",\\\"103\\\",\\\"104\\\",\\\"105\\\",\\\"106\\\",\\\"107\\\",\\\"108\\\",\\\"109\\\",\\\"110\\\",\\\"111\\\",\\\"112\\\",\\\"113\\\",\\\"114\\\",\\\"115\\\",\\\"116\\\",\\\"117\\\",\\\"118\\\",\\\"119\\\",\\\"120\\\",\\\"121\\\",\\\"122\\\",\\\"123\\\",\\\"124\\\",\\\"125\\\",\\\"126\\\",\\\"127\\\",\\\"128\\\",\\\"129\\\",\\\"130\\\",\\\"131\\\",\\\"132\\\",\\\"133\\\",\\\"134\\\",\\\"135\\\",\\\"136\\\",\\\"137\\\",\\\"138\\\",\\\"139\\\",\\\"140\\\",\\\"141\\\",\\\"142\\\",\\\"143\\\",\\\"144\\\",\\\"145\\\",\\\"146\\\",\\\"147\\\",\\\"148\\\",\\\"149\\\",\\\"150\\\",\\\"151\\\",\\\"152\\\",\\\"153\\\",\\\"154\\\",\\\"155\\\",\\\"156\\\",\\\"157\\\",\\\"158\\\",\\\"159\\\",\\\"160\\\",\\\"161\\\",\\\"162\\\",\\\"163\\\",\\\"164\\\",\\\"165\\\",\\\"166\\\",\\\"167\\\",\\\"168\\\",\\\"169\\\",\\\"170\\\",\\\"171\\\",\\\"172\\\",\\\"173\\\",\\\"174\\\",\\\"175\\\",\\\"176\\\",\\\"177\\\",\\\"178\\\",\\\"179\\\",\\\"180\\\",\\\"181\\\",\\\"182\\\",\\\"183\\\",\\\"184\\\",\\\"185\\\",\\\"186\\\",\\\"187\\\",\\\"188\\\",\\\"189\\\",\\\"190\\\",\\\"191\\\",\\\"192\\\",\\\"193\\\",\\\"194\\\",\\\"195\\\",\\\"196\\\",\\\"197\\\",\\\"198\\\",\\\"199\\\",\\\"200\\\"],\\\"changes\\\":WebIO.getval({\\\"name\\\":\\\"changes\\\",\\\"scope\\\":\\\"11677190095257288595\\\",\\\"id\\\":\\\"13637538984935582066\\\",\\\"type\\\":\\\"observable\\\"}),\\\"index\\\":WebIO.getval({\\\"name\\\":\\\"index\\\",\\\"scope\\\":\\\"11677190095257288595\\\",\\\"id\\\":\\\"2207746971838634866\\\",\\\"type\\\":\\\"observable\\\"})};\\n    var self = this;\\n    function AppViewModel() {\\n        for (var key in json_data) {\\n            var el = json_data[key];\\n            this[key] = Array.isArray(el) ? ko.observableArray(el) : ko.observable(el);\\n        }\\n        \\n        [this[\\\"formatted_val\\\"]=ko.computed(    function(){\\n        return this.formatted_vals()[parseInt(this.index())-(0)];\\n    }\\n,this)]\\n        [this[\\\"changes\\\"].subscribe((function (val){!(this.valueFromJulia[\\\"changes\\\"]) ? (WebIO.setval({\\\"name\\\":\\\"changes\\\",\\\"scope\\\":\\\"11677190095257288595\\\",\\\"id\\\":\\\"13637538984935582066\\\",\\\"type\\\":\\\"observable\\\"},val)) : undefined; return this.valueFromJulia[\\\"changes\\\"]=false}),self),this[\\\"index\\\"].subscribe((function (val){!(this.valueFromJulia[\\\"index\\\"]) ? (WebIO.setval({\\\"name\\\":\\\"index\\\",\\\"scope\\\":\\\"11677190095257288595\\\",\\\"id\\\":\\\"2207746971838634866\\\",\\\"type\\\":\\\"observable\\\"},val)) : undefined; return this.valueFromJulia[\\\"index\\\"]=false}),self)]\\n        \\n    }\\n    self.model = new AppViewModel();\\n    self.valueFromJulia = {};\\n    for (var key in json_data) {\\n        self.valueFromJulia[key] = false;\\n    }\\n    ko.applyBindings(self.model, self.dom);\\n}\\n);\\n    (WebIO.importBlock({\\\"data\\\":[{\\\"name\\\":\\\"knockout\\\",\\\"type\\\":\\\"js\\\",\\\"url\\\":\\\"/assetserver/2712bb0a7395d062608c2f218a74b700f6c76b99-knockout.js\\\"},{\\\"name\\\":\\\"knockout_punches\\\",\\\"type\\\":\\\"js\\\",\\\"url\\\":\\\"/assetserver/fb4445501a2be4ab82176667f844e40da26fa007-knockout_punches.js\\\"}],\\\"type\\\":\\\"async_block\\\"})).then((imports) => handler.apply(this, imports));\\n}\\n\")])], Dict{Symbol, Any}(:className => \"field interact-widget\")), Observable{Node{WebIO.DOM}} with 0 listeners. Value:\n",
       "Node{WebIO.DOM}(WebIO.DOM(:html, :div), Any[Plot{Plots.GRBackend() n=20}], Dict{Symbol, Any}(:className => \"interact-flex-row interact-widget\"))], Dict{Symbol, Any}())"
      ]
     },
     "execution_count": 43,
     "metadata": {
      "application/vnd.webio.node+json": {
       "kernelId": "6f199235-1784-4403-a90a-7cc2d446a373"
      }
     },
     "output_type": "execute_result"
    }
   ],
   "source": [
    "@manipulate throttle=0.5 for μ=0.0:0.01:3.0, A=0:0.01:2.0, ω=0:0.01:2.0, tmax=0:200\n",
    "    solve_plot_forced(fvdp!,[0.5,0.5,0],[μ,A,ω],2*pi/ω; trans=10,tmax=tmax)\n",
    "end    "
   ]
  },
  {
   "cell_type": "code",
   "execution_count": 6,
   "id": "911db4c2",
   "metadata": {
    "ExecuteTime": {
     "end_time": "2021-08-24T21:47:13.498699Z",
     "start_time": "2021-08-24T21:47:13.486703Z"
    }
   },
   "outputs": [
    {
     "ename": "LoadError",
     "evalue": "UndefVarError: solve_plot not defined",
     "output_type": "error",
     "traceback": [
      "UndefVarError: solve_plot not defined",
      "",
      "Stacktrace:",
      " [1] (::var\"#1#2\")(μ::Float64, A::Float64, ω::Float64, tmax::Int64)",
      "   @ Main .\\In[6]:2",
      " [2] map(::var\"#1#2\", ::Observable{Float64}, ::Observable{Float64}, ::Vararg{Any, N} where N; kwargs::Base.Iterators.Pairs{Union{}, Union{}, Tuple{}, NamedTuple{(), Tuple{}}})",
      "   @ Observables C:\\Users\\Camilo\\.julia\\packages\\Observables\\OFj0u\\src\\Observables.jl:477",
      " [3] map(::var\"#1#2\", ::Observable{Float64}, ::Observable{Float64}, ::Observable{Float64}, ::Vararg{Any, N} where N)",
      "   @ Observables C:\\Users\\Camilo\\.julia\\packages\\Observables\\OFj0u\\src\\Observables.jl:466",
      " [4] top-level scope",
      "   @ C:\\Users\\Camilo\\.julia\\packages\\Widgets\\7O8AV\\src\\manipulate.jl:25",
      " [5] eval",
      "   @ .\\boot.jl:360 [inlined]",
      " [6] include_string(mapexpr::typeof(REPL.softscope), mod::Module, code::String, filename::String)",
      "   @ Base .\\loading.jl:1116"
     ]
    }
   ],
   "source": [
    "function recurrence_plot(f,u0,p,tmax;trans=0,period=0)\n",
    "    sol = solve(ODEProblem(f,u0,(0.0,tmax),p))\n",
    "    \n",
    "end    \n",
    "    "
   ]
  },
  {
   "cell_type": "markdown",
   "id": "b7b60aef",
   "metadata": {},
   "source": [
    "## Recurrence Plot\n",
    "\n",
    "Una mejor forma de visualizar la periodicidad es mediante un **recurrence plot** donde las estructuras periodicas se ven como lineas diagonales y el periodo es el espaciamiento entre las lineas. Como referencia se muestra ademas el periodo del forzado.\n",
    "\n"
   ]
  },
  {
   "cell_type": "code",
   "execution_count": null,
   "id": "20ef00ac",
   "metadata": {
    "ExecuteTime": {
     "end_time": "2021-08-24T21:47:30.147022Z",
     "start_time": "2021-08-24T21:47:28.849117Z"
    }
   },
   "outputs": [],
   "source": [
    "def recurrent_vanderpol_forced_interactive(μ,A,ω,ncycles,ee):\n",
    "    xini = [1,-1]\n",
    "    tmax = np.pi*ncycles\n",
    "    dt = 0.1\n",
    "    pars={'μ':μ,'A':A,'ω':ω}\n",
    "    trans = tmax/2\n",
    "    eps = np.power(10.0,ee)\n",
    "    recurrence_plot(vanderpol_forced,pars,xini,tmax,dt,trans=trans,eps=eps,period=2*np.pi/ω)\n",
    "\n",
    "\n",
    "iplot4 = interactive(recurrent_vanderpol_forced_interactive,\n",
    "                    μ = (0.0, 2.0, 0.001),\n",
    "                    A = (0,1.0,0.001),\n",
    "                    ω = (0,3.0,0.001), \n",
    "                    ncycles=(1,200,1),\n",
    "                    ee=(-3,-1,0.001))\n",
    "\n",
    "iplot4    "
   ]
  },
  {
   "cell_type": "markdown",
   "id": "5f81f939",
   "metadata": {},
   "source": [
    "## Duffing Forzado\n",
    "\n",
    "Para ver otro sistema forzado periodico donde la respuesta es mucho mas irregular volvemos al oscilador de Duffing (con friccion lineal). Recordar que llegamos a este sistema escribiendo primero la ecuacion del oscilador armonico de forma general con una fuerza de restitucion $K(x)$\n",
    "\n",
    "$\\dot{x}=y$\n",
    "\n",
    "$\\dot{y}=-\\mu y + K(x)$\n",
    "\n",
    "y eligiendo una fuerza de restitucion con un termino lineal y uno cubico\n",
    "\n",
    "$K(x) = \\beta x - x^3$\n",
    "\n",
    "Como para valores de $x$ grande va a dominar el termino cubico esta garantizado que el sistema es globalmente atractor porque si $x$ es muy positivo $-K(x)$ es muy negativo y viceversa.\n",
    "\n",
    "El oscilador de Duffing NO es un auto oscilador porque no tiene friccion negativa (inyeccion de energia). De todas formas lo que nos interesa estudiar aca es el oscilador de Duffing forzado:\n",
    "\n",
    "$\\dot{x} = y$\n",
    "\n",
    "$\\dot{y} = -\\mu y + \\beta x -  x^3 + A sin(\\phi)$\n",
    "\n",
    "$\\dot{\\phi} = \\omega$"
   ]
  },
  {
   "cell_type": "code",
   "execution_count": null,
   "id": "d0d74cc8",
   "metadata": {
    "ExecuteTime": {
     "end_time": "2021-08-24T21:47:41.325193Z",
     "start_time": "2021-08-24T21:47:41.311231Z"
    }
   },
   "outputs": [],
   "source": [
    "function duffing_forced!(du,u,p,t)\n",
    "    du[1] = u[2]\n",
    "    du[2] = -p[1]*u[2]+u[1]*(p[2]-u[1]*u[1])+p[3]*sin(u[3])\n",
    "    du[3] = p[4]\n",
    "    du\n",
    "end    "
   ]
  },
  {
   "cell_type": "code",
   "execution_count": null,
   "id": "1c49ef52",
   "metadata": {},
   "outputs": [],
   "source": [
    "@manipulate throttle=0.5 for μ=0.0:0.01:2.0, β=-5.0:0.01:2.0A=0:0.01:1, ω=0:0.01:1, tmax=0:200\n",
    "    solve_plot_forced(vdp!,[0.5,0.5,0],[μ,A,ω]; tmax=tmax)\n",
    "end    "
   ]
  },
  {
   "cell_type": "code",
   "execution_count": null,
   "id": "2faa075d",
   "metadata": {
    "ExecuteTime": {
     "end_time": "2021-08-25T15:32:07.827363Z",
     "start_time": "2021-08-25T15:32:07.458211Z"
    }
   },
   "outputs": [],
   "source": [
    "def plot2D_duffing_forced_interactive(μ,β,A,ω,x0,y0,tmax):\n",
    "    xini = [x0,y0]\n",
    "    dt = tmax/500\n",
    "    pars={'μ':μ,'β':β,'A':A,'ω':ω}\n",
    "    trans = tmax/4\n",
    "    solve_plot(duffing_forced,pars,xini,tmax,dt,trans=trans)\n",
    "    \n",
    "iplot3 = interactive(plot2D_duffing_forced_interactive,\n",
    "                    μ = (0, 2.0, 0.001),\n",
    "                    β = (-5.0,2.0,0.001), \n",
    "                    A = (0,5.0,0.001),\n",
    "                    ω = (0,2.0,0.001), \n",
    "                    x0=(-1,1,0.01), \n",
    "                    y0=(-1,1,0.01), \n",
    "                    tmax=(0,100,0.1))\n",
    "\n",
    "iplot3    "
   ]
  },
  {
   "cell_type": "code",
   "execution_count": null,
   "id": "ec7caa3f",
   "metadata": {
    "ExecuteTime": {
     "end_time": "2021-08-24T21:47:52.210477Z",
     "start_time": "2021-08-24T21:47:50.694501Z"
    }
   },
   "outputs": [],
   "source": [
    "def recurrent_duffing_forced_interactive(μ,β,A,ω,ncycles,ee):\n",
    "    xini = [1,-1]\n",
    "    tmax = np.pi*ncycles\n",
    "    dt = 0.1\n",
    "    pars={'μ':μ,'β':β,'A':A,'ω':ω}\n",
    "    trans = tmax/2\n",
    "    eps = np.power(10.0,ee)\n",
    "    recurrence_plot(duffing_forced,pars,xini,tmax,dt,trans=trans,eps=eps,period=2*np.pi/ω)\n",
    "\n",
    "\n",
    "iplot4 = interactive(recurrent_duffing_forced_interactive,\n",
    "                    μ = (0.0, 2.0, 0.001),\n",
    "                    β = (-2.0,2.0,0.001),\n",
    "                    A = (0,1.0,0.001),\n",
    "                    ω = (0,3.0,0.001), \n",
    "                    ncycles=(1,200,1),\n",
    "                    ee=(-4,-3,0.001))\n",
    "\n",
    "iplot4    "
   ]
  },
  {
   "cell_type": "markdown",
   "id": "8a632283",
   "metadata": {},
   "source": [
    "# Subarmonicos. Oscilador cuadratico\n",
    "\n",
    "Cuando escribimos una forma no lineal para la restitucion $K(x)$ en el oscilador de Duffing elegimos agregar un termino cubico. Que hubiese pasado si en lugar de eso hubiesemos elegido un termino cuadratico? El problema es que el sistema no es globalmente atractor porque para valores de $x$ grande la restitucion es o siempre positiva o siempre negativa y para uno de los dos lados van a escaparse trayectorias. Podemos solucionar eso agregando un termino cuadratico y un termino cubico, pero poniendo un coeficiente muy chico al termino cubico y agregando un parametro al termino cuadratico que es el que nos interesa estudiar. De esta forma la fuerza de restitucion quedaria.\n",
    "\n",
    "$K(x) = -x +\\alpha x^2 - \\delta x^3$\n",
    "\n",
    "y eligiendo por ejemplo $\\delta=0.01$. Notar que ahora el parametro $\\alpha$ lo colocamos en el termino cuadratico (en Duffing el parametro de control $\\beta$ estaba en el termino lineal.\n",
    "De esta forma cuando $\\alpha$ sea igual a cero voy a tener el oscilador armonico para pequeñas oscilaciones, y a medida que voy subiendo el parametro $\\alpha$ voy incrementando la no linealidad del oscilador.\n",
    "\n",
    "El oscilador cuadratico se puede escribir entonces, con un termino de forzado externo como:\n",
    "\n",
    "$\\dot{x} = y$\n",
    "\n",
    "$\\dot{y} = -\\mu y - x +\\alpha x^2 -  0.01 x^3 + A sin(\\phi)$\n",
    "\n",
    "$\\dot{\\phi} = \\omega$\n",
    "\n",
    "A diferencia del oscilador de Duffing que tiende a ser simetrico en el eje x, el oscilador cuadratico va a ser mucho mas asimetrico para valores considerables de $\\alpha$ y vamos a ver ciclos limites con forma de 'huevo'.\n",
    "\n",
    "Pero la caracteristica mas relevante que tiene el osiclador cuadratico forzado es la aparicion de subarmonicos, incluso sin variar la frecuencia del forzado, a medida que se incrementa la amplitud. Esta aparicion de subarmonicos (que puede dar lugar a una casacada de duplicaciones de periodo que de lugar a la aparcion de Caos) se observa en muchos ociladores no lineales en el mundo real.\n",
    "\n",
    "Para el sistema que sigue probar por ejempo: \n",
    "$\\mu = 0.35$, $\\alpha=0.2$ $\\omega=1$ para valores crecientes de $A$"
   ]
  },
  {
   "cell_type": "code",
   "execution_count": null,
   "id": "d70499e6",
   "metadata": {
    "ExecuteTime": {
     "end_time": "2021-08-26T02:51:22.088505Z",
     "start_time": "2021-08-26T02:51:22.083519Z"
    }
   },
   "outputs": [],
   "source": [
    "def quadratic_forced(t, x, μ, α, A, ω):\n",
    "    return [\n",
    "        x[1],\n",
    "        -μ*x[1]-x[0]*(1.0-α*x[0]+0.01*x[0]**2)+A*np.sin(ω*t),\n",
    "    ]"
   ]
  },
  {
   "cell_type": "code",
   "execution_count": null,
   "id": "1837d8b9",
   "metadata": {
    "ExecuteTime": {
     "end_time": "2021-08-26T05:24:15.561340Z",
     "start_time": "2021-08-26T05:24:15.177270Z"
    },
    "scrolled": false
   },
   "outputs": [],
   "source": [
    "def plot2D_quadratic_forced_interactive(μ,α,A,ω,tmax):\n",
    "    xini = [0,0]\n",
    "    dt = tmax/1000\n",
    "    pars={'μ':μ,'α':α,'A':A,'ω':ω}\n",
    "    trans = tmax/2\n",
    "    solve_plot(quadratic_forced,pars,xini,tmax,dt,trans=trans)\n",
    "    \n",
    "iplot3 = interactive(plot2D_quadratic_forced_interactive,\n",
    "                    μ = (0, 1.0, 0.001),\n",
    "                    α = (-1,1,0.001), \n",
    "                    A = (0,5.0,0.001),\n",
    "                    ω = (0,2.0,0.001), \n",
    "                    tmax=(0,300,0.1))\n",
    "\n",
    "iplot3    "
   ]
  },
  {
   "cell_type": "markdown",
   "id": "03c1a48a",
   "metadata": {},
   "source": [
    "# Caos\n",
    "\n",
    "Para ciertos valores de parametros (probar por ejemplo μ = 0.05, β = 1.0, A = 0.44, ω = 0.21) el oscilador de Duffing forzado presenta orbitas aperiodicas, esto es que no se cierran nunca y van llenando el espacio de fases de forma densa en una region. \n",
    "\n",
    "Es ademas muy dificil (por no decir imposible en la practica) predecir la evolucion de la trayectoria y anticipar en cual de los lobulos (x positivo o x negativo) va a estar la trayectoria luego de un cierto tiempo. El sistema tiene una de las caracteristicas que define a los **sistemas caoticos**. Una perturbacion infinitesimal en las condiciones iniciales conduce a dos trayectorias que se apartan entre si exponencialmente, algo que se conocio durante el boom de la Teoria del Caos en los '80 como \"efecto Mariposa\"\n",
    "\n",
    "Las dos caracteristicas que definen un sistema caotico de forma mas rigurosa son\n",
    "\n",
    "- Mixing topologico: cualquier region del espacio de fases por pequeña que sea se va a superponer con la evolucion temporal de cualquier otra region si se espera el tiempo suficiente\n",
    "- Sensibilidad a las condiciones iniciales (efecto Mariposa), dos condiciones inciales muy proximas se alejan entre si durante un tiempo con una tasa de crecimiento exponencial. \n",
    "- Otra caracteristica que hace mas rigurosa la definicion es la existencia de infinitas orbitas periodicas inestables.\n",
    "\n",
    "Nos va a interesar caracterizar solo la segunda propiedad, usamos la funcion butterfly para pasar una condicion incial xini y una perturbacion eps de $10^{-12}$ y en el grafico de la derecha vemos como se alejan entre si en escala logaritmica. A la pendiente positiva se la conoce como **exponente de Lyapunov**. Se puede probar otro sistema que converja a un atractor y mostrar que se ve una pendiente negativa. Un exponente de Lyapunov positivo se considera indicio de Caos."
   ]
  },
  {
   "cell_type": "code",
   "execution_count": null,
   "id": "74bd43c1",
   "metadata": {
    "ExecuteTime": {
     "end_time": "2021-08-24T22:01:50.664439Z",
     "start_time": "2021-08-24T22:01:46.894471Z"
    }
   },
   "outputs": [],
   "source": [
    "μ = 0.05\n",
    "β = 1.0\n",
    "A = 0.44\n",
    "ω = 0.21\n",
    "xini = [1,-1]\n",
    "ncycles = 200\n",
    "tmax = np.pi*ncycles\n",
    "dt = 0.05\n",
    "pars={'μ':μ,'β':β,'A':A,'ω':ω}\n",
    "butterfly(duffing_forced,pars,xini,tmax,dt,eps=1e-12)"
   ]
  },
  {
   "cell_type": "code",
   "execution_count": null,
   "id": "d37db2a5",
   "metadata": {},
   "outputs": [],
   "source": []
  }
 ],
 "metadata": {
  "@webio": {
   "lastCommId": "b9b6f2dd6b6d48abbc301e76ce015c6e",
   "lastKernelId": "6f199235-1784-4403-a90a-7cc2d446a373"
  },
  "kernelspec": {
   "display_name": "Julia 1.6.5",
   "language": "julia",
   "name": "julia-1.6"
  },
  "language_info": {
   "file_extension": ".jl",
   "mimetype": "application/julia",
   "name": "julia",
   "version": "1.6.5"
  },
  "toc": {
   "base_numbering": 1,
   "nav_menu": {},
   "number_sections": true,
   "sideBar": true,
   "skip_h1_title": false,
   "title_cell": "Table of Contents",
   "title_sidebar": "Contents",
   "toc_cell": false,
   "toc_position": {
    "height": "calc(100% - 180px)",
    "left": "10px",
    "top": "150px",
    "width": "320px"
   },
   "toc_section_display": true,
   "toc_window_display": true
  },
  "varInspector": {
   "cols": {
    "lenName": 16,
    "lenType": 16,
    "lenVar": 40
   },
   "kernels_config": {
    "python": {
     "delete_cmd_postfix": "",
     "delete_cmd_prefix": "del ",
     "library": "var_list.py",
     "varRefreshCmd": "print(var_dic_list())"
    },
    "r": {
     "delete_cmd_postfix": ") ",
     "delete_cmd_prefix": "rm(",
     "library": "var_list.r",
     "varRefreshCmd": "cat(var_dic_list()) "
    }
   },
   "types_to_exclude": [
    "module",
    "function",
    "builtin_function_or_method",
    "instance",
    "_Feature"
   ],
   "window_display": true
  }
 },
 "nbformat": 4,
 "nbformat_minor": 5
}
