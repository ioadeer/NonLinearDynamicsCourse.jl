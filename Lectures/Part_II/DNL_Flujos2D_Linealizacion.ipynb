{
 "cells": [
  {
   "cell_type": "code",
   "execution_count": 2,
   "id": "2254df9f",
   "metadata": {
    "ExecuteTime": {
     "end_time": "2022-02-07T22:42:11.026000-03:00",
     "start_time": "2022-02-08T01:42:07.503Z"
    }
   },
   "outputs": [
    {
     "data": {
      "application/vnd.webio.node+json": {
       "children": [],
       "instanceArgs": {
        "namespace": "html",
        "tag": "div"
       },
       "nodeType": "DOM",
       "props": {},
       "type": "node"
      },
      "text/html": [
       "<div style=\"padding: 1em; background-color: #f8d6da; border: 1px solid #f5c6cb; font-weight: bold;\">\n",
       "<p>The WebIO Jupyter extension was not detected. See the\n",
       "<a href=\"https://juliagizmos.github.io/WebIO.jl/latest/providers/ijulia/\" target=\"_blank\">\n",
       "    WebIO Jupyter integration documentation\n",
       "</a>\n",
       "for more information.\n",
       "</div>\n"
      ],
      "text/plain": [
       "WebIO._IJuliaInit()"
      ]
     },
     "metadata": {
      "application/vnd.webio.node+json": {
       "kernelId": "2e0e6a86-cbf1-49db-8ee8-1d4509de2b7a"
      }
     },
     "output_type": "display_data"
    }
   ],
   "source": [
    "using Interact, Plots, DifferentialEquations, LinearAlgebra, BifurcationKit, Setfield\n",
    "using NonLinearDynamicsCourse"
   ]
  },
  {
   "cell_type": "markdown",
   "id": "8d6c1ba9",
   "metadata": {},
   "source": [
    "# Flujos 2D, Linealizacion, Estabilidad\n",
    "\n",
    "Los puntos fijos de un sistema dinámico no-lineal 2D pueden ser de forma general de tipo silla, nodo/foco atractor/repulsor o centros, al igual que los sistemas lineales. Esto es porque MUY cerca (arbitrariamente cerca para ser mas precisos) del punto fijo el campo vector se puede aproximar como un sistema lineal. \n",
    "\n",
    "Recordemos que para flujos 1D $\\dot{x}=f(x)$ el sistema linealizado era simplemente $\\dot{x}=f'(x_*)(x-x_*)$, es decir que el coeficiente era la derivada del campo vector $f(x)$ evaluada en el punto fijo $x_*$. Habiamos mostrado esto con el desarrollo de Taylor de la función en un entorno del punto fijo.\n",
    "\n",
    "Para flujos 2D el sistema linealizado va a estar dado por una matriz que se obtiene del desarrollo de Taylo de una función vectorial de dos variables. Nos vamos a ahorrar escribir ese desarrollo y vamos a indicar que el equivalente de la derivada ordinaria $f'(x)$ para una funcion vectorial (el campo vector) de dos variables es una matriz compuesta por las derivadas parciales del campo vector $[f(x,y),g(x,y)]$ de la siguiente forma:\n",
    "\n",
    "${\\bf J}(x,y) =\n",
    "\\begin{pmatrix}\n",
    "\\displaystyle\\frac{\\partial f}{\\partial x} & \\displaystyle\\frac{\\partial f}{\\partial y}\\\\\n",
    "\\displaystyle\\frac{\\partial g}{\\partial x} & \\displaystyle\\frac{\\partial g}{\\partial y}\n",
    "\\end{pmatrix}$\n",
    "\n",
    "esta matriz $J$ es tambien conocida como el **Jacobiano** del campo vector $[f,g]$, y en principio es una función de $(x,y)$ como el campo vector. De hecho podriamos decir que es la **derivada del campo vector en dos dimensiones**\n",
    "\n",
    "El sistema linealizado va a estar dado por la matriz Jacobiana evaluada en el punto fijo:\n",
    "\n",
    "$\\dot{\\bf{u}} = \\bf{J}(\\bf{u_*})(\\bf{u}-\\bf{u_*})$\n",
    "\n",
    "Para evaluar la estabilidad del punto fijo tenemos que calcular los autovalores de $bf{J}(\\bf{u_*})$ y utilizar los mismos criterios que para los sistemas lineales.\n",
    "\n",
    "En sintesis, el método de análisis de los flujos no lineales 2D consta de los siguientes pasos:\n",
    "\n",
    "1. Calcular y/o graficar las nuclinas $f(x,y)=0$ $g(x,y)=0$\n",
    "2. Determinar los puntos fijos $(x_*,y_*)$ a partir del cruce de las nulclinas\n",
    "3. Calcular la matriz Jacobiana ${\\bf J}(x,y)$ a partir de las derivadas parciales del campo vector\n",
    "4. Evaluar la matriz Jacobiana en cada uno de los puntos fijos ${\\bf J}(x_*,y_*)$\n",
    "5. Para cada uno de los puntos fijos calcular la traza y el determinante de ${\\bf J}(x_*,y_*)$ para determinar a que clase pertenece (nodo/foco repulsor/atractor o punto silla, o eventualmente centro)\n",
    "6. Para los puntos silla determinar las direcciones de los autovectores y evolucionar condiciones inciales en esa direccion en un entorno del punto fijo hacia adelante en el tiempo para las direcciones inestables y hacia atrás en el tiempo para las estables.\n",
    "\n",
    "El último paso es la generalización del análisis que hacíamos de las autodirecciones estables como \"divisorias de aguas\" para los sistemas lineales y corresponde al calculo de las **variedades estable e inestable** del punto silla que vamos a ilustrar primero con un ejemplo concreto."
   ]
  },
  {
   "cell_type": "markdown",
   "id": "3250e3c7",
   "metadata": {},
   "source": [
    "# Análisis de sistema minimal con nolinealidad cuadrática\n",
    "\n",
    "\n",
    "Vamos a empezar con un sistema con la nolinealidad más simple posible (un solo término cuadrático) dependiente de un parámetro $a>0$:\n",
    "\n",
    "$f(x,y) = a-y$\n",
    "\n",
    "$g(x,y) = x^2-y$\n",
    "\n",
    "Las primera nulclina es el eje horizontal $y=a$ y la segunda es una parábola que pasa por el origen $y=x^2$.\n",
    "Estas nulclinas se cortan en dos puntos $x=\\pm\\sqrt{a}$. \n",
    "\n",
    "Veamos primero las nulclinas y el campo vector:"
   ]
  },
  {
   "cell_type": "code",
   "execution_count": null,
   "id": "a4166087",
   "metadata": {},
   "outputs": [],
   "source": [
    "function cuad!(du,u,p,t)\n",
    "    du[1]=p[1]-u[2]\n",
    "    du[2]=u[1]*u[1]-u[2]\n",
    "    du\n",
    "end\n",
    "u0_arr=[[-1.0;-1.0],[-0.95;-1.0],[0.4;1.0],[0.5;1.0],[0.0;-1.0]]\n",
    "flux2d_nullclines(cuad!,u0_arr,30.0,[0.1];vectorfield=true,size=(600,600))"
   ]
  },
  {
   "cell_type": "markdown",
   "id": "ca8d0ace",
   "metadata": {},
   "source": [
    "Además del campo vector y las nulclinas evolucionamos varias condiciones iniciales. Evolucionar distintas condiciones iniciales nos sirve también para hacer un primer estudio exploratorio y entender cómo está organizado el flujo global. \n",
    "\n",
    "En toda la región inferior $y<0$ excluyendo la parábola el flujo va hacia arriba y la derecha. \n",
    "\n",
    "La parte de flujo que pasa por la derecha de la parábola se mete en la zona naranja que tuerce el flujo hacia la izquierda y lo hace entra en la magenta, que lo tuerce para abajo, es decir que de forma global esta porcion de flujo se enrolla en sentido antihorario. De esa parte de flujo \"enrollado\" hay a su vez una porcion que pasa a la zona cyan que vuelve a torcer el flujo a la izquierda y termina de dar un giro completo en torno al punto fijo de la derecha (ver por ejemplo la trayectoria que arranca en $x=0$,$y=-1$). Esto ya hace presuponer que ese punto fijo es un atractor. \n",
    "\n",
    "En cambio la parte de flujo que pasa por la izquierda de la parabola pasa por la zona naranja de la izquierda, se tuerce a la izquierda y se aleja definitivamente. \n",
    "\n",
    "Finalmente hay un flujo que viene \"de arriba\" por la región magenta que también se divide. La porción izquierda entra en la zona naranja de la izquierda y se une al flujo que se aleja en esa dirección, mientras que otra parte entra en la región cyan y se enrolla en torno al atractor\n",
    "\n",
    "Todo esto último hace presuponer que el punto fijo de la izquierda es un saddle (punto silla). Hay cuatro condiciones iniciales que elegimos justamente de un lado y del otro la separatiz del flujo\n"
   ]
  },
  {
   "cell_type": "markdown",
   "id": "248e7ab2",
   "metadata": {},
   "source": [
    "## Linealización\n",
    "\n",
    "Vamos a pasar ahora a la parte analítica. Calculamos la matriz Jacobiana del sistema. Para ello tenemos que calcular cada una de las derivadas parciales:\n",
    "\n",
    "$\\frac{\\partial f}{\\partial x}=0 \\quad$  ya que $f$ no depende de x\n",
    "\n",
    "$\\frac{\\partial f}{\\partial y}=-1 \\quad$  ya que la derivada de una funcion lineal es la pendiente\n",
    "\n",
    "$\\frac{\\partial g}{\\partial x}=2x \\quad$  la derivada de la funcion cuadratica $x^2$ es $2x$\n",
    "\n",
    "$\\frac{\\partial g}{\\partial y}=-1 \\quad$  ya que la derivada de una funcion lineal es la pendiente\n",
    "\n",
    "La matriz Jacobiana es entonces.\n",
    "\n",
    "$\\begin{pmatrix}\n",
    "0 & -1\\\\\n",
    "2x & -1\n",
    "\\end{pmatrix}$\n",
    "\n",
    "esa matriz evaluada en los puntos fijos me dice como se comporta el flujo en un entorno local de los mismos. Esto es el sistema **linealizado** en un entorno de los mismos. \n",
    "\n",
    "Por ejemplo, en este caso para los puntos fijos la matriz va a ser:\n",
    "\n",
    "$\\begin{pmatrix}\n",
    "0 & -1\\\\\n",
    "-2\\sqrt{a} & -1\n",
    "\\end{pmatrix}$\n",
    "\n",
    "para el punto fijo de la izquierda (x<0) y tiene determinante negativo asi que es un punto silla para todos los valores de $a>0$.\n",
    "\n",
    "Y para el punto fijo de la derecha la matriz sera:\n",
    "\n",
    "$\\begin{pmatrix}\n",
    "0 & -1\\\\\n",
    "2\\sqrt{a} & -1\n",
    "\\end{pmatrix}$\n",
    "\n",
    "que tiene determinante positivo y traza negativa asi que es un atractor (dependiendo del valor de $a$ puede ser un foco o un nodo. Algo que es consistente con lo se veia en el retrato de vases y el campo vector.\n"
   ]
  },
  {
   "cell_type": "markdown",
   "id": "80b71251",
   "metadata": {},
   "source": [
    "# Variedades Estable e Inestable\n",
    "\n",
    "Otra representacion que es muy util para inferir el flujo en todo el espacio de fases es la de las **variedades estable e inestable** de los puntos fijos (cuando son puntos sillas sobre todo). Las variedades en los flujos 2D son curvas tangentes a las direcciones determinadas por los autovectores del jacobiano (en el caso en el que sean reales). \n",
    "Y quedan definidas por ser invariantes frente al flujo.\n",
    "\n",
    "En el caso de los sistemas lineales habiamos visto que para autovalores reales existian rectas dadas por la dirección de los autovalores que eran invariantes frente al flujo, es decir que cualquier punto sobre estas rectas evolucionaba en el tiempo sobre la misma recta sin apartarse de ella. Las variedades son la generalización de esto. Son curvas en el espacio de fase que convergen/divergen al punto fijo y son invariantes frente al flujo. Cerca del punto fijo van a ser tangentes a la dirección dada por uno de los autovectores del Jacobiano. Por lo tanto la forma numérica de calcular las variedades es colocar una condición inicial muy próxima al punto fijo en la dirección del autovector y evolucionar haca adelante en el tiempo si es una direccion inestable y hacia atrás en el tiempo si es estable.\n",
    "\n",
    "\n",
    "En particular las variedades estables de los puntos silla son relevantes porque actuan como separatrices del flujo. Para ilustralo mejor vamos a verlo en el caso del flujo nodo-silla anterior. Solo vamos a calcular las variedades del punto fijo de la izquierda que es un punto silla. Vamos a usar otra funcion de la libreria del curso  `plot_manifolds`, que necesita que le pasemos de forma explicita el jacobiano como una funcion in-place:"
   ]
  },
  {
   "cell_type": "code",
   "execution_count": null,
   "id": "5ec6a483",
   "metadata": {
    "ExecuteTime": {
     "end_time": "2022-02-07T11:22:57.319000-03:00",
     "start_time": "2022-02-07T14:22:57.316Z"
    }
   },
   "outputs": [],
   "source": [
    "function cuad_jac(u,p) \n",
    "  J = Array{Float64, 2}(undef, 2, 2)\n",
    "  J[1,1] = 0\n",
    "  J[1,2] = -1.0\n",
    "  J[2,1] = 2*u[1]\n",
    "  J[2,2] = -1.0\n",
    "  return J\n",
    "end"
   ]
  },
  {
   "cell_type": "markdown",
   "id": "ec2faa1d",
   "metadata": {},
   "source": [
    "La función `flux2D_manifolds` recibe como argumentos obligatorios:\n",
    "- la funcion que calcula el campo vector \n",
    "- la funcion que calcula el jacobiano\n",
    "- un array con los puntos fijos\n",
    "- el vector de parametros\n",
    "\n",
    "Como parámetros opcionales recibe:\n",
    "- el tiempo de integracion tmax\n",
    "- el apartamiento del punto fijo en la direccion del autovector delta\n",
    "- xlims, ylims los limites del grafico"
   ]
  },
  {
   "cell_type": "code",
   "execution_count": null,
   "id": "c4285e64",
   "metadata": {
    "ExecuteTime": {
     "end_time": "2022-02-07T12:48:12.633000-03:00",
     "start_time": "2022-02-07T15:48:10.531Z"
    }
   },
   "outputs": [],
   "source": [
    "@manipulate throttle=0.1 for a=0:0.001:0.5\n",
    "    fp_array=[[-sqrt(a);a],[sqrt(a);a]]\n",
    "    flux2d_manifolds(cuad!,cuad_jac,fp_array,[a];\n",
    "        tmax=300,delta=1e-7,xlims=[-2,2],ylims=[-2,2])\n",
    "end    "
   ]
  },
  {
   "cell_type": "markdown",
   "id": "a0625930",
   "metadata": {},
   "source": [
    "Las dos ramas de la variedad estable del punto silla (en azul) funcionan como separatrices del flujo en dos regiones: a la izquierda y arriba del punto fijo donde todas las condiciones iniciales divergen a infinito, y hacia la derecha y abajo donde todas las condiciones iniciales convergen al atractor. Esta ultima región se conoce como la **cuenca de atracción** del atractor. Notar como a medida que disminuye $a$ la rama superior de la variedad estable se va curvando y rodeando al atractor y reduciendo su cuenca de atracción hasta que desaparece cuando $a=0$ y colapsan los dos puntos fijos (y tenemos una bifurcacion de nodo-silla)"
   ]
  },
  {
   "cell_type": "markdown",
   "id": "9bf2055d",
   "metadata": {},
   "source": [
    "Vamos a realizar ahora un análisis de algunos flujos 2D clásicos y relativamente sencillos."
   ]
  },
  {
   "cell_type": "markdown",
   "id": "f0ea15de",
   "metadata": {},
   "source": [
    "# Modelo de Predador-Presa Lotka Volterra\n",
    "\n",
    "Los modelos de dinamica de poblaciones en 1D se pueden escribir de forma general como \n",
    "\n",
    "$\\dot{x} = R(x) x$\n",
    "\n",
    "donde $R(x)$ es la tasa de reproduccion y extincion de la especie. Por ejemplo $R(x)=R(1-x/K)$ para la ecuacion logistica o $R=R(1-x/K)-\\frac{x}{1+x^2}$ para la logistica con outbreak. Si ahora tenemos dos especies y una preda a la otra podemos esperar de forma general que la tasa de reproduccion y extincion dependa de ambas poblaciones, es decir:\n",
    "\n",
    "$\\dot{x} = R(x,y) x$\n",
    "\n",
    "$\\dot{y} = S(x,y) y$\n",
    "\n",
    "De forma independiente Vito Volterra (1926) y Alfred Lotka (en realidad estudiando un modelo para las reacciones autocataliticas), propusieron la siguiente forma sencilla para la tasa de crecimiento de la presa $R(x-y)=b-cy$ donde $b$ es la tasa de crecimiento de la especie y $c$ es el impacto de la predación. Notar que el crecimiento no depende de los predadores pero su extincion si. Mientras que para la poblacion de predadores sucede a la inversa, su crecimiento depende de la existencia de presa (podemos pensar que aumenta la capacidad del sistema) mientras que su extincion no (es fija por muerte natural). En ese caso $S(x,y)=ax-d$.\n",
    "\n",
    "Las ecuaciones de Lotka Volterra son entonces\n",
    "\n",
    "$\\dot{x} = (b-cy)x$\n",
    "\n",
    "$\\dot{y} = (ax-d)y$\n",
    "\n",
    "Notar que hay terminos lineales: $bx$ crecimiento de la poblacion de presa, $-dy$ extincion de la poblacion de predadores que no dependen de la interaccion. Y por otro lado hay dos terminos que dependen de la interaccion, es decir del producto entre las dos poblaciones: $-cxy$ el impacto de la predacion en la poblacion de presa, y $axy$ el impacto de la poblacion de presa (recursos disponibles) en la capacidad de la poblacion de predadores."
   ]
  },
  {
   "cell_type": "code",
   "execution_count": null,
   "id": "ecb5a36a",
   "metadata": {
    "ExecuteTime": {
     "end_time": "2022-01-27T18:01:09.480000-03:00",
     "start_time": "2022-01-27T21:01:09.404Z"
    }
   },
   "outputs": [],
   "source": [
    "function volterra!(du,u,p,t)\n",
    "    (a,b,c,d) = p\n",
    "    du[1] = (b-c*u[2])*u[1]\n",
    "    du[2] = (a*u[1]-d)*u[2]\n",
    "    du\n",
    "end    "
   ]
  },
  {
   "cell_type": "markdown",
   "id": "8c871beb",
   "metadata": {},
   "source": [
    "Vamos a comenzar calculando las nulclinas analítica y numéricamente. Notar que cada una de las componentes del campo vector tiene la forma de un producto que se va a hacer cero cuando alguno de los dos sea cero. La primer nulclina queda definida entonces para todos los puntos del plano que cumplan: $x=0$ o bien $y=b/c$ que forman dos rectas perpendiculares orientadas como los ejes de coordenadas que se cortan en el punto $(0,b/c)$. Ese punto no es un punto fijo porque solo satisface la primera ecuacion. Esta \"curva\" nullclina es una cruz. Lo mismo sucede con la segunda nulclina que esta formada por dos rectas en cruz que se cortan en el punto $(d/a,0)$. Si colocamos ambas cruces en el plano se van a cortar en dos puntos que esos si corresponden a los puntos fijos: $\\bf{u^*_1}=(0,0)$ y $\\bf{u^*_2}=(d/a,b/c)$. Veamos que nos da el calculo numérico para un caso particular de los parámetros."
   ]
  },
  {
   "cell_type": "code",
   "execution_count": null,
   "id": "9f9a7576",
   "metadata": {},
   "outputs": [],
   "source": [
    "flux2d_nullclines(volterra!,[0.5,0.5,0.5,0.5];xlims=[-0.1,1.5],ylims=[-0.1,1.5],vectorfield=true,size=(600,600))"
   ]
  },
  {
   "cell_type": "markdown",
   "id": "90906247",
   "metadata": {},
   "source": [
    "Recordar que los parámetros tienen que ser positivos pero ademas hay dos parametros ($a$ y $c$) que no pueden ser cero porque harian \"explotar\" el sistema (el punto fijo $\\bf{u^*_2}$ se mueve a infinito y me queda un sistema lineal). \n",
    "\n",
    "Por otra parte sólo tiene sentido en el modelo la región $x>0$ $y>0$. Graficamos una porcion de negativos para poder ver las nulclinas. Los \"autocruces\" de las nulclinas se ven raros en el metodo numérico porque utiliza una funcion de curvas de nivel para detectar los ceros. Pero lo importante es que tenemos nuestros puntos fijos en los cortes \"rojo-verde\" que ya habíamos anticipado. \n",
    "\n",
    "El ordenamiento de los colores de las regiones de la region superior izquierda es el mismo del oscilador armónico lo cual ya nos debería hacer sospechar que el flujo va a rotar en torno a ese punto fijo (se ve en el campo vector también). Mientras que el ordenamiento de los colores de las regiones en la esquina en torno al $(0,0)$ es el de un punto silla. Esos dos elementos podrían servime para imaginar como está organizado el flujo pero vamos a continuar con el análisis de estabilidad."
   ]
  },
  {
   "cell_type": "markdown",
   "id": "a0f6c112",
   "metadata": {},
   "source": [
    "Vamos a calcular primero el Jacobiano de forma general derivando el campo vector. \n",
    "\n",
    "$\\frac{\\partial f}{\\partial x}=b-cy \\quad$  ya que es el factor que multiplica a $x$ en la primera ecuación.\n",
    "\n",
    "$\\frac{\\partial f}{\\partial y}=-cx \\quad$  ya que es la derivada del unico término que depende de $y$\n",
    "\n",
    "$\\frac{\\partial g}{\\partial x}=ay \\quad$  ya que es la derivada del unico término que depende de $x$\n",
    "\n",
    "$\\frac{\\partial g}{\\partial y}=ax-d \\quad$  ya que es el factor que multiplica a $y$ en la segunda ecuación\n",
    "\n",
    "La matriz Jacobiana es entonces:\n",
    "\n",
    "$\\begin{pmatrix}\n",
    "b-cy & -cx\\\\\n",
    "ay & ax-d\n",
    "\\end{pmatrix}$\n",
    "\n",
    "Evaluada en el primer punto fijo $\\bf{u^*_1}=(0,0)$ es:\n",
    "\n",
    "$\\begin{pmatrix}\n",
    "b & 0\\\\\n",
    "0 & -d\n",
    "\\end{pmatrix}$\n",
    "\n",
    "que es una matriz diagonal con un autovalor positivo asociado a un autovector en la direccion $x$ (ver el campo vector arriba) y un autovalor negativo asociado a un autovector en la dirección $y$ es decir que en la región que nos interesa el flujo se mueve bajando por el eje $y$ hacia el punto fijo en el origen y luego alejándose por el eje $x$ para los positivos.\n",
    "\n",
    "Veamos que interpretación tiene este punto fijo y su entorno en el modelo de predador presa (más allá que $(0,0)$ sea un punto fijo tiene sentido lógico en términos del modelo). El primer movimiento descendente paralelo al eje $y$ corresponde a una situación con muy poca población de presa que lleva a que el término dominante sea la extinción de los predadores $-dy$. Pero cuando los predadores son también muy pocos la población de presa se empieza a recuperar. El movimiento creciente paralelo al eje $x$ corresponde a una población de presa que crece exponencialmente aprovechando que hay muy pocos predadores y el término que domina es $ax$. Es decir que la asimetría de los ejes $x$ e $y$ en el punto silla se refleja en el modelo en la diferencia en la forma en que ambas poblaciónes reaccionan a la escasez de la otra población: los predadores la padecen y las presas la aprovechan.\n",
    "\n",
    "Pasamos ahora a la evaluación en el segundo punto fijo $\\bf{u^*_2}=(d/a,b/c)$. El Jacobiano queda:\n",
    "\n",
    "$\\begin{pmatrix}\n",
    "0 & -cd/a\\\\\n",
    "ab/c & 0\n",
    "\\end{pmatrix}$\n",
    "\n",
    "El determinante ($\\Delta=bd$) es siempre positivo porque los parámetros son positivos. Y la traza es cero. Tenemos el caso particular de un centro.\n",
    "\n",
    "Acá podría venir una sorpresa porque habíamos dicho que la linealización nos sirve para determinar la estabilidad de todos los puntos fijos en sistemas no lineales estructuralmente estables y este caso no lo es. Que la linealización me de un centro no implica que en el sistema no lineal el flujo en un entorno del punto fijo sea topológicamente equivalente. Dicho de otro modo, este punto fijo podría ser un atractor o un repulsor dependiendo de los términos no lineales. En este caso particular el flujo si forma trayectorias cerradas en torno a este punto fijo (algo que se puede probar pero que excede este curso).\n",
    "\n",
    "Cual es la interpretación de este punto fijo y de la oscilación en torno a él en términos del modelo?\n",
    "Este es un punto de equilibrio en el que ambas poblaciones alcanzaron su capacidad. Pero si por ejemplo la población de presa es al inicio un poco mayor que este punto de equilibrio la capacidad de la población de predadores aumenta y así lo hace su población (zona naranja del gráfico de nulclinas) al mismo tiempo que la población de presa comienza disminuir y baja la capacidad de la población de predadores y su población (zona magenta). Cuando la población de predadores merma la población de presa comienza a recuperarse (zonas cyan y azul) y el ciclo se repite. \n",
    "\n",
    "A su ves este sentido de giro es compatible, a medida que las órbitas se aproximan a los ejes con el sentido de flujo del punto silla del origen. Todas las soluciones son orbitas cerradas entorno a  $\\bf{u^*_2}$ que se van deformando a medida que se acercan a los ejes $x$ e $y$. De esta forma el modelo de Lotka Volterra lleva a la oscilacion de las poblaciones, algo que se observa en muchos sistemas simples.\n"
   ]
  },
  {
   "cell_type": "code",
   "execution_count": null,
   "id": "e367ced8",
   "metadata": {
    "ExecuteTime": {
     "end_time": "2022-01-27T18:01:14.809000-03:00",
     "start_time": "2022-01-27T21:01:11.482Z"
    }
   },
   "outputs": [],
   "source": [
    "@manipulate throttle=.05 for u1=0:0.1:1,u2=0.1:0.1:1,a=0.1:0.1:1,b=0:0.1:1,c=0.1:0.1:1,d=0:0.1:1\n",
    "    sol = solve(ODEProblem(volterra!, [u1; u2], (0, 100), [a,b,c,d]));\n",
    "    p1 = plot(sol)\n",
    "    p2 = plot(sol,vars=(1,2),arrow=true)\n",
    "    plot(p1,p2,layout=(1,2),size = (900,450))\n",
    "end"
   ]
  },
  {
   "cell_type": "code",
   "execution_count": null,
   "id": "335d5253",
   "metadata": {
    "ExecuteTime": {
     "end_time": "2022-01-27T18:03:07.365000-03:00",
     "start_time": "2022-01-27T21:03:07.079Z"
    }
   },
   "outputs": [],
   "source": [
    "# Multiples trayectorias\n",
    "u0_arr=0.05:0.05:1.0\n",
    "a=0.5;b=0.5;c=0.5;d=0.5\n",
    "function prob_func(prob,i,repeat)\n",
    "  remake(prob,u0=[u0_arr[i];b/c])\n",
    "end\n",
    "prob = ODEProblem(volterra!,[0.1; b/c], (0, 30), [a,b,c,d]);\n",
    "sol = solve(EnsembleProblem(prob,prob_func=prob_func),\n",
    "    EnsembleThreads(),trajectories=length(u0_arr))\n",
    "plot(sol,vars=(1,2),color=:black,linewidth=0.2,size = (600,500))"
   ]
  },
  {
   "cell_type": "markdown",
   "id": "c5e8813b",
   "metadata": {},
   "source": [
    "# Modelo simple de epidemia. SIR\n",
    "\n",
    "EL modelo mas simple de propagacion de epidemia (propuesto en 1927 por Kermack & McKendrik) considera una poblacion  constante dividida en tres \"compartimentos\": los Suceptibles $S$ (individuos que pueden contagiarse), los Infectados $I$, y los Recuperados $R$ que no se vuelven a contagiar. Como la suma de los tres es constante en realidad se trata de un modelo 2D, pero lo usual es escribir las ecuaciones diferenciales para las tres poblaciones:\n",
    "\n",
    "$\\dot{S} = -\\beta SI$\n",
    "\n",
    "$\\dot{I} = \\beta SI - \\gamma I$\n",
    "\n",
    "$\\dot{R} = \\gamma I$\n",
    "\n",
    "donde usamos la poblacion normalizada ($S+I+R=1$). Como $R$ no aparece en las dos primeras ecuaciones podemos resolver esas dos primeras y luego calcular $R=1-S-I$\n",
    "\n",
    "$\\dot{x} = -\\beta xy$\n",
    "\n",
    "$\\dot{y} = \\beta xy - \\gamma y$\n",
    "\n",
    "\n"
   ]
  },
  {
   "cell_type": "code",
   "execution_count": null,
   "id": "812df32c",
   "metadata": {
    "ExecuteTime": {
     "end_time": "2022-01-27T14:52:23.748000-03:00",
     "start_time": "2022-01-27T17:52:23.670Z"
    }
   },
   "outputs": [],
   "source": [
    "function sir!(du,u,p,t)\n",
    "    (β,γ) = p\n",
    "    du[1] = -β*u[1]*u[2]\n",
    "    du[2] = β*u[1]*u[2]-γ*u[2]\n",
    "    du\n",
    "end    "
   ]
  },
  {
   "cell_type": "markdown",
   "id": "fe0e3813",
   "metadata": {},
   "source": [
    "Al igual que en el caso anterior las nulclinas para $S$ e $I$ son \"cruces\" formadas por rectas paralelas a los ejes.\n",
    "La primer nulclina de hecho son los propios ejes coordenados porque se anula cuando $x=0$ o $y=0$. Pero lo particular de este sistema es que la segunda nulclina también incluye al eje horzontal $y=0$ además de en el eje verical $x=\\gamma/\\beta$. Como consecuencia estas dos \"curvas\" se intersectan todo a lo largo del eje $y=0$ que comparten. Esto tiene sentido en términos del modelo porque $y=Infectados$ y si la cantidad de infectados es cero no hay evolución de ninguna de las variables. \n",
    "\n",
    "Este es un sistema bastante particular porque tiene \"infinitos\" puntos fijos sobre la recta $y=0$. Esto quiere decir que el estado final depende de los parametros y el valor inicial pero puede ser cualquier punto sobre esa recta (va a depender de la historia del sistema).\n",
    "\n",
    "El estudio de la interpretación de las trayectorias y los parámetros queda como ejercicio."
   ]
  },
  {
   "cell_type": "code",
   "execution_count": null,
   "id": "1cdf6d93",
   "metadata": {},
   "outputs": [],
   "source": [
    "flux2d_nullclines(sir!,[0.9;0.1],30.0,[1.0,0.2];xlims=[-0.1,1.1],ylims=[-0.1,1.1],vectorfield=true,size=(600,600))"
   ]
  },
  {
   "cell_type": "code",
   "execution_count": null,
   "id": "91f9b4b8",
   "metadata": {
    "ExecuteTime": {
     "end_time": "2022-01-27T14:52:28.778000-03:00",
     "start_time": "2022-01-27T17:52:24.702Z"
    }
   },
   "outputs": [],
   "source": [
    "@manipulate throttle=0.5 for i=0:0.01:1, β=0:0.01:1,γ=0:0.01:1,tmax=10:10:500\n",
    "    sol = solve(ODEProblem(sir!, [1.0-i; i], (0, tmax), [β,γ]));\n",
    "    p1 = plot(sol,vars=(0,1),label=\"Suceptibles\")\n",
    "    plot!(p1,sol,vars=(0,2),label=\"Infectados\")\n",
    "    plot!(p1,sol,vars=((t,x,y)->(t,1-x-y),0,1,2),label=\"Recuperados\")\n",
    "    p2 = plot(sol,vars=(1,2),arrow=true)\n",
    "    plot(p1,p2,layout=(1,2),size = (900,450))\n",
    "end   "
   ]
  },
  {
   "cell_type": "markdown",
   "id": "d5848368",
   "metadata": {},
   "source": [
    "# Oscilador de Duffing\n",
    "\n",
    "Vamos a pasar a ver un sistema con un repertorio un poco más variado de comportamientos y que más adelante (al agregar un término forzado) va a ser nuestra guía para entrar a los sistemas caóticos asi que lo vamos a estudiar con bastante detalle.\n",
    "\n",
    "Este sistema se obtiene al agregar términos cuadráticos o cúbicos a la fuerza restitutiva de un oscilador, por ejemplo en su versión más conocida  $\\beta x - x^3$ en lugar de $-Kx$. En 1918 George Duffing publico un trabajo estudiando sistemáticamente la influencia de los diferentes términos no lineales en el oscilador, por lo que a este sistema se lo conoce como oscilador de Duffing.\n",
    "\n",
    "Asi como el Oscilador armónico (sistema lineal) se puede ver como el movimiento unidimensional de una particula en un pozo. El oscilador de Duffing corresponde al movimiento en un doble pozo (que de todas formas mediante un cambio de parametro se puede volver de pozo simple pero sin dejar de ser no lineal). \n",
    "\n",
    "<div>\n",
    "<img src=\"../files/single_double_well.png\" width=\"500px\">\n",
    "</div>\n",
    " \n",
    "Un sistema fisico (si bien algo artificial) que tiene este comportamiento se puede armar con una lengueta metalica flexible puesta entre dos imanes:\n",
    "<div>\n",
    "<img src=\"../files/duffing.png\" width=\"300px\">\n",
    "</div>\n",
    "\n",
    "Si la potencia de los imanes no supera la rigidez de la lengueta tenemos la situacion de un unico pozo (si bien no es una oscilacion libre por la presencia de los imanes) y hay un solo atractor (el centro). Si la rigidez baja (o los imanes se acercan, o se ponen imanes mas potentes) hay dos situaciones de equilibrio estable (apuntando a uno u otro iman) separados por un punto inestable (que como vamos a ver mas adelante es un punto silla).\n",
    "\n",
    "Las ecuaciones del oscilador de Duffing son las siguientes:\n",
    "\n",
    "$\\dot{x} = y$\n",
    "\n",
    "$\\dot{y} = -\\gamma y + \\beta x -  x^3$\n",
    "\n",
    "En el caso de la lengueta con los imanes $x$ es la posicion horizontal de la punta, $y$ la velocidad (de ahi la primera ecuacion diferencial), $\\gamma$ es la disipacion del aire y la friccion (igual que en el caso del resorte es una fuerza que se opone a la velocidad) y en $\\beta$ esta resumida la relacion entre la fuerza de los imanes y la rigidez de la lengueta. Si $\\beta$ es positivo ganan los imanes y si es negativo gana la rigidez. Notar que el termino cubico es el que termina ganando siempre, muy lejos del equilibro la fuerza es siempre atractiva, por lo tanto el sistema no va a explotar.\n",
    "\n",
    "Este sistemita simple al ser forzado periodicamente presenta CAOS!"
   ]
  },
  {
   "cell_type": "markdown",
   "id": "746f28b9",
   "metadata": {},
   "source": [
    "## Puntos fijos Oscilador de Duffing\n",
    "Vamos a calcular los puntos fijos primero por el metodo de las nulclinas.\n",
    "\n",
    "La primera nuclina es trivial, me da una recta horizontal $y=0$ con lo cual todos los puntos fijos van a estar sobre el eje $x$\n",
    "\n",
    "La segunda nulclina se resuelve en una ecuacion cubica para $y$ en funcion de $x$:\n",
    "\n",
    "$y = (\\beta x - x^3)/ \\gamma$\n",
    "\n",
    "y recordemos que una cubica podia tener forma de \"N\" si el termino lineal y cubico tenian signo diferente ($\\beta > 0$) o una doble curva suave si tenian el mismo signo ($\\beta < 0$). $\\gamma$ actua solo como factor de escala haciendo mas alta o mas baja la \"N\". \n",
    "\n",
    "<div>\n",
    "<img src=\"../files/cubic.png\" width=\"500px\">\n",
    "</div>\n",
    "\n",
    "En este caso si bien usamos el metodo de las nulclinas como de la primera ecuacion sabemos que $y=0$ los puntos fijos van a ser las raices de esta cubica, es decir donde corte el eje horizontal. Por lo tanto basta con resolver \n",
    "\n",
    "$\\beta x = x^3$\n",
    "\n",
    "que tiene una solucion trivial $x^*_1=0$ y despues, solo para el caso de $\\beta>0$ dos soluciones simetricas (que se obtienen dividiendo ambos miembros de la ecuacion anterior por $x$ ya que es diferente de 0) en \n",
    "\n",
    "$x^*_{2,3} = \\pm \\sqrt{\\beta}$"
   ]
  },
  {
   "cell_type": "code",
   "execution_count": null,
   "id": "3105cc70",
   "metadata": {
    "ExecuteTime": {
     "end_time": "2022-02-07T11:39:16.153000-03:00",
     "start_time": "2022-02-07T14:39:11.169Z"
    }
   },
   "outputs": [],
   "source": [
    "#definimos la Ed para el oscilador de Duffing\n",
    "function duffing!(du,u,p,t)\n",
    "    du[1] = u[2]\n",
    "    du[2] = -p[1]*u[2]+u[1]*(p[2]-u[1]*u[1])\n",
    "    du\n",
    "end    \n",
    "\n",
    "flux2d_nullclines(duffing!,[0.12;0.2],50.0,[0.1,0.5];ylims=[-1.5,1.5])"
   ]
  },
  {
   "cell_type": "markdown",
   "id": "457082ee",
   "metadata": {},
   "source": [
    "Notar que en este caso tenemos tres puntos fijos, por el ordenamiento de las regiones podemos saber que es un atractor, un punto silla y un foco. "
   ]
  },
  {
   "cell_type": "code",
   "execution_count": null,
   "id": "77af141f",
   "metadata": {
    "ExecuteTime": {
     "end_time": "2022-01-27T14:44:58.135000-03:00",
     "start_time": "2022-01-27T17:44:46.540Z"
    },
    "scrolled": false
   },
   "outputs": [],
   "source": [
    "@manipulate throttle=0.5 for x0=-1:0.1:1, y0=-1:0.1:1,β=-1.0:0.1:1.0,γ=0:0.01:1.0\n",
    "    flux2d_nullclines(duffing!,[x0;y0],50.0,[γ,β];ylims=[-1.5,1.5])\n",
    "end    "
   ]
  },
  {
   "cell_type": "code",
   "execution_count": null,
   "id": "76d933b2",
   "metadata": {
    "ExecuteTime": {
     "end_time": "2022-01-25T00:46:38.745000-03:00",
     "start_time": "2022-01-25T03:46:37.921Z"
    }
   },
   "outputs": [],
   "source": [
    "u0_arr = vec([[-1+i*0.5,-1+j*0.5] for i=0:5, j=0:5])\n",
    "flux2d_nullclines(duffing!,u0_arr,5.0,[0.5,0.5])"
   ]
  },
  {
   "cell_type": "markdown",
   "id": "23162e11",
   "metadata": {},
   "source": [
    "# Estabilidad: Oscilador de Duffing\n",
    "\n",
    "Vamos a estudiar ahora la estabilidad del Oscilador de Duffing:\n",
    "\n",
    "$\\dot{x} = y$\n",
    "\n",
    "$\\dot{y} = -\\gamma y + \\beta x -  x^3$\n",
    "\n",
    "Que, como vimos, tiene un punto fijo siempre en $x^*_1=0$ y luego para $\\beta>0$ un par de puntos fijos en $x^*_{2,3} = \\pm \\sqrt{\\beta}$\n",
    "\n",
    "El primer paso es calcular la matriz Jacobiana, lo hacemos paso por paso:\n",
    "\n",
    "${\\bf A} =\n",
    "\\begin{pmatrix}\n",
    "\\frac{\\partial f}{\\partial x} & \\frac{\\partial f}{\\partial y}\\\\\n",
    "\\frac{\\partial g}{\\partial x} & \\frac{\\partial g}{\\partial y}\n",
    "\\end{pmatrix}$\n",
    "\n",
    "Calculamos cada una de las derivadas\n",
    "\n",
    "$\\frac{\\partial f}{\\partial x}=0 \\quad$  ya que $f$ no depende de x\n",
    "\n",
    "$\\frac{\\partial f}{\\partial y}=1 \\quad$  ya que la derivada de una funcion lineal es la pendiente\n",
    "\n",
    "$\\frac{\\partial g}{\\partial x}=\\beta-3x^2 \\quad$  la derivada de la funcion cubica es $\\beta-3x^2$, lo podemos verificar usando la funcion diff del modulo sympy\n",
    "\n",
    "$\\frac{\\partial g}{\\partial y}=-\\gamma \\quad$  ya que la derivada de una funcion lineal es la pendiente\n",
    "\n",
    "La matriz Jacobiana es entonces.\n",
    "\n",
    "$\\begin{pmatrix}\n",
    "0 & 1\\\\\n",
    "\\beta-3x^2 & -\\gamma\n",
    "\\end{pmatrix}$\n",
    "\n",
    "$\\gamma$ es siempre positivo (dispacion), por lo tanto la traza es siempre negativa (sera atractor o punto silla dependiendo del determinante). \n",
    "\n",
    "Ahora hay que evaluarla en los puntos fijos.\n",
    "La evaluamos primero en el punto fijo \n",
    "\n",
    "$x=0$.\n",
    "\n",
    "$\\begin{pmatrix}\n",
    "0 & 1\\\\\n",
    "\\beta & -\\gamma\n",
    "\\end{pmatrix}$\n",
    "\n",
    "el determinante es $-\\beta$. Es simple, cuando tenemos un punto fijo $\\beta<0$, el determinante es positivo el punto fijo es atractor (la traza es siempre negativa). Es tiene sentido porque es la situacion en la que la lengueta no llega a ser atraida por los imanes y se queda en equilibrio en el centro.\n",
    "En cambio, cuando tenemos tres puntos fijos ($\\beta>0$) este pasa a ser el del medio y el determinante es negativo por lo tanto es un punto silla. \n",
    "\n",
    "Veamos ahora el caso de los otros dos puntos fijos, notando que como en el Jacobiano aparece solo $x^2$, los dos puntos fijos tienen el mismo Jacobiano:\n",
    "\n",
    "$x=\\pm \\sqrt{\\beta}$.\n",
    "\n",
    "$\\begin{pmatrix}\n",
    "0 & 1\\\\\n",
    "-2\\beta & -\\gamma\n",
    "\\end{pmatrix}$\n",
    "\n",
    "el determinante es $2\\beta$, o sea tiene el signo inverso que el del determinate del Jacobiano del punto fijo del medio, lo cual una vez mas tiene sentido porque cuando hay tres puntos fijos vimos que ese punto se transforma en un punto silla y los puntos en $x=\\pm \\sqrt{\\beta}$ solo existen para $\\beta>0$, o sea tienen siempre determinate positivo (y traza negativa siempre) por lo tanto son atractores. Es decir que para el caso de tres puntos fijos tenemos un punto silla en el medio separando dos atractores.\n",
    "\n",
    "El punto silla es en cierta forma un punto fijo inestable, en la direccion del movimiento, porque si trato de poner la lengueta en el medio cuando los imanes atraen mucho no se queda en ese sitio y se va para uno de los dos atractores (que obviamente son los imanes). Pero no es un repulsor, ya que todo el sistema es atractor globalmente, si una trayectoria pasa por el centro inestable va a perder velocidad por la friccion y el sistema va a ir decayendo. En el caso de mucho friccion ($\\gamma$ muy alto) el sistema va pareciendose cada vez mas a un sistema 1D (verlo en el grafico interactivo)"
   ]
  },
  {
   "cell_type": "code",
   "execution_count": null,
   "id": "03aaa375",
   "metadata": {
    "ExecuteTime": {
     "end_time": "2022-02-07T11:38:46.331000-03:00",
     "start_time": "2022-02-07T14:38:46.252Z"
    }
   },
   "outputs": [],
   "source": [
    "function duffing_jac(u,p)\n",
    "  J = Array{Float64, 2}(undef, 2, 2)\n",
    "  J[1,1] = 0\n",
    "  J[1,2] = 1.0\n",
    "  J[2,1] = p[2]-2.0*u[1]*u[1]\n",
    "  J[2,2] = -p[1]\n",
    "  return J\n",
    "end"
   ]
  },
  {
   "cell_type": "code",
   "execution_count": null,
   "id": "b91de895",
   "metadata": {
    "ExecuteTime": {
     "end_time": "2022-02-07T12:47:52.111000-03:00",
     "start_time": "2022-02-07T15:47:49.612Z"
    }
   },
   "outputs": [],
   "source": [
    "@manipulate throttle=0.1 for β=0:0.001:0.5,γ=0:0.001:0.5,tmax=10:10:300\n",
    "    u0_array= [[-sqrt(β);0],[0;0],[sqrt(β);0]]\n",
    "    flux2d_manifolds(duffing!,duffing_jac,u0_array,[γ,β];\n",
    "        tmax=tmax,delta=1e-6,xlims=[-2,2],ylims=[-2,2])\n",
    "end    "
   ]
  },
  {
   "cell_type": "markdown",
   "id": "21841736",
   "metadata": {},
   "source": [
    "Notar como se modifica el enrollamiento de las variedades con el parámetro $\\gamma$. Las inestables se espiralan en torno a cada uno de los atractores y las estables se espiralan hacia afuera rodeando los tres puntos fijos. Para valores más altos de $\\gamma$ puede verse que las ramas azules de la variedad estable del saddle funcionan como separatrices del flujo que va a terminar en uno u otro  punto fijo. Todas las condiciones iniciales que terminar en un atractor forman la **cuenca de atracción** del mismo. Las variedades estables están formando entonces la frontera entre ambas cuencas de atracción (attractor basin).\n",
    "\n",
    "Tenemos una función en el paquete del curso que permite graficar las cuencas de atracción de una lista de puntos fijos atractores: `attractor_basin` recibe como argumentos obligatorios\n",
    "- la función del campo vector\n",
    "- el vector de parámetros\n",
    "- un array con lo puntos fijos atractores\n",
    "- la distancia maxima al atractor (aumentar si no detecta la convergencia, de otra forma se puede subir el tmax, pero en realidad esta distancia tiene que ser la necesaria para discriminar entre diferentes atractores así que no es necesario que sea muy pequeña).\n",
    "\n",
    "y los argumentos optativos son:\n",
    "- delta (default 0.1) la resolucion espacial del grafico\n",
    "- tmax, (default 1000.0) el tiempo máximo de integración\n",
    "- xlims,ylims el rango del gráfico en $x$ e $y$"
   ]
  },
  {
   "cell_type": "code",
   "execution_count": null,
   "id": "fb67f42c",
   "metadata": {},
   "outputs": [],
   "source": [
    "attractors=[[1.0,0.0],[-1.0,0.0]]\n",
    "γ=0.015;β=0.5\n",
    "p1 = attractor_basin(duffing!,[γ,β],attractors,1.5;delta=0.005,xlims=(-2.5,2.5),ylims=(-2.0,2.0))"
   ]
  },
  {
   "cell_type": "markdown",
   "id": "f1746851",
   "metadata": {},
   "source": [
    "## Oscilador de Duffing. Retrato de Fases Completo"
   ]
  },
  {
   "cell_type": "markdown",
   "id": "e1b9d8a8",
   "metadata": {},
   "source": [
    "La última función que vamos a usar del paquete es `phase_portrait` que realiza un retrato de fases completo: calcula los puntos fijos, grafica las nulclinas y las variedades estable e inestable. Recibe como argumentos obligatorios:\n",
    "- la función del campo vector\n",
    "- el vector de parámetros\n",
    "\n",
    "y como optativos:\n",
    "- tmax el tiempo maximo de evolucion de las variedades\n",
    "- delta el desplazamiento en la direccion de los autovectores para el cáluclo de las variedades\n",
    "- xlims, ylims el rango del gráfico"
   ]
  },
  {
   "cell_type": "code",
   "execution_count": null,
   "id": "cc707f39",
   "metadata": {
    "ExecuteTime": {
     "end_time": "2022-02-07T22:43:00.055000-03:00",
     "start_time": "2022-02-08T01:42:55.065Z"
    }
   },
   "outputs": [],
   "source": [
    "@manipulate throttle=0.1 for β=-0.5:0.001:0.5,γ=0:0.001:0.5\n",
    "    phase_portrait(duffing!,[γ,β];xlims=[-2.0,2.0],ylims=[-2.0,2.0])\n",
    "end    "
   ]
  },
  {
   "cell_type": "code",
   "execution_count": null,
   "id": "e81079df",
   "metadata": {},
   "outputs": [],
   "source": []
  }
 ],
 "metadata": {
  "@webio": {
   "lastCommId": "a6e0a040d3244b4db1529a6a151d7db1",
   "lastKernelId": "2e0e6a86-cbf1-49db-8ee8-1d4509de2b7a"
  },
  "kernelspec": {
   "display_name": "Julia 1.6.5",
   "language": "julia",
   "name": "julia-1.6"
  },
  "language_info": {
   "file_extension": ".jl",
   "mimetype": "application/julia",
   "name": "julia",
   "version": "1.6.5"
  },
  "toc": {
   "base_numbering": 1,
   "nav_menu": {},
   "number_sections": true,
   "sideBar": true,
   "skip_h1_title": false,
   "title_cell": "Table of Contents",
   "title_sidebar": "Contents",
   "toc_cell": false,
   "toc_position": {
    "height": "calc(100% - 180px)",
    "left": "10px",
    "top": "150px",
    "width": "320px"
   },
   "toc_section_display": true,
   "toc_window_display": true
  },
  "varInspector": {
   "cols": {
    "lenName": 16,
    "lenType": 16,
    "lenVar": 40
   },
   "kernels_config": {
    "python": {
     "delete_cmd_postfix": "",
     "delete_cmd_prefix": "del ",
     "library": "var_list.py",
     "varRefreshCmd": "print(var_dic_list())"
    },
    "r": {
     "delete_cmd_postfix": ") ",
     "delete_cmd_prefix": "rm(",
     "library": "var_list.r",
     "varRefreshCmd": "cat(var_dic_list()) "
    }
   },
   "types_to_exclude": [
    "module",
    "function",
    "builtin_function_or_method",
    "instance",
    "_Feature"
   ],
   "window_display": true
  }
 },
 "nbformat": 4,
 "nbformat_minor": 5
}
