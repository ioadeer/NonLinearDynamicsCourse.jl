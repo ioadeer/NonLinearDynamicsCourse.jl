{
 "cells": [
  {
   "cell_type": "markdown",
   "id": "ff7dfb7b",
   "metadata": {},
   "source": [
    "# Espacio de Fases\n",
    "\n",
    "Esta primera Notebook tiene como proposito presentar alguno de los sistemas que vimos en clase, calcular trayectorias (u orbitas) en el espacio de fases y estudiar como varian a medida que modificamos loa parametros del sistema. Vamos a presentar alguna de las herramientas que vamos a usar durante el curso, por ejemplo para integrar numericamente las ecuaciones diferenciales, graficar sus soluciones y usar interaccion para modificar los parametros y observar como cambian las soluciones en tiempo real.\n",
    "\n"
   ]
  },
  {
   "cell_type": "code",
   "execution_count": null,
   "id": "fe80736a",
   "metadata": {
    "ExecuteTime": {
     "end_time": "2022-01-24T20:58:31.320000-03:00",
     "start_time": "2022-01-24T23:58:16.541Z"
    }
   },
   "outputs": [],
   "source": [
    "using Interact, Plots, DifferentialEquations"
   ]
  },
  {
   "cell_type": "markdown",
   "id": "16f9cae5",
   "metadata": {},
   "source": [
    "# Oscilador armonico\n",
    "Sistema lineal que depende de un solo parametro K\n",
    "\n",
    "Ecuaciones diferenciales de primer orden lineales correspondientes al oscilador armonico.\n",
    "$x$ corresponde a la posicion del oscilador e $y$ a su velocidad.\n",
    "\n",
    "$ \\dot{x} = y $ \n",
    "\n",
    "$\\dot{y} = -Kx$\n",
    "\n",
    "La primera ecuacion solo especifica que la variacion temporal de la posicion corresponde a la velocidad. \n",
    "\n",
    "La segunda ecuacion, que proviene de la segunda Ley de Newton combinada con la Ley de Hooke especifica que la variacion de la velocidad (aceleracion) es propocional a la posicion con una constante $K>0$ y signo negativo"
   ]
  },
  {
   "cell_type": "markdown",
   "id": "b6611be4",
   "metadata": {},
   "source": [
    "Si bien esta ecuación tiene solución analítica, vamos a integrarla numericamente usando el paquete **DifferentialEquations** de Julia. \n",
    "\n",
    "Para ello tenemos que definir primero la funcion que da las derivadas $du$ en function de las variables $u$ ($x=u[1]$, $y=u[2]$) y los parametros $p$, en este caso tenemos un unico parametro $K$ y podemos usar ese nombre pero de forma general vamos a tener un vector de parametros $p$."
   ]
  },
  {
   "cell_type": "code",
   "execution_count": null,
   "id": "5e8a2eeb",
   "metadata": {
    "ExecuteTime": {
     "end_time": "2022-01-24T20:58:39.835000-03:00",
     "start_time": "2022-01-24T23:58:34.940Z"
    }
   },
   "outputs": [],
   "source": [
    "function oscharm!(du,u,K,t)\n",
    "    du[1] = u[2]\n",
    "    du[2] = -K*u[1]\n",
    "end    "
   ]
  },
  {
   "cell_type": "markdown",
   "id": "36e33f87",
   "metadata": {},
   "source": [
    "esta funcion en Julia se escribe con el bang **!** porque modifica sus argumentos (en este caso $du$)"
   ]
  },
  {
   "cell_type": "markdown",
   "id": "b48333b4",
   "metadata": {
    "ExecuteTime": {
     "end_time": "2022-01-19T18:10:23.367000-03:00",
     "start_time": "2022-01-19T21:10:19.575Z"
    }
   },
   "source": [
    "## Calculo de las trayectorias\n",
    "Luego tenemos que definir:\n",
    "- una condicion inicial **u0** \n",
    "- un valor para el parámetro \n",
    "- un time span **tspan** (tiempo inicial y final)\n",
    "\n",
    "con lo cual queda definido el problema **prob**"
   ]
  },
  {
   "cell_type": "code",
   "execution_count": null,
   "id": "9f6f69fd",
   "metadata": {
    "ExecuteTime": {
     "end_time": "2022-01-24T20:58:44.366000-03:00",
     "start_time": "2022-01-24T23:58:42.272Z"
    }
   },
   "outputs": [],
   "source": [
    "u0 = [1.0;1.0]\n",
    "K = 0.3\n",
    "tspan = (0,100.0)\n",
    "prob = ODEProblem(oscharm!, u0, tspan, K)"
   ]
  },
  {
   "cell_type": "markdown",
   "id": "d0b98e51",
   "metadata": {},
   "source": [
    "Para resolver simplemente apelamos a la funcion **solve** y guardamos la solucion en **sol**"
   ]
  },
  {
   "cell_type": "code",
   "execution_count": null,
   "id": "0fbf8a11",
   "metadata": {
    "ExecuteTime": {
     "end_time": "2022-01-24T20:58:49.882000-03:00",
     "start_time": "2022-01-24T23:58:46.233Z"
    }
   },
   "outputs": [],
   "source": [
    "sol = solve(prob);"
   ]
  },
  {
   "cell_type": "markdown",
   "id": "6a100174",
   "metadata": {
    "ExecuteTime": {
     "end_time": "2022-01-19T18:23:07.090000-03:00",
     "start_time": "2022-01-19T21:23:07.084Z"
    }
   },
   "source": [
    "Finalmente graficamos la solucion en funcion del tiempo, y en el espacio de fases"
   ]
  },
  {
   "cell_type": "code",
   "execution_count": null,
   "id": "236dd901",
   "metadata": {
    "ExecuteTime": {
     "end_time": "2022-01-24T20:59:03.706000-03:00",
     "start_time": "2022-01-24T23:58:50.970Z"
    }
   },
   "outputs": [],
   "source": [
    "p1 = plot(sol)\n",
    "p2 = plot(sol,vars=(1,2))\n",
    "plot(p1,p2,layout=(1,2),size = (900,450))"
   ]
  },
  {
   "cell_type": "markdown",
   "id": "b51f710d",
   "metadata": {},
   "source": [
    "## Interacción\n",
    "\n",
    "Usando el macro @manipulate podemos generar un grafico interactivo"
   ]
  },
  {
   "cell_type": "code",
   "execution_count": null,
   "id": "e0583c9c",
   "metadata": {
    "ExecuteTime": {
     "end_time": "2022-01-24T20:59:24.399000-03:00",
     "start_time": "2022-01-24T23:59:11.139Z"
    }
   },
   "outputs": [],
   "source": [
    "@manipulate throttle=.05 for u1=-1:0.1:1,u2=-1:0.1:1,tmax=10:10:200,K=0:.1:3.0\n",
    "    prob = ODEProblem(oscharm!, [u1; u2], (0, tmax), K)\n",
    "    sol = solve(prob);\n",
    "    p1 = plot(sol)\n",
    "    p2 = plot(sol,vars=(1,2))\n",
    "    scatter!(p2,[prob.u0[1]],[prob.u0[2]])\n",
    "    plot(p1,p2,layout=(1,2),size = (900,450))\n",
    "end"
   ]
  },
  {
   "cell_type": "markdown",
   "id": "7eac66e1",
   "metadata": {},
   "source": [
    "## Oscilador armonico con disipacion\n",
    "\n",
    "Ahoera vamos a agregar un termino que de cuenta de la disipacion de energia que en su forma mas simple aparece como una fuerza con el signo contrario a la velocidad $y$ con una constante de proporcionalidad positiva $C$ y que se aplica a la segunda ecuación (Ley de Newton)\n",
    "\n",
    "$ \\dot{x} = y $ \n",
    "\n",
    "$\\dot{y} = -Kx -Cy$\n",
    "\n",
    "Notar que ahora como tenemos dos parametros vamos a introducirlos en la funcion como un vector $p=[K,C]$, y para mayuor claridad de notación hacemos un \"unpack\" de ese vector de parametros en la primera linea. El resto es igual."
   ]
  },
  {
   "cell_type": "code",
   "execution_count": null,
   "id": "da407de2",
   "metadata": {
    "ExecuteTime": {
     "end_time": "2022-01-24T20:59:32.996000-03:00",
     "start_time": "2022-01-24T23:59:32.920Z"
    }
   },
   "outputs": [],
   "source": [
    "function oscharmdamp!(du,u,p,t)\n",
    "    (K,C) = p\n",
    "    du[1] = u[2]\n",
    "    du[2] = -K*u[1]-C*u[2]\n",
    "end    "
   ]
  },
  {
   "cell_type": "code",
   "execution_count": null,
   "id": "a27638e2",
   "metadata": {
    "ExecuteTime": {
     "end_time": "2022-01-24T20:59:38.328000-03:00",
     "start_time": "2022-01-24T23:59:34.946Z"
    }
   },
   "outputs": [],
   "source": [
    "@manipulate throttle=.05 for u1=-1:0.1:1,u2=-1:0.1:1,tmax=10:10:200,K=0:.1:3.0,C=0:.02:1.0\n",
    "    prob = ODEProblem(oscharmdamp!, [u1; u2], (0, tmax), [K,C])\n",
    "    sol = solve(prob);\n",
    "    p1 = plot(sol)\n",
    "    p2 = plot(sol,vars=(1,2))\n",
    "    scatter!(p2,[prob.u0[1]],[prob.u0[2]])\n",
    "    plot(p1,p2,layout=(1,2),size = (900,450))\n",
    "end"
   ]
  },
  {
   "cell_type": "markdown",
   "id": "1d8aefcb",
   "metadata": {},
   "source": [
    "## Animacion\n",
    "\n",
    "Usando el macro @animate podemos hacer un gif animado de la evolucion del sistema"
   ]
  },
  {
   "cell_type": "code",
   "execution_count": null,
   "id": "e3b9e539",
   "metadata": {
    "ExecuteTime": {
     "end_time": "2022-01-24T21:00:18.712000-03:00",
     "start_time": "2022-01-25T00:00:14.189Z"
    }
   },
   "outputs": [],
   "source": [
    "N = 100; dt = 0.5\n",
    "sol = solve(ODEProblem(oscharmdamp!, [0.8; 0.8], (0, N*dt), [0.8,0.2]))\n",
    "p1 = plot(sol,vars=(1,2),tspan=(0,dt),color=:black,xlims=(-1,1),ylims=(-1,1),legend=false,size=(400,400));\n",
    "anim = @animate for n=2:N\n",
    "    plot!(p1,sol,vars=(1,2),tspan=((n-1)*dt,n*dt),color=:black);\n",
    "end;"
   ]
  },
  {
   "cell_type": "code",
   "execution_count": null,
   "id": "a62fe311",
   "metadata": {
    "ExecuteTime": {
     "end_time": "2022-01-24T21:00:24.748000-03:00",
     "start_time": "2022-01-25T00:00:23.317Z"
    }
   },
   "outputs": [],
   "source": [
    "gif(anim, \"oscharmdamp_anim_fps30.gif\", fps = 30)"
   ]
  },
  {
   "cell_type": "markdown",
   "id": "9e026b01",
   "metadata": {},
   "source": [
    "# Bouncing Ball\n",
    "\n",
    "Este sistema es mas simple que el anterior porque si hacemos que $x$ se la altura de la pelota e $y$ su aceleracion, una pelota que cae por la acción de la gravedad se puede escribir simplemente \n",
    "\n",
    "$ \\dot{x} = y $ \n",
    "\n",
    "$\\dot{y} = -g$\n",
    "\n",
    "la aceleracion es constante y negativa ($g=9.8$). \n",
    "\n",
    "Sin embargo, tenemos que agregar una condicion de rebote en el piso. Vamos a considerar dos casos: Rebote elastico (Ball Soft) y rebote rigido (Ball Hard). \n",
    "\n",
    "Para el caso del rebote elastico asumimos que cuando la altura llega a cero colisiona con un resorte de constante elastica $K$ que lo hace ir de vuelta hacia arriba (en este la pelota puede tomar valores negativos porque se deforma), esto implica que tenemos que evaluar el signo de $x$ y aplicar solo la aceleracion de la gravedad para $x>0$ y la gravedad mas la accion del resorte para $x<0$, esto implica una discontinuidad en el \"campo vector\" algo que no se lleva muy bien con los metodos de integracion numerica pero que en este caso Julia resuelve bastante bien:\n",
    "\n",
    "$ \\dot{x} = y $ \n",
    "\n",
    "$\\dot{y} = -g$  [si $x>0$]\n",
    "\n",
    "$ = -g-K*y$  [si $x<=0$]"
   ]
  },
  {
   "cell_type": "code",
   "execution_count": null,
   "id": "83519d65",
   "metadata": {
    "ExecuteTime": {
     "end_time": "2022-01-24T21:02:29.367000-03:00",
     "start_time": "2022-01-25T00:02:29.292Z"
    }
   },
   "outputs": [],
   "source": [
    "function ballsoft!(du,u,p,t)\n",
    "    (g,K) = p\n",
    "    du[1] = u[2]\n",
    "    if (u[1]>0)\n",
    "        du[2] = -g\n",
    "    else\n",
    "        du[2] = -g-K*u[1]\n",
    "    end      \n",
    "end"
   ]
  },
  {
   "cell_type": "code",
   "execution_count": null,
   "id": "4aadc172",
   "metadata": {
    "ExecuteTime": {
     "end_time": "2022-01-24T21:02:34.573000-03:00",
     "start_time": "2022-01-25T00:02:31.842Z"
    }
   },
   "outputs": [],
   "source": [
    "u0 = [50.0,0.0]\n",
    "tspan = (0.0,15.0)\n",
    "p = [9.8, 20.0]\n",
    "prob = ODEProblem(ballsoft!,u0,tspan,p)\n",
    "sol = solve(prob)\n",
    "p1 = plot(sol)\n",
    "p2 = plot(sol,vars=(1,2))\n",
    "plot(p1,p2,layout=(1,2),size = (900,450))"
   ]
  },
  {
   "cell_type": "markdown",
   "id": "4b202f35",
   "metadata": {
    "ExecuteTime": {
     "end_time": "2022-01-20T13:28:27.060000-03:00",
     "start_time": "2022-01-20T16:28:27.057Z"
    }
   },
   "source": [
    "## Caso hard usando callback\n",
    "\n",
    "El paquete DifferentialEquations permite introducir llamadas (callbacks) al integrador cuando se produce cierta condición y afectar entonces los parámetros o alguna de las variables. Esto es lo mas adecuado para introducir por ejemplo un cambio instantáneo signo de la velocidad como seria el caso del rebote perfectamente rígido. En este caso no hay ningun resorte y las ecuaciones son solo las de la caida de la pelota"
   ]
  },
  {
   "cell_type": "code",
   "execution_count": null,
   "id": "57ba9cba",
   "metadata": {
    "ExecuteTime": {
     "end_time": "2022-01-24T21:02:37.964000-03:00",
     "start_time": "2022-01-25T00:02:37.891Z"
    }
   },
   "outputs": [],
   "source": [
    "function ballhard!(du,u,p,t)\n",
    "  du[1] = u[2]\n",
    "  du[2] = -p[1]\n",
    "end"
   ]
  },
  {
   "cell_type": "markdown",
   "id": "ab9b5291",
   "metadata": {},
   "source": [
    "Pero debemos introducir dos funciones nuevas. Una que chequee si la pelota toca el piso (la llamamos **infloor**) que por defecto se dispara cuando devuelve valor 0, con lo cual hacemos que devuelva el valor de $x$ ($u[1]$)\n",
    "\n",
    "La otra función es la que se llama cuando se cumple la condicion anterior, la llamamos **bounce!** y lo que hace simplemente es cambiar el signo de la velocidad ($u[2]$)"
   ]
  },
  {
   "cell_type": "code",
   "execution_count": null,
   "id": "35005c31",
   "metadata": {
    "ExecuteTime": {
     "end_time": "2022-01-24T21:02:41.137000-03:00",
     "start_time": "2022-01-25T00:02:41.064Z"
    }
   },
   "outputs": [],
   "source": [
    "function infloor(u,t,integrator)\n",
    "  u[1]\n",
    "end\n",
    "\n",
    "function bounce!(integrator)\n",
    "  integrator.u[2] = -integrator.u[2]\n",
    "end"
   ]
  },
  {
   "cell_type": "markdown",
   "id": "a4f46f3e",
   "metadata": {},
   "source": [
    "Finalmente resolvemos nuestro problema pero agregando un callback que tiene como primer argumento a la condicion que debe cumplirse (**infloor**) y como segundo argumento la funcion a la que llama (**bounce!**)"
   ]
  },
  {
   "cell_type": "code",
   "execution_count": null,
   "id": "84ed883c",
   "metadata": {
    "ExecuteTime": {
     "end_time": "2022-01-24T21:02:47.108000-03:00",
     "start_time": "2022-01-25T00:02:43.748Z"
    }
   },
   "outputs": [],
   "source": [
    "u0 = [50.0,0.0]\n",
    "tspan = (0.0,15.0)\n",
    "g = 9.8\n",
    "prob = ODEProblem(ballhard!,u0,tspan,[g])\n",
    "sol = solve(prob,callback=ContinuousCallback(infloor,bounce!);)\n",
    "p1 = plot(sol)\n",
    "p2 = plot(sol,vars=(1,2))\n",
    "plot(p1,p2,layout=(1,2),size = (900,450))"
   ]
  },
  {
   "cell_type": "markdown",
   "id": "a6bd28e7",
   "metadata": {},
   "source": [
    "## Bouncing Ball Hard con disipacion\n",
    "\n",
    "Como caso final vamos a agregar disipacion en el rebote rigido. Aca asumimos que la disipacion de produce solo durante la colision y no por la friccion del aire (no seria dificil en ese caso solo hay que agegar como en el oscilador armonico un termino $-Cy$ en la segunda ecuacion).\n",
    "\n",
    "En este caso la condicion es la misma se trata simplemente de cambiar la funcion callback para que en lugar de solo cambiar el signo de la velocidad la reduzca un poco, lo cual se logra multiplicandola por un valor menor que 1.0 con signo negativo.\n",
    "\n",
    "Sin embargo, como cualquiera que vio una bola rebotando sabe, existe un potencial problema porque la cantidad de rebotes se va haciendo cada vez mayor y con intervalos de tiempo cada vez mas cortos. Para evitar que esto de problemas al integrador introducimos una condicion de corte cuando el paso de integracion (integrator.dt) se hace demasiado chico. Esa condicion de corte la introducimos en el nuevo callback **bouncedamped!**:"
   ]
  },
  {
   "cell_type": "code",
   "execution_count": null,
   "id": "f1cc49dc",
   "metadata": {
    "ExecuteTime": {
     "end_time": "2022-01-24T21:02:50.824000-03:00",
     "start_time": "2022-01-25T00:02:50.745Z"
    }
   },
   "outputs": [],
   "source": [
    "function bouncedamped!(integrator)\n",
    "  integrator.u[2] *= -0.9\n",
    "  if integrator.dt > 1e-12\n",
    "        set_proposed_dt!(integrator,(integrator.t-integrator.tprev)/100)\n",
    "    else\n",
    "        integrator.u[1] = 0\n",
    "        integrator.u[2] = 0\n",
    "        integrator.p[1] = 0\n",
    "    end  \n",
    "end"
   ]
  },
  {
   "cell_type": "code",
   "execution_count": null,
   "id": "6404d919",
   "metadata": {
    "ExecuteTime": {
     "end_time": "2022-01-24T21:02:55.439000-03:00",
     "start_time": "2022-01-25T00:02:53.124Z"
    }
   },
   "outputs": [],
   "source": [
    "u0 = [50.0,0.0]\n",
    "tspan = (0.0,70.0)\n",
    "g = 9.8\n",
    "prob = ODEProblem(ballhard!,u0,tspan,[g])\n",
    "sol = solve(prob,callback=ContinuousCallback(infloor,bouncedamped!))\n",
    "p1 = plot(sol)\n",
    "p2 = plot(sol,vars=(1,2))\n",
    "plot(p1,p2,layout=(1,2),size = (900,450))"
   ]
  },
  {
   "cell_type": "markdown",
   "id": "4406ecc5",
   "metadata": {},
   "source": [
    "# Oscilador No Lineal : Van der Pol\n",
    "\n",
    "Este es el primer sistema no lineal y lo vamos a ver en clase en mas detalle más adelante. Por ahora, podemos verlo como un oscilador donde la disipación es no lineal y en lugar de C es igual a $C(x^2-1)$\n",
    "de forma tal que cuando x es menor que 1 la disipacion es **negativa** y actua como una fuente de energia\n",
    "\n",
    "\n",
    "\\begin{aligned}\n",
    "\\dot{x} & = y \\\\\n",
    "\\dot{y} & =  -Kx-Cy(x^2-1)  \n",
    "\\end{aligned}"
   ]
  },
  {
   "cell_type": "code",
   "execution_count": null,
   "id": "c8d90139",
   "metadata": {
    "ExecuteTime": {
     "end_time": "2022-01-24T21:02:59.482000-03:00",
     "start_time": "2022-01-25T00:02:59.403Z"
    }
   },
   "outputs": [],
   "source": [
    "function vdp!(du,u,p,t)\n",
    "    du[1] = u[2]\n",
    "    du[2] = -p[1]*u[1]-p[2]*u[2]*(u[1]*u[1]-1.0)\n",
    "    return # no devuelve nada\n",
    "end    "
   ]
  },
  {
   "cell_type": "code",
   "execution_count": null,
   "id": "34764e05",
   "metadata": {
    "ExecuteTime": {
     "end_time": "2022-01-24T21:03:03.361000-03:00",
     "start_time": "2022-01-25T00:03:00.595Z"
    }
   },
   "outputs": [],
   "source": [
    "u0 = [1.0,1.0]\n",
    "tspan = (0.0,30.0)\n",
    "p = [1.0, 2.0]\n",
    "prob = ODEProblem(vdp!,u0,tspan,p)\n",
    "sol = solve(prob)\n",
    "p1 = plot(sol)\n",
    "p2 = plot(sol,vars=(1,2))\n",
    "plot(p1,p2,layout=(1,2),size = (900,450))"
   ]
  },
  {
   "cell_type": "code",
   "execution_count": null,
   "id": "20d61683",
   "metadata": {
    "ExecuteTime": {
     "end_time": "2022-01-24T21:03:07.353000-03:00",
     "start_time": "2022-01-25T00:03:06.703Z"
    }
   },
   "outputs": [],
   "source": [
    "@manipulate throttle=.05 for u1=-1:0.1:1,u2=-1:0.1:1,tmax=10:10:200,K=0:.1:3.0,C=0:0.1:3.0\n",
    "    prob = ODEProblem(vdp!, [u1; u2], (0, tmax), [K,C])\n",
    "    sol = solve(prob);\n",
    "    p1 = plot(sol)\n",
    "    p2 = plot(sol,vars=(1,2))\n",
    "    scatter!(p2,[prob.u0[1]],[prob.u0[2]])\n",
    "    plot(p1,p2,layout=(1,2),size = (900,450))\n",
    "end"
   ]
  },
  {
   "cell_type": "code",
   "execution_count": null,
   "id": "369d1ffd",
   "metadata": {
    "ExecuteTime": {
     "end_time": "2022-01-24T21:03:21.148000-03:00",
     "start_time": "2022-01-25T00:03:19.426Z"
    }
   },
   "outputs": [],
   "source": [
    "N = 50; dt = 0.5\n",
    "sol = solve(ODEProblem(vdp!, [0.1; 0.1], (0, N*dt), [1.0,1.5]))\n",
    "p1 = plot(sol,vars=(1,2),tspan=(0,dt),color=:black,xlims=(-2.2,2.2),ylims=(-4,4),legend=false,size=(400,400));\n",
    "anim = @animate for n=2:N\n",
    "    plot!(p1,sol,vars=(1,2),tspan=((n-1)*dt,n*dt),color=:black);\n",
    "end;"
   ]
  },
  {
   "cell_type": "code",
   "execution_count": null,
   "id": "e099c961",
   "metadata": {
    "ExecuteTime": {
     "end_time": "2022-01-24T21:03:25.530000-03:00",
     "start_time": "2022-01-25T00:03:25.267Z"
    }
   },
   "outputs": [],
   "source": [
    "gif(anim, \"../files/vanderpol_anim_fps30b.gif\", fps = 30)"
   ]
  },
  {
   "cell_type": "markdown",
   "id": "af93e558",
   "metadata": {},
   "source": [
    "# Oscilador de Duffing \n",
    "\n",
    "Este es otro clásico oscilador no lineal y se puede interpretar como un oscilador en un pozo de potencial doble, pero por ahora lo usamos solo con fines expoloratorios. Tiene un parametro que corresponde a la disipación $\\gamma$ y otro parámetro $\\beta$ que si pasa de negativo a positivo cambia de tener un equilibrio estable a dos equilibriuos estables (doble pozo de potencial).\n",
    "\n",
    "$\\dot{x} = y$\n",
    "\n",
    "$\\dot{y} = -\\gamma y + x (\\beta -  x^2) $\n"
   ]
  },
  {
   "cell_type": "code",
   "execution_count": null,
   "id": "38caf007",
   "metadata": {
    "ExecuteTime": {
     "end_time": "2022-01-24T21:03:33.254000-03:00",
     "start_time": "2022-01-25T00:03:33.171Z"
    }
   },
   "outputs": [],
   "source": [
    "function duffing!(du,u,p,t)\n",
    "    (γ,β) = p\n",
    "    du[1] = u[2]\n",
    "    du[2] = -γ*u[2]+u[1]*(β-u[1]*u[1])\n",
    "    return\n",
    "end    "
   ]
  },
  {
   "cell_type": "code",
   "execution_count": null,
   "id": "d421e44e",
   "metadata": {
    "ExecuteTime": {
     "end_time": "2022-01-24T21:03:37.582000-03:00",
     "start_time": "2022-01-25T00:03:34.783Z"
    }
   },
   "outputs": [],
   "source": [
    "prob = ODEProblem(duffing!, [0.3; 1.0], (0, 50.0), [0.1,0.8])\n",
    "sol = solve(prob)\n",
    "p1 = plot(sol)\n",
    "p2 = plot(sol,vars=(1,2),xlims=(-3, 3), ylims=(-2,2))\n",
    "scatter!(p2,[prob.u0[1]],[prob.u0[2]])\n",
    "plot(p1,p2,layout=(1,2),size = (900,300))"
   ]
  },
  {
   "cell_type": "code",
   "execution_count": null,
   "id": "7c97fa9e",
   "metadata": {
    "ExecuteTime": {
     "end_time": "2022-01-24T21:03:41.719000-03:00",
     "start_time": "2022-01-25T00:03:40.913Z"
    }
   },
   "outputs": [],
   "source": [
    "@manipulate throttle=.05 for u1=-1:0.1:1,u2=-1:0.1:1,tmax=10:10:100,γ=0:.01:3.0,β=-1.0:0.1:3.0\n",
    "    prob = ODEProblem(duffing!, [u1; u2], (0, tmax), [γ,β])\n",
    "    sol = solve(prob);\n",
    "    p1 = plot(sol)\n",
    "    p2 = plot(sol,vars=(1,2),xlims=(-3, 3), ylims=(-2,2))\n",
    "    scatter!(p2,[prob.u0[1]],[prob.u0[2]])\n",
    "    plot(p1,p2,layout=(1,2),size = (900,300))\n",
    "end"
   ]
  },
  {
   "cell_type": "markdown",
   "id": "3b710994",
   "metadata": {},
   "source": [
    "## Multiples trayectorias\n",
    "\n",
    "Vamos a usar otra herramienta de DifferentialEquations que permite calcular muchas trayectorias simultaneamente (para eso es necesario tener activado el multithreading). \n",
    "\n",
    "Tenemos que definir primero un vector $u0\\_arr$ con todas las condiciones iniciales, en este caso hacemos una grilla de 6x6 entre -1 y 1.\n",
    "\n",
    "Luego definimos una funcion **prob_func** que recalcula nuestro problema con la nueva condicion inicial (la forma es estandar, lo que hay que tener presente es que el indice $i$ se refiere al numero de trayectoria)"
   ]
  },
  {
   "cell_type": "code",
   "execution_count": null,
   "id": "87287e9a",
   "metadata": {
    "ExecuteTime": {
     "end_time": "2022-01-24T21:04:08.192000-03:00",
     "start_time": "2022-01-25T00:04:08.065Z"
    }
   },
   "outputs": [],
   "source": [
    "prob = ODEProblem(duffing!, [0.0; 0.0], (0, 50.0), [0.05,0.5])\n",
    "u0_arr = vec([[0.2*i-0.5,0.2*j-0.5] for i=0:5, j=0:5])\n",
    "\n",
    "function prob_func(prob,i,repeat)\n",
    "  remake(prob,u0=u0_arr[i])\n",
    "end"
   ]
  },
  {
   "cell_type": "markdown",
   "id": "ecfc03d1",
   "metadata": {},
   "source": [
    "Finalmente definimos un **EnsembleProblem** con nuestro problema **prob** y nuestra funcion para redefinirlo **prob_func**, y resolvemos agregando como segundo argumento nuestro Ensemble y como tercer argumento el numero de trayectorias a calcular que hacemos igual al tamaño de nuestro vector de condiciones iniciales $u0\\_arr$"
   ]
  },
  {
   "cell_type": "code",
   "execution_count": null,
   "id": "563de538",
   "metadata": {
    "ExecuteTime": {
     "end_time": "2022-01-24T21:04:22.070000-03:00",
     "start_time": "2022-01-25T00:04:21.765Z"
    }
   },
   "outputs": [],
   "source": [
    "ensemble_prob = EnsembleProblem(prob,prob_func=prob_func)\n",
    "@time sol = solve(ensemble_prob,EnsembleThreads(),trajectories=length(u0_arr))\n",
    "plot(sol,vars=(1,2),size = (800,600))"
   ]
  },
  {
   "cell_type": "code",
   "execution_count": null,
   "id": "15b116f5",
   "metadata": {
    "ExecuteTime": {
     "end_time": "2022-01-24T21:04:32.518000-03:00",
     "start_time": "2022-01-25T00:04:25.116Z"
    },
    "scrolled": false
   },
   "outputs": [],
   "source": [
    "@manipulate throttle=.2 for tmax=10:10:100,γ=0:.02:1.0,β=-1.0:0.1:1.0,grid=3:8\n",
    "    prob = ODEProblem(duffing!, [0.0; 0.0], (0, tmax), [γ,β])\n",
    "    u0_arr = vec([[i/grid-0.5,j/grid-0.5] for i=0:grid, j=0:grid])\n",
    "    function prob_func(prob,i,repeat)\n",
    "      remake(prob,u0=u0_arr[i])\n",
    "    end\n",
    "    ensemble_prob = EnsembleProblem(prob,prob_func=prob_func)\n",
    "    sol = solve(ensemble_prob,Tsit5(),EnsembleThreads(),trajectories=(length(u0_arr)))\n",
    "    plot(sol,vars=(1,2),xlims=(-1.5, 1.5), ylims=(-1.0,1.0),size = (900,600))\n",
    "end"
   ]
  },
  {
   "cell_type": "markdown",
   "id": "4f9aa2a3",
   "metadata": {},
   "source": [
    "# Oscilador de Duffing Forzado Periodicamente\n",
    "\n",
    "$\\dot{x} = y + A\\cos (\\omega t)$\n",
    "\n",
    "$\\dot{y} = -\\gamma y + x(\\beta -  x^2) $\n",
    "\n"
   ]
  },
  {
   "cell_type": "code",
   "execution_count": null,
   "id": "f6f9a8ab",
   "metadata": {
    "ExecuteTime": {
     "end_time": "2022-01-24T21:05:04.369000-03:00",
     "start_time": "2022-01-25T00:05:04.265Z"
    }
   },
   "outputs": [],
   "source": [
    "function duffingforced!(du,u,p,t)\n",
    "    (γ,β,A,ω) = p\n",
    "    du[1] = u[2] + A*cos(ω*t)\n",
    "    du[2] = -γ*u[2]+u[1]*(β-u[1]*u[1])\n",
    "    return\n",
    "end    "
   ]
  },
  {
   "cell_type": "code",
   "execution_count": null,
   "id": "076ea1c3",
   "metadata": {
    "ExecuteTime": {
     "end_time": "2022-01-24T21:05:09.542000-03:00",
     "start_time": "2022-01-25T00:05:06.197Z"
    }
   },
   "outputs": [],
   "source": [
    "@manipulate throttle=.1 for tmax=10:10:1000,γ=0:.01:3.0,β=-1.0:0.1:3.0,A=0:0.02:1.0,ω=0:0.01:1.0\n",
    "    prob = ODEProblem(duffingforced!, [0.2; 0.2], (0, tmax), [γ,β,A,ω])\n",
    "    sol = solve(prob);\n",
    "    plot(sol,vars=(1,2),size = (900,600))\n",
    "end"
   ]
  },
  {
   "cell_type": "markdown",
   "id": "fab4df5e",
   "metadata": {},
   "source": [
    "# CHAOS!"
   ]
  },
  {
   "cell_type": "code",
   "execution_count": null,
   "id": "b9d2caa4",
   "metadata": {},
   "outputs": [],
   "source": []
  }
 ],
 "metadata": {
  "@webio": {
   "lastCommId": null,
   "lastKernelId": null
  },
  "kernelspec": {
   "display_name": "Julia 1.6.5",
   "language": "julia",
   "name": "julia-1.6"
  },
  "language_info": {
   "file_extension": ".jl",
   "mimetype": "application/julia",
   "name": "julia",
   "version": "1.6.5"
  },
  "toc": {
   "base_numbering": 1,
   "nav_menu": {},
   "number_sections": true,
   "sideBar": true,
   "skip_h1_title": false,
   "title_cell": "Table of Contents",
   "title_sidebar": "Contents",
   "toc_cell": false,
   "toc_position": {
    "height": "calc(100% - 180px)",
    "left": "10px",
    "top": "150px",
    "width": "314.05px"
   },
   "toc_section_display": true,
   "toc_window_display": true
  },
  "varInspector": {
   "cols": {
    "lenName": 16,
    "lenType": 16,
    "lenVar": 40
   },
   "kernels_config": {
    "python": {
     "delete_cmd_postfix": "",
     "delete_cmd_prefix": "del ",
     "library": "var_list.py",
     "varRefreshCmd": "print(var_dic_list())"
    },
    "r": {
     "delete_cmd_postfix": ") ",
     "delete_cmd_prefix": "rm(",
     "library": "var_list.r",
     "varRefreshCmd": "cat(var_dic_list()) "
    }
   },
   "types_to_exclude": [
    "module",
    "function",
    "builtin_function_or_method",
    "instance",
    "_Feature"
   ],
   "window_display": true
  }
 },
 "nbformat": 4,
 "nbformat_minor": 5
}
