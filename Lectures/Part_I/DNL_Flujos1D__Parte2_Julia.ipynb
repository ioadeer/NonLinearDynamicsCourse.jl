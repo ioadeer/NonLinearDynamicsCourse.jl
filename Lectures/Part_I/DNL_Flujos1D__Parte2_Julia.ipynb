{
 "cells": [
  {
   "cell_type": "code",
   "execution_count": 1,
   "id": "2254df9f",
   "metadata": {
    "ExecuteTime": {
     "end_time": "2022-02-10T21:37:52.995000-03:00",
     "start_time": "2022-02-11T00:37:36.388Z"
    }
   },
   "outputs": [
    {
     "data": {
      "application/vnd.webio.node+json": {
       "children": [],
       "instanceArgs": {
        "namespace": "html",
        "tag": "div"
       },
       "nodeType": "DOM",
       "props": {},
       "type": "node"
      },
      "text/html": [
       "<div style=\"padding: 1em; background-color: #f8d6da; border: 1px solid #f5c6cb; font-weight: bold;\">\n",
       "<p>The WebIO Jupyter extension was not detected. See the\n",
       "<a href=\"https://juliagizmos.github.io/WebIO.jl/latest/providers/ijulia/\" target=\"_blank\">\n",
       "    WebIO Jupyter integration documentation\n",
       "</a>\n",
       "for more information.\n",
       "</div>\n"
      ],
      "text/plain": [
       "WebIO._IJuliaInit()"
      ]
     },
     "metadata": {
      "application/vnd.webio.node+json": {
       "kernelId": "81a88d82-5ed9-4b0d-9485-a124bd6b829e"
      }
     },
     "output_type": "display_data"
    }
   ],
   "source": [
    "using Interact, Plots, DifferentialEquations, BifurcationKit, Setfield, IntervalRootFinding, ForwardDiff\n",
    "using NonLinearDynamicsCourse"
   ]
  },
  {
   "cell_type": "markdown",
   "id": "95064d89",
   "metadata": {},
   "source": [
    "# Ecuacion del consumidor\n",
    "\n",
    "El siguiente modelo poblacional es un poco más realista y se conoce como ecuación del consumidor. Es un modelo que aparece en macroeconomia como una simplificación de la dinámica del consumo de un recurso renovable y  no es mas que la ecuacion logistica con un termino de cosecha o consumo que es directamente proporcional a la abundancia del recurso $Px$. El parámetro $P$ corresponde a la tasa de consumo del recurso y $R$ se puede reinterpretar como la tasa de producción o de generación del recurso renovable.  \n",
    "\n",
    "$ \\dot{x} = Rx\\left(1-\\frac{x}{K}\\right) - Px$ \n",
    "\n",
    "\n",
    "Notar que como no hay problema de divergencia para $x>0$ ya no necesitamos el callback."
   ]
  },
  {
   "cell_type": "code",
   "execution_count": 7,
   "id": "2bb39d41",
   "metadata": {
    "ExecuteTime": {
     "end_time": "2022-01-26T19:41:50.495000-03:00",
     "start_time": "2022-01-26T22:41:50.346Z"
    }
   },
   "outputs": [
    {
     "data": {
      "text/plain": [
       "consumer (generic function with 1 method)"
      ]
     },
     "execution_count": 7,
     "metadata": {},
     "output_type": "execute_result"
    }
   ],
   "source": [
    "# Ecuacion del consumidor\n",
    "consumer(x,p,t)=p[1]*x*(1.0-x/p[2])-p[3]*x"
   ]
  },
  {
   "cell_type": "code",
   "execution_count": 11,
   "id": "420fac6b",
   "metadata": {},
   "outputs": [
    {
     "data": {
      "text/plain": [
       "1-element Vector{Float64}:\n",
       " 2.0"
      ]
     },
     "execution_count": 11,
     "metadata": {},
     "output_type": "execute_result"
    }
   ],
   "source": [
    "F=(u) -> (u^2-1)"
   ]
  },
  {
   "cell_type": "code",
   "execution_count": 6,
   "id": "4719d45d",
   "metadata": {},
   "outputs": [
    {
     "data": {
      "text/plain": [
       "consumer2! (generic function with 1 method)"
      ]
     },
     "execution_count": 6,
     "metadata": {},
     "output_type": "execute_result"
    }
   ],
   "source": [
    "function consumer2!(dx,x,p,t)\n",
    "    (R,K,P) = p\n",
    "    dx = R*x*(1.0-x/K)-P*x\n",
    "end    "
   ]
  },
  {
   "cell_type": "code",
   "execution_count": 12,
   "id": "4cea6d79",
   "metadata": {},
   "outputs": [
    {
     "data": {
      "application/vnd.webio.node+json": {
       "children": [
        {
         "children": [
          {
           "children": [
            {
             "children": [
              {
               "children": [
                {
                 "children": [
                  "R"
                 ],
                 "instanceArgs": {
                  "namespace": "html",
                  "tag": "label"
                 },
                 "nodeType": "DOM",
                 "props": {
                  "className": "interact ",
                  "style": {
                   "padding": "5px 10px 0px 10px"
                  }
                 },
                 "type": "node"
                }
               ],
               "instanceArgs": {
                "namespace": "html",
                "tag": "div"
               },
               "nodeType": "DOM",
               "props": {
                "className": "interact-flex-row-left"
               },
               "type": "node"
              },
              {
               "children": [
                {
                 "children": [],
                 "instanceArgs": {
                  "namespace": "html",
                  "tag": "input"
                 },
                 "nodeType": "DOM",
                 "props": {
                  "attributes": {
                   "data-bind": "numericValue: index, valueUpdate: 'input', event: {change: function (){this.changes(this.changes()+1)}}",
                   "orient": "horizontal",
                   "type": "range"
                  },
                  "className": "slider slider is-fullwidth",
                  "max": 51,
                  "min": 1,
                  "step": 1,
                  "style": {}
                 },
                 "type": "node"
                }
               ],
               "instanceArgs": {
                "namespace": "html",
                "tag": "div"
               },
               "nodeType": "DOM",
               "props": {
                "className": "interact-flex-row-center"
               },
               "type": "node"
              },
              {
               "children": [
                {
                 "children": [],
                 "instanceArgs": {
                  "namespace": "html",
                  "tag": "p"
                 },
                 "nodeType": "DOM",
                 "props": {
                  "attributes": {
                   "data-bind": "text: formatted_val"
                  }
                 },
                 "type": "node"
                }
               ],
               "instanceArgs": {
                "namespace": "html",
                "tag": "div"
               },
               "nodeType": "DOM",
               "props": {
                "className": "interact-flex-row-right"
               },
               "type": "node"
              }
             ],
             "instanceArgs": {
              "namespace": "html",
              "tag": "div"
             },
             "nodeType": "DOM",
             "props": {
              "className": "interact-flex-row interact-widget"
             },
             "type": "node"
            }
           ],
           "instanceArgs": {
            "handlers": {
             "changes": [
              "(function (val){return (val!=this.model[\"changes\"]()) ? (this.valueFromJulia[\"changes\"]=true, this.model[\"changes\"](val)) : undefined})"
             ],
             "index": [
              "(function (val){return (val!=this.model[\"index\"]()) ? (this.valueFromJulia[\"index\"]=true, this.model[\"index\"](val)) : undefined})"
             ]
            },
            "id": "8559336392139051330",
            "imports": {
             "data": [
              {
               "name": "knockout",
               "type": "js",
               "url": "/assetserver/2712bb0a7395d062608c2f218a74b700f6c76b99-knockout.js"
              },
              {
               "name": "knockout_punches",
               "type": "js",
               "url": "/assetserver/fb4445501a2be4ab82176667f844e40da26fa007-knockout_punches.js"
              },
              {
               "name": null,
               "type": "js",
               "url": "/assetserver/a8ea7d9192d5fa85c6fac26c72d7fece1e500138-all.js"
              },
              {
               "name": null,
               "type": "css",
               "url": "/assetserver/620a53798cfdb29a4a2142ce0588e9aadc351d94-style.css"
              },
              {
               "name": null,
               "type": "css",
               "url": "/assetserver/9f2f17f677abbfd015a7c6b0c0f09a2da809bee2-bulma_confined.min.css"
              }
             ],
             "type": "async_block"
            },
            "mount_callbacks": [
             "function () {\n    var handler = (function (ko, koPunches) {\n    ko.punches.enableAll();\n    ko.bindingHandlers.numericValue = {\n        init: function(element, valueAccessor, allBindings, data, context) {\n            var stringified = ko.observable(ko.unwrap(valueAccessor()));\n            stringified.subscribe(function(value) {\n                var val = parseFloat(value);\n                if (!isNaN(val)) {\n                    valueAccessor()(val);\n                }\n            });\n            valueAccessor().subscribe(function(value) {\n                var str = JSON.stringify(value);\n                if ((str == \"0\") && ([\"-0\", \"-0.\"].indexOf(stringified()) >= 0))\n                     return;\n                 if ([\"null\", \"\"].indexOf(str) >= 0)\n                     return;\n                stringified(str);\n            });\n            ko.applyBindingsToNode(\n                element,\n                {\n                    value: stringified,\n                    valueUpdate: allBindings.get('valueUpdate'),\n                },\n                context,\n            );\n        }\n    };\n    var json_data = {\"formatted_vals\":[\"0.0\",\"0.02\",\"0.04\",\"0.06\",\"0.08\",\"0.1\",\"0.12\",\"0.14\",\"0.16\",\"0.18\",\"0.2\",\"0.22\",\"0.24\",\"0.26\",\"0.28\",\"0.3\",\"0.32\",\"0.34\",\"0.36\",\"0.38\",\"0.4\",\"0.42\",\"0.44\",\"0.46\",\"0.48\",\"0.5\",\"0.52\",\"0.54\",\"0.56\",\"0.58\",\"0.6\",\"0.62\",\"0.64\",\"0.66\",\"0.68\",\"0.7\",\"0.72\",\"0.74\",\"0.76\",\"0.78\",\"0.8\",\"0.82\",\"0.84\",\"0.86\",\"0.88\",\"0.9\",\"0.92\",\"0.94\",\"0.96\",\"0.98\",\"1.0\"],\"changes\":WebIO.getval({\"name\":\"changes\",\"scope\":\"8559336392139051330\",\"id\":\"2523120513391003500\",\"type\":\"observable\"}),\"index\":WebIO.getval({\"name\":\"index\",\"scope\":\"8559336392139051330\",\"id\":\"10568707183061115056\",\"type\":\"observable\"})};\n    var self = this;\n    function AppViewModel() {\n        for (var key in json_data) {\n            var el = json_data[key];\n            this[key] = Array.isArray(el) ? ko.observableArray(el) : ko.observable(el);\n        }\n        \n        [this[\"formatted_val\"]=ko.computed(    function(){\n        return this.formatted_vals()[parseInt(this.index())-(1)];\n    }\n,this)]\n        [this[\"changes\"].subscribe((function (val){!(this.valueFromJulia[\"changes\"]) ? (WebIO.setval({\"name\":\"changes\",\"scope\":\"8559336392139051330\",\"id\":\"2523120513391003500\",\"type\":\"observable\"},val)) : undefined; return this.valueFromJulia[\"changes\"]=false}),self),this[\"index\"].subscribe((function (val){!(this.valueFromJulia[\"index\"]) ? (WebIO.setval({\"name\":\"index\",\"scope\":\"8559336392139051330\",\"id\":\"10568707183061115056\",\"type\":\"observable\"},val)) : undefined; return this.valueFromJulia[\"index\"]=false}),self)]\n        \n    }\n    self.model = new AppViewModel();\n    self.valueFromJulia = {};\n    for (var key in json_data) {\n        self.valueFromJulia[key] = false;\n    }\n    ko.applyBindings(self.model, self.dom);\n}\n);\n    (WebIO.importBlock({\"data\":[{\"name\":\"knockout\",\"type\":\"js\",\"url\":\"/assetserver/2712bb0a7395d062608c2f218a74b700f6c76b99-knockout.js\"},{\"name\":\"knockout_punches\",\"type\":\"js\",\"url\":\"/assetserver/fb4445501a2be4ab82176667f844e40da26fa007-knockout_punches.js\"}],\"type\":\"async_block\"})).then((imports) => handler.apply(this, imports));\n}\n"
            ],
            "observables": {
             "changes": {
              "id": "2523120513391003500",
              "sync": false,
              "value": 0
             },
             "index": {
              "id": "10568707183061115056",
              "sync": true,
              "value": 26
             }
            },
            "systemjs_options": null
           },
           "nodeType": "Scope",
           "props": {},
           "type": "node"
          }
         ],
         "instanceArgs": {
          "namespace": "html",
          "tag": "div"
         },
         "nodeType": "DOM",
         "props": {
          "className": "field interact-widget"
         },
         "type": "node"
        },
        {
         "children": [
          {
           "children": [
            {
             "children": [
              {
               "children": [
                {
                 "children": [
                  "K"
                 ],
                 "instanceArgs": {
                  "namespace": "html",
                  "tag": "label"
                 },
                 "nodeType": "DOM",
                 "props": {
                  "className": "interact ",
                  "style": {
                   "padding": "5px 10px 0px 10px"
                  }
                 },
                 "type": "node"
                }
               ],
               "instanceArgs": {
                "namespace": "html",
                "tag": "div"
               },
               "nodeType": "DOM",
               "props": {
                "className": "interact-flex-row-left"
               },
               "type": "node"
              },
              {
               "children": [
                {
                 "children": [],
                 "instanceArgs": {
                  "namespace": "html",
                  "tag": "input"
                 },
                 "nodeType": "DOM",
                 "props": {
                  "attributes": {
                   "data-bind": "numericValue: index, valueUpdate: 'input', event: {change: function (){this.changes(this.changes()+1)}}",
                   "orient": "horizontal",
                   "type": "range"
                  },
                  "className": "slider slider is-fullwidth",
                  "max": 200,
                  "min": 1,
                  "step": 1,
                  "style": {}
                 },
                 "type": "node"
                }
               ],
               "instanceArgs": {
                "namespace": "html",
                "tag": "div"
               },
               "nodeType": "DOM",
               "props": {
                "className": "interact-flex-row-center"
               },
               "type": "node"
              },
              {
               "children": [
                {
                 "children": [],
                 "instanceArgs": {
                  "namespace": "html",
                  "tag": "p"
                 },
                 "nodeType": "DOM",
                 "props": {
                  "attributes": {
                   "data-bind": "text: formatted_val"
                  }
                 },
                 "type": "node"
                }
               ],
               "instanceArgs": {
                "namespace": "html",
                "tag": "div"
               },
               "nodeType": "DOM",
               "props": {
                "className": "interact-flex-row-right"
               },
               "type": "node"
              }
             ],
             "instanceArgs": {
              "namespace": "html",
              "tag": "div"
             },
             "nodeType": "DOM",
             "props": {
              "className": "interact-flex-row interact-widget"
             },
             "type": "node"
            }
           ],
           "instanceArgs": {
            "handlers": {
             "changes": [
              "(function (val){return (val!=this.model[\"changes\"]()) ? (this.valueFromJulia[\"changes\"]=true, this.model[\"changes\"](val)) : undefined})"
             ],
             "index": [
              "(function (val){return (val!=this.model[\"index\"]()) ? (this.valueFromJulia[\"index\"]=true, this.model[\"index\"](val)) : undefined})"
             ]
            },
            "id": "15263484446839438238",
            "imports": {
             "data": [
              {
               "name": "knockout",
               "type": "js",
               "url": "/assetserver/2712bb0a7395d062608c2f218a74b700f6c76b99-knockout.js"
              },
              {
               "name": "knockout_punches",
               "type": "js",
               "url": "/assetserver/fb4445501a2be4ab82176667f844e40da26fa007-knockout_punches.js"
              },
              {
               "name": null,
               "type": "js",
               "url": "/assetserver/a8ea7d9192d5fa85c6fac26c72d7fece1e500138-all.js"
              },
              {
               "name": null,
               "type": "css",
               "url": "/assetserver/620a53798cfdb29a4a2142ce0588e9aadc351d94-style.css"
              },
              {
               "name": null,
               "type": "css",
               "url": "/assetserver/9f2f17f677abbfd015a7c6b0c0f09a2da809bee2-bulma_confined.min.css"
              }
             ],
             "type": "async_block"
            },
            "mount_callbacks": [
             "function () {\n    var handler = (function (ko, koPunches) {\n    ko.punches.enableAll();\n    ko.bindingHandlers.numericValue = {\n        init: function(element, valueAccessor, allBindings, data, context) {\n            var stringified = ko.observable(ko.unwrap(valueAccessor()));\n            stringified.subscribe(function(value) {\n                var val = parseFloat(value);\n                if (!isNaN(val)) {\n                    valueAccessor()(val);\n                }\n            });\n            valueAccessor().subscribe(function(value) {\n                var str = JSON.stringify(value);\n                if ((str == \"0\") && ([\"-0\", \"-0.\"].indexOf(stringified()) >= 0))\n                     return;\n                 if ([\"null\", \"\"].indexOf(str) >= 0)\n                     return;\n                stringified(str);\n            });\n            ko.applyBindingsToNode(\n                element,\n                {\n                    value: stringified,\n                    valueUpdate: allBindings.get('valueUpdate'),\n                },\n                context,\n            );\n        }\n    };\n    var json_data = {\"formatted_vals\":[\"0.01\",\"0.02\",\"0.03\",\"0.04\",\"0.05\",\"0.06\",\"0.07\",\"0.08\",\"0.09\",\"0.1\",\"0.11\",\"0.12\",\"0.13\",\"0.14\",\"0.15\",\"0.16\",\"0.17\",\"0.18\",\"0.19\",\"0.2\",\"0.21\",\"0.22\",\"0.23\",\"0.24\",\"0.25\",\"0.26\",\"0.27\",\"0.28\",\"0.29\",\"0.3\",\"0.31\",\"0.32\",\"0.33\",\"0.34\",\"0.35\",\"0.36\",\"0.37\",\"0.38\",\"0.39\",\"0.4\",\"0.41\",\"0.42\",\"0.43\",\"0.44\",\"0.45\",\"0.46\",\"0.47\",\"0.48\",\"0.49\",\"0.5\",\"0.51\",\"0.52\",\"0.53\",\"0.54\",\"0.55\",\"0.56\",\"0.57\",\"0.58\",\"0.59\",\"0.6\",\"0.61\",\"0.62\",\"0.63\",\"0.64\",\"0.65\",\"0.66\",\"0.67\",\"0.68\",\"0.69\",\"0.7\",\"0.71\",\"0.72\",\"0.73\",\"0.74\",\"0.75\",\"0.76\",\"0.77\",\"0.78\",\"0.79\",\"0.8\",\"0.81\",\"0.82\",\"0.83\",\"0.84\",\"0.85\",\"0.86\",\"0.87\",\"0.88\",\"0.89\",\"0.9\",\"0.91\",\"0.92\",\"0.93\",\"0.94\",\"0.95\",\"0.96\",\"0.97\",\"0.98\",\"0.99\",\"1.0\",\"1.01\",\"1.02\",\"1.03\",\"1.04\",\"1.05\",\"1.06\",\"1.07\",\"1.08\",\"1.09\",\"1.1\",\"1.11\",\"1.12\",\"1.13\",\"1.14\",\"1.15\",\"1.16\",\"1.17\",\"1.18\",\"1.19\",\"1.2\",\"1.21\",\"1.22\",\"1.23\",\"1.24\",\"1.25\",\"1.26\",\"1.27\",\"1.28\",\"1.29\",\"1.3\",\"1.31\",\"1.32\",\"1.33\",\"1.34\",\"1.35\",\"1.36\",\"1.37\",\"1.38\",\"1.39\",\"1.4\",\"1.41\",\"1.42\",\"1.43\",\"1.44\",\"1.45\",\"1.46\",\"1.47\",\"1.48\",\"1.49\",\"1.5\",\"1.51\",\"1.52\",\"1.53\",\"1.54\",\"1.55\",\"1.56\",\"1.57\",\"1.58\",\"1.59\",\"1.6\",\"1.61\",\"1.62\",\"1.63\",\"1.64\",\"1.65\",\"1.66\",\"1.67\",\"1.68\",\"1.69\",\"1.7\",\"1.71\",\"1.72\",\"1.73\",\"1.74\",\"1.75\",\"1.76\",\"1.77\",\"1.78\",\"1.79\",\"1.8\",\"1.81\",\"1.82\",\"1.83\",\"1.84\",\"1.85\",\"1.86\",\"1.87\",\"1.88\",\"1.89\",\"1.9\",\"1.91\",\"1.92\",\"1.93\",\"1.94\",\"1.95\",\"1.96\",\"1.97\",\"1.98\",\"1.99\",\"2.0\"],\"changes\":WebIO.getval({\"name\":\"changes\",\"scope\":\"15263484446839438238\",\"id\":\"977371251064677005\",\"type\":\"observable\"}),\"index\":WebIO.getval({\"name\":\"index\",\"scope\":\"15263484446839438238\",\"id\":\"7896885286963100629\",\"type\":\"observable\"})};\n    var self = this;\n    function AppViewModel() {\n        for (var key in json_data) {\n            var el = json_data[key];\n            this[key] = Array.isArray(el) ? ko.observableArray(el) : ko.observable(el);\n        }\n        \n        [this[\"formatted_val\"]=ko.computed(    function(){\n        return this.formatted_vals()[parseInt(this.index())-(1)];\n    }\n,this)]\n        [this[\"changes\"].subscribe((function (val){!(this.valueFromJulia[\"changes\"]) ? (WebIO.setval({\"name\":\"changes\",\"scope\":\"15263484446839438238\",\"id\":\"977371251064677005\",\"type\":\"observable\"},val)) : undefined; return this.valueFromJulia[\"changes\"]=false}),self),this[\"index\"].subscribe((function (val){!(this.valueFromJulia[\"index\"]) ? (WebIO.setval({\"name\":\"index\",\"scope\":\"15263484446839438238\",\"id\":\"7896885286963100629\",\"type\":\"observable\"},val)) : undefined; return this.valueFromJulia[\"index\"]=false}),self)]\n        \n    }\n    self.model = new AppViewModel();\n    self.valueFromJulia = {};\n    for (var key in json_data) {\n        self.valueFromJulia[key] = false;\n    }\n    ko.applyBindings(self.model, self.dom);\n}\n);\n    (WebIO.importBlock({\"data\":[{\"name\":\"knockout\",\"type\":\"js\",\"url\":\"/assetserver/2712bb0a7395d062608c2f218a74b700f6c76b99-knockout.js\"},{\"name\":\"knockout_punches\",\"type\":\"js\",\"url\":\"/assetserver/fb4445501a2be4ab82176667f844e40da26fa007-knockout_punches.js\"}],\"type\":\"async_block\"})).then((imports) => handler.apply(this, imports));\n}\n"
            ],
            "observables": {
             "changes": {
              "id": "977371251064677005",
              "sync": false,
              "value": 0
             },
             "index": {
              "id": "7896885286963100629",
              "sync": true,
              "value": 100
             }
            },
            "systemjs_options": null
           },
           "nodeType": "Scope",
           "props": {},
           "type": "node"
          }
         ],
         "instanceArgs": {
          "namespace": "html",
          "tag": "div"
         },
         "nodeType": "DOM",
         "props": {
          "className": "field interact-widget"
         },
         "type": "node"
        },
        {
         "children": [
          {
           "children": [
            {
             "children": [
              {
               "children": [
                {
                 "children": [
                  "P"
                 ],
                 "instanceArgs": {
                  "namespace": "html",
                  "tag": "label"
                 },
                 "nodeType": "DOM",
                 "props": {
                  "className": "interact ",
                  "style": {
                   "padding": "5px 10px 0px 10px"
                  }
                 },
                 "type": "node"
                }
               ],
               "instanceArgs": {
                "namespace": "html",
                "tag": "div"
               },
               "nodeType": "DOM",
               "props": {
                "className": "interact-flex-row-left"
               },
               "type": "node"
              },
              {
               "children": [
                {
                 "children": [],
                 "instanceArgs": {
                  "namespace": "html",
                  "tag": "input"
                 },
                 "nodeType": "DOM",
                 "props": {
                  "attributes": {
                   "data-bind": "numericValue: index, valueUpdate: 'input', event: {change: function (){this.changes(this.changes()+1)}}",
                   "orient": "horizontal",
                   "type": "range"
                  },
                  "className": "slider slider is-fullwidth",
                  "max": 26,
                  "min": 1,
                  "step": 1,
                  "style": {}
                 },
                 "type": "node"
                }
               ],
               "instanceArgs": {
                "namespace": "html",
                "tag": "div"
               },
               "nodeType": "DOM",
               "props": {
                "className": "interact-flex-row-center"
               },
               "type": "node"
              },
              {
               "children": [
                {
                 "children": [],
                 "instanceArgs": {
                  "namespace": "html",
                  "tag": "p"
                 },
                 "nodeType": "DOM",
                 "props": {
                  "attributes": {
                   "data-bind": "text: formatted_val"
                  }
                 },
                 "type": "node"
                }
               ],
               "instanceArgs": {
                "namespace": "html",
                "tag": "div"
               },
               "nodeType": "DOM",
               "props": {
                "className": "interact-flex-row-right"
               },
               "type": "node"
              }
             ],
             "instanceArgs": {
              "namespace": "html",
              "tag": "div"
             },
             "nodeType": "DOM",
             "props": {
              "className": "interact-flex-row interact-widget"
             },
             "type": "node"
            }
           ],
           "instanceArgs": {
            "handlers": {
             "changes": [
              "(function (val){return (val!=this.model[\"changes\"]()) ? (this.valueFromJulia[\"changes\"]=true, this.model[\"changes\"](val)) : undefined})"
             ],
             "index": [
              "(function (val){return (val!=this.model[\"index\"]()) ? (this.valueFromJulia[\"index\"]=true, this.model[\"index\"](val)) : undefined})"
             ]
            },
            "id": "2188328306980486993",
            "imports": {
             "data": [
              {
               "name": "knockout",
               "type": "js",
               "url": "/assetserver/2712bb0a7395d062608c2f218a74b700f6c76b99-knockout.js"
              },
              {
               "name": "knockout_punches",
               "type": "js",
               "url": "/assetserver/fb4445501a2be4ab82176667f844e40da26fa007-knockout_punches.js"
              },
              {
               "name": null,
               "type": "js",
               "url": "/assetserver/a8ea7d9192d5fa85c6fac26c72d7fece1e500138-all.js"
              },
              {
               "name": null,
               "type": "css",
               "url": "/assetserver/620a53798cfdb29a4a2142ce0588e9aadc351d94-style.css"
              },
              {
               "name": null,
               "type": "css",
               "url": "/assetserver/9f2f17f677abbfd015a7c6b0c0f09a2da809bee2-bulma_confined.min.css"
              }
             ],
             "type": "async_block"
            },
            "mount_callbacks": [
             "function () {\n    var handler = (function (ko, koPunches) {\n    ko.punches.enableAll();\n    ko.bindingHandlers.numericValue = {\n        init: function(element, valueAccessor, allBindings, data, context) {\n            var stringified = ko.observable(ko.unwrap(valueAccessor()));\n            stringified.subscribe(function(value) {\n                var val = parseFloat(value);\n                if (!isNaN(val)) {\n                    valueAccessor()(val);\n                }\n            });\n            valueAccessor().subscribe(function(value) {\n                var str = JSON.stringify(value);\n                if ((str == \"0\") && ([\"-0\", \"-0.\"].indexOf(stringified()) >= 0))\n                     return;\n                 if ([\"null\", \"\"].indexOf(str) >= 0)\n                     return;\n                stringified(str);\n            });\n            ko.applyBindingsToNode(\n                element,\n                {\n                    value: stringified,\n                    valueUpdate: allBindings.get('valueUpdate'),\n                },\n                context,\n            );\n        }\n    };\n    var json_data = {\"formatted_vals\":[\"0.0\",\"0.02\",\"0.04\",\"0.06\",\"0.08\",\"0.1\",\"0.12\",\"0.14\",\"0.16\",\"0.18\",\"0.2\",\"0.22\",\"0.24\",\"0.26\",\"0.28\",\"0.3\",\"0.32\",\"0.34\",\"0.36\",\"0.38\",\"0.4\",\"0.42\",\"0.44\",\"0.46\",\"0.48\",\"0.5\"],\"changes\":WebIO.getval({\"name\":\"changes\",\"scope\":\"2188328306980486993\",\"id\":\"9250567687615503498\",\"type\":\"observable\"}),\"index\":WebIO.getval({\"name\":\"index\",\"scope\":\"2188328306980486993\",\"id\":\"5820984371860385257\",\"type\":\"observable\"})};\n    var self = this;\n    function AppViewModel() {\n        for (var key in json_data) {\n            var el = json_data[key];\n            this[key] = Array.isArray(el) ? ko.observableArray(el) : ko.observable(el);\n        }\n        \n        [this[\"formatted_val\"]=ko.computed(    function(){\n        return this.formatted_vals()[parseInt(this.index())-(1)];\n    }\n,this)]\n        [this[\"changes\"].subscribe((function (val){!(this.valueFromJulia[\"changes\"]) ? (WebIO.setval({\"name\":\"changes\",\"scope\":\"2188328306980486993\",\"id\":\"9250567687615503498\",\"type\":\"observable\"},val)) : undefined; return this.valueFromJulia[\"changes\"]=false}),self),this[\"index\"].subscribe((function (val){!(this.valueFromJulia[\"index\"]) ? (WebIO.setval({\"name\":\"index\",\"scope\":\"2188328306980486993\",\"id\":\"5820984371860385257\",\"type\":\"observable\"},val)) : undefined; return this.valueFromJulia[\"index\"]=false}),self)]\n        \n    }\n    self.model = new AppViewModel();\n    self.valueFromJulia = {};\n    for (var key in json_data) {\n        self.valueFromJulia[key] = false;\n    }\n    ko.applyBindings(self.model, self.dom);\n}\n);\n    (WebIO.importBlock({\"data\":[{\"name\":\"knockout\",\"type\":\"js\",\"url\":\"/assetserver/2712bb0a7395d062608c2f218a74b700f6c76b99-knockout.js\"},{\"name\":\"knockout_punches\",\"type\":\"js\",\"url\":\"/assetserver/fb4445501a2be4ab82176667f844e40da26fa007-knockout_punches.js\"}],\"type\":\"async_block\"})).then((imports) => handler.apply(this, imports));\n}\n"
            ],
            "observables": {
             "changes": {
              "id": "9250567687615503498",
              "sync": false,
              "value": 0
             },
             "index": {
              "id": "5820984371860385257",
              "sync": true,
              "value": 13
             }
            },
            "systemjs_options": null
           },
           "nodeType": "Scope",
           "props": {},
           "type": "node"
          }
         ],
         "instanceArgs": {
          "namespace": "html",
          "tag": "div"
         },
         "nodeType": "DOM",
         "props": {
          "className": "field interact-widget"
         },
         "type": "node"
        },
        {
         "children": [
          {
           "children": [
            {
             "children": [
              {
               "children": [
                {
                 "children": [
                  "x0"
                 ],
                 "instanceArgs": {
                  "namespace": "html",
                  "tag": "label"
                 },
                 "nodeType": "DOM",
                 "props": {
                  "className": "interact ",
                  "style": {
                   "padding": "5px 10px 0px 10px"
                  }
                 },
                 "type": "node"
                }
               ],
               "instanceArgs": {
                "namespace": "html",
                "tag": "div"
               },
               "nodeType": "DOM",
               "props": {
                "className": "interact-flex-row-left"
               },
               "type": "node"
              },
              {
               "children": [
                {
                 "children": [],
                 "instanceArgs": {
                  "namespace": "html",
                  "tag": "input"
                 },
                 "nodeType": "DOM",
                 "props": {
                  "attributes": {
                   "data-bind": "numericValue: index, valueUpdate: 'input', event: {change: function (){this.changes(this.changes()+1)}}",
                   "orient": "horizontal",
                   "type": "range"
                  },
                  "className": "slider slider is-fullwidth",
                  "max": 101,
                  "min": 1,
                  "step": 1,
                  "style": {}
                 },
                 "type": "node"
                }
               ],
               "instanceArgs": {
                "namespace": "html",
                "tag": "div"
               },
               "nodeType": "DOM",
               "props": {
                "className": "interact-flex-row-center"
               },
               "type": "node"
              },
              {
               "children": [
                {
                 "children": [],
                 "instanceArgs": {
                  "namespace": "html",
                  "tag": "p"
                 },
                 "nodeType": "DOM",
                 "props": {
                  "attributes": {
                   "data-bind": "text: formatted_val"
                  }
                 },
                 "type": "node"
                }
               ],
               "instanceArgs": {
                "namespace": "html",
                "tag": "div"
               },
               "nodeType": "DOM",
               "props": {
                "className": "interact-flex-row-right"
               },
               "type": "node"
              }
             ],
             "instanceArgs": {
              "namespace": "html",
              "tag": "div"
             },
             "nodeType": "DOM",
             "props": {
              "className": "interact-flex-row interact-widget"
             },
             "type": "node"
            }
           ],
           "instanceArgs": {
            "handlers": {
             "changes": [
              "(function (val){return (val!=this.model[\"changes\"]()) ? (this.valueFromJulia[\"changes\"]=true, this.model[\"changes\"](val)) : undefined})"
             ],
             "index": [
              "(function (val){return (val!=this.model[\"index\"]()) ? (this.valueFromJulia[\"index\"]=true, this.model[\"index\"](val)) : undefined})"
             ]
            },
            "id": "7713808898405925733",
            "imports": {
             "data": [
              {
               "name": "knockout",
               "type": "js",
               "url": "/assetserver/2712bb0a7395d062608c2f218a74b700f6c76b99-knockout.js"
              },
              {
               "name": "knockout_punches",
               "type": "js",
               "url": "/assetserver/fb4445501a2be4ab82176667f844e40da26fa007-knockout_punches.js"
              },
              {
               "name": null,
               "type": "js",
               "url": "/assetserver/a8ea7d9192d5fa85c6fac26c72d7fece1e500138-all.js"
              },
              {
               "name": null,
               "type": "css",
               "url": "/assetserver/620a53798cfdb29a4a2142ce0588e9aadc351d94-style.css"
              },
              {
               "name": null,
               "type": "css",
               "url": "/assetserver/9f2f17f677abbfd015a7c6b0c0f09a2da809bee2-bulma_confined.min.css"
              }
             ],
             "type": "async_block"
            },
            "mount_callbacks": [
             "function () {\n    var handler = (function (ko, koPunches) {\n    ko.punches.enableAll();\n    ko.bindingHandlers.numericValue = {\n        init: function(element, valueAccessor, allBindings, data, context) {\n            var stringified = ko.observable(ko.unwrap(valueAccessor()));\n            stringified.subscribe(function(value) {\n                var val = parseFloat(value);\n                if (!isNaN(val)) {\n                    valueAccessor()(val);\n                }\n            });\n            valueAccessor().subscribe(function(value) {\n                var str = JSON.stringify(value);\n                if ((str == \"0\") && ([\"-0\", \"-0.\"].indexOf(stringified()) >= 0))\n                     return;\n                 if ([\"null\", \"\"].indexOf(str) >= 0)\n                     return;\n                stringified(str);\n            });\n            ko.applyBindingsToNode(\n                element,\n                {\n                    value: stringified,\n                    valueUpdate: allBindings.get('valueUpdate'),\n                },\n                context,\n            );\n        }\n    };\n    var json_data = {\"formatted_vals\":[\"0.0\",\"0.02\",\"0.04\",\"0.06\",\"0.08\",\"0.1\",\"0.12\",\"0.14\",\"0.16\",\"0.18\",\"0.2\",\"0.22\",\"0.24\",\"0.26\",\"0.28\",\"0.3\",\"0.32\",\"0.34\",\"0.36\",\"0.38\",\"0.4\",\"0.42\",\"0.44\",\"0.46\",\"0.48\",\"0.5\",\"0.52\",\"0.54\",\"0.56\",\"0.58\",\"0.6\",\"0.62\",\"0.64\",\"0.66\",\"0.68\",\"0.7\",\"0.72\",\"0.74\",\"0.76\",\"0.78\",\"0.8\",\"0.82\",\"0.84\",\"0.86\",\"0.88\",\"0.9\",\"0.92\",\"0.94\",\"0.96\",\"0.98\",\"1.0\",\"1.02\",\"1.04\",\"1.06\",\"1.08\",\"1.1\",\"1.12\",\"1.14\",\"1.16\",\"1.18\",\"1.2\",\"1.22\",\"1.24\",\"1.26\",\"1.28\",\"1.3\",\"1.32\",\"1.34\",\"1.36\",\"1.38\",\"1.4\",\"1.42\",\"1.44\",\"1.46\",\"1.48\",\"1.5\",\"1.52\",\"1.54\",\"1.56\",\"1.58\",\"1.6\",\"1.62\",\"1.64\",\"1.66\",\"1.68\",\"1.7\",\"1.72\",\"1.74\",\"1.76\",\"1.78\",\"1.8\",\"1.82\",\"1.84\",\"1.86\",\"1.88\",\"1.9\",\"1.92\",\"1.94\",\"1.96\",\"1.98\",\"2.0\"],\"changes\":WebIO.getval({\"name\":\"changes\",\"scope\":\"7713808898405925733\",\"id\":\"14127690781064962583\",\"type\":\"observable\"}),\"index\":WebIO.getval({\"name\":\"index\",\"scope\":\"7713808898405925733\",\"id\":\"7209180949323006922\",\"type\":\"observable\"})};\n    var self = this;\n    function AppViewModel() {\n        for (var key in json_data) {\n            var el = json_data[key];\n            this[key] = Array.isArray(el) ? ko.observableArray(el) : ko.observable(el);\n        }\n        \n        [this[\"formatted_val\"]=ko.computed(    function(){\n        return this.formatted_vals()[parseInt(this.index())-(1)];\n    }\n,this)]\n        [this[\"changes\"].subscribe((function (val){!(this.valueFromJulia[\"changes\"]) ? (WebIO.setval({\"name\":\"changes\",\"scope\":\"7713808898405925733\",\"id\":\"14127690781064962583\",\"type\":\"observable\"},val)) : undefined; return this.valueFromJulia[\"changes\"]=false}),self),this[\"index\"].subscribe((function (val){!(this.valueFromJulia[\"index\"]) ? (WebIO.setval({\"name\":\"index\",\"scope\":\"7713808898405925733\",\"id\":\"7209180949323006922\",\"type\":\"observable\"},val)) : undefined; return this.valueFromJulia[\"index\"]=false}),self)]\n        \n    }\n    self.model = new AppViewModel();\n    self.valueFromJulia = {};\n    for (var key in json_data) {\n        self.valueFromJulia[key] = false;\n    }\n    ko.applyBindings(self.model, self.dom);\n}\n);\n    (WebIO.importBlock({\"data\":[{\"name\":\"knockout\",\"type\":\"js\",\"url\":\"/assetserver/2712bb0a7395d062608c2f218a74b700f6c76b99-knockout.js\"},{\"name\":\"knockout_punches\",\"type\":\"js\",\"url\":\"/assetserver/fb4445501a2be4ab82176667f844e40da26fa007-knockout_punches.js\"}],\"type\":\"async_block\"})).then((imports) => handler.apply(this, imports));\n}\n"
            ],
            "observables": {
             "changes": {
              "id": "14127690781064962583",
              "sync": false,
              "value": 0
             },
             "index": {
              "id": "7209180949323006922",
              "sync": true,
              "value": 51
             }
            },
            "systemjs_options": null
           },
           "nodeType": "Scope",
           "props": {},
           "type": "node"
          }
         ],
         "instanceArgs": {
          "namespace": "html",
          "tag": "div"
         },
         "nodeType": "DOM",
         "props": {
          "className": "field interact-widget"
         },
         "type": "node"
        },
        {
         "children": [
          {
           "children": [
            {
             "children": [
              {
               "children": [
                {
                 "children": [
                  "tmax"
                 ],
                 "instanceArgs": {
                  "namespace": "html",
                  "tag": "label"
                 },
                 "nodeType": "DOM",
                 "props": {
                  "className": "interact ",
                  "style": {
                   "padding": "5px 10px 0px 10px"
                  }
                 },
                 "type": "node"
                }
               ],
               "instanceArgs": {
                "namespace": "html",
                "tag": "div"
               },
               "nodeType": "DOM",
               "props": {
                "className": "interact-flex-row-left"
               },
               "type": "node"
              },
              {
               "children": [
                {
                 "children": [],
                 "instanceArgs": {
                  "namespace": "html",
                  "tag": "input"
                 },
                 "nodeType": "DOM",
                 "props": {
                  "attributes": {
                   "data-bind": "numericValue: index, valueUpdate: 'input', event: {change: function (){this.changes(this.changes()+1)}}",
                   "orient": "horizontal",
                   "type": "range"
                  },
                  "className": "slider slider is-fullwidth",
                  "max": 40,
                  "min": 1,
                  "step": 1,
                  "style": {}
                 },
                 "type": "node"
                }
               ],
               "instanceArgs": {
                "namespace": "html",
                "tag": "div"
               },
               "nodeType": "DOM",
               "props": {
                "className": "interact-flex-row-center"
               },
               "type": "node"
              },
              {
               "children": [
                {
                 "children": [],
                 "instanceArgs": {
                  "namespace": "html",
                  "tag": "p"
                 },
                 "nodeType": "DOM",
                 "props": {
                  "attributes": {
                   "data-bind": "text: formatted_val"
                  }
                 },
                 "type": "node"
                }
               ],
               "instanceArgs": {
                "namespace": "html",
                "tag": "div"
               },
               "nodeType": "DOM",
               "props": {
                "className": "interact-flex-row-right"
               },
               "type": "node"
              }
             ],
             "instanceArgs": {
              "namespace": "html",
              "tag": "div"
             },
             "nodeType": "DOM",
             "props": {
              "className": "interact-flex-row interact-widget"
             },
             "type": "node"
            }
           ],
           "instanceArgs": {
            "handlers": {
             "changes": [
              "(function (val){return (val!=this.model[\"changes\"]()) ? (this.valueFromJulia[\"changes\"]=true, this.model[\"changes\"](val)) : undefined})"
             ],
             "index": [
              "(function (val){return (val!=this.model[\"index\"]()) ? (this.valueFromJulia[\"index\"]=true, this.model[\"index\"](val)) : undefined})"
             ]
            },
            "id": "6640753087554850595",
            "imports": {
             "data": [
              {
               "name": "knockout",
               "type": "js",
               "url": "/assetserver/2712bb0a7395d062608c2f218a74b700f6c76b99-knockout.js"
              },
              {
               "name": "knockout_punches",
               "type": "js",
               "url": "/assetserver/fb4445501a2be4ab82176667f844e40da26fa007-knockout_punches.js"
              },
              {
               "name": null,
               "type": "js",
               "url": "/assetserver/a8ea7d9192d5fa85c6fac26c72d7fece1e500138-all.js"
              },
              {
               "name": null,
               "type": "css",
               "url": "/assetserver/620a53798cfdb29a4a2142ce0588e9aadc351d94-style.css"
              },
              {
               "name": null,
               "type": "css",
               "url": "/assetserver/9f2f17f677abbfd015a7c6b0c0f09a2da809bee2-bulma_confined.min.css"
              }
             ],
             "type": "async_block"
            },
            "mount_callbacks": [
             "function () {\n    var handler = (function (ko, koPunches) {\n    ko.punches.enableAll();\n    ko.bindingHandlers.numericValue = {\n        init: function(element, valueAccessor, allBindings, data, context) {\n            var stringified = ko.observable(ko.unwrap(valueAccessor()));\n            stringified.subscribe(function(value) {\n                var val = parseFloat(value);\n                if (!isNaN(val)) {\n                    valueAccessor()(val);\n                }\n            });\n            valueAccessor().subscribe(function(value) {\n                var str = JSON.stringify(value);\n                if ((str == \"0\") && ([\"-0\", \"-0.\"].indexOf(stringified()) >= 0))\n                     return;\n                 if ([\"null\", \"\"].indexOf(str) >= 0)\n                     return;\n                stringified(str);\n            });\n            ko.applyBindingsToNode(\n                element,\n                {\n                    value: stringified,\n                    valueUpdate: allBindings.get('valueUpdate'),\n                },\n                context,\n            );\n        }\n    };\n    var json_data = {\"formatted_vals\":[\"1.0\",\"6.0\",\"11.0\",\"16.0\",\"21.0\",\"26.0\",\"31.0\",\"36.0\",\"41.0\",\"46.0\",\"51.0\",\"56.0\",\"61.0\",\"66.0\",\"71.0\",\"76.0\",\"81.0\",\"86.0\",\"91.0\",\"96.0\",\"101.0\",\"106.0\",\"111.0\",\"116.0\",\"121.0\",\"126.0\",\"131.0\",\"136.0\",\"141.0\",\"146.0\",\"151.0\",\"156.0\",\"161.0\",\"166.0\",\"171.0\",\"176.0\",\"181.0\",\"186.0\",\"191.0\",\"196.0\"],\"changes\":WebIO.getval({\"name\":\"changes\",\"scope\":\"6640753087554850595\",\"id\":\"10372493369389256959\",\"type\":\"observable\"}),\"index\":WebIO.getval({\"name\":\"index\",\"scope\":\"6640753087554850595\",\"id\":\"12183409907605560857\",\"type\":\"observable\"})};\n    var self = this;\n    function AppViewModel() {\n        for (var key in json_data) {\n            var el = json_data[key];\n            this[key] = Array.isArray(el) ? ko.observableArray(el) : ko.observable(el);\n        }\n        \n        [this[\"formatted_val\"]=ko.computed(    function(){\n        return this.formatted_vals()[parseInt(this.index())-(1)];\n    }\n,this)]\n        [this[\"changes\"].subscribe((function (val){!(this.valueFromJulia[\"changes\"]) ? (WebIO.setval({\"name\":\"changes\",\"scope\":\"6640753087554850595\",\"id\":\"10372493369389256959\",\"type\":\"observable\"},val)) : undefined; return this.valueFromJulia[\"changes\"]=false}),self),this[\"index\"].subscribe((function (val){!(this.valueFromJulia[\"index\"]) ? (WebIO.setval({\"name\":\"index\",\"scope\":\"6640753087554850595\",\"id\":\"12183409907605560857\",\"type\":\"observable\"},val)) : undefined; return this.valueFromJulia[\"index\"]=false}),self)]\n        \n    }\n    self.model = new AppViewModel();\n    self.valueFromJulia = {};\n    for (var key in json_data) {\n        self.valueFromJulia[key] = false;\n    }\n    ko.applyBindings(self.model, self.dom);\n}\n);\n    (WebIO.importBlock({\"data\":[{\"name\":\"knockout\",\"type\":\"js\",\"url\":\"/assetserver/2712bb0a7395d062608c2f218a74b700f6c76b99-knockout.js\"},{\"name\":\"knockout_punches\",\"type\":\"js\",\"url\":\"/assetserver/fb4445501a2be4ab82176667f844e40da26fa007-knockout_punches.js\"}],\"type\":\"async_block\"})).then((imports) => handler.apply(this, imports));\n}\n"
            ],
            "observables": {
             "changes": {
              "id": "10372493369389256959",
              "sync": false,
              "value": 0
             },
             "index": {
              "id": "12183409907605560857",
              "sync": true,
              "value": 20
             }
            },
            "systemjs_options": null
           },
           "nodeType": "Scope",
           "props": {},
           "type": "node"
          }
         ],
         "instanceArgs": {
          "namespace": "html",
          "tag": "div"
         },
         "nodeType": "DOM",
         "props": {
          "className": "field interact-widget"
         },
         "type": "node"
        },
        {
         "children": [
          {
           "children": [],
           "instanceArgs": {
            "id": "879979378946173667",
            "name": "obs-node"
           },
           "nodeType": "ObservableNode",
           "props": {},
           "type": "node"
          }
         ],
         "instanceArgs": {
          "handlers": {},
          "id": "5876110803664567249",
          "imports": {
           "data": [],
           "type": "async_block"
          },
          "mount_callbacks": [],
          "observables": {
           "obs-node": {
            "id": "879979378946173667",
            "sync": false,
            "value": {
             "children": [
              {
               "children": [],
               "instanceArgs": {
                "namespace": "html",
                "tag": "div"
               },
               "nodeType": "DOM",
               "props": {
                "setInnerHtml": "<img src=\"data:image/png;base64,iVBORw0KGgoAAAANSUhEUgAAA4QAAAEsCAIAAAAU/OrGAAAABmJLR0QA/wD/AP+gvaeTAAAgAElEQVR4nOzdZ1wU1xoG8HdmdhdYOkhVEEFBESsgdkWwxd41auyiJleNJTEaExNjjC3RaBJL1OjVGEs0sUdUrBALKvZeQEUB6W3ZnZn7YXO5Xmyouztbnv8HfzvLOPvuDMw+e86ZM4woigQAAAAAIAVW6gIAAAAAwHIhjAIAAACAZBBGAQAAAEAyCKMAAAAAIBmEUQAAAACQDMIoAAAAAEhGJnUBAADwP4WFhSdOnEhMTMzPz58xY8Zz1zl79mxiYuKtW7dGjhxZpUoVwxYIAKBjDOYZBQAwHnv37v3kk0+8vLwSEhKysrKeu05AQEC9evX27NmzZ8+e5s2bG7hCAADdQhgFADA6CQkJ77zzzovCqJaHh8fmzZsRRgHA1GHMKAAAAABIxiTHjKpUqhs3boSEhLxkHUEQWBZRW79EURRFEftZ37CfDcPs9/Pq1av/+OMPjuO0iyNGjGjWrJm0JemP2R/NMnieLz2yZg8H17QolcpXHiyTDKMpKSndunW7cePGi1YQBKG4uFipVBqyKgskCIJKpcJ+1jdBEEpKSmxsbKQuxMzxPK9Wq814P8+cOXPs2LHe3t7axaCgIDP+4+V53qLOTnl5eZbzZnmet6hToqkf3PJ8bTDJMAoAAK9LJpO1b98+KChI6kIMQdtyZjmNZxb1ZnFwzY+Zvz0AAPOwf//+l3QHAQCYLoRRAAAjkpKSEhAQ0LNnz9zc3ICAgDZt2mif/+STT/bu3at9/M477wQEBDx58qRfv34BAQG3b9+Wrl4AgLeFbnoAACPi6ekZGxtbuiiXy7UP/vzzTzs7O+3j5cuXl5SUlK7j4+NjyAoBAHQLYRQAwIjI5XJ/f/9nny+98IiIKlWqZMCKAAD0C2EUJFYiUFqR+LiIslSUUyLmqEkjkFqgfDUREcOQk4KISCkjRwU5KhhnBbnbMB6WchklAACAmTNEGC0oKLC1tX3JCsXFxXK53KSn0YLyyFTR+UzxWo54K1e8mUu3c8XUIjFLRR42jIcNOSnIUcE4KkjOkpwlOzkRkSjSrVwiogIN5ZSIOSWUXUKPi8RsFbnbML52FGDPBDgwVR0o2JkJdmKs8EskqZSUlLS0NKmreBP+/v729vZSVwEAFufWrVvZ2dkvWaGwsNA4p3ZydXX18/PTyab0G0bPnTvXr1+/tLQ0pVK5evXq6OjoMivk5+cPHDgwLi5OFMUPP/xwxowZeq0HDCxLRX+niSfShZPp4oVMylOLtVyY6o5MVQemQQAFOLDeyjds4ywR6HGReDePbuWKt/LEnSk057xwM1f0t2fquDAR7kyEG1O/AiPHFXqG1aZNG5lMZmVlJXUhryc7Ozs0NHT9+vVSFwIAFqdu3brVqlV7yeRNoigyDGPIkspDFMVr167l5+frZGv6DaPvvffeiBEjJkyY8Mcff/Tr1y8lJcXa2vrpFebMmZOfn5+Wlpaenh4eHt6iRYvIyEi9lgT69kRFhx4KB1PFuIfigwIxzI1p5M6Mqs7WdmH87HX256RgyceW8bGlZp7/22aJQFeyxXNPxBNp4urrwo0cMbQC08qbbeXNRLgzChMMphqN5utvZx88eYgX+CCfwHkz5jg7O0td1MtoNJodO3ZUrVpV6kJez9atW5FEAUASGo0mPj6+TDoyfiqVytHRUVdb02MYPXv27N27d99//30i6tq165QpU3bv3t29e/en11mzZs2yZcsUCkXFihUHDhy4Zs0ahFFTJBKdzRB3pYg7koXrOWJTD6aVNzs8kq3twnAG/DqnYKmOC1PHhRlUjYioQEPHHokHHwoTTwjXssVIb7ajL9PBh/Uyxu6O53t/8genlZftujmxRBfT7nQd1P3A1liZDEO9AQDAfOjxU+3mzZv+/v6lHXY1atS4efPm0yuUlJTcv38/ODi4dIX4+PhyblwQhKysrNJFJycnI2zENnsi0YkMZvtD/vc7orWMOvky34RzzTyNpXPcVkZtKzFtK3FElKmivfeFHcnixyfV1RyZ3lXYXpVUFa14qWt8GZVKdep2on1vL+2ilbtNjm96wt8JzZqa7f3EAQDAAukxjObk5Dx93ZK9vf3T8ZGIsrOzRVEsHZZrZ2eXmZlZzo1nZGQ8PfvJ2bNnXV1dSxe190zneaOOGibtWi6z/g63JZmz5ZgelUu2NueDHETtj4oLqFja4p5HTtTJnTq5k6Y+HU3ntiaztTZMLlQ/krOigiXj/B6TnF0gygv/7ykX7uyFc3Xr1JWoolcTRVHqEt6QRqPJy8tTq9UajeZF6zAMUzrTJwAA6Ioew2iFChVyc3NLF7OysurVq/f0Cq6urhzH5ebmurm5aVfw8PAo58bd3d1fcmc8QRDkcrlxXn1m0vLU9Ost4ZfrQnI+DazG7G5LATYak9vPnR2pc1VSt1yy/4G45obw132hnQ87JJBtXdG4Wtc9eZ7p0ujpZ5iHmqZdmxjzRd+m20Ehk8ns7e3VarWNDaYNAwAwKD32pwYHB9+4cSMvL4+IRFE8d+5caY+8FsdxgYGBZ86c0S6ePXu2Ro0a+qsH3sblbPGDeN7vN/X+B+L0elxyP9k34Vywk9RlvQU5S+19mN9acbf7yJt5MJ+c4oM2a767KGSXvPr/GgbHcX1a98w5kCbyAolUcDHbX+1Tv359qesCAADQJT2G0cDAwMaNG0+ZMuXhw4fffPONlZWVdmqnPXv2DB8+XLtOTEzMV199dfPmzUOHDm3YsGHEiBH6qwfegEi0974YvVvTejdfwZou9JBtjuLe8THoZUn65mxFY4LZxK6ytS24Mxmi/0b1mOP8zVyj6G7+eNxHs/vOqHDA2m6XOLhKn82rN0pdEQAAgI7p97LcdevWjR8/vlmzZoGBgTt37iyd1r50Pq0PPvggIyOjU6dOSqVy6dKldesa72A4S6MWaMMtYf4FgWNocm22VxXWSC5L0p+G7kxDdy6tiPvhMt9kh6aZJzu5FhvhLnHubt+mXZuo1iUlJeg+LuPatWsJCQne3t5t2rQhovXr1/fu3bv0Tu5lbNy4sUuXLiY3eQoAgL6lpqaeP3++bdu2ZZ6Pj4+vUKFCYGCgAWrQb77w9vbetGnTrVu39uzZU716de2T7du3X758ufYxx3EzZ868cuVKYmJinz599FoMlFOJQMuvCoGbNetuCgsiuLPdZO8GmH8SLeVuQ1+Ecnf6yCO9mH5xfOs9mmOPjKKVFJ52+fLl5s2b37lzp6CggIh27Nixbdu2FyVR7foLFy40YIEAAKZh8uTJ2it8kpOTe/fuXfq8TCYr7cfWN4uJGFAOaoGWXRUCN2m23RV+jeT2tZe1rmhG/fGvQymj94PZa71kff3ZQYf56N2a448RSY3I8ePHIyMjv/jii27duhHR119/PXbs2JesP2bMmEWLFhUXG+FMDwAAkrlz587hw4e1c8AXFBQcOXKk9EcNGjQoLi4+duyYAcpAGAUiIpFo420heItm6x3ht1bcnnayRlJ3TxsDOUvDgtirvWT9q7L94/jO+/iLWYik0vv1119nzpwZGxsbFha2bdu2Gzdu3Lx5s2nTpkSUnp4eFhaWmJhIRJmZmeHh4QkJCUTk4eERGBi4d+9eiUsHAJDCkydPwsPD//77byLKzs6OiIg4evQoEa1fv75Tp07aUZRDhgzJzMwMCwsLCwtLS0sjoh49eqxZs8YA5eFWLkBxqeLkEzxDtLQpF+WNDFqWnKUhgey7AexPV4To3Zr2PuzMULaSLXbUK5QIdCFTZ9k9wIFxUvzz+N13333y5MmJEyfWrVtHRKtWrapfv752JLqbm9uUKVP69OmTmJg4dOjQZs2aNWr0z/RYYWFhR48e7dq1q65KAgDQrXw1XcvR2WmzhhOj/G/Kc3V1/fzzz/v06XPmzJmRI0c2aNCgWbNmRHTs2LHSQZKrV6+OjIw8ffp06RbCw8N/+eUXXdXzEgijFu12njj5hHDuiTg7nO3lzyJevYQVR+ND2KFB7Nwkvt42zdia3KRarA3+gF4sU0Uxx3R244l5EVyk1/N/Qx88eODp6Vm62LNnz7i4uPr167u6um7atKn0eU9Pz1OnTumqHgAAnbuVJ+rwtPnvllwNp/+dNjt27Lh///4GDRo4Ojr++uuv2ifv37//kinePT09U1JSdFXPS+Cz1EIVaOirs/zP14QJtbj1kZw1J3VBJsJBTl+FccOD2I9OCjW2aOZFsL2qYKzL83na0OmuhjjDyGSyMrdNatOmzY8//jhy5EiFQlH6pFqtLr07MQCAEarjwuj1tNmmTZtFixbNnDmz9GQol8tfcts5tVr99FlUf/A5aon+vCfU3KJ5UEBJ3WWf1GGRRF+Xnz2zKYpb25L76qzQbq/mlnFMSmqxAgICkpOTSxcfPnw4atSo5cuXz58/PykpqfT5lJSUp+8hDABgUR4/fjxixIhly5Z9//332oH19P/nT5lMVuY+6snJyQEBAQaoDWHUstzLF7vE8p+cEn5pwa1tyXkr0TP/5pp7MoldZa0rsg23a2aeFVQ661qB19OiRYvz589rr5QXBOG9994bPXr0iBEjlixZ0qtXL+1N4IgoPj4+KipK0koBAKQhCMLAgQOHDRs2cuTIH374oU+fPjk5OUQUFRUVHx+vXadSpUpqtXrZsmX79+9XqVRkwNMmwqilEERaclkI/0MT4cac6y5r+YLhd/BaZCxNrMWe6SY7kyHW36Y5kYYmUgMJCQmJjIzUPvbw8IiKitq+fTsRnTp1Kjw8fNq0aUTUp0+f4cOHa68YvXTpUklJiXbAPgCApTl79my9evU+++wzIurVq9fo0aMPHz5MRP369Tt48KB2wmYbG5s9e/bcunVr8+bNRUVFoihu3rx56NChBigPY0Ytwu08cfgRXiXQkY6y6k6IoTrmY8tsa83tSBZ6HuDf8WG+bcjZ4g9LzyIjI0vDKBF99dVXQ4cO7dWrV0REREREROnzH330kfbB/Pnzv/zyS4bBLz8AWKLQ0NDQ0NDSxYkTJ2ofODk5xcTE/PTTT5MmTSKiRo0alc5Asnnz5qZNmxrmDkz4zDRzItH3F4VZ5/hP63EfBLO4YF5/OvmyjdzZcQl8vW2atS24hpio1YCCg4M3b94sCELpPYfLmDFjhq+vr4GrAgAwftOmTXvy5Mmzz7ds2fKdd94xTA0Io+YspUAccpgv5unvLjJ/e2QjvatgTesjuW13he77NcOD2On1OMu5jarkfHx8XvLTypUrG6wSAAATolAovLy8nn3ezc3NYDXgo9JsbbglhP2hiarIHu6IJGpQ3fzYM93kZzLExts1V7MxihQAAOBl0DJqhvLV9EE8fzJd3NtOVs8VMVQCnja0o61s+VWh+U7NnAbckEB86wMAAHg+fEaam0tZYqPtGkGkU12RRKXEEMVUZ490lC26KPQ6wGeXSF0QAACAUUIYNStLrwitdms+qcuubYkLuo1CdScmobPM1Yoa/Kk59wRd9rpRWFjYoEGDjRs3ElFxcXHDhg3Xr18vdVEAAPCGEFjMRKGGRh3jz2eKxzvJqjqgQdSI2MhoaVNu022h7V7NnHBusMV02YvqkpI7l3S1Nbl3FdbOSftYqVT+/PPP0dHRdevW/e6773x9ffv376+rFwIAMLCDBw8a5q6bOqRWq3W4NYRRc3AzV+yxn6/twsR3lilxSI1Sb3+2rivTYz9/8KG4rClnYwGHSVQV5u7fpKutObYfoPhvGCWi2rVrf/bZZ9HR0VZWVmfOnNHVqwAAGNj06dO/++67l6zA8/yLJq2TVvfu3XW1KQv4SDR3u1LEoUc0X4ZyMdUtpcnNRAU6MgmdZcOO8i12abZGc5VszbwBm7VzchszW3/bb9So0cOHD4cMGeLg4KC/V5HK/fv3raysXjK1yvnz53Nzc8PCwqytrQ1ZGADo1tSpU6dOnfqSFfLy8uzt7Q1WjyQQX0yYSPRNkjDqGP9naxmSqEmwk9PGVlyvKmzD7Xz8YwwhfXP5+fn9+/dfvHjxwYMHt23bJnU5ujR37lxXV9fKlStPnjz5uSvwPN+tW7cePXpMnz49MDDw1q1bBq4QAEC3kGBMVTFPgw/zm24LxzvhZj8mZnJtdmUzrvt+zcprgtS1mKpRo0ZFRkaOGTNm48aNo0aNunPnjtQV6Uy7du1OnjxZeiPTZ+3cufPixYvnzp2Li4vr3r37jBkzDFgdAIDuIYyapIeFYtMdGiKK7yzztUMSNT1tKzFHOsrmXxA+/Jvn0UL6mu7du1elSpVvv/2WiMLDwxcvXnz69Gmpi9KZ2rVrBwQEMMwL/663bNnSq1cvW1tbIho0aNDvv/8uivgdAgAThjGjpudCpthpHz84kJlR3xhHNEM5BToyJ7vI+h7UdPxLszFK5iCXuiDTUbly5ZkzZ5Yu9u7dW8JiDC8lJaVp06bax35+fkVFRRkZGeW5cZ9Go9mzZ09SUpJ2MSwszM/PT391Skv4L6kLMRALfLOW9n6lruLNseyr2z0RRk3MvgfiwEOahQ25fgFo1TZ59nL6s7Vs3N98sx2anW05H3O/pAl0oqioqHQWGCsrK+0z5fmPj7p89/uRrW50RLtob2/v7u6upyIlx/O8SqWSugrDKSoqMs4LrvWB5/mSkhLL6RAw9YOrVCpfmUcRRk3J0ivCzLPC9tayCAwSNRcyln5ozM09LzTdwe9qy4U4W9CRFUXx6tWrDx48cHZ2rl27tlyOxuFy8fLyyszM1D5OT09nGMbDw6M8/1F0rTx+wBc9Qv30WJzR4HleLpcrlUqpCzEQURTt7OykrsJAtGHUxsZG6kIMxBIOLlrXTININD2RX3hRONaJQxI1Px/VZuc1YKN3aw6nWsp3/ZWrVnr5erfqEjXis1Gd3+tWwdNt2mfT3n4WZZ7nT5w4cfLkSZ7ndVKnEYqIiDh8+LD28dGjR+vVq6dtH30lRl1YxOOcDwBGBy2jJoAXacxx/twT8WgnmRumFDRTvf1Zdxum90HNooZcX3MfgzFh8oRfd/7mM7aG0vufr/slOap1v/0W/3dC7O59Mtkbnpeys7NbtWrFsqwoigzDHDhwwNHRUXdVG8jp06cPHDiQkJCQm5s7Z86ciIiIli1bPnr0qGrVqleuXPHx8Rk6dOj8+fO//PLLwMDAjz/+eN68eeXcMqsuKuTxVRYAjI6Zf+aZgUINddmneVgoxnVAEjVzLb2Y2Payj04KSy6b8Fj1Vzp+/PjaTf+uOqluaRIlIoWjld/Imjdz7iz58Yc33vIPP/zg7u5+6tSpU6dOubi4/PTTT7qo19CKi4uzsrIiIiJat26dlZWlHQ9qa2s7btw47cTXHh4ex44de/z48a5duxYvXvzuu++Wc8tMSVGRgDAKAEYHLaNGLaeEOu7TBNgzPzfjZPjiYAFquzBHO3Ft9vCZKvqsnnke8sVLl7i2q8RZP3PyYcija+XFPy0eP3bcy7dQXFzcqlWrUaNGvffeewUFBS1atJgyZUrPnj23bNkyefJkhmEYhhk4cOCiRYumTJmir7ehN02bNi29WL6Uvb39rFmzShdr1Kjxww+vndpZTRG66QHACOHEZLzSiihyl6aOC7OqOZKoBalsxxztKNt2V/ggnhfMcQRp4plEx0CX5/7I1tfh0YPUV44ctba2Xr58+aRJk65cufLBBx9Uq1atZ8+eRJSSklK5cmXtOn5+fikpKbqt3NShmx4AjBMyjpFKzheb79R0rswsacyx+PiwMO42FNdBdu6JOPyoGU6JX1xczMpfeObh5LLyzMgTEhIya9asyMjIv//+e8WKFaVbfnrOo3JOeGQ5GHVRkYBzPgAYHZyYjNHtPLHlLn5UDRbT2lssJwX91V72oEDsH8drzGsEqa+vb9Gjguf+SJOvZhmmnJOY1KpVKz09vUGDBqXre3p6PnnyRPs4IyPD09NTJwWbDVZdXISWUQAwPgijRudGjthyJz+hFjs+BEfHotnKaEdbmYqnHgcFlRnNU9S/17vZx9Ke+6P0ow86dOxYno1kZ2e/++67a9asOXHixPr167VPRkREHDnyz4zuR44cadiwoU4KNhtMSQG66QHACOECJuNyLUdsvZufEcoODUQSBVKwtDGK63tA7HOE/bMtWZtFQ/nw4cMX/fh96t57Xu0qP/181vn0zAOp35zcVZ6NDB06tHPnzgMGDKhdu3Z0dHRYWFhQUNC4ceNat25dpUoVURR/+umnAwcO6OcdmCoW3fQAYJRwYjIil7LEVrv42eFIovA/CpY2tGQc5Ey3WE2xWbSPKhSKQ7FxDjcVN2afTY29++TMo0eHk+/+cClz0/19u/7y8fF55RZu3bpVq1atOXPmEFHt2rWXLl165swZImrQoMHOnTsTEhJOnDixe/fusLAwvb8Zk8JqigpxNT0AGB+0jBqLK9limz38ggjW7Cc8h9clY2l1E37ECa77fs22aJmV6bePenl5nYo/uX///h27d9y6fdvDzaPN2Nbdu3cvvfzo5QICAr744ovSxe7du5c+btasWbNmzXRfsVlgVAUIowBghBBGjcKNHLHNHv6bBkii8HwcQ+tacu8d4rvGav5obQ55lGGY1q1bt27dWupCLAirLio0i8Z1ADAziD7Su5EjRu3mZ4WxA6vicMALcQytbck5WTHd9mvM6XomMBhWjW56ADBGODFJ7G6eGL2HnxHKvlcNxwJegWNobQvOimUGHDLD+UdB35iSgkJcwAQAxgcnJimlFVG7vfy4mrhiCcpLztLGKK5QIw49Yp73ZwL9YdWFuB0oABghnJgkk1FMrXZrBgeyE2rhKMBrULC0JUp2N08cm4DeengNbElRoYB5RgHA6CAGSSOnhNrt1XStzEypg0MAr81GRjvayk6kidNOI49CebHqwgINwigAGB1cTS+BYp66xGoaezBfhZn+RdEgEQc57Wkna7lL42olGFXj+p49e0zuPpwnT56UugRDYDTFapHVCCQzot8XAACEUYPjRRpwiPdWMgsbIonCW6lgTfvac0138E5WZCTDjhcsWLBu3Tqpq3gT77zzjtQl6J8o2rBCgYYcyzWdKwCAgSCMGpRINOoYn1Mi7mwjY9FdBm/NW8nsa8+12Mk7Kai7n/R5tHPnzp07d5a6ijek0WikLkHvbGVivlp0VODsAwBGRPpPL4sy7RR/MUs0j0nLwUhUdWD+bMONPs4ff4yr6+EVlKyQp5a6CACA/4cwajhLLgt/3BN3tpXZoj0adCqsArO+pazHfs2VbORReBlbTsg3//ZfADAxCKMGsiNZmJMk7G7LuVpJXQqYo+iKzHcNubZ7+PsFyKPwQkoOLaMAYHQQRg3hVLo47Ai/JYrzs8dQLdCXfgFsTA32nb/4nBKpSwFjZcuJeSX4ugIAxgVhVO9u5IhdYjVrWsgi3JFEQb+m1WUbuTN9D2o0gtSlgFFCNz0AGCGEUf16oqIO+/iZoVx7HyRRMIQfGnMcQx/EYzJ8eA5bTshFwzkAGBmEUT1SC9T7gKanHzMsCPsZDETG0m+tZCfSxW8voHUUyrLFmFEAMD4ISfoiEg0/yjtb4TZLYGh2ctrVlvv+kvDHPeRR+D+2MjFPjTGjAGBcEEb15auzwqUscW0LDpPbg+F5K5ltrbmRR/mT6Uge8D9oGQUAI4Qwqheb7wirrgs728qUmFIUJFLPlVnRjOuxn39YiDwK/0AYBQAjhDCqe+eeiGOO81uiOE8bqUsBy9alMjsmmO20jy/EBdRARER2uIAJAIwPwqiOPS6iLrH8D4250ArongfpTanD1nBiBh/m0ToKpJ1nFGNGAcDIIIzqkvby+eFBbG9/7FgwCgzRz8245AJxThIuZgKykwm56KYHACODzKRLI4/xnkrm03rYq2BErDnaGs39cFnYmYwmMUtnL0M3PQAYHcQmnVl8STibIa5uzqF7HoyNt5LZEsUNO6q5loM8auxEUfzyyy+Dg4Pr16+/bt26566wePHi8PDw4ODgzz//nOdf4wYHdpyAu8UCgLHBxd66cfyx+PU5/nhnXD4PRirCnZkfwXXZx5/oInNUSF0NvNiKFSs2bNiwdevW9PT0rl27BgYGNmjQ4OkVVq1atXDhwm3bttnZ2Q0YMMDJyenDDz8s58ZtOSEXY0YBwMigZVQHUgup70F+dQuZvz1aRcF4DazKtvJm3jvMC0gjRmzp0qWffPJJjRo1mjdvPnjw4OXLl5dZYfPmze+//37t2rX9/f2nTJmyZMmS8m/cjhPy1YTjDwBGBWH0bRXz1DVWMy6EbVcJSRSM3aJGXLZKnHUOFzMZKVEUL1++HBoaql2sX7/+pUuXyqyj0Wjkcrn2sVwuv337dmFhYTm3zzKklBGmGgUAo4JO5bf1r3i+ij0zsRZiPZgAOUsbo2Thf2jC3Rh8fTJCeXl5KpXKwcFBu+jk5JSenl5mnTZt2qxYsaJ37962traLFi0iovT09MqVK5dn4w0aNCj4/KJPtbZsTuqCBQt69eql87dgJHieLykpea0BtSYtPz9f6hIMR3twNRpLmT/Z1A+uUqnkuFfcFx1h9K2suykcfSSe6irDpzqYCk8b2hzFdY3VJHSWVcHAEiNjZ2cnl8sLCgq0i3l5eS4uLmXWGT9+/OPHj8PDw21tbQcMGLBv3z53d/dybnz79u0Db7uvPpxQ3UGwtbVVKMx2+DDP8yqVSqlUSl2I4djb20tdgoFow6iNjQXdV8bsDy7a897c+Uxx4gl+a2vOXi51KQCvo6E7M6UO130/X2QpLQsmg2VZPz+/q1evahevXr1apUqVMusoFIoFCxYkJydfuXIlMDCwatWq5fxUZhjGwcHBxYYTrR2cnZ3NOIkCgGlBGH1D2SXUfT+/pDEX7IS2JTA940PYEGdmwglL6cQ0IQMHDly0aJFKpUpLS1uzZs17771HRCqVaty4cY8ePSKiJ0+epKWlEdHVq1enTZs2eTI8sxYAACAASURBVPLk19q+kxVhdicAMCoIo29CJBp0mO/ky/Sqgh0IpurHJtyhVHHtDVzMZFwmTpzo6urq4eERGBjYt2/fDh06EJFard64cWNubi4RJScnBwcHOzg4NGnSZMSIESNGjHit7TsqmOwSXE8PAEYEY0bfxIILQkaxuCUKew9MmL2ctkRxkbs0oRWYms5o4DcWSqVyy5YtxcXFMplMJvvnJGNnZ6dtFiWievXqZWRk5Obmll7n9Foc5WgZBQDjgoa913YiTZx/nl/fkpNj54GJq+nMLGrEdd/PY64fY2NtbV2aRJ/rzZIoETkqEEYBwLjovW0vMTFx165dzs7OAwYMcHZ2LvPTGzduxMXFlS526dLFw8ND3yW9jSwV9Y3jlzXl/HAZMpiFfgHsvgdizDH+18hXTL0B5sHJCt30AGBc9Nu4t3fv3ujoaIZhEhISIiIiSucrKfX333/PmjUr8b+eXcGoiERDjvC9qzBdKqNRFMzHj425y1niL9cxeNQiOCkoGy2jAGBM9NsyOmvWrK+//nr06NGiKDZp0mTDhg3Dhw8vs06tWrWWLVum1zJ0RTtUdDOGioJ5sZHRr624ljs1DdwZzA5h9hBGAcDY6LGFr7i4+Pjx4+3btycihmHatWt34MCBZ1d7/Pjx0qVLt2zZkpOTo79i3t6pdHH+eX5DKwwVBTMU7MTMbcD1PcgXY64nc+ekYLJV6KYHACOix0a+R48eiaJYOgbU09Pz2TBqY2NTqVKlK1eunD9//l//+ldcXFz16tXLs/G8vLxJkyaVLk6ZMsXOzq50URCE4uJiltVZbMxXU/84bn6Y4Mapiot1tVWTp73HiQ73MzyX9nYjDKPfNsu+vvRXCvthfMl34RbaX6/RaNRq9Uv2M8MwVlZWhixJH5ys0DIKAMblbcPomDFj1q9fX+bJ+vXrx8XFaTOKIPzzwcbz/LMXh/bs2bNnz57ax8OHD58+ffrmzZvL87osyz59lzy5XP70nU8ZhuE47pX3Qi2/cfHUyov6+CN1laXb/QwvYpj9/GMjithJux5ynX30/VLGSBRFQRDM/vcZ3fQAYGzeNowuXLhw3rx5ZZ7Uns09PT1Zlk1NTa1atSoRpaament7v2RTrVq1mjt3bjlf19bWdurUqS/6qSAIPM/L5bq5TeeaG0JSlnCqi0yOwaL/j2VZQRB0tZ/hRViWFUXRAPvZWU6/thI7/KUJd5f52lnc4FFtm6jZ/z47WzFZ6KYHAGPytk19CoXC9hnW1tbaH0VHR2/bto2IeJ7fvn27dvyoSqU6ffq0RqMhIu2/WrGxseXsozekGzniRyf5ja04GyRRsABhFZgJIdx7h3keccVMOSsoSyV1EQAAT9Fvwvr88887dux4+/bt69evW1lZ9ejRg4iSk5PDw8PT09MrVKjQo0cPlmW9vb2TkpLu3r178OBBvdbzujQCvXeY/7weh/vTgOWYXJuNfSDMOy9MqYNxKWbIiiOOpUINKfEFGwCMg37PRo0bNz579uyBAweio6M7duyoHftfqVKl2NhYR0dHIvrxxx/j4+OzsrLat2/fqlUrpVKp13pe14wzvJOCRgfjIxksCMvQmhZc6B+aSC8mwh1fw8yQs4LJUolKGQ4uABgFvX81rly58tChQ59+xsbGJjo6Wvu4YsWKvXr10ncNb+b4Y3HVdeFMNzlO2GBpKtoyPzbhBhziz3aT2Zn5EEpL5GxFWSVU0VbqOgAAiAj3pn+RnBIaeIhf3lTmaSN1KQBS6O7HNvFgJp3AvKNmyNkKw0YBwIggjD7fB/H8Oz5MR1+0ioLlWtyY2/9Q3H7PQqcdNWMuVswTXFAPAEYDYfQ5Nt8RTmeI8xqY+XSDAC9nL6e1LbhRx/l03OjBvLhYUSZaRgHAaCCMlpVWROMThDUtMJcTADX2YAZXY0ccRWe9WUEYBQCjgjBa1tAjmhHVmQZu6KAHICL6IpR7UCD+ch2d9eZDezW91FUAAPwDYfT/LLsqpBbRtLrooAf4h5ylNS25Kaf4e/mIL2bC1RotowBgRBBG/+d2njj9NL+uJSfHXgF4SrATM7EWN/gwLyCOmgVXK3qCccAAYDQQu/4hiDT0CD+1LlfDCR30AGVNrMVqRPrhMjrrzYGrNa6mBwAjgjD6j8WXBLVA/6qJHQLwHCxDa1twX53jb+QgxJg8tIwCgFFB9iIiupMnfp3E/9Kc49AqCvACVeyZaXW5wUd4HnHUxLla0xOMGQUAo4EwSoJIgw/zn9blqjkiigK8zAfBrJylxZfQWW/aXDHpPQAYE4RRWnRJ4EV6Pxi7AuAVWIZWN+dmJ/HX0VlvypQyIqICjdR1AAAQEcLozVxx9jl+bUuORasoQDlUsWem1+OGHcWV9aatghWTUYxDCABGwaLDqEg06hj/aT3O3x5RFKC8xtRgWcKV9abNzYYycA0TABgHiw6jP10WCjTooAd4PSxDK5pxX5zhb+Wiac1UVbBCGAUAY2G5OSw5X/z8DL8SV9ADvL5AR+ajOtzIY7iw3lRVsEY3PQAYC3b06NErV668c+eO1JUYWswxfmItLhhT3AO8kYm12Dw1rcY9601TBWtKR8soABgH9tdffx0+fHhAQEBUVNSOHTukrsdA1twQ0oppUi3LbRgGeEscQyubcZ+c4h8WooHN9LhZM+loGQUA48Dm5OSkpKRs2LDBycmpV69ekZGRaWlpUlelX2lF9PFJ/udmnAxZFOAt1HJhRlVn/xWPxlEdu379+rx583788ccnT548d4X79+//8MMP8+fPj4uLe7OXcLNByygAGAuWiCpVqtSnT5/ff//97t27derUSU1Nlboq/Rr/Nz+oGlvPFR30AG9ral3uara47S7yqM6cPHkyPDw8IyMjPj4+LCwsKyurzAoXLlyoWbPmtWvX1Gr10KFDp0+f/gav4mZN6UW6KBcA4K3Jnl7w9PRcuHChVKUYxt77YkKauKKH7NWrAsCrWHG0tCnX9yAf6c06KaSuxizMnj170qRJ2ojZtm3b1atXT5gw4ekVNm3a1KZNm++//56I6tSpExMTM3PmzNd9FXdrJr0YXyEAwCj8r6O6pKSE53kJSzGAQg29f5xf3pSzRRYF0JFmnkxHX2bqKTM/exhMbGxshw4dtI87dOgQGxtbZgU/P7+UlBTt6fru3bt+fn5v8CruNvQYLaMAYBz+CWX37t3r27fvnj17nJycpC1Ir6ad5pt5Mq0rooMeQJfmRXAhWzTvBohNPfHH9VZycnIKCgo8PT21i56eng8fPiyzzpAhQ5KSkqpWrerp6ZmXl7d79+5yblylUs2dO9fFxYWIVJxNauBUlcpsv0LwPK9SqTiOk7oQA1GpVAqFpfRN8DxfUlLCspZy2YepH1yFQsEwr/hokBHRxo0bR44c6eHhYW1tbZDCpHE6Q/ztlnCxp1zqQgDMjYOcvmvIxhzjz3aXKSzlA0IvtKdsUfznOndBEJ6NU/v27du+ffv8+fM9PT3nzZv36aefrl27tpwbd3R0dHZ21i6qRUYlsDZm2k0kiiLLspaTVyzqzeLgmh9ZTEzM8uXL+/fv/9NPP5lxGBVE+iCenxvBuVpJXQqAOepRhV17U5x/Xpha18xPmnrl4OBgZ2eXmppasWJFInr06JGXl1eZdb7//vtRo0b17NmTiKpVq6aNpB4eHq/cuEKhiImJCQoK0i4u3aDJ5jkHG/NszGZZVhAEudxSWh/kcrnlvFmWZUVRtJz3awkHl123bt3KlSvXrVtnb28vdTF6tPiSYM3RgKr4mATQl8WN2IUXLe4eoY8ePTp06NCzz2dlZc2dO/cNNtiuXbvt27drH2/fvr1du3ZExPP8+fPnS0pKiMjOzu7x48faFR4/fsyyrK2t7Ru8kKcSw0YBwCjInJ2dAwMDpS5Dv1ILadY5/nBHmXm2AAAYB187ZnJtbsxx/q/2Ztr1+zx5eXnR0dHTp0//9NNPS7vUExIS+vXr5+fn99FHH73uBqdOndqqVausrKwHDx48fPhw0KBBRJSVlVWnTp3r169Xq1btww8/bN++fV5enpeX17///e+xY8fa2dm9QeUeNvSoSCTCeREAJMYGBgZGRkbOmjVLEMx2mo8P4vkxwWwN3PkTQM8+DGHTimnjbbM9mTyratWqCxYsmDVrVnR09MOHD0VRXLRoUcuWLT08PFavXv0GG6xXr15SUlKNGjW6du166tQpBwcHInJ0dNy5c6e2775Ro0ZXrlxp3ry5p6fnhg0bvvvuuzer3NOGQcsoABgDWWxs7MyZMz///PNDhw7t3r3b/MYl7EkRL2SJ6yMtqKkGQCoylpY15brF8m0rWcq0owzDjBs3rl69eu+++269evVq1qx5+PDhKVOmfPHFFzLZG552fH19x4wZ8/Qzcrm8dL4nIvLy8nrvvffeqm5ty2jhW24DAEAHWI7jZsyYceDAgcuXLxcUFEhdj44Vaej9eP6nJpy1pczvASCxBm5MJ19m+mmznTPouZo3b75o0aK0tLS4uLghQ4bMmjXrjZOowXgpmUdFljXAFwCM0z8X9LRo0eLs2bNKpVLaanTu6yS+oTsT5Y0OegDDmR3O/X5XOPvEUoKOIAgzZ87s06dPVFRUTEzMypUr+/Xrl5ubK3Vdr+BpQ6loGQUAI/C/q8vd3d1NelbVZ93MFZddEeY1wBX0AAblbEWzwriYY7xgAXE0Pz+/TZs2X3zxxeeff75v376lS5du3rx5z549oaGhiYmJUlf3Ml5KJrXQAo4QABi9/wtqBQUFc+fOvXLlilTV6Na4BH5aXa6iLZpFAQxtcCCrlNGq6+Z/JVNqauqFCxf27Nkzffp07cTUPXv2PH/+vJub27hx46Su7mW8lPQIFzABgBGQEZFKpTp9+vTGjRt//fVXDw+P/v37S12VDmxNZpLzaUwwmkUBJMAQLWnMRe/WdK3MVjDbm2kQEbm7u1+8eNHNze3pJ319fQ8dOrRp0yapqioPbcso5nYCAMmxISEh9vb2TZs2jY2N/frrr5OSkrSzh5i0Qg19ek62pDEnRxYFkEiIM9MvgJ1q7lcyOTo6lkmiWgqFYsCAAYavp/ysOVLKKFMldR0AYPFkAQEBvXv3joqKaty48SvvZG8qWIa+qadp4WVu01QBmJYvQrngLZqT6WIDNzM5t5gZbyXzsEB0tcLRAQApyf7880+pa9A9a446+2BgPoDEHOQ0O5wdc5w/2UXGIvAYH28lPSykWi5S1wEAlg3d2ACgRwOqsrYyWm0BVzKZooq2zANcUA8AUkMYBQA9YogWNuKmnuafYGyi8aloSw/M7VYnAGB6ZPv37y9daNmypfHfNQQATEs9V6aHH/vlGX5RI9wJzbhUVDLnLObeBABgtGStW7cuXcjKynJycpKwGgAwS7PCuOAt6qFBbB0XDB01IpVsmZ3JGEEBABKTnT59unTB3t5ewlIAwFw5W9GMUG58Ah/XAX0vRqSSLaWgmx4ApCYLDQ2VugYAMH8jgtgVV4XNd4ReVTBU3Vj42DH3C9BNDwASw6cCABgCy9CiRtykE0KhRupS4L9craiYpwIcEQCQFMIoABhIEw+mgRvz7QUMUjQiPrZMSj4aRwFASgijAGA43zZkF13ik5F+jIavHd3Ll7oIALBsCKMAYDg+tsyoGuy002gcNRaV7Rh8NwAAaSGMAoBBTanDHU4V/05DADIKPnZMMq5hAgBJIYwCgEHZymhWOPvh3zwSkDHws6O7eVIXAQCWDWEUAAxtQFWWF2njLXTWS8/PnrmLbnoAkBTCKAAYGkO0qBH30UlM8yQ9tIwCgOQQRgFAAo3cmQh3ZtElNI5KrKItk14sqnip6wAAC4YwCgDSmNuA/fYCn1oodR2WjWOoki0uqAcAKSGMAoA0qtgzQwLZz8+gUU5iVezpNnrqAUA6CKMAIJlpdbnt94SLWWiWk1KAPXM7D4cAACSDMAoAknFU0NS63Ecn0TgqJX8H5lYuwigASAZhFACkNLoGezOXYh8gDEkmwJ5u5UpdBABYMIRRAJCSnKXZYezkE7yAOCqRqo7MTbSMAoB0EEYBQGI9qrD2Cvr3TUzz9D/5+fmZmZmGea2qDsztPBFfBgBAKgijACC9+Q24T09jDnwiIkEQRo0aValSperVq3fo0KGgoKDMCr/88ovL/3v48OHbvKKtjJytmPu4Qz0ASARhFACkF+HONMIc+EREtHXr1gMHDty7dy81NbWkpGTBggVlVhg8eHDmf3322WdBQUHe3t5v+aLVHOh6zltuAwDgDSGMAoBR+KYBu+A8n1YkdR1SW7du3eDBgx0dHTmOe//999evX/+SlX/55Zdhw4a9/YsGOTLXc9AyCgDSQBgFAKPgb8/0DWC/SbL0aZ7u3LkTGBiofRwUFHTnzh1BeH6D8alTp27evNm7d+9yblkQhJSUlNv/lZf3v5nug5yYawijACARmdQFAAD84/P6XI3N6g9qsv72jNS1SCY3N1epVGof29raqtXqoqIiW1vbZ9dcuXJlr169HBwcyrnlwsLCwYMHy+Vy7eLMmTO7du2qfVxZwe56wuXnm0+7NM/zKpXqRTne/BQUFDCMpfzV8DxfUlLC85byxdXUD65SqWTZVzR9IowCgLFws6YParKfJwr/bslJXYtk3N3dc3L+Gb+ZlZVla2v73CRaVFS0cePG7du3l3/LdnZ2O3bsCAoKevZH9bzEm2d4OzurN6vZCPE8L5fLS2O92RNF0c7OTuoqDEQbRm1sbKQuxEAs4eCimx4AjMikWtyBh8KZDMvtMq5Vq9apU6e0j0+dOlW7du3nrrZlyxZ3d/emTZvq5EUr2zEZxWIBZjMAACkgjAKAEbGT07S63LTTltIB96yYmJhffvll7969iYmJs2fPHjNmjPb5Ll267Nu3r3S1VatWDRkyRFeddyxDgY7MlWzL/Q4AABJCNz0AGJeR1dmFF4VDqWJLLxMeJvXGwsPDV6xY8fXXXxcVFY0dO3bAgAHa5728vEo7nfPy8tzd3QcNGqTD1w12Zi5niWEVLHGfA4C0EEYBwLjIWfoylP34JP93F5llJqOePXv27NmzzJNLly4tfWxvb79x40bdvmiIM3MxCy2jACAB/XbTz5kzp2PHjtWqVdu9e/dzV1CpVEOHDnV2dvby8lq0aJFeiwEAU9E3gFULtP2epVwKbQwQRgFAKvoNoyqVqm/fvqIo5ufnP3eF+fPnX79+/e7du3FxcV999VV8fLxe6wEAk8AQfRXGTTklaBBHDaWWC53PlLoIALBI+g2jn3322YABA547L4nWqlWrPvroI0dHx+rVqw8cOHDVqlV6rQcATMU7PoynDf16C2nUQHztmEKNmFEsdR0AYHmkvJperVbfvXu3Vq1a2sWQkJAbN25IWA8AGJWvwrjPEgWV5V5Yb1AMUYgzcz4TPfUAYGhvewHT+vXrc3NzyzxZt27dRo0avfL/ZmVlCYJgb2+vXXR0dMzIyCjn6z5+/PjpOU1u3brl5uZWuigIgkqlspzbM0jF0m6DIRXtftZoLG4SyNpKquEg/z5JPaqaId67RqNRq9Uv2c8Mw5j31NN1XZmkTLGVt2VeNgYAknnbMHrjxo0nT56UedLb27s8/9fFxYVl2dzc3AoVKhBRdnb204Hy5Tw8PJ4NwaUEQbCoe29IRXvDPexnfbO024087ZuGYvu9mjG1bWz1P/OHNoxa5n7WquPCHHmEllEAMLS3PcHPmDHjzV9bJvP39z9//ry/vz8RXbhwITAw8C3rAQBzUseFaebJLrkkfFwHd+jQu/oVmIUXMUgXAAxNv+f3GzduJCYmFhUV3b59OzExMS8vj4gOHDgwYcIE7QrDhg375ptvMjIykpKS1q1bN2zYML3WAwAmZ2YoO/8Cn6WSug4LUNOZuZMnFlrceBAAkJh+w+jChQtjYmIcHBy2bNkSExOjvT4pPz//4cOH2hUmTJgQGhoaEhLSrVu3WbNmRURE6LUeADA5gY5MR1924UUMTdY7BUvBzsy5J+ipBwCDYkTR9M47N2/ebN++/UsuvRcEobi4GGMZ9Q1jRg3DkseMat3LF+tv01zpKXfX5z4w+zGjgYGBO3bsCAoKesk678fzgQ7MuBCTHxRhaWenvLy80quBzZ6lnRIt4eCa/BkHAMxeZTumjz87/wIaR/UuvAJzMt30WigAwKQhjAKACfi0HrvqmpBaKHUd5i7CnTmBMAoAhoUwCgAmwFvJDApkv0lC46h+BTkymSoxHfdhAgADQhgFANPwSR3u11vC/QK02+kRy1ADNyb+MSZ4AgDDQRgFANNQwZqGBrKzk5CT9KuJBxv/GIkfAAwHYRQATMZHdbiNt4Q7eYhKetTEgzmK+zABgAEhjAKAyXC1olE12G/QOKpPDd2ZC1mY+h4ADAdhFABMyaTa3La7wm00juqNUkZ1XZmENOxhADAQhFEAMCVOChoTzH51Fo2jetTSi4l7iD0MAAaCMAoAJmZ8CLcjWbiVi6Y7fYn0Yg8+xO4FAANBGAUAE+OkoPeD2a/PoelOXxp7MBezxJwSqesAAMuAMAoApufDEG57snAjB613emHNUWMPJi4VcR8ADAFhFABMj6OCxtRg55xHWtKXtpXYvSnI+gBgCAijAGCSJtTitt/DZfX60r4Ss+c+9i0AGALCKACYJEcFxdRgZ2PkqH5Ud2LkLJ3PRB4FAL1DGAUAUzWxFvfnPdyQSV86+jI7krFvAUDvEEYBwFQ5KWhkdXYObsikH10qs3/cxb4FAL1DGAUAE/ZhLW7zHeFePhrwdK+5J3MvX8S+BQB9QxgFABPmakXDgtgFF9CAp3scQ1392C13EEYBQL8QRgHAtE2sxa2/KTwsRGbSvT7+7MbbCPoAoF8IowBg2jxsaGA19lszahxdtWpVly5dBg8enJSU9NwV8vPzZ82a1alTp/79+//111/6q6SlF5OSL+LmAgCgVwijAGDyPq7N/XJdSCuSug5dWLFixVdffTVy5MiQkJDIyMjHjx+XWaGkpCQ6OjoxMXHo0KEdO3bMzs7WXzEcQ/0C2HU3zSfoA4ARkkldAADA2/JSUm9/duFF/utwTupa3ta33347Z86cDh06dOjQ4ejRo6tXr54yZcrTK6xatUqlUv3+++8MwxignkGBbNdY/vP6xBri1QDAEqFlFADMwZQ67PKrQpZK6jreTn5+/tWrV5s0aaJdbNKkyalTp8qsc+TIkc6dOy9evDgmJubnn3/meV6vJdVxYVytaP9D9NQDgL6gZRQAzIGvHdOlMrvksjC9ngl/x9Z2yru4uGgXXV1dHz16VGade/fu7d+/f9SoUdHR0XPnzj116tSyZcvKs/HCwsJBgwYplUrt4tixY6OiosrzHwf6cT9e5Bo5lJT3bRgBnudLSkr0ndSNR35+vtQlGI724Go0GqkLMRBTP7hKpZLjXtFnhTAKAGZial228Q7NhyGsnVzqUt6Ura0tEalUKmtrayIqKiqys7Mrs46NjU14ePiXX35JRNWrV69bt+7ChQttbGxeuXErK6uYmBgfHx/tYnBwsL29fXmqGlaTZl5Q57B2lWxNpque53mVSlWavC1BOY+mGdCG0fL8zpsNsz+4CKMAYCYCHJhW3uzyq8KEWqbaOOrm5mZtbX3nzp26desS0d27d0uzYylfX1+5/J+47ePjIwhCZmZmxYoVX7lxjuMaN24cFBT0ulXZyal/VfbHy4IZDMkFACNkqqdsAIBnfVKHnX+BLzbZvlmO43r06LFq1SoiysnJ2bJlS+/evYkoNzd36dKlxcXFRPTuu+8ePHiwsLCQiHbs2OHj4+Pt7a3vwsbWZH++JhRYSr8oABgUwigAmI/aLkxYBXbNDROeimjmzJm7d+9u0KCBdmqn1q1bE1FaWtro0aPz8vKIKCoqqlWrVjVq1GjZsuWUKVN++eUXA1xWH+DAtPRiV1w14R0LAEYL3fQAYFam1WX7xfHDAlmZaX7XrlKlytWrVy9duuTg4FClShXtk/7+/pmZmU5OTkTEMMyyZcuSk5NzcnKqVaumHV1qAJ/UZTvv40fXYK3QVw8AOmWaZ2sAgBeIcGeq2NMGU76JpUwmq1OnTmkSJSKWZZ2dnZ9uAfX19a1Vq5bBkigR1XNl6ldglqFxFAB0DWEUAMzNJ3W4b84JmBhT574MZb9J4vPVUtcBAOYFYRQAzE10RcZBQTvuoQ1Px+q4MFHe7LzzJnuBGAAYJYRRADBDE2uxs84hjOre1+Hsj1eEe/lodwYAnUEYBQAz1N2PzVfT4VRkJh3zsWXGh3DjEhD0AUBnEEYBwAyxDE2oxX6ThA5l3ZtUi72eI/5+B3kUAHQDYRQAzNN71djL2XQmA42jOmbF0crm3L8S+PRiqUsBALOAMAoA5knO0tia7LwLaMDTvUbuzOBq7LAjPJI+ALw9hFEAMFsx1dkDD4SbuYhMuvdFKJdWLH6LrA8Abw1hFADMlp2cRtVgEZj0Qc7Splbcggv8gYfI+gDwVhBGAcCcfRDM/XZbeFQkdR3myNeO2RAp6x+nuZKNPAoAbw5hFADMmbsN9fVnf7yMy+r1ooUXMz+Ca7+XTylAHgWAN4QwCgBmbnJtdukVATex1JMBVdkPQ9io3fx95FEAeCMIowBg5qrYM5He7M/XMHJUX8aFsKNrsM138tdzkEcB4LUhjAKA+Ztcm11wQVAjjurNhyHsp/XYFjs1xx4hjwLA60EYBQDzF1aBCXSkjbeRRvVoaCC7pqWs5wHNksvYzwDwGhBGAcAiTK7NzTsvoNVOr9pUZI53kv1yXegWy6dhBgMAKB+EUQCwCO0qMQxR7APEUf0KcGDiO8uCnKjOVvXaG0j/APBqCKMAYCnGh7ALzmOOJ71TsPRNOLezrWzxJaHpDk1CGhIpALwMwigAWIr+Vdkr2XTuCbKRIYRWYE50kY2szvY9yHf8fT5TeAAAEwFJREFUS3P8MXY7ADwfwigAWAo5S2OC2e8u4vIaA2EZGlSNvdFb1qkyO/gw33C7Zu0NoVAjdVkAYGQQRgHAgowJZnclC7hdkCEpWIqpzl7rJZtWl910W6i0QT3kCL8nRSzBlwIAICKEUQCwKA5yGliNXXIJOcjQWIY6+bI728ou9ZDXdWG+TuI91ql7HuCXXRUwVT6AhZNJXQAAgEGND2Hrb9NMrcs5KqQuxSJ5KWlcCDsuhE0vpr/uC7EPxK/PCSW82NCdbeDO1HdlarswXkqpqwQAA0IYBQDLUtmOaV2RXX1dGB+CriEpuVnTgKrsgKpERMn5YkKaeDpdnHdeOJ8pCiJVd2ICHZkAB8bfnnztmMp25GnDyHDEAMwRwigAWJzJtdmeB/gPglmEGyPha8f42jF9/P9ZTC+my1nijVzxVq745z1KzheSCyi9SHSxIg8bxlNJFawZVytysWKcrcjZihzkZC9nHBVkLydrjuzljBUj6fsBgNeBMAoAFie0AuNjS9vuCb2qII0aIzdrauHFtPD6v0QpiPS4iNKKxdRCyigWnxRTpkq8mUtZKspVU16JkKumXDUVayhfIxaoqUSQO8jVHEv2ckbGkIIjWxkRkY2MrLl/tumoYEp/AziWHORlK7GVkYIr+2QZ2u1LS6WSWVlZykhoQRB5npXLLeX9vujgPv2b/PY0AuWpdba1pw0JZN1tXrEOwigAWKIPQ9jZSQijpoRlyEtJXkqmjgsRvSL98TyvUqk0ciUvUJ5a1IhUwlOBhoioUEOq/976ILtELL14ihco95kP4wINlbzqPgna7UurRE0KRuoiDEUUiedJJlrK+33RwX1YSMVvdBMPjiH+v9tjGdLeJ03Okt0zX8Z0QiOKr/yDRRgFAEvUpTL70UkhIU1s5C51oxbojbal0/llffZmcvTz8jT29q9qfTIXPM+XlAg2NrprFTRulnBw0SoAAJaIZWhsTfa7C5bS0wcAYLTQMgoAFmpYEDvzrPp2Hutvb1zNY2q1+ujRo0VFRc2bN7e3ty/zU41Gk5SUVLro5eXl7e1t2AIBAHQJYRQALJRSRkOD2CWXhG8bGlF/X1FRUWRkJBG5ubmNHDny6NGj/v7+T6+Qk5MTFhYWGhqqXRw2bNjo0aMlKBQAQEcQRgHAcn0QzNbdqpkRyj17GbVU/v3vf4uiGB8fz3Hc+++/P3v27BUrVjy72unTpw1fGwCAPmDMKABYrkq2TNtK7KprRjRy9I8//ujduzfHcUTUr1+/P/7447mrnTlz5ty5c8XFxYatDgBA99AyCgAWbUIttucB/l81jeWb+f379318fLSPfXx8MjIyioqKbGz+71paZ2fn8ePHZ2RkZGdnb9iwoUWLFuXZslqt/u233zw8PLSLzZs3DwoK0m3xxoP/L6kLMRALfLOW9n6lruLNsSzLMJjaCQDgxUIrMF42tCNZ6FhR6lKIiEitVstk/5yZ5XK59pmnw6iTk9OjR48UCgURzZ07d8CAAcnJya881xMRz/MXLlxITk7WLgYGBvr5+em8fiOhnWdU28BsCUpKSlQqldRVGAjP8yUlJSxrLF8g9c3UD661tTXCKADAK4wLYRddNJYw6uXllZ6ern2clpZma2vr4ODw9Aocx5VmrBEjRnz88cepqanluaDe2tp61qxZZtwa+jSe5zmOUyqVUhdiIDzPW9SblclkZboLzJglHFxL+WIBAPAiPfzY23mUlCl1HURE1LRp0wMHDmgfHzx4sFmzZtrHGo1GfOaWM5cuXZLL5a6urgYtEQBAp9AyCgCWTsbSmBrs95f5pRFSl0IUExNTu3btadOmeXl5zZw58/fff9c+HxwcPG3atEGDBq1du/b06dM1atTIzMxcsmTJxx9/bGVlJW3NAABvQ+9h9N69e0lJSZUqVapfv/5zf3ry5MnSxVatWuErPgAY3sjqbNVN/OM6jJ/UXX8VK1Y8ceLEypUrb968uXPnziZNmmifnzJlSlhYGBE1bdo0NTX1woULjo6Oa9eubd26taT1AgC8Lf2G0aFDh27dutXKyqpnz57PDaNHjhz5+OOPmzZtql2sU6cOwigAGJ6zFfXzp+Np5OcsdSlEVatWnT17dpknhw4dqn3g7+//8ccfG7woAAB90W8YnT9//sqVK8ePH6/RaF60Tv369Tdt2qTXMgAAXmlhBKNWlx2UCQAA+qbfC5hcXFxeeT1/Zmbmxo0bDxw4gNmbAQAAACyNxBcwcRynUCh27dp1/vz5/Pz8/fv3l3Peu4KCglmzZpUujhkz5umJD+Lj4xMSEiZOnKjzguFpR48eTUxMHD9+vNSFmLm4uLjLly+///77Uhdi5mJjY2/dujVq1KgXrcAwjHZ2TxOVnp6elpZmIVM7HTt27PTp05bzKTBx4sRZs2a5ublJXYghxMXFXbly5V//+pfUhRjIuHHjFixY4OxsBEOI9OZtW0YnTZrk94wuXbqU87+/++67hw4dWrt27dmzZ8PDw6dNm1bO/ygIQvZTBOH/7uZ3//79xMTE13sn8PqSk5PPnDkjdRXm7+7du2fPnpW6CvN3586dc+fOSV2FHhUWFhYUFEhdhYHcu3fv9OnTUldhOH/99ZflHNw7d+5Y1EfP3r17i4qKpK5Cv962ZXTatGnPNoy9QeMBwzAdO3acN29eOde3t7d/ycpyuZxlWUx3om8ymQz72QBkMhnHcdjP+ob9DAAgibcNo87Ozq/bdKxWq5OTk6tUqVLmXl7x8fH+/v5vWQ8AAAAAmBD9jhndunXrb7/9du7cOUEQevfu3bt37549e969ezcwMDA9Pb1ChQr9+vWzsbHx9vZOSkqKj4+Pi4sr55YLCgrmzJnzop8mJSVdu3btJSuATpw5cwb72QBOnjx59+5d7Gd9+/vvvx88ePCS/WxnZ2fSI3dFUdy0aVNSUpLUhRiCpZ2dcnNzly5dat7DCkudPHny3r17lnNw8/Pzf/jhhzK3BTYhQ4YMcXd3f/k6zLP3l9OhK1euXLx4sXSxZs2awcHB+fn5e/bs6dKli0KhuHr16pEjR7Kysry9vTt27FjOPyRBENasWXPt2rUXrcDzvCAIcrlcB+8BXgz72TCwnw3jlfvZwcFh6tSphixJt/bt27d///4yXVLmytL+alQqlUKheOX0NeYBB9e0jB071tvb++Xr6DeMAgAAAAC8hEV8RQYAgP+0d+8hTb1/HMAfs7R1lumWNdSWpZVNahWR0iQwTSslJS9pUtI9iEgosbxUBEUXgqKILopdzJZdUKLsYkWmWJTNsky7zONKnFlO3dTUzfP74/Ad0be/ft9jTx3fr7+e58P+eD88Z2cfznbOAAD+TGhGAQAAAIAaNKMAAAAAQA2aUQAAAACgBs0oAAAAAFCDZhQAAAAAqEEzCgAAAADUDOw/MFHX3NxcUlKi0+lcXV0zMzNpxxGVp0+fHj161GKxxMbGrly5knYccWpqarp//75Op3N3d9++fTvtOKJVW1ubn59fVVUllUqjo6Pj4+NpJxJYb2/voUOHysrKvL2909PTx40bRzuRwPR6fV5enk6nc3JyWrx48YoVK+zP9j9//vzVq1elUumWLVsCAgLo5hTcnj17OI7btWsXP21ra9u7d291dfX06dMzMjJGjRpFN55QrFZrdnZ2cXGxg4NDRETEunXr+Pq5c+euXbsmlUpTUlLmzJlDN6RQLBbL0aNHnzx5IpVKExISoqKi+PqnT5/27dvHsmxQUNC2bducnZ3p5hSWyK+M3rt3Lz8/v66u7vr167SziArLsmFhYUFBQRs3bszMzMzPz6edSJyKi4u1Wu3bt2+LiopoZxGzvLy8np6eNWvWhIWFbd68+eTJk7QTCSw1NfX27dupqakSiSQkJMRqtdJOJLCrV6+2trauXLkyKipq586d+/fv5+sXL17MyMjYsGFDUFBQeHh4Q0MD3ZzCunTp0qlTp65cuWKvLFu2zGAwpKWlNTQ0JCYmUswmrLVr1+bm5iYlJa1evbqvr48v5uXlZWVlbdy4UaPRhIWFiWZz169f//Dhw7S0tKVLl65ataq4uJgQYrVaQ0NDnZycUlNT7969m5qaSjum0LhBID8/f+bMmbRTiMqOHTuWL1/Oj8+ePTt79my6ecQtNzc3MDCQdorB4tChQyEhIbRTCKm9vZ1hmDdv3vBTX1/fwsJCupEGVE5Ojv2EP3v27NzcXH6clJSUnp5OLZbQWlpaVCrViRMn/P39+crr168lEonFYuE4zmw2SySSt2/fUs0ojIqKilGjRplMpp/qs2bNOnv2LD9OTEzMyMj47dEGhIeHR0lJCT9OTk5OS0vjOK6oqGjixIn9/f0cx9XW1jIM097eTjOl0ER+ZRQGSGVl5dy5c/mxRqPR6XQ2m41uJABB6PV6Ly8v2imEVFtb6+TkpFKp+KlGo3n+/DndSAPq48eP/A7abDadTqfRaPi6yBa+adOmrKys0aNH2yuVlZVqtZphGEKIVCpVq9WVlZX0Agrm8ePH8+fPv3nz5vr16/fv3282mwkhVqv15cuXotzc4ODg69ev9/T0GAyG8vLy4OBg8s9nLv/39FOmTJFIJDU1NbSTCumv/81oe3u70Wj8d33KlCm/P8zg0dzcLJPJ+LFcLrfZbC0tLQqFgm4qgP+otLT04sWL4vgIt2tubnZzc7NP5XL5L8+Z4qDT6Y4dO1ZaWkoI+fr1q81ms69dJpOJZuE3btwwm80JCQk/fkf/42mZECKXy5uammikE1hDQ8OjR49cXFyio6MvXLgQEhJSUVEh4s09fPjw/PnzGYax2WwpKSnh4eGEEKPR+NPmima9vL++Gb179+7u3bv/XX/16pWjo+NvjzNYjBgxoru7mx/zA6lUSjURwH/14sWLuLg4rVbr6+tLO4uQGIb5/v27fdrV1TVy5EiKeQZOXV1dZGTk6dOnZ8yYQf45KdnX3t3dLY6Fm0ymrVu3lpSU/FQX60ZLJJIRI0bk5OQ4OjouXLhw7Nixz5498/f3J2Lc3P7+/oiIiJiYmKysrG/fvi1ZsuTIkSMpKSkMw3R2dtpfJprNtfvrm9G4uLi4uDjaKQYdpVLJsiw/rq+vl8lkaEbhr1ZdXR0ZGXnq1KlFixbRziIwpVLZ0tJisVj4N2l9fT1/rUVkPn78uGDBgn379iUkJPAVhmFkMhnLsvy39vX19eJ4jEBNTQ3LsnzD3dvb+/37d5lMptfrlUplfX29/WUsy4pjvePHj1coFPzVpeHDh8vl8q9fv44cOdLV1ZVlWU9PTyKizTUajZWVlXfu3Bk2bJhCoUhKSrpx40ZKSopSqbx16xb/mq6uri9fvohjvXb4zSj8P5YtW6bVai0WCyEkOztbfI/CgUGlrq5u0aJFhw8fjo6Opp1FeL6+vtOmTTt//jwh5MOHD2VlZTExMbRDCcxgMCxYsCA9PT05OfnHenx8/JkzZwghnZ2dWq1WHGcqjUbT29vb2tra2tqam5vr5+fX2trq6uoaGhra0dHx4MEDQsj9+/fNZnNISAjtsAKIjY199+6dXq8nhFRVVRmNRr4Rj4+Pz87OJoRYLJbLly+LY3Pd3d0ZhikvLyeEcBxXXl4+YcIEQkhMTEx5efm7d+8IIRcuXFCpVJMnT6acVVi076AaWKWlpW5ubgzDODo6urm5xcbG0k4kElarNTEx0cvLS61Wq1SqxsZG2onE6d69e/wBPHToUDc3N/sTDEBYSUlJ/CmCFxAQQDuRwMrKyhQKRWBgoFwuP3DgAO04wtu8efOQIUPsOzhp0iS+3tjYqFKp1Gr1uHHjEhMTrVYr3ZyCKygosN9Nz3GcVquVyWRz586Vy+UFBQUUgwnr+PHjY8aMmTdv3pgxY7Kzs/ni58+fp06dqlarvby8li9fLprNzcvLk8vlQUFBfn5+arXaYDDw9YMHD8rl8sDAQIVCUVZWRjek4Bw4jqPdDw8gq9XK33nHGzZsGL5NFhDLshaLRaVS2Z8vDcLq6+vjLz/zcAAPkM7Ozt7eXvvU0dHRxcWFYp6B0N3dXVdX5+np6e7uTjuL8Lq6unp6euxTBwcHV1dXftzf319TUyOVSr29vemEG0j81/Q/Hq4dHR3v37+fNGmSyI5hk8lkMBh8fHx+PAeKdXO7urr0ej3DMOPHj//x47WlpaWxsZG/m55ivIEg8mYUAAAAAP5kuKAFAAAAANSgGQUAAAAAatCMAgAAAAA1aEYBAAAAgBo0owAAAABADZpRAAAAAKAGzSgAAAAAUINmFAAAAACoQTMKAAAAANSgGQUAAIBfq6qqio+PZ1mWdhAQMzSjAAAA8GtNTU1Xrlxpa2ujHQTEbCjtAAC/w6dPnziOUyqV9orJZDKZTB4eHsOHD6cYDADgj2WxWIxGIyGksbHRxcWFEOLp6ens7Ew7F4gNrozCoFBUVOTt7V1YWMhPzWZzYGBgQkLCkCF4CwAA/FphYeHq1asJIZGRkT4+Pj4+PtXV1bRDgQj9D4GgdulO2LN6AAAAAElFTkSuQmCC\" />"
               },
               "type": "node"
              }
             ],
             "instanceArgs": {
              "namespace": "html",
              "tag": "div"
             },
             "nodeType": "DOM",
             "props": {
              "className": "interact-flex-row interact-widget"
             },
             "type": "node"
            }
           }
          },
          "systemjs_options": null
         },
         "nodeType": "Scope",
         "props": {},
         "type": "node"
        }
       ],
       "instanceArgs": {
        "namespace": "html",
        "tag": "div"
       },
       "nodeType": "DOM",
       "props": {},
       "type": "node"
      },
      "text/html": [
       "<div\n",
       "    class=\"webio-mountpoint\"\n",
       "    data-webio-mountpoint=\"6919215221515870444\"\n",
       ">\n",
       "    <script>\n",
       "    (function(){\n",
       "    // Some integrations (namely, IJulia/Jupyter) use an alternate render pathway than\n",
       "    // just putting the html on the page. If WebIO isn't defined, then it's pretty likely\n",
       "    // that we're in one of those situations and the integration just isn't installed\n",
       "    // correctly.\n",
       "    if (typeof window.WebIO === \"undefined\") {\n",
       "        document\n",
       "            .querySelector('[data-webio-mountpoint=\"6919215221515870444\"]')\n",
       "            .innerHTML = (\n",
       "                '<div style=\"padding: 1em; background-color: #f8d6da; border: 1px solid #f5c6cb; font-weight: bold;\">' +\n",
       "                '<p><strong>WebIO not detected.</strong></p>' +\n",
       "                '<p>Please read ' +\n",
       "                '<a href=\"https://juliagizmos.github.io/WebIO.jl/latest/troubleshooting/not-detected/\" target=\"_blank\">the troubleshooting guide</a> ' +\n",
       "                'for more information on how to resolve this issue.</p>' +\n",
       "                '<p><a href=\"https://juliagizmos.github.io/WebIO.jl/latest/troubleshooting/not-detected/\" target=\"_blank\">https://juliagizmos.github.io/WebIO.jl/latest/troubleshooting/not-detected/</a></p>' +\n",
       "                '</div>'\n",
       "            );\n",
       "        return;\n",
       "    }\n",
       "    WebIO.mount(\n",
       "        document.querySelector('[data-webio-mountpoint=\"6919215221515870444\"]'),\n",
       "        {\"props\":{},\"nodeType\":\"DOM\",\"type\":\"node\",\"instanceArgs\":{\"namespace\":\"html\",\"tag\":\"div\"},\"children\":[{\"props\":{\"className\":\"field interact-widget\"},\"nodeType\":\"DOM\",\"type\":\"node\",\"instanceArgs\":{\"namespace\":\"html\",\"tag\":\"div\"},\"children\":[{\"props\":{},\"nodeType\":\"Scope\",\"type\":\"node\",\"instanceArgs\":{\"imports\":{\"data\":[{\"name\":\"knockout\",\"type\":\"js\",\"url\":\"\\/assetserver\\/2712bb0a7395d062608c2f218a74b700f6c76b99-knockout.js\"},{\"name\":\"knockout_punches\",\"type\":\"js\",\"url\":\"\\/assetserver\\/fb4445501a2be4ab82176667f844e40da26fa007-knockout_punches.js\"},{\"name\":null,\"type\":\"js\",\"url\":\"\\/assetserver\\/a8ea7d9192d5fa85c6fac26c72d7fece1e500138-all.js\"},{\"name\":null,\"type\":\"css\",\"url\":\"\\/assetserver\\/620a53798cfdb29a4a2142ce0588e9aadc351d94-style.css\"},{\"name\":null,\"type\":\"css\",\"url\":\"\\/assetserver\\/9f2f17f677abbfd015a7c6b0c0f09a2da809bee2-bulma_confined.min.css\"}],\"type\":\"async_block\"},\"id\":\"8559336392139051330\",\"handlers\":{\"changes\":[\"(function (val){return (val!=this.model[\\\"changes\\\"]()) ? (this.valueFromJulia[\\\"changes\\\"]=true, this.model[\\\"changes\\\"](val)) : undefined})\"],\"index\":[\"(function (val){return (val!=this.model[\\\"index\\\"]()) ? (this.valueFromJulia[\\\"index\\\"]=true, this.model[\\\"index\\\"](val)) : undefined})\"]},\"systemjs_options\":null,\"mount_callbacks\":[\"function () {\\n    var handler = (function (ko, koPunches) {\\n    ko.punches.enableAll();\\n    ko.bindingHandlers.numericValue = {\\n        init: function(element, valueAccessor, allBindings, data, context) {\\n            var stringified = ko.observable(ko.unwrap(valueAccessor()));\\n            stringified.subscribe(function(value) {\\n                var val = parseFloat(value);\\n                if (!isNaN(val)) {\\n                    valueAccessor()(val);\\n                }\\n            });\\n            valueAccessor().subscribe(function(value) {\\n                var str = JSON.stringify(value);\\n                if ((str == \\\"0\\\") && ([\\\"-0\\\", \\\"-0.\\\"].indexOf(stringified()) >= 0))\\n                     return;\\n                 if ([\\\"null\\\", \\\"\\\"].indexOf(str) >= 0)\\n                     return;\\n                stringified(str);\\n            });\\n            ko.applyBindingsToNode(\\n                element,\\n                {\\n                    value: stringified,\\n                    valueUpdate: allBindings.get('valueUpdate'),\\n                },\\n                context,\\n            );\\n        }\\n    };\\n    var json_data = {\\\"formatted_vals\\\":[\\\"0.0\\\",\\\"0.02\\\",\\\"0.04\\\",\\\"0.06\\\",\\\"0.08\\\",\\\"0.1\\\",\\\"0.12\\\",\\\"0.14\\\",\\\"0.16\\\",\\\"0.18\\\",\\\"0.2\\\",\\\"0.22\\\",\\\"0.24\\\",\\\"0.26\\\",\\\"0.28\\\",\\\"0.3\\\",\\\"0.32\\\",\\\"0.34\\\",\\\"0.36\\\",\\\"0.38\\\",\\\"0.4\\\",\\\"0.42\\\",\\\"0.44\\\",\\\"0.46\\\",\\\"0.48\\\",\\\"0.5\\\",\\\"0.52\\\",\\\"0.54\\\",\\\"0.56\\\",\\\"0.58\\\",\\\"0.6\\\",\\\"0.62\\\",\\\"0.64\\\",\\\"0.66\\\",\\\"0.68\\\",\\\"0.7\\\",\\\"0.72\\\",\\\"0.74\\\",\\\"0.76\\\",\\\"0.78\\\",\\\"0.8\\\",\\\"0.82\\\",\\\"0.84\\\",\\\"0.86\\\",\\\"0.88\\\",\\\"0.9\\\",\\\"0.92\\\",\\\"0.94\\\",\\\"0.96\\\",\\\"0.98\\\",\\\"1.0\\\"],\\\"changes\\\":WebIO.getval({\\\"name\\\":\\\"changes\\\",\\\"scope\\\":\\\"8559336392139051330\\\",\\\"id\\\":\\\"2523120513391003500\\\",\\\"type\\\":\\\"observable\\\"}),\\\"index\\\":WebIO.getval({\\\"name\\\":\\\"index\\\",\\\"scope\\\":\\\"8559336392139051330\\\",\\\"id\\\":\\\"10568707183061115056\\\",\\\"type\\\":\\\"observable\\\"})};\\n    var self = this;\\n    function AppViewModel() {\\n        for (var key in json_data) {\\n            var el = json_data[key];\\n            this[key] = Array.isArray(el) ? ko.observableArray(el) : ko.observable(el);\\n        }\\n        \\n        [this[\\\"formatted_val\\\"]=ko.computed(    function(){\\n        return this.formatted_vals()[parseInt(this.index())-(1)];\\n    }\\n,this)]\\n        [this[\\\"changes\\\"].subscribe((function (val){!(this.valueFromJulia[\\\"changes\\\"]) ? (WebIO.setval({\\\"name\\\":\\\"changes\\\",\\\"scope\\\":\\\"8559336392139051330\\\",\\\"id\\\":\\\"2523120513391003500\\\",\\\"type\\\":\\\"observable\\\"},val)) : undefined; return this.valueFromJulia[\\\"changes\\\"]=false}),self),this[\\\"index\\\"].subscribe((function (val){!(this.valueFromJulia[\\\"index\\\"]) ? (WebIO.setval({\\\"name\\\":\\\"index\\\",\\\"scope\\\":\\\"8559336392139051330\\\",\\\"id\\\":\\\"10568707183061115056\\\",\\\"type\\\":\\\"observable\\\"},val)) : undefined; return this.valueFromJulia[\\\"index\\\"]=false}),self)]\\n        \\n    }\\n    self.model = new AppViewModel();\\n    self.valueFromJulia = {};\\n    for (var key in json_data) {\\n        self.valueFromJulia[key] = false;\\n    }\\n    ko.applyBindings(self.model, self.dom);\\n}\\n);\\n    (WebIO.importBlock({\\\"data\\\":[{\\\"name\\\":\\\"knockout\\\",\\\"type\\\":\\\"js\\\",\\\"url\\\":\\\"\\/assetserver\\/2712bb0a7395d062608c2f218a74b700f6c76b99-knockout.js\\\"},{\\\"name\\\":\\\"knockout_punches\\\",\\\"type\\\":\\\"js\\\",\\\"url\\\":\\\"\\/assetserver\\/fb4445501a2be4ab82176667f844e40da26fa007-knockout_punches.js\\\"}],\\\"type\\\":\\\"async_block\\\"})).then((imports) => handler.apply(this, imports));\\n}\\n\"],\"observables\":{\"changes\":{\"sync\":false,\"id\":\"2523120513391003500\",\"value\":0},\"index\":{\"sync\":true,\"id\":\"10568707183061115056\",\"value\":26}}},\"children\":[{\"props\":{\"className\":\"interact-flex-row interact-widget\"},\"nodeType\":\"DOM\",\"type\":\"node\",\"instanceArgs\":{\"namespace\":\"html\",\"tag\":\"div\"},\"children\":[{\"props\":{\"className\":\"interact-flex-row-left\"},\"nodeType\":\"DOM\",\"type\":\"node\",\"instanceArgs\":{\"namespace\":\"html\",\"tag\":\"div\"},\"children\":[{\"props\":{\"className\":\"interact \",\"style\":{\"padding\":\"5px 10px 0px 10px\"}},\"nodeType\":\"DOM\",\"type\":\"node\",\"instanceArgs\":{\"namespace\":\"html\",\"tag\":\"label\"},\"children\":[\"R\"]}]},{\"props\":{\"className\":\"interact-flex-row-center\"},\"nodeType\":\"DOM\",\"type\":\"node\",\"instanceArgs\":{\"namespace\":\"html\",\"tag\":\"div\"},\"children\":[{\"props\":{\"max\":51,\"min\":1,\"attributes\":{\"type\":\"range\",\"data-bind\":\"numericValue: index, valueUpdate: 'input', event: {change: function (){this.changes(this.changes()+1)}}\",\"orient\":\"horizontal\"},\"step\":1,\"className\":\"slider slider is-fullwidth\",\"style\":{}},\"nodeType\":\"DOM\",\"type\":\"node\",\"instanceArgs\":{\"namespace\":\"html\",\"tag\":\"input\"},\"children\":[]}]},{\"props\":{\"className\":\"interact-flex-row-right\"},\"nodeType\":\"DOM\",\"type\":\"node\",\"instanceArgs\":{\"namespace\":\"html\",\"tag\":\"div\"},\"children\":[{\"props\":{\"attributes\":{\"data-bind\":\"text: formatted_val\"}},\"nodeType\":\"DOM\",\"type\":\"node\",\"instanceArgs\":{\"namespace\":\"html\",\"tag\":\"p\"},\"children\":[]}]}]}]}]},{\"props\":{\"className\":\"field interact-widget\"},\"nodeType\":\"DOM\",\"type\":\"node\",\"instanceArgs\":{\"namespace\":\"html\",\"tag\":\"div\"},\"children\":[{\"props\":{},\"nodeType\":\"Scope\",\"type\":\"node\",\"instanceArgs\":{\"imports\":{\"data\":[{\"name\":\"knockout\",\"type\":\"js\",\"url\":\"\\/assetserver\\/2712bb0a7395d062608c2f218a74b700f6c76b99-knockout.js\"},{\"name\":\"knockout_punches\",\"type\":\"js\",\"url\":\"\\/assetserver\\/fb4445501a2be4ab82176667f844e40da26fa007-knockout_punches.js\"},{\"name\":null,\"type\":\"js\",\"url\":\"\\/assetserver\\/a8ea7d9192d5fa85c6fac26c72d7fece1e500138-all.js\"},{\"name\":null,\"type\":\"css\",\"url\":\"\\/assetserver\\/620a53798cfdb29a4a2142ce0588e9aadc351d94-style.css\"},{\"name\":null,\"type\":\"css\",\"url\":\"\\/assetserver\\/9f2f17f677abbfd015a7c6b0c0f09a2da809bee2-bulma_confined.min.css\"}],\"type\":\"async_block\"},\"id\":\"15263484446839438238\",\"handlers\":{\"changes\":[\"(function (val){return (val!=this.model[\\\"changes\\\"]()) ? (this.valueFromJulia[\\\"changes\\\"]=true, this.model[\\\"changes\\\"](val)) : undefined})\"],\"index\":[\"(function (val){return (val!=this.model[\\\"index\\\"]()) ? (this.valueFromJulia[\\\"index\\\"]=true, this.model[\\\"index\\\"](val)) : undefined})\"]},\"systemjs_options\":null,\"mount_callbacks\":[\"function () {\\n    var handler = (function (ko, koPunches) {\\n    ko.punches.enableAll();\\n    ko.bindingHandlers.numericValue = {\\n        init: function(element, valueAccessor, allBindings, data, context) {\\n            var stringified = ko.observable(ko.unwrap(valueAccessor()));\\n            stringified.subscribe(function(value) {\\n                var val = parseFloat(value);\\n                if (!isNaN(val)) {\\n                    valueAccessor()(val);\\n                }\\n            });\\n            valueAccessor().subscribe(function(value) {\\n                var str = JSON.stringify(value);\\n                if ((str == \\\"0\\\") && ([\\\"-0\\\", \\\"-0.\\\"].indexOf(stringified()) >= 0))\\n                     return;\\n                 if ([\\\"null\\\", \\\"\\\"].indexOf(str) >= 0)\\n                     return;\\n                stringified(str);\\n            });\\n            ko.applyBindingsToNode(\\n                element,\\n                {\\n                    value: stringified,\\n                    valueUpdate: allBindings.get('valueUpdate'),\\n                },\\n                context,\\n            );\\n        }\\n    };\\n    var json_data = {\\\"formatted_vals\\\":[\\\"0.01\\\",\\\"0.02\\\",\\\"0.03\\\",\\\"0.04\\\",\\\"0.05\\\",\\\"0.06\\\",\\\"0.07\\\",\\\"0.08\\\",\\\"0.09\\\",\\\"0.1\\\",\\\"0.11\\\",\\\"0.12\\\",\\\"0.13\\\",\\\"0.14\\\",\\\"0.15\\\",\\\"0.16\\\",\\\"0.17\\\",\\\"0.18\\\",\\\"0.19\\\",\\\"0.2\\\",\\\"0.21\\\",\\\"0.22\\\",\\\"0.23\\\",\\\"0.24\\\",\\\"0.25\\\",\\\"0.26\\\",\\\"0.27\\\",\\\"0.28\\\",\\\"0.29\\\",\\\"0.3\\\",\\\"0.31\\\",\\\"0.32\\\",\\\"0.33\\\",\\\"0.34\\\",\\\"0.35\\\",\\\"0.36\\\",\\\"0.37\\\",\\\"0.38\\\",\\\"0.39\\\",\\\"0.4\\\",\\\"0.41\\\",\\\"0.42\\\",\\\"0.43\\\",\\\"0.44\\\",\\\"0.45\\\",\\\"0.46\\\",\\\"0.47\\\",\\\"0.48\\\",\\\"0.49\\\",\\\"0.5\\\",\\\"0.51\\\",\\\"0.52\\\",\\\"0.53\\\",\\\"0.54\\\",\\\"0.55\\\",\\\"0.56\\\",\\\"0.57\\\",\\\"0.58\\\",\\\"0.59\\\",\\\"0.6\\\",\\\"0.61\\\",\\\"0.62\\\",\\\"0.63\\\",\\\"0.64\\\",\\\"0.65\\\",\\\"0.66\\\",\\\"0.67\\\",\\\"0.68\\\",\\\"0.69\\\",\\\"0.7\\\",\\\"0.71\\\",\\\"0.72\\\",\\\"0.73\\\",\\\"0.74\\\",\\\"0.75\\\",\\\"0.76\\\",\\\"0.77\\\",\\\"0.78\\\",\\\"0.79\\\",\\\"0.8\\\",\\\"0.81\\\",\\\"0.82\\\",\\\"0.83\\\",\\\"0.84\\\",\\\"0.85\\\",\\\"0.86\\\",\\\"0.87\\\",\\\"0.88\\\",\\\"0.89\\\",\\\"0.9\\\",\\\"0.91\\\",\\\"0.92\\\",\\\"0.93\\\",\\\"0.94\\\",\\\"0.95\\\",\\\"0.96\\\",\\\"0.97\\\",\\\"0.98\\\",\\\"0.99\\\",\\\"1.0\\\",\\\"1.01\\\",\\\"1.02\\\",\\\"1.03\\\",\\\"1.04\\\",\\\"1.05\\\",\\\"1.06\\\",\\\"1.07\\\",\\\"1.08\\\",\\\"1.09\\\",\\\"1.1\\\",\\\"1.11\\\",\\\"1.12\\\",\\\"1.13\\\",\\\"1.14\\\",\\\"1.15\\\",\\\"1.16\\\",\\\"1.17\\\",\\\"1.18\\\",\\\"1.19\\\",\\\"1.2\\\",\\\"1.21\\\",\\\"1.22\\\",\\\"1.23\\\",\\\"1.24\\\",\\\"1.25\\\",\\\"1.26\\\",\\\"1.27\\\",\\\"1.28\\\",\\\"1.29\\\",\\\"1.3\\\",\\\"1.31\\\",\\\"1.32\\\",\\\"1.33\\\",\\\"1.34\\\",\\\"1.35\\\",\\\"1.36\\\",\\\"1.37\\\",\\\"1.38\\\",\\\"1.39\\\",\\\"1.4\\\",\\\"1.41\\\",\\\"1.42\\\",\\\"1.43\\\",\\\"1.44\\\",\\\"1.45\\\",\\\"1.46\\\",\\\"1.47\\\",\\\"1.48\\\",\\\"1.49\\\",\\\"1.5\\\",\\\"1.51\\\",\\\"1.52\\\",\\\"1.53\\\",\\\"1.54\\\",\\\"1.55\\\",\\\"1.56\\\",\\\"1.57\\\",\\\"1.58\\\",\\\"1.59\\\",\\\"1.6\\\",\\\"1.61\\\",\\\"1.62\\\",\\\"1.63\\\",\\\"1.64\\\",\\\"1.65\\\",\\\"1.66\\\",\\\"1.67\\\",\\\"1.68\\\",\\\"1.69\\\",\\\"1.7\\\",\\\"1.71\\\",\\\"1.72\\\",\\\"1.73\\\",\\\"1.74\\\",\\\"1.75\\\",\\\"1.76\\\",\\\"1.77\\\",\\\"1.78\\\",\\\"1.79\\\",\\\"1.8\\\",\\\"1.81\\\",\\\"1.82\\\",\\\"1.83\\\",\\\"1.84\\\",\\\"1.85\\\",\\\"1.86\\\",\\\"1.87\\\",\\\"1.88\\\",\\\"1.89\\\",\\\"1.9\\\",\\\"1.91\\\",\\\"1.92\\\",\\\"1.93\\\",\\\"1.94\\\",\\\"1.95\\\",\\\"1.96\\\",\\\"1.97\\\",\\\"1.98\\\",\\\"1.99\\\",\\\"2.0\\\"],\\\"changes\\\":WebIO.getval({\\\"name\\\":\\\"changes\\\",\\\"scope\\\":\\\"15263484446839438238\\\",\\\"id\\\":\\\"977371251064677005\\\",\\\"type\\\":\\\"observable\\\"}),\\\"index\\\":WebIO.getval({\\\"name\\\":\\\"index\\\",\\\"scope\\\":\\\"15263484446839438238\\\",\\\"id\\\":\\\"7896885286963100629\\\",\\\"type\\\":\\\"observable\\\"})};\\n    var self = this;\\n    function AppViewModel() {\\n        for (var key in json_data) {\\n            var el = json_data[key];\\n            this[key] = Array.isArray(el) ? ko.observableArray(el) : ko.observable(el);\\n        }\\n        \\n        [this[\\\"formatted_val\\\"]=ko.computed(    function(){\\n        return this.formatted_vals()[parseInt(this.index())-(1)];\\n    }\\n,this)]\\n        [this[\\\"changes\\\"].subscribe((function (val){!(this.valueFromJulia[\\\"changes\\\"]) ? (WebIO.setval({\\\"name\\\":\\\"changes\\\",\\\"scope\\\":\\\"15263484446839438238\\\",\\\"id\\\":\\\"977371251064677005\\\",\\\"type\\\":\\\"observable\\\"},val)) : undefined; return this.valueFromJulia[\\\"changes\\\"]=false}),self),this[\\\"index\\\"].subscribe((function (val){!(this.valueFromJulia[\\\"index\\\"]) ? (WebIO.setval({\\\"name\\\":\\\"index\\\",\\\"scope\\\":\\\"15263484446839438238\\\",\\\"id\\\":\\\"7896885286963100629\\\",\\\"type\\\":\\\"observable\\\"},val)) : undefined; return this.valueFromJulia[\\\"index\\\"]=false}),self)]\\n        \\n    }\\n    self.model = new AppViewModel();\\n    self.valueFromJulia = {};\\n    for (var key in json_data) {\\n        self.valueFromJulia[key] = false;\\n    }\\n    ko.applyBindings(self.model, self.dom);\\n}\\n);\\n    (WebIO.importBlock({\\\"data\\\":[{\\\"name\\\":\\\"knockout\\\",\\\"type\\\":\\\"js\\\",\\\"url\\\":\\\"\\/assetserver\\/2712bb0a7395d062608c2f218a74b700f6c76b99-knockout.js\\\"},{\\\"name\\\":\\\"knockout_punches\\\",\\\"type\\\":\\\"js\\\",\\\"url\\\":\\\"\\/assetserver\\/fb4445501a2be4ab82176667f844e40da26fa007-knockout_punches.js\\\"}],\\\"type\\\":\\\"async_block\\\"})).then((imports) => handler.apply(this, imports));\\n}\\n\"],\"observables\":{\"changes\":{\"sync\":false,\"id\":\"977371251064677005\",\"value\":0},\"index\":{\"sync\":true,\"id\":\"7896885286963100629\",\"value\":100}}},\"children\":[{\"props\":{\"className\":\"interact-flex-row interact-widget\"},\"nodeType\":\"DOM\",\"type\":\"node\",\"instanceArgs\":{\"namespace\":\"html\",\"tag\":\"div\"},\"children\":[{\"props\":{\"className\":\"interact-flex-row-left\"},\"nodeType\":\"DOM\",\"type\":\"node\",\"instanceArgs\":{\"namespace\":\"html\",\"tag\":\"div\"},\"children\":[{\"props\":{\"className\":\"interact \",\"style\":{\"padding\":\"5px 10px 0px 10px\"}},\"nodeType\":\"DOM\",\"type\":\"node\",\"instanceArgs\":{\"namespace\":\"html\",\"tag\":\"label\"},\"children\":[\"K\"]}]},{\"props\":{\"className\":\"interact-flex-row-center\"},\"nodeType\":\"DOM\",\"type\":\"node\",\"instanceArgs\":{\"namespace\":\"html\",\"tag\":\"div\"},\"children\":[{\"props\":{\"max\":200,\"min\":1,\"attributes\":{\"type\":\"range\",\"data-bind\":\"numericValue: index, valueUpdate: 'input', event: {change: function (){this.changes(this.changes()+1)}}\",\"orient\":\"horizontal\"},\"step\":1,\"className\":\"slider slider is-fullwidth\",\"style\":{}},\"nodeType\":\"DOM\",\"type\":\"node\",\"instanceArgs\":{\"namespace\":\"html\",\"tag\":\"input\"},\"children\":[]}]},{\"props\":{\"className\":\"interact-flex-row-right\"},\"nodeType\":\"DOM\",\"type\":\"node\",\"instanceArgs\":{\"namespace\":\"html\",\"tag\":\"div\"},\"children\":[{\"props\":{\"attributes\":{\"data-bind\":\"text: formatted_val\"}},\"nodeType\":\"DOM\",\"type\":\"node\",\"instanceArgs\":{\"namespace\":\"html\",\"tag\":\"p\"},\"children\":[]}]}]}]}]},{\"props\":{\"className\":\"field interact-widget\"},\"nodeType\":\"DOM\",\"type\":\"node\",\"instanceArgs\":{\"namespace\":\"html\",\"tag\":\"div\"},\"children\":[{\"props\":{},\"nodeType\":\"Scope\",\"type\":\"node\",\"instanceArgs\":{\"imports\":{\"data\":[{\"name\":\"knockout\",\"type\":\"js\",\"url\":\"\\/assetserver\\/2712bb0a7395d062608c2f218a74b700f6c76b99-knockout.js\"},{\"name\":\"knockout_punches\",\"type\":\"js\",\"url\":\"\\/assetserver\\/fb4445501a2be4ab82176667f844e40da26fa007-knockout_punches.js\"},{\"name\":null,\"type\":\"js\",\"url\":\"\\/assetserver\\/a8ea7d9192d5fa85c6fac26c72d7fece1e500138-all.js\"},{\"name\":null,\"type\":\"css\",\"url\":\"\\/assetserver\\/620a53798cfdb29a4a2142ce0588e9aadc351d94-style.css\"},{\"name\":null,\"type\":\"css\",\"url\":\"\\/assetserver\\/9f2f17f677abbfd015a7c6b0c0f09a2da809bee2-bulma_confined.min.css\"}],\"type\":\"async_block\"},\"id\":\"2188328306980486993\",\"handlers\":{\"changes\":[\"(function (val){return (val!=this.model[\\\"changes\\\"]()) ? (this.valueFromJulia[\\\"changes\\\"]=true, this.model[\\\"changes\\\"](val)) : undefined})\"],\"index\":[\"(function (val){return (val!=this.model[\\\"index\\\"]()) ? (this.valueFromJulia[\\\"index\\\"]=true, this.model[\\\"index\\\"](val)) : undefined})\"]},\"systemjs_options\":null,\"mount_callbacks\":[\"function () {\\n    var handler = (function (ko, koPunches) {\\n    ko.punches.enableAll();\\n    ko.bindingHandlers.numericValue = {\\n        init: function(element, valueAccessor, allBindings, data, context) {\\n            var stringified = ko.observable(ko.unwrap(valueAccessor()));\\n            stringified.subscribe(function(value) {\\n                var val = parseFloat(value);\\n                if (!isNaN(val)) {\\n                    valueAccessor()(val);\\n                }\\n            });\\n            valueAccessor().subscribe(function(value) {\\n                var str = JSON.stringify(value);\\n                if ((str == \\\"0\\\") && ([\\\"-0\\\", \\\"-0.\\\"].indexOf(stringified()) >= 0))\\n                     return;\\n                 if ([\\\"null\\\", \\\"\\\"].indexOf(str) >= 0)\\n                     return;\\n                stringified(str);\\n            });\\n            ko.applyBindingsToNode(\\n                element,\\n                {\\n                    value: stringified,\\n                    valueUpdate: allBindings.get('valueUpdate'),\\n                },\\n                context,\\n            );\\n        }\\n    };\\n    var json_data = {\\\"formatted_vals\\\":[\\\"0.0\\\",\\\"0.02\\\",\\\"0.04\\\",\\\"0.06\\\",\\\"0.08\\\",\\\"0.1\\\",\\\"0.12\\\",\\\"0.14\\\",\\\"0.16\\\",\\\"0.18\\\",\\\"0.2\\\",\\\"0.22\\\",\\\"0.24\\\",\\\"0.26\\\",\\\"0.28\\\",\\\"0.3\\\",\\\"0.32\\\",\\\"0.34\\\",\\\"0.36\\\",\\\"0.38\\\",\\\"0.4\\\",\\\"0.42\\\",\\\"0.44\\\",\\\"0.46\\\",\\\"0.48\\\",\\\"0.5\\\"],\\\"changes\\\":WebIO.getval({\\\"name\\\":\\\"changes\\\",\\\"scope\\\":\\\"2188328306980486993\\\",\\\"id\\\":\\\"9250567687615503498\\\",\\\"type\\\":\\\"observable\\\"}),\\\"index\\\":WebIO.getval({\\\"name\\\":\\\"index\\\",\\\"scope\\\":\\\"2188328306980486993\\\",\\\"id\\\":\\\"5820984371860385257\\\",\\\"type\\\":\\\"observable\\\"})};\\n    var self = this;\\n    function AppViewModel() {\\n        for (var key in json_data) {\\n            var el = json_data[key];\\n            this[key] = Array.isArray(el) ? ko.observableArray(el) : ko.observable(el);\\n        }\\n        \\n        [this[\\\"formatted_val\\\"]=ko.computed(    function(){\\n        return this.formatted_vals()[parseInt(this.index())-(1)];\\n    }\\n,this)]\\n        [this[\\\"changes\\\"].subscribe((function (val){!(this.valueFromJulia[\\\"changes\\\"]) ? (WebIO.setval({\\\"name\\\":\\\"changes\\\",\\\"scope\\\":\\\"2188328306980486993\\\",\\\"id\\\":\\\"9250567687615503498\\\",\\\"type\\\":\\\"observable\\\"},val)) : undefined; return this.valueFromJulia[\\\"changes\\\"]=false}),self),this[\\\"index\\\"].subscribe((function (val){!(this.valueFromJulia[\\\"index\\\"]) ? (WebIO.setval({\\\"name\\\":\\\"index\\\",\\\"scope\\\":\\\"2188328306980486993\\\",\\\"id\\\":\\\"5820984371860385257\\\",\\\"type\\\":\\\"observable\\\"},val)) : undefined; return this.valueFromJulia[\\\"index\\\"]=false}),self)]\\n        \\n    }\\n    self.model = new AppViewModel();\\n    self.valueFromJulia = {};\\n    for (var key in json_data) {\\n        self.valueFromJulia[key] = false;\\n    }\\n    ko.applyBindings(self.model, self.dom);\\n}\\n);\\n    (WebIO.importBlock({\\\"data\\\":[{\\\"name\\\":\\\"knockout\\\",\\\"type\\\":\\\"js\\\",\\\"url\\\":\\\"\\/assetserver\\/2712bb0a7395d062608c2f218a74b700f6c76b99-knockout.js\\\"},{\\\"name\\\":\\\"knockout_punches\\\",\\\"type\\\":\\\"js\\\",\\\"url\\\":\\\"\\/assetserver\\/fb4445501a2be4ab82176667f844e40da26fa007-knockout_punches.js\\\"}],\\\"type\\\":\\\"async_block\\\"})).then((imports) => handler.apply(this, imports));\\n}\\n\"],\"observables\":{\"changes\":{\"sync\":false,\"id\":\"9250567687615503498\",\"value\":0},\"index\":{\"sync\":true,\"id\":\"5820984371860385257\",\"value\":13}}},\"children\":[{\"props\":{\"className\":\"interact-flex-row interact-widget\"},\"nodeType\":\"DOM\",\"type\":\"node\",\"instanceArgs\":{\"namespace\":\"html\",\"tag\":\"div\"},\"children\":[{\"props\":{\"className\":\"interact-flex-row-left\"},\"nodeType\":\"DOM\",\"type\":\"node\",\"instanceArgs\":{\"namespace\":\"html\",\"tag\":\"div\"},\"children\":[{\"props\":{\"className\":\"interact \",\"style\":{\"padding\":\"5px 10px 0px 10px\"}},\"nodeType\":\"DOM\",\"type\":\"node\",\"instanceArgs\":{\"namespace\":\"html\",\"tag\":\"label\"},\"children\":[\"P\"]}]},{\"props\":{\"className\":\"interact-flex-row-center\"},\"nodeType\":\"DOM\",\"type\":\"node\",\"instanceArgs\":{\"namespace\":\"html\",\"tag\":\"div\"},\"children\":[{\"props\":{\"max\":26,\"min\":1,\"attributes\":{\"type\":\"range\",\"data-bind\":\"numericValue: index, valueUpdate: 'input', event: {change: function (){this.changes(this.changes()+1)}}\",\"orient\":\"horizontal\"},\"step\":1,\"className\":\"slider slider is-fullwidth\",\"style\":{}},\"nodeType\":\"DOM\",\"type\":\"node\",\"instanceArgs\":{\"namespace\":\"html\",\"tag\":\"input\"},\"children\":[]}]},{\"props\":{\"className\":\"interact-flex-row-right\"},\"nodeType\":\"DOM\",\"type\":\"node\",\"instanceArgs\":{\"namespace\":\"html\",\"tag\":\"div\"},\"children\":[{\"props\":{\"attributes\":{\"data-bind\":\"text: formatted_val\"}},\"nodeType\":\"DOM\",\"type\":\"node\",\"instanceArgs\":{\"namespace\":\"html\",\"tag\":\"p\"},\"children\":[]}]}]}]}]},{\"props\":{\"className\":\"field interact-widget\"},\"nodeType\":\"DOM\",\"type\":\"node\",\"instanceArgs\":{\"namespace\":\"html\",\"tag\":\"div\"},\"children\":[{\"props\":{},\"nodeType\":\"Scope\",\"type\":\"node\",\"instanceArgs\":{\"imports\":{\"data\":[{\"name\":\"knockout\",\"type\":\"js\",\"url\":\"\\/assetserver\\/2712bb0a7395d062608c2f218a74b700f6c76b99-knockout.js\"},{\"name\":\"knockout_punches\",\"type\":\"js\",\"url\":\"\\/assetserver\\/fb4445501a2be4ab82176667f844e40da26fa007-knockout_punches.js\"},{\"name\":null,\"type\":\"js\",\"url\":\"\\/assetserver\\/a8ea7d9192d5fa85c6fac26c72d7fece1e500138-all.js\"},{\"name\":null,\"type\":\"css\",\"url\":\"\\/assetserver\\/620a53798cfdb29a4a2142ce0588e9aadc351d94-style.css\"},{\"name\":null,\"type\":\"css\",\"url\":\"\\/assetserver\\/9f2f17f677abbfd015a7c6b0c0f09a2da809bee2-bulma_confined.min.css\"}],\"type\":\"async_block\"},\"id\":\"7713808898405925733\",\"handlers\":{\"changes\":[\"(function (val){return (val!=this.model[\\\"changes\\\"]()) ? (this.valueFromJulia[\\\"changes\\\"]=true, this.model[\\\"changes\\\"](val)) : undefined})\"],\"index\":[\"(function (val){return (val!=this.model[\\\"index\\\"]()) ? (this.valueFromJulia[\\\"index\\\"]=true, this.model[\\\"index\\\"](val)) : undefined})\"]},\"systemjs_options\":null,\"mount_callbacks\":[\"function () {\\n    var handler = (function (ko, koPunches) {\\n    ko.punches.enableAll();\\n    ko.bindingHandlers.numericValue = {\\n        init: function(element, valueAccessor, allBindings, data, context) {\\n            var stringified = ko.observable(ko.unwrap(valueAccessor()));\\n            stringified.subscribe(function(value) {\\n                var val = parseFloat(value);\\n                if (!isNaN(val)) {\\n                    valueAccessor()(val);\\n                }\\n            });\\n            valueAccessor().subscribe(function(value) {\\n                var str = JSON.stringify(value);\\n                if ((str == \\\"0\\\") && ([\\\"-0\\\", \\\"-0.\\\"].indexOf(stringified()) >= 0))\\n                     return;\\n                 if ([\\\"null\\\", \\\"\\\"].indexOf(str) >= 0)\\n                     return;\\n                stringified(str);\\n            });\\n            ko.applyBindingsToNode(\\n                element,\\n                {\\n                    value: stringified,\\n                    valueUpdate: allBindings.get('valueUpdate'),\\n                },\\n                context,\\n            );\\n        }\\n    };\\n    var json_data = {\\\"formatted_vals\\\":[\\\"0.0\\\",\\\"0.02\\\",\\\"0.04\\\",\\\"0.06\\\",\\\"0.08\\\",\\\"0.1\\\",\\\"0.12\\\",\\\"0.14\\\",\\\"0.16\\\",\\\"0.18\\\",\\\"0.2\\\",\\\"0.22\\\",\\\"0.24\\\",\\\"0.26\\\",\\\"0.28\\\",\\\"0.3\\\",\\\"0.32\\\",\\\"0.34\\\",\\\"0.36\\\",\\\"0.38\\\",\\\"0.4\\\",\\\"0.42\\\",\\\"0.44\\\",\\\"0.46\\\",\\\"0.48\\\",\\\"0.5\\\",\\\"0.52\\\",\\\"0.54\\\",\\\"0.56\\\",\\\"0.58\\\",\\\"0.6\\\",\\\"0.62\\\",\\\"0.64\\\",\\\"0.66\\\",\\\"0.68\\\",\\\"0.7\\\",\\\"0.72\\\",\\\"0.74\\\",\\\"0.76\\\",\\\"0.78\\\",\\\"0.8\\\",\\\"0.82\\\",\\\"0.84\\\",\\\"0.86\\\",\\\"0.88\\\",\\\"0.9\\\",\\\"0.92\\\",\\\"0.94\\\",\\\"0.96\\\",\\\"0.98\\\",\\\"1.0\\\",\\\"1.02\\\",\\\"1.04\\\",\\\"1.06\\\",\\\"1.08\\\",\\\"1.1\\\",\\\"1.12\\\",\\\"1.14\\\",\\\"1.16\\\",\\\"1.18\\\",\\\"1.2\\\",\\\"1.22\\\",\\\"1.24\\\",\\\"1.26\\\",\\\"1.28\\\",\\\"1.3\\\",\\\"1.32\\\",\\\"1.34\\\",\\\"1.36\\\",\\\"1.38\\\",\\\"1.4\\\",\\\"1.42\\\",\\\"1.44\\\",\\\"1.46\\\",\\\"1.48\\\",\\\"1.5\\\",\\\"1.52\\\",\\\"1.54\\\",\\\"1.56\\\",\\\"1.58\\\",\\\"1.6\\\",\\\"1.62\\\",\\\"1.64\\\",\\\"1.66\\\",\\\"1.68\\\",\\\"1.7\\\",\\\"1.72\\\",\\\"1.74\\\",\\\"1.76\\\",\\\"1.78\\\",\\\"1.8\\\",\\\"1.82\\\",\\\"1.84\\\",\\\"1.86\\\",\\\"1.88\\\",\\\"1.9\\\",\\\"1.92\\\",\\\"1.94\\\",\\\"1.96\\\",\\\"1.98\\\",\\\"2.0\\\"],\\\"changes\\\":WebIO.getval({\\\"name\\\":\\\"changes\\\",\\\"scope\\\":\\\"7713808898405925733\\\",\\\"id\\\":\\\"14127690781064962583\\\",\\\"type\\\":\\\"observable\\\"}),\\\"index\\\":WebIO.getval({\\\"name\\\":\\\"index\\\",\\\"scope\\\":\\\"7713808898405925733\\\",\\\"id\\\":\\\"7209180949323006922\\\",\\\"type\\\":\\\"observable\\\"})};\\n    var self = this;\\n    function AppViewModel() {\\n        for (var key in json_data) {\\n            var el = json_data[key];\\n            this[key] = Array.isArray(el) ? ko.observableArray(el) : ko.observable(el);\\n        }\\n        \\n        [this[\\\"formatted_val\\\"]=ko.computed(    function(){\\n        return this.formatted_vals()[parseInt(this.index())-(1)];\\n    }\\n,this)]\\n        [this[\\\"changes\\\"].subscribe((function (val){!(this.valueFromJulia[\\\"changes\\\"]) ? (WebIO.setval({\\\"name\\\":\\\"changes\\\",\\\"scope\\\":\\\"7713808898405925733\\\",\\\"id\\\":\\\"14127690781064962583\\\",\\\"type\\\":\\\"observable\\\"},val)) : undefined; return this.valueFromJulia[\\\"changes\\\"]=false}),self),this[\\\"index\\\"].subscribe((function (val){!(this.valueFromJulia[\\\"index\\\"]) ? (WebIO.setval({\\\"name\\\":\\\"index\\\",\\\"scope\\\":\\\"7713808898405925733\\\",\\\"id\\\":\\\"7209180949323006922\\\",\\\"type\\\":\\\"observable\\\"},val)) : undefined; return this.valueFromJulia[\\\"index\\\"]=false}),self)]\\n        \\n    }\\n    self.model = new AppViewModel();\\n    self.valueFromJulia = {};\\n    for (var key in json_data) {\\n        self.valueFromJulia[key] = false;\\n    }\\n    ko.applyBindings(self.model, self.dom);\\n}\\n);\\n    (WebIO.importBlock({\\\"data\\\":[{\\\"name\\\":\\\"knockout\\\",\\\"type\\\":\\\"js\\\",\\\"url\\\":\\\"\\/assetserver\\/2712bb0a7395d062608c2f218a74b700f6c76b99-knockout.js\\\"},{\\\"name\\\":\\\"knockout_punches\\\",\\\"type\\\":\\\"js\\\",\\\"url\\\":\\\"\\/assetserver\\/fb4445501a2be4ab82176667f844e40da26fa007-knockout_punches.js\\\"}],\\\"type\\\":\\\"async_block\\\"})).then((imports) => handler.apply(this, imports));\\n}\\n\"],\"observables\":{\"changes\":{\"sync\":false,\"id\":\"14127690781064962583\",\"value\":0},\"index\":{\"sync\":true,\"id\":\"7209180949323006922\",\"value\":51}}},\"children\":[{\"props\":{\"className\":\"interact-flex-row interact-widget\"},\"nodeType\":\"DOM\",\"type\":\"node\",\"instanceArgs\":{\"namespace\":\"html\",\"tag\":\"div\"},\"children\":[{\"props\":{\"className\":\"interact-flex-row-left\"},\"nodeType\":\"DOM\",\"type\":\"node\",\"instanceArgs\":{\"namespace\":\"html\",\"tag\":\"div\"},\"children\":[{\"props\":{\"className\":\"interact \",\"style\":{\"padding\":\"5px 10px 0px 10px\"}},\"nodeType\":\"DOM\",\"type\":\"node\",\"instanceArgs\":{\"namespace\":\"html\",\"tag\":\"label\"},\"children\":[\"x0\"]}]},{\"props\":{\"className\":\"interact-flex-row-center\"},\"nodeType\":\"DOM\",\"type\":\"node\",\"instanceArgs\":{\"namespace\":\"html\",\"tag\":\"div\"},\"children\":[{\"props\":{\"max\":101,\"min\":1,\"attributes\":{\"type\":\"range\",\"data-bind\":\"numericValue: index, valueUpdate: 'input', event: {change: function (){this.changes(this.changes()+1)}}\",\"orient\":\"horizontal\"},\"step\":1,\"className\":\"slider slider is-fullwidth\",\"style\":{}},\"nodeType\":\"DOM\",\"type\":\"node\",\"instanceArgs\":{\"namespace\":\"html\",\"tag\":\"input\"},\"children\":[]}]},{\"props\":{\"className\":\"interact-flex-row-right\"},\"nodeType\":\"DOM\",\"type\":\"node\",\"instanceArgs\":{\"namespace\":\"html\",\"tag\":\"div\"},\"children\":[{\"props\":{\"attributes\":{\"data-bind\":\"text: formatted_val\"}},\"nodeType\":\"DOM\",\"type\":\"node\",\"instanceArgs\":{\"namespace\":\"html\",\"tag\":\"p\"},\"children\":[]}]}]}]}]},{\"props\":{\"className\":\"field interact-widget\"},\"nodeType\":\"DOM\",\"type\":\"node\",\"instanceArgs\":{\"namespace\":\"html\",\"tag\":\"div\"},\"children\":[{\"props\":{},\"nodeType\":\"Scope\",\"type\":\"node\",\"instanceArgs\":{\"imports\":{\"data\":[{\"name\":\"knockout\",\"type\":\"js\",\"url\":\"\\/assetserver\\/2712bb0a7395d062608c2f218a74b700f6c76b99-knockout.js\"},{\"name\":\"knockout_punches\",\"type\":\"js\",\"url\":\"\\/assetserver\\/fb4445501a2be4ab82176667f844e40da26fa007-knockout_punches.js\"},{\"name\":null,\"type\":\"js\",\"url\":\"\\/assetserver\\/a8ea7d9192d5fa85c6fac26c72d7fece1e500138-all.js\"},{\"name\":null,\"type\":\"css\",\"url\":\"\\/assetserver\\/620a53798cfdb29a4a2142ce0588e9aadc351d94-style.css\"},{\"name\":null,\"type\":\"css\",\"url\":\"\\/assetserver\\/9f2f17f677abbfd015a7c6b0c0f09a2da809bee2-bulma_confined.min.css\"}],\"type\":\"async_block\"},\"id\":\"6640753087554850595\",\"handlers\":{\"changes\":[\"(function (val){return (val!=this.model[\\\"changes\\\"]()) ? (this.valueFromJulia[\\\"changes\\\"]=true, this.model[\\\"changes\\\"](val)) : undefined})\"],\"index\":[\"(function (val){return (val!=this.model[\\\"index\\\"]()) ? (this.valueFromJulia[\\\"index\\\"]=true, this.model[\\\"index\\\"](val)) : undefined})\"]},\"systemjs_options\":null,\"mount_callbacks\":[\"function () {\\n    var handler = (function (ko, koPunches) {\\n    ko.punches.enableAll();\\n    ko.bindingHandlers.numericValue = {\\n        init: function(element, valueAccessor, allBindings, data, context) {\\n            var stringified = ko.observable(ko.unwrap(valueAccessor()));\\n            stringified.subscribe(function(value) {\\n                var val = parseFloat(value);\\n                if (!isNaN(val)) {\\n                    valueAccessor()(val);\\n                }\\n            });\\n            valueAccessor().subscribe(function(value) {\\n                var str = JSON.stringify(value);\\n                if ((str == \\\"0\\\") && ([\\\"-0\\\", \\\"-0.\\\"].indexOf(stringified()) >= 0))\\n                     return;\\n                 if ([\\\"null\\\", \\\"\\\"].indexOf(str) >= 0)\\n                     return;\\n                stringified(str);\\n            });\\n            ko.applyBindingsToNode(\\n                element,\\n                {\\n                    value: stringified,\\n                    valueUpdate: allBindings.get('valueUpdate'),\\n                },\\n                context,\\n            );\\n        }\\n    };\\n    var json_data = {\\\"formatted_vals\\\":[\\\"1.0\\\",\\\"6.0\\\",\\\"11.0\\\",\\\"16.0\\\",\\\"21.0\\\",\\\"26.0\\\",\\\"31.0\\\",\\\"36.0\\\",\\\"41.0\\\",\\\"46.0\\\",\\\"51.0\\\",\\\"56.0\\\",\\\"61.0\\\",\\\"66.0\\\",\\\"71.0\\\",\\\"76.0\\\",\\\"81.0\\\",\\\"86.0\\\",\\\"91.0\\\",\\\"96.0\\\",\\\"101.0\\\",\\\"106.0\\\",\\\"111.0\\\",\\\"116.0\\\",\\\"121.0\\\",\\\"126.0\\\",\\\"131.0\\\",\\\"136.0\\\",\\\"141.0\\\",\\\"146.0\\\",\\\"151.0\\\",\\\"156.0\\\",\\\"161.0\\\",\\\"166.0\\\",\\\"171.0\\\",\\\"176.0\\\",\\\"181.0\\\",\\\"186.0\\\",\\\"191.0\\\",\\\"196.0\\\"],\\\"changes\\\":WebIO.getval({\\\"name\\\":\\\"changes\\\",\\\"scope\\\":\\\"6640753087554850595\\\",\\\"id\\\":\\\"10372493369389256959\\\",\\\"type\\\":\\\"observable\\\"}),\\\"index\\\":WebIO.getval({\\\"name\\\":\\\"index\\\",\\\"scope\\\":\\\"6640753087554850595\\\",\\\"id\\\":\\\"12183409907605560857\\\",\\\"type\\\":\\\"observable\\\"})};\\n    var self = this;\\n    function AppViewModel() {\\n        for (var key in json_data) {\\n            var el = json_data[key];\\n            this[key] = Array.isArray(el) ? ko.observableArray(el) : ko.observable(el);\\n        }\\n        \\n        [this[\\\"formatted_val\\\"]=ko.computed(    function(){\\n        return this.formatted_vals()[parseInt(this.index())-(1)];\\n    }\\n,this)]\\n        [this[\\\"changes\\\"].subscribe((function (val){!(this.valueFromJulia[\\\"changes\\\"]) ? (WebIO.setval({\\\"name\\\":\\\"changes\\\",\\\"scope\\\":\\\"6640753087554850595\\\",\\\"id\\\":\\\"10372493369389256959\\\",\\\"type\\\":\\\"observable\\\"},val)) : undefined; return this.valueFromJulia[\\\"changes\\\"]=false}),self),this[\\\"index\\\"].subscribe((function (val){!(this.valueFromJulia[\\\"index\\\"]) ? (WebIO.setval({\\\"name\\\":\\\"index\\\",\\\"scope\\\":\\\"6640753087554850595\\\",\\\"id\\\":\\\"12183409907605560857\\\",\\\"type\\\":\\\"observable\\\"},val)) : undefined; return this.valueFromJulia[\\\"index\\\"]=false}),self)]\\n        \\n    }\\n    self.model = new AppViewModel();\\n    self.valueFromJulia = {};\\n    for (var key in json_data) {\\n        self.valueFromJulia[key] = false;\\n    }\\n    ko.applyBindings(self.model, self.dom);\\n}\\n);\\n    (WebIO.importBlock({\\\"data\\\":[{\\\"name\\\":\\\"knockout\\\",\\\"type\\\":\\\"js\\\",\\\"url\\\":\\\"\\/assetserver\\/2712bb0a7395d062608c2f218a74b700f6c76b99-knockout.js\\\"},{\\\"name\\\":\\\"knockout_punches\\\",\\\"type\\\":\\\"js\\\",\\\"url\\\":\\\"\\/assetserver\\/fb4445501a2be4ab82176667f844e40da26fa007-knockout_punches.js\\\"}],\\\"type\\\":\\\"async_block\\\"})).then((imports) => handler.apply(this, imports));\\n}\\n\"],\"observables\":{\"changes\":{\"sync\":false,\"id\":\"10372493369389256959\",\"value\":0},\"index\":{\"sync\":true,\"id\":\"12183409907605560857\",\"value\":20}}},\"children\":[{\"props\":{\"className\":\"interact-flex-row interact-widget\"},\"nodeType\":\"DOM\",\"type\":\"node\",\"instanceArgs\":{\"namespace\":\"html\",\"tag\":\"div\"},\"children\":[{\"props\":{\"className\":\"interact-flex-row-left\"},\"nodeType\":\"DOM\",\"type\":\"node\",\"instanceArgs\":{\"namespace\":\"html\",\"tag\":\"div\"},\"children\":[{\"props\":{\"className\":\"interact \",\"style\":{\"padding\":\"5px 10px 0px 10px\"}},\"nodeType\":\"DOM\",\"type\":\"node\",\"instanceArgs\":{\"namespace\":\"html\",\"tag\":\"label\"},\"children\":[\"tmax\"]}]},{\"props\":{\"className\":\"interact-flex-row-center\"},\"nodeType\":\"DOM\",\"type\":\"node\",\"instanceArgs\":{\"namespace\":\"html\",\"tag\":\"div\"},\"children\":[{\"props\":{\"max\":40,\"min\":1,\"attributes\":{\"type\":\"range\",\"data-bind\":\"numericValue: index, valueUpdate: 'input', event: {change: function (){this.changes(this.changes()+1)}}\",\"orient\":\"horizontal\"},\"step\":1,\"className\":\"slider slider is-fullwidth\",\"style\":{}},\"nodeType\":\"DOM\",\"type\":\"node\",\"instanceArgs\":{\"namespace\":\"html\",\"tag\":\"input\"},\"children\":[]}]},{\"props\":{\"className\":\"interact-flex-row-right\"},\"nodeType\":\"DOM\",\"type\":\"node\",\"instanceArgs\":{\"namespace\":\"html\",\"tag\":\"div\"},\"children\":[{\"props\":{\"attributes\":{\"data-bind\":\"text: formatted_val\"}},\"nodeType\":\"DOM\",\"type\":\"node\",\"instanceArgs\":{\"namespace\":\"html\",\"tag\":\"p\"},\"children\":[]}]}]}]}]},{\"props\":{},\"nodeType\":\"Scope\",\"type\":\"node\",\"instanceArgs\":{\"imports\":{\"data\":[],\"type\":\"async_block\"},\"id\":\"4781128929375146388\",\"handlers\":{},\"systemjs_options\":null,\"mount_callbacks\":[],\"observables\":{\"obs-node\":{\"sync\":false,\"id\":\"15980063654650062674\",\"value\":{\"props\":{\"className\":\"interact-flex-row interact-widget\"},\"nodeType\":\"DOM\",\"type\":\"node\",\"instanceArgs\":{\"namespace\":\"html\",\"tag\":\"div\"},\"children\":[{\"props\":{\"setInnerHtml\":\"<img src=\\\"data:image\\/png;base64,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\\\" \\/>\"},\"nodeType\":\"DOM\",\"type\":\"node\",\"instanceArgs\":{\"namespace\":\"html\",\"tag\":\"div\"},\"children\":[]}]}}}},\"children\":[{\"props\":{},\"nodeType\":\"ObservableNode\",\"type\":\"node\",\"instanceArgs\":{\"id\":\"15980063654650062674\",\"name\":\"obs-node\"},\"children\":[]}]}]},\n",
       "        window,\n",
       "    );\n",
       "    })()\n",
       "    </script>\n",
       "</div>\n"
      ],
      "text/plain": [
       "Node{WebIO.DOM}(WebIO.DOM(:html, :div), Any[Node{WebIO.DOM}(WebIO.DOM(:html, :div), Any[Scope(Node{WebIO.DOM}(WebIO.DOM(:html, :div), Any[Node{WebIO.DOM}(WebIO.DOM(:html, :div), Any[Node{WebIO.DOM}(WebIO.DOM(:html, :label), Any[\"R\"], Dict{Symbol, Any}(:className => \"interact \", :style => Dict{Any, Any}(:padding => \"5px 10px 0px 10px\")))], Dict{Symbol, Any}(:className => \"interact-flex-row-left\")), Node{WebIO.DOM}(WebIO.DOM(:html, :div), Any[Node{WebIO.DOM}(WebIO.DOM(:html, :input), Any[], Dict{Symbol, Any}(:max => 51, :min => 1, :attributes => Dict{Any, Any}(:type => \"range\", Symbol(\"data-bind\") => \"numericValue: index, valueUpdate: 'input', event: {change: function (){this.changes(this.changes()+1)}}\", \"orient\" => \"horizontal\"), :step => 1, :className => \"slider slider is-fullwidth\", :style => Dict{Any, Any}()))], Dict{Symbol, Any}(:className => \"interact-flex-row-center\")), Node{WebIO.DOM}(WebIO.DOM(:html, :div), Any[Node{WebIO.DOM}(WebIO.DOM(:html, :p), Any[], Dict{Symbol, Any}(:attributes => Dict(\"data-bind\" => \"text: formatted_val\")))], Dict{Symbol, Any}(:className => \"interact-flex-row-right\"))], Dict{Symbol, Any}(:className => \"interact-flex-row interact-widget\")), Dict{String, Tuple{Observables.AbstractObservable, Union{Nothing, Bool}}}(\"changes\" => (Observable{Int64} with 1 listeners. Value:\n",
       "0, nothing), \"index\" => (Observable{Any} with 2 listeners. Value:\n",
       "26, nothing)), Set{String}(), nothing, Asset[Asset(\"js\", \"knockout\", \"C:\\\\Users\\\\Camilo\\\\.julia\\\\packages\\\\Knockout\\\\3gjS1\\\\src\\\\..\\\\assets\\\\knockout.js\"), Asset(\"js\", \"knockout_punches\", \"C:\\\\Users\\\\Camilo\\\\.julia\\\\packages\\\\Knockout\\\\3gjS1\\\\src\\\\..\\\\assets\\\\knockout_punches.js\"), Asset(\"js\", nothing, \"C:\\\\Users\\\\Camilo\\\\.julia\\\\packages\\\\InteractBase\\\\h8Fwe\\\\src\\\\..\\\\assets\\\\all.js\"), Asset(\"css\", nothing, \"C:\\\\Users\\\\Camilo\\\\.julia\\\\packages\\\\InteractBase\\\\h8Fwe\\\\src\\\\..\\\\assets\\\\style.css\"), Asset(\"css\", nothing, \"C:\\\\Users\\\\Camilo\\\\.julia\\\\packages\\\\Interact\\\\pVyN2\\\\src\\\\..\\\\assets\\\\bulma_confined.min.css\")], Dict{Any, Any}(\"changes\" => Any[WebIO.JSString(\"(function (val){return (val!=this.model[\\\"changes\\\"]()) ? (this.valueFromJulia[\\\"changes\\\"]=true, this.model[\\\"changes\\\"](val)) : undefined})\")], \"index\" => Any[WebIO.JSString(\"(function (val){return (val!=this.model[\\\"index\\\"]()) ? (this.valueFromJulia[\\\"index\\\"]=true, this.model[\\\"index\\\"](val)) : undefined})\")]), WebIO.ConnectionPool(Channel{Any}(32), Set{AbstractConnection}(), Condition(Base.InvasiveLinkedList{Task}(Task (runnable) @0x000000000f5b6d60, Task (runnable) @0x000000000f5b6d60), Base.AlwaysLockedST(1))), WebIO.JSString[WebIO.JSString(\"function () {\\n    var handler = (function (ko, koPunches) {\\n    ko.punches.enableAll();\\n    ko.bindingHandlers.numericValue = {\\n        init: function(element, valueAccessor, allBindings, data, context) {\\n            var stringified = ko.observable(ko.unwrap(valueAccessor()));\\n            stringified.subscribe(function(value) {\\n                var val = parseFloat(value);\\n                if (!isNaN(val)) {\\n                    valueAccessor()(val);\\n                }\\n            });\\n            valueAccessor().subscribe(function(value) {\\n                var str = JSON.stringify(value);\\n                if ((str == \\\"0\\\") && ([\\\"-0\\\", \\\"-0.\\\"].indexOf(stringified()) >= 0))\\n                     return;\\n                 if ([\\\"null\\\", \\\"\\\"].indexOf(str) >= 0)\\n                     return;\\n                stringified(str);\\n            });\\n            ko.applyBindingsToNode(\\n                element,\\n                {\\n                    value: stringified,\\n                    valueUpdate: allBindings.get('valueUpdate'),\\n                },\\n                context,\\n            );\\n        }\\n    };\\n    var json_data = {\\\"formatted_vals\\\":[\\\"0.0\\\",\\\"0.02\\\",\\\"0.04\\\",\\\"0.06\\\",\\\"0.08\\\",\\\"0.1\\\",\\\"0.12\\\",\\\"0.14\\\",\\\"0.16\\\",\\\"0.18\\\",\\\"0.2\\\",\\\"0.22\\\",\\\"0.24\\\",\\\"0.26\\\",\\\"0.28\\\",\\\"0.3\\\",\\\"0.32\\\",\\\"0.34\\\",\\\"0.36\\\",\\\"0.38\\\",\\\"0.4\\\",\\\"0.42\\\",\\\"0.44\\\",\\\"0.46\\\",\\\"0.48\\\",\\\"0.5\\\",\\\"0.52\\\",\\\"0.54\\\",\\\"0.56\\\",\\\"0.58\\\",\\\"0.6\\\",\\\"0.62\\\",\\\"0.64\\\",\\\"0.66\\\",\\\"0.68\\\",\\\"0.7\\\",\\\"0.72\\\",\\\"0.74\\\",\\\"0.76\\\",\\\"0.78\\\",\\\"0.8\\\",\\\"0.82\\\",\\\"0.84\\\",\\\"0.86\\\",\\\"0.88\\\",\\\"0.9\\\",\\\"0.92\\\",\\\"0.94\\\",\\\"0.96\\\",\\\"0.98\\\",\\\"1.0\\\"],\\\"changes\\\":WebIO.getval({\\\"name\\\":\\\"changes\\\",\\\"scope\\\":\\\"8559336392139051330\\\",\\\"id\\\":\\\"2523120513391003500\\\",\\\"type\\\":\\\"observable\\\"}),\\\"index\\\":WebIO.getval({\\\"name\\\":\\\"index\\\",\\\"scope\\\":\\\"8559336392139051330\\\",\\\"id\\\":\\\"10568707183061115056\\\",\\\"type\\\":\\\"observable\\\"})};\\n    var self = this;\\n    function AppViewModel() {\\n        for (var key in json_data) {\\n            var el = json_data[key];\\n            this[key] = Array.isArray(el) ? ko.observableArray(el) : ko.observable(el);\\n        }\\n        \\n        [this[\\\"formatted_val\\\"]=ko.computed(    function(){\\n        return this.formatted_vals()[parseInt(this.index())-(1)];\\n    }\\n,this)]\\n        [this[\\\"changes\\\"].subscribe((function (val){!(this.valueFromJulia[\\\"changes\\\"]) ? (WebIO.setval({\\\"name\\\":\\\"changes\\\",\\\"scope\\\":\\\"8559336392139051330\\\",\\\"id\\\":\\\"2523120513391003500\\\",\\\"type\\\":\\\"observable\\\"},val)) : undefined; return this.valueFromJulia[\\\"changes\\\"]=false}),self),this[\\\"index\\\"].subscribe((function (val){!(this.valueFromJulia[\\\"index\\\"]) ? (WebIO.setval({\\\"name\\\":\\\"index\\\",\\\"scope\\\":\\\"8559336392139051330\\\",\\\"id\\\":\\\"10568707183061115056\\\",\\\"type\\\":\\\"observable\\\"},val)) : undefined; return this.valueFromJulia[\\\"index\\\"]=false}),self)]\\n        \\n    }\\n    self.model = new AppViewModel();\\n    self.valueFromJulia = {};\\n    for (var key in json_data) {\\n        self.valueFromJulia[key] = false;\\n    }\\n    ko.applyBindings(self.model, self.dom);\\n}\\n);\\n    (WebIO.importBlock({\\\"data\\\":[{\\\"name\\\":\\\"knockout\\\",\\\"type\\\":\\\"js\\\",\\\"url\\\":\\\"/assetserver/2712bb0a7395d062608c2f218a74b700f6c76b99-knockout.js\\\"},{\\\"name\\\":\\\"knockout_punches\\\",\\\"type\\\":\\\"js\\\",\\\"url\\\":\\\"/assetserver/fb4445501a2be4ab82176667f844e40da26fa007-knockout_punches.js\\\"}],\\\"type\\\":\\\"async_block\\\"})).then((imports) => handler.apply(this, imports));\\n}\\n\")])], Dict{Symbol, Any}(:className => \"field interact-widget\")), Node{WebIO.DOM}(WebIO.DOM(:html, :div), Any[Scope(Node{WebIO.DOM}(WebIO.DOM(:html, :div), Any[Node{WebIO.DOM}(WebIO.DOM(:html, :div), Any[Node{WebIO.DOM}(WebIO.DOM(:html, :label), Any[\"K\"], Dict{Symbol, Any}(:className => \"interact \", :style => Dict{Any, Any}(:padding => \"5px 10px 0px 10px\")))], Dict{Symbol, Any}(:className => \"interact-flex-row-left\")), Node{WebIO.DOM}(WebIO.DOM(:html, :div), Any[Node{WebIO.DOM}(WebIO.DOM(:html, :input), Any[], Dict{Symbol, Any}(:max => 200, :min => 1, :attributes => Dict{Any, Any}(:type => \"range\", Symbol(\"data-bind\") => \"numericValue: index, valueUpdate: 'input', event: {change: function (){this.changes(this.changes()+1)}}\", \"orient\" => \"horizontal\"), :step => 1, :className => \"slider slider is-fullwidth\", :style => Dict{Any, Any}()))], Dict{Symbol, Any}(:className => \"interact-flex-row-center\")), Node{WebIO.DOM}(WebIO.DOM(:html, :div), Any[Node{WebIO.DOM}(WebIO.DOM(:html, :p), Any[], Dict{Symbol, Any}(:attributes => Dict(\"data-bind\" => \"text: formatted_val\")))], Dict{Symbol, Any}(:className => \"interact-flex-row-right\"))], Dict{Symbol, Any}(:className => \"interact-flex-row interact-widget\")), Dict{String, Tuple{Observables.AbstractObservable, Union{Nothing, Bool}}}(\"changes\" => (Observable{Int64} with 1 listeners. Value:\n",
       "0, nothing), \"index\" => (Observable{Any} with 2 listeners. Value:\n",
       "100, nothing)), Set{String}(), nothing, Asset[Asset(\"js\", \"knockout\", \"C:\\\\Users\\\\Camilo\\\\.julia\\\\packages\\\\Knockout\\\\3gjS1\\\\src\\\\..\\\\assets\\\\knockout.js\"), Asset(\"js\", \"knockout_punches\", \"C:\\\\Users\\\\Camilo\\\\.julia\\\\packages\\\\Knockout\\\\3gjS1\\\\src\\\\..\\\\assets\\\\knockout_punches.js\"), Asset(\"js\", nothing, \"C:\\\\Users\\\\Camilo\\\\.julia\\\\packages\\\\InteractBase\\\\h8Fwe\\\\src\\\\..\\\\assets\\\\all.js\"), Asset(\"css\", nothing, \"C:\\\\Users\\\\Camilo\\\\.julia\\\\packages\\\\InteractBase\\\\h8Fwe\\\\src\\\\..\\\\assets\\\\style.css\"), Asset(\"css\", nothing, \"C:\\\\Users\\\\Camilo\\\\.julia\\\\packages\\\\Interact\\\\pVyN2\\\\src\\\\..\\\\assets\\\\bulma_confined.min.css\")], Dict{Any, Any}(\"changes\" => Any[WebIO.JSString(\"(function (val){return (val!=this.model[\\\"changes\\\"]()) ? (this.valueFromJulia[\\\"changes\\\"]=true, this.model[\\\"changes\\\"](val)) : undefined})\")], \"index\" => Any[WebIO.JSString(\"(function (val){return (val!=this.model[\\\"index\\\"]()) ? (this.valueFromJulia[\\\"index\\\"]=true, this.model[\\\"index\\\"](val)) : undefined})\")]), WebIO.ConnectionPool(Channel{Any}(32), Set{AbstractConnection}(), Condition(Base.InvasiveLinkedList{Task}(Task (runnable) @0x000000000fa8b850, Task (runnable) @0x000000000fa8b850), Base.AlwaysLockedST(1))), WebIO.JSString[WebIO.JSString(\"function () {\\n    var handler = (function (ko, koPunches) {\\n    ko.punches.enableAll();\\n    ko.bindingHandlers.numericValue = {\\n        init: function(element, valueAccessor, allBindings, data, context) {\\n            var stringified = ko.observable(ko.unwrap(valueAccessor()));\\n            stringified.subscribe(function(value) {\\n                var val = parseFloat(value);\\n                if (!isNaN(val)) {\\n                    valueAccessor()(val);\\n                }\\n            });\\n            valueAccessor().subscribe(function(value) {\\n                var str = JSON.stringify(value);\\n                if ((str == \\\"0\\\") && ([\\\"-0\\\", \\\"-0.\\\"].indexOf(stringified()) >= 0))\\n                     return;\\n                 if ([\\\"null\\\", \\\"\\\"].indexOf(str) >= 0)\\n                     return;\\n                stringified(str);\\n            });\\n            ko.applyBindingsToNode(\\n                element,\\n                {\\n                    value: stringified,\\n                    valueUpdate: allBindings.get('valueUpdate'),\\n                },\\n                context,\\n            );\\n        }\\n    };\\n    var json_data = {\\\"formatted_vals\\\":[\\\"0.01\\\",\\\"0.02\\\",\\\"0.03\\\",\\\"0.04\\\",\\\"0.05\\\",\\\"0.06\\\",\\\"0.07\\\",\\\"0.08\\\",\\\"0.09\\\",\\\"0.1\\\",\\\"0.11\\\",\\\"0.12\\\",\\\"0.13\\\",\\\"0.14\\\",\\\"0.15\\\",\\\"0.16\\\",\\\"0.17\\\",\\\"0.18\\\",\\\"0.19\\\",\\\"0.2\\\",\\\"0.21\\\",\\\"0.22\\\",\\\"0.23\\\",\\\"0.24\\\",\\\"0.25\\\",\\\"0.26\\\",\\\"0.27\\\",\\\"0.28\\\",\\\"0.29\\\",\\\"0.3\\\",\\\"0.31\\\",\\\"0.32\\\",\\\"0.33\\\",\\\"0.34\\\",\\\"0.35\\\",\\\"0.36\\\",\\\"0.37\\\",\\\"0.38\\\",\\\"0.39\\\",\\\"0.4\\\",\\\"0.41\\\",\\\"0.42\\\",\\\"0.43\\\",\\\"0.44\\\",\\\"0.45\\\",\\\"0.46\\\",\\\"0.47\\\",\\\"0.48\\\",\\\"0.49\\\",\\\"0.5\\\",\\\"0.51\\\",\\\"0.52\\\",\\\"0.53\\\",\\\"0.54\\\",\\\"0.55\\\",\\\"0.56\\\",\\\"0.57\\\",\\\"0.58\\\",\\\"0.59\\\",\\\"0.6\\\",\\\"0.61\\\",\\\"0.62\\\",\\\"0.63\\\",\\\"0.64\\\",\\\"0.65\\\",\\\"0.66\\\",\\\"0.67\\\",\\\"0.68\\\",\\\"0.69\\\",\\\"0.7\\\",\\\"0.71\\\",\\\"0.72\\\",\\\"0.73\\\",\\\"0.74\\\",\\\"0.75\\\",\\\"0.76\\\",\\\"0.77\\\",\\\"0.78\\\",\\\"0.79\\\",\\\"0.8\\\",\\\"0.81\\\",\\\"0.82\\\",\\\"0.83\\\",\\\"0.84\\\",\\\"0.85\\\",\\\"0.86\\\",\\\"0.87\\\",\\\"0.88\\\",\\\"0.89\\\",\\\"0.9\\\",\\\"0.91\\\",\\\"0.92\\\",\\\"0.93\\\",\\\"0.94\\\",\\\"0.95\\\",\\\"0.96\\\",\\\"0.97\\\",\\\"0.98\\\",\\\"0.99\\\",\\\"1.0\\\",\\\"1.01\\\",\\\"1.02\\\",\\\"1.03\\\",\\\"1.04\\\",\\\"1.05\\\",\\\"1.06\\\",\\\"1.07\\\",\\\"1.08\\\",\\\"1.09\\\",\\\"1.1\\\",\\\"1.11\\\",\\\"1.12\\\",\\\"1.13\\\",\\\"1.14\\\",\\\"1.15\\\",\\\"1.16\\\",\\\"1.17\\\",\\\"1.18\\\",\\\"1.19\\\",\\\"1.2\\\",\\\"1.21\\\",\\\"1.22\\\",\\\"1.23\\\",\\\"1.24\\\",\\\"1.25\\\",\\\"1.26\\\",\\\"1.27\\\",\\\"1.28\\\",\\\"1.29\\\",\\\"1.3\\\",\\\"1.31\\\",\\\"1.32\\\",\\\"1.33\\\",\\\"1.34\\\",\\\"1.35\\\",\\\"1.36\\\",\\\"1.37\\\",\\\"1.38\\\",\\\"1.39\\\",\\\"1.4\\\",\\\"1.41\\\",\\\"1.42\\\",\\\"1.43\\\",\\\"1.44\\\",\\\"1.45\\\",\\\"1.46\\\",\\\"1.47\\\",\\\"1.48\\\",\\\"1.49\\\",\\\"1.5\\\",\\\"1.51\\\",\\\"1.52\\\",\\\"1.53\\\",\\\"1.54\\\",\\\"1.55\\\",\\\"1.56\\\",\\\"1.57\\\",\\\"1.58\\\",\\\"1.59\\\",\\\"1.6\\\",\\\"1.61\\\",\\\"1.62\\\",\\\"1.63\\\",\\\"1.64\\\",\\\"1.65\\\",\\\"1.66\\\",\\\"1.67\\\",\\\"1.68\\\",\\\"1.69\\\",\\\"1.7\\\",\\\"1.71\\\",\\\"1.72\\\",\\\"1.73\\\",\\\"1.74\\\",\\\"1.75\\\",\\\"1.76\\\",\\\"1.77\\\",\\\"1.78\\\",\\\"1.79\\\",\\\"1.8\\\",\\\"1.81\\\",\\\"1.82\\\",\\\"1.83\\\",\\\"1.84\\\",\\\"1.85\\\",\\\"1.86\\\",\\\"1.87\\\",\\\"1.88\\\",\\\"1.89\\\",\\\"1.9\\\",\\\"1.91\\\",\\\"1.92\\\",\\\"1.93\\\",\\\"1.94\\\",\\\"1.95\\\",\\\"1.96\\\",\\\"1.97\\\",\\\"1.98\\\",\\\"1.99\\\",\\\"2.0\\\"],\\\"changes\\\":WebIO.getval({\\\"name\\\":\\\"changes\\\",\\\"scope\\\":\\\"15263484446839438238\\\",\\\"id\\\":\\\"977371251064677005\\\",\\\"type\\\":\\\"observable\\\"}),\\\"index\\\":WebIO.getval({\\\"name\\\":\\\"index\\\",\\\"scope\\\":\\\"15263484446839438238\\\",\\\"id\\\":\\\"7896885286963100629\\\",\\\"type\\\":\\\"observable\\\"})};\\n    var self = this;\\n    function AppViewModel() {\\n        for (var key in json_data) {\\n            var el = json_data[key];\\n            this[key] = Array.isArray(el) ? ko.observableArray(el) : ko.observable(el);\\n        }\\n        \\n        [this[\\\"formatted_val\\\"]=ko.computed(    function(){\\n        return this.formatted_vals()[parseInt(this.index())-(1)];\\n    }\\n,this)]\\n        [this[\\\"changes\\\"].subscribe((function (val){!(this.valueFromJulia[\\\"changes\\\"]) ? (WebIO.setval({\\\"name\\\":\\\"changes\\\",\\\"scope\\\":\\\"15263484446839438238\\\",\\\"id\\\":\\\"977371251064677005\\\",\\\"type\\\":\\\"observable\\\"},val)) : undefined; return this.valueFromJulia[\\\"changes\\\"]=false}),self),this[\\\"index\\\"].subscribe((function (val){!(this.valueFromJulia[\\\"index\\\"]) ? (WebIO.setval({\\\"name\\\":\\\"index\\\",\\\"scope\\\":\\\"15263484446839438238\\\",\\\"id\\\":\\\"7896885286963100629\\\",\\\"type\\\":\\\"observable\\\"},val)) : undefined; return this.valueFromJulia[\\\"index\\\"]=false}),self)]\\n        \\n    }\\n    self.model = new AppViewModel();\\n    self.valueFromJulia = {};\\n    for (var key in json_data) {\\n        self.valueFromJulia[key] = false;\\n    }\\n    ko.applyBindings(self.model, self.dom);\\n}\\n);\\n    (WebIO.importBlock({\\\"data\\\":[{\\\"name\\\":\\\"knockout\\\",\\\"type\\\":\\\"js\\\",\\\"url\\\":\\\"/assetserver/2712bb0a7395d062608c2f218a74b700f6c76b99-knockout.js\\\"},{\\\"name\\\":\\\"knockout_punches\\\",\\\"type\\\":\\\"js\\\",\\\"url\\\":\\\"/assetserver/fb4445501a2be4ab82176667f844e40da26fa007-knockout_punches.js\\\"}],\\\"type\\\":\\\"async_block\\\"})).then((imports) => handler.apply(this, imports));\\n}\\n\")])], Dict{Symbol, Any}(:className => \"field interact-widget\")), Node{WebIO.DOM}(WebIO.DOM(:html, :div), Any[Scope(Node{WebIO.DOM}(WebIO.DOM(:html, :div), Any[Node{WebIO.DOM}(WebIO.DOM(:html, :div), Any[Node{WebIO.DOM}(WebIO.DOM(:html, :label), Any[\"P\"], Dict{Symbol, Any}(:className => \"interact \", :style => Dict{Any, Any}(:padding => \"5px 10px 0px 10px\")))], Dict{Symbol, Any}(:className => \"interact-flex-row-left\")), Node{WebIO.DOM}(WebIO.DOM(:html, :div), Any[Node{WebIO.DOM}(WebIO.DOM(:html, :input), Any[], Dict{Symbol, Any}(:max => 26, :min => 1, :attributes => Dict{Any, Any}(:type => \"range\", Symbol(\"data-bind\") => \"numericValue: index, valueUpdate: 'input', event: {change: function (){this.changes(this.changes()+1)}}\", \"orient\" => \"horizontal\"), :step => 1, :className => \"slider slider is-fullwidth\", :style => Dict{Any, Any}()))], Dict{Symbol, Any}(:className => \"interact-flex-row-center\")), Node{WebIO.DOM}(WebIO.DOM(:html, :div), Any[Node{WebIO.DOM}(WebIO.DOM(:html, :p), Any[], Dict{Symbol, Any}(:attributes => Dict(\"data-bind\" => \"text: formatted_val\")))], Dict{Symbol, Any}(:className => \"interact-flex-row-right\"))], Dict{Symbol, Any}(:className => \"interact-flex-row interact-widget\")), Dict{String, Tuple{Observables.AbstractObservable, Union{Nothing, Bool}}}(\"changes\" => (Observable{Int64} with 1 listeners. Value:\n",
       "0, nothing), \"index\" => (Observable{Any} with 2 listeners. Value:\n",
       "13, nothing)), Set{String}(), nothing, Asset[Asset(\"js\", \"knockout\", \"C:\\\\Users\\\\Camilo\\\\.julia\\\\packages\\\\Knockout\\\\3gjS1\\\\src\\\\..\\\\assets\\\\knockout.js\"), Asset(\"js\", \"knockout_punches\", \"C:\\\\Users\\\\Camilo\\\\.julia\\\\packages\\\\Knockout\\\\3gjS1\\\\src\\\\..\\\\assets\\\\knockout_punches.js\"), Asset(\"js\", nothing, \"C:\\\\Users\\\\Camilo\\\\.julia\\\\packages\\\\InteractBase\\\\h8Fwe\\\\src\\\\..\\\\assets\\\\all.js\"), Asset(\"css\", nothing, \"C:\\\\Users\\\\Camilo\\\\.julia\\\\packages\\\\InteractBase\\\\h8Fwe\\\\src\\\\..\\\\assets\\\\style.css\"), Asset(\"css\", nothing, \"C:\\\\Users\\\\Camilo\\\\.julia\\\\packages\\\\Interact\\\\pVyN2\\\\src\\\\..\\\\assets\\\\bulma_confined.min.css\")], Dict{Any, Any}(\"changes\" => Any[WebIO.JSString(\"(function (val){return (val!=this.model[\\\"changes\\\"]()) ? (this.valueFromJulia[\\\"changes\\\"]=true, this.model[\\\"changes\\\"](val)) : undefined})\")], \"index\" => Any[WebIO.JSString(\"(function (val){return (val!=this.model[\\\"index\\\"]()) ? (this.valueFromJulia[\\\"index\\\"]=true, this.model[\\\"index\\\"](val)) : undefined})\")]), WebIO.ConnectionPool(Channel{Any}(32), Set{AbstractConnection}(), Condition(Base.InvasiveLinkedList{Task}(Task (runnable) @0x000000000fd66590, Task (runnable) @0x000000000fd66590), Base.AlwaysLockedST(1))), WebIO.JSString[WebIO.JSString(\"function () {\\n    var handler = (function (ko, koPunches) {\\n    ko.punches.enableAll();\\n    ko.bindingHandlers.numericValue = {\\n        init: function(element, valueAccessor, allBindings, data, context) {\\n            var stringified = ko.observable(ko.unwrap(valueAccessor()));\\n            stringified.subscribe(function(value) {\\n                var val = parseFloat(value);\\n                if (!isNaN(val)) {\\n                    valueAccessor()(val);\\n                }\\n            });\\n            valueAccessor().subscribe(function(value) {\\n                var str = JSON.stringify(value);\\n                if ((str == \\\"0\\\") && ([\\\"-0\\\", \\\"-0.\\\"].indexOf(stringified()) >= 0))\\n                     return;\\n                 if ([\\\"null\\\", \\\"\\\"].indexOf(str) >= 0)\\n                     return;\\n                stringified(str);\\n            });\\n            ko.applyBindingsToNode(\\n                element,\\n                {\\n                    value: stringified,\\n                    valueUpdate: allBindings.get('valueUpdate'),\\n                },\\n                context,\\n            );\\n        }\\n    };\\n    var json_data = {\\\"formatted_vals\\\":[\\\"0.0\\\",\\\"0.02\\\",\\\"0.04\\\",\\\"0.06\\\",\\\"0.08\\\",\\\"0.1\\\",\\\"0.12\\\",\\\"0.14\\\",\\\"0.16\\\",\\\"0.18\\\",\\\"0.2\\\",\\\"0.22\\\",\\\"0.24\\\",\\\"0.26\\\",\\\"0.28\\\",\\\"0.3\\\",\\\"0.32\\\",\\\"0.34\\\",\\\"0.36\\\",\\\"0.38\\\",\\\"0.4\\\",\\\"0.42\\\",\\\"0.44\\\",\\\"0.46\\\",\\\"0.48\\\",\\\"0.5\\\"],\\\"changes\\\":WebIO.getval({\\\"name\\\":\\\"changes\\\",\\\"scope\\\":\\\"2188328306980486993\\\",\\\"id\\\":\\\"9250567687615503498\\\",\\\"type\\\":\\\"observable\\\"}),\\\"index\\\":WebIO.getval({\\\"name\\\":\\\"index\\\",\\\"scope\\\":\\\"2188328306980486993\\\",\\\"id\\\":\\\"5820984371860385257\\\",\\\"type\\\":\\\"observable\\\"})};\\n    var self = this;\\n    function AppViewModel() {\\n        for (var key in json_data) {\\n            var el = json_data[key];\\n            this[key] = Array.isArray(el) ? ko.observableArray(el) : ko.observable(el);\\n        }\\n        \\n        [this[\\\"formatted_val\\\"]=ko.computed(    function(){\\n        return this.formatted_vals()[parseInt(this.index())-(1)];\\n    }\\n,this)]\\n        [this[\\\"changes\\\"].subscribe((function (val){!(this.valueFromJulia[\\\"changes\\\"]) ? (WebIO.setval({\\\"name\\\":\\\"changes\\\",\\\"scope\\\":\\\"2188328306980486993\\\",\\\"id\\\":\\\"9250567687615503498\\\",\\\"type\\\":\\\"observable\\\"},val)) : undefined; return this.valueFromJulia[\\\"changes\\\"]=false}),self),this[\\\"index\\\"].subscribe((function (val){!(this.valueFromJulia[\\\"index\\\"]) ? (WebIO.setval({\\\"name\\\":\\\"index\\\",\\\"scope\\\":\\\"2188328306980486993\\\",\\\"id\\\":\\\"5820984371860385257\\\",\\\"type\\\":\\\"observable\\\"},val)) : undefined; return this.valueFromJulia[\\\"index\\\"]=false}),self)]\\n        \\n    }\\n    self.model = new AppViewModel();\\n    self.valueFromJulia = {};\\n    for (var key in json_data) {\\n        self.valueFromJulia[key] = false;\\n    }\\n    ko.applyBindings(self.model, self.dom);\\n}\\n);\\n    (WebIO.importBlock({\\\"data\\\":[{\\\"name\\\":\\\"knockout\\\",\\\"type\\\":\\\"js\\\",\\\"url\\\":\\\"/assetserver/2712bb0a7395d062608c2f218a74b700f6c76b99-knockout.js\\\"},{\\\"name\\\":\\\"knockout_punches\\\",\\\"type\\\":\\\"js\\\",\\\"url\\\":\\\"/assetserver/fb4445501a2be4ab82176667f844e40da26fa007-knockout_punches.js\\\"}],\\\"type\\\":\\\"async_block\\\"})).then((imports) => handler.apply(this, imports));\\n}\\n\")])], Dict{Symbol, Any}(:className => \"field interact-widget\")), Node{WebIO.DOM}(WebIO.DOM(:html, :div), Any[Scope(Node{WebIO.DOM}(WebIO.DOM(:html, :div), Any[Node{WebIO.DOM}(WebIO.DOM(:html, :div), Any[Node{WebIO.DOM}(WebIO.DOM(:html, :label), Any[\"x0\"], Dict{Symbol, Any}(:className => \"interact \", :style => Dict{Any, Any}(:padding => \"5px 10px 0px 10px\")))], Dict{Symbol, Any}(:className => \"interact-flex-row-left\")), Node{WebIO.DOM}(WebIO.DOM(:html, :div), Any[Node{WebIO.DOM}(WebIO.DOM(:html, :input), Any[], Dict{Symbol, Any}(:max => 101, :min => 1, :attributes => Dict{Any, Any}(:type => \"range\", Symbol(\"data-bind\") => \"numericValue: index, valueUpdate: 'input', event: {change: function (){this.changes(this.changes()+1)}}\", \"orient\" => \"horizontal\"), :step => 1, :className => \"slider slider is-fullwidth\", :style => Dict{Any, Any}()))], Dict{Symbol, Any}(:className => \"interact-flex-row-center\")), Node{WebIO.DOM}(WebIO.DOM(:html, :div), Any[Node{WebIO.DOM}(WebIO.DOM(:html, :p), Any[], Dict{Symbol, Any}(:attributes => Dict(\"data-bind\" => \"text: formatted_val\")))], Dict{Symbol, Any}(:className => \"interact-flex-row-right\"))], Dict{Symbol, Any}(:className => \"interact-flex-row interact-widget\")), Dict{String, Tuple{Observables.AbstractObservable, Union{Nothing, Bool}}}(\"changes\" => (Observable{Int64} with 1 listeners. Value:\n",
       "0, nothing), \"index\" => (Observable{Any} with 2 listeners. Value:\n",
       "51, nothing)), Set{String}(), nothing, Asset[Asset(\"js\", \"knockout\", \"C:\\\\Users\\\\Camilo\\\\.julia\\\\packages\\\\Knockout\\\\3gjS1\\\\src\\\\..\\\\assets\\\\knockout.js\"), Asset(\"js\", \"knockout_punches\", \"C:\\\\Users\\\\Camilo\\\\.julia\\\\packages\\\\Knockout\\\\3gjS1\\\\src\\\\..\\\\assets\\\\knockout_punches.js\"), Asset(\"js\", nothing, \"C:\\\\Users\\\\Camilo\\\\.julia\\\\packages\\\\InteractBase\\\\h8Fwe\\\\src\\\\..\\\\assets\\\\all.js\"), Asset(\"css\", nothing, \"C:\\\\Users\\\\Camilo\\\\.julia\\\\packages\\\\InteractBase\\\\h8Fwe\\\\src\\\\..\\\\assets\\\\style.css\"), Asset(\"css\", nothing, \"C:\\\\Users\\\\Camilo\\\\.julia\\\\packages\\\\Interact\\\\pVyN2\\\\src\\\\..\\\\assets\\\\bulma_confined.min.css\")], Dict{Any, Any}(\"changes\" => Any[WebIO.JSString(\"(function (val){return (val!=this.model[\\\"changes\\\"]()) ? (this.valueFromJulia[\\\"changes\\\"]=true, this.model[\\\"changes\\\"](val)) : undefined})\")], \"index\" => Any[WebIO.JSString(\"(function (val){return (val!=this.model[\\\"index\\\"]()) ? (this.valueFromJulia[\\\"index\\\"]=true, this.model[\\\"index\\\"](val)) : undefined})\")]), WebIO.ConnectionPool(Channel{Any}(32), Set{AbstractConnection}(), Condition(Base.InvasiveLinkedList{Task}(Task (runnable) @0x00000000101ad5f0, Task (runnable) @0x00000000101ad5f0), Base.AlwaysLockedST(1))), WebIO.JSString[WebIO.JSString(\"function () {\\n    var handler = (function (ko, koPunches) {\\n    ko.punches.enableAll();\\n    ko.bindingHandlers.numericValue = {\\n        init: function(element, valueAccessor, allBindings, data, context) {\\n            var stringified = ko.observable(ko.unwrap(valueAccessor()));\\n            stringified.subscribe(function(value) {\\n                var val = parseFloat(value);\\n                if (!isNaN(val)) {\\n                    valueAccessor()(val);\\n                }\\n            });\\n            valueAccessor().subscribe(function(value) {\\n                var str = JSON.stringify(value);\\n                if ((str == \\\"0\\\") && ([\\\"-0\\\", \\\"-0.\\\"].indexOf(stringified()) >= 0))\\n                     return;\\n                 if ([\\\"null\\\", \\\"\\\"].indexOf(str) >= 0)\\n                     return;\\n                stringified(str);\\n            });\\n            ko.applyBindingsToNode(\\n                element,\\n                {\\n                    value: stringified,\\n                    valueUpdate: allBindings.get('valueUpdate'),\\n                },\\n                context,\\n            );\\n        }\\n    };\\n    var json_data = {\\\"formatted_vals\\\":[\\\"0.0\\\",\\\"0.02\\\",\\\"0.04\\\",\\\"0.06\\\",\\\"0.08\\\",\\\"0.1\\\",\\\"0.12\\\",\\\"0.14\\\",\\\"0.16\\\",\\\"0.18\\\",\\\"0.2\\\",\\\"0.22\\\",\\\"0.24\\\",\\\"0.26\\\",\\\"0.28\\\",\\\"0.3\\\",\\\"0.32\\\",\\\"0.34\\\",\\\"0.36\\\",\\\"0.38\\\",\\\"0.4\\\",\\\"0.42\\\",\\\"0.44\\\",\\\"0.46\\\",\\\"0.48\\\",\\\"0.5\\\",\\\"0.52\\\",\\\"0.54\\\",\\\"0.56\\\",\\\"0.58\\\",\\\"0.6\\\",\\\"0.62\\\",\\\"0.64\\\",\\\"0.66\\\",\\\"0.68\\\",\\\"0.7\\\",\\\"0.72\\\",\\\"0.74\\\",\\\"0.76\\\",\\\"0.78\\\",\\\"0.8\\\",\\\"0.82\\\",\\\"0.84\\\",\\\"0.86\\\",\\\"0.88\\\",\\\"0.9\\\",\\\"0.92\\\",\\\"0.94\\\",\\\"0.96\\\",\\\"0.98\\\",\\\"1.0\\\",\\\"1.02\\\",\\\"1.04\\\",\\\"1.06\\\",\\\"1.08\\\",\\\"1.1\\\",\\\"1.12\\\",\\\"1.14\\\",\\\"1.16\\\",\\\"1.18\\\",\\\"1.2\\\",\\\"1.22\\\",\\\"1.24\\\",\\\"1.26\\\",\\\"1.28\\\",\\\"1.3\\\",\\\"1.32\\\",\\\"1.34\\\",\\\"1.36\\\",\\\"1.38\\\",\\\"1.4\\\",\\\"1.42\\\",\\\"1.44\\\",\\\"1.46\\\",\\\"1.48\\\",\\\"1.5\\\",\\\"1.52\\\",\\\"1.54\\\",\\\"1.56\\\",\\\"1.58\\\",\\\"1.6\\\",\\\"1.62\\\",\\\"1.64\\\",\\\"1.66\\\",\\\"1.68\\\",\\\"1.7\\\",\\\"1.72\\\",\\\"1.74\\\",\\\"1.76\\\",\\\"1.78\\\",\\\"1.8\\\",\\\"1.82\\\",\\\"1.84\\\",\\\"1.86\\\",\\\"1.88\\\",\\\"1.9\\\",\\\"1.92\\\",\\\"1.94\\\",\\\"1.96\\\",\\\"1.98\\\",\\\"2.0\\\"],\\\"changes\\\":WebIO.getval({\\\"name\\\":\\\"changes\\\",\\\"scope\\\":\\\"7713808898405925733\\\",\\\"id\\\":\\\"14127690781064962583\\\",\\\"type\\\":\\\"observable\\\"}),\\\"index\\\":WebIO.getval({\\\"name\\\":\\\"index\\\",\\\"scope\\\":\\\"7713808898405925733\\\",\\\"id\\\":\\\"7209180949323006922\\\",\\\"type\\\":\\\"observable\\\"})};\\n    var self = this;\\n    function AppViewModel() {\\n        for (var key in json_data) {\\n            var el = json_data[key];\\n            this[key] = Array.isArray(el) ? ko.observableArray(el) : ko.observable(el);\\n        }\\n        \\n        [this[\\\"formatted_val\\\"]=ko.computed(    function(){\\n        return this.formatted_vals()[parseInt(this.index())-(1)];\\n    }\\n,this)]\\n        [this[\\\"changes\\\"].subscribe((function (val){!(this.valueFromJulia[\\\"changes\\\"]) ? (WebIO.setval({\\\"name\\\":\\\"changes\\\",\\\"scope\\\":\\\"7713808898405925733\\\",\\\"id\\\":\\\"14127690781064962583\\\",\\\"type\\\":\\\"observable\\\"},val)) : undefined; return this.valueFromJulia[\\\"changes\\\"]=false}),self),this[\\\"index\\\"].subscribe((function (val){!(this.valueFromJulia[\\\"index\\\"]) ? (WebIO.setval({\\\"name\\\":\\\"index\\\",\\\"scope\\\":\\\"7713808898405925733\\\",\\\"id\\\":\\\"7209180949323006922\\\",\\\"type\\\":\\\"observable\\\"},val)) : undefined; return this.valueFromJulia[\\\"index\\\"]=false}),self)]\\n        \\n    }\\n    self.model = new AppViewModel();\\n    self.valueFromJulia = {};\\n    for (var key in json_data) {\\n        self.valueFromJulia[key] = false;\\n    }\\n    ko.applyBindings(self.model, self.dom);\\n}\\n);\\n    (WebIO.importBlock({\\\"data\\\":[{\\\"name\\\":\\\"knockout\\\",\\\"type\\\":\\\"js\\\",\\\"url\\\":\\\"/assetserver/2712bb0a7395d062608c2f218a74b700f6c76b99-knockout.js\\\"},{\\\"name\\\":\\\"knockout_punches\\\",\\\"type\\\":\\\"js\\\",\\\"url\\\":\\\"/assetserver/fb4445501a2be4ab82176667f844e40da26fa007-knockout_punches.js\\\"}],\\\"type\\\":\\\"async_block\\\"})).then((imports) => handler.apply(this, imports));\\n}\\n\")])], Dict{Symbol, Any}(:className => \"field interact-widget\")), Node{WebIO.DOM}(WebIO.DOM(:html, :div), Any[Scope(Node{WebIO.DOM}(WebIO.DOM(:html, :div), Any[Node{WebIO.DOM}(WebIO.DOM(:html, :div), Any[Node{WebIO.DOM}(WebIO.DOM(:html, :label), Any[\"tmax\"], Dict{Symbol, Any}(:className => \"interact \", :style => Dict{Any, Any}(:padding => \"5px 10px 0px 10px\")))], Dict{Symbol, Any}(:className => \"interact-flex-row-left\")), Node{WebIO.DOM}(WebIO.DOM(:html, :div), Any[Node{WebIO.DOM}(WebIO.DOM(:html, :input), Any[], Dict{Symbol, Any}(:max => 40, :min => 1, :attributes => Dict{Any, Any}(:type => \"range\", Symbol(\"data-bind\") => \"numericValue: index, valueUpdate: 'input', event: {change: function (){this.changes(this.changes()+1)}}\", \"orient\" => \"horizontal\"), :step => 1, :className => \"slider slider is-fullwidth\", :style => Dict{Any, Any}()))], Dict{Symbol, Any}(:className => \"interact-flex-row-center\")), Node{WebIO.DOM}(WebIO.DOM(:html, :div), Any[Node{WebIO.DOM}(WebIO.DOM(:html, :p), Any[], Dict{Symbol, Any}(:attributes => Dict(\"data-bind\" => \"text: formatted_val\")))], Dict{Symbol, Any}(:className => \"interact-flex-row-right\"))], Dict{Symbol, Any}(:className => \"interact-flex-row interact-widget\")), Dict{String, Tuple{Observables.AbstractObservable, Union{Nothing, Bool}}}(\"changes\" => (Observable{Int64} with 1 listeners. Value:\n",
       "0, nothing), \"index\" => (Observable{Any} with 2 listeners. Value:\n",
       "20, nothing)), Set{String}(), nothing, Asset[Asset(\"js\", \"knockout\", \"C:\\\\Users\\\\Camilo\\\\.julia\\\\packages\\\\Knockout\\\\3gjS1\\\\src\\\\..\\\\assets\\\\knockout.js\"), Asset(\"js\", \"knockout_punches\", \"C:\\\\Users\\\\Camilo\\\\.julia\\\\packages\\\\Knockout\\\\3gjS1\\\\src\\\\..\\\\assets\\\\knockout_punches.js\"), Asset(\"js\", nothing, \"C:\\\\Users\\\\Camilo\\\\.julia\\\\packages\\\\InteractBase\\\\h8Fwe\\\\src\\\\..\\\\assets\\\\all.js\"), Asset(\"css\", nothing, \"C:\\\\Users\\\\Camilo\\\\.julia\\\\packages\\\\InteractBase\\\\h8Fwe\\\\src\\\\..\\\\assets\\\\style.css\"), Asset(\"css\", nothing, \"C:\\\\Users\\\\Camilo\\\\.julia\\\\packages\\\\Interact\\\\pVyN2\\\\src\\\\..\\\\assets\\\\bulma_confined.min.css\")], Dict{Any, Any}(\"changes\" => Any[WebIO.JSString(\"(function (val){return (val!=this.model[\\\"changes\\\"]()) ? (this.valueFromJulia[\\\"changes\\\"]=true, this.model[\\\"changes\\\"](val)) : undefined})\")], \"index\" => Any[WebIO.JSString(\"(function (val){return (val!=this.model[\\\"index\\\"]()) ? (this.valueFromJulia[\\\"index\\\"]=true, this.model[\\\"index\\\"](val)) : undefined})\")]), WebIO.ConnectionPool(Channel{Any}(32), Set{AbstractConnection}(), Condition(Base.InvasiveLinkedList{Task}(Task (runnable) @0x00000000102e7210, Task (runnable) @0x00000000102e7210), Base.AlwaysLockedST(1))), WebIO.JSString[WebIO.JSString(\"function () {\\n    var handler = (function (ko, koPunches) {\\n    ko.punches.enableAll();\\n    ko.bindingHandlers.numericValue = {\\n        init: function(element, valueAccessor, allBindings, data, context) {\\n            var stringified = ko.observable(ko.unwrap(valueAccessor()));\\n            stringified.subscribe(function(value) {\\n                var val = parseFloat(value);\\n                if (!isNaN(val)) {\\n                    valueAccessor()(val);\\n                }\\n            });\\n            valueAccessor().subscribe(function(value) {\\n                var str = JSON.stringify(value);\\n                if ((str == \\\"0\\\") && ([\\\"-0\\\", \\\"-0.\\\"].indexOf(stringified()) >= 0))\\n                     return;\\n                 if ([\\\"null\\\", \\\"\\\"].indexOf(str) >= 0)\\n                     return;\\n                stringified(str);\\n            });\\n            ko.applyBindingsToNode(\\n                element,\\n                {\\n                    value: stringified,\\n                    valueUpdate: allBindings.get('valueUpdate'),\\n                },\\n                context,\\n            );\\n        }\\n    };\\n    var json_data = {\\\"formatted_vals\\\":[\\\"1.0\\\",\\\"6.0\\\",\\\"11.0\\\",\\\"16.0\\\",\\\"21.0\\\",\\\"26.0\\\",\\\"31.0\\\",\\\"36.0\\\",\\\"41.0\\\",\\\"46.0\\\",\\\"51.0\\\",\\\"56.0\\\",\\\"61.0\\\",\\\"66.0\\\",\\\"71.0\\\",\\\"76.0\\\",\\\"81.0\\\",\\\"86.0\\\",\\\"91.0\\\",\\\"96.0\\\",\\\"101.0\\\",\\\"106.0\\\",\\\"111.0\\\",\\\"116.0\\\",\\\"121.0\\\",\\\"126.0\\\",\\\"131.0\\\",\\\"136.0\\\",\\\"141.0\\\",\\\"146.0\\\",\\\"151.0\\\",\\\"156.0\\\",\\\"161.0\\\",\\\"166.0\\\",\\\"171.0\\\",\\\"176.0\\\",\\\"181.0\\\",\\\"186.0\\\",\\\"191.0\\\",\\\"196.0\\\"],\\\"changes\\\":WebIO.getval({\\\"name\\\":\\\"changes\\\",\\\"scope\\\":\\\"6640753087554850595\\\",\\\"id\\\":\\\"10372493369389256959\\\",\\\"type\\\":\\\"observable\\\"}),\\\"index\\\":WebIO.getval({\\\"name\\\":\\\"index\\\",\\\"scope\\\":\\\"6640753087554850595\\\",\\\"id\\\":\\\"12183409907605560857\\\",\\\"type\\\":\\\"observable\\\"})};\\n    var self = this;\\n    function AppViewModel() {\\n        for (var key in json_data) {\\n            var el = json_data[key];\\n            this[key] = Array.isArray(el) ? ko.observableArray(el) : ko.observable(el);\\n        }\\n        \\n        [this[\\\"formatted_val\\\"]=ko.computed(    function(){\\n        return this.formatted_vals()[parseInt(this.index())-(1)];\\n    }\\n,this)]\\n        [this[\\\"changes\\\"].subscribe((function (val){!(this.valueFromJulia[\\\"changes\\\"]) ? (WebIO.setval({\\\"name\\\":\\\"changes\\\",\\\"scope\\\":\\\"6640753087554850595\\\",\\\"id\\\":\\\"10372493369389256959\\\",\\\"type\\\":\\\"observable\\\"},val)) : undefined; return this.valueFromJulia[\\\"changes\\\"]=false}),self),this[\\\"index\\\"].subscribe((function (val){!(this.valueFromJulia[\\\"index\\\"]) ? (WebIO.setval({\\\"name\\\":\\\"index\\\",\\\"scope\\\":\\\"6640753087554850595\\\",\\\"id\\\":\\\"12183409907605560857\\\",\\\"type\\\":\\\"observable\\\"},val)) : undefined; return this.valueFromJulia[\\\"index\\\"]=false}),self)]\\n        \\n    }\\n    self.model = new AppViewModel();\\n    self.valueFromJulia = {};\\n    for (var key in json_data) {\\n        self.valueFromJulia[key] = false;\\n    }\\n    ko.applyBindings(self.model, self.dom);\\n}\\n);\\n    (WebIO.importBlock({\\\"data\\\":[{\\\"name\\\":\\\"knockout\\\",\\\"type\\\":\\\"js\\\",\\\"url\\\":\\\"/assetserver/2712bb0a7395d062608c2f218a74b700f6c76b99-knockout.js\\\"},{\\\"name\\\":\\\"knockout_punches\\\",\\\"type\\\":\\\"js\\\",\\\"url\\\":\\\"/assetserver/fb4445501a2be4ab82176667f844e40da26fa007-knockout_punches.js\\\"}],\\\"type\\\":\\\"async_block\\\"})).then((imports) => handler.apply(this, imports));\\n}\\n\")])], Dict{Symbol, Any}(:className => \"field interact-widget\")), Observable{Node{WebIO.DOM}} with 0 listeners. Value:\n",
       "Node{WebIO.DOM}(WebIO.DOM(:html, :div), Any[Plot{Plots.GRBackend() n=4}], Dict{Symbol, Any}(:className => \"interact-flex-row interact-widget\"))], Dict{Symbol, Any}())"
      ]
     },
     "execution_count": 12,
     "metadata": {
      "application/vnd.webio.node+json": {
       "kernelId": "81a88d82-5ed9-4b0d-9485-a124bd6b829e"
      }
     },
     "output_type": "execute_result"
    }
   ],
   "source": [
    "@manipulate throttle=.05 for R=0:0.02:1.0,K=0.01:0.01:2.0,P=0:0.02:0.5,x0=0:0.02:2.0,tmax=1.0:5.0:200.0\n",
    "    flux1D(consumer,x0,tmax,[R,K,P];xlims=[-1.0,2.0])\n",
    "end"
   ]
  },
  {
   "cell_type": "markdown",
   "id": "5cb231b3",
   "metadata": {},
   "source": [
    "En este caso los puntos fijos son siempre dos y no se produce una bifurcación de nodo silla. Si se fija la tasa de producción $R$ en un valor no demasiado grande y se va incrementando la tasa de consumo $P$ desde cero se observa que al  principio las trayectorias tienden a un punto fijo cercano a $K$ (como en el modelo logístico). A medida que la tasa de consumo se acerca a la de producción el punto fijo se va corriendo hacia la izquierda pero el otro punto fijo que esta en el origen (que es un repulsor como en el modelo logístico) no se modifica.\n",
    "\n",
    "Evaluando $f(x)=0$ podemos deeterminar las coordenadas de los puntos fijos. \n",
    "\n",
    "Un punto fijo esta siempre en $x_*=0$ que es un repulsor para valores de $P$ pequeños.\n",
    "\n",
    "El otro se mueve con los parámetros y se encuentra en \n",
    "\n",
    "$x_* = \\displaystyle\\frac{K(R-P)}{R}$\n",
    "\n",
    "que como habiamos mencionado si partimos de $P=0$ es un atractor y a medida que $P$ se incrementa se va corriendo hacia la izquierda. Lo interesante es que cuando la tasa de consumo iguala a la de producción $P=R$ este atractor llega a cero, coalesce con el otro punto fijo repulsor pero no se produce una bifurcacion SN porque para $P>R$ pasa del lado de los negativos (no se aniquila y pasa \"a traves\" del punto fijo del origen). \n",
    "\n",
    "Si evaluamos graficamente las derivadas (pendientes) en esos puntos vamos a ver que luego de cruzar para los valores de $x$ negativos este punto fijo movil pasa a ser un repulsor y el punto fijo del origen se transforma en atractor. Es decir que en el punto en el que coalescen intercambian estabilidad. Esto corresponde a una bifurcación de un nuevo tipo que se conoce como **bifurcación transcrítica**.\n",
    "\n",
    "Veamos esto mismo a partir de la linealizacion. La derivada del campo vector es $f'(x)=R-P-2Rx^2/K$. Evaluamos la estabilidad en cada uno de los puntos fijos:\n",
    "\n",
    "- Para el punto fijo en el origen $x_*=0$ la derivada es $f'(0)=R-P$ con lo cual se trata de un repulsor para $P<R$ y \n",
    "de un atractor para $P>R$. Cuando $P=R$ de produce la bifurcación (el cambio de estabilidad en el punto fijo).\n",
    "- Para el punto fijo $x_*=K(R-P)/R$ la derivada es $f'(K(R-P)/R)=P-R$ que es justo el caso inverso del anterior por lo tanto se trata de un atractor para $P>R$ y de un repulsor para $P>R$. Cuando $P=R$ de produce la bifurcación y el intercambio de estabilidad con el otro punto fijo.\n",
    "\n",
    "Los puntos fijos cambian de estabilidad de forma simultánea y en la dirección opuesta, de ahí la idea del intercambio de estabilidad y el nombre de transcrítica.\n",
    "\n",
    "Cuando estudiamos la bifurcacion de nodo silla dijimos que era generica y que no habia forma general de cambiar la estabilidad de un punto fijo sin producir una aniquilación con un par complementario. Que es lo que sucede ahora que puede cambiar la estabilidad de dos puntos fijos sin que se aniquilen entre si? Lo que sucede es que estamos forzando a que $x=0$ sea siempre un punto fijo y eso no es generico. De hecho si perturbamos cualquier sistema que tenga una bifurcacion transcritica pueden pasar dos cosas: o que la bifucacion desaparezca o que se transforme en dos SN.\n"
   ]
  },
  {
   "cell_type": "markdown",
   "id": "bf5f8e66",
   "metadata": {},
   "source": [
    "## Diagrama de Bifurcaciones Consumidor. Bifurcacion Transcritica\n",
    "\n",
    "Vamos a usar el paquete BifurcationKit para calcular el diagrama de bifurcaciones. \n",
    "\n",
    "El primer paso es como antes redefinir nuestro campo vector como funcion solo de $x$ y $p$. Luego vamos a calcular dos ramas, la primera (br1) dandole un guess inicial para el punto fijo en un valor positivo y la segunda (br2) con el guess en 0. Si bien muestra dos puntos de bifurcacion se trata del mismo en $P=0.2$."
   ]
  },
  {
   "cell_type": "code",
   "execution_count": 22,
   "id": "e903b3e8",
   "metadata": {
    "ExecuteTime": {
     "end_time": "2022-01-26T19:42:38.392000-03:00",
     "start_time": "2022-01-26T22:42:35.433Z"
    }
   },
   "outputs": [
    {
     "data": {
      "image/svg+xml": [
       "<?xml version=\"1.0\" encoding=\"utf-8\"?>\n",
       "<svg xmlns=\"http://www.w3.org/2000/svg\" xmlns:xlink=\"http://www.w3.org/1999/xlink\" width=\"600\" height=\"400\" viewBox=\"0 0 2400 1600\">\n",
       "<defs>\n",
       "  <clipPath id=\"clip490\">\n",
       "    <rect x=\"0\" y=\"0\" width=\"2400\" height=\"1600\"/>\n",
       "  </clipPath>\n",
       "</defs>\n",
       "<path clip-path=\"url(#clip490)\" d=\"\n",
       "M0 1600 L2400 1600 L2400 0 L0 0  Z\n",
       "  \" fill=\"#ffffff\" fill-rule=\"evenodd\" fill-opacity=\"1\"/>\n",
       "<defs>\n",
       "  <clipPath id=\"clip491\">\n",
       "    <rect x=\"480\" y=\"0\" width=\"1681\" height=\"1600\"/>\n",
       "  </clipPath>\n",
       "</defs>\n",
       "<path clip-path=\"url(#clip490)\" d=\"\n",
       "M257.204 1423.18 L2352.76 1423.18 L2352.76 47.2441 L257.204 47.2441  Z\n",
       "  \" fill=\"#ffffff\" fill-rule=\"evenodd\" fill-opacity=\"1\"/>\n",
       "<defs>\n",
       "  <clipPath id=\"clip492\">\n",
       "    <rect x=\"257\" y=\"47\" width=\"2097\" height=\"1377\"/>\n",
       "  </clipPath>\n",
       "</defs>\n",
       "<polyline clip-path=\"url(#clip492)\" style=\"stroke:#000000; stroke-linecap:butt; stroke-linejoin:round; stroke-width:2; stroke-opacity:0.1; fill:none\" points=\"\n",
       "  316.512,1423.18 316.512,47.2441 \n",
       "  \"/>\n",
       "<polyline clip-path=\"url(#clip492)\" style=\"stroke:#000000; stroke-linecap:butt; stroke-linejoin:round; stroke-width:2; stroke-opacity:0.1; fill:none\" points=\"\n",
       "  810.746,1423.18 810.746,47.2441 \n",
       "  \"/>\n",
       "<polyline clip-path=\"url(#clip492)\" style=\"stroke:#000000; stroke-linecap:butt; stroke-linejoin:round; stroke-width:2; stroke-opacity:0.1; fill:none\" points=\"\n",
       "  1304.98,1423.18 1304.98,47.2441 \n",
       "  \"/>\n",
       "<polyline clip-path=\"url(#clip492)\" style=\"stroke:#000000; stroke-linecap:butt; stroke-linejoin:round; stroke-width:2; stroke-opacity:0.1; fill:none\" points=\"\n",
       "  1799.21,1423.18 1799.21,47.2441 \n",
       "  \"/>\n",
       "<polyline clip-path=\"url(#clip492)\" style=\"stroke:#000000; stroke-linecap:butt; stroke-linejoin:round; stroke-width:2; stroke-opacity:0.1; fill:none\" points=\"\n",
       "  2293.45,1423.18 2293.45,47.2441 \n",
       "  \"/>\n",
       "<polyline clip-path=\"url(#clip490)\" style=\"stroke:#000000; stroke-linecap:butt; stroke-linejoin:round; stroke-width:4; stroke-opacity:1; fill:none\" points=\"\n",
       "  257.204,1423.18 2352.76,1423.18 \n",
       "  \"/>\n",
       "<polyline clip-path=\"url(#clip490)\" style=\"stroke:#000000; stroke-linecap:butt; stroke-linejoin:round; stroke-width:4; stroke-opacity:1; fill:none\" points=\"\n",
       "  316.512,1423.18 316.512,1404.28 \n",
       "  \"/>\n",
       "<polyline clip-path=\"url(#clip490)\" style=\"stroke:#000000; stroke-linecap:butt; stroke-linejoin:round; stroke-width:4; stroke-opacity:1; fill:none\" points=\"\n",
       "  810.746,1423.18 810.746,1404.28 \n",
       "  \"/>\n",
       "<polyline clip-path=\"url(#clip490)\" style=\"stroke:#000000; stroke-linecap:butt; stroke-linejoin:round; stroke-width:4; stroke-opacity:1; fill:none\" points=\"\n",
       "  1304.98,1423.18 1304.98,1404.28 \n",
       "  \"/>\n",
       "<polyline clip-path=\"url(#clip490)\" style=\"stroke:#000000; stroke-linecap:butt; stroke-linejoin:round; stroke-width:4; stroke-opacity:1; fill:none\" points=\"\n",
       "  1799.21,1423.18 1799.21,1404.28 \n",
       "  \"/>\n",
       "<polyline clip-path=\"url(#clip490)\" style=\"stroke:#000000; stroke-linecap:butt; stroke-linejoin:round; stroke-width:4; stroke-opacity:1; fill:none\" points=\"\n",
       "  2293.45,1423.18 2293.45,1404.28 \n",
       "  \"/>\n",
       "<path clip-path=\"url(#clip490)\" d=\"M278.816 1454.1 Q275.204 1454.1 273.376 1457.66 Q271.57 1461.2 271.57 1468.33 Q271.57 1475.44 273.376 1479.01 Q275.204 1482.55 278.816 1482.55 Q282.45 1482.55 284.255 1479.01 Q286.084 1475.44 286.084 1468.33 Q286.084 1461.2 284.255 1457.66 Q282.45 1454.1 278.816 1454.1 M278.816 1450.39 Q284.626 1450.39 287.681 1455 Q290.76 1459.58 290.76 1468.33 Q290.76 1477.06 287.681 1481.67 Q284.626 1486.25 278.816 1486.25 Q273.005 1486.25 269.927 1481.67 Q266.871 1477.06 266.871 1468.33 Q266.871 1459.58 269.927 1455 Q273.005 1450.39 278.816 1450.39 Z\" fill=\"#000000\" fill-rule=\"evenodd\" fill-opacity=\"1\" /><path clip-path=\"url(#clip490)\" d=\"M298.977 1479.7 L303.862 1479.7 L303.862 1485.58 L298.977 1485.58 L298.977 1479.7 Z\" fill=\"#000000\" fill-rule=\"evenodd\" fill-opacity=\"1\" /><path clip-path=\"url(#clip490)\" d=\"M314.857 1481.64 L322.496 1481.64 L322.496 1455.28 L314.186 1456.95 L314.186 1452.69 L322.45 1451.02 L327.125 1451.02 L327.125 1481.64 L334.764 1481.64 L334.764 1485.58 L314.857 1485.58 L314.857 1481.64 Z\" fill=\"#000000\" fill-rule=\"evenodd\" fill-opacity=\"1\" /><path clip-path=\"url(#clip490)\" d=\"M354.209 1454.1 Q350.598 1454.1 348.769 1457.66 Q346.963 1461.2 346.963 1468.33 Q346.963 1475.44 348.769 1479.01 Q350.598 1482.55 354.209 1482.55 Q357.843 1482.55 359.648 1479.01 Q361.477 1475.44 361.477 1468.33 Q361.477 1461.2 359.648 1457.66 Q357.843 1454.1 354.209 1454.1 M354.209 1450.39 Q360.019 1450.39 363.074 1455 Q366.153 1459.58 366.153 1468.33 Q366.153 1477.06 363.074 1481.67 Q360.019 1486.25 354.209 1486.25 Q348.399 1486.25 345.32 1481.67 Q342.264 1477.06 342.264 1468.33 Q342.264 1459.58 345.32 1455 Q348.399 1450.39 354.209 1450.39 Z\" fill=\"#000000\" fill-rule=\"evenodd\" fill-opacity=\"1\" /><path clip-path=\"url(#clip490)\" d=\"M773.547 1454.1 Q769.936 1454.1 768.107 1457.66 Q766.302 1461.2 766.302 1468.33 Q766.302 1475.44 768.107 1479.01 Q769.936 1482.55 773.547 1482.55 Q777.181 1482.55 778.987 1479.01 Q780.816 1475.44 780.816 1468.33 Q780.816 1461.2 778.987 1457.66 Q777.181 1454.1 773.547 1454.1 M773.547 1450.39 Q779.357 1450.39 782.413 1455 Q785.492 1459.58 785.492 1468.33 Q785.492 1477.06 782.413 1481.67 Q779.357 1486.25 773.547 1486.25 Q767.737 1486.25 764.658 1481.67 Q761.603 1477.06 761.603 1468.33 Q761.603 1459.58 764.658 1455 Q767.737 1450.39 773.547 1450.39 Z\" fill=\"#000000\" fill-rule=\"evenodd\" fill-opacity=\"1\" /><path clip-path=\"url(#clip490)\" d=\"M793.709 1479.7 L798.593 1479.7 L798.593 1485.58 L793.709 1485.58 L793.709 1479.7 Z\" fill=\"#000000\" fill-rule=\"evenodd\" fill-opacity=\"1\" /><path clip-path=\"url(#clip490)\" d=\"M809.589 1481.64 L817.227 1481.64 L817.227 1455.28 L808.917 1456.95 L808.917 1452.69 L817.181 1451.02 L821.857 1451.02 L821.857 1481.64 L829.496 1481.64 L829.496 1485.58 L809.589 1485.58 L809.589 1481.64 Z\" fill=\"#000000\" fill-rule=\"evenodd\" fill-opacity=\"1\" /><path clip-path=\"url(#clip490)\" d=\"M838.987 1451.02 L857.343 1451.02 L857.343 1454.96 L843.269 1454.96 L843.269 1463.43 Q844.288 1463.08 845.306 1462.92 Q846.325 1462.73 847.343 1462.73 Q853.13 1462.73 856.51 1465.9 Q859.889 1469.08 859.889 1474.49 Q859.889 1480.07 856.417 1483.17 Q852.945 1486.25 846.625 1486.25 Q844.45 1486.25 842.181 1485.88 Q839.936 1485.51 837.528 1484.77 L837.528 1480.07 Q839.612 1481.2 841.834 1481.76 Q844.056 1482.32 846.533 1482.32 Q850.537 1482.32 852.875 1480.21 Q855.213 1478.1 855.213 1474.49 Q855.213 1470.88 852.875 1468.77 Q850.537 1466.67 846.533 1466.67 Q844.658 1466.67 842.783 1467.08 Q840.931 1467.5 838.987 1468.38 L838.987 1451.02 Z\" fill=\"#000000\" fill-rule=\"evenodd\" fill-opacity=\"1\" /><path clip-path=\"url(#clip490)\" d=\"M1267.28 1454.1 Q1263.67 1454.1 1261.84 1457.66 Q1260.04 1461.2 1260.04 1468.33 Q1260.04 1475.44 1261.84 1479.01 Q1263.67 1482.55 1267.28 1482.55 Q1270.92 1482.55 1272.72 1479.01 Q1274.55 1475.44 1274.55 1468.33 Q1274.55 1461.2 1272.72 1457.66 Q1270.92 1454.1 1267.28 1454.1 M1267.28 1450.39 Q1273.09 1450.39 1276.15 1455 Q1279.23 1459.58 1279.23 1468.33 Q1279.23 1477.06 1276.15 1481.67 Q1273.09 1486.25 1267.28 1486.25 Q1261.47 1486.25 1258.39 1481.67 Q1255.34 1477.06 1255.34 1468.33 Q1255.34 1459.58 1258.39 1455 Q1261.47 1450.39 1267.28 1450.39 Z\" fill=\"#000000\" fill-rule=\"evenodd\" fill-opacity=\"1\" /><path clip-path=\"url(#clip490)\" d=\"M1287.45 1479.7 L1292.33 1479.7 L1292.33 1485.58 L1287.45 1485.58 L1287.45 1479.7 Z\" fill=\"#000000\" fill-rule=\"evenodd\" fill-opacity=\"1\" /><path clip-path=\"url(#clip490)\" d=\"M1306.54 1481.64 L1322.86 1481.64 L1322.86 1485.58 L1300.92 1485.58 L1300.92 1481.64 Q1303.58 1478.89 1308.16 1474.26 Q1312.77 1469.61 1313.95 1468.27 Q1316.2 1465.74 1317.07 1464.01 Q1317.98 1462.25 1317.98 1460.56 Q1317.98 1457.8 1316.03 1456.07 Q1314.11 1454.33 1311.01 1454.33 Q1308.81 1454.33 1306.36 1455.09 Q1303.93 1455.86 1301.15 1457.41 L1301.15 1452.69 Q1303.97 1451.55 1306.43 1450.97 Q1308.88 1450.39 1310.92 1450.39 Q1316.29 1450.39 1319.48 1453.08 Q1322.68 1455.77 1322.68 1460.26 Q1322.68 1462.39 1321.87 1464.31 Q1321.08 1466.2 1318.97 1468.8 Q1318.39 1469.47 1315.29 1472.69 Q1312.19 1475.88 1306.54 1481.64 Z\" fill=\"#000000\" fill-rule=\"evenodd\" fill-opacity=\"1\" /><path clip-path=\"url(#clip490)\" d=\"M1342.68 1454.1 Q1339.07 1454.1 1337.24 1457.66 Q1335.43 1461.2 1335.43 1468.33 Q1335.43 1475.44 1337.24 1479.01 Q1339.07 1482.55 1342.68 1482.55 Q1346.31 1482.55 1348.12 1479.01 Q1349.95 1475.44 1349.95 1468.33 Q1349.95 1461.2 1348.12 1457.66 Q1346.31 1454.1 1342.68 1454.1 M1342.68 1450.39 Q1348.49 1450.39 1351.54 1455 Q1354.62 1459.58 1354.62 1468.33 Q1354.62 1477.06 1351.54 1481.67 Q1348.49 1486.25 1342.68 1486.25 Q1336.87 1486.25 1333.79 1481.67 Q1330.73 1477.06 1330.73 1468.33 Q1330.73 1459.58 1333.79 1455 Q1336.87 1450.39 1342.68 1450.39 Z\" fill=\"#000000\" fill-rule=\"evenodd\" fill-opacity=\"1\" /><path clip-path=\"url(#clip490)\" d=\"M1762.02 1454.1 Q1758.4 1454.1 1756.58 1457.66 Q1754.77 1461.2 1754.77 1468.33 Q1754.77 1475.44 1756.58 1479.01 Q1758.4 1482.55 1762.02 1482.55 Q1765.65 1482.55 1767.45 1479.01 Q1769.28 1475.44 1769.28 1468.33 Q1769.28 1461.2 1767.45 1457.66 Q1765.65 1454.1 1762.02 1454.1 M1762.02 1450.39 Q1767.83 1450.39 1770.88 1455 Q1773.96 1459.58 1773.96 1468.33 Q1773.96 1477.06 1770.88 1481.67 Q1767.83 1486.25 1762.02 1486.25 Q1756.2 1486.25 1753.13 1481.67 Q1750.07 1477.06 1750.07 1468.33 Q1750.07 1459.58 1753.13 1455 Q1756.2 1450.39 1762.02 1450.39 Z\" fill=\"#000000\" fill-rule=\"evenodd\" fill-opacity=\"1\" /><path clip-path=\"url(#clip490)\" d=\"M1782.18 1479.7 L1787.06 1479.7 L1787.06 1485.58 L1782.18 1485.58 L1782.18 1479.7 Z\" fill=\"#000000\" fill-rule=\"evenodd\" fill-opacity=\"1\" /><path clip-path=\"url(#clip490)\" d=\"M1801.27 1481.64 L1817.59 1481.64 L1817.59 1485.58 L1795.65 1485.58 L1795.65 1481.64 Q1798.31 1478.89 1802.89 1474.26 Q1807.5 1469.61 1808.68 1468.27 Q1810.93 1465.74 1811.81 1464.01 Q1812.71 1462.25 1812.71 1460.56 Q1812.71 1457.8 1810.76 1456.07 Q1808.84 1454.33 1805.74 1454.33 Q1803.54 1454.33 1801.09 1455.09 Q1798.66 1455.86 1795.88 1457.41 L1795.88 1452.69 Q1798.7 1451.55 1801.16 1450.97 Q1803.61 1450.39 1805.65 1450.39 Q1811.02 1450.39 1814.21 1453.08 Q1817.41 1455.77 1817.41 1460.26 Q1817.41 1462.39 1816.6 1464.31 Q1815.81 1466.2 1813.7 1468.8 Q1813.13 1469.47 1810.02 1472.69 Q1806.92 1475.88 1801.27 1481.64 Z\" fill=\"#000000\" fill-rule=\"evenodd\" fill-opacity=\"1\" /><path clip-path=\"url(#clip490)\" d=\"M1827.45 1451.02 L1845.81 1451.02 L1845.81 1454.96 L1831.74 1454.96 L1831.74 1463.43 Q1832.76 1463.08 1833.77 1462.92 Q1834.79 1462.73 1835.81 1462.73 Q1841.6 1462.73 1844.98 1465.9 Q1848.36 1469.08 1848.36 1474.49 Q1848.36 1480.07 1844.88 1483.17 Q1841.41 1486.25 1835.09 1486.25 Q1832.92 1486.25 1830.65 1485.88 Q1828.4 1485.51 1826 1484.77 L1826 1480.07 Q1828.08 1481.2 1830.3 1481.76 Q1832.52 1482.32 1835 1482.32 Q1839.01 1482.32 1841.34 1480.21 Q1843.68 1478.1 1843.68 1474.49 Q1843.68 1470.88 1841.34 1468.77 Q1839.01 1466.67 1835 1466.67 Q1833.13 1466.67 1831.25 1467.08 Q1829.4 1467.5 1827.45 1468.38 L1827.45 1451.02 Z\" fill=\"#000000\" fill-rule=\"evenodd\" fill-opacity=\"1\" /><path clip-path=\"url(#clip490)\" d=\"M2255.75 1454.1 Q2252.14 1454.1 2250.31 1457.66 Q2248.51 1461.2 2248.51 1468.33 Q2248.51 1475.44 2250.31 1479.01 Q2252.14 1482.55 2255.75 1482.55 Q2259.39 1482.55 2261.19 1479.01 Q2263.02 1475.44 2263.02 1468.33 Q2263.02 1461.2 2261.19 1457.66 Q2259.39 1454.1 2255.75 1454.1 M2255.75 1450.39 Q2261.56 1450.39 2264.62 1455 Q2267.7 1459.58 2267.7 1468.33 Q2267.7 1477.06 2264.62 1481.67 Q2261.56 1486.25 2255.75 1486.25 Q2249.94 1486.25 2246.86 1481.67 Q2243.81 1477.06 2243.81 1468.33 Q2243.81 1459.58 2246.86 1455 Q2249.94 1450.39 2255.75 1450.39 Z\" fill=\"#000000\" fill-rule=\"evenodd\" fill-opacity=\"1\" /><path clip-path=\"url(#clip490)\" d=\"M2275.91 1479.7 L2280.8 1479.7 L2280.8 1485.58 L2275.91 1485.58 L2275.91 1479.7 Z\" fill=\"#000000\" fill-rule=\"evenodd\" fill-opacity=\"1\" /><path clip-path=\"url(#clip490)\" d=\"M2305.15 1466.95 Q2308.51 1467.66 2310.38 1469.93 Q2312.28 1472.2 2312.28 1475.53 Q2312.28 1480.65 2308.76 1483.45 Q2305.24 1486.25 2298.76 1486.25 Q2296.58 1486.25 2294.27 1485.81 Q2291.98 1485.39 2289.52 1484.54 L2289.52 1480.02 Q2291.47 1481.16 2293.78 1481.74 Q2296.1 1482.32 2298.62 1482.32 Q2303.02 1482.32 2305.31 1480.58 Q2307.63 1478.84 2307.63 1475.53 Q2307.63 1472.48 2305.47 1470.77 Q2303.34 1469.03 2299.52 1469.03 L2295.5 1469.03 L2295.5 1465.19 L2299.71 1465.19 Q2303.16 1465.19 2304.99 1463.82 Q2306.82 1462.43 2306.82 1459.84 Q2306.82 1457.18 2304.92 1455.77 Q2303.04 1454.33 2299.52 1454.33 Q2297.6 1454.33 2295.4 1454.75 Q2293.2 1455.16 2290.57 1456.04 L2290.57 1451.88 Q2293.23 1451.14 2295.54 1450.77 Q2297.88 1450.39 2299.94 1450.39 Q2305.26 1450.39 2308.37 1452.83 Q2311.47 1455.23 2311.47 1459.35 Q2311.47 1462.22 2309.83 1464.21 Q2308.18 1466.18 2305.15 1466.95 Z\" fill=\"#000000\" fill-rule=\"evenodd\" fill-opacity=\"1\" /><path clip-path=\"url(#clip490)\" d=\"M2331.14 1454.1 Q2327.53 1454.1 2325.7 1457.66 Q2323.9 1461.2 2323.9 1468.33 Q2323.9 1475.44 2325.7 1479.01 Q2327.53 1482.55 2331.14 1482.55 Q2334.78 1482.55 2336.58 1479.01 Q2338.41 1475.44 2338.41 1468.33 Q2338.41 1461.2 2336.58 1457.66 Q2334.78 1454.1 2331.14 1454.1 M2331.14 1450.39 Q2336.95 1450.39 2340.01 1455 Q2343.09 1459.58 2343.09 1468.33 Q2343.09 1477.06 2340.01 1481.67 Q2336.95 1486.25 2331.14 1486.25 Q2325.33 1486.25 2322.26 1481.67 Q2319.2 1477.06 2319.2 1468.33 Q2319.2 1459.58 2322.26 1455 Q2325.33 1450.39 2331.14 1450.39 Z\" fill=\"#000000\" fill-rule=\"evenodd\" fill-opacity=\"1\" /><path clip-path=\"url(#clip490)\" d=\"M1294.92 1562.7 L1294.92 1581.6 L1289.03 1581.6 L1289.03 1532.4 L1294.92 1532.4 L1294.92 1537.81 Q1296.77 1534.62 1299.57 1533.1 Q1302.4 1531.54 1306.32 1531.54 Q1312.81 1531.54 1316.85 1536.69 Q1320.93 1541.85 1320.93 1550.25 Q1320.93 1558.65 1316.85 1563.81 Q1312.81 1568.97 1306.32 1568.97 Q1302.4 1568.97 1299.57 1567.44 Q1296.77 1565.88 1294.92 1562.7 M1314.85 1550.25 Q1314.85 1543.79 1312.17 1540.13 Q1309.53 1536.44 1304.88 1536.44 Q1300.24 1536.44 1297.56 1540.13 Q1294.92 1543.79 1294.92 1550.25 Q1294.92 1556.71 1297.56 1560.4 Q1300.24 1564.07 1304.88 1564.07 Q1309.53 1564.07 1312.17 1560.4 Q1314.85 1556.71 1314.85 1550.25 Z\" fill=\"#000000\" fill-rule=\"evenodd\" fill-opacity=\"1\" /><polyline clip-path=\"url(#clip492)\" style=\"stroke:#000000; stroke-linecap:butt; stroke-linejoin:round; stroke-width:2; stroke-opacity:0.1; fill:none\" points=\"\n",
       "  257.204,1384.24 2352.76,1384.24 \n",
       "  \"/>\n",
       "<polyline clip-path=\"url(#clip492)\" style=\"stroke:#000000; stroke-linecap:butt; stroke-linejoin:round; stroke-width:2; stroke-opacity:0.1; fill:none\" points=\"\n",
       "  257.204,1059.73 2352.76,1059.73 \n",
       "  \"/>\n",
       "<polyline clip-path=\"url(#clip492)\" style=\"stroke:#000000; stroke-linecap:butt; stroke-linejoin:round; stroke-width:2; stroke-opacity:0.1; fill:none\" points=\"\n",
       "  257.204,735.212 2352.76,735.212 \n",
       "  \"/>\n",
       "<polyline clip-path=\"url(#clip492)\" style=\"stroke:#000000; stroke-linecap:butt; stroke-linejoin:round; stroke-width:2; stroke-opacity:0.1; fill:none\" points=\"\n",
       "  257.204,410.699 2352.76,410.699 \n",
       "  \"/>\n",
       "<polyline clip-path=\"url(#clip492)\" style=\"stroke:#000000; stroke-linecap:butt; stroke-linejoin:round; stroke-width:2; stroke-opacity:0.1; fill:none\" points=\"\n",
       "  257.204,86.1857 2352.76,86.1857 \n",
       "  \"/>\n",
       "<polyline clip-path=\"url(#clip490)\" style=\"stroke:#000000; stroke-linecap:butt; stroke-linejoin:round; stroke-width:4; stroke-opacity:1; fill:none\" points=\"\n",
       "  257.204,1423.18 257.204,47.2441 \n",
       "  \"/>\n",
       "<polyline clip-path=\"url(#clip490)\" style=\"stroke:#000000; stroke-linecap:butt; stroke-linejoin:round; stroke-width:4; stroke-opacity:1; fill:none\" points=\"\n",
       "  257.204,1384.24 276.102,1384.24 \n",
       "  \"/>\n",
       "<polyline clip-path=\"url(#clip490)\" style=\"stroke:#000000; stroke-linecap:butt; stroke-linejoin:round; stroke-width:4; stroke-opacity:1; fill:none\" points=\"\n",
       "  257.204,1059.73 276.102,1059.73 \n",
       "  \"/>\n",
       "<polyline clip-path=\"url(#clip490)\" style=\"stroke:#000000; stroke-linecap:butt; stroke-linejoin:round; stroke-width:4; stroke-opacity:1; fill:none\" points=\"\n",
       "  257.204,735.212 276.102,735.212 \n",
       "  \"/>\n",
       "<polyline clip-path=\"url(#clip490)\" style=\"stroke:#000000; stroke-linecap:butt; stroke-linejoin:round; stroke-width:4; stroke-opacity:1; fill:none\" points=\"\n",
       "  257.204,410.699 276.102,410.699 \n",
       "  \"/>\n",
       "<polyline clip-path=\"url(#clip490)\" style=\"stroke:#000000; stroke-linecap:butt; stroke-linejoin:round; stroke-width:4; stroke-opacity:1; fill:none\" points=\"\n",
       "  257.204,86.1857 276.102,86.1857 \n",
       "  \"/>\n",
       "<path clip-path=\"url(#clip490)\" d=\"M114.26 1384.69 L143.936 1384.69 L143.936 1388.62 L114.26 1388.62 L114.26 1384.69 Z\" fill=\"#000000\" fill-rule=\"evenodd\" fill-opacity=\"1\" /><path clip-path=\"url(#clip490)\" d=\"M154.839 1397.58 L162.477 1397.58 L162.477 1371.22 L154.167 1372.88 L154.167 1368.62 L162.431 1366.96 L167.107 1366.96 L167.107 1397.58 L174.746 1397.58 L174.746 1401.52 L154.839 1401.52 L154.839 1397.58 Z\" fill=\"#000000\" fill-rule=\"evenodd\" fill-opacity=\"1\" /><path clip-path=\"url(#clip490)\" d=\"M184.19 1395.64 L189.075 1395.64 L189.075 1401.52 L184.19 1401.52 L184.19 1395.64 Z\" fill=\"#000000\" fill-rule=\"evenodd\" fill-opacity=\"1\" /><path clip-path=\"url(#clip490)\" d=\"M209.26 1370.04 Q205.649 1370.04 203.82 1373.6 Q202.014 1377.14 202.014 1384.27 Q202.014 1391.38 203.82 1394.94 Q205.649 1398.49 209.26 1398.49 Q212.894 1398.49 214.699 1394.94 Q216.528 1391.38 216.528 1384.27 Q216.528 1377.14 214.699 1373.6 Q212.894 1370.04 209.26 1370.04 M209.26 1366.33 Q215.07 1366.33 218.125 1370.94 Q221.204 1375.52 221.204 1384.27 Q221.204 1393 218.125 1397.61 Q215.07 1402.19 209.26 1402.19 Q203.449 1402.19 200.371 1397.61 Q197.315 1393 197.315 1384.27 Q197.315 1375.52 200.371 1370.94 Q203.449 1366.33 209.26 1366.33 Z\" fill=\"#000000\" fill-rule=\"evenodd\" fill-opacity=\"1\" /><path clip-path=\"url(#clip490)\" d=\"M115.256 1060.18 L144.931 1060.18 L144.931 1064.11 L115.256 1064.11 L115.256 1060.18 Z\" fill=\"#000000\" fill-rule=\"evenodd\" fill-opacity=\"1\" /><path clip-path=\"url(#clip490)\" d=\"M165.024 1045.52 Q161.413 1045.52 159.584 1049.09 Q157.778 1052.63 157.778 1059.76 Q157.778 1066.87 159.584 1070.43 Q161.413 1073.97 165.024 1073.97 Q168.658 1073.97 170.464 1070.43 Q172.292 1066.87 172.292 1059.76 Q172.292 1052.63 170.464 1049.09 Q168.658 1045.52 165.024 1045.52 M165.024 1041.82 Q170.834 1041.82 173.889 1046.43 Q176.968 1051.01 176.968 1059.76 Q176.968 1068.49 173.889 1073.09 Q170.834 1077.68 165.024 1077.68 Q159.214 1077.68 156.135 1073.09 Q153.079 1068.49 153.079 1059.76 Q153.079 1051.01 156.135 1046.43 Q159.214 1041.82 165.024 1041.82 Z\" fill=\"#000000\" fill-rule=\"evenodd\" fill-opacity=\"1\" /><path clip-path=\"url(#clip490)\" d=\"M185.186 1071.13 L190.07 1071.13 L190.07 1077.01 L185.186 1077.01 L185.186 1071.13 Z\" fill=\"#000000\" fill-rule=\"evenodd\" fill-opacity=\"1\" /><path clip-path=\"url(#clip490)\" d=\"M200.301 1042.45 L218.658 1042.45 L218.658 1046.38 L204.584 1046.38 L204.584 1054.85 Q205.602 1054.51 206.621 1054.34 Q207.639 1054.16 208.658 1054.16 Q214.445 1054.16 217.824 1057.33 Q221.204 1060.5 221.204 1065.92 Q221.204 1071.5 217.732 1074.6 Q214.26 1077.68 207.94 1077.68 Q205.764 1077.68 203.496 1077.31 Q201.25 1076.94 198.843 1076.19 L198.843 1071.5 Q200.926 1072.63 203.149 1073.19 Q205.371 1073.74 207.848 1073.74 Q211.852 1073.74 214.19 1071.63 Q216.528 1069.53 216.528 1065.92 Q216.528 1062.31 214.19 1060.2 Q211.852 1058.09 207.848 1058.09 Q205.973 1058.09 204.098 1058.51 Q202.246 1058.93 200.301 1059.81 L200.301 1042.45 Z\" fill=\"#000000\" fill-rule=\"evenodd\" fill-opacity=\"1\" /><path clip-path=\"url(#clip490)\" d=\"M164.028 721.011 Q160.417 721.011 158.589 724.575 Q156.783 728.117 156.783 735.247 Q156.783 742.353 158.589 745.918 Q160.417 749.46 164.028 749.46 Q167.663 749.46 169.468 745.918 Q171.297 742.353 171.297 735.247 Q171.297 728.117 169.468 724.575 Q167.663 721.011 164.028 721.011 M164.028 717.307 Q169.839 717.307 172.894 721.913 Q175.973 726.497 175.973 735.247 Q175.973 743.973 172.894 748.58 Q169.839 753.163 164.028 753.163 Q158.218 753.163 155.14 748.58 Q152.084 743.973 152.084 735.247 Q152.084 726.497 155.14 721.913 Q158.218 717.307 164.028 717.307 Z\" fill=\"#000000\" fill-rule=\"evenodd\" fill-opacity=\"1\" /><path clip-path=\"url(#clip490)\" d=\"M184.19 746.612 L189.075 746.612 L189.075 752.492 L184.19 752.492 L184.19 746.612 Z\" fill=\"#000000\" fill-rule=\"evenodd\" fill-opacity=\"1\" /><path clip-path=\"url(#clip490)\" d=\"M209.26 721.011 Q205.649 721.011 203.82 724.575 Q202.014 728.117 202.014 735.247 Q202.014 742.353 203.82 745.918 Q205.649 749.46 209.26 749.46 Q212.894 749.46 214.699 745.918 Q216.528 742.353 216.528 735.247 Q216.528 728.117 214.699 724.575 Q212.894 721.011 209.26 721.011 M209.26 717.307 Q215.07 717.307 218.125 721.913 Q221.204 726.497 221.204 735.247 Q221.204 743.973 218.125 748.58 Q215.07 753.163 209.26 753.163 Q203.449 753.163 200.371 748.58 Q197.315 743.973 197.315 735.247 Q197.315 726.497 200.371 721.913 Q203.449 717.307 209.26 717.307 Z\" fill=\"#000000\" fill-rule=\"evenodd\" fill-opacity=\"1\" /><path clip-path=\"url(#clip490)\" d=\"M165.024 396.498 Q161.413 396.498 159.584 400.062 Q157.778 403.604 157.778 410.734 Q157.778 417.84 159.584 421.405 Q161.413 424.946 165.024 424.946 Q168.658 424.946 170.464 421.405 Q172.292 417.84 172.292 410.734 Q172.292 403.604 170.464 400.062 Q168.658 396.498 165.024 396.498 M165.024 392.794 Q170.834 392.794 173.889 397.4 Q176.968 401.984 176.968 410.734 Q176.968 419.46 173.889 424.067 Q170.834 428.65 165.024 428.65 Q159.214 428.65 156.135 424.067 Q153.079 419.46 153.079 410.734 Q153.079 401.984 156.135 397.4 Q159.214 392.794 165.024 392.794 Z\" fill=\"#000000\" fill-rule=\"evenodd\" fill-opacity=\"1\" /><path clip-path=\"url(#clip490)\" d=\"M185.186 422.099 L190.07 422.099 L190.07 427.979 L185.186 427.979 L185.186 422.099 Z\" fill=\"#000000\" fill-rule=\"evenodd\" fill-opacity=\"1\" /><path clip-path=\"url(#clip490)\" d=\"M200.301 393.419 L218.658 393.419 L218.658 397.354 L204.584 397.354 L204.584 405.826 Q205.602 405.479 206.621 405.317 Q207.639 405.132 208.658 405.132 Q214.445 405.132 217.824 408.303 Q221.204 411.474 221.204 416.891 Q221.204 422.47 217.732 425.571 Q214.26 428.65 207.94 428.65 Q205.764 428.65 203.496 428.28 Q201.25 427.909 198.843 427.169 L198.843 422.47 Q200.926 423.604 203.149 424.159 Q205.371 424.715 207.848 424.715 Q211.852 424.715 214.19 422.608 Q216.528 420.502 216.528 416.891 Q216.528 413.28 214.19 411.173 Q211.852 409.067 207.848 409.067 Q205.973 409.067 204.098 409.484 Q202.246 409.9 200.301 410.78 L200.301 393.419 Z\" fill=\"#000000\" fill-rule=\"evenodd\" fill-opacity=\"1\" /><path clip-path=\"url(#clip490)\" d=\"M154.839 99.5305 L162.477 99.5305 L162.477 73.1649 L154.167 74.8316 L154.167 70.5723 L162.431 68.9057 L167.107 68.9057 L167.107 99.5305 L174.746 99.5305 L174.746 103.466 L154.839 103.466 L154.839 99.5305 Z\" fill=\"#000000\" fill-rule=\"evenodd\" fill-opacity=\"1\" /><path clip-path=\"url(#clip490)\" d=\"M184.19 97.5861 L189.075 97.5861 L189.075 103.466 L184.19 103.466 L184.19 97.5861 Z\" fill=\"#000000\" fill-rule=\"evenodd\" fill-opacity=\"1\" /><path clip-path=\"url(#clip490)\" d=\"M209.26 71.9844 Q205.649 71.9844 203.82 75.5492 Q202.014 79.0908 202.014 86.2204 Q202.014 93.3268 203.82 96.8916 Q205.649 100.433 209.26 100.433 Q212.894 100.433 214.699 96.8916 Q216.528 93.3268 216.528 86.2204 Q216.528 79.0908 214.699 75.5492 Q212.894 71.9844 209.26 71.9844 M209.26 68.2807 Q215.07 68.2807 218.125 72.8871 Q221.204 77.4704 221.204 86.2204 Q221.204 94.9472 218.125 99.5537 Q215.07 104.137 209.26 104.137 Q203.449 104.137 200.371 99.5537 Q197.315 94.9472 197.315 86.2204 Q197.315 77.4704 200.371 72.8871 Q203.449 68.2807 209.26 68.2807 Z\" fill=\"#000000\" fill-rule=\"evenodd\" fill-opacity=\"1\" /><path clip-path=\"url(#clip490)\" d=\"M28.3562 718.597 L45.7028 731.488 L64.0042 717.929 L64.0042 724.836 L49.9996 735.212 L64.0042 745.588 L64.0042 752.495 L45.3526 738.649 L28.3562 751.317 L28.3562 744.41 L41.0558 734.957 L28.3562 725.504 L28.3562 718.597 Z\" fill=\"#000000\" fill-rule=\"evenodd\" fill-opacity=\"1\" /><polyline clip-path=\"url(#clip492)\" style=\"stroke:#009af9; stroke-linecap:butt; stroke-linejoin:round; stroke-width:8; stroke-opacity:1; fill:none\" points=\"\n",
       "  316.512,86.1857 320.685,88.9256 \n",
       "  \"/>\n",
       "<polyline clip-path=\"url(#clip492)\" style=\"stroke:#009af9; stroke-linecap:butt; stroke-linejoin:round; stroke-width:8; stroke-opacity:1; fill:none\" points=\"\n",
       "  320.685,88.9256 326.944,93.0355 \n",
       "  \"/>\n",
       "<polyline clip-path=\"url(#clip492)\" style=\"stroke:#009af9; stroke-linecap:butt; stroke-linejoin:round; stroke-width:8; stroke-opacity:1; fill:none\" points=\"\n",
       "  326.944,93.0355 336.333,99.2003 \n",
       "  \"/>\n",
       "<polyline clip-path=\"url(#clip492)\" style=\"stroke:#009af9; stroke-linecap:butt; stroke-linejoin:round; stroke-width:8; stroke-opacity:1; fill:none\" points=\"\n",
       "  336.333,99.2003 350.417,108.448 \n",
       "  \"/>\n",
       "<polyline clip-path=\"url(#clip492)\" style=\"stroke:#009af9; stroke-linecap:butt; stroke-linejoin:round; stroke-width:8; stroke-opacity:1; fill:none\" points=\"\n",
       "  350.417,108.448 371.542,122.318 \n",
       "  \"/>\n",
       "<polyline clip-path=\"url(#clip492)\" style=\"stroke:#009af9; stroke-linecap:butt; stroke-linejoin:round; stroke-width:8; stroke-opacity:1; fill:none\" points=\"\n",
       "  371.542,122.318 403.23,143.125 \n",
       "  \"/>\n",
       "<polyline clip-path=\"url(#clip492)\" style=\"stroke:#009af9; stroke-linecap:butt; stroke-linejoin:round; stroke-width:8; stroke-opacity:1; fill:none\" points=\"\n",
       "  403.23,143.125 450.762,174.334 \n",
       "  \"/>\n",
       "<polyline clip-path=\"url(#clip492)\" style=\"stroke:#009af9; stroke-linecap:butt; stroke-linejoin:round; stroke-width:8; stroke-opacity:1; fill:none\" points=\"\n",
       "  450.762,174.334 520.311,219.999 \n",
       "  \"/>\n",
       "<polyline clip-path=\"url(#clip492)\" style=\"stroke:#009af9; stroke-linecap:butt; stroke-linejoin:round; stroke-width:8; stroke-opacity:1; fill:none\" points=\"\n",
       "  520.311,219.999 589.859,265.665 \n",
       "  \"/>\n",
       "<polyline clip-path=\"url(#clip492)\" style=\"stroke:#009af9; stroke-linecap:butt; stroke-linejoin:round; stroke-width:8; stroke-opacity:1; fill:none\" points=\"\n",
       "  589.859,265.665 659.407,311.33 \n",
       "  \"/>\n",
       "<polyline clip-path=\"url(#clip492)\" style=\"stroke:#009af9; stroke-linecap:butt; stroke-linejoin:round; stroke-width:8; stroke-opacity:1; fill:none\" points=\"\n",
       "  659.407,311.33 728.956,356.995 \n",
       "  \"/>\n",
       "<polyline clip-path=\"url(#clip492)\" style=\"stroke:#009af9; stroke-linecap:butt; stroke-linejoin:round; stroke-width:8; stroke-opacity:1; fill:none\" points=\"\n",
       "  728.956,356.995 798.504,402.661 \n",
       "  \"/>\n",
       "<polyline clip-path=\"url(#clip492)\" style=\"stroke:#009af9; stroke-linecap:butt; stroke-linejoin:round; stroke-width:8; stroke-opacity:1; fill:none\" points=\"\n",
       "  798.504,402.661 868.052,448.326 \n",
       "  \"/>\n",
       "<polyline clip-path=\"url(#clip492)\" style=\"stroke:#009af9; stroke-linecap:butt; stroke-linejoin:round; stroke-width:8; stroke-opacity:1; fill:none\" points=\"\n",
       "  868.052,448.326 937.601,493.991 \n",
       "  \"/>\n",
       "<polyline clip-path=\"url(#clip492)\" style=\"stroke:#009af9; stroke-linecap:butt; stroke-linejoin:round; stroke-width:8; stroke-opacity:1; fill:none\" points=\"\n",
       "  937.601,493.991 1007.15,539.657 \n",
       "  \"/>\n",
       "<polyline clip-path=\"url(#clip492)\" style=\"stroke:#009af9; stroke-linecap:butt; stroke-linejoin:round; stroke-width:8; stroke-opacity:1; fill:none\" points=\"\n",
       "  1007.15,539.657 1076.7,585.322 \n",
       "  \"/>\n",
       "<polyline clip-path=\"url(#clip492)\" style=\"stroke:#009af9; stroke-linecap:butt; stroke-linejoin:round; stroke-width:8; stroke-opacity:1; fill:none\" points=\"\n",
       "  1076.7,585.322 1146.25,630.987 \n",
       "  \"/>\n",
       "<polyline clip-path=\"url(#clip492)\" style=\"stroke:#009af9; stroke-linecap:butt; stroke-linejoin:round; stroke-width:8; stroke-opacity:1; fill:none\" points=\"\n",
       "  1146.25,630.987 1215.79,676.653 \n",
       "  \"/>\n",
       "<polyline clip-path=\"url(#clip492)\" style=\"stroke:#009af9; stroke-linecap:butt; stroke-linejoin:round; stroke-width:8; stroke-opacity:1; fill:none\" points=\"\n",
       "  1215.79,676.653 1285.34,722.318 \n",
       "  \"/>\n",
       "<polyline clip-path=\"url(#clip492)\" style=\"stroke:#009af9; stroke-linecap:butt; stroke-linejoin:round; stroke-width:8; stroke-opacity:1; fill:none\" points=\"\n",
       "  1285.34,722.318 1311.42,739.443 \n",
       "  \"/>\n",
       "<polyline clip-path=\"url(#clip492)\" style=\"stroke:#009af9; stroke-linecap:butt; stroke-linejoin:round; stroke-width:4; stroke-opacity:1; fill:none\" points=\"\n",
       "  1311.42,739.443 1380.97,785.108 \n",
       "  \"/>\n",
       "<polyline clip-path=\"url(#clip492)\" style=\"stroke:#009af9; stroke-linecap:butt; stroke-linejoin:round; stroke-width:4; stroke-opacity:1; fill:none\" points=\"\n",
       "  1380.97,785.108 1450.52,830.773 \n",
       "  \"/>\n",
       "<polyline clip-path=\"url(#clip492)\" style=\"stroke:#009af9; stroke-linecap:butt; stroke-linejoin:round; stroke-width:4; stroke-opacity:1; fill:none\" points=\"\n",
       "  1450.52,830.773 1520.07,876.438 \n",
       "  \"/>\n",
       "<polyline clip-path=\"url(#clip492)\" style=\"stroke:#009af9; stroke-linecap:butt; stroke-linejoin:round; stroke-width:4; stroke-opacity:1; fill:none\" points=\"\n",
       "  1520.07,876.438 1589.62,922.104 \n",
       "  \"/>\n",
       "<polyline clip-path=\"url(#clip492)\" style=\"stroke:#009af9; stroke-linecap:butt; stroke-linejoin:round; stroke-width:4; stroke-opacity:1; fill:none\" points=\"\n",
       "  1589.62,922.104 1659.16,967.769 \n",
       "  \"/>\n",
       "<polyline clip-path=\"url(#clip492)\" style=\"stroke:#009af9; stroke-linecap:butt; stroke-linejoin:round; stroke-width:4; stroke-opacity:1; fill:none\" points=\"\n",
       "  1659.16,967.769 1728.71,1013.43 \n",
       "  \"/>\n",
       "<polyline clip-path=\"url(#clip492)\" style=\"stroke:#009af9; stroke-linecap:butt; stroke-linejoin:round; stroke-width:4; stroke-opacity:1; fill:none\" points=\"\n",
       "  1728.71,1013.43 1798.26,1059.1 \n",
       "  \"/>\n",
       "<polyline clip-path=\"url(#clip492)\" style=\"stroke:#009af9; stroke-linecap:butt; stroke-linejoin:round; stroke-width:4; stroke-opacity:1; fill:none\" points=\"\n",
       "  1798.26,1059.1 1867.81,1104.77 \n",
       "  \"/>\n",
       "<polyline clip-path=\"url(#clip492)\" style=\"stroke:#009af9; stroke-linecap:butt; stroke-linejoin:round; stroke-width:4; stroke-opacity:1; fill:none\" points=\"\n",
       "  1867.81,1104.77 1937.36,1150.43 \n",
       "  \"/>\n",
       "<polyline clip-path=\"url(#clip492)\" style=\"stroke:#009af9; stroke-linecap:butt; stroke-linejoin:round; stroke-width:4; stroke-opacity:1; fill:none\" points=\"\n",
       "  1937.36,1150.43 2006.91,1196.1 \n",
       "  \"/>\n",
       "<polyline clip-path=\"url(#clip492)\" style=\"stroke:#009af9; stroke-linecap:butt; stroke-linejoin:round; stroke-width:4; stroke-opacity:1; fill:none\" points=\"\n",
       "  2006.91,1196.1 2076.45,1241.76 \n",
       "  \"/>\n",
       "<polyline clip-path=\"url(#clip492)\" style=\"stroke:#009af9; stroke-linecap:butt; stroke-linejoin:round; stroke-width:4; stroke-opacity:1; fill:none\" points=\"\n",
       "  2076.45,1241.76 2146,1287.43 \n",
       "  \"/>\n",
       "<polyline clip-path=\"url(#clip492)\" style=\"stroke:#009af9; stroke-linecap:butt; stroke-linejoin:round; stroke-width:4; stroke-opacity:1; fill:none\" points=\"\n",
       "  2146,1287.43 2215.55,1333.09 \n",
       "  \"/>\n",
       "<polyline clip-path=\"url(#clip492)\" style=\"stroke:#009af9; stroke-linecap:butt; stroke-linejoin:round; stroke-width:4; stroke-opacity:1; fill:none\" points=\"\n",
       "  2215.55,1333.09 2285.1,1378.76 \n",
       "  \"/>\n",
       "<polyline clip-path=\"url(#clip492)\" style=\"stroke:#009af9; stroke-linecap:butt; stroke-linejoin:round; stroke-width:4; stroke-opacity:1; fill:none\" points=\"\n",
       "  2285.1,1378.76 2293.45,1384.24 \n",
       "  \"/>\n",
       "<circle clip-path=\"url(#clip492)\" cx=\"1311.42\" cy=\"739.443\" r=\"10\" fill=\"#0000ff\" fill-rule=\"evenodd\" fill-opacity=\"1\" stroke=\"#000000\" stroke-opacity=\"1\" stroke-width=\"0\"/>\n",
       "<circle clip-path=\"url(#clip492)\" cx=\"1311.42\" cy=\"739.443\" r=\"10\" fill=\"#0000ff\" fill-rule=\"evenodd\" fill-opacity=\"1\" stroke=\"#000000\" stroke-opacity=\"1\" stroke-width=\"0\"/>\n",
       "<polyline clip-path=\"url(#clip492)\" style=\"stroke:#c271d2; stroke-linecap:butt; stroke-linejoin:round; stroke-width:4; stroke-opacity:1; fill:none\" points=\"\n",
       "  316.512,735.212 358.449,735.212 \n",
       "  \"/>\n",
       "<polyline clip-path=\"url(#clip492)\" style=\"stroke:#c271d2; stroke-linecap:butt; stroke-linejoin:round; stroke-width:4; stroke-opacity:1; fill:none\" points=\"\n",
       "  358.449,735.212 421.355,735.212 \n",
       "  \"/>\n",
       "<polyline clip-path=\"url(#clip492)\" style=\"stroke:#c271d2; stroke-linecap:butt; stroke-linejoin:round; stroke-width:4; stroke-opacity:1; fill:none\" points=\"\n",
       "  421.355,735.212 515.714,735.212 \n",
       "  \"/>\n",
       "<polyline clip-path=\"url(#clip492)\" style=\"stroke:#c271d2; stroke-linecap:butt; stroke-linejoin:round; stroke-width:4; stroke-opacity:1; fill:none\" points=\"\n",
       "  515.714,735.212 657.251,735.212 \n",
       "  \"/>\n",
       "<polyline clip-path=\"url(#clip492)\" style=\"stroke:#c271d2; stroke-linecap:butt; stroke-linejoin:round; stroke-width:4; stroke-opacity:1; fill:none\" points=\"\n",
       "  657.251,735.212 869.558,735.212 \n",
       "  \"/>\n",
       "<polyline clip-path=\"url(#clip492)\" style=\"stroke:#c271d2; stroke-linecap:butt; stroke-linejoin:round; stroke-width:4; stroke-opacity:1; fill:none\" points=\"\n",
       "  869.558,735.212 1188.02,735.212 \n",
       "  \"/>\n",
       "<polyline clip-path=\"url(#clip492)\" style=\"stroke:#c271d2; stroke-linecap:butt; stroke-linejoin:round; stroke-width:4; stroke-opacity:1; fill:none\" points=\"\n",
       "  1188.02,735.212 1305.31,735.212 \n",
       "  \"/>\n",
       "<polyline clip-path=\"url(#clip492)\" style=\"stroke:#c271d2; stroke-linecap:butt; stroke-linejoin:round; stroke-width:8; stroke-opacity:1; fill:none\" points=\"\n",
       "  1305.31,735.212 2004.26,735.212 \n",
       "  \"/>\n",
       "<polyline clip-path=\"url(#clip492)\" style=\"stroke:#c271d2; stroke-linecap:butt; stroke-linejoin:round; stroke-width:8; stroke-opacity:1; fill:none\" points=\"\n",
       "  2004.26,735.212 2293.45,735.212 \n",
       "  \"/>\n",
       "<circle clip-path=\"url(#clip492)\" cx=\"1305.31\" cy=\"735.212\" r=\"10\" fill=\"#0000ff\" fill-rule=\"evenodd\" fill-opacity=\"1\" stroke=\"#000000\" stroke-opacity=\"1\" stroke-width=\"0\"/>\n",
       "<circle clip-path=\"url(#clip492)\" cx=\"1305.31\" cy=\"735.212\" r=\"10\" fill=\"#0000ff\" fill-rule=\"evenodd\" fill-opacity=\"1\" stroke=\"#000000\" stroke-opacity=\"1\" stroke-width=\"0\"/>\n",
       "<path clip-path=\"url(#clip490)\" d=\"\n",
       "M1996.78 248.629 L2282.9 248.629 L2282.9 93.1086 L1996.78 93.1086  Z\n",
       "  \" fill=\"#ffffff\" fill-rule=\"evenodd\" fill-opacity=\"1\"/>\n",
       "<polyline clip-path=\"url(#clip490)\" style=\"stroke:#000000; stroke-linecap:butt; stroke-linejoin:round; stroke-width:4; stroke-opacity:1; fill:none\" points=\"\n",
       "  1996.78,248.629 2282.9,248.629 2282.9,93.1086 1996.78,93.1086 1996.78,248.629 \n",
       "  \"/>\n",
       "<circle clip-path=\"url(#clip490)\" cx=\"2089.91\" cy=\"144.949\" r=\"23\" fill=\"#0000ff\" fill-rule=\"evenodd\" fill-opacity=\"1\" stroke=\"#000000\" stroke-opacity=\"1\" stroke-width=\"0\"/>\n",
       "<path clip-path=\"url(#clip490)\" d=\"M2201.82 149.289 Q2201.82 144.59 2199.88 141.928 Q2197.96 139.243 2194.58 139.243 Q2191.2 139.243 2189.25 141.928 Q2187.33 144.59 2187.33 149.289 Q2187.33 153.988 2189.25 156.673 Q2191.2 159.335 2194.58 159.335 Q2197.96 159.335 2199.88 156.673 Q2201.82 153.988 2201.82 149.289 M2187.33 140.238 Q2188.67 137.923 2190.71 136.812 Q2192.77 135.678 2195.62 135.678 Q2200.34 135.678 2203.28 139.428 Q2206.24 143.178 2206.24 149.289 Q2206.24 155.4 2203.28 159.15 Q2200.34 162.9 2195.62 162.9 Q2192.77 162.9 2190.71 161.789 Q2188.67 160.655 2187.33 158.34 L2187.33 162.229 L2183.05 162.229 L2183.05 126.21 L2187.33 126.21 L2187.33 140.238 Z\" fill=\"#000000\" fill-rule=\"evenodd\" fill-opacity=\"1\" /><path clip-path=\"url(#clip490)\" d=\"M2217.42 158.34 L2217.42 172.09 L2213.14 172.09 L2213.14 136.303 L2217.42 136.303 L2217.42 140.238 Q2218.77 137.923 2220.8 136.812 Q2222.86 135.678 2225.71 135.678 Q2230.43 135.678 2233.37 139.428 Q2236.34 143.178 2236.34 149.289 Q2236.34 155.4 2233.37 159.15 Q2230.43 162.9 2225.71 162.9 Q2222.86 162.9 2220.8 161.789 Q2218.77 160.655 2217.42 158.34 M2231.92 149.289 Q2231.92 144.59 2229.97 141.928 Q2228.05 139.243 2224.67 139.243 Q2221.29 139.243 2219.35 141.928 Q2217.42 144.59 2217.42 149.289 Q2217.42 153.988 2219.35 156.673 Q2221.29 159.335 2224.67 159.335 Q2228.05 159.335 2229.97 156.673 Q2231.92 153.988 2231.92 149.289 Z\" fill=\"#000000\" fill-rule=\"evenodd\" fill-opacity=\"1\" /><circle clip-path=\"url(#clip490)\" cx=\"2089.91\" cy=\"196.789\" r=\"23\" fill=\"#0000ff\" fill-rule=\"evenodd\" fill-opacity=\"1\" stroke=\"#000000\" stroke-opacity=\"1\" stroke-width=\"0\"/>\n",
       "<path clip-path=\"url(#clip490)\" d=\"M2201.82 201.129 Q2201.82 196.43 2199.88 193.768 Q2197.96 191.083 2194.58 191.083 Q2191.2 191.083 2189.25 193.768 Q2187.33 196.43 2187.33 201.129 Q2187.33 205.828 2189.25 208.513 Q2191.2 211.175 2194.58 211.175 Q2197.96 211.175 2199.88 208.513 Q2201.82 205.828 2201.82 201.129 M2187.33 192.078 Q2188.67 189.763 2190.71 188.652 Q2192.77 187.518 2195.62 187.518 Q2200.34 187.518 2203.28 191.268 Q2206.24 195.018 2206.24 201.129 Q2206.24 207.24 2203.28 210.99 Q2200.34 214.74 2195.62 214.74 Q2192.77 214.74 2190.71 213.629 Q2188.67 212.495 2187.33 210.18 L2187.33 214.069 L2183.05 214.069 L2183.05 178.05 L2187.33 178.05 L2187.33 192.078 Z\" fill=\"#000000\" fill-rule=\"evenodd\" fill-opacity=\"1\" /><path clip-path=\"url(#clip490)\" d=\"M2217.42 210.18 L2217.42 223.93 L2213.14 223.93 L2213.14 188.143 L2217.42 188.143 L2217.42 192.078 Q2218.77 189.763 2220.8 188.652 Q2222.86 187.518 2225.71 187.518 Q2230.43 187.518 2233.37 191.268 Q2236.34 195.018 2236.34 201.129 Q2236.34 207.24 2233.37 210.99 Q2230.43 214.74 2225.71 214.74 Q2222.86 214.74 2220.8 213.629 Q2218.77 212.495 2217.42 210.18 M2231.92 201.129 Q2231.92 196.43 2229.97 193.768 Q2228.05 191.083 2224.67 191.083 Q2221.29 191.083 2219.35 193.768 Q2217.42 196.43 2217.42 201.129 Q2217.42 205.828 2219.35 208.513 Q2221.29 211.175 2224.67 211.175 Q2228.05 211.175 2229.97 208.513 Q2231.92 205.828 2231.92 201.129 Z\" fill=\"#000000\" fill-rule=\"evenodd\" fill-opacity=\"1\" /></svg>\n"
      ]
     },
     "execution_count": 22,
     "metadata": {},
     "output_type": "execute_result"
    }
   ],
   "source": [
    "F=(x,p) -> @. consumer(x,(p,),0)\n",
    "R=0.2; K=2.0; Pmin=0.1; Pmax=0.3\n",
    "opts = ContinuationPar(pMin=Pmin,pMax=Pmax, ds = 0.003, dsmax = 0.05, detectBifurcation=3)\n",
    "br1, = continuation(F,[0.8],[R,K,Pmin],(@lens _[3]), opts; recordFromSolution = (x, p) -> x[1])\n",
    "br2, = continuation(F,[-0.2],[R,K,Pmin],(@lens _[3]), opts)\n",
    "plot(br1)\n",
    "plot!(br2)"
   ]
  },
  {
   "cell_type": "markdown",
   "id": "7a1295e1",
   "metadata": {},
   "source": [
    "# Calculo numerico de los puntos fijos y su estabilidad\n",
    "\n",
    "Si bien en este ultimo caso es sencillo calcular los puntos fijos y la estabilidad de forma analítica, vamos a ver una forma de calcular ambas cosas para casos genéricos (fuera de la bifurcacion) usando la función **roots** del paquete IntervalRootFinding y la funcion **derivative** de ForwardDiff.\n",
    "\n",
    "La unica restriccion es que tenemos que redefinir nuestro campo vector para un valor particular de parametros que es lo que hacemos en la primer linea. Luego simplemente aplicamos roots\n"
   ]
  },
  {
   "cell_type": "code",
   "execution_count": 30,
   "id": "6041cebb",
   "metadata": {},
   "outputs": [
    {
     "data": {
      "text/plain": [
       "2-element Vector{Root{Interval{Float64}}}:\n",
       " Root([0.999999, 1.00001], :unique)\n",
       " Root([-8.23357e-15, 7.51891e-15], :unique)"
      ]
     },
     "execution_count": 30,
     "metadata": {},
     "output_type": "execute_result"
    }
   ],
   "source": [
    "R=0.2; K=2.0; P=0.1;\n",
    "c(x) = consumer(x,[R,K,P],0)\n",
    "pf = roots(c,-10..20)"
   ]
  },
  {
   "cell_type": "markdown",
   "id": "25c2e6e3",
   "metadata": {},
   "source": [
    "La funcion roots no devuelve valores sino intervalos donde puede haber un cero, que es unico si tiene el simbolo unique o no si dice unknown. Podemos tomar el valor medio del intervalo con mid y hacer un array con los ceros definiendo un array de forma implicita de la siguiente forma"
   ]
  },
  {
   "cell_type": "code",
   "execution_count": 32,
   "id": "4002346e",
   "metadata": {},
   "outputs": [
    {
     "data": {
      "text/plain": [
       "2-element Vector{Float64}:\n",
       "  1.0000000000034677\n",
       " -3.57329810473983e-16"
      ]
     },
     "execution_count": 32,
     "metadata": {},
     "output_type": "execute_result"
    }
   ],
   "source": [
    "xstar = [mid(p.interval) for p in pf]"
   ]
  },
  {
   "cell_type": "markdown",
   "id": "49f7691a",
   "metadata": {},
   "source": [
    "Finalmente podemos calcular el valor de la derivada en estos puntos aplicando la funcion derivative con broadcasting"
   ]
  },
  {
   "cell_type": "code",
   "execution_count": 33,
   "id": "ef4c670f",
   "metadata": {},
   "outputs": [
    {
     "data": {
      "text/plain": [
       "2-element Vector{Float64}:\n",
       " -0.10000000000069353\n",
       "  0.10000000000000009"
      ]
     },
     "execution_count": 33,
     "metadata": {},
     "output_type": "execute_result"
    }
   ],
   "source": [
    "pd = derivative.(c,xstar)"
   ]
  },
  {
   "cell_type": "markdown",
   "id": "547a2546",
   "metadata": {},
   "source": [
    "Finalmente, podemos incorporar los puntos fijos en un grafico interactivo que sume las dos ramas del diagrama de bifurcaciones"
   ]
  },
  {
   "cell_type": "code",
   "execution_count": 34,
   "id": "8ec805e6",
   "metadata": {},
   "outputs": [
    {
     "data": {
      "application/vnd.webio.node+json": {
       "children": [
        {
         "children": [
          {
           "children": [
            {
             "children": [
              {
               "children": [
                {
                 "children": [
                  "H"
                 ],
                 "instanceArgs": {
                  "namespace": "html",
                  "tag": "label"
                 },
                 "nodeType": "DOM",
                 "props": {
                  "className": "interact ",
                  "style": {
                   "padding": "5px 10px 0px 10px"
                  }
                 },
                 "type": "node"
                }
               ],
               "instanceArgs": {
                "namespace": "html",
                "tag": "div"
               },
               "nodeType": "DOM",
               "props": {
                "className": "interact-flex-row-left"
               },
               "type": "node"
              },
              {
               "children": [
                {
                 "children": [],
                 "instanceArgs": {
                  "namespace": "html",
                  "tag": "input"
                 },
                 "nodeType": "DOM",
                 "props": {
                  "attributes": {
                   "data-bind": "numericValue: index, valueUpdate: 'input', event: {change: function (){this.changes(this.changes()+1)}}",
                   "orient": "horizontal",
                   "type": "range"
                  },
                  "className": "slider slider is-fullwidth",
                  "max": 41,
                  "min": 1,
                  "step": 1,
                  "style": {}
                 },
                 "type": "node"
                }
               ],
               "instanceArgs": {
                "namespace": "html",
                "tag": "div"
               },
               "nodeType": "DOM",
               "props": {
                "className": "interact-flex-row-center"
               },
               "type": "node"
              },
              {
               "children": [
                {
                 "children": [],
                 "instanceArgs": {
                  "namespace": "html",
                  "tag": "p"
                 },
                 "nodeType": "DOM",
                 "props": {
                  "attributes": {
                   "data-bind": "text: formatted_val"
                  }
                 },
                 "type": "node"
                }
               ],
               "instanceArgs": {
                "namespace": "html",
                "tag": "div"
               },
               "nodeType": "DOM",
               "props": {
                "className": "interact-flex-row-right"
               },
               "type": "node"
              }
             ],
             "instanceArgs": {
              "namespace": "html",
              "tag": "div"
             },
             "nodeType": "DOM",
             "props": {
              "className": "interact-flex-row interact-widget"
             },
             "type": "node"
            }
           ],
           "instanceArgs": {
            "handlers": {
             "changes": [
              "(function (val){return (val!=this.model[\"changes\"]()) ? (this.valueFromJulia[\"changes\"]=true, this.model[\"changes\"](val)) : undefined})"
             ],
             "index": [
              "(function (val){return (val!=this.model[\"index\"]()) ? (this.valueFromJulia[\"index\"]=true, this.model[\"index\"](val)) : undefined})"
             ]
            },
            "id": "3884098028835579609",
            "imports": {
             "data": [
              {
               "name": "knockout",
               "type": "js",
               "url": "/assetserver/2712bb0a7395d062608c2f218a74b700f6c76b99-knockout.js"
              },
              {
               "name": "knockout_punches",
               "type": "js",
               "url": "/assetserver/fb4445501a2be4ab82176667f844e40da26fa007-knockout_punches.js"
              },
              {
               "name": null,
               "type": "js",
               "url": "/assetserver/a8ea7d9192d5fa85c6fac26c72d7fece1e500138-all.js"
              },
              {
               "name": null,
               "type": "css",
               "url": "/assetserver/620a53798cfdb29a4a2142ce0588e9aadc351d94-style.css"
              },
              {
               "name": null,
               "type": "css",
               "url": "/assetserver/9f2f17f677abbfd015a7c6b0c0f09a2da809bee2-bulma_confined.min.css"
              }
             ],
             "type": "async_block"
            },
            "mount_callbacks": [
             "function () {\n    var handler = (function (ko, koPunches) {\n    ko.punches.enableAll();\n    ko.bindingHandlers.numericValue = {\n        init: function(element, valueAccessor, allBindings, data, context) {\n            var stringified = ko.observable(ko.unwrap(valueAccessor()));\n            stringified.subscribe(function(value) {\n                var val = parseFloat(value);\n                if (!isNaN(val)) {\n                    valueAccessor()(val);\n                }\n            });\n            valueAccessor().subscribe(function(value) {\n                var str = JSON.stringify(value);\n                if ((str == \"0\") && ([\"-0\", \"-0.\"].indexOf(stringified()) >= 0))\n                     return;\n                 if ([\"null\", \"\"].indexOf(str) >= 0)\n                     return;\n                stringified(str);\n            });\n            ko.applyBindingsToNode(\n                element,\n                {\n                    value: stringified,\n                    valueUpdate: allBindings.get('valueUpdate'),\n                },\n                context,\n            );\n        }\n    };\n    var json_data = {\"formatted_vals\":[\"0.1\",\"0.105\",\"0.11\",\"0.115\",\"0.12\",\"0.125\",\"0.13\",\"0.135\",\"0.14\",\"0.145\",\"0.15\",\"0.155\",\"0.16\",\"0.165\",\"0.17\",\"0.175\",\"0.18\",\"0.185\",\"0.19\",\"0.195\",\"0.2\",\"0.205\",\"0.21\",\"0.215\",\"0.22\",\"0.225\",\"0.23\",\"0.235\",\"0.24\",\"0.245\",\"0.25\",\"0.255\",\"0.26\",\"0.265\",\"0.27\",\"0.275\",\"0.28\",\"0.285\",\"0.29\",\"0.295\",\"0.3\"],\"changes\":WebIO.getval({\"name\":\"changes\",\"scope\":\"3884098028835579609\",\"id\":\"8881782836634850537\",\"type\":\"observable\"}),\"index\":WebIO.getval({\"name\":\"index\",\"scope\":\"3884098028835579609\",\"id\":\"13632431224908907560\",\"type\":\"observable\"})};\n    var self = this;\n    function AppViewModel() {\n        for (var key in json_data) {\n            var el = json_data[key];\n            this[key] = Array.isArray(el) ? ko.observableArray(el) : ko.observable(el);\n        }\n        \n        [this[\"formatted_val\"]=ko.computed(    function(){\n        return this.formatted_vals()[parseInt(this.index())-(1)];\n    }\n,this)]\n        [this[\"changes\"].subscribe((function (val){!(this.valueFromJulia[\"changes\"]) ? (WebIO.setval({\"name\":\"changes\",\"scope\":\"3884098028835579609\",\"id\":\"8881782836634850537\",\"type\":\"observable\"},val)) : undefined; return this.valueFromJulia[\"changes\"]=false}),self),this[\"index\"].subscribe((function (val){!(this.valueFromJulia[\"index\"]) ? (WebIO.setval({\"name\":\"index\",\"scope\":\"3884098028835579609\",\"id\":\"13632431224908907560\",\"type\":\"observable\"},val)) : undefined; return this.valueFromJulia[\"index\"]=false}),self)]\n        \n    }\n    self.model = new AppViewModel();\n    self.valueFromJulia = {};\n    for (var key in json_data) {\n        self.valueFromJulia[key] = false;\n    }\n    ko.applyBindings(self.model, self.dom);\n}\n);\n    (WebIO.importBlock({\"data\":[{\"name\":\"knockout\",\"type\":\"js\",\"url\":\"/assetserver/2712bb0a7395d062608c2f218a74b700f6c76b99-knockout.js\"},{\"name\":\"knockout_punches\",\"type\":\"js\",\"url\":\"/assetserver/fb4445501a2be4ab82176667f844e40da26fa007-knockout_punches.js\"}],\"type\":\"async_block\"})).then((imports) => handler.apply(this, imports));\n}\n"
            ],
            "observables": {
             "changes": {
              "id": "8881782836634850537",
              "sync": false,
              "value": 0
             },
             "index": {
              "id": "13632431224908907560",
              "sync": true,
              "value": 21
             }
            },
            "systemjs_options": null
           },
           "nodeType": "Scope",
           "props": {},
           "type": "node"
          }
         ],
         "instanceArgs": {
          "namespace": "html",
          "tag": "div"
         },
         "nodeType": "DOM",
         "props": {
          "className": "field interact-widget"
         },
         "type": "node"
        },
        {
         "children": [
          {
           "children": [],
           "instanceArgs": {
            "id": "15503010400356079811",
            "name": "obs-node"
           },
           "nodeType": "ObservableNode",
           "props": {},
           "type": "node"
          }
         ],
         "instanceArgs": {
          "handlers": {},
          "id": "7889359336068396713",
          "imports": {
           "data": [],
           "type": "async_block"
          },
          "mount_callbacks": [],
          "observables": {
           "obs-node": {
            "id": "15503010400356079811",
            "sync": false,
            "value": {
             "children": [
              {
               "children": [],
               "instanceArgs": {
                "namespace": "html",
                "tag": "div"
               },
               "nodeType": "DOM",
               "props": {
                "setInnerHtml": "<?xml version=\"1.0\" encoding=\"utf-8\"?>\n<svg xmlns=\"http://www.w3.org/2000/svg\" xmlns:xlink=\"http://www.w3.org/1999/xlink\" width=\"600\" height=\"400\" viewBox=\"0 0 2400 1600\">\n<defs>\n  <clipPath id=\"clip570\">\n    <rect x=\"0\" y=\"0\" width=\"2400\" height=\"1600\"/>\n  </clipPath>\n</defs>\n<path clip-path=\"url(#clip570)\" d=\"\nM0 1600 L2400 1600 L2400 0 L0 0  Z\n  \" fill=\"#ffffff\" fill-rule=\"evenodd\" fill-opacity=\"1\"/>\n<defs>\n  <clipPath id=\"clip571\">\n    <rect x=\"480\" y=\"0\" width=\"1681\" height=\"1600\"/>\n  </clipPath>\n</defs>\n<path clip-path=\"url(#clip570)\" d=\"\nM257.204 1423.18 L2352.76 1423.18 L2352.76 47.2441 L257.204 47.2441  Z\n  \" fill=\"#ffffff\" fill-rule=\"evenodd\" fill-opacity=\"1\"/>\n<defs>\n  <clipPath id=\"clip572\">\n    <rect x=\"257\" y=\"47\" width=\"2097\" height=\"1377\"/>\n  </clipPath>\n</defs>\n<polyline clip-path=\"url(#clip572)\" style=\"stroke:#000000; stroke-linecap:butt; stroke-linejoin:round; stroke-width:2; stroke-opacity:0.1; fill:none\" points=\"\n  316.512,1423.18 316.512,47.2441 \n  \"/>\n<polyline clip-path=\"url(#clip572)\" style=\"stroke:#000000; stroke-linecap:butt; stroke-linejoin:round; stroke-width:2; stroke-opacity:0.1; fill:none\" points=\"\n  810.746,1423.18 810.746,47.2441 \n  \"/>\n<polyline clip-path=\"url(#clip572)\" style=\"stroke:#000000; stroke-linecap:butt; stroke-linejoin:round; stroke-width:2; stroke-opacity:0.1; fill:none\" points=\"\n  1304.98,1423.18 1304.98,47.2441 \n  \"/>\n<polyline clip-path=\"url(#clip572)\" style=\"stroke:#000000; stroke-linecap:butt; stroke-linejoin:round; stroke-width:2; stroke-opacity:0.1; fill:none\" points=\"\n  1799.21,1423.18 1799.21,47.2441 \n  \"/>\n<polyline clip-path=\"url(#clip572)\" style=\"stroke:#000000; stroke-linecap:butt; stroke-linejoin:round; stroke-width:2; stroke-opacity:0.1; fill:none\" points=\"\n  2293.45,1423.18 2293.45,47.2441 \n  \"/>\n<polyline clip-path=\"url(#clip570)\" style=\"stroke:#000000; stroke-linecap:butt; stroke-linejoin:round; stroke-width:4; stroke-opacity:1; fill:none\" points=\"\n  257.204,1423.18 2352.76,1423.18 \n  \"/>\n<polyline clip-path=\"url(#clip570)\" style=\"stroke:#000000; stroke-linecap:butt; stroke-linejoin:round; stroke-width:4; stroke-opacity:1; fill:none\" points=\"\n  316.512,1423.18 316.512,1404.28 \n  \"/>\n<polyline clip-path=\"url(#clip570)\" style=\"stroke:#000000; stroke-linecap:butt; stroke-linejoin:round; stroke-width:4; stroke-opacity:1; fill:none\" points=\"\n  810.746,1423.18 810.746,1404.28 \n  \"/>\n<polyline clip-path=\"url(#clip570)\" style=\"stroke:#000000; stroke-linecap:butt; stroke-linejoin:round; stroke-width:4; stroke-opacity:1; fill:none\" points=\"\n  1304.98,1423.18 1304.98,1404.28 \n  \"/>\n<polyline clip-path=\"url(#clip570)\" style=\"stroke:#000000; stroke-linecap:butt; stroke-linejoin:round; stroke-width:4; stroke-opacity:1; fill:none\" points=\"\n  1799.21,1423.18 1799.21,1404.28 \n  \"/>\n<polyline clip-path=\"url(#clip570)\" style=\"stroke:#000000; stroke-linecap:butt; stroke-linejoin:round; stroke-width:4; stroke-opacity:1; fill:none\" points=\"\n  2293.45,1423.18 2293.45,1404.28 \n  \"/>\n<path clip-path=\"url(#clip570)\" d=\"M278.816 1454.1 Q275.204 1454.1 273.376 1457.66 Q271.57 1461.2 271.57 1468.33 Q271.57 1475.44 273.376 1479.01 Q275.204 1482.55 278.816 1482.55 Q282.45 1482.55 284.255 1479.01 Q286.084 1475.44 286.084 1468.33 Q286.084 1461.2 284.255 1457.66 Q282.45 1454.1 278.816 1454.1 M278.816 1450.39 Q284.626 1450.39 287.681 1455 Q290.76 1459.58 290.76 1468.33 Q290.76 1477.06 287.681 1481.67 Q284.626 1486.25 278.816 1486.25 Q273.005 1486.25 269.927 1481.67 Q266.871 1477.06 266.871 1468.33 Q266.871 1459.58 269.927 1455 Q273.005 1450.39 278.816 1450.39 Z\" fill=\"#000000\" fill-rule=\"evenodd\" fill-opacity=\"1\" /><path clip-path=\"url(#clip570)\" d=\"M298.977 1479.7 L303.862 1479.7 L303.862 1485.58 L298.977 1485.58 L298.977 1479.7 Z\" fill=\"#000000\" fill-rule=\"evenodd\" fill-opacity=\"1\" /><path clip-path=\"url(#clip570)\" d=\"M314.857 1481.64 L322.496 1481.64 L322.496 1455.28 L314.186 1456.95 L314.186 1452.69 L322.45 1451.02 L327.125 1451.02 L327.125 1481.64 L334.764 1481.64 L334.764 1485.58 L314.857 1485.58 L314.857 1481.64 Z\" fill=\"#000000\" fill-rule=\"evenodd\" fill-opacity=\"1\" /><path clip-path=\"url(#clip570)\" d=\"M354.209 1454.1 Q350.598 1454.1 348.769 1457.66 Q346.963 1461.2 346.963 1468.33 Q346.963 1475.44 348.769 1479.01 Q350.598 1482.55 354.209 1482.55 Q357.843 1482.55 359.648 1479.01 Q361.477 1475.44 361.477 1468.33 Q361.477 1461.2 359.648 1457.66 Q357.843 1454.1 354.209 1454.1 M354.209 1450.39 Q360.019 1450.39 363.074 1455 Q366.153 1459.58 366.153 1468.33 Q366.153 1477.06 363.074 1481.67 Q360.019 1486.25 354.209 1486.25 Q348.399 1486.25 345.32 1481.67 Q342.264 1477.06 342.264 1468.33 Q342.264 1459.58 345.32 1455 Q348.399 1450.39 354.209 1450.39 Z\" fill=\"#000000\" fill-rule=\"evenodd\" fill-opacity=\"1\" /><path clip-path=\"url(#clip570)\" d=\"M773.547 1454.1 Q769.936 1454.1 768.107 1457.66 Q766.302 1461.2 766.302 1468.33 Q766.302 1475.44 768.107 1479.01 Q769.936 1482.55 773.547 1482.55 Q777.181 1482.55 778.987 1479.01 Q780.816 1475.44 780.816 1468.33 Q780.816 1461.2 778.987 1457.66 Q777.181 1454.1 773.547 1454.1 M773.547 1450.39 Q779.357 1450.39 782.413 1455 Q785.492 1459.58 785.492 1468.33 Q785.492 1477.06 782.413 1481.67 Q779.357 1486.25 773.547 1486.25 Q767.737 1486.25 764.658 1481.67 Q761.603 1477.06 761.603 1468.33 Q761.603 1459.58 764.658 1455 Q767.737 1450.39 773.547 1450.39 Z\" fill=\"#000000\" fill-rule=\"evenodd\" fill-opacity=\"1\" /><path clip-path=\"url(#clip570)\" d=\"M793.709 1479.7 L798.593 1479.7 L798.593 1485.58 L793.709 1485.58 L793.709 1479.7 Z\" fill=\"#000000\" fill-rule=\"evenodd\" fill-opacity=\"1\" /><path clip-path=\"url(#clip570)\" d=\"M809.589 1481.64 L817.227 1481.64 L817.227 1455.28 L808.917 1456.95 L808.917 1452.69 L817.181 1451.02 L821.857 1451.02 L821.857 1481.64 L829.496 1481.64 L829.496 1485.58 L809.589 1485.58 L809.589 1481.64 Z\" fill=\"#000000\" fill-rule=\"evenodd\" fill-opacity=\"1\" /><path clip-path=\"url(#clip570)\" d=\"M838.987 1451.02 L857.343 1451.02 L857.343 1454.96 L843.269 1454.96 L843.269 1463.43 Q844.288 1463.08 845.306 1462.92 Q846.325 1462.73 847.343 1462.73 Q853.13 1462.73 856.51 1465.9 Q859.889 1469.08 859.889 1474.49 Q859.889 1480.07 856.417 1483.17 Q852.945 1486.25 846.625 1486.25 Q844.45 1486.25 842.181 1485.88 Q839.936 1485.51 837.528 1484.77 L837.528 1480.07 Q839.612 1481.2 841.834 1481.76 Q844.056 1482.32 846.533 1482.32 Q850.537 1482.32 852.875 1480.21 Q855.213 1478.1 855.213 1474.49 Q855.213 1470.88 852.875 1468.77 Q850.537 1466.67 846.533 1466.67 Q844.658 1466.67 842.783 1467.08 Q840.931 1467.5 838.987 1468.38 L838.987 1451.02 Z\" fill=\"#000000\" fill-rule=\"evenodd\" fill-opacity=\"1\" /><path clip-path=\"url(#clip570)\" d=\"M1267.28 1454.1 Q1263.67 1454.1 1261.84 1457.66 Q1260.04 1461.2 1260.04 1468.33 Q1260.04 1475.44 1261.84 1479.01 Q1263.67 1482.55 1267.28 1482.55 Q1270.92 1482.55 1272.72 1479.01 Q1274.55 1475.44 1274.55 1468.33 Q1274.55 1461.2 1272.72 1457.66 Q1270.92 1454.1 1267.28 1454.1 M1267.28 1450.39 Q1273.09 1450.39 1276.15 1455 Q1279.23 1459.58 1279.23 1468.33 Q1279.23 1477.06 1276.15 1481.67 Q1273.09 1486.25 1267.28 1486.25 Q1261.47 1486.25 1258.39 1481.67 Q1255.34 1477.06 1255.34 1468.33 Q1255.34 1459.58 1258.39 1455 Q1261.47 1450.39 1267.28 1450.39 Z\" fill=\"#000000\" fill-rule=\"evenodd\" fill-opacity=\"1\" /><path clip-path=\"url(#clip570)\" d=\"M1287.45 1479.7 L1292.33 1479.7 L1292.33 1485.58 L1287.45 1485.58 L1287.45 1479.7 Z\" fill=\"#000000\" fill-rule=\"evenodd\" fill-opacity=\"1\" /><path clip-path=\"url(#clip570)\" d=\"M1306.54 1481.64 L1322.86 1481.64 L1322.86 1485.58 L1300.92 1485.58 L1300.92 1481.64 Q1303.58 1478.89 1308.16 1474.26 Q1312.77 1469.61 1313.95 1468.27 Q1316.2 1465.74 1317.07 1464.01 Q1317.98 1462.25 1317.98 1460.56 Q1317.98 1457.8 1316.03 1456.07 Q1314.11 1454.33 1311.01 1454.33 Q1308.81 1454.33 1306.36 1455.09 Q1303.93 1455.86 1301.15 1457.41 L1301.15 1452.69 Q1303.97 1451.55 1306.43 1450.97 Q1308.88 1450.39 1310.92 1450.39 Q1316.29 1450.39 1319.48 1453.08 Q1322.68 1455.77 1322.68 1460.26 Q1322.68 1462.39 1321.87 1464.31 Q1321.08 1466.2 1318.97 1468.8 Q1318.39 1469.47 1315.29 1472.69 Q1312.19 1475.88 1306.54 1481.64 Z\" fill=\"#000000\" fill-rule=\"evenodd\" fill-opacity=\"1\" /><path clip-path=\"url(#clip570)\" d=\"M1342.68 1454.1 Q1339.07 1454.1 1337.24 1457.66 Q1335.43 1461.2 1335.43 1468.33 Q1335.43 1475.44 1337.24 1479.01 Q1339.07 1482.55 1342.68 1482.55 Q1346.31 1482.55 1348.12 1479.01 Q1349.95 1475.44 1349.95 1468.33 Q1349.95 1461.2 1348.12 1457.66 Q1346.31 1454.1 1342.68 1454.1 M1342.68 1450.39 Q1348.49 1450.39 1351.54 1455 Q1354.62 1459.58 1354.62 1468.33 Q1354.62 1477.06 1351.54 1481.67 Q1348.49 1486.25 1342.68 1486.25 Q1336.87 1486.25 1333.79 1481.67 Q1330.73 1477.06 1330.73 1468.33 Q1330.73 1459.58 1333.79 1455 Q1336.87 1450.39 1342.68 1450.39 Z\" fill=\"#000000\" fill-rule=\"evenodd\" fill-opacity=\"1\" /><path clip-path=\"url(#clip570)\" d=\"M1762.02 1454.1 Q1758.4 1454.1 1756.58 1457.66 Q1754.77 1461.2 1754.77 1468.33 Q1754.77 1475.44 1756.58 1479.01 Q1758.4 1482.55 1762.02 1482.55 Q1765.65 1482.55 1767.45 1479.01 Q1769.28 1475.44 1769.28 1468.33 Q1769.28 1461.2 1767.45 1457.66 Q1765.65 1454.1 1762.02 1454.1 M1762.02 1450.39 Q1767.83 1450.39 1770.88 1455 Q1773.96 1459.58 1773.96 1468.33 Q1773.96 1477.06 1770.88 1481.67 Q1767.83 1486.25 1762.02 1486.25 Q1756.2 1486.25 1753.13 1481.67 Q1750.07 1477.06 1750.07 1468.33 Q1750.07 1459.58 1753.13 1455 Q1756.2 1450.39 1762.02 1450.39 Z\" fill=\"#000000\" fill-rule=\"evenodd\" fill-opacity=\"1\" /><path clip-path=\"url(#clip570)\" d=\"M1782.18 1479.7 L1787.06 1479.7 L1787.06 1485.58 L1782.18 1485.58 L1782.18 1479.7 Z\" fill=\"#000000\" fill-rule=\"evenodd\" fill-opacity=\"1\" /><path clip-path=\"url(#clip570)\" d=\"M1801.27 1481.64 L1817.59 1481.64 L1817.59 1485.58 L1795.65 1485.58 L1795.65 1481.64 Q1798.31 1478.89 1802.89 1474.26 Q1807.5 1469.61 1808.68 1468.27 Q1810.93 1465.74 1811.81 1464.01 Q1812.71 1462.25 1812.71 1460.56 Q1812.71 1457.8 1810.76 1456.07 Q1808.84 1454.33 1805.74 1454.33 Q1803.54 1454.33 1801.09 1455.09 Q1798.66 1455.86 1795.88 1457.41 L1795.88 1452.69 Q1798.7 1451.55 1801.16 1450.97 Q1803.61 1450.39 1805.65 1450.39 Q1811.02 1450.39 1814.21 1453.08 Q1817.41 1455.77 1817.41 1460.26 Q1817.41 1462.39 1816.6 1464.31 Q1815.81 1466.2 1813.7 1468.8 Q1813.13 1469.47 1810.02 1472.69 Q1806.92 1475.88 1801.27 1481.64 Z\" fill=\"#000000\" fill-rule=\"evenodd\" fill-opacity=\"1\" /><path clip-path=\"url(#clip570)\" d=\"M1827.45 1451.02 L1845.81 1451.02 L1845.81 1454.96 L1831.74 1454.96 L1831.74 1463.43 Q1832.76 1463.08 1833.77 1462.92 Q1834.79 1462.73 1835.81 1462.73 Q1841.6 1462.73 1844.98 1465.9 Q1848.36 1469.08 1848.36 1474.49 Q1848.36 1480.07 1844.88 1483.17 Q1841.41 1486.25 1835.09 1486.25 Q1832.92 1486.25 1830.65 1485.88 Q1828.4 1485.51 1826 1484.77 L1826 1480.07 Q1828.08 1481.2 1830.3 1481.76 Q1832.52 1482.32 1835 1482.32 Q1839.01 1482.32 1841.34 1480.21 Q1843.68 1478.1 1843.68 1474.49 Q1843.68 1470.88 1841.34 1468.77 Q1839.01 1466.67 1835 1466.67 Q1833.13 1466.67 1831.25 1467.08 Q1829.4 1467.5 1827.45 1468.38 L1827.45 1451.02 Z\" fill=\"#000000\" fill-rule=\"evenodd\" fill-opacity=\"1\" /><path clip-path=\"url(#clip570)\" d=\"M2255.75 1454.1 Q2252.14 1454.1 2250.31 1457.66 Q2248.51 1461.2 2248.51 1468.33 Q2248.51 1475.44 2250.31 1479.01 Q2252.14 1482.55 2255.75 1482.55 Q2259.39 1482.55 2261.19 1479.01 Q2263.02 1475.44 2263.02 1468.33 Q2263.02 1461.2 2261.19 1457.66 Q2259.39 1454.1 2255.75 1454.1 M2255.75 1450.39 Q2261.56 1450.39 2264.62 1455 Q2267.7 1459.58 2267.7 1468.33 Q2267.7 1477.06 2264.62 1481.67 Q2261.56 1486.25 2255.75 1486.25 Q2249.94 1486.25 2246.86 1481.67 Q2243.81 1477.06 2243.81 1468.33 Q2243.81 1459.58 2246.86 1455 Q2249.94 1450.39 2255.75 1450.39 Z\" fill=\"#000000\" fill-rule=\"evenodd\" fill-opacity=\"1\" /><path clip-path=\"url(#clip570)\" d=\"M2275.91 1479.7 L2280.8 1479.7 L2280.8 1485.58 L2275.91 1485.58 L2275.91 1479.7 Z\" fill=\"#000000\" fill-rule=\"evenodd\" fill-opacity=\"1\" /><path clip-path=\"url(#clip570)\" d=\"M2305.15 1466.95 Q2308.51 1467.66 2310.38 1469.93 Q2312.28 1472.2 2312.28 1475.53 Q2312.28 1480.65 2308.76 1483.45 Q2305.24 1486.25 2298.76 1486.25 Q2296.58 1486.25 2294.27 1485.81 Q2291.98 1485.39 2289.52 1484.54 L2289.52 1480.02 Q2291.47 1481.16 2293.78 1481.74 Q2296.1 1482.32 2298.62 1482.32 Q2303.02 1482.32 2305.31 1480.58 Q2307.63 1478.84 2307.63 1475.53 Q2307.63 1472.48 2305.47 1470.77 Q2303.34 1469.03 2299.52 1469.03 L2295.5 1469.03 L2295.5 1465.19 L2299.71 1465.19 Q2303.16 1465.19 2304.99 1463.82 Q2306.82 1462.43 2306.82 1459.84 Q2306.82 1457.18 2304.92 1455.77 Q2303.04 1454.33 2299.52 1454.33 Q2297.6 1454.33 2295.4 1454.75 Q2293.2 1455.16 2290.57 1456.04 L2290.57 1451.88 Q2293.23 1451.14 2295.54 1450.77 Q2297.88 1450.39 2299.94 1450.39 Q2305.26 1450.39 2308.37 1452.83 Q2311.47 1455.23 2311.47 1459.35 Q2311.47 1462.22 2309.83 1464.21 Q2308.18 1466.18 2305.15 1466.95 Z\" fill=\"#000000\" fill-rule=\"evenodd\" fill-opacity=\"1\" /><path clip-path=\"url(#clip570)\" d=\"M2331.14 1454.1 Q2327.53 1454.1 2325.7 1457.66 Q2323.9 1461.2 2323.9 1468.33 Q2323.9 1475.44 2325.7 1479.01 Q2327.53 1482.55 2331.14 1482.55 Q2334.78 1482.55 2336.58 1479.01 Q2338.41 1475.44 2338.41 1468.33 Q2338.41 1461.2 2336.58 1457.66 Q2334.78 1454.1 2331.14 1454.1 M2331.14 1450.39 Q2336.95 1450.39 2340.01 1455 Q2343.09 1459.58 2343.09 1468.33 Q2343.09 1477.06 2340.01 1481.67 Q2336.95 1486.25 2331.14 1486.25 Q2325.33 1486.25 2322.26 1481.67 Q2319.2 1477.06 2319.2 1468.33 Q2319.2 1459.58 2322.26 1455 Q2325.33 1450.39 2331.14 1450.39 Z\" fill=\"#000000\" fill-rule=\"evenodd\" fill-opacity=\"1\" /><path clip-path=\"url(#clip570)\" d=\"M1294.92 1562.7 L1294.92 1581.6 L1289.03 1581.6 L1289.03 1532.4 L1294.92 1532.4 L1294.92 1537.81 Q1296.77 1534.62 1299.57 1533.1 Q1302.4 1531.54 1306.32 1531.54 Q1312.81 1531.54 1316.85 1536.69 Q1320.93 1541.85 1320.93 1550.25 Q1320.93 1558.65 1316.85 1563.81 Q1312.81 1568.97 1306.32 1568.97 Q1302.4 1568.97 1299.57 1567.44 Q1296.77 1565.88 1294.92 1562.7 M1314.85 1550.25 Q1314.85 1543.79 1312.17 1540.13 Q1309.53 1536.44 1304.88 1536.44 Q1300.24 1536.44 1297.56 1540.13 Q1294.92 1543.79 1294.92 1550.25 Q1294.92 1556.71 1297.56 1560.4 Q1300.24 1564.07 1304.88 1564.07 Q1309.53 1564.07 1312.17 1560.4 Q1314.85 1556.71 1314.85 1550.25 Z\" fill=\"#000000\" fill-rule=\"evenodd\" fill-opacity=\"1\" /><polyline clip-path=\"url(#clip572)\" style=\"stroke:#000000; stroke-linecap:butt; stroke-linejoin:round; stroke-width:2; stroke-opacity:0.1; fill:none\" points=\"\n  257.204,1384.24 2352.76,1384.24 \n  \"/>\n<polyline clip-path=\"url(#clip572)\" style=\"stroke:#000000; stroke-linecap:butt; stroke-linejoin:round; stroke-width:2; stroke-opacity:0.1; fill:none\" points=\"\n  257.204,1059.73 2352.76,1059.73 \n  \"/>\n<polyline clip-path=\"url(#clip572)\" style=\"stroke:#000000; stroke-linecap:butt; stroke-linejoin:round; stroke-width:2; stroke-opacity:0.1; fill:none\" points=\"\n  257.204,735.212 2352.76,735.212 \n  \"/>\n<polyline clip-path=\"url(#clip572)\" style=\"stroke:#000000; stroke-linecap:butt; stroke-linejoin:round; stroke-width:2; stroke-opacity:0.1; fill:none\" points=\"\n  257.204,410.699 2352.76,410.699 \n  \"/>\n<polyline clip-path=\"url(#clip572)\" style=\"stroke:#000000; stroke-linecap:butt; stroke-linejoin:round; stroke-width:2; stroke-opacity:0.1; fill:none\" points=\"\n  257.204,86.1857 2352.76,86.1857 \n  \"/>\n<polyline clip-path=\"url(#clip570)\" style=\"stroke:#000000; stroke-linecap:butt; stroke-linejoin:round; stroke-width:4; stroke-opacity:1; fill:none\" points=\"\n  257.204,1423.18 257.204,47.2441 \n  \"/>\n<polyline clip-path=\"url(#clip570)\" style=\"stroke:#000000; stroke-linecap:butt; stroke-linejoin:round; stroke-width:4; stroke-opacity:1; fill:none\" points=\"\n  257.204,1384.24 276.102,1384.24 \n  \"/>\n<polyline clip-path=\"url(#clip570)\" style=\"stroke:#000000; stroke-linecap:butt; stroke-linejoin:round; stroke-width:4; stroke-opacity:1; fill:none\" points=\"\n  257.204,1059.73 276.102,1059.73 \n  \"/>\n<polyline clip-path=\"url(#clip570)\" style=\"stroke:#000000; stroke-linecap:butt; stroke-linejoin:round; stroke-width:4; stroke-opacity:1; fill:none\" points=\"\n  257.204,735.212 276.102,735.212 \n  \"/>\n<polyline clip-path=\"url(#clip570)\" style=\"stroke:#000000; stroke-linecap:butt; stroke-linejoin:round; stroke-width:4; stroke-opacity:1; fill:none\" points=\"\n  257.204,410.699 276.102,410.699 \n  \"/>\n<polyline clip-path=\"url(#clip570)\" style=\"stroke:#000000; stroke-linecap:butt; stroke-linejoin:round; stroke-width:4; stroke-opacity:1; fill:none\" points=\"\n  257.204,86.1857 276.102,86.1857 \n  \"/>\n<path clip-path=\"url(#clip570)\" d=\"M114.26 1384.69 L143.936 1384.69 L143.936 1388.62 L114.26 1388.62 L114.26 1384.69 Z\" fill=\"#000000\" fill-rule=\"evenodd\" fill-opacity=\"1\" /><path clip-path=\"url(#clip570)\" d=\"M154.839 1397.58 L162.477 1397.58 L162.477 1371.22 L154.167 1372.88 L154.167 1368.62 L162.431 1366.96 L167.107 1366.96 L167.107 1397.58 L174.746 1397.58 L174.746 1401.52 L154.839 1401.52 L154.839 1397.58 Z\" fill=\"#000000\" fill-rule=\"evenodd\" fill-opacity=\"1\" /><path clip-path=\"url(#clip570)\" d=\"M184.19 1395.64 L189.075 1395.64 L189.075 1401.52 L184.19 1401.52 L184.19 1395.64 Z\" fill=\"#000000\" fill-rule=\"evenodd\" fill-opacity=\"1\" /><path clip-path=\"url(#clip570)\" d=\"M209.26 1370.04 Q205.649 1370.04 203.82 1373.6 Q202.014 1377.14 202.014 1384.27 Q202.014 1391.38 203.82 1394.94 Q205.649 1398.49 209.26 1398.49 Q212.894 1398.49 214.699 1394.94 Q216.528 1391.38 216.528 1384.27 Q216.528 1377.14 214.699 1373.6 Q212.894 1370.04 209.26 1370.04 M209.26 1366.33 Q215.07 1366.33 218.125 1370.94 Q221.204 1375.52 221.204 1384.27 Q221.204 1393 218.125 1397.61 Q215.07 1402.19 209.26 1402.19 Q203.449 1402.19 200.371 1397.61 Q197.315 1393 197.315 1384.27 Q197.315 1375.52 200.371 1370.94 Q203.449 1366.33 209.26 1366.33 Z\" fill=\"#000000\" fill-rule=\"evenodd\" fill-opacity=\"1\" /><path clip-path=\"url(#clip570)\" d=\"M115.256 1060.18 L144.931 1060.18 L144.931 1064.11 L115.256 1064.11 L115.256 1060.18 Z\" fill=\"#000000\" fill-rule=\"evenodd\" fill-opacity=\"1\" /><path clip-path=\"url(#clip570)\" d=\"M165.024 1045.52 Q161.413 1045.52 159.584 1049.09 Q157.778 1052.63 157.778 1059.76 Q157.778 1066.87 159.584 1070.43 Q161.413 1073.97 165.024 1073.97 Q168.658 1073.97 170.464 1070.43 Q172.292 1066.87 172.292 1059.76 Q172.292 1052.63 170.464 1049.09 Q168.658 1045.52 165.024 1045.52 M165.024 1041.82 Q170.834 1041.82 173.889 1046.43 Q176.968 1051.01 176.968 1059.76 Q176.968 1068.49 173.889 1073.09 Q170.834 1077.68 165.024 1077.68 Q159.214 1077.68 156.135 1073.09 Q153.079 1068.49 153.079 1059.76 Q153.079 1051.01 156.135 1046.43 Q159.214 1041.82 165.024 1041.82 Z\" fill=\"#000000\" fill-rule=\"evenodd\" fill-opacity=\"1\" /><path clip-path=\"url(#clip570)\" d=\"M185.186 1071.13 L190.07 1071.13 L190.07 1077.01 L185.186 1077.01 L185.186 1071.13 Z\" fill=\"#000000\" fill-rule=\"evenodd\" fill-opacity=\"1\" /><path clip-path=\"url(#clip570)\" d=\"M200.301 1042.45 L218.658 1042.45 L218.658 1046.38 L204.584 1046.38 L204.584 1054.85 Q205.602 1054.51 206.621 1054.34 Q207.639 1054.16 208.658 1054.16 Q214.445 1054.16 217.824 1057.33 Q221.204 1060.5 221.204 1065.92 Q221.204 1071.5 217.732 1074.6 Q214.26 1077.68 207.94 1077.68 Q205.764 1077.68 203.496 1077.31 Q201.25 1076.94 198.843 1076.19 L198.843 1071.5 Q200.926 1072.63 203.149 1073.19 Q205.371 1073.74 207.848 1073.74 Q211.852 1073.74 214.19 1071.63 Q216.528 1069.53 216.528 1065.92 Q216.528 1062.31 214.19 1060.2 Q211.852 1058.09 207.848 1058.09 Q205.973 1058.09 204.098 1058.51 Q202.246 1058.93 200.301 1059.81 L200.301 1042.45 Z\" fill=\"#000000\" fill-rule=\"evenodd\" fill-opacity=\"1\" /><path clip-path=\"url(#clip570)\" d=\"M164.028 721.011 Q160.417 721.011 158.589 724.575 Q156.783 728.117 156.783 735.247 Q156.783 742.353 158.589 745.918 Q160.417 749.46 164.028 749.46 Q167.663 749.46 169.468 745.918 Q171.297 742.353 171.297 735.247 Q171.297 728.117 169.468 724.575 Q167.663 721.011 164.028 721.011 M164.028 717.307 Q169.839 717.307 172.894 721.913 Q175.973 726.497 175.973 735.247 Q175.973 743.973 172.894 748.58 Q169.839 753.163 164.028 753.163 Q158.218 753.163 155.14 748.58 Q152.084 743.973 152.084 735.247 Q152.084 726.497 155.14 721.913 Q158.218 717.307 164.028 717.307 Z\" fill=\"#000000\" fill-rule=\"evenodd\" fill-opacity=\"1\" /><path clip-path=\"url(#clip570)\" d=\"M184.19 746.612 L189.075 746.612 L189.075 752.492 L184.19 752.492 L184.19 746.612 Z\" fill=\"#000000\" fill-rule=\"evenodd\" fill-opacity=\"1\" /><path clip-path=\"url(#clip570)\" d=\"M209.26 721.011 Q205.649 721.011 203.82 724.575 Q202.014 728.117 202.014 735.247 Q202.014 742.353 203.82 745.918 Q205.649 749.46 209.26 749.46 Q212.894 749.46 214.699 745.918 Q216.528 742.353 216.528 735.247 Q216.528 728.117 214.699 724.575 Q212.894 721.011 209.26 721.011 M209.26 717.307 Q215.07 717.307 218.125 721.913 Q221.204 726.497 221.204 735.247 Q221.204 743.973 218.125 748.58 Q215.07 753.163 209.26 753.163 Q203.449 753.163 200.371 748.58 Q197.315 743.973 197.315 735.247 Q197.315 726.497 200.371 721.913 Q203.449 717.307 209.26 717.307 Z\" fill=\"#000000\" fill-rule=\"evenodd\" fill-opacity=\"1\" /><path clip-path=\"url(#clip570)\" d=\"M165.024 396.498 Q161.413 396.498 159.584 400.062 Q157.778 403.604 157.778 410.734 Q157.778 417.84 159.584 421.405 Q161.413 424.946 165.024 424.946 Q168.658 424.946 170.464 421.405 Q172.292 417.84 172.292 410.734 Q172.292 403.604 170.464 400.062 Q168.658 396.498 165.024 396.498 M165.024 392.794 Q170.834 392.794 173.889 397.4 Q176.968 401.984 176.968 410.734 Q176.968 419.46 173.889 424.067 Q170.834 428.65 165.024 428.65 Q159.214 428.65 156.135 424.067 Q153.079 419.46 153.079 410.734 Q153.079 401.984 156.135 397.4 Q159.214 392.794 165.024 392.794 Z\" fill=\"#000000\" fill-rule=\"evenodd\" fill-opacity=\"1\" /><path clip-path=\"url(#clip570)\" d=\"M185.186 422.099 L190.07 422.099 L190.07 427.979 L185.186 427.979 L185.186 422.099 Z\" fill=\"#000000\" fill-rule=\"evenodd\" fill-opacity=\"1\" /><path clip-path=\"url(#clip570)\" d=\"M200.301 393.419 L218.658 393.419 L218.658 397.354 L204.584 397.354 L204.584 405.826 Q205.602 405.479 206.621 405.317 Q207.639 405.132 208.658 405.132 Q214.445 405.132 217.824 408.303 Q221.204 411.474 221.204 416.891 Q221.204 422.47 217.732 425.571 Q214.26 428.65 207.94 428.65 Q205.764 428.65 203.496 428.28 Q201.25 427.909 198.843 427.169 L198.843 422.47 Q200.926 423.604 203.149 424.159 Q205.371 424.715 207.848 424.715 Q211.852 424.715 214.19 422.608 Q216.528 420.502 216.528 416.891 Q216.528 413.28 214.19 411.173 Q211.852 409.067 207.848 409.067 Q205.973 409.067 204.098 409.484 Q202.246 409.9 200.301 410.78 L200.301 393.419 Z\" fill=\"#000000\" fill-rule=\"evenodd\" fill-opacity=\"1\" /><path clip-path=\"url(#clip570)\" d=\"M154.839 99.5305 L162.477 99.5305 L162.477 73.1649 L154.167 74.8316 L154.167 70.5723 L162.431 68.9057 L167.107 68.9057 L167.107 99.5305 L174.746 99.5305 L174.746 103.466 L154.839 103.466 L154.839 99.5305 Z\" fill=\"#000000\" fill-rule=\"evenodd\" fill-opacity=\"1\" /><path clip-path=\"url(#clip570)\" d=\"M184.19 97.5861 L189.075 97.5861 L189.075 103.466 L184.19 103.466 L184.19 97.5861 Z\" fill=\"#000000\" fill-rule=\"evenodd\" fill-opacity=\"1\" /><path clip-path=\"url(#clip570)\" d=\"M209.26 71.9844 Q205.649 71.9844 203.82 75.5492 Q202.014 79.0908 202.014 86.2204 Q202.014 93.3268 203.82 96.8916 Q205.649 100.433 209.26 100.433 Q212.894 100.433 214.699 96.8916 Q216.528 93.3268 216.528 86.2204 Q216.528 79.0908 214.699 75.5492 Q212.894 71.9844 209.26 71.9844 M209.26 68.2807 Q215.07 68.2807 218.125 72.8871 Q221.204 77.4704 221.204 86.2204 Q221.204 94.9472 218.125 99.5537 Q215.07 104.137 209.26 104.137 Q203.449 104.137 200.371 99.5537 Q197.315 94.9472 197.315 86.2204 Q197.315 77.4704 200.371 72.8871 Q203.449 68.2807 209.26 68.2807 Z\" fill=\"#000000\" fill-rule=\"evenodd\" fill-opacity=\"1\" /><path clip-path=\"url(#clip570)\" d=\"M28.3562 718.597 L45.7028 731.488 L64.0042 717.929 L64.0042 724.836 L49.9996 735.212 L64.0042 745.588 L64.0042 752.495 L45.3526 738.649 L28.3562 751.317 L28.3562 744.41 L41.0558 734.957 L28.3562 725.504 L28.3562 718.597 Z\" fill=\"#000000\" fill-rule=\"evenodd\" fill-opacity=\"1\" /><polyline clip-path=\"url(#clip572)\" style=\"stroke:#009af9; stroke-linecap:butt; stroke-linejoin:round; stroke-width:8; stroke-opacity:1; fill:none\" points=\"\n  316.512,86.1857 320.685,88.9256 \n  \"/>\n<polyline clip-path=\"url(#clip572)\" style=\"stroke:#009af9; stroke-linecap:butt; stroke-linejoin:round; stroke-width:8; stroke-opacity:1; fill:none\" points=\"\n  320.685,88.9256 326.944,93.0355 \n  \"/>\n<polyline clip-path=\"url(#clip572)\" style=\"stroke:#009af9; stroke-linecap:butt; stroke-linejoin:round; stroke-width:8; stroke-opacity:1; fill:none\" points=\"\n  326.944,93.0355 336.333,99.2003 \n  \"/>\n<polyline clip-path=\"url(#clip572)\" style=\"stroke:#009af9; stroke-linecap:butt; stroke-linejoin:round; stroke-width:8; stroke-opacity:1; fill:none\" points=\"\n  336.333,99.2003 350.417,108.448 \n  \"/>\n<polyline clip-path=\"url(#clip572)\" style=\"stroke:#009af9; stroke-linecap:butt; stroke-linejoin:round; stroke-width:8; stroke-opacity:1; fill:none\" points=\"\n  350.417,108.448 371.542,122.318 \n  \"/>\n<polyline clip-path=\"url(#clip572)\" style=\"stroke:#009af9; stroke-linecap:butt; stroke-linejoin:round; stroke-width:8; stroke-opacity:1; fill:none\" points=\"\n  371.542,122.318 403.23,143.125 \n  \"/>\n<polyline clip-path=\"url(#clip572)\" style=\"stroke:#009af9; stroke-linecap:butt; stroke-linejoin:round; stroke-width:8; stroke-opacity:1; fill:none\" points=\"\n  403.23,143.125 450.762,174.334 \n  \"/>\n<polyline clip-path=\"url(#clip572)\" style=\"stroke:#009af9; stroke-linecap:butt; stroke-linejoin:round; stroke-width:8; stroke-opacity:1; fill:none\" points=\"\n  450.762,174.334 520.311,219.999 \n  \"/>\n<polyline clip-path=\"url(#clip572)\" style=\"stroke:#009af9; stroke-linecap:butt; stroke-linejoin:round; stroke-width:8; stroke-opacity:1; fill:none\" points=\"\n  520.311,219.999 589.859,265.665 \n  \"/>\n<polyline clip-path=\"url(#clip572)\" style=\"stroke:#009af9; stroke-linecap:butt; stroke-linejoin:round; stroke-width:8; stroke-opacity:1; fill:none\" points=\"\n  589.859,265.665 659.407,311.33 \n  \"/>\n<polyline clip-path=\"url(#clip572)\" style=\"stroke:#009af9; stroke-linecap:butt; stroke-linejoin:round; stroke-width:8; stroke-opacity:1; fill:none\" points=\"\n  659.407,311.33 728.956,356.995 \n  \"/>\n<polyline clip-path=\"url(#clip572)\" style=\"stroke:#009af9; stroke-linecap:butt; stroke-linejoin:round; stroke-width:8; stroke-opacity:1; fill:none\" points=\"\n  728.956,356.995 798.504,402.661 \n  \"/>\n<polyline clip-path=\"url(#clip572)\" style=\"stroke:#009af9; stroke-linecap:butt; stroke-linejoin:round; stroke-width:8; stroke-opacity:1; fill:none\" points=\"\n  798.504,402.661 868.052,448.326 \n  \"/>\n<polyline clip-path=\"url(#clip572)\" style=\"stroke:#009af9; stroke-linecap:butt; stroke-linejoin:round; stroke-width:8; stroke-opacity:1; fill:none\" points=\"\n  868.052,448.326 937.601,493.991 \n  \"/>\n<polyline clip-path=\"url(#clip572)\" style=\"stroke:#009af9; stroke-linecap:butt; stroke-linejoin:round; stroke-width:8; stroke-opacity:1; fill:none\" points=\"\n  937.601,493.991 1007.15,539.657 \n  \"/>\n<polyline clip-path=\"url(#clip572)\" style=\"stroke:#009af9; stroke-linecap:butt; stroke-linejoin:round; stroke-width:8; stroke-opacity:1; fill:none\" points=\"\n  1007.15,539.657 1076.7,585.322 \n  \"/>\n<polyline clip-path=\"url(#clip572)\" style=\"stroke:#009af9; stroke-linecap:butt; stroke-linejoin:round; stroke-width:8; stroke-opacity:1; fill:none\" points=\"\n  1076.7,585.322 1146.25,630.987 \n  \"/>\n<polyline clip-path=\"url(#clip572)\" style=\"stroke:#009af9; stroke-linecap:butt; stroke-linejoin:round; stroke-width:8; stroke-opacity:1; fill:none\" points=\"\n  1146.25,630.987 1215.79,676.653 \n  \"/>\n<polyline clip-path=\"url(#clip572)\" style=\"stroke:#009af9; stroke-linecap:butt; stroke-linejoin:round; stroke-width:8; stroke-opacity:1; fill:none\" points=\"\n  1215.79,676.653 1285.34,722.318 \n  \"/>\n<polyline clip-path=\"url(#clip572)\" style=\"stroke:#009af9; stroke-linecap:butt; stroke-linejoin:round; stroke-width:8; stroke-opacity:1; fill:none\" points=\"\n  1285.34,722.318 1311.42,739.443 \n  \"/>\n<polyline clip-path=\"url(#clip572)\" style=\"stroke:#009af9; stroke-linecap:butt; stroke-linejoin:round; stroke-width:4; stroke-opacity:1; fill:none\" points=\"\n  1311.42,739.443 1380.97,785.108 \n  \"/>\n<polyline clip-path=\"url(#clip572)\" style=\"stroke:#009af9; stroke-linecap:butt; stroke-linejoin:round; stroke-width:4; stroke-opacity:1; fill:none\" points=\"\n  1380.97,785.108 1450.52,830.773 \n  \"/>\n<polyline clip-path=\"url(#clip572)\" style=\"stroke:#009af9; stroke-linecap:butt; stroke-linejoin:round; stroke-width:4; stroke-opacity:1; fill:none\" points=\"\n  1450.52,830.773 1520.07,876.438 \n  \"/>\n<polyline clip-path=\"url(#clip572)\" style=\"stroke:#009af9; stroke-linecap:butt; stroke-linejoin:round; stroke-width:4; stroke-opacity:1; fill:none\" points=\"\n  1520.07,876.438 1589.62,922.104 \n  \"/>\n<polyline clip-path=\"url(#clip572)\" style=\"stroke:#009af9; stroke-linecap:butt; stroke-linejoin:round; stroke-width:4; stroke-opacity:1; fill:none\" points=\"\n  1589.62,922.104 1659.16,967.769 \n  \"/>\n<polyline clip-path=\"url(#clip572)\" style=\"stroke:#009af9; stroke-linecap:butt; stroke-linejoin:round; stroke-width:4; stroke-opacity:1; fill:none\" points=\"\n  1659.16,967.769 1728.71,1013.43 \n  \"/>\n<polyline clip-path=\"url(#clip572)\" style=\"stroke:#009af9; stroke-linecap:butt; stroke-linejoin:round; stroke-width:4; stroke-opacity:1; fill:none\" points=\"\n  1728.71,1013.43 1798.26,1059.1 \n  \"/>\n<polyline clip-path=\"url(#clip572)\" style=\"stroke:#009af9; stroke-linecap:butt; stroke-linejoin:round; stroke-width:4; stroke-opacity:1; fill:none\" points=\"\n  1798.26,1059.1 1867.81,1104.77 \n  \"/>\n<polyline clip-path=\"url(#clip572)\" style=\"stroke:#009af9; stroke-linecap:butt; stroke-linejoin:round; stroke-width:4; stroke-opacity:1; fill:none\" points=\"\n  1867.81,1104.77 1937.36,1150.43 \n  \"/>\n<polyline clip-path=\"url(#clip572)\" style=\"stroke:#009af9; stroke-linecap:butt; stroke-linejoin:round; stroke-width:4; stroke-opacity:1; fill:none\" points=\"\n  1937.36,1150.43 2006.91,1196.1 \n  \"/>\n<polyline clip-path=\"url(#clip572)\" style=\"stroke:#009af9; stroke-linecap:butt; stroke-linejoin:round; stroke-width:4; stroke-opacity:1; fill:none\" points=\"\n  2006.91,1196.1 2076.45,1241.76 \n  \"/>\n<polyline clip-path=\"url(#clip572)\" style=\"stroke:#009af9; stroke-linecap:butt; stroke-linejoin:round; stroke-width:4; stroke-opacity:1; fill:none\" points=\"\n  2076.45,1241.76 2146,1287.43 \n  \"/>\n<polyline clip-path=\"url(#clip572)\" style=\"stroke:#009af9; stroke-linecap:butt; stroke-linejoin:round; stroke-width:4; stroke-opacity:1; fill:none\" points=\"\n  2146,1287.43 2215.55,1333.09 \n  \"/>\n<polyline clip-path=\"url(#clip572)\" style=\"stroke:#009af9; stroke-linecap:butt; stroke-linejoin:round; stroke-width:4; stroke-opacity:1; fill:none\" points=\"\n  2215.55,1333.09 2285.1,1378.76 \n  \"/>\n<polyline clip-path=\"url(#clip572)\" style=\"stroke:#009af9; stroke-linecap:butt; stroke-linejoin:round; stroke-width:4; stroke-opacity:1; fill:none\" points=\"\n  2285.1,1378.76 2293.45,1384.24 \n  \"/>\n<circle clip-path=\"url(#clip572)\" cx=\"1311.42\" cy=\"739.443\" r=\"10\" fill=\"#0000ff\" fill-rule=\"evenodd\" fill-opacity=\"1\" stroke=\"#000000\" stroke-opacity=\"1\" stroke-width=\"0\"/>\n<circle clip-path=\"url(#clip572)\" cx=\"1311.42\" cy=\"739.443\" r=\"10\" fill=\"#0000ff\" fill-rule=\"evenodd\" fill-opacity=\"1\" stroke=\"#000000\" stroke-opacity=\"1\" stroke-width=\"0\"/>\n<polyline clip-path=\"url(#clip572)\" style=\"stroke:#c271d2; stroke-linecap:butt; stroke-linejoin:round; stroke-width:4; stroke-opacity:1; fill:none\" points=\"\n  316.512,735.212 358.449,735.212 \n  \"/>\n<polyline clip-path=\"url(#clip572)\" style=\"stroke:#c271d2; stroke-linecap:butt; stroke-linejoin:round; stroke-width:4; stroke-opacity:1; fill:none\" points=\"\n  358.449,735.212 421.355,735.212 \n  \"/>\n<polyline clip-path=\"url(#clip572)\" style=\"stroke:#c271d2; stroke-linecap:butt; stroke-linejoin:round; stroke-width:4; stroke-opacity:1; fill:none\" points=\"\n  421.355,735.212 515.714,735.212 \n  \"/>\n<polyline clip-path=\"url(#clip572)\" style=\"stroke:#c271d2; stroke-linecap:butt; stroke-linejoin:round; stroke-width:4; stroke-opacity:1; fill:none\" points=\"\n  515.714,735.212 657.251,735.212 \n  \"/>\n<polyline clip-path=\"url(#clip572)\" style=\"stroke:#c271d2; stroke-linecap:butt; stroke-linejoin:round; stroke-width:4; stroke-opacity:1; fill:none\" points=\"\n  657.251,735.212 869.558,735.212 \n  \"/>\n<polyline clip-path=\"url(#clip572)\" style=\"stroke:#c271d2; stroke-linecap:butt; stroke-linejoin:round; stroke-width:4; stroke-opacity:1; fill:none\" points=\"\n  869.558,735.212 1188.02,735.212 \n  \"/>\n<polyline clip-path=\"url(#clip572)\" style=\"stroke:#c271d2; stroke-linecap:butt; stroke-linejoin:round; stroke-width:4; stroke-opacity:1; fill:none\" points=\"\n  1188.02,735.212 1305.31,735.212 \n  \"/>\n<polyline clip-path=\"url(#clip572)\" style=\"stroke:#c271d2; stroke-linecap:butt; stroke-linejoin:round; stroke-width:8; stroke-opacity:1; fill:none\" points=\"\n  1305.31,735.212 2004.26,735.212 \n  \"/>\n<polyline clip-path=\"url(#clip572)\" style=\"stroke:#c271d2; stroke-linecap:butt; stroke-linejoin:round; stroke-width:8; stroke-opacity:1; fill:none\" points=\"\n  2004.26,735.212 2293.45,735.212 \n  \"/>\n<circle clip-path=\"url(#clip572)\" cx=\"1305.31\" cy=\"735.212\" r=\"10\" fill=\"#0000ff\" fill-rule=\"evenodd\" fill-opacity=\"1\" stroke=\"#000000\" stroke-opacity=\"1\" stroke-width=\"0\"/>\n<circle clip-path=\"url(#clip572)\" cx=\"1305.31\" cy=\"735.212\" r=\"10\" fill=\"#0000ff\" fill-rule=\"evenodd\" fill-opacity=\"1\" stroke=\"#000000\" stroke-opacity=\"1\" stroke-width=\"0\"/>\n<circle clip-path=\"url(#clip572)\" cx=\"1304.98\" cy=\"735.212\" r=\"14\" fill=\"#ed5d92\" fill-rule=\"evenodd\" fill-opacity=\"1\" stroke=\"#000000\" stroke-opacity=\"1\" stroke-width=\"3.2\"/>\n<circle clip-path=\"url(#clip572)\" cx=\"1304.98\" cy=\"735.212\" r=\"14\" fill=\"#ed5d92\" fill-rule=\"evenodd\" fill-opacity=\"1\" stroke=\"#000000\" stroke-opacity=\"1\" stroke-width=\"3.2\"/>\n<circle clip-path=\"url(#clip572)\" cx=\"1304.98\" cy=\"735.212\" r=\"14\" fill=\"#ed5d92\" fill-rule=\"evenodd\" fill-opacity=\"1\" stroke=\"#000000\" stroke-opacity=\"1\" stroke-width=\"3.2\"/>\n<path clip-path=\"url(#clip570)\" d=\"\nM1996.78 300.469 L2282.9 300.469 L2282.9 93.1086 L1996.78 93.1086  Z\n  \" fill=\"#ffffff\" fill-rule=\"evenodd\" fill-opacity=\"1\"/>\n<polyline clip-path=\"url(#clip570)\" style=\"stroke:#000000; stroke-linecap:butt; stroke-linejoin:round; stroke-width:4; stroke-opacity:1; fill:none\" points=\"\n  1996.78,300.469 2282.9,300.469 2282.9,93.1086 1996.78,93.1086 1996.78,300.469 \n  \"/>\n<circle clip-path=\"url(#clip570)\" cx=\"2089.91\" cy=\"144.949\" r=\"23\" fill=\"#0000ff\" fill-rule=\"evenodd\" fill-opacity=\"1\" stroke=\"#000000\" stroke-opacity=\"1\" stroke-width=\"0\"/>\n<path clip-path=\"url(#clip570)\" d=\"M2201.82 149.289 Q2201.82 144.59 2199.88 141.928 Q2197.96 139.243 2194.58 139.243 Q2191.2 139.243 2189.25 141.928 Q2187.33 144.59 2187.33 149.289 Q2187.33 153.988 2189.25 156.673 Q2191.2 159.335 2194.58 159.335 Q2197.96 159.335 2199.88 156.673 Q2201.82 153.988 2201.82 149.289 M2187.33 140.238 Q2188.67 137.923 2190.71 136.812 Q2192.77 135.678 2195.62 135.678 Q2200.34 135.678 2203.28 139.428 Q2206.24 143.178 2206.24 149.289 Q2206.24 155.4 2203.28 159.15 Q2200.34 162.9 2195.62 162.9 Q2192.77 162.9 2190.71 161.789 Q2188.67 160.655 2187.33 158.34 L2187.33 162.229 L2183.05 162.229 L2183.05 126.21 L2187.33 126.21 L2187.33 140.238 Z\" fill=\"#000000\" fill-rule=\"evenodd\" fill-opacity=\"1\" /><path clip-path=\"url(#clip570)\" d=\"M2217.42 158.34 L2217.42 172.09 L2213.14 172.09 L2213.14 136.303 L2217.42 136.303 L2217.42 140.238 Q2218.77 137.923 2220.8 136.812 Q2222.86 135.678 2225.71 135.678 Q2230.43 135.678 2233.37 139.428 Q2236.34 143.178 2236.34 149.289 Q2236.34 155.4 2233.37 159.15 Q2230.43 162.9 2225.71 162.9 Q2222.86 162.9 2220.8 161.789 Q2218.77 160.655 2217.42 158.34 M2231.92 149.289 Q2231.92 144.59 2229.97 141.928 Q2228.05 139.243 2224.67 139.243 Q2221.29 139.243 2219.35 141.928 Q2217.42 144.59 2217.42 149.289 Q2217.42 153.988 2219.35 156.673 Q2221.29 159.335 2224.67 159.335 Q2228.05 159.335 2229.97 156.673 Q2231.92 153.988 2231.92 149.289 Z\" fill=\"#000000\" fill-rule=\"evenodd\" fill-opacity=\"1\" /><circle clip-path=\"url(#clip570)\" cx=\"2089.91\" cy=\"196.789\" r=\"23\" fill=\"#0000ff\" fill-rule=\"evenodd\" fill-opacity=\"1\" stroke=\"#000000\" stroke-opacity=\"1\" stroke-width=\"0\"/>\n<path clip-path=\"url(#clip570)\" d=\"M2201.82 201.129 Q2201.82 196.43 2199.88 193.768 Q2197.96 191.083 2194.58 191.083 Q2191.2 191.083 2189.25 193.768 Q2187.33 196.43 2187.33 201.129 Q2187.33 205.828 2189.25 208.513 Q2191.2 211.175 2194.58 211.175 Q2197.96 211.175 2199.88 208.513 Q2201.82 205.828 2201.82 201.129 M2187.33 192.078 Q2188.67 189.763 2190.71 188.652 Q2192.77 187.518 2195.62 187.518 Q2200.34 187.518 2203.28 191.268 Q2206.24 195.018 2206.24 201.129 Q2206.24 207.24 2203.28 210.99 Q2200.34 214.74 2195.62 214.74 Q2192.77 214.74 2190.71 213.629 Q2188.67 212.495 2187.33 210.18 L2187.33 214.069 L2183.05 214.069 L2183.05 178.05 L2187.33 178.05 L2187.33 192.078 Z\" fill=\"#000000\" fill-rule=\"evenodd\" fill-opacity=\"1\" /><path clip-path=\"url(#clip570)\" d=\"M2217.42 210.18 L2217.42 223.93 L2213.14 223.93 L2213.14 188.143 L2217.42 188.143 L2217.42 192.078 Q2218.77 189.763 2220.8 188.652 Q2222.86 187.518 2225.71 187.518 Q2230.43 187.518 2233.37 191.268 Q2236.34 195.018 2236.34 201.129 Q2236.34 207.24 2233.37 210.99 Q2230.43 214.74 2225.71 214.74 Q2222.86 214.74 2220.8 213.629 Q2218.77 212.495 2217.42 210.18 M2231.92 201.129 Q2231.92 196.43 2229.97 193.768 Q2228.05 191.083 2224.67 191.083 Q2221.29 191.083 2219.35 193.768 Q2217.42 196.43 2217.42 201.129 Q2217.42 205.828 2219.35 208.513 Q2221.29 211.175 2224.67 211.175 Q2228.05 211.175 2229.97 208.513 Q2231.92 205.828 2231.92 201.129 Z\" fill=\"#000000\" fill-rule=\"evenodd\" fill-opacity=\"1\" /><circle clip-path=\"url(#clip570)\" cx=\"2089.91\" cy=\"248.629\" r=\"23\" fill=\"#ed5d92\" fill-rule=\"evenodd\" fill-opacity=\"1\" stroke=\"#000000\" stroke-opacity=\"1\" stroke-width=\"5.12\"/>\n<path clip-path=\"url(#clip570)\" d=\"M2187.73 235.191 L2187.73 248.177 L2193.61 248.177 Q2196.87 248.177 2198.65 246.487 Q2200.43 244.798 2200.43 241.673 Q2200.43 238.571 2198.65 236.881 Q2196.87 235.191 2193.61 235.191 L2187.73 235.191 M2183.05 231.349 L2193.61 231.349 Q2199.42 231.349 2202.38 233.987 Q2205.36 236.603 2205.36 241.673 Q2205.36 246.788 2202.38 249.404 Q2199.42 252.02 2193.61 252.02 L2187.73 252.02 L2187.73 265.909 L2183.05 265.909 L2183.05 231.349 Z\" fill=\"#000000\" fill-rule=\"evenodd\" fill-opacity=\"1\" /><path clip-path=\"url(#clip570)\" d=\"M2211.64 231.349 L2231.5 231.349 L2231.5 235.284 L2216.31 235.284 L2216.31 245.469 L2230.02 245.469 L2230.02 249.404 L2216.31 249.404 L2216.31 265.909 L2211.64 265.909 L2211.64 231.349 Z\" fill=\"#000000\" fill-rule=\"evenodd\" fill-opacity=\"1\" /></svg>\n"
               },
               "type": "node"
              }
             ],
             "instanceArgs": {
              "namespace": "html",
              "tag": "div"
             },
             "nodeType": "DOM",
             "props": {
              "className": "interact-flex-row interact-widget"
             },
             "type": "node"
            }
           }
          },
          "systemjs_options": null
         },
         "nodeType": "Scope",
         "props": {},
         "type": "node"
        }
       ],
       "instanceArgs": {
        "namespace": "html",
        "tag": "div"
       },
       "nodeType": "DOM",
       "props": {},
       "type": "node"
      },
      "text/html": [
       "<div\n",
       "    class=\"webio-mountpoint\"\n",
       "    data-webio-mountpoint=\"13743450885358500191\"\n",
       ">\n",
       "    <script>\n",
       "    (function(){\n",
       "    // Some integrations (namely, IJulia/Jupyter) use an alternate render pathway than\n",
       "    // just putting the html on the page. If WebIO isn't defined, then it's pretty likely\n",
       "    // that we're in one of those situations and the integration just isn't installed\n",
       "    // correctly.\n",
       "    if (typeof window.WebIO === \"undefined\") {\n",
       "        document\n",
       "            .querySelector('[data-webio-mountpoint=\"13743450885358500191\"]')\n",
       "            .innerHTML = (\n",
       "                '<div style=\"padding: 1em; background-color: #f8d6da; border: 1px solid #f5c6cb; font-weight: bold;\">' +\n",
       "                '<p><strong>WebIO not detected.</strong></p>' +\n",
       "                '<p>Please read ' +\n",
       "                '<a href=\"https://juliagizmos.github.io/WebIO.jl/latest/troubleshooting/not-detected/\" target=\"_blank\">the troubleshooting guide</a> ' +\n",
       "                'for more information on how to resolve this issue.</p>' +\n",
       "                '<p><a href=\"https://juliagizmos.github.io/WebIO.jl/latest/troubleshooting/not-detected/\" target=\"_blank\">https://juliagizmos.github.io/WebIO.jl/latest/troubleshooting/not-detected/</a></p>' +\n",
       "                '</div>'\n",
       "            );\n",
       "        return;\n",
       "    }\n",
       "    WebIO.mount(\n",
       "        document.querySelector('[data-webio-mountpoint=\"13743450885358500191\"]'),\n",
       "        {\"props\":{},\"nodeType\":\"DOM\",\"type\":\"node\",\"instanceArgs\":{\"namespace\":\"html\",\"tag\":\"div\"},\"children\":[{\"props\":{\"className\":\"field interact-widget\"},\"nodeType\":\"DOM\",\"type\":\"node\",\"instanceArgs\":{\"namespace\":\"html\",\"tag\":\"div\"},\"children\":[{\"props\":{},\"nodeType\":\"Scope\",\"type\":\"node\",\"instanceArgs\":{\"imports\":{\"data\":[{\"name\":\"knockout\",\"type\":\"js\",\"url\":\"\\/assetserver\\/2712bb0a7395d062608c2f218a74b700f6c76b99-knockout.js\"},{\"name\":\"knockout_punches\",\"type\":\"js\",\"url\":\"\\/assetserver\\/fb4445501a2be4ab82176667f844e40da26fa007-knockout_punches.js\"},{\"name\":null,\"type\":\"js\",\"url\":\"\\/assetserver\\/a8ea7d9192d5fa85c6fac26c72d7fece1e500138-all.js\"},{\"name\":null,\"type\":\"css\",\"url\":\"\\/assetserver\\/620a53798cfdb29a4a2142ce0588e9aadc351d94-style.css\"},{\"name\":null,\"type\":\"css\",\"url\":\"\\/assetserver\\/9f2f17f677abbfd015a7c6b0c0f09a2da809bee2-bulma_confined.min.css\"}],\"type\":\"async_block\"},\"id\":\"3884098028835579609\",\"handlers\":{\"changes\":[\"(function (val){return (val!=this.model[\\\"changes\\\"]()) ? (this.valueFromJulia[\\\"changes\\\"]=true, this.model[\\\"changes\\\"](val)) : undefined})\"],\"index\":[\"(function (val){return (val!=this.model[\\\"index\\\"]()) ? (this.valueFromJulia[\\\"index\\\"]=true, this.model[\\\"index\\\"](val)) : undefined})\"]},\"systemjs_options\":null,\"mount_callbacks\":[\"function () {\\n    var handler = (function (ko, koPunches) {\\n    ko.punches.enableAll();\\n    ko.bindingHandlers.numericValue = {\\n        init: function(element, valueAccessor, allBindings, data, context) {\\n            var stringified = ko.observable(ko.unwrap(valueAccessor()));\\n            stringified.subscribe(function(value) {\\n                var val = parseFloat(value);\\n                if (!isNaN(val)) {\\n                    valueAccessor()(val);\\n                }\\n            });\\n            valueAccessor().subscribe(function(value) {\\n                var str = JSON.stringify(value);\\n                if ((str == \\\"0\\\") && ([\\\"-0\\\", \\\"-0.\\\"].indexOf(stringified()) >= 0))\\n                     return;\\n                 if ([\\\"null\\\", \\\"\\\"].indexOf(str) >= 0)\\n                     return;\\n                stringified(str);\\n            });\\n            ko.applyBindingsToNode(\\n                element,\\n                {\\n                    value: stringified,\\n                    valueUpdate: allBindings.get('valueUpdate'),\\n                },\\n                context,\\n            );\\n        }\\n    };\\n    var json_data = {\\\"formatted_vals\\\":[\\\"0.1\\\",\\\"0.105\\\",\\\"0.11\\\",\\\"0.115\\\",\\\"0.12\\\",\\\"0.125\\\",\\\"0.13\\\",\\\"0.135\\\",\\\"0.14\\\",\\\"0.145\\\",\\\"0.15\\\",\\\"0.155\\\",\\\"0.16\\\",\\\"0.165\\\",\\\"0.17\\\",\\\"0.175\\\",\\\"0.18\\\",\\\"0.185\\\",\\\"0.19\\\",\\\"0.195\\\",\\\"0.2\\\",\\\"0.205\\\",\\\"0.21\\\",\\\"0.215\\\",\\\"0.22\\\",\\\"0.225\\\",\\\"0.23\\\",\\\"0.235\\\",\\\"0.24\\\",\\\"0.245\\\",\\\"0.25\\\",\\\"0.255\\\",\\\"0.26\\\",\\\"0.265\\\",\\\"0.27\\\",\\\"0.275\\\",\\\"0.28\\\",\\\"0.285\\\",\\\"0.29\\\",\\\"0.295\\\",\\\"0.3\\\"],\\\"changes\\\":WebIO.getval({\\\"name\\\":\\\"changes\\\",\\\"scope\\\":\\\"3884098028835579609\\\",\\\"id\\\":\\\"8881782836634850537\\\",\\\"type\\\":\\\"observable\\\"}),\\\"index\\\":WebIO.getval({\\\"name\\\":\\\"index\\\",\\\"scope\\\":\\\"3884098028835579609\\\",\\\"id\\\":\\\"13632431224908907560\\\",\\\"type\\\":\\\"observable\\\"})};\\n    var self = this;\\n    function AppViewModel() {\\n        for (var key in json_data) {\\n            var el = json_data[key];\\n            this[key] = Array.isArray(el) ? ko.observableArray(el) : ko.observable(el);\\n        }\\n        \\n        [this[\\\"formatted_val\\\"]=ko.computed(    function(){\\n        return this.formatted_vals()[parseInt(this.index())-(1)];\\n    }\\n,this)]\\n        [this[\\\"changes\\\"].subscribe((function (val){!(this.valueFromJulia[\\\"changes\\\"]) ? (WebIO.setval({\\\"name\\\":\\\"changes\\\",\\\"scope\\\":\\\"3884098028835579609\\\",\\\"id\\\":\\\"8881782836634850537\\\",\\\"type\\\":\\\"observable\\\"},val)) : undefined; return this.valueFromJulia[\\\"changes\\\"]=false}),self),this[\\\"index\\\"].subscribe((function (val){!(this.valueFromJulia[\\\"index\\\"]) ? (WebIO.setval({\\\"name\\\":\\\"index\\\",\\\"scope\\\":\\\"3884098028835579609\\\",\\\"id\\\":\\\"13632431224908907560\\\",\\\"type\\\":\\\"observable\\\"},val)) : undefined; return this.valueFromJulia[\\\"index\\\"]=false}),self)]\\n        \\n    }\\n    self.model = new AppViewModel();\\n    self.valueFromJulia = {};\\n    for (var key in json_data) {\\n        self.valueFromJulia[key] = false;\\n    }\\n    ko.applyBindings(self.model, self.dom);\\n}\\n);\\n    (WebIO.importBlock({\\\"data\\\":[{\\\"name\\\":\\\"knockout\\\",\\\"type\\\":\\\"js\\\",\\\"url\\\":\\\"\\/assetserver\\/2712bb0a7395d062608c2f218a74b700f6c76b99-knockout.js\\\"},{\\\"name\\\":\\\"knockout_punches\\\",\\\"type\\\":\\\"js\\\",\\\"url\\\":\\\"\\/assetserver\\/fb4445501a2be4ab82176667f844e40da26fa007-knockout_punches.js\\\"}],\\\"type\\\":\\\"async_block\\\"})).then((imports) => handler.apply(this, imports));\\n}\\n\"],\"observables\":{\"changes\":{\"sync\":false,\"id\":\"8881782836634850537\",\"value\":0},\"index\":{\"sync\":true,\"id\":\"13632431224908907560\",\"value\":21}}},\"children\":[{\"props\":{\"className\":\"interact-flex-row interact-widget\"},\"nodeType\":\"DOM\",\"type\":\"node\",\"instanceArgs\":{\"namespace\":\"html\",\"tag\":\"div\"},\"children\":[{\"props\":{\"className\":\"interact-flex-row-left\"},\"nodeType\":\"DOM\",\"type\":\"node\",\"instanceArgs\":{\"namespace\":\"html\",\"tag\":\"div\"},\"children\":[{\"props\":{\"className\":\"interact \",\"style\":{\"padding\":\"5px 10px 0px 10px\"}},\"nodeType\":\"DOM\",\"type\":\"node\",\"instanceArgs\":{\"namespace\":\"html\",\"tag\":\"label\"},\"children\":[\"H\"]}]},{\"props\":{\"className\":\"interact-flex-row-center\"},\"nodeType\":\"DOM\",\"type\":\"node\",\"instanceArgs\":{\"namespace\":\"html\",\"tag\":\"div\"},\"children\":[{\"props\":{\"max\":41,\"min\":1,\"attributes\":{\"type\":\"range\",\"data-bind\":\"numericValue: index, valueUpdate: 'input', event: {change: function (){this.changes(this.changes()+1)}}\",\"orient\":\"horizontal\"},\"step\":1,\"className\":\"slider slider is-fullwidth\",\"style\":{}},\"nodeType\":\"DOM\",\"type\":\"node\",\"instanceArgs\":{\"namespace\":\"html\",\"tag\":\"input\"},\"children\":[]}]},{\"props\":{\"className\":\"interact-flex-row-right\"},\"nodeType\":\"DOM\",\"type\":\"node\",\"instanceArgs\":{\"namespace\":\"html\",\"tag\":\"div\"},\"children\":[{\"props\":{\"attributes\":{\"data-bind\":\"text: formatted_val\"}},\"nodeType\":\"DOM\",\"type\":\"node\",\"instanceArgs\":{\"namespace\":\"html\",\"tag\":\"p\"},\"children\":[]}]}]}]}]},{\"props\":{},\"nodeType\":\"Scope\",\"type\":\"node\",\"instanceArgs\":{\"imports\":{\"data\":[],\"type\":\"async_block\"},\"id\":\"2523397472222142789\",\"handlers\":{},\"systemjs_options\":null,\"mount_callbacks\":[],\"observables\":{\"obs-node\":{\"sync\":false,\"id\":\"13666748686735962962\",\"value\":{\"props\":{\"className\":\"interact-flex-row interact-widget\"},\"nodeType\":\"DOM\",\"type\":\"node\",\"instanceArgs\":{\"namespace\":\"html\",\"tag\":\"div\"},\"children\":[{\"props\":{\"setInnerHtml\":\"<?xml version=\\\"1.0\\\" encoding=\\\"utf-8\\\"?>\\n<svg xmlns=\\\"http:\\/\\/www.w3.org\\/2000\\/svg\\\" xmlns:xlink=\\\"http:\\/\\/www.w3.org\\/1999\\/xlink\\\" width=\\\"600\\\" height=\\\"400\\\" viewBox=\\\"0 0 2400 1600\\\">\\n<defs>\\n  <clipPath id=\\\"clip530\\\">\\n    <rect x=\\\"0\\\" y=\\\"0\\\" width=\\\"2400\\\" height=\\\"1600\\\"\\/>\\n  <\\/clipPath>\\n<\\/defs>\\n<path clip-path=\\\"url(#clip530)\\\" d=\\\"\\nM0 1600 L2400 1600 L2400 0 L0 0  Z\\n  \\\" fill=\\\"#ffffff\\\" fill-rule=\\\"evenodd\\\" fill-opacity=\\\"1\\\"\\/>\\n<defs>\\n  <clipPath id=\\\"clip531\\\">\\n    <rect x=\\\"480\\\" y=\\\"0\\\" width=\\\"1681\\\" height=\\\"1600\\\"\\/>\\n  <\\/clipPath>\\n<\\/defs>\\n<path clip-path=\\\"url(#clip530)\\\" d=\\\"\\nM257.204 1423.18 L2352.76 1423.18 L2352.76 47.2441 L257.204 47.2441  Z\\n  \\\" fill=\\\"#ffffff\\\" fill-rule=\\\"evenodd\\\" fill-opacity=\\\"1\\\"\\/>\\n<defs>\\n  <clipPath id=\\\"clip532\\\">\\n    <rect x=\\\"257\\\" y=\\\"47\\\" width=\\\"2097\\\" height=\\\"1377\\\"\\/>\\n  <\\/clipPath>\\n<\\/defs>\\n<polyline clip-path=\\\"url(#clip532)\\\" style=\\\"stroke:#000000; stroke-linecap:butt; stroke-linejoin:round; stroke-width:2; stroke-opacity:0.1; fill:none\\\" points=\\\"\\n  316.512,1423.18 316.512,47.2441 \\n  \\\"\\/>\\n<polyline clip-path=\\\"url(#clip532)\\\" style=\\\"stroke:#000000; stroke-linecap:butt; stroke-linejoin:round; stroke-width:2; stroke-opacity:0.1; fill:none\\\" points=\\\"\\n  810.746,1423.18 810.746,47.2441 \\n  \\\"\\/>\\n<polyline clip-path=\\\"url(#clip532)\\\" style=\\\"stroke:#000000; stroke-linecap:butt; stroke-linejoin:round; stroke-width:2; stroke-opacity:0.1; fill:none\\\" points=\\\"\\n  1304.98,1423.18 1304.98,47.2441 \\n  \\\"\\/>\\n<polyline clip-path=\\\"url(#clip532)\\\" style=\\\"stroke:#000000; stroke-linecap:butt; stroke-linejoin:round; stroke-width:2; stroke-opacity:0.1; fill:none\\\" points=\\\"\\n  1799.21,1423.18 1799.21,47.2441 \\n  \\\"\\/>\\n<polyline clip-path=\\\"url(#clip532)\\\" style=\\\"stroke:#000000; stroke-linecap:butt; stroke-linejoin:round; stroke-width:2; stroke-opacity:0.1; fill:none\\\" points=\\\"\\n  2293.45,1423.18 2293.45,47.2441 \\n  \\\"\\/>\\n<polyline clip-path=\\\"url(#clip530)\\\" style=\\\"stroke:#000000; stroke-linecap:butt; stroke-linejoin:round; stroke-width:4; stroke-opacity:1; fill:none\\\" points=\\\"\\n  257.204,1423.18 2352.76,1423.18 \\n  \\\"\\/>\\n<polyline clip-path=\\\"url(#clip530)\\\" style=\\\"stroke:#000000; stroke-linecap:butt; stroke-linejoin:round; stroke-width:4; stroke-opacity:1; fill:none\\\" points=\\\"\\n  316.512,1423.18 316.512,1404.28 \\n  \\\"\\/>\\n<polyline clip-path=\\\"url(#clip530)\\\" style=\\\"stroke:#000000; stroke-linecap:butt; stroke-linejoin:round; stroke-width:4; stroke-opacity:1; fill:none\\\" points=\\\"\\n  810.746,1423.18 810.746,1404.28 \\n  \\\"\\/>\\n<polyline clip-path=\\\"url(#clip530)\\\" style=\\\"stroke:#000000; stroke-linecap:butt; stroke-linejoin:round; stroke-width:4; stroke-opacity:1; fill:none\\\" points=\\\"\\n  1304.98,1423.18 1304.98,1404.28 \\n  \\\"\\/>\\n<polyline clip-path=\\\"url(#clip530)\\\" style=\\\"stroke:#000000; stroke-linecap:butt; stroke-linejoin:round; stroke-width:4; stroke-opacity:1; fill:none\\\" points=\\\"\\n  1799.21,1423.18 1799.21,1404.28 \\n  \\\"\\/>\\n<polyline clip-path=\\\"url(#clip530)\\\" style=\\\"stroke:#000000; stroke-linecap:butt; stroke-linejoin:round; stroke-width:4; stroke-opacity:1; fill:none\\\" points=\\\"\\n  2293.45,1423.18 2293.45,1404.28 \\n  \\\"\\/>\\n<path clip-path=\\\"url(#clip530)\\\" d=\\\"M278.816 1454.1 Q275.204 1454.1 273.376 1457.66 Q271.57 1461.2 271.57 1468.33 Q271.57 1475.44 273.376 1479.01 Q275.204 1482.55 278.816 1482.55 Q282.45 1482.55 284.255 1479.01 Q286.084 1475.44 286.084 1468.33 Q286.084 1461.2 284.255 1457.66 Q282.45 1454.1 278.816 1454.1 M278.816 1450.39 Q284.626 1450.39 287.681 1455 Q290.76 1459.58 290.76 1468.33 Q290.76 1477.06 287.681 1481.67 Q284.626 1486.25 278.816 1486.25 Q273.005 1486.25 269.927 1481.67 Q266.871 1477.06 266.871 1468.33 Q266.871 1459.58 269.927 1455 Q273.005 1450.39 278.816 1450.39 Z\\\" fill=\\\"#000000\\\" fill-rule=\\\"evenodd\\\" fill-opacity=\\\"1\\\" \\/><path clip-path=\\\"url(#clip530)\\\" d=\\\"M298.977 1479.7 L303.862 1479.7 L303.862 1485.58 L298.977 1485.58 L298.977 1479.7 Z\\\" fill=\\\"#000000\\\" fill-rule=\\\"evenodd\\\" fill-opacity=\\\"1\\\" \\/><path clip-path=\\\"url(#clip530)\\\" d=\\\"M314.857 1481.64 L322.496 1481.64 L322.496 1455.28 L314.186 1456.95 L314.186 1452.69 L322.45 1451.02 L327.125 1451.02 L327.125 1481.64 L334.764 1481.64 L334.764 1485.58 L314.857 1485.58 L314.857 1481.64 Z\\\" fill=\\\"#000000\\\" fill-rule=\\\"evenodd\\\" fill-opacity=\\\"1\\\" \\/><path clip-path=\\\"url(#clip530)\\\" d=\\\"M354.209 1454.1 Q350.598 1454.1 348.769 1457.66 Q346.963 1461.2 346.963 1468.33 Q346.963 1475.44 348.769 1479.01 Q350.598 1482.55 354.209 1482.55 Q357.843 1482.55 359.648 1479.01 Q361.477 1475.44 361.477 1468.33 Q361.477 1461.2 359.648 1457.66 Q357.843 1454.1 354.209 1454.1 M354.209 1450.39 Q360.019 1450.39 363.074 1455 Q366.153 1459.58 366.153 1468.33 Q366.153 1477.06 363.074 1481.67 Q360.019 1486.25 354.209 1486.25 Q348.399 1486.25 345.32 1481.67 Q342.264 1477.06 342.264 1468.33 Q342.264 1459.58 345.32 1455 Q348.399 1450.39 354.209 1450.39 Z\\\" fill=\\\"#000000\\\" fill-rule=\\\"evenodd\\\" fill-opacity=\\\"1\\\" \\/><path clip-path=\\\"url(#clip530)\\\" d=\\\"M773.547 1454.1 Q769.936 1454.1 768.107 1457.66 Q766.302 1461.2 766.302 1468.33 Q766.302 1475.44 768.107 1479.01 Q769.936 1482.55 773.547 1482.55 Q777.181 1482.55 778.987 1479.01 Q780.816 1475.44 780.816 1468.33 Q780.816 1461.2 778.987 1457.66 Q777.181 1454.1 773.547 1454.1 M773.547 1450.39 Q779.357 1450.39 782.413 1455 Q785.492 1459.58 785.492 1468.33 Q785.492 1477.06 782.413 1481.67 Q779.357 1486.25 773.547 1486.25 Q767.737 1486.25 764.658 1481.67 Q761.603 1477.06 761.603 1468.33 Q761.603 1459.58 764.658 1455 Q767.737 1450.39 773.547 1450.39 Z\\\" fill=\\\"#000000\\\" fill-rule=\\\"evenodd\\\" fill-opacity=\\\"1\\\" \\/><path clip-path=\\\"url(#clip530)\\\" d=\\\"M793.709 1479.7 L798.593 1479.7 L798.593 1485.58 L793.709 1485.58 L793.709 1479.7 Z\\\" fill=\\\"#000000\\\" fill-rule=\\\"evenodd\\\" fill-opacity=\\\"1\\\" \\/><path clip-path=\\\"url(#clip530)\\\" d=\\\"M809.589 1481.64 L817.227 1481.64 L817.227 1455.28 L808.917 1456.95 L808.917 1452.69 L817.181 1451.02 L821.857 1451.02 L821.857 1481.64 L829.496 1481.64 L829.496 1485.58 L809.589 1485.58 L809.589 1481.64 Z\\\" fill=\\\"#000000\\\" fill-rule=\\\"evenodd\\\" fill-opacity=\\\"1\\\" \\/><path clip-path=\\\"url(#clip530)\\\" d=\\\"M838.987 1451.02 L857.343 1451.02 L857.343 1454.96 L843.269 1454.96 L843.269 1463.43 Q844.288 1463.08 845.306 1462.92 Q846.325 1462.73 847.343 1462.73 Q853.13 1462.73 856.51 1465.9 Q859.889 1469.08 859.889 1474.49 Q859.889 1480.07 856.417 1483.17 Q852.945 1486.25 846.625 1486.25 Q844.45 1486.25 842.181 1485.88 Q839.936 1485.51 837.528 1484.77 L837.528 1480.07 Q839.612 1481.2 841.834 1481.76 Q844.056 1482.32 846.533 1482.32 Q850.537 1482.32 852.875 1480.21 Q855.213 1478.1 855.213 1474.49 Q855.213 1470.88 852.875 1468.77 Q850.537 1466.67 846.533 1466.67 Q844.658 1466.67 842.783 1467.08 Q840.931 1467.5 838.987 1468.38 L838.987 1451.02 Z\\\" fill=\\\"#000000\\\" fill-rule=\\\"evenodd\\\" fill-opacity=\\\"1\\\" \\/><path clip-path=\\\"url(#clip530)\\\" d=\\\"M1267.28 1454.1 Q1263.67 1454.1 1261.84 1457.66 Q1260.04 1461.2 1260.04 1468.33 Q1260.04 1475.44 1261.84 1479.01 Q1263.67 1482.55 1267.28 1482.55 Q1270.92 1482.55 1272.72 1479.01 Q1274.55 1475.44 1274.55 1468.33 Q1274.55 1461.2 1272.72 1457.66 Q1270.92 1454.1 1267.28 1454.1 M1267.28 1450.39 Q1273.09 1450.39 1276.15 1455 Q1279.23 1459.58 1279.23 1468.33 Q1279.23 1477.06 1276.15 1481.67 Q1273.09 1486.25 1267.28 1486.25 Q1261.47 1486.25 1258.39 1481.67 Q1255.34 1477.06 1255.34 1468.33 Q1255.34 1459.58 1258.39 1455 Q1261.47 1450.39 1267.28 1450.39 Z\\\" fill=\\\"#000000\\\" fill-rule=\\\"evenodd\\\" fill-opacity=\\\"1\\\" \\/><path clip-path=\\\"url(#clip530)\\\" d=\\\"M1287.45 1479.7 L1292.33 1479.7 L1292.33 1485.58 L1287.45 1485.58 L1287.45 1479.7 Z\\\" fill=\\\"#000000\\\" fill-rule=\\\"evenodd\\\" fill-opacity=\\\"1\\\" \\/><path clip-path=\\\"url(#clip530)\\\" d=\\\"M1306.54 1481.64 L1322.86 1481.64 L1322.86 1485.58 L1300.92 1485.58 L1300.92 1481.64 Q1303.58 1478.89 1308.16 1474.26 Q1312.77 1469.61 1313.95 1468.27 Q1316.2 1465.74 1317.07 1464.01 Q1317.98 1462.25 1317.98 1460.56 Q1317.98 1457.8 1316.03 1456.07 Q1314.11 1454.33 1311.01 1454.33 Q1308.81 1454.33 1306.36 1455.09 Q1303.93 1455.86 1301.15 1457.41 L1301.15 1452.69 Q1303.97 1451.55 1306.43 1450.97 Q1308.88 1450.39 1310.92 1450.39 Q1316.29 1450.39 1319.48 1453.08 Q1322.68 1455.77 1322.68 1460.26 Q1322.68 1462.39 1321.87 1464.31 Q1321.08 1466.2 1318.97 1468.8 Q1318.39 1469.47 1315.29 1472.69 Q1312.19 1475.88 1306.54 1481.64 Z\\\" fill=\\\"#000000\\\" fill-rule=\\\"evenodd\\\" fill-opacity=\\\"1\\\" \\/><path clip-path=\\\"url(#clip530)\\\" d=\\\"M1342.68 1454.1 Q1339.07 1454.1 1337.24 1457.66 Q1335.43 1461.2 1335.43 1468.33 Q1335.43 1475.44 1337.24 1479.01 Q1339.07 1482.55 1342.68 1482.55 Q1346.31 1482.55 1348.12 1479.01 Q1349.95 1475.44 1349.95 1468.33 Q1349.95 1461.2 1348.12 1457.66 Q1346.31 1454.1 1342.68 1454.1 M1342.68 1450.39 Q1348.49 1450.39 1351.54 1455 Q1354.62 1459.58 1354.62 1468.33 Q1354.62 1477.06 1351.54 1481.67 Q1348.49 1486.25 1342.68 1486.25 Q1336.87 1486.25 1333.79 1481.67 Q1330.73 1477.06 1330.73 1468.33 Q1330.73 1459.58 1333.79 1455 Q1336.87 1450.39 1342.68 1450.39 Z\\\" fill=\\\"#000000\\\" fill-rule=\\\"evenodd\\\" fill-opacity=\\\"1\\\" \\/><path clip-path=\\\"url(#clip530)\\\" d=\\\"M1762.02 1454.1 Q1758.4 1454.1 1756.58 1457.66 Q1754.77 1461.2 1754.77 1468.33 Q1754.77 1475.44 1756.58 1479.01 Q1758.4 1482.55 1762.02 1482.55 Q1765.65 1482.55 1767.45 1479.01 Q1769.28 1475.44 1769.28 1468.33 Q1769.28 1461.2 1767.45 1457.66 Q1765.65 1454.1 1762.02 1454.1 M1762.02 1450.39 Q1767.83 1450.39 1770.88 1455 Q1773.96 1459.58 1773.96 1468.33 Q1773.96 1477.06 1770.88 1481.67 Q1767.83 1486.25 1762.02 1486.25 Q1756.2 1486.25 1753.13 1481.67 Q1750.07 1477.06 1750.07 1468.33 Q1750.07 1459.58 1753.13 1455 Q1756.2 1450.39 1762.02 1450.39 Z\\\" fill=\\\"#000000\\\" fill-rule=\\\"evenodd\\\" fill-opacity=\\\"1\\\" \\/><path clip-path=\\\"url(#clip530)\\\" d=\\\"M1782.18 1479.7 L1787.06 1479.7 L1787.06 1485.58 L1782.18 1485.58 L1782.18 1479.7 Z\\\" fill=\\\"#000000\\\" fill-rule=\\\"evenodd\\\" fill-opacity=\\\"1\\\" \\/><path clip-path=\\\"url(#clip530)\\\" d=\\\"M1801.27 1481.64 L1817.59 1481.64 L1817.59 1485.58 L1795.65 1485.58 L1795.65 1481.64 Q1798.31 1478.89 1802.89 1474.26 Q1807.5 1469.61 1808.68 1468.27 Q1810.93 1465.74 1811.81 1464.01 Q1812.71 1462.25 1812.71 1460.56 Q1812.71 1457.8 1810.76 1456.07 Q1808.84 1454.33 1805.74 1454.33 Q1803.54 1454.33 1801.09 1455.09 Q1798.66 1455.86 1795.88 1457.41 L1795.88 1452.69 Q1798.7 1451.55 1801.16 1450.97 Q1803.61 1450.39 1805.65 1450.39 Q1811.02 1450.39 1814.21 1453.08 Q1817.41 1455.77 1817.41 1460.26 Q1817.41 1462.39 1816.6 1464.31 Q1815.81 1466.2 1813.7 1468.8 Q1813.13 1469.47 1810.02 1472.69 Q1806.92 1475.88 1801.27 1481.64 Z\\\" fill=\\\"#000000\\\" fill-rule=\\\"evenodd\\\" fill-opacity=\\\"1\\\" \\/><path clip-path=\\\"url(#clip530)\\\" d=\\\"M1827.45 1451.02 L1845.81 1451.02 L1845.81 1454.96 L1831.74 1454.96 L1831.74 1463.43 Q1832.76 1463.08 1833.77 1462.92 Q1834.79 1462.73 1835.81 1462.73 Q1841.6 1462.73 1844.98 1465.9 Q1848.36 1469.08 1848.36 1474.49 Q1848.36 1480.07 1844.88 1483.17 Q1841.41 1486.25 1835.09 1486.25 Q1832.92 1486.25 1830.65 1485.88 Q1828.4 1485.51 1826 1484.77 L1826 1480.07 Q1828.08 1481.2 1830.3 1481.76 Q1832.52 1482.32 1835 1482.32 Q1839.01 1482.32 1841.34 1480.21 Q1843.68 1478.1 1843.68 1474.49 Q1843.68 1470.88 1841.34 1468.77 Q1839.01 1466.67 1835 1466.67 Q1833.13 1466.67 1831.25 1467.08 Q1829.4 1467.5 1827.45 1468.38 L1827.45 1451.02 Z\\\" fill=\\\"#000000\\\" fill-rule=\\\"evenodd\\\" fill-opacity=\\\"1\\\" \\/><path clip-path=\\\"url(#clip530)\\\" d=\\\"M2255.75 1454.1 Q2252.14 1454.1 2250.31 1457.66 Q2248.51 1461.2 2248.51 1468.33 Q2248.51 1475.44 2250.31 1479.01 Q2252.14 1482.55 2255.75 1482.55 Q2259.39 1482.55 2261.19 1479.01 Q2263.02 1475.44 2263.02 1468.33 Q2263.02 1461.2 2261.19 1457.66 Q2259.39 1454.1 2255.75 1454.1 M2255.75 1450.39 Q2261.56 1450.39 2264.62 1455 Q2267.7 1459.58 2267.7 1468.33 Q2267.7 1477.06 2264.62 1481.67 Q2261.56 1486.25 2255.75 1486.25 Q2249.94 1486.25 2246.86 1481.67 Q2243.81 1477.06 2243.81 1468.33 Q2243.81 1459.58 2246.86 1455 Q2249.94 1450.39 2255.75 1450.39 Z\\\" fill=\\\"#000000\\\" fill-rule=\\\"evenodd\\\" fill-opacity=\\\"1\\\" \\/><path clip-path=\\\"url(#clip530)\\\" d=\\\"M2275.91 1479.7 L2280.8 1479.7 L2280.8 1485.58 L2275.91 1485.58 L2275.91 1479.7 Z\\\" fill=\\\"#000000\\\" fill-rule=\\\"evenodd\\\" fill-opacity=\\\"1\\\" \\/><path clip-path=\\\"url(#clip530)\\\" d=\\\"M2305.15 1466.95 Q2308.51 1467.66 2310.38 1469.93 Q2312.28 1472.2 2312.28 1475.53 Q2312.28 1480.65 2308.76 1483.45 Q2305.24 1486.25 2298.76 1486.25 Q2296.58 1486.25 2294.27 1485.81 Q2291.98 1485.39 2289.52 1484.54 L2289.52 1480.02 Q2291.47 1481.16 2293.78 1481.74 Q2296.1 1482.32 2298.62 1482.32 Q2303.02 1482.32 2305.31 1480.58 Q2307.63 1478.84 2307.63 1475.53 Q2307.63 1472.48 2305.47 1470.77 Q2303.34 1469.03 2299.52 1469.03 L2295.5 1469.03 L2295.5 1465.19 L2299.71 1465.19 Q2303.16 1465.19 2304.99 1463.82 Q2306.82 1462.43 2306.82 1459.84 Q2306.82 1457.18 2304.92 1455.77 Q2303.04 1454.33 2299.52 1454.33 Q2297.6 1454.33 2295.4 1454.75 Q2293.2 1455.16 2290.57 1456.04 L2290.57 1451.88 Q2293.23 1451.14 2295.54 1450.77 Q2297.88 1450.39 2299.94 1450.39 Q2305.26 1450.39 2308.37 1452.83 Q2311.47 1455.23 2311.47 1459.35 Q2311.47 1462.22 2309.83 1464.21 Q2308.18 1466.18 2305.15 1466.95 Z\\\" fill=\\\"#000000\\\" fill-rule=\\\"evenodd\\\" fill-opacity=\\\"1\\\" \\/><path clip-path=\\\"url(#clip530)\\\" d=\\\"M2331.14 1454.1 Q2327.53 1454.1 2325.7 1457.66 Q2323.9 1461.2 2323.9 1468.33 Q2323.9 1475.44 2325.7 1479.01 Q2327.53 1482.55 2331.14 1482.55 Q2334.78 1482.55 2336.58 1479.01 Q2338.41 1475.44 2338.41 1468.33 Q2338.41 1461.2 2336.58 1457.66 Q2334.78 1454.1 2331.14 1454.1 M2331.14 1450.39 Q2336.95 1450.39 2340.01 1455 Q2343.09 1459.58 2343.09 1468.33 Q2343.09 1477.06 2340.01 1481.67 Q2336.95 1486.25 2331.14 1486.25 Q2325.33 1486.25 2322.26 1481.67 Q2319.2 1477.06 2319.2 1468.33 Q2319.2 1459.58 2322.26 1455 Q2325.33 1450.39 2331.14 1450.39 Z\\\" fill=\\\"#000000\\\" fill-rule=\\\"evenodd\\\" fill-opacity=\\\"1\\\" \\/><path clip-path=\\\"url(#clip530)\\\" d=\\\"M1294.92 1562.7 L1294.92 1581.6 L1289.03 1581.6 L1289.03 1532.4 L1294.92 1532.4 L1294.92 1537.81 Q1296.77 1534.62 1299.57 1533.1 Q1302.4 1531.54 1306.32 1531.54 Q1312.81 1531.54 1316.85 1536.69 Q1320.93 1541.85 1320.93 1550.25 Q1320.93 1558.65 1316.85 1563.81 Q1312.81 1568.97 1306.32 1568.97 Q1302.4 1568.97 1299.57 1567.44 Q1296.77 1565.88 1294.92 1562.7 M1314.85 1550.25 Q1314.85 1543.79 1312.17 1540.13 Q1309.53 1536.44 1304.88 1536.44 Q1300.24 1536.44 1297.56 1540.13 Q1294.92 1543.79 1294.92 1550.25 Q1294.92 1556.71 1297.56 1560.4 Q1300.24 1564.07 1304.88 1564.07 Q1309.53 1564.07 1312.17 1560.4 Q1314.85 1556.71 1314.85 1550.25 Z\\\" fill=\\\"#000000\\\" fill-rule=\\\"evenodd\\\" fill-opacity=\\\"1\\\" \\/><polyline clip-path=\\\"url(#clip532)\\\" style=\\\"stroke:#000000; stroke-linecap:butt; stroke-linejoin:round; stroke-width:2; stroke-opacity:0.1; fill:none\\\" points=\\\"\\n  257.204,1384.24 2352.76,1384.24 \\n  \\\"\\/>\\n<polyline clip-path=\\\"url(#clip532)\\\" style=\\\"stroke:#000000; stroke-linecap:butt; stroke-linejoin:round; stroke-width:2; stroke-opacity:0.1; fill:none\\\" points=\\\"\\n  257.204,1059.73 2352.76,1059.73 \\n  \\\"\\/>\\n<polyline clip-path=\\\"url(#clip532)\\\" style=\\\"stroke:#000000; stroke-linecap:butt; stroke-linejoin:round; stroke-width:2; stroke-opacity:0.1; fill:none\\\" points=\\\"\\n  257.204,735.212 2352.76,735.212 \\n  \\\"\\/>\\n<polyline clip-path=\\\"url(#clip532)\\\" style=\\\"stroke:#000000; stroke-linecap:butt; stroke-linejoin:round; stroke-width:2; stroke-opacity:0.1; fill:none\\\" points=\\\"\\n  257.204,410.699 2352.76,410.699 \\n  \\\"\\/>\\n<polyline clip-path=\\\"url(#clip532)\\\" style=\\\"stroke:#000000; stroke-linecap:butt; stroke-linejoin:round; stroke-width:2; stroke-opacity:0.1; fill:none\\\" points=\\\"\\n  257.204,86.1857 2352.76,86.1857 \\n  \\\"\\/>\\n<polyline clip-path=\\\"url(#clip530)\\\" style=\\\"stroke:#000000; stroke-linecap:butt; stroke-linejoin:round; stroke-width:4; stroke-opacity:1; fill:none\\\" points=\\\"\\n  257.204,1423.18 257.204,47.2441 \\n  \\\"\\/>\\n<polyline clip-path=\\\"url(#clip530)\\\" style=\\\"stroke:#000000; stroke-linecap:butt; stroke-linejoin:round; stroke-width:4; stroke-opacity:1; fill:none\\\" points=\\\"\\n  257.204,1384.24 276.102,1384.24 \\n  \\\"\\/>\\n<polyline clip-path=\\\"url(#clip530)\\\" style=\\\"stroke:#000000; stroke-linecap:butt; stroke-linejoin:round; stroke-width:4; stroke-opacity:1; fill:none\\\" points=\\\"\\n  257.204,1059.73 276.102,1059.73 \\n  \\\"\\/>\\n<polyline clip-path=\\\"url(#clip530)\\\" style=\\\"stroke:#000000; stroke-linecap:butt; stroke-linejoin:round; stroke-width:4; stroke-opacity:1; fill:none\\\" points=\\\"\\n  257.204,735.212 276.102,735.212 \\n  \\\"\\/>\\n<polyline clip-path=\\\"url(#clip530)\\\" style=\\\"stroke:#000000; stroke-linecap:butt; stroke-linejoin:round; stroke-width:4; stroke-opacity:1; fill:none\\\" points=\\\"\\n  257.204,410.699 276.102,410.699 \\n  \\\"\\/>\\n<polyline clip-path=\\\"url(#clip530)\\\" style=\\\"stroke:#000000; stroke-linecap:butt; stroke-linejoin:round; stroke-width:4; stroke-opacity:1; fill:none\\\" points=\\\"\\n  257.204,86.1857 276.102,86.1857 \\n  \\\"\\/>\\n<path clip-path=\\\"url(#clip530)\\\" d=\\\"M114.26 1384.69 L143.936 1384.69 L143.936 1388.62 L114.26 1388.62 L114.26 1384.69 Z\\\" fill=\\\"#000000\\\" fill-rule=\\\"evenodd\\\" fill-opacity=\\\"1\\\" \\/><path clip-path=\\\"url(#clip530)\\\" d=\\\"M154.839 1397.58 L162.477 1397.58 L162.477 1371.22 L154.167 1372.88 L154.167 1368.62 L162.431 1366.96 L167.107 1366.96 L167.107 1397.58 L174.746 1397.58 L174.746 1401.52 L154.839 1401.52 L154.839 1397.58 Z\\\" fill=\\\"#000000\\\" fill-rule=\\\"evenodd\\\" fill-opacity=\\\"1\\\" \\/><path clip-path=\\\"url(#clip530)\\\" d=\\\"M184.19 1395.64 L189.075 1395.64 L189.075 1401.52 L184.19 1401.52 L184.19 1395.64 Z\\\" fill=\\\"#000000\\\" fill-rule=\\\"evenodd\\\" fill-opacity=\\\"1\\\" \\/><path clip-path=\\\"url(#clip530)\\\" d=\\\"M209.26 1370.04 Q205.649 1370.04 203.82 1373.6 Q202.014 1377.14 202.014 1384.27 Q202.014 1391.38 203.82 1394.94 Q205.649 1398.49 209.26 1398.49 Q212.894 1398.49 214.699 1394.94 Q216.528 1391.38 216.528 1384.27 Q216.528 1377.14 214.699 1373.6 Q212.894 1370.04 209.26 1370.04 M209.26 1366.33 Q215.07 1366.33 218.125 1370.94 Q221.204 1375.52 221.204 1384.27 Q221.204 1393 218.125 1397.61 Q215.07 1402.19 209.26 1402.19 Q203.449 1402.19 200.371 1397.61 Q197.315 1393 197.315 1384.27 Q197.315 1375.52 200.371 1370.94 Q203.449 1366.33 209.26 1366.33 Z\\\" fill=\\\"#000000\\\" fill-rule=\\\"evenodd\\\" fill-opacity=\\\"1\\\" \\/><path clip-path=\\\"url(#clip530)\\\" d=\\\"M115.256 1060.18 L144.931 1060.18 L144.931 1064.11 L115.256 1064.11 L115.256 1060.18 Z\\\" fill=\\\"#000000\\\" fill-rule=\\\"evenodd\\\" fill-opacity=\\\"1\\\" \\/><path clip-path=\\\"url(#clip530)\\\" d=\\\"M165.024 1045.52 Q161.413 1045.52 159.584 1049.09 Q157.778 1052.63 157.778 1059.76 Q157.778 1066.87 159.584 1070.43 Q161.413 1073.97 165.024 1073.97 Q168.658 1073.97 170.464 1070.43 Q172.292 1066.87 172.292 1059.76 Q172.292 1052.63 170.464 1049.09 Q168.658 1045.52 165.024 1045.52 M165.024 1041.82 Q170.834 1041.82 173.889 1046.43 Q176.968 1051.01 176.968 1059.76 Q176.968 1068.49 173.889 1073.09 Q170.834 1077.68 165.024 1077.68 Q159.214 1077.68 156.135 1073.09 Q153.079 1068.49 153.079 1059.76 Q153.079 1051.01 156.135 1046.43 Q159.214 1041.82 165.024 1041.82 Z\\\" fill=\\\"#000000\\\" fill-rule=\\\"evenodd\\\" fill-opacity=\\\"1\\\" \\/><path clip-path=\\\"url(#clip530)\\\" d=\\\"M185.186 1071.13 L190.07 1071.13 L190.07 1077.01 L185.186 1077.01 L185.186 1071.13 Z\\\" fill=\\\"#000000\\\" fill-rule=\\\"evenodd\\\" fill-opacity=\\\"1\\\" \\/><path clip-path=\\\"url(#clip530)\\\" d=\\\"M200.301 1042.45 L218.658 1042.45 L218.658 1046.38 L204.584 1046.38 L204.584 1054.85 Q205.602 1054.51 206.621 1054.34 Q207.639 1054.16 208.658 1054.16 Q214.445 1054.16 217.824 1057.33 Q221.204 1060.5 221.204 1065.92 Q221.204 1071.5 217.732 1074.6 Q214.26 1077.68 207.94 1077.68 Q205.764 1077.68 203.496 1077.31 Q201.25 1076.94 198.843 1076.19 L198.843 1071.5 Q200.926 1072.63 203.149 1073.19 Q205.371 1073.74 207.848 1073.74 Q211.852 1073.74 214.19 1071.63 Q216.528 1069.53 216.528 1065.92 Q216.528 1062.31 214.19 1060.2 Q211.852 1058.09 207.848 1058.09 Q205.973 1058.09 204.098 1058.51 Q202.246 1058.93 200.301 1059.81 L200.301 1042.45 Z\\\" fill=\\\"#000000\\\" fill-rule=\\\"evenodd\\\" fill-opacity=\\\"1\\\" \\/><path clip-path=\\\"url(#clip530)\\\" d=\\\"M164.028 721.011 Q160.417 721.011 158.589 724.575 Q156.783 728.117 156.783 735.247 Q156.783 742.353 158.589 745.918 Q160.417 749.46 164.028 749.46 Q167.663 749.46 169.468 745.918 Q171.297 742.353 171.297 735.247 Q171.297 728.117 169.468 724.575 Q167.663 721.011 164.028 721.011 M164.028 717.307 Q169.839 717.307 172.894 721.913 Q175.973 726.497 175.973 735.247 Q175.973 743.973 172.894 748.58 Q169.839 753.163 164.028 753.163 Q158.218 753.163 155.14 748.58 Q152.084 743.973 152.084 735.247 Q152.084 726.497 155.14 721.913 Q158.218 717.307 164.028 717.307 Z\\\" fill=\\\"#000000\\\" fill-rule=\\\"evenodd\\\" fill-opacity=\\\"1\\\" \\/><path clip-path=\\\"url(#clip530)\\\" d=\\\"M184.19 746.612 L189.075 746.612 L189.075 752.492 L184.19 752.492 L184.19 746.612 Z\\\" fill=\\\"#000000\\\" fill-rule=\\\"evenodd\\\" fill-opacity=\\\"1\\\" \\/><path clip-path=\\\"url(#clip530)\\\" d=\\\"M209.26 721.011 Q205.649 721.011 203.82 724.575 Q202.014 728.117 202.014 735.247 Q202.014 742.353 203.82 745.918 Q205.649 749.46 209.26 749.46 Q212.894 749.46 214.699 745.918 Q216.528 742.353 216.528 735.247 Q216.528 728.117 214.699 724.575 Q212.894 721.011 209.26 721.011 M209.26 717.307 Q215.07 717.307 218.125 721.913 Q221.204 726.497 221.204 735.247 Q221.204 743.973 218.125 748.58 Q215.07 753.163 209.26 753.163 Q203.449 753.163 200.371 748.58 Q197.315 743.973 197.315 735.247 Q197.315 726.497 200.371 721.913 Q203.449 717.307 209.26 717.307 Z\\\" fill=\\\"#000000\\\" fill-rule=\\\"evenodd\\\" fill-opacity=\\\"1\\\" \\/><path clip-path=\\\"url(#clip530)\\\" d=\\\"M165.024 396.498 Q161.413 396.498 159.584 400.062 Q157.778 403.604 157.778 410.734 Q157.778 417.84 159.584 421.405 Q161.413 424.946 165.024 424.946 Q168.658 424.946 170.464 421.405 Q172.292 417.84 172.292 410.734 Q172.292 403.604 170.464 400.062 Q168.658 396.498 165.024 396.498 M165.024 392.794 Q170.834 392.794 173.889 397.4 Q176.968 401.984 176.968 410.734 Q176.968 419.46 173.889 424.067 Q170.834 428.65 165.024 428.65 Q159.214 428.65 156.135 424.067 Q153.079 419.46 153.079 410.734 Q153.079 401.984 156.135 397.4 Q159.214 392.794 165.024 392.794 Z\\\" fill=\\\"#000000\\\" fill-rule=\\\"evenodd\\\" fill-opacity=\\\"1\\\" \\/><path clip-path=\\\"url(#clip530)\\\" d=\\\"M185.186 422.099 L190.07 422.099 L190.07 427.979 L185.186 427.979 L185.186 422.099 Z\\\" fill=\\\"#000000\\\" fill-rule=\\\"evenodd\\\" fill-opacity=\\\"1\\\" \\/><path clip-path=\\\"url(#clip530)\\\" d=\\\"M200.301 393.419 L218.658 393.419 L218.658 397.354 L204.584 397.354 L204.584 405.826 Q205.602 405.479 206.621 405.317 Q207.639 405.132 208.658 405.132 Q214.445 405.132 217.824 408.303 Q221.204 411.474 221.204 416.891 Q221.204 422.47 217.732 425.571 Q214.26 428.65 207.94 428.65 Q205.764 428.65 203.496 428.28 Q201.25 427.909 198.843 427.169 L198.843 422.47 Q200.926 423.604 203.149 424.159 Q205.371 424.715 207.848 424.715 Q211.852 424.715 214.19 422.608 Q216.528 420.502 216.528 416.891 Q216.528 413.28 214.19 411.173 Q211.852 409.067 207.848 409.067 Q205.973 409.067 204.098 409.484 Q202.246 409.9 200.301 410.78 L200.301 393.419 Z\\\" fill=\\\"#000000\\\" fill-rule=\\\"evenodd\\\" fill-opacity=\\\"1\\\" \\/><path clip-path=\\\"url(#clip530)\\\" d=\\\"M154.839 99.5305 L162.477 99.5305 L162.477 73.1649 L154.167 74.8316 L154.167 70.5723 L162.431 68.9057 L167.107 68.9057 L167.107 99.5305 L174.746 99.5305 L174.746 103.466 L154.839 103.466 L154.839 99.5305 Z\\\" fill=\\\"#000000\\\" fill-rule=\\\"evenodd\\\" fill-opacity=\\\"1\\\" \\/><path clip-path=\\\"url(#clip530)\\\" d=\\\"M184.19 97.5861 L189.075 97.5861 L189.075 103.466 L184.19 103.466 L184.19 97.5861 Z\\\" fill=\\\"#000000\\\" fill-rule=\\\"evenodd\\\" fill-opacity=\\\"1\\\" \\/><path clip-path=\\\"url(#clip530)\\\" d=\\\"M209.26 71.9844 Q205.649 71.9844 203.82 75.5492 Q202.014 79.0908 202.014 86.2204 Q202.014 93.3268 203.82 96.8916 Q205.649 100.433 209.26 100.433 Q212.894 100.433 214.699 96.8916 Q216.528 93.3268 216.528 86.2204 Q216.528 79.0908 214.699 75.5492 Q212.894 71.9844 209.26 71.9844 M209.26 68.2807 Q215.07 68.2807 218.125 72.8871 Q221.204 77.4704 221.204 86.2204 Q221.204 94.9472 218.125 99.5537 Q215.07 104.137 209.26 104.137 Q203.449 104.137 200.371 99.5537 Q197.315 94.9472 197.315 86.2204 Q197.315 77.4704 200.371 72.8871 Q203.449 68.2807 209.26 68.2807 Z\\\" fill=\\\"#000000\\\" fill-rule=\\\"evenodd\\\" fill-opacity=\\\"1\\\" \\/><path clip-path=\\\"url(#clip530)\\\" d=\\\"M28.3562 718.597 L45.7028 731.488 L64.0042 717.929 L64.0042 724.836 L49.9996 735.212 L64.0042 745.588 L64.0042 752.495 L45.3526 738.649 L28.3562 751.317 L28.3562 744.41 L41.0558 734.957 L28.3562 725.504 L28.3562 718.597 Z\\\" fill=\\\"#000000\\\" fill-rule=\\\"evenodd\\\" fill-opacity=\\\"1\\\" \\/><polyline clip-path=\\\"url(#clip532)\\\" style=\\\"stroke:#009af9; stroke-linecap:butt; stroke-linejoin:round; stroke-width:8; stroke-opacity:1; fill:none\\\" points=\\\"\\n  316.512,86.1857 320.685,88.9256 \\n  \\\"\\/>\\n<polyline clip-path=\\\"url(#clip532)\\\" style=\\\"stroke:#009af9; stroke-linecap:butt; stroke-linejoin:round; stroke-width:8; stroke-opacity:1; fill:none\\\" points=\\\"\\n  320.685,88.9256 326.944,93.0355 \\n  \\\"\\/>\\n<polyline clip-path=\\\"url(#clip532)\\\" style=\\\"stroke:#009af9; stroke-linecap:butt; stroke-linejoin:round; stroke-width:8; stroke-opacity:1; fill:none\\\" points=\\\"\\n  326.944,93.0355 336.333,99.2003 \\n  \\\"\\/>\\n<polyline clip-path=\\\"url(#clip532)\\\" style=\\\"stroke:#009af9; stroke-linecap:butt; stroke-linejoin:round; stroke-width:8; stroke-opacity:1; fill:none\\\" points=\\\"\\n  336.333,99.2003 350.417,108.448 \\n  \\\"\\/>\\n<polyline clip-path=\\\"url(#clip532)\\\" style=\\\"stroke:#009af9; stroke-linecap:butt; stroke-linejoin:round; stroke-width:8; stroke-opacity:1; fill:none\\\" points=\\\"\\n  350.417,108.448 371.542,122.318 \\n  \\\"\\/>\\n<polyline clip-path=\\\"url(#clip532)\\\" style=\\\"stroke:#009af9; stroke-linecap:butt; stroke-linejoin:round; stroke-width:8; stroke-opacity:1; fill:none\\\" points=\\\"\\n  371.542,122.318 403.23,143.125 \\n  \\\"\\/>\\n<polyline clip-path=\\\"url(#clip532)\\\" style=\\\"stroke:#009af9; stroke-linecap:butt; stroke-linejoin:round; stroke-width:8; stroke-opacity:1; fill:none\\\" points=\\\"\\n  403.23,143.125 450.762,174.334 \\n  \\\"\\/>\\n<polyline clip-path=\\\"url(#clip532)\\\" style=\\\"stroke:#009af9; stroke-linecap:butt; stroke-linejoin:round; stroke-width:8; stroke-opacity:1; fill:none\\\" points=\\\"\\n  450.762,174.334 520.311,219.999 \\n  \\\"\\/>\\n<polyline clip-path=\\\"url(#clip532)\\\" style=\\\"stroke:#009af9; stroke-linecap:butt; stroke-linejoin:round; stroke-width:8; stroke-opacity:1; fill:none\\\" points=\\\"\\n  520.311,219.999 589.859,265.665 \\n  \\\"\\/>\\n<polyline clip-path=\\\"url(#clip532)\\\" style=\\\"stroke:#009af9; stroke-linecap:butt; stroke-linejoin:round; stroke-width:8; stroke-opacity:1; fill:none\\\" points=\\\"\\n  589.859,265.665 659.407,311.33 \\n  \\\"\\/>\\n<polyline clip-path=\\\"url(#clip532)\\\" style=\\\"stroke:#009af9; stroke-linecap:butt; stroke-linejoin:round; stroke-width:8; stroke-opacity:1; fill:none\\\" points=\\\"\\n  659.407,311.33 728.956,356.995 \\n  \\\"\\/>\\n<polyline clip-path=\\\"url(#clip532)\\\" style=\\\"stroke:#009af9; stroke-linecap:butt; stroke-linejoin:round; stroke-width:8; stroke-opacity:1; fill:none\\\" points=\\\"\\n  728.956,356.995 798.504,402.661 \\n  \\\"\\/>\\n<polyline clip-path=\\\"url(#clip532)\\\" style=\\\"stroke:#009af9; stroke-linecap:butt; stroke-linejoin:round; stroke-width:8; stroke-opacity:1; fill:none\\\" points=\\\"\\n  798.504,402.661 868.052,448.326 \\n  \\\"\\/>\\n<polyline clip-path=\\\"url(#clip532)\\\" style=\\\"stroke:#009af9; stroke-linecap:butt; stroke-linejoin:round; stroke-width:8; stroke-opacity:1; fill:none\\\" points=\\\"\\n  868.052,448.326 937.601,493.991 \\n  \\\"\\/>\\n<polyline clip-path=\\\"url(#clip532)\\\" style=\\\"stroke:#009af9; stroke-linecap:butt; stroke-linejoin:round; stroke-width:8; stroke-opacity:1; fill:none\\\" points=\\\"\\n  937.601,493.991 1007.15,539.657 \\n  \\\"\\/>\\n<polyline clip-path=\\\"url(#clip532)\\\" style=\\\"stroke:#009af9; stroke-linecap:butt; stroke-linejoin:round; stroke-width:8; stroke-opacity:1; fill:none\\\" points=\\\"\\n  1007.15,539.657 1076.7,585.322 \\n  \\\"\\/>\\n<polyline clip-path=\\\"url(#clip532)\\\" style=\\\"stroke:#009af9; stroke-linecap:butt; stroke-linejoin:round; stroke-width:8; stroke-opacity:1; fill:none\\\" points=\\\"\\n  1076.7,585.322 1146.25,630.987 \\n  \\\"\\/>\\n<polyline clip-path=\\\"url(#clip532)\\\" style=\\\"stroke:#009af9; stroke-linecap:butt; stroke-linejoin:round; stroke-width:8; stroke-opacity:1; fill:none\\\" points=\\\"\\n  1146.25,630.987 1215.79,676.653 \\n  \\\"\\/>\\n<polyline clip-path=\\\"url(#clip532)\\\" style=\\\"stroke:#009af9; stroke-linecap:butt; stroke-linejoin:round; stroke-width:8; stroke-opacity:1; fill:none\\\" points=\\\"\\n  1215.79,676.653 1285.34,722.318 \\n  \\\"\\/>\\n<polyline clip-path=\\\"url(#clip532)\\\" style=\\\"stroke:#009af9; stroke-linecap:butt; stroke-linejoin:round; stroke-width:8; stroke-opacity:1; fill:none\\\" points=\\\"\\n  1285.34,722.318 1311.42,739.443 \\n  \\\"\\/>\\n<polyline clip-path=\\\"url(#clip532)\\\" style=\\\"stroke:#009af9; stroke-linecap:butt; stroke-linejoin:round; stroke-width:4; stroke-opacity:1; fill:none\\\" points=\\\"\\n  1311.42,739.443 1380.97,785.108 \\n  \\\"\\/>\\n<polyline clip-path=\\\"url(#clip532)\\\" style=\\\"stroke:#009af9; stroke-linecap:butt; stroke-linejoin:round; stroke-width:4; stroke-opacity:1; fill:none\\\" points=\\\"\\n  1380.97,785.108 1450.52,830.773 \\n  \\\"\\/>\\n<polyline clip-path=\\\"url(#clip532)\\\" style=\\\"stroke:#009af9; stroke-linecap:butt; stroke-linejoin:round; stroke-width:4; stroke-opacity:1; fill:none\\\" points=\\\"\\n  1450.52,830.773 1520.07,876.438 \\n  \\\"\\/>\\n<polyline clip-path=\\\"url(#clip532)\\\" style=\\\"stroke:#009af9; stroke-linecap:butt; stroke-linejoin:round; stroke-width:4; stroke-opacity:1; fill:none\\\" points=\\\"\\n  1520.07,876.438 1589.62,922.104 \\n  \\\"\\/>\\n<polyline clip-path=\\\"url(#clip532)\\\" style=\\\"stroke:#009af9; stroke-linecap:butt; stroke-linejoin:round; stroke-width:4; stroke-opacity:1; fill:none\\\" points=\\\"\\n  1589.62,922.104 1659.16,967.769 \\n  \\\"\\/>\\n<polyline clip-path=\\\"url(#clip532)\\\" style=\\\"stroke:#009af9; stroke-linecap:butt; stroke-linejoin:round; stroke-width:4; stroke-opacity:1; fill:none\\\" points=\\\"\\n  1659.16,967.769 1728.71,1013.43 \\n  \\\"\\/>\\n<polyline clip-path=\\\"url(#clip532)\\\" style=\\\"stroke:#009af9; stroke-linecap:butt; stroke-linejoin:round; stroke-width:4; stroke-opacity:1; fill:none\\\" points=\\\"\\n  1728.71,1013.43 1798.26,1059.1 \\n  \\\"\\/>\\n<polyline clip-path=\\\"url(#clip532)\\\" style=\\\"stroke:#009af9; stroke-linecap:butt; stroke-linejoin:round; stroke-width:4; stroke-opacity:1; fill:none\\\" points=\\\"\\n  1798.26,1059.1 1867.81,1104.77 \\n  \\\"\\/>\\n<polyline clip-path=\\\"url(#clip532)\\\" style=\\\"stroke:#009af9; stroke-linecap:butt; stroke-linejoin:round; stroke-width:4; stroke-opacity:1; fill:none\\\" points=\\\"\\n  1867.81,1104.77 1937.36,1150.43 \\n  \\\"\\/>\\n<polyline clip-path=\\\"url(#clip532)\\\" style=\\\"stroke:#009af9; stroke-linecap:butt; stroke-linejoin:round; stroke-width:4; stroke-opacity:1; fill:none\\\" points=\\\"\\n  1937.36,1150.43 2006.91,1196.1 \\n  \\\"\\/>\\n<polyline clip-path=\\\"url(#clip532)\\\" style=\\\"stroke:#009af9; stroke-linecap:butt; stroke-linejoin:round; stroke-width:4; stroke-opacity:1; fill:none\\\" points=\\\"\\n  2006.91,1196.1 2076.45,1241.76 \\n  \\\"\\/>\\n<polyline clip-path=\\\"url(#clip532)\\\" style=\\\"stroke:#009af9; stroke-linecap:butt; stroke-linejoin:round; stroke-width:4; stroke-opacity:1; fill:none\\\" points=\\\"\\n  2076.45,1241.76 2146,1287.43 \\n  \\\"\\/>\\n<polyline clip-path=\\\"url(#clip532)\\\" style=\\\"stroke:#009af9; stroke-linecap:butt; stroke-linejoin:round; stroke-width:4; stroke-opacity:1; fill:none\\\" points=\\\"\\n  2146,1287.43 2215.55,1333.09 \\n  \\\"\\/>\\n<polyline clip-path=\\\"url(#clip532)\\\" style=\\\"stroke:#009af9; stroke-linecap:butt; stroke-linejoin:round; stroke-width:4; stroke-opacity:1; fill:none\\\" points=\\\"\\n  2215.55,1333.09 2285.1,1378.76 \\n  \\\"\\/>\\n<polyline clip-path=\\\"url(#clip532)\\\" style=\\\"stroke:#009af9; stroke-linecap:butt; stroke-linejoin:round; stroke-width:4; stroke-opacity:1; fill:none\\\" points=\\\"\\n  2285.1,1378.76 2293.45,1384.24 \\n  \\\"\\/>\\n<circle clip-path=\\\"url(#clip532)\\\" cx=\\\"1311.42\\\" cy=\\\"739.443\\\" r=\\\"10\\\" fill=\\\"#0000ff\\\" fill-rule=\\\"evenodd\\\" fill-opacity=\\\"1\\\" stroke=\\\"#000000\\\" stroke-opacity=\\\"1\\\" stroke-width=\\\"0\\\"\\/>\\n<circle clip-path=\\\"url(#clip532)\\\" cx=\\\"1311.42\\\" cy=\\\"739.443\\\" r=\\\"10\\\" fill=\\\"#0000ff\\\" fill-rule=\\\"evenodd\\\" fill-opacity=\\\"1\\\" stroke=\\\"#000000\\\" stroke-opacity=\\\"1\\\" stroke-width=\\\"0\\\"\\/>\\n<polyline clip-path=\\\"url(#clip532)\\\" style=\\\"stroke:#c271d2; stroke-linecap:butt; stroke-linejoin:round; stroke-width:4; stroke-opacity:1; fill:none\\\" points=\\\"\\n  316.512,735.212 358.449,735.212 \\n  \\\"\\/>\\n<polyline clip-path=\\\"url(#clip532)\\\" style=\\\"stroke:#c271d2; stroke-linecap:butt; stroke-linejoin:round; stroke-width:4; stroke-opacity:1; fill:none\\\" points=\\\"\\n  358.449,735.212 421.355,735.212 \\n  \\\"\\/>\\n<polyline clip-path=\\\"url(#clip532)\\\" style=\\\"stroke:#c271d2; stroke-linecap:butt; stroke-linejoin:round; stroke-width:4; stroke-opacity:1; fill:none\\\" points=\\\"\\n  421.355,735.212 515.714,735.212 \\n  \\\"\\/>\\n<polyline clip-path=\\\"url(#clip532)\\\" style=\\\"stroke:#c271d2; stroke-linecap:butt; stroke-linejoin:round; stroke-width:4; stroke-opacity:1; fill:none\\\" points=\\\"\\n  515.714,735.212 657.251,735.212 \\n  \\\"\\/>\\n<polyline clip-path=\\\"url(#clip532)\\\" style=\\\"stroke:#c271d2; stroke-linecap:butt; stroke-linejoin:round; stroke-width:4; stroke-opacity:1; fill:none\\\" points=\\\"\\n  657.251,735.212 869.558,735.212 \\n  \\\"\\/>\\n<polyline clip-path=\\\"url(#clip532)\\\" style=\\\"stroke:#c271d2; stroke-linecap:butt; stroke-linejoin:round; stroke-width:4; stroke-opacity:1; fill:none\\\" points=\\\"\\n  869.558,735.212 1188.02,735.212 \\n  \\\"\\/>\\n<polyline clip-path=\\\"url(#clip532)\\\" style=\\\"stroke:#c271d2; stroke-linecap:butt; stroke-linejoin:round; stroke-width:4; stroke-opacity:1; fill:none\\\" points=\\\"\\n  1188.02,735.212 1305.31,735.212 \\n  \\\"\\/>\\n<polyline clip-path=\\\"url(#clip532)\\\" style=\\\"stroke:#c271d2; stroke-linecap:butt; stroke-linejoin:round; stroke-width:8; stroke-opacity:1; fill:none\\\" points=\\\"\\n  1305.31,735.212 2004.26,735.212 \\n  \\\"\\/>\\n<polyline clip-path=\\\"url(#clip532)\\\" style=\\\"stroke:#c271d2; stroke-linecap:butt; stroke-linejoin:round; stroke-width:8; stroke-opacity:1; fill:none\\\" points=\\\"\\n  2004.26,735.212 2293.45,735.212 \\n  \\\"\\/>\\n<circle clip-path=\\\"url(#clip532)\\\" cx=\\\"1305.31\\\" cy=\\\"735.212\\\" r=\\\"10\\\" fill=\\\"#0000ff\\\" fill-rule=\\\"evenodd\\\" fill-opacity=\\\"1\\\" stroke=\\\"#000000\\\" stroke-opacity=\\\"1\\\" stroke-width=\\\"0\\\"\\/>\\n<circle clip-path=\\\"url(#clip532)\\\" cx=\\\"1305.31\\\" cy=\\\"735.212\\\" r=\\\"10\\\" fill=\\\"#0000ff\\\" fill-rule=\\\"evenodd\\\" fill-opacity=\\\"1\\\" stroke=\\\"#000000\\\" stroke-opacity=\\\"1\\\" stroke-width=\\\"0\\\"\\/>\\n<circle clip-path=\\\"url(#clip532)\\\" cx=\\\"1304.98\\\" cy=\\\"735.212\\\" r=\\\"14\\\" fill=\\\"#ed5d92\\\" fill-rule=\\\"evenodd\\\" fill-opacity=\\\"1\\\" stroke=\\\"#000000\\\" stroke-opacity=\\\"1\\\" stroke-width=\\\"3.2\\\"\\/>\\n<circle clip-path=\\\"url(#clip532)\\\" cx=\\\"1304.98\\\" cy=\\\"735.212\\\" r=\\\"14\\\" fill=\\\"#ed5d92\\\" fill-rule=\\\"evenodd\\\" fill-opacity=\\\"1\\\" stroke=\\\"#000000\\\" stroke-opacity=\\\"1\\\" stroke-width=\\\"3.2\\\"\\/>\\n<circle clip-path=\\\"url(#clip532)\\\" cx=\\\"1304.98\\\" cy=\\\"735.212\\\" r=\\\"14\\\" fill=\\\"#ed5d92\\\" fill-rule=\\\"evenodd\\\" fill-opacity=\\\"1\\\" stroke=\\\"#000000\\\" stroke-opacity=\\\"1\\\" stroke-width=\\\"3.2\\\"\\/>\\n<path clip-path=\\\"url(#clip530)\\\" d=\\\"\\nM1996.78 300.469 L2282.9 300.469 L2282.9 93.1086 L1996.78 93.1086  Z\\n  \\\" fill=\\\"#ffffff\\\" fill-rule=\\\"evenodd\\\" fill-opacity=\\\"1\\\"\\/>\\n<polyline clip-path=\\\"url(#clip530)\\\" style=\\\"stroke:#000000; stroke-linecap:butt; stroke-linejoin:round; stroke-width:4; stroke-opacity:1; fill:none\\\" points=\\\"\\n  1996.78,300.469 2282.9,300.469 2282.9,93.1086 1996.78,93.1086 1996.78,300.469 \\n  \\\"\\/>\\n<circle clip-path=\\\"url(#clip530)\\\" cx=\\\"2089.91\\\" cy=\\\"144.949\\\" r=\\\"23\\\" fill=\\\"#0000ff\\\" fill-rule=\\\"evenodd\\\" fill-opacity=\\\"1\\\" stroke=\\\"#000000\\\" stroke-opacity=\\\"1\\\" stroke-width=\\\"0\\\"\\/>\\n<path clip-path=\\\"url(#clip530)\\\" d=\\\"M2201.82 149.289 Q2201.82 144.59 2199.88 141.928 Q2197.96 139.243 2194.58 139.243 Q2191.2 139.243 2189.25 141.928 Q2187.33 144.59 2187.33 149.289 Q2187.33 153.988 2189.25 156.673 Q2191.2 159.335 2194.58 159.335 Q2197.96 159.335 2199.88 156.673 Q2201.82 153.988 2201.82 149.289 M2187.33 140.238 Q2188.67 137.923 2190.71 136.812 Q2192.77 135.678 2195.62 135.678 Q2200.34 135.678 2203.28 139.428 Q2206.24 143.178 2206.24 149.289 Q2206.24 155.4 2203.28 159.15 Q2200.34 162.9 2195.62 162.9 Q2192.77 162.9 2190.71 161.789 Q2188.67 160.655 2187.33 158.34 L2187.33 162.229 L2183.05 162.229 L2183.05 126.21 L2187.33 126.21 L2187.33 140.238 Z\\\" fill=\\\"#000000\\\" fill-rule=\\\"evenodd\\\" fill-opacity=\\\"1\\\" \\/><path clip-path=\\\"url(#clip530)\\\" d=\\\"M2217.42 158.34 L2217.42 172.09 L2213.14 172.09 L2213.14 136.303 L2217.42 136.303 L2217.42 140.238 Q2218.77 137.923 2220.8 136.812 Q2222.86 135.678 2225.71 135.678 Q2230.43 135.678 2233.37 139.428 Q2236.34 143.178 2236.34 149.289 Q2236.34 155.4 2233.37 159.15 Q2230.43 162.9 2225.71 162.9 Q2222.86 162.9 2220.8 161.789 Q2218.77 160.655 2217.42 158.34 M2231.92 149.289 Q2231.92 144.59 2229.97 141.928 Q2228.05 139.243 2224.67 139.243 Q2221.29 139.243 2219.35 141.928 Q2217.42 144.59 2217.42 149.289 Q2217.42 153.988 2219.35 156.673 Q2221.29 159.335 2224.67 159.335 Q2228.05 159.335 2229.97 156.673 Q2231.92 153.988 2231.92 149.289 Z\\\" fill=\\\"#000000\\\" fill-rule=\\\"evenodd\\\" fill-opacity=\\\"1\\\" \\/><circle clip-path=\\\"url(#clip530)\\\" cx=\\\"2089.91\\\" cy=\\\"196.789\\\" r=\\\"23\\\" fill=\\\"#0000ff\\\" fill-rule=\\\"evenodd\\\" fill-opacity=\\\"1\\\" stroke=\\\"#000000\\\" stroke-opacity=\\\"1\\\" stroke-width=\\\"0\\\"\\/>\\n<path clip-path=\\\"url(#clip530)\\\" d=\\\"M2201.82 201.129 Q2201.82 196.43 2199.88 193.768 Q2197.96 191.083 2194.58 191.083 Q2191.2 191.083 2189.25 193.768 Q2187.33 196.43 2187.33 201.129 Q2187.33 205.828 2189.25 208.513 Q2191.2 211.175 2194.58 211.175 Q2197.96 211.175 2199.88 208.513 Q2201.82 205.828 2201.82 201.129 M2187.33 192.078 Q2188.67 189.763 2190.71 188.652 Q2192.77 187.518 2195.62 187.518 Q2200.34 187.518 2203.28 191.268 Q2206.24 195.018 2206.24 201.129 Q2206.24 207.24 2203.28 210.99 Q2200.34 214.74 2195.62 214.74 Q2192.77 214.74 2190.71 213.629 Q2188.67 212.495 2187.33 210.18 L2187.33 214.069 L2183.05 214.069 L2183.05 178.05 L2187.33 178.05 L2187.33 192.078 Z\\\" fill=\\\"#000000\\\" fill-rule=\\\"evenodd\\\" fill-opacity=\\\"1\\\" \\/><path clip-path=\\\"url(#clip530)\\\" d=\\\"M2217.42 210.18 L2217.42 223.93 L2213.14 223.93 L2213.14 188.143 L2217.42 188.143 L2217.42 192.078 Q2218.77 189.763 2220.8 188.652 Q2222.86 187.518 2225.71 187.518 Q2230.43 187.518 2233.37 191.268 Q2236.34 195.018 2236.34 201.129 Q2236.34 207.24 2233.37 210.99 Q2230.43 214.74 2225.71 214.74 Q2222.86 214.74 2220.8 213.629 Q2218.77 212.495 2217.42 210.18 M2231.92 201.129 Q2231.92 196.43 2229.97 193.768 Q2228.05 191.083 2224.67 191.083 Q2221.29 191.083 2219.35 193.768 Q2217.42 196.43 2217.42 201.129 Q2217.42 205.828 2219.35 208.513 Q2221.29 211.175 2224.67 211.175 Q2228.05 211.175 2229.97 208.513 Q2231.92 205.828 2231.92 201.129 Z\\\" fill=\\\"#000000\\\" fill-rule=\\\"evenodd\\\" fill-opacity=\\\"1\\\" \\/><circle clip-path=\\\"url(#clip530)\\\" cx=\\\"2089.91\\\" cy=\\\"248.629\\\" r=\\\"23\\\" fill=\\\"#ed5d92\\\" fill-rule=\\\"evenodd\\\" fill-opacity=\\\"1\\\" stroke=\\\"#000000\\\" stroke-opacity=\\\"1\\\" stroke-width=\\\"5.12\\\"\\/>\\n<path clip-path=\\\"url(#clip530)\\\" d=\\\"M2187.73 235.191 L2187.73 248.177 L2193.61 248.177 Q2196.87 248.177 2198.65 246.487 Q2200.43 244.798 2200.43 241.673 Q2200.43 238.571 2198.65 236.881 Q2196.87 235.191 2193.61 235.191 L2187.73 235.191 M2183.05 231.349 L2193.61 231.349 Q2199.42 231.349 2202.38 233.987 Q2205.36 236.603 2205.36 241.673 Q2205.36 246.788 2202.38 249.404 Q2199.42 252.02 2193.61 252.02 L2187.73 252.02 L2187.73 265.909 L2183.05 265.909 L2183.05 231.349 Z\\\" fill=\\\"#000000\\\" fill-rule=\\\"evenodd\\\" fill-opacity=\\\"1\\\" \\/><path clip-path=\\\"url(#clip530)\\\" d=\\\"M2211.64 231.349 L2231.5 231.349 L2231.5 235.284 L2216.31 235.284 L2216.31 245.469 L2230.02 245.469 L2230.02 249.404 L2216.31 249.404 L2216.31 265.909 L2211.64 265.909 L2211.64 231.349 Z\\\" fill=\\\"#000000\\\" fill-rule=\\\"evenodd\\\" fill-opacity=\\\"1\\\" \\/><\\/svg>\\n\"},\"nodeType\":\"DOM\",\"type\":\"node\",\"instanceArgs\":{\"namespace\":\"html\",\"tag\":\"div\"},\"children\":[]}]}}}},\"children\":[{\"props\":{},\"nodeType\":\"ObservableNode\",\"type\":\"node\",\"instanceArgs\":{\"id\":\"13666748686735962962\",\"name\":\"obs-node\"},\"children\":[]}]}]},\n",
       "        window,\n",
       "    );\n",
       "    })()\n",
       "    </script>\n",
       "</div>\n"
      ],
      "text/plain": [
       "Node{WebIO.DOM}(WebIO.DOM(:html, :div), Any[Node{WebIO.DOM}(WebIO.DOM(:html, :div), Any[Scope(Node{WebIO.DOM}(WebIO.DOM(:html, :div), Any[Node{WebIO.DOM}(WebIO.DOM(:html, :div), Any[Node{WebIO.DOM}(WebIO.DOM(:html, :label), Any[\"H\"], Dict{Symbol, Any}(:className => \"interact \", :style => Dict{Any, Any}(:padding => \"5px 10px 0px 10px\")))], Dict{Symbol, Any}(:className => \"interact-flex-row-left\")), Node{WebIO.DOM}(WebIO.DOM(:html, :div), Any[Node{WebIO.DOM}(WebIO.DOM(:html, :input), Any[], Dict{Symbol, Any}(:max => 41, :min => 1, :attributes => Dict{Any, Any}(:type => \"range\", Symbol(\"data-bind\") => \"numericValue: index, valueUpdate: 'input', event: {change: function (){this.changes(this.changes()+1)}}\", \"orient\" => \"horizontal\"), :step => 1, :className => \"slider slider is-fullwidth\", :style => Dict{Any, Any}()))], Dict{Symbol, Any}(:className => \"interact-flex-row-center\")), Node{WebIO.DOM}(WebIO.DOM(:html, :div), Any[Node{WebIO.DOM}(WebIO.DOM(:html, :p), Any[], Dict{Symbol, Any}(:attributes => Dict(\"data-bind\" => \"text: formatted_val\")))], Dict{Symbol, Any}(:className => \"interact-flex-row-right\"))], Dict{Symbol, Any}(:className => \"interact-flex-row interact-widget\")), Dict{String, Tuple{Observables.AbstractObservable, Union{Nothing, Bool}}}(\"changes\" => (Observable{Int64} with 1 listeners. Value:\n",
       "0, nothing), \"index\" => (Observable{Any} with 2 listeners. Value:\n",
       "21, nothing)), Set{String}(), nothing, Asset[Asset(\"js\", \"knockout\", \"C:\\\\Users\\\\Camilo\\\\.julia\\\\packages\\\\Knockout\\\\3gjS1\\\\src\\\\..\\\\assets\\\\knockout.js\"), Asset(\"js\", \"knockout_punches\", \"C:\\\\Users\\\\Camilo\\\\.julia\\\\packages\\\\Knockout\\\\3gjS1\\\\src\\\\..\\\\assets\\\\knockout_punches.js\"), Asset(\"js\", nothing, \"C:\\\\Users\\\\Camilo\\\\.julia\\\\packages\\\\InteractBase\\\\h8Fwe\\\\src\\\\..\\\\assets\\\\all.js\"), Asset(\"css\", nothing, \"C:\\\\Users\\\\Camilo\\\\.julia\\\\packages\\\\InteractBase\\\\h8Fwe\\\\src\\\\..\\\\assets\\\\style.css\"), Asset(\"css\", nothing, \"C:\\\\Users\\\\Camilo\\\\.julia\\\\packages\\\\Interact\\\\pVyN2\\\\src\\\\..\\\\assets\\\\bulma_confined.min.css\")], Dict{Any, Any}(\"changes\" => Any[WebIO.JSString(\"(function (val){return (val!=this.model[\\\"changes\\\"]()) ? (this.valueFromJulia[\\\"changes\\\"]=true, this.model[\\\"changes\\\"](val)) : undefined})\")], \"index\" => Any[WebIO.JSString(\"(function (val){return (val!=this.model[\\\"index\\\"]()) ? (this.valueFromJulia[\\\"index\\\"]=true, this.model[\\\"index\\\"](val)) : undefined})\")]), WebIO.ConnectionPool(Channel{Any}(32), Set{AbstractConnection}(), Condition(Base.InvasiveLinkedList{Task}(Task (runnable) @0x0000000082a3a270, Task (runnable) @0x0000000082a3a270), Base.AlwaysLockedST(1))), WebIO.JSString[WebIO.JSString(\"function () {\\n    var handler = (function (ko, koPunches) {\\n    ko.punches.enableAll();\\n    ko.bindingHandlers.numericValue = {\\n        init: function(element, valueAccessor, allBindings, data, context) {\\n            var stringified = ko.observable(ko.unwrap(valueAccessor()));\\n            stringified.subscribe(function(value) {\\n                var val = parseFloat(value);\\n                if (!isNaN(val)) {\\n                    valueAccessor()(val);\\n                }\\n            });\\n            valueAccessor().subscribe(function(value) {\\n                var str = JSON.stringify(value);\\n                if ((str == \\\"0\\\") && ([\\\"-0\\\", \\\"-0.\\\"].indexOf(stringified()) >= 0))\\n                     return;\\n                 if ([\\\"null\\\", \\\"\\\"].indexOf(str) >= 0)\\n                     return;\\n                stringified(str);\\n            });\\n            ko.applyBindingsToNode(\\n                element,\\n                {\\n                    value: stringified,\\n                    valueUpdate: allBindings.get('valueUpdate'),\\n                },\\n                context,\\n            );\\n        }\\n    };\\n    var json_data = {\\\"formatted_vals\\\":[\\\"0.1\\\",\\\"0.105\\\",\\\"0.11\\\",\\\"0.115\\\",\\\"0.12\\\",\\\"0.125\\\",\\\"0.13\\\",\\\"0.135\\\",\\\"0.14\\\",\\\"0.145\\\",\\\"0.15\\\",\\\"0.155\\\",\\\"0.16\\\",\\\"0.165\\\",\\\"0.17\\\",\\\"0.175\\\",\\\"0.18\\\",\\\"0.185\\\",\\\"0.19\\\",\\\"0.195\\\",\\\"0.2\\\",\\\"0.205\\\",\\\"0.21\\\",\\\"0.215\\\",\\\"0.22\\\",\\\"0.225\\\",\\\"0.23\\\",\\\"0.235\\\",\\\"0.24\\\",\\\"0.245\\\",\\\"0.25\\\",\\\"0.255\\\",\\\"0.26\\\",\\\"0.265\\\",\\\"0.27\\\",\\\"0.275\\\",\\\"0.28\\\",\\\"0.285\\\",\\\"0.29\\\",\\\"0.295\\\",\\\"0.3\\\"],\\\"changes\\\":WebIO.getval({\\\"name\\\":\\\"changes\\\",\\\"scope\\\":\\\"3884098028835579609\\\",\\\"id\\\":\\\"8881782836634850537\\\",\\\"type\\\":\\\"observable\\\"}),\\\"index\\\":WebIO.getval({\\\"name\\\":\\\"index\\\",\\\"scope\\\":\\\"3884098028835579609\\\",\\\"id\\\":\\\"13632431224908907560\\\",\\\"type\\\":\\\"observable\\\"})};\\n    var self = this;\\n    function AppViewModel() {\\n        for (var key in json_data) {\\n            var el = json_data[key];\\n            this[key] = Array.isArray(el) ? ko.observableArray(el) : ko.observable(el);\\n        }\\n        \\n        [this[\\\"formatted_val\\\"]=ko.computed(    function(){\\n        return this.formatted_vals()[parseInt(this.index())-(1)];\\n    }\\n,this)]\\n        [this[\\\"changes\\\"].subscribe((function (val){!(this.valueFromJulia[\\\"changes\\\"]) ? (WebIO.setval({\\\"name\\\":\\\"changes\\\",\\\"scope\\\":\\\"3884098028835579609\\\",\\\"id\\\":\\\"8881782836634850537\\\",\\\"type\\\":\\\"observable\\\"},val)) : undefined; return this.valueFromJulia[\\\"changes\\\"]=false}),self),this[\\\"index\\\"].subscribe((function (val){!(this.valueFromJulia[\\\"index\\\"]) ? (WebIO.setval({\\\"name\\\":\\\"index\\\",\\\"scope\\\":\\\"3884098028835579609\\\",\\\"id\\\":\\\"13632431224908907560\\\",\\\"type\\\":\\\"observable\\\"},val)) : undefined; return this.valueFromJulia[\\\"index\\\"]=false}),self)]\\n        \\n    }\\n    self.model = new AppViewModel();\\n    self.valueFromJulia = {};\\n    for (var key in json_data) {\\n        self.valueFromJulia[key] = false;\\n    }\\n    ko.applyBindings(self.model, self.dom);\\n}\\n);\\n    (WebIO.importBlock({\\\"data\\\":[{\\\"name\\\":\\\"knockout\\\",\\\"type\\\":\\\"js\\\",\\\"url\\\":\\\"/assetserver/2712bb0a7395d062608c2f218a74b700f6c76b99-knockout.js\\\"},{\\\"name\\\":\\\"knockout_punches\\\",\\\"type\\\":\\\"js\\\",\\\"url\\\":\\\"/assetserver/fb4445501a2be4ab82176667f844e40da26fa007-knockout_punches.js\\\"}],\\\"type\\\":\\\"async_block\\\"})).then((imports) => handler.apply(this, imports));\\n}\\n\")])], Dict{Symbol, Any}(:className => \"field interact-widget\")), Observable{Node{WebIO.DOM}} with 0 listeners. Value:\n",
       "Node{WebIO.DOM}(WebIO.DOM(:html, :div), Any[Plot{Plots.GRBackend() n=7}], Dict{Symbol, Any}(:className => \"interact-flex-row interact-widget\"))], Dict{Symbol, Any}())"
      ]
     },
     "execution_count": 34,
     "metadata": {
      "application/vnd.webio.node+json": {
       "kernelId": "81a88d82-5ed9-4b0d-9485-a124bd6b829e"
      }
     },
     "output_type": "execute_result"
    }
   ],
   "source": [
    "K = 2.0; R=0.2\n",
    "@manipulate throttle=.1 for H=0.1:0.005:0.3\n",
    "    c(x) = consumer(x,[R,K,H],0)\n",
    "    xstar = [mid(p.interval) for p in roots(c,-1..2)]\n",
    "    plot(br1)\n",
    "    plot!(br2)\n",
    "    scatter!(repeat([H],length(xstar)),xstar,label=\"PF\")\n",
    "end "
   ]
  },
  {
   "cell_type": "markdown",
   "id": "cb994ae6",
   "metadata": {},
   "source": [
    "## Forma normal de la Bifurcación Transcrítica\n",
    "\n",
    "Como para el caso de la SN podemos escribir la ecuación diferencial \"minimal\" que presenta una bifurcación transcrítica (TC) en el origen para el valor de parámetro cero. Esta es:\n",
    "\n",
    "$\\dot{x}=ax-x^2$\n",
    "\n",
    "Cual va a ser la interpretación geométrica de la TC en términos de los cambios en los ceros y las derivadas de los ceros de $f(x)$? Si la SN correspondia a una parabola que cortaba el eje horizontal en un punto cualquiera, en este caso es una parábola que está \"anclada\" al origen porque no tiene término constante y $x_*=0$ es siempre un punto fijo. Esto hace que al cambiar el signo de $a$ el extremo de la parábola pase de los positivos a los negativos a través del origen. Podemos graficar $f(x)$ antes en y después de la bifurcación."
   ]
  },
  {
   "cell_type": "code",
   "execution_count": 14,
   "id": "0dc1745b",
   "metadata": {},
   "outputs": [
    {
     "data": {
      "image/svg+xml": [
       "<?xml version=\"1.0\" encoding=\"utf-8\"?>\n",
       "<svg xmlns=\"http://www.w3.org/2000/svg\" xmlns:xlink=\"http://www.w3.org/1999/xlink\" width=\"700\" height=\"300\" viewBox=\"0 0 2800 1200\">\n",
       "<defs>\n",
       "  <clipPath id=\"clip330\">\n",
       "    <rect x=\"0\" y=\"0\" width=\"2800\" height=\"1200\"/>\n",
       "  </clipPath>\n",
       "</defs>\n",
       "<path clip-path=\"url(#clip330)\" d=\"\n",
       "M0 1200 L2800 1200 L2800 0 L0 0  Z\n",
       "  \" fill=\"#ffffff\" fill-rule=\"evenodd\" fill-opacity=\"1\"/>\n",
       "<defs>\n",
       "  <clipPath id=\"clip331\">\n",
       "    <rect x=\"560\" y=\"0\" width=\"1961\" height=\"1200\"/>\n",
       "  </clipPath>\n",
       "</defs>\n",
       "<path clip-path=\"url(#clip330)\" d=\"\n",
       "M197.936 1102.79 L876.035 1102.79 L876.035 47.2441 L197.936 47.2441  Z\n",
       "  \" fill=\"#ffffff\" fill-rule=\"evenodd\" fill-opacity=\"1\"/>\n",
       "<defs>\n",
       "  <clipPath id=\"clip332\">\n",
       "    <rect x=\"197\" y=\"47\" width=\"679\" height=\"1057\"/>\n",
       "  </clipPath>\n",
       "</defs>\n",
       "<polyline clip-path=\"url(#clip332)\" style=\"stroke:#000000; stroke-linecap:butt; stroke-linejoin:round; stroke-width:2; stroke-opacity:0.1; fill:none\" points=\"\n",
       "  217.127,1102.79 217.127,47.2441 \n",
       "  \"/>\n",
       "<polyline clip-path=\"url(#clip332)\" style=\"stroke:#000000; stroke-linecap:butt; stroke-linejoin:round; stroke-width:2; stroke-opacity:0.1; fill:none\" points=\"\n",
       "  377.057,1102.79 377.057,47.2441 \n",
       "  \"/>\n",
       "<polyline clip-path=\"url(#clip332)\" style=\"stroke:#000000; stroke-linecap:butt; stroke-linejoin:round; stroke-width:2; stroke-opacity:0.1; fill:none\" points=\"\n",
       "  536.986,1102.79 536.986,47.2441 \n",
       "  \"/>\n",
       "<polyline clip-path=\"url(#clip332)\" style=\"stroke:#000000; stroke-linecap:butt; stroke-linejoin:round; stroke-width:2; stroke-opacity:0.1; fill:none\" points=\"\n",
       "  696.915,1102.79 696.915,47.2441 \n",
       "  \"/>\n",
       "<polyline clip-path=\"url(#clip332)\" style=\"stroke:#000000; stroke-linecap:butt; stroke-linejoin:round; stroke-width:2; stroke-opacity:0.1; fill:none\" points=\"\n",
       "  856.844,1102.79 856.844,47.2441 \n",
       "  \"/>\n",
       "<polyline clip-path=\"url(#clip330)\" style=\"stroke:#000000; stroke-linecap:butt; stroke-linejoin:round; stroke-width:4; stroke-opacity:1; fill:none\" points=\"\n",
       "  197.936,1102.79 876.035,1102.79 \n",
       "  \"/>\n",
       "<polyline clip-path=\"url(#clip330)\" style=\"stroke:#000000; stroke-linecap:butt; stroke-linejoin:round; stroke-width:4; stroke-opacity:1; fill:none\" points=\"\n",
       "  217.127,1102.79 217.127,1083.89 \n",
       "  \"/>\n",
       "<polyline clip-path=\"url(#clip330)\" style=\"stroke:#000000; stroke-linecap:butt; stroke-linejoin:round; stroke-width:4; stroke-opacity:1; fill:none\" points=\"\n",
       "  377.057,1102.79 377.057,1083.89 \n",
       "  \"/>\n",
       "<polyline clip-path=\"url(#clip330)\" style=\"stroke:#000000; stroke-linecap:butt; stroke-linejoin:round; stroke-width:4; stroke-opacity:1; fill:none\" points=\"\n",
       "  536.986,1102.79 536.986,1083.89 \n",
       "  \"/>\n",
       "<polyline clip-path=\"url(#clip330)\" style=\"stroke:#000000; stroke-linecap:butt; stroke-linejoin:round; stroke-width:4; stroke-opacity:1; fill:none\" points=\"\n",
       "  696.915,1102.79 696.915,1083.89 \n",
       "  \"/>\n",
       "<polyline clip-path=\"url(#clip330)\" style=\"stroke:#000000; stroke-linecap:butt; stroke-linejoin:round; stroke-width:4; stroke-opacity:1; fill:none\" points=\"\n",
       "  856.844,1102.79 856.844,1083.89 \n",
       "  \"/>\n",
       "<path clip-path=\"url(#clip330)\" d=\"M163.656 1151.56 L193.331 1151.56 L193.331 1155.5 L163.656 1155.5 L163.656 1151.56 Z\" fill=\"#000000\" fill-rule=\"evenodd\" fill-opacity=\"1\" /><path clip-path=\"url(#clip330)\" d=\"M204.234 1164.46 L211.873 1164.46 L211.873 1138.09 L203.563 1139.76 L203.563 1135.5 L211.827 1133.83 L216.502 1133.83 L216.502 1164.46 L224.141 1164.46 L224.141 1168.39 L204.234 1168.39 L204.234 1164.46 Z\" fill=\"#000000\" fill-rule=\"evenodd\" fill-opacity=\"1\" /><path clip-path=\"url(#clip330)\" d=\"M233.586 1162.51 L238.47 1162.51 L238.47 1168.39 L233.586 1168.39 L233.586 1162.51 Z\" fill=\"#000000\" fill-rule=\"evenodd\" fill-opacity=\"1\" /><path clip-path=\"url(#clip330)\" d=\"M258.655 1136.91 Q255.044 1136.91 253.215 1140.47 Q251.41 1144.02 251.41 1151.15 Q251.41 1158.25 253.215 1161.82 Q255.044 1165.36 258.655 1165.36 Q262.289 1165.36 264.095 1161.82 Q265.924 1158.25 265.924 1151.15 Q265.924 1144.02 264.095 1140.47 Q262.289 1136.91 258.655 1136.91 M258.655 1133.21 Q264.465 1133.21 267.521 1137.81 Q270.599 1142.4 270.599 1151.15 Q270.599 1159.87 267.521 1164.48 Q264.465 1169.06 258.655 1169.06 Q252.845 1169.06 249.766 1164.48 Q246.711 1159.87 246.711 1151.15 Q246.711 1142.4 249.766 1137.81 Q252.845 1133.21 258.655 1133.21 Z\" fill=\"#000000\" fill-rule=\"evenodd\" fill-opacity=\"1\" /><path clip-path=\"url(#clip330)\" d=\"M324.082 1151.56 L353.758 1151.56 L353.758 1155.5 L324.082 1155.5 L324.082 1151.56 Z\" fill=\"#000000\" fill-rule=\"evenodd\" fill-opacity=\"1\" /><path clip-path=\"url(#clip330)\" d=\"M373.851 1136.91 Q370.239 1136.91 368.411 1140.47 Q366.605 1144.02 366.605 1151.15 Q366.605 1158.25 368.411 1161.82 Q370.239 1165.36 373.851 1165.36 Q377.485 1165.36 379.29 1161.82 Q381.119 1158.25 381.119 1151.15 Q381.119 1144.02 379.29 1140.47 Q377.485 1136.91 373.851 1136.91 M373.851 1133.21 Q379.661 1133.21 382.716 1137.81 Q385.795 1142.4 385.795 1151.15 Q385.795 1159.87 382.716 1164.48 Q379.661 1169.06 373.851 1169.06 Q368.04 1169.06 364.962 1164.48 Q361.906 1159.87 361.906 1151.15 Q361.906 1142.4 364.962 1137.81 Q368.04 1133.21 373.851 1133.21 Z\" fill=\"#000000\" fill-rule=\"evenodd\" fill-opacity=\"1\" /><path clip-path=\"url(#clip330)\" d=\"M394.012 1162.51 L398.897 1162.51 L398.897 1168.39 L394.012 1168.39 L394.012 1162.51 Z\" fill=\"#000000\" fill-rule=\"evenodd\" fill-opacity=\"1\" /><path clip-path=\"url(#clip330)\" d=\"M409.128 1133.83 L427.485 1133.83 L427.485 1137.77 L413.411 1137.77 L413.411 1146.24 Q414.429 1145.89 415.448 1145.73 Q416.466 1145.54 417.485 1145.54 Q423.272 1145.54 426.651 1148.71 Q430.031 1151.89 430.031 1157.3 Q430.031 1162.88 426.559 1165.98 Q423.086 1169.06 416.767 1169.06 Q414.591 1169.06 412.323 1168.69 Q410.077 1168.32 407.67 1167.58 L407.67 1162.88 Q409.753 1164.02 411.975 1164.57 Q414.198 1165.13 416.674 1165.13 Q420.679 1165.13 423.017 1163.02 Q425.355 1160.91 425.355 1157.3 Q425.355 1153.69 423.017 1151.59 Q420.679 1149.48 416.674 1149.48 Q414.799 1149.48 412.924 1149.9 Q411.073 1150.31 409.128 1151.19 L409.128 1133.83 Z\" fill=\"#000000\" fill-rule=\"evenodd\" fill-opacity=\"1\" /><path clip-path=\"url(#clip330)\" d=\"M514.37 1136.91 Q510.759 1136.91 508.93 1140.47 Q507.125 1144.02 507.125 1151.15 Q507.125 1158.25 508.93 1161.82 Q510.759 1165.36 514.37 1165.36 Q518.004 1165.36 519.81 1161.82 Q521.638 1158.25 521.638 1151.15 Q521.638 1144.02 519.81 1140.47 Q518.004 1136.91 514.37 1136.91 M514.37 1133.21 Q520.18 1133.21 523.236 1137.81 Q526.314 1142.4 526.314 1151.15 Q526.314 1159.87 523.236 1164.48 Q520.18 1169.06 514.37 1169.06 Q508.56 1169.06 505.481 1164.48 Q502.426 1159.87 502.426 1151.15 Q502.426 1142.4 505.481 1137.81 Q508.56 1133.21 514.37 1133.21 Z\" fill=\"#000000\" fill-rule=\"evenodd\" fill-opacity=\"1\" /><path clip-path=\"url(#clip330)\" d=\"M534.532 1162.51 L539.416 1162.51 L539.416 1168.39 L534.532 1168.39 L534.532 1162.51 Z\" fill=\"#000000\" fill-rule=\"evenodd\" fill-opacity=\"1\" /><path clip-path=\"url(#clip330)\" d=\"M559.601 1136.91 Q555.99 1136.91 554.161 1140.47 Q552.356 1144.02 552.356 1151.15 Q552.356 1158.25 554.161 1161.82 Q555.99 1165.36 559.601 1165.36 Q563.235 1165.36 565.041 1161.82 Q566.87 1158.25 566.87 1151.15 Q566.87 1144.02 565.041 1140.47 Q563.235 1136.91 559.601 1136.91 M559.601 1133.21 Q565.411 1133.21 568.467 1137.81 Q571.546 1142.4 571.546 1151.15 Q571.546 1159.87 568.467 1164.48 Q565.411 1169.06 559.601 1169.06 Q553.791 1169.06 550.712 1164.48 Q547.657 1159.87 547.657 1151.15 Q547.657 1142.4 550.712 1137.81 Q553.791 1133.21 559.601 1133.21 Z\" fill=\"#000000\" fill-rule=\"evenodd\" fill-opacity=\"1\" /><path clip-path=\"url(#clip330)\" d=\"M674.797 1136.91 Q671.186 1136.91 669.357 1140.47 Q667.551 1144.02 667.551 1151.15 Q667.551 1158.25 669.357 1161.82 Q671.186 1165.36 674.797 1165.36 Q678.431 1165.36 680.237 1161.82 Q682.065 1158.25 682.065 1151.15 Q682.065 1144.02 680.237 1140.47 Q678.431 1136.91 674.797 1136.91 M674.797 1133.21 Q680.607 1133.21 683.662 1137.81 Q686.741 1142.4 686.741 1151.15 Q686.741 1159.87 683.662 1164.48 Q680.607 1169.06 674.797 1169.06 Q668.987 1169.06 665.908 1164.48 Q662.852 1159.87 662.852 1151.15 Q662.852 1142.4 665.908 1137.81 Q668.987 1133.21 674.797 1133.21 Z\" fill=\"#000000\" fill-rule=\"evenodd\" fill-opacity=\"1\" /><path clip-path=\"url(#clip330)\" d=\"M694.959 1162.51 L699.843 1162.51 L699.843 1168.39 L694.959 1168.39 L694.959 1162.51 Z\" fill=\"#000000\" fill-rule=\"evenodd\" fill-opacity=\"1\" /><path clip-path=\"url(#clip330)\" d=\"M710.074 1133.83 L728.431 1133.83 L728.431 1137.77 L714.357 1137.77 L714.357 1146.24 Q715.375 1145.89 716.394 1145.73 Q717.412 1145.54 718.431 1145.54 Q724.218 1145.54 727.597 1148.71 Q730.977 1151.89 730.977 1157.3 Q730.977 1162.88 727.505 1165.98 Q724.033 1169.06 717.713 1169.06 Q715.537 1169.06 713.269 1168.69 Q711.023 1168.32 708.616 1167.58 L708.616 1162.88 Q710.699 1164.02 712.922 1164.57 Q715.144 1165.13 717.621 1165.13 Q721.625 1165.13 723.963 1163.02 Q726.301 1160.91 726.301 1157.3 Q726.301 1153.69 723.963 1151.59 Q721.625 1149.48 717.621 1149.48 Q715.746 1149.48 713.871 1149.9 Q712.019 1150.31 710.074 1151.19 L710.074 1133.83 Z\" fill=\"#000000\" fill-rule=\"evenodd\" fill-opacity=\"1\" /><path clip-path=\"url(#clip330)\" d=\"M823.997 1164.46 L831.636 1164.46 L831.636 1138.09 L823.325 1139.76 L823.325 1135.5 L831.589 1133.83 L836.265 1133.83 L836.265 1164.46 L843.904 1164.46 L843.904 1168.39 L823.997 1168.39 L823.997 1164.46 Z\" fill=\"#000000\" fill-rule=\"evenodd\" fill-opacity=\"1\" /><path clip-path=\"url(#clip330)\" d=\"M853.348 1162.51 L858.233 1162.51 L858.233 1168.39 L853.348 1168.39 L853.348 1162.51 Z\" fill=\"#000000\" fill-rule=\"evenodd\" fill-opacity=\"1\" /><path clip-path=\"url(#clip330)\" d=\"M878.418 1136.91 Q874.807 1136.91 872.978 1140.47 Q871.172 1144.02 871.172 1151.15 Q871.172 1158.25 872.978 1161.82 Q874.807 1165.36 878.418 1165.36 Q882.052 1165.36 883.858 1161.82 Q885.686 1158.25 885.686 1151.15 Q885.686 1144.02 883.858 1140.47 Q882.052 1136.91 878.418 1136.91 M878.418 1133.21 Q884.228 1133.21 887.283 1137.81 Q890.362 1142.4 890.362 1151.15 Q890.362 1159.87 887.283 1164.48 Q884.228 1169.06 878.418 1169.06 Q872.608 1169.06 869.529 1164.48 Q866.473 1159.87 866.473 1151.15 Q866.473 1142.4 869.529 1137.81 Q872.608 1133.21 878.418 1133.21 Z\" fill=\"#000000\" fill-rule=\"evenodd\" fill-opacity=\"1\" /><polyline clip-path=\"url(#clip332)\" style=\"stroke:#000000; stroke-linecap:butt; stroke-linejoin:round; stroke-width:2; stroke-opacity:0.1; fill:none\" points=\"\n",
       "  197.936,1072.92 876.035,1072.92 \n",
       "  \"/>\n",
       "<polyline clip-path=\"url(#clip332)\" style=\"stroke:#000000; stroke-linecap:butt; stroke-linejoin:round; stroke-width:2; stroke-opacity:0.1; fill:none\" points=\"\n",
       "  197.936,754.261 876.035,754.261 \n",
       "  \"/>\n",
       "<polyline clip-path=\"url(#clip332)\" style=\"stroke:#000000; stroke-linecap:butt; stroke-linejoin:round; stroke-width:2; stroke-opacity:0.1; fill:none\" points=\"\n",
       "  197.936,435.606 876.035,435.606 \n",
       "  \"/>\n",
       "<polyline clip-path=\"url(#clip332)\" style=\"stroke:#000000; stroke-linecap:butt; stroke-linejoin:round; stroke-width:2; stroke-opacity:0.1; fill:none\" points=\"\n",
       "  197.936,116.95 876.035,116.95 \n",
       "  \"/>\n",
       "<polyline clip-path=\"url(#clip330)\" style=\"stroke:#000000; stroke-linecap:butt; stroke-linejoin:round; stroke-width:4; stroke-opacity:1; fill:none\" points=\"\n",
       "  197.936,1102.79 197.936,47.2441 \n",
       "  \"/>\n",
       "<polyline clip-path=\"url(#clip330)\" style=\"stroke:#000000; stroke-linecap:butt; stroke-linejoin:round; stroke-width:4; stroke-opacity:1; fill:none\" points=\"\n",
       "  197.936,1072.92 216.834,1072.92 \n",
       "  \"/>\n",
       "<polyline clip-path=\"url(#clip330)\" style=\"stroke:#000000; stroke-linecap:butt; stroke-linejoin:round; stroke-width:4; stroke-opacity:1; fill:none\" points=\"\n",
       "  197.936,754.261 216.834,754.261 \n",
       "  \"/>\n",
       "<polyline clip-path=\"url(#clip330)\" style=\"stroke:#000000; stroke-linecap:butt; stroke-linejoin:round; stroke-width:4; stroke-opacity:1; fill:none\" points=\"\n",
       "  197.936,435.606 216.834,435.606 \n",
       "  \"/>\n",
       "<polyline clip-path=\"url(#clip330)\" style=\"stroke:#000000; stroke-linecap:butt; stroke-linejoin:round; stroke-width:4; stroke-opacity:1; fill:none\" points=\"\n",
       "  197.936,116.95 216.834,116.95 \n",
       "  \"/>\n",
       "<path clip-path=\"url(#clip330)\" d=\"M49.9875 1073.37 L79.6633 1073.37 L79.6633 1077.3 L49.9875 1077.3 L49.9875 1073.37 Z\" fill=\"#000000\" fill-rule=\"evenodd\" fill-opacity=\"1\" /><path clip-path=\"url(#clip330)\" d=\"M90.566 1086.26 L98.2048 1086.26 L98.2048 1059.9 L89.8947 1061.56 L89.8947 1057.3 L98.1585 1055.64 L102.834 1055.64 L102.834 1086.26 L110.473 1086.26 L110.473 1090.2 L90.566 1090.2 L90.566 1086.26 Z\" fill=\"#000000\" fill-rule=\"evenodd\" fill-opacity=\"1\" /><path clip-path=\"url(#clip330)\" d=\"M119.918 1084.32 L124.802 1084.32 L124.802 1090.2 L119.918 1090.2 L119.918 1084.32 Z\" fill=\"#000000\" fill-rule=\"evenodd\" fill-opacity=\"1\" /><path clip-path=\"url(#clip330)\" d=\"M135.033 1055.64 L153.39 1055.64 L153.39 1059.57 L139.316 1059.57 L139.316 1068.04 Q140.334 1067.7 141.353 1067.53 Q142.371 1067.35 143.39 1067.35 Q149.177 1067.35 152.556 1070.52 Q155.936 1073.69 155.936 1079.11 Q155.936 1084.69 152.464 1087.79 Q148.992 1090.87 142.672 1090.87 Q140.496 1090.87 138.228 1090.5 Q135.982 1090.13 133.575 1089.39 L133.575 1084.69 Q135.658 1085.82 137.881 1086.38 Q140.103 1086.93 142.58 1086.93 Q146.584 1086.93 148.922 1084.83 Q151.26 1082.72 151.26 1079.11 Q151.26 1075.5 148.922 1073.39 Q146.584 1071.28 142.58 1071.28 Q140.705 1071.28 138.83 1071.7 Q136.978 1072.12 135.033 1073 L135.033 1055.64 Z\" fill=\"#000000\" fill-rule=\"evenodd\" fill-opacity=\"1\" /><path clip-path=\"url(#clip330)\" d=\"M48.9921 754.713 L78.6679 754.713 L78.6679 758.648 L48.9921 758.648 L48.9921 754.713 Z\" fill=\"#000000\" fill-rule=\"evenodd\" fill-opacity=\"1\" /><path clip-path=\"url(#clip330)\" d=\"M89.5706 767.606 L97.2095 767.606 L97.2095 741.24 L88.8993 742.907 L88.8993 738.648 L97.1632 736.981 L101.839 736.981 L101.839 767.606 L109.478 767.606 L109.478 771.541 L89.5706 771.541 L89.5706 767.606 Z\" fill=\"#000000\" fill-rule=\"evenodd\" fill-opacity=\"1\" /><path clip-path=\"url(#clip330)\" d=\"M118.922 765.662 L123.807 765.662 L123.807 771.541 L118.922 771.541 L118.922 765.662 Z\" fill=\"#000000\" fill-rule=\"evenodd\" fill-opacity=\"1\" /><path clip-path=\"url(#clip330)\" d=\"M143.992 740.06 Q140.381 740.06 138.552 743.625 Q136.746 747.166 136.746 754.296 Q136.746 761.402 138.552 764.967 Q140.381 768.509 143.992 768.509 Q147.626 768.509 149.431 764.967 Q151.26 761.402 151.26 754.296 Q151.26 747.166 149.431 743.625 Q147.626 740.06 143.992 740.06 M143.992 736.356 Q149.802 736.356 152.857 740.963 Q155.936 745.546 155.936 754.296 Q155.936 763.023 152.857 767.629 Q149.802 772.212 143.992 772.212 Q138.181 772.212 135.103 767.629 Q132.047 763.023 132.047 754.296 Q132.047 745.546 135.103 740.963 Q138.181 736.356 143.992 736.356 Z\" fill=\"#000000\" fill-rule=\"evenodd\" fill-opacity=\"1\" /><path clip-path=\"url(#clip330)\" d=\"M49.9875 436.057 L79.6633 436.057 L79.6633 439.992 L49.9875 439.992 L49.9875 436.057 Z\" fill=\"#000000\" fill-rule=\"evenodd\" fill-opacity=\"1\" /><path clip-path=\"url(#clip330)\" d=\"M99.7557 421.404 Q96.1447 421.404 94.316 424.969 Q92.5104 428.511 92.5104 435.64 Q92.5104 442.747 94.316 446.312 Q96.1447 449.853 99.7557 449.853 Q103.39 449.853 105.196 446.312 Q107.024 442.747 107.024 435.64 Q107.024 428.511 105.196 424.969 Q103.39 421.404 99.7557 421.404 M99.7557 417.701 Q105.566 417.701 108.621 422.307 Q111.7 426.89 111.7 435.64 Q111.7 444.367 108.621 448.974 Q105.566 453.557 99.7557 453.557 Q93.9456 453.557 90.8669 448.974 Q87.8114 444.367 87.8114 435.64 Q87.8114 426.89 90.8669 422.307 Q93.9456 417.701 99.7557 417.701 Z\" fill=\"#000000\" fill-rule=\"evenodd\" fill-opacity=\"1\" /><path clip-path=\"url(#clip330)\" d=\"M119.918 447.006 L124.802 447.006 L124.802 452.886 L119.918 452.886 L119.918 447.006 Z\" fill=\"#000000\" fill-rule=\"evenodd\" fill-opacity=\"1\" /><path clip-path=\"url(#clip330)\" d=\"M135.033 418.326 L153.39 418.326 L153.39 422.261 L139.316 422.261 L139.316 430.733 Q140.334 430.386 141.353 430.224 Q142.371 430.038 143.39 430.038 Q149.177 430.038 152.556 433.21 Q155.936 436.381 155.936 441.798 Q155.936 447.376 152.464 450.478 Q148.992 453.557 142.672 453.557 Q140.496 453.557 138.228 453.187 Q135.982 452.816 133.575 452.075 L133.575 447.376 Q135.658 448.511 137.881 449.066 Q140.103 449.622 142.58 449.622 Q146.584 449.622 148.922 447.515 Q151.26 445.409 151.26 441.798 Q151.26 438.187 148.922 436.08 Q146.584 433.974 142.58 433.974 Q140.705 433.974 138.83 434.39 Q136.978 434.807 135.033 435.687 L135.033 418.326 Z\" fill=\"#000000\" fill-rule=\"evenodd\" fill-opacity=\"1\" /><path clip-path=\"url(#clip330)\" d=\"M98.7604 102.749 Q95.1493 102.749 93.3206 106.313 Q91.515 109.855 91.515 116.985 Q91.515 124.091 93.3206 127.656 Q95.1493 131.198 98.7604 131.198 Q102.395 131.198 104.2 127.656 Q106.029 124.091 106.029 116.985 Q106.029 109.855 104.2 106.313 Q102.395 102.749 98.7604 102.749 M98.7604 99.045 Q104.571 99.045 107.626 103.651 Q110.705 108.235 110.705 116.985 Q110.705 125.712 107.626 130.318 Q104.571 134.901 98.7604 134.901 Q92.9502 134.901 89.8715 130.318 Q86.816 125.712 86.816 116.985 Q86.816 108.235 89.8715 103.651 Q92.9502 99.045 98.7604 99.045 Z\" fill=\"#000000\" fill-rule=\"evenodd\" fill-opacity=\"1\" /><path clip-path=\"url(#clip330)\" d=\"M118.922 128.35 L123.807 128.35 L123.807 134.23 L118.922 134.23 L118.922 128.35 Z\" fill=\"#000000\" fill-rule=\"evenodd\" fill-opacity=\"1\" /><path clip-path=\"url(#clip330)\" d=\"M143.992 102.749 Q140.381 102.749 138.552 106.313 Q136.746 109.855 136.746 116.985 Q136.746 124.091 138.552 127.656 Q140.381 131.198 143.992 131.198 Q147.626 131.198 149.431 127.656 Q151.26 124.091 151.26 116.985 Q151.26 109.855 149.431 106.313 Q147.626 102.749 143.992 102.749 M143.992 99.045 Q149.802 99.045 152.857 103.651 Q155.936 108.235 155.936 116.985 Q155.936 125.712 152.857 130.318 Q149.802 134.901 143.992 134.901 Q138.181 134.901 135.103 130.318 Q132.047 125.712 132.047 116.985 Q132.047 108.235 135.103 103.651 Q138.181 99.045 143.992 99.045 Z\" fill=\"#000000\" fill-rule=\"evenodd\" fill-opacity=\"1\" /><polyline clip-path=\"url(#clip332)\" style=\"stroke:#009af9; stroke-linecap:butt; stroke-linejoin:round; stroke-width:4; stroke-opacity:1; fill:none\" points=\"\n",
       "  217.127,1072.92 220.326,1057.05 223.525,1041.31 226.723,1025.69 229.922,1010.21 233.12,994.846 236.319,979.614 239.518,964.51 242.716,949.533 245.915,934.684 \n",
       "  249.113,919.962 252.312,905.368 255.51,890.901 258.709,876.561 261.908,862.349 265.106,848.265 268.305,834.307 271.503,820.478 274.702,806.776 277.901,793.201 \n",
       "  281.099,779.754 284.298,766.434 287.496,753.241 290.695,740.177 293.893,727.239 297.092,714.429 300.291,701.747 303.489,689.192 306.688,676.764 309.886,664.464 \n",
       "  313.085,652.291 316.284,640.246 319.482,628.328 322.681,616.538 325.879,604.875 329.078,593.34 332.276,581.932 335.475,570.652 338.674,559.499 341.872,548.473 \n",
       "  345.071,537.575 348.269,526.805 351.468,516.162 354.666,505.646 357.865,495.258 361.064,484.997 364.262,474.864 367.461,464.858 370.659,454.98 373.858,445.229 \n",
       "  377.057,435.606 380.255,426.11 383.454,416.741 386.652,407.5 389.851,398.387 393.049,389.401 396.248,380.542 399.447,371.811 402.645,363.207 405.844,354.731 \n",
       "  409.042,346.382 412.241,338.161 415.44,330.067 418.638,322.1 421.837,314.262 425.035,306.55 428.234,298.966 431.432,291.51 434.631,284.18 437.83,276.979 \n",
       "  441.028,269.905 444.227,262.958 447.425,256.139 450.624,249.447 453.823,242.883 457.021,236.446 460.22,230.136 463.418,223.955 466.617,217.9 469.815,211.973 \n",
       "  473.014,206.174 476.213,200.501 479.411,194.957 482.61,189.54 485.808,184.25 489.007,179.088 492.205,174.053 495.404,169.146 498.603,164.366 501.801,159.714 \n",
       "  505,155.189 508.198,150.791 511.397,146.521 514.596,142.379 517.794,138.364 520.993,134.476 524.191,130.716 527.39,127.083 530.588,123.578 533.787,120.2 \n",
       "  536.986,116.95 540.184,113.827 543.383,110.832 546.581,107.964 549.78,105.223 552.979,102.611 556.177,100.125 559.376,97.7669 562.574,95.5363 565.773,93.4332 \n",
       "  568.971,91.4576 572.17,89.6094 575.369,87.8886 578.567,86.2953 581.766,84.8295 584.964,83.4912 588.163,82.2803 591.362,81.1968 594.56,80.2409 597.759,79.4124 \n",
       "  600.957,78.7113 604.156,78.1378 607.354,77.6916 610.553,77.373 613.752,77.1818 616.95,77.1181 620.149,77.1818 623.347,77.373 626.546,77.6916 629.745,78.1378 \n",
       "  632.943,78.7113 636.142,79.4124 639.34,80.2409 642.539,81.1968 645.737,82.2803 648.936,83.4912 652.135,84.8295 655.333,86.2953 658.532,87.8886 661.73,89.6094 \n",
       "  664.929,91.4576 668.127,93.4332 671.326,95.5363 674.525,97.7669 677.723,100.125 680.922,102.611 684.12,105.223 687.319,107.964 690.518,110.832 693.716,113.827 \n",
       "  696.915,116.95 700.113,120.2 703.312,123.578 706.51,127.083 709.709,130.716 712.908,134.476 716.106,138.364 719.305,142.379 722.503,146.521 725.702,150.791 \n",
       "  728.901,155.189 732.099,159.714 735.298,164.366 738.496,169.146 741.695,174.053 744.893,179.088 748.092,184.25 751.291,189.54 754.489,194.957 757.688,200.501 \n",
       "  760.886,206.174 764.085,211.973 767.284,217.9 770.482,223.955 773.681,230.136 776.879,236.446 780.078,242.883 783.276,249.447 786.475,256.139 789.674,262.958 \n",
       "  792.872,269.905 796.071,276.979 799.269,284.18 802.468,291.51 805.666,298.966 808.865,306.55 812.064,314.262 815.262,322.1 818.461,330.067 821.659,338.161 \n",
       "  824.858,346.382 828.057,354.731 831.255,363.207 834.454,371.811 837.652,380.542 840.851,389.401 844.049,398.387 847.248,407.5 850.447,416.741 853.645,426.11 \n",
       "  856.844,435.606 \n",
       "  \"/>\n",
       "<polyline clip-path=\"url(#clip332)\" style=\"stroke:#e26f46; stroke-linecap:butt; stroke-linejoin:round; stroke-width:4; stroke-opacity:1; fill:none\" points=\"\n",
       "  217.127,116.95 856.844,116.95 \n",
       "  \"/>\n",
       "<path clip-path=\"url(#clip330)\" d=\"\n",
       "M1151.38 1102.79 L1829.48 1102.79 L1829.48 47.2441 L1151.38 47.2441  Z\n",
       "  \" fill=\"#ffffff\" fill-rule=\"evenodd\" fill-opacity=\"1\"/>\n",
       "<defs>\n",
       "  <clipPath id=\"clip333\">\n",
       "    <rect x=\"1151\" y=\"47\" width=\"679\" height=\"1057\"/>\n",
       "  </clipPath>\n",
       "</defs>\n",
       "<polyline clip-path=\"url(#clip333)\" style=\"stroke:#000000; stroke-linecap:butt; stroke-linejoin:round; stroke-width:2; stroke-opacity:0.1; fill:none\" points=\"\n",
       "  1170.57,1102.79 1170.57,47.2441 \n",
       "  \"/>\n",
       "<polyline clip-path=\"url(#clip333)\" style=\"stroke:#000000; stroke-linecap:butt; stroke-linejoin:round; stroke-width:2; stroke-opacity:0.1; fill:none\" points=\"\n",
       "  1330.5,1102.79 1330.5,47.2441 \n",
       "  \"/>\n",
       "<polyline clip-path=\"url(#clip333)\" style=\"stroke:#000000; stroke-linecap:butt; stroke-linejoin:round; stroke-width:2; stroke-opacity:0.1; fill:none\" points=\"\n",
       "  1490.43,1102.79 1490.43,47.2441 \n",
       "  \"/>\n",
       "<polyline clip-path=\"url(#clip333)\" style=\"stroke:#000000; stroke-linecap:butt; stroke-linejoin:round; stroke-width:2; stroke-opacity:0.1; fill:none\" points=\"\n",
       "  1650.36,1102.79 1650.36,47.2441 \n",
       "  \"/>\n",
       "<polyline clip-path=\"url(#clip333)\" style=\"stroke:#000000; stroke-linecap:butt; stroke-linejoin:round; stroke-width:2; stroke-opacity:0.1; fill:none\" points=\"\n",
       "  1810.29,1102.79 1810.29,47.2441 \n",
       "  \"/>\n",
       "<polyline clip-path=\"url(#clip330)\" style=\"stroke:#000000; stroke-linecap:butt; stroke-linejoin:round; stroke-width:4; stroke-opacity:1; fill:none\" points=\"\n",
       "  1151.38,1102.79 1829.48,1102.79 \n",
       "  \"/>\n",
       "<polyline clip-path=\"url(#clip330)\" style=\"stroke:#000000; stroke-linecap:butt; stroke-linejoin:round; stroke-width:4; stroke-opacity:1; fill:none\" points=\"\n",
       "  1170.57,1102.79 1170.57,1083.89 \n",
       "  \"/>\n",
       "<polyline clip-path=\"url(#clip330)\" style=\"stroke:#000000; stroke-linecap:butt; stroke-linejoin:round; stroke-width:4; stroke-opacity:1; fill:none\" points=\"\n",
       "  1330.5,1102.79 1330.5,1083.89 \n",
       "  \"/>\n",
       "<polyline clip-path=\"url(#clip330)\" style=\"stroke:#000000; stroke-linecap:butt; stroke-linejoin:round; stroke-width:4; stroke-opacity:1; fill:none\" points=\"\n",
       "  1490.43,1102.79 1490.43,1083.89 \n",
       "  \"/>\n",
       "<polyline clip-path=\"url(#clip330)\" style=\"stroke:#000000; stroke-linecap:butt; stroke-linejoin:round; stroke-width:4; stroke-opacity:1; fill:none\" points=\"\n",
       "  1650.36,1102.79 1650.36,1083.89 \n",
       "  \"/>\n",
       "<polyline clip-path=\"url(#clip330)\" style=\"stroke:#000000; stroke-linecap:butt; stroke-linejoin:round; stroke-width:4; stroke-opacity:1; fill:none\" points=\"\n",
       "  1810.29,1102.79 1810.29,1083.89 \n",
       "  \"/>\n",
       "<path clip-path=\"url(#clip330)\" d=\"M1117.1 1151.56 L1146.77 1151.56 L1146.77 1155.5 L1117.1 1155.5 L1117.1 1151.56 Z\" fill=\"#000000\" fill-rule=\"evenodd\" fill-opacity=\"1\" /><path clip-path=\"url(#clip330)\" d=\"M1157.68 1164.46 L1165.31 1164.46 L1165.31 1138.09 L1157 1139.76 L1157 1135.5 L1165.27 1133.83 L1169.94 1133.83 L1169.94 1164.46 L1177.58 1164.46 L1177.58 1168.39 L1157.68 1168.39 L1157.68 1164.46 Z\" fill=\"#000000\" fill-rule=\"evenodd\" fill-opacity=\"1\" /><path clip-path=\"url(#clip330)\" d=\"M1187.03 1162.51 L1191.91 1162.51 L1191.91 1168.39 L1187.03 1168.39 L1187.03 1162.51 Z\" fill=\"#000000\" fill-rule=\"evenodd\" fill-opacity=\"1\" /><path clip-path=\"url(#clip330)\" d=\"M1212.1 1136.91 Q1208.49 1136.91 1206.66 1140.47 Q1204.85 1144.02 1204.85 1151.15 Q1204.85 1158.25 1206.66 1161.82 Q1208.49 1165.36 1212.1 1165.36 Q1215.73 1165.36 1217.54 1161.82 Q1219.36 1158.25 1219.36 1151.15 Q1219.36 1144.02 1217.54 1140.47 Q1215.73 1136.91 1212.1 1136.91 M1212.1 1133.21 Q1217.91 1133.21 1220.96 1137.81 Q1224.04 1142.4 1224.04 1151.15 Q1224.04 1159.87 1220.96 1164.48 Q1217.91 1169.06 1212.1 1169.06 Q1206.29 1169.06 1203.21 1164.48 Q1200.15 1159.87 1200.15 1151.15 Q1200.15 1142.4 1203.21 1137.81 Q1206.29 1133.21 1212.1 1133.21 Z\" fill=\"#000000\" fill-rule=\"evenodd\" fill-opacity=\"1\" /><path clip-path=\"url(#clip330)\" d=\"M1277.52 1151.56 L1307.2 1151.56 L1307.2 1155.5 L1277.52 1155.5 L1277.52 1151.56 Z\" fill=\"#000000\" fill-rule=\"evenodd\" fill-opacity=\"1\" /><path clip-path=\"url(#clip330)\" d=\"M1327.29 1136.91 Q1323.68 1136.91 1321.85 1140.47 Q1320.05 1144.02 1320.05 1151.15 Q1320.05 1158.25 1321.85 1161.82 Q1323.68 1165.36 1327.29 1165.36 Q1330.93 1165.36 1332.73 1161.82 Q1334.56 1158.25 1334.56 1151.15 Q1334.56 1144.02 1332.73 1140.47 Q1330.93 1136.91 1327.29 1136.91 M1327.29 1133.21 Q1333.1 1133.21 1336.16 1137.81 Q1339.24 1142.4 1339.24 1151.15 Q1339.24 1159.87 1336.16 1164.48 Q1333.1 1169.06 1327.29 1169.06 Q1321.48 1169.06 1318.4 1164.48 Q1315.35 1159.87 1315.35 1151.15 Q1315.35 1142.4 1318.4 1137.81 Q1321.48 1133.21 1327.29 1133.21 Z\" fill=\"#000000\" fill-rule=\"evenodd\" fill-opacity=\"1\" /><path clip-path=\"url(#clip330)\" d=\"M1347.45 1162.51 L1352.34 1162.51 L1352.34 1168.39 L1347.45 1168.39 L1347.45 1162.51 Z\" fill=\"#000000\" fill-rule=\"evenodd\" fill-opacity=\"1\" /><path clip-path=\"url(#clip330)\" d=\"M1362.57 1133.83 L1380.93 1133.83 L1380.93 1137.77 L1366.85 1137.77 L1366.85 1146.24 Q1367.87 1145.89 1368.89 1145.73 Q1369.91 1145.54 1370.93 1145.54 Q1376.71 1145.54 1380.09 1148.71 Q1383.47 1151.89 1383.47 1157.3 Q1383.47 1162.88 1380 1165.98 Q1376.53 1169.06 1370.21 1169.06 Q1368.03 1169.06 1365.76 1168.69 Q1363.52 1168.32 1361.11 1167.58 L1361.11 1162.88 Q1363.19 1164.02 1365.42 1164.57 Q1367.64 1165.13 1370.12 1165.13 Q1374.12 1165.13 1376.46 1163.02 Q1378.8 1160.91 1378.8 1157.3 Q1378.8 1153.69 1376.46 1151.59 Q1374.12 1149.48 1370.12 1149.48 Q1368.24 1149.48 1366.37 1149.9 Q1364.51 1150.31 1362.57 1151.19 L1362.57 1133.83 Z\" fill=\"#000000\" fill-rule=\"evenodd\" fill-opacity=\"1\" /><path clip-path=\"url(#clip330)\" d=\"M1467.81 1136.91 Q1464.2 1136.91 1462.37 1140.47 Q1460.57 1144.02 1460.57 1151.15 Q1460.57 1158.25 1462.37 1161.82 Q1464.2 1165.36 1467.81 1165.36 Q1471.45 1165.36 1473.25 1161.82 Q1475.08 1158.25 1475.08 1151.15 Q1475.08 1144.02 1473.25 1140.47 Q1471.45 1136.91 1467.81 1136.91 M1467.81 1133.21 Q1473.62 1133.21 1476.68 1137.81 Q1479.76 1142.4 1479.76 1151.15 Q1479.76 1159.87 1476.68 1164.48 Q1473.62 1169.06 1467.81 1169.06 Q1462 1169.06 1458.92 1164.48 Q1455.87 1159.87 1455.87 1151.15 Q1455.87 1142.4 1458.92 1137.81 Q1462 1133.21 1467.81 1133.21 Z\" fill=\"#000000\" fill-rule=\"evenodd\" fill-opacity=\"1\" /><path clip-path=\"url(#clip330)\" d=\"M1487.97 1162.51 L1492.86 1162.51 L1492.86 1168.39 L1487.97 1168.39 L1487.97 1162.51 Z\" fill=\"#000000\" fill-rule=\"evenodd\" fill-opacity=\"1\" /><path clip-path=\"url(#clip330)\" d=\"M1513.04 1136.91 Q1509.43 1136.91 1507.6 1140.47 Q1505.8 1144.02 1505.8 1151.15 Q1505.8 1158.25 1507.6 1161.82 Q1509.43 1165.36 1513.04 1165.36 Q1516.68 1165.36 1518.48 1161.82 Q1520.31 1158.25 1520.31 1151.15 Q1520.31 1144.02 1518.48 1140.47 Q1516.68 1136.91 1513.04 1136.91 M1513.04 1133.21 Q1518.85 1133.21 1521.91 1137.81 Q1524.99 1142.4 1524.99 1151.15 Q1524.99 1159.87 1521.91 1164.48 Q1518.85 1169.06 1513.04 1169.06 Q1507.23 1169.06 1504.15 1164.48 Q1501.1 1159.87 1501.1 1151.15 Q1501.1 1142.4 1504.15 1137.81 Q1507.23 1133.21 1513.04 1133.21 Z\" fill=\"#000000\" fill-rule=\"evenodd\" fill-opacity=\"1\" /><path clip-path=\"url(#clip330)\" d=\"M1628.24 1136.91 Q1624.63 1136.91 1622.8 1140.47 Q1620.99 1144.02 1620.99 1151.15 Q1620.99 1158.25 1622.8 1161.82 Q1624.63 1165.36 1628.24 1165.36 Q1631.87 1165.36 1633.68 1161.82 Q1635.51 1158.25 1635.51 1151.15 Q1635.51 1144.02 1633.68 1140.47 Q1631.87 1136.91 1628.24 1136.91 M1628.24 1133.21 Q1634.05 1133.21 1637.1 1137.81 Q1640.18 1142.4 1640.18 1151.15 Q1640.18 1159.87 1637.1 1164.48 Q1634.05 1169.06 1628.24 1169.06 Q1622.43 1169.06 1619.35 1164.48 Q1616.29 1159.87 1616.29 1151.15 Q1616.29 1142.4 1619.35 1137.81 Q1622.43 1133.21 1628.24 1133.21 Z\" fill=\"#000000\" fill-rule=\"evenodd\" fill-opacity=\"1\" /><path clip-path=\"url(#clip330)\" d=\"M1648.4 1162.51 L1653.28 1162.51 L1653.28 1168.39 L1648.4 1168.39 L1648.4 1162.51 Z\" fill=\"#000000\" fill-rule=\"evenodd\" fill-opacity=\"1\" /><path clip-path=\"url(#clip330)\" d=\"M1663.52 1133.83 L1681.87 1133.83 L1681.87 1137.77 L1667.8 1137.77 L1667.8 1146.24 Q1668.82 1145.89 1669.84 1145.73 Q1670.85 1145.54 1671.87 1145.54 Q1677.66 1145.54 1681.04 1148.71 Q1684.42 1151.89 1684.42 1157.3 Q1684.42 1162.88 1680.95 1165.98 Q1677.47 1169.06 1671.15 1169.06 Q1668.98 1169.06 1666.71 1168.69 Q1664.46 1168.32 1662.06 1167.58 L1662.06 1162.88 Q1664.14 1164.02 1666.36 1164.57 Q1668.59 1165.13 1671.06 1165.13 Q1675.07 1165.13 1677.4 1163.02 Q1679.74 1160.91 1679.74 1157.3 Q1679.74 1153.69 1677.4 1151.59 Q1675.07 1149.48 1671.06 1149.48 Q1669.19 1149.48 1667.31 1149.9 Q1665.46 1150.31 1663.52 1151.19 L1663.52 1133.83 Z\" fill=\"#000000\" fill-rule=\"evenodd\" fill-opacity=\"1\" /><path clip-path=\"url(#clip330)\" d=\"M1777.44 1164.46 L1785.08 1164.46 L1785.08 1138.09 L1776.77 1139.76 L1776.77 1135.5 L1785.03 1133.83 L1789.71 1133.83 L1789.71 1164.46 L1797.35 1164.46 L1797.35 1168.39 L1777.44 1168.39 L1777.44 1164.46 Z\" fill=\"#000000\" fill-rule=\"evenodd\" fill-opacity=\"1\" /><path clip-path=\"url(#clip330)\" d=\"M1806.79 1162.51 L1811.67 1162.51 L1811.67 1168.39 L1806.79 1168.39 L1806.79 1162.51 Z\" fill=\"#000000\" fill-rule=\"evenodd\" fill-opacity=\"1\" /><path clip-path=\"url(#clip330)\" d=\"M1831.86 1136.91 Q1828.25 1136.91 1826.42 1140.47 Q1824.61 1144.02 1824.61 1151.15 Q1824.61 1158.25 1826.42 1161.82 Q1828.25 1165.36 1831.86 1165.36 Q1835.49 1165.36 1837.3 1161.82 Q1839.13 1158.25 1839.13 1151.15 Q1839.13 1144.02 1837.3 1140.47 Q1835.49 1136.91 1831.86 1136.91 M1831.86 1133.21 Q1837.67 1133.21 1840.72 1137.81 Q1843.8 1142.4 1843.8 1151.15 Q1843.8 1159.87 1840.72 1164.48 Q1837.67 1169.06 1831.86 1169.06 Q1826.05 1169.06 1822.97 1164.48 Q1819.91 1159.87 1819.91 1151.15 Q1819.91 1142.4 1822.97 1137.81 Q1826.05 1133.21 1831.86 1133.21 Z\" fill=\"#000000\" fill-rule=\"evenodd\" fill-opacity=\"1\" /><polyline clip-path=\"url(#clip333)\" style=\"stroke:#000000; stroke-linecap:butt; stroke-linejoin:round; stroke-width:2; stroke-opacity:0.1; fill:none\" points=\"\n",
       "  1151.38,1072.92 1829.48,1072.92 \n",
       "  \"/>\n",
       "<polyline clip-path=\"url(#clip333)\" style=\"stroke:#000000; stroke-linecap:butt; stroke-linejoin:round; stroke-width:2; stroke-opacity:0.1; fill:none\" points=\"\n",
       "  1151.38,823.967 1829.48,823.967 \n",
       "  \"/>\n",
       "<polyline clip-path=\"url(#clip333)\" style=\"stroke:#000000; stroke-linecap:butt; stroke-linejoin:round; stroke-width:2; stroke-opacity:0.1; fill:none\" points=\"\n",
       "  1151.38,575.017 1829.48,575.017 \n",
       "  \"/>\n",
       "<polyline clip-path=\"url(#clip333)\" style=\"stroke:#000000; stroke-linecap:butt; stroke-linejoin:round; stroke-width:2; stroke-opacity:0.1; fill:none\" points=\"\n",
       "  1151.38,326.068 1829.48,326.068 \n",
       "  \"/>\n",
       "<polyline clip-path=\"url(#clip333)\" style=\"stroke:#000000; stroke-linecap:butt; stroke-linejoin:round; stroke-width:2; stroke-opacity:0.1; fill:none\" points=\"\n",
       "  1151.38,77.1181 1829.48,77.1181 \n",
       "  \"/>\n",
       "<polyline clip-path=\"url(#clip330)\" style=\"stroke:#000000; stroke-linecap:butt; stroke-linejoin:round; stroke-width:4; stroke-opacity:1; fill:none\" points=\"\n",
       "  1151.38,1102.79 1151.38,47.2441 \n",
       "  \"/>\n",
       "<polyline clip-path=\"url(#clip330)\" style=\"stroke:#000000; stroke-linecap:butt; stroke-linejoin:round; stroke-width:4; stroke-opacity:1; fill:none\" points=\"\n",
       "  1151.38,1072.92 1170.27,1072.92 \n",
       "  \"/>\n",
       "<polyline clip-path=\"url(#clip330)\" style=\"stroke:#000000; stroke-linecap:butt; stroke-linejoin:round; stroke-width:4; stroke-opacity:1; fill:none\" points=\"\n",
       "  1151.38,823.967 1170.27,823.967 \n",
       "  \"/>\n",
       "<polyline clip-path=\"url(#clip330)\" style=\"stroke:#000000; stroke-linecap:butt; stroke-linejoin:round; stroke-width:4; stroke-opacity:1; fill:none\" points=\"\n",
       "  1151.38,575.017 1170.27,575.017 \n",
       "  \"/>\n",
       "<polyline clip-path=\"url(#clip330)\" style=\"stroke:#000000; stroke-linecap:butt; stroke-linejoin:round; stroke-width:4; stroke-opacity:1; fill:none\" points=\"\n",
       "  1151.38,326.068 1170.27,326.068 \n",
       "  \"/>\n",
       "<polyline clip-path=\"url(#clip330)\" style=\"stroke:#000000; stroke-linecap:butt; stroke-linejoin:round; stroke-width:4; stroke-opacity:1; fill:none\" points=\"\n",
       "  1151.38,77.1181 1170.27,77.1181 \n",
       "  \"/>\n",
       "<path clip-path=\"url(#clip330)\" d=\"M972.272 1073.37 L1001.95 1073.37 L1001.95 1077.3 L972.272 1077.3 L972.272 1073.37 Z\" fill=\"#000000\" fill-rule=\"evenodd\" fill-opacity=\"1\" /><path clip-path=\"url(#clip330)\" d=\"M1012.85 1086.26 L1020.49 1086.26 L1020.49 1059.9 L1012.18 1061.56 L1012.18 1057.3 L1020.44 1055.64 L1025.12 1055.64 L1025.12 1086.26 L1032.76 1086.26 L1032.76 1090.2 L1012.85 1090.2 L1012.85 1086.26 Z\" fill=\"#000000\" fill-rule=\"evenodd\" fill-opacity=\"1\" /><path clip-path=\"url(#clip330)\" d=\"M1042.2 1084.32 L1047.09 1084.32 L1047.09 1090.2 L1042.2 1090.2 L1042.2 1084.32 Z\" fill=\"#000000\" fill-rule=\"evenodd\" fill-opacity=\"1\" /><path clip-path=\"url(#clip330)\" d=\"M1067.27 1058.72 Q1063.66 1058.72 1061.83 1062.28 Q1060.03 1065.82 1060.03 1072.95 Q1060.03 1080.06 1061.83 1083.62 Q1063.66 1087.16 1067.27 1087.16 Q1070.91 1087.16 1072.71 1083.62 Q1074.54 1080.06 1074.54 1072.95 Q1074.54 1065.82 1072.71 1062.28 Q1070.91 1058.72 1067.27 1058.72 M1067.27 1055.01 Q1073.08 1055.01 1076.14 1059.62 Q1079.22 1064.2 1079.22 1072.95 Q1079.22 1081.68 1076.14 1086.28 Q1073.08 1090.87 1067.27 1090.87 Q1061.46 1090.87 1058.38 1086.28 Q1055.33 1081.68 1055.33 1072.95 Q1055.33 1064.2 1058.38 1059.62 Q1061.46 1055.01 1067.27 1055.01 Z\" fill=\"#000000\" fill-rule=\"evenodd\" fill-opacity=\"1\" /><path clip-path=\"url(#clip330)\" d=\"M1097.43 1058.72 Q1093.82 1058.72 1091.99 1062.28 Q1090.19 1065.82 1090.19 1072.95 Q1090.19 1080.06 1091.99 1083.62 Q1093.82 1087.16 1097.43 1087.16 Q1101.07 1087.16 1102.87 1083.62 Q1104.7 1080.06 1104.7 1072.95 Q1104.7 1065.82 1102.87 1062.28 Q1101.07 1058.72 1097.43 1058.72 M1097.43 1055.01 Q1103.24 1055.01 1106.3 1059.62 Q1109.38 1064.2 1109.38 1072.95 Q1109.38 1081.68 1106.3 1086.28 Q1103.24 1090.87 1097.43 1090.87 Q1091.62 1090.87 1088.54 1086.28 Q1085.49 1081.68 1085.49 1072.95 Q1085.49 1064.2 1088.54 1059.62 Q1091.62 1055.01 1097.43 1055.01 Z\" fill=\"#000000\" fill-rule=\"evenodd\" fill-opacity=\"1\" /><path clip-path=\"url(#clip330)\" d=\"M973.267 824.418 L1002.94 824.418 L1002.94 828.354 L973.267 828.354 L973.267 824.418 Z\" fill=\"#000000\" fill-rule=\"evenodd\" fill-opacity=\"1\" /><path clip-path=\"url(#clip330)\" d=\"M1023.04 809.766 Q1019.42 809.766 1017.6 813.331 Q1015.79 816.872 1015.79 824.002 Q1015.79 831.108 1017.6 834.673 Q1019.42 838.215 1023.04 838.215 Q1026.67 838.215 1028.47 834.673 Q1030.3 831.108 1030.3 824.002 Q1030.3 816.872 1028.47 813.331 Q1026.67 809.766 1023.04 809.766 M1023.04 806.062 Q1028.85 806.062 1031.9 810.669 Q1034.98 815.252 1034.98 824.002 Q1034.98 832.729 1031.9 837.335 Q1028.85 841.918 1023.04 841.918 Q1017.22 841.918 1014.15 837.335 Q1011.09 832.729 1011.09 824.002 Q1011.09 815.252 1014.15 810.669 Q1017.22 806.062 1023.04 806.062 Z\" fill=\"#000000\" fill-rule=\"evenodd\" fill-opacity=\"1\" /><path clip-path=\"url(#clip330)\" d=\"M1043.2 835.367 L1048.08 835.367 L1048.08 841.247 L1043.2 841.247 L1043.2 835.367 Z\" fill=\"#000000\" fill-rule=\"evenodd\" fill-opacity=\"1\" /><path clip-path=\"url(#clip330)\" d=\"M1057.09 806.687 L1079.31 806.687 L1079.31 808.678 L1066.76 841.247 L1061.88 841.247 L1073.68 810.622 L1057.09 810.622 L1057.09 806.687 Z\" fill=\"#000000\" fill-rule=\"evenodd\" fill-opacity=\"1\" /><path clip-path=\"url(#clip330)\" d=\"M1088.47 806.687 L1106.83 806.687 L1106.83 810.622 L1092.76 810.622 L1092.76 819.094 Q1093.78 818.747 1094.79 818.585 Q1095.81 818.4 1096.83 818.4 Q1102.62 818.4 1106 821.571 Q1109.38 824.743 1109.38 830.159 Q1109.38 835.738 1105.91 838.84 Q1102.43 841.918 1096.11 841.918 Q1093.94 841.918 1091.67 841.548 Q1089.42 841.178 1087.02 840.437 L1087.02 835.738 Q1089.1 836.872 1091.32 837.428 Q1093.54 837.983 1096.02 837.983 Q1100.03 837.983 1102.36 835.877 Q1104.7 833.77 1104.7 830.159 Q1104.7 826.548 1102.36 824.442 Q1100.03 822.335 1096.02 822.335 Q1094.15 822.335 1092.27 822.752 Q1090.42 823.168 1088.47 824.048 L1088.47 806.687 Z\" fill=\"#000000\" fill-rule=\"evenodd\" fill-opacity=\"1\" /><path clip-path=\"url(#clip330)\" d=\"M972.272 575.469 L1001.95 575.469 L1001.95 579.404 L972.272 579.404 L972.272 575.469 Z\" fill=\"#000000\" fill-rule=\"evenodd\" fill-opacity=\"1\" /><path clip-path=\"url(#clip330)\" d=\"M1022.04 560.816 Q1018.43 560.816 1016.6 564.381 Q1014.79 567.923 1014.79 575.052 Q1014.79 582.159 1016.6 585.723 Q1018.43 589.265 1022.04 589.265 Q1025.67 589.265 1027.48 585.723 Q1029.31 582.159 1029.31 575.052 Q1029.31 567.923 1027.48 564.381 Q1025.67 560.816 1022.04 560.816 M1022.04 557.112 Q1027.85 557.112 1030.91 561.719 Q1033.98 566.302 1033.98 575.052 Q1033.98 583.779 1030.91 588.385 Q1027.85 592.969 1022.04 592.969 Q1016.23 592.969 1013.15 588.385 Q1010.1 583.779 1010.1 575.052 Q1010.1 566.302 1013.15 561.719 Q1016.23 557.112 1022.04 557.112 Z\" fill=\"#000000\" fill-rule=\"evenodd\" fill-opacity=\"1\" /><path clip-path=\"url(#clip330)\" d=\"M1042.2 586.418 L1047.09 586.418 L1047.09 592.297 L1042.2 592.297 L1042.2 586.418 Z\" fill=\"#000000\" fill-rule=\"evenodd\" fill-opacity=\"1\" /><path clip-path=\"url(#clip330)\" d=\"M1057.32 557.737 L1075.67 557.737 L1075.67 561.673 L1061.6 561.673 L1061.6 570.145 Q1062.62 569.798 1063.64 569.635 Q1064.66 569.45 1065.67 569.45 Q1071.46 569.45 1074.84 572.622 Q1078.22 575.793 1078.22 581.21 Q1078.22 586.788 1074.75 589.89 Q1071.28 592.969 1064.96 592.969 Q1062.78 592.969 1060.51 592.598 Q1058.27 592.228 1055.86 591.487 L1055.86 586.788 Q1057.94 587.922 1060.16 588.478 Q1062.39 589.034 1064.86 589.034 Q1068.87 589.034 1071.21 586.927 Q1073.54 584.821 1073.54 581.21 Q1073.54 577.598 1071.21 575.492 Q1068.87 573.385 1064.86 573.385 Q1062.99 573.385 1061.11 573.802 Q1059.26 574.219 1057.32 575.098 L1057.32 557.737 Z\" fill=\"#000000\" fill-rule=\"evenodd\" fill-opacity=\"1\" /><path clip-path=\"url(#clip330)\" d=\"M1097.43 560.816 Q1093.82 560.816 1091.99 564.381 Q1090.19 567.923 1090.19 575.052 Q1090.19 582.159 1091.99 585.723 Q1093.82 589.265 1097.43 589.265 Q1101.07 589.265 1102.87 585.723 Q1104.7 582.159 1104.7 575.052 Q1104.7 567.923 1102.87 564.381 Q1101.07 560.816 1097.43 560.816 M1097.43 557.112 Q1103.24 557.112 1106.3 561.719 Q1109.38 566.302 1109.38 575.052 Q1109.38 583.779 1106.3 588.385 Q1103.24 592.969 1097.43 592.969 Q1091.62 592.969 1088.54 588.385 Q1085.49 583.779 1085.49 575.052 Q1085.49 566.302 1088.54 561.719 Q1091.62 557.112 1097.43 557.112 Z\" fill=\"#000000\" fill-rule=\"evenodd\" fill-opacity=\"1\" /><path clip-path=\"url(#clip330)\" d=\"M973.267 326.519 L1002.94 326.519 L1002.94 330.454 L973.267 330.454 L973.267 326.519 Z\" fill=\"#000000\" fill-rule=\"evenodd\" fill-opacity=\"1\" /><path clip-path=\"url(#clip330)\" d=\"M1023.04 311.866 Q1019.42 311.866 1017.6 315.431 Q1015.79 318.973 1015.79 326.102 Q1015.79 333.209 1017.6 336.774 Q1019.42 340.315 1023.04 340.315 Q1026.67 340.315 1028.47 336.774 Q1030.3 333.209 1030.3 326.102 Q1030.3 318.973 1028.47 315.431 Q1026.67 311.866 1023.04 311.866 M1023.04 308.163 Q1028.85 308.163 1031.9 312.769 Q1034.98 317.353 1034.98 326.102 Q1034.98 334.829 1031.9 339.436 Q1028.85 344.019 1023.04 344.019 Q1017.22 344.019 1014.15 339.436 Q1011.09 334.829 1011.09 326.102 Q1011.09 317.353 1014.15 312.769 Q1017.22 308.163 1023.04 308.163 Z\" fill=\"#000000\" fill-rule=\"evenodd\" fill-opacity=\"1\" /><path clip-path=\"url(#clip330)\" d=\"M1043.2 337.468 L1048.08 337.468 L1048.08 343.348 L1043.2 343.348 L1043.2 337.468 Z\" fill=\"#000000\" fill-rule=\"evenodd\" fill-opacity=\"1\" /><path clip-path=\"url(#clip330)\" d=\"M1062.29 339.413 L1078.61 339.413 L1078.61 343.348 L1056.67 343.348 L1056.67 339.413 Q1059.33 336.658 1063.91 332.028 Q1068.52 327.376 1069.7 326.033 Q1071.95 323.51 1072.83 321.774 Q1073.73 320.015 1073.73 318.325 Q1073.73 315.57 1071.78 313.834 Q1069.86 312.098 1066.76 312.098 Q1064.56 312.098 1062.11 312.862 Q1059.68 313.626 1056.9 315.177 L1056.9 310.454 Q1059.72 309.32 1062.18 308.741 Q1064.63 308.163 1066.67 308.163 Q1072.04 308.163 1075.23 310.848 Q1078.43 313.533 1078.43 318.024 Q1078.43 320.153 1077.62 322.075 Q1076.83 323.973 1074.72 326.565 Q1074.15 327.237 1071.04 330.454 Q1067.94 333.649 1062.29 339.413 Z\" fill=\"#000000\" fill-rule=\"evenodd\" fill-opacity=\"1\" /><path clip-path=\"url(#clip330)\" d=\"M1088.47 308.788 L1106.83 308.788 L1106.83 312.723 L1092.76 312.723 L1092.76 321.195 Q1093.78 320.848 1094.79 320.686 Q1095.81 320.501 1096.83 320.501 Q1102.62 320.501 1106 323.672 Q1109.38 326.843 1109.38 332.26 Q1109.38 337.839 1105.91 340.94 Q1102.43 344.019 1096.11 344.019 Q1093.94 344.019 1091.67 343.649 Q1089.42 343.278 1087.02 342.538 L1087.02 337.839 Q1089.1 338.973 1091.32 339.528 Q1093.54 340.084 1096.02 340.084 Q1100.03 340.084 1102.36 337.977 Q1104.7 335.871 1104.7 332.26 Q1104.7 328.649 1102.36 326.542 Q1100.03 324.436 1096.02 324.436 Q1094.15 324.436 1092.27 324.852 Q1090.42 325.269 1088.47 326.149 L1088.47 308.788 Z\" fill=\"#000000\" fill-rule=\"evenodd\" fill-opacity=\"1\" /><path clip-path=\"url(#clip330)\" d=\"M1022.04 62.9167 Q1018.43 62.9167 1016.6 66.4815 Q1014.79 70.0232 1014.79 77.1528 Q1014.79 84.2592 1016.6 87.824 Q1018.43 91.3657 1022.04 91.3657 Q1025.67 91.3657 1027.48 87.824 Q1029.31 84.2592 1029.31 77.1528 Q1029.31 70.0232 1027.48 66.4815 Q1025.67 62.9167 1022.04 62.9167 M1022.04 59.2131 Q1027.85 59.2131 1030.91 63.8195 Q1033.98 68.4028 1033.98 77.1528 Q1033.98 85.8796 1030.91 90.486 Q1027.85 95.0693 1022.04 95.0693 Q1016.23 95.0693 1013.15 90.486 Q1010.1 85.8796 1010.1 77.1528 Q1010.1 68.4028 1013.15 63.8195 Q1016.23 59.2131 1022.04 59.2131 Z\" fill=\"#000000\" fill-rule=\"evenodd\" fill-opacity=\"1\" /><path clip-path=\"url(#clip330)\" d=\"M1042.2 88.5185 L1047.09 88.5185 L1047.09 94.3981 L1042.2 94.3981 L1042.2 88.5185 Z\" fill=\"#000000\" fill-rule=\"evenodd\" fill-opacity=\"1\" /><path clip-path=\"url(#clip330)\" d=\"M1067.27 62.9167 Q1063.66 62.9167 1061.83 66.4815 Q1060.03 70.0232 1060.03 77.1528 Q1060.03 84.2592 1061.83 87.824 Q1063.66 91.3657 1067.27 91.3657 Q1070.91 91.3657 1072.71 87.824 Q1074.54 84.2592 1074.54 77.1528 Q1074.54 70.0232 1072.71 66.4815 Q1070.91 62.9167 1067.27 62.9167 M1067.27 59.2131 Q1073.08 59.2131 1076.14 63.8195 Q1079.22 68.4028 1079.22 77.1528 Q1079.22 85.8796 1076.14 90.486 Q1073.08 95.0693 1067.27 95.0693 Q1061.46 95.0693 1058.38 90.486 Q1055.33 85.8796 1055.33 77.1528 Q1055.33 68.4028 1058.38 63.8195 Q1061.46 59.2131 1067.27 59.2131 Z\" fill=\"#000000\" fill-rule=\"evenodd\" fill-opacity=\"1\" /><path clip-path=\"url(#clip330)\" d=\"M1097.43 62.9167 Q1093.82 62.9167 1091.99 66.4815 Q1090.19 70.0232 1090.19 77.1528 Q1090.19 84.2592 1091.99 87.824 Q1093.82 91.3657 1097.43 91.3657 Q1101.07 91.3657 1102.87 87.824 Q1104.7 84.2592 1104.7 77.1528 Q1104.7 70.0232 1102.87 66.4815 Q1101.07 62.9167 1097.43 62.9167 M1097.43 59.2131 Q1103.24 59.2131 1106.3 63.8195 Q1109.38 68.4028 1109.38 77.1528 Q1109.38 85.8796 1106.3 90.486 Q1103.24 95.0693 1097.43 95.0693 Q1091.62 95.0693 1088.54 90.486 Q1085.49 85.8796 1085.49 77.1528 Q1085.49 68.4028 1088.54 63.8195 Q1091.62 59.2131 1097.43 59.2131 Z\" fill=\"#000000\" fill-rule=\"evenodd\" fill-opacity=\"1\" /><polyline clip-path=\"url(#clip333)\" style=\"stroke:#009af9; stroke-linecap:butt; stroke-linejoin:round; stroke-width:4; stroke-opacity:1; fill:none\" points=\"\n",
       "  1170.57,1072.92 1173.77,1053.1 1176.97,1033.48 1180.16,1014.07 1183.36,994.846 1186.56,975.826 1189.76,957.006 1192.96,938.384 1196.16,919.962 1199.36,901.739 \n",
       "  1202.55,883.715 1205.75,865.89 1208.95,848.265 1212.15,830.838 1215.35,813.611 1218.55,796.583 1221.75,779.754 1224.94,763.124 1228.14,746.693 1231.34,730.462 \n",
       "  1234.54,714.429 1237.74,698.596 1240.94,682.962 1244.14,667.527 1247.33,652.291 1250.53,637.255 1253.73,622.417 1256.93,607.779 1260.13,593.34 1263.33,579.1 \n",
       "  1266.53,565.059 1269.72,551.218 1272.92,537.575 1276.12,524.132 1279.32,510.888 1282.52,497.843 1285.72,484.997 1288.92,472.351 1292.11,459.903 1295.31,447.655 \n",
       "  1298.51,435.606 1301.71,423.756 1304.91,412.105 1308.11,400.653 1311.31,389.401 1314.5,378.347 1317.7,367.493 1320.9,356.838 1324.1,346.382 1327.3,336.125 \n",
       "  1330.5,326.068 1333.7,316.209 1336.89,306.55 1340.09,297.09 1343.29,287.829 1346.49,278.767 1349.69,269.905 1352.89,261.241 1356.09,252.777 1359.29,244.512 \n",
       "  1362.48,236.446 1365.68,228.579 1368.88,220.911 1372.08,213.443 1375.28,206.174 1378.48,199.103 1381.68,192.232 1384.87,185.561 1388.07,179.088 1391.27,172.814 \n",
       "  1394.47,166.74 1397.67,160.865 1400.87,155.189 1404.07,149.712 1407.26,144.434 1410.46,139.355 1413.66,134.476 1416.86,129.796 1420.06,125.315 1423.26,121.033 \n",
       "  1426.46,116.95 1429.65,113.066 1432.85,109.382 1436.05,105.897 1439.25,102.611 1442.45,99.5235 1445.65,96.6357 1448.85,93.9471 1452.04,91.4576 1455.24,89.1672 \n",
       "  1458.44,87.076 1461.64,85.184 1464.84,83.4912 1468.04,81.9975 1471.24,80.7029 1474.43,79.6076 1477.63,78.7113 1480.83,78.0143 1484.03,77.5164 1487.23,77.2176 \n",
       "  1490.43,77.1181 1493.63,77.2176 1496.82,77.5164 1500.02,78.0143 1503.22,78.7113 1506.42,79.6076 1509.62,80.7029 1512.82,81.9975 1516.02,83.4912 1519.21,85.184 \n",
       "  1522.41,87.076 1525.61,89.1672 1528.81,91.4576 1532.01,93.9471 1535.21,96.6357 1538.41,99.5235 1541.6,102.611 1544.8,105.897 1548,109.382 1551.2,113.066 \n",
       "  1554.4,116.95 1557.6,121.033 1560.8,125.315 1563.99,129.796 1567.19,134.476 1570.39,139.355 1573.59,144.434 1576.79,149.712 1579.99,155.189 1583.19,160.865 \n",
       "  1586.38,166.74 1589.58,172.814 1592.78,179.088 1595.98,185.561 1599.18,192.232 1602.38,199.103 1605.58,206.174 1608.77,213.443 1611.97,220.911 1615.17,228.579 \n",
       "  1618.37,236.446 1621.57,244.512 1624.77,252.777 1627.97,261.241 1631.16,269.905 1634.36,278.767 1637.56,287.829 1640.76,297.09 1643.96,306.55 1647.16,316.209 \n",
       "  1650.36,326.068 1653.55,336.125 1656.75,346.382 1659.95,356.838 1663.15,367.493 1666.35,378.347 1669.55,389.401 1672.75,400.653 1675.94,412.105 1679.14,423.756 \n",
       "  1682.34,435.606 1685.54,447.655 1688.74,459.903 1691.94,472.351 1695.14,484.997 1698.33,497.843 1701.53,510.888 1704.73,524.132 1707.93,537.575 1711.13,551.218 \n",
       "  1714.33,565.059 1717.53,579.1 1720.72,593.34 1723.92,607.779 1727.12,622.417 1730.32,637.255 1733.52,652.291 1736.72,667.527 1739.92,682.962 1743.11,698.596 \n",
       "  1746.31,714.429 1749.51,730.462 1752.71,746.693 1755.91,763.124 1759.11,779.754 1762.31,796.583 1765.5,813.611 1768.7,830.838 1771.9,848.265 1775.1,865.89 \n",
       "  1778.3,883.715 1781.5,901.739 1784.7,919.962 1787.89,938.384 1791.09,957.006 1794.29,975.826 1797.49,994.846 1800.69,1014.07 1803.89,1033.48 1807.09,1053.1 \n",
       "  1810.29,1072.92 \n",
       "  \"/>\n",
       "<polyline clip-path=\"url(#clip333)\" style=\"stroke:#e26f46; stroke-linecap:butt; stroke-linejoin:round; stroke-width:4; stroke-opacity:1; fill:none\" points=\"\n",
       "  1170.57,77.1181 1810.29,77.1181 \n",
       "  \"/>\n",
       "<path clip-path=\"url(#clip330)\" d=\"\n",
       "M2074.66 1102.79 L2752.76 1102.79 L2752.76 47.2441 L2074.66 47.2441  Z\n",
       "  \" fill=\"#ffffff\" fill-rule=\"evenodd\" fill-opacity=\"1\"/>\n",
       "<defs>\n",
       "  <clipPath id=\"clip334\">\n",
       "    <rect x=\"2074\" y=\"47\" width=\"679\" height=\"1057\"/>\n",
       "  </clipPath>\n",
       "</defs>\n",
       "<polyline clip-path=\"url(#clip334)\" style=\"stroke:#000000; stroke-linecap:butt; stroke-linejoin:round; stroke-width:2; stroke-opacity:0.1; fill:none\" points=\"\n",
       "  2093.85,1102.79 2093.85,47.2441 \n",
       "  \"/>\n",
       "<polyline clip-path=\"url(#clip334)\" style=\"stroke:#000000; stroke-linecap:butt; stroke-linejoin:round; stroke-width:2; stroke-opacity:0.1; fill:none\" points=\"\n",
       "  2253.78,1102.79 2253.78,47.2441 \n",
       "  \"/>\n",
       "<polyline clip-path=\"url(#clip334)\" style=\"stroke:#000000; stroke-linecap:butt; stroke-linejoin:round; stroke-width:2; stroke-opacity:0.1; fill:none\" points=\"\n",
       "  2413.71,1102.79 2413.71,47.2441 \n",
       "  \"/>\n",
       "<polyline clip-path=\"url(#clip334)\" style=\"stroke:#000000; stroke-linecap:butt; stroke-linejoin:round; stroke-width:2; stroke-opacity:0.1; fill:none\" points=\"\n",
       "  2573.64,1102.79 2573.64,47.2441 \n",
       "  \"/>\n",
       "<polyline clip-path=\"url(#clip334)\" style=\"stroke:#000000; stroke-linecap:butt; stroke-linejoin:round; stroke-width:2; stroke-opacity:0.1; fill:none\" points=\"\n",
       "  2733.56,1102.79 2733.56,47.2441 \n",
       "  \"/>\n",
       "<polyline clip-path=\"url(#clip330)\" style=\"stroke:#000000; stroke-linecap:butt; stroke-linejoin:round; stroke-width:4; stroke-opacity:1; fill:none\" points=\"\n",
       "  2074.66,1102.79 2752.76,1102.79 \n",
       "  \"/>\n",
       "<polyline clip-path=\"url(#clip330)\" style=\"stroke:#000000; stroke-linecap:butt; stroke-linejoin:round; stroke-width:4; stroke-opacity:1; fill:none\" points=\"\n",
       "  2093.85,1102.79 2093.85,1083.89 \n",
       "  \"/>\n",
       "<polyline clip-path=\"url(#clip330)\" style=\"stroke:#000000; stroke-linecap:butt; stroke-linejoin:round; stroke-width:4; stroke-opacity:1; fill:none\" points=\"\n",
       "  2253.78,1102.79 2253.78,1083.89 \n",
       "  \"/>\n",
       "<polyline clip-path=\"url(#clip330)\" style=\"stroke:#000000; stroke-linecap:butt; stroke-linejoin:round; stroke-width:4; stroke-opacity:1; fill:none\" points=\"\n",
       "  2413.71,1102.79 2413.71,1083.89 \n",
       "  \"/>\n",
       "<polyline clip-path=\"url(#clip330)\" style=\"stroke:#000000; stroke-linecap:butt; stroke-linejoin:round; stroke-width:4; stroke-opacity:1; fill:none\" points=\"\n",
       "  2573.64,1102.79 2573.64,1083.89 \n",
       "  \"/>\n",
       "<polyline clip-path=\"url(#clip330)\" style=\"stroke:#000000; stroke-linecap:butt; stroke-linejoin:round; stroke-width:4; stroke-opacity:1; fill:none\" points=\"\n",
       "  2733.56,1102.79 2733.56,1083.89 \n",
       "  \"/>\n",
       "<path clip-path=\"url(#clip330)\" d=\"M2040.38 1151.56 L2070.05 1151.56 L2070.05 1155.5 L2040.38 1155.5 L2040.38 1151.56 Z\" fill=\"#000000\" fill-rule=\"evenodd\" fill-opacity=\"1\" /><path clip-path=\"url(#clip330)\" d=\"M2080.95 1164.46 L2088.59 1164.46 L2088.59 1138.09 L2080.28 1139.76 L2080.28 1135.5 L2088.55 1133.83 L2093.22 1133.83 L2093.22 1164.46 L2100.86 1164.46 L2100.86 1168.39 L2080.95 1168.39 L2080.95 1164.46 Z\" fill=\"#000000\" fill-rule=\"evenodd\" fill-opacity=\"1\" /><path clip-path=\"url(#clip330)\" d=\"M2110.31 1162.51 L2115.19 1162.51 L2115.19 1168.39 L2110.31 1168.39 L2110.31 1162.51 Z\" fill=\"#000000\" fill-rule=\"evenodd\" fill-opacity=\"1\" /><path clip-path=\"url(#clip330)\" d=\"M2135.38 1136.91 Q2131.76 1136.91 2129.94 1140.47 Q2128.13 1144.02 2128.13 1151.15 Q2128.13 1158.25 2129.94 1161.82 Q2131.76 1165.36 2135.38 1165.36 Q2139.01 1165.36 2140.82 1161.82 Q2142.64 1158.25 2142.64 1151.15 Q2142.64 1144.02 2140.82 1140.47 Q2139.01 1136.91 2135.38 1136.91 M2135.38 1133.21 Q2141.19 1133.21 2144.24 1137.81 Q2147.32 1142.4 2147.32 1151.15 Q2147.32 1159.87 2144.24 1164.48 Q2141.19 1169.06 2135.38 1169.06 Q2129.57 1169.06 2126.49 1164.48 Q2123.43 1159.87 2123.43 1151.15 Q2123.43 1142.4 2126.49 1137.81 Q2129.57 1133.21 2135.38 1133.21 Z\" fill=\"#000000\" fill-rule=\"evenodd\" fill-opacity=\"1\" /><path clip-path=\"url(#clip330)\" d=\"M2200.8 1151.56 L2230.48 1151.56 L2230.48 1155.5 L2200.8 1155.5 L2200.8 1151.56 Z\" fill=\"#000000\" fill-rule=\"evenodd\" fill-opacity=\"1\" /><path clip-path=\"url(#clip330)\" d=\"M2250.57 1136.91 Q2246.96 1136.91 2245.13 1140.47 Q2243.33 1144.02 2243.33 1151.15 Q2243.33 1158.25 2245.13 1161.82 Q2246.96 1165.36 2250.57 1165.36 Q2254.21 1165.36 2256.01 1161.82 Q2257.84 1158.25 2257.84 1151.15 Q2257.84 1144.02 2256.01 1140.47 Q2254.21 1136.91 2250.57 1136.91 M2250.57 1133.21 Q2256.38 1133.21 2259.44 1137.81 Q2262.52 1142.4 2262.52 1151.15 Q2262.52 1159.87 2259.44 1164.48 Q2256.38 1169.06 2250.57 1169.06 Q2244.76 1169.06 2241.68 1164.48 Q2238.63 1159.87 2238.63 1151.15 Q2238.63 1142.4 2241.68 1137.81 Q2244.76 1133.21 2250.57 1133.21 Z\" fill=\"#000000\" fill-rule=\"evenodd\" fill-opacity=\"1\" /><path clip-path=\"url(#clip330)\" d=\"M2270.73 1162.51 L2275.62 1162.51 L2275.62 1168.39 L2270.73 1168.39 L2270.73 1162.51 Z\" fill=\"#000000\" fill-rule=\"evenodd\" fill-opacity=\"1\" /><path clip-path=\"url(#clip330)\" d=\"M2285.85 1133.83 L2304.21 1133.83 L2304.21 1137.77 L2290.13 1137.77 L2290.13 1146.24 Q2291.15 1145.89 2292.17 1145.73 Q2293.19 1145.54 2294.21 1145.54 Q2299.99 1145.54 2303.37 1148.71 Q2306.75 1151.89 2306.75 1157.3 Q2306.75 1162.88 2303.28 1165.98 Q2299.81 1169.06 2293.49 1169.06 Q2291.31 1169.06 2289.04 1168.69 Q2286.8 1168.32 2284.39 1167.58 L2284.39 1162.88 Q2286.47 1164.02 2288.7 1164.57 Q2290.92 1165.13 2293.4 1165.13 Q2297.4 1165.13 2299.74 1163.02 Q2302.08 1160.91 2302.08 1157.3 Q2302.08 1153.69 2299.74 1151.59 Q2297.4 1149.48 2293.4 1149.48 Q2291.52 1149.48 2289.65 1149.9 Q2287.79 1150.31 2285.85 1151.19 L2285.85 1133.83 Z\" fill=\"#000000\" fill-rule=\"evenodd\" fill-opacity=\"1\" /><path clip-path=\"url(#clip330)\" d=\"M2391.09 1136.91 Q2387.48 1136.91 2385.65 1140.47 Q2383.85 1144.02 2383.85 1151.15 Q2383.85 1158.25 2385.65 1161.82 Q2387.48 1165.36 2391.09 1165.36 Q2394.72 1165.36 2396.53 1161.82 Q2398.36 1158.25 2398.36 1151.15 Q2398.36 1144.02 2396.53 1140.47 Q2394.72 1136.91 2391.09 1136.91 M2391.09 1133.21 Q2396.9 1133.21 2399.96 1137.81 Q2403.04 1142.4 2403.04 1151.15 Q2403.04 1159.87 2399.96 1164.48 Q2396.9 1169.06 2391.09 1169.06 Q2385.28 1169.06 2382.2 1164.48 Q2379.15 1159.87 2379.15 1151.15 Q2379.15 1142.4 2382.2 1137.81 Q2385.28 1133.21 2391.09 1133.21 Z\" fill=\"#000000\" fill-rule=\"evenodd\" fill-opacity=\"1\" /><path clip-path=\"url(#clip330)\" d=\"M2411.25 1162.51 L2416.14 1162.51 L2416.14 1168.39 L2411.25 1168.39 L2411.25 1162.51 Z\" fill=\"#000000\" fill-rule=\"evenodd\" fill-opacity=\"1\" /><path clip-path=\"url(#clip330)\" d=\"M2436.32 1136.91 Q2432.71 1136.91 2430.88 1140.47 Q2429.08 1144.02 2429.08 1151.15 Q2429.08 1158.25 2430.88 1161.82 Q2432.71 1165.36 2436.32 1165.36 Q2439.96 1165.36 2441.76 1161.82 Q2443.59 1158.25 2443.59 1151.15 Q2443.59 1144.02 2441.76 1140.47 Q2439.96 1136.91 2436.32 1136.91 M2436.32 1133.21 Q2442.13 1133.21 2445.19 1137.81 Q2448.27 1142.4 2448.27 1151.15 Q2448.27 1159.87 2445.19 1164.48 Q2442.13 1169.06 2436.32 1169.06 Q2430.51 1169.06 2427.43 1164.48 Q2424.38 1159.87 2424.38 1151.15 Q2424.38 1142.4 2427.43 1137.81 Q2430.51 1133.21 2436.32 1133.21 Z\" fill=\"#000000\" fill-rule=\"evenodd\" fill-opacity=\"1\" /><path clip-path=\"url(#clip330)\" d=\"M2551.52 1136.91 Q2547.91 1136.91 2546.08 1140.47 Q2544.27 1144.02 2544.27 1151.15 Q2544.27 1158.25 2546.08 1161.82 Q2547.91 1165.36 2551.52 1165.36 Q2555.15 1165.36 2556.96 1161.82 Q2558.79 1158.25 2558.79 1151.15 Q2558.79 1144.02 2556.96 1140.47 Q2555.15 1136.91 2551.52 1136.91 M2551.52 1133.21 Q2557.33 1133.21 2560.38 1137.81 Q2563.46 1142.4 2563.46 1151.15 Q2563.46 1159.87 2560.38 1164.48 Q2557.33 1169.06 2551.52 1169.06 Q2545.71 1169.06 2542.63 1164.48 Q2539.57 1159.87 2539.57 1151.15 Q2539.57 1142.4 2542.63 1137.81 Q2545.71 1133.21 2551.52 1133.21 Z\" fill=\"#000000\" fill-rule=\"evenodd\" fill-opacity=\"1\" /><path clip-path=\"url(#clip330)\" d=\"M2571.68 1162.51 L2576.56 1162.51 L2576.56 1168.39 L2571.68 1168.39 L2571.68 1162.51 Z\" fill=\"#000000\" fill-rule=\"evenodd\" fill-opacity=\"1\" /><path clip-path=\"url(#clip330)\" d=\"M2586.79 1133.83 L2605.15 1133.83 L2605.15 1137.77 L2591.08 1137.77 L2591.08 1146.24 Q2592.1 1145.89 2593.11 1145.73 Q2594.13 1145.54 2595.15 1145.54 Q2600.94 1145.54 2604.32 1148.71 Q2607.7 1151.89 2607.7 1157.3 Q2607.7 1162.88 2604.23 1165.98 Q2600.75 1169.06 2594.43 1169.06 Q2592.26 1169.06 2589.99 1168.69 Q2587.74 1168.32 2585.34 1167.58 L2585.34 1162.88 Q2587.42 1164.02 2589.64 1164.57 Q2591.86 1165.13 2594.34 1165.13 Q2598.35 1165.13 2600.68 1163.02 Q2603.02 1160.91 2603.02 1157.3 Q2603.02 1153.69 2600.68 1151.59 Q2598.35 1149.48 2594.34 1149.48 Q2592.47 1149.48 2590.59 1149.9 Q2588.74 1150.31 2586.79 1151.19 L2586.79 1133.83 Z\" fill=\"#000000\" fill-rule=\"evenodd\" fill-opacity=\"1\" /><path clip-path=\"url(#clip330)\" d=\"M2700.72 1164.46 L2708.36 1164.46 L2708.36 1138.09 L2700.05 1139.76 L2700.05 1135.5 L2708.31 1133.83 L2712.99 1133.83 L2712.99 1164.46 L2720.62 1164.46 L2720.62 1168.39 L2700.72 1168.39 L2700.72 1164.46 Z\" fill=\"#000000\" fill-rule=\"evenodd\" fill-opacity=\"1\" /><path clip-path=\"url(#clip330)\" d=\"M2730.07 1162.51 L2734.95 1162.51 L2734.95 1168.39 L2730.07 1168.39 L2730.07 1162.51 Z\" fill=\"#000000\" fill-rule=\"evenodd\" fill-opacity=\"1\" /><path clip-path=\"url(#clip330)\" d=\"M2755.14 1136.91 Q2751.53 1136.91 2749.7 1140.47 Q2747.89 1144.02 2747.89 1151.15 Q2747.89 1158.25 2749.7 1161.82 Q2751.53 1165.36 2755.14 1165.36 Q2758.77 1165.36 2760.58 1161.82 Q2762.41 1158.25 2762.41 1151.15 Q2762.41 1144.02 2760.58 1140.47 Q2758.77 1136.91 2755.14 1136.91 M2755.14 1133.21 Q2760.95 1133.21 2764 1137.81 Q2767.08 1142.4 2767.08 1151.15 Q2767.08 1159.87 2764 1164.48 Q2760.95 1169.06 2755.14 1169.06 Q2749.33 1169.06 2746.25 1164.48 Q2743.19 1159.87 2743.19 1151.15 Q2743.19 1142.4 2746.25 1137.81 Q2749.33 1133.21 2755.14 1133.21 Z\" fill=\"#000000\" fill-rule=\"evenodd\" fill-opacity=\"1\" /><polyline clip-path=\"url(#clip334)\" style=\"stroke:#000000; stroke-linecap:butt; stroke-linejoin:round; stroke-width:2; stroke-opacity:0.1; fill:none\" points=\"\n",
       "  2074.66,1072.92 2752.76,1072.92 \n",
       "  \"/>\n",
       "<polyline clip-path=\"url(#clip334)\" style=\"stroke:#000000; stroke-linecap:butt; stroke-linejoin:round; stroke-width:2; stroke-opacity:0.1; fill:none\" points=\"\n",
       "  2074.66,754.261 2752.76,754.261 \n",
       "  \"/>\n",
       "<polyline clip-path=\"url(#clip334)\" style=\"stroke:#000000; stroke-linecap:butt; stroke-linejoin:round; stroke-width:2; stroke-opacity:0.1; fill:none\" points=\"\n",
       "  2074.66,435.606 2752.76,435.606 \n",
       "  \"/>\n",
       "<polyline clip-path=\"url(#clip334)\" style=\"stroke:#000000; stroke-linecap:butt; stroke-linejoin:round; stroke-width:2; stroke-opacity:0.1; fill:none\" points=\"\n",
       "  2074.66,116.95 2752.76,116.95 \n",
       "  \"/>\n",
       "<polyline clip-path=\"url(#clip330)\" style=\"stroke:#000000; stroke-linecap:butt; stroke-linejoin:round; stroke-width:4; stroke-opacity:1; fill:none\" points=\"\n",
       "  2074.66,1102.79 2074.66,47.2441 \n",
       "  \"/>\n",
       "<polyline clip-path=\"url(#clip330)\" style=\"stroke:#000000; stroke-linecap:butt; stroke-linejoin:round; stroke-width:4; stroke-opacity:1; fill:none\" points=\"\n",
       "  2074.66,1072.92 2093.55,1072.92 \n",
       "  \"/>\n",
       "<polyline clip-path=\"url(#clip330)\" style=\"stroke:#000000; stroke-linecap:butt; stroke-linejoin:round; stroke-width:4; stroke-opacity:1; fill:none\" points=\"\n",
       "  2074.66,754.261 2093.55,754.261 \n",
       "  \"/>\n",
       "<polyline clip-path=\"url(#clip330)\" style=\"stroke:#000000; stroke-linecap:butt; stroke-linejoin:round; stroke-width:4; stroke-opacity:1; fill:none\" points=\"\n",
       "  2074.66,435.606 2093.55,435.606 \n",
       "  \"/>\n",
       "<polyline clip-path=\"url(#clip330)\" style=\"stroke:#000000; stroke-linecap:butt; stroke-linejoin:round; stroke-width:4; stroke-opacity:1; fill:none\" points=\"\n",
       "  2074.66,116.95 2093.55,116.95 \n",
       "  \"/>\n",
       "<path clip-path=\"url(#clip330)\" d=\"M1926.71 1073.37 L1956.38 1073.37 L1956.38 1077.3 L1926.71 1077.3 L1926.71 1073.37 Z\" fill=\"#000000\" fill-rule=\"evenodd\" fill-opacity=\"1\" /><path clip-path=\"url(#clip330)\" d=\"M1967.29 1086.26 L1974.93 1086.26 L1974.93 1059.9 L1966.62 1061.56 L1966.62 1057.3 L1974.88 1055.64 L1979.56 1055.64 L1979.56 1086.26 L1987.19 1086.26 L1987.19 1090.2 L1967.29 1090.2 L1967.29 1086.26 Z\" fill=\"#000000\" fill-rule=\"evenodd\" fill-opacity=\"1\" /><path clip-path=\"url(#clip330)\" d=\"M1996.64 1084.32 L2001.52 1084.32 L2001.52 1090.2 L1996.64 1090.2 L1996.64 1084.32 Z\" fill=\"#000000\" fill-rule=\"evenodd\" fill-opacity=\"1\" /><path clip-path=\"url(#clip330)\" d=\"M2011.75 1055.64 L2030.11 1055.64 L2030.11 1059.57 L2016.04 1059.57 L2016.04 1068.04 Q2017.05 1067.7 2018.07 1067.53 Q2019.09 1067.35 2020.11 1067.35 Q2025.9 1067.35 2029.28 1070.52 Q2032.66 1073.69 2032.66 1079.11 Q2032.66 1084.69 2029.18 1087.79 Q2025.71 1090.87 2019.39 1090.87 Q2017.22 1090.87 2014.95 1090.5 Q2012.7 1090.13 2010.3 1089.39 L2010.3 1084.69 Q2012.38 1085.82 2014.6 1086.38 Q2016.82 1086.93 2019.3 1086.93 Q2023.3 1086.93 2025.64 1084.83 Q2027.98 1082.72 2027.98 1079.11 Q2027.98 1075.5 2025.64 1073.39 Q2023.3 1071.28 2019.3 1071.28 Q2017.43 1071.28 2015.55 1071.7 Q2013.7 1072.12 2011.75 1073 L2011.75 1055.64 Z\" fill=\"#000000\" fill-rule=\"evenodd\" fill-opacity=\"1\" /><path clip-path=\"url(#clip330)\" d=\"M1925.71 754.713 L1955.39 754.713 L1955.39 758.648 L1925.71 758.648 L1925.71 754.713 Z\" fill=\"#000000\" fill-rule=\"evenodd\" fill-opacity=\"1\" /><path clip-path=\"url(#clip330)\" d=\"M1966.29 767.606 L1973.93 767.606 L1973.93 741.24 L1965.62 742.907 L1965.62 738.648 L1973.88 736.981 L1978.56 736.981 L1978.56 767.606 L1986.2 767.606 L1986.2 771.541 L1966.29 771.541 L1966.29 767.606 Z\" fill=\"#000000\" fill-rule=\"evenodd\" fill-opacity=\"1\" /><path clip-path=\"url(#clip330)\" d=\"M1995.64 765.662 L2000.53 765.662 L2000.53 771.541 L1995.64 771.541 L1995.64 765.662 Z\" fill=\"#000000\" fill-rule=\"evenodd\" fill-opacity=\"1\" /><path clip-path=\"url(#clip330)\" d=\"M2020.71 740.06 Q2017.1 740.06 2015.27 743.625 Q2013.47 747.166 2013.47 754.296 Q2013.47 761.402 2015.27 764.967 Q2017.1 768.509 2020.71 768.509 Q2024.35 768.509 2026.15 764.967 Q2027.98 761.402 2027.98 754.296 Q2027.98 747.166 2026.15 743.625 Q2024.35 740.06 2020.71 740.06 M2020.71 736.356 Q2026.52 736.356 2029.58 740.963 Q2032.66 745.546 2032.66 754.296 Q2032.66 763.023 2029.58 767.629 Q2026.52 772.212 2020.71 772.212 Q2014.9 772.212 2011.82 767.629 Q2008.77 763.023 2008.77 754.296 Q2008.77 745.546 2011.82 740.963 Q2014.9 736.356 2020.71 736.356 Z\" fill=\"#000000\" fill-rule=\"evenodd\" fill-opacity=\"1\" /><path clip-path=\"url(#clip330)\" d=\"M1926.71 436.057 L1956.38 436.057 L1956.38 439.992 L1926.71 439.992 L1926.71 436.057 Z\" fill=\"#000000\" fill-rule=\"evenodd\" fill-opacity=\"1\" /><path clip-path=\"url(#clip330)\" d=\"M1976.48 421.404 Q1972.87 421.404 1971.04 424.969 Q1969.23 428.511 1969.23 435.64 Q1969.23 442.747 1971.04 446.312 Q1972.87 449.853 1976.48 449.853 Q1980.11 449.853 1981.92 446.312 Q1983.74 442.747 1983.74 435.64 Q1983.74 428.511 1981.92 424.969 Q1980.11 421.404 1976.48 421.404 M1976.48 417.701 Q1982.29 417.701 1985.34 422.307 Q1988.42 426.89 1988.42 435.64 Q1988.42 444.367 1985.34 448.974 Q1982.29 453.557 1976.48 453.557 Q1970.67 453.557 1967.59 448.974 Q1964.53 444.367 1964.53 435.64 Q1964.53 426.89 1967.59 422.307 Q1970.67 417.701 1976.48 417.701 Z\" fill=\"#000000\" fill-rule=\"evenodd\" fill-opacity=\"1\" /><path clip-path=\"url(#clip330)\" d=\"M1996.64 447.006 L2001.52 447.006 L2001.52 452.886 L1996.64 452.886 L1996.64 447.006 Z\" fill=\"#000000\" fill-rule=\"evenodd\" fill-opacity=\"1\" /><path clip-path=\"url(#clip330)\" d=\"M2011.75 418.326 L2030.11 418.326 L2030.11 422.261 L2016.04 422.261 L2016.04 430.733 Q2017.05 430.386 2018.07 430.224 Q2019.09 430.038 2020.11 430.038 Q2025.9 430.038 2029.28 433.21 Q2032.66 436.381 2032.66 441.798 Q2032.66 447.376 2029.18 450.478 Q2025.71 453.557 2019.39 453.557 Q2017.22 453.557 2014.95 453.187 Q2012.7 452.816 2010.3 452.075 L2010.3 447.376 Q2012.38 448.511 2014.6 449.066 Q2016.82 449.622 2019.3 449.622 Q2023.3 449.622 2025.64 447.515 Q2027.98 445.409 2027.98 441.798 Q2027.98 438.187 2025.64 436.08 Q2023.3 433.974 2019.3 433.974 Q2017.43 433.974 2015.55 434.39 Q2013.7 434.807 2011.75 435.687 L2011.75 418.326 Z\" fill=\"#000000\" fill-rule=\"evenodd\" fill-opacity=\"1\" /><path clip-path=\"url(#clip330)\" d=\"M1975.48 102.749 Q1971.87 102.749 1970.04 106.313 Q1968.24 109.855 1968.24 116.985 Q1968.24 124.091 1970.04 127.656 Q1971.87 131.198 1975.48 131.198 Q1979.12 131.198 1980.92 127.656 Q1982.75 124.091 1982.75 116.985 Q1982.75 109.855 1980.92 106.313 Q1979.12 102.749 1975.48 102.749 M1975.48 99.045 Q1981.29 99.045 1984.35 103.651 Q1987.43 108.235 1987.43 116.985 Q1987.43 125.712 1984.35 130.318 Q1981.29 134.901 1975.48 134.901 Q1969.67 134.901 1966.59 130.318 Q1963.54 125.712 1963.54 116.985 Q1963.54 108.235 1966.59 103.651 Q1969.67 99.045 1975.48 99.045 Z\" fill=\"#000000\" fill-rule=\"evenodd\" fill-opacity=\"1\" /><path clip-path=\"url(#clip330)\" d=\"M1995.64 128.35 L2000.53 128.35 L2000.53 134.23 L1995.64 134.23 L1995.64 128.35 Z\" fill=\"#000000\" fill-rule=\"evenodd\" fill-opacity=\"1\" /><path clip-path=\"url(#clip330)\" d=\"M2020.71 102.749 Q2017.1 102.749 2015.27 106.313 Q2013.47 109.855 2013.47 116.985 Q2013.47 124.091 2015.27 127.656 Q2017.1 131.198 2020.71 131.198 Q2024.35 131.198 2026.15 127.656 Q2027.98 124.091 2027.98 116.985 Q2027.98 109.855 2026.15 106.313 Q2024.35 102.749 2020.71 102.749 M2020.71 99.045 Q2026.52 99.045 2029.58 103.651 Q2032.66 108.235 2032.66 116.985 Q2032.66 125.712 2029.58 130.318 Q2026.52 134.901 2020.71 134.901 Q2014.9 134.901 2011.82 130.318 Q2008.77 125.712 2008.77 116.985 Q2008.77 108.235 2011.82 103.651 Q2014.9 99.045 2020.71 99.045 Z\" fill=\"#000000\" fill-rule=\"evenodd\" fill-opacity=\"1\" /><polyline clip-path=\"url(#clip334)\" style=\"stroke:#009af9; stroke-linecap:butt; stroke-linejoin:round; stroke-width:4; stroke-opacity:1; fill:none\" points=\"\n",
       "  2093.85,435.606 2097.05,426.11 2100.25,416.741 2103.44,407.5 2106.64,398.387 2109.84,389.401 2113.04,380.542 2116.24,371.811 2119.44,363.207 2122.64,354.731 \n",
       "  2125.83,346.382 2129.03,338.161 2132.23,330.067 2135.43,322.1 2138.63,314.262 2141.83,306.55 2145.03,298.966 2148.22,291.51 2151.42,284.18 2154.62,276.979 \n",
       "  2157.82,269.905 2161.02,262.958 2164.22,256.139 2167.42,249.447 2170.61,242.883 2173.81,236.446 2177.01,230.136 2180.21,223.955 2183.41,217.9 2186.61,211.973 \n",
       "  2189.81,206.174 2193,200.501 2196.2,194.957 2199.4,189.54 2202.6,184.25 2205.8,179.088 2209,174.053 2212.2,169.146 2215.39,164.366 2218.59,159.714 \n",
       "  2221.79,155.189 2224.99,150.791 2228.19,146.521 2231.39,142.379 2234.59,138.364 2237.78,134.476 2240.98,130.716 2244.18,127.083 2247.38,123.578 2250.58,120.2 \n",
       "  2253.78,116.95 2256.98,113.827 2260.17,110.832 2263.37,107.964 2266.57,105.223 2269.77,102.611 2272.97,100.125 2276.17,97.7669 2279.37,95.5363 2282.56,93.4332 \n",
       "  2285.76,91.4576 2288.96,89.6094 2292.16,87.8886 2295.36,86.2953 2298.56,84.8295 2301.76,83.4912 2304.95,82.2803 2308.15,81.1968 2311.35,80.2409 2314.55,79.4124 \n",
       "  2317.75,78.7113 2320.95,78.1378 2324.15,77.6916 2327.34,77.373 2330.54,77.1818 2333.74,77.1181 2336.94,77.1818 2340.14,77.373 2343.34,77.6916 2346.54,78.1378 \n",
       "  2349.73,78.7113 2352.93,79.4124 2356.13,80.2409 2359.33,81.1968 2362.53,82.2803 2365.73,83.4912 2368.93,84.8295 2372.12,86.2953 2375.32,87.8886 2378.52,89.6094 \n",
       "  2381.72,91.4576 2384.92,93.4332 2388.12,95.5363 2391.32,97.7669 2394.51,100.125 2397.71,102.611 2400.91,105.223 2404.11,107.964 2407.31,110.832 2410.51,113.827 \n",
       "  2413.71,116.95 2416.9,120.2 2420.1,123.578 2423.3,127.083 2426.5,130.716 2429.7,134.476 2432.9,138.364 2436.1,142.379 2439.29,146.521 2442.49,150.791 \n",
       "  2445.69,155.189 2448.89,159.714 2452.09,164.366 2455.29,169.146 2458.49,174.053 2461.68,179.088 2464.88,184.25 2468.08,189.54 2471.28,194.957 2474.48,200.501 \n",
       "  2477.68,206.174 2480.88,211.973 2484.08,217.9 2487.27,223.955 2490.47,230.136 2493.67,236.446 2496.87,242.883 2500.07,249.447 2503.27,256.139 2506.47,262.958 \n",
       "  2509.66,269.905 2512.86,276.979 2516.06,284.18 2519.26,291.51 2522.46,298.966 2525.66,306.55 2528.86,314.262 2532.05,322.1 2535.25,330.067 2538.45,338.161 \n",
       "  2541.65,346.382 2544.85,354.731 2548.05,363.207 2551.25,371.811 2554.44,380.542 2557.64,389.401 2560.84,398.387 2564.04,407.5 2567.24,416.741 2570.44,426.11 \n",
       "  2573.64,435.606 2576.83,445.229 2580.03,454.98 2583.23,464.858 2586.43,474.864 2589.63,484.997 2592.83,495.258 2596.03,505.646 2599.22,516.162 2602.42,526.805 \n",
       "  2605.62,537.575 2608.82,548.473 2612.02,559.499 2615.22,570.652 2618.42,581.932 2621.61,593.34 2624.81,604.875 2628.01,616.538 2631.21,628.328 2634.41,640.246 \n",
       "  2637.61,652.291 2640.81,664.464 2644,676.764 2647.2,689.192 2650.4,701.747 2653.6,714.429 2656.8,727.239 2660,740.177 2663.2,753.241 2666.39,766.434 \n",
       "  2669.59,779.754 2672.79,793.201 2675.99,806.776 2679.19,820.478 2682.39,834.307 2685.59,848.265 2688.78,862.349 2691.98,876.561 2695.18,890.901 2698.38,905.368 \n",
       "  2701.58,919.962 2704.78,934.684 2707.98,949.533 2711.17,964.51 2714.37,979.614 2717.57,994.846 2720.77,1010.21 2723.97,1025.69 2727.17,1041.31 2730.37,1057.05 \n",
       "  2733.56,1072.92 \n",
       "  \"/>\n",
       "<polyline clip-path=\"url(#clip334)\" style=\"stroke:#e26f46; stroke-linecap:butt; stroke-linejoin:round; stroke-width:4; stroke-opacity:1; fill:none\" points=\"\n",
       "  2093.85,116.95 2733.56,116.95 \n",
       "  \"/>\n",
       "</svg>\n"
      ]
     },
     "execution_count": 14,
     "metadata": {},
     "output_type": "execute_result"
    }
   ],
   "source": [
    "tc(x,a)=x*(a-x)\n",
    "x = -1.0:0.01:1.0\n",
    "p1 = plot(x,tc.(x,0.5)); plot!(p1,[-1,1],[0,0],legend=false)\n",
    "p2 = plot(x,tc.(x,0)); plot!(p2,[-1,1],[0,0],legend=false)\n",
    "p3 = plot(x,tc.(x,-0.5)); plot!(p3,[-1,1],[0,0],legend=false)\n",
    "plot(p1,p2,p3,layout=(1,3),size=(700,300))"
   ]
  },
  {
   "cell_type": "markdown",
   "id": "adde4dd8",
   "metadata": {},
   "source": [
    "## Potencial de Ecuacion del Consumidor\n",
    "\n",
    "Al potencial de la logistica se le agrega ahora un término cuadratico $Px^2$ que hace que el potencial tenga siempre una barrera a la izquierda y un pozo a la derecha, solo que en la bifurcacion ambos se encuentran\n",
    "\n",
    "$V(x) = \\frac{Rx^2}{3K}\\left(x- \\frac{3K}{2}\\right) + Px^2$"
   ]
  },
  {
   "cell_type": "code",
   "execution_count": null,
   "id": "610eff78",
   "metadata": {},
   "outputs": [],
   "source": [
    "Vconsumer(x,p) = p[1]*x*x/(3*p[2])*(x-3*p[2]/2)+p[3]*x*x/2\n",
    "R = 0.2; K=2.0\n",
    "@manipulate throttle=.05 for P=0.15:0.001:0.25,x0=0:0.01:0.6,tmax=10.0:10.0:200.0\n",
    "    xmax = max(1.2*x0,0.6)\n",
    "    potential1D(Vconsumer,x0,tmax,[R,K,P];xlims=[-0.3,xmax])\n",
    "end"
   ]
  },
  {
   "cell_type": "markdown",
   "id": "788ee360",
   "metadata": {},
   "source": [
    "# Ecuacion Logistica con Harvest mas realista\n",
    "\n",
    "Otra forma de hacer depender el Harvest de la poblacion pero mas realista es usar en lugar de una funcion lineal una funcion que sature ya que la capacidad de extraccion tambien es limitada. En este modelo el harvest depende de la poblacion (o la abundancia del recurso) como $x/(1+x)$. Si bien en este caso nos apartamos de las funciones polinómicas que habiamos usado hasta ahora, esta es una de las funciones mas simples para tener una saturacion.\n",
    "\n",
    "$ \\dot{x} = Rx\\left(1-\\displaystyle\\frac{x}{K}\\right) - H\\displaystyle\\frac{x}{1+x}$ \n",
    "\n",
    "Como en el caso anterior, este sistema va a tener siempre un punto fijo en $x=0$. Puede tener otros dos como solucion de la ecuacion cuadratica:\n",
    "\n",
    "$x^2-(K-1)x+KH/R-K=0$\n",
    "\n",
    "Estos puntos fijos van a ser uno estable y otro inestable (se originan en una bifurcacion SN) pero solo van a estar en el eje positivo cuando $K>1$. Notar que como no hay problema de divergencia para $x>0$ ya no necesitamos el callback."
   ]
  },
  {
   "cell_type": "code",
   "execution_count": 35,
   "id": "47cfdc07",
   "metadata": {
    "ExecuteTime": {
     "end_time": "2022-01-27T02:10:42.356000-03:00",
     "start_time": "2022-01-27T05:10:42.279Z"
    }
   },
   "outputs": [
    {
     "data": {
      "text/plain": [
       "logharvest2 (generic function with 1 method)"
      ]
     },
     "execution_count": 35,
     "metadata": {},
     "output_type": "execute_result"
    }
   ],
   "source": [
    "# Ecuacion Logistica con harvest realista\n",
    "logharvest2(x,p,t)=p[1]*x*(1.0-x/p[2])-p[3]*x/(1+x)"
   ]
  },
  {
   "cell_type": "code",
   "execution_count": 37,
   "id": "ca51c9fd",
   "metadata": {
    "ExecuteTime": {
     "end_time": "2022-01-27T02:10:46.113000-03:00",
     "start_time": "2022-01-27T05:10:44.007Z"
    },
    "scrolled": false
   },
   "outputs": [
    {
     "data": {
      "application/vnd.webio.node+json": {
       "children": [
        {
         "children": [
          {
           "children": [
            {
             "children": [
              {
               "children": [
                {
                 "children": [
                  "R"
                 ],
                 "instanceArgs": {
                  "namespace": "html",
                  "tag": "label"
                 },
                 "nodeType": "DOM",
                 "props": {
                  "className": "interact ",
                  "style": {
                   "padding": "5px 10px 0px 10px"
                  }
                 },
                 "type": "node"
                }
               ],
               "instanceArgs": {
                "namespace": "html",
                "tag": "div"
               },
               "nodeType": "DOM",
               "props": {
                "className": "interact-flex-row-left"
               },
               "type": "node"
              },
              {
               "children": [
                {
                 "children": [],
                 "instanceArgs": {
                  "namespace": "html",
                  "tag": "input"
                 },
                 "nodeType": "DOM",
                 "props": {
                  "attributes": {
                   "data-bind": "numericValue: index, valueUpdate: 'input', event: {change: function (){this.changes(this.changes()+1)}}",
                   "orient": "horizontal",
                   "type": "range"
                  },
                  "className": "slider slider is-fullwidth",
                  "max": 51,
                  "min": 1,
                  "step": 1,
                  "style": {}
                 },
                 "type": "node"
                }
               ],
               "instanceArgs": {
                "namespace": "html",
                "tag": "div"
               },
               "nodeType": "DOM",
               "props": {
                "className": "interact-flex-row-center"
               },
               "type": "node"
              },
              {
               "children": [
                {
                 "children": [],
                 "instanceArgs": {
                  "namespace": "html",
                  "tag": "p"
                 },
                 "nodeType": "DOM",
                 "props": {
                  "attributes": {
                   "data-bind": "text: formatted_val"
                  }
                 },
                 "type": "node"
                }
               ],
               "instanceArgs": {
                "namespace": "html",
                "tag": "div"
               },
               "nodeType": "DOM",
               "props": {
                "className": "interact-flex-row-right"
               },
               "type": "node"
              }
             ],
             "instanceArgs": {
              "namespace": "html",
              "tag": "div"
             },
             "nodeType": "DOM",
             "props": {
              "className": "interact-flex-row interact-widget"
             },
             "type": "node"
            }
           ],
           "instanceArgs": {
            "handlers": {
             "changes": [
              "(function (val){return (val!=this.model[\"changes\"]()) ? (this.valueFromJulia[\"changes\"]=true, this.model[\"changes\"](val)) : undefined})"
             ],
             "index": [
              "(function (val){return (val!=this.model[\"index\"]()) ? (this.valueFromJulia[\"index\"]=true, this.model[\"index\"](val)) : undefined})"
             ]
            },
            "id": "2312858216402319939",
            "imports": {
             "data": [
              {
               "name": "knockout",
               "type": "js",
               "url": "/assetserver/2712bb0a7395d062608c2f218a74b700f6c76b99-knockout.js"
              },
              {
               "name": "knockout_punches",
               "type": "js",
               "url": "/assetserver/fb4445501a2be4ab82176667f844e40da26fa007-knockout_punches.js"
              },
              {
               "name": null,
               "type": "js",
               "url": "/assetserver/a8ea7d9192d5fa85c6fac26c72d7fece1e500138-all.js"
              },
              {
               "name": null,
               "type": "css",
               "url": "/assetserver/620a53798cfdb29a4a2142ce0588e9aadc351d94-style.css"
              },
              {
               "name": null,
               "type": "css",
               "url": "/assetserver/9f2f17f677abbfd015a7c6b0c0f09a2da809bee2-bulma_confined.min.css"
              }
             ],
             "type": "async_block"
            },
            "mount_callbacks": [
             "function () {\n    var handler = (function (ko, koPunches) {\n    ko.punches.enableAll();\n    ko.bindingHandlers.numericValue = {\n        init: function(element, valueAccessor, allBindings, data, context) {\n            var stringified = ko.observable(ko.unwrap(valueAccessor()));\n            stringified.subscribe(function(value) {\n                var val = parseFloat(value);\n                if (!isNaN(val)) {\n                    valueAccessor()(val);\n                }\n            });\n            valueAccessor().subscribe(function(value) {\n                var str = JSON.stringify(value);\n                if ((str == \"0\") && ([\"-0\", \"-0.\"].indexOf(stringified()) >= 0))\n                     return;\n                 if ([\"null\", \"\"].indexOf(str) >= 0)\n                     return;\n                stringified(str);\n            });\n            ko.applyBindingsToNode(\n                element,\n                {\n                    value: stringified,\n                    valueUpdate: allBindings.get('valueUpdate'),\n                },\n                context,\n            );\n        }\n    };\n    var json_data = {\"formatted_vals\":[\"0.0\",\"0.02\",\"0.04\",\"0.06\",\"0.08\",\"0.1\",\"0.12\",\"0.14\",\"0.16\",\"0.18\",\"0.2\",\"0.22\",\"0.24\",\"0.26\",\"0.28\",\"0.3\",\"0.32\",\"0.34\",\"0.36\",\"0.38\",\"0.4\",\"0.42\",\"0.44\",\"0.46\",\"0.48\",\"0.5\",\"0.52\",\"0.54\",\"0.56\",\"0.58\",\"0.6\",\"0.62\",\"0.64\",\"0.66\",\"0.68\",\"0.7\",\"0.72\",\"0.74\",\"0.76\",\"0.78\",\"0.8\",\"0.82\",\"0.84\",\"0.86\",\"0.88\",\"0.9\",\"0.92\",\"0.94\",\"0.96\",\"0.98\",\"1.0\"],\"changes\":WebIO.getval({\"name\":\"changes\",\"scope\":\"2312858216402319939\",\"id\":\"8896598424121859195\",\"type\":\"observable\"}),\"index\":WebIO.getval({\"name\":\"index\",\"scope\":\"2312858216402319939\",\"id\":\"15545102566137119075\",\"type\":\"observable\"})};\n    var self = this;\n    function AppViewModel() {\n        for (var key in json_data) {\n            var el = json_data[key];\n            this[key] = Array.isArray(el) ? ko.observableArray(el) : ko.observable(el);\n        }\n        \n        [this[\"formatted_val\"]=ko.computed(    function(){\n        return this.formatted_vals()[parseInt(this.index())-(1)];\n    }\n,this)]\n        [this[\"changes\"].subscribe((function (val){!(this.valueFromJulia[\"changes\"]) ? (WebIO.setval({\"name\":\"changes\",\"scope\":\"2312858216402319939\",\"id\":\"8896598424121859195\",\"type\":\"observable\"},val)) : undefined; return this.valueFromJulia[\"changes\"]=false}),self),this[\"index\"].subscribe((function (val){!(this.valueFromJulia[\"index\"]) ? (WebIO.setval({\"name\":\"index\",\"scope\":\"2312858216402319939\",\"id\":\"15545102566137119075\",\"type\":\"observable\"},val)) : undefined; return this.valueFromJulia[\"index\"]=false}),self)]\n        \n    }\n    self.model = new AppViewModel();\n    self.valueFromJulia = {};\n    for (var key in json_data) {\n        self.valueFromJulia[key] = false;\n    }\n    ko.applyBindings(self.model, self.dom);\n}\n);\n    (WebIO.importBlock({\"data\":[{\"name\":\"knockout\",\"type\":\"js\",\"url\":\"/assetserver/2712bb0a7395d062608c2f218a74b700f6c76b99-knockout.js\"},{\"name\":\"knockout_punches\",\"type\":\"js\",\"url\":\"/assetserver/fb4445501a2be4ab82176667f844e40da26fa007-knockout_punches.js\"}],\"type\":\"async_block\"})).then((imports) => handler.apply(this, imports));\n}\n"
            ],
            "observables": {
             "changes": {
              "id": "8896598424121859195",
              "sync": false,
              "value": 0
             },
             "index": {
              "id": "15545102566137119075",
              "sync": true,
              "value": 26
             }
            },
            "systemjs_options": null
           },
           "nodeType": "Scope",
           "props": {},
           "type": "node"
          }
         ],
         "instanceArgs": {
          "namespace": "html",
          "tag": "div"
         },
         "nodeType": "DOM",
         "props": {
          "className": "field interact-widget"
         },
         "type": "node"
        },
        {
         "children": [
          {
           "children": [
            {
             "children": [
              {
               "children": [
                {
                 "children": [
                  "K"
                 ],
                 "instanceArgs": {
                  "namespace": "html",
                  "tag": "label"
                 },
                 "nodeType": "DOM",
                 "props": {
                  "className": "interact ",
                  "style": {
                   "padding": "5px 10px 0px 10px"
                  }
                 },
                 "type": "node"
                }
               ],
               "instanceArgs": {
                "namespace": "html",
                "tag": "div"
               },
               "nodeType": "DOM",
               "props": {
                "className": "interact-flex-row-left"
               },
               "type": "node"
              },
              {
               "children": [
                {
                 "children": [],
                 "instanceArgs": {
                  "namespace": "html",
                  "tag": "input"
                 },
                 "nodeType": "DOM",
                 "props": {
                  "attributes": {
                   "data-bind": "numericValue: index, valueUpdate: 'input', event: {change: function (){this.changes(this.changes()+1)}}",
                   "orient": "horizontal",
                   "type": "range"
                  },
                  "className": "slider slider is-fullwidth",
                  "max": 201,
                  "min": 1,
                  "step": 1,
                  "style": {}
                 },
                 "type": "node"
                }
               ],
               "instanceArgs": {
                "namespace": "html",
                "tag": "div"
               },
               "nodeType": "DOM",
               "props": {
                "className": "interact-flex-row-center"
               },
               "type": "node"
              },
              {
               "children": [
                {
                 "children": [],
                 "instanceArgs": {
                  "namespace": "html",
                  "tag": "p"
                 },
                 "nodeType": "DOM",
                 "props": {
                  "attributes": {
                   "data-bind": "text: formatted_val"
                  }
                 },
                 "type": "node"
                }
               ],
               "instanceArgs": {
                "namespace": "html",
                "tag": "div"
               },
               "nodeType": "DOM",
               "props": {
                "className": "interact-flex-row-right"
               },
               "type": "node"
              }
             ],
             "instanceArgs": {
              "namespace": "html",
              "tag": "div"
             },
             "nodeType": "DOM",
             "props": {
              "className": "interact-flex-row interact-widget"
             },
             "type": "node"
            }
           ],
           "instanceArgs": {
            "handlers": {
             "changes": [
              "(function (val){return (val!=this.model[\"changes\"]()) ? (this.valueFromJulia[\"changes\"]=true, this.model[\"changes\"](val)) : undefined})"
             ],
             "index": [
              "(function (val){return (val!=this.model[\"index\"]()) ? (this.valueFromJulia[\"index\"]=true, this.model[\"index\"](val)) : undefined})"
             ]
            },
            "id": "16445410748544615641",
            "imports": {
             "data": [
              {
               "name": "knockout",
               "type": "js",
               "url": "/assetserver/2712bb0a7395d062608c2f218a74b700f6c76b99-knockout.js"
              },
              {
               "name": "knockout_punches",
               "type": "js",
               "url": "/assetserver/fb4445501a2be4ab82176667f844e40da26fa007-knockout_punches.js"
              },
              {
               "name": null,
               "type": "js",
               "url": "/assetserver/a8ea7d9192d5fa85c6fac26c72d7fece1e500138-all.js"
              },
              {
               "name": null,
               "type": "css",
               "url": "/assetserver/620a53798cfdb29a4a2142ce0588e9aadc351d94-style.css"
              },
              {
               "name": null,
               "type": "css",
               "url": "/assetserver/9f2f17f677abbfd015a7c6b0c0f09a2da809bee2-bulma_confined.min.css"
              }
             ],
             "type": "async_block"
            },
            "mount_callbacks": [
             "function () {\n    var handler = (function (ko, koPunches) {\n    ko.punches.enableAll();\n    ko.bindingHandlers.numericValue = {\n        init: function(element, valueAccessor, allBindings, data, context) {\n            var stringified = ko.observable(ko.unwrap(valueAccessor()));\n            stringified.subscribe(function(value) {\n                var val = parseFloat(value);\n                if (!isNaN(val)) {\n                    valueAccessor()(val);\n                }\n            });\n            valueAccessor().subscribe(function(value) {\n                var str = JSON.stringify(value);\n                if ((str == \"0\") && ([\"-0\", \"-0.\"].indexOf(stringified()) >= 0))\n                     return;\n                 if ([\"null\", \"\"].indexOf(str) >= 0)\n                     return;\n                stringified(str);\n            });\n            ko.applyBindingsToNode(\n                element,\n                {\n                    value: stringified,\n                    valueUpdate: allBindings.get('valueUpdate'),\n                },\n                context,\n            );\n        }\n    };\n    var json_data = {\"formatted_vals\":[\"0.0\",\"0.01\",\"0.02\",\"0.03\",\"0.04\",\"0.05\",\"0.06\",\"0.07\",\"0.08\",\"0.09\",\"0.1\",\"0.11\",\"0.12\",\"0.13\",\"0.14\",\"0.15\",\"0.16\",\"0.17\",\"0.18\",\"0.19\",\"0.2\",\"0.21\",\"0.22\",\"0.23\",\"0.24\",\"0.25\",\"0.26\",\"0.27\",\"0.28\",\"0.29\",\"0.3\",\"0.31\",\"0.32\",\"0.33\",\"0.34\",\"0.35\",\"0.36\",\"0.37\",\"0.38\",\"0.39\",\"0.4\",\"0.41\",\"0.42\",\"0.43\",\"0.44\",\"0.45\",\"0.46\",\"0.47\",\"0.48\",\"0.49\",\"0.5\",\"0.51\",\"0.52\",\"0.53\",\"0.54\",\"0.55\",\"0.56\",\"0.57\",\"0.58\",\"0.59\",\"0.6\",\"0.61\",\"0.62\",\"0.63\",\"0.64\",\"0.65\",\"0.66\",\"0.67\",\"0.68\",\"0.69\",\"0.7\",\"0.71\",\"0.72\",\"0.73\",\"0.74\",\"0.75\",\"0.76\",\"0.77\",\"0.78\",\"0.79\",\"0.8\",\"0.81\",\"0.82\",\"0.83\",\"0.84\",\"0.85\",\"0.86\",\"0.87\",\"0.88\",\"0.89\",\"0.9\",\"0.91\",\"0.92\",\"0.93\",\"0.94\",\"0.95\",\"0.96\",\"0.97\",\"0.98\",\"0.99\",\"1.0\",\"1.01\",\"1.02\",\"1.03\",\"1.04\",\"1.05\",\"1.06\",\"1.07\",\"1.08\",\"1.09\",\"1.1\",\"1.11\",\"1.12\",\"1.13\",\"1.14\",\"1.15\",\"1.16\",\"1.17\",\"1.18\",\"1.19\",\"1.2\",\"1.21\",\"1.22\",\"1.23\",\"1.24\",\"1.25\",\"1.26\",\"1.27\",\"1.28\",\"1.29\",\"1.3\",\"1.31\",\"1.32\",\"1.33\",\"1.34\",\"1.35\",\"1.36\",\"1.37\",\"1.38\",\"1.39\",\"1.4\",\"1.41\",\"1.42\",\"1.43\",\"1.44\",\"1.45\",\"1.46\",\"1.47\",\"1.48\",\"1.49\",\"1.5\",\"1.51\",\"1.52\",\"1.53\",\"1.54\",\"1.55\",\"1.56\",\"1.57\",\"1.58\",\"1.59\",\"1.6\",\"1.61\",\"1.62\",\"1.63\",\"1.64\",\"1.65\",\"1.66\",\"1.67\",\"1.68\",\"1.69\",\"1.7\",\"1.71\",\"1.72\",\"1.73\",\"1.74\",\"1.75\",\"1.76\",\"1.77\",\"1.78\",\"1.79\",\"1.8\",\"1.81\",\"1.82\",\"1.83\",\"1.84\",\"1.85\",\"1.86\",\"1.87\",\"1.88\",\"1.89\",\"1.9\",\"1.91\",\"1.92\",\"1.93\",\"1.94\",\"1.95\",\"1.96\",\"1.97\",\"1.98\",\"1.99\",\"2.0\"],\"changes\":WebIO.getval({\"name\":\"changes\",\"scope\":\"16445410748544615641\",\"id\":\"3892606935881959430\",\"type\":\"observable\"}),\"index\":WebIO.getval({\"name\":\"index\",\"scope\":\"16445410748544615641\",\"id\":\"8513658366725844671\",\"type\":\"observable\"})};\n    var self = this;\n    function AppViewModel() {\n        for (var key in json_data) {\n            var el = json_data[key];\n            this[key] = Array.isArray(el) ? ko.observableArray(el) : ko.observable(el);\n        }\n        \n        [this[\"formatted_val\"]=ko.computed(    function(){\n        return this.formatted_vals()[parseInt(this.index())-(1)];\n    }\n,this)]\n        [this[\"changes\"].subscribe((function (val){!(this.valueFromJulia[\"changes\"]) ? (WebIO.setval({\"name\":\"changes\",\"scope\":\"16445410748544615641\",\"id\":\"3892606935881959430\",\"type\":\"observable\"},val)) : undefined; return this.valueFromJulia[\"changes\"]=false}),self),this[\"index\"].subscribe((function (val){!(this.valueFromJulia[\"index\"]) ? (WebIO.setval({\"name\":\"index\",\"scope\":\"16445410748544615641\",\"id\":\"8513658366725844671\",\"type\":\"observable\"},val)) : undefined; return this.valueFromJulia[\"index\"]=false}),self)]\n        \n    }\n    self.model = new AppViewModel();\n    self.valueFromJulia = {};\n    for (var key in json_data) {\n        self.valueFromJulia[key] = false;\n    }\n    ko.applyBindings(self.model, self.dom);\n}\n);\n    (WebIO.importBlock({\"data\":[{\"name\":\"knockout\",\"type\":\"js\",\"url\":\"/assetserver/2712bb0a7395d062608c2f218a74b700f6c76b99-knockout.js\"},{\"name\":\"knockout_punches\",\"type\":\"js\",\"url\":\"/assetserver/fb4445501a2be4ab82176667f844e40da26fa007-knockout_punches.js\"}],\"type\":\"async_block\"})).then((imports) => handler.apply(this, imports));\n}\n"
            ],
            "observables": {
             "changes": {
              "id": "3892606935881959430",
              "sync": false,
              "value": 0
             },
             "index": {
              "id": "8513658366725844671",
              "sync": true,
              "value": 101
             }
            },
            "systemjs_options": null
           },
           "nodeType": "Scope",
           "props": {},
           "type": "node"
          }
         ],
         "instanceArgs": {
          "namespace": "html",
          "tag": "div"
         },
         "nodeType": "DOM",
         "props": {
          "className": "field interact-widget"
         },
         "type": "node"
        },
        {
         "children": [
          {
           "children": [
            {
             "children": [
              {
               "children": [
                {
                 "children": [
                  "H"
                 ],
                 "instanceArgs": {
                  "namespace": "html",
                  "tag": "label"
                 },
                 "nodeType": "DOM",
                 "props": {
                  "className": "interact ",
                  "style": {
                   "padding": "5px 10px 0px 10px"
                  }
                 },
                 "type": "node"
                }
               ],
               "instanceArgs": {
                "namespace": "html",
                "tag": "div"
               },
               "nodeType": "DOM",
               "props": {
                "className": "interact-flex-row-left"
               },
               "type": "node"
              },
              {
               "children": [
                {
                 "children": [],
                 "instanceArgs": {
                  "namespace": "html",
                  "tag": "input"
                 },
                 "nodeType": "DOM",
                 "props": {
                  "attributes": {
                   "data-bind": "numericValue: index, valueUpdate: 'input', event: {change: function (){this.changes(this.changes()+1)}}",
                   "orient": "horizontal",
                   "type": "range"
                  },
                  "className": "slider slider is-fullwidth",
                  "max": 51,
                  "min": 1,
                  "step": 1,
                  "style": {}
                 },
                 "type": "node"
                }
               ],
               "instanceArgs": {
                "namespace": "html",
                "tag": "div"
               },
               "nodeType": "DOM",
               "props": {
                "className": "interact-flex-row-center"
               },
               "type": "node"
              },
              {
               "children": [
                {
                 "children": [],
                 "instanceArgs": {
                  "namespace": "html",
                  "tag": "p"
                 },
                 "nodeType": "DOM",
                 "props": {
                  "attributes": {
                   "data-bind": "text: formatted_val"
                  }
                 },
                 "type": "node"
                }
               ],
               "instanceArgs": {
                "namespace": "html",
                "tag": "div"
               },
               "nodeType": "DOM",
               "props": {
                "className": "interact-flex-row-right"
               },
               "type": "node"
              }
             ],
             "instanceArgs": {
              "namespace": "html",
              "tag": "div"
             },
             "nodeType": "DOM",
             "props": {
              "className": "interact-flex-row interact-widget"
             },
             "type": "node"
            }
           ],
           "instanceArgs": {
            "handlers": {
             "changes": [
              "(function (val){return (val!=this.model[\"changes\"]()) ? (this.valueFromJulia[\"changes\"]=true, this.model[\"changes\"](val)) : undefined})"
             ],
             "index": [
              "(function (val){return (val!=this.model[\"index\"]()) ? (this.valueFromJulia[\"index\"]=true, this.model[\"index\"](val)) : undefined})"
             ]
            },
            "id": "7319276285980691453",
            "imports": {
             "data": [
              {
               "name": "knockout",
               "type": "js",
               "url": "/assetserver/2712bb0a7395d062608c2f218a74b700f6c76b99-knockout.js"
              },
              {
               "name": "knockout_punches",
               "type": "js",
               "url": "/assetserver/fb4445501a2be4ab82176667f844e40da26fa007-knockout_punches.js"
              },
              {
               "name": null,
               "type": "js",
               "url": "/assetserver/a8ea7d9192d5fa85c6fac26c72d7fece1e500138-all.js"
              },
              {
               "name": null,
               "type": "css",
               "url": "/assetserver/620a53798cfdb29a4a2142ce0588e9aadc351d94-style.css"
              },
              {
               "name": null,
               "type": "css",
               "url": "/assetserver/9f2f17f677abbfd015a7c6b0c0f09a2da809bee2-bulma_confined.min.css"
              }
             ],
             "type": "async_block"
            },
            "mount_callbacks": [
             "function () {\n    var handler = (function (ko, koPunches) {\n    ko.punches.enableAll();\n    ko.bindingHandlers.numericValue = {\n        init: function(element, valueAccessor, allBindings, data, context) {\n            var stringified = ko.observable(ko.unwrap(valueAccessor()));\n            stringified.subscribe(function(value) {\n                var val = parseFloat(value);\n                if (!isNaN(val)) {\n                    valueAccessor()(val);\n                }\n            });\n            valueAccessor().subscribe(function(value) {\n                var str = JSON.stringify(value);\n                if ((str == \"0\") && ([\"-0\", \"-0.\"].indexOf(stringified()) >= 0))\n                     return;\n                 if ([\"null\", \"\"].indexOf(str) >= 0)\n                     return;\n                stringified(str);\n            });\n            ko.applyBindingsToNode(\n                element,\n                {\n                    value: stringified,\n                    valueUpdate: allBindings.get('valueUpdate'),\n                },\n                context,\n            );\n        }\n    };\n    var json_data = {\"formatted_vals\":[\"0.0\",\"0.01\",\"0.02\",\"0.03\",\"0.04\",\"0.05\",\"0.06\",\"0.07\",\"0.08\",\"0.09\",\"0.1\",\"0.11\",\"0.12\",\"0.13\",\"0.14\",\"0.15\",\"0.16\",\"0.17\",\"0.18\",\"0.19\",\"0.2\",\"0.21\",\"0.22\",\"0.23\",\"0.24\",\"0.25\",\"0.26\",\"0.27\",\"0.28\",\"0.29\",\"0.3\",\"0.31\",\"0.32\",\"0.33\",\"0.34\",\"0.35\",\"0.36\",\"0.37\",\"0.38\",\"0.39\",\"0.4\",\"0.41\",\"0.42\",\"0.43\",\"0.44\",\"0.45\",\"0.46\",\"0.47\",\"0.48\",\"0.49\",\"0.5\"],\"changes\":WebIO.getval({\"name\":\"changes\",\"scope\":\"7319276285980691453\",\"id\":\"3517357105483932811\",\"type\":\"observable\"}),\"index\":WebIO.getval({\"name\":\"index\",\"scope\":\"7319276285980691453\",\"id\":\"307643750660341339\",\"type\":\"observable\"})};\n    var self = this;\n    function AppViewModel() {\n        for (var key in json_data) {\n            var el = json_data[key];\n            this[key] = Array.isArray(el) ? ko.observableArray(el) : ko.observable(el);\n        }\n        \n        [this[\"formatted_val\"]=ko.computed(    function(){\n        return this.formatted_vals()[parseInt(this.index())-(1)];\n    }\n,this)]\n        [this[\"changes\"].subscribe((function (val){!(this.valueFromJulia[\"changes\"]) ? (WebIO.setval({\"name\":\"changes\",\"scope\":\"7319276285980691453\",\"id\":\"3517357105483932811\",\"type\":\"observable\"},val)) : undefined; return this.valueFromJulia[\"changes\"]=false}),self),this[\"index\"].subscribe((function (val){!(this.valueFromJulia[\"index\"]) ? (WebIO.setval({\"name\":\"index\",\"scope\":\"7319276285980691453\",\"id\":\"307643750660341339\",\"type\":\"observable\"},val)) : undefined; return this.valueFromJulia[\"index\"]=false}),self)]\n        \n    }\n    self.model = new AppViewModel();\n    self.valueFromJulia = {};\n    for (var key in json_data) {\n        self.valueFromJulia[key] = false;\n    }\n    ko.applyBindings(self.model, self.dom);\n}\n);\n    (WebIO.importBlock({\"data\":[{\"name\":\"knockout\",\"type\":\"js\",\"url\":\"/assetserver/2712bb0a7395d062608c2f218a74b700f6c76b99-knockout.js\"},{\"name\":\"knockout_punches\",\"type\":\"js\",\"url\":\"/assetserver/fb4445501a2be4ab82176667f844e40da26fa007-knockout_punches.js\"}],\"type\":\"async_block\"})).then((imports) => handler.apply(this, imports));\n}\n"
            ],
            "observables": {
             "changes": {
              "id": "3517357105483932811",
              "sync": false,
              "value": 0
             },
             "index": {
              "id": "307643750660341339",
              "sync": true,
              "value": 26
             }
            },
            "systemjs_options": null
           },
           "nodeType": "Scope",
           "props": {},
           "type": "node"
          }
         ],
         "instanceArgs": {
          "namespace": "html",
          "tag": "div"
         },
         "nodeType": "DOM",
         "props": {
          "className": "field interact-widget"
         },
         "type": "node"
        },
        {
         "children": [
          {
           "children": [
            {
             "children": [
              {
               "children": [
                {
                 "children": [
                  "x0"
                 ],
                 "instanceArgs": {
                  "namespace": "html",
                  "tag": "label"
                 },
                 "nodeType": "DOM",
                 "props": {
                  "className": "interact ",
                  "style": {
                   "padding": "5px 10px 0px 10px"
                  }
                 },
                 "type": "node"
                }
               ],
               "instanceArgs": {
                "namespace": "html",
                "tag": "div"
               },
               "nodeType": "DOM",
               "props": {
                "className": "interact-flex-row-left"
               },
               "type": "node"
              },
              {
               "children": [
                {
                 "children": [],
                 "instanceArgs": {
                  "namespace": "html",
                  "tag": "input"
                 },
                 "nodeType": "DOM",
                 "props": {
                  "attributes": {
                   "data-bind": "numericValue: index, valueUpdate: 'input', event: {change: function (){this.changes(this.changes()+1)}}",
                   "orient": "horizontal",
                   "type": "range"
                  },
                  "className": "slider slider is-fullwidth",
                  "max": 101,
                  "min": 1,
                  "step": 1,
                  "style": {}
                 },
                 "type": "node"
                }
               ],
               "instanceArgs": {
                "namespace": "html",
                "tag": "div"
               },
               "nodeType": "DOM",
               "props": {
                "className": "interact-flex-row-center"
               },
               "type": "node"
              },
              {
               "children": [
                {
                 "children": [],
                 "instanceArgs": {
                  "namespace": "html",
                  "tag": "p"
                 },
                 "nodeType": "DOM",
                 "props": {
                  "attributes": {
                   "data-bind": "text: formatted_val"
                  }
                 },
                 "type": "node"
                }
               ],
               "instanceArgs": {
                "namespace": "html",
                "tag": "div"
               },
               "nodeType": "DOM",
               "props": {
                "className": "interact-flex-row-right"
               },
               "type": "node"
              }
             ],
             "instanceArgs": {
              "namespace": "html",
              "tag": "div"
             },
             "nodeType": "DOM",
             "props": {
              "className": "interact-flex-row interact-widget"
             },
             "type": "node"
            }
           ],
           "instanceArgs": {
            "handlers": {
             "changes": [
              "(function (val){return (val!=this.model[\"changes\"]()) ? (this.valueFromJulia[\"changes\"]=true, this.model[\"changes\"](val)) : undefined})"
             ],
             "index": [
              "(function (val){return (val!=this.model[\"index\"]()) ? (this.valueFromJulia[\"index\"]=true, this.model[\"index\"](val)) : undefined})"
             ]
            },
            "id": "6100175111496954735",
            "imports": {
             "data": [
              {
               "name": "knockout",
               "type": "js",
               "url": "/assetserver/2712bb0a7395d062608c2f218a74b700f6c76b99-knockout.js"
              },
              {
               "name": "knockout_punches",
               "type": "js",
               "url": "/assetserver/fb4445501a2be4ab82176667f844e40da26fa007-knockout_punches.js"
              },
              {
               "name": null,
               "type": "js",
               "url": "/assetserver/a8ea7d9192d5fa85c6fac26c72d7fece1e500138-all.js"
              },
              {
               "name": null,
               "type": "css",
               "url": "/assetserver/620a53798cfdb29a4a2142ce0588e9aadc351d94-style.css"
              },
              {
               "name": null,
               "type": "css",
               "url": "/assetserver/9f2f17f677abbfd015a7c6b0c0f09a2da809bee2-bulma_confined.min.css"
              }
             ],
             "type": "async_block"
            },
            "mount_callbacks": [
             "function () {\n    var handler = (function (ko, koPunches) {\n    ko.punches.enableAll();\n    ko.bindingHandlers.numericValue = {\n        init: function(element, valueAccessor, allBindings, data, context) {\n            var stringified = ko.observable(ko.unwrap(valueAccessor()));\n            stringified.subscribe(function(value) {\n                var val = parseFloat(value);\n                if (!isNaN(val)) {\n                    valueAccessor()(val);\n                }\n            });\n            valueAccessor().subscribe(function(value) {\n                var str = JSON.stringify(value);\n                if ((str == \"0\") && ([\"-0\", \"-0.\"].indexOf(stringified()) >= 0))\n                     return;\n                 if ([\"null\", \"\"].indexOf(str) >= 0)\n                     return;\n                stringified(str);\n            });\n            ko.applyBindingsToNode(\n                element,\n                {\n                    value: stringified,\n                    valueUpdate: allBindings.get('valueUpdate'),\n                },\n                context,\n            );\n        }\n    };\n    var json_data = {\"formatted_vals\":[\"0.0\",\"0.02\",\"0.04\",\"0.06\",\"0.08\",\"0.1\",\"0.12\",\"0.14\",\"0.16\",\"0.18\",\"0.2\",\"0.22\",\"0.24\",\"0.26\",\"0.28\",\"0.3\",\"0.32\",\"0.34\",\"0.36\",\"0.38\",\"0.4\",\"0.42\",\"0.44\",\"0.46\",\"0.48\",\"0.5\",\"0.52\",\"0.54\",\"0.56\",\"0.58\",\"0.6\",\"0.62\",\"0.64\",\"0.66\",\"0.68\",\"0.7\",\"0.72\",\"0.74\",\"0.76\",\"0.78\",\"0.8\",\"0.82\",\"0.84\",\"0.86\",\"0.88\",\"0.9\",\"0.92\",\"0.94\",\"0.96\",\"0.98\",\"1.0\",\"1.02\",\"1.04\",\"1.06\",\"1.08\",\"1.1\",\"1.12\",\"1.14\",\"1.16\",\"1.18\",\"1.2\",\"1.22\",\"1.24\",\"1.26\",\"1.28\",\"1.3\",\"1.32\",\"1.34\",\"1.36\",\"1.38\",\"1.4\",\"1.42\",\"1.44\",\"1.46\",\"1.48\",\"1.5\",\"1.52\",\"1.54\",\"1.56\",\"1.58\",\"1.6\",\"1.62\",\"1.64\",\"1.66\",\"1.68\",\"1.7\",\"1.72\",\"1.74\",\"1.76\",\"1.78\",\"1.8\",\"1.82\",\"1.84\",\"1.86\",\"1.88\",\"1.9\",\"1.92\",\"1.94\",\"1.96\",\"1.98\",\"2.0\"],\"changes\":WebIO.getval({\"name\":\"changes\",\"scope\":\"6100175111496954735\",\"id\":\"356826486325650119\",\"type\":\"observable\"}),\"index\":WebIO.getval({\"name\":\"index\",\"scope\":\"6100175111496954735\",\"id\":\"17923950706817632654\",\"type\":\"observable\"})};\n    var self = this;\n    function AppViewModel() {\n        for (var key in json_data) {\n            var el = json_data[key];\n            this[key] = Array.isArray(el) ? ko.observableArray(el) : ko.observable(el);\n        }\n        \n        [this[\"formatted_val\"]=ko.computed(    function(){\n        return this.formatted_vals()[parseInt(this.index())-(1)];\n    }\n,this)]\n        [this[\"changes\"].subscribe((function (val){!(this.valueFromJulia[\"changes\"]) ? (WebIO.setval({\"name\":\"changes\",\"scope\":\"6100175111496954735\",\"id\":\"356826486325650119\",\"type\":\"observable\"},val)) : undefined; return this.valueFromJulia[\"changes\"]=false}),self),this[\"index\"].subscribe((function (val){!(this.valueFromJulia[\"index\"]) ? (WebIO.setval({\"name\":\"index\",\"scope\":\"6100175111496954735\",\"id\":\"17923950706817632654\",\"type\":\"observable\"},val)) : undefined; return this.valueFromJulia[\"index\"]=false}),self)]\n        \n    }\n    self.model = new AppViewModel();\n    self.valueFromJulia = {};\n    for (var key in json_data) {\n        self.valueFromJulia[key] = false;\n    }\n    ko.applyBindings(self.model, self.dom);\n}\n);\n    (WebIO.importBlock({\"data\":[{\"name\":\"knockout\",\"type\":\"js\",\"url\":\"/assetserver/2712bb0a7395d062608c2f218a74b700f6c76b99-knockout.js\"},{\"name\":\"knockout_punches\",\"type\":\"js\",\"url\":\"/assetserver/fb4445501a2be4ab82176667f844e40da26fa007-knockout_punches.js\"}],\"type\":\"async_block\"})).then((imports) => handler.apply(this, imports));\n}\n"
            ],
            "observables": {
             "changes": {
              "id": "356826486325650119",
              "sync": false,
              "value": 0
             },
             "index": {
              "id": "17923950706817632654",
              "sync": true,
              "value": 51
             }
            },
            "systemjs_options": null
           },
           "nodeType": "Scope",
           "props": {},
           "type": "node"
          }
         ],
         "instanceArgs": {
          "namespace": "html",
          "tag": "div"
         },
         "nodeType": "DOM",
         "props": {
          "className": "field interact-widget"
         },
         "type": "node"
        },
        {
         "children": [
          {
           "children": [
            {
             "children": [
              {
               "children": [
                {
                 "children": [
                  "tmax"
                 ],
                 "instanceArgs": {
                  "namespace": "html",
                  "tag": "label"
                 },
                 "nodeType": "DOM",
                 "props": {
                  "className": "interact ",
                  "style": {
                   "padding": "5px 10px 0px 10px"
                  }
                 },
                 "type": "node"
                }
               ],
               "instanceArgs": {
                "namespace": "html",
                "tag": "div"
               },
               "nodeType": "DOM",
               "props": {
                "className": "interact-flex-row-left"
               },
               "type": "node"
              },
              {
               "children": [
                {
                 "children": [],
                 "instanceArgs": {
                  "namespace": "html",
                  "tag": "input"
                 },
                 "nodeType": "DOM",
                 "props": {
                  "attributes": {
                   "data-bind": "numericValue: index, valueUpdate: 'input', event: {change: function (){this.changes(this.changes()+1)}}",
                   "orient": "horizontal",
                   "type": "range"
                  },
                  "className": "slider slider is-fullwidth",
                  "max": 10,
                  "min": 1,
                  "step": 1,
                  "style": {}
                 },
                 "type": "node"
                }
               ],
               "instanceArgs": {
                "namespace": "html",
                "tag": "div"
               },
               "nodeType": "DOM",
               "props": {
                "className": "interact-flex-row-center"
               },
               "type": "node"
              },
              {
               "children": [
                {
                 "children": [],
                 "instanceArgs": {
                  "namespace": "html",
                  "tag": "p"
                 },
                 "nodeType": "DOM",
                 "props": {
                  "attributes": {
                   "data-bind": "text: formatted_val"
                  }
                 },
                 "type": "node"
                }
               ],
               "instanceArgs": {
                "namespace": "html",
                "tag": "div"
               },
               "nodeType": "DOM",
               "props": {
                "className": "interact-flex-row-right"
               },
               "type": "node"
              }
             ],
             "instanceArgs": {
              "namespace": "html",
              "tag": "div"
             },
             "nodeType": "DOM",
             "props": {
              "className": "interact-flex-row interact-widget"
             },
             "type": "node"
            }
           ],
           "instanceArgs": {
            "handlers": {
             "changes": [
              "(function (val){return (val!=this.model[\"changes\"]()) ? (this.valueFromJulia[\"changes\"]=true, this.model[\"changes\"](val)) : undefined})"
             ],
             "index": [
              "(function (val){return (val!=this.model[\"index\"]()) ? (this.valueFromJulia[\"index\"]=true, this.model[\"index\"](val)) : undefined})"
             ]
            },
            "id": "6942413199281188115",
            "imports": {
             "data": [
              {
               "name": "knockout",
               "type": "js",
               "url": "/assetserver/2712bb0a7395d062608c2f218a74b700f6c76b99-knockout.js"
              },
              {
               "name": "knockout_punches",
               "type": "js",
               "url": "/assetserver/fb4445501a2be4ab82176667f844e40da26fa007-knockout_punches.js"
              },
              {
               "name": null,
               "type": "js",
               "url": "/assetserver/a8ea7d9192d5fa85c6fac26c72d7fece1e500138-all.js"
              },
              {
               "name": null,
               "type": "css",
               "url": "/assetserver/620a53798cfdb29a4a2142ce0588e9aadc351d94-style.css"
              },
              {
               "name": null,
               "type": "css",
               "url": "/assetserver/9f2f17f677abbfd015a7c6b0c0f09a2da809bee2-bulma_confined.min.css"
              }
             ],
             "type": "async_block"
            },
            "mount_callbacks": [
             "function () {\n    var handler = (function (ko, koPunches) {\n    ko.punches.enableAll();\n    ko.bindingHandlers.numericValue = {\n        init: function(element, valueAccessor, allBindings, data, context) {\n            var stringified = ko.observable(ko.unwrap(valueAccessor()));\n            stringified.subscribe(function(value) {\n                var val = parseFloat(value);\n                if (!isNaN(val)) {\n                    valueAccessor()(val);\n                }\n            });\n            valueAccessor().subscribe(function(value) {\n                var str = JSON.stringify(value);\n                if ((str == \"0\") && ([\"-0\", \"-0.\"].indexOf(stringified()) >= 0))\n                     return;\n                 if ([\"null\", \"\"].indexOf(str) >= 0)\n                     return;\n                stringified(str);\n            });\n            ko.applyBindingsToNode(\n                element,\n                {\n                    value: stringified,\n                    valueUpdate: allBindings.get('valueUpdate'),\n                },\n                context,\n            );\n        }\n    };\n    var json_data = {\"formatted_vals\":[\"1.0\",\"6.0\",\"11.0\",\"16.0\",\"21.0\",\"26.0\",\"31.0\",\"36.0\",\"41.0\",\"46.0\"],\"changes\":WebIO.getval({\"name\":\"changes\",\"scope\":\"6942413199281188115\",\"id\":\"15170543166729931463\",\"type\":\"observable\"}),\"index\":WebIO.getval({\"name\":\"index\",\"scope\":\"6942413199281188115\",\"id\":\"14739021544532511177\",\"type\":\"observable\"})};\n    var self = this;\n    function AppViewModel() {\n        for (var key in json_data) {\n            var el = json_data[key];\n            this[key] = Array.isArray(el) ? ko.observableArray(el) : ko.observable(el);\n        }\n        \n        [this[\"formatted_val\"]=ko.computed(    function(){\n        return this.formatted_vals()[parseInt(this.index())-(1)];\n    }\n,this)]\n        [this[\"changes\"].subscribe((function (val){!(this.valueFromJulia[\"changes\"]) ? (WebIO.setval({\"name\":\"changes\",\"scope\":\"6942413199281188115\",\"id\":\"15170543166729931463\",\"type\":\"observable\"},val)) : undefined; return this.valueFromJulia[\"changes\"]=false}),self),this[\"index\"].subscribe((function (val){!(this.valueFromJulia[\"index\"]) ? (WebIO.setval({\"name\":\"index\",\"scope\":\"6942413199281188115\",\"id\":\"14739021544532511177\",\"type\":\"observable\"},val)) : undefined; return this.valueFromJulia[\"index\"]=false}),self)]\n        \n    }\n    self.model = new AppViewModel();\n    self.valueFromJulia = {};\n    for (var key in json_data) {\n        self.valueFromJulia[key] = false;\n    }\n    ko.applyBindings(self.model, self.dom);\n}\n);\n    (WebIO.importBlock({\"data\":[{\"name\":\"knockout\",\"type\":\"js\",\"url\":\"/assetserver/2712bb0a7395d062608c2f218a74b700f6c76b99-knockout.js\"},{\"name\":\"knockout_punches\",\"type\":\"js\",\"url\":\"/assetserver/fb4445501a2be4ab82176667f844e40da26fa007-knockout_punches.js\"}],\"type\":\"async_block\"})).then((imports) => handler.apply(this, imports));\n}\n"
            ],
            "observables": {
             "changes": {
              "id": "15170543166729931463",
              "sync": false,
              "value": 0
             },
             "index": {
              "id": "14739021544532511177",
              "sync": true,
              "value": 5
             }
            },
            "systemjs_options": null
           },
           "nodeType": "Scope",
           "props": {},
           "type": "node"
          }
         ],
         "instanceArgs": {
          "namespace": "html",
          "tag": "div"
         },
         "nodeType": "DOM",
         "props": {
          "className": "field interact-widget"
         },
         "type": "node"
        },
        {
         "children": [
          {
           "children": [],
           "instanceArgs": {
            "id": "9709117744609786371",
            "name": "obs-node"
           },
           "nodeType": "ObservableNode",
           "props": {},
           "type": "node"
          }
         ],
         "instanceArgs": {
          "handlers": {},
          "id": "3283699615330815759",
          "imports": {
           "data": [],
           "type": "async_block"
          },
          "mount_callbacks": [],
          "observables": {
           "obs-node": {
            "id": "9709117744609786371",
            "sync": false,
            "value": {
             "children": [
              {
               "children": [],
               "instanceArgs": {
                "namespace": "html",
                "tag": "div"
               },
               "nodeType": "DOM",
               "props": {
                "setInnerHtml": "<img src=\"data:image/png;base64,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\" />"
               },
               "type": "node"
              }
             ],
             "instanceArgs": {
              "namespace": "html",
              "tag": "div"
             },
             "nodeType": "DOM",
             "props": {
              "className": "interact-flex-row interact-widget"
             },
             "type": "node"
            }
           }
          },
          "systemjs_options": null
         },
         "nodeType": "Scope",
         "props": {},
         "type": "node"
        }
       ],
       "instanceArgs": {
        "namespace": "html",
        "tag": "div"
       },
       "nodeType": "DOM",
       "props": {},
       "type": "node"
      },
      "text/html": [
       "<div\n",
       "    class=\"webio-mountpoint\"\n",
       "    data-webio-mountpoint=\"17240010132302967728\"\n",
       ">\n",
       "    <script>\n",
       "    (function(){\n",
       "    // Some integrations (namely, IJulia/Jupyter) use an alternate render pathway than\n",
       "    // just putting the html on the page. If WebIO isn't defined, then it's pretty likely\n",
       "    // that we're in one of those situations and the integration just isn't installed\n",
       "    // correctly.\n",
       "    if (typeof window.WebIO === \"undefined\") {\n",
       "        document\n",
       "            .querySelector('[data-webio-mountpoint=\"17240010132302967728\"]')\n",
       "            .innerHTML = (\n",
       "                '<div style=\"padding: 1em; background-color: #f8d6da; border: 1px solid #f5c6cb; font-weight: bold;\">' +\n",
       "                '<p><strong>WebIO not detected.</strong></p>' +\n",
       "                '<p>Please read ' +\n",
       "                '<a href=\"https://juliagizmos.github.io/WebIO.jl/latest/troubleshooting/not-detected/\" target=\"_blank\">the troubleshooting guide</a> ' +\n",
       "                'for more information on how to resolve this issue.</p>' +\n",
       "                '<p><a href=\"https://juliagizmos.github.io/WebIO.jl/latest/troubleshooting/not-detected/\" target=\"_blank\">https://juliagizmos.github.io/WebIO.jl/latest/troubleshooting/not-detected/</a></p>' +\n",
       "                '</div>'\n",
       "            );\n",
       "        return;\n",
       "    }\n",
       "    WebIO.mount(\n",
       "        document.querySelector('[data-webio-mountpoint=\"17240010132302967728\"]'),\n",
       "        {\"props\":{},\"nodeType\":\"DOM\",\"type\":\"node\",\"instanceArgs\":{\"namespace\":\"html\",\"tag\":\"div\"},\"children\":[{\"props\":{\"className\":\"field interact-widget\"},\"nodeType\":\"DOM\",\"type\":\"node\",\"instanceArgs\":{\"namespace\":\"html\",\"tag\":\"div\"},\"children\":[{\"props\":{},\"nodeType\":\"Scope\",\"type\":\"node\",\"instanceArgs\":{\"imports\":{\"data\":[{\"name\":\"knockout\",\"type\":\"js\",\"url\":\"\\/assetserver\\/2712bb0a7395d062608c2f218a74b700f6c76b99-knockout.js\"},{\"name\":\"knockout_punches\",\"type\":\"js\",\"url\":\"\\/assetserver\\/fb4445501a2be4ab82176667f844e40da26fa007-knockout_punches.js\"},{\"name\":null,\"type\":\"js\",\"url\":\"\\/assetserver\\/a8ea7d9192d5fa85c6fac26c72d7fece1e500138-all.js\"},{\"name\":null,\"type\":\"css\",\"url\":\"\\/assetserver\\/620a53798cfdb29a4a2142ce0588e9aadc351d94-style.css\"},{\"name\":null,\"type\":\"css\",\"url\":\"\\/assetserver\\/9f2f17f677abbfd015a7c6b0c0f09a2da809bee2-bulma_confined.min.css\"}],\"type\":\"async_block\"},\"id\":\"2312858216402319939\",\"handlers\":{\"changes\":[\"(function (val){return (val!=this.model[\\\"changes\\\"]()) ? (this.valueFromJulia[\\\"changes\\\"]=true, this.model[\\\"changes\\\"](val)) : undefined})\"],\"index\":[\"(function (val){return (val!=this.model[\\\"index\\\"]()) ? (this.valueFromJulia[\\\"index\\\"]=true, this.model[\\\"index\\\"](val)) : undefined})\"]},\"systemjs_options\":null,\"mount_callbacks\":[\"function () {\\n    var handler = (function (ko, koPunches) {\\n    ko.punches.enableAll();\\n    ko.bindingHandlers.numericValue = {\\n        init: function(element, valueAccessor, allBindings, data, context) {\\n            var stringified = ko.observable(ko.unwrap(valueAccessor()));\\n            stringified.subscribe(function(value) {\\n                var val = parseFloat(value);\\n                if (!isNaN(val)) {\\n                    valueAccessor()(val);\\n                }\\n            });\\n            valueAccessor().subscribe(function(value) {\\n                var str = JSON.stringify(value);\\n                if ((str == \\\"0\\\") && ([\\\"-0\\\", \\\"-0.\\\"].indexOf(stringified()) >= 0))\\n                     return;\\n                 if ([\\\"null\\\", \\\"\\\"].indexOf(str) >= 0)\\n                     return;\\n                stringified(str);\\n            });\\n            ko.applyBindingsToNode(\\n                element,\\n                {\\n                    value: stringified,\\n                    valueUpdate: allBindings.get('valueUpdate'),\\n                },\\n                context,\\n            );\\n        }\\n    };\\n    var json_data = {\\\"formatted_vals\\\":[\\\"0.0\\\",\\\"0.02\\\",\\\"0.04\\\",\\\"0.06\\\",\\\"0.08\\\",\\\"0.1\\\",\\\"0.12\\\",\\\"0.14\\\",\\\"0.16\\\",\\\"0.18\\\",\\\"0.2\\\",\\\"0.22\\\",\\\"0.24\\\",\\\"0.26\\\",\\\"0.28\\\",\\\"0.3\\\",\\\"0.32\\\",\\\"0.34\\\",\\\"0.36\\\",\\\"0.38\\\",\\\"0.4\\\",\\\"0.42\\\",\\\"0.44\\\",\\\"0.46\\\",\\\"0.48\\\",\\\"0.5\\\",\\\"0.52\\\",\\\"0.54\\\",\\\"0.56\\\",\\\"0.58\\\",\\\"0.6\\\",\\\"0.62\\\",\\\"0.64\\\",\\\"0.66\\\",\\\"0.68\\\",\\\"0.7\\\",\\\"0.72\\\",\\\"0.74\\\",\\\"0.76\\\",\\\"0.78\\\",\\\"0.8\\\",\\\"0.82\\\",\\\"0.84\\\",\\\"0.86\\\",\\\"0.88\\\",\\\"0.9\\\",\\\"0.92\\\",\\\"0.94\\\",\\\"0.96\\\",\\\"0.98\\\",\\\"1.0\\\"],\\\"changes\\\":WebIO.getval({\\\"name\\\":\\\"changes\\\",\\\"scope\\\":\\\"2312858216402319939\\\",\\\"id\\\":\\\"8896598424121859195\\\",\\\"type\\\":\\\"observable\\\"}),\\\"index\\\":WebIO.getval({\\\"name\\\":\\\"index\\\",\\\"scope\\\":\\\"2312858216402319939\\\",\\\"id\\\":\\\"15545102566137119075\\\",\\\"type\\\":\\\"observable\\\"})};\\n    var self = this;\\n    function AppViewModel() {\\n        for (var key in json_data) {\\n            var el = json_data[key];\\n            this[key] = Array.isArray(el) ? ko.observableArray(el) : ko.observable(el);\\n        }\\n        \\n        [this[\\\"formatted_val\\\"]=ko.computed(    function(){\\n        return this.formatted_vals()[parseInt(this.index())-(1)];\\n    }\\n,this)]\\n        [this[\\\"changes\\\"].subscribe((function (val){!(this.valueFromJulia[\\\"changes\\\"]) ? (WebIO.setval({\\\"name\\\":\\\"changes\\\",\\\"scope\\\":\\\"2312858216402319939\\\",\\\"id\\\":\\\"8896598424121859195\\\",\\\"type\\\":\\\"observable\\\"},val)) : undefined; return this.valueFromJulia[\\\"changes\\\"]=false}),self),this[\\\"index\\\"].subscribe((function (val){!(this.valueFromJulia[\\\"index\\\"]) ? (WebIO.setval({\\\"name\\\":\\\"index\\\",\\\"scope\\\":\\\"2312858216402319939\\\",\\\"id\\\":\\\"15545102566137119075\\\",\\\"type\\\":\\\"observable\\\"},val)) : undefined; return this.valueFromJulia[\\\"index\\\"]=false}),self)]\\n        \\n    }\\n    self.model = new AppViewModel();\\n    self.valueFromJulia = {};\\n    for (var key in json_data) {\\n        self.valueFromJulia[key] = false;\\n    }\\n    ko.applyBindings(self.model, self.dom);\\n}\\n);\\n    (WebIO.importBlock({\\\"data\\\":[{\\\"name\\\":\\\"knockout\\\",\\\"type\\\":\\\"js\\\",\\\"url\\\":\\\"\\/assetserver\\/2712bb0a7395d062608c2f218a74b700f6c76b99-knockout.js\\\"},{\\\"name\\\":\\\"knockout_punches\\\",\\\"type\\\":\\\"js\\\",\\\"url\\\":\\\"\\/assetserver\\/fb4445501a2be4ab82176667f844e40da26fa007-knockout_punches.js\\\"}],\\\"type\\\":\\\"async_block\\\"})).then((imports) => handler.apply(this, imports));\\n}\\n\"],\"observables\":{\"changes\":{\"sync\":false,\"id\":\"8896598424121859195\",\"value\":0},\"index\":{\"sync\":true,\"id\":\"15545102566137119075\",\"value\":26}}},\"children\":[{\"props\":{\"className\":\"interact-flex-row interact-widget\"},\"nodeType\":\"DOM\",\"type\":\"node\",\"instanceArgs\":{\"namespace\":\"html\",\"tag\":\"div\"},\"children\":[{\"props\":{\"className\":\"interact-flex-row-left\"},\"nodeType\":\"DOM\",\"type\":\"node\",\"instanceArgs\":{\"namespace\":\"html\",\"tag\":\"div\"},\"children\":[{\"props\":{\"className\":\"interact \",\"style\":{\"padding\":\"5px 10px 0px 10px\"}},\"nodeType\":\"DOM\",\"type\":\"node\",\"instanceArgs\":{\"namespace\":\"html\",\"tag\":\"label\"},\"children\":[\"R\"]}]},{\"props\":{\"className\":\"interact-flex-row-center\"},\"nodeType\":\"DOM\",\"type\":\"node\",\"instanceArgs\":{\"namespace\":\"html\",\"tag\":\"div\"},\"children\":[{\"props\":{\"max\":51,\"min\":1,\"attributes\":{\"type\":\"range\",\"data-bind\":\"numericValue: index, valueUpdate: 'input', event: {change: function (){this.changes(this.changes()+1)}}\",\"orient\":\"horizontal\"},\"step\":1,\"className\":\"slider slider is-fullwidth\",\"style\":{}},\"nodeType\":\"DOM\",\"type\":\"node\",\"instanceArgs\":{\"namespace\":\"html\",\"tag\":\"input\"},\"children\":[]}]},{\"props\":{\"className\":\"interact-flex-row-right\"},\"nodeType\":\"DOM\",\"type\":\"node\",\"instanceArgs\":{\"namespace\":\"html\",\"tag\":\"div\"},\"children\":[{\"props\":{\"attributes\":{\"data-bind\":\"text: formatted_val\"}},\"nodeType\":\"DOM\",\"type\":\"node\",\"instanceArgs\":{\"namespace\":\"html\",\"tag\":\"p\"},\"children\":[]}]}]}]}]},{\"props\":{\"className\":\"field interact-widget\"},\"nodeType\":\"DOM\",\"type\":\"node\",\"instanceArgs\":{\"namespace\":\"html\",\"tag\":\"div\"},\"children\":[{\"props\":{},\"nodeType\":\"Scope\",\"type\":\"node\",\"instanceArgs\":{\"imports\":{\"data\":[{\"name\":\"knockout\",\"type\":\"js\",\"url\":\"\\/assetserver\\/2712bb0a7395d062608c2f218a74b700f6c76b99-knockout.js\"},{\"name\":\"knockout_punches\",\"type\":\"js\",\"url\":\"\\/assetserver\\/fb4445501a2be4ab82176667f844e40da26fa007-knockout_punches.js\"},{\"name\":null,\"type\":\"js\",\"url\":\"\\/assetserver\\/a8ea7d9192d5fa85c6fac26c72d7fece1e500138-all.js\"},{\"name\":null,\"type\":\"css\",\"url\":\"\\/assetserver\\/620a53798cfdb29a4a2142ce0588e9aadc351d94-style.css\"},{\"name\":null,\"type\":\"css\",\"url\":\"\\/assetserver\\/9f2f17f677abbfd015a7c6b0c0f09a2da809bee2-bulma_confined.min.css\"}],\"type\":\"async_block\"},\"id\":\"16445410748544615641\",\"handlers\":{\"changes\":[\"(function (val){return (val!=this.model[\\\"changes\\\"]()) ? (this.valueFromJulia[\\\"changes\\\"]=true, this.model[\\\"changes\\\"](val)) : undefined})\"],\"index\":[\"(function (val){return (val!=this.model[\\\"index\\\"]()) ? (this.valueFromJulia[\\\"index\\\"]=true, this.model[\\\"index\\\"](val)) : undefined})\"]},\"systemjs_options\":null,\"mount_callbacks\":[\"function () {\\n    var handler = (function (ko, koPunches) {\\n    ko.punches.enableAll();\\n    ko.bindingHandlers.numericValue = {\\n        init: function(element, valueAccessor, allBindings, data, context) {\\n            var stringified = ko.observable(ko.unwrap(valueAccessor()));\\n            stringified.subscribe(function(value) {\\n                var val = parseFloat(value);\\n                if (!isNaN(val)) {\\n                    valueAccessor()(val);\\n                }\\n            });\\n            valueAccessor().subscribe(function(value) {\\n                var str = JSON.stringify(value);\\n                if ((str == \\\"0\\\") && ([\\\"-0\\\", \\\"-0.\\\"].indexOf(stringified()) >= 0))\\n                     return;\\n                 if ([\\\"null\\\", \\\"\\\"].indexOf(str) >= 0)\\n                     return;\\n                stringified(str);\\n            });\\n            ko.applyBindingsToNode(\\n                element,\\n                {\\n                    value: stringified,\\n                    valueUpdate: allBindings.get('valueUpdate'),\\n                },\\n                context,\\n            );\\n        }\\n    };\\n    var json_data = {\\\"formatted_vals\\\":[\\\"0.0\\\",\\\"0.01\\\",\\\"0.02\\\",\\\"0.03\\\",\\\"0.04\\\",\\\"0.05\\\",\\\"0.06\\\",\\\"0.07\\\",\\\"0.08\\\",\\\"0.09\\\",\\\"0.1\\\",\\\"0.11\\\",\\\"0.12\\\",\\\"0.13\\\",\\\"0.14\\\",\\\"0.15\\\",\\\"0.16\\\",\\\"0.17\\\",\\\"0.18\\\",\\\"0.19\\\",\\\"0.2\\\",\\\"0.21\\\",\\\"0.22\\\",\\\"0.23\\\",\\\"0.24\\\",\\\"0.25\\\",\\\"0.26\\\",\\\"0.27\\\",\\\"0.28\\\",\\\"0.29\\\",\\\"0.3\\\",\\\"0.31\\\",\\\"0.32\\\",\\\"0.33\\\",\\\"0.34\\\",\\\"0.35\\\",\\\"0.36\\\",\\\"0.37\\\",\\\"0.38\\\",\\\"0.39\\\",\\\"0.4\\\",\\\"0.41\\\",\\\"0.42\\\",\\\"0.43\\\",\\\"0.44\\\",\\\"0.45\\\",\\\"0.46\\\",\\\"0.47\\\",\\\"0.48\\\",\\\"0.49\\\",\\\"0.5\\\",\\\"0.51\\\",\\\"0.52\\\",\\\"0.53\\\",\\\"0.54\\\",\\\"0.55\\\",\\\"0.56\\\",\\\"0.57\\\",\\\"0.58\\\",\\\"0.59\\\",\\\"0.6\\\",\\\"0.61\\\",\\\"0.62\\\",\\\"0.63\\\",\\\"0.64\\\",\\\"0.65\\\",\\\"0.66\\\",\\\"0.67\\\",\\\"0.68\\\",\\\"0.69\\\",\\\"0.7\\\",\\\"0.71\\\",\\\"0.72\\\",\\\"0.73\\\",\\\"0.74\\\",\\\"0.75\\\",\\\"0.76\\\",\\\"0.77\\\",\\\"0.78\\\",\\\"0.79\\\",\\\"0.8\\\",\\\"0.81\\\",\\\"0.82\\\",\\\"0.83\\\",\\\"0.84\\\",\\\"0.85\\\",\\\"0.86\\\",\\\"0.87\\\",\\\"0.88\\\",\\\"0.89\\\",\\\"0.9\\\",\\\"0.91\\\",\\\"0.92\\\",\\\"0.93\\\",\\\"0.94\\\",\\\"0.95\\\",\\\"0.96\\\",\\\"0.97\\\",\\\"0.98\\\",\\\"0.99\\\",\\\"1.0\\\",\\\"1.01\\\",\\\"1.02\\\",\\\"1.03\\\",\\\"1.04\\\",\\\"1.05\\\",\\\"1.06\\\",\\\"1.07\\\",\\\"1.08\\\",\\\"1.09\\\",\\\"1.1\\\",\\\"1.11\\\",\\\"1.12\\\",\\\"1.13\\\",\\\"1.14\\\",\\\"1.15\\\",\\\"1.16\\\",\\\"1.17\\\",\\\"1.18\\\",\\\"1.19\\\",\\\"1.2\\\",\\\"1.21\\\",\\\"1.22\\\",\\\"1.23\\\",\\\"1.24\\\",\\\"1.25\\\",\\\"1.26\\\",\\\"1.27\\\",\\\"1.28\\\",\\\"1.29\\\",\\\"1.3\\\",\\\"1.31\\\",\\\"1.32\\\",\\\"1.33\\\",\\\"1.34\\\",\\\"1.35\\\",\\\"1.36\\\",\\\"1.37\\\",\\\"1.38\\\",\\\"1.39\\\",\\\"1.4\\\",\\\"1.41\\\",\\\"1.42\\\",\\\"1.43\\\",\\\"1.44\\\",\\\"1.45\\\",\\\"1.46\\\",\\\"1.47\\\",\\\"1.48\\\",\\\"1.49\\\",\\\"1.5\\\",\\\"1.51\\\",\\\"1.52\\\",\\\"1.53\\\",\\\"1.54\\\",\\\"1.55\\\",\\\"1.56\\\",\\\"1.57\\\",\\\"1.58\\\",\\\"1.59\\\",\\\"1.6\\\",\\\"1.61\\\",\\\"1.62\\\",\\\"1.63\\\",\\\"1.64\\\",\\\"1.65\\\",\\\"1.66\\\",\\\"1.67\\\",\\\"1.68\\\",\\\"1.69\\\",\\\"1.7\\\",\\\"1.71\\\",\\\"1.72\\\",\\\"1.73\\\",\\\"1.74\\\",\\\"1.75\\\",\\\"1.76\\\",\\\"1.77\\\",\\\"1.78\\\",\\\"1.79\\\",\\\"1.8\\\",\\\"1.81\\\",\\\"1.82\\\",\\\"1.83\\\",\\\"1.84\\\",\\\"1.85\\\",\\\"1.86\\\",\\\"1.87\\\",\\\"1.88\\\",\\\"1.89\\\",\\\"1.9\\\",\\\"1.91\\\",\\\"1.92\\\",\\\"1.93\\\",\\\"1.94\\\",\\\"1.95\\\",\\\"1.96\\\",\\\"1.97\\\",\\\"1.98\\\",\\\"1.99\\\",\\\"2.0\\\"],\\\"changes\\\":WebIO.getval({\\\"name\\\":\\\"changes\\\",\\\"scope\\\":\\\"16445410748544615641\\\",\\\"id\\\":\\\"3892606935881959430\\\",\\\"type\\\":\\\"observable\\\"}),\\\"index\\\":WebIO.getval({\\\"name\\\":\\\"index\\\",\\\"scope\\\":\\\"16445410748544615641\\\",\\\"id\\\":\\\"8513658366725844671\\\",\\\"type\\\":\\\"observable\\\"})};\\n    var self = this;\\n    function AppViewModel() {\\n        for (var key in json_data) {\\n            var el = json_data[key];\\n            this[key] = Array.isArray(el) ? ko.observableArray(el) : ko.observable(el);\\n        }\\n        \\n        [this[\\\"formatted_val\\\"]=ko.computed(    function(){\\n        return this.formatted_vals()[parseInt(this.index())-(1)];\\n    }\\n,this)]\\n        [this[\\\"changes\\\"].subscribe((function (val){!(this.valueFromJulia[\\\"changes\\\"]) ? (WebIO.setval({\\\"name\\\":\\\"changes\\\",\\\"scope\\\":\\\"16445410748544615641\\\",\\\"id\\\":\\\"3892606935881959430\\\",\\\"type\\\":\\\"observable\\\"},val)) : undefined; return this.valueFromJulia[\\\"changes\\\"]=false}),self),this[\\\"index\\\"].subscribe((function (val){!(this.valueFromJulia[\\\"index\\\"]) ? (WebIO.setval({\\\"name\\\":\\\"index\\\",\\\"scope\\\":\\\"16445410748544615641\\\",\\\"id\\\":\\\"8513658366725844671\\\",\\\"type\\\":\\\"observable\\\"},val)) : undefined; return this.valueFromJulia[\\\"index\\\"]=false}),self)]\\n        \\n    }\\n    self.model = new AppViewModel();\\n    self.valueFromJulia = {};\\n    for (var key in json_data) {\\n        self.valueFromJulia[key] = false;\\n    }\\n    ko.applyBindings(self.model, self.dom);\\n}\\n);\\n    (WebIO.importBlock({\\\"data\\\":[{\\\"name\\\":\\\"knockout\\\",\\\"type\\\":\\\"js\\\",\\\"url\\\":\\\"\\/assetserver\\/2712bb0a7395d062608c2f218a74b700f6c76b99-knockout.js\\\"},{\\\"name\\\":\\\"knockout_punches\\\",\\\"type\\\":\\\"js\\\",\\\"url\\\":\\\"\\/assetserver\\/fb4445501a2be4ab82176667f844e40da26fa007-knockout_punches.js\\\"}],\\\"type\\\":\\\"async_block\\\"})).then((imports) => handler.apply(this, imports));\\n}\\n\"],\"observables\":{\"changes\":{\"sync\":false,\"id\":\"3892606935881959430\",\"value\":0},\"index\":{\"sync\":true,\"id\":\"8513658366725844671\",\"value\":101}}},\"children\":[{\"props\":{\"className\":\"interact-flex-row interact-widget\"},\"nodeType\":\"DOM\",\"type\":\"node\",\"instanceArgs\":{\"namespace\":\"html\",\"tag\":\"div\"},\"children\":[{\"props\":{\"className\":\"interact-flex-row-left\"},\"nodeType\":\"DOM\",\"type\":\"node\",\"instanceArgs\":{\"namespace\":\"html\",\"tag\":\"div\"},\"children\":[{\"props\":{\"className\":\"interact \",\"style\":{\"padding\":\"5px 10px 0px 10px\"}},\"nodeType\":\"DOM\",\"type\":\"node\",\"instanceArgs\":{\"namespace\":\"html\",\"tag\":\"label\"},\"children\":[\"K\"]}]},{\"props\":{\"className\":\"interact-flex-row-center\"},\"nodeType\":\"DOM\",\"type\":\"node\",\"instanceArgs\":{\"namespace\":\"html\",\"tag\":\"div\"},\"children\":[{\"props\":{\"max\":201,\"min\":1,\"attributes\":{\"type\":\"range\",\"data-bind\":\"numericValue: index, valueUpdate: 'input', event: {change: function (){this.changes(this.changes()+1)}}\",\"orient\":\"horizontal\"},\"step\":1,\"className\":\"slider slider is-fullwidth\",\"style\":{}},\"nodeType\":\"DOM\",\"type\":\"node\",\"instanceArgs\":{\"namespace\":\"html\",\"tag\":\"input\"},\"children\":[]}]},{\"props\":{\"className\":\"interact-flex-row-right\"},\"nodeType\":\"DOM\",\"type\":\"node\",\"instanceArgs\":{\"namespace\":\"html\",\"tag\":\"div\"},\"children\":[{\"props\":{\"attributes\":{\"data-bind\":\"text: formatted_val\"}},\"nodeType\":\"DOM\",\"type\":\"node\",\"instanceArgs\":{\"namespace\":\"html\",\"tag\":\"p\"},\"children\":[]}]}]}]}]},{\"props\":{\"className\":\"field interact-widget\"},\"nodeType\":\"DOM\",\"type\":\"node\",\"instanceArgs\":{\"namespace\":\"html\",\"tag\":\"div\"},\"children\":[{\"props\":{},\"nodeType\":\"Scope\",\"type\":\"node\",\"instanceArgs\":{\"imports\":{\"data\":[{\"name\":\"knockout\",\"type\":\"js\",\"url\":\"\\/assetserver\\/2712bb0a7395d062608c2f218a74b700f6c76b99-knockout.js\"},{\"name\":\"knockout_punches\",\"type\":\"js\",\"url\":\"\\/assetserver\\/fb4445501a2be4ab82176667f844e40da26fa007-knockout_punches.js\"},{\"name\":null,\"type\":\"js\",\"url\":\"\\/assetserver\\/a8ea7d9192d5fa85c6fac26c72d7fece1e500138-all.js\"},{\"name\":null,\"type\":\"css\",\"url\":\"\\/assetserver\\/620a53798cfdb29a4a2142ce0588e9aadc351d94-style.css\"},{\"name\":null,\"type\":\"css\",\"url\":\"\\/assetserver\\/9f2f17f677abbfd015a7c6b0c0f09a2da809bee2-bulma_confined.min.css\"}],\"type\":\"async_block\"},\"id\":\"7319276285980691453\",\"handlers\":{\"changes\":[\"(function (val){return (val!=this.model[\\\"changes\\\"]()) ? (this.valueFromJulia[\\\"changes\\\"]=true, this.model[\\\"changes\\\"](val)) : undefined})\"],\"index\":[\"(function (val){return (val!=this.model[\\\"index\\\"]()) ? (this.valueFromJulia[\\\"index\\\"]=true, this.model[\\\"index\\\"](val)) : undefined})\"]},\"systemjs_options\":null,\"mount_callbacks\":[\"function () {\\n    var handler = (function (ko, koPunches) {\\n    ko.punches.enableAll();\\n    ko.bindingHandlers.numericValue = {\\n        init: function(element, valueAccessor, allBindings, data, context) {\\n            var stringified = ko.observable(ko.unwrap(valueAccessor()));\\n            stringified.subscribe(function(value) {\\n                var val = parseFloat(value);\\n                if (!isNaN(val)) {\\n                    valueAccessor()(val);\\n                }\\n            });\\n            valueAccessor().subscribe(function(value) {\\n                var str = JSON.stringify(value);\\n                if ((str == \\\"0\\\") && ([\\\"-0\\\", \\\"-0.\\\"].indexOf(stringified()) >= 0))\\n                     return;\\n                 if ([\\\"null\\\", \\\"\\\"].indexOf(str) >= 0)\\n                     return;\\n                stringified(str);\\n            });\\n            ko.applyBindingsToNode(\\n                element,\\n                {\\n                    value: stringified,\\n                    valueUpdate: allBindings.get('valueUpdate'),\\n                },\\n                context,\\n            );\\n        }\\n    };\\n    var json_data = {\\\"formatted_vals\\\":[\\\"0.0\\\",\\\"0.01\\\",\\\"0.02\\\",\\\"0.03\\\",\\\"0.04\\\",\\\"0.05\\\",\\\"0.06\\\",\\\"0.07\\\",\\\"0.08\\\",\\\"0.09\\\",\\\"0.1\\\",\\\"0.11\\\",\\\"0.12\\\",\\\"0.13\\\",\\\"0.14\\\",\\\"0.15\\\",\\\"0.16\\\",\\\"0.17\\\",\\\"0.18\\\",\\\"0.19\\\",\\\"0.2\\\",\\\"0.21\\\",\\\"0.22\\\",\\\"0.23\\\",\\\"0.24\\\",\\\"0.25\\\",\\\"0.26\\\",\\\"0.27\\\",\\\"0.28\\\",\\\"0.29\\\",\\\"0.3\\\",\\\"0.31\\\",\\\"0.32\\\",\\\"0.33\\\",\\\"0.34\\\",\\\"0.35\\\",\\\"0.36\\\",\\\"0.37\\\",\\\"0.38\\\",\\\"0.39\\\",\\\"0.4\\\",\\\"0.41\\\",\\\"0.42\\\",\\\"0.43\\\",\\\"0.44\\\",\\\"0.45\\\",\\\"0.46\\\",\\\"0.47\\\",\\\"0.48\\\",\\\"0.49\\\",\\\"0.5\\\"],\\\"changes\\\":WebIO.getval({\\\"name\\\":\\\"changes\\\",\\\"scope\\\":\\\"7319276285980691453\\\",\\\"id\\\":\\\"3517357105483932811\\\",\\\"type\\\":\\\"observable\\\"}),\\\"index\\\":WebIO.getval({\\\"name\\\":\\\"index\\\",\\\"scope\\\":\\\"7319276285980691453\\\",\\\"id\\\":\\\"307643750660341339\\\",\\\"type\\\":\\\"observable\\\"})};\\n    var self = this;\\n    function AppViewModel() {\\n        for (var key in json_data) {\\n            var el = json_data[key];\\n            this[key] = Array.isArray(el) ? ko.observableArray(el) : ko.observable(el);\\n        }\\n        \\n        [this[\\\"formatted_val\\\"]=ko.computed(    function(){\\n        return this.formatted_vals()[parseInt(this.index())-(1)];\\n    }\\n,this)]\\n        [this[\\\"changes\\\"].subscribe((function (val){!(this.valueFromJulia[\\\"changes\\\"]) ? (WebIO.setval({\\\"name\\\":\\\"changes\\\",\\\"scope\\\":\\\"7319276285980691453\\\",\\\"id\\\":\\\"3517357105483932811\\\",\\\"type\\\":\\\"observable\\\"},val)) : undefined; return this.valueFromJulia[\\\"changes\\\"]=false}),self),this[\\\"index\\\"].subscribe((function (val){!(this.valueFromJulia[\\\"index\\\"]) ? (WebIO.setval({\\\"name\\\":\\\"index\\\",\\\"scope\\\":\\\"7319276285980691453\\\",\\\"id\\\":\\\"307643750660341339\\\",\\\"type\\\":\\\"observable\\\"},val)) : undefined; return this.valueFromJulia[\\\"index\\\"]=false}),self)]\\n        \\n    }\\n    self.model = new AppViewModel();\\n    self.valueFromJulia = {};\\n    for (var key in json_data) {\\n        self.valueFromJulia[key] = false;\\n    }\\n    ko.applyBindings(self.model, self.dom);\\n}\\n);\\n    (WebIO.importBlock({\\\"data\\\":[{\\\"name\\\":\\\"knockout\\\",\\\"type\\\":\\\"js\\\",\\\"url\\\":\\\"\\/assetserver\\/2712bb0a7395d062608c2f218a74b700f6c76b99-knockout.js\\\"},{\\\"name\\\":\\\"knockout_punches\\\",\\\"type\\\":\\\"js\\\",\\\"url\\\":\\\"\\/assetserver\\/fb4445501a2be4ab82176667f844e40da26fa007-knockout_punches.js\\\"}],\\\"type\\\":\\\"async_block\\\"})).then((imports) => handler.apply(this, imports));\\n}\\n\"],\"observables\":{\"changes\":{\"sync\":false,\"id\":\"3517357105483932811\",\"value\":0},\"index\":{\"sync\":true,\"id\":\"307643750660341339\",\"value\":26}}},\"children\":[{\"props\":{\"className\":\"interact-flex-row interact-widget\"},\"nodeType\":\"DOM\",\"type\":\"node\",\"instanceArgs\":{\"namespace\":\"html\",\"tag\":\"div\"},\"children\":[{\"props\":{\"className\":\"interact-flex-row-left\"},\"nodeType\":\"DOM\",\"type\":\"node\",\"instanceArgs\":{\"namespace\":\"html\",\"tag\":\"div\"},\"children\":[{\"props\":{\"className\":\"interact \",\"style\":{\"padding\":\"5px 10px 0px 10px\"}},\"nodeType\":\"DOM\",\"type\":\"node\",\"instanceArgs\":{\"namespace\":\"html\",\"tag\":\"label\"},\"children\":[\"H\"]}]},{\"props\":{\"className\":\"interact-flex-row-center\"},\"nodeType\":\"DOM\",\"type\":\"node\",\"instanceArgs\":{\"namespace\":\"html\",\"tag\":\"div\"},\"children\":[{\"props\":{\"max\":51,\"min\":1,\"attributes\":{\"type\":\"range\",\"data-bind\":\"numericValue: index, valueUpdate: 'input', event: {change: function (){this.changes(this.changes()+1)}}\",\"orient\":\"horizontal\"},\"step\":1,\"className\":\"slider slider is-fullwidth\",\"style\":{}},\"nodeType\":\"DOM\",\"type\":\"node\",\"instanceArgs\":{\"namespace\":\"html\",\"tag\":\"input\"},\"children\":[]}]},{\"props\":{\"className\":\"interact-flex-row-right\"},\"nodeType\":\"DOM\",\"type\":\"node\",\"instanceArgs\":{\"namespace\":\"html\",\"tag\":\"div\"},\"children\":[{\"props\":{\"attributes\":{\"data-bind\":\"text: formatted_val\"}},\"nodeType\":\"DOM\",\"type\":\"node\",\"instanceArgs\":{\"namespace\":\"html\",\"tag\":\"p\"},\"children\":[]}]}]}]}]},{\"props\":{\"className\":\"field interact-widget\"},\"nodeType\":\"DOM\",\"type\":\"node\",\"instanceArgs\":{\"namespace\":\"html\",\"tag\":\"div\"},\"children\":[{\"props\":{},\"nodeType\":\"Scope\",\"type\":\"node\",\"instanceArgs\":{\"imports\":{\"data\":[{\"name\":\"knockout\",\"type\":\"js\",\"url\":\"\\/assetserver\\/2712bb0a7395d062608c2f218a74b700f6c76b99-knockout.js\"},{\"name\":\"knockout_punches\",\"type\":\"js\",\"url\":\"\\/assetserver\\/fb4445501a2be4ab82176667f844e40da26fa007-knockout_punches.js\"},{\"name\":null,\"type\":\"js\",\"url\":\"\\/assetserver\\/a8ea7d9192d5fa85c6fac26c72d7fece1e500138-all.js\"},{\"name\":null,\"type\":\"css\",\"url\":\"\\/assetserver\\/620a53798cfdb29a4a2142ce0588e9aadc351d94-style.css\"},{\"name\":null,\"type\":\"css\",\"url\":\"\\/assetserver\\/9f2f17f677abbfd015a7c6b0c0f09a2da809bee2-bulma_confined.min.css\"}],\"type\":\"async_block\"},\"id\":\"6100175111496954735\",\"handlers\":{\"changes\":[\"(function (val){return (val!=this.model[\\\"changes\\\"]()) ? (this.valueFromJulia[\\\"changes\\\"]=true, this.model[\\\"changes\\\"](val)) : undefined})\"],\"index\":[\"(function (val){return (val!=this.model[\\\"index\\\"]()) ? (this.valueFromJulia[\\\"index\\\"]=true, this.model[\\\"index\\\"](val)) : undefined})\"]},\"systemjs_options\":null,\"mount_callbacks\":[\"function () {\\n    var handler = (function (ko, koPunches) {\\n    ko.punches.enableAll();\\n    ko.bindingHandlers.numericValue = {\\n        init: function(element, valueAccessor, allBindings, data, context) {\\n            var stringified = ko.observable(ko.unwrap(valueAccessor()));\\n            stringified.subscribe(function(value) {\\n                var val = parseFloat(value);\\n                if (!isNaN(val)) {\\n                    valueAccessor()(val);\\n                }\\n            });\\n            valueAccessor().subscribe(function(value) {\\n                var str = JSON.stringify(value);\\n                if ((str == \\\"0\\\") && ([\\\"-0\\\", \\\"-0.\\\"].indexOf(stringified()) >= 0))\\n                     return;\\n                 if ([\\\"null\\\", \\\"\\\"].indexOf(str) >= 0)\\n                     return;\\n                stringified(str);\\n            });\\n            ko.applyBindingsToNode(\\n                element,\\n                {\\n                    value: stringified,\\n                    valueUpdate: allBindings.get('valueUpdate'),\\n                },\\n                context,\\n            );\\n        }\\n    };\\n    var json_data = {\\\"formatted_vals\\\":[\\\"0.0\\\",\\\"0.02\\\",\\\"0.04\\\",\\\"0.06\\\",\\\"0.08\\\",\\\"0.1\\\",\\\"0.12\\\",\\\"0.14\\\",\\\"0.16\\\",\\\"0.18\\\",\\\"0.2\\\",\\\"0.22\\\",\\\"0.24\\\",\\\"0.26\\\",\\\"0.28\\\",\\\"0.3\\\",\\\"0.32\\\",\\\"0.34\\\",\\\"0.36\\\",\\\"0.38\\\",\\\"0.4\\\",\\\"0.42\\\",\\\"0.44\\\",\\\"0.46\\\",\\\"0.48\\\",\\\"0.5\\\",\\\"0.52\\\",\\\"0.54\\\",\\\"0.56\\\",\\\"0.58\\\",\\\"0.6\\\",\\\"0.62\\\",\\\"0.64\\\",\\\"0.66\\\",\\\"0.68\\\",\\\"0.7\\\",\\\"0.72\\\",\\\"0.74\\\",\\\"0.76\\\",\\\"0.78\\\",\\\"0.8\\\",\\\"0.82\\\",\\\"0.84\\\",\\\"0.86\\\",\\\"0.88\\\",\\\"0.9\\\",\\\"0.92\\\",\\\"0.94\\\",\\\"0.96\\\",\\\"0.98\\\",\\\"1.0\\\",\\\"1.02\\\",\\\"1.04\\\",\\\"1.06\\\",\\\"1.08\\\",\\\"1.1\\\",\\\"1.12\\\",\\\"1.14\\\",\\\"1.16\\\",\\\"1.18\\\",\\\"1.2\\\",\\\"1.22\\\",\\\"1.24\\\",\\\"1.26\\\",\\\"1.28\\\",\\\"1.3\\\",\\\"1.32\\\",\\\"1.34\\\",\\\"1.36\\\",\\\"1.38\\\",\\\"1.4\\\",\\\"1.42\\\",\\\"1.44\\\",\\\"1.46\\\",\\\"1.48\\\",\\\"1.5\\\",\\\"1.52\\\",\\\"1.54\\\",\\\"1.56\\\",\\\"1.58\\\",\\\"1.6\\\",\\\"1.62\\\",\\\"1.64\\\",\\\"1.66\\\",\\\"1.68\\\",\\\"1.7\\\",\\\"1.72\\\",\\\"1.74\\\",\\\"1.76\\\",\\\"1.78\\\",\\\"1.8\\\",\\\"1.82\\\",\\\"1.84\\\",\\\"1.86\\\",\\\"1.88\\\",\\\"1.9\\\",\\\"1.92\\\",\\\"1.94\\\",\\\"1.96\\\",\\\"1.98\\\",\\\"2.0\\\"],\\\"changes\\\":WebIO.getval({\\\"name\\\":\\\"changes\\\",\\\"scope\\\":\\\"6100175111496954735\\\",\\\"id\\\":\\\"356826486325650119\\\",\\\"type\\\":\\\"observable\\\"}),\\\"index\\\":WebIO.getval({\\\"name\\\":\\\"index\\\",\\\"scope\\\":\\\"6100175111496954735\\\",\\\"id\\\":\\\"17923950706817632654\\\",\\\"type\\\":\\\"observable\\\"})};\\n    var self = this;\\n    function AppViewModel() {\\n        for (var key in json_data) {\\n            var el = json_data[key];\\n            this[key] = Array.isArray(el) ? ko.observableArray(el) : ko.observable(el);\\n        }\\n        \\n        [this[\\\"formatted_val\\\"]=ko.computed(    function(){\\n        return this.formatted_vals()[parseInt(this.index())-(1)];\\n    }\\n,this)]\\n        [this[\\\"changes\\\"].subscribe((function (val){!(this.valueFromJulia[\\\"changes\\\"]) ? (WebIO.setval({\\\"name\\\":\\\"changes\\\",\\\"scope\\\":\\\"6100175111496954735\\\",\\\"id\\\":\\\"356826486325650119\\\",\\\"type\\\":\\\"observable\\\"},val)) : undefined; return this.valueFromJulia[\\\"changes\\\"]=false}),self),this[\\\"index\\\"].subscribe((function (val){!(this.valueFromJulia[\\\"index\\\"]) ? (WebIO.setval({\\\"name\\\":\\\"index\\\",\\\"scope\\\":\\\"6100175111496954735\\\",\\\"id\\\":\\\"17923950706817632654\\\",\\\"type\\\":\\\"observable\\\"},val)) : undefined; return this.valueFromJulia[\\\"index\\\"]=false}),self)]\\n        \\n    }\\n    self.model = new AppViewModel();\\n    self.valueFromJulia = {};\\n    for (var key in json_data) {\\n        self.valueFromJulia[key] = false;\\n    }\\n    ko.applyBindings(self.model, self.dom);\\n}\\n);\\n    (WebIO.importBlock({\\\"data\\\":[{\\\"name\\\":\\\"knockout\\\",\\\"type\\\":\\\"js\\\",\\\"url\\\":\\\"\\/assetserver\\/2712bb0a7395d062608c2f218a74b700f6c76b99-knockout.js\\\"},{\\\"name\\\":\\\"knockout_punches\\\",\\\"type\\\":\\\"js\\\",\\\"url\\\":\\\"\\/assetserver\\/fb4445501a2be4ab82176667f844e40da26fa007-knockout_punches.js\\\"}],\\\"type\\\":\\\"async_block\\\"})).then((imports) => handler.apply(this, imports));\\n}\\n\"],\"observables\":{\"changes\":{\"sync\":false,\"id\":\"356826486325650119\",\"value\":0},\"index\":{\"sync\":true,\"id\":\"17923950706817632654\",\"value\":51}}},\"children\":[{\"props\":{\"className\":\"interact-flex-row interact-widget\"},\"nodeType\":\"DOM\",\"type\":\"node\",\"instanceArgs\":{\"namespace\":\"html\",\"tag\":\"div\"},\"children\":[{\"props\":{\"className\":\"interact-flex-row-left\"},\"nodeType\":\"DOM\",\"type\":\"node\",\"instanceArgs\":{\"namespace\":\"html\",\"tag\":\"div\"},\"children\":[{\"props\":{\"className\":\"interact \",\"style\":{\"padding\":\"5px 10px 0px 10px\"}},\"nodeType\":\"DOM\",\"type\":\"node\",\"instanceArgs\":{\"namespace\":\"html\",\"tag\":\"label\"},\"children\":[\"x0\"]}]},{\"props\":{\"className\":\"interact-flex-row-center\"},\"nodeType\":\"DOM\",\"type\":\"node\",\"instanceArgs\":{\"namespace\":\"html\",\"tag\":\"div\"},\"children\":[{\"props\":{\"max\":101,\"min\":1,\"attributes\":{\"type\":\"range\",\"data-bind\":\"numericValue: index, valueUpdate: 'input', event: {change: function (){this.changes(this.changes()+1)}}\",\"orient\":\"horizontal\"},\"step\":1,\"className\":\"slider slider is-fullwidth\",\"style\":{}},\"nodeType\":\"DOM\",\"type\":\"node\",\"instanceArgs\":{\"namespace\":\"html\",\"tag\":\"input\"},\"children\":[]}]},{\"props\":{\"className\":\"interact-flex-row-right\"},\"nodeType\":\"DOM\",\"type\":\"node\",\"instanceArgs\":{\"namespace\":\"html\",\"tag\":\"div\"},\"children\":[{\"props\":{\"attributes\":{\"data-bind\":\"text: formatted_val\"}},\"nodeType\":\"DOM\",\"type\":\"node\",\"instanceArgs\":{\"namespace\":\"html\",\"tag\":\"p\"},\"children\":[]}]}]}]}]},{\"props\":{\"className\":\"field interact-widget\"},\"nodeType\":\"DOM\",\"type\":\"node\",\"instanceArgs\":{\"namespace\":\"html\",\"tag\":\"div\"},\"children\":[{\"props\":{},\"nodeType\":\"Scope\",\"type\":\"node\",\"instanceArgs\":{\"imports\":{\"data\":[{\"name\":\"knockout\",\"type\":\"js\",\"url\":\"\\/assetserver\\/2712bb0a7395d062608c2f218a74b700f6c76b99-knockout.js\"},{\"name\":\"knockout_punches\",\"type\":\"js\",\"url\":\"\\/assetserver\\/fb4445501a2be4ab82176667f844e40da26fa007-knockout_punches.js\"},{\"name\":null,\"type\":\"js\",\"url\":\"\\/assetserver\\/a8ea7d9192d5fa85c6fac26c72d7fece1e500138-all.js\"},{\"name\":null,\"type\":\"css\",\"url\":\"\\/assetserver\\/620a53798cfdb29a4a2142ce0588e9aadc351d94-style.css\"},{\"name\":null,\"type\":\"css\",\"url\":\"\\/assetserver\\/9f2f17f677abbfd015a7c6b0c0f09a2da809bee2-bulma_confined.min.css\"}],\"type\":\"async_block\"},\"id\":\"6942413199281188115\",\"handlers\":{\"changes\":[\"(function (val){return (val!=this.model[\\\"changes\\\"]()) ? (this.valueFromJulia[\\\"changes\\\"]=true, this.model[\\\"changes\\\"](val)) : undefined})\"],\"index\":[\"(function (val){return (val!=this.model[\\\"index\\\"]()) ? (this.valueFromJulia[\\\"index\\\"]=true, this.model[\\\"index\\\"](val)) : undefined})\"]},\"systemjs_options\":null,\"mount_callbacks\":[\"function () {\\n    var handler = (function (ko, koPunches) {\\n    ko.punches.enableAll();\\n    ko.bindingHandlers.numericValue = {\\n        init: function(element, valueAccessor, allBindings, data, context) {\\n            var stringified = ko.observable(ko.unwrap(valueAccessor()));\\n            stringified.subscribe(function(value) {\\n                var val = parseFloat(value);\\n                if (!isNaN(val)) {\\n                    valueAccessor()(val);\\n                }\\n            });\\n            valueAccessor().subscribe(function(value) {\\n                var str = JSON.stringify(value);\\n                if ((str == \\\"0\\\") && ([\\\"-0\\\", \\\"-0.\\\"].indexOf(stringified()) >= 0))\\n                     return;\\n                 if ([\\\"null\\\", \\\"\\\"].indexOf(str) >= 0)\\n                     return;\\n                stringified(str);\\n            });\\n            ko.applyBindingsToNode(\\n                element,\\n                {\\n                    value: stringified,\\n                    valueUpdate: allBindings.get('valueUpdate'),\\n                },\\n                context,\\n            );\\n        }\\n    };\\n    var json_data = {\\\"formatted_vals\\\":[\\\"1.0\\\",\\\"6.0\\\",\\\"11.0\\\",\\\"16.0\\\",\\\"21.0\\\",\\\"26.0\\\",\\\"31.0\\\",\\\"36.0\\\",\\\"41.0\\\",\\\"46.0\\\"],\\\"changes\\\":WebIO.getval({\\\"name\\\":\\\"changes\\\",\\\"scope\\\":\\\"6942413199281188115\\\",\\\"id\\\":\\\"15170543166729931463\\\",\\\"type\\\":\\\"observable\\\"}),\\\"index\\\":WebIO.getval({\\\"name\\\":\\\"index\\\",\\\"scope\\\":\\\"6942413199281188115\\\",\\\"id\\\":\\\"14739021544532511177\\\",\\\"type\\\":\\\"observable\\\"})};\\n    var self = this;\\n    function AppViewModel() {\\n        for (var key in json_data) {\\n            var el = json_data[key];\\n            this[key] = Array.isArray(el) ? ko.observableArray(el) : ko.observable(el);\\n        }\\n        \\n        [this[\\\"formatted_val\\\"]=ko.computed(    function(){\\n        return this.formatted_vals()[parseInt(this.index())-(1)];\\n    }\\n,this)]\\n        [this[\\\"changes\\\"].subscribe((function (val){!(this.valueFromJulia[\\\"changes\\\"]) ? (WebIO.setval({\\\"name\\\":\\\"changes\\\",\\\"scope\\\":\\\"6942413199281188115\\\",\\\"id\\\":\\\"15170543166729931463\\\",\\\"type\\\":\\\"observable\\\"},val)) : undefined; return this.valueFromJulia[\\\"changes\\\"]=false}),self),this[\\\"index\\\"].subscribe((function (val){!(this.valueFromJulia[\\\"index\\\"]) ? (WebIO.setval({\\\"name\\\":\\\"index\\\",\\\"scope\\\":\\\"6942413199281188115\\\",\\\"id\\\":\\\"14739021544532511177\\\",\\\"type\\\":\\\"observable\\\"},val)) : undefined; return this.valueFromJulia[\\\"index\\\"]=false}),self)]\\n        \\n    }\\n    self.model = new AppViewModel();\\n    self.valueFromJulia = {};\\n    for (var key in json_data) {\\n        self.valueFromJulia[key] = false;\\n    }\\n    ko.applyBindings(self.model, self.dom);\\n}\\n);\\n    (WebIO.importBlock({\\\"data\\\":[{\\\"name\\\":\\\"knockout\\\",\\\"type\\\":\\\"js\\\",\\\"url\\\":\\\"\\/assetserver\\/2712bb0a7395d062608c2f218a74b700f6c76b99-knockout.js\\\"},{\\\"name\\\":\\\"knockout_punches\\\",\\\"type\\\":\\\"js\\\",\\\"url\\\":\\\"\\/assetserver\\/fb4445501a2be4ab82176667f844e40da26fa007-knockout_punches.js\\\"}],\\\"type\\\":\\\"async_block\\\"})).then((imports) => handler.apply(this, imports));\\n}\\n\"],\"observables\":{\"changes\":{\"sync\":false,\"id\":\"15170543166729931463\",\"value\":0},\"index\":{\"sync\":true,\"id\":\"14739021544532511177\",\"value\":5}}},\"children\":[{\"props\":{\"className\":\"interact-flex-row interact-widget\"},\"nodeType\":\"DOM\",\"type\":\"node\",\"instanceArgs\":{\"namespace\":\"html\",\"tag\":\"div\"},\"children\":[{\"props\":{\"className\":\"interact-flex-row-left\"},\"nodeType\":\"DOM\",\"type\":\"node\",\"instanceArgs\":{\"namespace\":\"html\",\"tag\":\"div\"},\"children\":[{\"props\":{\"className\":\"interact \",\"style\":{\"padding\":\"5px 10px 0px 10px\"}},\"nodeType\":\"DOM\",\"type\":\"node\",\"instanceArgs\":{\"namespace\":\"html\",\"tag\":\"label\"},\"children\":[\"tmax\"]}]},{\"props\":{\"className\":\"interact-flex-row-center\"},\"nodeType\":\"DOM\",\"type\":\"node\",\"instanceArgs\":{\"namespace\":\"html\",\"tag\":\"div\"},\"children\":[{\"props\":{\"max\":10,\"min\":1,\"attributes\":{\"type\":\"range\",\"data-bind\":\"numericValue: index, valueUpdate: 'input', event: {change: function (){this.changes(this.changes()+1)}}\",\"orient\":\"horizontal\"},\"step\":1,\"className\":\"slider slider is-fullwidth\",\"style\":{}},\"nodeType\":\"DOM\",\"type\":\"node\",\"instanceArgs\":{\"namespace\":\"html\",\"tag\":\"input\"},\"children\":[]}]},{\"props\":{\"className\":\"interact-flex-row-right\"},\"nodeType\":\"DOM\",\"type\":\"node\",\"instanceArgs\":{\"namespace\":\"html\",\"tag\":\"div\"},\"children\":[{\"props\":{\"attributes\":{\"data-bind\":\"text: formatted_val\"}},\"nodeType\":\"DOM\",\"type\":\"node\",\"instanceArgs\":{\"namespace\":\"html\",\"tag\":\"p\"},\"children\":[]}]}]}]}]},{\"props\":{},\"nodeType\":\"Scope\",\"type\":\"node\",\"instanceArgs\":{\"imports\":{\"data\":[],\"type\":\"async_block\"},\"id\":\"8198450118429968808\",\"handlers\":{},\"systemjs_options\":null,\"mount_callbacks\":[],\"observables\":{\"obs-node\":{\"sync\":false,\"id\":\"5097561814300794993\",\"value\":{\"props\":{\"className\":\"interact-flex-row interact-widget\"},\"nodeType\":\"DOM\",\"type\":\"node\",\"instanceArgs\":{\"namespace\":\"html\",\"tag\":\"div\"},\"children\":[{\"props\":{\"setInnerHtml\":\"<img src=\\\"data:image\\/png;base64,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\\\" \\/>\"},\"nodeType\":\"DOM\",\"type\":\"node\",\"instanceArgs\":{\"namespace\":\"html\",\"tag\":\"div\"},\"children\":[]}]}}}},\"children\":[{\"props\":{},\"nodeType\":\"ObservableNode\",\"type\":\"node\",\"instanceArgs\":{\"id\":\"5097561814300794993\",\"name\":\"obs-node\"},\"children\":[]}]}]},\n",
       "        window,\n",
       "    );\n",
       "    })()\n",
       "    </script>\n",
       "</div>\n"
      ],
      "text/plain": [
       "Node{WebIO.DOM}(WebIO.DOM(:html, :div), Any[Node{WebIO.DOM}(WebIO.DOM(:html, :div), Any[Scope(Node{WebIO.DOM}(WebIO.DOM(:html, :div), Any[Node{WebIO.DOM}(WebIO.DOM(:html, :div), Any[Node{WebIO.DOM}(WebIO.DOM(:html, :label), Any[\"R\"], Dict{Symbol, Any}(:className => \"interact \", :style => Dict{Any, Any}(:padding => \"5px 10px 0px 10px\")))], Dict{Symbol, Any}(:className => \"interact-flex-row-left\")), Node{WebIO.DOM}(WebIO.DOM(:html, :div), Any[Node{WebIO.DOM}(WebIO.DOM(:html, :input), Any[], Dict{Symbol, Any}(:max => 51, :min => 1, :attributes => Dict{Any, Any}(:type => \"range\", Symbol(\"data-bind\") => \"numericValue: index, valueUpdate: 'input', event: {change: function (){this.changes(this.changes()+1)}}\", \"orient\" => \"horizontal\"), :step => 1, :className => \"slider slider is-fullwidth\", :style => Dict{Any, Any}()))], Dict{Symbol, Any}(:className => \"interact-flex-row-center\")), Node{WebIO.DOM}(WebIO.DOM(:html, :div), Any[Node{WebIO.DOM}(WebIO.DOM(:html, :p), Any[], Dict{Symbol, Any}(:attributes => Dict(\"data-bind\" => \"text: formatted_val\")))], Dict{Symbol, Any}(:className => \"interact-flex-row-right\"))], Dict{Symbol, Any}(:className => \"interact-flex-row interact-widget\")), Dict{String, Tuple{Observables.AbstractObservable, Union{Nothing, Bool}}}(\"changes\" => (Observable{Int64} with 1 listeners. Value:\n",
       "0, nothing), \"index\" => (Observable{Any} with 2 listeners. Value:\n",
       "26, nothing)), Set{String}(), nothing, Asset[Asset(\"js\", \"knockout\", \"C:\\\\Users\\\\Camilo\\\\.julia\\\\packages\\\\Knockout\\\\3gjS1\\\\src\\\\..\\\\assets\\\\knockout.js\"), Asset(\"js\", \"knockout_punches\", \"C:\\\\Users\\\\Camilo\\\\.julia\\\\packages\\\\Knockout\\\\3gjS1\\\\src\\\\..\\\\assets\\\\knockout_punches.js\"), Asset(\"js\", nothing, \"C:\\\\Users\\\\Camilo\\\\.julia\\\\packages\\\\InteractBase\\\\h8Fwe\\\\src\\\\..\\\\assets\\\\all.js\"), Asset(\"css\", nothing, \"C:\\\\Users\\\\Camilo\\\\.julia\\\\packages\\\\InteractBase\\\\h8Fwe\\\\src\\\\..\\\\assets\\\\style.css\"), Asset(\"css\", nothing, \"C:\\\\Users\\\\Camilo\\\\.julia\\\\packages\\\\Interact\\\\pVyN2\\\\src\\\\..\\\\assets\\\\bulma_confined.min.css\")], Dict{Any, Any}(\"changes\" => Any[WebIO.JSString(\"(function (val){return (val!=this.model[\\\"changes\\\"]()) ? (this.valueFromJulia[\\\"changes\\\"]=true, this.model[\\\"changes\\\"](val)) : undefined})\")], \"index\" => Any[WebIO.JSString(\"(function (val){return (val!=this.model[\\\"index\\\"]()) ? (this.valueFromJulia[\\\"index\\\"]=true, this.model[\\\"index\\\"](val)) : undefined})\")]), WebIO.ConnectionPool(Channel{Any}(32), Set{AbstractConnection}(), Condition(Base.InvasiveLinkedList{Task}(Task (runnable) @0x000000000f5b73a0, Task (runnable) @0x000000000f5b73a0), Base.AlwaysLockedST(1))), WebIO.JSString[WebIO.JSString(\"function () {\\n    var handler = (function (ko, koPunches) {\\n    ko.punches.enableAll();\\n    ko.bindingHandlers.numericValue = {\\n        init: function(element, valueAccessor, allBindings, data, context) {\\n            var stringified = ko.observable(ko.unwrap(valueAccessor()));\\n            stringified.subscribe(function(value) {\\n                var val = parseFloat(value);\\n                if (!isNaN(val)) {\\n                    valueAccessor()(val);\\n                }\\n            });\\n            valueAccessor().subscribe(function(value) {\\n                var str = JSON.stringify(value);\\n                if ((str == \\\"0\\\") && ([\\\"-0\\\", \\\"-0.\\\"].indexOf(stringified()) >= 0))\\n                     return;\\n                 if ([\\\"null\\\", \\\"\\\"].indexOf(str) >= 0)\\n                     return;\\n                stringified(str);\\n            });\\n            ko.applyBindingsToNode(\\n                element,\\n                {\\n                    value: stringified,\\n                    valueUpdate: allBindings.get('valueUpdate'),\\n                },\\n                context,\\n            );\\n        }\\n    };\\n    var json_data = {\\\"formatted_vals\\\":[\\\"0.0\\\",\\\"0.02\\\",\\\"0.04\\\",\\\"0.06\\\",\\\"0.08\\\",\\\"0.1\\\",\\\"0.12\\\",\\\"0.14\\\",\\\"0.16\\\",\\\"0.18\\\",\\\"0.2\\\",\\\"0.22\\\",\\\"0.24\\\",\\\"0.26\\\",\\\"0.28\\\",\\\"0.3\\\",\\\"0.32\\\",\\\"0.34\\\",\\\"0.36\\\",\\\"0.38\\\",\\\"0.4\\\",\\\"0.42\\\",\\\"0.44\\\",\\\"0.46\\\",\\\"0.48\\\",\\\"0.5\\\",\\\"0.52\\\",\\\"0.54\\\",\\\"0.56\\\",\\\"0.58\\\",\\\"0.6\\\",\\\"0.62\\\",\\\"0.64\\\",\\\"0.66\\\",\\\"0.68\\\",\\\"0.7\\\",\\\"0.72\\\",\\\"0.74\\\",\\\"0.76\\\",\\\"0.78\\\",\\\"0.8\\\",\\\"0.82\\\",\\\"0.84\\\",\\\"0.86\\\",\\\"0.88\\\",\\\"0.9\\\",\\\"0.92\\\",\\\"0.94\\\",\\\"0.96\\\",\\\"0.98\\\",\\\"1.0\\\"],\\\"changes\\\":WebIO.getval({\\\"name\\\":\\\"changes\\\",\\\"scope\\\":\\\"2312858216402319939\\\",\\\"id\\\":\\\"8896598424121859195\\\",\\\"type\\\":\\\"observable\\\"}),\\\"index\\\":WebIO.getval({\\\"name\\\":\\\"index\\\",\\\"scope\\\":\\\"2312858216402319939\\\",\\\"id\\\":\\\"15545102566137119075\\\",\\\"type\\\":\\\"observable\\\"})};\\n    var self = this;\\n    function AppViewModel() {\\n        for (var key in json_data) {\\n            var el = json_data[key];\\n            this[key] = Array.isArray(el) ? ko.observableArray(el) : ko.observable(el);\\n        }\\n        \\n        [this[\\\"formatted_val\\\"]=ko.computed(    function(){\\n        return this.formatted_vals()[parseInt(this.index())-(1)];\\n    }\\n,this)]\\n        [this[\\\"changes\\\"].subscribe((function (val){!(this.valueFromJulia[\\\"changes\\\"]) ? (WebIO.setval({\\\"name\\\":\\\"changes\\\",\\\"scope\\\":\\\"2312858216402319939\\\",\\\"id\\\":\\\"8896598424121859195\\\",\\\"type\\\":\\\"observable\\\"},val)) : undefined; return this.valueFromJulia[\\\"changes\\\"]=false}),self),this[\\\"index\\\"].subscribe((function (val){!(this.valueFromJulia[\\\"index\\\"]) ? (WebIO.setval({\\\"name\\\":\\\"index\\\",\\\"scope\\\":\\\"2312858216402319939\\\",\\\"id\\\":\\\"15545102566137119075\\\",\\\"type\\\":\\\"observable\\\"},val)) : undefined; return this.valueFromJulia[\\\"index\\\"]=false}),self)]\\n        \\n    }\\n    self.model = new AppViewModel();\\n    self.valueFromJulia = {};\\n    for (var key in json_data) {\\n        self.valueFromJulia[key] = false;\\n    }\\n    ko.applyBindings(self.model, self.dom);\\n}\\n);\\n    (WebIO.importBlock({\\\"data\\\":[{\\\"name\\\":\\\"knockout\\\",\\\"type\\\":\\\"js\\\",\\\"url\\\":\\\"/assetserver/2712bb0a7395d062608c2f218a74b700f6c76b99-knockout.js\\\"},{\\\"name\\\":\\\"knockout_punches\\\",\\\"type\\\":\\\"js\\\",\\\"url\\\":\\\"/assetserver/fb4445501a2be4ab82176667f844e40da26fa007-knockout_punches.js\\\"}],\\\"type\\\":\\\"async_block\\\"})).then((imports) => handler.apply(this, imports));\\n}\\n\")])], Dict{Symbol, Any}(:className => \"field interact-widget\")), Node{WebIO.DOM}(WebIO.DOM(:html, :div), Any[Scope(Node{WebIO.DOM}(WebIO.DOM(:html, :div), Any[Node{WebIO.DOM}(WebIO.DOM(:html, :div), Any[Node{WebIO.DOM}(WebIO.DOM(:html, :label), Any[\"K\"], Dict{Symbol, Any}(:className => \"interact \", :style => Dict{Any, Any}(:padding => \"5px 10px 0px 10px\")))], Dict{Symbol, Any}(:className => \"interact-flex-row-left\")), Node{WebIO.DOM}(WebIO.DOM(:html, :div), Any[Node{WebIO.DOM}(WebIO.DOM(:html, :input), Any[], Dict{Symbol, Any}(:max => 201, :min => 1, :attributes => Dict{Any, Any}(:type => \"range\", Symbol(\"data-bind\") => \"numericValue: index, valueUpdate: 'input', event: {change: function (){this.changes(this.changes()+1)}}\", \"orient\" => \"horizontal\"), :step => 1, :className => \"slider slider is-fullwidth\", :style => Dict{Any, Any}()))], Dict{Symbol, Any}(:className => \"interact-flex-row-center\")), Node{WebIO.DOM}(WebIO.DOM(:html, :div), Any[Node{WebIO.DOM}(WebIO.DOM(:html, :p), Any[], Dict{Symbol, Any}(:attributes => Dict(\"data-bind\" => \"text: formatted_val\")))], Dict{Symbol, Any}(:className => \"interact-flex-row-right\"))], Dict{Symbol, Any}(:className => \"interact-flex-row interact-widget\")), Dict{String, Tuple{Observables.AbstractObservable, Union{Nothing, Bool}}}(\"changes\" => (Observable{Int64} with 1 listeners. Value:\n",
       "0, nothing), \"index\" => (Observable{Any} with 2 listeners. Value:\n",
       "101, nothing)), Set{String}(), nothing, Asset[Asset(\"js\", \"knockout\", \"C:\\\\Users\\\\Camilo\\\\.julia\\\\packages\\\\Knockout\\\\3gjS1\\\\src\\\\..\\\\assets\\\\knockout.js\"), Asset(\"js\", \"knockout_punches\", \"C:\\\\Users\\\\Camilo\\\\.julia\\\\packages\\\\Knockout\\\\3gjS1\\\\src\\\\..\\\\assets\\\\knockout_punches.js\"), Asset(\"js\", nothing, \"C:\\\\Users\\\\Camilo\\\\.julia\\\\packages\\\\InteractBase\\\\h8Fwe\\\\src\\\\..\\\\assets\\\\all.js\"), Asset(\"css\", nothing, \"C:\\\\Users\\\\Camilo\\\\.julia\\\\packages\\\\InteractBase\\\\h8Fwe\\\\src\\\\..\\\\assets\\\\style.css\"), Asset(\"css\", nothing, \"C:\\\\Users\\\\Camilo\\\\.julia\\\\packages\\\\Interact\\\\pVyN2\\\\src\\\\..\\\\assets\\\\bulma_confined.min.css\")], Dict{Any, Any}(\"changes\" => Any[WebIO.JSString(\"(function (val){return (val!=this.model[\\\"changes\\\"]()) ? (this.valueFromJulia[\\\"changes\\\"]=true, this.model[\\\"changes\\\"](val)) : undefined})\")], \"index\" => Any[WebIO.JSString(\"(function (val){return (val!=this.model[\\\"index\\\"]()) ? (this.valueFromJulia[\\\"index\\\"]=true, this.model[\\\"index\\\"](val)) : undefined})\")]), WebIO.ConnectionPool(Channel{Any}(32), Set{AbstractConnection}(), Condition(Base.InvasiveLinkedList{Task}(Task (runnable) @0x000000000fc00b00, Task (runnable) @0x000000000fc00b00), Base.AlwaysLockedST(1))), WebIO.JSString[WebIO.JSString(\"function () {\\n    var handler = (function (ko, koPunches) {\\n    ko.punches.enableAll();\\n    ko.bindingHandlers.numericValue = {\\n        init: function(element, valueAccessor, allBindings, data, context) {\\n            var stringified = ko.observable(ko.unwrap(valueAccessor()));\\n            stringified.subscribe(function(value) {\\n                var val = parseFloat(value);\\n                if (!isNaN(val)) {\\n                    valueAccessor()(val);\\n                }\\n            });\\n            valueAccessor().subscribe(function(value) {\\n                var str = JSON.stringify(value);\\n                if ((str == \\\"0\\\") && ([\\\"-0\\\", \\\"-0.\\\"].indexOf(stringified()) >= 0))\\n                     return;\\n                 if ([\\\"null\\\", \\\"\\\"].indexOf(str) >= 0)\\n                     return;\\n                stringified(str);\\n            });\\n            ko.applyBindingsToNode(\\n                element,\\n                {\\n                    value: stringified,\\n                    valueUpdate: allBindings.get('valueUpdate'),\\n                },\\n                context,\\n            );\\n        }\\n    };\\n    var json_data = {\\\"formatted_vals\\\":[\\\"0.0\\\",\\\"0.01\\\",\\\"0.02\\\",\\\"0.03\\\",\\\"0.04\\\",\\\"0.05\\\",\\\"0.06\\\",\\\"0.07\\\",\\\"0.08\\\",\\\"0.09\\\",\\\"0.1\\\",\\\"0.11\\\",\\\"0.12\\\",\\\"0.13\\\",\\\"0.14\\\",\\\"0.15\\\",\\\"0.16\\\",\\\"0.17\\\",\\\"0.18\\\",\\\"0.19\\\",\\\"0.2\\\",\\\"0.21\\\",\\\"0.22\\\",\\\"0.23\\\",\\\"0.24\\\",\\\"0.25\\\",\\\"0.26\\\",\\\"0.27\\\",\\\"0.28\\\",\\\"0.29\\\",\\\"0.3\\\",\\\"0.31\\\",\\\"0.32\\\",\\\"0.33\\\",\\\"0.34\\\",\\\"0.35\\\",\\\"0.36\\\",\\\"0.37\\\",\\\"0.38\\\",\\\"0.39\\\",\\\"0.4\\\",\\\"0.41\\\",\\\"0.42\\\",\\\"0.43\\\",\\\"0.44\\\",\\\"0.45\\\",\\\"0.46\\\",\\\"0.47\\\",\\\"0.48\\\",\\\"0.49\\\",\\\"0.5\\\",\\\"0.51\\\",\\\"0.52\\\",\\\"0.53\\\",\\\"0.54\\\",\\\"0.55\\\",\\\"0.56\\\",\\\"0.57\\\",\\\"0.58\\\",\\\"0.59\\\",\\\"0.6\\\",\\\"0.61\\\",\\\"0.62\\\",\\\"0.63\\\",\\\"0.64\\\",\\\"0.65\\\",\\\"0.66\\\",\\\"0.67\\\",\\\"0.68\\\",\\\"0.69\\\",\\\"0.7\\\",\\\"0.71\\\",\\\"0.72\\\",\\\"0.73\\\",\\\"0.74\\\",\\\"0.75\\\",\\\"0.76\\\",\\\"0.77\\\",\\\"0.78\\\",\\\"0.79\\\",\\\"0.8\\\",\\\"0.81\\\",\\\"0.82\\\",\\\"0.83\\\",\\\"0.84\\\",\\\"0.85\\\",\\\"0.86\\\",\\\"0.87\\\",\\\"0.88\\\",\\\"0.89\\\",\\\"0.9\\\",\\\"0.91\\\",\\\"0.92\\\",\\\"0.93\\\",\\\"0.94\\\",\\\"0.95\\\",\\\"0.96\\\",\\\"0.97\\\",\\\"0.98\\\",\\\"0.99\\\",\\\"1.0\\\",\\\"1.01\\\",\\\"1.02\\\",\\\"1.03\\\",\\\"1.04\\\",\\\"1.05\\\",\\\"1.06\\\",\\\"1.07\\\",\\\"1.08\\\",\\\"1.09\\\",\\\"1.1\\\",\\\"1.11\\\",\\\"1.12\\\",\\\"1.13\\\",\\\"1.14\\\",\\\"1.15\\\",\\\"1.16\\\",\\\"1.17\\\",\\\"1.18\\\",\\\"1.19\\\",\\\"1.2\\\",\\\"1.21\\\",\\\"1.22\\\",\\\"1.23\\\",\\\"1.24\\\",\\\"1.25\\\",\\\"1.26\\\",\\\"1.27\\\",\\\"1.28\\\",\\\"1.29\\\",\\\"1.3\\\",\\\"1.31\\\",\\\"1.32\\\",\\\"1.33\\\",\\\"1.34\\\",\\\"1.35\\\",\\\"1.36\\\",\\\"1.37\\\",\\\"1.38\\\",\\\"1.39\\\",\\\"1.4\\\",\\\"1.41\\\",\\\"1.42\\\",\\\"1.43\\\",\\\"1.44\\\",\\\"1.45\\\",\\\"1.46\\\",\\\"1.47\\\",\\\"1.48\\\",\\\"1.49\\\",\\\"1.5\\\",\\\"1.51\\\",\\\"1.52\\\",\\\"1.53\\\",\\\"1.54\\\",\\\"1.55\\\",\\\"1.56\\\",\\\"1.57\\\",\\\"1.58\\\",\\\"1.59\\\",\\\"1.6\\\",\\\"1.61\\\",\\\"1.62\\\",\\\"1.63\\\",\\\"1.64\\\",\\\"1.65\\\",\\\"1.66\\\",\\\"1.67\\\",\\\"1.68\\\",\\\"1.69\\\",\\\"1.7\\\",\\\"1.71\\\",\\\"1.72\\\",\\\"1.73\\\",\\\"1.74\\\",\\\"1.75\\\",\\\"1.76\\\",\\\"1.77\\\",\\\"1.78\\\",\\\"1.79\\\",\\\"1.8\\\",\\\"1.81\\\",\\\"1.82\\\",\\\"1.83\\\",\\\"1.84\\\",\\\"1.85\\\",\\\"1.86\\\",\\\"1.87\\\",\\\"1.88\\\",\\\"1.89\\\",\\\"1.9\\\",\\\"1.91\\\",\\\"1.92\\\",\\\"1.93\\\",\\\"1.94\\\",\\\"1.95\\\",\\\"1.96\\\",\\\"1.97\\\",\\\"1.98\\\",\\\"1.99\\\",\\\"2.0\\\"],\\\"changes\\\":WebIO.getval({\\\"name\\\":\\\"changes\\\",\\\"scope\\\":\\\"16445410748544615641\\\",\\\"id\\\":\\\"3892606935881959430\\\",\\\"type\\\":\\\"observable\\\"}),\\\"index\\\":WebIO.getval({\\\"name\\\":\\\"index\\\",\\\"scope\\\":\\\"16445410748544615641\\\",\\\"id\\\":\\\"8513658366725844671\\\",\\\"type\\\":\\\"observable\\\"})};\\n    var self = this;\\n    function AppViewModel() {\\n        for (var key in json_data) {\\n            var el = json_data[key];\\n            this[key] = Array.isArray(el) ? ko.observableArray(el) : ko.observable(el);\\n        }\\n        \\n        [this[\\\"formatted_val\\\"]=ko.computed(    function(){\\n        return this.formatted_vals()[parseInt(this.index())-(1)];\\n    }\\n,this)]\\n        [this[\\\"changes\\\"].subscribe((function (val){!(this.valueFromJulia[\\\"changes\\\"]) ? (WebIO.setval({\\\"name\\\":\\\"changes\\\",\\\"scope\\\":\\\"16445410748544615641\\\",\\\"id\\\":\\\"3892606935881959430\\\",\\\"type\\\":\\\"observable\\\"},val)) : undefined; return this.valueFromJulia[\\\"changes\\\"]=false}),self),this[\\\"index\\\"].subscribe((function (val){!(this.valueFromJulia[\\\"index\\\"]) ? (WebIO.setval({\\\"name\\\":\\\"index\\\",\\\"scope\\\":\\\"16445410748544615641\\\",\\\"id\\\":\\\"8513658366725844671\\\",\\\"type\\\":\\\"observable\\\"},val)) : undefined; return this.valueFromJulia[\\\"index\\\"]=false}),self)]\\n        \\n    }\\n    self.model = new AppViewModel();\\n    self.valueFromJulia = {};\\n    for (var key in json_data) {\\n        self.valueFromJulia[key] = false;\\n    }\\n    ko.applyBindings(self.model, self.dom);\\n}\\n);\\n    (WebIO.importBlock({\\\"data\\\":[{\\\"name\\\":\\\"knockout\\\",\\\"type\\\":\\\"js\\\",\\\"url\\\":\\\"/assetserver/2712bb0a7395d062608c2f218a74b700f6c76b99-knockout.js\\\"},{\\\"name\\\":\\\"knockout_punches\\\",\\\"type\\\":\\\"js\\\",\\\"url\\\":\\\"/assetserver/fb4445501a2be4ab82176667f844e40da26fa007-knockout_punches.js\\\"}],\\\"type\\\":\\\"async_block\\\"})).then((imports) => handler.apply(this, imports));\\n}\\n\")])], Dict{Symbol, Any}(:className => \"field interact-widget\")), Node{WebIO.DOM}(WebIO.DOM(:html, :div), Any[Scope(Node{WebIO.DOM}(WebIO.DOM(:html, :div), Any[Node{WebIO.DOM}(WebIO.DOM(:html, :div), Any[Node{WebIO.DOM}(WebIO.DOM(:html, :label), Any[\"H\"], Dict{Symbol, Any}(:className => \"interact \", :style => Dict{Any, Any}(:padding => \"5px 10px 0px 10px\")))], Dict{Symbol, Any}(:className => \"interact-flex-row-left\")), Node{WebIO.DOM}(WebIO.DOM(:html, :div), Any[Node{WebIO.DOM}(WebIO.DOM(:html, :input), Any[], Dict{Symbol, Any}(:max => 51, :min => 1, :attributes => Dict{Any, Any}(:type => \"range\", Symbol(\"data-bind\") => \"numericValue: index, valueUpdate: 'input', event: {change: function (){this.changes(this.changes()+1)}}\", \"orient\" => \"horizontal\"), :step => 1, :className => \"slider slider is-fullwidth\", :style => Dict{Any, Any}()))], Dict{Symbol, Any}(:className => \"interact-flex-row-center\")), Node{WebIO.DOM}(WebIO.DOM(:html, :div), Any[Node{WebIO.DOM}(WebIO.DOM(:html, :p), Any[], Dict{Symbol, Any}(:attributes => Dict(\"data-bind\" => \"text: formatted_val\")))], Dict{Symbol, Any}(:className => \"interact-flex-row-right\"))], Dict{Symbol, Any}(:className => \"interact-flex-row interact-widget\")), Dict{String, Tuple{Observables.AbstractObservable, Union{Nothing, Bool}}}(\"changes\" => (Observable{Int64} with 1 listeners. Value:\n",
       "0, nothing), \"index\" => (Observable{Any} with 2 listeners. Value:\n",
       "26, nothing)), Set{String}(), nothing, Asset[Asset(\"js\", \"knockout\", \"C:\\\\Users\\\\Camilo\\\\.julia\\\\packages\\\\Knockout\\\\3gjS1\\\\src\\\\..\\\\assets\\\\knockout.js\"), Asset(\"js\", \"knockout_punches\", \"C:\\\\Users\\\\Camilo\\\\.julia\\\\packages\\\\Knockout\\\\3gjS1\\\\src\\\\..\\\\assets\\\\knockout_punches.js\"), Asset(\"js\", nothing, \"C:\\\\Users\\\\Camilo\\\\.julia\\\\packages\\\\InteractBase\\\\h8Fwe\\\\src\\\\..\\\\assets\\\\all.js\"), Asset(\"css\", nothing, \"C:\\\\Users\\\\Camilo\\\\.julia\\\\packages\\\\InteractBase\\\\h8Fwe\\\\src\\\\..\\\\assets\\\\style.css\"), Asset(\"css\", nothing, \"C:\\\\Users\\\\Camilo\\\\.julia\\\\packages\\\\Interact\\\\pVyN2\\\\src\\\\..\\\\assets\\\\bulma_confined.min.css\")], Dict{Any, Any}(\"changes\" => Any[WebIO.JSString(\"(function (val){return (val!=this.model[\\\"changes\\\"]()) ? (this.valueFromJulia[\\\"changes\\\"]=true, this.model[\\\"changes\\\"](val)) : undefined})\")], \"index\" => Any[WebIO.JSString(\"(function (val){return (val!=this.model[\\\"index\\\"]()) ? (this.valueFromJulia[\\\"index\\\"]=true, this.model[\\\"index\\\"](val)) : undefined})\")]), WebIO.ConnectionPool(Channel{Any}(32), Set{AbstractConnection}(), Condition(Base.InvasiveLinkedList{Task}(Task (runnable) @0x000000000fd673a0, Task (runnable) @0x000000000fd673a0), Base.AlwaysLockedST(1))), WebIO.JSString[WebIO.JSString(\"function () {\\n    var handler = (function (ko, koPunches) {\\n    ko.punches.enableAll();\\n    ko.bindingHandlers.numericValue = {\\n        init: function(element, valueAccessor, allBindings, data, context) {\\n            var stringified = ko.observable(ko.unwrap(valueAccessor()));\\n            stringified.subscribe(function(value) {\\n                var val = parseFloat(value);\\n                if (!isNaN(val)) {\\n                    valueAccessor()(val);\\n                }\\n            });\\n            valueAccessor().subscribe(function(value) {\\n                var str = JSON.stringify(value);\\n                if ((str == \\\"0\\\") && ([\\\"-0\\\", \\\"-0.\\\"].indexOf(stringified()) >= 0))\\n                     return;\\n                 if ([\\\"null\\\", \\\"\\\"].indexOf(str) >= 0)\\n                     return;\\n                stringified(str);\\n            });\\n            ko.applyBindingsToNode(\\n                element,\\n                {\\n                    value: stringified,\\n                    valueUpdate: allBindings.get('valueUpdate'),\\n                },\\n                context,\\n            );\\n        }\\n    };\\n    var json_data = {\\\"formatted_vals\\\":[\\\"0.0\\\",\\\"0.01\\\",\\\"0.02\\\",\\\"0.03\\\",\\\"0.04\\\",\\\"0.05\\\",\\\"0.06\\\",\\\"0.07\\\",\\\"0.08\\\",\\\"0.09\\\",\\\"0.1\\\",\\\"0.11\\\",\\\"0.12\\\",\\\"0.13\\\",\\\"0.14\\\",\\\"0.15\\\",\\\"0.16\\\",\\\"0.17\\\",\\\"0.18\\\",\\\"0.19\\\",\\\"0.2\\\",\\\"0.21\\\",\\\"0.22\\\",\\\"0.23\\\",\\\"0.24\\\",\\\"0.25\\\",\\\"0.26\\\",\\\"0.27\\\",\\\"0.28\\\",\\\"0.29\\\",\\\"0.3\\\",\\\"0.31\\\",\\\"0.32\\\",\\\"0.33\\\",\\\"0.34\\\",\\\"0.35\\\",\\\"0.36\\\",\\\"0.37\\\",\\\"0.38\\\",\\\"0.39\\\",\\\"0.4\\\",\\\"0.41\\\",\\\"0.42\\\",\\\"0.43\\\",\\\"0.44\\\",\\\"0.45\\\",\\\"0.46\\\",\\\"0.47\\\",\\\"0.48\\\",\\\"0.49\\\",\\\"0.5\\\"],\\\"changes\\\":WebIO.getval({\\\"name\\\":\\\"changes\\\",\\\"scope\\\":\\\"7319276285980691453\\\",\\\"id\\\":\\\"3517357105483932811\\\",\\\"type\\\":\\\"observable\\\"}),\\\"index\\\":WebIO.getval({\\\"name\\\":\\\"index\\\",\\\"scope\\\":\\\"7319276285980691453\\\",\\\"id\\\":\\\"307643750660341339\\\",\\\"type\\\":\\\"observable\\\"})};\\n    var self = this;\\n    function AppViewModel() {\\n        for (var key in json_data) {\\n            var el = json_data[key];\\n            this[key] = Array.isArray(el) ? ko.observableArray(el) : ko.observable(el);\\n        }\\n        \\n        [this[\\\"formatted_val\\\"]=ko.computed(    function(){\\n        return this.formatted_vals()[parseInt(this.index())-(1)];\\n    }\\n,this)]\\n        [this[\\\"changes\\\"].subscribe((function (val){!(this.valueFromJulia[\\\"changes\\\"]) ? (WebIO.setval({\\\"name\\\":\\\"changes\\\",\\\"scope\\\":\\\"7319276285980691453\\\",\\\"id\\\":\\\"3517357105483932811\\\",\\\"type\\\":\\\"observable\\\"},val)) : undefined; return this.valueFromJulia[\\\"changes\\\"]=false}),self),this[\\\"index\\\"].subscribe((function (val){!(this.valueFromJulia[\\\"index\\\"]) ? (WebIO.setval({\\\"name\\\":\\\"index\\\",\\\"scope\\\":\\\"7319276285980691453\\\",\\\"id\\\":\\\"307643750660341339\\\",\\\"type\\\":\\\"observable\\\"},val)) : undefined; return this.valueFromJulia[\\\"index\\\"]=false}),self)]\\n        \\n    }\\n    self.model = new AppViewModel();\\n    self.valueFromJulia = {};\\n    for (var key in json_data) {\\n        self.valueFromJulia[key] = false;\\n    }\\n    ko.applyBindings(self.model, self.dom);\\n}\\n);\\n    (WebIO.importBlock({\\\"data\\\":[{\\\"name\\\":\\\"knockout\\\",\\\"type\\\":\\\"js\\\",\\\"url\\\":\\\"/assetserver/2712bb0a7395d062608c2f218a74b700f6c76b99-knockout.js\\\"},{\\\"name\\\":\\\"knockout_punches\\\",\\\"type\\\":\\\"js\\\",\\\"url\\\":\\\"/assetserver/fb4445501a2be4ab82176667f844e40da26fa007-knockout_punches.js\\\"}],\\\"type\\\":\\\"async_block\\\"})).then((imports) => handler.apply(this, imports));\\n}\\n\")])], Dict{Symbol, Any}(:className => \"field interact-widget\")), Node{WebIO.DOM}(WebIO.DOM(:html, :div), Any[Scope(Node{WebIO.DOM}(WebIO.DOM(:html, :div), Any[Node{WebIO.DOM}(WebIO.DOM(:html, :div), Any[Node{WebIO.DOM}(WebIO.DOM(:html, :label), Any[\"x0\"], Dict{Symbol, Any}(:className => \"interact \", :style => Dict{Any, Any}(:padding => \"5px 10px 0px 10px\")))], Dict{Symbol, Any}(:className => \"interact-flex-row-left\")), Node{WebIO.DOM}(WebIO.DOM(:html, :div), Any[Node{WebIO.DOM}(WebIO.DOM(:html, :input), Any[], Dict{Symbol, Any}(:max => 101, :min => 1, :attributes => Dict{Any, Any}(:type => \"range\", Symbol(\"data-bind\") => \"numericValue: index, valueUpdate: 'input', event: {change: function (){this.changes(this.changes()+1)}}\", \"orient\" => \"horizontal\"), :step => 1, :className => \"slider slider is-fullwidth\", :style => Dict{Any, Any}()))], Dict{Symbol, Any}(:className => \"interact-flex-row-center\")), Node{WebIO.DOM}(WebIO.DOM(:html, :div), Any[Node{WebIO.DOM}(WebIO.DOM(:html, :p), Any[], Dict{Symbol, Any}(:attributes => Dict(\"data-bind\" => \"text: formatted_val\")))], Dict{Symbol, Any}(:className => \"interact-flex-row-right\"))], Dict{Symbol, Any}(:className => \"interact-flex-row interact-widget\")), Dict{String, Tuple{Observables.AbstractObservable, Union{Nothing, Bool}}}(\"changes\" => (Observable{Int64} with 1 listeners. Value:\n",
       "0, nothing), \"index\" => (Observable{Any} with 2 listeners. Value:\n",
       "51, nothing)), Set{String}(), nothing, Asset[Asset(\"js\", \"knockout\", \"C:\\\\Users\\\\Camilo\\\\.julia\\\\packages\\\\Knockout\\\\3gjS1\\\\src\\\\..\\\\assets\\\\knockout.js\"), Asset(\"js\", \"knockout_punches\", \"C:\\\\Users\\\\Camilo\\\\.julia\\\\packages\\\\Knockout\\\\3gjS1\\\\src\\\\..\\\\assets\\\\knockout_punches.js\"), Asset(\"js\", nothing, \"C:\\\\Users\\\\Camilo\\\\.julia\\\\packages\\\\InteractBase\\\\h8Fwe\\\\src\\\\..\\\\assets\\\\all.js\"), Asset(\"css\", nothing, \"C:\\\\Users\\\\Camilo\\\\.julia\\\\packages\\\\InteractBase\\\\h8Fwe\\\\src\\\\..\\\\assets\\\\style.css\"), Asset(\"css\", nothing, \"C:\\\\Users\\\\Camilo\\\\.julia\\\\packages\\\\Interact\\\\pVyN2\\\\src\\\\..\\\\assets\\\\bulma_confined.min.css\")], Dict{Any, Any}(\"changes\" => Any[WebIO.JSString(\"(function (val){return (val!=this.model[\\\"changes\\\"]()) ? (this.valueFromJulia[\\\"changes\\\"]=true, this.model[\\\"changes\\\"](val)) : undefined})\")], \"index\" => Any[WebIO.JSString(\"(function (val){return (val!=this.model[\\\"index\\\"]()) ? (this.valueFromJulia[\\\"index\\\"]=true, this.model[\\\"index\\\"](val)) : undefined})\")]), WebIO.ConnectionPool(Channel{Any}(32), Set{AbstractConnection}(), Condition(Base.InvasiveLinkedList{Task}(Task (runnable) @0x00000000101af850, Task (runnable) @0x00000000101af850), Base.AlwaysLockedST(1))), WebIO.JSString[WebIO.JSString(\"function () {\\n    var handler = (function (ko, koPunches) {\\n    ko.punches.enableAll();\\n    ko.bindingHandlers.numericValue = {\\n        init: function(element, valueAccessor, allBindings, data, context) {\\n            var stringified = ko.observable(ko.unwrap(valueAccessor()));\\n            stringified.subscribe(function(value) {\\n                var val = parseFloat(value);\\n                if (!isNaN(val)) {\\n                    valueAccessor()(val);\\n                }\\n            });\\n            valueAccessor().subscribe(function(value) {\\n                var str = JSON.stringify(value);\\n                if ((str == \\\"0\\\") && ([\\\"-0\\\", \\\"-0.\\\"].indexOf(stringified()) >= 0))\\n                     return;\\n                 if ([\\\"null\\\", \\\"\\\"].indexOf(str) >= 0)\\n                     return;\\n                stringified(str);\\n            });\\n            ko.applyBindingsToNode(\\n                element,\\n                {\\n                    value: stringified,\\n                    valueUpdate: allBindings.get('valueUpdate'),\\n                },\\n                context,\\n            );\\n        }\\n    };\\n    var json_data = {\\\"formatted_vals\\\":[\\\"0.0\\\",\\\"0.02\\\",\\\"0.04\\\",\\\"0.06\\\",\\\"0.08\\\",\\\"0.1\\\",\\\"0.12\\\",\\\"0.14\\\",\\\"0.16\\\",\\\"0.18\\\",\\\"0.2\\\",\\\"0.22\\\",\\\"0.24\\\",\\\"0.26\\\",\\\"0.28\\\",\\\"0.3\\\",\\\"0.32\\\",\\\"0.34\\\",\\\"0.36\\\",\\\"0.38\\\",\\\"0.4\\\",\\\"0.42\\\",\\\"0.44\\\",\\\"0.46\\\",\\\"0.48\\\",\\\"0.5\\\",\\\"0.52\\\",\\\"0.54\\\",\\\"0.56\\\",\\\"0.58\\\",\\\"0.6\\\",\\\"0.62\\\",\\\"0.64\\\",\\\"0.66\\\",\\\"0.68\\\",\\\"0.7\\\",\\\"0.72\\\",\\\"0.74\\\",\\\"0.76\\\",\\\"0.78\\\",\\\"0.8\\\",\\\"0.82\\\",\\\"0.84\\\",\\\"0.86\\\",\\\"0.88\\\",\\\"0.9\\\",\\\"0.92\\\",\\\"0.94\\\",\\\"0.96\\\",\\\"0.98\\\",\\\"1.0\\\",\\\"1.02\\\",\\\"1.04\\\",\\\"1.06\\\",\\\"1.08\\\",\\\"1.1\\\",\\\"1.12\\\",\\\"1.14\\\",\\\"1.16\\\",\\\"1.18\\\",\\\"1.2\\\",\\\"1.22\\\",\\\"1.24\\\",\\\"1.26\\\",\\\"1.28\\\",\\\"1.3\\\",\\\"1.32\\\",\\\"1.34\\\",\\\"1.36\\\",\\\"1.38\\\",\\\"1.4\\\",\\\"1.42\\\",\\\"1.44\\\",\\\"1.46\\\",\\\"1.48\\\",\\\"1.5\\\",\\\"1.52\\\",\\\"1.54\\\",\\\"1.56\\\",\\\"1.58\\\",\\\"1.6\\\",\\\"1.62\\\",\\\"1.64\\\",\\\"1.66\\\",\\\"1.68\\\",\\\"1.7\\\",\\\"1.72\\\",\\\"1.74\\\",\\\"1.76\\\",\\\"1.78\\\",\\\"1.8\\\",\\\"1.82\\\",\\\"1.84\\\",\\\"1.86\\\",\\\"1.88\\\",\\\"1.9\\\",\\\"1.92\\\",\\\"1.94\\\",\\\"1.96\\\",\\\"1.98\\\",\\\"2.0\\\"],\\\"changes\\\":WebIO.getval({\\\"name\\\":\\\"changes\\\",\\\"scope\\\":\\\"6100175111496954735\\\",\\\"id\\\":\\\"356826486325650119\\\",\\\"type\\\":\\\"observable\\\"}),\\\"index\\\":WebIO.getval({\\\"name\\\":\\\"index\\\",\\\"scope\\\":\\\"6100175111496954735\\\",\\\"id\\\":\\\"17923950706817632654\\\",\\\"type\\\":\\\"observable\\\"})};\\n    var self = this;\\n    function AppViewModel() {\\n        for (var key in json_data) {\\n            var el = json_data[key];\\n            this[key] = Array.isArray(el) ? ko.observableArray(el) : ko.observable(el);\\n        }\\n        \\n        [this[\\\"formatted_val\\\"]=ko.computed(    function(){\\n        return this.formatted_vals()[parseInt(this.index())-(1)];\\n    }\\n,this)]\\n        [this[\\\"changes\\\"].subscribe((function (val){!(this.valueFromJulia[\\\"changes\\\"]) ? (WebIO.setval({\\\"name\\\":\\\"changes\\\",\\\"scope\\\":\\\"6100175111496954735\\\",\\\"id\\\":\\\"356826486325650119\\\",\\\"type\\\":\\\"observable\\\"},val)) : undefined; return this.valueFromJulia[\\\"changes\\\"]=false}),self),this[\\\"index\\\"].subscribe((function (val){!(this.valueFromJulia[\\\"index\\\"]) ? (WebIO.setval({\\\"name\\\":\\\"index\\\",\\\"scope\\\":\\\"6100175111496954735\\\",\\\"id\\\":\\\"17923950706817632654\\\",\\\"type\\\":\\\"observable\\\"},val)) : undefined; return this.valueFromJulia[\\\"index\\\"]=false}),self)]\\n        \\n    }\\n    self.model = new AppViewModel();\\n    self.valueFromJulia = {};\\n    for (var key in json_data) {\\n        self.valueFromJulia[key] = false;\\n    }\\n    ko.applyBindings(self.model, self.dom);\\n}\\n);\\n    (WebIO.importBlock({\\\"data\\\":[{\\\"name\\\":\\\"knockout\\\",\\\"type\\\":\\\"js\\\",\\\"url\\\":\\\"/assetserver/2712bb0a7395d062608c2f218a74b700f6c76b99-knockout.js\\\"},{\\\"name\\\":\\\"knockout_punches\\\",\\\"type\\\":\\\"js\\\",\\\"url\\\":\\\"/assetserver/fb4445501a2be4ab82176667f844e40da26fa007-knockout_punches.js\\\"}],\\\"type\\\":\\\"async_block\\\"})).then((imports) => handler.apply(this, imports));\\n}\\n\")])], Dict{Symbol, Any}(:className => \"field interact-widget\")), Node{WebIO.DOM}(WebIO.DOM(:html, :div), Any[Scope(Node{WebIO.DOM}(WebIO.DOM(:html, :div), Any[Node{WebIO.DOM}(WebIO.DOM(:html, :div), Any[Node{WebIO.DOM}(WebIO.DOM(:html, :label), Any[\"tmax\"], Dict{Symbol, Any}(:className => \"interact \", :style => Dict{Any, Any}(:padding => \"5px 10px 0px 10px\")))], Dict{Symbol, Any}(:className => \"interact-flex-row-left\")), Node{WebIO.DOM}(WebIO.DOM(:html, :div), Any[Node{WebIO.DOM}(WebIO.DOM(:html, :input), Any[], Dict{Symbol, Any}(:max => 10, :min => 1, :attributes => Dict{Any, Any}(:type => \"range\", Symbol(\"data-bind\") => \"numericValue: index, valueUpdate: 'input', event: {change: function (){this.changes(this.changes()+1)}}\", \"orient\" => \"horizontal\"), :step => 1, :className => \"slider slider is-fullwidth\", :style => Dict{Any, Any}()))], Dict{Symbol, Any}(:className => \"interact-flex-row-center\")), Node{WebIO.DOM}(WebIO.DOM(:html, :div), Any[Node{WebIO.DOM}(WebIO.DOM(:html, :p), Any[], Dict{Symbol, Any}(:attributes => Dict(\"data-bind\" => \"text: formatted_val\")))], Dict{Symbol, Any}(:className => \"interact-flex-row-right\"))], Dict{Symbol, Any}(:className => \"interact-flex-row interact-widget\")), Dict{String, Tuple{Observables.AbstractObservable, Union{Nothing, Bool}}}(\"changes\" => (Observable{Int64} with 1 listeners. Value:\n",
       "0, nothing), \"index\" => (Observable{Any} with 2 listeners. Value:\n",
       "5, nothing)), Set{String}(), nothing, Asset[Asset(\"js\", \"knockout\", \"C:\\\\Users\\\\Camilo\\\\.julia\\\\packages\\\\Knockout\\\\3gjS1\\\\src\\\\..\\\\assets\\\\knockout.js\"), Asset(\"js\", \"knockout_punches\", \"C:\\\\Users\\\\Camilo\\\\.julia\\\\packages\\\\Knockout\\\\3gjS1\\\\src\\\\..\\\\assets\\\\knockout_punches.js\"), Asset(\"js\", nothing, \"C:\\\\Users\\\\Camilo\\\\.julia\\\\packages\\\\InteractBase\\\\h8Fwe\\\\src\\\\..\\\\assets\\\\all.js\"), Asset(\"css\", nothing, \"C:\\\\Users\\\\Camilo\\\\.julia\\\\packages\\\\InteractBase\\\\h8Fwe\\\\src\\\\..\\\\assets\\\\style.css\"), Asset(\"css\", nothing, \"C:\\\\Users\\\\Camilo\\\\.julia\\\\packages\\\\Interact\\\\pVyN2\\\\src\\\\..\\\\assets\\\\bulma_confined.min.css\")], Dict{Any, Any}(\"changes\" => Any[WebIO.JSString(\"(function (val){return (val!=this.model[\\\"changes\\\"]()) ? (this.valueFromJulia[\\\"changes\\\"]=true, this.model[\\\"changes\\\"](val)) : undefined})\")], \"index\" => Any[WebIO.JSString(\"(function (val){return (val!=this.model[\\\"index\\\"]()) ? (this.valueFromJulia[\\\"index\\\"]=true, this.model[\\\"index\\\"](val)) : undefined})\")]), WebIO.ConnectionPool(Channel{Any}(32), Set{AbstractConnection}(), Condition(Base.InvasiveLinkedList{Task}(Task (runnable) @0x0000000010ae07e0, Task (runnable) @0x0000000010ae07e0), Base.AlwaysLockedST(1))), WebIO.JSString[WebIO.JSString(\"function () {\\n    var handler = (function (ko, koPunches) {\\n    ko.punches.enableAll();\\n    ko.bindingHandlers.numericValue = {\\n        init: function(element, valueAccessor, allBindings, data, context) {\\n            var stringified = ko.observable(ko.unwrap(valueAccessor()));\\n            stringified.subscribe(function(value) {\\n                var val = parseFloat(value);\\n                if (!isNaN(val)) {\\n                    valueAccessor()(val);\\n                }\\n            });\\n            valueAccessor().subscribe(function(value) {\\n                var str = JSON.stringify(value);\\n                if ((str == \\\"0\\\") && ([\\\"-0\\\", \\\"-0.\\\"].indexOf(stringified()) >= 0))\\n                     return;\\n                 if ([\\\"null\\\", \\\"\\\"].indexOf(str) >= 0)\\n                     return;\\n                stringified(str);\\n            });\\n            ko.applyBindingsToNode(\\n                element,\\n                {\\n                    value: stringified,\\n                    valueUpdate: allBindings.get('valueUpdate'),\\n                },\\n                context,\\n            );\\n        }\\n    };\\n    var json_data = {\\\"formatted_vals\\\":[\\\"1.0\\\",\\\"6.0\\\",\\\"11.0\\\",\\\"16.0\\\",\\\"21.0\\\",\\\"26.0\\\",\\\"31.0\\\",\\\"36.0\\\",\\\"41.0\\\",\\\"46.0\\\"],\\\"changes\\\":WebIO.getval({\\\"name\\\":\\\"changes\\\",\\\"scope\\\":\\\"6942413199281188115\\\",\\\"id\\\":\\\"15170543166729931463\\\",\\\"type\\\":\\\"observable\\\"}),\\\"index\\\":WebIO.getval({\\\"name\\\":\\\"index\\\",\\\"scope\\\":\\\"6942413199281188115\\\",\\\"id\\\":\\\"14739021544532511177\\\",\\\"type\\\":\\\"observable\\\"})};\\n    var self = this;\\n    function AppViewModel() {\\n        for (var key in json_data) {\\n            var el = json_data[key];\\n            this[key] = Array.isArray(el) ? ko.observableArray(el) : ko.observable(el);\\n        }\\n        \\n        [this[\\\"formatted_val\\\"]=ko.computed(    function(){\\n        return this.formatted_vals()[parseInt(this.index())-(1)];\\n    }\\n,this)]\\n        [this[\\\"changes\\\"].subscribe((function (val){!(this.valueFromJulia[\\\"changes\\\"]) ? (WebIO.setval({\\\"name\\\":\\\"changes\\\",\\\"scope\\\":\\\"6942413199281188115\\\",\\\"id\\\":\\\"15170543166729931463\\\",\\\"type\\\":\\\"observable\\\"},val)) : undefined; return this.valueFromJulia[\\\"changes\\\"]=false}),self),this[\\\"index\\\"].subscribe((function (val){!(this.valueFromJulia[\\\"index\\\"]) ? (WebIO.setval({\\\"name\\\":\\\"index\\\",\\\"scope\\\":\\\"6942413199281188115\\\",\\\"id\\\":\\\"14739021544532511177\\\",\\\"type\\\":\\\"observable\\\"},val)) : undefined; return this.valueFromJulia[\\\"index\\\"]=false}),self)]\\n        \\n    }\\n    self.model = new AppViewModel();\\n    self.valueFromJulia = {};\\n    for (var key in json_data) {\\n        self.valueFromJulia[key] = false;\\n    }\\n    ko.applyBindings(self.model, self.dom);\\n}\\n);\\n    (WebIO.importBlock({\\\"data\\\":[{\\\"name\\\":\\\"knockout\\\",\\\"type\\\":\\\"js\\\",\\\"url\\\":\\\"/assetserver/2712bb0a7395d062608c2f218a74b700f6c76b99-knockout.js\\\"},{\\\"name\\\":\\\"knockout_punches\\\",\\\"type\\\":\\\"js\\\",\\\"url\\\":\\\"/assetserver/fb4445501a2be4ab82176667f844e40da26fa007-knockout_punches.js\\\"}],\\\"type\\\":\\\"async_block\\\"})).then((imports) => handler.apply(this, imports));\\n}\\n\")])], Dict{Symbol, Any}(:className => \"field interact-widget\")), Observable{Node{WebIO.DOM}} with 0 listeners. Value:\n",
       "Node{WebIO.DOM}(WebIO.DOM(:html, :div), Any[Plot{Plots.GRBackend() n=4}], Dict{Symbol, Any}(:className => \"interact-flex-row interact-widget\"))], Dict{Symbol, Any}())"
      ]
     },
     "execution_count": 37,
     "metadata": {
      "application/vnd.webio.node+json": {
       "kernelId": "81a88d82-5ed9-4b0d-9485-a124bd6b829e"
      }
     },
     "output_type": "execute_result"
    }
   ],
   "source": [
    "@manipulate throttle=.05 for R=0:0.02:1.0,K=0:0.01:2.0,H=0:0.01:0.5,x0=0:0.02:2.0,tmax=1.0:5.0:50.0\n",
    "    flux1D(logharvest2,x0,tmax,[R,K,H];xlims=[-0.2,0.5])\n",
    "end"
   ]
  },
  {
   "cell_type": "markdown",
   "id": "81a76a5d",
   "metadata": {},
   "source": [
    "## Diagrama de bifurcaciones Logistica con Harvest Realista. Nodo Silla + Transcritica\n",
    "\n",
    "En este caso tambien tenemos una bifurcacion de nodo silla pero en los dos puntos fijos que no son cero.\n",
    "\n",
    "Estos puntos fijos pueden calcularse a partir de la ecuacion cuadratica como \n",
    "\n",
    "$x_* = \\frac{K-1}{2} \\pm \\sqrt{\\left(\\frac{K-1}{2}\\right)^2-\\frac{KH}{R}+K}$\n",
    "\n",
    "y van a colapsar cuando la raiz cuadrada sea cero es decir cuando \n",
    "\n",
    "$H = \\frac{R}{K}\\left(\\frac{K-1}{2}\\right)^2 + R$\n",
    "\n",
    "Para valores de $H$ mayores \n",
    "\n",
    "La bifurcacion SN se produce para ese valor de $H$ y en la coordenada $x=(K-1)/2$\n",
    "\n",
    "Es esta la unica bifurcacion? Podemos evaluar la estabilidad del punto fijo mas fácil que es el que siempre está en cero. La derivada del campo vector es:\n",
    "\n",
    "$f'(x) = R - \\frac{2R}{K}x - \\frac{H}{(1+x)^2}$\n",
    "\n",
    "que evaluada en cero es $f'(0)=R-H$. \n",
    "\n",
    "Es decir que cuando $H=R$ ese punto fijo intercambia estabilidad con la rama inestable de la SN y tenemos una bifurcacion transcritica (TC). Puede verse que el valor de $H$ para el que se produce la SN es siempre mayor que el de la TC porque se le suma un termino que es siempre positivo y porque el punto SN emite las ramas haca los valores de $H$ menores. \n",
    "\n",
    "Finalmente si $K>1$ tenemos la SN en los valores de $x$ positivos con la rama estable yendo hacia arriba, mientras que si $K<1$ la SN se produce a valores de $x$ negativo y la rama estable va hacia abajo (valores de $x$ negativos). Siempre es la rama inestable de la SN la que cruza el 0 e intercambia estabilidad. \n",
    "\n",
    "Como lo que tiene sentido en el modelo son los valores de $x$ positivos los casos $K>1$ y $K<1$ corresponden a dos tipos de cambios de comportamiento a medida que se incrementa $H$ diferentes. En el primer caso la aumentar el $H$ si estamos en el punto fijo estable la publacion decrece abruptamente cuando se encuentra la SN, mientras que en el segundo va descendiendo suavemente hasta llegar a cero en la TC.\n",
    "\n",
    "Que sucede si $K=1$?"
   ]
  },
  {
   "cell_type": "code",
   "execution_count": 40,
   "id": "2e247e71",
   "metadata": {
    "ExecuteTime": {
     "end_time": "2022-01-27T02:10:58.148000-03:00",
     "start_time": "2022-01-27T05:10:55.755Z"
    }
   },
   "outputs": [
    {
     "data": {
      "image/svg+xml": [
       "<?xml version=\"1.0\" encoding=\"utf-8\"?>\n",
       "<svg xmlns=\"http://www.w3.org/2000/svg\" xmlns:xlink=\"http://www.w3.org/1999/xlink\" width=\"600\" height=\"400\" viewBox=\"0 0 2400 1600\">\n",
       "<defs>\n",
       "  <clipPath id=\"clip870\">\n",
       "    <rect x=\"0\" y=\"0\" width=\"2400\" height=\"1600\"/>\n",
       "  </clipPath>\n",
       "</defs>\n",
       "<path clip-path=\"url(#clip870)\" d=\"\n",
       "M0 1600 L2400 1600 L2400 0 L0 0  Z\n",
       "  \" fill=\"#ffffff\" fill-rule=\"evenodd\" fill-opacity=\"1\"/>\n",
       "<defs>\n",
       "  <clipPath id=\"clip871\">\n",
       "    <rect x=\"480\" y=\"0\" width=\"1681\" height=\"1600\"/>\n",
       "  </clipPath>\n",
       "</defs>\n",
       "<path clip-path=\"url(#clip870)\" d=\"\n",
       "M257.69 1423.18 L2352.76 1423.18 L2352.76 47.2441 L257.69 47.2441  Z\n",
       "  \" fill=\"#ffffff\" fill-rule=\"evenodd\" fill-opacity=\"1\"/>\n",
       "<defs>\n",
       "  <clipPath id=\"clip872\">\n",
       "    <rect x=\"257\" y=\"47\" width=\"2096\" height=\"1377\"/>\n",
       "  </clipPath>\n",
       "</defs>\n",
       "<polyline clip-path=\"url(#clip872)\" style=\"stroke:#000000; stroke-linecap:butt; stroke-linejoin:round; stroke-width:2; stroke-opacity:0.1; fill:none\" points=\"\n",
       "  316.984,1423.18 316.984,47.2441 \n",
       "  \"/>\n",
       "<polyline clip-path=\"url(#clip872)\" style=\"stroke:#000000; stroke-linecap:butt; stroke-linejoin:round; stroke-width:2; stroke-opacity:0.1; fill:none\" points=\"\n",
       "  646.397,1423.18 646.397,47.2441 \n",
       "  \"/>\n",
       "<polyline clip-path=\"url(#clip872)\" style=\"stroke:#000000; stroke-linecap:butt; stroke-linejoin:round; stroke-width:2; stroke-opacity:0.1; fill:none\" points=\"\n",
       "  975.81,1423.18 975.81,47.2441 \n",
       "  \"/>\n",
       "<polyline clip-path=\"url(#clip872)\" style=\"stroke:#000000; stroke-linecap:butt; stroke-linejoin:round; stroke-width:2; stroke-opacity:0.1; fill:none\" points=\"\n",
       "  1305.22,1423.18 1305.22,47.2441 \n",
       "  \"/>\n",
       "<polyline clip-path=\"url(#clip872)\" style=\"stroke:#000000; stroke-linecap:butt; stroke-linejoin:round; stroke-width:2; stroke-opacity:0.1; fill:none\" points=\"\n",
       "  1634.64,1423.18 1634.64,47.2441 \n",
       "  \"/>\n",
       "<polyline clip-path=\"url(#clip872)\" style=\"stroke:#000000; stroke-linecap:butt; stroke-linejoin:round; stroke-width:2; stroke-opacity:0.1; fill:none\" points=\"\n",
       "  1964.05,1423.18 1964.05,47.2441 \n",
       "  \"/>\n",
       "<polyline clip-path=\"url(#clip872)\" style=\"stroke:#000000; stroke-linecap:butt; stroke-linejoin:round; stroke-width:2; stroke-opacity:0.1; fill:none\" points=\"\n",
       "  2293.46,1423.18 2293.46,47.2441 \n",
       "  \"/>\n",
       "<polyline clip-path=\"url(#clip870)\" style=\"stroke:#000000; stroke-linecap:butt; stroke-linejoin:round; stroke-width:4; stroke-opacity:1; fill:none\" points=\"\n",
       "  257.69,1423.18 2352.76,1423.18 \n",
       "  \"/>\n",
       "<polyline clip-path=\"url(#clip870)\" style=\"stroke:#000000; stroke-linecap:butt; stroke-linejoin:round; stroke-width:4; stroke-opacity:1; fill:none\" points=\"\n",
       "  316.984,1423.18 316.984,1404.28 \n",
       "  \"/>\n",
       "<polyline clip-path=\"url(#clip870)\" style=\"stroke:#000000; stroke-linecap:butt; stroke-linejoin:round; stroke-width:4; stroke-opacity:1; fill:none\" points=\"\n",
       "  646.397,1423.18 646.397,1404.28 \n",
       "  \"/>\n",
       "<polyline clip-path=\"url(#clip870)\" style=\"stroke:#000000; stroke-linecap:butt; stroke-linejoin:round; stroke-width:4; stroke-opacity:1; fill:none\" points=\"\n",
       "  975.81,1423.18 975.81,1404.28 \n",
       "  \"/>\n",
       "<polyline clip-path=\"url(#clip870)\" style=\"stroke:#000000; stroke-linecap:butt; stroke-linejoin:round; stroke-width:4; stroke-opacity:1; fill:none\" points=\"\n",
       "  1305.22,1423.18 1305.22,1404.28 \n",
       "  \"/>\n",
       "<polyline clip-path=\"url(#clip870)\" style=\"stroke:#000000; stroke-linecap:butt; stroke-linejoin:round; stroke-width:4; stroke-opacity:1; fill:none\" points=\"\n",
       "  1634.64,1423.18 1634.64,1404.28 \n",
       "  \"/>\n",
       "<polyline clip-path=\"url(#clip870)\" style=\"stroke:#000000; stroke-linecap:butt; stroke-linejoin:round; stroke-width:4; stroke-opacity:1; fill:none\" points=\"\n",
       "  1964.05,1423.18 1964.05,1404.28 \n",
       "  \"/>\n",
       "<polyline clip-path=\"url(#clip870)\" style=\"stroke:#000000; stroke-linecap:butt; stroke-linejoin:round; stroke-width:4; stroke-opacity:1; fill:none\" points=\"\n",
       "  2293.46,1423.18 2293.46,1404.28 \n",
       "  \"/>\n",
       "<path clip-path=\"url(#clip870)\" d=\"M279.334 1454.1 Q275.723 1454.1 273.894 1457.66 Q272.089 1461.2 272.089 1468.33 Q272.089 1475.44 273.894 1479.01 Q275.723 1482.55 279.334 1482.55 Q282.968 1482.55 284.774 1479.01 Q286.603 1475.44 286.603 1468.33 Q286.603 1461.2 284.774 1457.66 Q282.968 1454.1 279.334 1454.1 M279.334 1450.39 Q285.144 1450.39 288.2 1455 Q291.279 1459.58 291.279 1468.33 Q291.279 1477.06 288.2 1481.67 Q285.144 1486.25 279.334 1486.25 Q273.524 1486.25 270.445 1481.67 Q267.39 1477.06 267.39 1468.33 Q267.39 1459.58 270.445 1455 Q273.524 1450.39 279.334 1450.39 Z\" fill=\"#000000\" fill-rule=\"evenodd\" fill-opacity=\"1\" /><path clip-path=\"url(#clip870)\" d=\"M299.496 1479.7 L304.38 1479.7 L304.38 1485.58 L299.496 1485.58 L299.496 1479.7 Z\" fill=\"#000000\" fill-rule=\"evenodd\" fill-opacity=\"1\" /><path clip-path=\"url(#clip870)\" d=\"M315.376 1481.64 L323.015 1481.64 L323.015 1455.28 L314.704 1456.95 L314.704 1452.69 L322.968 1451.02 L327.644 1451.02 L327.644 1481.64 L335.283 1481.64 L335.283 1485.58 L315.376 1485.58 L315.376 1481.64 Z\" fill=\"#000000\" fill-rule=\"evenodd\" fill-opacity=\"1\" /><path clip-path=\"url(#clip870)\" d=\"M354.727 1469.17 Q351.394 1469.17 349.473 1470.95 Q347.575 1472.73 347.575 1475.86 Q347.575 1478.98 349.473 1480.77 Q351.394 1482.55 354.727 1482.55 Q358.061 1482.55 359.982 1480.77 Q361.903 1478.96 361.903 1475.86 Q361.903 1472.73 359.982 1470.95 Q358.084 1469.17 354.727 1469.17 M350.051 1467.18 Q347.042 1466.44 345.352 1464.38 Q343.686 1462.32 343.686 1459.35 Q343.686 1455.21 346.625 1452.8 Q349.588 1450.39 354.727 1450.39 Q359.889 1450.39 362.829 1452.8 Q365.769 1455.21 365.769 1459.35 Q365.769 1462.32 364.079 1464.38 Q362.412 1466.44 359.426 1467.18 Q362.806 1467.96 364.681 1470.26 Q366.579 1472.55 366.579 1475.86 Q366.579 1480.88 363.5 1483.57 Q360.445 1486.25 354.727 1486.25 Q349.01 1486.25 345.931 1483.57 Q342.876 1480.88 342.876 1475.86 Q342.876 1472.55 344.774 1470.26 Q346.672 1467.96 350.051 1467.18 M348.338 1459.79 Q348.338 1462.48 350.005 1463.98 Q351.695 1465.49 354.727 1465.49 Q357.737 1465.49 359.426 1463.98 Q361.139 1462.48 361.139 1459.79 Q361.139 1457.11 359.426 1455.6 Q357.737 1454.1 354.727 1454.1 Q351.695 1454.1 350.005 1455.6 Q348.338 1457.11 348.338 1459.79 Z\" fill=\"#000000\" fill-rule=\"evenodd\" fill-opacity=\"1\" /><path clip-path=\"url(#clip870)\" d=\"M608.793 1454.1 Q605.182 1454.1 603.354 1457.66 Q601.548 1461.2 601.548 1468.33 Q601.548 1475.44 603.354 1479.01 Q605.182 1482.55 608.793 1482.55 Q612.428 1482.55 614.233 1479.01 Q616.062 1475.44 616.062 1468.33 Q616.062 1461.2 614.233 1457.66 Q612.428 1454.1 608.793 1454.1 M608.793 1450.39 Q614.603 1450.39 617.659 1455 Q620.738 1459.58 620.738 1468.33 Q620.738 1477.06 617.659 1481.67 Q614.603 1486.25 608.793 1486.25 Q602.983 1486.25 599.905 1481.67 Q596.849 1477.06 596.849 1468.33 Q596.849 1459.58 599.905 1455 Q602.983 1450.39 608.793 1450.39 Z\" fill=\"#000000\" fill-rule=\"evenodd\" fill-opacity=\"1\" /><path clip-path=\"url(#clip870)\" d=\"M628.955 1479.7 L633.84 1479.7 L633.84 1485.58 L628.955 1485.58 L628.955 1479.7 Z\" fill=\"#000000\" fill-rule=\"evenodd\" fill-opacity=\"1\" /><path clip-path=\"url(#clip870)\" d=\"M644.835 1481.64 L652.474 1481.64 L652.474 1455.28 L644.164 1456.95 L644.164 1452.69 L652.427 1451.02 L657.103 1451.02 L657.103 1481.64 L664.742 1481.64 L664.742 1485.58 L644.835 1485.58 L644.835 1481.64 Z\" fill=\"#000000\" fill-rule=\"evenodd\" fill-opacity=\"1\" /><path clip-path=\"url(#clip870)\" d=\"M674.325 1484.86 L674.325 1480.6 Q676.085 1481.44 677.89 1481.88 Q679.696 1482.32 681.432 1482.32 Q686.061 1482.32 688.492 1479.21 Q690.946 1476.09 691.293 1469.75 Q689.95 1471.74 687.89 1472.8 Q685.83 1473.87 683.33 1473.87 Q678.145 1473.87 675.112 1470.74 Q672.103 1467.59 672.103 1462.15 Q672.103 1456.83 675.251 1453.61 Q678.399 1450.39 683.631 1450.39 Q689.626 1450.39 692.774 1455 Q695.946 1459.58 695.946 1468.33 Q695.946 1476.51 692.057 1481.39 Q688.191 1486.25 681.64 1486.25 Q679.881 1486.25 678.075 1485.9 Q676.27 1485.56 674.325 1484.86 M683.631 1470.21 Q686.779 1470.21 688.608 1468.06 Q690.46 1465.9 690.46 1462.15 Q690.46 1458.43 688.608 1456.27 Q686.779 1454.1 683.631 1454.1 Q680.483 1454.1 678.631 1456.27 Q676.802 1458.43 676.802 1462.15 Q676.802 1465.9 678.631 1468.06 Q680.483 1470.21 683.631 1470.21 Z\" fill=\"#000000\" fill-rule=\"evenodd\" fill-opacity=\"1\" /><path clip-path=\"url(#clip870)\" d=\"M938.114 1454.1 Q934.503 1454.1 932.674 1457.66 Q930.868 1461.2 930.868 1468.33 Q930.868 1475.44 932.674 1479.01 Q934.503 1482.55 938.114 1482.55 Q941.748 1482.55 943.553 1479.01 Q945.382 1475.44 945.382 1468.33 Q945.382 1461.2 943.553 1457.66 Q941.748 1454.1 938.114 1454.1 M938.114 1450.39 Q943.924 1450.39 946.979 1455 Q950.058 1459.58 950.058 1468.33 Q950.058 1477.06 946.979 1481.67 Q943.924 1486.25 938.114 1486.25 Q932.303 1486.25 929.225 1481.67 Q926.169 1477.06 926.169 1468.33 Q926.169 1459.58 929.225 1455 Q932.303 1450.39 938.114 1450.39 Z\" fill=\"#000000\" fill-rule=\"evenodd\" fill-opacity=\"1\" /><path clip-path=\"url(#clip870)\" d=\"M958.276 1479.7 L963.16 1479.7 L963.16 1485.58 L958.276 1485.58 L958.276 1479.7 Z\" fill=\"#000000\" fill-rule=\"evenodd\" fill-opacity=\"1\" /><path clip-path=\"url(#clip870)\" d=\"M977.373 1481.64 L993.692 1481.64 L993.692 1485.58 L971.748 1485.58 L971.748 1481.64 Q974.41 1478.89 978.993 1474.26 Q983.599 1469.61 984.78 1468.27 Q987.025 1465.74 987.905 1464.01 Q988.808 1462.25 988.808 1460.56 Q988.808 1457.8 986.863 1456.07 Q984.942 1454.33 981.84 1454.33 Q979.641 1454.33 977.187 1455.09 Q974.757 1455.86 971.979 1457.41 L971.979 1452.69 Q974.803 1451.55 977.257 1450.97 Q979.711 1450.39 981.748 1450.39 Q987.118 1450.39 990.312 1453.08 Q993.507 1455.77 993.507 1460.26 Q993.507 1462.39 992.697 1464.31 Q991.91 1466.2 989.803 1468.8 Q989.224 1469.47 986.123 1472.69 Q983.021 1475.88 977.373 1481.64 Z\" fill=\"#000000\" fill-rule=\"evenodd\" fill-opacity=\"1\" /><path clip-path=\"url(#clip870)\" d=\"M1013.51 1454.1 Q1009.9 1454.1 1008.07 1457.66 Q1006.26 1461.2 1006.26 1468.33 Q1006.26 1475.44 1008.07 1479.01 Q1009.9 1482.55 1013.51 1482.55 Q1017.14 1482.55 1018.95 1479.01 Q1020.78 1475.44 1020.78 1468.33 Q1020.78 1461.2 1018.95 1457.66 Q1017.14 1454.1 1013.51 1454.1 M1013.51 1450.39 Q1019.32 1450.39 1022.37 1455 Q1025.45 1459.58 1025.45 1468.33 Q1025.45 1477.06 1022.37 1481.67 Q1019.32 1486.25 1013.51 1486.25 Q1007.7 1486.25 1004.62 1481.67 Q1001.56 1477.06 1001.56 1468.33 Q1001.56 1459.58 1004.62 1455 Q1007.7 1450.39 1013.51 1450.39 Z\" fill=\"#000000\" fill-rule=\"evenodd\" fill-opacity=\"1\" /><path clip-path=\"url(#clip870)\" d=\"M1268.14 1454.1 Q1264.53 1454.1 1262.7 1457.66 Q1260.89 1461.2 1260.89 1468.33 Q1260.89 1475.44 1262.7 1479.01 Q1264.53 1482.55 1268.14 1482.55 Q1271.77 1482.55 1273.58 1479.01 Q1275.41 1475.44 1275.41 1468.33 Q1275.41 1461.2 1273.58 1457.66 Q1271.77 1454.1 1268.14 1454.1 M1268.14 1450.39 Q1273.95 1450.39 1277.01 1455 Q1280.08 1459.58 1280.08 1468.33 Q1280.08 1477.06 1277.01 1481.67 Q1273.95 1486.25 1268.14 1486.25 Q1262.33 1486.25 1259.25 1481.67 Q1256.2 1477.06 1256.2 1468.33 Q1256.2 1459.58 1259.25 1455 Q1262.33 1450.39 1268.14 1450.39 Z\" fill=\"#000000\" fill-rule=\"evenodd\" fill-opacity=\"1\" /><path clip-path=\"url(#clip870)\" d=\"M1288.3 1479.7 L1293.19 1479.7 L1293.19 1485.58 L1288.3 1485.58 L1288.3 1479.7 Z\" fill=\"#000000\" fill-rule=\"evenodd\" fill-opacity=\"1\" /><path clip-path=\"url(#clip870)\" d=\"M1307.4 1481.64 L1323.72 1481.64 L1323.72 1485.58 L1301.77 1485.58 L1301.77 1481.64 Q1304.44 1478.89 1309.02 1474.26 Q1313.63 1469.61 1314.81 1468.27 Q1317.05 1465.74 1317.93 1464.01 Q1318.83 1462.25 1318.83 1460.56 Q1318.83 1457.8 1316.89 1456.07 Q1314.97 1454.33 1311.87 1454.33 Q1309.67 1454.33 1307.21 1455.09 Q1304.78 1455.86 1302.01 1457.41 L1302.01 1452.69 Q1304.83 1451.55 1307.28 1450.97 Q1309.74 1450.39 1311.77 1450.39 Q1317.14 1450.39 1320.34 1453.08 Q1323.53 1455.77 1323.53 1460.26 Q1323.53 1462.39 1322.72 1464.31 Q1321.94 1466.2 1319.83 1468.8 Q1319.25 1469.47 1316.15 1472.69 Q1313.05 1475.88 1307.4 1481.64 Z\" fill=\"#000000\" fill-rule=\"evenodd\" fill-opacity=\"1\" /><path clip-path=\"url(#clip870)\" d=\"M1334.34 1481.64 L1341.98 1481.64 L1341.98 1455.28 L1333.67 1456.95 L1333.67 1452.69 L1341.94 1451.02 L1346.61 1451.02 L1346.61 1481.64 L1354.25 1481.64 L1354.25 1485.58 L1334.34 1485.58 L1334.34 1481.64 Z\" fill=\"#000000\" fill-rule=\"evenodd\" fill-opacity=\"1\" /><path clip-path=\"url(#clip870)\" d=\"M1597.74 1454.1 Q1594.13 1454.1 1592.3 1457.66 Q1590.49 1461.2 1590.49 1468.33 Q1590.49 1475.44 1592.3 1479.01 Q1594.13 1482.55 1597.74 1482.55 Q1601.37 1482.55 1603.18 1479.01 Q1605.01 1475.44 1605.01 1468.33 Q1605.01 1461.2 1603.18 1457.66 Q1601.37 1454.1 1597.74 1454.1 M1597.74 1450.39 Q1603.55 1450.39 1606.6 1455 Q1609.68 1459.58 1609.68 1468.33 Q1609.68 1477.06 1606.6 1481.67 Q1603.55 1486.25 1597.74 1486.25 Q1591.93 1486.25 1588.85 1481.67 Q1585.79 1477.06 1585.79 1468.33 Q1585.79 1459.58 1588.85 1455 Q1591.93 1450.39 1597.74 1450.39 Z\" fill=\"#000000\" fill-rule=\"evenodd\" fill-opacity=\"1\" /><path clip-path=\"url(#clip870)\" d=\"M1617.9 1479.7 L1622.78 1479.7 L1622.78 1485.58 L1617.9 1485.58 L1617.9 1479.7 Z\" fill=\"#000000\" fill-rule=\"evenodd\" fill-opacity=\"1\" /><path clip-path=\"url(#clip870)\" d=\"M1637 1481.64 L1653.32 1481.64 L1653.32 1485.58 L1631.37 1485.58 L1631.37 1481.64 Q1634.03 1478.89 1638.62 1474.26 Q1643.22 1469.61 1644.4 1468.27 Q1646.65 1465.74 1647.53 1464.01 Q1648.43 1462.25 1648.43 1460.56 Q1648.43 1457.8 1646.49 1456.07 Q1644.57 1454.33 1641.46 1454.33 Q1639.27 1454.33 1636.81 1455.09 Q1634.38 1455.86 1631.6 1457.41 L1631.6 1452.69 Q1634.43 1451.55 1636.88 1450.97 Q1639.33 1450.39 1641.37 1450.39 Q1646.74 1450.39 1649.94 1453.08 Q1653.13 1455.77 1653.13 1460.26 Q1653.13 1462.39 1652.32 1464.31 Q1651.53 1466.2 1649.43 1468.8 Q1648.85 1469.47 1645.75 1472.69 Q1642.65 1475.88 1637 1481.64 Z\" fill=\"#000000\" fill-rule=\"evenodd\" fill-opacity=\"1\" /><path clip-path=\"url(#clip870)\" d=\"M1667.16 1481.64 L1683.48 1481.64 L1683.48 1485.58 L1661.53 1485.58 L1661.53 1481.64 Q1664.2 1478.89 1668.78 1474.26 Q1673.39 1469.61 1674.57 1468.27 Q1676.81 1465.74 1677.69 1464.01 Q1678.59 1462.25 1678.59 1460.56 Q1678.59 1457.8 1676.65 1456.07 Q1674.73 1454.33 1671.63 1454.33 Q1669.43 1454.33 1666.97 1455.09 Q1664.54 1455.86 1661.77 1457.41 L1661.77 1452.69 Q1664.59 1451.55 1667.04 1450.97 Q1669.5 1450.39 1671.53 1450.39 Q1676.9 1450.39 1680.1 1453.08 Q1683.29 1455.77 1683.29 1460.26 Q1683.29 1462.39 1682.48 1464.31 Q1681.7 1466.2 1679.59 1468.8 Q1679.01 1469.47 1675.91 1472.69 Q1672.81 1475.88 1667.16 1481.64 Z\" fill=\"#000000\" fill-rule=\"evenodd\" fill-opacity=\"1\" /><path clip-path=\"url(#clip870)\" d=\"M1926.68 1454.1 Q1923.07 1454.1 1921.24 1457.66 Q1919.43 1461.2 1919.43 1468.33 Q1919.43 1475.44 1921.24 1479.01 Q1923.07 1482.55 1926.68 1482.55 Q1930.31 1482.55 1932.12 1479.01 Q1933.94 1475.44 1933.94 1468.33 Q1933.94 1461.2 1932.12 1457.66 Q1930.31 1454.1 1926.68 1454.1 M1926.68 1450.39 Q1932.49 1450.39 1935.54 1455 Q1938.62 1459.58 1938.62 1468.33 Q1938.62 1477.06 1935.54 1481.67 Q1932.49 1486.25 1926.68 1486.25 Q1920.87 1486.25 1917.79 1481.67 Q1914.73 1477.06 1914.73 1468.33 Q1914.73 1459.58 1917.79 1455 Q1920.87 1450.39 1926.68 1450.39 Z\" fill=\"#000000\" fill-rule=\"evenodd\" fill-opacity=\"1\" /><path clip-path=\"url(#clip870)\" d=\"M1946.84 1479.7 L1951.72 1479.7 L1951.72 1485.58 L1946.84 1485.58 L1946.84 1479.7 Z\" fill=\"#000000\" fill-rule=\"evenodd\" fill-opacity=\"1\" /><path clip-path=\"url(#clip870)\" d=\"M1965.94 1481.64 L1982.25 1481.64 L1982.25 1485.58 L1960.31 1485.58 L1960.31 1481.64 Q1962.97 1478.89 1967.56 1474.26 Q1972.16 1469.61 1973.34 1468.27 Q1975.59 1465.74 1976.47 1464.01 Q1977.37 1462.25 1977.37 1460.56 Q1977.37 1457.8 1975.43 1456.07 Q1973.5 1454.33 1970.4 1454.33 Q1968.2 1454.33 1965.75 1455.09 Q1963.32 1455.86 1960.54 1457.41 L1960.54 1452.69 Q1963.37 1451.55 1965.82 1450.97 Q1968.27 1450.39 1970.31 1450.39 Q1975.68 1450.39 1978.88 1453.08 Q1982.07 1455.77 1982.07 1460.26 Q1982.07 1462.39 1981.26 1464.31 Q1980.47 1466.2 1978.37 1468.8 Q1977.79 1469.47 1974.69 1472.69 Q1971.58 1475.88 1965.94 1481.64 Z\" fill=\"#000000\" fill-rule=\"evenodd\" fill-opacity=\"1\" /><path clip-path=\"url(#clip870)\" d=\"M2006.24 1466.95 Q2009.59 1467.66 2011.47 1469.93 Q2013.37 1472.2 2013.37 1475.53 Q2013.37 1480.65 2009.85 1483.45 Q2006.33 1486.25 1999.85 1486.25 Q1997.67 1486.25 1995.36 1485.81 Q1993.06 1485.39 1990.61 1484.54 L1990.61 1480.02 Q1992.56 1481.16 1994.87 1481.74 Q1997.19 1482.32 1999.71 1482.32 Q2004.11 1482.32 2006.4 1480.58 Q2008.71 1478.84 2008.71 1475.53 Q2008.71 1472.48 2006.56 1470.77 Q2004.43 1469.03 2000.61 1469.03 L1996.58 1469.03 L1996.58 1465.19 L2000.8 1465.19 Q2004.25 1465.19 2006.07 1463.82 Q2007.9 1462.43 2007.9 1459.84 Q2007.9 1457.18 2006 1455.77 Q2004.13 1454.33 2000.61 1454.33 Q1998.69 1454.33 1996.49 1454.75 Q1994.29 1455.16 1991.65 1456.04 L1991.65 1451.88 Q1994.31 1451.14 1996.63 1450.77 Q1998.97 1450.39 2001.03 1450.39 Q2006.35 1450.39 2009.45 1452.83 Q2012.56 1455.23 2012.56 1459.35 Q2012.56 1462.22 2010.91 1464.21 Q2009.27 1466.18 2006.24 1466.95 Z\" fill=\"#000000\" fill-rule=\"evenodd\" fill-opacity=\"1\" /><path clip-path=\"url(#clip870)\" d=\"M2255.52 1454.1 Q2251.91 1454.1 2250.08 1457.66 Q2248.28 1461.2 2248.28 1468.33 Q2248.28 1475.44 2250.08 1479.01 Q2251.91 1482.55 2255.52 1482.55 Q2259.16 1482.55 2260.96 1479.01 Q2262.79 1475.44 2262.79 1468.33 Q2262.79 1461.2 2260.96 1457.66 Q2259.16 1454.1 2255.52 1454.1 M2255.52 1450.39 Q2261.33 1450.39 2264.39 1455 Q2267.47 1459.58 2267.47 1468.33 Q2267.47 1477.06 2264.39 1481.67 Q2261.33 1486.25 2255.52 1486.25 Q2249.71 1486.25 2246.63 1481.67 Q2243.58 1477.06 2243.58 1468.33 Q2243.58 1459.58 2246.63 1455 Q2249.71 1450.39 2255.52 1450.39 Z\" fill=\"#000000\" fill-rule=\"evenodd\" fill-opacity=\"1\" /><path clip-path=\"url(#clip870)\" d=\"M2275.68 1479.7 L2280.57 1479.7 L2280.57 1485.58 L2275.68 1485.58 L2275.68 1479.7 Z\" fill=\"#000000\" fill-rule=\"evenodd\" fill-opacity=\"1\" /><path clip-path=\"url(#clip870)\" d=\"M2294.78 1481.64 L2311.1 1481.64 L2311.1 1485.58 L2289.16 1485.58 L2289.16 1481.64 Q2291.82 1478.89 2296.4 1474.26 Q2301.01 1469.61 2302.19 1468.27 Q2304.43 1465.74 2305.31 1464.01 Q2306.22 1462.25 2306.22 1460.56 Q2306.22 1457.8 2304.27 1456.07 Q2302.35 1454.33 2299.25 1454.33 Q2297.05 1454.33 2294.6 1455.09 Q2292.17 1455.86 2289.39 1457.41 L2289.39 1452.69 Q2292.21 1451.55 2294.67 1450.97 Q2297.12 1450.39 2299.16 1450.39 Q2304.53 1450.39 2307.72 1453.08 Q2310.92 1455.77 2310.92 1460.26 Q2310.92 1462.39 2310.11 1464.31 Q2309.32 1466.2 2307.21 1468.8 Q2306.63 1469.47 2303.53 1472.69 Q2300.43 1475.88 2294.78 1481.64 Z\" fill=\"#000000\" fill-rule=\"evenodd\" fill-opacity=\"1\" /><path clip-path=\"url(#clip870)\" d=\"M2333.76 1455.09 L2321.96 1473.54 L2333.76 1473.54 L2333.76 1455.09 M2332.54 1451.02 L2338.42 1451.02 L2338.42 1473.54 L2343.35 1473.54 L2343.35 1477.43 L2338.42 1477.43 L2338.42 1485.58 L2333.76 1485.58 L2333.76 1477.43 L2318.16 1477.43 L2318.16 1472.92 L2332.54 1451.02 Z\" fill=\"#000000\" fill-rule=\"evenodd\" fill-opacity=\"1\" /><path clip-path=\"url(#clip870)\" d=\"M1295.17 1562.7 L1295.17 1581.6 L1289.28 1581.6 L1289.28 1532.4 L1295.17 1532.4 L1295.17 1537.81 Q1297.01 1534.62 1299.81 1533.1 Q1302.64 1531.54 1306.56 1531.54 Q1313.05 1531.54 1317.1 1536.69 Q1321.17 1541.85 1321.17 1550.25 Q1321.17 1558.65 1317.1 1563.81 Q1313.05 1568.97 1306.56 1568.97 Q1302.64 1568.97 1299.81 1567.44 Q1297.01 1565.88 1295.17 1562.7 M1315.09 1550.25 Q1315.09 1543.79 1312.42 1540.13 Q1309.77 1536.44 1305.13 1536.44 Q1300.48 1536.44 1297.81 1540.13 Q1295.17 1543.79 1295.17 1550.25 Q1295.17 1556.71 1297.81 1560.4 Q1300.48 1564.07 1305.13 1564.07 Q1309.77 1564.07 1312.42 1560.4 Q1315.09 1556.71 1315.09 1550.25 Z\" fill=\"#000000\" fill-rule=\"evenodd\" fill-opacity=\"1\" /><polyline clip-path=\"url(#clip872)\" style=\"stroke:#000000; stroke-linecap:butt; stroke-linejoin:round; stroke-width:2; stroke-opacity:0.1; fill:none\" points=\"\n",
       "  257.69,1412.47 2352.76,1412.47 \n",
       "  \"/>\n",
       "<polyline clip-path=\"url(#clip872)\" style=\"stroke:#000000; stroke-linecap:butt; stroke-linejoin:round; stroke-width:2; stroke-opacity:0.1; fill:none\" points=\"\n",
       "  257.69,1025.47 2352.76,1025.47 \n",
       "  \"/>\n",
       "<polyline clip-path=\"url(#clip872)\" style=\"stroke:#000000; stroke-linecap:butt; stroke-linejoin:round; stroke-width:2; stroke-opacity:0.1; fill:none\" points=\"\n",
       "  257.69,638.461 2352.76,638.461 \n",
       "  \"/>\n",
       "<polyline clip-path=\"url(#clip872)\" style=\"stroke:#000000; stroke-linecap:butt; stroke-linejoin:round; stroke-width:2; stroke-opacity:0.1; fill:none\" points=\"\n",
       "  257.69,251.456 2352.76,251.456 \n",
       "  \"/>\n",
       "<polyline clip-path=\"url(#clip870)\" style=\"stroke:#000000; stroke-linecap:butt; stroke-linejoin:round; stroke-width:4; stroke-opacity:1; fill:none\" points=\"\n",
       "  257.69,1423.18 257.69,47.2441 \n",
       "  \"/>\n",
       "<polyline clip-path=\"url(#clip870)\" style=\"stroke:#000000; stroke-linecap:butt; stroke-linejoin:round; stroke-width:4; stroke-opacity:1; fill:none\" points=\"\n",
       "  257.69,1412.47 276.588,1412.47 \n",
       "  \"/>\n",
       "<polyline clip-path=\"url(#clip870)\" style=\"stroke:#000000; stroke-linecap:butt; stroke-linejoin:round; stroke-width:4; stroke-opacity:1; fill:none\" points=\"\n",
       "  257.69,1025.47 276.588,1025.47 \n",
       "  \"/>\n",
       "<polyline clip-path=\"url(#clip870)\" style=\"stroke:#000000; stroke-linecap:butt; stroke-linejoin:round; stroke-width:4; stroke-opacity:1; fill:none\" points=\"\n",
       "  257.69,638.461 276.588,638.461 \n",
       "  \"/>\n",
       "<polyline clip-path=\"url(#clip870)\" style=\"stroke:#000000; stroke-linecap:butt; stroke-linejoin:round; stroke-width:4; stroke-opacity:1; fill:none\" points=\"\n",
       "  257.69,251.456 276.588,251.456 \n",
       "  \"/>\n",
       "<path clip-path=\"url(#clip870)\" d=\"M114.584 1412.92 L144.26 1412.92 L144.26 1416.86 L114.584 1416.86 L114.584 1412.92 Z\" fill=\"#000000\" fill-rule=\"evenodd\" fill-opacity=\"1\" /><path clip-path=\"url(#clip870)\" d=\"M164.352 1398.27 Q160.741 1398.27 158.913 1401.83 Q157.107 1405.37 157.107 1412.5 Q157.107 1419.61 158.913 1423.18 Q160.741 1426.72 164.352 1426.72 Q167.987 1426.72 169.792 1423.18 Q171.621 1419.61 171.621 1412.5 Q171.621 1405.37 169.792 1401.83 Q167.987 1398.27 164.352 1398.27 M164.352 1394.56 Q170.163 1394.56 173.218 1399.17 Q176.297 1403.75 176.297 1412.5 Q176.297 1421.23 173.218 1425.84 Q170.163 1430.42 164.352 1430.42 Q158.542 1430.42 155.464 1425.84 Q152.408 1421.23 152.408 1412.5 Q152.408 1403.75 155.464 1399.17 Q158.542 1394.56 164.352 1394.56 Z\" fill=\"#000000\" fill-rule=\"evenodd\" fill-opacity=\"1\" /><path clip-path=\"url(#clip870)\" d=\"M184.514 1423.87 L189.399 1423.87 L189.399 1429.75 L184.514 1429.75 L184.514 1423.87 Z\" fill=\"#000000\" fill-rule=\"evenodd\" fill-opacity=\"1\" /><path clip-path=\"url(#clip870)\" d=\"M210.162 1410.61 Q207.014 1410.61 205.162 1412.76 Q203.334 1414.91 203.334 1418.66 Q203.334 1422.39 205.162 1424.56 Q207.014 1426.72 210.162 1426.72 Q213.311 1426.72 215.139 1424.56 Q216.991 1422.39 216.991 1418.66 Q216.991 1414.91 215.139 1412.76 Q213.311 1410.61 210.162 1410.61 M219.445 1395.95 L219.445 1400.21 Q217.686 1399.38 215.88 1398.94 Q214.098 1398.5 212.338 1398.5 Q207.709 1398.5 205.255 1401.63 Q202.824 1404.75 202.477 1411.07 Q203.843 1409.06 205.903 1407.99 Q207.963 1406.9 210.44 1406.9 Q215.649 1406.9 218.658 1410.07 Q221.69 1413.22 221.69 1418.66 Q221.69 1423.99 218.542 1427.2 Q215.394 1430.42 210.162 1430.42 Q204.167 1430.42 200.996 1425.84 Q197.825 1421.23 197.825 1412.5 Q197.825 1404.31 201.713 1399.45 Q205.602 1394.56 212.153 1394.56 Q213.912 1394.56 215.695 1394.91 Q217.5 1395.26 219.445 1395.95 Z\" fill=\"#000000\" fill-rule=\"evenodd\" fill-opacity=\"1\" /><path clip-path=\"url(#clip870)\" d=\"M114.26 1025.92 L143.936 1025.92 L143.936 1029.85 L114.26 1029.85 L114.26 1025.92 Z\" fill=\"#000000\" fill-rule=\"evenodd\" fill-opacity=\"1\" /><path clip-path=\"url(#clip870)\" d=\"M164.028 1011.26 Q160.417 1011.26 158.589 1014.83 Q156.783 1018.37 156.783 1025.5 Q156.783 1032.61 158.589 1036.17 Q160.417 1039.71 164.028 1039.71 Q167.663 1039.71 169.468 1036.17 Q171.297 1032.61 171.297 1025.5 Q171.297 1018.37 169.468 1014.83 Q167.663 1011.26 164.028 1011.26 M164.028 1007.56 Q169.839 1007.56 172.894 1012.17 Q175.973 1016.75 175.973 1025.5 Q175.973 1034.23 172.894 1038.83 Q169.839 1043.42 164.028 1043.42 Q158.218 1043.42 155.14 1038.83 Q152.084 1034.23 152.084 1025.5 Q152.084 1016.75 155.14 1012.17 Q158.218 1007.56 164.028 1007.56 Z\" fill=\"#000000\" fill-rule=\"evenodd\" fill-opacity=\"1\" /><path clip-path=\"url(#clip870)\" d=\"M184.19 1036.87 L189.075 1036.87 L189.075 1042.75 L184.19 1042.75 L184.19 1036.87 Z\" fill=\"#000000\" fill-rule=\"evenodd\" fill-opacity=\"1\" /><path clip-path=\"url(#clip870)\" d=\"M212.107 1012.26 L200.301 1030.71 L212.107 1030.71 L212.107 1012.26 M210.88 1008.19 L216.76 1008.19 L216.76 1030.71 L221.69 1030.71 L221.69 1034.6 L216.76 1034.6 L216.76 1042.75 L212.107 1042.75 L212.107 1034.6 L196.505 1034.6 L196.505 1030.08 L210.88 1008.19 Z\" fill=\"#000000\" fill-rule=\"evenodd\" fill-opacity=\"1\" /><path clip-path=\"url(#clip870)\" d=\"M116.343 638.912 L146.019 638.912 L146.019 642.847 L116.343 642.847 L116.343 638.912 Z\" fill=\"#000000\" fill-rule=\"evenodd\" fill-opacity=\"1\" /><path clip-path=\"url(#clip870)\" d=\"M166.112 624.26 Q162.501 624.26 160.672 627.824 Q158.866 631.366 158.866 638.496 Q158.866 645.602 160.672 649.167 Q162.501 652.708 166.112 652.708 Q169.746 652.708 171.552 649.167 Q173.38 645.602 173.38 638.496 Q173.38 631.366 171.552 627.824 Q169.746 624.26 166.112 624.26 M166.112 620.556 Q171.922 620.556 174.977 625.162 Q178.056 629.746 178.056 638.496 Q178.056 647.222 174.977 651.829 Q171.922 656.412 166.112 656.412 Q160.302 656.412 157.223 651.829 Q154.167 647.222 154.167 638.496 Q154.167 629.746 157.223 625.162 Q160.302 620.556 166.112 620.556 Z\" fill=\"#000000\" fill-rule=\"evenodd\" fill-opacity=\"1\" /><path clip-path=\"url(#clip870)\" d=\"M186.274 649.861 L191.158 649.861 L191.158 655.741 L186.274 655.741 L186.274 649.861 Z\" fill=\"#000000\" fill-rule=\"evenodd\" fill-opacity=\"1\" /><path clip-path=\"url(#clip870)\" d=\"M205.371 651.806 L221.69 651.806 L221.69 655.741 L199.746 655.741 L199.746 651.806 Q202.408 649.051 206.991 644.421 Q211.598 639.769 212.778 638.426 Q215.024 635.903 215.903 634.167 Q216.806 632.408 216.806 630.718 Q216.806 627.963 214.861 626.227 Q212.94 624.491 209.838 624.491 Q207.639 624.491 205.186 625.255 Q202.755 626.019 199.977 627.57 L199.977 622.847 Q202.801 621.713 205.255 621.135 Q207.709 620.556 209.746 620.556 Q215.116 620.556 218.311 623.241 Q221.505 625.926 221.505 630.417 Q221.505 632.547 220.695 634.468 Q219.908 636.366 217.801 638.959 Q217.223 639.63 214.121 642.847 Q211.019 646.042 205.371 651.806 Z\" fill=\"#000000\" fill-rule=\"evenodd\" fill-opacity=\"1\" /><path clip-path=\"url(#clip870)\" d=\"M164.515 237.255 Q160.903 237.255 159.075 240.82 Q157.269 244.361 157.269 251.491 Q157.269 258.597 159.075 262.162 Q160.903 265.704 164.515 265.704 Q168.149 265.704 169.954 262.162 Q171.783 258.597 171.783 251.491 Q171.783 244.361 169.954 240.82 Q168.149 237.255 164.515 237.255 M164.515 233.551 Q170.325 233.551 173.38 238.158 Q176.459 242.741 176.459 251.491 Q176.459 260.218 173.38 264.824 Q170.325 269.408 164.515 269.408 Q158.704 269.408 155.626 264.824 Q152.57 260.218 152.57 251.491 Q152.57 242.741 155.626 238.158 Q158.704 233.551 164.515 233.551 Z\" fill=\"#000000\" fill-rule=\"evenodd\" fill-opacity=\"1\" /><path clip-path=\"url(#clip870)\" d=\"M184.676 262.857 L189.561 262.857 L189.561 268.736 L184.676 268.736 L184.676 262.857 Z\" fill=\"#000000\" fill-rule=\"evenodd\" fill-opacity=\"1\" /><path clip-path=\"url(#clip870)\" d=\"M209.746 237.255 Q206.135 237.255 204.306 240.82 Q202.5 244.361 202.5 251.491 Q202.5 258.597 204.306 262.162 Q206.135 265.704 209.746 265.704 Q213.38 265.704 215.186 262.162 Q217.014 258.597 217.014 251.491 Q217.014 244.361 215.186 240.82 Q213.38 237.255 209.746 237.255 M209.746 233.551 Q215.556 233.551 218.611 238.158 Q221.69 242.741 221.69 251.491 Q221.69 260.218 218.611 264.824 Q215.556 269.408 209.746 269.408 Q203.936 269.408 200.857 264.824 Q197.801 260.218 197.801 251.491 Q197.801 242.741 200.857 238.158 Q203.936 233.551 209.746 233.551 Z\" fill=\"#000000\" fill-rule=\"evenodd\" fill-opacity=\"1\" /><path clip-path=\"url(#clip870)\" d=\"M28.3562 718.597 L45.7028 731.488 L64.0042 717.929 L64.0042 724.836 L49.9996 735.212 L64.0042 745.588 L64.0042 752.495 L45.3526 738.649 L28.3562 751.317 L28.3562 744.41 L41.0558 734.957 L28.3562 725.504 L28.3562 718.597 Z\" fill=\"#000000\" fill-rule=\"evenodd\" fill-opacity=\"1\" /><polyline clip-path=\"url(#clip872)\" style=\"stroke:#009af9; stroke-linecap:butt; stroke-linejoin:round; stroke-width:8; stroke-opacity:1; fill:none\" points=\"\n",
       "  316.984,86.1857 762.813,192.491 \n",
       "  \"/>\n",
       "<polyline clip-path=\"url(#clip872)\" style=\"stroke:#009af9; stroke-linecap:butt; stroke-linejoin:round; stroke-width:8; stroke-opacity:1; fill:none\" points=\"\n",
       "  762.813,192.491 989.157,255.392 \n",
       "  \"/>\n",
       "<polyline clip-path=\"url(#clip872)\" style=\"stroke:#009af9; stroke-linecap:butt; stroke-linejoin:round; stroke-width:4; stroke-opacity:1; fill:none\" points=\"\n",
       "  989.157,255.392 1380.76,390.325 \n",
       "  \"/>\n",
       "<polyline clip-path=\"url(#clip872)\" style=\"stroke:#009af9; stroke-linecap:butt; stroke-linejoin:round; stroke-width:4; stroke-opacity:1; fill:none\" points=\"\n",
       "  1380.76,390.325 1646,526.47 \n",
       "  \"/>\n",
       "<polyline clip-path=\"url(#clip872)\" style=\"stroke:#009af9; stroke-linecap:butt; stroke-linejoin:round; stroke-width:4; stroke-opacity:1; fill:none\" points=\"\n",
       "  1646,526.47 1781.13,663.281 \n",
       "  \"/>\n",
       "<polyline clip-path=\"url(#clip872)\" style=\"stroke:#009af9; stroke-linecap:butt; stroke-linejoin:round; stroke-width:4; stroke-opacity:1; fill:none\" points=\"\n",
       "  1781.13,663.281 1795.98,766.119 \n",
       "  \"/>\n",
       "<polyline clip-path=\"url(#clip872)\" style=\"stroke:#009af9; stroke-linecap:butt; stroke-linejoin:round; stroke-width:8; stroke-opacity:1; fill:none\" points=\"\n",
       "  1795.98,766.119 1700.37,902.916 \n",
       "  \"/>\n",
       "<polyline clip-path=\"url(#clip872)\" style=\"stroke:#009af9; stroke-linecap:butt; stroke-linejoin:round; stroke-width:8; stroke-opacity:1; fill:none\" points=\"\n",
       "  1700.37,902.916 1473.91,1039.31 \n",
       "  \"/>\n",
       "<polyline clip-path=\"url(#clip872)\" style=\"stroke:#009af9; stroke-linecap:butt; stroke-linejoin:round; stroke-width:8; stroke-opacity:1; fill:none\" points=\"\n",
       "  1473.91,1039.31 1119.46,1174.76 \n",
       "  \"/>\n",
       "<polyline clip-path=\"url(#clip872)\" style=\"stroke:#009af9; stroke-linecap:butt; stroke-linejoin:round; stroke-width:8; stroke-opacity:1; fill:none\" points=\"\n",
       "  1119.46,1174.76 641.259,1308.87 \n",
       "  \"/>\n",
       "<polyline clip-path=\"url(#clip872)\" style=\"stroke:#009af9; stroke-linecap:butt; stroke-linejoin:round; stroke-width:8; stroke-opacity:1; fill:none\" points=\"\n",
       "  641.259,1308.87 316.984,1384.24 \n",
       "  \"/>\n",
       "<circle clip-path=\"url(#clip872)\" cx=\"989.157\" cy=\"255.392\" r=\"10\" fill=\"#0000ff\" fill-rule=\"evenodd\" fill-opacity=\"1\" stroke=\"#000000\" stroke-opacity=\"1\" stroke-width=\"0\"/>\n",
       "<circle clip-path=\"url(#clip872)\" cx=\"1795.98\" cy=\"766.119\" r=\"10\" fill=\"#0000ff\" fill-rule=\"evenodd\" fill-opacity=\"1\" stroke=\"#000000\" stroke-opacity=\"1\" stroke-width=\"0\"/>\n",
       "<circle clip-path=\"url(#clip872)\" cx=\"989.157\" cy=\"255.392\" r=\"10\" fill=\"#0000ff\" fill-rule=\"evenodd\" fill-opacity=\"1\" stroke=\"#000000\" stroke-opacity=\"1\" stroke-width=\"0\"/>\n",
       "<polyline clip-path=\"url(#clip872)\" style=\"stroke:#c271d2; stroke-linecap:butt; stroke-linejoin:round; stroke-width:4; stroke-opacity:1; fill:none\" points=\"\n",
       "  316.984,251.456 979.379,251.456 \n",
       "  \"/>\n",
       "<polyline clip-path=\"url(#clip872)\" style=\"stroke:#c271d2; stroke-linecap:butt; stroke-linejoin:round; stroke-width:8; stroke-opacity:1; fill:none\" points=\"\n",
       "  979.379,251.456 2293.46,251.456 \n",
       "  \"/>\n",
       "<circle clip-path=\"url(#clip872)\" cx=\"979.379\" cy=\"251.456\" r=\"10\" fill=\"#0000ff\" fill-rule=\"evenodd\" fill-opacity=\"1\" stroke=\"#000000\" stroke-opacity=\"1\" stroke-width=\"0\"/>\n",
       "<circle clip-path=\"url(#clip872)\" cx=\"979.379\" cy=\"251.456\" r=\"10\" fill=\"#0000ff\" fill-rule=\"evenodd\" fill-opacity=\"1\" stroke=\"#000000\" stroke-opacity=\"1\" stroke-width=\"0\"/>\n",
       "<path clip-path=\"url(#clip870)\" d=\"\n",
       "M1996.85 248.629 L2282.92 248.629 L2282.92 93.1086 L1996.85 93.1086  Z\n",
       "  \" fill=\"#ffffff\" fill-rule=\"evenodd\" fill-opacity=\"1\"/>\n",
       "<polyline clip-path=\"url(#clip870)\" style=\"stroke:#000000; stroke-linecap:butt; stroke-linejoin:round; stroke-width:4; stroke-opacity:1; fill:none\" points=\"\n",
       "  1996.85,248.629 2282.92,248.629 2282.92,93.1086 1996.85,93.1086 1996.85,248.629 \n",
       "  \"/>\n",
       "<circle clip-path=\"url(#clip870)\" cx=\"2089.96\" cy=\"144.949\" r=\"23\" fill=\"#0000ff\" fill-rule=\"evenodd\" fill-opacity=\"1\" stroke=\"#000000\" stroke-opacity=\"1\" stroke-width=\"0\"/>\n",
       "<path clip-path=\"url(#clip870)\" d=\"M2201.85 149.289 Q2201.85 144.59 2199.91 141.928 Q2197.98 139.243 2194.6 139.243 Q2191.22 139.243 2189.28 141.928 Q2187.36 144.59 2187.36 149.289 Q2187.36 153.988 2189.28 156.673 Q2191.22 159.335 2194.6 159.335 Q2197.98 159.335 2199.91 156.673 Q2201.85 153.988 2201.85 149.289 M2187.36 140.238 Q2188.7 137.923 2190.74 136.812 Q2192.8 135.678 2195.65 135.678 Q2200.37 135.678 2203.31 139.428 Q2206.27 143.178 2206.27 149.289 Q2206.27 155.4 2203.31 159.15 Q2200.37 162.9 2195.65 162.9 Q2192.8 162.9 2190.74 161.789 Q2188.7 160.655 2187.36 158.34 L2187.36 162.229 L2183.08 162.229 L2183.08 126.21 L2187.36 126.21 L2187.36 140.238 Z\" fill=\"#000000\" fill-rule=\"evenodd\" fill-opacity=\"1\" /><path clip-path=\"url(#clip870)\" d=\"M2217.45 158.34 L2217.45 172.09 L2213.17 172.09 L2213.17 136.303 L2217.45 136.303 L2217.45 140.238 Q2218.79 137.923 2220.83 136.812 Q2222.89 135.678 2225.74 135.678 Q2230.46 135.678 2233.4 139.428 Q2236.36 143.178 2236.36 149.289 Q2236.36 155.4 2233.4 159.15 Q2230.46 162.9 2225.74 162.9 Q2222.89 162.9 2220.83 161.789 Q2218.79 160.655 2217.45 158.34 M2231.94 149.289 Q2231.94 144.59 2230 141.928 Q2228.08 139.243 2224.7 139.243 Q2221.32 139.243 2219.37 141.928 Q2217.45 144.59 2217.45 149.289 Q2217.45 153.988 2219.37 156.673 Q2221.32 159.335 2224.7 159.335 Q2228.08 159.335 2230 156.673 Q2231.94 153.988 2231.94 149.289 Z\" fill=\"#000000\" fill-rule=\"evenodd\" fill-opacity=\"1\" /><circle clip-path=\"url(#clip870)\" cx=\"2089.96\" cy=\"196.789\" r=\"23\" fill=\"#0000ff\" fill-rule=\"evenodd\" fill-opacity=\"1\" stroke=\"#000000\" stroke-opacity=\"1\" stroke-width=\"0\"/>\n",
       "<path clip-path=\"url(#clip870)\" d=\"M2201.85 201.129 Q2201.85 196.43 2199.91 193.768 Q2197.98 191.083 2194.6 191.083 Q2191.22 191.083 2189.28 193.768 Q2187.36 196.43 2187.36 201.129 Q2187.36 205.828 2189.28 208.513 Q2191.22 211.175 2194.6 211.175 Q2197.98 211.175 2199.91 208.513 Q2201.85 205.828 2201.85 201.129 M2187.36 192.078 Q2188.7 189.763 2190.74 188.652 Q2192.8 187.518 2195.65 187.518 Q2200.37 187.518 2203.31 191.268 Q2206.27 195.018 2206.27 201.129 Q2206.27 207.24 2203.31 210.99 Q2200.37 214.74 2195.65 214.74 Q2192.8 214.74 2190.74 213.629 Q2188.7 212.495 2187.36 210.18 L2187.36 214.069 L2183.08 214.069 L2183.08 178.05 L2187.36 178.05 L2187.36 192.078 Z\" fill=\"#000000\" fill-rule=\"evenodd\" fill-opacity=\"1\" /><path clip-path=\"url(#clip870)\" d=\"M2217.45 210.18 L2217.45 223.93 L2213.17 223.93 L2213.17 188.143 L2217.45 188.143 L2217.45 192.078 Q2218.79 189.763 2220.83 188.652 Q2222.89 187.518 2225.74 187.518 Q2230.46 187.518 2233.4 191.268 Q2236.36 195.018 2236.36 201.129 Q2236.36 207.24 2233.4 210.99 Q2230.46 214.74 2225.74 214.74 Q2222.89 214.74 2220.83 213.629 Q2218.79 212.495 2217.45 210.18 M2231.94 201.129 Q2231.94 196.43 2230 193.768 Q2228.08 191.083 2224.7 191.083 Q2221.32 191.083 2219.37 193.768 Q2217.45 196.43 2217.45 201.129 Q2217.45 205.828 2219.37 208.513 Q2221.32 211.175 2224.7 211.175 Q2228.08 211.175 2230 208.513 Q2231.94 205.828 2231.94 201.129 Z\" fill=\"#000000\" fill-rule=\"evenodd\" fill-opacity=\"1\" /></svg>\n"
      ]
     },
     "execution_count": 40,
     "metadata": {},
     "output_type": "execute_result"
    }
   ],
   "source": [
    "F=(x,p) -> @. logharvest2(x,(p,),0)\n",
    "opts = ContinuationPar(pMin=0.18,pMax=0.24, ds = 0.04, dsmax = 0.05,detectBifurcation=3)\n",
    "br1, = continuation(F,[1.0],[0.2,0.5,0.18],(@lens _[3]), opts; recordFromSolution = (x, p) -> x[1])\n",
    "br2, = continuation(F,[-0.1],[0.2,0.5,0.18],(@lens _[3]), opts)\n",
    "plot(br1)\n",
    "plot!(br2)"
   ]
  },
  {
   "cell_type": "code",
   "execution_count": null,
   "id": "130cdc30",
   "metadata": {},
   "outputs": [],
   "source": [
    "K = 2.0; R=0.2\n",
    "@manipulate throttle=.1 for P=0.18:0.001:0.24\n",
    "    pr = filter(isreal,roots(Polynomial([-K,1.0+K*P/R,-K,1.0])))\n",
    "    plot(br1)\n",
    "    scatter!(repeat([P],length(pr)),real(pr),label=\"PF\")\n",
    "end "
   ]
  },
  {
   "cell_type": "markdown",
   "id": "2101ecde",
   "metadata": {},
   "source": [
    "## Potencial de la Ecuacion Logistica con Harvest Realista\n",
    "\n",
    "Ahora el termino que se le agrega al potencial de la logistica es la antiderivada (o integral indefinida) de $Hx/(1+x)$ que se puede buscar en Wolfram u otro sitio y es igual a $ H\\left(x+log(1+x)\\right)$.\n",
    "\n",
    "\n",
    "$V(x) = \\frac{Rx^2}{3K}\\left(x- \\frac{3K}{2}\\right) + H\\left(x+log(1+x)\\right)$"
   ]
  },
  {
   "cell_type": "code",
   "execution_count": null,
   "id": "39e59e5a",
   "metadata": {
    "ExecuteTime": {
     "end_time": "2022-01-27T02:11:09.965000-03:00",
     "start_time": "2022-01-27T05:11:09.482Z"
    }
   },
   "outputs": [],
   "source": [
    "Vlogharvest2(x,p) = p[1]*x*x/(3*p[2])*(x-3*p[2]/2)+p[3]*(x-log(1+x))\n",
    "R = 0.2; K=2.0\n",
    "@manipulate throttle=.05 for H=0.18:0.001:0.24,x0=0:0.01:1.2, tmax=10.0:10.0:200.0\n",
    "    potential1D(Vlogharvest2,x0,tmax,[R,K,H];xlims=[-0.3,1.2])\n",
    "end"
   ]
  },
  {
   "cell_type": "markdown",
   "id": "86053ea8",
   "metadata": {},
   "source": [
    "# Ecuacion Logistica con OutBreak\n",
    "\n",
    "Este ultimo modelo incorpora un termino de \"predación\" de la especie que tiene una forma tipo sigmoidea. La diferencia con el anterior es que cuando la población era baja el modelo anterior se comportaba como la ecuación del consumidor (con harvest lineal) mientras que en este el término de harvest (o predación en este caso) es cuadrático (crece más lentamente al principio).\n",
    "\n",
    "$\\dot{x} = Rx\\left(1-\\displaystyle\\frac{x}{K}\\right)-P\\displaystyle\\frac{x^2}{1+x^2}$\n",
    "\n",
    "En este caso no basta una cuadratica para calcular los puntos fijos. Pero $x=0$ sigue siendo un punto fijo repulsor. Y bajo ciertas condiciones tenemos dos puntos fijos atractores separados por un repulsor."
   ]
  },
  {
   "cell_type": "code",
   "execution_count": 41,
   "id": "7ca0d95b",
   "metadata": {
    "ExecuteTime": {
     "end_time": "2022-01-27T02:15:08.575000-03:00",
     "start_time": "2022-01-27T05:15:08.471Z"
    }
   },
   "outputs": [
    {
     "data": {
      "text/plain": [
       "logoutbreak (generic function with 1 method)"
      ]
     },
     "execution_count": 41,
     "metadata": {},
     "output_type": "execute_result"
    }
   ],
   "source": [
    "# Ecuacion Logistica con Outbreak\n",
    "logoutbreak(x,p,t)=p[1]*x*(1.0-x/p[2])-p[3]*x*x/(1+x*x)"
   ]
  },
  {
   "cell_type": "code",
   "execution_count": 42,
   "id": "f477828b",
   "metadata": {
    "ExecuteTime": {
     "end_time": "2022-01-27T02:15:20.126000-03:00",
     "start_time": "2022-01-27T05:15:18.058Z"
    }
   },
   "outputs": [
    {
     "data": {
      "application/vnd.webio.node+json": {
       "children": [
        {
         "children": [
          {
           "children": [
            {
             "children": [
              {
               "children": [
                {
                 "children": [
                  "R"
                 ],
                 "instanceArgs": {
                  "namespace": "html",
                  "tag": "label"
                 },
                 "nodeType": "DOM",
                 "props": {
                  "className": "interact ",
                  "style": {
                   "padding": "5px 10px 0px 10px"
                  }
                 },
                 "type": "node"
                }
               ],
               "instanceArgs": {
                "namespace": "html",
                "tag": "div"
               },
               "nodeType": "DOM",
               "props": {
                "className": "interact-flex-row-left"
               },
               "type": "node"
              },
              {
               "children": [
                {
                 "children": [],
                 "instanceArgs": {
                  "namespace": "html",
                  "tag": "input"
                 },
                 "nodeType": "DOM",
                 "props": {
                  "attributes": {
                   "data-bind": "numericValue: index, valueUpdate: 'input', event: {change: function (){this.changes(this.changes()+1)}}",
                   "orient": "horizontal",
                   "type": "range"
                  },
                  "className": "slider slider is-fullwidth",
                  "max": 101,
                  "min": 1,
                  "step": 1,
                  "style": {}
                 },
                 "type": "node"
                }
               ],
               "instanceArgs": {
                "namespace": "html",
                "tag": "div"
               },
               "nodeType": "DOM",
               "props": {
                "className": "interact-flex-row-center"
               },
               "type": "node"
              },
              {
               "children": [
                {
                 "children": [],
                 "instanceArgs": {
                  "namespace": "html",
                  "tag": "p"
                 },
                 "nodeType": "DOM",
                 "props": {
                  "attributes": {
                   "data-bind": "text: formatted_val"
                  }
                 },
                 "type": "node"
                }
               ],
               "instanceArgs": {
                "namespace": "html",
                "tag": "div"
               },
               "nodeType": "DOM",
               "props": {
                "className": "interact-flex-row-right"
               },
               "type": "node"
              }
             ],
             "instanceArgs": {
              "namespace": "html",
              "tag": "div"
             },
             "nodeType": "DOM",
             "props": {
              "className": "interact-flex-row interact-widget"
             },
             "type": "node"
            }
           ],
           "instanceArgs": {
            "handlers": {
             "changes": [
              "(function (val){return (val!=this.model[\"changes\"]()) ? (this.valueFromJulia[\"changes\"]=true, this.model[\"changes\"](val)) : undefined})"
             ],
             "index": [
              "(function (val){return (val!=this.model[\"index\"]()) ? (this.valueFromJulia[\"index\"]=true, this.model[\"index\"](val)) : undefined})"
             ]
            },
            "id": "5520633563165499905",
            "imports": {
             "data": [
              {
               "name": "knockout",
               "type": "js",
               "url": "/assetserver/2712bb0a7395d062608c2f218a74b700f6c76b99-knockout.js"
              },
              {
               "name": "knockout_punches",
               "type": "js",
               "url": "/assetserver/fb4445501a2be4ab82176667f844e40da26fa007-knockout_punches.js"
              },
              {
               "name": null,
               "type": "js",
               "url": "/assetserver/a8ea7d9192d5fa85c6fac26c72d7fece1e500138-all.js"
              },
              {
               "name": null,
               "type": "css",
               "url": "/assetserver/620a53798cfdb29a4a2142ce0588e9aadc351d94-style.css"
              },
              {
               "name": null,
               "type": "css",
               "url": "/assetserver/9f2f17f677abbfd015a7c6b0c0f09a2da809bee2-bulma_confined.min.css"
              }
             ],
             "type": "async_block"
            },
            "mount_callbacks": [
             "function () {\n    var handler = (function (ko, koPunches) {\n    ko.punches.enableAll();\n    ko.bindingHandlers.numericValue = {\n        init: function(element, valueAccessor, allBindings, data, context) {\n            var stringified = ko.observable(ko.unwrap(valueAccessor()));\n            stringified.subscribe(function(value) {\n                var val = parseFloat(value);\n                if (!isNaN(val)) {\n                    valueAccessor()(val);\n                }\n            });\n            valueAccessor().subscribe(function(value) {\n                var str = JSON.stringify(value);\n                if ((str == \"0\") && ([\"-0\", \"-0.\"].indexOf(stringified()) >= 0))\n                     return;\n                 if ([\"null\", \"\"].indexOf(str) >= 0)\n                     return;\n                stringified(str);\n            });\n            ko.applyBindingsToNode(\n                element,\n                {\n                    value: stringified,\n                    valueUpdate: allBindings.get('valueUpdate'),\n                },\n                context,\n            );\n        }\n    };\n    var json_data = {\"formatted_vals\":[\"0.0\",\"0.02\",\"0.04\",\"0.06\",\"0.08\",\"0.1\",\"0.12\",\"0.14\",\"0.16\",\"0.18\",\"0.2\",\"0.22\",\"0.24\",\"0.26\",\"0.28\",\"0.3\",\"0.32\",\"0.34\",\"0.36\",\"0.38\",\"0.4\",\"0.42\",\"0.44\",\"0.46\",\"0.48\",\"0.5\",\"0.52\",\"0.54\",\"0.56\",\"0.58\",\"0.6\",\"0.62\",\"0.64\",\"0.66\",\"0.68\",\"0.7\",\"0.72\",\"0.74\",\"0.76\",\"0.78\",\"0.8\",\"0.82\",\"0.84\",\"0.86\",\"0.88\",\"0.9\",\"0.92\",\"0.94\",\"0.96\",\"0.98\",\"1.0\",\"1.02\",\"1.04\",\"1.06\",\"1.08\",\"1.1\",\"1.12\",\"1.14\",\"1.16\",\"1.18\",\"1.2\",\"1.22\",\"1.24\",\"1.26\",\"1.28\",\"1.3\",\"1.32\",\"1.34\",\"1.36\",\"1.38\",\"1.4\",\"1.42\",\"1.44\",\"1.46\",\"1.48\",\"1.5\",\"1.52\",\"1.54\",\"1.56\",\"1.58\",\"1.6\",\"1.62\",\"1.64\",\"1.66\",\"1.68\",\"1.7\",\"1.72\",\"1.74\",\"1.76\",\"1.78\",\"1.8\",\"1.82\",\"1.84\",\"1.86\",\"1.88\",\"1.9\",\"1.92\",\"1.94\",\"1.96\",\"1.98\",\"2.0\"],\"changes\":WebIO.getval({\"name\":\"changes\",\"scope\":\"5520633563165499905\",\"id\":\"10852090576716556920\",\"type\":\"observable\"}),\"index\":WebIO.getval({\"name\":\"index\",\"scope\":\"5520633563165499905\",\"id\":\"1051105627952491370\",\"type\":\"observable\"})};\n    var self = this;\n    function AppViewModel() {\n        for (var key in json_data) {\n            var el = json_data[key];\n            this[key] = Array.isArray(el) ? ko.observableArray(el) : ko.observable(el);\n        }\n        \n        [this[\"formatted_val\"]=ko.computed(    function(){\n        return this.formatted_vals()[parseInt(this.index())-(1)];\n    }\n,this)]\n        [this[\"changes\"].subscribe((function (val){!(this.valueFromJulia[\"changes\"]) ? (WebIO.setval({\"name\":\"changes\",\"scope\":\"5520633563165499905\",\"id\":\"10852090576716556920\",\"type\":\"observable\"},val)) : undefined; return this.valueFromJulia[\"changes\"]=false}),self),this[\"index\"].subscribe((function (val){!(this.valueFromJulia[\"index\"]) ? (WebIO.setval({\"name\":\"index\",\"scope\":\"5520633563165499905\",\"id\":\"1051105627952491370\",\"type\":\"observable\"},val)) : undefined; return this.valueFromJulia[\"index\"]=false}),self)]\n        \n    }\n    self.model = new AppViewModel();\n    self.valueFromJulia = {};\n    for (var key in json_data) {\n        self.valueFromJulia[key] = false;\n    }\n    ko.applyBindings(self.model, self.dom);\n}\n);\n    (WebIO.importBlock({\"data\":[{\"name\":\"knockout\",\"type\":\"js\",\"url\":\"/assetserver/2712bb0a7395d062608c2f218a74b700f6c76b99-knockout.js\"},{\"name\":\"knockout_punches\",\"type\":\"js\",\"url\":\"/assetserver/fb4445501a2be4ab82176667f844e40da26fa007-knockout_punches.js\"}],\"type\":\"async_block\"})).then((imports) => handler.apply(this, imports));\n}\n"
            ],
            "observables": {
             "changes": {
              "id": "10852090576716556920",
              "sync": false,
              "value": 0
             },
             "index": {
              "id": "1051105627952491370",
              "sync": true,
              "value": 51
             }
            },
            "systemjs_options": null
           },
           "nodeType": "Scope",
           "props": {},
           "type": "node"
          }
         ],
         "instanceArgs": {
          "namespace": "html",
          "tag": "div"
         },
         "nodeType": "DOM",
         "props": {
          "className": "field interact-widget"
         },
         "type": "node"
        },
        {
         "children": [
          {
           "children": [
            {
             "children": [
              {
               "children": [
                {
                 "children": [
                  "K"
                 ],
                 "instanceArgs": {
                  "namespace": "html",
                  "tag": "label"
                 },
                 "nodeType": "DOM",
                 "props": {
                  "className": "interact ",
                  "style": {
                   "padding": "5px 10px 0px 10px"
                  }
                 },
                 "type": "node"
                }
               ],
               "instanceArgs": {
                "namespace": "html",
                "tag": "div"
               },
               "nodeType": "DOM",
               "props": {
                "className": "interact-flex-row-left"
               },
               "type": "node"
              },
              {
               "children": [
                {
                 "children": [],
                 "instanceArgs": {
                  "namespace": "html",
                  "tag": "input"
                 },
                 "nodeType": "DOM",
                 "props": {
                  "attributes": {
                   "data-bind": "numericValue: index, valueUpdate: 'input', event: {change: function (){this.changes(this.changes()+1)}}",
                   "orient": "horizontal",
                   "type": "range"
                  },
                  "className": "slider slider is-fullwidth",
                  "max": 101,
                  "min": 1,
                  "step": 1,
                  "style": {}
                 },
                 "type": "node"
                }
               ],
               "instanceArgs": {
                "namespace": "html",
                "tag": "div"
               },
               "nodeType": "DOM",
               "props": {
                "className": "interact-flex-row-center"
               },
               "type": "node"
              },
              {
               "children": [
                {
                 "children": [],
                 "instanceArgs": {
                  "namespace": "html",
                  "tag": "p"
                 },
                 "nodeType": "DOM",
                 "props": {
                  "attributes": {
                   "data-bind": "text: formatted_val"
                  }
                 },
                 "type": "node"
                }
               ],
               "instanceArgs": {
                "namespace": "html",
                "tag": "div"
               },
               "nodeType": "DOM",
               "props": {
                "className": "interact-flex-row-right"
               },
               "type": "node"
              }
             ],
             "instanceArgs": {
              "namespace": "html",
              "tag": "div"
             },
             "nodeType": "DOM",
             "props": {
              "className": "interact-flex-row interact-widget"
             },
             "type": "node"
            }
           ],
           "instanceArgs": {
            "handlers": {
             "changes": [
              "(function (val){return (val!=this.model[\"changes\"]()) ? (this.valueFromJulia[\"changes\"]=true, this.model[\"changes\"](val)) : undefined})"
             ],
             "index": [
              "(function (val){return (val!=this.model[\"index\"]()) ? (this.valueFromJulia[\"index\"]=true, this.model[\"index\"](val)) : undefined})"
             ]
            },
            "id": "12234496763025508972",
            "imports": {
             "data": [
              {
               "name": "knockout",
               "type": "js",
               "url": "/assetserver/2712bb0a7395d062608c2f218a74b700f6c76b99-knockout.js"
              },
              {
               "name": "knockout_punches",
               "type": "js",
               "url": "/assetserver/fb4445501a2be4ab82176667f844e40da26fa007-knockout_punches.js"
              },
              {
               "name": null,
               "type": "js",
               "url": "/assetserver/a8ea7d9192d5fa85c6fac26c72d7fece1e500138-all.js"
              },
              {
               "name": null,
               "type": "css",
               "url": "/assetserver/620a53798cfdb29a4a2142ce0588e9aadc351d94-style.css"
              },
              {
               "name": null,
               "type": "css",
               "url": "/assetserver/9f2f17f677abbfd015a7c6b0c0f09a2da809bee2-bulma_confined.min.css"
              }
             ],
             "type": "async_block"
            },
            "mount_callbacks": [
             "function () {\n    var handler = (function (ko, koPunches) {\n    ko.punches.enableAll();\n    ko.bindingHandlers.numericValue = {\n        init: function(element, valueAccessor, allBindings, data, context) {\n            var stringified = ko.observable(ko.unwrap(valueAccessor()));\n            stringified.subscribe(function(value) {\n                var val = parseFloat(value);\n                if (!isNaN(val)) {\n                    valueAccessor()(val);\n                }\n            });\n            valueAccessor().subscribe(function(value) {\n                var str = JSON.stringify(value);\n                if ((str == \"0\") && ([\"-0\", \"-0.\"].indexOf(stringified()) >= 0))\n                     return;\n                 if ([\"null\", \"\"].indexOf(str) >= 0)\n                     return;\n                stringified(str);\n            });\n            ko.applyBindingsToNode(\n                element,\n                {\n                    value: stringified,\n                    valueUpdate: allBindings.get('valueUpdate'),\n                },\n                context,\n            );\n        }\n    };\n    var json_data = {\"formatted_vals\":[\"0.0\",\"0.1\",\"0.2\",\"0.3\",\"0.4\",\"0.5\",\"0.6\",\"0.7\",\"0.8\",\"0.9\",\"1.0\",\"1.1\",\"1.2\",\"1.3\",\"1.4\",\"1.5\",\"1.6\",\"1.7\",\"1.8\",\"1.9\",\"2.0\",\"2.1\",\"2.2\",\"2.3\",\"2.4\",\"2.5\",\"2.6\",\"2.7\",\"2.8\",\"2.9\",\"3.0\",\"3.1\",\"3.2\",\"3.3\",\"3.4\",\"3.5\",\"3.6\",\"3.7\",\"3.8\",\"3.9\",\"4.0\",\"4.1\",\"4.2\",\"4.3\",\"4.4\",\"4.5\",\"4.6\",\"4.7\",\"4.8\",\"4.9\",\"5.0\",\"5.1\",\"5.2\",\"5.3\",\"5.4\",\"5.5\",\"5.6\",\"5.7\",\"5.8\",\"5.9\",\"6.0\",\"6.1\",\"6.2\",\"6.3\",\"6.4\",\"6.5\",\"6.6\",\"6.7\",\"6.8\",\"6.9\",\"7.0\",\"7.1\",\"7.2\",\"7.3\",\"7.4\",\"7.5\",\"7.6\",\"7.7\",\"7.8\",\"7.9\",\"8.0\",\"8.1\",\"8.2\",\"8.3\",\"8.4\",\"8.5\",\"8.6\",\"8.7\",\"8.8\",\"8.9\",\"9.0\",\"9.1\",\"9.2\",\"9.3\",\"9.4\",\"9.5\",\"9.6\",\"9.7\",\"9.8\",\"9.9\",\"10.0\"],\"changes\":WebIO.getval({\"name\":\"changes\",\"scope\":\"12234496763025508972\",\"id\":\"7196415393505232149\",\"type\":\"observable\"}),\"index\":WebIO.getval({\"name\":\"index\",\"scope\":\"12234496763025508972\",\"id\":\"11726062129176988202\",\"type\":\"observable\"})};\n    var self = this;\n    function AppViewModel() {\n        for (var key in json_data) {\n            var el = json_data[key];\n            this[key] = Array.isArray(el) ? ko.observableArray(el) : ko.observable(el);\n        }\n        \n        [this[\"formatted_val\"]=ko.computed(    function(){\n        return this.formatted_vals()[parseInt(this.index())-(1)];\n    }\n,this)]\n        [this[\"changes\"].subscribe((function (val){!(this.valueFromJulia[\"changes\"]) ? (WebIO.setval({\"name\":\"changes\",\"scope\":\"12234496763025508972\",\"id\":\"7196415393505232149\",\"type\":\"observable\"},val)) : undefined; return this.valueFromJulia[\"changes\"]=false}),self),this[\"index\"].subscribe((function (val){!(this.valueFromJulia[\"index\"]) ? (WebIO.setval({\"name\":\"index\",\"scope\":\"12234496763025508972\",\"id\":\"11726062129176988202\",\"type\":\"observable\"},val)) : undefined; return this.valueFromJulia[\"index\"]=false}),self)]\n        \n    }\n    self.model = new AppViewModel();\n    self.valueFromJulia = {};\n    for (var key in json_data) {\n        self.valueFromJulia[key] = false;\n    }\n    ko.applyBindings(self.model, self.dom);\n}\n);\n    (WebIO.importBlock({\"data\":[{\"name\":\"knockout\",\"type\":\"js\",\"url\":\"/assetserver/2712bb0a7395d062608c2f218a74b700f6c76b99-knockout.js\"},{\"name\":\"knockout_punches\",\"type\":\"js\",\"url\":\"/assetserver/fb4445501a2be4ab82176667f844e40da26fa007-knockout_punches.js\"}],\"type\":\"async_block\"})).then((imports) => handler.apply(this, imports));\n}\n"
            ],
            "observables": {
             "changes": {
              "id": "7196415393505232149",
              "sync": false,
              "value": 0
             },
             "index": {
              "id": "11726062129176988202",
              "sync": true,
              "value": 51
             }
            },
            "systemjs_options": null
           },
           "nodeType": "Scope",
           "props": {},
           "type": "node"
          }
         ],
         "instanceArgs": {
          "namespace": "html",
          "tag": "div"
         },
         "nodeType": "DOM",
         "props": {
          "className": "field interact-widget"
         },
         "type": "node"
        },
        {
         "children": [
          {
           "children": [
            {
             "children": [
              {
               "children": [
                {
                 "children": [
                  "P"
                 ],
                 "instanceArgs": {
                  "namespace": "html",
                  "tag": "label"
                 },
                 "nodeType": "DOM",
                 "props": {
                  "className": "interact ",
                  "style": {
                   "padding": "5px 10px 0px 10px"
                  }
                 },
                 "type": "node"
                }
               ],
               "instanceArgs": {
                "namespace": "html",
                "tag": "div"
               },
               "nodeType": "DOM",
               "props": {
                "className": "interact-flex-row-left"
               },
               "type": "node"
              },
              {
               "children": [
                {
                 "children": [],
                 "instanceArgs": {
                  "namespace": "html",
                  "tag": "input"
                 },
                 "nodeType": "DOM",
                 "props": {
                  "attributes": {
                   "data-bind": "numericValue: index, valueUpdate: 'input', event: {change: function (){this.changes(this.changes()+1)}}",
                   "orient": "horizontal",
                   "type": "range"
                  },
                  "className": "slider slider is-fullwidth",
                  "max": 201,
                  "min": 1,
                  "step": 1,
                  "style": {}
                 },
                 "type": "node"
                }
               ],
               "instanceArgs": {
                "namespace": "html",
                "tag": "div"
               },
               "nodeType": "DOM",
               "props": {
                "className": "interact-flex-row-center"
               },
               "type": "node"
              },
              {
               "children": [
                {
                 "children": [],
                 "instanceArgs": {
                  "namespace": "html",
                  "tag": "p"
                 },
                 "nodeType": "DOM",
                 "props": {
                  "attributes": {
                   "data-bind": "text: formatted_val"
                  }
                 },
                 "type": "node"
                }
               ],
               "instanceArgs": {
                "namespace": "html",
                "tag": "div"
               },
               "nodeType": "DOM",
               "props": {
                "className": "interact-flex-row-right"
               },
               "type": "node"
              }
             ],
             "instanceArgs": {
              "namespace": "html",
              "tag": "div"
             },
             "nodeType": "DOM",
             "props": {
              "className": "interact-flex-row interact-widget"
             },
             "type": "node"
            }
           ],
           "instanceArgs": {
            "handlers": {
             "changes": [
              "(function (val){return (val!=this.model[\"changes\"]()) ? (this.valueFromJulia[\"changes\"]=true, this.model[\"changes\"](val)) : undefined})"
             ],
             "index": [
              "(function (val){return (val!=this.model[\"index\"]()) ? (this.valueFromJulia[\"index\"]=true, this.model[\"index\"](val)) : undefined})"
             ]
            },
            "id": "17902188121882974597",
            "imports": {
             "data": [
              {
               "name": "knockout",
               "type": "js",
               "url": "/assetserver/2712bb0a7395d062608c2f218a74b700f6c76b99-knockout.js"
              },
              {
               "name": "knockout_punches",
               "type": "js",
               "url": "/assetserver/fb4445501a2be4ab82176667f844e40da26fa007-knockout_punches.js"
              },
              {
               "name": null,
               "type": "js",
               "url": "/assetserver/a8ea7d9192d5fa85c6fac26c72d7fece1e500138-all.js"
              },
              {
               "name": null,
               "type": "css",
               "url": "/assetserver/620a53798cfdb29a4a2142ce0588e9aadc351d94-style.css"
              },
              {
               "name": null,
               "type": "css",
               "url": "/assetserver/9f2f17f677abbfd015a7c6b0c0f09a2da809bee2-bulma_confined.min.css"
              }
             ],
             "type": "async_block"
            },
            "mount_callbacks": [
             "function () {\n    var handler = (function (ko, koPunches) {\n    ko.punches.enableAll();\n    ko.bindingHandlers.numericValue = {\n        init: function(element, valueAccessor, allBindings, data, context) {\n            var stringified = ko.observable(ko.unwrap(valueAccessor()));\n            stringified.subscribe(function(value) {\n                var val = parseFloat(value);\n                if (!isNaN(val)) {\n                    valueAccessor()(val);\n                }\n            });\n            valueAccessor().subscribe(function(value) {\n                var str = JSON.stringify(value);\n                if ((str == \"0\") && ([\"-0\", \"-0.\"].indexOf(stringified()) >= 0))\n                     return;\n                 if ([\"null\", \"\"].indexOf(str) >= 0)\n                     return;\n                stringified(str);\n            });\n            ko.applyBindingsToNode(\n                element,\n                {\n                    value: stringified,\n                    valueUpdate: allBindings.get('valueUpdate'),\n                },\n                context,\n            );\n        }\n    };\n    var json_data = {\"formatted_vals\":[\"0.0\",\"0.01\",\"0.02\",\"0.03\",\"0.04\",\"0.05\",\"0.06\",\"0.07\",\"0.08\",\"0.09\",\"0.1\",\"0.11\",\"0.12\",\"0.13\",\"0.14\",\"0.15\",\"0.16\",\"0.17\",\"0.18\",\"0.19\",\"0.2\",\"0.21\",\"0.22\",\"0.23\",\"0.24\",\"0.25\",\"0.26\",\"0.27\",\"0.28\",\"0.29\",\"0.3\",\"0.31\",\"0.32\",\"0.33\",\"0.34\",\"0.35\",\"0.36\",\"0.37\",\"0.38\",\"0.39\",\"0.4\",\"0.41\",\"0.42\",\"0.43\",\"0.44\",\"0.45\",\"0.46\",\"0.47\",\"0.48\",\"0.49\",\"0.5\",\"0.51\",\"0.52\",\"0.53\",\"0.54\",\"0.55\",\"0.56\",\"0.57\",\"0.58\",\"0.59\",\"0.6\",\"0.61\",\"0.62\",\"0.63\",\"0.64\",\"0.65\",\"0.66\",\"0.67\",\"0.68\",\"0.69\",\"0.7\",\"0.71\",\"0.72\",\"0.73\",\"0.74\",\"0.75\",\"0.76\",\"0.77\",\"0.78\",\"0.79\",\"0.8\",\"0.81\",\"0.82\",\"0.83\",\"0.84\",\"0.85\",\"0.86\",\"0.87\",\"0.88\",\"0.89\",\"0.9\",\"0.91\",\"0.92\",\"0.93\",\"0.94\",\"0.95\",\"0.96\",\"0.97\",\"0.98\",\"0.99\",\"1.0\",\"1.01\",\"1.02\",\"1.03\",\"1.04\",\"1.05\",\"1.06\",\"1.07\",\"1.08\",\"1.09\",\"1.1\",\"1.11\",\"1.12\",\"1.13\",\"1.14\",\"1.15\",\"1.16\",\"1.17\",\"1.18\",\"1.19\",\"1.2\",\"1.21\",\"1.22\",\"1.23\",\"1.24\",\"1.25\",\"1.26\",\"1.27\",\"1.28\",\"1.29\",\"1.3\",\"1.31\",\"1.32\",\"1.33\",\"1.34\",\"1.35\",\"1.36\",\"1.37\",\"1.38\",\"1.39\",\"1.4\",\"1.41\",\"1.42\",\"1.43\",\"1.44\",\"1.45\",\"1.46\",\"1.47\",\"1.48\",\"1.49\",\"1.5\",\"1.51\",\"1.52\",\"1.53\",\"1.54\",\"1.55\",\"1.56\",\"1.57\",\"1.58\",\"1.59\",\"1.6\",\"1.61\",\"1.62\",\"1.63\",\"1.64\",\"1.65\",\"1.66\",\"1.67\",\"1.68\",\"1.69\",\"1.7\",\"1.71\",\"1.72\",\"1.73\",\"1.74\",\"1.75\",\"1.76\",\"1.77\",\"1.78\",\"1.79\",\"1.8\",\"1.81\",\"1.82\",\"1.83\",\"1.84\",\"1.85\",\"1.86\",\"1.87\",\"1.88\",\"1.89\",\"1.9\",\"1.91\",\"1.92\",\"1.93\",\"1.94\",\"1.95\",\"1.96\",\"1.97\",\"1.98\",\"1.99\",\"2.0\"],\"changes\":WebIO.getval({\"name\":\"changes\",\"scope\":\"17902188121882974597\",\"id\":\"2228443197547966622\",\"type\":\"observable\"}),\"index\":WebIO.getval({\"name\":\"index\",\"scope\":\"17902188121882974597\",\"id\":\"7150449637719565720\",\"type\":\"observable\"})};\n    var self = this;\n    function AppViewModel() {\n        for (var key in json_data) {\n            var el = json_data[key];\n            this[key] = Array.isArray(el) ? ko.observableArray(el) : ko.observable(el);\n        }\n        \n        [this[\"formatted_val\"]=ko.computed(    function(){\n        return this.formatted_vals()[parseInt(this.index())-(1)];\n    }\n,this)]\n        [this[\"changes\"].subscribe((function (val){!(this.valueFromJulia[\"changes\"]) ? (WebIO.setval({\"name\":\"changes\",\"scope\":\"17902188121882974597\",\"id\":\"2228443197547966622\",\"type\":\"observable\"},val)) : undefined; return this.valueFromJulia[\"changes\"]=false}),self),this[\"index\"].subscribe((function (val){!(this.valueFromJulia[\"index\"]) ? (WebIO.setval({\"name\":\"index\",\"scope\":\"17902188121882974597\",\"id\":\"7150449637719565720\",\"type\":\"observable\"},val)) : undefined; return this.valueFromJulia[\"index\"]=false}),self)]\n        \n    }\n    self.model = new AppViewModel();\n    self.valueFromJulia = {};\n    for (var key in json_data) {\n        self.valueFromJulia[key] = false;\n    }\n    ko.applyBindings(self.model, self.dom);\n}\n);\n    (WebIO.importBlock({\"data\":[{\"name\":\"knockout\",\"type\":\"js\",\"url\":\"/assetserver/2712bb0a7395d062608c2f218a74b700f6c76b99-knockout.js\"},{\"name\":\"knockout_punches\",\"type\":\"js\",\"url\":\"/assetserver/fb4445501a2be4ab82176667f844e40da26fa007-knockout_punches.js\"}],\"type\":\"async_block\"})).then((imports) => handler.apply(this, imports));\n}\n"
            ],
            "observables": {
             "changes": {
              "id": "2228443197547966622",
              "sync": false,
              "value": 0
             },
             "index": {
              "id": "7150449637719565720",
              "sync": true,
              "value": 101
             }
            },
            "systemjs_options": null
           },
           "nodeType": "Scope",
           "props": {},
           "type": "node"
          }
         ],
         "instanceArgs": {
          "namespace": "html",
          "tag": "div"
         },
         "nodeType": "DOM",
         "props": {
          "className": "field interact-widget"
         },
         "type": "node"
        },
        {
         "children": [
          {
           "children": [
            {
             "children": [
              {
               "children": [
                {
                 "children": [
                  "x0"
                 ],
                 "instanceArgs": {
                  "namespace": "html",
                  "tag": "label"
                 },
                 "nodeType": "DOM",
                 "props": {
                  "className": "interact ",
                  "style": {
                   "padding": "5px 10px 0px 10px"
                  }
                 },
                 "type": "node"
                }
               ],
               "instanceArgs": {
                "namespace": "html",
                "tag": "div"
               },
               "nodeType": "DOM",
               "props": {
                "className": "interact-flex-row-left"
               },
               "type": "node"
              },
              {
               "children": [
                {
                 "children": [],
                 "instanceArgs": {
                  "namespace": "html",
                  "tag": "input"
                 },
                 "nodeType": "DOM",
                 "props": {
                  "attributes": {
                   "data-bind": "numericValue: index, valueUpdate: 'input', event: {change: function (){this.changes(this.changes()+1)}}",
                   "orient": "horizontal",
                   "type": "range"
                  },
                  "className": "slider slider is-fullwidth",
                  "max": 161,
                  "min": 1,
                  "step": 1,
                  "style": {}
                 },
                 "type": "node"
                }
               ],
               "instanceArgs": {
                "namespace": "html",
                "tag": "div"
               },
               "nodeType": "DOM",
               "props": {
                "className": "interact-flex-row-center"
               },
               "type": "node"
              },
              {
               "children": [
                {
                 "children": [],
                 "instanceArgs": {
                  "namespace": "html",
                  "tag": "p"
                 },
                 "nodeType": "DOM",
                 "props": {
                  "attributes": {
                   "data-bind": "text: formatted_val"
                  }
                 },
                 "type": "node"
                }
               ],
               "instanceArgs": {
                "namespace": "html",
                "tag": "div"
               },
               "nodeType": "DOM",
               "props": {
                "className": "interact-flex-row-right"
               },
               "type": "node"
              }
             ],
             "instanceArgs": {
              "namespace": "html",
              "tag": "div"
             },
             "nodeType": "DOM",
             "props": {
              "className": "interact-flex-row interact-widget"
             },
             "type": "node"
            }
           ],
           "instanceArgs": {
            "handlers": {
             "changes": [
              "(function (val){return (val!=this.model[\"changes\"]()) ? (this.valueFromJulia[\"changes\"]=true, this.model[\"changes\"](val)) : undefined})"
             ],
             "index": [
              "(function (val){return (val!=this.model[\"index\"]()) ? (this.valueFromJulia[\"index\"]=true, this.model[\"index\"](val)) : undefined})"
             ]
            },
            "id": "10530403326445233313",
            "imports": {
             "data": [
              {
               "name": "knockout",
               "type": "js",
               "url": "/assetserver/2712bb0a7395d062608c2f218a74b700f6c76b99-knockout.js"
              },
              {
               "name": "knockout_punches",
               "type": "js",
               "url": "/assetserver/fb4445501a2be4ab82176667f844e40da26fa007-knockout_punches.js"
              },
              {
               "name": null,
               "type": "js",
               "url": "/assetserver/a8ea7d9192d5fa85c6fac26c72d7fece1e500138-all.js"
              },
              {
               "name": null,
               "type": "css",
               "url": "/assetserver/620a53798cfdb29a4a2142ce0588e9aadc351d94-style.css"
              },
              {
               "name": null,
               "type": "css",
               "url": "/assetserver/9f2f17f677abbfd015a7c6b0c0f09a2da809bee2-bulma_confined.min.css"
              }
             ],
             "type": "async_block"
            },
            "mount_callbacks": [
             "function () {\n    var handler = (function (ko, koPunches) {\n    ko.punches.enableAll();\n    ko.bindingHandlers.numericValue = {\n        init: function(element, valueAccessor, allBindings, data, context) {\n            var stringified = ko.observable(ko.unwrap(valueAccessor()));\n            stringified.subscribe(function(value) {\n                var val = parseFloat(value);\n                if (!isNaN(val)) {\n                    valueAccessor()(val);\n                }\n            });\n            valueAccessor().subscribe(function(value) {\n                var str = JSON.stringify(value);\n                if ((str == \"0\") && ([\"-0\", \"-0.\"].indexOf(stringified()) >= 0))\n                     return;\n                 if ([\"null\", \"\"].indexOf(str) >= 0)\n                     return;\n                stringified(str);\n            });\n            ko.applyBindingsToNode(\n                element,\n                {\n                    value: stringified,\n                    valueUpdate: allBindings.get('valueUpdate'),\n                },\n                context,\n            );\n        }\n    };\n    var json_data = {\"formatted_vals\":[\"0.0\",\"0.05\",\"0.1\",\"0.15\",\"0.2\",\"0.25\",\"0.3\",\"0.35\",\"0.4\",\"0.45\",\"0.5\",\"0.55\",\"0.6\",\"0.65\",\"0.7\",\"0.75\",\"0.8\",\"0.85\",\"0.9\",\"0.95\",\"1.0\",\"1.05\",\"1.1\",\"1.15\",\"1.2\",\"1.25\",\"1.3\",\"1.35\",\"1.4\",\"1.45\",\"1.5\",\"1.55\",\"1.6\",\"1.65\",\"1.7\",\"1.75\",\"1.8\",\"1.85\",\"1.9\",\"1.95\",\"2.0\",\"2.05\",\"2.1\",\"2.15\",\"2.2\",\"2.25\",\"2.3\",\"2.35\",\"2.4\",\"2.45\",\"2.5\",\"2.55\",\"2.6\",\"2.65\",\"2.7\",\"2.75\",\"2.8\",\"2.85\",\"2.9\",\"2.95\",\"3.0\",\"3.05\",\"3.1\",\"3.15\",\"3.2\",\"3.25\",\"3.3\",\"3.35\",\"3.4\",\"3.45\",\"3.5\",\"3.55\",\"3.6\",\"3.65\",\"3.7\",\"3.75\",\"3.8\",\"3.85\",\"3.9\",\"3.95\",\"4.0\",\"4.05\",\"4.1\",\"4.15\",\"4.2\",\"4.25\",\"4.3\",\"4.35\",\"4.4\",\"4.45\",\"4.5\",\"4.55\",\"4.6\",\"4.65\",\"4.7\",\"4.75\",\"4.8\",\"4.85\",\"4.9\",\"4.95\",\"5.0\",\"5.05\",\"5.1\",\"5.15\",\"5.2\",\"5.25\",\"5.3\",\"5.35\",\"5.4\",\"5.45\",\"5.5\",\"5.55\",\"5.6\",\"5.65\",\"5.7\",\"5.75\",\"5.8\",\"5.85\",\"5.9\",\"5.95\",\"6.0\",\"6.05\",\"6.1\",\"6.15\",\"6.2\",\"6.25\",\"6.3\",\"6.35\",\"6.4\",\"6.45\",\"6.5\",\"6.55\",\"6.6\",\"6.65\",\"6.7\",\"6.75\",\"6.8\",\"6.85\",\"6.9\",\"6.95\",\"7.0\",\"7.05\",\"7.1\",\"7.15\",\"7.2\",\"7.25\",\"7.3\",\"7.35\",\"7.4\",\"7.45\",\"7.5\",\"7.55\",\"7.6\",\"7.65\",\"7.7\",\"7.75\",\"7.8\",\"7.85\",\"7.9\",\"7.95\",\"8.0\"],\"changes\":WebIO.getval({\"name\":\"changes\",\"scope\":\"10530403326445233313\",\"id\":\"7618660036659061609\",\"type\":\"observable\"}),\"index\":WebIO.getval({\"name\":\"index\",\"scope\":\"10530403326445233313\",\"id\":\"18160591427751385157\",\"type\":\"observable\"})};\n    var self = this;\n    function AppViewModel() {\n        for (var key in json_data) {\n            var el = json_data[key];\n            this[key] = Array.isArray(el) ? ko.observableArray(el) : ko.observable(el);\n        }\n        \n        [this[\"formatted_val\"]=ko.computed(    function(){\n        return this.formatted_vals()[parseInt(this.index())-(1)];\n    }\n,this)]\n        [this[\"changes\"].subscribe((function (val){!(this.valueFromJulia[\"changes\"]) ? (WebIO.setval({\"name\":\"changes\",\"scope\":\"10530403326445233313\",\"id\":\"7618660036659061609\",\"type\":\"observable\"},val)) : undefined; return this.valueFromJulia[\"changes\"]=false}),self),this[\"index\"].subscribe((function (val){!(this.valueFromJulia[\"index\"]) ? (WebIO.setval({\"name\":\"index\",\"scope\":\"10530403326445233313\",\"id\":\"18160591427751385157\",\"type\":\"observable\"},val)) : undefined; return this.valueFromJulia[\"index\"]=false}),self)]\n        \n    }\n    self.model = new AppViewModel();\n    self.valueFromJulia = {};\n    for (var key in json_data) {\n        self.valueFromJulia[key] = false;\n    }\n    ko.applyBindings(self.model, self.dom);\n}\n);\n    (WebIO.importBlock({\"data\":[{\"name\":\"knockout\",\"type\":\"js\",\"url\":\"/assetserver/2712bb0a7395d062608c2f218a74b700f6c76b99-knockout.js\"},{\"name\":\"knockout_punches\",\"type\":\"js\",\"url\":\"/assetserver/fb4445501a2be4ab82176667f844e40da26fa007-knockout_punches.js\"}],\"type\":\"async_block\"})).then((imports) => handler.apply(this, imports));\n}\n"
            ],
            "observables": {
             "changes": {
              "id": "7618660036659061609",
              "sync": false,
              "value": 0
             },
             "index": {
              "id": "18160591427751385157",
              "sync": true,
              "value": 81
             }
            },
            "systemjs_options": null
           },
           "nodeType": "Scope",
           "props": {},
           "type": "node"
          }
         ],
         "instanceArgs": {
          "namespace": "html",
          "tag": "div"
         },
         "nodeType": "DOM",
         "props": {
          "className": "field interact-widget"
         },
         "type": "node"
        },
        {
         "children": [
          {
           "children": [
            {
             "children": [
              {
               "children": [
                {
                 "children": [
                  "tmax"
                 ],
                 "instanceArgs": {
                  "namespace": "html",
                  "tag": "label"
                 },
                 "nodeType": "DOM",
                 "props": {
                  "className": "interact ",
                  "style": {
                   "padding": "5px 10px 0px 10px"
                  }
                 },
                 "type": "node"
                }
               ],
               "instanceArgs": {
                "namespace": "html",
                "tag": "div"
               },
               "nodeType": "DOM",
               "props": {
                "className": "interact-flex-row-left"
               },
               "type": "node"
              },
              {
               "children": [
                {
                 "children": [],
                 "instanceArgs": {
                  "namespace": "html",
                  "tag": "input"
                 },
                 "nodeType": "DOM",
                 "props": {
                  "attributes": {
                   "data-bind": "numericValue: index, valueUpdate: 'input', event: {change: function (){this.changes(this.changes()+1)}}",
                   "orient": "horizontal",
                   "type": "range"
                  },
                  "className": "slider slider is-fullwidth",
                  "max": 19,
                  "min": 1,
                  "step": 1,
                  "style": {}
                 },
                 "type": "node"
                }
               ],
               "instanceArgs": {
                "namespace": "html",
                "tag": "div"
               },
               "nodeType": "DOM",
               "props": {
                "className": "interact-flex-row-center"
               },
               "type": "node"
              },
              {
               "children": [
                {
                 "children": [],
                 "instanceArgs": {
                  "namespace": "html",
                  "tag": "p"
                 },
                 "nodeType": "DOM",
                 "props": {
                  "attributes": {
                   "data-bind": "text: formatted_val"
                  }
                 },
                 "type": "node"
                }
               ],
               "instanceArgs": {
                "namespace": "html",
                "tag": "div"
               },
               "nodeType": "DOM",
               "props": {
                "className": "interact-flex-row-right"
               },
               "type": "node"
              }
             ],
             "instanceArgs": {
              "namespace": "html",
              "tag": "div"
             },
             "nodeType": "DOM",
             "props": {
              "className": "interact-flex-row interact-widget"
             },
             "type": "node"
            }
           ],
           "instanceArgs": {
            "handlers": {
             "changes": [
              "(function (val){return (val!=this.model[\"changes\"]()) ? (this.valueFromJulia[\"changes\"]=true, this.model[\"changes\"](val)) : undefined})"
             ],
             "index": [
              "(function (val){return (val!=this.model[\"index\"]()) ? (this.valueFromJulia[\"index\"]=true, this.model[\"index\"](val)) : undefined})"
             ]
            },
            "id": "7530506498587899991",
            "imports": {
             "data": [
              {
               "name": "knockout",
               "type": "js",
               "url": "/assetserver/2712bb0a7395d062608c2f218a74b700f6c76b99-knockout.js"
              },
              {
               "name": "knockout_punches",
               "type": "js",
               "url": "/assetserver/fb4445501a2be4ab82176667f844e40da26fa007-knockout_punches.js"
              },
              {
               "name": null,
               "type": "js",
               "url": "/assetserver/a8ea7d9192d5fa85c6fac26c72d7fece1e500138-all.js"
              },
              {
               "name": null,
               "type": "css",
               "url": "/assetserver/620a53798cfdb29a4a2142ce0588e9aadc351d94-style.css"
              },
              {
               "name": null,
               "type": "css",
               "url": "/assetserver/9f2f17f677abbfd015a7c6b0c0f09a2da809bee2-bulma_confined.min.css"
              }
             ],
             "type": "async_block"
            },
            "mount_callbacks": [
             "function () {\n    var handler = (function (ko, koPunches) {\n    ko.punches.enableAll();\n    ko.bindingHandlers.numericValue = {\n        init: function(element, valueAccessor, allBindings, data, context) {\n            var stringified = ko.observable(ko.unwrap(valueAccessor()));\n            stringified.subscribe(function(value) {\n                var val = parseFloat(value);\n                if (!isNaN(val)) {\n                    valueAccessor()(val);\n                }\n            });\n            valueAccessor().subscribe(function(value) {\n                var str = JSON.stringify(value);\n                if ((str == \"0\") && ([\"-0\", \"-0.\"].indexOf(stringified()) >= 0))\n                     return;\n                 if ([\"null\", \"\"].indexOf(str) >= 0)\n                     return;\n                stringified(str);\n            });\n            ko.applyBindingsToNode(\n                element,\n                {\n                    value: stringified,\n                    valueUpdate: allBindings.get('valueUpdate'),\n                },\n                context,\n            );\n        }\n    };\n    var json_data = {\"formatted_vals\":[\"10.0\",\"15.0\",\"20.0\",\"25.0\",\"30.0\",\"35.0\",\"40.0\",\"45.0\",\"50.0\",\"55.0\",\"60.0\",\"65.0\",\"70.0\",\"75.0\",\"80.0\",\"85.0\",\"90.0\",\"95.0\",\"100.0\"],\"changes\":WebIO.getval({\"name\":\"changes\",\"scope\":\"7530506498587899991\",\"id\":\"6137414311233097902\",\"type\":\"observable\"}),\"index\":WebIO.getval({\"name\":\"index\",\"scope\":\"7530506498587899991\",\"id\":\"17064971147210094783\",\"type\":\"observable\"})};\n    var self = this;\n    function AppViewModel() {\n        for (var key in json_data) {\n            var el = json_data[key];\n            this[key] = Array.isArray(el) ? ko.observableArray(el) : ko.observable(el);\n        }\n        \n        [this[\"formatted_val\"]=ko.computed(    function(){\n        return this.formatted_vals()[parseInt(this.index())-(1)];\n    }\n,this)]\n        [this[\"changes\"].subscribe((function (val){!(this.valueFromJulia[\"changes\"]) ? (WebIO.setval({\"name\":\"changes\",\"scope\":\"7530506498587899991\",\"id\":\"6137414311233097902\",\"type\":\"observable\"},val)) : undefined; return this.valueFromJulia[\"changes\"]=false}),self),this[\"index\"].subscribe((function (val){!(this.valueFromJulia[\"index\"]) ? (WebIO.setval({\"name\":\"index\",\"scope\":\"7530506498587899991\",\"id\":\"17064971147210094783\",\"type\":\"observable\"},val)) : undefined; return this.valueFromJulia[\"index\"]=false}),self)]\n        \n    }\n    self.model = new AppViewModel();\n    self.valueFromJulia = {};\n    for (var key in json_data) {\n        self.valueFromJulia[key] = false;\n    }\n    ko.applyBindings(self.model, self.dom);\n}\n);\n    (WebIO.importBlock({\"data\":[{\"name\":\"knockout\",\"type\":\"js\",\"url\":\"/assetserver/2712bb0a7395d062608c2f218a74b700f6c76b99-knockout.js\"},{\"name\":\"knockout_punches\",\"type\":\"js\",\"url\":\"/assetserver/fb4445501a2be4ab82176667f844e40da26fa007-knockout_punches.js\"}],\"type\":\"async_block\"})).then((imports) => handler.apply(this, imports));\n}\n"
            ],
            "observables": {
             "changes": {
              "id": "6137414311233097902",
              "sync": false,
              "value": 0
             },
             "index": {
              "id": "17064971147210094783",
              "sync": true,
              "value": 10
             }
            },
            "systemjs_options": null
           },
           "nodeType": "Scope",
           "props": {},
           "type": "node"
          }
         ],
         "instanceArgs": {
          "namespace": "html",
          "tag": "div"
         },
         "nodeType": "DOM",
         "props": {
          "className": "field interact-widget"
         },
         "type": "node"
        },
        {
         "children": [
          {
           "children": [],
           "instanceArgs": {
            "id": "3396702606136764073",
            "name": "obs-node"
           },
           "nodeType": "ObservableNode",
           "props": {},
           "type": "node"
          }
         ],
         "instanceArgs": {
          "handlers": {},
          "id": "14493179302924333754",
          "imports": {
           "data": [],
           "type": "async_block"
          },
          "mount_callbacks": [],
          "observables": {
           "obs-node": {
            "id": "3396702606136764073",
            "sync": false,
            "value": {
             "children": [
              {
               "children": [],
               "instanceArgs": {
                "namespace": "html",
                "tag": "div"
               },
               "nodeType": "DOM",
               "props": {
                "setInnerHtml": "<img src=\"data:image/png;base64,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\" />"
               },
               "type": "node"
              }
             ],
             "instanceArgs": {
              "namespace": "html",
              "tag": "div"
             },
             "nodeType": "DOM",
             "props": {
              "className": "interact-flex-row interact-widget"
             },
             "type": "node"
            }
           }
          },
          "systemjs_options": null
         },
         "nodeType": "Scope",
         "props": {},
         "type": "node"
        }
       ],
       "instanceArgs": {
        "namespace": "html",
        "tag": "div"
       },
       "nodeType": "DOM",
       "props": {},
       "type": "node"
      },
      "text/html": [
       "<div\n",
       "    class=\"webio-mountpoint\"\n",
       "    data-webio-mountpoint=\"14684553423270466748\"\n",
       ">\n",
       "    <script>\n",
       "    (function(){\n",
       "    // Some integrations (namely, IJulia/Jupyter) use an alternate render pathway than\n",
       "    // just putting the html on the page. If WebIO isn't defined, then it's pretty likely\n",
       "    // that we're in one of those situations and the integration just isn't installed\n",
       "    // correctly.\n",
       "    if (typeof window.WebIO === \"undefined\") {\n",
       "        document\n",
       "            .querySelector('[data-webio-mountpoint=\"14684553423270466748\"]')\n",
       "            .innerHTML = (\n",
       "                '<div style=\"padding: 1em; background-color: #f8d6da; border: 1px solid #f5c6cb; font-weight: bold;\">' +\n",
       "                '<p><strong>WebIO not detected.</strong></p>' +\n",
       "                '<p>Please read ' +\n",
       "                '<a href=\"https://juliagizmos.github.io/WebIO.jl/latest/troubleshooting/not-detected/\" target=\"_blank\">the troubleshooting guide</a> ' +\n",
       "                'for more information on how to resolve this issue.</p>' +\n",
       "                '<p><a href=\"https://juliagizmos.github.io/WebIO.jl/latest/troubleshooting/not-detected/\" target=\"_blank\">https://juliagizmos.github.io/WebIO.jl/latest/troubleshooting/not-detected/</a></p>' +\n",
       "                '</div>'\n",
       "            );\n",
       "        return;\n",
       "    }\n",
       "    WebIO.mount(\n",
       "        document.querySelector('[data-webio-mountpoint=\"14684553423270466748\"]'),\n",
       "        {\"props\":{},\"nodeType\":\"DOM\",\"type\":\"node\",\"instanceArgs\":{\"namespace\":\"html\",\"tag\":\"div\"},\"children\":[{\"props\":{\"className\":\"field interact-widget\"},\"nodeType\":\"DOM\",\"type\":\"node\",\"instanceArgs\":{\"namespace\":\"html\",\"tag\":\"div\"},\"children\":[{\"props\":{},\"nodeType\":\"Scope\",\"type\":\"node\",\"instanceArgs\":{\"imports\":{\"data\":[{\"name\":\"knockout\",\"type\":\"js\",\"url\":\"\\/assetserver\\/2712bb0a7395d062608c2f218a74b700f6c76b99-knockout.js\"},{\"name\":\"knockout_punches\",\"type\":\"js\",\"url\":\"\\/assetserver\\/fb4445501a2be4ab82176667f844e40da26fa007-knockout_punches.js\"},{\"name\":null,\"type\":\"js\",\"url\":\"\\/assetserver\\/a8ea7d9192d5fa85c6fac26c72d7fece1e500138-all.js\"},{\"name\":null,\"type\":\"css\",\"url\":\"\\/assetserver\\/620a53798cfdb29a4a2142ce0588e9aadc351d94-style.css\"},{\"name\":null,\"type\":\"css\",\"url\":\"\\/assetserver\\/9f2f17f677abbfd015a7c6b0c0f09a2da809bee2-bulma_confined.min.css\"}],\"type\":\"async_block\"},\"id\":\"5520633563165499905\",\"handlers\":{\"changes\":[\"(function (val){return (val!=this.model[\\\"changes\\\"]()) ? (this.valueFromJulia[\\\"changes\\\"]=true, this.model[\\\"changes\\\"](val)) : undefined})\"],\"index\":[\"(function (val){return (val!=this.model[\\\"index\\\"]()) ? (this.valueFromJulia[\\\"index\\\"]=true, this.model[\\\"index\\\"](val)) : undefined})\"]},\"systemjs_options\":null,\"mount_callbacks\":[\"function () {\\n    var handler = (function (ko, koPunches) {\\n    ko.punches.enableAll();\\n    ko.bindingHandlers.numericValue = {\\n        init: function(element, valueAccessor, allBindings, data, context) {\\n            var stringified = ko.observable(ko.unwrap(valueAccessor()));\\n            stringified.subscribe(function(value) {\\n                var val = parseFloat(value);\\n                if (!isNaN(val)) {\\n                    valueAccessor()(val);\\n                }\\n            });\\n            valueAccessor().subscribe(function(value) {\\n                var str = JSON.stringify(value);\\n                if ((str == \\\"0\\\") && ([\\\"-0\\\", \\\"-0.\\\"].indexOf(stringified()) >= 0))\\n                     return;\\n                 if ([\\\"null\\\", \\\"\\\"].indexOf(str) >= 0)\\n                     return;\\n                stringified(str);\\n            });\\n            ko.applyBindingsToNode(\\n                element,\\n                {\\n                    value: stringified,\\n                    valueUpdate: allBindings.get('valueUpdate'),\\n                },\\n                context,\\n            );\\n        }\\n    };\\n    var json_data = {\\\"formatted_vals\\\":[\\\"0.0\\\",\\\"0.02\\\",\\\"0.04\\\",\\\"0.06\\\",\\\"0.08\\\",\\\"0.1\\\",\\\"0.12\\\",\\\"0.14\\\",\\\"0.16\\\",\\\"0.18\\\",\\\"0.2\\\",\\\"0.22\\\",\\\"0.24\\\",\\\"0.26\\\",\\\"0.28\\\",\\\"0.3\\\",\\\"0.32\\\",\\\"0.34\\\",\\\"0.36\\\",\\\"0.38\\\",\\\"0.4\\\",\\\"0.42\\\",\\\"0.44\\\",\\\"0.46\\\",\\\"0.48\\\",\\\"0.5\\\",\\\"0.52\\\",\\\"0.54\\\",\\\"0.56\\\",\\\"0.58\\\",\\\"0.6\\\",\\\"0.62\\\",\\\"0.64\\\",\\\"0.66\\\",\\\"0.68\\\",\\\"0.7\\\",\\\"0.72\\\",\\\"0.74\\\",\\\"0.76\\\",\\\"0.78\\\",\\\"0.8\\\",\\\"0.82\\\",\\\"0.84\\\",\\\"0.86\\\",\\\"0.88\\\",\\\"0.9\\\",\\\"0.92\\\",\\\"0.94\\\",\\\"0.96\\\",\\\"0.98\\\",\\\"1.0\\\",\\\"1.02\\\",\\\"1.04\\\",\\\"1.06\\\",\\\"1.08\\\",\\\"1.1\\\",\\\"1.12\\\",\\\"1.14\\\",\\\"1.16\\\",\\\"1.18\\\",\\\"1.2\\\",\\\"1.22\\\",\\\"1.24\\\",\\\"1.26\\\",\\\"1.28\\\",\\\"1.3\\\",\\\"1.32\\\",\\\"1.34\\\",\\\"1.36\\\",\\\"1.38\\\",\\\"1.4\\\",\\\"1.42\\\",\\\"1.44\\\",\\\"1.46\\\",\\\"1.48\\\",\\\"1.5\\\",\\\"1.52\\\",\\\"1.54\\\",\\\"1.56\\\",\\\"1.58\\\",\\\"1.6\\\",\\\"1.62\\\",\\\"1.64\\\",\\\"1.66\\\",\\\"1.68\\\",\\\"1.7\\\",\\\"1.72\\\",\\\"1.74\\\",\\\"1.76\\\",\\\"1.78\\\",\\\"1.8\\\",\\\"1.82\\\",\\\"1.84\\\",\\\"1.86\\\",\\\"1.88\\\",\\\"1.9\\\",\\\"1.92\\\",\\\"1.94\\\",\\\"1.96\\\",\\\"1.98\\\",\\\"2.0\\\"],\\\"changes\\\":WebIO.getval({\\\"name\\\":\\\"changes\\\",\\\"scope\\\":\\\"5520633563165499905\\\",\\\"id\\\":\\\"10852090576716556920\\\",\\\"type\\\":\\\"observable\\\"}),\\\"index\\\":WebIO.getval({\\\"name\\\":\\\"index\\\",\\\"scope\\\":\\\"5520633563165499905\\\",\\\"id\\\":\\\"1051105627952491370\\\",\\\"type\\\":\\\"observable\\\"})};\\n    var self = this;\\n    function AppViewModel() {\\n        for (var key in json_data) {\\n            var el = json_data[key];\\n            this[key] = Array.isArray(el) ? ko.observableArray(el) : ko.observable(el);\\n        }\\n        \\n        [this[\\\"formatted_val\\\"]=ko.computed(    function(){\\n        return this.formatted_vals()[parseInt(this.index())-(1)];\\n    }\\n,this)]\\n        [this[\\\"changes\\\"].subscribe((function (val){!(this.valueFromJulia[\\\"changes\\\"]) ? (WebIO.setval({\\\"name\\\":\\\"changes\\\",\\\"scope\\\":\\\"5520633563165499905\\\",\\\"id\\\":\\\"10852090576716556920\\\",\\\"type\\\":\\\"observable\\\"},val)) : undefined; return this.valueFromJulia[\\\"changes\\\"]=false}),self),this[\\\"index\\\"].subscribe((function (val){!(this.valueFromJulia[\\\"index\\\"]) ? (WebIO.setval({\\\"name\\\":\\\"index\\\",\\\"scope\\\":\\\"5520633563165499905\\\",\\\"id\\\":\\\"1051105627952491370\\\",\\\"type\\\":\\\"observable\\\"},val)) : undefined; return this.valueFromJulia[\\\"index\\\"]=false}),self)]\\n        \\n    }\\n    self.model = new AppViewModel();\\n    self.valueFromJulia = {};\\n    for (var key in json_data) {\\n        self.valueFromJulia[key] = false;\\n    }\\n    ko.applyBindings(self.model, self.dom);\\n}\\n);\\n    (WebIO.importBlock({\\\"data\\\":[{\\\"name\\\":\\\"knockout\\\",\\\"type\\\":\\\"js\\\",\\\"url\\\":\\\"\\/assetserver\\/2712bb0a7395d062608c2f218a74b700f6c76b99-knockout.js\\\"},{\\\"name\\\":\\\"knockout_punches\\\",\\\"type\\\":\\\"js\\\",\\\"url\\\":\\\"\\/assetserver\\/fb4445501a2be4ab82176667f844e40da26fa007-knockout_punches.js\\\"}],\\\"type\\\":\\\"async_block\\\"})).then((imports) => handler.apply(this, imports));\\n}\\n\"],\"observables\":{\"changes\":{\"sync\":false,\"id\":\"10852090576716556920\",\"value\":0},\"index\":{\"sync\":true,\"id\":\"1051105627952491370\",\"value\":51}}},\"children\":[{\"props\":{\"className\":\"interact-flex-row interact-widget\"},\"nodeType\":\"DOM\",\"type\":\"node\",\"instanceArgs\":{\"namespace\":\"html\",\"tag\":\"div\"},\"children\":[{\"props\":{\"className\":\"interact-flex-row-left\"},\"nodeType\":\"DOM\",\"type\":\"node\",\"instanceArgs\":{\"namespace\":\"html\",\"tag\":\"div\"},\"children\":[{\"props\":{\"className\":\"interact \",\"style\":{\"padding\":\"5px 10px 0px 10px\"}},\"nodeType\":\"DOM\",\"type\":\"node\",\"instanceArgs\":{\"namespace\":\"html\",\"tag\":\"label\"},\"children\":[\"R\"]}]},{\"props\":{\"className\":\"interact-flex-row-center\"},\"nodeType\":\"DOM\",\"type\":\"node\",\"instanceArgs\":{\"namespace\":\"html\",\"tag\":\"div\"},\"children\":[{\"props\":{\"max\":101,\"min\":1,\"attributes\":{\"type\":\"range\",\"data-bind\":\"numericValue: index, valueUpdate: 'input', event: {change: function (){this.changes(this.changes()+1)}}\",\"orient\":\"horizontal\"},\"step\":1,\"className\":\"slider slider is-fullwidth\",\"style\":{}},\"nodeType\":\"DOM\",\"type\":\"node\",\"instanceArgs\":{\"namespace\":\"html\",\"tag\":\"input\"},\"children\":[]}]},{\"props\":{\"className\":\"interact-flex-row-right\"},\"nodeType\":\"DOM\",\"type\":\"node\",\"instanceArgs\":{\"namespace\":\"html\",\"tag\":\"div\"},\"children\":[{\"props\":{\"attributes\":{\"data-bind\":\"text: formatted_val\"}},\"nodeType\":\"DOM\",\"type\":\"node\",\"instanceArgs\":{\"namespace\":\"html\",\"tag\":\"p\"},\"children\":[]}]}]}]}]},{\"props\":{\"className\":\"field interact-widget\"},\"nodeType\":\"DOM\",\"type\":\"node\",\"instanceArgs\":{\"namespace\":\"html\",\"tag\":\"div\"},\"children\":[{\"props\":{},\"nodeType\":\"Scope\",\"type\":\"node\",\"instanceArgs\":{\"imports\":{\"data\":[{\"name\":\"knockout\",\"type\":\"js\",\"url\":\"\\/assetserver\\/2712bb0a7395d062608c2f218a74b700f6c76b99-knockout.js\"},{\"name\":\"knockout_punches\",\"type\":\"js\",\"url\":\"\\/assetserver\\/fb4445501a2be4ab82176667f844e40da26fa007-knockout_punches.js\"},{\"name\":null,\"type\":\"js\",\"url\":\"\\/assetserver\\/a8ea7d9192d5fa85c6fac26c72d7fece1e500138-all.js\"},{\"name\":null,\"type\":\"css\",\"url\":\"\\/assetserver\\/620a53798cfdb29a4a2142ce0588e9aadc351d94-style.css\"},{\"name\":null,\"type\":\"css\",\"url\":\"\\/assetserver\\/9f2f17f677abbfd015a7c6b0c0f09a2da809bee2-bulma_confined.min.css\"}],\"type\":\"async_block\"},\"id\":\"12234496763025508972\",\"handlers\":{\"changes\":[\"(function (val){return (val!=this.model[\\\"changes\\\"]()) ? (this.valueFromJulia[\\\"changes\\\"]=true, this.model[\\\"changes\\\"](val)) : undefined})\"],\"index\":[\"(function (val){return (val!=this.model[\\\"index\\\"]()) ? (this.valueFromJulia[\\\"index\\\"]=true, this.model[\\\"index\\\"](val)) : undefined})\"]},\"systemjs_options\":null,\"mount_callbacks\":[\"function () {\\n    var handler = (function (ko, koPunches) {\\n    ko.punches.enableAll();\\n    ko.bindingHandlers.numericValue = {\\n        init: function(element, valueAccessor, allBindings, data, context) {\\n            var stringified = ko.observable(ko.unwrap(valueAccessor()));\\n            stringified.subscribe(function(value) {\\n                var val = parseFloat(value);\\n                if (!isNaN(val)) {\\n                    valueAccessor()(val);\\n                }\\n            });\\n            valueAccessor().subscribe(function(value) {\\n                var str = JSON.stringify(value);\\n                if ((str == \\\"0\\\") && ([\\\"-0\\\", \\\"-0.\\\"].indexOf(stringified()) >= 0))\\n                     return;\\n                 if ([\\\"null\\\", \\\"\\\"].indexOf(str) >= 0)\\n                     return;\\n                stringified(str);\\n            });\\n            ko.applyBindingsToNode(\\n                element,\\n                {\\n                    value: stringified,\\n                    valueUpdate: allBindings.get('valueUpdate'),\\n                },\\n                context,\\n            );\\n        }\\n    };\\n    var json_data = {\\\"formatted_vals\\\":[\\\"0.0\\\",\\\"0.1\\\",\\\"0.2\\\",\\\"0.3\\\",\\\"0.4\\\",\\\"0.5\\\",\\\"0.6\\\",\\\"0.7\\\",\\\"0.8\\\",\\\"0.9\\\",\\\"1.0\\\",\\\"1.1\\\",\\\"1.2\\\",\\\"1.3\\\",\\\"1.4\\\",\\\"1.5\\\",\\\"1.6\\\",\\\"1.7\\\",\\\"1.8\\\",\\\"1.9\\\",\\\"2.0\\\",\\\"2.1\\\",\\\"2.2\\\",\\\"2.3\\\",\\\"2.4\\\",\\\"2.5\\\",\\\"2.6\\\",\\\"2.7\\\",\\\"2.8\\\",\\\"2.9\\\",\\\"3.0\\\",\\\"3.1\\\",\\\"3.2\\\",\\\"3.3\\\",\\\"3.4\\\",\\\"3.5\\\",\\\"3.6\\\",\\\"3.7\\\",\\\"3.8\\\",\\\"3.9\\\",\\\"4.0\\\",\\\"4.1\\\",\\\"4.2\\\",\\\"4.3\\\",\\\"4.4\\\",\\\"4.5\\\",\\\"4.6\\\",\\\"4.7\\\",\\\"4.8\\\",\\\"4.9\\\",\\\"5.0\\\",\\\"5.1\\\",\\\"5.2\\\",\\\"5.3\\\",\\\"5.4\\\",\\\"5.5\\\",\\\"5.6\\\",\\\"5.7\\\",\\\"5.8\\\",\\\"5.9\\\",\\\"6.0\\\",\\\"6.1\\\",\\\"6.2\\\",\\\"6.3\\\",\\\"6.4\\\",\\\"6.5\\\",\\\"6.6\\\",\\\"6.7\\\",\\\"6.8\\\",\\\"6.9\\\",\\\"7.0\\\",\\\"7.1\\\",\\\"7.2\\\",\\\"7.3\\\",\\\"7.4\\\",\\\"7.5\\\",\\\"7.6\\\",\\\"7.7\\\",\\\"7.8\\\",\\\"7.9\\\",\\\"8.0\\\",\\\"8.1\\\",\\\"8.2\\\",\\\"8.3\\\",\\\"8.4\\\",\\\"8.5\\\",\\\"8.6\\\",\\\"8.7\\\",\\\"8.8\\\",\\\"8.9\\\",\\\"9.0\\\",\\\"9.1\\\",\\\"9.2\\\",\\\"9.3\\\",\\\"9.4\\\",\\\"9.5\\\",\\\"9.6\\\",\\\"9.7\\\",\\\"9.8\\\",\\\"9.9\\\",\\\"10.0\\\"],\\\"changes\\\":WebIO.getval({\\\"name\\\":\\\"changes\\\",\\\"scope\\\":\\\"12234496763025508972\\\",\\\"id\\\":\\\"7196415393505232149\\\",\\\"type\\\":\\\"observable\\\"}),\\\"index\\\":WebIO.getval({\\\"name\\\":\\\"index\\\",\\\"scope\\\":\\\"12234496763025508972\\\",\\\"id\\\":\\\"11726062129176988202\\\",\\\"type\\\":\\\"observable\\\"})};\\n    var self = this;\\n    function AppViewModel() {\\n        for (var key in json_data) {\\n            var el = json_data[key];\\n            this[key] = Array.isArray(el) ? ko.observableArray(el) : ko.observable(el);\\n        }\\n        \\n        [this[\\\"formatted_val\\\"]=ko.computed(    function(){\\n        return this.formatted_vals()[parseInt(this.index())-(1)];\\n    }\\n,this)]\\n        [this[\\\"changes\\\"].subscribe((function (val){!(this.valueFromJulia[\\\"changes\\\"]) ? (WebIO.setval({\\\"name\\\":\\\"changes\\\",\\\"scope\\\":\\\"12234496763025508972\\\",\\\"id\\\":\\\"7196415393505232149\\\",\\\"type\\\":\\\"observable\\\"},val)) : undefined; return this.valueFromJulia[\\\"changes\\\"]=false}),self),this[\\\"index\\\"].subscribe((function (val){!(this.valueFromJulia[\\\"index\\\"]) ? (WebIO.setval({\\\"name\\\":\\\"index\\\",\\\"scope\\\":\\\"12234496763025508972\\\",\\\"id\\\":\\\"11726062129176988202\\\",\\\"type\\\":\\\"observable\\\"},val)) : undefined; return this.valueFromJulia[\\\"index\\\"]=false}),self)]\\n        \\n    }\\n    self.model = new AppViewModel();\\n    self.valueFromJulia = {};\\n    for (var key in json_data) {\\n        self.valueFromJulia[key] = false;\\n    }\\n    ko.applyBindings(self.model, self.dom);\\n}\\n);\\n    (WebIO.importBlock({\\\"data\\\":[{\\\"name\\\":\\\"knockout\\\",\\\"type\\\":\\\"js\\\",\\\"url\\\":\\\"\\/assetserver\\/2712bb0a7395d062608c2f218a74b700f6c76b99-knockout.js\\\"},{\\\"name\\\":\\\"knockout_punches\\\",\\\"type\\\":\\\"js\\\",\\\"url\\\":\\\"\\/assetserver\\/fb4445501a2be4ab82176667f844e40da26fa007-knockout_punches.js\\\"}],\\\"type\\\":\\\"async_block\\\"})).then((imports) => handler.apply(this, imports));\\n}\\n\"],\"observables\":{\"changes\":{\"sync\":false,\"id\":\"7196415393505232149\",\"value\":0},\"index\":{\"sync\":true,\"id\":\"11726062129176988202\",\"value\":51}}},\"children\":[{\"props\":{\"className\":\"interact-flex-row interact-widget\"},\"nodeType\":\"DOM\",\"type\":\"node\",\"instanceArgs\":{\"namespace\":\"html\",\"tag\":\"div\"},\"children\":[{\"props\":{\"className\":\"interact-flex-row-left\"},\"nodeType\":\"DOM\",\"type\":\"node\",\"instanceArgs\":{\"namespace\":\"html\",\"tag\":\"div\"},\"children\":[{\"props\":{\"className\":\"interact \",\"style\":{\"padding\":\"5px 10px 0px 10px\"}},\"nodeType\":\"DOM\",\"type\":\"node\",\"instanceArgs\":{\"namespace\":\"html\",\"tag\":\"label\"},\"children\":[\"K\"]}]},{\"props\":{\"className\":\"interact-flex-row-center\"},\"nodeType\":\"DOM\",\"type\":\"node\",\"instanceArgs\":{\"namespace\":\"html\",\"tag\":\"div\"},\"children\":[{\"props\":{\"max\":101,\"min\":1,\"attributes\":{\"type\":\"range\",\"data-bind\":\"numericValue: index, valueUpdate: 'input', event: {change: function (){this.changes(this.changes()+1)}}\",\"orient\":\"horizontal\"},\"step\":1,\"className\":\"slider slider is-fullwidth\",\"style\":{}},\"nodeType\":\"DOM\",\"type\":\"node\",\"instanceArgs\":{\"namespace\":\"html\",\"tag\":\"input\"},\"children\":[]}]},{\"props\":{\"className\":\"interact-flex-row-right\"},\"nodeType\":\"DOM\",\"type\":\"node\",\"instanceArgs\":{\"namespace\":\"html\",\"tag\":\"div\"},\"children\":[{\"props\":{\"attributes\":{\"data-bind\":\"text: formatted_val\"}},\"nodeType\":\"DOM\",\"type\":\"node\",\"instanceArgs\":{\"namespace\":\"html\",\"tag\":\"p\"},\"children\":[]}]}]}]}]},{\"props\":{\"className\":\"field interact-widget\"},\"nodeType\":\"DOM\",\"type\":\"node\",\"instanceArgs\":{\"namespace\":\"html\",\"tag\":\"div\"},\"children\":[{\"props\":{},\"nodeType\":\"Scope\",\"type\":\"node\",\"instanceArgs\":{\"imports\":{\"data\":[{\"name\":\"knockout\",\"type\":\"js\",\"url\":\"\\/assetserver\\/2712bb0a7395d062608c2f218a74b700f6c76b99-knockout.js\"},{\"name\":\"knockout_punches\",\"type\":\"js\",\"url\":\"\\/assetserver\\/fb4445501a2be4ab82176667f844e40da26fa007-knockout_punches.js\"},{\"name\":null,\"type\":\"js\",\"url\":\"\\/assetserver\\/a8ea7d9192d5fa85c6fac26c72d7fece1e500138-all.js\"},{\"name\":null,\"type\":\"css\",\"url\":\"\\/assetserver\\/620a53798cfdb29a4a2142ce0588e9aadc351d94-style.css\"},{\"name\":null,\"type\":\"css\",\"url\":\"\\/assetserver\\/9f2f17f677abbfd015a7c6b0c0f09a2da809bee2-bulma_confined.min.css\"}],\"type\":\"async_block\"},\"id\":\"17902188121882974597\",\"handlers\":{\"changes\":[\"(function (val){return (val!=this.model[\\\"changes\\\"]()) ? (this.valueFromJulia[\\\"changes\\\"]=true, this.model[\\\"changes\\\"](val)) : undefined})\"],\"index\":[\"(function (val){return (val!=this.model[\\\"index\\\"]()) ? (this.valueFromJulia[\\\"index\\\"]=true, this.model[\\\"index\\\"](val)) : undefined})\"]},\"systemjs_options\":null,\"mount_callbacks\":[\"function () {\\n    var handler = (function (ko, koPunches) {\\n    ko.punches.enableAll();\\n    ko.bindingHandlers.numericValue = {\\n        init: function(element, valueAccessor, allBindings, data, context) {\\n            var stringified = ko.observable(ko.unwrap(valueAccessor()));\\n            stringified.subscribe(function(value) {\\n                var val = parseFloat(value);\\n                if (!isNaN(val)) {\\n                    valueAccessor()(val);\\n                }\\n            });\\n            valueAccessor().subscribe(function(value) {\\n                var str = JSON.stringify(value);\\n                if ((str == \\\"0\\\") && ([\\\"-0\\\", \\\"-0.\\\"].indexOf(stringified()) >= 0))\\n                     return;\\n                 if ([\\\"null\\\", \\\"\\\"].indexOf(str) >= 0)\\n                     return;\\n                stringified(str);\\n            });\\n            ko.applyBindingsToNode(\\n                element,\\n                {\\n                    value: stringified,\\n                    valueUpdate: allBindings.get('valueUpdate'),\\n                },\\n                context,\\n            );\\n        }\\n    };\\n    var json_data = {\\\"formatted_vals\\\":[\\\"0.0\\\",\\\"0.01\\\",\\\"0.02\\\",\\\"0.03\\\",\\\"0.04\\\",\\\"0.05\\\",\\\"0.06\\\",\\\"0.07\\\",\\\"0.08\\\",\\\"0.09\\\",\\\"0.1\\\",\\\"0.11\\\",\\\"0.12\\\",\\\"0.13\\\",\\\"0.14\\\",\\\"0.15\\\",\\\"0.16\\\",\\\"0.17\\\",\\\"0.18\\\",\\\"0.19\\\",\\\"0.2\\\",\\\"0.21\\\",\\\"0.22\\\",\\\"0.23\\\",\\\"0.24\\\",\\\"0.25\\\",\\\"0.26\\\",\\\"0.27\\\",\\\"0.28\\\",\\\"0.29\\\",\\\"0.3\\\",\\\"0.31\\\",\\\"0.32\\\",\\\"0.33\\\",\\\"0.34\\\",\\\"0.35\\\",\\\"0.36\\\",\\\"0.37\\\",\\\"0.38\\\",\\\"0.39\\\",\\\"0.4\\\",\\\"0.41\\\",\\\"0.42\\\",\\\"0.43\\\",\\\"0.44\\\",\\\"0.45\\\",\\\"0.46\\\",\\\"0.47\\\",\\\"0.48\\\",\\\"0.49\\\",\\\"0.5\\\",\\\"0.51\\\",\\\"0.52\\\",\\\"0.53\\\",\\\"0.54\\\",\\\"0.55\\\",\\\"0.56\\\",\\\"0.57\\\",\\\"0.58\\\",\\\"0.59\\\",\\\"0.6\\\",\\\"0.61\\\",\\\"0.62\\\",\\\"0.63\\\",\\\"0.64\\\",\\\"0.65\\\",\\\"0.66\\\",\\\"0.67\\\",\\\"0.68\\\",\\\"0.69\\\",\\\"0.7\\\",\\\"0.71\\\",\\\"0.72\\\",\\\"0.73\\\",\\\"0.74\\\",\\\"0.75\\\",\\\"0.76\\\",\\\"0.77\\\",\\\"0.78\\\",\\\"0.79\\\",\\\"0.8\\\",\\\"0.81\\\",\\\"0.82\\\",\\\"0.83\\\",\\\"0.84\\\",\\\"0.85\\\",\\\"0.86\\\",\\\"0.87\\\",\\\"0.88\\\",\\\"0.89\\\",\\\"0.9\\\",\\\"0.91\\\",\\\"0.92\\\",\\\"0.93\\\",\\\"0.94\\\",\\\"0.95\\\",\\\"0.96\\\",\\\"0.97\\\",\\\"0.98\\\",\\\"0.99\\\",\\\"1.0\\\",\\\"1.01\\\",\\\"1.02\\\",\\\"1.03\\\",\\\"1.04\\\",\\\"1.05\\\",\\\"1.06\\\",\\\"1.07\\\",\\\"1.08\\\",\\\"1.09\\\",\\\"1.1\\\",\\\"1.11\\\",\\\"1.12\\\",\\\"1.13\\\",\\\"1.14\\\",\\\"1.15\\\",\\\"1.16\\\",\\\"1.17\\\",\\\"1.18\\\",\\\"1.19\\\",\\\"1.2\\\",\\\"1.21\\\",\\\"1.22\\\",\\\"1.23\\\",\\\"1.24\\\",\\\"1.25\\\",\\\"1.26\\\",\\\"1.27\\\",\\\"1.28\\\",\\\"1.29\\\",\\\"1.3\\\",\\\"1.31\\\",\\\"1.32\\\",\\\"1.33\\\",\\\"1.34\\\",\\\"1.35\\\",\\\"1.36\\\",\\\"1.37\\\",\\\"1.38\\\",\\\"1.39\\\",\\\"1.4\\\",\\\"1.41\\\",\\\"1.42\\\",\\\"1.43\\\",\\\"1.44\\\",\\\"1.45\\\",\\\"1.46\\\",\\\"1.47\\\",\\\"1.48\\\",\\\"1.49\\\",\\\"1.5\\\",\\\"1.51\\\",\\\"1.52\\\",\\\"1.53\\\",\\\"1.54\\\",\\\"1.55\\\",\\\"1.56\\\",\\\"1.57\\\",\\\"1.58\\\",\\\"1.59\\\",\\\"1.6\\\",\\\"1.61\\\",\\\"1.62\\\",\\\"1.63\\\",\\\"1.64\\\",\\\"1.65\\\",\\\"1.66\\\",\\\"1.67\\\",\\\"1.68\\\",\\\"1.69\\\",\\\"1.7\\\",\\\"1.71\\\",\\\"1.72\\\",\\\"1.73\\\",\\\"1.74\\\",\\\"1.75\\\",\\\"1.76\\\",\\\"1.77\\\",\\\"1.78\\\",\\\"1.79\\\",\\\"1.8\\\",\\\"1.81\\\",\\\"1.82\\\",\\\"1.83\\\",\\\"1.84\\\",\\\"1.85\\\",\\\"1.86\\\",\\\"1.87\\\",\\\"1.88\\\",\\\"1.89\\\",\\\"1.9\\\",\\\"1.91\\\",\\\"1.92\\\",\\\"1.93\\\",\\\"1.94\\\",\\\"1.95\\\",\\\"1.96\\\",\\\"1.97\\\",\\\"1.98\\\",\\\"1.99\\\",\\\"2.0\\\"],\\\"changes\\\":WebIO.getval({\\\"name\\\":\\\"changes\\\",\\\"scope\\\":\\\"17902188121882974597\\\",\\\"id\\\":\\\"2228443197547966622\\\",\\\"type\\\":\\\"observable\\\"}),\\\"index\\\":WebIO.getval({\\\"name\\\":\\\"index\\\",\\\"scope\\\":\\\"17902188121882974597\\\",\\\"id\\\":\\\"7150449637719565720\\\",\\\"type\\\":\\\"observable\\\"})};\\n    var self = this;\\n    function AppViewModel() {\\n        for (var key in json_data) {\\n            var el = json_data[key];\\n            this[key] = Array.isArray(el) ? ko.observableArray(el) : ko.observable(el);\\n        }\\n        \\n        [this[\\\"formatted_val\\\"]=ko.computed(    function(){\\n        return this.formatted_vals()[parseInt(this.index())-(1)];\\n    }\\n,this)]\\n        [this[\\\"changes\\\"].subscribe((function (val){!(this.valueFromJulia[\\\"changes\\\"]) ? (WebIO.setval({\\\"name\\\":\\\"changes\\\",\\\"scope\\\":\\\"17902188121882974597\\\",\\\"id\\\":\\\"2228443197547966622\\\",\\\"type\\\":\\\"observable\\\"},val)) : undefined; return this.valueFromJulia[\\\"changes\\\"]=false}),self),this[\\\"index\\\"].subscribe((function (val){!(this.valueFromJulia[\\\"index\\\"]) ? (WebIO.setval({\\\"name\\\":\\\"index\\\",\\\"scope\\\":\\\"17902188121882974597\\\",\\\"id\\\":\\\"7150449637719565720\\\",\\\"type\\\":\\\"observable\\\"},val)) : undefined; return this.valueFromJulia[\\\"index\\\"]=false}),self)]\\n        \\n    }\\n    self.model = new AppViewModel();\\n    self.valueFromJulia = {};\\n    for (var key in json_data) {\\n        self.valueFromJulia[key] = false;\\n    }\\n    ko.applyBindings(self.model, self.dom);\\n}\\n);\\n    (WebIO.importBlock({\\\"data\\\":[{\\\"name\\\":\\\"knockout\\\",\\\"type\\\":\\\"js\\\",\\\"url\\\":\\\"\\/assetserver\\/2712bb0a7395d062608c2f218a74b700f6c76b99-knockout.js\\\"},{\\\"name\\\":\\\"knockout_punches\\\",\\\"type\\\":\\\"js\\\",\\\"url\\\":\\\"\\/assetserver\\/fb4445501a2be4ab82176667f844e40da26fa007-knockout_punches.js\\\"}],\\\"type\\\":\\\"async_block\\\"})).then((imports) => handler.apply(this, imports));\\n}\\n\"],\"observables\":{\"changes\":{\"sync\":false,\"id\":\"2228443197547966622\",\"value\":0},\"index\":{\"sync\":true,\"id\":\"7150449637719565720\",\"value\":101}}},\"children\":[{\"props\":{\"className\":\"interact-flex-row interact-widget\"},\"nodeType\":\"DOM\",\"type\":\"node\",\"instanceArgs\":{\"namespace\":\"html\",\"tag\":\"div\"},\"children\":[{\"props\":{\"className\":\"interact-flex-row-left\"},\"nodeType\":\"DOM\",\"type\":\"node\",\"instanceArgs\":{\"namespace\":\"html\",\"tag\":\"div\"},\"children\":[{\"props\":{\"className\":\"interact \",\"style\":{\"padding\":\"5px 10px 0px 10px\"}},\"nodeType\":\"DOM\",\"type\":\"node\",\"instanceArgs\":{\"namespace\":\"html\",\"tag\":\"label\"},\"children\":[\"P\"]}]},{\"props\":{\"className\":\"interact-flex-row-center\"},\"nodeType\":\"DOM\",\"type\":\"node\",\"instanceArgs\":{\"namespace\":\"html\",\"tag\":\"div\"},\"children\":[{\"props\":{\"max\":201,\"min\":1,\"attributes\":{\"type\":\"range\",\"data-bind\":\"numericValue: index, valueUpdate: 'input', event: {change: function (){this.changes(this.changes()+1)}}\",\"orient\":\"horizontal\"},\"step\":1,\"className\":\"slider slider is-fullwidth\",\"style\":{}},\"nodeType\":\"DOM\",\"type\":\"node\",\"instanceArgs\":{\"namespace\":\"html\",\"tag\":\"input\"},\"children\":[]}]},{\"props\":{\"className\":\"interact-flex-row-right\"},\"nodeType\":\"DOM\",\"type\":\"node\",\"instanceArgs\":{\"namespace\":\"html\",\"tag\":\"div\"},\"children\":[{\"props\":{\"attributes\":{\"data-bind\":\"text: formatted_val\"}},\"nodeType\":\"DOM\",\"type\":\"node\",\"instanceArgs\":{\"namespace\":\"html\",\"tag\":\"p\"},\"children\":[]}]}]}]}]},{\"props\":{\"className\":\"field interact-widget\"},\"nodeType\":\"DOM\",\"type\":\"node\",\"instanceArgs\":{\"namespace\":\"html\",\"tag\":\"div\"},\"children\":[{\"props\":{},\"nodeType\":\"Scope\",\"type\":\"node\",\"instanceArgs\":{\"imports\":{\"data\":[{\"name\":\"knockout\",\"type\":\"js\",\"url\":\"\\/assetserver\\/2712bb0a7395d062608c2f218a74b700f6c76b99-knockout.js\"},{\"name\":\"knockout_punches\",\"type\":\"js\",\"url\":\"\\/assetserver\\/fb4445501a2be4ab82176667f844e40da26fa007-knockout_punches.js\"},{\"name\":null,\"type\":\"js\",\"url\":\"\\/assetserver\\/a8ea7d9192d5fa85c6fac26c72d7fece1e500138-all.js\"},{\"name\":null,\"type\":\"css\",\"url\":\"\\/assetserver\\/620a53798cfdb29a4a2142ce0588e9aadc351d94-style.css\"},{\"name\":null,\"type\":\"css\",\"url\":\"\\/assetserver\\/9f2f17f677abbfd015a7c6b0c0f09a2da809bee2-bulma_confined.min.css\"}],\"type\":\"async_block\"},\"id\":\"10530403326445233313\",\"handlers\":{\"changes\":[\"(function (val){return (val!=this.model[\\\"changes\\\"]()) ? (this.valueFromJulia[\\\"changes\\\"]=true, this.model[\\\"changes\\\"](val)) : undefined})\"],\"index\":[\"(function (val){return (val!=this.model[\\\"index\\\"]()) ? (this.valueFromJulia[\\\"index\\\"]=true, this.model[\\\"index\\\"](val)) : undefined})\"]},\"systemjs_options\":null,\"mount_callbacks\":[\"function () {\\n    var handler = (function (ko, koPunches) {\\n    ko.punches.enableAll();\\n    ko.bindingHandlers.numericValue = {\\n        init: function(element, valueAccessor, allBindings, data, context) {\\n            var stringified = ko.observable(ko.unwrap(valueAccessor()));\\n            stringified.subscribe(function(value) {\\n                var val = parseFloat(value);\\n                if (!isNaN(val)) {\\n                    valueAccessor()(val);\\n                }\\n            });\\n            valueAccessor().subscribe(function(value) {\\n                var str = JSON.stringify(value);\\n                if ((str == \\\"0\\\") && ([\\\"-0\\\", \\\"-0.\\\"].indexOf(stringified()) >= 0))\\n                     return;\\n                 if ([\\\"null\\\", \\\"\\\"].indexOf(str) >= 0)\\n                     return;\\n                stringified(str);\\n            });\\n            ko.applyBindingsToNode(\\n                element,\\n                {\\n                    value: stringified,\\n                    valueUpdate: allBindings.get('valueUpdate'),\\n                },\\n                context,\\n            );\\n        }\\n    };\\n    var json_data = {\\\"formatted_vals\\\":[\\\"0.0\\\",\\\"0.05\\\",\\\"0.1\\\",\\\"0.15\\\",\\\"0.2\\\",\\\"0.25\\\",\\\"0.3\\\",\\\"0.35\\\",\\\"0.4\\\",\\\"0.45\\\",\\\"0.5\\\",\\\"0.55\\\",\\\"0.6\\\",\\\"0.65\\\",\\\"0.7\\\",\\\"0.75\\\",\\\"0.8\\\",\\\"0.85\\\",\\\"0.9\\\",\\\"0.95\\\",\\\"1.0\\\",\\\"1.05\\\",\\\"1.1\\\",\\\"1.15\\\",\\\"1.2\\\",\\\"1.25\\\",\\\"1.3\\\",\\\"1.35\\\",\\\"1.4\\\",\\\"1.45\\\",\\\"1.5\\\",\\\"1.55\\\",\\\"1.6\\\",\\\"1.65\\\",\\\"1.7\\\",\\\"1.75\\\",\\\"1.8\\\",\\\"1.85\\\",\\\"1.9\\\",\\\"1.95\\\",\\\"2.0\\\",\\\"2.05\\\",\\\"2.1\\\",\\\"2.15\\\",\\\"2.2\\\",\\\"2.25\\\",\\\"2.3\\\",\\\"2.35\\\",\\\"2.4\\\",\\\"2.45\\\",\\\"2.5\\\",\\\"2.55\\\",\\\"2.6\\\",\\\"2.65\\\",\\\"2.7\\\",\\\"2.75\\\",\\\"2.8\\\",\\\"2.85\\\",\\\"2.9\\\",\\\"2.95\\\",\\\"3.0\\\",\\\"3.05\\\",\\\"3.1\\\",\\\"3.15\\\",\\\"3.2\\\",\\\"3.25\\\",\\\"3.3\\\",\\\"3.35\\\",\\\"3.4\\\",\\\"3.45\\\",\\\"3.5\\\",\\\"3.55\\\",\\\"3.6\\\",\\\"3.65\\\",\\\"3.7\\\",\\\"3.75\\\",\\\"3.8\\\",\\\"3.85\\\",\\\"3.9\\\",\\\"3.95\\\",\\\"4.0\\\",\\\"4.05\\\",\\\"4.1\\\",\\\"4.15\\\",\\\"4.2\\\",\\\"4.25\\\",\\\"4.3\\\",\\\"4.35\\\",\\\"4.4\\\",\\\"4.45\\\",\\\"4.5\\\",\\\"4.55\\\",\\\"4.6\\\",\\\"4.65\\\",\\\"4.7\\\",\\\"4.75\\\",\\\"4.8\\\",\\\"4.85\\\",\\\"4.9\\\",\\\"4.95\\\",\\\"5.0\\\",\\\"5.05\\\",\\\"5.1\\\",\\\"5.15\\\",\\\"5.2\\\",\\\"5.25\\\",\\\"5.3\\\",\\\"5.35\\\",\\\"5.4\\\",\\\"5.45\\\",\\\"5.5\\\",\\\"5.55\\\",\\\"5.6\\\",\\\"5.65\\\",\\\"5.7\\\",\\\"5.75\\\",\\\"5.8\\\",\\\"5.85\\\",\\\"5.9\\\",\\\"5.95\\\",\\\"6.0\\\",\\\"6.05\\\",\\\"6.1\\\",\\\"6.15\\\",\\\"6.2\\\",\\\"6.25\\\",\\\"6.3\\\",\\\"6.35\\\",\\\"6.4\\\",\\\"6.45\\\",\\\"6.5\\\",\\\"6.55\\\",\\\"6.6\\\",\\\"6.65\\\",\\\"6.7\\\",\\\"6.75\\\",\\\"6.8\\\",\\\"6.85\\\",\\\"6.9\\\",\\\"6.95\\\",\\\"7.0\\\",\\\"7.05\\\",\\\"7.1\\\",\\\"7.15\\\",\\\"7.2\\\",\\\"7.25\\\",\\\"7.3\\\",\\\"7.35\\\",\\\"7.4\\\",\\\"7.45\\\",\\\"7.5\\\",\\\"7.55\\\",\\\"7.6\\\",\\\"7.65\\\",\\\"7.7\\\",\\\"7.75\\\",\\\"7.8\\\",\\\"7.85\\\",\\\"7.9\\\",\\\"7.95\\\",\\\"8.0\\\"],\\\"changes\\\":WebIO.getval({\\\"name\\\":\\\"changes\\\",\\\"scope\\\":\\\"10530403326445233313\\\",\\\"id\\\":\\\"7618660036659061609\\\",\\\"type\\\":\\\"observable\\\"}),\\\"index\\\":WebIO.getval({\\\"name\\\":\\\"index\\\",\\\"scope\\\":\\\"10530403326445233313\\\",\\\"id\\\":\\\"18160591427751385157\\\",\\\"type\\\":\\\"observable\\\"})};\\n    var self = this;\\n    function AppViewModel() {\\n        for (var key in json_data) {\\n            var el = json_data[key];\\n            this[key] = Array.isArray(el) ? ko.observableArray(el) : ko.observable(el);\\n        }\\n        \\n        [this[\\\"formatted_val\\\"]=ko.computed(    function(){\\n        return this.formatted_vals()[parseInt(this.index())-(1)];\\n    }\\n,this)]\\n        [this[\\\"changes\\\"].subscribe((function (val){!(this.valueFromJulia[\\\"changes\\\"]) ? (WebIO.setval({\\\"name\\\":\\\"changes\\\",\\\"scope\\\":\\\"10530403326445233313\\\",\\\"id\\\":\\\"7618660036659061609\\\",\\\"type\\\":\\\"observable\\\"},val)) : undefined; return this.valueFromJulia[\\\"changes\\\"]=false}),self),this[\\\"index\\\"].subscribe((function (val){!(this.valueFromJulia[\\\"index\\\"]) ? (WebIO.setval({\\\"name\\\":\\\"index\\\",\\\"scope\\\":\\\"10530403326445233313\\\",\\\"id\\\":\\\"18160591427751385157\\\",\\\"type\\\":\\\"observable\\\"},val)) : undefined; return this.valueFromJulia[\\\"index\\\"]=false}),self)]\\n        \\n    }\\n    self.model = new AppViewModel();\\n    self.valueFromJulia = {};\\n    for (var key in json_data) {\\n        self.valueFromJulia[key] = false;\\n    }\\n    ko.applyBindings(self.model, self.dom);\\n}\\n);\\n    (WebIO.importBlock({\\\"data\\\":[{\\\"name\\\":\\\"knockout\\\",\\\"type\\\":\\\"js\\\",\\\"url\\\":\\\"\\/assetserver\\/2712bb0a7395d062608c2f218a74b700f6c76b99-knockout.js\\\"},{\\\"name\\\":\\\"knockout_punches\\\",\\\"type\\\":\\\"js\\\",\\\"url\\\":\\\"\\/assetserver\\/fb4445501a2be4ab82176667f844e40da26fa007-knockout_punches.js\\\"}],\\\"type\\\":\\\"async_block\\\"})).then((imports) => handler.apply(this, imports));\\n}\\n\"],\"observables\":{\"changes\":{\"sync\":false,\"id\":\"7618660036659061609\",\"value\":0},\"index\":{\"sync\":true,\"id\":\"18160591427751385157\",\"value\":81}}},\"children\":[{\"props\":{\"className\":\"interact-flex-row interact-widget\"},\"nodeType\":\"DOM\",\"type\":\"node\",\"instanceArgs\":{\"namespace\":\"html\",\"tag\":\"div\"},\"children\":[{\"props\":{\"className\":\"interact-flex-row-left\"},\"nodeType\":\"DOM\",\"type\":\"node\",\"instanceArgs\":{\"namespace\":\"html\",\"tag\":\"div\"},\"children\":[{\"props\":{\"className\":\"interact \",\"style\":{\"padding\":\"5px 10px 0px 10px\"}},\"nodeType\":\"DOM\",\"type\":\"node\",\"instanceArgs\":{\"namespace\":\"html\",\"tag\":\"label\"},\"children\":[\"x0\"]}]},{\"props\":{\"className\":\"interact-flex-row-center\"},\"nodeType\":\"DOM\",\"type\":\"node\",\"instanceArgs\":{\"namespace\":\"html\",\"tag\":\"div\"},\"children\":[{\"props\":{\"max\":161,\"min\":1,\"attributes\":{\"type\":\"range\",\"data-bind\":\"numericValue: index, valueUpdate: 'input', event: {change: function (){this.changes(this.changes()+1)}}\",\"orient\":\"horizontal\"},\"step\":1,\"className\":\"slider slider is-fullwidth\",\"style\":{}},\"nodeType\":\"DOM\",\"type\":\"node\",\"instanceArgs\":{\"namespace\":\"html\",\"tag\":\"input\"},\"children\":[]}]},{\"props\":{\"className\":\"interact-flex-row-right\"},\"nodeType\":\"DOM\",\"type\":\"node\",\"instanceArgs\":{\"namespace\":\"html\",\"tag\":\"div\"},\"children\":[{\"props\":{\"attributes\":{\"data-bind\":\"text: formatted_val\"}},\"nodeType\":\"DOM\",\"type\":\"node\",\"instanceArgs\":{\"namespace\":\"html\",\"tag\":\"p\"},\"children\":[]}]}]}]}]},{\"props\":{\"className\":\"field interact-widget\"},\"nodeType\":\"DOM\",\"type\":\"node\",\"instanceArgs\":{\"namespace\":\"html\",\"tag\":\"div\"},\"children\":[{\"props\":{},\"nodeType\":\"Scope\",\"type\":\"node\",\"instanceArgs\":{\"imports\":{\"data\":[{\"name\":\"knockout\",\"type\":\"js\",\"url\":\"\\/assetserver\\/2712bb0a7395d062608c2f218a74b700f6c76b99-knockout.js\"},{\"name\":\"knockout_punches\",\"type\":\"js\",\"url\":\"\\/assetserver\\/fb4445501a2be4ab82176667f844e40da26fa007-knockout_punches.js\"},{\"name\":null,\"type\":\"js\",\"url\":\"\\/assetserver\\/a8ea7d9192d5fa85c6fac26c72d7fece1e500138-all.js\"},{\"name\":null,\"type\":\"css\",\"url\":\"\\/assetserver\\/620a53798cfdb29a4a2142ce0588e9aadc351d94-style.css\"},{\"name\":null,\"type\":\"css\",\"url\":\"\\/assetserver\\/9f2f17f677abbfd015a7c6b0c0f09a2da809bee2-bulma_confined.min.css\"}],\"type\":\"async_block\"},\"id\":\"7530506498587899991\",\"handlers\":{\"changes\":[\"(function (val){return (val!=this.model[\\\"changes\\\"]()) ? (this.valueFromJulia[\\\"changes\\\"]=true, this.model[\\\"changes\\\"](val)) : undefined})\"],\"index\":[\"(function (val){return (val!=this.model[\\\"index\\\"]()) ? (this.valueFromJulia[\\\"index\\\"]=true, this.model[\\\"index\\\"](val)) : undefined})\"]},\"systemjs_options\":null,\"mount_callbacks\":[\"function () {\\n    var handler = (function (ko, koPunches) {\\n    ko.punches.enableAll();\\n    ko.bindingHandlers.numericValue = {\\n        init: function(element, valueAccessor, allBindings, data, context) {\\n            var stringified = ko.observable(ko.unwrap(valueAccessor()));\\n            stringified.subscribe(function(value) {\\n                var val = parseFloat(value);\\n                if (!isNaN(val)) {\\n                    valueAccessor()(val);\\n                }\\n            });\\n            valueAccessor().subscribe(function(value) {\\n                var str = JSON.stringify(value);\\n                if ((str == \\\"0\\\") && ([\\\"-0\\\", \\\"-0.\\\"].indexOf(stringified()) >= 0))\\n                     return;\\n                 if ([\\\"null\\\", \\\"\\\"].indexOf(str) >= 0)\\n                     return;\\n                stringified(str);\\n            });\\n            ko.applyBindingsToNode(\\n                element,\\n                {\\n                    value: stringified,\\n                    valueUpdate: allBindings.get('valueUpdate'),\\n                },\\n                context,\\n            );\\n        }\\n    };\\n    var json_data = {\\\"formatted_vals\\\":[\\\"10.0\\\",\\\"15.0\\\",\\\"20.0\\\",\\\"25.0\\\",\\\"30.0\\\",\\\"35.0\\\",\\\"40.0\\\",\\\"45.0\\\",\\\"50.0\\\",\\\"55.0\\\",\\\"60.0\\\",\\\"65.0\\\",\\\"70.0\\\",\\\"75.0\\\",\\\"80.0\\\",\\\"85.0\\\",\\\"90.0\\\",\\\"95.0\\\",\\\"100.0\\\"],\\\"changes\\\":WebIO.getval({\\\"name\\\":\\\"changes\\\",\\\"scope\\\":\\\"7530506498587899991\\\",\\\"id\\\":\\\"6137414311233097902\\\",\\\"type\\\":\\\"observable\\\"}),\\\"index\\\":WebIO.getval({\\\"name\\\":\\\"index\\\",\\\"scope\\\":\\\"7530506498587899991\\\",\\\"id\\\":\\\"17064971147210094783\\\",\\\"type\\\":\\\"observable\\\"})};\\n    var self = this;\\n    function AppViewModel() {\\n        for (var key in json_data) {\\n            var el = json_data[key];\\n            this[key] = Array.isArray(el) ? ko.observableArray(el) : ko.observable(el);\\n        }\\n        \\n        [this[\\\"formatted_val\\\"]=ko.computed(    function(){\\n        return this.formatted_vals()[parseInt(this.index())-(1)];\\n    }\\n,this)]\\n        [this[\\\"changes\\\"].subscribe((function (val){!(this.valueFromJulia[\\\"changes\\\"]) ? (WebIO.setval({\\\"name\\\":\\\"changes\\\",\\\"scope\\\":\\\"7530506498587899991\\\",\\\"id\\\":\\\"6137414311233097902\\\",\\\"type\\\":\\\"observable\\\"},val)) : undefined; return this.valueFromJulia[\\\"changes\\\"]=false}),self),this[\\\"index\\\"].subscribe((function (val){!(this.valueFromJulia[\\\"index\\\"]) ? (WebIO.setval({\\\"name\\\":\\\"index\\\",\\\"scope\\\":\\\"7530506498587899991\\\",\\\"id\\\":\\\"17064971147210094783\\\",\\\"type\\\":\\\"observable\\\"},val)) : undefined; return this.valueFromJulia[\\\"index\\\"]=false}),self)]\\n        \\n    }\\n    self.model = new AppViewModel();\\n    self.valueFromJulia = {};\\n    for (var key in json_data) {\\n        self.valueFromJulia[key] = false;\\n    }\\n    ko.applyBindings(self.model, self.dom);\\n}\\n);\\n    (WebIO.importBlock({\\\"data\\\":[{\\\"name\\\":\\\"knockout\\\",\\\"type\\\":\\\"js\\\",\\\"url\\\":\\\"\\/assetserver\\/2712bb0a7395d062608c2f218a74b700f6c76b99-knockout.js\\\"},{\\\"name\\\":\\\"knockout_punches\\\",\\\"type\\\":\\\"js\\\",\\\"url\\\":\\\"\\/assetserver\\/fb4445501a2be4ab82176667f844e40da26fa007-knockout_punches.js\\\"}],\\\"type\\\":\\\"async_block\\\"})).then((imports) => handler.apply(this, imports));\\n}\\n\"],\"observables\":{\"changes\":{\"sync\":false,\"id\":\"6137414311233097902\",\"value\":0},\"index\":{\"sync\":true,\"id\":\"17064971147210094783\",\"value\":10}}},\"children\":[{\"props\":{\"className\":\"interact-flex-row interact-widget\"},\"nodeType\":\"DOM\",\"type\":\"node\",\"instanceArgs\":{\"namespace\":\"html\",\"tag\":\"div\"},\"children\":[{\"props\":{\"className\":\"interact-flex-row-left\"},\"nodeType\":\"DOM\",\"type\":\"node\",\"instanceArgs\":{\"namespace\":\"html\",\"tag\":\"div\"},\"children\":[{\"props\":{\"className\":\"interact \",\"style\":{\"padding\":\"5px 10px 0px 10px\"}},\"nodeType\":\"DOM\",\"type\":\"node\",\"instanceArgs\":{\"namespace\":\"html\",\"tag\":\"label\"},\"children\":[\"tmax\"]}]},{\"props\":{\"className\":\"interact-flex-row-center\"},\"nodeType\":\"DOM\",\"type\":\"node\",\"instanceArgs\":{\"namespace\":\"html\",\"tag\":\"div\"},\"children\":[{\"props\":{\"max\":19,\"min\":1,\"attributes\":{\"type\":\"range\",\"data-bind\":\"numericValue: index, valueUpdate: 'input', event: {change: function (){this.changes(this.changes()+1)}}\",\"orient\":\"horizontal\"},\"step\":1,\"className\":\"slider slider is-fullwidth\",\"style\":{}},\"nodeType\":\"DOM\",\"type\":\"node\",\"instanceArgs\":{\"namespace\":\"html\",\"tag\":\"input\"},\"children\":[]}]},{\"props\":{\"className\":\"interact-flex-row-right\"},\"nodeType\":\"DOM\",\"type\":\"node\",\"instanceArgs\":{\"namespace\":\"html\",\"tag\":\"div\"},\"children\":[{\"props\":{\"attributes\":{\"data-bind\":\"text: formatted_val\"}},\"nodeType\":\"DOM\",\"type\":\"node\",\"instanceArgs\":{\"namespace\":\"html\",\"tag\":\"p\"},\"children\":[]}]}]}]}]},{\"props\":{},\"nodeType\":\"Scope\",\"type\":\"node\",\"instanceArgs\":{\"imports\":{\"data\":[],\"type\":\"async_block\"},\"id\":\"15904804506213359315\",\"handlers\":{},\"systemjs_options\":null,\"mount_callbacks\":[],\"observables\":{\"obs-node\":{\"sync\":false,\"id\":\"8580834257043208558\",\"value\":{\"props\":{\"className\":\"interact-flex-row interact-widget\"},\"nodeType\":\"DOM\",\"type\":\"node\",\"instanceArgs\":{\"namespace\":\"html\",\"tag\":\"div\"},\"children\":[{\"props\":{\"setInnerHtml\":\"<img src=\\\"data:image\\/png;base64,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\\\" \\/>\"},\"nodeType\":\"DOM\",\"type\":\"node\",\"instanceArgs\":{\"namespace\":\"html\",\"tag\":\"div\"},\"children\":[]}]}}}},\"children\":[{\"props\":{},\"nodeType\":\"ObservableNode\",\"type\":\"node\",\"instanceArgs\":{\"id\":\"8580834257043208558\",\"name\":\"obs-node\"},\"children\":[]}]}]},\n",
       "        window,\n",
       "    );\n",
       "    })()\n",
       "    </script>\n",
       "</div>\n"
      ],
      "text/plain": [
       "Node{WebIO.DOM}(WebIO.DOM(:html, :div), Any[Node{WebIO.DOM}(WebIO.DOM(:html, :div), Any[Scope(Node{WebIO.DOM}(WebIO.DOM(:html, :div), Any[Node{WebIO.DOM}(WebIO.DOM(:html, :div), Any[Node{WebIO.DOM}(WebIO.DOM(:html, :label), Any[\"R\"], Dict{Symbol, Any}(:className => \"interact \", :style => Dict{Any, Any}(:padding => \"5px 10px 0px 10px\")))], Dict{Symbol, Any}(:className => \"interact-flex-row-left\")), Node{WebIO.DOM}(WebIO.DOM(:html, :div), Any[Node{WebIO.DOM}(WebIO.DOM(:html, :input), Any[], Dict{Symbol, Any}(:max => 101, :min => 1, :attributes => Dict{Any, Any}(:type => \"range\", Symbol(\"data-bind\") => \"numericValue: index, valueUpdate: 'input', event: {change: function (){this.changes(this.changes()+1)}}\", \"orient\" => \"horizontal\"), :step => 1, :className => \"slider slider is-fullwidth\", :style => Dict{Any, Any}()))], Dict{Symbol, Any}(:className => \"interact-flex-row-center\")), Node{WebIO.DOM}(WebIO.DOM(:html, :div), Any[Node{WebIO.DOM}(WebIO.DOM(:html, :p), Any[], Dict{Symbol, Any}(:attributes => Dict(\"data-bind\" => \"text: formatted_val\")))], Dict{Symbol, Any}(:className => \"interact-flex-row-right\"))], Dict{Symbol, Any}(:className => \"interact-flex-row interact-widget\")), Dict{String, Tuple{Observables.AbstractObservable, Union{Nothing, Bool}}}(\"changes\" => (Observable{Int64} with 1 listeners. Value:\n",
       "0, nothing), \"index\" => (Observable{Any} with 2 listeners. Value:\n",
       "51, nothing)), Set{String}(), nothing, Asset[Asset(\"js\", \"knockout\", \"C:\\\\Users\\\\Camilo\\\\.julia\\\\packages\\\\Knockout\\\\3gjS1\\\\src\\\\..\\\\assets\\\\knockout.js\"), Asset(\"js\", \"knockout_punches\", \"C:\\\\Users\\\\Camilo\\\\.julia\\\\packages\\\\Knockout\\\\3gjS1\\\\src\\\\..\\\\assets\\\\knockout_punches.js\"), Asset(\"js\", nothing, \"C:\\\\Users\\\\Camilo\\\\.julia\\\\packages\\\\InteractBase\\\\h8Fwe\\\\src\\\\..\\\\assets\\\\all.js\"), Asset(\"css\", nothing, \"C:\\\\Users\\\\Camilo\\\\.julia\\\\packages\\\\InteractBase\\\\h8Fwe\\\\src\\\\..\\\\assets\\\\style.css\"), Asset(\"css\", nothing, \"C:\\\\Users\\\\Camilo\\\\.julia\\\\packages\\\\Interact\\\\pVyN2\\\\src\\\\..\\\\assets\\\\bulma_confined.min.css\")], Dict{Any, Any}(\"changes\" => Any[WebIO.JSString(\"(function (val){return (val!=this.model[\\\"changes\\\"]()) ? (this.valueFromJulia[\\\"changes\\\"]=true, this.model[\\\"changes\\\"](val)) : undefined})\")], \"index\" => Any[WebIO.JSString(\"(function (val){return (val!=this.model[\\\"index\\\"]()) ? (this.valueFromJulia[\\\"index\\\"]=true, this.model[\\\"index\\\"](val)) : undefined})\")]), WebIO.ConnectionPool(Channel{Any}(32), Set{AbstractConnection}(), Condition(Base.InvasiveLinkedList{Task}(Task (runnable) @0x00000000972dfd00, Task (runnable) @0x00000000972dfd00), Base.AlwaysLockedST(1))), WebIO.JSString[WebIO.JSString(\"function () {\\n    var handler = (function (ko, koPunches) {\\n    ko.punches.enableAll();\\n    ko.bindingHandlers.numericValue = {\\n        init: function(element, valueAccessor, allBindings, data, context) {\\n            var stringified = ko.observable(ko.unwrap(valueAccessor()));\\n            stringified.subscribe(function(value) {\\n                var val = parseFloat(value);\\n                if (!isNaN(val)) {\\n                    valueAccessor()(val);\\n                }\\n            });\\n            valueAccessor().subscribe(function(value) {\\n                var str = JSON.stringify(value);\\n                if ((str == \\\"0\\\") && ([\\\"-0\\\", \\\"-0.\\\"].indexOf(stringified()) >= 0))\\n                     return;\\n                 if ([\\\"null\\\", \\\"\\\"].indexOf(str) >= 0)\\n                     return;\\n                stringified(str);\\n            });\\n            ko.applyBindingsToNode(\\n                element,\\n                {\\n                    value: stringified,\\n                    valueUpdate: allBindings.get('valueUpdate'),\\n                },\\n                context,\\n            );\\n        }\\n    };\\n    var json_data = {\\\"formatted_vals\\\":[\\\"0.0\\\",\\\"0.02\\\",\\\"0.04\\\",\\\"0.06\\\",\\\"0.08\\\",\\\"0.1\\\",\\\"0.12\\\",\\\"0.14\\\",\\\"0.16\\\",\\\"0.18\\\",\\\"0.2\\\",\\\"0.22\\\",\\\"0.24\\\",\\\"0.26\\\",\\\"0.28\\\",\\\"0.3\\\",\\\"0.32\\\",\\\"0.34\\\",\\\"0.36\\\",\\\"0.38\\\",\\\"0.4\\\",\\\"0.42\\\",\\\"0.44\\\",\\\"0.46\\\",\\\"0.48\\\",\\\"0.5\\\",\\\"0.52\\\",\\\"0.54\\\",\\\"0.56\\\",\\\"0.58\\\",\\\"0.6\\\",\\\"0.62\\\",\\\"0.64\\\",\\\"0.66\\\",\\\"0.68\\\",\\\"0.7\\\",\\\"0.72\\\",\\\"0.74\\\",\\\"0.76\\\",\\\"0.78\\\",\\\"0.8\\\",\\\"0.82\\\",\\\"0.84\\\",\\\"0.86\\\",\\\"0.88\\\",\\\"0.9\\\",\\\"0.92\\\",\\\"0.94\\\",\\\"0.96\\\",\\\"0.98\\\",\\\"1.0\\\",\\\"1.02\\\",\\\"1.04\\\",\\\"1.06\\\",\\\"1.08\\\",\\\"1.1\\\",\\\"1.12\\\",\\\"1.14\\\",\\\"1.16\\\",\\\"1.18\\\",\\\"1.2\\\",\\\"1.22\\\",\\\"1.24\\\",\\\"1.26\\\",\\\"1.28\\\",\\\"1.3\\\",\\\"1.32\\\",\\\"1.34\\\",\\\"1.36\\\",\\\"1.38\\\",\\\"1.4\\\",\\\"1.42\\\",\\\"1.44\\\",\\\"1.46\\\",\\\"1.48\\\",\\\"1.5\\\",\\\"1.52\\\",\\\"1.54\\\",\\\"1.56\\\",\\\"1.58\\\",\\\"1.6\\\",\\\"1.62\\\",\\\"1.64\\\",\\\"1.66\\\",\\\"1.68\\\",\\\"1.7\\\",\\\"1.72\\\",\\\"1.74\\\",\\\"1.76\\\",\\\"1.78\\\",\\\"1.8\\\",\\\"1.82\\\",\\\"1.84\\\",\\\"1.86\\\",\\\"1.88\\\",\\\"1.9\\\",\\\"1.92\\\",\\\"1.94\\\",\\\"1.96\\\",\\\"1.98\\\",\\\"2.0\\\"],\\\"changes\\\":WebIO.getval({\\\"name\\\":\\\"changes\\\",\\\"scope\\\":\\\"5520633563165499905\\\",\\\"id\\\":\\\"10852090576716556920\\\",\\\"type\\\":\\\"observable\\\"}),\\\"index\\\":WebIO.getval({\\\"name\\\":\\\"index\\\",\\\"scope\\\":\\\"5520633563165499905\\\",\\\"id\\\":\\\"1051105627952491370\\\",\\\"type\\\":\\\"observable\\\"})};\\n    var self = this;\\n    function AppViewModel() {\\n        for (var key in json_data) {\\n            var el = json_data[key];\\n            this[key] = Array.isArray(el) ? ko.observableArray(el) : ko.observable(el);\\n        }\\n        \\n        [this[\\\"formatted_val\\\"]=ko.computed(    function(){\\n        return this.formatted_vals()[parseInt(this.index())-(1)];\\n    }\\n,this)]\\n        [this[\\\"changes\\\"].subscribe((function (val){!(this.valueFromJulia[\\\"changes\\\"]) ? (WebIO.setval({\\\"name\\\":\\\"changes\\\",\\\"scope\\\":\\\"5520633563165499905\\\",\\\"id\\\":\\\"10852090576716556920\\\",\\\"type\\\":\\\"observable\\\"},val)) : undefined; return this.valueFromJulia[\\\"changes\\\"]=false}),self),this[\\\"index\\\"].subscribe((function (val){!(this.valueFromJulia[\\\"index\\\"]) ? (WebIO.setval({\\\"name\\\":\\\"index\\\",\\\"scope\\\":\\\"5520633563165499905\\\",\\\"id\\\":\\\"1051105627952491370\\\",\\\"type\\\":\\\"observable\\\"},val)) : undefined; return this.valueFromJulia[\\\"index\\\"]=false}),self)]\\n        \\n    }\\n    self.model = new AppViewModel();\\n    self.valueFromJulia = {};\\n    for (var key in json_data) {\\n        self.valueFromJulia[key] = false;\\n    }\\n    ko.applyBindings(self.model, self.dom);\\n}\\n);\\n    (WebIO.importBlock({\\\"data\\\":[{\\\"name\\\":\\\"knockout\\\",\\\"type\\\":\\\"js\\\",\\\"url\\\":\\\"/assetserver/2712bb0a7395d062608c2f218a74b700f6c76b99-knockout.js\\\"},{\\\"name\\\":\\\"knockout_punches\\\",\\\"type\\\":\\\"js\\\",\\\"url\\\":\\\"/assetserver/fb4445501a2be4ab82176667f844e40da26fa007-knockout_punches.js\\\"}],\\\"type\\\":\\\"async_block\\\"})).then((imports) => handler.apply(this, imports));\\n}\\n\")])], Dict{Symbol, Any}(:className => \"field interact-widget\")), Node{WebIO.DOM}(WebIO.DOM(:html, :div), Any[Scope(Node{WebIO.DOM}(WebIO.DOM(:html, :div), Any[Node{WebIO.DOM}(WebIO.DOM(:html, :div), Any[Node{WebIO.DOM}(WebIO.DOM(:html, :label), Any[\"K\"], Dict{Symbol, Any}(:className => \"interact \", :style => Dict{Any, Any}(:padding => \"5px 10px 0px 10px\")))], Dict{Symbol, Any}(:className => \"interact-flex-row-left\")), Node{WebIO.DOM}(WebIO.DOM(:html, :div), Any[Node{WebIO.DOM}(WebIO.DOM(:html, :input), Any[], Dict{Symbol, Any}(:max => 101, :min => 1, :attributes => Dict{Any, Any}(:type => \"range\", Symbol(\"data-bind\") => \"numericValue: index, valueUpdate: 'input', event: {change: function (){this.changes(this.changes()+1)}}\", \"orient\" => \"horizontal\"), :step => 1, :className => \"slider slider is-fullwidth\", :style => Dict{Any, Any}()))], Dict{Symbol, Any}(:className => \"interact-flex-row-center\")), Node{WebIO.DOM}(WebIO.DOM(:html, :div), Any[Node{WebIO.DOM}(WebIO.DOM(:html, :p), Any[], Dict{Symbol, Any}(:attributes => Dict(\"data-bind\" => \"text: formatted_val\")))], Dict{Symbol, Any}(:className => \"interact-flex-row-right\"))], Dict{Symbol, Any}(:className => \"interact-flex-row interact-widget\")), Dict{String, Tuple{Observables.AbstractObservable, Union{Nothing, Bool}}}(\"changes\" => (Observable{Int64} with 1 listeners. Value:\n",
       "0, nothing), \"index\" => (Observable{Any} with 2 listeners. Value:\n",
       "51, nothing)), Set{String}(), nothing, Asset[Asset(\"js\", \"knockout\", \"C:\\\\Users\\\\Camilo\\\\.julia\\\\packages\\\\Knockout\\\\3gjS1\\\\src\\\\..\\\\assets\\\\knockout.js\"), Asset(\"js\", \"knockout_punches\", \"C:\\\\Users\\\\Camilo\\\\.julia\\\\packages\\\\Knockout\\\\3gjS1\\\\src\\\\..\\\\assets\\\\knockout_punches.js\"), Asset(\"js\", nothing, \"C:\\\\Users\\\\Camilo\\\\.julia\\\\packages\\\\InteractBase\\\\h8Fwe\\\\src\\\\..\\\\assets\\\\all.js\"), Asset(\"css\", nothing, \"C:\\\\Users\\\\Camilo\\\\.julia\\\\packages\\\\InteractBase\\\\h8Fwe\\\\src\\\\..\\\\assets\\\\style.css\"), Asset(\"css\", nothing, \"C:\\\\Users\\\\Camilo\\\\.julia\\\\packages\\\\Interact\\\\pVyN2\\\\src\\\\..\\\\assets\\\\bulma_confined.min.css\")], Dict{Any, Any}(\"changes\" => Any[WebIO.JSString(\"(function (val){return (val!=this.model[\\\"changes\\\"]()) ? (this.valueFromJulia[\\\"changes\\\"]=true, this.model[\\\"changes\\\"](val)) : undefined})\")], \"index\" => Any[WebIO.JSString(\"(function (val){return (val!=this.model[\\\"index\\\"]()) ? (this.valueFromJulia[\\\"index\\\"]=true, this.model[\\\"index\\\"](val)) : undefined})\")]), WebIO.ConnectionPool(Channel{Any}(32), Set{AbstractConnection}(), Condition(Base.InvasiveLinkedList{Task}(Task (runnable) @0x000000009735c010, Task (runnable) @0x000000009735c010), Base.AlwaysLockedST(1))), WebIO.JSString[WebIO.JSString(\"function () {\\n    var handler = (function (ko, koPunches) {\\n    ko.punches.enableAll();\\n    ko.bindingHandlers.numericValue = {\\n        init: function(element, valueAccessor, allBindings, data, context) {\\n            var stringified = ko.observable(ko.unwrap(valueAccessor()));\\n            stringified.subscribe(function(value) {\\n                var val = parseFloat(value);\\n                if (!isNaN(val)) {\\n                    valueAccessor()(val);\\n                }\\n            });\\n            valueAccessor().subscribe(function(value) {\\n                var str = JSON.stringify(value);\\n                if ((str == \\\"0\\\") && ([\\\"-0\\\", \\\"-0.\\\"].indexOf(stringified()) >= 0))\\n                     return;\\n                 if ([\\\"null\\\", \\\"\\\"].indexOf(str) >= 0)\\n                     return;\\n                stringified(str);\\n            });\\n            ko.applyBindingsToNode(\\n                element,\\n                {\\n                    value: stringified,\\n                    valueUpdate: allBindings.get('valueUpdate'),\\n                },\\n                context,\\n            );\\n        }\\n    };\\n    var json_data = {\\\"formatted_vals\\\":[\\\"0.0\\\",\\\"0.1\\\",\\\"0.2\\\",\\\"0.3\\\",\\\"0.4\\\",\\\"0.5\\\",\\\"0.6\\\",\\\"0.7\\\",\\\"0.8\\\",\\\"0.9\\\",\\\"1.0\\\",\\\"1.1\\\",\\\"1.2\\\",\\\"1.3\\\",\\\"1.4\\\",\\\"1.5\\\",\\\"1.6\\\",\\\"1.7\\\",\\\"1.8\\\",\\\"1.9\\\",\\\"2.0\\\",\\\"2.1\\\",\\\"2.2\\\",\\\"2.3\\\",\\\"2.4\\\",\\\"2.5\\\",\\\"2.6\\\",\\\"2.7\\\",\\\"2.8\\\",\\\"2.9\\\",\\\"3.0\\\",\\\"3.1\\\",\\\"3.2\\\",\\\"3.3\\\",\\\"3.4\\\",\\\"3.5\\\",\\\"3.6\\\",\\\"3.7\\\",\\\"3.8\\\",\\\"3.9\\\",\\\"4.0\\\",\\\"4.1\\\",\\\"4.2\\\",\\\"4.3\\\",\\\"4.4\\\",\\\"4.5\\\",\\\"4.6\\\",\\\"4.7\\\",\\\"4.8\\\",\\\"4.9\\\",\\\"5.0\\\",\\\"5.1\\\",\\\"5.2\\\",\\\"5.3\\\",\\\"5.4\\\",\\\"5.5\\\",\\\"5.6\\\",\\\"5.7\\\",\\\"5.8\\\",\\\"5.9\\\",\\\"6.0\\\",\\\"6.1\\\",\\\"6.2\\\",\\\"6.3\\\",\\\"6.4\\\",\\\"6.5\\\",\\\"6.6\\\",\\\"6.7\\\",\\\"6.8\\\",\\\"6.9\\\",\\\"7.0\\\",\\\"7.1\\\",\\\"7.2\\\",\\\"7.3\\\",\\\"7.4\\\",\\\"7.5\\\",\\\"7.6\\\",\\\"7.7\\\",\\\"7.8\\\",\\\"7.9\\\",\\\"8.0\\\",\\\"8.1\\\",\\\"8.2\\\",\\\"8.3\\\",\\\"8.4\\\",\\\"8.5\\\",\\\"8.6\\\",\\\"8.7\\\",\\\"8.8\\\",\\\"8.9\\\",\\\"9.0\\\",\\\"9.1\\\",\\\"9.2\\\",\\\"9.3\\\",\\\"9.4\\\",\\\"9.5\\\",\\\"9.6\\\",\\\"9.7\\\",\\\"9.8\\\",\\\"9.9\\\",\\\"10.0\\\"],\\\"changes\\\":WebIO.getval({\\\"name\\\":\\\"changes\\\",\\\"scope\\\":\\\"12234496763025508972\\\",\\\"id\\\":\\\"7196415393505232149\\\",\\\"type\\\":\\\"observable\\\"}),\\\"index\\\":WebIO.getval({\\\"name\\\":\\\"index\\\",\\\"scope\\\":\\\"12234496763025508972\\\",\\\"id\\\":\\\"11726062129176988202\\\",\\\"type\\\":\\\"observable\\\"})};\\n    var self = this;\\n    function AppViewModel() {\\n        for (var key in json_data) {\\n            var el = json_data[key];\\n            this[key] = Array.isArray(el) ? ko.observableArray(el) : ko.observable(el);\\n        }\\n        \\n        [this[\\\"formatted_val\\\"]=ko.computed(    function(){\\n        return this.formatted_vals()[parseInt(this.index())-(1)];\\n    }\\n,this)]\\n        [this[\\\"changes\\\"].subscribe((function (val){!(this.valueFromJulia[\\\"changes\\\"]) ? (WebIO.setval({\\\"name\\\":\\\"changes\\\",\\\"scope\\\":\\\"12234496763025508972\\\",\\\"id\\\":\\\"7196415393505232149\\\",\\\"type\\\":\\\"observable\\\"},val)) : undefined; return this.valueFromJulia[\\\"changes\\\"]=false}),self),this[\\\"index\\\"].subscribe((function (val){!(this.valueFromJulia[\\\"index\\\"]) ? (WebIO.setval({\\\"name\\\":\\\"index\\\",\\\"scope\\\":\\\"12234496763025508972\\\",\\\"id\\\":\\\"11726062129176988202\\\",\\\"type\\\":\\\"observable\\\"},val)) : undefined; return this.valueFromJulia[\\\"index\\\"]=false}),self)]\\n        \\n    }\\n    self.model = new AppViewModel();\\n    self.valueFromJulia = {};\\n    for (var key in json_data) {\\n        self.valueFromJulia[key] = false;\\n    }\\n    ko.applyBindings(self.model, self.dom);\\n}\\n);\\n    (WebIO.importBlock({\\\"data\\\":[{\\\"name\\\":\\\"knockout\\\",\\\"type\\\":\\\"js\\\",\\\"url\\\":\\\"/assetserver/2712bb0a7395d062608c2f218a74b700f6c76b99-knockout.js\\\"},{\\\"name\\\":\\\"knockout_punches\\\",\\\"type\\\":\\\"js\\\",\\\"url\\\":\\\"/assetserver/fb4445501a2be4ab82176667f844e40da26fa007-knockout_punches.js\\\"}],\\\"type\\\":\\\"async_block\\\"})).then((imports) => handler.apply(this, imports));\\n}\\n\")])], Dict{Symbol, Any}(:className => \"field interact-widget\")), Node{WebIO.DOM}(WebIO.DOM(:html, :div), Any[Scope(Node{WebIO.DOM}(WebIO.DOM(:html, :div), Any[Node{WebIO.DOM}(WebIO.DOM(:html, :div), Any[Node{WebIO.DOM}(WebIO.DOM(:html, :label), Any[\"P\"], Dict{Symbol, Any}(:className => \"interact \", :style => Dict{Any, Any}(:padding => \"5px 10px 0px 10px\")))], Dict{Symbol, Any}(:className => \"interact-flex-row-left\")), Node{WebIO.DOM}(WebIO.DOM(:html, :div), Any[Node{WebIO.DOM}(WebIO.DOM(:html, :input), Any[], Dict{Symbol, Any}(:max => 201, :min => 1, :attributes => Dict{Any, Any}(:type => \"range\", Symbol(\"data-bind\") => \"numericValue: index, valueUpdate: 'input', event: {change: function (){this.changes(this.changes()+1)}}\", \"orient\" => \"horizontal\"), :step => 1, :className => \"slider slider is-fullwidth\", :style => Dict{Any, Any}()))], Dict{Symbol, Any}(:className => \"interact-flex-row-center\")), Node{WebIO.DOM}(WebIO.DOM(:html, :div), Any[Node{WebIO.DOM}(WebIO.DOM(:html, :p), Any[], Dict{Symbol, Any}(:attributes => Dict(\"data-bind\" => \"text: formatted_val\")))], Dict{Symbol, Any}(:className => \"interact-flex-row-right\"))], Dict{Symbol, Any}(:className => \"interact-flex-row interact-widget\")), Dict{String, Tuple{Observables.AbstractObservable, Union{Nothing, Bool}}}(\"changes\" => (Observable{Int64} with 1 listeners. Value:\n",
       "0, nothing), \"index\" => (Observable{Any} with 2 listeners. Value:\n",
       "101, nothing)), Set{String}(), nothing, Asset[Asset(\"js\", \"knockout\", \"C:\\\\Users\\\\Camilo\\\\.julia\\\\packages\\\\Knockout\\\\3gjS1\\\\src\\\\..\\\\assets\\\\knockout.js\"), Asset(\"js\", \"knockout_punches\", \"C:\\\\Users\\\\Camilo\\\\.julia\\\\packages\\\\Knockout\\\\3gjS1\\\\src\\\\..\\\\assets\\\\knockout_punches.js\"), Asset(\"js\", nothing, \"C:\\\\Users\\\\Camilo\\\\.julia\\\\packages\\\\InteractBase\\\\h8Fwe\\\\src\\\\..\\\\assets\\\\all.js\"), Asset(\"css\", nothing, \"C:\\\\Users\\\\Camilo\\\\.julia\\\\packages\\\\InteractBase\\\\h8Fwe\\\\src\\\\..\\\\assets\\\\style.css\"), Asset(\"css\", nothing, \"C:\\\\Users\\\\Camilo\\\\.julia\\\\packages\\\\Interact\\\\pVyN2\\\\src\\\\..\\\\assets\\\\bulma_confined.min.css\")], Dict{Any, Any}(\"changes\" => Any[WebIO.JSString(\"(function (val){return (val!=this.model[\\\"changes\\\"]()) ? (this.valueFromJulia[\\\"changes\\\"]=true, this.model[\\\"changes\\\"](val)) : undefined})\")], \"index\" => Any[WebIO.JSString(\"(function (val){return (val!=this.model[\\\"index\\\"]()) ? (this.valueFromJulia[\\\"index\\\"]=true, this.model[\\\"index\\\"](val)) : undefined})\")]), WebIO.ConnectionPool(Channel{Any}(32), Set{AbstractConnection}(), Condition(Base.InvasiveLinkedList{Task}(Task (runnable) @0x00000000973781a0, Task (runnable) @0x00000000973781a0), Base.AlwaysLockedST(1))), WebIO.JSString[WebIO.JSString(\"function () {\\n    var handler = (function (ko, koPunches) {\\n    ko.punches.enableAll();\\n    ko.bindingHandlers.numericValue = {\\n        init: function(element, valueAccessor, allBindings, data, context) {\\n            var stringified = ko.observable(ko.unwrap(valueAccessor()));\\n            stringified.subscribe(function(value) {\\n                var val = parseFloat(value);\\n                if (!isNaN(val)) {\\n                    valueAccessor()(val);\\n                }\\n            });\\n            valueAccessor().subscribe(function(value) {\\n                var str = JSON.stringify(value);\\n                if ((str == \\\"0\\\") && ([\\\"-0\\\", \\\"-0.\\\"].indexOf(stringified()) >= 0))\\n                     return;\\n                 if ([\\\"null\\\", \\\"\\\"].indexOf(str) >= 0)\\n                     return;\\n                stringified(str);\\n            });\\n            ko.applyBindingsToNode(\\n                element,\\n                {\\n                    value: stringified,\\n                    valueUpdate: allBindings.get('valueUpdate'),\\n                },\\n                context,\\n            );\\n        }\\n    };\\n    var json_data = {\\\"formatted_vals\\\":[\\\"0.0\\\",\\\"0.01\\\",\\\"0.02\\\",\\\"0.03\\\",\\\"0.04\\\",\\\"0.05\\\",\\\"0.06\\\",\\\"0.07\\\",\\\"0.08\\\",\\\"0.09\\\",\\\"0.1\\\",\\\"0.11\\\",\\\"0.12\\\",\\\"0.13\\\",\\\"0.14\\\",\\\"0.15\\\",\\\"0.16\\\",\\\"0.17\\\",\\\"0.18\\\",\\\"0.19\\\",\\\"0.2\\\",\\\"0.21\\\",\\\"0.22\\\",\\\"0.23\\\",\\\"0.24\\\",\\\"0.25\\\",\\\"0.26\\\",\\\"0.27\\\",\\\"0.28\\\",\\\"0.29\\\",\\\"0.3\\\",\\\"0.31\\\",\\\"0.32\\\",\\\"0.33\\\",\\\"0.34\\\",\\\"0.35\\\",\\\"0.36\\\",\\\"0.37\\\",\\\"0.38\\\",\\\"0.39\\\",\\\"0.4\\\",\\\"0.41\\\",\\\"0.42\\\",\\\"0.43\\\",\\\"0.44\\\",\\\"0.45\\\",\\\"0.46\\\",\\\"0.47\\\",\\\"0.48\\\",\\\"0.49\\\",\\\"0.5\\\",\\\"0.51\\\",\\\"0.52\\\",\\\"0.53\\\",\\\"0.54\\\",\\\"0.55\\\",\\\"0.56\\\",\\\"0.57\\\",\\\"0.58\\\",\\\"0.59\\\",\\\"0.6\\\",\\\"0.61\\\",\\\"0.62\\\",\\\"0.63\\\",\\\"0.64\\\",\\\"0.65\\\",\\\"0.66\\\",\\\"0.67\\\",\\\"0.68\\\",\\\"0.69\\\",\\\"0.7\\\",\\\"0.71\\\",\\\"0.72\\\",\\\"0.73\\\",\\\"0.74\\\",\\\"0.75\\\",\\\"0.76\\\",\\\"0.77\\\",\\\"0.78\\\",\\\"0.79\\\",\\\"0.8\\\",\\\"0.81\\\",\\\"0.82\\\",\\\"0.83\\\",\\\"0.84\\\",\\\"0.85\\\",\\\"0.86\\\",\\\"0.87\\\",\\\"0.88\\\",\\\"0.89\\\",\\\"0.9\\\",\\\"0.91\\\",\\\"0.92\\\",\\\"0.93\\\",\\\"0.94\\\",\\\"0.95\\\",\\\"0.96\\\",\\\"0.97\\\",\\\"0.98\\\",\\\"0.99\\\",\\\"1.0\\\",\\\"1.01\\\",\\\"1.02\\\",\\\"1.03\\\",\\\"1.04\\\",\\\"1.05\\\",\\\"1.06\\\",\\\"1.07\\\",\\\"1.08\\\",\\\"1.09\\\",\\\"1.1\\\",\\\"1.11\\\",\\\"1.12\\\",\\\"1.13\\\",\\\"1.14\\\",\\\"1.15\\\",\\\"1.16\\\",\\\"1.17\\\",\\\"1.18\\\",\\\"1.19\\\",\\\"1.2\\\",\\\"1.21\\\",\\\"1.22\\\",\\\"1.23\\\",\\\"1.24\\\",\\\"1.25\\\",\\\"1.26\\\",\\\"1.27\\\",\\\"1.28\\\",\\\"1.29\\\",\\\"1.3\\\",\\\"1.31\\\",\\\"1.32\\\",\\\"1.33\\\",\\\"1.34\\\",\\\"1.35\\\",\\\"1.36\\\",\\\"1.37\\\",\\\"1.38\\\",\\\"1.39\\\",\\\"1.4\\\",\\\"1.41\\\",\\\"1.42\\\",\\\"1.43\\\",\\\"1.44\\\",\\\"1.45\\\",\\\"1.46\\\",\\\"1.47\\\",\\\"1.48\\\",\\\"1.49\\\",\\\"1.5\\\",\\\"1.51\\\",\\\"1.52\\\",\\\"1.53\\\",\\\"1.54\\\",\\\"1.55\\\",\\\"1.56\\\",\\\"1.57\\\",\\\"1.58\\\",\\\"1.59\\\",\\\"1.6\\\",\\\"1.61\\\",\\\"1.62\\\",\\\"1.63\\\",\\\"1.64\\\",\\\"1.65\\\",\\\"1.66\\\",\\\"1.67\\\",\\\"1.68\\\",\\\"1.69\\\",\\\"1.7\\\",\\\"1.71\\\",\\\"1.72\\\",\\\"1.73\\\",\\\"1.74\\\",\\\"1.75\\\",\\\"1.76\\\",\\\"1.77\\\",\\\"1.78\\\",\\\"1.79\\\",\\\"1.8\\\",\\\"1.81\\\",\\\"1.82\\\",\\\"1.83\\\",\\\"1.84\\\",\\\"1.85\\\",\\\"1.86\\\",\\\"1.87\\\",\\\"1.88\\\",\\\"1.89\\\",\\\"1.9\\\",\\\"1.91\\\",\\\"1.92\\\",\\\"1.93\\\",\\\"1.94\\\",\\\"1.95\\\",\\\"1.96\\\",\\\"1.97\\\",\\\"1.98\\\",\\\"1.99\\\",\\\"2.0\\\"],\\\"changes\\\":WebIO.getval({\\\"name\\\":\\\"changes\\\",\\\"scope\\\":\\\"17902188121882974597\\\",\\\"id\\\":\\\"2228443197547966622\\\",\\\"type\\\":\\\"observable\\\"}),\\\"index\\\":WebIO.getval({\\\"name\\\":\\\"index\\\",\\\"scope\\\":\\\"17902188121882974597\\\",\\\"id\\\":\\\"7150449637719565720\\\",\\\"type\\\":\\\"observable\\\"})};\\n    var self = this;\\n    function AppViewModel() {\\n        for (var key in json_data) {\\n            var el = json_data[key];\\n            this[key] = Array.isArray(el) ? ko.observableArray(el) : ko.observable(el);\\n        }\\n        \\n        [this[\\\"formatted_val\\\"]=ko.computed(    function(){\\n        return this.formatted_vals()[parseInt(this.index())-(1)];\\n    }\\n,this)]\\n        [this[\\\"changes\\\"].subscribe((function (val){!(this.valueFromJulia[\\\"changes\\\"]) ? (WebIO.setval({\\\"name\\\":\\\"changes\\\",\\\"scope\\\":\\\"17902188121882974597\\\",\\\"id\\\":\\\"2228443197547966622\\\",\\\"type\\\":\\\"observable\\\"},val)) : undefined; return this.valueFromJulia[\\\"changes\\\"]=false}),self),this[\\\"index\\\"].subscribe((function (val){!(this.valueFromJulia[\\\"index\\\"]) ? (WebIO.setval({\\\"name\\\":\\\"index\\\",\\\"scope\\\":\\\"17902188121882974597\\\",\\\"id\\\":\\\"7150449637719565720\\\",\\\"type\\\":\\\"observable\\\"},val)) : undefined; return this.valueFromJulia[\\\"index\\\"]=false}),self)]\\n        \\n    }\\n    self.model = new AppViewModel();\\n    self.valueFromJulia = {};\\n    for (var key in json_data) {\\n        self.valueFromJulia[key] = false;\\n    }\\n    ko.applyBindings(self.model, self.dom);\\n}\\n);\\n    (WebIO.importBlock({\\\"data\\\":[{\\\"name\\\":\\\"knockout\\\",\\\"type\\\":\\\"js\\\",\\\"url\\\":\\\"/assetserver/2712bb0a7395d062608c2f218a74b700f6c76b99-knockout.js\\\"},{\\\"name\\\":\\\"knockout_punches\\\",\\\"type\\\":\\\"js\\\",\\\"url\\\":\\\"/assetserver/fb4445501a2be4ab82176667f844e40da26fa007-knockout_punches.js\\\"}],\\\"type\\\":\\\"async_block\\\"})).then((imports) => handler.apply(this, imports));\\n}\\n\")])], Dict{Symbol, Any}(:className => \"field interact-widget\")), Node{WebIO.DOM}(WebIO.DOM(:html, :div), Any[Scope(Node{WebIO.DOM}(WebIO.DOM(:html, :div), Any[Node{WebIO.DOM}(WebIO.DOM(:html, :div), Any[Node{WebIO.DOM}(WebIO.DOM(:html, :label), Any[\"x0\"], Dict{Symbol, Any}(:className => \"interact \", :style => Dict{Any, Any}(:padding => \"5px 10px 0px 10px\")))], Dict{Symbol, Any}(:className => \"interact-flex-row-left\")), Node{WebIO.DOM}(WebIO.DOM(:html, :div), Any[Node{WebIO.DOM}(WebIO.DOM(:html, :input), Any[], Dict{Symbol, Any}(:max => 161, :min => 1, :attributes => Dict{Any, Any}(:type => \"range\", Symbol(\"data-bind\") => \"numericValue: index, valueUpdate: 'input', event: {change: function (){this.changes(this.changes()+1)}}\", \"orient\" => \"horizontal\"), :step => 1, :className => \"slider slider is-fullwidth\", :style => Dict{Any, Any}()))], Dict{Symbol, Any}(:className => \"interact-flex-row-center\")), Node{WebIO.DOM}(WebIO.DOM(:html, :div), Any[Node{WebIO.DOM}(WebIO.DOM(:html, :p), Any[], Dict{Symbol, Any}(:attributes => Dict(\"data-bind\" => \"text: formatted_val\")))], Dict{Symbol, Any}(:className => \"interact-flex-row-right\"))], Dict{Symbol, Any}(:className => \"interact-flex-row interact-widget\")), Dict{String, Tuple{Observables.AbstractObservable, Union{Nothing, Bool}}}(\"changes\" => (Observable{Int64} with 1 listeners. Value:\n",
       "0, nothing), \"index\" => (Observable{Any} with 2 listeners. Value:\n",
       "81, nothing)), Set{String}(), nothing, Asset[Asset(\"js\", \"knockout\", \"C:\\\\Users\\\\Camilo\\\\.julia\\\\packages\\\\Knockout\\\\3gjS1\\\\src\\\\..\\\\assets\\\\knockout.js\"), Asset(\"js\", \"knockout_punches\", \"C:\\\\Users\\\\Camilo\\\\.julia\\\\packages\\\\Knockout\\\\3gjS1\\\\src\\\\..\\\\assets\\\\knockout_punches.js\"), Asset(\"js\", nothing, \"C:\\\\Users\\\\Camilo\\\\.julia\\\\packages\\\\InteractBase\\\\h8Fwe\\\\src\\\\..\\\\assets\\\\all.js\"), Asset(\"css\", nothing, \"C:\\\\Users\\\\Camilo\\\\.julia\\\\packages\\\\InteractBase\\\\h8Fwe\\\\src\\\\..\\\\assets\\\\style.css\"), Asset(\"css\", nothing, \"C:\\\\Users\\\\Camilo\\\\.julia\\\\packages\\\\Interact\\\\pVyN2\\\\src\\\\..\\\\assets\\\\bulma_confined.min.css\")], Dict{Any, Any}(\"changes\" => Any[WebIO.JSString(\"(function (val){return (val!=this.model[\\\"changes\\\"]()) ? (this.valueFromJulia[\\\"changes\\\"]=true, this.model[\\\"changes\\\"](val)) : undefined})\")], \"index\" => Any[WebIO.JSString(\"(function (val){return (val!=this.model[\\\"index\\\"]()) ? (this.valueFromJulia[\\\"index\\\"]=true, this.model[\\\"index\\\"](val)) : undefined})\")]), WebIO.ConnectionPool(Channel{Any}(32), Set{AbstractConnection}(), Condition(Base.InvasiveLinkedList{Task}(Task (runnable) @0x00000000973b8330, Task (runnable) @0x00000000973b8330), Base.AlwaysLockedST(1))), WebIO.JSString[WebIO.JSString(\"function () {\\n    var handler = (function (ko, koPunches) {\\n    ko.punches.enableAll();\\n    ko.bindingHandlers.numericValue = {\\n        init: function(element, valueAccessor, allBindings, data, context) {\\n            var stringified = ko.observable(ko.unwrap(valueAccessor()));\\n            stringified.subscribe(function(value) {\\n                var val = parseFloat(value);\\n                if (!isNaN(val)) {\\n                    valueAccessor()(val);\\n                }\\n            });\\n            valueAccessor().subscribe(function(value) {\\n                var str = JSON.stringify(value);\\n                if ((str == \\\"0\\\") && ([\\\"-0\\\", \\\"-0.\\\"].indexOf(stringified()) >= 0))\\n                     return;\\n                 if ([\\\"null\\\", \\\"\\\"].indexOf(str) >= 0)\\n                     return;\\n                stringified(str);\\n            });\\n            ko.applyBindingsToNode(\\n                element,\\n                {\\n                    value: stringified,\\n                    valueUpdate: allBindings.get('valueUpdate'),\\n                },\\n                context,\\n            );\\n        }\\n    };\\n    var json_data = {\\\"formatted_vals\\\":[\\\"0.0\\\",\\\"0.05\\\",\\\"0.1\\\",\\\"0.15\\\",\\\"0.2\\\",\\\"0.25\\\",\\\"0.3\\\",\\\"0.35\\\",\\\"0.4\\\",\\\"0.45\\\",\\\"0.5\\\",\\\"0.55\\\",\\\"0.6\\\",\\\"0.65\\\",\\\"0.7\\\",\\\"0.75\\\",\\\"0.8\\\",\\\"0.85\\\",\\\"0.9\\\",\\\"0.95\\\",\\\"1.0\\\",\\\"1.05\\\",\\\"1.1\\\",\\\"1.15\\\",\\\"1.2\\\",\\\"1.25\\\",\\\"1.3\\\",\\\"1.35\\\",\\\"1.4\\\",\\\"1.45\\\",\\\"1.5\\\",\\\"1.55\\\",\\\"1.6\\\",\\\"1.65\\\",\\\"1.7\\\",\\\"1.75\\\",\\\"1.8\\\",\\\"1.85\\\",\\\"1.9\\\",\\\"1.95\\\",\\\"2.0\\\",\\\"2.05\\\",\\\"2.1\\\",\\\"2.15\\\",\\\"2.2\\\",\\\"2.25\\\",\\\"2.3\\\",\\\"2.35\\\",\\\"2.4\\\",\\\"2.45\\\",\\\"2.5\\\",\\\"2.55\\\",\\\"2.6\\\",\\\"2.65\\\",\\\"2.7\\\",\\\"2.75\\\",\\\"2.8\\\",\\\"2.85\\\",\\\"2.9\\\",\\\"2.95\\\",\\\"3.0\\\",\\\"3.05\\\",\\\"3.1\\\",\\\"3.15\\\",\\\"3.2\\\",\\\"3.25\\\",\\\"3.3\\\",\\\"3.35\\\",\\\"3.4\\\",\\\"3.45\\\",\\\"3.5\\\",\\\"3.55\\\",\\\"3.6\\\",\\\"3.65\\\",\\\"3.7\\\",\\\"3.75\\\",\\\"3.8\\\",\\\"3.85\\\",\\\"3.9\\\",\\\"3.95\\\",\\\"4.0\\\",\\\"4.05\\\",\\\"4.1\\\",\\\"4.15\\\",\\\"4.2\\\",\\\"4.25\\\",\\\"4.3\\\",\\\"4.35\\\",\\\"4.4\\\",\\\"4.45\\\",\\\"4.5\\\",\\\"4.55\\\",\\\"4.6\\\",\\\"4.65\\\",\\\"4.7\\\",\\\"4.75\\\",\\\"4.8\\\",\\\"4.85\\\",\\\"4.9\\\",\\\"4.95\\\",\\\"5.0\\\",\\\"5.05\\\",\\\"5.1\\\",\\\"5.15\\\",\\\"5.2\\\",\\\"5.25\\\",\\\"5.3\\\",\\\"5.35\\\",\\\"5.4\\\",\\\"5.45\\\",\\\"5.5\\\",\\\"5.55\\\",\\\"5.6\\\",\\\"5.65\\\",\\\"5.7\\\",\\\"5.75\\\",\\\"5.8\\\",\\\"5.85\\\",\\\"5.9\\\",\\\"5.95\\\",\\\"6.0\\\",\\\"6.05\\\",\\\"6.1\\\",\\\"6.15\\\",\\\"6.2\\\",\\\"6.25\\\",\\\"6.3\\\",\\\"6.35\\\",\\\"6.4\\\",\\\"6.45\\\",\\\"6.5\\\",\\\"6.55\\\",\\\"6.6\\\",\\\"6.65\\\",\\\"6.7\\\",\\\"6.75\\\",\\\"6.8\\\",\\\"6.85\\\",\\\"6.9\\\",\\\"6.95\\\",\\\"7.0\\\",\\\"7.05\\\",\\\"7.1\\\",\\\"7.15\\\",\\\"7.2\\\",\\\"7.25\\\",\\\"7.3\\\",\\\"7.35\\\",\\\"7.4\\\",\\\"7.45\\\",\\\"7.5\\\",\\\"7.55\\\",\\\"7.6\\\",\\\"7.65\\\",\\\"7.7\\\",\\\"7.75\\\",\\\"7.8\\\",\\\"7.85\\\",\\\"7.9\\\",\\\"7.95\\\",\\\"8.0\\\"],\\\"changes\\\":WebIO.getval({\\\"name\\\":\\\"changes\\\",\\\"scope\\\":\\\"10530403326445233313\\\",\\\"id\\\":\\\"7618660036659061609\\\",\\\"type\\\":\\\"observable\\\"}),\\\"index\\\":WebIO.getval({\\\"name\\\":\\\"index\\\",\\\"scope\\\":\\\"10530403326445233313\\\",\\\"id\\\":\\\"18160591427751385157\\\",\\\"type\\\":\\\"observable\\\"})};\\n    var self = this;\\n    function AppViewModel() {\\n        for (var key in json_data) {\\n            var el = json_data[key];\\n            this[key] = Array.isArray(el) ? ko.observableArray(el) : ko.observable(el);\\n        }\\n        \\n        [this[\\\"formatted_val\\\"]=ko.computed(    function(){\\n        return this.formatted_vals()[parseInt(this.index())-(1)];\\n    }\\n,this)]\\n        [this[\\\"changes\\\"].subscribe((function (val){!(this.valueFromJulia[\\\"changes\\\"]) ? (WebIO.setval({\\\"name\\\":\\\"changes\\\",\\\"scope\\\":\\\"10530403326445233313\\\",\\\"id\\\":\\\"7618660036659061609\\\",\\\"type\\\":\\\"observable\\\"},val)) : undefined; return this.valueFromJulia[\\\"changes\\\"]=false}),self),this[\\\"index\\\"].subscribe((function (val){!(this.valueFromJulia[\\\"index\\\"]) ? (WebIO.setval({\\\"name\\\":\\\"index\\\",\\\"scope\\\":\\\"10530403326445233313\\\",\\\"id\\\":\\\"18160591427751385157\\\",\\\"type\\\":\\\"observable\\\"},val)) : undefined; return this.valueFromJulia[\\\"index\\\"]=false}),self)]\\n        \\n    }\\n    self.model = new AppViewModel();\\n    self.valueFromJulia = {};\\n    for (var key in json_data) {\\n        self.valueFromJulia[key] = false;\\n    }\\n    ko.applyBindings(self.model, self.dom);\\n}\\n);\\n    (WebIO.importBlock({\\\"data\\\":[{\\\"name\\\":\\\"knockout\\\",\\\"type\\\":\\\"js\\\",\\\"url\\\":\\\"/assetserver/2712bb0a7395d062608c2f218a74b700f6c76b99-knockout.js\\\"},{\\\"name\\\":\\\"knockout_punches\\\",\\\"type\\\":\\\"js\\\",\\\"url\\\":\\\"/assetserver/fb4445501a2be4ab82176667f844e40da26fa007-knockout_punches.js\\\"}],\\\"type\\\":\\\"async_block\\\"})).then((imports) => handler.apply(this, imports));\\n}\\n\")])], Dict{Symbol, Any}(:className => \"field interact-widget\")), Node{WebIO.DOM}(WebIO.DOM(:html, :div), Any[Scope(Node{WebIO.DOM}(WebIO.DOM(:html, :div), Any[Node{WebIO.DOM}(WebIO.DOM(:html, :div), Any[Node{WebIO.DOM}(WebIO.DOM(:html, :label), Any[\"tmax\"], Dict{Symbol, Any}(:className => \"interact \", :style => Dict{Any, Any}(:padding => \"5px 10px 0px 10px\")))], Dict{Symbol, Any}(:className => \"interact-flex-row-left\")), Node{WebIO.DOM}(WebIO.DOM(:html, :div), Any[Node{WebIO.DOM}(WebIO.DOM(:html, :input), Any[], Dict{Symbol, Any}(:max => 19, :min => 1, :attributes => Dict{Any, Any}(:type => \"range\", Symbol(\"data-bind\") => \"numericValue: index, valueUpdate: 'input', event: {change: function (){this.changes(this.changes()+1)}}\", \"orient\" => \"horizontal\"), :step => 1, :className => \"slider slider is-fullwidth\", :style => Dict{Any, Any}()))], Dict{Symbol, Any}(:className => \"interact-flex-row-center\")), Node{WebIO.DOM}(WebIO.DOM(:html, :div), Any[Node{WebIO.DOM}(WebIO.DOM(:html, :p), Any[], Dict{Symbol, Any}(:attributes => Dict(\"data-bind\" => \"text: formatted_val\")))], Dict{Symbol, Any}(:className => \"interact-flex-row-right\"))], Dict{Symbol, Any}(:className => \"interact-flex-row interact-widget\")), Dict{String, Tuple{Observables.AbstractObservable, Union{Nothing, Bool}}}(\"changes\" => (Observable{Int64} with 1 listeners. Value:\n",
       "0, nothing), \"index\" => (Observable{Any} with 2 listeners. Value:\n",
       "10, nothing)), Set{String}(), nothing, Asset[Asset(\"js\", \"knockout\", \"C:\\\\Users\\\\Camilo\\\\.julia\\\\packages\\\\Knockout\\\\3gjS1\\\\src\\\\..\\\\assets\\\\knockout.js\"), Asset(\"js\", \"knockout_punches\", \"C:\\\\Users\\\\Camilo\\\\.julia\\\\packages\\\\Knockout\\\\3gjS1\\\\src\\\\..\\\\assets\\\\knockout_punches.js\"), Asset(\"js\", nothing, \"C:\\\\Users\\\\Camilo\\\\.julia\\\\packages\\\\InteractBase\\\\h8Fwe\\\\src\\\\..\\\\assets\\\\all.js\"), Asset(\"css\", nothing, \"C:\\\\Users\\\\Camilo\\\\.julia\\\\packages\\\\InteractBase\\\\h8Fwe\\\\src\\\\..\\\\assets\\\\style.css\"), Asset(\"css\", nothing, \"C:\\\\Users\\\\Camilo\\\\.julia\\\\packages\\\\Interact\\\\pVyN2\\\\src\\\\..\\\\assets\\\\bulma_confined.min.css\")], Dict{Any, Any}(\"changes\" => Any[WebIO.JSString(\"(function (val){return (val!=this.model[\\\"changes\\\"]()) ? (this.valueFromJulia[\\\"changes\\\"]=true, this.model[\\\"changes\\\"](val)) : undefined})\")], \"index\" => Any[WebIO.JSString(\"(function (val){return (val!=this.model[\\\"index\\\"]()) ? (this.valueFromJulia[\\\"index\\\"]=true, this.model[\\\"index\\\"](val)) : undefined})\")]), WebIO.ConnectionPool(Channel{Any}(32), Set{AbstractConnection}(), Condition(Base.InvasiveLinkedList{Task}(Task (runnable) @0x00000000973e84c0, Task (runnable) @0x00000000973e84c0), Base.AlwaysLockedST(1))), WebIO.JSString[WebIO.JSString(\"function () {\\n    var handler = (function (ko, koPunches) {\\n    ko.punches.enableAll();\\n    ko.bindingHandlers.numericValue = {\\n        init: function(element, valueAccessor, allBindings, data, context) {\\n            var stringified = ko.observable(ko.unwrap(valueAccessor()));\\n            stringified.subscribe(function(value) {\\n                var val = parseFloat(value);\\n                if (!isNaN(val)) {\\n                    valueAccessor()(val);\\n                }\\n            });\\n            valueAccessor().subscribe(function(value) {\\n                var str = JSON.stringify(value);\\n                if ((str == \\\"0\\\") && ([\\\"-0\\\", \\\"-0.\\\"].indexOf(stringified()) >= 0))\\n                     return;\\n                 if ([\\\"null\\\", \\\"\\\"].indexOf(str) >= 0)\\n                     return;\\n                stringified(str);\\n            });\\n            ko.applyBindingsToNode(\\n                element,\\n                {\\n                    value: stringified,\\n                    valueUpdate: allBindings.get('valueUpdate'),\\n                },\\n                context,\\n            );\\n        }\\n    };\\n    var json_data = {\\\"formatted_vals\\\":[\\\"10.0\\\",\\\"15.0\\\",\\\"20.0\\\",\\\"25.0\\\",\\\"30.0\\\",\\\"35.0\\\",\\\"40.0\\\",\\\"45.0\\\",\\\"50.0\\\",\\\"55.0\\\",\\\"60.0\\\",\\\"65.0\\\",\\\"70.0\\\",\\\"75.0\\\",\\\"80.0\\\",\\\"85.0\\\",\\\"90.0\\\",\\\"95.0\\\",\\\"100.0\\\"],\\\"changes\\\":WebIO.getval({\\\"name\\\":\\\"changes\\\",\\\"scope\\\":\\\"7530506498587899991\\\",\\\"id\\\":\\\"6137414311233097902\\\",\\\"type\\\":\\\"observable\\\"}),\\\"index\\\":WebIO.getval({\\\"name\\\":\\\"index\\\",\\\"scope\\\":\\\"7530506498587899991\\\",\\\"id\\\":\\\"17064971147210094783\\\",\\\"type\\\":\\\"observable\\\"})};\\n    var self = this;\\n    function AppViewModel() {\\n        for (var key in json_data) {\\n            var el = json_data[key];\\n            this[key] = Array.isArray(el) ? ko.observableArray(el) : ko.observable(el);\\n        }\\n        \\n        [this[\\\"formatted_val\\\"]=ko.computed(    function(){\\n        return this.formatted_vals()[parseInt(this.index())-(1)];\\n    }\\n,this)]\\n        [this[\\\"changes\\\"].subscribe((function (val){!(this.valueFromJulia[\\\"changes\\\"]) ? (WebIO.setval({\\\"name\\\":\\\"changes\\\",\\\"scope\\\":\\\"7530506498587899991\\\",\\\"id\\\":\\\"6137414311233097902\\\",\\\"type\\\":\\\"observable\\\"},val)) : undefined; return this.valueFromJulia[\\\"changes\\\"]=false}),self),this[\\\"index\\\"].subscribe((function (val){!(this.valueFromJulia[\\\"index\\\"]) ? (WebIO.setval({\\\"name\\\":\\\"index\\\",\\\"scope\\\":\\\"7530506498587899991\\\",\\\"id\\\":\\\"17064971147210094783\\\",\\\"type\\\":\\\"observable\\\"},val)) : undefined; return this.valueFromJulia[\\\"index\\\"]=false}),self)]\\n        \\n    }\\n    self.model = new AppViewModel();\\n    self.valueFromJulia = {};\\n    for (var key in json_data) {\\n        self.valueFromJulia[key] = false;\\n    }\\n    ko.applyBindings(self.model, self.dom);\\n}\\n);\\n    (WebIO.importBlock({\\\"data\\\":[{\\\"name\\\":\\\"knockout\\\",\\\"type\\\":\\\"js\\\",\\\"url\\\":\\\"/assetserver/2712bb0a7395d062608c2f218a74b700f6c76b99-knockout.js\\\"},{\\\"name\\\":\\\"knockout_punches\\\",\\\"type\\\":\\\"js\\\",\\\"url\\\":\\\"/assetserver/fb4445501a2be4ab82176667f844e40da26fa007-knockout_punches.js\\\"}],\\\"type\\\":\\\"async_block\\\"})).then((imports) => handler.apply(this, imports));\\n}\\n\")])], Dict{Symbol, Any}(:className => \"field interact-widget\")), Observable{Node{WebIO.DOM}} with 0 listeners. Value:\n",
       "Node{WebIO.DOM}(WebIO.DOM(:html, :div), Any[Plot{Plots.GRBackend() n=4}], Dict{Symbol, Any}(:className => \"interact-flex-row interact-widget\"))], Dict{Symbol, Any}())"
      ]
     },
     "execution_count": 42,
     "metadata": {
      "application/vnd.webio.node+json": {
       "kernelId": "81a88d82-5ed9-4b0d-9485-a124bd6b829e"
      }
     },
     "output_type": "execute_result"
    }
   ],
   "source": [
    "@manipulate throttle=.05 for R=0:0.02:2.0,K=0:0.1:10.0,P=0:0.01:2.0,x0=0:0.05:8.0,tmax=10.0:5.0:100.0\n",
    "    flux1D(logoutbreak,x0,tmax,[R,K,P];xlims=[-0.2,8.0])\n",
    "end"
   ]
  },
  {
   "cell_type": "markdown",
   "id": "34a82654",
   "metadata": {
    "ExecuteTime": {
     "end_time": "2022-01-21T00:12:27.490000-03:00",
     "start_time": "2022-01-21T03:12:27.485Z"
    }
   },
   "source": [
    "## Diagrama de bifurcaciones Logistica con Outbreak. Doble Nodo Silla\n",
    "\n",
    "En este caso tenemos dos bifurcaciones SN que ocurren en direcciones opuestas "
   ]
  },
  {
   "cell_type": "code",
   "execution_count": 43,
   "id": "5300237f",
   "metadata": {
    "ExecuteTime": {
     "end_time": "2022-01-27T02:15:33.776000-03:00",
     "start_time": "2022-01-27T05:15:32.678Z"
    }
   },
   "outputs": [
    {
     "data": {
      "image/svg+xml": [
       "<?xml version=\"1.0\" encoding=\"utf-8\"?>\n",
       "<svg xmlns=\"http://www.w3.org/2000/svg\" xmlns:xlink=\"http://www.w3.org/1999/xlink\" width=\"600\" height=\"400\" viewBox=\"0 0 2400 1600\">\n",
       "<defs>\n",
       "  <clipPath id=\"clip250\">\n",
       "    <rect x=\"0\" y=\"0\" width=\"2400\" height=\"1600\"/>\n",
       "  </clipPath>\n",
       "</defs>\n",
       "<path clip-path=\"url(#clip250)\" d=\"\n",
       "M0 1600 L2400 1600 L2400 0 L0 0  Z\n",
       "  \" fill=\"#ffffff\" fill-rule=\"evenodd\" fill-opacity=\"1\"/>\n",
       "<defs>\n",
       "  <clipPath id=\"clip251\">\n",
       "    <rect x=\"480\" y=\"0\" width=\"1681\" height=\"1600\"/>\n",
       "  </clipPath>\n",
       "</defs>\n",
       "<path clip-path=\"url(#clip250)\" d=\"\n",
       "M175.445 1423.18 L2352.76 1423.18 L2352.76 47.2441 L175.445 47.2441  Z\n",
       "  \" fill=\"#ffffff\" fill-rule=\"evenodd\" fill-opacity=\"1\"/>\n",
       "<defs>\n",
       "  <clipPath id=\"clip252\">\n",
       "    <rect x=\"175\" y=\"47\" width=\"2178\" height=\"1377\"/>\n",
       "  </clipPath>\n",
       "</defs>\n",
       "<polyline clip-path=\"url(#clip252)\" style=\"stroke:#000000; stroke-linecap:butt; stroke-linejoin:round; stroke-width:2; stroke-opacity:0.1; fill:none\" points=\"\n",
       "  237.067,1423.18 237.067,47.2441 \n",
       "  \"/>\n",
       "<polyline clip-path=\"url(#clip252)\" style=\"stroke:#000000; stroke-linecap:butt; stroke-linejoin:round; stroke-width:2; stroke-opacity:0.1; fill:none\" points=\"\n",
       "  750.584,1423.18 750.584,47.2441 \n",
       "  \"/>\n",
       "<polyline clip-path=\"url(#clip252)\" style=\"stroke:#000000; stroke-linecap:butt; stroke-linejoin:round; stroke-width:2; stroke-opacity:0.1; fill:none\" points=\"\n",
       "  1264.1,1423.18 1264.1,47.2441 \n",
       "  \"/>\n",
       "<polyline clip-path=\"url(#clip252)\" style=\"stroke:#000000; stroke-linecap:butt; stroke-linejoin:round; stroke-width:2; stroke-opacity:0.1; fill:none\" points=\"\n",
       "  1777.62,1423.18 1777.62,47.2441 \n",
       "  \"/>\n",
       "<polyline clip-path=\"url(#clip252)\" style=\"stroke:#000000; stroke-linecap:butt; stroke-linejoin:round; stroke-width:2; stroke-opacity:0.1; fill:none\" points=\"\n",
       "  2291.13,1423.18 2291.13,47.2441 \n",
       "  \"/>\n",
       "<polyline clip-path=\"url(#clip250)\" style=\"stroke:#000000; stroke-linecap:butt; stroke-linejoin:round; stroke-width:4; stroke-opacity:1; fill:none\" points=\"\n",
       "  175.445,1423.18 2352.76,1423.18 \n",
       "  \"/>\n",
       "<polyline clip-path=\"url(#clip250)\" style=\"stroke:#000000; stroke-linecap:butt; stroke-linejoin:round; stroke-width:4; stroke-opacity:1; fill:none\" points=\"\n",
       "  237.067,1423.18 237.067,1404.28 \n",
       "  \"/>\n",
       "<polyline clip-path=\"url(#clip250)\" style=\"stroke:#000000; stroke-linecap:butt; stroke-linejoin:round; stroke-width:4; stroke-opacity:1; fill:none\" points=\"\n",
       "  750.584,1423.18 750.584,1404.28 \n",
       "  \"/>\n",
       "<polyline clip-path=\"url(#clip250)\" style=\"stroke:#000000; stroke-linecap:butt; stroke-linejoin:round; stroke-width:4; stroke-opacity:1; fill:none\" points=\"\n",
       "  1264.1,1423.18 1264.1,1404.28 \n",
       "  \"/>\n",
       "<polyline clip-path=\"url(#clip250)\" style=\"stroke:#000000; stroke-linecap:butt; stroke-linejoin:round; stroke-width:4; stroke-opacity:1; fill:none\" points=\"\n",
       "  1777.62,1423.18 1777.62,1404.28 \n",
       "  \"/>\n",
       "<polyline clip-path=\"url(#clip250)\" style=\"stroke:#000000; stroke-linecap:butt; stroke-linejoin:round; stroke-width:4; stroke-opacity:1; fill:none\" points=\"\n",
       "  2291.13,1423.18 2291.13,1404.28 \n",
       "  \"/>\n",
       "<path clip-path=\"url(#clip250)\" d=\"M214.371 1454.1 Q210.759 1454.1 208.931 1457.66 Q207.125 1461.2 207.125 1468.33 Q207.125 1475.44 208.931 1479.01 Q210.759 1482.55 214.371 1482.55 Q218.005 1482.55 219.81 1479.01 Q221.639 1475.44 221.639 1468.33 Q221.639 1461.2 219.81 1457.66 Q218.005 1454.1 214.371 1454.1 M214.371 1450.39 Q220.181 1450.39 223.236 1455 Q226.315 1459.58 226.315 1468.33 Q226.315 1477.06 223.236 1481.67 Q220.181 1486.25 214.371 1486.25 Q208.56 1486.25 205.482 1481.67 Q202.426 1477.06 202.426 1468.33 Q202.426 1459.58 205.482 1455 Q208.56 1450.39 214.371 1450.39 Z\" fill=\"#000000\" fill-rule=\"evenodd\" fill-opacity=\"1\" /><path clip-path=\"url(#clip250)\" d=\"M234.532 1479.7 L239.417 1479.7 L239.417 1485.58 L234.532 1485.58 L234.532 1479.7 Z\" fill=\"#000000\" fill-rule=\"evenodd\" fill-opacity=\"1\" /><path clip-path=\"url(#clip250)\" d=\"M260.181 1466.44 Q257.032 1466.44 255.181 1468.59 Q253.352 1470.74 253.352 1474.49 Q253.352 1478.22 255.181 1480.39 Q257.032 1482.55 260.181 1482.55 Q263.329 1482.55 265.157 1480.39 Q267.009 1478.22 267.009 1474.49 Q267.009 1470.74 265.157 1468.59 Q263.329 1466.44 260.181 1466.44 M269.463 1451.78 L269.463 1456.04 Q267.704 1455.21 265.898 1454.77 Q264.116 1454.33 262.356 1454.33 Q257.727 1454.33 255.273 1457.45 Q252.843 1460.58 252.495 1466.9 Q253.861 1464.89 255.921 1463.82 Q257.981 1462.73 260.458 1462.73 Q265.667 1462.73 268.676 1465.9 Q271.708 1469.05 271.708 1474.49 Q271.708 1479.82 268.56 1483.03 Q265.412 1486.25 260.181 1486.25 Q254.185 1486.25 251.014 1481.67 Q247.843 1477.06 247.843 1468.33 Q247.843 1460.14 251.731 1455.28 Q255.62 1450.39 262.171 1450.39 Q263.93 1450.39 265.713 1450.74 Q267.518 1451.09 269.463 1451.78 Z\" fill=\"#000000\" fill-rule=\"evenodd\" fill-opacity=\"1\" /><path clip-path=\"url(#clip250)\" d=\"M728.015 1454.1 Q724.403 1454.1 722.575 1457.66 Q720.769 1461.2 720.769 1468.33 Q720.769 1475.44 722.575 1479.01 Q724.403 1482.55 728.015 1482.55 Q731.649 1482.55 733.454 1479.01 Q735.283 1475.44 735.283 1468.33 Q735.283 1461.2 733.454 1457.66 Q731.649 1454.1 728.015 1454.1 M728.015 1450.39 Q733.825 1450.39 736.88 1455 Q739.959 1459.58 739.959 1468.33 Q739.959 1477.06 736.88 1481.67 Q733.825 1486.25 728.015 1486.25 Q722.204 1486.25 719.126 1481.67 Q716.07 1477.06 716.07 1468.33 Q716.07 1459.58 719.126 1455 Q722.204 1450.39 728.015 1450.39 Z\" fill=\"#000000\" fill-rule=\"evenodd\" fill-opacity=\"1\" /><path clip-path=\"url(#clip250)\" d=\"M748.176 1479.7 L753.061 1479.7 L753.061 1485.58 L748.176 1485.58 L748.176 1479.7 Z\" fill=\"#000000\" fill-rule=\"evenodd\" fill-opacity=\"1\" /><path clip-path=\"url(#clip250)\" d=\"M773.246 1469.17 Q769.912 1469.17 767.991 1470.95 Q766.093 1472.73 766.093 1475.86 Q766.093 1478.98 767.991 1480.77 Q769.912 1482.55 773.246 1482.55 Q776.579 1482.55 778.5 1480.77 Q780.422 1478.96 780.422 1475.86 Q780.422 1472.73 778.5 1470.95 Q776.602 1469.17 773.246 1469.17 M768.57 1467.18 Q765.561 1466.44 763.871 1464.38 Q762.204 1462.32 762.204 1459.35 Q762.204 1455.21 765.144 1452.8 Q768.107 1450.39 773.246 1450.39 Q778.408 1450.39 781.348 1452.8 Q784.287 1455.21 784.287 1459.35 Q784.287 1462.32 782.598 1464.38 Q780.931 1466.44 777.945 1467.18 Q781.324 1467.96 783.199 1470.26 Q785.098 1472.55 785.098 1475.86 Q785.098 1480.88 782.019 1483.57 Q778.963 1486.25 773.246 1486.25 Q767.528 1486.25 764.45 1483.57 Q761.394 1480.88 761.394 1475.86 Q761.394 1472.55 763.292 1470.26 Q765.19 1467.96 768.57 1467.18 M766.857 1459.79 Q766.857 1462.48 768.524 1463.98 Q770.213 1465.49 773.246 1465.49 Q776.255 1465.49 777.945 1463.98 Q779.658 1462.48 779.658 1459.79 Q779.658 1457.11 777.945 1455.6 Q776.255 1454.1 773.246 1454.1 Q770.213 1454.1 768.524 1455.6 Q766.857 1457.11 766.857 1459.79 Z\" fill=\"#000000\" fill-rule=\"evenodd\" fill-opacity=\"1\" /><path clip-path=\"url(#clip250)\" d=\"M1231.25 1481.64 L1238.89 1481.64 L1238.89 1455.28 L1230.58 1456.95 L1230.58 1452.69 L1238.85 1451.02 L1243.52 1451.02 L1243.52 1481.64 L1251.16 1481.64 L1251.16 1485.58 L1231.25 1485.58 L1231.25 1481.64 Z\" fill=\"#000000\" fill-rule=\"evenodd\" fill-opacity=\"1\" /><path clip-path=\"url(#clip250)\" d=\"M1260.61 1479.7 L1265.49 1479.7 L1265.49 1485.58 L1260.61 1485.58 L1260.61 1479.7 Z\" fill=\"#000000\" fill-rule=\"evenodd\" fill-opacity=\"1\" /><path clip-path=\"url(#clip250)\" d=\"M1285.67 1454.1 Q1282.06 1454.1 1280.23 1457.66 Q1278.43 1461.2 1278.43 1468.33 Q1278.43 1475.44 1280.23 1479.01 Q1282.06 1482.55 1285.67 1482.55 Q1289.31 1482.55 1291.11 1479.01 Q1292.94 1475.44 1292.94 1468.33 Q1292.94 1461.2 1291.11 1457.66 Q1289.31 1454.1 1285.67 1454.1 M1285.67 1450.39 Q1291.48 1450.39 1294.54 1455 Q1297.62 1459.58 1297.62 1468.33 Q1297.62 1477.06 1294.54 1481.67 Q1291.48 1486.25 1285.67 1486.25 Q1279.86 1486.25 1276.79 1481.67 Q1273.73 1477.06 1273.73 1468.33 Q1273.73 1459.58 1276.79 1455 Q1279.86 1450.39 1285.67 1450.39 Z\" fill=\"#000000\" fill-rule=\"evenodd\" fill-opacity=\"1\" /><path clip-path=\"url(#clip250)\" d=\"M1745.57 1481.64 L1753.21 1481.64 L1753.21 1455.28 L1744.9 1456.95 L1744.9 1452.69 L1753.16 1451.02 L1757.84 1451.02 L1757.84 1481.64 L1765.48 1481.64 L1765.48 1485.58 L1745.57 1485.58 L1745.57 1481.64 Z\" fill=\"#000000\" fill-rule=\"evenodd\" fill-opacity=\"1\" /><path clip-path=\"url(#clip250)\" d=\"M1774.92 1479.7 L1779.8 1479.7 L1779.8 1485.58 L1774.92 1485.58 L1774.92 1479.7 Z\" fill=\"#000000\" fill-rule=\"evenodd\" fill-opacity=\"1\" /><path clip-path=\"url(#clip250)\" d=\"M1794.02 1481.64 L1810.34 1481.64 L1810.34 1485.58 L1788.39 1485.58 L1788.39 1481.64 Q1791.05 1478.89 1795.64 1474.26 Q1800.24 1469.61 1801.42 1468.27 Q1803.67 1465.74 1804.55 1464.01 Q1805.45 1462.25 1805.45 1460.56 Q1805.45 1457.8 1803.51 1456.07 Q1801.59 1454.33 1798.49 1454.33 Q1796.29 1454.33 1793.83 1455.09 Q1791.4 1455.86 1788.62 1457.41 L1788.62 1452.69 Q1791.45 1451.55 1793.9 1450.97 Q1796.36 1450.39 1798.39 1450.39 Q1803.76 1450.39 1806.96 1453.08 Q1810.15 1455.77 1810.15 1460.26 Q1810.15 1462.39 1809.34 1464.31 Q1808.55 1466.2 1806.45 1468.8 Q1805.87 1469.47 1802.77 1472.69 Q1799.67 1475.88 1794.02 1481.64 Z\" fill=\"#000000\" fill-rule=\"evenodd\" fill-opacity=\"1\" /><path clip-path=\"url(#clip250)\" d=\"M2258.04 1481.64 L2265.68 1481.64 L2265.68 1455.28 L2257.37 1456.95 L2257.37 1452.69 L2265.64 1451.02 L2270.31 1451.02 L2270.31 1481.64 L2277.95 1481.64 L2277.95 1485.58 L2258.04 1485.58 L2258.04 1481.64 Z\" fill=\"#000000\" fill-rule=\"evenodd\" fill-opacity=\"1\" /><path clip-path=\"url(#clip250)\" d=\"M2287.4 1479.7 L2292.28 1479.7 L2292.28 1485.58 L2287.4 1485.58 L2287.4 1479.7 Z\" fill=\"#000000\" fill-rule=\"evenodd\" fill-opacity=\"1\" /><path clip-path=\"url(#clip250)\" d=\"M2315.31 1455.09 L2303.51 1473.54 L2315.31 1473.54 L2315.31 1455.09 M2314.09 1451.02 L2319.96 1451.02 L2319.96 1473.54 L2324.9 1473.54 L2324.9 1477.43 L2319.96 1477.43 L2319.96 1485.58 L2315.31 1485.58 L2315.31 1477.43 L2299.71 1477.43 L2299.71 1472.92 L2314.09 1451.02 Z\" fill=\"#000000\" fill-rule=\"evenodd\" fill-opacity=\"1\" /><path clip-path=\"url(#clip250)\" d=\"M1254.04 1562.7 L1254.04 1581.6 L1248.15 1581.6 L1248.15 1532.4 L1254.04 1532.4 L1254.04 1537.81 Q1255.89 1534.62 1258.69 1533.1 Q1261.52 1531.54 1265.44 1531.54 Q1271.93 1531.54 1275.97 1536.69 Q1280.05 1541.85 1280.05 1550.25 Q1280.05 1558.65 1275.97 1563.81 Q1271.93 1568.97 1265.44 1568.97 Q1261.52 1568.97 1258.69 1567.44 Q1255.89 1565.88 1254.04 1562.7 M1273.97 1550.25 Q1273.97 1543.79 1271.29 1540.13 Q1268.65 1536.44 1264.01 1536.44 Q1259.36 1536.44 1256.68 1540.13 Q1254.04 1543.79 1254.04 1550.25 Q1254.04 1556.71 1256.68 1560.4 Q1259.36 1564.07 1264.01 1564.07 Q1268.65 1564.07 1271.29 1560.4 Q1273.97 1556.71 1273.97 1550.25 Z\" fill=\"#000000\" fill-rule=\"evenodd\" fill-opacity=\"1\" /><polyline clip-path=\"url(#clip252)\" style=\"stroke:#000000; stroke-linecap:butt; stroke-linejoin:round; stroke-width:2; stroke-opacity:0.1; fill:none\" points=\"\n",
       "  175.445,1256.5 2352.76,1256.5 \n",
       "  \"/>\n",
       "<polyline clip-path=\"url(#clip252)\" style=\"stroke:#000000; stroke-linecap:butt; stroke-linejoin:round; stroke-width:2; stroke-opacity:0.1; fill:none\" points=\"\n",
       "  175.445,1046.48 2352.76,1046.48 \n",
       "  \"/>\n",
       "<polyline clip-path=\"url(#clip252)\" style=\"stroke:#000000; stroke-linecap:butt; stroke-linejoin:round; stroke-width:2; stroke-opacity:0.1; fill:none\" points=\"\n",
       "  175.445,836.461 2352.76,836.461 \n",
       "  \"/>\n",
       "<polyline clip-path=\"url(#clip252)\" style=\"stroke:#000000; stroke-linecap:butt; stroke-linejoin:round; stroke-width:2; stroke-opacity:0.1; fill:none\" points=\"\n",
       "  175.445,626.441 2352.76,626.441 \n",
       "  \"/>\n",
       "<polyline clip-path=\"url(#clip252)\" style=\"stroke:#000000; stroke-linecap:butt; stroke-linejoin:round; stroke-width:2; stroke-opacity:0.1; fill:none\" points=\"\n",
       "  175.445,416.42 2352.76,416.42 \n",
       "  \"/>\n",
       "<polyline clip-path=\"url(#clip252)\" style=\"stroke:#000000; stroke-linecap:butt; stroke-linejoin:round; stroke-width:2; stroke-opacity:0.1; fill:none\" points=\"\n",
       "  175.445,206.4 2352.76,206.4 \n",
       "  \"/>\n",
       "<polyline clip-path=\"url(#clip250)\" style=\"stroke:#000000; stroke-linecap:butt; stroke-linejoin:round; stroke-width:4; stroke-opacity:1; fill:none\" points=\"\n",
       "  175.445,1423.18 175.445,47.2441 \n",
       "  \"/>\n",
       "<polyline clip-path=\"url(#clip250)\" style=\"stroke:#000000; stroke-linecap:butt; stroke-linejoin:round; stroke-width:4; stroke-opacity:1; fill:none\" points=\"\n",
       "  175.445,1256.5 194.343,1256.5 \n",
       "  \"/>\n",
       "<polyline clip-path=\"url(#clip250)\" style=\"stroke:#000000; stroke-linecap:butt; stroke-linejoin:round; stroke-width:4; stroke-opacity:1; fill:none\" points=\"\n",
       "  175.445,1046.48 194.343,1046.48 \n",
       "  \"/>\n",
       "<polyline clip-path=\"url(#clip250)\" style=\"stroke:#000000; stroke-linecap:butt; stroke-linejoin:round; stroke-width:4; stroke-opacity:1; fill:none\" points=\"\n",
       "  175.445,836.461 194.343,836.461 \n",
       "  \"/>\n",
       "<polyline clip-path=\"url(#clip250)\" style=\"stroke:#000000; stroke-linecap:butt; stroke-linejoin:round; stroke-width:4; stroke-opacity:1; fill:none\" points=\"\n",
       "  175.445,626.441 194.343,626.441 \n",
       "  \"/>\n",
       "<polyline clip-path=\"url(#clip250)\" style=\"stroke:#000000; stroke-linecap:butt; stroke-linejoin:round; stroke-width:4; stroke-opacity:1; fill:none\" points=\"\n",
       "  175.445,416.42 194.343,416.42 \n",
       "  \"/>\n",
       "<polyline clip-path=\"url(#clip250)\" style=\"stroke:#000000; stroke-linecap:butt; stroke-linejoin:round; stroke-width:4; stroke-opacity:1; fill:none\" points=\"\n",
       "  175.445,206.4 194.343,206.4 \n",
       "  \"/>\n",
       "<path clip-path=\"url(#clip250)\" d=\"M119.538 1269.85 L127.177 1269.85 L127.177 1243.48 L118.867 1245.15 L118.867 1240.89 L127.13 1239.22 L131.806 1239.22 L131.806 1269.85 L139.445 1269.85 L139.445 1273.78 L119.538 1273.78 L119.538 1269.85 Z\" fill=\"#000000\" fill-rule=\"evenodd\" fill-opacity=\"1\" /><path clip-path=\"url(#clip250)\" d=\"M123.126 1059.83 L139.445 1059.83 L139.445 1063.76 L117.501 1063.76 L117.501 1059.83 Q120.163 1057.07 124.746 1052.44 Q129.353 1047.79 130.533 1046.45 Q132.779 1043.92 133.658 1042.19 Q134.561 1040.43 134.561 1038.74 Q134.561 1035.98 132.617 1034.25 Q130.695 1032.51 127.593 1032.51 Q125.394 1032.51 122.941 1033.28 Q120.51 1034.04 117.732 1035.59 L117.732 1030.87 Q120.556 1029.73 123.01 1029.15 Q125.464 1028.58 127.501 1028.58 Q132.871 1028.58 136.066 1031.26 Q139.26 1033.95 139.26 1038.44 Q139.26 1040.57 138.45 1042.49 Q137.663 1044.39 135.556 1046.98 Q134.978 1047.65 131.876 1050.87 Q128.774 1054.06 123.126 1059.83 Z\" fill=\"#000000\" fill-rule=\"evenodd\" fill-opacity=\"1\" /><path clip-path=\"url(#clip250)\" d=\"M132.316 835.107 Q135.672 835.824 137.547 838.093 Q139.445 840.361 139.445 843.695 Q139.445 848.81 135.927 851.611 Q132.408 854.412 125.927 854.412 Q123.751 854.412 121.436 853.972 Q119.144 853.556 116.691 852.699 L116.691 848.185 Q118.635 849.32 120.95 849.898 Q123.265 850.477 125.788 850.477 Q130.186 850.477 132.478 848.741 Q134.792 847.005 134.792 843.695 Q134.792 840.639 132.64 838.926 Q130.51 837.19 126.691 837.19 L122.663 837.19 L122.663 833.348 L126.876 833.348 Q130.325 833.348 132.154 831.982 Q133.982 830.593 133.982 828 Q133.982 825.338 132.084 823.926 Q130.209 822.491 126.691 822.491 Q124.769 822.491 122.57 822.908 Q120.371 823.324 117.732 824.204 L117.732 820.037 Q120.394 819.297 122.709 818.926 Q125.047 818.556 127.107 818.556 Q132.431 818.556 135.533 820.986 Q138.635 823.394 138.635 827.514 Q138.635 830.385 136.992 832.375 Q135.348 834.343 132.316 835.107 Z\" fill=\"#000000\" fill-rule=\"evenodd\" fill-opacity=\"1\" /><path clip-path=\"url(#clip250)\" d=\"M129.862 613.235 L118.056 631.684 L129.862 631.684 L129.862 613.235 M128.635 609.161 L134.515 609.161 L134.515 631.684 L139.445 631.684 L139.445 635.573 L134.515 635.573 L134.515 643.721 L129.862 643.721 L129.862 635.573 L114.26 635.573 L114.26 631.059 L128.635 609.161 Z\" fill=\"#000000\" fill-rule=\"evenodd\" fill-opacity=\"1\" /><path clip-path=\"url(#clip250)\" d=\"M118.543 399.14 L136.899 399.14 L136.899 403.076 L122.825 403.076 L122.825 411.548 Q123.843 411.2 124.862 411.038 Q125.88 410.853 126.899 410.853 Q132.686 410.853 136.066 414.025 Q139.445 417.196 139.445 422.612 Q139.445 428.191 135.973 431.293 Q132.501 434.372 126.181 434.372 Q124.005 434.372 121.737 434.001 Q119.492 433.631 117.084 432.89 L117.084 428.191 Q119.168 429.325 121.39 429.881 Q123.612 430.436 126.089 430.436 Q130.093 430.436 132.431 428.33 Q134.769 426.224 134.769 422.612 Q134.769 419.001 132.431 416.895 Q130.093 414.788 126.089 414.788 Q124.214 414.788 122.339 415.205 Q120.487 415.622 118.543 416.501 L118.543 399.14 Z\" fill=\"#000000\" fill-rule=\"evenodd\" fill-opacity=\"1\" /><path clip-path=\"url(#clip250)\" d=\"M127.917 204.537 Q124.769 204.537 122.918 206.689 Q121.089 208.842 121.089 212.592 Q121.089 216.319 122.918 218.495 Q124.769 220.648 127.917 220.648 Q131.066 220.648 132.894 218.495 Q134.746 216.319 134.746 212.592 Q134.746 208.842 132.894 206.689 Q131.066 204.537 127.917 204.537 M137.2 189.884 L137.2 194.143 Q135.441 193.31 133.635 192.87 Q131.853 192.43 130.093 192.43 Q125.464 192.43 123.01 195.555 Q120.58 198.68 120.232 205 Q121.598 202.986 123.658 201.921 Q125.718 200.833 128.195 200.833 Q133.404 200.833 136.413 204.004 Q139.445 207.152 139.445 212.592 Q139.445 217.916 136.297 221.134 Q133.149 224.351 127.917 224.351 Q121.922 224.351 118.751 219.768 Q115.58 215.162 115.58 206.435 Q115.58 198.24 119.468 193.379 Q123.357 188.495 129.908 188.495 Q131.667 188.495 133.45 188.842 Q135.255 189.19 137.2 189.884 Z\" fill=\"#000000\" fill-rule=\"evenodd\" fill-opacity=\"1\" /><path clip-path=\"url(#clip250)\" d=\"M28.3562 718.597 L45.7028 731.488 L64.0042 717.929 L64.0042 724.836 L49.9996 735.212 L64.0042 745.588 L64.0042 752.495 L45.3526 738.649 L28.3562 751.317 L28.3562 744.41 L41.0558 734.957 L28.3562 725.504 L28.3562 718.597 Z\" fill=\"#000000\" fill-rule=\"evenodd\" fill-opacity=\"1\" /><polyline clip-path=\"url(#clip252)\" style=\"stroke:#009af9; stroke-linecap:butt; stroke-linejoin:round; stroke-width:8; stroke-opacity:1; fill:none\" points=\"\n",
       "  237.067,86.1857 248.518,89.0043 \n",
       "  \"/>\n",
       "<polyline clip-path=\"url(#clip252)\" style=\"stroke:#009af9; stroke-linecap:butt; stroke-linejoin:round; stroke-width:8; stroke-opacity:1; fill:none\" points=\"\n",
       "  248.518,89.0043 264.728,93.018 \n",
       "  \"/>\n",
       "<polyline clip-path=\"url(#clip252)\" style=\"stroke:#009af9; stroke-linecap:butt; stroke-linejoin:round; stroke-width:8; stroke-opacity:1; fill:none\" points=\"\n",
       "  264.728,93.018 287.62,98.7352 \n",
       "  \"/>\n",
       "<polyline clip-path=\"url(#clip252)\" style=\"stroke:#009af9; stroke-linecap:butt; stroke-linejoin:round; stroke-width:8; stroke-opacity:1; fill:none\" points=\"\n",
       "  287.62,98.7352 319.839,106.882 \n",
       "  \"/>\n",
       "<polyline clip-path=\"url(#clip252)\" style=\"stroke:#009af9; stroke-linecap:butt; stroke-linejoin:round; stroke-width:8; stroke-opacity:1; fill:none\" points=\"\n",
       "  319.839,106.882 364.96,118.495 \n",
       "  \"/>\n",
       "<polyline clip-path=\"url(#clip252)\" style=\"stroke:#009af9; stroke-linecap:butt; stroke-linejoin:round; stroke-width:8; stroke-opacity:1; fill:none\" points=\"\n",
       "  364.96,118.495 427.68,135.061 \n",
       "  \"/>\n",
       "<polyline clip-path=\"url(#clip252)\" style=\"stroke:#009af9; stroke-linecap:butt; stroke-linejoin:round; stroke-width:8; stroke-opacity:1; fill:none\" points=\"\n",
       "  427.68,135.061 513.882,158.716 \n",
       "  \"/>\n",
       "<polyline clip-path=\"url(#clip252)\" style=\"stroke:#009af9; stroke-linecap:butt; stroke-linejoin:round; stroke-width:8; stroke-opacity:1; fill:none\" points=\"\n",
       "  513.882,158.716 612.787,187.297 \n",
       "  \"/>\n",
       "<polyline clip-path=\"url(#clip252)\" style=\"stroke:#009af9; stroke-linecap:butt; stroke-linejoin:round; stroke-width:8; stroke-opacity:1; fill:none\" points=\"\n",
       "  612.787,187.297 706.341,215.999 \n",
       "  \"/>\n",
       "<polyline clip-path=\"url(#clip252)\" style=\"stroke:#009af9; stroke-linecap:butt; stroke-linejoin:round; stroke-width:8; stroke-opacity:1; fill:none\" points=\"\n",
       "  706.341,215.999 794.468,244.816 \n",
       "  \"/>\n",
       "<polyline clip-path=\"url(#clip252)\" style=\"stroke:#009af9; stroke-linecap:butt; stroke-linejoin:round; stroke-width:8; stroke-opacity:1; fill:none\" points=\"\n",
       "  794.468,244.816 877.098,273.742 \n",
       "  \"/>\n",
       "<polyline clip-path=\"url(#clip252)\" style=\"stroke:#009af9; stroke-linecap:butt; stroke-linejoin:round; stroke-width:8; stroke-opacity:1; fill:none\" points=\"\n",
       "  877.098,273.742 954.167,302.77 \n",
       "  \"/>\n",
       "<polyline clip-path=\"url(#clip252)\" style=\"stroke:#009af9; stroke-linecap:butt; stroke-linejoin:round; stroke-width:8; stroke-opacity:1; fill:none\" points=\"\n",
       "  954.167,302.77 1025.62,331.895 \n",
       "  \"/>\n",
       "<polyline clip-path=\"url(#clip252)\" style=\"stroke:#009af9; stroke-linecap:butt; stroke-linejoin:round; stroke-width:8; stroke-opacity:1; fill:none\" points=\"\n",
       "  1025.62,331.895 1091.41,361.108 \n",
       "  \"/>\n",
       "<polyline clip-path=\"url(#clip252)\" style=\"stroke:#009af9; stroke-linecap:butt; stroke-linejoin:round; stroke-width:8; stroke-opacity:1; fill:none\" points=\"\n",
       "  1091.41,361.108 1151.48,390.404 \n",
       "  \"/>\n",
       "<polyline clip-path=\"url(#clip252)\" style=\"stroke:#009af9; stroke-linecap:butt; stroke-linejoin:round; stroke-width:8; stroke-opacity:1; fill:none\" points=\"\n",
       "  1151.48,390.404 1205.82,419.775 \n",
       "  \"/>\n",
       "<polyline clip-path=\"url(#clip252)\" style=\"stroke:#009af9; stroke-linecap:butt; stroke-linejoin:round; stroke-width:8; stroke-opacity:1; fill:none\" points=\"\n",
       "  1205.82,419.775 1254.39,449.213 \n",
       "  \"/>\n",
       "<polyline clip-path=\"url(#clip252)\" style=\"stroke:#009af9; stroke-linecap:butt; stroke-linejoin:round; stroke-width:8; stroke-opacity:1; fill:none\" points=\"\n",
       "  1254.39,449.213 1297.18,478.712 \n",
       "  \"/>\n",
       "<polyline clip-path=\"url(#clip252)\" style=\"stroke:#009af9; stroke-linecap:butt; stroke-linejoin:round; stroke-width:8; stroke-opacity:1; fill:none\" points=\"\n",
       "  1297.18,478.712 1334.18,508.262 \n",
       "  \"/>\n",
       "<polyline clip-path=\"url(#clip252)\" style=\"stroke:#009af9; stroke-linecap:butt; stroke-linejoin:round; stroke-width:8; stroke-opacity:1; fill:none\" points=\"\n",
       "  1334.18,508.262 1365.41,537.857 \n",
       "  \"/>\n",
       "<polyline clip-path=\"url(#clip252)\" style=\"stroke:#009af9; stroke-linecap:butt; stroke-linejoin:round; stroke-width:8; stroke-opacity:1; fill:none\" points=\"\n",
       "  1365.41,537.857 1390.89,567.489 \n",
       "  \"/>\n",
       "<polyline clip-path=\"url(#clip252)\" style=\"stroke:#009af9; stroke-linecap:butt; stroke-linejoin:round; stroke-width:8; stroke-opacity:1; fill:none\" points=\"\n",
       "  1390.89,567.489 1410.64,597.15 \n",
       "  \"/>\n",
       "<polyline clip-path=\"url(#clip252)\" style=\"stroke:#009af9; stroke-linecap:butt; stroke-linejoin:round; stroke-width:8; stroke-opacity:1; fill:none\" points=\"\n",
       "  1410.64,597.15 1424.72,626.833 \n",
       "  \"/>\n",
       "<polyline clip-path=\"url(#clip252)\" style=\"stroke:#009af9; stroke-linecap:butt; stroke-linejoin:round; stroke-width:8; stroke-opacity:1; fill:none\" points=\"\n",
       "  1424.72,626.833 1433.2,656.53 \n",
       "  \"/>\n",
       "<polyline clip-path=\"url(#clip252)\" style=\"stroke:#009af9; stroke-linecap:butt; stroke-linejoin:round; stroke-width:8; stroke-opacity:1; fill:none\" points=\"\n",
       "  1433.2,656.53 1436.16,686.233 \n",
       "  \"/>\n",
       "<polyline clip-path=\"url(#clip252)\" style=\"stroke:#009af9; stroke-linecap:butt; stroke-linejoin:round; stroke-width:8; stroke-opacity:1; fill:none\" points=\"\n",
       "  1436.16,686.233 1436.17,687.629 \n",
       "  \"/>\n",
       "<polyline clip-path=\"url(#clip252)\" style=\"stroke:#009af9; stroke-linecap:butt; stroke-linejoin:round; stroke-width:4; stroke-opacity:1; fill:none\" points=\"\n",
       "  1436.17,687.629 1433.46,717.33 \n",
       "  \"/>\n",
       "<polyline clip-path=\"url(#clip252)\" style=\"stroke:#009af9; stroke-linecap:butt; stroke-linejoin:round; stroke-width:4; stroke-opacity:1; fill:none\" points=\"\n",
       "  1433.46,717.33 1425.46,747.028 \n",
       "  \"/>\n",
       "<polyline clip-path=\"url(#clip252)\" style=\"stroke:#009af9; stroke-linecap:butt; stroke-linejoin:round; stroke-width:4; stroke-opacity:1; fill:none\" points=\"\n",
       "  1425.46,747.028 1412.34,776.713 \n",
       "  \"/>\n",
       "<polyline clip-path=\"url(#clip252)\" style=\"stroke:#009af9; stroke-linecap:butt; stroke-linejoin:round; stroke-width:4; stroke-opacity:1; fill:none\" points=\"\n",
       "  1412.34,776.713 1394.26,806.38 \n",
       "  \"/>\n",
       "<polyline clip-path=\"url(#clip252)\" style=\"stroke:#009af9; stroke-linecap:butt; stroke-linejoin:round; stroke-width:4; stroke-opacity:1; fill:none\" points=\"\n",
       "  1394.26,806.38 1371.45,836.025 \n",
       "  \"/>\n",
       "<polyline clip-path=\"url(#clip252)\" style=\"stroke:#009af9; stroke-linecap:butt; stroke-linejoin:round; stroke-width:4; stroke-opacity:1; fill:none\" points=\"\n",
       "  1371.45,836.025 1344.17,865.645 \n",
       "  \"/>\n",
       "<polyline clip-path=\"url(#clip252)\" style=\"stroke:#009af9; stroke-linecap:butt; stroke-linejoin:round; stroke-width:4; stroke-opacity:1; fill:none\" points=\"\n",
       "  1344.17,865.645 1312.72,895.237 \n",
       "  \"/>\n",
       "<polyline clip-path=\"url(#clip252)\" style=\"stroke:#009af9; stroke-linecap:butt; stroke-linejoin:round; stroke-width:4; stroke-opacity:1; fill:none\" points=\"\n",
       "  1312.72,895.237 1277.48,924.799 \n",
       "  \"/>\n",
       "<polyline clip-path=\"url(#clip252)\" style=\"stroke:#009af9; stroke-linecap:butt; stroke-linejoin:round; stroke-width:4; stroke-opacity:1; fill:none\" points=\"\n",
       "  1277.48,924.799 1238.89,954.334 \n",
       "  \"/>\n",
       "<polyline clip-path=\"url(#clip252)\" style=\"stroke:#009af9; stroke-linecap:butt; stroke-linejoin:round; stroke-width:4; stroke-opacity:1; fill:none\" points=\"\n",
       "  1238.89,954.334 1197.5,983.842 \n",
       "  \"/>\n",
       "<polyline clip-path=\"url(#clip252)\" style=\"stroke:#009af9; stroke-linecap:butt; stroke-linejoin:round; stroke-width:4; stroke-opacity:1; fill:none\" points=\"\n",
       "  1197.5,983.842 1153.99,1013.33 \n",
       "  \"/>\n",
       "<polyline clip-path=\"url(#clip252)\" style=\"stroke:#009af9; stroke-linecap:butt; stroke-linejoin:round; stroke-width:4; stroke-opacity:1; fill:none\" points=\"\n",
       "  1153.99,1013.33 1109.24,1042.81 \n",
       "  \"/>\n",
       "<polyline clip-path=\"url(#clip252)\" style=\"stroke:#009af9; stroke-linecap:butt; stroke-linejoin:round; stroke-width:4; stroke-opacity:1; fill:none\" points=\"\n",
       "  1109.24,1042.81 1064.36,1072.28 \n",
       "  \"/>\n",
       "<polyline clip-path=\"url(#clip252)\" style=\"stroke:#009af9; stroke-linecap:butt; stroke-linejoin:round; stroke-width:4; stroke-opacity:1; fill:none\" points=\"\n",
       "  1064.36,1072.28 1020.83,1101.77 \n",
       "  \"/>\n",
       "<polyline clip-path=\"url(#clip252)\" style=\"stroke:#009af9; stroke-linecap:butt; stroke-linejoin:round; stroke-width:4; stroke-opacity:1; fill:none\" points=\"\n",
       "  1020.83,1101.77 980.648,1131.29 \n",
       "  \"/>\n",
       "<polyline clip-path=\"url(#clip252)\" style=\"stroke:#009af9; stroke-linecap:butt; stroke-linejoin:round; stroke-width:4; stroke-opacity:1; fill:none\" points=\"\n",
       "  980.648,1131.29 946.644,1160.86 \n",
       "  \"/>\n",
       "<polyline clip-path=\"url(#clip252)\" style=\"stroke:#009af9; stroke-linecap:butt; stroke-linejoin:round; stroke-width:4; stroke-opacity:1; fill:none\" points=\"\n",
       "  946.644,1160.86 922.907,1190.51 \n",
       "  \"/>\n",
       "<polyline clip-path=\"url(#clip252)\" style=\"stroke:#009af9; stroke-linecap:butt; stroke-linejoin:round; stroke-width:4; stroke-opacity:1; fill:none\" points=\"\n",
       "  922.907,1190.51 915.323,1216.52 \n",
       "  \"/>\n",
       "<polyline clip-path=\"url(#clip252)\" style=\"stroke:#009af9; stroke-linecap:butt; stroke-linejoin:round; stroke-width:8; stroke-opacity:1; fill:none\" points=\"\n",
       "  915.323,1216.52 929.997,1246.23 \n",
       "  \"/>\n",
       "<polyline clip-path=\"url(#clip252)\" style=\"stroke:#009af9; stroke-linecap:butt; stroke-linejoin:round; stroke-width:8; stroke-opacity:1; fill:none\" points=\"\n",
       "  929.997,1246.23 983.165,1275.78 \n",
       "  \"/>\n",
       "<polyline clip-path=\"url(#clip252)\" style=\"stroke:#009af9; stroke-linecap:butt; stroke-linejoin:round; stroke-width:8; stroke-opacity:1; fill:none\" points=\"\n",
       "  983.165,1275.78 1094.8,1304.45 \n",
       "  \"/>\n",
       "<polyline clip-path=\"url(#clip252)\" style=\"stroke:#009af9; stroke-linecap:butt; stroke-linejoin:round; stroke-width:8; stroke-opacity:1; fill:none\" points=\"\n",
       "  1094.8,1304.45 1284.21,1330.69 \n",
       "  \"/>\n",
       "<polyline clip-path=\"url(#clip252)\" style=\"stroke:#009af9; stroke-linecap:butt; stroke-linejoin:round; stroke-width:8; stroke-opacity:1; fill:none\" points=\"\n",
       "  1284.21,1330.69 1548.87,1352.4 \n",
       "  \"/>\n",
       "<polyline clip-path=\"url(#clip252)\" style=\"stroke:#009af9; stroke-linecap:butt; stroke-linejoin:round; stroke-width:8; stroke-opacity:1; fill:none\" points=\"\n",
       "  1548.87,1352.4 1860.56,1368.92 \n",
       "  \"/>\n",
       "<polyline clip-path=\"url(#clip252)\" style=\"stroke:#009af9; stroke-linecap:butt; stroke-linejoin:round; stroke-width:8; stroke-opacity:1; fill:none\" points=\"\n",
       "  1860.56,1368.92 2195.02,1381.32 \n",
       "  \"/>\n",
       "<polyline clip-path=\"url(#clip252)\" style=\"stroke:#009af9; stroke-linecap:butt; stroke-linejoin:round; stroke-width:8; stroke-opacity:1; fill:none\" points=\"\n",
       "  2195.02,1381.32 2291.13,1384.24 \n",
       "  \"/>\n",
       "<circle clip-path=\"url(#clip252)\" cx=\"1436.17\" cy=\"687.629\" r=\"10\" fill=\"#0000ff\" fill-rule=\"evenodd\" fill-opacity=\"1\" stroke=\"#000000\" stroke-opacity=\"1\" stroke-width=\"0\"/>\n",
       "<circle clip-path=\"url(#clip252)\" cx=\"915.323\" cy=\"1216.52\" r=\"10\" fill=\"#0000ff\" fill-rule=\"evenodd\" fill-opacity=\"1\" stroke=\"#000000\" stroke-opacity=\"1\" stroke-width=\"0\"/>\n",
       "<circle clip-path=\"url(#clip252)\" cx=\"1436.17\" cy=\"687.629\" r=\"10\" fill=\"#0000ff\" fill-rule=\"evenodd\" fill-opacity=\"1\" stroke=\"#000000\" stroke-opacity=\"1\" stroke-width=\"0\"/>\n",
       "<path clip-path=\"url(#clip250)\" d=\"\n",
       "M1984.97 196.789 L2280.18 196.789 L2280.18 93.1086 L1984.97 93.1086  Z\n",
       "  \" fill=\"#ffffff\" fill-rule=\"evenodd\" fill-opacity=\"1\"/>\n",
       "<polyline clip-path=\"url(#clip250)\" style=\"stroke:#000000; stroke-linecap:butt; stroke-linejoin:round; stroke-width:4; stroke-opacity:1; fill:none\" points=\"\n",
       "  1984.97,196.789 2280.18,196.789 2280.18,93.1086 1984.97,93.1086 1984.97,196.789 \n",
       "  \"/>\n",
       "<circle clip-path=\"url(#clip250)\" cx=\"2081.74\" cy=\"144.949\" r=\"23\" fill=\"#0000ff\" fill-rule=\"evenodd\" fill-opacity=\"1\" stroke=\"#000000\" stroke-opacity=\"1\" stroke-width=\"0\"/>\n",
       "<path clip-path=\"url(#clip250)\" d=\"M2197.28 149.289 Q2197.28 144.59 2195.34 141.928 Q2193.41 139.243 2190.04 139.243 Q2186.66 139.243 2184.71 141.928 Q2182.79 144.59 2182.79 149.289 Q2182.79 153.988 2184.71 156.673 Q2186.66 159.335 2190.04 159.335 Q2193.41 159.335 2195.34 156.673 Q2197.28 153.988 2197.28 149.289 M2182.79 140.238 Q2184.13 137.923 2186.17 136.812 Q2188.23 135.678 2191.08 135.678 Q2195.8 135.678 2198.74 139.428 Q2201.7 143.178 2201.7 149.289 Q2201.7 155.4 2198.74 159.15 Q2195.8 162.9 2191.08 162.9 Q2188.23 162.9 2186.17 161.789 Q2184.13 160.655 2182.79 158.34 L2182.79 162.229 L2178.51 162.229 L2178.51 126.21 L2182.79 126.21 L2182.79 140.238 Z\" fill=\"#000000\" fill-rule=\"evenodd\" fill-opacity=\"1\" /><path clip-path=\"url(#clip250)\" d=\"M2212.88 158.34 L2212.88 172.09 L2208.6 172.09 L2208.6 136.303 L2212.88 136.303 L2212.88 140.238 Q2214.22 137.923 2216.26 136.812 Q2218.32 135.678 2221.17 135.678 Q2225.89 135.678 2228.83 139.428 Q2231.79 143.178 2231.79 149.289 Q2231.79 155.4 2228.83 159.15 Q2225.89 162.9 2221.17 162.9 Q2218.32 162.9 2216.26 161.789 Q2214.22 160.655 2212.88 158.34 M2227.37 149.289 Q2227.37 144.59 2225.43 141.928 Q2223.51 139.243 2220.13 139.243 Q2216.75 139.243 2214.8 141.928 Q2212.88 144.59 2212.88 149.289 Q2212.88 153.988 2214.8 156.673 Q2216.75 159.335 2220.13 159.335 Q2223.51 159.335 2225.43 156.673 Q2227.37 153.988 2227.37 149.289 Z\" fill=\"#000000\" fill-rule=\"evenodd\" fill-opacity=\"1\" /></svg>\n"
      ]
     },
     "execution_count": 43,
     "metadata": {},
     "output_type": "execute_result"
    }
   ],
   "source": [
    "F=(x,p) -> @. logoutbreak(x,(p,),0)\n",
    "opts = ContinuationPar(pMin=0.6,pMax=1.4, detectBifurcation=3)\n",
    "br1, = continuation(F,[6.5],[0.5,8.0,0.6],(@lens _[3]), opts)\n",
    "plot(br1)"
   ]
  },
  {
   "cell_type": "markdown",
   "id": "6569068f",
   "metadata": {},
   "source": [
    "Incorporamos ahora los puntos fijos calculados numericamente al diagrama de bifurcaciones."
   ]
  },
  {
   "cell_type": "code",
   "execution_count": 45,
   "id": "58c12002",
   "metadata": {},
   "outputs": [
    {
     "data": {
      "application/vnd.webio.node+json": {
       "children": [
        {
         "children": [
          {
           "children": [
            {
             "children": [
              {
               "children": [
                {
                 "children": [
                  "P"
                 ],
                 "instanceArgs": {
                  "namespace": "html",
                  "tag": "label"
                 },
                 "nodeType": "DOM",
                 "props": {
                  "className": "interact ",
                  "style": {
                   "padding": "5px 10px 0px 10px"
                  }
                 },
                 "type": "node"
                }
               ],
               "instanceArgs": {
                "namespace": "html",
                "tag": "div"
               },
               "nodeType": "DOM",
               "props": {
                "className": "interact-flex-row-left"
               },
               "type": "node"
              },
              {
               "children": [
                {
                 "children": [],
                 "instanceArgs": {
                  "namespace": "html",
                  "tag": "input"
                 },
                 "nodeType": "DOM",
                 "props": {
                  "attributes": {
                   "data-bind": "numericValue: index, valueUpdate: 'input', event: {change: function (){this.changes(this.changes()+1)}}",
                   "orient": "horizontal",
                   "type": "range"
                  },
                  "className": "slider slider is-fullwidth",
                  "max": 121,
                  "min": 1,
                  "step": 1,
                  "style": {}
                 },
                 "type": "node"
                }
               ],
               "instanceArgs": {
                "namespace": "html",
                "tag": "div"
               },
               "nodeType": "DOM",
               "props": {
                "className": "interact-flex-row-center"
               },
               "type": "node"
              },
              {
               "children": [
                {
                 "children": [],
                 "instanceArgs": {
                  "namespace": "html",
                  "tag": "p"
                 },
                 "nodeType": "DOM",
                 "props": {
                  "attributes": {
                   "data-bind": "text: formatted_val"
                  }
                 },
                 "type": "node"
                }
               ],
               "instanceArgs": {
                "namespace": "html",
                "tag": "div"
               },
               "nodeType": "DOM",
               "props": {
                "className": "interact-flex-row-right"
               },
               "type": "node"
              }
             ],
             "instanceArgs": {
              "namespace": "html",
              "tag": "div"
             },
             "nodeType": "DOM",
             "props": {
              "className": "interact-flex-row interact-widget"
             },
             "type": "node"
            }
           ],
           "instanceArgs": {
            "handlers": {
             "changes": [
              "(function (val){return (val!=this.model[\"changes\"]()) ? (this.valueFromJulia[\"changes\"]=true, this.model[\"changes\"](val)) : undefined})"
             ],
             "index": [
              "(function (val){return (val!=this.model[\"index\"]()) ? (this.valueFromJulia[\"index\"]=true, this.model[\"index\"](val)) : undefined})"
             ]
            },
            "id": "11654621462369650489",
            "imports": {
             "data": [
              {
               "name": "knockout",
               "type": "js",
               "url": "/assetserver/2712bb0a7395d062608c2f218a74b700f6c76b99-knockout.js"
              },
              {
               "name": "knockout_punches",
               "type": "js",
               "url": "/assetserver/fb4445501a2be4ab82176667f844e40da26fa007-knockout_punches.js"
              },
              {
               "name": null,
               "type": "js",
               "url": "/assetserver/a8ea7d9192d5fa85c6fac26c72d7fece1e500138-all.js"
              },
              {
               "name": null,
               "type": "css",
               "url": "/assetserver/620a53798cfdb29a4a2142ce0588e9aadc351d94-style.css"
              },
              {
               "name": null,
               "type": "css",
               "url": "/assetserver/9f2f17f677abbfd015a7c6b0c0f09a2da809bee2-bulma_confined.min.css"
              }
             ],
             "type": "async_block"
            },
            "mount_callbacks": [
             "function () {\n    var handler = (function (ko, koPunches) {\n    ko.punches.enableAll();\n    ko.bindingHandlers.numericValue = {\n        init: function(element, valueAccessor, allBindings, data, context) {\n            var stringified = ko.observable(ko.unwrap(valueAccessor()));\n            stringified.subscribe(function(value) {\n                var val = parseFloat(value);\n                if (!isNaN(val)) {\n                    valueAccessor()(val);\n                }\n            });\n            valueAccessor().subscribe(function(value) {\n                var str = JSON.stringify(value);\n                if ((str == \"0\") && ([\"-0\", \"-0.\"].indexOf(stringified()) >= 0))\n                     return;\n                 if ([\"null\", \"\"].indexOf(str) >= 0)\n                     return;\n                stringified(str);\n            });\n            ko.applyBindingsToNode(\n                element,\n                {\n                    value: stringified,\n                    valueUpdate: allBindings.get('valueUpdate'),\n                },\n                context,\n            );\n        }\n    };\n    var json_data = {\"formatted_vals\":[\"0.6\",\"0.605\",\"0.61\",\"0.615\",\"0.62\",\"0.625\",\"0.63\",\"0.635\",\"0.64\",\"0.645\",\"0.65\",\"0.655\",\"0.66\",\"0.665\",\"0.67\",\"0.675\",\"0.68\",\"0.685\",\"0.69\",\"0.695\",\"0.7\",\"0.705\",\"0.71\",\"0.715\",\"0.72\",\"0.725\",\"0.73\",\"0.735\",\"0.74\",\"0.745\",\"0.75\",\"0.755\",\"0.76\",\"0.765\",\"0.77\",\"0.775\",\"0.78\",\"0.785\",\"0.79\",\"0.795\",\"0.8\",\"0.805\",\"0.81\",\"0.815\",\"0.82\",\"0.825\",\"0.83\",\"0.835\",\"0.84\",\"0.845\",\"0.85\",\"0.855\",\"0.86\",\"0.865\",\"0.87\",\"0.875\",\"0.88\",\"0.885\",\"0.89\",\"0.895\",\"0.9\",\"0.905\",\"0.91\",\"0.915\",\"0.92\",\"0.925\",\"0.93\",\"0.935\",\"0.94\",\"0.945\",\"0.95\",\"0.955\",\"0.96\",\"0.965\",\"0.97\",\"0.975\",\"0.98\",\"0.985\",\"0.99\",\"0.995\",\"1.0\",\"1.005\",\"1.01\",\"1.015\",\"1.02\",\"1.025\",\"1.03\",\"1.035\",\"1.04\",\"1.045\",\"1.05\",\"1.055\",\"1.06\",\"1.065\",\"1.07\",\"1.075\",\"1.08\",\"1.085\",\"1.09\",\"1.095\",\"1.1\",\"1.105\",\"1.11\",\"1.115\",\"1.12\",\"1.125\",\"1.13\",\"1.135\",\"1.14\",\"1.145\",\"1.15\",\"1.155\",\"1.16\",\"1.165\",\"1.17\",\"1.175\",\"1.18\",\"1.185\",\"1.19\",\"1.195\",\"1.2\"],\"changes\":WebIO.getval({\"name\":\"changes\",\"scope\":\"11654621462369650489\",\"id\":\"7252765054752734906\",\"type\":\"observable\"}),\"index\":WebIO.getval({\"name\":\"index\",\"scope\":\"11654621462369650489\",\"id\":\"6967129392765580412\",\"type\":\"observable\"})};\n    var self = this;\n    function AppViewModel() {\n        for (var key in json_data) {\n            var el = json_data[key];\n            this[key] = Array.isArray(el) ? ko.observableArray(el) : ko.observable(el);\n        }\n        \n        [this[\"formatted_val\"]=ko.computed(    function(){\n        return this.formatted_vals()[parseInt(this.index())-(1)];\n    }\n,this)]\n        [this[\"changes\"].subscribe((function (val){!(this.valueFromJulia[\"changes\"]) ? (WebIO.setval({\"name\":\"changes\",\"scope\":\"11654621462369650489\",\"id\":\"7252765054752734906\",\"type\":\"observable\"},val)) : undefined; return this.valueFromJulia[\"changes\"]=false}),self),this[\"index\"].subscribe((function (val){!(this.valueFromJulia[\"index\"]) ? (WebIO.setval({\"name\":\"index\",\"scope\":\"11654621462369650489\",\"id\":\"6967129392765580412\",\"type\":\"observable\"},val)) : undefined; return this.valueFromJulia[\"index\"]=false}),self)]\n        \n    }\n    self.model = new AppViewModel();\n    self.valueFromJulia = {};\n    for (var key in json_data) {\n        self.valueFromJulia[key] = false;\n    }\n    ko.applyBindings(self.model, self.dom);\n}\n);\n    (WebIO.importBlock({\"data\":[{\"name\":\"knockout\",\"type\":\"js\",\"url\":\"/assetserver/2712bb0a7395d062608c2f218a74b700f6c76b99-knockout.js\"},{\"name\":\"knockout_punches\",\"type\":\"js\",\"url\":\"/assetserver/fb4445501a2be4ab82176667f844e40da26fa007-knockout_punches.js\"}],\"type\":\"async_block\"})).then((imports) => handler.apply(this, imports));\n}\n"
            ],
            "observables": {
             "changes": {
              "id": "7252765054752734906",
              "sync": false,
              "value": 0
             },
             "index": {
              "id": "6967129392765580412",
              "sync": true,
              "value": 61
             }
            },
            "systemjs_options": null
           },
           "nodeType": "Scope",
           "props": {},
           "type": "node"
          }
         ],
         "instanceArgs": {
          "namespace": "html",
          "tag": "div"
         },
         "nodeType": "DOM",
         "props": {
          "className": "field interact-widget"
         },
         "type": "node"
        },
        {
         "children": [
          {
           "children": [],
           "instanceArgs": {
            "id": "12271672641366137274",
            "name": "obs-node"
           },
           "nodeType": "ObservableNode",
           "props": {},
           "type": "node"
          }
         ],
         "instanceArgs": {
          "handlers": {},
          "id": "15214789760146145964",
          "imports": {
           "data": [],
           "type": "async_block"
          },
          "mount_callbacks": [],
          "observables": {
           "obs-node": {
            "id": "12271672641366137274",
            "sync": false,
            "value": {
             "children": [
              {
               "children": [],
               "instanceArgs": {
                "namespace": "html",
                "tag": "div"
               },
               "nodeType": "DOM",
               "props": {
                "setInnerHtml": "<?xml version=\"1.0\" encoding=\"utf-8\"?>\n<svg xmlns=\"http://www.w3.org/2000/svg\" xmlns:xlink=\"http://www.w3.org/1999/xlink\" width=\"600\" height=\"400\" viewBox=\"0 0 2400 1600\">\n<defs>\n  <clipPath id=\"clip410\">\n    <rect x=\"0\" y=\"0\" width=\"2400\" height=\"1600\"/>\n  </clipPath>\n</defs>\n<path clip-path=\"url(#clip410)\" d=\"\nM0 1600 L2400 1600 L2400 0 L0 0  Z\n  \" fill=\"#ffffff\" fill-rule=\"evenodd\" fill-opacity=\"1\"/>\n<defs>\n  <clipPath id=\"clip411\">\n    <rect x=\"480\" y=\"0\" width=\"1681\" height=\"1600\"/>\n  </clipPath>\n</defs>\n<path clip-path=\"url(#clip410)\" d=\"\nM175.445 1423.18 L2352.76 1423.18 L2352.76 47.2441 L175.445 47.2441  Z\n  \" fill=\"#ffffff\" fill-rule=\"evenodd\" fill-opacity=\"1\"/>\n<defs>\n  <clipPath id=\"clip412\">\n    <rect x=\"175\" y=\"47\" width=\"2178\" height=\"1377\"/>\n  </clipPath>\n</defs>\n<polyline clip-path=\"url(#clip412)\" style=\"stroke:#000000; stroke-linecap:butt; stroke-linejoin:round; stroke-width:2; stroke-opacity:0.1; fill:none\" points=\"\n  237.067,1423.18 237.067,47.2441 \n  \"/>\n<polyline clip-path=\"url(#clip412)\" style=\"stroke:#000000; stroke-linecap:butt; stroke-linejoin:round; stroke-width:2; stroke-opacity:0.1; fill:none\" points=\"\n  750.584,1423.18 750.584,47.2441 \n  \"/>\n<polyline clip-path=\"url(#clip412)\" style=\"stroke:#000000; stroke-linecap:butt; stroke-linejoin:round; stroke-width:2; stroke-opacity:0.1; fill:none\" points=\"\n  1264.1,1423.18 1264.1,47.2441 \n  \"/>\n<polyline clip-path=\"url(#clip412)\" style=\"stroke:#000000; stroke-linecap:butt; stroke-linejoin:round; stroke-width:2; stroke-opacity:0.1; fill:none\" points=\"\n  1777.62,1423.18 1777.62,47.2441 \n  \"/>\n<polyline clip-path=\"url(#clip412)\" style=\"stroke:#000000; stroke-linecap:butt; stroke-linejoin:round; stroke-width:2; stroke-opacity:0.1; fill:none\" points=\"\n  2291.13,1423.18 2291.13,47.2441 \n  \"/>\n<polyline clip-path=\"url(#clip410)\" style=\"stroke:#000000; stroke-linecap:butt; stroke-linejoin:round; stroke-width:4; stroke-opacity:1; fill:none\" points=\"\n  175.445,1423.18 2352.76,1423.18 \n  \"/>\n<polyline clip-path=\"url(#clip410)\" style=\"stroke:#000000; stroke-linecap:butt; stroke-linejoin:round; stroke-width:4; stroke-opacity:1; fill:none\" points=\"\n  237.067,1423.18 237.067,1404.28 \n  \"/>\n<polyline clip-path=\"url(#clip410)\" style=\"stroke:#000000; stroke-linecap:butt; stroke-linejoin:round; stroke-width:4; stroke-opacity:1; fill:none\" points=\"\n  750.584,1423.18 750.584,1404.28 \n  \"/>\n<polyline clip-path=\"url(#clip410)\" style=\"stroke:#000000; stroke-linecap:butt; stroke-linejoin:round; stroke-width:4; stroke-opacity:1; fill:none\" points=\"\n  1264.1,1423.18 1264.1,1404.28 \n  \"/>\n<polyline clip-path=\"url(#clip410)\" style=\"stroke:#000000; stroke-linecap:butt; stroke-linejoin:round; stroke-width:4; stroke-opacity:1; fill:none\" points=\"\n  1777.62,1423.18 1777.62,1404.28 \n  \"/>\n<polyline clip-path=\"url(#clip410)\" style=\"stroke:#000000; stroke-linecap:butt; stroke-linejoin:round; stroke-width:4; stroke-opacity:1; fill:none\" points=\"\n  2291.13,1423.18 2291.13,1404.28 \n  \"/>\n<path clip-path=\"url(#clip410)\" d=\"M214.371 1454.1 Q210.759 1454.1 208.931 1457.66 Q207.125 1461.2 207.125 1468.33 Q207.125 1475.44 208.931 1479.01 Q210.759 1482.55 214.371 1482.55 Q218.005 1482.55 219.81 1479.01 Q221.639 1475.44 221.639 1468.33 Q221.639 1461.2 219.81 1457.66 Q218.005 1454.1 214.371 1454.1 M214.371 1450.39 Q220.181 1450.39 223.236 1455 Q226.315 1459.58 226.315 1468.33 Q226.315 1477.06 223.236 1481.67 Q220.181 1486.25 214.371 1486.25 Q208.56 1486.25 205.482 1481.67 Q202.426 1477.06 202.426 1468.33 Q202.426 1459.58 205.482 1455 Q208.56 1450.39 214.371 1450.39 Z\" fill=\"#000000\" fill-rule=\"evenodd\" fill-opacity=\"1\" /><path clip-path=\"url(#clip410)\" d=\"M234.532 1479.7 L239.417 1479.7 L239.417 1485.58 L234.532 1485.58 L234.532 1479.7 Z\" fill=\"#000000\" fill-rule=\"evenodd\" fill-opacity=\"1\" /><path clip-path=\"url(#clip410)\" d=\"M260.181 1466.44 Q257.032 1466.44 255.181 1468.59 Q253.352 1470.74 253.352 1474.49 Q253.352 1478.22 255.181 1480.39 Q257.032 1482.55 260.181 1482.55 Q263.329 1482.55 265.157 1480.39 Q267.009 1478.22 267.009 1474.49 Q267.009 1470.74 265.157 1468.59 Q263.329 1466.44 260.181 1466.44 M269.463 1451.78 L269.463 1456.04 Q267.704 1455.21 265.898 1454.77 Q264.116 1454.33 262.356 1454.33 Q257.727 1454.33 255.273 1457.45 Q252.843 1460.58 252.495 1466.9 Q253.861 1464.89 255.921 1463.82 Q257.981 1462.73 260.458 1462.73 Q265.667 1462.73 268.676 1465.9 Q271.708 1469.05 271.708 1474.49 Q271.708 1479.82 268.56 1483.03 Q265.412 1486.25 260.181 1486.25 Q254.185 1486.25 251.014 1481.67 Q247.843 1477.06 247.843 1468.33 Q247.843 1460.14 251.731 1455.28 Q255.62 1450.39 262.171 1450.39 Q263.93 1450.39 265.713 1450.74 Q267.518 1451.09 269.463 1451.78 Z\" fill=\"#000000\" fill-rule=\"evenodd\" fill-opacity=\"1\" /><path clip-path=\"url(#clip410)\" d=\"M728.015 1454.1 Q724.403 1454.1 722.575 1457.66 Q720.769 1461.2 720.769 1468.33 Q720.769 1475.44 722.575 1479.01 Q724.403 1482.55 728.015 1482.55 Q731.649 1482.55 733.454 1479.01 Q735.283 1475.44 735.283 1468.33 Q735.283 1461.2 733.454 1457.66 Q731.649 1454.1 728.015 1454.1 M728.015 1450.39 Q733.825 1450.39 736.88 1455 Q739.959 1459.58 739.959 1468.33 Q739.959 1477.06 736.88 1481.67 Q733.825 1486.25 728.015 1486.25 Q722.204 1486.25 719.126 1481.67 Q716.07 1477.06 716.07 1468.33 Q716.07 1459.58 719.126 1455 Q722.204 1450.39 728.015 1450.39 Z\" fill=\"#000000\" fill-rule=\"evenodd\" fill-opacity=\"1\" /><path clip-path=\"url(#clip410)\" d=\"M748.176 1479.7 L753.061 1479.7 L753.061 1485.58 L748.176 1485.58 L748.176 1479.7 Z\" fill=\"#000000\" fill-rule=\"evenodd\" fill-opacity=\"1\" /><path clip-path=\"url(#clip410)\" d=\"M773.246 1469.17 Q769.912 1469.17 767.991 1470.95 Q766.093 1472.73 766.093 1475.86 Q766.093 1478.98 767.991 1480.77 Q769.912 1482.55 773.246 1482.55 Q776.579 1482.55 778.5 1480.77 Q780.422 1478.96 780.422 1475.86 Q780.422 1472.73 778.5 1470.95 Q776.602 1469.17 773.246 1469.17 M768.57 1467.18 Q765.561 1466.44 763.871 1464.38 Q762.204 1462.32 762.204 1459.35 Q762.204 1455.21 765.144 1452.8 Q768.107 1450.39 773.246 1450.39 Q778.408 1450.39 781.348 1452.8 Q784.287 1455.21 784.287 1459.35 Q784.287 1462.32 782.598 1464.38 Q780.931 1466.44 777.945 1467.18 Q781.324 1467.96 783.199 1470.26 Q785.098 1472.55 785.098 1475.86 Q785.098 1480.88 782.019 1483.57 Q778.963 1486.25 773.246 1486.25 Q767.528 1486.25 764.45 1483.57 Q761.394 1480.88 761.394 1475.86 Q761.394 1472.55 763.292 1470.26 Q765.19 1467.96 768.57 1467.18 M766.857 1459.79 Q766.857 1462.48 768.524 1463.98 Q770.213 1465.49 773.246 1465.49 Q776.255 1465.49 777.945 1463.98 Q779.658 1462.48 779.658 1459.79 Q779.658 1457.11 777.945 1455.6 Q776.255 1454.1 773.246 1454.1 Q770.213 1454.1 768.524 1455.6 Q766.857 1457.11 766.857 1459.79 Z\" fill=\"#000000\" fill-rule=\"evenodd\" fill-opacity=\"1\" /><path clip-path=\"url(#clip410)\" d=\"M1231.25 1481.64 L1238.89 1481.64 L1238.89 1455.28 L1230.58 1456.95 L1230.58 1452.69 L1238.85 1451.02 L1243.52 1451.02 L1243.52 1481.64 L1251.16 1481.64 L1251.16 1485.58 L1231.25 1485.58 L1231.25 1481.64 Z\" fill=\"#000000\" fill-rule=\"evenodd\" fill-opacity=\"1\" /><path clip-path=\"url(#clip410)\" d=\"M1260.61 1479.7 L1265.49 1479.7 L1265.49 1485.58 L1260.61 1485.58 L1260.61 1479.7 Z\" fill=\"#000000\" fill-rule=\"evenodd\" fill-opacity=\"1\" /><path clip-path=\"url(#clip410)\" d=\"M1285.67 1454.1 Q1282.06 1454.1 1280.23 1457.66 Q1278.43 1461.2 1278.43 1468.33 Q1278.43 1475.44 1280.23 1479.01 Q1282.06 1482.55 1285.67 1482.55 Q1289.31 1482.55 1291.11 1479.01 Q1292.94 1475.44 1292.94 1468.33 Q1292.94 1461.2 1291.11 1457.66 Q1289.31 1454.1 1285.67 1454.1 M1285.67 1450.39 Q1291.48 1450.39 1294.54 1455 Q1297.62 1459.58 1297.62 1468.33 Q1297.62 1477.06 1294.54 1481.67 Q1291.48 1486.25 1285.67 1486.25 Q1279.86 1486.25 1276.79 1481.67 Q1273.73 1477.06 1273.73 1468.33 Q1273.73 1459.58 1276.79 1455 Q1279.86 1450.39 1285.67 1450.39 Z\" fill=\"#000000\" fill-rule=\"evenodd\" fill-opacity=\"1\" /><path clip-path=\"url(#clip410)\" d=\"M1745.57 1481.64 L1753.21 1481.64 L1753.21 1455.28 L1744.9 1456.95 L1744.9 1452.69 L1753.16 1451.02 L1757.84 1451.02 L1757.84 1481.64 L1765.48 1481.64 L1765.48 1485.58 L1745.57 1485.58 L1745.57 1481.64 Z\" fill=\"#000000\" fill-rule=\"evenodd\" fill-opacity=\"1\" /><path clip-path=\"url(#clip410)\" d=\"M1774.92 1479.7 L1779.8 1479.7 L1779.8 1485.58 L1774.92 1485.58 L1774.92 1479.7 Z\" fill=\"#000000\" fill-rule=\"evenodd\" fill-opacity=\"1\" /><path clip-path=\"url(#clip410)\" d=\"M1794.02 1481.64 L1810.34 1481.64 L1810.34 1485.58 L1788.39 1485.58 L1788.39 1481.64 Q1791.05 1478.89 1795.64 1474.26 Q1800.24 1469.61 1801.42 1468.27 Q1803.67 1465.74 1804.55 1464.01 Q1805.45 1462.25 1805.45 1460.56 Q1805.45 1457.8 1803.51 1456.07 Q1801.59 1454.33 1798.49 1454.33 Q1796.29 1454.33 1793.83 1455.09 Q1791.4 1455.86 1788.62 1457.41 L1788.62 1452.69 Q1791.45 1451.55 1793.9 1450.97 Q1796.36 1450.39 1798.39 1450.39 Q1803.76 1450.39 1806.96 1453.08 Q1810.15 1455.77 1810.15 1460.26 Q1810.15 1462.39 1809.34 1464.31 Q1808.55 1466.2 1806.45 1468.8 Q1805.87 1469.47 1802.77 1472.69 Q1799.67 1475.88 1794.02 1481.64 Z\" fill=\"#000000\" fill-rule=\"evenodd\" fill-opacity=\"1\" /><path clip-path=\"url(#clip410)\" d=\"M2258.04 1481.64 L2265.68 1481.64 L2265.68 1455.28 L2257.37 1456.95 L2257.37 1452.69 L2265.64 1451.02 L2270.31 1451.02 L2270.31 1481.64 L2277.95 1481.64 L2277.95 1485.58 L2258.04 1485.58 L2258.04 1481.64 Z\" fill=\"#000000\" fill-rule=\"evenodd\" fill-opacity=\"1\" /><path clip-path=\"url(#clip410)\" d=\"M2287.4 1479.7 L2292.28 1479.7 L2292.28 1485.58 L2287.4 1485.58 L2287.4 1479.7 Z\" fill=\"#000000\" fill-rule=\"evenodd\" fill-opacity=\"1\" /><path clip-path=\"url(#clip410)\" d=\"M2315.31 1455.09 L2303.51 1473.54 L2315.31 1473.54 L2315.31 1455.09 M2314.09 1451.02 L2319.96 1451.02 L2319.96 1473.54 L2324.9 1473.54 L2324.9 1477.43 L2319.96 1477.43 L2319.96 1485.58 L2315.31 1485.58 L2315.31 1477.43 L2299.71 1477.43 L2299.71 1472.92 L2314.09 1451.02 Z\" fill=\"#000000\" fill-rule=\"evenodd\" fill-opacity=\"1\" /><path clip-path=\"url(#clip410)\" d=\"M1254.04 1562.7 L1254.04 1581.6 L1248.15 1581.6 L1248.15 1532.4 L1254.04 1532.4 L1254.04 1537.81 Q1255.89 1534.62 1258.69 1533.1 Q1261.52 1531.54 1265.44 1531.54 Q1271.93 1531.54 1275.97 1536.69 Q1280.05 1541.85 1280.05 1550.25 Q1280.05 1558.65 1275.97 1563.81 Q1271.93 1568.97 1265.44 1568.97 Q1261.52 1568.97 1258.69 1567.44 Q1255.89 1565.88 1254.04 1562.7 M1273.97 1550.25 Q1273.97 1543.79 1271.29 1540.13 Q1268.65 1536.44 1264.01 1536.44 Q1259.36 1536.44 1256.68 1540.13 Q1254.04 1543.79 1254.04 1550.25 Q1254.04 1556.71 1256.68 1560.4 Q1259.36 1564.07 1264.01 1564.07 Q1268.65 1564.07 1271.29 1560.4 Q1273.97 1556.71 1273.97 1550.25 Z\" fill=\"#000000\" fill-rule=\"evenodd\" fill-opacity=\"1\" /><polyline clip-path=\"url(#clip412)\" style=\"stroke:#000000; stroke-linecap:butt; stroke-linejoin:round; stroke-width:2; stroke-opacity:0.1; fill:none\" points=\"\n  175.445,1384.24 2352.76,1384.24 \n  \"/>\n<polyline clip-path=\"url(#clip412)\" style=\"stroke:#000000; stroke-linecap:butt; stroke-linejoin:round; stroke-width:2; stroke-opacity:0.1; fill:none\" points=\"\n  175.445,1186.74 2352.76,1186.74 \n  \"/>\n<polyline clip-path=\"url(#clip412)\" style=\"stroke:#000000; stroke-linecap:butt; stroke-linejoin:round; stroke-width:2; stroke-opacity:0.1; fill:none\" points=\"\n  175.445,989.237 2352.76,989.237 \n  \"/>\n<polyline clip-path=\"url(#clip412)\" style=\"stroke:#000000; stroke-linecap:butt; stroke-linejoin:round; stroke-width:2; stroke-opacity:0.1; fill:none\" points=\"\n  175.445,791.736 2352.76,791.736 \n  \"/>\n<polyline clip-path=\"url(#clip412)\" style=\"stroke:#000000; stroke-linecap:butt; stroke-linejoin:round; stroke-width:2; stroke-opacity:0.1; fill:none\" points=\"\n  175.445,594.235 2352.76,594.235 \n  \"/>\n<polyline clip-path=\"url(#clip412)\" style=\"stroke:#000000; stroke-linecap:butt; stroke-linejoin:round; stroke-width:2; stroke-opacity:0.1; fill:none\" points=\"\n  175.445,396.735 2352.76,396.735 \n  \"/>\n<polyline clip-path=\"url(#clip412)\" style=\"stroke:#000000; stroke-linecap:butt; stroke-linejoin:round; stroke-width:2; stroke-opacity:0.1; fill:none\" points=\"\n  175.445,199.234 2352.76,199.234 \n  \"/>\n<polyline clip-path=\"url(#clip410)\" style=\"stroke:#000000; stroke-linecap:butt; stroke-linejoin:round; stroke-width:4; stroke-opacity:1; fill:none\" points=\"\n  175.445,1423.18 175.445,47.2441 \n  \"/>\n<polyline clip-path=\"url(#clip410)\" style=\"stroke:#000000; stroke-linecap:butt; stroke-linejoin:round; stroke-width:4; stroke-opacity:1; fill:none\" points=\"\n  175.445,1384.24 194.343,1384.24 \n  \"/>\n<polyline clip-path=\"url(#clip410)\" style=\"stroke:#000000; stroke-linecap:butt; stroke-linejoin:round; stroke-width:4; stroke-opacity:1; fill:none\" points=\"\n  175.445,1186.74 194.343,1186.74 \n  \"/>\n<polyline clip-path=\"url(#clip410)\" style=\"stroke:#000000; stroke-linecap:butt; stroke-linejoin:round; stroke-width:4; stroke-opacity:1; fill:none\" points=\"\n  175.445,989.237 194.343,989.237 \n  \"/>\n<polyline clip-path=\"url(#clip410)\" style=\"stroke:#000000; stroke-linecap:butt; stroke-linejoin:round; stroke-width:4; stroke-opacity:1; fill:none\" points=\"\n  175.445,791.736 194.343,791.736 \n  \"/>\n<polyline clip-path=\"url(#clip410)\" style=\"stroke:#000000; stroke-linecap:butt; stroke-linejoin:round; stroke-width:4; stroke-opacity:1; fill:none\" points=\"\n  175.445,594.235 194.343,594.235 \n  \"/>\n<polyline clip-path=\"url(#clip410)\" style=\"stroke:#000000; stroke-linecap:butt; stroke-linejoin:round; stroke-width:4; stroke-opacity:1; fill:none\" points=\"\n  175.445,396.735 194.343,396.735 \n  \"/>\n<polyline clip-path=\"url(#clip410)\" style=\"stroke:#000000; stroke-linecap:butt; stroke-linejoin:round; stroke-width:4; stroke-opacity:1; fill:none\" points=\"\n  175.445,199.234 194.343,199.234 \n  \"/>\n<path clip-path=\"url(#clip410)\" d=\"M127.501 1370.04 Q123.89 1370.04 122.061 1373.6 Q120.255 1377.14 120.255 1384.27 Q120.255 1391.38 122.061 1394.94 Q123.89 1398.49 127.501 1398.49 Q131.135 1398.49 132.941 1394.94 Q134.769 1391.38 134.769 1384.27 Q134.769 1377.14 132.941 1373.6 Q131.135 1370.04 127.501 1370.04 M127.501 1366.33 Q133.311 1366.33 136.367 1370.94 Q139.445 1375.52 139.445 1384.27 Q139.445 1393 136.367 1397.61 Q133.311 1402.19 127.501 1402.19 Q121.691 1402.19 118.612 1397.61 Q115.556 1393 115.556 1384.27 Q115.556 1375.52 118.612 1370.94 Q121.691 1366.33 127.501 1366.33 Z\" fill=\"#000000\" fill-rule=\"evenodd\" fill-opacity=\"1\" /><path clip-path=\"url(#clip410)\" d=\"M119.538 1200.08 L127.177 1200.08 L127.177 1173.72 L118.867 1175.38 L118.867 1171.12 L127.13 1169.46 L131.806 1169.46 L131.806 1200.08 L139.445 1200.08 L139.445 1204.02 L119.538 1204.02 L119.538 1200.08 Z\" fill=\"#000000\" fill-rule=\"evenodd\" fill-opacity=\"1\" /><path clip-path=\"url(#clip410)\" d=\"M123.126 1002.58 L139.445 1002.58 L139.445 1006.52 L117.501 1006.52 L117.501 1002.58 Q120.163 999.827 124.746 995.197 Q129.353 990.545 130.533 989.202 Q132.779 986.679 133.658 984.943 Q134.561 983.184 134.561 981.494 Q134.561 978.739 132.617 977.003 Q130.695 975.267 127.593 975.267 Q125.394 975.267 122.941 976.031 Q120.51 976.795 117.732 978.346 L117.732 973.623 Q120.556 972.489 123.01 971.911 Q125.464 971.332 127.501 971.332 Q132.871 971.332 136.066 974.017 Q139.26 976.702 139.26 981.193 Q139.26 983.323 138.45 985.244 Q137.663 987.142 135.556 989.735 Q134.978 990.406 131.876 993.623 Q128.774 996.818 123.126 1002.58 Z\" fill=\"#000000\" fill-rule=\"evenodd\" fill-opacity=\"1\" /><path clip-path=\"url(#clip410)\" d=\"M132.316 790.382 Q135.672 791.1 137.547 793.368 Q139.445 795.637 139.445 798.97 Q139.445 804.086 135.927 806.886 Q132.408 809.687 125.927 809.687 Q123.751 809.687 121.436 809.248 Q119.144 808.831 116.691 807.974 L116.691 803.461 Q118.635 804.595 120.95 805.174 Q123.265 805.752 125.788 805.752 Q130.186 805.752 132.478 804.016 Q134.792 802.28 134.792 798.97 Q134.792 795.914 132.64 794.201 Q130.51 792.465 126.691 792.465 L122.663 792.465 L122.663 788.623 L126.876 788.623 Q130.325 788.623 132.154 787.257 Q133.982 785.868 133.982 783.276 Q133.982 780.613 132.084 779.201 Q130.209 777.766 126.691 777.766 Q124.769 777.766 122.57 778.183 Q120.371 778.6 117.732 779.479 L117.732 775.313 Q120.394 774.572 122.709 774.201 Q125.047 773.831 127.107 773.831 Q132.431 773.831 135.533 776.262 Q138.635 778.669 138.635 782.789 Q138.635 785.66 136.992 787.65 Q135.348 789.618 132.316 790.382 Z\" fill=\"#000000\" fill-rule=\"evenodd\" fill-opacity=\"1\" /><path clip-path=\"url(#clip410)\" d=\"M129.862 581.029 L118.056 599.478 L129.862 599.478 L129.862 581.029 M128.635 576.955 L134.515 576.955 L134.515 599.478 L139.445 599.478 L139.445 603.367 L134.515 603.367 L134.515 611.515 L129.862 611.515 L129.862 603.367 L114.26 603.367 L114.26 598.853 L128.635 576.955 Z\" fill=\"#000000\" fill-rule=\"evenodd\" fill-opacity=\"1\" /><path clip-path=\"url(#clip410)\" d=\"M118.543 379.455 L136.899 379.455 L136.899 383.39 L122.825 383.39 L122.825 391.862 Q123.843 391.515 124.862 391.353 Q125.88 391.168 126.899 391.168 Q132.686 391.168 136.066 394.339 Q139.445 397.51 139.445 402.927 Q139.445 408.505 135.973 411.607 Q132.501 414.686 126.181 414.686 Q124.005 414.686 121.737 414.316 Q119.492 413.945 117.084 413.204 L117.084 408.505 Q119.168 409.64 121.39 410.195 Q123.612 410.751 126.089 410.751 Q130.093 410.751 132.431 408.644 Q134.769 406.538 134.769 402.927 Q134.769 399.316 132.431 397.209 Q130.093 395.103 126.089 395.103 Q124.214 395.103 122.339 395.519 Q120.487 395.936 118.543 396.816 L118.543 379.455 Z\" fill=\"#000000\" fill-rule=\"evenodd\" fill-opacity=\"1\" /><path clip-path=\"url(#clip410)\" d=\"M127.917 197.371 Q124.769 197.371 122.918 199.523 Q121.089 201.676 121.089 205.426 Q121.089 209.153 122.918 211.329 Q124.769 213.482 127.917 213.482 Q131.066 213.482 132.894 211.329 Q134.746 209.153 134.746 205.426 Q134.746 201.676 132.894 199.523 Q131.066 197.371 127.917 197.371 M137.2 182.718 L137.2 186.977 Q135.441 186.144 133.635 185.704 Q131.853 185.264 130.093 185.264 Q125.464 185.264 123.01 188.389 Q120.58 191.514 120.232 197.834 Q121.598 195.82 123.658 194.755 Q125.718 193.667 128.195 193.667 Q133.404 193.667 136.413 196.838 Q139.445 199.986 139.445 205.426 Q139.445 210.75 136.297 213.968 Q133.149 217.185 127.917 217.185 Q121.922 217.185 118.751 212.602 Q115.58 207.995 115.58 199.269 Q115.58 191.074 119.468 186.213 Q123.357 181.329 129.908 181.329 Q131.667 181.329 133.45 181.676 Q135.255 182.023 137.2 182.718 Z\" fill=\"#000000\" fill-rule=\"evenodd\" fill-opacity=\"1\" /><path clip-path=\"url(#clip410)\" d=\"M28.3562 718.597 L45.7028 731.488 L64.0042 717.929 L64.0042 724.836 L49.9996 735.212 L64.0042 745.588 L64.0042 752.495 L45.3526 738.649 L28.3562 751.317 L28.3562 744.41 L41.0558 734.957 L28.3562 725.504 L28.3562 718.597 Z\" fill=\"#000000\" fill-rule=\"evenodd\" fill-opacity=\"1\" /><polyline clip-path=\"url(#clip412)\" style=\"stroke:#009af9; stroke-linecap:butt; stroke-linejoin:round; stroke-width:8; stroke-opacity:1; fill:none\" points=\"\n  237.067,86.1857 248.518,88.8362 \n  \"/>\n<polyline clip-path=\"url(#clip412)\" style=\"stroke:#009af9; stroke-linecap:butt; stroke-linejoin:round; stroke-width:8; stroke-opacity:1; fill:none\" points=\"\n  248.518,88.8362 264.728,92.6107 \n  \"/>\n<polyline clip-path=\"url(#clip412)\" style=\"stroke:#009af9; stroke-linecap:butt; stroke-linejoin:round; stroke-width:8; stroke-opacity:1; fill:none\" points=\"\n  264.728,92.6107 287.62,97.9871 \n  \"/>\n<polyline clip-path=\"url(#clip412)\" style=\"stroke:#009af9; stroke-linecap:butt; stroke-linejoin:round; stroke-width:8; stroke-opacity:1; fill:none\" points=\"\n  287.62,97.9871 319.839,105.648 \n  \"/>\n<polyline clip-path=\"url(#clip412)\" style=\"stroke:#009af9; stroke-linecap:butt; stroke-linejoin:round; stroke-width:8; stroke-opacity:1; fill:none\" points=\"\n  319.839,105.648 364.96,116.569 \n  \"/>\n<polyline clip-path=\"url(#clip412)\" style=\"stroke:#009af9; stroke-linecap:butt; stroke-linejoin:round; stroke-width:8; stroke-opacity:1; fill:none\" points=\"\n  364.96,116.569 427.68,132.148 \n  \"/>\n<polyline clip-path=\"url(#clip412)\" style=\"stroke:#009af9; stroke-linecap:butt; stroke-linejoin:round; stroke-width:8; stroke-opacity:1; fill:none\" points=\"\n  427.68,132.148 513.882,154.392 \n  \"/>\n<polyline clip-path=\"url(#clip412)\" style=\"stroke:#009af9; stroke-linecap:butt; stroke-linejoin:round; stroke-width:8; stroke-opacity:1; fill:none\" points=\"\n  513.882,154.392 612.787,181.27 \n  \"/>\n<polyline clip-path=\"url(#clip412)\" style=\"stroke:#009af9; stroke-linecap:butt; stroke-linejoin:round; stroke-width:8; stroke-opacity:1; fill:none\" points=\"\n  612.787,181.27 706.341,208.261 \n  \"/>\n<polyline clip-path=\"url(#clip412)\" style=\"stroke:#009af9; stroke-linecap:butt; stroke-linejoin:round; stroke-width:8; stroke-opacity:1; fill:none\" points=\"\n  706.341,208.261 794.468,235.36 \n  \"/>\n<polyline clip-path=\"url(#clip412)\" style=\"stroke:#009af9; stroke-linecap:butt; stroke-linejoin:round; stroke-width:8; stroke-opacity:1; fill:none\" points=\"\n  794.468,235.36 877.098,262.561 \n  \"/>\n<polyline clip-path=\"url(#clip412)\" style=\"stroke:#009af9; stroke-linecap:butt; stroke-linejoin:round; stroke-width:8; stroke-opacity:1; fill:none\" points=\"\n  877.098,262.561 954.167,289.859 \n  \"/>\n<polyline clip-path=\"url(#clip412)\" style=\"stroke:#009af9; stroke-linecap:butt; stroke-linejoin:round; stroke-width:8; stroke-opacity:1; fill:none\" points=\"\n  954.167,289.859 1025.62,317.248 \n  \"/>\n<polyline clip-path=\"url(#clip412)\" style=\"stroke:#009af9; stroke-linecap:butt; stroke-linejoin:round; stroke-width:8; stroke-opacity:1; fill:none\" points=\"\n  1025.62,317.248 1091.41,344.72 \n  \"/>\n<polyline clip-path=\"url(#clip412)\" style=\"stroke:#009af9; stroke-linecap:butt; stroke-linejoin:round; stroke-width:8; stroke-opacity:1; fill:none\" points=\"\n  1091.41,344.72 1151.48,372.269 \n  \"/>\n<polyline clip-path=\"url(#clip412)\" style=\"stroke:#009af9; stroke-linecap:butt; stroke-linejoin:round; stroke-width:8; stroke-opacity:1; fill:none\" points=\"\n  1151.48,372.269 1205.82,399.889 \n  \"/>\n<polyline clip-path=\"url(#clip412)\" style=\"stroke:#009af9; stroke-linecap:butt; stroke-linejoin:round; stroke-width:8; stroke-opacity:1; fill:none\" points=\"\n  1205.82,399.889 1254.39,427.573 \n  \"/>\n<polyline clip-path=\"url(#clip412)\" style=\"stroke:#009af9; stroke-linecap:butt; stroke-linejoin:round; stroke-width:8; stroke-opacity:1; fill:none\" points=\"\n  1254.39,427.573 1297.18,455.313 \n  \"/>\n<polyline clip-path=\"url(#clip412)\" style=\"stroke:#009af9; stroke-linecap:butt; stroke-linejoin:round; stroke-width:8; stroke-opacity:1; fill:none\" points=\"\n  1297.18,455.313 1334.18,483.102 \n  \"/>\n<polyline clip-path=\"url(#clip412)\" style=\"stroke:#009af9; stroke-linecap:butt; stroke-linejoin:round; stroke-width:8; stroke-opacity:1; fill:none\" points=\"\n  1334.18,483.102 1365.41,510.933 \n  \"/>\n<polyline clip-path=\"url(#clip412)\" style=\"stroke:#009af9; stroke-linecap:butt; stroke-linejoin:round; stroke-width:8; stroke-opacity:1; fill:none\" points=\"\n  1365.41,510.933 1390.89,538.798 \n  \"/>\n<polyline clip-path=\"url(#clip412)\" style=\"stroke:#009af9; stroke-linecap:butt; stroke-linejoin:round; stroke-width:8; stroke-opacity:1; fill:none\" points=\"\n  1390.89,538.798 1410.64,566.691 \n  \"/>\n<polyline clip-path=\"url(#clip412)\" style=\"stroke:#009af9; stroke-linecap:butt; stroke-linejoin:round; stroke-width:8; stroke-opacity:1; fill:none\" points=\"\n  1410.64,566.691 1424.72,594.604 \n  \"/>\n<polyline clip-path=\"url(#clip412)\" style=\"stroke:#009af9; stroke-linecap:butt; stroke-linejoin:round; stroke-width:8; stroke-opacity:1; fill:none\" points=\"\n  1424.72,594.604 1433.2,622.531 \n  \"/>\n<polyline clip-path=\"url(#clip412)\" style=\"stroke:#009af9; stroke-linecap:butt; stroke-linejoin:round; stroke-width:8; stroke-opacity:1; fill:none\" points=\"\n  1433.2,622.531 1436.16,650.464 \n  \"/>\n<polyline clip-path=\"url(#clip412)\" style=\"stroke:#009af9; stroke-linecap:butt; stroke-linejoin:round; stroke-width:8; stroke-opacity:1; fill:none\" points=\"\n  1436.16,650.464 1436.17,651.776 \n  \"/>\n<polyline clip-path=\"url(#clip412)\" style=\"stroke:#009af9; stroke-linecap:butt; stroke-linejoin:round; stroke-width:4; stroke-opacity:1; fill:none\" points=\"\n  1436.17,651.776 1433.46,679.707 \n  \"/>\n<polyline clip-path=\"url(#clip412)\" style=\"stroke:#009af9; stroke-linecap:butt; stroke-linejoin:round; stroke-width:4; stroke-opacity:1; fill:none\" points=\"\n  1433.46,679.707 1425.46,707.634 \n  \"/>\n<polyline clip-path=\"url(#clip412)\" style=\"stroke:#009af9; stroke-linecap:butt; stroke-linejoin:round; stroke-width:4; stroke-opacity:1; fill:none\" points=\"\n  1425.46,707.634 1412.34,735.549 \n  \"/>\n<polyline clip-path=\"url(#clip412)\" style=\"stroke:#009af9; stroke-linecap:butt; stroke-linejoin:round; stroke-width:4; stroke-opacity:1; fill:none\" points=\"\n  1412.34,735.549 1394.26,763.448 \n  \"/>\n<polyline clip-path=\"url(#clip412)\" style=\"stroke:#009af9; stroke-linecap:butt; stroke-linejoin:round; stroke-width:4; stroke-opacity:1; fill:none\" points=\"\n  1394.26,763.448 1371.45,791.326 \n  \"/>\n<polyline clip-path=\"url(#clip412)\" style=\"stroke:#009af9; stroke-linecap:butt; stroke-linejoin:round; stroke-width:4; stroke-opacity:1; fill:none\" points=\"\n  1371.45,791.326 1344.17,819.18 \n  \"/>\n<polyline clip-path=\"url(#clip412)\" style=\"stroke:#009af9; stroke-linecap:butt; stroke-linejoin:round; stroke-width:4; stroke-opacity:1; fill:none\" points=\"\n  1344.17,819.18 1312.72,847.008 \n  \"/>\n<polyline clip-path=\"url(#clip412)\" style=\"stroke:#009af9; stroke-linecap:butt; stroke-linejoin:round; stroke-width:4; stroke-opacity:1; fill:none\" points=\"\n  1312.72,847.008 1277.48,874.809 \n  \"/>\n<polyline clip-path=\"url(#clip412)\" style=\"stroke:#009af9; stroke-linecap:butt; stroke-linejoin:round; stroke-width:4; stroke-opacity:1; fill:none\" points=\"\n  1277.48,874.809 1238.89,902.582 \n  \"/>\n<polyline clip-path=\"url(#clip412)\" style=\"stroke:#009af9; stroke-linecap:butt; stroke-linejoin:round; stroke-width:4; stroke-opacity:1; fill:none\" points=\"\n  1238.89,902.582 1197.5,930.332 \n  \"/>\n<polyline clip-path=\"url(#clip412)\" style=\"stroke:#009af9; stroke-linecap:butt; stroke-linejoin:round; stroke-width:4; stroke-opacity:1; fill:none\" points=\"\n  1197.5,930.332 1153.99,958.062 \n  \"/>\n<polyline clip-path=\"url(#clip412)\" style=\"stroke:#009af9; stroke-linecap:butt; stroke-linejoin:round; stroke-width:4; stroke-opacity:1; fill:none\" points=\"\n  1153.99,958.062 1109.24,985.78 \n  \"/>\n<polyline clip-path=\"url(#clip412)\" style=\"stroke:#009af9; stroke-linecap:butt; stroke-linejoin:round; stroke-width:4; stroke-opacity:1; fill:none\" points=\"\n  1109.24,985.78 1064.36,1013.5 \n  \"/>\n<polyline clip-path=\"url(#clip412)\" style=\"stroke:#009af9; stroke-linecap:butt; stroke-linejoin:round; stroke-width:4; stroke-opacity:1; fill:none\" points=\"\n  1064.36,1013.5 1020.83,1041.23 \n  \"/>\n<polyline clip-path=\"url(#clip412)\" style=\"stroke:#009af9; stroke-linecap:butt; stroke-linejoin:round; stroke-width:4; stroke-opacity:1; fill:none\" points=\"\n  1020.83,1041.23 980.648,1068.99 \n  \"/>\n<polyline clip-path=\"url(#clip412)\" style=\"stroke:#009af9; stroke-linecap:butt; stroke-linejoin:round; stroke-width:4; stroke-opacity:1; fill:none\" points=\"\n  980.648,1068.99 946.644,1096.8 \n  \"/>\n<polyline clip-path=\"url(#clip412)\" style=\"stroke:#009af9; stroke-linecap:butt; stroke-linejoin:round; stroke-width:4; stroke-opacity:1; fill:none\" points=\"\n  946.644,1096.8 922.907,1124.68 \n  \"/>\n<polyline clip-path=\"url(#clip412)\" style=\"stroke:#009af9; stroke-linecap:butt; stroke-linejoin:round; stroke-width:4; stroke-opacity:1; fill:none\" points=\"\n  922.907,1124.68 915.323,1149.14 \n  \"/>\n<polyline clip-path=\"url(#clip412)\" style=\"stroke:#009af9; stroke-linecap:butt; stroke-linejoin:round; stroke-width:8; stroke-opacity:1; fill:none\" points=\"\n  915.323,1149.14 929.997,1177.08 \n  \"/>\n<polyline clip-path=\"url(#clip412)\" style=\"stroke:#009af9; stroke-linecap:butt; stroke-linejoin:round; stroke-width:8; stroke-opacity:1; fill:none\" points=\"\n  929.997,1177.08 983.165,1204.86 \n  \"/>\n<polyline clip-path=\"url(#clip412)\" style=\"stroke:#009af9; stroke-linecap:butt; stroke-linejoin:round; stroke-width:8; stroke-opacity:1; fill:none\" points=\"\n  983.165,1204.86 1094.8,1231.83 \n  \"/>\n<polyline clip-path=\"url(#clip412)\" style=\"stroke:#009af9; stroke-linecap:butt; stroke-linejoin:round; stroke-width:8; stroke-opacity:1; fill:none\" points=\"\n  1094.8,1231.83 1284.21,1256.51 \n  \"/>\n<polyline clip-path=\"url(#clip412)\" style=\"stroke:#009af9; stroke-linecap:butt; stroke-linejoin:round; stroke-width:8; stroke-opacity:1; fill:none\" points=\"\n  1284.21,1256.51 1548.87,1276.92 \n  \"/>\n<polyline clip-path=\"url(#clip412)\" style=\"stroke:#009af9; stroke-linecap:butt; stroke-linejoin:round; stroke-width:8; stroke-opacity:1; fill:none\" points=\"\n  1548.87,1276.92 1860.56,1292.46 \n  \"/>\n<polyline clip-path=\"url(#clip412)\" style=\"stroke:#009af9; stroke-linecap:butt; stroke-linejoin:round; stroke-width:8; stroke-opacity:1; fill:none\" points=\"\n  1860.56,1292.46 2195.02,1304.12 \n  \"/>\n<polyline clip-path=\"url(#clip412)\" style=\"stroke:#009af9; stroke-linecap:butt; stroke-linejoin:round; stroke-width:8; stroke-opacity:1; fill:none\" points=\"\n  2195.02,1304.12 2291.13,1306.86 \n  \"/>\n<circle clip-path=\"url(#clip412)\" cx=\"1436.17\" cy=\"651.776\" r=\"10\" fill=\"#0000ff\" fill-rule=\"evenodd\" fill-opacity=\"1\" stroke=\"#000000\" stroke-opacity=\"1\" stroke-width=\"0\"/>\n<circle clip-path=\"url(#clip412)\" cx=\"915.323\" cy=\"1149.14\" r=\"10\" fill=\"#0000ff\" fill-rule=\"evenodd\" fill-opacity=\"1\" stroke=\"#000000\" stroke-opacity=\"1\" stroke-width=\"0\"/>\n<circle clip-path=\"url(#clip412)\" cx=\"1436.17\" cy=\"651.776\" r=\"10\" fill=\"#0000ff\" fill-rule=\"evenodd\" fill-opacity=\"1\" stroke=\"#000000\" stroke-opacity=\"1\" stroke-width=\"0\"/>\n<circle clip-path=\"url(#clip412)\" cx=\"1007.34\" cy=\"1050.2\" r=\"14\" fill=\"#c271d2\" fill-rule=\"evenodd\" fill-opacity=\"1\" stroke=\"#000000\" stroke-opacity=\"1\" stroke-width=\"3.2\"/>\n<circle clip-path=\"url(#clip412)\" cx=\"1007.34\" cy=\"1212.48\" r=\"14\" fill=\"#c271d2\" fill-rule=\"evenodd\" fill-opacity=\"1\" stroke=\"#000000\" stroke-opacity=\"1\" stroke-width=\"3.2\"/>\n<circle clip-path=\"url(#clip412)\" cx=\"1007.34\" cy=\"310.023\" r=\"14\" fill=\"#c271d2\" fill-rule=\"evenodd\" fill-opacity=\"1\" stroke=\"#000000\" stroke-opacity=\"1\" stroke-width=\"3.2\"/>\n<circle clip-path=\"url(#clip412)\" cx=\"1007.34\" cy=\"1384.24\" r=\"14\" fill=\"#c271d2\" fill-rule=\"evenodd\" fill-opacity=\"1\" stroke=\"#000000\" stroke-opacity=\"1\" stroke-width=\"3.2\"/>\n<path clip-path=\"url(#clip410)\" d=\"\nM1984.97 248.629 L2280.18 248.629 L2280.18 93.1086 L1984.97 93.1086  Z\n  \" fill=\"#ffffff\" fill-rule=\"evenodd\" fill-opacity=\"1\"/>\n<polyline clip-path=\"url(#clip410)\" style=\"stroke:#000000; stroke-linecap:butt; stroke-linejoin:round; stroke-width:4; stroke-opacity:1; fill:none\" points=\"\n  1984.97,248.629 2280.18,248.629 2280.18,93.1086 1984.97,93.1086 1984.97,248.629 \n  \"/>\n<circle clip-path=\"url(#clip410)\" cx=\"2081.74\" cy=\"144.949\" r=\"23\" fill=\"#0000ff\" fill-rule=\"evenodd\" fill-opacity=\"1\" stroke=\"#000000\" stroke-opacity=\"1\" stroke-width=\"0\"/>\n<path clip-path=\"url(#clip410)\" d=\"M2197.28 149.289 Q2197.28 144.59 2195.34 141.928 Q2193.41 139.243 2190.04 139.243 Q2186.66 139.243 2184.71 141.928 Q2182.79 144.59 2182.79 149.289 Q2182.79 153.988 2184.71 156.673 Q2186.66 159.335 2190.04 159.335 Q2193.41 159.335 2195.34 156.673 Q2197.28 153.988 2197.28 149.289 M2182.79 140.238 Q2184.13 137.923 2186.17 136.812 Q2188.23 135.678 2191.08 135.678 Q2195.8 135.678 2198.74 139.428 Q2201.7 143.178 2201.7 149.289 Q2201.7 155.4 2198.74 159.15 Q2195.8 162.9 2191.08 162.9 Q2188.23 162.9 2186.17 161.789 Q2184.13 160.655 2182.79 158.34 L2182.79 162.229 L2178.51 162.229 L2178.51 126.21 L2182.79 126.21 L2182.79 140.238 Z\" fill=\"#000000\" fill-rule=\"evenodd\" fill-opacity=\"1\" /><path clip-path=\"url(#clip410)\" d=\"M2212.88 158.34 L2212.88 172.09 L2208.6 172.09 L2208.6 136.303 L2212.88 136.303 L2212.88 140.238 Q2214.22 137.923 2216.26 136.812 Q2218.32 135.678 2221.17 135.678 Q2225.89 135.678 2228.83 139.428 Q2231.79 143.178 2231.79 149.289 Q2231.79 155.4 2228.83 159.15 Q2225.89 162.9 2221.17 162.9 Q2218.32 162.9 2216.26 161.789 Q2214.22 160.655 2212.88 158.34 M2227.37 149.289 Q2227.37 144.59 2225.43 141.928 Q2223.51 139.243 2220.13 139.243 Q2216.75 139.243 2214.8 141.928 Q2212.88 144.59 2212.88 149.289 Q2212.88 153.988 2214.8 156.673 Q2216.75 159.335 2220.13 159.335 Q2223.51 159.335 2225.43 156.673 Q2227.37 153.988 2227.37 149.289 Z\" fill=\"#000000\" fill-rule=\"evenodd\" fill-opacity=\"1\" /><circle clip-path=\"url(#clip410)\" cx=\"2081.74\" cy=\"196.789\" r=\"23\" fill=\"#c271d2\" fill-rule=\"evenodd\" fill-opacity=\"1\" stroke=\"#000000\" stroke-opacity=\"1\" stroke-width=\"5.12\"/>\n<path clip-path=\"url(#clip410)\" d=\"M2183.18 183.351 L2183.18 196.337 L2189.06 196.337 Q2192.33 196.337 2194.11 194.647 Q2195.89 192.958 2195.89 189.833 Q2195.89 186.731 2194.11 185.041 Q2192.33 183.351 2189.06 183.351 L2183.18 183.351 M2178.51 179.509 L2189.06 179.509 Q2194.87 179.509 2197.84 182.147 Q2200.82 184.763 2200.82 189.833 Q2200.82 194.948 2197.84 197.564 Q2194.87 200.18 2189.06 200.18 L2183.18 200.18 L2183.18 214.069 L2178.51 214.069 L2178.51 179.509 Z\" fill=\"#000000\" fill-rule=\"evenodd\" fill-opacity=\"1\" /><path clip-path=\"url(#clip410)\" d=\"M2207.1 179.509 L2226.96 179.509 L2226.96 183.444 L2211.77 183.444 L2211.77 193.629 L2225.47 193.629 L2225.47 197.564 L2211.77 197.564 L2211.77 214.069 L2207.1 214.069 L2207.1 179.509 Z\" fill=\"#000000\" fill-rule=\"evenodd\" fill-opacity=\"1\" /></svg>\n"
               },
               "type": "node"
              }
             ],
             "instanceArgs": {
              "namespace": "html",
              "tag": "div"
             },
             "nodeType": "DOM",
             "props": {
              "className": "interact-flex-row interact-widget"
             },
             "type": "node"
            }
           }
          },
          "systemjs_options": null
         },
         "nodeType": "Scope",
         "props": {},
         "type": "node"
        }
       ],
       "instanceArgs": {
        "namespace": "html",
        "tag": "div"
       },
       "nodeType": "DOM",
       "props": {},
       "type": "node"
      },
      "text/html": [
       "<div\n",
       "    class=\"webio-mountpoint\"\n",
       "    data-webio-mountpoint=\"2602085844508029165\"\n",
       ">\n",
       "    <script>\n",
       "    (function(){\n",
       "    // Some integrations (namely, IJulia/Jupyter) use an alternate render pathway than\n",
       "    // just putting the html on the page. If WebIO isn't defined, then it's pretty likely\n",
       "    // that we're in one of those situations and the integration just isn't installed\n",
       "    // correctly.\n",
       "    if (typeof window.WebIO === \"undefined\") {\n",
       "        document\n",
       "            .querySelector('[data-webio-mountpoint=\"2602085844508029165\"]')\n",
       "            .innerHTML = (\n",
       "                '<div style=\"padding: 1em; background-color: #f8d6da; border: 1px solid #f5c6cb; font-weight: bold;\">' +\n",
       "                '<p><strong>WebIO not detected.</strong></p>' +\n",
       "                '<p>Please read ' +\n",
       "                '<a href=\"https://juliagizmos.github.io/WebIO.jl/latest/troubleshooting/not-detected/\" target=\"_blank\">the troubleshooting guide</a> ' +\n",
       "                'for more information on how to resolve this issue.</p>' +\n",
       "                '<p><a href=\"https://juliagizmos.github.io/WebIO.jl/latest/troubleshooting/not-detected/\" target=\"_blank\">https://juliagizmos.github.io/WebIO.jl/latest/troubleshooting/not-detected/</a></p>' +\n",
       "                '</div>'\n",
       "            );\n",
       "        return;\n",
       "    }\n",
       "    WebIO.mount(\n",
       "        document.querySelector('[data-webio-mountpoint=\"2602085844508029165\"]'),\n",
       "        {\"props\":{},\"nodeType\":\"DOM\",\"type\":\"node\",\"instanceArgs\":{\"namespace\":\"html\",\"tag\":\"div\"},\"children\":[{\"props\":{\"className\":\"field interact-widget\"},\"nodeType\":\"DOM\",\"type\":\"node\",\"instanceArgs\":{\"namespace\":\"html\",\"tag\":\"div\"},\"children\":[{\"props\":{},\"nodeType\":\"Scope\",\"type\":\"node\",\"instanceArgs\":{\"imports\":{\"data\":[{\"name\":\"knockout\",\"type\":\"js\",\"url\":\"\\/assetserver\\/2712bb0a7395d062608c2f218a74b700f6c76b99-knockout.js\"},{\"name\":\"knockout_punches\",\"type\":\"js\",\"url\":\"\\/assetserver\\/fb4445501a2be4ab82176667f844e40da26fa007-knockout_punches.js\"},{\"name\":null,\"type\":\"js\",\"url\":\"\\/assetserver\\/a8ea7d9192d5fa85c6fac26c72d7fece1e500138-all.js\"},{\"name\":null,\"type\":\"css\",\"url\":\"\\/assetserver\\/620a53798cfdb29a4a2142ce0588e9aadc351d94-style.css\"},{\"name\":null,\"type\":\"css\",\"url\":\"\\/assetserver\\/9f2f17f677abbfd015a7c6b0c0f09a2da809bee2-bulma_confined.min.css\"}],\"type\":\"async_block\"},\"id\":\"11654621462369650489\",\"handlers\":{\"changes\":[\"(function (val){return (val!=this.model[\\\"changes\\\"]()) ? (this.valueFromJulia[\\\"changes\\\"]=true, this.model[\\\"changes\\\"](val)) : undefined})\"],\"index\":[\"(function (val){return (val!=this.model[\\\"index\\\"]()) ? (this.valueFromJulia[\\\"index\\\"]=true, this.model[\\\"index\\\"](val)) : undefined})\"]},\"systemjs_options\":null,\"mount_callbacks\":[\"function () {\\n    var handler = (function (ko, koPunches) {\\n    ko.punches.enableAll();\\n    ko.bindingHandlers.numericValue = {\\n        init: function(element, valueAccessor, allBindings, data, context) {\\n            var stringified = ko.observable(ko.unwrap(valueAccessor()));\\n            stringified.subscribe(function(value) {\\n                var val = parseFloat(value);\\n                if (!isNaN(val)) {\\n                    valueAccessor()(val);\\n                }\\n            });\\n            valueAccessor().subscribe(function(value) {\\n                var str = JSON.stringify(value);\\n                if ((str == \\\"0\\\") && ([\\\"-0\\\", \\\"-0.\\\"].indexOf(stringified()) >= 0))\\n                     return;\\n                 if ([\\\"null\\\", \\\"\\\"].indexOf(str) >= 0)\\n                     return;\\n                stringified(str);\\n            });\\n            ko.applyBindingsToNode(\\n                element,\\n                {\\n                    value: stringified,\\n                    valueUpdate: allBindings.get('valueUpdate'),\\n                },\\n                context,\\n            );\\n        }\\n    };\\n    var json_data = {\\\"formatted_vals\\\":[\\\"0.6\\\",\\\"0.605\\\",\\\"0.61\\\",\\\"0.615\\\",\\\"0.62\\\",\\\"0.625\\\",\\\"0.63\\\",\\\"0.635\\\",\\\"0.64\\\",\\\"0.645\\\",\\\"0.65\\\",\\\"0.655\\\",\\\"0.66\\\",\\\"0.665\\\",\\\"0.67\\\",\\\"0.675\\\",\\\"0.68\\\",\\\"0.685\\\",\\\"0.69\\\",\\\"0.695\\\",\\\"0.7\\\",\\\"0.705\\\",\\\"0.71\\\",\\\"0.715\\\",\\\"0.72\\\",\\\"0.725\\\",\\\"0.73\\\",\\\"0.735\\\",\\\"0.74\\\",\\\"0.745\\\",\\\"0.75\\\",\\\"0.755\\\",\\\"0.76\\\",\\\"0.765\\\",\\\"0.77\\\",\\\"0.775\\\",\\\"0.78\\\",\\\"0.785\\\",\\\"0.79\\\",\\\"0.795\\\",\\\"0.8\\\",\\\"0.805\\\",\\\"0.81\\\",\\\"0.815\\\",\\\"0.82\\\",\\\"0.825\\\",\\\"0.83\\\",\\\"0.835\\\",\\\"0.84\\\",\\\"0.845\\\",\\\"0.85\\\",\\\"0.855\\\",\\\"0.86\\\",\\\"0.865\\\",\\\"0.87\\\",\\\"0.875\\\",\\\"0.88\\\",\\\"0.885\\\",\\\"0.89\\\",\\\"0.895\\\",\\\"0.9\\\",\\\"0.905\\\",\\\"0.91\\\",\\\"0.915\\\",\\\"0.92\\\",\\\"0.925\\\",\\\"0.93\\\",\\\"0.935\\\",\\\"0.94\\\",\\\"0.945\\\",\\\"0.95\\\",\\\"0.955\\\",\\\"0.96\\\",\\\"0.965\\\",\\\"0.97\\\",\\\"0.975\\\",\\\"0.98\\\",\\\"0.985\\\",\\\"0.99\\\",\\\"0.995\\\",\\\"1.0\\\",\\\"1.005\\\",\\\"1.01\\\",\\\"1.015\\\",\\\"1.02\\\",\\\"1.025\\\",\\\"1.03\\\",\\\"1.035\\\",\\\"1.04\\\",\\\"1.045\\\",\\\"1.05\\\",\\\"1.055\\\",\\\"1.06\\\",\\\"1.065\\\",\\\"1.07\\\",\\\"1.075\\\",\\\"1.08\\\",\\\"1.085\\\",\\\"1.09\\\",\\\"1.095\\\",\\\"1.1\\\",\\\"1.105\\\",\\\"1.11\\\",\\\"1.115\\\",\\\"1.12\\\",\\\"1.125\\\",\\\"1.13\\\",\\\"1.135\\\",\\\"1.14\\\",\\\"1.145\\\",\\\"1.15\\\",\\\"1.155\\\",\\\"1.16\\\",\\\"1.165\\\",\\\"1.17\\\",\\\"1.175\\\",\\\"1.18\\\",\\\"1.185\\\",\\\"1.19\\\",\\\"1.195\\\",\\\"1.2\\\"],\\\"changes\\\":WebIO.getval({\\\"name\\\":\\\"changes\\\",\\\"scope\\\":\\\"11654621462369650489\\\",\\\"id\\\":\\\"7252765054752734906\\\",\\\"type\\\":\\\"observable\\\"}),\\\"index\\\":WebIO.getval({\\\"name\\\":\\\"index\\\",\\\"scope\\\":\\\"11654621462369650489\\\",\\\"id\\\":\\\"6967129392765580412\\\",\\\"type\\\":\\\"observable\\\"})};\\n    var self = this;\\n    function AppViewModel() {\\n        for (var key in json_data) {\\n            var el = json_data[key];\\n            this[key] = Array.isArray(el) ? ko.observableArray(el) : ko.observable(el);\\n        }\\n        \\n        [this[\\\"formatted_val\\\"]=ko.computed(    function(){\\n        return this.formatted_vals()[parseInt(this.index())-(1)];\\n    }\\n,this)]\\n        [this[\\\"changes\\\"].subscribe((function (val){!(this.valueFromJulia[\\\"changes\\\"]) ? (WebIO.setval({\\\"name\\\":\\\"changes\\\",\\\"scope\\\":\\\"11654621462369650489\\\",\\\"id\\\":\\\"7252765054752734906\\\",\\\"type\\\":\\\"observable\\\"},val)) : undefined; return this.valueFromJulia[\\\"changes\\\"]=false}),self),this[\\\"index\\\"].subscribe((function (val){!(this.valueFromJulia[\\\"index\\\"]) ? (WebIO.setval({\\\"name\\\":\\\"index\\\",\\\"scope\\\":\\\"11654621462369650489\\\",\\\"id\\\":\\\"6967129392765580412\\\",\\\"type\\\":\\\"observable\\\"},val)) : undefined; return this.valueFromJulia[\\\"index\\\"]=false}),self)]\\n        \\n    }\\n    self.model = new AppViewModel();\\n    self.valueFromJulia = {};\\n    for (var key in json_data) {\\n        self.valueFromJulia[key] = false;\\n    }\\n    ko.applyBindings(self.model, self.dom);\\n}\\n);\\n    (WebIO.importBlock({\\\"data\\\":[{\\\"name\\\":\\\"knockout\\\",\\\"type\\\":\\\"js\\\",\\\"url\\\":\\\"\\/assetserver\\/2712bb0a7395d062608c2f218a74b700f6c76b99-knockout.js\\\"},{\\\"name\\\":\\\"knockout_punches\\\",\\\"type\\\":\\\"js\\\",\\\"url\\\":\\\"\\/assetserver\\/fb4445501a2be4ab82176667f844e40da26fa007-knockout_punches.js\\\"}],\\\"type\\\":\\\"async_block\\\"})).then((imports) => handler.apply(this, imports));\\n}\\n\"],\"observables\":{\"changes\":{\"sync\":false,\"id\":\"7252765054752734906\",\"value\":0},\"index\":{\"sync\":true,\"id\":\"6967129392765580412\",\"value\":61}}},\"children\":[{\"props\":{\"className\":\"interact-flex-row interact-widget\"},\"nodeType\":\"DOM\",\"type\":\"node\",\"instanceArgs\":{\"namespace\":\"html\",\"tag\":\"div\"},\"children\":[{\"props\":{\"className\":\"interact-flex-row-left\"},\"nodeType\":\"DOM\",\"type\":\"node\",\"instanceArgs\":{\"namespace\":\"html\",\"tag\":\"div\"},\"children\":[{\"props\":{\"className\":\"interact \",\"style\":{\"padding\":\"5px 10px 0px 10px\"}},\"nodeType\":\"DOM\",\"type\":\"node\",\"instanceArgs\":{\"namespace\":\"html\",\"tag\":\"label\"},\"children\":[\"P\"]}]},{\"props\":{\"className\":\"interact-flex-row-center\"},\"nodeType\":\"DOM\",\"type\":\"node\",\"instanceArgs\":{\"namespace\":\"html\",\"tag\":\"div\"},\"children\":[{\"props\":{\"max\":121,\"min\":1,\"attributes\":{\"type\":\"range\",\"data-bind\":\"numericValue: index, valueUpdate: 'input', event: {change: function (){this.changes(this.changes()+1)}}\",\"orient\":\"horizontal\"},\"step\":1,\"className\":\"slider slider is-fullwidth\",\"style\":{}},\"nodeType\":\"DOM\",\"type\":\"node\",\"instanceArgs\":{\"namespace\":\"html\",\"tag\":\"input\"},\"children\":[]}]},{\"props\":{\"className\":\"interact-flex-row-right\"},\"nodeType\":\"DOM\",\"type\":\"node\",\"instanceArgs\":{\"namespace\":\"html\",\"tag\":\"div\"},\"children\":[{\"props\":{\"attributes\":{\"data-bind\":\"text: formatted_val\"}},\"nodeType\":\"DOM\",\"type\":\"node\",\"instanceArgs\":{\"namespace\":\"html\",\"tag\":\"p\"},\"children\":[]}]}]}]}]},{\"props\":{},\"nodeType\":\"Scope\",\"type\":\"node\",\"instanceArgs\":{\"imports\":{\"data\":[],\"type\":\"async_block\"},\"id\":\"17293096821166680981\",\"handlers\":{},\"systemjs_options\":null,\"mount_callbacks\":[],\"observables\":{\"obs-node\":{\"sync\":false,\"id\":\"2753813558241281711\",\"value\":{\"props\":{\"className\":\"interact-flex-row interact-widget\"},\"nodeType\":\"DOM\",\"type\":\"node\",\"instanceArgs\":{\"namespace\":\"html\",\"tag\":\"div\"},\"children\":[{\"props\":{\"setInnerHtml\":\"<?xml version=\\\"1.0\\\" encoding=\\\"utf-8\\\"?>\\n<svg xmlns=\\\"http:\\/\\/www.w3.org\\/2000\\/svg\\\" xmlns:xlink=\\\"http:\\/\\/www.w3.org\\/1999\\/xlink\\\" width=\\\"600\\\" height=\\\"400\\\" viewBox=\\\"0 0 2400 1600\\\">\\n<defs>\\n  <clipPath id=\\\"clip370\\\">\\n    <rect x=\\\"0\\\" y=\\\"0\\\" width=\\\"2400\\\" height=\\\"1600\\\"\\/>\\n  <\\/clipPath>\\n<\\/defs>\\n<path clip-path=\\\"url(#clip370)\\\" d=\\\"\\nM0 1600 L2400 1600 L2400 0 L0 0  Z\\n  \\\" fill=\\\"#ffffff\\\" fill-rule=\\\"evenodd\\\" fill-opacity=\\\"1\\\"\\/>\\n<defs>\\n  <clipPath id=\\\"clip371\\\">\\n    <rect x=\\\"480\\\" y=\\\"0\\\" width=\\\"1681\\\" height=\\\"1600\\\"\\/>\\n  <\\/clipPath>\\n<\\/defs>\\n<path clip-path=\\\"url(#clip370)\\\" d=\\\"\\nM175.445 1423.18 L2352.76 1423.18 L2352.76 47.2441 L175.445 47.2441  Z\\n  \\\" fill=\\\"#ffffff\\\" fill-rule=\\\"evenodd\\\" fill-opacity=\\\"1\\\"\\/>\\n<defs>\\n  <clipPath id=\\\"clip372\\\">\\n    <rect x=\\\"175\\\" y=\\\"47\\\" width=\\\"2178\\\" height=\\\"1377\\\"\\/>\\n  <\\/clipPath>\\n<\\/defs>\\n<polyline clip-path=\\\"url(#clip372)\\\" style=\\\"stroke:#000000; stroke-linecap:butt; stroke-linejoin:round; stroke-width:2; stroke-opacity:0.1; fill:none\\\" points=\\\"\\n  237.067,1423.18 237.067,47.2441 \\n  \\\"\\/>\\n<polyline clip-path=\\\"url(#clip372)\\\" style=\\\"stroke:#000000; stroke-linecap:butt; stroke-linejoin:round; stroke-width:2; stroke-opacity:0.1; fill:none\\\" points=\\\"\\n  750.584,1423.18 750.584,47.2441 \\n  \\\"\\/>\\n<polyline clip-path=\\\"url(#clip372)\\\" style=\\\"stroke:#000000; stroke-linecap:butt; stroke-linejoin:round; stroke-width:2; stroke-opacity:0.1; fill:none\\\" points=\\\"\\n  1264.1,1423.18 1264.1,47.2441 \\n  \\\"\\/>\\n<polyline clip-path=\\\"url(#clip372)\\\" style=\\\"stroke:#000000; stroke-linecap:butt; stroke-linejoin:round; stroke-width:2; stroke-opacity:0.1; fill:none\\\" points=\\\"\\n  1777.62,1423.18 1777.62,47.2441 \\n  \\\"\\/>\\n<polyline clip-path=\\\"url(#clip372)\\\" style=\\\"stroke:#000000; stroke-linecap:butt; stroke-linejoin:round; stroke-width:2; stroke-opacity:0.1; fill:none\\\" points=\\\"\\n  2291.13,1423.18 2291.13,47.2441 \\n  \\\"\\/>\\n<polyline clip-path=\\\"url(#clip370)\\\" style=\\\"stroke:#000000; stroke-linecap:butt; stroke-linejoin:round; stroke-width:4; stroke-opacity:1; fill:none\\\" points=\\\"\\n  175.445,1423.18 2352.76,1423.18 \\n  \\\"\\/>\\n<polyline clip-path=\\\"url(#clip370)\\\" style=\\\"stroke:#000000; stroke-linecap:butt; stroke-linejoin:round; stroke-width:4; stroke-opacity:1; fill:none\\\" points=\\\"\\n  237.067,1423.18 237.067,1404.28 \\n  \\\"\\/>\\n<polyline clip-path=\\\"url(#clip370)\\\" style=\\\"stroke:#000000; stroke-linecap:butt; stroke-linejoin:round; stroke-width:4; stroke-opacity:1; fill:none\\\" points=\\\"\\n  750.584,1423.18 750.584,1404.28 \\n  \\\"\\/>\\n<polyline clip-path=\\\"url(#clip370)\\\" style=\\\"stroke:#000000; stroke-linecap:butt; stroke-linejoin:round; stroke-width:4; stroke-opacity:1; fill:none\\\" points=\\\"\\n  1264.1,1423.18 1264.1,1404.28 \\n  \\\"\\/>\\n<polyline clip-path=\\\"url(#clip370)\\\" style=\\\"stroke:#000000; stroke-linecap:butt; stroke-linejoin:round; stroke-width:4; stroke-opacity:1; fill:none\\\" points=\\\"\\n  1777.62,1423.18 1777.62,1404.28 \\n  \\\"\\/>\\n<polyline clip-path=\\\"url(#clip370)\\\" style=\\\"stroke:#000000; stroke-linecap:butt; stroke-linejoin:round; stroke-width:4; stroke-opacity:1; fill:none\\\" points=\\\"\\n  2291.13,1423.18 2291.13,1404.28 \\n  \\\"\\/>\\n<path clip-path=\\\"url(#clip370)\\\" d=\\\"M214.371 1454.1 Q210.759 1454.1 208.931 1457.66 Q207.125 1461.2 207.125 1468.33 Q207.125 1475.44 208.931 1479.01 Q210.759 1482.55 214.371 1482.55 Q218.005 1482.55 219.81 1479.01 Q221.639 1475.44 221.639 1468.33 Q221.639 1461.2 219.81 1457.66 Q218.005 1454.1 214.371 1454.1 M214.371 1450.39 Q220.181 1450.39 223.236 1455 Q226.315 1459.58 226.315 1468.33 Q226.315 1477.06 223.236 1481.67 Q220.181 1486.25 214.371 1486.25 Q208.56 1486.25 205.482 1481.67 Q202.426 1477.06 202.426 1468.33 Q202.426 1459.58 205.482 1455 Q208.56 1450.39 214.371 1450.39 Z\\\" fill=\\\"#000000\\\" fill-rule=\\\"evenodd\\\" fill-opacity=\\\"1\\\" \\/><path clip-path=\\\"url(#clip370)\\\" d=\\\"M234.532 1479.7 L239.417 1479.7 L239.417 1485.58 L234.532 1485.58 L234.532 1479.7 Z\\\" fill=\\\"#000000\\\" fill-rule=\\\"evenodd\\\" fill-opacity=\\\"1\\\" \\/><path clip-path=\\\"url(#clip370)\\\" d=\\\"M260.181 1466.44 Q257.032 1466.44 255.181 1468.59 Q253.352 1470.74 253.352 1474.49 Q253.352 1478.22 255.181 1480.39 Q257.032 1482.55 260.181 1482.55 Q263.329 1482.55 265.157 1480.39 Q267.009 1478.22 267.009 1474.49 Q267.009 1470.74 265.157 1468.59 Q263.329 1466.44 260.181 1466.44 M269.463 1451.78 L269.463 1456.04 Q267.704 1455.21 265.898 1454.77 Q264.116 1454.33 262.356 1454.33 Q257.727 1454.33 255.273 1457.45 Q252.843 1460.58 252.495 1466.9 Q253.861 1464.89 255.921 1463.82 Q257.981 1462.73 260.458 1462.73 Q265.667 1462.73 268.676 1465.9 Q271.708 1469.05 271.708 1474.49 Q271.708 1479.82 268.56 1483.03 Q265.412 1486.25 260.181 1486.25 Q254.185 1486.25 251.014 1481.67 Q247.843 1477.06 247.843 1468.33 Q247.843 1460.14 251.731 1455.28 Q255.62 1450.39 262.171 1450.39 Q263.93 1450.39 265.713 1450.74 Q267.518 1451.09 269.463 1451.78 Z\\\" fill=\\\"#000000\\\" fill-rule=\\\"evenodd\\\" fill-opacity=\\\"1\\\" \\/><path clip-path=\\\"url(#clip370)\\\" d=\\\"M728.015 1454.1 Q724.403 1454.1 722.575 1457.66 Q720.769 1461.2 720.769 1468.33 Q720.769 1475.44 722.575 1479.01 Q724.403 1482.55 728.015 1482.55 Q731.649 1482.55 733.454 1479.01 Q735.283 1475.44 735.283 1468.33 Q735.283 1461.2 733.454 1457.66 Q731.649 1454.1 728.015 1454.1 M728.015 1450.39 Q733.825 1450.39 736.88 1455 Q739.959 1459.58 739.959 1468.33 Q739.959 1477.06 736.88 1481.67 Q733.825 1486.25 728.015 1486.25 Q722.204 1486.25 719.126 1481.67 Q716.07 1477.06 716.07 1468.33 Q716.07 1459.58 719.126 1455 Q722.204 1450.39 728.015 1450.39 Z\\\" fill=\\\"#000000\\\" fill-rule=\\\"evenodd\\\" fill-opacity=\\\"1\\\" \\/><path clip-path=\\\"url(#clip370)\\\" d=\\\"M748.176 1479.7 L753.061 1479.7 L753.061 1485.58 L748.176 1485.58 L748.176 1479.7 Z\\\" fill=\\\"#000000\\\" fill-rule=\\\"evenodd\\\" fill-opacity=\\\"1\\\" \\/><path clip-path=\\\"url(#clip370)\\\" d=\\\"M773.246 1469.17 Q769.912 1469.17 767.991 1470.95 Q766.093 1472.73 766.093 1475.86 Q766.093 1478.98 767.991 1480.77 Q769.912 1482.55 773.246 1482.55 Q776.579 1482.55 778.5 1480.77 Q780.422 1478.96 780.422 1475.86 Q780.422 1472.73 778.5 1470.95 Q776.602 1469.17 773.246 1469.17 M768.57 1467.18 Q765.561 1466.44 763.871 1464.38 Q762.204 1462.32 762.204 1459.35 Q762.204 1455.21 765.144 1452.8 Q768.107 1450.39 773.246 1450.39 Q778.408 1450.39 781.348 1452.8 Q784.287 1455.21 784.287 1459.35 Q784.287 1462.32 782.598 1464.38 Q780.931 1466.44 777.945 1467.18 Q781.324 1467.96 783.199 1470.26 Q785.098 1472.55 785.098 1475.86 Q785.098 1480.88 782.019 1483.57 Q778.963 1486.25 773.246 1486.25 Q767.528 1486.25 764.45 1483.57 Q761.394 1480.88 761.394 1475.86 Q761.394 1472.55 763.292 1470.26 Q765.19 1467.96 768.57 1467.18 M766.857 1459.79 Q766.857 1462.48 768.524 1463.98 Q770.213 1465.49 773.246 1465.49 Q776.255 1465.49 777.945 1463.98 Q779.658 1462.48 779.658 1459.79 Q779.658 1457.11 777.945 1455.6 Q776.255 1454.1 773.246 1454.1 Q770.213 1454.1 768.524 1455.6 Q766.857 1457.11 766.857 1459.79 Z\\\" fill=\\\"#000000\\\" fill-rule=\\\"evenodd\\\" fill-opacity=\\\"1\\\" \\/><path clip-path=\\\"url(#clip370)\\\" d=\\\"M1231.25 1481.64 L1238.89 1481.64 L1238.89 1455.28 L1230.58 1456.95 L1230.58 1452.69 L1238.85 1451.02 L1243.52 1451.02 L1243.52 1481.64 L1251.16 1481.64 L1251.16 1485.58 L1231.25 1485.58 L1231.25 1481.64 Z\\\" fill=\\\"#000000\\\" fill-rule=\\\"evenodd\\\" fill-opacity=\\\"1\\\" \\/><path clip-path=\\\"url(#clip370)\\\" d=\\\"M1260.61 1479.7 L1265.49 1479.7 L1265.49 1485.58 L1260.61 1485.58 L1260.61 1479.7 Z\\\" fill=\\\"#000000\\\" fill-rule=\\\"evenodd\\\" fill-opacity=\\\"1\\\" \\/><path clip-path=\\\"url(#clip370)\\\" d=\\\"M1285.67 1454.1 Q1282.06 1454.1 1280.23 1457.66 Q1278.43 1461.2 1278.43 1468.33 Q1278.43 1475.44 1280.23 1479.01 Q1282.06 1482.55 1285.67 1482.55 Q1289.31 1482.55 1291.11 1479.01 Q1292.94 1475.44 1292.94 1468.33 Q1292.94 1461.2 1291.11 1457.66 Q1289.31 1454.1 1285.67 1454.1 M1285.67 1450.39 Q1291.48 1450.39 1294.54 1455 Q1297.62 1459.58 1297.62 1468.33 Q1297.62 1477.06 1294.54 1481.67 Q1291.48 1486.25 1285.67 1486.25 Q1279.86 1486.25 1276.79 1481.67 Q1273.73 1477.06 1273.73 1468.33 Q1273.73 1459.58 1276.79 1455 Q1279.86 1450.39 1285.67 1450.39 Z\\\" fill=\\\"#000000\\\" fill-rule=\\\"evenodd\\\" fill-opacity=\\\"1\\\" \\/><path clip-path=\\\"url(#clip370)\\\" d=\\\"M1745.57 1481.64 L1753.21 1481.64 L1753.21 1455.28 L1744.9 1456.95 L1744.9 1452.69 L1753.16 1451.02 L1757.84 1451.02 L1757.84 1481.64 L1765.48 1481.64 L1765.48 1485.58 L1745.57 1485.58 L1745.57 1481.64 Z\\\" fill=\\\"#000000\\\" fill-rule=\\\"evenodd\\\" fill-opacity=\\\"1\\\" \\/><path clip-path=\\\"url(#clip370)\\\" d=\\\"M1774.92 1479.7 L1779.8 1479.7 L1779.8 1485.58 L1774.92 1485.58 L1774.92 1479.7 Z\\\" fill=\\\"#000000\\\" fill-rule=\\\"evenodd\\\" fill-opacity=\\\"1\\\" \\/><path clip-path=\\\"url(#clip370)\\\" d=\\\"M1794.02 1481.64 L1810.34 1481.64 L1810.34 1485.58 L1788.39 1485.58 L1788.39 1481.64 Q1791.05 1478.89 1795.64 1474.26 Q1800.24 1469.61 1801.42 1468.27 Q1803.67 1465.74 1804.55 1464.01 Q1805.45 1462.25 1805.45 1460.56 Q1805.45 1457.8 1803.51 1456.07 Q1801.59 1454.33 1798.49 1454.33 Q1796.29 1454.33 1793.83 1455.09 Q1791.4 1455.86 1788.62 1457.41 L1788.62 1452.69 Q1791.45 1451.55 1793.9 1450.97 Q1796.36 1450.39 1798.39 1450.39 Q1803.76 1450.39 1806.96 1453.08 Q1810.15 1455.77 1810.15 1460.26 Q1810.15 1462.39 1809.34 1464.31 Q1808.55 1466.2 1806.45 1468.8 Q1805.87 1469.47 1802.77 1472.69 Q1799.67 1475.88 1794.02 1481.64 Z\\\" fill=\\\"#000000\\\" fill-rule=\\\"evenodd\\\" fill-opacity=\\\"1\\\" \\/><path clip-path=\\\"url(#clip370)\\\" d=\\\"M2258.04 1481.64 L2265.68 1481.64 L2265.68 1455.28 L2257.37 1456.95 L2257.37 1452.69 L2265.64 1451.02 L2270.31 1451.02 L2270.31 1481.64 L2277.95 1481.64 L2277.95 1485.58 L2258.04 1485.58 L2258.04 1481.64 Z\\\" fill=\\\"#000000\\\" fill-rule=\\\"evenodd\\\" fill-opacity=\\\"1\\\" \\/><path clip-path=\\\"url(#clip370)\\\" d=\\\"M2287.4 1479.7 L2292.28 1479.7 L2292.28 1485.58 L2287.4 1485.58 L2287.4 1479.7 Z\\\" fill=\\\"#000000\\\" fill-rule=\\\"evenodd\\\" fill-opacity=\\\"1\\\" \\/><path clip-path=\\\"url(#clip370)\\\" d=\\\"M2315.31 1455.09 L2303.51 1473.54 L2315.31 1473.54 L2315.31 1455.09 M2314.09 1451.02 L2319.96 1451.02 L2319.96 1473.54 L2324.9 1473.54 L2324.9 1477.43 L2319.96 1477.43 L2319.96 1485.58 L2315.31 1485.58 L2315.31 1477.43 L2299.71 1477.43 L2299.71 1472.92 L2314.09 1451.02 Z\\\" fill=\\\"#000000\\\" fill-rule=\\\"evenodd\\\" fill-opacity=\\\"1\\\" \\/><path clip-path=\\\"url(#clip370)\\\" d=\\\"M1254.04 1562.7 L1254.04 1581.6 L1248.15 1581.6 L1248.15 1532.4 L1254.04 1532.4 L1254.04 1537.81 Q1255.89 1534.62 1258.69 1533.1 Q1261.52 1531.54 1265.44 1531.54 Q1271.93 1531.54 1275.97 1536.69 Q1280.05 1541.85 1280.05 1550.25 Q1280.05 1558.65 1275.97 1563.81 Q1271.93 1568.97 1265.44 1568.97 Q1261.52 1568.97 1258.69 1567.44 Q1255.89 1565.88 1254.04 1562.7 M1273.97 1550.25 Q1273.97 1543.79 1271.29 1540.13 Q1268.65 1536.44 1264.01 1536.44 Q1259.36 1536.44 1256.68 1540.13 Q1254.04 1543.79 1254.04 1550.25 Q1254.04 1556.71 1256.68 1560.4 Q1259.36 1564.07 1264.01 1564.07 Q1268.65 1564.07 1271.29 1560.4 Q1273.97 1556.71 1273.97 1550.25 Z\\\" fill=\\\"#000000\\\" fill-rule=\\\"evenodd\\\" fill-opacity=\\\"1\\\" \\/><polyline clip-path=\\\"url(#clip372)\\\" style=\\\"stroke:#000000; stroke-linecap:butt; stroke-linejoin:round; stroke-width:2; stroke-opacity:0.1; fill:none\\\" points=\\\"\\n  175.445,1384.24 2352.76,1384.24 \\n  \\\"\\/>\\n<polyline clip-path=\\\"url(#clip372)\\\" style=\\\"stroke:#000000; stroke-linecap:butt; stroke-linejoin:round; stroke-width:2; stroke-opacity:0.1; fill:none\\\" points=\\\"\\n  175.445,1186.74 2352.76,1186.74 \\n  \\\"\\/>\\n<polyline clip-path=\\\"url(#clip372)\\\" style=\\\"stroke:#000000; stroke-linecap:butt; stroke-linejoin:round; stroke-width:2; stroke-opacity:0.1; fill:none\\\" points=\\\"\\n  175.445,989.237 2352.76,989.237 \\n  \\\"\\/>\\n<polyline clip-path=\\\"url(#clip372)\\\" style=\\\"stroke:#000000; stroke-linecap:butt; stroke-linejoin:round; stroke-width:2; stroke-opacity:0.1; fill:none\\\" points=\\\"\\n  175.445,791.736 2352.76,791.736 \\n  \\\"\\/>\\n<polyline clip-path=\\\"url(#clip372)\\\" style=\\\"stroke:#000000; stroke-linecap:butt; stroke-linejoin:round; stroke-width:2; stroke-opacity:0.1; fill:none\\\" points=\\\"\\n  175.445,594.235 2352.76,594.235 \\n  \\\"\\/>\\n<polyline clip-path=\\\"url(#clip372)\\\" style=\\\"stroke:#000000; stroke-linecap:butt; stroke-linejoin:round; stroke-width:2; stroke-opacity:0.1; fill:none\\\" points=\\\"\\n  175.445,396.735 2352.76,396.735 \\n  \\\"\\/>\\n<polyline clip-path=\\\"url(#clip372)\\\" style=\\\"stroke:#000000; stroke-linecap:butt; stroke-linejoin:round; stroke-width:2; stroke-opacity:0.1; fill:none\\\" points=\\\"\\n  175.445,199.234 2352.76,199.234 \\n  \\\"\\/>\\n<polyline clip-path=\\\"url(#clip370)\\\" style=\\\"stroke:#000000; stroke-linecap:butt; stroke-linejoin:round; stroke-width:4; stroke-opacity:1; fill:none\\\" points=\\\"\\n  175.445,1423.18 175.445,47.2441 \\n  \\\"\\/>\\n<polyline clip-path=\\\"url(#clip370)\\\" style=\\\"stroke:#000000; stroke-linecap:butt; stroke-linejoin:round; stroke-width:4; stroke-opacity:1; fill:none\\\" points=\\\"\\n  175.445,1384.24 194.343,1384.24 \\n  \\\"\\/>\\n<polyline clip-path=\\\"url(#clip370)\\\" style=\\\"stroke:#000000; stroke-linecap:butt; stroke-linejoin:round; stroke-width:4; stroke-opacity:1; fill:none\\\" points=\\\"\\n  175.445,1186.74 194.343,1186.74 \\n  \\\"\\/>\\n<polyline clip-path=\\\"url(#clip370)\\\" style=\\\"stroke:#000000; stroke-linecap:butt; stroke-linejoin:round; stroke-width:4; stroke-opacity:1; fill:none\\\" points=\\\"\\n  175.445,989.237 194.343,989.237 \\n  \\\"\\/>\\n<polyline clip-path=\\\"url(#clip370)\\\" style=\\\"stroke:#000000; stroke-linecap:butt; stroke-linejoin:round; stroke-width:4; stroke-opacity:1; fill:none\\\" points=\\\"\\n  175.445,791.736 194.343,791.736 \\n  \\\"\\/>\\n<polyline clip-path=\\\"url(#clip370)\\\" style=\\\"stroke:#000000; stroke-linecap:butt; stroke-linejoin:round; stroke-width:4; stroke-opacity:1; fill:none\\\" points=\\\"\\n  175.445,594.235 194.343,594.235 \\n  \\\"\\/>\\n<polyline clip-path=\\\"url(#clip370)\\\" style=\\\"stroke:#000000; stroke-linecap:butt; stroke-linejoin:round; stroke-width:4; stroke-opacity:1; fill:none\\\" points=\\\"\\n  175.445,396.735 194.343,396.735 \\n  \\\"\\/>\\n<polyline clip-path=\\\"url(#clip370)\\\" style=\\\"stroke:#000000; stroke-linecap:butt; stroke-linejoin:round; stroke-width:4; stroke-opacity:1; fill:none\\\" points=\\\"\\n  175.445,199.234 194.343,199.234 \\n  \\\"\\/>\\n<path clip-path=\\\"url(#clip370)\\\" d=\\\"M127.501 1370.04 Q123.89 1370.04 122.061 1373.6 Q120.255 1377.14 120.255 1384.27 Q120.255 1391.38 122.061 1394.94 Q123.89 1398.49 127.501 1398.49 Q131.135 1398.49 132.941 1394.94 Q134.769 1391.38 134.769 1384.27 Q134.769 1377.14 132.941 1373.6 Q131.135 1370.04 127.501 1370.04 M127.501 1366.33 Q133.311 1366.33 136.367 1370.94 Q139.445 1375.52 139.445 1384.27 Q139.445 1393 136.367 1397.61 Q133.311 1402.19 127.501 1402.19 Q121.691 1402.19 118.612 1397.61 Q115.556 1393 115.556 1384.27 Q115.556 1375.52 118.612 1370.94 Q121.691 1366.33 127.501 1366.33 Z\\\" fill=\\\"#000000\\\" fill-rule=\\\"evenodd\\\" fill-opacity=\\\"1\\\" \\/><path clip-path=\\\"url(#clip370)\\\" d=\\\"M119.538 1200.08 L127.177 1200.08 L127.177 1173.72 L118.867 1175.38 L118.867 1171.12 L127.13 1169.46 L131.806 1169.46 L131.806 1200.08 L139.445 1200.08 L139.445 1204.02 L119.538 1204.02 L119.538 1200.08 Z\\\" fill=\\\"#000000\\\" fill-rule=\\\"evenodd\\\" fill-opacity=\\\"1\\\" \\/><path clip-path=\\\"url(#clip370)\\\" d=\\\"M123.126 1002.58 L139.445 1002.58 L139.445 1006.52 L117.501 1006.52 L117.501 1002.58 Q120.163 999.827 124.746 995.197 Q129.353 990.545 130.533 989.202 Q132.779 986.679 133.658 984.943 Q134.561 983.184 134.561 981.494 Q134.561 978.739 132.617 977.003 Q130.695 975.267 127.593 975.267 Q125.394 975.267 122.941 976.031 Q120.51 976.795 117.732 978.346 L117.732 973.623 Q120.556 972.489 123.01 971.911 Q125.464 971.332 127.501 971.332 Q132.871 971.332 136.066 974.017 Q139.26 976.702 139.26 981.193 Q139.26 983.323 138.45 985.244 Q137.663 987.142 135.556 989.735 Q134.978 990.406 131.876 993.623 Q128.774 996.818 123.126 1002.58 Z\\\" fill=\\\"#000000\\\" fill-rule=\\\"evenodd\\\" fill-opacity=\\\"1\\\" \\/><path clip-path=\\\"url(#clip370)\\\" d=\\\"M132.316 790.382 Q135.672 791.1 137.547 793.368 Q139.445 795.637 139.445 798.97 Q139.445 804.086 135.927 806.886 Q132.408 809.687 125.927 809.687 Q123.751 809.687 121.436 809.248 Q119.144 808.831 116.691 807.974 L116.691 803.461 Q118.635 804.595 120.95 805.174 Q123.265 805.752 125.788 805.752 Q130.186 805.752 132.478 804.016 Q134.792 802.28 134.792 798.97 Q134.792 795.914 132.64 794.201 Q130.51 792.465 126.691 792.465 L122.663 792.465 L122.663 788.623 L126.876 788.623 Q130.325 788.623 132.154 787.257 Q133.982 785.868 133.982 783.276 Q133.982 780.613 132.084 779.201 Q130.209 777.766 126.691 777.766 Q124.769 777.766 122.57 778.183 Q120.371 778.6 117.732 779.479 L117.732 775.313 Q120.394 774.572 122.709 774.201 Q125.047 773.831 127.107 773.831 Q132.431 773.831 135.533 776.262 Q138.635 778.669 138.635 782.789 Q138.635 785.66 136.992 787.65 Q135.348 789.618 132.316 790.382 Z\\\" fill=\\\"#000000\\\" fill-rule=\\\"evenodd\\\" fill-opacity=\\\"1\\\" \\/><path clip-path=\\\"url(#clip370)\\\" d=\\\"M129.862 581.029 L118.056 599.478 L129.862 599.478 L129.862 581.029 M128.635 576.955 L134.515 576.955 L134.515 599.478 L139.445 599.478 L139.445 603.367 L134.515 603.367 L134.515 611.515 L129.862 611.515 L129.862 603.367 L114.26 603.367 L114.26 598.853 L128.635 576.955 Z\\\" fill=\\\"#000000\\\" fill-rule=\\\"evenodd\\\" fill-opacity=\\\"1\\\" \\/><path clip-path=\\\"url(#clip370)\\\" d=\\\"M118.543 379.455 L136.899 379.455 L136.899 383.39 L122.825 383.39 L122.825 391.862 Q123.843 391.515 124.862 391.353 Q125.88 391.168 126.899 391.168 Q132.686 391.168 136.066 394.339 Q139.445 397.51 139.445 402.927 Q139.445 408.505 135.973 411.607 Q132.501 414.686 126.181 414.686 Q124.005 414.686 121.737 414.316 Q119.492 413.945 117.084 413.204 L117.084 408.505 Q119.168 409.64 121.39 410.195 Q123.612 410.751 126.089 410.751 Q130.093 410.751 132.431 408.644 Q134.769 406.538 134.769 402.927 Q134.769 399.316 132.431 397.209 Q130.093 395.103 126.089 395.103 Q124.214 395.103 122.339 395.519 Q120.487 395.936 118.543 396.816 L118.543 379.455 Z\\\" fill=\\\"#000000\\\" fill-rule=\\\"evenodd\\\" fill-opacity=\\\"1\\\" \\/><path clip-path=\\\"url(#clip370)\\\" d=\\\"M127.917 197.371 Q124.769 197.371 122.918 199.523 Q121.089 201.676 121.089 205.426 Q121.089 209.153 122.918 211.329 Q124.769 213.482 127.917 213.482 Q131.066 213.482 132.894 211.329 Q134.746 209.153 134.746 205.426 Q134.746 201.676 132.894 199.523 Q131.066 197.371 127.917 197.371 M137.2 182.718 L137.2 186.977 Q135.441 186.144 133.635 185.704 Q131.853 185.264 130.093 185.264 Q125.464 185.264 123.01 188.389 Q120.58 191.514 120.232 197.834 Q121.598 195.82 123.658 194.755 Q125.718 193.667 128.195 193.667 Q133.404 193.667 136.413 196.838 Q139.445 199.986 139.445 205.426 Q139.445 210.75 136.297 213.968 Q133.149 217.185 127.917 217.185 Q121.922 217.185 118.751 212.602 Q115.58 207.995 115.58 199.269 Q115.58 191.074 119.468 186.213 Q123.357 181.329 129.908 181.329 Q131.667 181.329 133.45 181.676 Q135.255 182.023 137.2 182.718 Z\\\" fill=\\\"#000000\\\" fill-rule=\\\"evenodd\\\" fill-opacity=\\\"1\\\" \\/><path clip-path=\\\"url(#clip370)\\\" d=\\\"M28.3562 718.597 L45.7028 731.488 L64.0042 717.929 L64.0042 724.836 L49.9996 735.212 L64.0042 745.588 L64.0042 752.495 L45.3526 738.649 L28.3562 751.317 L28.3562 744.41 L41.0558 734.957 L28.3562 725.504 L28.3562 718.597 Z\\\" fill=\\\"#000000\\\" fill-rule=\\\"evenodd\\\" fill-opacity=\\\"1\\\" \\/><polyline clip-path=\\\"url(#clip372)\\\" style=\\\"stroke:#009af9; stroke-linecap:butt; stroke-linejoin:round; stroke-width:8; stroke-opacity:1; fill:none\\\" points=\\\"\\n  237.067,86.1857 248.518,88.8362 \\n  \\\"\\/>\\n<polyline clip-path=\\\"url(#clip372)\\\" style=\\\"stroke:#009af9; stroke-linecap:butt; stroke-linejoin:round; stroke-width:8; stroke-opacity:1; fill:none\\\" points=\\\"\\n  248.518,88.8362 264.728,92.6107 \\n  \\\"\\/>\\n<polyline clip-path=\\\"url(#clip372)\\\" style=\\\"stroke:#009af9; stroke-linecap:butt; stroke-linejoin:round; stroke-width:8; stroke-opacity:1; fill:none\\\" points=\\\"\\n  264.728,92.6107 287.62,97.9871 \\n  \\\"\\/>\\n<polyline clip-path=\\\"url(#clip372)\\\" style=\\\"stroke:#009af9; stroke-linecap:butt; stroke-linejoin:round; stroke-width:8; stroke-opacity:1; fill:none\\\" points=\\\"\\n  287.62,97.9871 319.839,105.648 \\n  \\\"\\/>\\n<polyline clip-path=\\\"url(#clip372)\\\" style=\\\"stroke:#009af9; stroke-linecap:butt; stroke-linejoin:round; stroke-width:8; stroke-opacity:1; fill:none\\\" points=\\\"\\n  319.839,105.648 364.96,116.569 \\n  \\\"\\/>\\n<polyline clip-path=\\\"url(#clip372)\\\" style=\\\"stroke:#009af9; stroke-linecap:butt; stroke-linejoin:round; stroke-width:8; stroke-opacity:1; fill:none\\\" points=\\\"\\n  364.96,116.569 427.68,132.148 \\n  \\\"\\/>\\n<polyline clip-path=\\\"url(#clip372)\\\" style=\\\"stroke:#009af9; stroke-linecap:butt; stroke-linejoin:round; stroke-width:8; stroke-opacity:1; fill:none\\\" points=\\\"\\n  427.68,132.148 513.882,154.392 \\n  \\\"\\/>\\n<polyline clip-path=\\\"url(#clip372)\\\" style=\\\"stroke:#009af9; stroke-linecap:butt; stroke-linejoin:round; stroke-width:8; stroke-opacity:1; fill:none\\\" points=\\\"\\n  513.882,154.392 612.787,181.27 \\n  \\\"\\/>\\n<polyline clip-path=\\\"url(#clip372)\\\" style=\\\"stroke:#009af9; stroke-linecap:butt; stroke-linejoin:round; stroke-width:8; stroke-opacity:1; fill:none\\\" points=\\\"\\n  612.787,181.27 706.341,208.261 \\n  \\\"\\/>\\n<polyline clip-path=\\\"url(#clip372)\\\" style=\\\"stroke:#009af9; stroke-linecap:butt; stroke-linejoin:round; stroke-width:8; stroke-opacity:1; fill:none\\\" points=\\\"\\n  706.341,208.261 794.468,235.36 \\n  \\\"\\/>\\n<polyline clip-path=\\\"url(#clip372)\\\" style=\\\"stroke:#009af9; stroke-linecap:butt; stroke-linejoin:round; stroke-width:8; stroke-opacity:1; fill:none\\\" points=\\\"\\n  794.468,235.36 877.098,262.561 \\n  \\\"\\/>\\n<polyline clip-path=\\\"url(#clip372)\\\" style=\\\"stroke:#009af9; stroke-linecap:butt; stroke-linejoin:round; stroke-width:8; stroke-opacity:1; fill:none\\\" points=\\\"\\n  877.098,262.561 954.167,289.859 \\n  \\\"\\/>\\n<polyline clip-path=\\\"url(#clip372)\\\" style=\\\"stroke:#009af9; stroke-linecap:butt; stroke-linejoin:round; stroke-width:8; stroke-opacity:1; fill:none\\\" points=\\\"\\n  954.167,289.859 1025.62,317.248 \\n  \\\"\\/>\\n<polyline clip-path=\\\"url(#clip372)\\\" style=\\\"stroke:#009af9; stroke-linecap:butt; stroke-linejoin:round; stroke-width:8; stroke-opacity:1; fill:none\\\" points=\\\"\\n  1025.62,317.248 1091.41,344.72 \\n  \\\"\\/>\\n<polyline clip-path=\\\"url(#clip372)\\\" style=\\\"stroke:#009af9; stroke-linecap:butt; stroke-linejoin:round; stroke-width:8; stroke-opacity:1; fill:none\\\" points=\\\"\\n  1091.41,344.72 1151.48,372.269 \\n  \\\"\\/>\\n<polyline clip-path=\\\"url(#clip372)\\\" style=\\\"stroke:#009af9; stroke-linecap:butt; stroke-linejoin:round; stroke-width:8; stroke-opacity:1; fill:none\\\" points=\\\"\\n  1151.48,372.269 1205.82,399.889 \\n  \\\"\\/>\\n<polyline clip-path=\\\"url(#clip372)\\\" style=\\\"stroke:#009af9; stroke-linecap:butt; stroke-linejoin:round; stroke-width:8; stroke-opacity:1; fill:none\\\" points=\\\"\\n  1205.82,399.889 1254.39,427.573 \\n  \\\"\\/>\\n<polyline clip-path=\\\"url(#clip372)\\\" style=\\\"stroke:#009af9; stroke-linecap:butt; stroke-linejoin:round; stroke-width:8; stroke-opacity:1; fill:none\\\" points=\\\"\\n  1254.39,427.573 1297.18,455.313 \\n  \\\"\\/>\\n<polyline clip-path=\\\"url(#clip372)\\\" style=\\\"stroke:#009af9; stroke-linecap:butt; stroke-linejoin:round; stroke-width:8; stroke-opacity:1; fill:none\\\" points=\\\"\\n  1297.18,455.313 1334.18,483.102 \\n  \\\"\\/>\\n<polyline clip-path=\\\"url(#clip372)\\\" style=\\\"stroke:#009af9; stroke-linecap:butt; stroke-linejoin:round; stroke-width:8; stroke-opacity:1; fill:none\\\" points=\\\"\\n  1334.18,483.102 1365.41,510.933 \\n  \\\"\\/>\\n<polyline clip-path=\\\"url(#clip372)\\\" style=\\\"stroke:#009af9; stroke-linecap:butt; stroke-linejoin:round; stroke-width:8; stroke-opacity:1; fill:none\\\" points=\\\"\\n  1365.41,510.933 1390.89,538.798 \\n  \\\"\\/>\\n<polyline clip-path=\\\"url(#clip372)\\\" style=\\\"stroke:#009af9; stroke-linecap:butt; stroke-linejoin:round; stroke-width:8; stroke-opacity:1; fill:none\\\" points=\\\"\\n  1390.89,538.798 1410.64,566.691 \\n  \\\"\\/>\\n<polyline clip-path=\\\"url(#clip372)\\\" style=\\\"stroke:#009af9; stroke-linecap:butt; stroke-linejoin:round; stroke-width:8; stroke-opacity:1; fill:none\\\" points=\\\"\\n  1410.64,566.691 1424.72,594.604 \\n  \\\"\\/>\\n<polyline clip-path=\\\"url(#clip372)\\\" style=\\\"stroke:#009af9; stroke-linecap:butt; stroke-linejoin:round; stroke-width:8; stroke-opacity:1; fill:none\\\" points=\\\"\\n  1424.72,594.604 1433.2,622.531 \\n  \\\"\\/>\\n<polyline clip-path=\\\"url(#clip372)\\\" style=\\\"stroke:#009af9; stroke-linecap:butt; stroke-linejoin:round; stroke-width:8; stroke-opacity:1; fill:none\\\" points=\\\"\\n  1433.2,622.531 1436.16,650.464 \\n  \\\"\\/>\\n<polyline clip-path=\\\"url(#clip372)\\\" style=\\\"stroke:#009af9; stroke-linecap:butt; stroke-linejoin:round; stroke-width:8; stroke-opacity:1; fill:none\\\" points=\\\"\\n  1436.16,650.464 1436.17,651.776 \\n  \\\"\\/>\\n<polyline clip-path=\\\"url(#clip372)\\\" style=\\\"stroke:#009af9; stroke-linecap:butt; stroke-linejoin:round; stroke-width:4; stroke-opacity:1; fill:none\\\" points=\\\"\\n  1436.17,651.776 1433.46,679.707 \\n  \\\"\\/>\\n<polyline clip-path=\\\"url(#clip372)\\\" style=\\\"stroke:#009af9; stroke-linecap:butt; stroke-linejoin:round; stroke-width:4; stroke-opacity:1; fill:none\\\" points=\\\"\\n  1433.46,679.707 1425.46,707.634 \\n  \\\"\\/>\\n<polyline clip-path=\\\"url(#clip372)\\\" style=\\\"stroke:#009af9; stroke-linecap:butt; stroke-linejoin:round; stroke-width:4; stroke-opacity:1; fill:none\\\" points=\\\"\\n  1425.46,707.634 1412.34,735.549 \\n  \\\"\\/>\\n<polyline clip-path=\\\"url(#clip372)\\\" style=\\\"stroke:#009af9; stroke-linecap:butt; stroke-linejoin:round; stroke-width:4; stroke-opacity:1; fill:none\\\" points=\\\"\\n  1412.34,735.549 1394.26,763.448 \\n  \\\"\\/>\\n<polyline clip-path=\\\"url(#clip372)\\\" style=\\\"stroke:#009af9; stroke-linecap:butt; stroke-linejoin:round; stroke-width:4; stroke-opacity:1; fill:none\\\" points=\\\"\\n  1394.26,763.448 1371.45,791.326 \\n  \\\"\\/>\\n<polyline clip-path=\\\"url(#clip372)\\\" style=\\\"stroke:#009af9; stroke-linecap:butt; stroke-linejoin:round; stroke-width:4; stroke-opacity:1; fill:none\\\" points=\\\"\\n  1371.45,791.326 1344.17,819.18 \\n  \\\"\\/>\\n<polyline clip-path=\\\"url(#clip372)\\\" style=\\\"stroke:#009af9; stroke-linecap:butt; stroke-linejoin:round; stroke-width:4; stroke-opacity:1; fill:none\\\" points=\\\"\\n  1344.17,819.18 1312.72,847.008 \\n  \\\"\\/>\\n<polyline clip-path=\\\"url(#clip372)\\\" style=\\\"stroke:#009af9; stroke-linecap:butt; stroke-linejoin:round; stroke-width:4; stroke-opacity:1; fill:none\\\" points=\\\"\\n  1312.72,847.008 1277.48,874.809 \\n  \\\"\\/>\\n<polyline clip-path=\\\"url(#clip372)\\\" style=\\\"stroke:#009af9; stroke-linecap:butt; stroke-linejoin:round; stroke-width:4; stroke-opacity:1; fill:none\\\" points=\\\"\\n  1277.48,874.809 1238.89,902.582 \\n  \\\"\\/>\\n<polyline clip-path=\\\"url(#clip372)\\\" style=\\\"stroke:#009af9; stroke-linecap:butt; stroke-linejoin:round; stroke-width:4; stroke-opacity:1; fill:none\\\" points=\\\"\\n  1238.89,902.582 1197.5,930.332 \\n  \\\"\\/>\\n<polyline clip-path=\\\"url(#clip372)\\\" style=\\\"stroke:#009af9; stroke-linecap:butt; stroke-linejoin:round; stroke-width:4; stroke-opacity:1; fill:none\\\" points=\\\"\\n  1197.5,930.332 1153.99,958.062 \\n  \\\"\\/>\\n<polyline clip-path=\\\"url(#clip372)\\\" style=\\\"stroke:#009af9; stroke-linecap:butt; stroke-linejoin:round; stroke-width:4; stroke-opacity:1; fill:none\\\" points=\\\"\\n  1153.99,958.062 1109.24,985.78 \\n  \\\"\\/>\\n<polyline clip-path=\\\"url(#clip372)\\\" style=\\\"stroke:#009af9; stroke-linecap:butt; stroke-linejoin:round; stroke-width:4; stroke-opacity:1; fill:none\\\" points=\\\"\\n  1109.24,985.78 1064.36,1013.5 \\n  \\\"\\/>\\n<polyline clip-path=\\\"url(#clip372)\\\" style=\\\"stroke:#009af9; stroke-linecap:butt; stroke-linejoin:round; stroke-width:4; stroke-opacity:1; fill:none\\\" points=\\\"\\n  1064.36,1013.5 1020.83,1041.23 \\n  \\\"\\/>\\n<polyline clip-path=\\\"url(#clip372)\\\" style=\\\"stroke:#009af9; stroke-linecap:butt; stroke-linejoin:round; stroke-width:4; stroke-opacity:1; fill:none\\\" points=\\\"\\n  1020.83,1041.23 980.648,1068.99 \\n  \\\"\\/>\\n<polyline clip-path=\\\"url(#clip372)\\\" style=\\\"stroke:#009af9; stroke-linecap:butt; stroke-linejoin:round; stroke-width:4; stroke-opacity:1; fill:none\\\" points=\\\"\\n  980.648,1068.99 946.644,1096.8 \\n  \\\"\\/>\\n<polyline clip-path=\\\"url(#clip372)\\\" style=\\\"stroke:#009af9; stroke-linecap:butt; stroke-linejoin:round; stroke-width:4; stroke-opacity:1; fill:none\\\" points=\\\"\\n  946.644,1096.8 922.907,1124.68 \\n  \\\"\\/>\\n<polyline clip-path=\\\"url(#clip372)\\\" style=\\\"stroke:#009af9; stroke-linecap:butt; stroke-linejoin:round; stroke-width:4; stroke-opacity:1; fill:none\\\" points=\\\"\\n  922.907,1124.68 915.323,1149.14 \\n  \\\"\\/>\\n<polyline clip-path=\\\"url(#clip372)\\\" style=\\\"stroke:#009af9; stroke-linecap:butt; stroke-linejoin:round; stroke-width:8; stroke-opacity:1; fill:none\\\" points=\\\"\\n  915.323,1149.14 929.997,1177.08 \\n  \\\"\\/>\\n<polyline clip-path=\\\"url(#clip372)\\\" style=\\\"stroke:#009af9; stroke-linecap:butt; stroke-linejoin:round; stroke-width:8; stroke-opacity:1; fill:none\\\" points=\\\"\\n  929.997,1177.08 983.165,1204.86 \\n  \\\"\\/>\\n<polyline clip-path=\\\"url(#clip372)\\\" style=\\\"stroke:#009af9; stroke-linecap:butt; stroke-linejoin:round; stroke-width:8; stroke-opacity:1; fill:none\\\" points=\\\"\\n  983.165,1204.86 1094.8,1231.83 \\n  \\\"\\/>\\n<polyline clip-path=\\\"url(#clip372)\\\" style=\\\"stroke:#009af9; stroke-linecap:butt; stroke-linejoin:round; stroke-width:8; stroke-opacity:1; fill:none\\\" points=\\\"\\n  1094.8,1231.83 1284.21,1256.51 \\n  \\\"\\/>\\n<polyline clip-path=\\\"url(#clip372)\\\" style=\\\"stroke:#009af9; stroke-linecap:butt; stroke-linejoin:round; stroke-width:8; stroke-opacity:1; fill:none\\\" points=\\\"\\n  1284.21,1256.51 1548.87,1276.92 \\n  \\\"\\/>\\n<polyline clip-path=\\\"url(#clip372)\\\" style=\\\"stroke:#009af9; stroke-linecap:butt; stroke-linejoin:round; stroke-width:8; stroke-opacity:1; fill:none\\\" points=\\\"\\n  1548.87,1276.92 1860.56,1292.46 \\n  \\\"\\/>\\n<polyline clip-path=\\\"url(#clip372)\\\" style=\\\"stroke:#009af9; stroke-linecap:butt; stroke-linejoin:round; stroke-width:8; stroke-opacity:1; fill:none\\\" points=\\\"\\n  1860.56,1292.46 2195.02,1304.12 \\n  \\\"\\/>\\n<polyline clip-path=\\\"url(#clip372)\\\" style=\\\"stroke:#009af9; stroke-linecap:butt; stroke-linejoin:round; stroke-width:8; stroke-opacity:1; fill:none\\\" points=\\\"\\n  2195.02,1304.12 2291.13,1306.86 \\n  \\\"\\/>\\n<circle clip-path=\\\"url(#clip372)\\\" cx=\\\"1436.17\\\" cy=\\\"651.776\\\" r=\\\"10\\\" fill=\\\"#0000ff\\\" fill-rule=\\\"evenodd\\\" fill-opacity=\\\"1\\\" stroke=\\\"#000000\\\" stroke-opacity=\\\"1\\\" stroke-width=\\\"0\\\"\\/>\\n<circle clip-path=\\\"url(#clip372)\\\" cx=\\\"915.323\\\" cy=\\\"1149.14\\\" r=\\\"10\\\" fill=\\\"#0000ff\\\" fill-rule=\\\"evenodd\\\" fill-opacity=\\\"1\\\" stroke=\\\"#000000\\\" stroke-opacity=\\\"1\\\" stroke-width=\\\"0\\\"\\/>\\n<circle clip-path=\\\"url(#clip372)\\\" cx=\\\"1436.17\\\" cy=\\\"651.776\\\" r=\\\"10\\\" fill=\\\"#0000ff\\\" fill-rule=\\\"evenodd\\\" fill-opacity=\\\"1\\\" stroke=\\\"#000000\\\" stroke-opacity=\\\"1\\\" stroke-width=\\\"0\\\"\\/>\\n<circle clip-path=\\\"url(#clip372)\\\" cx=\\\"1007.34\\\" cy=\\\"1050.2\\\" r=\\\"14\\\" fill=\\\"#c271d2\\\" fill-rule=\\\"evenodd\\\" fill-opacity=\\\"1\\\" stroke=\\\"#000000\\\" stroke-opacity=\\\"1\\\" stroke-width=\\\"3.2\\\"\\/>\\n<circle clip-path=\\\"url(#clip372)\\\" cx=\\\"1007.34\\\" cy=\\\"1212.48\\\" r=\\\"14\\\" fill=\\\"#c271d2\\\" fill-rule=\\\"evenodd\\\" fill-opacity=\\\"1\\\" stroke=\\\"#000000\\\" stroke-opacity=\\\"1\\\" stroke-width=\\\"3.2\\\"\\/>\\n<circle clip-path=\\\"url(#clip372)\\\" cx=\\\"1007.34\\\" cy=\\\"310.023\\\" r=\\\"14\\\" fill=\\\"#c271d2\\\" fill-rule=\\\"evenodd\\\" fill-opacity=\\\"1\\\" stroke=\\\"#000000\\\" stroke-opacity=\\\"1\\\" stroke-width=\\\"3.2\\\"\\/>\\n<circle clip-path=\\\"url(#clip372)\\\" cx=\\\"1007.34\\\" cy=\\\"1384.24\\\" r=\\\"14\\\" fill=\\\"#c271d2\\\" fill-rule=\\\"evenodd\\\" fill-opacity=\\\"1\\\" stroke=\\\"#000000\\\" stroke-opacity=\\\"1\\\" stroke-width=\\\"3.2\\\"\\/>\\n<path clip-path=\\\"url(#clip370)\\\" d=\\\"\\nM1984.97 248.629 L2280.18 248.629 L2280.18 93.1086 L1984.97 93.1086  Z\\n  \\\" fill=\\\"#ffffff\\\" fill-rule=\\\"evenodd\\\" fill-opacity=\\\"1\\\"\\/>\\n<polyline clip-path=\\\"url(#clip370)\\\" style=\\\"stroke:#000000; stroke-linecap:butt; stroke-linejoin:round; stroke-width:4; stroke-opacity:1; fill:none\\\" points=\\\"\\n  1984.97,248.629 2280.18,248.629 2280.18,93.1086 1984.97,93.1086 1984.97,248.629 \\n  \\\"\\/>\\n<circle clip-path=\\\"url(#clip370)\\\" cx=\\\"2081.74\\\" cy=\\\"144.949\\\" r=\\\"23\\\" fill=\\\"#0000ff\\\" fill-rule=\\\"evenodd\\\" fill-opacity=\\\"1\\\" stroke=\\\"#000000\\\" stroke-opacity=\\\"1\\\" stroke-width=\\\"0\\\"\\/>\\n<path clip-path=\\\"url(#clip370)\\\" d=\\\"M2197.28 149.289 Q2197.28 144.59 2195.34 141.928 Q2193.41 139.243 2190.04 139.243 Q2186.66 139.243 2184.71 141.928 Q2182.79 144.59 2182.79 149.289 Q2182.79 153.988 2184.71 156.673 Q2186.66 159.335 2190.04 159.335 Q2193.41 159.335 2195.34 156.673 Q2197.28 153.988 2197.28 149.289 M2182.79 140.238 Q2184.13 137.923 2186.17 136.812 Q2188.23 135.678 2191.08 135.678 Q2195.8 135.678 2198.74 139.428 Q2201.7 143.178 2201.7 149.289 Q2201.7 155.4 2198.74 159.15 Q2195.8 162.9 2191.08 162.9 Q2188.23 162.9 2186.17 161.789 Q2184.13 160.655 2182.79 158.34 L2182.79 162.229 L2178.51 162.229 L2178.51 126.21 L2182.79 126.21 L2182.79 140.238 Z\\\" fill=\\\"#000000\\\" fill-rule=\\\"evenodd\\\" fill-opacity=\\\"1\\\" \\/><path clip-path=\\\"url(#clip370)\\\" d=\\\"M2212.88 158.34 L2212.88 172.09 L2208.6 172.09 L2208.6 136.303 L2212.88 136.303 L2212.88 140.238 Q2214.22 137.923 2216.26 136.812 Q2218.32 135.678 2221.17 135.678 Q2225.89 135.678 2228.83 139.428 Q2231.79 143.178 2231.79 149.289 Q2231.79 155.4 2228.83 159.15 Q2225.89 162.9 2221.17 162.9 Q2218.32 162.9 2216.26 161.789 Q2214.22 160.655 2212.88 158.34 M2227.37 149.289 Q2227.37 144.59 2225.43 141.928 Q2223.51 139.243 2220.13 139.243 Q2216.75 139.243 2214.8 141.928 Q2212.88 144.59 2212.88 149.289 Q2212.88 153.988 2214.8 156.673 Q2216.75 159.335 2220.13 159.335 Q2223.51 159.335 2225.43 156.673 Q2227.37 153.988 2227.37 149.289 Z\\\" fill=\\\"#000000\\\" fill-rule=\\\"evenodd\\\" fill-opacity=\\\"1\\\" \\/><circle clip-path=\\\"url(#clip370)\\\" cx=\\\"2081.74\\\" cy=\\\"196.789\\\" r=\\\"23\\\" fill=\\\"#c271d2\\\" fill-rule=\\\"evenodd\\\" fill-opacity=\\\"1\\\" stroke=\\\"#000000\\\" stroke-opacity=\\\"1\\\" stroke-width=\\\"5.12\\\"\\/>\\n<path clip-path=\\\"url(#clip370)\\\" d=\\\"M2183.18 183.351 L2183.18 196.337 L2189.06 196.337 Q2192.33 196.337 2194.11 194.647 Q2195.89 192.958 2195.89 189.833 Q2195.89 186.731 2194.11 185.041 Q2192.33 183.351 2189.06 183.351 L2183.18 183.351 M2178.51 179.509 L2189.06 179.509 Q2194.87 179.509 2197.84 182.147 Q2200.82 184.763 2200.82 189.833 Q2200.82 194.948 2197.84 197.564 Q2194.87 200.18 2189.06 200.18 L2183.18 200.18 L2183.18 214.069 L2178.51 214.069 L2178.51 179.509 Z\\\" fill=\\\"#000000\\\" fill-rule=\\\"evenodd\\\" fill-opacity=\\\"1\\\" \\/><path clip-path=\\\"url(#clip370)\\\" d=\\\"M2207.1 179.509 L2226.96 179.509 L2226.96 183.444 L2211.77 183.444 L2211.77 193.629 L2225.47 193.629 L2225.47 197.564 L2211.77 197.564 L2211.77 214.069 L2207.1 214.069 L2207.1 179.509 Z\\\" fill=\\\"#000000\\\" fill-rule=\\\"evenodd\\\" fill-opacity=\\\"1\\\" \\/><\\/svg>\\n\"},\"nodeType\":\"DOM\",\"type\":\"node\",\"instanceArgs\":{\"namespace\":\"html\",\"tag\":\"div\"},\"children\":[]}]}}}},\"children\":[{\"props\":{},\"nodeType\":\"ObservableNode\",\"type\":\"node\",\"instanceArgs\":{\"id\":\"2753813558241281711\",\"name\":\"obs-node\"},\"children\":[]}]}]},\n",
       "        window,\n",
       "    );\n",
       "    })()\n",
       "    </script>\n",
       "</div>\n"
      ],
      "text/plain": [
       "Node{WebIO.DOM}(WebIO.DOM(:html, :div), Any[Node{WebIO.DOM}(WebIO.DOM(:html, :div), Any[Scope(Node{WebIO.DOM}(WebIO.DOM(:html, :div), Any[Node{WebIO.DOM}(WebIO.DOM(:html, :div), Any[Node{WebIO.DOM}(WebIO.DOM(:html, :label), Any[\"P\"], Dict{Symbol, Any}(:className => \"interact \", :style => Dict{Any, Any}(:padding => \"5px 10px 0px 10px\")))], Dict{Symbol, Any}(:className => \"interact-flex-row-left\")), Node{WebIO.DOM}(WebIO.DOM(:html, :div), Any[Node{WebIO.DOM}(WebIO.DOM(:html, :input), Any[], Dict{Symbol, Any}(:max => 121, :min => 1, :attributes => Dict{Any, Any}(:type => \"range\", Symbol(\"data-bind\") => \"numericValue: index, valueUpdate: 'input', event: {change: function (){this.changes(this.changes()+1)}}\", \"orient\" => \"horizontal\"), :step => 1, :className => \"slider slider is-fullwidth\", :style => Dict{Any, Any}()))], Dict{Symbol, Any}(:className => \"interact-flex-row-center\")), Node{WebIO.DOM}(WebIO.DOM(:html, :div), Any[Node{WebIO.DOM}(WebIO.DOM(:html, :p), Any[], Dict{Symbol, Any}(:attributes => Dict(\"data-bind\" => \"text: formatted_val\")))], Dict{Symbol, Any}(:className => \"interact-flex-row-right\"))], Dict{Symbol, Any}(:className => \"interact-flex-row interact-widget\")), Dict{String, Tuple{Observables.AbstractObservable, Union{Nothing, Bool}}}(\"changes\" => (Observable{Int64} with 1 listeners. Value:\n",
       "0, nothing), \"index\" => (Observable{Any} with 2 listeners. Value:\n",
       "61, nothing)), Set{String}(), nothing, Asset[Asset(\"js\", \"knockout\", \"C:\\\\Users\\\\Camilo\\\\.julia\\\\packages\\\\Knockout\\\\3gjS1\\\\src\\\\..\\\\assets\\\\knockout.js\"), Asset(\"js\", \"knockout_punches\", \"C:\\\\Users\\\\Camilo\\\\.julia\\\\packages\\\\Knockout\\\\3gjS1\\\\src\\\\..\\\\assets\\\\knockout_punches.js\"), Asset(\"js\", nothing, \"C:\\\\Users\\\\Camilo\\\\.julia\\\\packages\\\\InteractBase\\\\h8Fwe\\\\src\\\\..\\\\assets\\\\all.js\"), Asset(\"css\", nothing, \"C:\\\\Users\\\\Camilo\\\\.julia\\\\packages\\\\InteractBase\\\\h8Fwe\\\\src\\\\..\\\\assets\\\\style.css\"), Asset(\"css\", nothing, \"C:\\\\Users\\\\Camilo\\\\.julia\\\\packages\\\\Interact\\\\pVyN2\\\\src\\\\..\\\\assets\\\\bulma_confined.min.css\")], Dict{Any, Any}(\"changes\" => Any[WebIO.JSString(\"(function (val){return (val!=this.model[\\\"changes\\\"]()) ? (this.valueFromJulia[\\\"changes\\\"]=true, this.model[\\\"changes\\\"](val)) : undefined})\")], \"index\" => Any[WebIO.JSString(\"(function (val){return (val!=this.model[\\\"index\\\"]()) ? (this.valueFromJulia[\\\"index\\\"]=true, this.model[\\\"index\\\"](val)) : undefined})\")]), WebIO.ConnectionPool(Channel{Any}(32), Set{AbstractConnection}(), Condition(Base.InvasiveLinkedList{Task}(Task (runnable) @0x0000000097379140, Task (runnable) @0x0000000097379140), Base.AlwaysLockedST(1))), WebIO.JSString[WebIO.JSString(\"function () {\\n    var handler = (function (ko, koPunches) {\\n    ko.punches.enableAll();\\n    ko.bindingHandlers.numericValue = {\\n        init: function(element, valueAccessor, allBindings, data, context) {\\n            var stringified = ko.observable(ko.unwrap(valueAccessor()));\\n            stringified.subscribe(function(value) {\\n                var val = parseFloat(value);\\n                if (!isNaN(val)) {\\n                    valueAccessor()(val);\\n                }\\n            });\\n            valueAccessor().subscribe(function(value) {\\n                var str = JSON.stringify(value);\\n                if ((str == \\\"0\\\") && ([\\\"-0\\\", \\\"-0.\\\"].indexOf(stringified()) >= 0))\\n                     return;\\n                 if ([\\\"null\\\", \\\"\\\"].indexOf(str) >= 0)\\n                     return;\\n                stringified(str);\\n            });\\n            ko.applyBindingsToNode(\\n                element,\\n                {\\n                    value: stringified,\\n                    valueUpdate: allBindings.get('valueUpdate'),\\n                },\\n                context,\\n            );\\n        }\\n    };\\n    var json_data = {\\\"formatted_vals\\\":[\\\"0.6\\\",\\\"0.605\\\",\\\"0.61\\\",\\\"0.615\\\",\\\"0.62\\\",\\\"0.625\\\",\\\"0.63\\\",\\\"0.635\\\",\\\"0.64\\\",\\\"0.645\\\",\\\"0.65\\\",\\\"0.655\\\",\\\"0.66\\\",\\\"0.665\\\",\\\"0.67\\\",\\\"0.675\\\",\\\"0.68\\\",\\\"0.685\\\",\\\"0.69\\\",\\\"0.695\\\",\\\"0.7\\\",\\\"0.705\\\",\\\"0.71\\\",\\\"0.715\\\",\\\"0.72\\\",\\\"0.725\\\",\\\"0.73\\\",\\\"0.735\\\",\\\"0.74\\\",\\\"0.745\\\",\\\"0.75\\\",\\\"0.755\\\",\\\"0.76\\\",\\\"0.765\\\",\\\"0.77\\\",\\\"0.775\\\",\\\"0.78\\\",\\\"0.785\\\",\\\"0.79\\\",\\\"0.795\\\",\\\"0.8\\\",\\\"0.805\\\",\\\"0.81\\\",\\\"0.815\\\",\\\"0.82\\\",\\\"0.825\\\",\\\"0.83\\\",\\\"0.835\\\",\\\"0.84\\\",\\\"0.845\\\",\\\"0.85\\\",\\\"0.855\\\",\\\"0.86\\\",\\\"0.865\\\",\\\"0.87\\\",\\\"0.875\\\",\\\"0.88\\\",\\\"0.885\\\",\\\"0.89\\\",\\\"0.895\\\",\\\"0.9\\\",\\\"0.905\\\",\\\"0.91\\\",\\\"0.915\\\",\\\"0.92\\\",\\\"0.925\\\",\\\"0.93\\\",\\\"0.935\\\",\\\"0.94\\\",\\\"0.945\\\",\\\"0.95\\\",\\\"0.955\\\",\\\"0.96\\\",\\\"0.965\\\",\\\"0.97\\\",\\\"0.975\\\",\\\"0.98\\\",\\\"0.985\\\",\\\"0.99\\\",\\\"0.995\\\",\\\"1.0\\\",\\\"1.005\\\",\\\"1.01\\\",\\\"1.015\\\",\\\"1.02\\\",\\\"1.025\\\",\\\"1.03\\\",\\\"1.035\\\",\\\"1.04\\\",\\\"1.045\\\",\\\"1.05\\\",\\\"1.055\\\",\\\"1.06\\\",\\\"1.065\\\",\\\"1.07\\\",\\\"1.075\\\",\\\"1.08\\\",\\\"1.085\\\",\\\"1.09\\\",\\\"1.095\\\",\\\"1.1\\\",\\\"1.105\\\",\\\"1.11\\\",\\\"1.115\\\",\\\"1.12\\\",\\\"1.125\\\",\\\"1.13\\\",\\\"1.135\\\",\\\"1.14\\\",\\\"1.145\\\",\\\"1.15\\\",\\\"1.155\\\",\\\"1.16\\\",\\\"1.165\\\",\\\"1.17\\\",\\\"1.175\\\",\\\"1.18\\\",\\\"1.185\\\",\\\"1.19\\\",\\\"1.195\\\",\\\"1.2\\\"],\\\"changes\\\":WebIO.getval({\\\"name\\\":\\\"changes\\\",\\\"scope\\\":\\\"11654621462369650489\\\",\\\"id\\\":\\\"7252765054752734906\\\",\\\"type\\\":\\\"observable\\\"}),\\\"index\\\":WebIO.getval({\\\"name\\\":\\\"index\\\",\\\"scope\\\":\\\"11654621462369650489\\\",\\\"id\\\":\\\"6967129392765580412\\\",\\\"type\\\":\\\"observable\\\"})};\\n    var self = this;\\n    function AppViewModel() {\\n        for (var key in json_data) {\\n            var el = json_data[key];\\n            this[key] = Array.isArray(el) ? ko.observableArray(el) : ko.observable(el);\\n        }\\n        \\n        [this[\\\"formatted_val\\\"]=ko.computed(    function(){\\n        return this.formatted_vals()[parseInt(this.index())-(1)];\\n    }\\n,this)]\\n        [this[\\\"changes\\\"].subscribe((function (val){!(this.valueFromJulia[\\\"changes\\\"]) ? (WebIO.setval({\\\"name\\\":\\\"changes\\\",\\\"scope\\\":\\\"11654621462369650489\\\",\\\"id\\\":\\\"7252765054752734906\\\",\\\"type\\\":\\\"observable\\\"},val)) : undefined; return this.valueFromJulia[\\\"changes\\\"]=false}),self),this[\\\"index\\\"].subscribe((function (val){!(this.valueFromJulia[\\\"index\\\"]) ? (WebIO.setval({\\\"name\\\":\\\"index\\\",\\\"scope\\\":\\\"11654621462369650489\\\",\\\"id\\\":\\\"6967129392765580412\\\",\\\"type\\\":\\\"observable\\\"},val)) : undefined; return this.valueFromJulia[\\\"index\\\"]=false}),self)]\\n        \\n    }\\n    self.model = new AppViewModel();\\n    self.valueFromJulia = {};\\n    for (var key in json_data) {\\n        self.valueFromJulia[key] = false;\\n    }\\n    ko.applyBindings(self.model, self.dom);\\n}\\n);\\n    (WebIO.importBlock({\\\"data\\\":[{\\\"name\\\":\\\"knockout\\\",\\\"type\\\":\\\"js\\\",\\\"url\\\":\\\"/assetserver/2712bb0a7395d062608c2f218a74b700f6c76b99-knockout.js\\\"},{\\\"name\\\":\\\"knockout_punches\\\",\\\"type\\\":\\\"js\\\",\\\"url\\\":\\\"/assetserver/fb4445501a2be4ab82176667f844e40da26fa007-knockout_punches.js\\\"}],\\\"type\\\":\\\"async_block\\\"})).then((imports) => handler.apply(this, imports));\\n}\\n\")])], Dict{Symbol, Any}(:className => \"field interact-widget\")), Observable{Node{WebIO.DOM}} with 0 listeners. Value:\n",
       "Node{WebIO.DOM}(WebIO.DOM(:html, :div), Any[Plot{Plots.GRBackend() n=4}], Dict{Symbol, Any}(:className => \"interact-flex-row interact-widget\"))], Dict{Symbol, Any}())"
      ]
     },
     "execution_count": 45,
     "metadata": {
      "application/vnd.webio.node+json": {
       "kernelId": "81a88d82-5ed9-4b0d-9485-a124bd6b829e"
      }
     },
     "output_type": "execute_result"
    }
   ],
   "source": [
    "K = 8.0; R=0.5\n",
    "@manipulate throttle=.1 for P=0.6:0.005:1.2\n",
    "    l(x) = logoutbreak(x,[R,K,P],0)\n",
    "    xstar = [mid(p.interval) for p in roots(l,0..8)]\n",
    "    plot(br1)\n",
    "    scatter!(repeat([P],length(xstar)),xstar,label=\"PF\")\n",
    "end "
   ]
  },
  {
   "cell_type": "markdown",
   "id": "6c2718bb",
   "metadata": {},
   "source": [
    "## Potencial de la Ecuacion Logistica con Outbreak\n",
    "\n",
    "Ahora el termino que se le agrega al potencial de la logistica es la antiderivada (o integral indefinida) de $Px^2/(1+x^2)$ que es igual a $P\\left(x-atan(x)\\right)$.\n",
    "\n",
    "\n",
    "$V(x) = \\frac{Rx^2}{3K}\\left(x- \\frac{3K}{2}\\right) + P\\left(x-atan(x)\\right)$"
   ]
  },
  {
   "cell_type": "code",
   "execution_count": null,
   "id": "1790c8a8",
   "metadata": {
    "ExecuteTime": {
     "end_time": "2022-01-27T02:16:07.294000-03:00",
     "start_time": "2022-01-27T05:16:06.697Z"
    }
   },
   "outputs": [],
   "source": [
    "Vlogoutbreak(x,p) = p[1]*x*x/(3*p[2])*(x-3*p[2]/2)+p[3]*(x-atan(x))\n",
    "R = 0.5; K=8.0\n",
    "@manipulate throttle=.05 for P=0.8:0.001:1.2,x0=0:0.01:6.0, tmax=10.0:10.0:200.0\n",
    "    potential1D(Vlogoutbreak,x0,tmax,[R,K,P];xlims=[0.0,6.0])\n",
    "end"
   ]
  }
 ],
 "metadata": {
  "@webio": {
   "lastCommId": "8556f65bdc1f4dc3b590a2bd8ff549ce",
   "lastKernelId": "81a88d82-5ed9-4b0d-9485-a124bd6b829e"
  },
  "kernelspec": {
   "display_name": "Julia 1.6.5",
   "language": "julia",
   "name": "julia-1.6"
  },
  "language_info": {
   "file_extension": ".jl",
   "mimetype": "application/julia",
   "name": "julia",
   "version": "1.6.5"
  },
  "toc": {
   "base_numbering": 1,
   "nav_menu": {},
   "number_sections": true,
   "sideBar": true,
   "skip_h1_title": false,
   "title_cell": "Table of Contents",
   "title_sidebar": "Contents",
   "toc_cell": false,
   "toc_position": {
    "height": "calc(100% - 180px)",
    "left": "10px",
    "top": "150px",
    "width": "289.333px"
   },
   "toc_section_display": true,
   "toc_window_display": true
  },
  "varInspector": {
   "cols": {
    "lenName": 16,
    "lenType": 16,
    "lenVar": 40
   },
   "kernels_config": {
    "python": {
     "delete_cmd_postfix": "",
     "delete_cmd_prefix": "del ",
     "library": "var_list.py",
     "varRefreshCmd": "print(var_dic_list())"
    },
    "r": {
     "delete_cmd_postfix": ") ",
     "delete_cmd_prefix": "rm(",
     "library": "var_list.r",
     "varRefreshCmd": "cat(var_dic_list()) "
    }
   },
   "types_to_exclude": [
    "module",
    "function",
    "builtin_function_or_method",
    "instance",
    "_Feature"
   ],
   "window_display": true
  }
 },
 "nbformat": 4,
 "nbformat_minor": 5
}
