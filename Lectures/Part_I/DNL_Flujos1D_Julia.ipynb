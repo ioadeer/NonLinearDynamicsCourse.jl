{
 "cells": [
  {
   "cell_type": "code",
   "execution_count": 1,
   "id": "2254df9f",
   "metadata": {
    "ExecuteTime": {
     "end_time": "2022-01-27T02:04:17.904000-03:00",
     "start_time": "2022-01-27T05:04:02.207Z"
    }
   },
   "outputs": [
    {
     "data": {
      "application/vnd.webio.node+json": {
       "children": [],
       "instanceArgs": {
        "namespace": "html",
        "tag": "div"
       },
       "nodeType": "DOM",
       "props": {},
       "type": "node"
      },
      "text/html": [
       "<div style=\"padding: 1em; background-color: #f8d6da; border: 1px solid #f5c6cb; font-weight: bold;\">\n",
       "<p>The WebIO Jupyter extension was not detected. See the\n",
       "<a href=\"https://juliagizmos.github.io/WebIO.jl/latest/providers/ijulia/\" target=\"_blank\">\n",
       "    WebIO Jupyter integration documentation\n",
       "</a>\n",
       "for more information.\n",
       "</div>\n"
      ],
      "text/plain": [
       "WebIO._IJuliaInit()"
      ]
     },
     "metadata": {
      "application/vnd.webio.node+json": {
       "kernelId": "7d0ebb77-0b73-4d89-9442-4ca48ef9ada1"
      }
     },
     "output_type": "display_data"
    },
    {
     "name": "stderr",
     "output_type": "stream",
     "text": [
      "┌ Info: Precompiling NonLinearDynamicsCourse [6762868a-e78a-451a-a6ea-484381d56062]\n",
      "└ @ Base loading.jl:1342\n"
     ]
    }
   ],
   "source": [
    "using Interact, Plots, DifferentialEquations, BifurcationKit, Setfield\n",
    "using NonLinearDynamicsCourse"
   ]
  },
  {
   "cell_type": "markdown",
   "id": "f8c2d1ee",
   "metadata": {},
   "source": [
    "# CLASE 1"
   ]
  },
  {
   "cell_type": "markdown",
   "id": "f96aaaff",
   "metadata": {},
   "source": [
    "# Ecuacion diferencial lineal. \n",
    "\n",
    "## Crecimiento Exponencial\n",
    "\n",
    "Vamos a comenzar con la ecuacion diferencial mas sencilla que tiene al menos un punto fijo y que sirve para modelar, aún en una versión muy simplificada un comportamiento observado en el mundo natural.\n",
    "\n",
    "Esta es la **ecuación diferencial lineal** sin ningun factor ni constante:\n",
    "\n",
    "$\\displaystyle \\frac{dx}{dt} = x$ \n",
    "\n",
    "Y corresponde a un **crecimiento exponencial**. De hecho podria decirse que el crecimiento exponencial queda definido por esta ecuacion: la función solución $x(t)$ es aquella cuya derivada es igual a si misma punto a punto, es decir que **su crecimiento es directamente proporcional a su magnitud**. Esta es la famosa funcion exponencial $x(t) = e^t$.\n",
    "\n",
    "Para una introducción amena y con algo de historia de por que esa es la función de crecimiento mas \"natural\" pueden verse los videos de Numberphile (https://www.youtube.com/watch?v=AuA2EAgAegE) o de 3Blue1Brown (https://www.youtube.com/watch?v=m2MIpDrF7Es).\n",
    "\n",
    "Una forma rápida de ver por qué la derivada (y la integral definida) de $e^t$ es igual a sí misma puede verse si aceptamos como definicion de la funcion exponencial lo siguiente (para los que conozcan el desarrollo de Taylor esto es como algo que se muerde la cola pero de hecho es como se calcula numericamente esta funcion):\n",
    "\n",
    "$\\displaystyle e^t = 1+t+\\displaystyle \\frac{t^2}{2}+\\frac{t^3}{2.3}+\\frac{t^4}{2.3.4}+\\frac{t^5}{2.3.4.5}+ ...$\n",
    "\n",
    "Si derivamos termino a termino esta expresion el $1$ desaparece, el término $t$ se transforma en $1$, $t^2/2$ se transforma en $t$ y asi sucesivamente cada termino se transforma en el de la izquierda y la serie es la misma es decir que la derivada de $e(t)$ es igual a si misma. De forma similar, al hacer la integral definida desde $-\\infty$ da un $1$ al integrar hasta $0$ y luego un termino $t$ al integrar el $1$ y asi sucesivamente cada termino se transforma en el de la derecha. \n",
    "\n",
    "Es esta es la unica funcion que tiene esta propiedad? En realidad sí, pero a menos de un factor multiplicativo. Es decir que $x(t)=x_0e^t$ tambien es solucion (con $x_0$ un numero real) ya que lo único que hace es multiplicar a cada termino por un factor constante que se preserva en la derivada. \n",
    "\n",
    "Entonces, las ecuaciones diferenciales no tienen solucion unica? Si, pero es necesario especificar una **condicion inicial** (en realidad tantas como variables pero aca tenemos sólo una). Recordemos que el sistema dinamico (en este caso dado por una sola ecuacion diferencial) determinaba el flujo en el espacio de fases, que en este caso corresponde a la recta de los reales. Por lo tanto, las infinitas soluciones $x(t)=x_0e^t$ corresponden a las infinitas condiciones iniciales $x_0$, ya que $x(t=0)=x_0$, y una solucion particular para una condicion inicial dada corresponde a una trayectoria en ese espacio de fases.\n"
   ]
  },
  {
   "cell_type": "markdown",
   "id": "7bda25ef",
   "metadata": {},
   "source": [
    "## Tasa de Crecimiento (Decrecimiento) exponencial\n",
    "\n",
    "Una forma mas general de la ecuacion diferencial lineal es\n",
    "\n",
    "$\\displaystyle \\frac{dx}{dt} = ax$ \n",
    "\n",
    "con $a$ un número real. En este caso la solución va a ser una función que derivada es igual a si misma multiplicada por la constante $a$. Tomando como base la definición de la exponencial como serie no es difícil ver que\n",
    "\n",
    "$\\displaystyle e^{at} = 1+at+\\displaystyle \\frac{(at)^2}{2}+\\frac{(at)^3}{2.3}+\\frac{(at)^4}{2.3.4}+ ...$\n",
    "\n",
    "al ser derivada baja en uno el exponente de $t$ pero no el de $a$ entonces tenemos:\n",
    "\n",
    "$\\displaystyle \\frac{d}{dt} e^{at} = a+a^2t+\\displaystyle \\frac{a^3t^2}{2}+\\frac{a^4t^3}{2.3}+ ... = ae^{at} $\n",
    "\n",
    "O sea que satisface la ecuacion diferencial. Al igual que antes, si incorporamos la condicion inicial $x(t) = x_0 e^{at}$ es la solucion para una condicion inicial especifica (trayectoria). \n",
    "\n",
    "La constante $a$ representa la **tasa de crecimiento (o decrecimiento) exponencial**. \n",
    "\n",
    "Si $a<0$ tenemos un decrecimiento exponencial que se va aproximando a cero (tanto desde los positivos como desde los negativos) sin llegar nunca. En el espacio de fases todas las trayectorias convergen al $x=0$, por lo tanto este es un **atractor**.\n",
    "\n",
    "\n",
    "Y $x=0$ es un punto fijo porque evoluciona en si mismo ya que con esa condicion inicial $x(t)=0$. \n",
    "\n",
    "Si ahora volvemos al caso $a>0$, el origen $x=0$ sigue siendo un punto fijo pero ahora es un **repulsor**. Cualquier condicion inicial se aleja del cero tanto para $+\\infty$ como para $-\\infty$\n",
    "\n"
   ]
  },
  {
   "cell_type": "markdown",
   "id": "b4acc8e0",
   "metadata": {},
   "source": [
    "# Ecuacion diferencial lineal más general\n",
    "\n",
    "La ecuacion anterior es lineal porque la funcion del miembro derecho (tambien llamada campo vector que de forma general vamos a denotar como $f(x)$) es lineal con respecto a la variable ($ax$). Pero la forma mas general de una función lineal incorpora una constante con lo cual tenemos la ecuacion diferencial lineal no homogénea.\n",
    "\n",
    "$\\displaystyle \\frac{dx}{dt} = ax+b$ \n",
    "\n",
    "con $b$ otra constante real. \n",
    "A partir de ahora (porque es practica habitual y para ahorrar espoacio vertical) vamos a reemplazar la derivada temporal por el punto arriba de la funcion, es decir que la ecuacion anterior la escribimos como \n",
    "\n",
    "$\\dot{x} = ax+b$\n",
    "\n",
    "Para encontrar la solución en lugar de seguir usando la serie, vamos a usar una estrategia muy recurrente y util: hacer un cambio de coordenadas. En este caso va a ser un cambio de coordenadas lineal. \n",
    "\n",
    "El primer paso es calcular donde está el punto fijo, es decir para que valor de $x$ se cumple que $f(x)=0$. En este caso el único punto fijo está en $x_*=-b/a$ (la notacion con estrella vamos a utilizarla tambien para distinguir los puntos fijos). De hecho no es dificil ver que **las ecuaciones lineales solo pueden tener un punto fijo** (sacando el caso \"patologico\" en que $a=0$) porque  resolver geometricamente $ax+b=0$ equivale a calcular el punto en el que una funcion lineal (una recta) corta el eje horizontal. Y esto de forma genérica sólo ocurre en un punto.\n",
    "\n",
    "El cambio de coordenadas que vamos a hacer (y que vamos a repetir muchas veces en lo que sigue) es llevar el punto fijo al origen. Para eso creamos una nueva variable $\\chi=x+b/a$. En la nueva variable la ecuación diferencial queda escrita como \n",
    "\n",
    "$\\dot{\\chi} = a(\\chi-b/a)+b = a\\chi $ \n",
    "\n",
    "Es decir que logramos la delicia de la matematica: volvimos al caso anterior! Ya conocemos la solucion general $\\chi(t)=A e^{at}$ (ojo que acá pusimos $A$ en lugar de $x_0$ porque en este caso la constante multiplicativa no es la condicion inicial). \n",
    "\n",
    "Si tenemos ganas de hacer un poco de cuentas podemos volver a la variable original y fijar la constante multiplicativa a partir de la condicion inicial. Pero no lo vamos a hacer acá porque el espíritu es poder aplicar la interpretación geométrica toda vez que sea posible, representar todo en el espacio de fases antes que en expresiones analíticas cerradas (sobre todo porque despues con los sistemas no lineales esto último es imposible).\n",
    "\n",
    "Entonces lo que tenemos es que el punto fijo (atractor si $a<0$ y repulsor si $a>0$) se desplazó del origen a $-b/a$ pero la estructura del retrato de fases es identica que el caso anterior. O sea que lo unico que hizo el termino no homogéneo es corrernos el punto fijo sin ningún cambio en el flujo.\n",
    "\n",
    "\n",
    "Vamos a ver un ejemplo de un sistema \"real\" que obedece a esta ecuacion.\n"
   ]
  },
  {
   "cell_type": "markdown",
   "id": "f618ea2b",
   "metadata": {},
   "source": [
    "# Ley de enfriamiento de Newton\n",
    "\n",
    "En este caso la variable $x$ es la temperatura del objeto y R es su tasa de intercambio de calor (que depende del calor especifico y el area de contacto). $x_{eq}$ es la temperatura de equilibrio (temperatura ambiente).\n",
    "La evolucion de la temperatura esta dada por \n",
    "\n",
    "$\\dot{x} = -R(x-x_{eq})$\n",
    "\n",
    "Si bien está escrita de forma diferente es una ecuacion lineal no homogénea como la anterior con tasa $-R$ y termino constante $R/x_{eq}$. Pero escrita de esta forma queda mas claro que el punto fijo está en $x=x_{eq}$ y si restringimos a que $R$ sea positivo entonces ese punto fijo es atractor. Lo cual tiene sentido físico porque independientemente de cual sea la temperatura inicial del objeto va a terminar alcanzando la temperatura ambiente $x_eq$ ya sea que se enfrie un plato de pasta o se caliente bebida helada.\n",
    "\n",
    "Vamos a considerar $R$ y $x_{eq}$ como los parámetros de nuestro sistema y vamos a definir la ecuación usando una función de la variable $x$ y un vector de parametros $p$ ($p[1]=R$ y $p[2]=x_{eq}$)."
   ]
  },
  {
   "cell_type": "code",
   "execution_count": null,
   "id": "d120bd8b",
   "metadata": {
    "ExecuteTime": {
     "end_time": "2022-01-27T02:04:23.960000-03:00",
     "start_time": "2022-01-27T05:04:05.326Z"
    }
   },
   "outputs": [],
   "source": [
    "cooling(x,p,t) = -p[1]*(x-p[2])"
   ]
  },
  {
   "cell_type": "markdown",
   "id": "c6c76646",
   "metadata": {},
   "source": [
    "Luego definimos el problema usando la funcion ODEProblem de DifferentialEquations. El problema queda definido por la funcion (cooling), la condicion inicial (x0), el tiempo inicial (0) y final (tspan) y el vector de parametros $p=[R,x_{eq}]$)"
   ]
  },
  {
   "cell_type": "code",
   "execution_count": null,
   "id": "c621c0f7",
   "metadata": {
    "ExecuteTime": {
     "end_time": "2022-01-27T02:04:24.659000-03:00",
     "start_time": "2022-01-27T05:04:07.535Z"
    }
   },
   "outputs": [],
   "source": [
    "x0 = 80\n",
    "R = 0.03\n",
    "xeq = 25\n",
    "tspan = (0,150.0)\n",
    "prob = ODEProblem(cooling, x0, tspan, [R,xeq])"
   ]
  },
  {
   "cell_type": "markdown",
   "id": "9bedae1f",
   "metadata": {},
   "source": [
    "## Evolucion temporal \n",
    "Podemos graficar la solucion del sistema y para un valor particular del parametro y de la condicion inicial"
   ]
  },
  {
   "cell_type": "code",
   "execution_count": null,
   "id": "c926c0f5",
   "metadata": {
    "ExecuteTime": {
     "end_time": "2022-01-27T02:04:42.365000-03:00",
     "start_time": "2022-01-27T05:04:09.038Z"
    }
   },
   "outputs": [],
   "source": [
    "sol = solve(prob)\n",
    "plot(sol,size=(900,300),label=\"x(t)\",ylabel=\"x\")"
   ]
  },
  {
   "cell_type": "markdown",
   "id": "42284c47",
   "metadata": {},
   "source": [
    "## Multiples condiciones iniciales\n",
    "\n",
    "Usando EnsembleProblem y un vector de condiciones iniciales (x0_arr) podemos evolucionar varias condiciones iniciales al mismo tiempo\n"
   ]
  },
  {
   "cell_type": "code",
   "execution_count": null,
   "id": "2136b569",
   "metadata": {
    "ExecuteTime": {
     "end_time": "2022-01-27T02:04:51.429000-03:00",
     "start_time": "2022-01-27T05:04:50.133Z"
    }
   },
   "outputs": [],
   "source": [
    "x0_arr=10.0:5.0:80.0\n",
    "function prob_func(prob,i,repeat)\n",
    "  remake(prob,u0=x0_arr[i])\n",
    "end\n",
    "sol = solve(EnsembleProblem(prob,prob_func=prob_func),EnsembleThreads(),trajectories=length(x0_arr))\n",
    "plot(sol,ylabel=\"x\",size = (900,300))"
   ]
  },
  {
   "cell_type": "markdown",
   "id": "53a6d95d",
   "metadata": {},
   "source": [
    "## Interaccion\n",
    "usando @manipulate podemos darle un rango al parametro, la condicion incial y el tiempo maximo de integracion y jugar con eso de forma interactiva "
   ]
  },
  {
   "cell_type": "code",
   "execution_count": null,
   "id": "545271fd",
   "metadata": {
    "ExecuteTime": {
     "end_time": "2022-01-27T02:05:05.228000-03:00",
     "start_time": "2022-01-27T05:04:53.039Z"
    }
   },
   "outputs": [],
   "source": [
    "@manipulate throttle=.1 for R=0:0.02:1.0,x0=0:0.1:30,xeq=0:1.0:100.0,tmax=1.0:10:150\n",
    "    prob = ODEProblem(cooling, x0, (0,tmax), [R,xeq])\n",
    "    sol = solve(prob)\n",
    "    plot(sol,label=\"x(t)\",ylabel=\"x\",ylim=(0,100),size=(900,300))\n",
    "end"
   ]
  },
  {
   "cell_type": "markdown",
   "id": "77f77c98",
   "metadata": {},
   "source": [
    "## Potencial\n",
    "\n",
    "Todos los sistemas 1D se pueden escribir derivados de un Potencial. Un potencial $V(x)$ se define a partir de:\n",
    "\n",
    "$\\dot{x} = - \\frac{dV}{dx}$\n",
    "\n",
    "Es decir si la funcion de la derecha de la ecuacion diferencial $f(x)$ se puede escribir como la derivada de una funcion $V(x)$ (con un signo menos) entonces esa funcion es el potencial. Esa funcion siempre va a existir a menos de una constante arbitraria y se va a poder calcular integrando $f(x)$.\n",
    "\n",
    "Cual es la utilidad del potencial? Por ahora solo como una representacion. La dinámica temporal de la variable $x$ se puede interpretar también como el movimiento de una partícula con mucha friccion que se mueve bajo la accion de la gravedad en ese potencial. Los picos y valles de ese potencial representan los puntos fijos inestables y estables respectivamente. Las trayectorias $x(t)$ se mueven naturalmente hacia los pozos, minimos locales del potencial, y si son colocadas cerca de un pico se apartan del mismo.\n",
    "\n",
    "Para la Ley de Enfriamiento de Newton el potencial se puede calcular de forma explicita:\n",
    "\n",
    "$V(x) = Rx(x/2-x_{eq})$\n",
    "\n",
    "se puede verificar que:\n",
    "\n",
    "$\\frac{dV}{dx} = R(x-x_{eq})$\n",
    "\n",
    "La forma del potencial es una parabola que corta al eje horizontal en $x=0$ y $x=2x_{eq}$ son el minimo de potencial (punto fijo estable) en $x=x_{eq}$. Por lo tanto cualquier condicion inicial para $x$ va a evolucionar hacia el  fondo del pozo (no nos interesa aca la forma en la que se aproxima sino el destino final).\n"
   ]
  },
  {
   "cell_type": "markdown",
   "id": "3bd69313",
   "metadata": {},
   "source": [
    "# Flujos en 1D. \n",
    "\n",
    "Si bien lo que vimos antes también eran flujos en 1D ahora vamos a escribirlos de la forma mas general posible:\n",
    "\n",
    "$\\dot{x} = f(x)$\n",
    "\n",
    "Los puntos fijos seran todos aquellos valores $x_*$ para los cuales se cumple $f(x_*)=0$, es decir los **ceros** de la funcion. Y el flujo sobre el espacio de fases (la recta horizontal) va a tener solo dos sentidos posibles: hacia la derecha cuando $f(x)>0$ y hacia la izquierda cuando $f(x)<0$. \n",
    "\n",
    "Podemos incluir en un mismo grafico $f(x)$ en el eje vertical y $x$ con el flujo sobre la recta (espacio de fases) en el eje horizontal. Para una funcion arbitraria solo con graficarla tenemos los puntos fijos y los intervalos de positividad y negatividad me determinan el ordenamiento del flujo. Por ejemplo:\n",
    "\n",
    "<div>\n",
    "  <img src=\"../files/flujos1Dposneg.png\" width=\"700px\">\n",
    "</div>\n",
    "\n",
    "En este grafico podemos aplicar algunas de las primeras herramientas geométricas y **topológicas** de la dinámica (o mas formalmente de la teoría cualitativa de los sistemas dinámicos) sin necesidad de cálculos analíticos. \n",
    "\n",
    "El campo vector $f(x)$ puede ser una función muy complicada con muchos cruces del cero pero a partir de este gráfico queda completamente determinado el sentido del flujo en todo el espacio de fases (para mayor claridad cambiamos de color al cambiar el sentido), aunque no tengamos una expresión para $x(t)$. El sentido del flujo determina que puntos fijos seran atractores o repulsores y en este caso tenemos de izquierda a derecha: atractor-repulsor-atractor-repulsor-atractor. La alternancia de atractor repulsor es generica para cualquier función (por qué?). Esto implica que si **conozco los puntos fijos y la estabilidad de uno de ellos conozco el sentido del flujo en todo el espacio de fases**. Aca el sentido del flujo se refiere a las flechas rojas y verdes del grafico anterior y constituye una característica **topologica** del retrato de fases. No importa la posicion de los puntos fijos ni si el flujo va mas rapido o mas lento, lo que importa es la cantidad de puntos fijos y el sentido del flujo (o de forma equivalente su estabilidad que determina el sentido). Si esto no cambia para pequeñas perturbaciones de los parámetros del sistema se dice que el sistema es **estructuralmente estable** (o robusto). Si lo hace para perturbaciones no importa cuan pequeñas seas es porque estamos en una **bifurcación** (lo vamos a ver más adelante).\n",
    "\n",
    "Observamos tambien que cada vez que la función cruza el eje horizontal (punto fijo) con pendiente negativa el punto fijo es atractor (ya que una perturbacion hacia la derecha vuelve a la izquierda y viceversa), mientras que si la pendiente es positiva el punto fijo es repulsor (una perturbacion para la derecha se sigue moviendo a la derecha y lo mismo hacia el otro lado, la perturbacion se amplifica). \n",
    "\n",
    "Esto ultimo que indicamos como una observacion puede probarse que tiene caracter general: **la derivada de la funcion del campo vector  ($df/dx$) evaluada en el punto fijo me determina su estabilidad. Si la derivada es negativa el punto fijo es atractor y si la derivada es positiva es repulsor** \n",
    "\n",
    "Derivar la funcion y evaluarla en el punto fijo se conoce como **linealización**. Por qué? Porque para cualquier funcion $f$ la mejor aproximación lineal en un entorno de un punto $x_*$ equivale a la funcion evaluada en ese punto $f(x_*)$ (que es cero porque estamos en un punto fijo) sumado a la derivada (pendiente de la recta tangente a la funcion en ese punto esa es la interpretacion geometrica de la derivada) multiplicada por el apartamiento del punto $f'(x_*)(x-x*)$, donde usamos la prima $'$ para denotar la derivada con respecto a la variable $x$. Tener en cuenta que $f'(x_*)$ es una constante porque es la derivada evaluada en el punto fijo. Dicho de otra manera, podemos aproximar muy cerca del punto fijo a nuestro sistema dinamico no lineal como un sistema lineal:\n",
    "\n",
    "$\\dot{x}=f'(x_*)(x-x_*)$\n",
    "\n",
    "Es decir que en un entorno de un punto fijo atractor (si $f'(x_*)<0$ ) las trayectorias convergen como una exponencial decreciente al atractor, mientras que en un punto fijo repulsor (si $f'(x_*)>0$ ) las trayectorias divergen exponencialmente, al igual que en un sistema lineal. \n",
    "\n",
    "Otra forma de pensarlo es la siguiente: la función $f(x)$ se va a poder aproximar en un entorno del punto fijo $x_*$ como un desarrollo en potencias de $(x-x_*)$ (es lo que se conoce como desarrollo de Taylor):\n",
    "\n",
    "$f(x) = f'(x_*)(x-x_*)+\\frac{1}{2}f''(x_*)(x-x_*)^2+\\frac{1}{2.3}f'''(x_*)(x-x_*)^3+...$\n",
    "\n",
    "Cuando estoy suficientemente cerca del punto fijo, el término que domina es el lineal y entonces podemos aproximar nuestro sistema como uno lineal.\n",
    "\n",
    "Pero, qué pasa cuando $f(x)$ es tangente a la recta? Lo anterior deja de valer poque la derivada es cero, el término lineal no está presente y la mejor aproximación es una parábola (función cuadrática). Y que pasa cuando una parábola cruza el eje horizontal con los puntos fijos? Vamos a ver esto en seguida porque es el elemento central de la clase, pero antes vamos a ver un ejemplo clásico de sistema no lineal y su linealización.\n"
   ]
  },
  {
   "cell_type": "markdown",
   "id": "26ea65d2",
   "metadata": {},
   "source": [
    "# Ecuacion Logistica\n",
    "\n",
    "En lo que sigue vamos a trabajar con modelos simples de dinámica de poblaciones donde la variable continua puede representar la densidad de una población (es decir tanto variable como el tiempo evolucionan de forma continua). En este contexto es usual denotar la tasa de crecimiento como $R$ (rate). Por lo tanto la ecuación:\n",
    "\n",
    "$\\dot{x} = Rx$\n",
    "\n",
    "corresponde al crecimiento exponencial ilimitado de la densidad de poblacion a tasa $R$. \n",
    "\n",
    "Pero El crecimiento exponencial no se puede mantener por siempre, por lo tanto si queremos modelar de una forma un poco mas realista una magnitud que crece con recursos limitados (que acá vamos a llamar capacidad $K$) tenemos que limitar la tasa de crecimiento $R$. Una forma posible (la mas simple) es limitar $R$ con una funcion lineal haciendo que se haga cero cuando la poblacion alcanza la capacidad maxima $K$. Es decir que nuestra tasa de crecimiento variable sea: $R(x)=R(1-x/K)$. Reemplazando este rate en la ecuacion original obtenemos la ecuación logística \n",
    "\n",
    "$ \\dot{x} = Rx(1-x/K) $ \n",
    "\n",
    "con $K>0$ y $R>0$.\n",
    "\n",
    "Este es el sistema mas simple que modela el crecimiento de una poblacion con capacidad K."
   ]
  },
  {
   "cell_type": "markdown",
   "id": "1638759a",
   "metadata": {},
   "source": [
    "## Análisis de puntos fijos y estabilidad \n",
    "\n",
    "Esta ecuacion presenta dos puntos fijos. Uno en $x=0$ y el otro en $x=K$. Para evaluar su estabilidad calculamos la derivada del campo vector $f(x)=Rx(1-x/K)$, que es igual a $f'(x)=R-2Rx/K$, y la evaluamos en los puntos fijos.\n",
    "\n",
    "- Punto fijo $x_*=0$: $f'(0)=R$ siempre positiva, el punto fijo es inestable (repulsor). En su vecindad, para una pequeña poblacion positiva se presenta un crecimiento exponencial con tasa R ya que 1 es mucho mayor que $x/K$.\n",
    "\n",
    "- Punto fijo $x_*=K$: $f'(K)=-R$ siempre negativa, el punto fijo es estable (atractor). Representa la poblacion maxima que alcanza el crecimiento.  Si $x$ es ligeramente inferior a $K$ entonces $(1-x/K)$ es positivo, la derivada es positiva y la población crece. Si en cambio $x$ es ligeramente superior a $K$ luego $(1-x/K)$ es negativo, la derivada es negativa y la población decrece hasta alcanzar el equilibrio en $x=K$.\n"
   ]
  },
  {
   "cell_type": "code",
   "execution_count": 2,
   "id": "ac8817ea",
   "metadata": {
    "ExecuteTime": {
     "end_time": "2022-01-27T02:05:52.318000-03:00",
     "start_time": "2022-01-27T05:05:52.219Z"
    }
   },
   "outputs": [
    {
     "data": {
      "text/plain": [
       "logistic (generic function with 1 method)"
      ]
     },
     "execution_count": 2,
     "metadata": {},
     "output_type": "execute_result"
    }
   ],
   "source": [
    "# Ecuacion Logistica\n",
    "logistic(x,p,t)=p[1]*x*(1.0-x/p[2])"
   ]
  },
  {
   "cell_type": "code",
   "execution_count": null,
   "id": "d1284122",
   "metadata": {
    "ExecuteTime": {
     "end_time": "2022-01-27T02:05:55.760000-03:00",
     "start_time": "2022-01-27T05:05:53.612Z"
    }
   },
   "outputs": [],
   "source": [
    "@manipulate throttle=.1 for R=0:0.02:2.0,K=0:0.01:2.0,x0=0:0.02:2.0,tmax=1.0:5:50\n",
    "    prob = ODEProblem(logistic, x0, (0,tmax), [R,K])\n",
    "    sol = solve(prob)\n",
    "    plot(sol,label=\"x(t)\",ylabel=\"x\",ylim=(0,2.0),size=(900,300))\n",
    "end"
   ]
  },
  {
   "cell_type": "code",
   "execution_count": null,
   "id": "b9559442",
   "metadata": {
    "ExecuteTime": {
     "end_time": "2022-01-27T02:06:04.236000-03:00",
     "start_time": "2022-01-27T05:06:03.327Z"
    }
   },
   "outputs": [],
   "source": [
    "# multiples trayectorias\n",
    "x0_arr=0.0:0.1:2.0\n",
    "prob = ODEProblem(logistic, 0.2, (0,50), [0.3,1.0])\n",
    "sol = solve(EnsembleProblem(prob,prob_func=prob_func),EnsembleThreads(),trajectories=length(x0_arr))\n",
    "plot(sol,ylabel=\"x\",size = (900,300))"
   ]
  },
  {
   "cell_type": "markdown",
   "id": "ef03f599",
   "metadata": {},
   "source": [
    "## Evolucion temporal y f(x)\n",
    "Ahora vamos graficar, ademas de la evolucion temporal, la funcion $f(x)$ para poder visualizar los puntos fijos y el flujo sobre la linea.\n",
    "\n",
    "Para eso vamos a usar la función del paquete del curso **flux1D** cuyos argumentos son (para el método básico)\n",
    "\n",
    "**flux1D(f,x0,tmax,p;xlims)**\n",
    "- f es una Funcion f(x,p,t) que define el flujo (devuelve la derivada)\n",
    "- x0 es un escalar que da la condicion inicial\n",
    "- tmax es un escalar que da el tiempo final de integracion (siempre parte de t=0)\n",
    "- p es un vector (array 1D) con los parametros del sistema. Aunque tengamos un solo parametro lo tenemos que pasar como un array de un solo elemento\n",
    "- la tupla xlims=(xmin,xmax) limita el grafico de f(x) entre el intervalo (xmin,xmax). Este parametro es opcional por eso esta despues del punto y coma\n",
    "\n",
    "\n",
    "Podemos ver que $f(x)$ es una parabola invertida que corta el eje horizontal siempre en los puntos fijos $x=0$ y $x=K$\n",
    "y siempre con la misma estabilidad. Es decir no hay cambios topológicos (no hay bifurcaciones).\n",
    "Por qué invertida? Cómo sería al revés en los positivos?\n"
   ]
  },
  {
   "cell_type": "code",
   "execution_count": 4,
   "id": "fec630b1",
   "metadata": {
    "ExecuteTime": {
     "end_time": "2022-01-27T02:06:08.868000-03:00",
     "start_time": "2022-01-27T05:06:07.196Z"
    }
   },
   "outputs": [
    {
     "data": {
      "application/vnd.webio.node+json": {
       "children": [
        {
         "children": [
          {
           "children": [
            {
             "children": [
              {
               "children": [
                {
                 "children": [
                  "R"
                 ],
                 "instanceArgs": {
                  "namespace": "html",
                  "tag": "label"
                 },
                 "nodeType": "DOM",
                 "props": {
                  "className": "interact ",
                  "style": {
                   "padding": "5px 10px 0px 10px"
                  }
                 },
                 "type": "node"
                }
               ],
               "instanceArgs": {
                "namespace": "html",
                "tag": "div"
               },
               "nodeType": "DOM",
               "props": {
                "className": "interact-flex-row-left"
               },
               "type": "node"
              },
              {
               "children": [
                {
                 "children": [],
                 "instanceArgs": {
                  "namespace": "html",
                  "tag": "input"
                 },
                 "nodeType": "DOM",
                 "props": {
                  "attributes": {
                   "data-bind": "numericValue: index, valueUpdate: 'input', event: {change: function (){this.changes(this.changes()+1)}}",
                   "orient": "horizontal",
                   "type": "range"
                  },
                  "className": "slider slider is-fullwidth",
                  "max": 101,
                  "min": 1,
                  "step": 1,
                  "style": {}
                 },
                 "type": "node"
                }
               ],
               "instanceArgs": {
                "namespace": "html",
                "tag": "div"
               },
               "nodeType": "DOM",
               "props": {
                "className": "interact-flex-row-center"
               },
               "type": "node"
              },
              {
               "children": [
                {
                 "children": [],
                 "instanceArgs": {
                  "namespace": "html",
                  "tag": "p"
                 },
                 "nodeType": "DOM",
                 "props": {
                  "attributes": {
                   "data-bind": "text: formatted_val"
                  }
                 },
                 "type": "node"
                }
               ],
               "instanceArgs": {
                "namespace": "html",
                "tag": "div"
               },
               "nodeType": "DOM",
               "props": {
                "className": "interact-flex-row-right"
               },
               "type": "node"
              }
             ],
             "instanceArgs": {
              "namespace": "html",
              "tag": "div"
             },
             "nodeType": "DOM",
             "props": {
              "className": "interact-flex-row interact-widget"
             },
             "type": "node"
            }
           ],
           "instanceArgs": {
            "handlers": {
             "changes": [
              "(function (val){return (val!=this.model[\"changes\"]()) ? (this.valueFromJulia[\"changes\"]=true, this.model[\"changes\"](val)) : undefined})"
             ],
             "index": [
              "(function (val){return (val!=this.model[\"index\"]()) ? (this.valueFromJulia[\"index\"]=true, this.model[\"index\"](val)) : undefined})"
             ]
            },
            "id": "9868383134663832101",
            "imports": {
             "data": [
              {
               "name": "knockout",
               "type": "js",
               "url": "/assetserver/2712bb0a7395d062608c2f218a74b700f6c76b99-knockout.js"
              },
              {
               "name": "knockout_punches",
               "type": "js",
               "url": "/assetserver/fb4445501a2be4ab82176667f844e40da26fa007-knockout_punches.js"
              },
              {
               "name": null,
               "type": "js",
               "url": "/assetserver/a8ea7d9192d5fa85c6fac26c72d7fece1e500138-all.js"
              },
              {
               "name": null,
               "type": "css",
               "url": "/assetserver/620a53798cfdb29a4a2142ce0588e9aadc351d94-style.css"
              },
              {
               "name": null,
               "type": "css",
               "url": "/assetserver/9f2f17f677abbfd015a7c6b0c0f09a2da809bee2-bulma_confined.min.css"
              }
             ],
             "type": "async_block"
            },
            "mount_callbacks": [
             "function () {\n    var handler = (function (ko, koPunches) {\n    ko.punches.enableAll();\n    ko.bindingHandlers.numericValue = {\n        init: function(element, valueAccessor, allBindings, data, context) {\n            var stringified = ko.observable(ko.unwrap(valueAccessor()));\n            stringified.subscribe(function(value) {\n                var val = parseFloat(value);\n                if (!isNaN(val)) {\n                    valueAccessor()(val);\n                }\n            });\n            valueAccessor().subscribe(function(value) {\n                var str = JSON.stringify(value);\n                if ((str == \"0\") && ([\"-0\", \"-0.\"].indexOf(stringified()) >= 0))\n                     return;\n                 if ([\"null\", \"\"].indexOf(str) >= 0)\n                     return;\n                stringified(str);\n            });\n            ko.applyBindingsToNode(\n                element,\n                {\n                    value: stringified,\n                    valueUpdate: allBindings.get('valueUpdate'),\n                },\n                context,\n            );\n        }\n    };\n    var json_data = {\"formatted_vals\":[\"0.0\",\"0.02\",\"0.04\",\"0.06\",\"0.08\",\"0.1\",\"0.12\",\"0.14\",\"0.16\",\"0.18\",\"0.2\",\"0.22\",\"0.24\",\"0.26\",\"0.28\",\"0.3\",\"0.32\",\"0.34\",\"0.36\",\"0.38\",\"0.4\",\"0.42\",\"0.44\",\"0.46\",\"0.48\",\"0.5\",\"0.52\",\"0.54\",\"0.56\",\"0.58\",\"0.6\",\"0.62\",\"0.64\",\"0.66\",\"0.68\",\"0.7\",\"0.72\",\"0.74\",\"0.76\",\"0.78\",\"0.8\",\"0.82\",\"0.84\",\"0.86\",\"0.88\",\"0.9\",\"0.92\",\"0.94\",\"0.96\",\"0.98\",\"1.0\",\"1.02\",\"1.04\",\"1.06\",\"1.08\",\"1.1\",\"1.12\",\"1.14\",\"1.16\",\"1.18\",\"1.2\",\"1.22\",\"1.24\",\"1.26\",\"1.28\",\"1.3\",\"1.32\",\"1.34\",\"1.36\",\"1.38\",\"1.4\",\"1.42\",\"1.44\",\"1.46\",\"1.48\",\"1.5\",\"1.52\",\"1.54\",\"1.56\",\"1.58\",\"1.6\",\"1.62\",\"1.64\",\"1.66\",\"1.68\",\"1.7\",\"1.72\",\"1.74\",\"1.76\",\"1.78\",\"1.8\",\"1.82\",\"1.84\",\"1.86\",\"1.88\",\"1.9\",\"1.92\",\"1.94\",\"1.96\",\"1.98\",\"2.0\"],\"changes\":WebIO.getval({\"name\":\"changes\",\"scope\":\"9868383134663832101\",\"id\":\"17480948514705851403\",\"type\":\"observable\"}),\"index\":WebIO.getval({\"name\":\"index\",\"scope\":\"9868383134663832101\",\"id\":\"2112244266798267618\",\"type\":\"observable\"})};\n    var self = this;\n    function AppViewModel() {\n        for (var key in json_data) {\n            var el = json_data[key];\n            this[key] = Array.isArray(el) ? ko.observableArray(el) : ko.observable(el);\n        }\n        \n        [this[\"formatted_val\"]=ko.computed(    function(){\n        return this.formatted_vals()[parseInt(this.index())-(1)];\n    }\n,this)]\n        [this[\"changes\"].subscribe((function (val){!(this.valueFromJulia[\"changes\"]) ? (WebIO.setval({\"name\":\"changes\",\"scope\":\"9868383134663832101\",\"id\":\"17480948514705851403\",\"type\":\"observable\"},val)) : undefined; return this.valueFromJulia[\"changes\"]=false}),self),this[\"index\"].subscribe((function (val){!(this.valueFromJulia[\"index\"]) ? (WebIO.setval({\"name\":\"index\",\"scope\":\"9868383134663832101\",\"id\":\"2112244266798267618\",\"type\":\"observable\"},val)) : undefined; return this.valueFromJulia[\"index\"]=false}),self)]\n        \n    }\n    self.model = new AppViewModel();\n    self.valueFromJulia = {};\n    for (var key in json_data) {\n        self.valueFromJulia[key] = false;\n    }\n    ko.applyBindings(self.model, self.dom);\n}\n);\n    (WebIO.importBlock({\"data\":[{\"name\":\"knockout\",\"type\":\"js\",\"url\":\"/assetserver/2712bb0a7395d062608c2f218a74b700f6c76b99-knockout.js\"},{\"name\":\"knockout_punches\",\"type\":\"js\",\"url\":\"/assetserver/fb4445501a2be4ab82176667f844e40da26fa007-knockout_punches.js\"}],\"type\":\"async_block\"})).then((imports) => handler.apply(this, imports));\n}\n"
            ],
            "observables": {
             "changes": {
              "id": "17480948514705851403",
              "sync": false,
              "value": 0
             },
             "index": {
              "id": "2112244266798267618",
              "sync": true,
              "value": 51
             }
            },
            "systemjs_options": null
           },
           "nodeType": "Scope",
           "props": {},
           "type": "node"
          }
         ],
         "instanceArgs": {
          "namespace": "html",
          "tag": "div"
         },
         "nodeType": "DOM",
         "props": {
          "className": "field interact-widget"
         },
         "type": "node"
        },
        {
         "children": [
          {
           "children": [
            {
             "children": [
              {
               "children": [
                {
                 "children": [
                  "K"
                 ],
                 "instanceArgs": {
                  "namespace": "html",
                  "tag": "label"
                 },
                 "nodeType": "DOM",
                 "props": {
                  "className": "interact ",
                  "style": {
                   "padding": "5px 10px 0px 10px"
                  }
                 },
                 "type": "node"
                }
               ],
               "instanceArgs": {
                "namespace": "html",
                "tag": "div"
               },
               "nodeType": "DOM",
               "props": {
                "className": "interact-flex-row-left"
               },
               "type": "node"
              },
              {
               "children": [
                {
                 "children": [],
                 "instanceArgs": {
                  "namespace": "html",
                  "tag": "input"
                 },
                 "nodeType": "DOM",
                 "props": {
                  "attributes": {
                   "data-bind": "numericValue: index, valueUpdate: 'input', event: {change: function (){this.changes(this.changes()+1)}}",
                   "orient": "horizontal",
                   "type": "range"
                  },
                  "className": "slider slider is-fullwidth",
                  "max": 200,
                  "min": 1,
                  "step": 1,
                  "style": {}
                 },
                 "type": "node"
                }
               ],
               "instanceArgs": {
                "namespace": "html",
                "tag": "div"
               },
               "nodeType": "DOM",
               "props": {
                "className": "interact-flex-row-center"
               },
               "type": "node"
              },
              {
               "children": [
                {
                 "children": [],
                 "instanceArgs": {
                  "namespace": "html",
                  "tag": "p"
                 },
                 "nodeType": "DOM",
                 "props": {
                  "attributes": {
                   "data-bind": "text: formatted_val"
                  }
                 },
                 "type": "node"
                }
               ],
               "instanceArgs": {
                "namespace": "html",
                "tag": "div"
               },
               "nodeType": "DOM",
               "props": {
                "className": "interact-flex-row-right"
               },
               "type": "node"
              }
             ],
             "instanceArgs": {
              "namespace": "html",
              "tag": "div"
             },
             "nodeType": "DOM",
             "props": {
              "className": "interact-flex-row interact-widget"
             },
             "type": "node"
            }
           ],
           "instanceArgs": {
            "handlers": {
             "changes": [
              "(function (val){return (val!=this.model[\"changes\"]()) ? (this.valueFromJulia[\"changes\"]=true, this.model[\"changes\"](val)) : undefined})"
             ],
             "index": [
              "(function (val){return (val!=this.model[\"index\"]()) ? (this.valueFromJulia[\"index\"]=true, this.model[\"index\"](val)) : undefined})"
             ]
            },
            "id": "18193555901765134699",
            "imports": {
             "data": [
              {
               "name": "knockout",
               "type": "js",
               "url": "/assetserver/2712bb0a7395d062608c2f218a74b700f6c76b99-knockout.js"
              },
              {
               "name": "knockout_punches",
               "type": "js",
               "url": "/assetserver/fb4445501a2be4ab82176667f844e40da26fa007-knockout_punches.js"
              },
              {
               "name": null,
               "type": "js",
               "url": "/assetserver/a8ea7d9192d5fa85c6fac26c72d7fece1e500138-all.js"
              },
              {
               "name": null,
               "type": "css",
               "url": "/assetserver/620a53798cfdb29a4a2142ce0588e9aadc351d94-style.css"
              },
              {
               "name": null,
               "type": "css",
               "url": "/assetserver/9f2f17f677abbfd015a7c6b0c0f09a2da809bee2-bulma_confined.min.css"
              }
             ],
             "type": "async_block"
            },
            "mount_callbacks": [
             "function () {\n    var handler = (function (ko, koPunches) {\n    ko.punches.enableAll();\n    ko.bindingHandlers.numericValue = {\n        init: function(element, valueAccessor, allBindings, data, context) {\n            var stringified = ko.observable(ko.unwrap(valueAccessor()));\n            stringified.subscribe(function(value) {\n                var val = parseFloat(value);\n                if (!isNaN(val)) {\n                    valueAccessor()(val);\n                }\n            });\n            valueAccessor().subscribe(function(value) {\n                var str = JSON.stringify(value);\n                if ((str == \"0\") && ([\"-0\", \"-0.\"].indexOf(stringified()) >= 0))\n                     return;\n                 if ([\"null\", \"\"].indexOf(str) >= 0)\n                     return;\n                stringified(str);\n            });\n            ko.applyBindingsToNode(\n                element,\n                {\n                    value: stringified,\n                    valueUpdate: allBindings.get('valueUpdate'),\n                },\n                context,\n            );\n        }\n    };\n    var json_data = {\"formatted_vals\":[\"0.01\",\"0.02\",\"0.03\",\"0.04\",\"0.05\",\"0.06\",\"0.07\",\"0.08\",\"0.09\",\"0.1\",\"0.11\",\"0.12\",\"0.13\",\"0.14\",\"0.15\",\"0.16\",\"0.17\",\"0.18\",\"0.19\",\"0.2\",\"0.21\",\"0.22\",\"0.23\",\"0.24\",\"0.25\",\"0.26\",\"0.27\",\"0.28\",\"0.29\",\"0.3\",\"0.31\",\"0.32\",\"0.33\",\"0.34\",\"0.35\",\"0.36\",\"0.37\",\"0.38\",\"0.39\",\"0.4\",\"0.41\",\"0.42\",\"0.43\",\"0.44\",\"0.45\",\"0.46\",\"0.47\",\"0.48\",\"0.49\",\"0.5\",\"0.51\",\"0.52\",\"0.53\",\"0.54\",\"0.55\",\"0.56\",\"0.57\",\"0.58\",\"0.59\",\"0.6\",\"0.61\",\"0.62\",\"0.63\",\"0.64\",\"0.65\",\"0.66\",\"0.67\",\"0.68\",\"0.69\",\"0.7\",\"0.71\",\"0.72\",\"0.73\",\"0.74\",\"0.75\",\"0.76\",\"0.77\",\"0.78\",\"0.79\",\"0.8\",\"0.81\",\"0.82\",\"0.83\",\"0.84\",\"0.85\",\"0.86\",\"0.87\",\"0.88\",\"0.89\",\"0.9\",\"0.91\",\"0.92\",\"0.93\",\"0.94\",\"0.95\",\"0.96\",\"0.97\",\"0.98\",\"0.99\",\"1.0\",\"1.01\",\"1.02\",\"1.03\",\"1.04\",\"1.05\",\"1.06\",\"1.07\",\"1.08\",\"1.09\",\"1.1\",\"1.11\",\"1.12\",\"1.13\",\"1.14\",\"1.15\",\"1.16\",\"1.17\",\"1.18\",\"1.19\",\"1.2\",\"1.21\",\"1.22\",\"1.23\",\"1.24\",\"1.25\",\"1.26\",\"1.27\",\"1.28\",\"1.29\",\"1.3\",\"1.31\",\"1.32\",\"1.33\",\"1.34\",\"1.35\",\"1.36\",\"1.37\",\"1.38\",\"1.39\",\"1.4\",\"1.41\",\"1.42\",\"1.43\",\"1.44\",\"1.45\",\"1.46\",\"1.47\",\"1.48\",\"1.49\",\"1.5\",\"1.51\",\"1.52\",\"1.53\",\"1.54\",\"1.55\",\"1.56\",\"1.57\",\"1.58\",\"1.59\",\"1.6\",\"1.61\",\"1.62\",\"1.63\",\"1.64\",\"1.65\",\"1.66\",\"1.67\",\"1.68\",\"1.69\",\"1.7\",\"1.71\",\"1.72\",\"1.73\",\"1.74\",\"1.75\",\"1.76\",\"1.77\",\"1.78\",\"1.79\",\"1.8\",\"1.81\",\"1.82\",\"1.83\",\"1.84\",\"1.85\",\"1.86\",\"1.87\",\"1.88\",\"1.89\",\"1.9\",\"1.91\",\"1.92\",\"1.93\",\"1.94\",\"1.95\",\"1.96\",\"1.97\",\"1.98\",\"1.99\",\"2.0\"],\"changes\":WebIO.getval({\"name\":\"changes\",\"scope\":\"18193555901765134699\",\"id\":\"9234867641224040246\",\"type\":\"observable\"}),\"index\":WebIO.getval({\"name\":\"index\",\"scope\":\"18193555901765134699\",\"id\":\"4728462105325643028\",\"type\":\"observable\"})};\n    var self = this;\n    function AppViewModel() {\n        for (var key in json_data) {\n            var el = json_data[key];\n            this[key] = Array.isArray(el) ? ko.observableArray(el) : ko.observable(el);\n        }\n        \n        [this[\"formatted_val\"]=ko.computed(    function(){\n        return this.formatted_vals()[parseInt(this.index())-(1)];\n    }\n,this)]\n        [this[\"changes\"].subscribe((function (val){!(this.valueFromJulia[\"changes\"]) ? (WebIO.setval({\"name\":\"changes\",\"scope\":\"18193555901765134699\",\"id\":\"9234867641224040246\",\"type\":\"observable\"},val)) : undefined; return this.valueFromJulia[\"changes\"]=false}),self),this[\"index\"].subscribe((function (val){!(this.valueFromJulia[\"index\"]) ? (WebIO.setval({\"name\":\"index\",\"scope\":\"18193555901765134699\",\"id\":\"4728462105325643028\",\"type\":\"observable\"},val)) : undefined; return this.valueFromJulia[\"index\"]=false}),self)]\n        \n    }\n    self.model = new AppViewModel();\n    self.valueFromJulia = {};\n    for (var key in json_data) {\n        self.valueFromJulia[key] = false;\n    }\n    ko.applyBindings(self.model, self.dom);\n}\n);\n    (WebIO.importBlock({\"data\":[{\"name\":\"knockout\",\"type\":\"js\",\"url\":\"/assetserver/2712bb0a7395d062608c2f218a74b700f6c76b99-knockout.js\"},{\"name\":\"knockout_punches\",\"type\":\"js\",\"url\":\"/assetserver/fb4445501a2be4ab82176667f844e40da26fa007-knockout_punches.js\"}],\"type\":\"async_block\"})).then((imports) => handler.apply(this, imports));\n}\n"
            ],
            "observables": {
             "changes": {
              "id": "9234867641224040246",
              "sync": false,
              "value": 0
             },
             "index": {
              "id": "4728462105325643028",
              "sync": true,
              "value": 100
             }
            },
            "systemjs_options": null
           },
           "nodeType": "Scope",
           "props": {},
           "type": "node"
          }
         ],
         "instanceArgs": {
          "namespace": "html",
          "tag": "div"
         },
         "nodeType": "DOM",
         "props": {
          "className": "field interact-widget"
         },
         "type": "node"
        },
        {
         "children": [
          {
           "children": [
            {
             "children": [
              {
               "children": [
                {
                 "children": [
                  "x0"
                 ],
                 "instanceArgs": {
                  "namespace": "html",
                  "tag": "label"
                 },
                 "nodeType": "DOM",
                 "props": {
                  "className": "interact ",
                  "style": {
                   "padding": "5px 10px 0px 10px"
                  }
                 },
                 "type": "node"
                }
               ],
               "instanceArgs": {
                "namespace": "html",
                "tag": "div"
               },
               "nodeType": "DOM",
               "props": {
                "className": "interact-flex-row-left"
               },
               "type": "node"
              },
              {
               "children": [
                {
                 "children": [],
                 "instanceArgs": {
                  "namespace": "html",
                  "tag": "input"
                 },
                 "nodeType": "DOM",
                 "props": {
                  "attributes": {
                   "data-bind": "numericValue: index, valueUpdate: 'input', event: {change: function (){this.changes(this.changes()+1)}}",
                   "orient": "horizontal",
                   "type": "range"
                  },
                  "className": "slider slider is-fullwidth",
                  "max": 101,
                  "min": 1,
                  "step": 1,
                  "style": {}
                 },
                 "type": "node"
                }
               ],
               "instanceArgs": {
                "namespace": "html",
                "tag": "div"
               },
               "nodeType": "DOM",
               "props": {
                "className": "interact-flex-row-center"
               },
               "type": "node"
              },
              {
               "children": [
                {
                 "children": [],
                 "instanceArgs": {
                  "namespace": "html",
                  "tag": "p"
                 },
                 "nodeType": "DOM",
                 "props": {
                  "attributes": {
                   "data-bind": "text: formatted_val"
                  }
                 },
                 "type": "node"
                }
               ],
               "instanceArgs": {
                "namespace": "html",
                "tag": "div"
               },
               "nodeType": "DOM",
               "props": {
                "className": "interact-flex-row-right"
               },
               "type": "node"
              }
             ],
             "instanceArgs": {
              "namespace": "html",
              "tag": "div"
             },
             "nodeType": "DOM",
             "props": {
              "className": "interact-flex-row interact-widget"
             },
             "type": "node"
            }
           ],
           "instanceArgs": {
            "handlers": {
             "changes": [
              "(function (val){return (val!=this.model[\"changes\"]()) ? (this.valueFromJulia[\"changes\"]=true, this.model[\"changes\"](val)) : undefined})"
             ],
             "index": [
              "(function (val){return (val!=this.model[\"index\"]()) ? (this.valueFromJulia[\"index\"]=true, this.model[\"index\"](val)) : undefined})"
             ]
            },
            "id": "5573521046135323285",
            "imports": {
             "data": [
              {
               "name": "knockout",
               "type": "js",
               "url": "/assetserver/2712bb0a7395d062608c2f218a74b700f6c76b99-knockout.js"
              },
              {
               "name": "knockout_punches",
               "type": "js",
               "url": "/assetserver/fb4445501a2be4ab82176667f844e40da26fa007-knockout_punches.js"
              },
              {
               "name": null,
               "type": "js",
               "url": "/assetserver/a8ea7d9192d5fa85c6fac26c72d7fece1e500138-all.js"
              },
              {
               "name": null,
               "type": "css",
               "url": "/assetserver/620a53798cfdb29a4a2142ce0588e9aadc351d94-style.css"
              },
              {
               "name": null,
               "type": "css",
               "url": "/assetserver/9f2f17f677abbfd015a7c6b0c0f09a2da809bee2-bulma_confined.min.css"
              }
             ],
             "type": "async_block"
            },
            "mount_callbacks": [
             "function () {\n    var handler = (function (ko, koPunches) {\n    ko.punches.enableAll();\n    ko.bindingHandlers.numericValue = {\n        init: function(element, valueAccessor, allBindings, data, context) {\n            var stringified = ko.observable(ko.unwrap(valueAccessor()));\n            stringified.subscribe(function(value) {\n                var val = parseFloat(value);\n                if (!isNaN(val)) {\n                    valueAccessor()(val);\n                }\n            });\n            valueAccessor().subscribe(function(value) {\n                var str = JSON.stringify(value);\n                if ((str == \"0\") && ([\"-0\", \"-0.\"].indexOf(stringified()) >= 0))\n                     return;\n                 if ([\"null\", \"\"].indexOf(str) >= 0)\n                     return;\n                stringified(str);\n            });\n            ko.applyBindingsToNode(\n                element,\n                {\n                    value: stringified,\n                    valueUpdate: allBindings.get('valueUpdate'),\n                },\n                context,\n            );\n        }\n    };\n    var json_data = {\"formatted_vals\":[\"0.0\",\"0.02\",\"0.04\",\"0.06\",\"0.08\",\"0.1\",\"0.12\",\"0.14\",\"0.16\",\"0.18\",\"0.2\",\"0.22\",\"0.24\",\"0.26\",\"0.28\",\"0.3\",\"0.32\",\"0.34\",\"0.36\",\"0.38\",\"0.4\",\"0.42\",\"0.44\",\"0.46\",\"0.48\",\"0.5\",\"0.52\",\"0.54\",\"0.56\",\"0.58\",\"0.6\",\"0.62\",\"0.64\",\"0.66\",\"0.68\",\"0.7\",\"0.72\",\"0.74\",\"0.76\",\"0.78\",\"0.8\",\"0.82\",\"0.84\",\"0.86\",\"0.88\",\"0.9\",\"0.92\",\"0.94\",\"0.96\",\"0.98\",\"1.0\",\"1.02\",\"1.04\",\"1.06\",\"1.08\",\"1.1\",\"1.12\",\"1.14\",\"1.16\",\"1.18\",\"1.2\",\"1.22\",\"1.24\",\"1.26\",\"1.28\",\"1.3\",\"1.32\",\"1.34\",\"1.36\",\"1.38\",\"1.4\",\"1.42\",\"1.44\",\"1.46\",\"1.48\",\"1.5\",\"1.52\",\"1.54\",\"1.56\",\"1.58\",\"1.6\",\"1.62\",\"1.64\",\"1.66\",\"1.68\",\"1.7\",\"1.72\",\"1.74\",\"1.76\",\"1.78\",\"1.8\",\"1.82\",\"1.84\",\"1.86\",\"1.88\",\"1.9\",\"1.92\",\"1.94\",\"1.96\",\"1.98\",\"2.0\"],\"changes\":WebIO.getval({\"name\":\"changes\",\"scope\":\"5573521046135323285\",\"id\":\"1612109867697794794\",\"type\":\"observable\"}),\"index\":WebIO.getval({\"name\":\"index\",\"scope\":\"5573521046135323285\",\"id\":\"7019835746590632195\",\"type\":\"observable\"})};\n    var self = this;\n    function AppViewModel() {\n        for (var key in json_data) {\n            var el = json_data[key];\n            this[key] = Array.isArray(el) ? ko.observableArray(el) : ko.observable(el);\n        }\n        \n        [this[\"formatted_val\"]=ko.computed(    function(){\n        return this.formatted_vals()[parseInt(this.index())-(1)];\n    }\n,this)]\n        [this[\"changes\"].subscribe((function (val){!(this.valueFromJulia[\"changes\"]) ? (WebIO.setval({\"name\":\"changes\",\"scope\":\"5573521046135323285\",\"id\":\"1612109867697794794\",\"type\":\"observable\"},val)) : undefined; return this.valueFromJulia[\"changes\"]=false}),self),this[\"index\"].subscribe((function (val){!(this.valueFromJulia[\"index\"]) ? (WebIO.setval({\"name\":\"index\",\"scope\":\"5573521046135323285\",\"id\":\"7019835746590632195\",\"type\":\"observable\"},val)) : undefined; return this.valueFromJulia[\"index\"]=false}),self)]\n        \n    }\n    self.model = new AppViewModel();\n    self.valueFromJulia = {};\n    for (var key in json_data) {\n        self.valueFromJulia[key] = false;\n    }\n    ko.applyBindings(self.model, self.dom);\n}\n);\n    (WebIO.importBlock({\"data\":[{\"name\":\"knockout\",\"type\":\"js\",\"url\":\"/assetserver/2712bb0a7395d062608c2f218a74b700f6c76b99-knockout.js\"},{\"name\":\"knockout_punches\",\"type\":\"js\",\"url\":\"/assetserver/fb4445501a2be4ab82176667f844e40da26fa007-knockout_punches.js\"}],\"type\":\"async_block\"})).then((imports) => handler.apply(this, imports));\n}\n"
            ],
            "observables": {
             "changes": {
              "id": "1612109867697794794",
              "sync": false,
              "value": 0
             },
             "index": {
              "id": "7019835746590632195",
              "sync": true,
              "value": 51
             }
            },
            "systemjs_options": null
           },
           "nodeType": "Scope",
           "props": {},
           "type": "node"
          }
         ],
         "instanceArgs": {
          "namespace": "html",
          "tag": "div"
         },
         "nodeType": "DOM",
         "props": {
          "className": "field interact-widget"
         },
         "type": "node"
        },
        {
         "children": [
          {
           "children": [
            {
             "children": [
              {
               "children": [
                {
                 "children": [
                  "tmax"
                 ],
                 "instanceArgs": {
                  "namespace": "html",
                  "tag": "label"
                 },
                 "nodeType": "DOM",
                 "props": {
                  "className": "interact ",
                  "style": {
                   "padding": "5px 10px 0px 10px"
                  }
                 },
                 "type": "node"
                }
               ],
               "instanceArgs": {
                "namespace": "html",
                "tag": "div"
               },
               "nodeType": "DOM",
               "props": {
                "className": "interact-flex-row-left"
               },
               "type": "node"
              },
              {
               "children": [
                {
                 "children": [],
                 "instanceArgs": {
                  "namespace": "html",
                  "tag": "input"
                 },
                 "nodeType": "DOM",
                 "props": {
                  "attributes": {
                   "data-bind": "numericValue: index, valueUpdate: 'input', event: {change: function (){this.changes(this.changes()+1)}}",
                   "orient": "horizontal",
                   "type": "range"
                  },
                  "className": "slider slider is-fullwidth",
                  "max": 6,
                  "min": 1,
                  "step": 1,
                  "style": {}
                 },
                 "type": "node"
                }
               ],
               "instanceArgs": {
                "namespace": "html",
                "tag": "div"
               },
               "nodeType": "DOM",
               "props": {
                "className": "interact-flex-row-center"
               },
               "type": "node"
              },
              {
               "children": [
                {
                 "children": [],
                 "instanceArgs": {
                  "namespace": "html",
                  "tag": "p"
                 },
                 "nodeType": "DOM",
                 "props": {
                  "attributes": {
                   "data-bind": "text: formatted_val"
                  }
                 },
                 "type": "node"
                }
               ],
               "instanceArgs": {
                "namespace": "html",
                "tag": "div"
               },
               "nodeType": "DOM",
               "props": {
                "className": "interact-flex-row-right"
               },
               "type": "node"
              }
             ],
             "instanceArgs": {
              "namespace": "html",
              "tag": "div"
             },
             "nodeType": "DOM",
             "props": {
              "className": "interact-flex-row interact-widget"
             },
             "type": "node"
            }
           ],
           "instanceArgs": {
            "handlers": {
             "changes": [
              "(function (val){return (val!=this.model[\"changes\"]()) ? (this.valueFromJulia[\"changes\"]=true, this.model[\"changes\"](val)) : undefined})"
             ],
             "index": [
              "(function (val){return (val!=this.model[\"index\"]()) ? (this.valueFromJulia[\"index\"]=true, this.model[\"index\"](val)) : undefined})"
             ]
            },
            "id": "3728034245224788230",
            "imports": {
             "data": [
              {
               "name": "knockout",
               "type": "js",
               "url": "/assetserver/2712bb0a7395d062608c2f218a74b700f6c76b99-knockout.js"
              },
              {
               "name": "knockout_punches",
               "type": "js",
               "url": "/assetserver/fb4445501a2be4ab82176667f844e40da26fa007-knockout_punches.js"
              },
              {
               "name": null,
               "type": "js",
               "url": "/assetserver/a8ea7d9192d5fa85c6fac26c72d7fece1e500138-all.js"
              },
              {
               "name": null,
               "type": "css",
               "url": "/assetserver/620a53798cfdb29a4a2142ce0588e9aadc351d94-style.css"
              },
              {
               "name": null,
               "type": "css",
               "url": "/assetserver/9f2f17f677abbfd015a7c6b0c0f09a2da809bee2-bulma_confined.min.css"
              }
             ],
             "type": "async_block"
            },
            "mount_callbacks": [
             "function () {\n    var handler = (function (ko, koPunches) {\n    ko.punches.enableAll();\n    ko.bindingHandlers.numericValue = {\n        init: function(element, valueAccessor, allBindings, data, context) {\n            var stringified = ko.observable(ko.unwrap(valueAccessor()));\n            stringified.subscribe(function(value) {\n                var val = parseFloat(value);\n                if (!isNaN(val)) {\n                    valueAccessor()(val);\n                }\n            });\n            valueAccessor().subscribe(function(value) {\n                var str = JSON.stringify(value);\n                if ((str == \"0\") && ([\"-0\", \"-0.\"].indexOf(stringified()) >= 0))\n                     return;\n                 if ([\"null\", \"\"].indexOf(str) >= 0)\n                     return;\n                stringified(str);\n            });\n            ko.applyBindingsToNode(\n                element,\n                {\n                    value: stringified,\n                    valueUpdate: allBindings.get('valueUpdate'),\n                },\n                context,\n            );\n        }\n    };\n    var json_data = {\"formatted_vals\":[\"1.0\",\"6.0\",\"11.0\",\"16.0\",\"21.0\",\"26.0\"],\"changes\":WebIO.getval({\"name\":\"changes\",\"scope\":\"3728034245224788230\",\"id\":\"2965447878542056802\",\"type\":\"observable\"}),\"index\":WebIO.getval({\"name\":\"index\",\"scope\":\"3728034245224788230\",\"id\":\"3504693184005843809\",\"type\":\"observable\"})};\n    var self = this;\n    function AppViewModel() {\n        for (var key in json_data) {\n            var el = json_data[key];\n            this[key] = Array.isArray(el) ? ko.observableArray(el) : ko.observable(el);\n        }\n        \n        [this[\"formatted_val\"]=ko.computed(    function(){\n        return this.formatted_vals()[parseInt(this.index())-(1)];\n    }\n,this)]\n        [this[\"changes\"].subscribe((function (val){!(this.valueFromJulia[\"changes\"]) ? (WebIO.setval({\"name\":\"changes\",\"scope\":\"3728034245224788230\",\"id\":\"2965447878542056802\",\"type\":\"observable\"},val)) : undefined; return this.valueFromJulia[\"changes\"]=false}),self),this[\"index\"].subscribe((function (val){!(this.valueFromJulia[\"index\"]) ? (WebIO.setval({\"name\":\"index\",\"scope\":\"3728034245224788230\",\"id\":\"3504693184005843809\",\"type\":\"observable\"},val)) : undefined; return this.valueFromJulia[\"index\"]=false}),self)]\n        \n    }\n    self.model = new AppViewModel();\n    self.valueFromJulia = {};\n    for (var key in json_data) {\n        self.valueFromJulia[key] = false;\n    }\n    ko.applyBindings(self.model, self.dom);\n}\n);\n    (WebIO.importBlock({\"data\":[{\"name\":\"knockout\",\"type\":\"js\",\"url\":\"/assetserver/2712bb0a7395d062608c2f218a74b700f6c76b99-knockout.js\"},{\"name\":\"knockout_punches\",\"type\":\"js\",\"url\":\"/assetserver/fb4445501a2be4ab82176667f844e40da26fa007-knockout_punches.js\"}],\"type\":\"async_block\"})).then((imports) => handler.apply(this, imports));\n}\n"
            ],
            "observables": {
             "changes": {
              "id": "2965447878542056802",
              "sync": false,
              "value": 0
             },
             "index": {
              "id": "3504693184005843809",
              "sync": true,
              "value": 3
             }
            },
            "systemjs_options": null
           },
           "nodeType": "Scope",
           "props": {},
           "type": "node"
          }
         ],
         "instanceArgs": {
          "namespace": "html",
          "tag": "div"
         },
         "nodeType": "DOM",
         "props": {
          "className": "field interact-widget"
         },
         "type": "node"
        },
        {
         "children": [
          {
           "children": [],
           "instanceArgs": {
            "id": "9400087627581163437",
            "name": "obs-node"
           },
           "nodeType": "ObservableNode",
           "props": {},
           "type": "node"
          }
         ],
         "instanceArgs": {
          "handlers": {},
          "id": "1758176146920250053",
          "imports": {
           "data": [],
           "type": "async_block"
          },
          "mount_callbacks": [],
          "observables": {
           "obs-node": {
            "id": "9400087627581163437",
            "sync": false,
            "value": {
             "children": [
              {
               "children": [],
               "instanceArgs": {
                "namespace": "html",
                "tag": "div"
               },
               "nodeType": "DOM",
               "props": {
                "setInnerHtml": "<img src=\"data:image/png;base64,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\" />"
               },
               "type": "node"
              }
             ],
             "instanceArgs": {
              "namespace": "html",
              "tag": "div"
             },
             "nodeType": "DOM",
             "props": {
              "className": "interact-flex-row interact-widget"
             },
             "type": "node"
            }
           }
          },
          "systemjs_options": null
         },
         "nodeType": "Scope",
         "props": {},
         "type": "node"
        }
       ],
       "instanceArgs": {
        "namespace": "html",
        "tag": "div"
       },
       "nodeType": "DOM",
       "props": {},
       "type": "node"
      },
      "text/html": [
       "<div\n",
       "    class=\"webio-mountpoint\"\n",
       "    data-webio-mountpoint=\"7979439184891037430\"\n",
       ">\n",
       "    <script>\n",
       "    (function(){\n",
       "    // Some integrations (namely, IJulia/Jupyter) use an alternate render pathway than\n",
       "    // just putting the html on the page. If WebIO isn't defined, then it's pretty likely\n",
       "    // that we're in one of those situations and the integration just isn't installed\n",
       "    // correctly.\n",
       "    if (typeof window.WebIO === \"undefined\") {\n",
       "        document\n",
       "            .querySelector('[data-webio-mountpoint=\"7979439184891037430\"]')\n",
       "            .innerHTML = (\n",
       "                '<div style=\"padding: 1em; background-color: #f8d6da; border: 1px solid #f5c6cb; font-weight: bold;\">' +\n",
       "                '<p><strong>WebIO not detected.</strong></p>' +\n",
       "                '<p>Please read ' +\n",
       "                '<a href=\"https://juliagizmos.github.io/WebIO.jl/latest/troubleshooting/not-detected/\" target=\"_blank\">the troubleshooting guide</a> ' +\n",
       "                'for more information on how to resolve this issue.</p>' +\n",
       "                '<p><a href=\"https://juliagizmos.github.io/WebIO.jl/latest/troubleshooting/not-detected/\" target=\"_blank\">https://juliagizmos.github.io/WebIO.jl/latest/troubleshooting/not-detected/</a></p>' +\n",
       "                '</div>'\n",
       "            );\n",
       "        return;\n",
       "    }\n",
       "    WebIO.mount(\n",
       "        document.querySelector('[data-webio-mountpoint=\"7979439184891037430\"]'),\n",
       "        {\"props\":{},\"nodeType\":\"DOM\",\"type\":\"node\",\"instanceArgs\":{\"namespace\":\"html\",\"tag\":\"div\"},\"children\":[{\"props\":{\"className\":\"field interact-widget\"},\"nodeType\":\"DOM\",\"type\":\"node\",\"instanceArgs\":{\"namespace\":\"html\",\"tag\":\"div\"},\"children\":[{\"props\":{},\"nodeType\":\"Scope\",\"type\":\"node\",\"instanceArgs\":{\"imports\":{\"data\":[{\"name\":\"knockout\",\"type\":\"js\",\"url\":\"\\/assetserver\\/2712bb0a7395d062608c2f218a74b700f6c76b99-knockout.js\"},{\"name\":\"knockout_punches\",\"type\":\"js\",\"url\":\"\\/assetserver\\/fb4445501a2be4ab82176667f844e40da26fa007-knockout_punches.js\"},{\"name\":null,\"type\":\"js\",\"url\":\"\\/assetserver\\/a8ea7d9192d5fa85c6fac26c72d7fece1e500138-all.js\"},{\"name\":null,\"type\":\"css\",\"url\":\"\\/assetserver\\/620a53798cfdb29a4a2142ce0588e9aadc351d94-style.css\"},{\"name\":null,\"type\":\"css\",\"url\":\"\\/assetserver\\/9f2f17f677abbfd015a7c6b0c0f09a2da809bee2-bulma_confined.min.css\"}],\"type\":\"async_block\"},\"id\":\"9868383134663832101\",\"handlers\":{\"changes\":[\"(function (val){return (val!=this.model[\\\"changes\\\"]()) ? (this.valueFromJulia[\\\"changes\\\"]=true, this.model[\\\"changes\\\"](val)) : undefined})\"],\"index\":[\"(function (val){return (val!=this.model[\\\"index\\\"]()) ? (this.valueFromJulia[\\\"index\\\"]=true, this.model[\\\"index\\\"](val)) : undefined})\"]},\"systemjs_options\":null,\"mount_callbacks\":[\"function () {\\n    var handler = (function (ko, koPunches) {\\n    ko.punches.enableAll();\\n    ko.bindingHandlers.numericValue = {\\n        init: function(element, valueAccessor, allBindings, data, context) {\\n            var stringified = ko.observable(ko.unwrap(valueAccessor()));\\n            stringified.subscribe(function(value) {\\n                var val = parseFloat(value);\\n                if (!isNaN(val)) {\\n                    valueAccessor()(val);\\n                }\\n            });\\n            valueAccessor().subscribe(function(value) {\\n                var str = JSON.stringify(value);\\n                if ((str == \\\"0\\\") && ([\\\"-0\\\", \\\"-0.\\\"].indexOf(stringified()) >= 0))\\n                     return;\\n                 if ([\\\"null\\\", \\\"\\\"].indexOf(str) >= 0)\\n                     return;\\n                stringified(str);\\n            });\\n            ko.applyBindingsToNode(\\n                element,\\n                {\\n                    value: stringified,\\n                    valueUpdate: allBindings.get('valueUpdate'),\\n                },\\n                context,\\n            );\\n        }\\n    };\\n    var json_data = {\\\"formatted_vals\\\":[\\\"0.0\\\",\\\"0.02\\\",\\\"0.04\\\",\\\"0.06\\\",\\\"0.08\\\",\\\"0.1\\\",\\\"0.12\\\",\\\"0.14\\\",\\\"0.16\\\",\\\"0.18\\\",\\\"0.2\\\",\\\"0.22\\\",\\\"0.24\\\",\\\"0.26\\\",\\\"0.28\\\",\\\"0.3\\\",\\\"0.32\\\",\\\"0.34\\\",\\\"0.36\\\",\\\"0.38\\\",\\\"0.4\\\",\\\"0.42\\\",\\\"0.44\\\",\\\"0.46\\\",\\\"0.48\\\",\\\"0.5\\\",\\\"0.52\\\",\\\"0.54\\\",\\\"0.56\\\",\\\"0.58\\\",\\\"0.6\\\",\\\"0.62\\\",\\\"0.64\\\",\\\"0.66\\\",\\\"0.68\\\",\\\"0.7\\\",\\\"0.72\\\",\\\"0.74\\\",\\\"0.76\\\",\\\"0.78\\\",\\\"0.8\\\",\\\"0.82\\\",\\\"0.84\\\",\\\"0.86\\\",\\\"0.88\\\",\\\"0.9\\\",\\\"0.92\\\",\\\"0.94\\\",\\\"0.96\\\",\\\"0.98\\\",\\\"1.0\\\",\\\"1.02\\\",\\\"1.04\\\",\\\"1.06\\\",\\\"1.08\\\",\\\"1.1\\\",\\\"1.12\\\",\\\"1.14\\\",\\\"1.16\\\",\\\"1.18\\\",\\\"1.2\\\",\\\"1.22\\\",\\\"1.24\\\",\\\"1.26\\\",\\\"1.28\\\",\\\"1.3\\\",\\\"1.32\\\",\\\"1.34\\\",\\\"1.36\\\",\\\"1.38\\\",\\\"1.4\\\",\\\"1.42\\\",\\\"1.44\\\",\\\"1.46\\\",\\\"1.48\\\",\\\"1.5\\\",\\\"1.52\\\",\\\"1.54\\\",\\\"1.56\\\",\\\"1.58\\\",\\\"1.6\\\",\\\"1.62\\\",\\\"1.64\\\",\\\"1.66\\\",\\\"1.68\\\",\\\"1.7\\\",\\\"1.72\\\",\\\"1.74\\\",\\\"1.76\\\",\\\"1.78\\\",\\\"1.8\\\",\\\"1.82\\\",\\\"1.84\\\",\\\"1.86\\\",\\\"1.88\\\",\\\"1.9\\\",\\\"1.92\\\",\\\"1.94\\\",\\\"1.96\\\",\\\"1.98\\\",\\\"2.0\\\"],\\\"changes\\\":WebIO.getval({\\\"name\\\":\\\"changes\\\",\\\"scope\\\":\\\"9868383134663832101\\\",\\\"id\\\":\\\"17480948514705851403\\\",\\\"type\\\":\\\"observable\\\"}),\\\"index\\\":WebIO.getval({\\\"name\\\":\\\"index\\\",\\\"scope\\\":\\\"9868383134663832101\\\",\\\"id\\\":\\\"2112244266798267618\\\",\\\"type\\\":\\\"observable\\\"})};\\n    var self = this;\\n    function AppViewModel() {\\n        for (var key in json_data) {\\n            var el = json_data[key];\\n            this[key] = Array.isArray(el) ? ko.observableArray(el) : ko.observable(el);\\n        }\\n        \\n        [this[\\\"formatted_val\\\"]=ko.computed(    function(){\\n        return this.formatted_vals()[parseInt(this.index())-(1)];\\n    }\\n,this)]\\n        [this[\\\"changes\\\"].subscribe((function (val){!(this.valueFromJulia[\\\"changes\\\"]) ? (WebIO.setval({\\\"name\\\":\\\"changes\\\",\\\"scope\\\":\\\"9868383134663832101\\\",\\\"id\\\":\\\"17480948514705851403\\\",\\\"type\\\":\\\"observable\\\"},val)) : undefined; return this.valueFromJulia[\\\"changes\\\"]=false}),self),this[\\\"index\\\"].subscribe((function (val){!(this.valueFromJulia[\\\"index\\\"]) ? (WebIO.setval({\\\"name\\\":\\\"index\\\",\\\"scope\\\":\\\"9868383134663832101\\\",\\\"id\\\":\\\"2112244266798267618\\\",\\\"type\\\":\\\"observable\\\"},val)) : undefined; return this.valueFromJulia[\\\"index\\\"]=false}),self)]\\n        \\n    }\\n    self.model = new AppViewModel();\\n    self.valueFromJulia = {};\\n    for (var key in json_data) {\\n        self.valueFromJulia[key] = false;\\n    }\\n    ko.applyBindings(self.model, self.dom);\\n}\\n);\\n    (WebIO.importBlock({\\\"data\\\":[{\\\"name\\\":\\\"knockout\\\",\\\"type\\\":\\\"js\\\",\\\"url\\\":\\\"\\/assetserver\\/2712bb0a7395d062608c2f218a74b700f6c76b99-knockout.js\\\"},{\\\"name\\\":\\\"knockout_punches\\\",\\\"type\\\":\\\"js\\\",\\\"url\\\":\\\"\\/assetserver\\/fb4445501a2be4ab82176667f844e40da26fa007-knockout_punches.js\\\"}],\\\"type\\\":\\\"async_block\\\"})).then((imports) => handler.apply(this, imports));\\n}\\n\"],\"observables\":{\"changes\":{\"sync\":false,\"id\":\"17480948514705851403\",\"value\":0},\"index\":{\"sync\":true,\"id\":\"2112244266798267618\",\"value\":51}}},\"children\":[{\"props\":{\"className\":\"interact-flex-row interact-widget\"},\"nodeType\":\"DOM\",\"type\":\"node\",\"instanceArgs\":{\"namespace\":\"html\",\"tag\":\"div\"},\"children\":[{\"props\":{\"className\":\"interact-flex-row-left\"},\"nodeType\":\"DOM\",\"type\":\"node\",\"instanceArgs\":{\"namespace\":\"html\",\"tag\":\"div\"},\"children\":[{\"props\":{\"className\":\"interact \",\"style\":{\"padding\":\"5px 10px 0px 10px\"}},\"nodeType\":\"DOM\",\"type\":\"node\",\"instanceArgs\":{\"namespace\":\"html\",\"tag\":\"label\"},\"children\":[\"R\"]}]},{\"props\":{\"className\":\"interact-flex-row-center\"},\"nodeType\":\"DOM\",\"type\":\"node\",\"instanceArgs\":{\"namespace\":\"html\",\"tag\":\"div\"},\"children\":[{\"props\":{\"max\":101,\"min\":1,\"attributes\":{\"type\":\"range\",\"data-bind\":\"numericValue: index, valueUpdate: 'input', event: {change: function (){this.changes(this.changes()+1)}}\",\"orient\":\"horizontal\"},\"step\":1,\"className\":\"slider slider is-fullwidth\",\"style\":{}},\"nodeType\":\"DOM\",\"type\":\"node\",\"instanceArgs\":{\"namespace\":\"html\",\"tag\":\"input\"},\"children\":[]}]},{\"props\":{\"className\":\"interact-flex-row-right\"},\"nodeType\":\"DOM\",\"type\":\"node\",\"instanceArgs\":{\"namespace\":\"html\",\"tag\":\"div\"},\"children\":[{\"props\":{\"attributes\":{\"data-bind\":\"text: formatted_val\"}},\"nodeType\":\"DOM\",\"type\":\"node\",\"instanceArgs\":{\"namespace\":\"html\",\"tag\":\"p\"},\"children\":[]}]}]}]}]},{\"props\":{\"className\":\"field interact-widget\"},\"nodeType\":\"DOM\",\"type\":\"node\",\"instanceArgs\":{\"namespace\":\"html\",\"tag\":\"div\"},\"children\":[{\"props\":{},\"nodeType\":\"Scope\",\"type\":\"node\",\"instanceArgs\":{\"imports\":{\"data\":[{\"name\":\"knockout\",\"type\":\"js\",\"url\":\"\\/assetserver\\/2712bb0a7395d062608c2f218a74b700f6c76b99-knockout.js\"},{\"name\":\"knockout_punches\",\"type\":\"js\",\"url\":\"\\/assetserver\\/fb4445501a2be4ab82176667f844e40da26fa007-knockout_punches.js\"},{\"name\":null,\"type\":\"js\",\"url\":\"\\/assetserver\\/a8ea7d9192d5fa85c6fac26c72d7fece1e500138-all.js\"},{\"name\":null,\"type\":\"css\",\"url\":\"\\/assetserver\\/620a53798cfdb29a4a2142ce0588e9aadc351d94-style.css\"},{\"name\":null,\"type\":\"css\",\"url\":\"\\/assetserver\\/9f2f17f677abbfd015a7c6b0c0f09a2da809bee2-bulma_confined.min.css\"}],\"type\":\"async_block\"},\"id\":\"18193555901765134699\",\"handlers\":{\"changes\":[\"(function (val){return (val!=this.model[\\\"changes\\\"]()) ? (this.valueFromJulia[\\\"changes\\\"]=true, this.model[\\\"changes\\\"](val)) : undefined})\"],\"index\":[\"(function (val){return (val!=this.model[\\\"index\\\"]()) ? (this.valueFromJulia[\\\"index\\\"]=true, this.model[\\\"index\\\"](val)) : undefined})\"]},\"systemjs_options\":null,\"mount_callbacks\":[\"function () {\\n    var handler = (function (ko, koPunches) {\\n    ko.punches.enableAll();\\n    ko.bindingHandlers.numericValue = {\\n        init: function(element, valueAccessor, allBindings, data, context) {\\n            var stringified = ko.observable(ko.unwrap(valueAccessor()));\\n            stringified.subscribe(function(value) {\\n                var val = parseFloat(value);\\n                if (!isNaN(val)) {\\n                    valueAccessor()(val);\\n                }\\n            });\\n            valueAccessor().subscribe(function(value) {\\n                var str = JSON.stringify(value);\\n                if ((str == \\\"0\\\") && ([\\\"-0\\\", \\\"-0.\\\"].indexOf(stringified()) >= 0))\\n                     return;\\n                 if ([\\\"null\\\", \\\"\\\"].indexOf(str) >= 0)\\n                     return;\\n                stringified(str);\\n            });\\n            ko.applyBindingsToNode(\\n                element,\\n                {\\n                    value: stringified,\\n                    valueUpdate: allBindings.get('valueUpdate'),\\n                },\\n                context,\\n            );\\n        }\\n    };\\n    var json_data = {\\\"formatted_vals\\\":[\\\"0.01\\\",\\\"0.02\\\",\\\"0.03\\\",\\\"0.04\\\",\\\"0.05\\\",\\\"0.06\\\",\\\"0.07\\\",\\\"0.08\\\",\\\"0.09\\\",\\\"0.1\\\",\\\"0.11\\\",\\\"0.12\\\",\\\"0.13\\\",\\\"0.14\\\",\\\"0.15\\\",\\\"0.16\\\",\\\"0.17\\\",\\\"0.18\\\",\\\"0.19\\\",\\\"0.2\\\",\\\"0.21\\\",\\\"0.22\\\",\\\"0.23\\\",\\\"0.24\\\",\\\"0.25\\\",\\\"0.26\\\",\\\"0.27\\\",\\\"0.28\\\",\\\"0.29\\\",\\\"0.3\\\",\\\"0.31\\\",\\\"0.32\\\",\\\"0.33\\\",\\\"0.34\\\",\\\"0.35\\\",\\\"0.36\\\",\\\"0.37\\\",\\\"0.38\\\",\\\"0.39\\\",\\\"0.4\\\",\\\"0.41\\\",\\\"0.42\\\",\\\"0.43\\\",\\\"0.44\\\",\\\"0.45\\\",\\\"0.46\\\",\\\"0.47\\\",\\\"0.48\\\",\\\"0.49\\\",\\\"0.5\\\",\\\"0.51\\\",\\\"0.52\\\",\\\"0.53\\\",\\\"0.54\\\",\\\"0.55\\\",\\\"0.56\\\",\\\"0.57\\\",\\\"0.58\\\",\\\"0.59\\\",\\\"0.6\\\",\\\"0.61\\\",\\\"0.62\\\",\\\"0.63\\\",\\\"0.64\\\",\\\"0.65\\\",\\\"0.66\\\",\\\"0.67\\\",\\\"0.68\\\",\\\"0.69\\\",\\\"0.7\\\",\\\"0.71\\\",\\\"0.72\\\",\\\"0.73\\\",\\\"0.74\\\",\\\"0.75\\\",\\\"0.76\\\",\\\"0.77\\\",\\\"0.78\\\",\\\"0.79\\\",\\\"0.8\\\",\\\"0.81\\\",\\\"0.82\\\",\\\"0.83\\\",\\\"0.84\\\",\\\"0.85\\\",\\\"0.86\\\",\\\"0.87\\\",\\\"0.88\\\",\\\"0.89\\\",\\\"0.9\\\",\\\"0.91\\\",\\\"0.92\\\",\\\"0.93\\\",\\\"0.94\\\",\\\"0.95\\\",\\\"0.96\\\",\\\"0.97\\\",\\\"0.98\\\",\\\"0.99\\\",\\\"1.0\\\",\\\"1.01\\\",\\\"1.02\\\",\\\"1.03\\\",\\\"1.04\\\",\\\"1.05\\\",\\\"1.06\\\",\\\"1.07\\\",\\\"1.08\\\",\\\"1.09\\\",\\\"1.1\\\",\\\"1.11\\\",\\\"1.12\\\",\\\"1.13\\\",\\\"1.14\\\",\\\"1.15\\\",\\\"1.16\\\",\\\"1.17\\\",\\\"1.18\\\",\\\"1.19\\\",\\\"1.2\\\",\\\"1.21\\\",\\\"1.22\\\",\\\"1.23\\\",\\\"1.24\\\",\\\"1.25\\\",\\\"1.26\\\",\\\"1.27\\\",\\\"1.28\\\",\\\"1.29\\\",\\\"1.3\\\",\\\"1.31\\\",\\\"1.32\\\",\\\"1.33\\\",\\\"1.34\\\",\\\"1.35\\\",\\\"1.36\\\",\\\"1.37\\\",\\\"1.38\\\",\\\"1.39\\\",\\\"1.4\\\",\\\"1.41\\\",\\\"1.42\\\",\\\"1.43\\\",\\\"1.44\\\",\\\"1.45\\\",\\\"1.46\\\",\\\"1.47\\\",\\\"1.48\\\",\\\"1.49\\\",\\\"1.5\\\",\\\"1.51\\\",\\\"1.52\\\",\\\"1.53\\\",\\\"1.54\\\",\\\"1.55\\\",\\\"1.56\\\",\\\"1.57\\\",\\\"1.58\\\",\\\"1.59\\\",\\\"1.6\\\",\\\"1.61\\\",\\\"1.62\\\",\\\"1.63\\\",\\\"1.64\\\",\\\"1.65\\\",\\\"1.66\\\",\\\"1.67\\\",\\\"1.68\\\",\\\"1.69\\\",\\\"1.7\\\",\\\"1.71\\\",\\\"1.72\\\",\\\"1.73\\\",\\\"1.74\\\",\\\"1.75\\\",\\\"1.76\\\",\\\"1.77\\\",\\\"1.78\\\",\\\"1.79\\\",\\\"1.8\\\",\\\"1.81\\\",\\\"1.82\\\",\\\"1.83\\\",\\\"1.84\\\",\\\"1.85\\\",\\\"1.86\\\",\\\"1.87\\\",\\\"1.88\\\",\\\"1.89\\\",\\\"1.9\\\",\\\"1.91\\\",\\\"1.92\\\",\\\"1.93\\\",\\\"1.94\\\",\\\"1.95\\\",\\\"1.96\\\",\\\"1.97\\\",\\\"1.98\\\",\\\"1.99\\\",\\\"2.0\\\"],\\\"changes\\\":WebIO.getval({\\\"name\\\":\\\"changes\\\",\\\"scope\\\":\\\"18193555901765134699\\\",\\\"id\\\":\\\"9234867641224040246\\\",\\\"type\\\":\\\"observable\\\"}),\\\"index\\\":WebIO.getval({\\\"name\\\":\\\"index\\\",\\\"scope\\\":\\\"18193555901765134699\\\",\\\"id\\\":\\\"4728462105325643028\\\",\\\"type\\\":\\\"observable\\\"})};\\n    var self = this;\\n    function AppViewModel() {\\n        for (var key in json_data) {\\n            var el = json_data[key];\\n            this[key] = Array.isArray(el) ? ko.observableArray(el) : ko.observable(el);\\n        }\\n        \\n        [this[\\\"formatted_val\\\"]=ko.computed(    function(){\\n        return this.formatted_vals()[parseInt(this.index())-(1)];\\n    }\\n,this)]\\n        [this[\\\"changes\\\"].subscribe((function (val){!(this.valueFromJulia[\\\"changes\\\"]) ? (WebIO.setval({\\\"name\\\":\\\"changes\\\",\\\"scope\\\":\\\"18193555901765134699\\\",\\\"id\\\":\\\"9234867641224040246\\\",\\\"type\\\":\\\"observable\\\"},val)) : undefined; return this.valueFromJulia[\\\"changes\\\"]=false}),self),this[\\\"index\\\"].subscribe((function (val){!(this.valueFromJulia[\\\"index\\\"]) ? (WebIO.setval({\\\"name\\\":\\\"index\\\",\\\"scope\\\":\\\"18193555901765134699\\\",\\\"id\\\":\\\"4728462105325643028\\\",\\\"type\\\":\\\"observable\\\"},val)) : undefined; return this.valueFromJulia[\\\"index\\\"]=false}),self)]\\n        \\n    }\\n    self.model = new AppViewModel();\\n    self.valueFromJulia = {};\\n    for (var key in json_data) {\\n        self.valueFromJulia[key] = false;\\n    }\\n    ko.applyBindings(self.model, self.dom);\\n}\\n);\\n    (WebIO.importBlock({\\\"data\\\":[{\\\"name\\\":\\\"knockout\\\",\\\"type\\\":\\\"js\\\",\\\"url\\\":\\\"\\/assetserver\\/2712bb0a7395d062608c2f218a74b700f6c76b99-knockout.js\\\"},{\\\"name\\\":\\\"knockout_punches\\\",\\\"type\\\":\\\"js\\\",\\\"url\\\":\\\"\\/assetserver\\/fb4445501a2be4ab82176667f844e40da26fa007-knockout_punches.js\\\"}],\\\"type\\\":\\\"async_block\\\"})).then((imports) => handler.apply(this, imports));\\n}\\n\"],\"observables\":{\"changes\":{\"sync\":false,\"id\":\"9234867641224040246\",\"value\":0},\"index\":{\"sync\":true,\"id\":\"4728462105325643028\",\"value\":100}}},\"children\":[{\"props\":{\"className\":\"interact-flex-row interact-widget\"},\"nodeType\":\"DOM\",\"type\":\"node\",\"instanceArgs\":{\"namespace\":\"html\",\"tag\":\"div\"},\"children\":[{\"props\":{\"className\":\"interact-flex-row-left\"},\"nodeType\":\"DOM\",\"type\":\"node\",\"instanceArgs\":{\"namespace\":\"html\",\"tag\":\"div\"},\"children\":[{\"props\":{\"className\":\"interact \",\"style\":{\"padding\":\"5px 10px 0px 10px\"}},\"nodeType\":\"DOM\",\"type\":\"node\",\"instanceArgs\":{\"namespace\":\"html\",\"tag\":\"label\"},\"children\":[\"K\"]}]},{\"props\":{\"className\":\"interact-flex-row-center\"},\"nodeType\":\"DOM\",\"type\":\"node\",\"instanceArgs\":{\"namespace\":\"html\",\"tag\":\"div\"},\"children\":[{\"props\":{\"max\":200,\"min\":1,\"attributes\":{\"type\":\"range\",\"data-bind\":\"numericValue: index, valueUpdate: 'input', event: {change: function (){this.changes(this.changes()+1)}}\",\"orient\":\"horizontal\"},\"step\":1,\"className\":\"slider slider is-fullwidth\",\"style\":{}},\"nodeType\":\"DOM\",\"type\":\"node\",\"instanceArgs\":{\"namespace\":\"html\",\"tag\":\"input\"},\"children\":[]}]},{\"props\":{\"className\":\"interact-flex-row-right\"},\"nodeType\":\"DOM\",\"type\":\"node\",\"instanceArgs\":{\"namespace\":\"html\",\"tag\":\"div\"},\"children\":[{\"props\":{\"attributes\":{\"data-bind\":\"text: formatted_val\"}},\"nodeType\":\"DOM\",\"type\":\"node\",\"instanceArgs\":{\"namespace\":\"html\",\"tag\":\"p\"},\"children\":[]}]}]}]}]},{\"props\":{\"className\":\"field interact-widget\"},\"nodeType\":\"DOM\",\"type\":\"node\",\"instanceArgs\":{\"namespace\":\"html\",\"tag\":\"div\"},\"children\":[{\"props\":{},\"nodeType\":\"Scope\",\"type\":\"node\",\"instanceArgs\":{\"imports\":{\"data\":[{\"name\":\"knockout\",\"type\":\"js\",\"url\":\"\\/assetserver\\/2712bb0a7395d062608c2f218a74b700f6c76b99-knockout.js\"},{\"name\":\"knockout_punches\",\"type\":\"js\",\"url\":\"\\/assetserver\\/fb4445501a2be4ab82176667f844e40da26fa007-knockout_punches.js\"},{\"name\":null,\"type\":\"js\",\"url\":\"\\/assetserver\\/a8ea7d9192d5fa85c6fac26c72d7fece1e500138-all.js\"},{\"name\":null,\"type\":\"css\",\"url\":\"\\/assetserver\\/620a53798cfdb29a4a2142ce0588e9aadc351d94-style.css\"},{\"name\":null,\"type\":\"css\",\"url\":\"\\/assetserver\\/9f2f17f677abbfd015a7c6b0c0f09a2da809bee2-bulma_confined.min.css\"}],\"type\":\"async_block\"},\"id\":\"5573521046135323285\",\"handlers\":{\"changes\":[\"(function (val){return (val!=this.model[\\\"changes\\\"]()) ? (this.valueFromJulia[\\\"changes\\\"]=true, this.model[\\\"changes\\\"](val)) : undefined})\"],\"index\":[\"(function (val){return (val!=this.model[\\\"index\\\"]()) ? (this.valueFromJulia[\\\"index\\\"]=true, this.model[\\\"index\\\"](val)) : undefined})\"]},\"systemjs_options\":null,\"mount_callbacks\":[\"function () {\\n    var handler = (function (ko, koPunches) {\\n    ko.punches.enableAll();\\n    ko.bindingHandlers.numericValue = {\\n        init: function(element, valueAccessor, allBindings, data, context) {\\n            var stringified = ko.observable(ko.unwrap(valueAccessor()));\\n            stringified.subscribe(function(value) {\\n                var val = parseFloat(value);\\n                if (!isNaN(val)) {\\n                    valueAccessor()(val);\\n                }\\n            });\\n            valueAccessor().subscribe(function(value) {\\n                var str = JSON.stringify(value);\\n                if ((str == \\\"0\\\") && ([\\\"-0\\\", \\\"-0.\\\"].indexOf(stringified()) >= 0))\\n                     return;\\n                 if ([\\\"null\\\", \\\"\\\"].indexOf(str) >= 0)\\n                     return;\\n                stringified(str);\\n            });\\n            ko.applyBindingsToNode(\\n                element,\\n                {\\n                    value: stringified,\\n                    valueUpdate: allBindings.get('valueUpdate'),\\n                },\\n                context,\\n            );\\n        }\\n    };\\n    var json_data = {\\\"formatted_vals\\\":[\\\"0.0\\\",\\\"0.02\\\",\\\"0.04\\\",\\\"0.06\\\",\\\"0.08\\\",\\\"0.1\\\",\\\"0.12\\\",\\\"0.14\\\",\\\"0.16\\\",\\\"0.18\\\",\\\"0.2\\\",\\\"0.22\\\",\\\"0.24\\\",\\\"0.26\\\",\\\"0.28\\\",\\\"0.3\\\",\\\"0.32\\\",\\\"0.34\\\",\\\"0.36\\\",\\\"0.38\\\",\\\"0.4\\\",\\\"0.42\\\",\\\"0.44\\\",\\\"0.46\\\",\\\"0.48\\\",\\\"0.5\\\",\\\"0.52\\\",\\\"0.54\\\",\\\"0.56\\\",\\\"0.58\\\",\\\"0.6\\\",\\\"0.62\\\",\\\"0.64\\\",\\\"0.66\\\",\\\"0.68\\\",\\\"0.7\\\",\\\"0.72\\\",\\\"0.74\\\",\\\"0.76\\\",\\\"0.78\\\",\\\"0.8\\\",\\\"0.82\\\",\\\"0.84\\\",\\\"0.86\\\",\\\"0.88\\\",\\\"0.9\\\",\\\"0.92\\\",\\\"0.94\\\",\\\"0.96\\\",\\\"0.98\\\",\\\"1.0\\\",\\\"1.02\\\",\\\"1.04\\\",\\\"1.06\\\",\\\"1.08\\\",\\\"1.1\\\",\\\"1.12\\\",\\\"1.14\\\",\\\"1.16\\\",\\\"1.18\\\",\\\"1.2\\\",\\\"1.22\\\",\\\"1.24\\\",\\\"1.26\\\",\\\"1.28\\\",\\\"1.3\\\",\\\"1.32\\\",\\\"1.34\\\",\\\"1.36\\\",\\\"1.38\\\",\\\"1.4\\\",\\\"1.42\\\",\\\"1.44\\\",\\\"1.46\\\",\\\"1.48\\\",\\\"1.5\\\",\\\"1.52\\\",\\\"1.54\\\",\\\"1.56\\\",\\\"1.58\\\",\\\"1.6\\\",\\\"1.62\\\",\\\"1.64\\\",\\\"1.66\\\",\\\"1.68\\\",\\\"1.7\\\",\\\"1.72\\\",\\\"1.74\\\",\\\"1.76\\\",\\\"1.78\\\",\\\"1.8\\\",\\\"1.82\\\",\\\"1.84\\\",\\\"1.86\\\",\\\"1.88\\\",\\\"1.9\\\",\\\"1.92\\\",\\\"1.94\\\",\\\"1.96\\\",\\\"1.98\\\",\\\"2.0\\\"],\\\"changes\\\":WebIO.getval({\\\"name\\\":\\\"changes\\\",\\\"scope\\\":\\\"5573521046135323285\\\",\\\"id\\\":\\\"1612109867697794794\\\",\\\"type\\\":\\\"observable\\\"}),\\\"index\\\":WebIO.getval({\\\"name\\\":\\\"index\\\",\\\"scope\\\":\\\"5573521046135323285\\\",\\\"id\\\":\\\"7019835746590632195\\\",\\\"type\\\":\\\"observable\\\"})};\\n    var self = this;\\n    function AppViewModel() {\\n        for (var key in json_data) {\\n            var el = json_data[key];\\n            this[key] = Array.isArray(el) ? ko.observableArray(el) : ko.observable(el);\\n        }\\n        \\n        [this[\\\"formatted_val\\\"]=ko.computed(    function(){\\n        return this.formatted_vals()[parseInt(this.index())-(1)];\\n    }\\n,this)]\\n        [this[\\\"changes\\\"].subscribe((function (val){!(this.valueFromJulia[\\\"changes\\\"]) ? (WebIO.setval({\\\"name\\\":\\\"changes\\\",\\\"scope\\\":\\\"5573521046135323285\\\",\\\"id\\\":\\\"1612109867697794794\\\",\\\"type\\\":\\\"observable\\\"},val)) : undefined; return this.valueFromJulia[\\\"changes\\\"]=false}),self),this[\\\"index\\\"].subscribe((function (val){!(this.valueFromJulia[\\\"index\\\"]) ? (WebIO.setval({\\\"name\\\":\\\"index\\\",\\\"scope\\\":\\\"5573521046135323285\\\",\\\"id\\\":\\\"7019835746590632195\\\",\\\"type\\\":\\\"observable\\\"},val)) : undefined; return this.valueFromJulia[\\\"index\\\"]=false}),self)]\\n        \\n    }\\n    self.model = new AppViewModel();\\n    self.valueFromJulia = {};\\n    for (var key in json_data) {\\n        self.valueFromJulia[key] = false;\\n    }\\n    ko.applyBindings(self.model, self.dom);\\n}\\n);\\n    (WebIO.importBlock({\\\"data\\\":[{\\\"name\\\":\\\"knockout\\\",\\\"type\\\":\\\"js\\\",\\\"url\\\":\\\"\\/assetserver\\/2712bb0a7395d062608c2f218a74b700f6c76b99-knockout.js\\\"},{\\\"name\\\":\\\"knockout_punches\\\",\\\"type\\\":\\\"js\\\",\\\"url\\\":\\\"\\/assetserver\\/fb4445501a2be4ab82176667f844e40da26fa007-knockout_punches.js\\\"}],\\\"type\\\":\\\"async_block\\\"})).then((imports) => handler.apply(this, imports));\\n}\\n\"],\"observables\":{\"changes\":{\"sync\":false,\"id\":\"1612109867697794794\",\"value\":0},\"index\":{\"sync\":true,\"id\":\"7019835746590632195\",\"value\":51}}},\"children\":[{\"props\":{\"className\":\"interact-flex-row interact-widget\"},\"nodeType\":\"DOM\",\"type\":\"node\",\"instanceArgs\":{\"namespace\":\"html\",\"tag\":\"div\"},\"children\":[{\"props\":{\"className\":\"interact-flex-row-left\"},\"nodeType\":\"DOM\",\"type\":\"node\",\"instanceArgs\":{\"namespace\":\"html\",\"tag\":\"div\"},\"children\":[{\"props\":{\"className\":\"interact \",\"style\":{\"padding\":\"5px 10px 0px 10px\"}},\"nodeType\":\"DOM\",\"type\":\"node\",\"instanceArgs\":{\"namespace\":\"html\",\"tag\":\"label\"},\"children\":[\"x0\"]}]},{\"props\":{\"className\":\"interact-flex-row-center\"},\"nodeType\":\"DOM\",\"type\":\"node\",\"instanceArgs\":{\"namespace\":\"html\",\"tag\":\"div\"},\"children\":[{\"props\":{\"max\":101,\"min\":1,\"attributes\":{\"type\":\"range\",\"data-bind\":\"numericValue: index, valueUpdate: 'input', event: {change: function (){this.changes(this.changes()+1)}}\",\"orient\":\"horizontal\"},\"step\":1,\"className\":\"slider slider is-fullwidth\",\"style\":{}},\"nodeType\":\"DOM\",\"type\":\"node\",\"instanceArgs\":{\"namespace\":\"html\",\"tag\":\"input\"},\"children\":[]}]},{\"props\":{\"className\":\"interact-flex-row-right\"},\"nodeType\":\"DOM\",\"type\":\"node\",\"instanceArgs\":{\"namespace\":\"html\",\"tag\":\"div\"},\"children\":[{\"props\":{\"attributes\":{\"data-bind\":\"text: formatted_val\"}},\"nodeType\":\"DOM\",\"type\":\"node\",\"instanceArgs\":{\"namespace\":\"html\",\"tag\":\"p\"},\"children\":[]}]}]}]}]},{\"props\":{\"className\":\"field interact-widget\"},\"nodeType\":\"DOM\",\"type\":\"node\",\"instanceArgs\":{\"namespace\":\"html\",\"tag\":\"div\"},\"children\":[{\"props\":{},\"nodeType\":\"Scope\",\"type\":\"node\",\"instanceArgs\":{\"imports\":{\"data\":[{\"name\":\"knockout\",\"type\":\"js\",\"url\":\"\\/assetserver\\/2712bb0a7395d062608c2f218a74b700f6c76b99-knockout.js\"},{\"name\":\"knockout_punches\",\"type\":\"js\",\"url\":\"\\/assetserver\\/fb4445501a2be4ab82176667f844e40da26fa007-knockout_punches.js\"},{\"name\":null,\"type\":\"js\",\"url\":\"\\/assetserver\\/a8ea7d9192d5fa85c6fac26c72d7fece1e500138-all.js\"},{\"name\":null,\"type\":\"css\",\"url\":\"\\/assetserver\\/620a53798cfdb29a4a2142ce0588e9aadc351d94-style.css\"},{\"name\":null,\"type\":\"css\",\"url\":\"\\/assetserver\\/9f2f17f677abbfd015a7c6b0c0f09a2da809bee2-bulma_confined.min.css\"}],\"type\":\"async_block\"},\"id\":\"3728034245224788230\",\"handlers\":{\"changes\":[\"(function (val){return (val!=this.model[\\\"changes\\\"]()) ? (this.valueFromJulia[\\\"changes\\\"]=true, this.model[\\\"changes\\\"](val)) : undefined})\"],\"index\":[\"(function (val){return (val!=this.model[\\\"index\\\"]()) ? (this.valueFromJulia[\\\"index\\\"]=true, this.model[\\\"index\\\"](val)) : undefined})\"]},\"systemjs_options\":null,\"mount_callbacks\":[\"function () {\\n    var handler = (function (ko, koPunches) {\\n    ko.punches.enableAll();\\n    ko.bindingHandlers.numericValue = {\\n        init: function(element, valueAccessor, allBindings, data, context) {\\n            var stringified = ko.observable(ko.unwrap(valueAccessor()));\\n            stringified.subscribe(function(value) {\\n                var val = parseFloat(value);\\n                if (!isNaN(val)) {\\n                    valueAccessor()(val);\\n                }\\n            });\\n            valueAccessor().subscribe(function(value) {\\n                var str = JSON.stringify(value);\\n                if ((str == \\\"0\\\") && ([\\\"-0\\\", \\\"-0.\\\"].indexOf(stringified()) >= 0))\\n                     return;\\n                 if ([\\\"null\\\", \\\"\\\"].indexOf(str) >= 0)\\n                     return;\\n                stringified(str);\\n            });\\n            ko.applyBindingsToNode(\\n                element,\\n                {\\n                    value: stringified,\\n                    valueUpdate: allBindings.get('valueUpdate'),\\n                },\\n                context,\\n            );\\n        }\\n    };\\n    var json_data = {\\\"formatted_vals\\\":[\\\"1.0\\\",\\\"6.0\\\",\\\"11.0\\\",\\\"16.0\\\",\\\"21.0\\\",\\\"26.0\\\"],\\\"changes\\\":WebIO.getval({\\\"name\\\":\\\"changes\\\",\\\"scope\\\":\\\"3728034245224788230\\\",\\\"id\\\":\\\"2965447878542056802\\\",\\\"type\\\":\\\"observable\\\"}),\\\"index\\\":WebIO.getval({\\\"name\\\":\\\"index\\\",\\\"scope\\\":\\\"3728034245224788230\\\",\\\"id\\\":\\\"3504693184005843809\\\",\\\"type\\\":\\\"observable\\\"})};\\n    var self = this;\\n    function AppViewModel() {\\n        for (var key in json_data) {\\n            var el = json_data[key];\\n            this[key] = Array.isArray(el) ? ko.observableArray(el) : ko.observable(el);\\n        }\\n        \\n        [this[\\\"formatted_val\\\"]=ko.computed(    function(){\\n        return this.formatted_vals()[parseInt(this.index())-(1)];\\n    }\\n,this)]\\n        [this[\\\"changes\\\"].subscribe((function (val){!(this.valueFromJulia[\\\"changes\\\"]) ? (WebIO.setval({\\\"name\\\":\\\"changes\\\",\\\"scope\\\":\\\"3728034245224788230\\\",\\\"id\\\":\\\"2965447878542056802\\\",\\\"type\\\":\\\"observable\\\"},val)) : undefined; return this.valueFromJulia[\\\"changes\\\"]=false}),self),this[\\\"index\\\"].subscribe((function (val){!(this.valueFromJulia[\\\"index\\\"]) ? (WebIO.setval({\\\"name\\\":\\\"index\\\",\\\"scope\\\":\\\"3728034245224788230\\\",\\\"id\\\":\\\"3504693184005843809\\\",\\\"type\\\":\\\"observable\\\"},val)) : undefined; return this.valueFromJulia[\\\"index\\\"]=false}),self)]\\n        \\n    }\\n    self.model = new AppViewModel();\\n    self.valueFromJulia = {};\\n    for (var key in json_data) {\\n        self.valueFromJulia[key] = false;\\n    }\\n    ko.applyBindings(self.model, self.dom);\\n}\\n);\\n    (WebIO.importBlock({\\\"data\\\":[{\\\"name\\\":\\\"knockout\\\",\\\"type\\\":\\\"js\\\",\\\"url\\\":\\\"\\/assetserver\\/2712bb0a7395d062608c2f218a74b700f6c76b99-knockout.js\\\"},{\\\"name\\\":\\\"knockout_punches\\\",\\\"type\\\":\\\"js\\\",\\\"url\\\":\\\"\\/assetserver\\/fb4445501a2be4ab82176667f844e40da26fa007-knockout_punches.js\\\"}],\\\"type\\\":\\\"async_block\\\"})).then((imports) => handler.apply(this, imports));\\n}\\n\"],\"observables\":{\"changes\":{\"sync\":false,\"id\":\"2965447878542056802\",\"value\":0},\"index\":{\"sync\":true,\"id\":\"3504693184005843809\",\"value\":3}}},\"children\":[{\"props\":{\"className\":\"interact-flex-row interact-widget\"},\"nodeType\":\"DOM\",\"type\":\"node\",\"instanceArgs\":{\"namespace\":\"html\",\"tag\":\"div\"},\"children\":[{\"props\":{\"className\":\"interact-flex-row-left\"},\"nodeType\":\"DOM\",\"type\":\"node\",\"instanceArgs\":{\"namespace\":\"html\",\"tag\":\"div\"},\"children\":[{\"props\":{\"className\":\"interact \",\"style\":{\"padding\":\"5px 10px 0px 10px\"}},\"nodeType\":\"DOM\",\"type\":\"node\",\"instanceArgs\":{\"namespace\":\"html\",\"tag\":\"label\"},\"children\":[\"tmax\"]}]},{\"props\":{\"className\":\"interact-flex-row-center\"},\"nodeType\":\"DOM\",\"type\":\"node\",\"instanceArgs\":{\"namespace\":\"html\",\"tag\":\"div\"},\"children\":[{\"props\":{\"max\":6,\"min\":1,\"attributes\":{\"type\":\"range\",\"data-bind\":\"numericValue: index, valueUpdate: 'input', event: {change: function (){this.changes(this.changes()+1)}}\",\"orient\":\"horizontal\"},\"step\":1,\"className\":\"slider slider is-fullwidth\",\"style\":{}},\"nodeType\":\"DOM\",\"type\":\"node\",\"instanceArgs\":{\"namespace\":\"html\",\"tag\":\"input\"},\"children\":[]}]},{\"props\":{\"className\":\"interact-flex-row-right\"},\"nodeType\":\"DOM\",\"type\":\"node\",\"instanceArgs\":{\"namespace\":\"html\",\"tag\":\"div\"},\"children\":[{\"props\":{\"attributes\":{\"data-bind\":\"text: formatted_val\"}},\"nodeType\":\"DOM\",\"type\":\"node\",\"instanceArgs\":{\"namespace\":\"html\",\"tag\":\"p\"},\"children\":[]}]}]}]}]},{\"props\":{},\"nodeType\":\"Scope\",\"type\":\"node\",\"instanceArgs\":{\"imports\":{\"data\":[],\"type\":\"async_block\"},\"id\":\"5511494993591992566\",\"handlers\":{},\"systemjs_options\":null,\"mount_callbacks\":[],\"observables\":{\"obs-node\":{\"sync\":false,\"id\":\"2706999171657579152\",\"value\":{\"props\":{\"className\":\"interact-flex-row interact-widget\"},\"nodeType\":\"DOM\",\"type\":\"node\",\"instanceArgs\":{\"namespace\":\"html\",\"tag\":\"div\"},\"children\":[{\"props\":{\"setInnerHtml\":\"<img src=\\\"data:image\\/png;base64,iVBORw0KGgoAAAANSUhEUgAAA4QAAAEsCAIAAAAU\\/OrGAAAABmJLR0QA\\/wD\\/AP+gvaeTAAAgAElEQVR4nOzdZ1gTWRsG4DcBQhcpIgICioqCAiI2xAKIvWLDrmsva1uxd9eCDV3RdcHesLNW1sVeQFRQcG3YAUUQ6T2EfD\\/C5mOxoSQ5CXnuyx8zJyczzxAJbyYz53CEQiEBAAAAALDAZR0AAAAAAJQXilEAAAAAYAbFKAAAAAAwg2IUAAAAAJhBMQoAAAAAzKAYBQAAAABmVFkHAABQdllZWeHh4VFRUTweb8aMGZ92EAgEkZGRkZGRb968mTlzppGRkfihCxcuBAUFaWhojB071sHBQYapAQAkA2dGAQAYCw4OXrBgwd9\\/\\/719+\\/bPdvj48eOQIUOuXr3q6+ublpYmbr9w4UK\\/fv1cXFwsLS3btm378uVLWUUGAJAYDga9BwCQBydOnFiwYMGjR4++1EEgEKiqqsbGxtatW1fU0rlzZ3d3dx8fHyIaOXKkkZHR2rVrZRQXAEBCcGYUAEBRhYeHt2vXTrTcrl278PBwpnEAAH6EQl4zWlBQ8OzZs4YNG0pwm6IzxBwOR4LbVCDFxcUcDkdpD18gEKioqLBOwQwOX0EPPy8vLyMjQ3z9qJGRUWJiYnmeyOfzFy9e\\/OTJE3HL+vXrq1WrJpWU8kpxX3eJEAqFQqGQy1XeE1JK\\/kefiIqLi2XzH0BLS+ubO1LIYjQ+Pr53797Pnj2T4Db5fL5QKFRXV5fgNhVIQUEBj8dT2rfm3NxcXV1d1imYweEr6OGLfmcLCwtFqwUFBVpaWuV5YkpKSkBAwNatW8UtRkZG5XxupZGVlaVsh1yaQCAoLCzU1NRkHYSZgoICDofD4\\/FYB2EmNzdXQ0NDBvVoeXahkMUoAACoqKiYmJjExcXZ2NgQUXx8vJmZWTmfq6am1r9\\/f2mmk3dcLlfJzwsq+U+Ay+VyOBwl\\/wnIz\\/8BuQgBAACfOn36dEJCwlc69OnTZ9++fURUVFQUFBTk5eUlq2gAABKDYhQAgLHIyEhra+uJEyc+f\\/7c2tp60KBBovYJEyaI70lydnauV68eEXl4eFhbW2dnZxPRrFmzwsLC2rZt6+zszOPxhg4dyuoQAAB+GL6mBwBgzM7OLjQ0VLyqoaEhWggLCzM0NBQtHz9+XCAQiPuIrnc0MzN7+PBhRESEurp606ZN5eQbNwCA74JiFACAMQ0Njdq1a3\\/abmFhIV62tLT87HPV1dXbtGkjrWQAANKHYlRZpKfThw+UmUlpaZSVRbm5lJNDRCSazIXPV1VR4XC5pKZGOjpERLq6pKNDOjqkp0eGhmRkRNraLPMDAABApYRitMSdO3cKCgrc3d1ZB6mQlBR6+bLk39u3FB9Pb99SYiKlpJCmJhkbk54eVa1KurqkpVVSdOrrExEVFXFUVDgcDvH5lJ1NRJSZSdnZlJ1NGRmUkkIfP1JxMRkbk7k5mZqSmRlZWlLt2lSrFtWuXbIpUFpPnjzJEX24USh6enp16tRhnQIAlFpBQcE\\/\\/\\/wj+\\/3m5+fzeLyKXNujo6MjGsqj4lCMljA1NS19PZZCSEmh+\\/cpOpqePKHHj+nxYxIKqXZtsram2rXJ1pY6diQzM6pRg4yM6OuDqeXl8Xk8ztfHGc3NpQ8fKCGB3r2jd+\\/o5Uu6fJlevaKXL8nIiGxsyMaGGjUie3tq1AinUZVIVlZWo0aNHBwcWAf5btHR0enp6axTAIBS27lz55IlS2rWrCnj\\/QqFwgqO+R8TE\\/P27VuJzJeBYrSEmZmZaD4GeZaRQbdvl\\/yLiqLsbHJwIAcHatqUhg4lW1v6dyoWqdDSIktL+vS6NaGQ4uJKCuLbtykggB4\\/JnNzataMmjalZs2ocWNS1skElEJRUZGuru7du3dZB\\/luenp6AoFAmadgAQDm+Hy+t7f3pk2bWAf5bqampkVFRRLZFIpReff+PV27Rtev09Wr9Po1OTlRs2Y0bBht3Ei1arEOR0REHE5JkdqxY0lLURE9fUp37tDt27R3Lz15Qo0bU+vW5OpKbdrgO30AAAD4PxSj8ignh65coQsX6MIFeveOWremtm1p2DBq3JhUFeEVU1UlOzuys6MRI4iIsrPp1i26cYPWrqUBA8jRkTw8yNOTWrQgZZ1\\/FAAAAEooQmmjNF69ojNn6OxZCg8nZ2dq35527iQnJ4Wv2HR0qH17at+eiCgvj27coIsXafJkio8nT0\\/q2pW6dCEDA9YpAQAAgAUUoyViYmL4fH7Lli1lv+sHDyg4mIKDKTGRunalMWPo6FHS1ZV9EFnQ1CRPT\\/L0pNWr6d07OneOTpygSZOoaVPq3Zt69aJyz60NAAAAlQGK0RLZ2dl8Pl+We3z6lA4dokOHKD+fevemzZvJxYWUav4UU1MaPZpGj6a8PDp\\/nv78kxYvJjs7GjCA+vYlY2PW+QAAAED6UIzKWnIyHTxI+\\/bR+\\/fUvz\\/t3k3Nm7POxJqmJvXqRb16UWEh\\/f03HTpE8+dTy5Y0bBj17EmamqzzAQAAgNQo04k4poqK6ORJ6tmTbGzo3j1au5bi48nPD5Xof\\/B41K0b7d9P797RkCG0Zw+Zm9PYsXT7NutkIB8KCgqCg4MDAgIyMzOJKCYmJioq6kudHz9+HBERIcN0AACKh8\\/nHzx48NP2Z8+e3bx5UzYZUIxK3Zs3tHAhWVrSunXUuzfFx9OePeTurlzfyH8vTU0aNIhCQuiff8jamgYPJgcH8venjAzWyYCpgQMH7t27Ny0tTSAQFBUVDRs2TPfLl1cbGhoOHz48NzdXlgkBABTL1q1b79+\\/L1ru0aNHcnKyaLlatWo\\/\\/fST6JO\\/tKEgkhahkEJDqUcPcnamrCwKDaXr12nECIyy+X1q1KDZsyk2lvz86OZNqlWLxo8nFhOngVy4fPnyxo0bZ8+era+vf+rUKXNz87p1636ps7GxccuWLfft2yfLhAAACqSoqGjdunUTJ04UrV6+fDk\\/P1+0XLVqVU9Pz+3bt8sgBopRycvNpa1bydaWfHyoRw+Ki6ONG8nWlnUsRcbhkLs7BQXRo0dkZkYdO5K7O506RcXFrJOBDDVv3jwzM7NHjx69e\\/cmon379nl5eYkeWrZs2fjx40XLq1atGjVqlGi5T58+KEYBAIqLi728vAIDA0XL\\/fv337JlCxFdunTJxMTEysqKiCZOnJibm9utWzdnZ+crV66QDN9CcQOTJCUlkb8\\/\\/fEHubrSH39QmzasA1U6Jia0cCHNmUPHj9Ovv5KPD02fTsOH4yYnOfLxI71+LZlNaWr+51NcRESElpbWuXPnzMzMiOj69etLly4VPeTj49OiRYtdu3bVrl37t99+i4yMFLU7Ozvfvn07Pz9fQ0NDMpkAAKTpWYYwU0JD+5hrc6r\\/+8eRy+WuWbPGxcXF2dn5r7\\/+evPmzdixY4no+vXrzs7Ooj5bt27dt2\\/fmTNnLCwsRC3Ozs4xMTEZGRl6enqSyfQFKEZLuLi4VGRu+levaM0aOnyYvL3p5k368jeHIAFqauTtTd7edP06rV9PS5bQlCk0aRJJ+ZcFyuXWLVq8WDKbqluXgoI+\\/1BeXt7Hjx+rV68uWtXU1Dx48KCbm5uqquru3btNTU1F7cbGxsXFxe\\/fvxd97gcAkHMbHxZHJP94NVLatIbcIXX+\\/wV4nTp1\\/Pz8evXqlZ+ff+fOHTU1NSJKSEiwtLT80hZ0dXU1NTXfvn2LYlTePX5Mq1bRX3\\/RuHEUG0tGRqwDKZPWral1a3r0iHx9ydqaxo6lGTPwEjDWtSt17Sr1vaiqqnI4nKKiInFL3bp1q1evnpGR0bp1a3GjQCAoLi7m8XhSDwQAIAlbXKQ46WLr1q1TUlI8PDzE5z7V1NQEAsFXnlJUVCSDt1BcM\\/rjnjyhQYPIzY1sben5c1q+HGUQG7a2tGcP3b1LGRlUvz7NnUspKawzgZSpqalZWFjExcWJW2bPnm1tbd26deupU6eKG+Pi4nR0dIwxgwIAKD0+nz9w4EAfH58XL17s2rVL1GhtbV36jVRVVbV0bfr+\\/XsiMjc3l3Y2FKM\\/4tkzGjKE2rYlBwd6\\/pzmzKEqVVhnUnpWVrRlC92\\/T5mZVL8+zZ9P6emsM4E0tW\\/fPjw8XLR89uzZEydO7Nix448\\/\\/rhx48b+\\/ftF7WFhYe3atVNVxVdAAKDsFi5cWKVKlUWLFh05cmTmzJkxMTFE5OHhERYWJu7ToEGD33\\/\\/\\/fz58x8+fCCisLCwVq1ayeCaexSjJXJycrKzs7\\/Z7d07Gj+eWrUqORs6ezaGapIv5ua0ZQvdu0fJyVSvHq1eTRhlsjL56aeftLW1RcujRo0KCgoiouLi4hs3bhw5csTQ0FBHRycoKOj+\\/fui2X0PHz4svrMeAEBpffjwITMzc+\\/evVwu187OLiAgQHS\\/vLOzs46Ozt27d0Xd9u\\/fr6GhceLEibdv35IM30JxwqBEdHQ0n8\\/39PT8UoeMDFq9mgIDadQoevKEDAxkmQ6+T82aFBhIPj60aBHVrUuLF9OoUaQixetwQEb8\\/f3Fyy1btjQ2Nr58+bKbm9uqVavE7Y6Ojo6OjkT08OHDpKSk7t27MwgKACBPqlWrtnXrVvFqnz59xMvLly9ft27doUOHiKh27drLli0Ttb948eLJkycHDhyQQTycGf02Pp+2bCEbG0pJoeho8vVFJaoY6tWjQ4fo9Gk6fJgcHOjcOdaBQNIOHTrk4ODwpUfNzc1DQ0O5mOsMAODLunXrtnr16k\\/bq1WrdvnyZdlc5oQzo99w5gz5+JCFBYWGUqNGrNPA93NyoosX6cwZmjmT\\/PzIz48aNmSdCSTkK3OBEpG0xyIBAKgcPjv4XRUZ3g0j3XMG+fn5q1ev7t+\\/\\/\\/z589O\\/cDtJcHDw4MGDx4wZEx0dLdUw3+vpU+rcmXx8yM+Pzp9HJarYunWjmBjq1Ys8PGjKFEpNZR0IAAAAiEjaxej48eNDQ0OHDBny4sWLnj17ftrhxIkT48eP7969u42NTbt27eLj46Wap5yysmjmTHJ1JU9PiomhTp1YBwJJUFWlSZPo0SMSCMjWlgIDS2YTvXD5wtwVczdu3ZiWlsY6IwAAgNKR4tf0iYmJQUFBr169MjU17dSpU\\/Xq1e\\/cudO0adPSfTZs2LBs2TJvb28iioyMDAgIWL58ufQilcexYzRjBrVvT\\/\\/8Q\\/9O7wKVh6EhbdlC48bR5Mm0Ywdpm\\/aN5F7IMM\\/gRHE2H94c7B9s38iedUYAAAAlIsUzo1FRUVZWVqJ5+Xg8XvPmzSMiIkp3EAqFt2\\/fbvPvDO5t2rQp00HG3r3T7NyZli2jgwdp505UopWZvT1dvUotXc9cLjif0SiD9ElYU\\/iyzcux88ayjgZfFBAQ4ObmJhqzaceOHW3atCksLGQdCgAAKkqKZ0aTkpIMDQ3Fq0ZGRomJiaU7fPz4kc\\/ni\\/sYGRmJxvovj7S0NHd3d\\/Hqvn37ytys8Oeff5aeKvDriou5p07VvXixcdeud\\/v2ffT8efHz5+V8aiUhEAi4XC6Hw2EdRKbux+4RNig1uKwqvUx5uWvXLmX7OQgEApUKDHyVk5Pzn9nkEhPp4UMJxCIiHR1q0UK8NmbMmHPnzs2fP3\\/48OFz5869cuVKBSepKy4uPnDggIODg739106Ha2lp4ZZ8AJCeuLi4CxcusE7x3QoKCiS1KSkWo5qamqWD5ufni0erFtHS0qJSB5Ofny9qKQ9tbe158+aJV6tVq1bmz5Krq2ux6JLAb3nwQH3evGqGhvyTJ99ZWRkQuZYzQ2VSUFCgpqambH9xY57FXEm7QqVuyNZRr9q2bVt2idjIzc0t\\/6\\/epzIyMv7zP+eff2jNGgnEIqLatUsXoxwOZ\\/v27U5OTgcPHvT19bW1ta3g5jkcTqtWrYyMjHQwdwUAMNK7d+\\/Q0FBfX18Z77e4uJjD4VTk5EvLli0lNWiJFItRc3Pz+Pj44uJi0R+qN2\\/e9OjRo3QHLS0tAwODN2\\/e1KxZU9RBtFAePB6vffv2X+nw2XEKysjPp0WLaN8+WreO+vUjodBMXV29nAEqmby8PB6PV5HTY4po2rhpx0cej6sWJ7pchZug+v5x26tXa48cyTqZbGVlZX19jKSvS0tL+8\\/bmacnfXnyiAoyNDSsX7\\/+jRs3vjI\\/RflxOBwrKytlOxEOAHKlZs2ap0+flv1+c3NzNTQ05OQklBRDtGzZksfjnT17logePHjw6NGjbt26EdHz58\\/FP\\/e+ffvu2bOHiPLz8w8fPlx6SgBpu3WLGjem168pJoYGD5bZbkGOWFhY7Fi4w+GWQ82bNa2vWw\\/VGHzzry2\\/\\/06dOlFcHOtw8Dnr1q3LyMjw8fEZNGhQ+a\\/DAQAAeSbFM6Oqqqq\\/\\/fbbyJEjmzRpEhUVtXr1agMDAyK6cuXKxo0bRXP0zZ8\\/393d3dXV9cOHD\\/Xq1ZNNMZqfTwsX0oED9Ntv1LevDHYI8qt9u\\/b3291PTk42NjYWtYSF0dq15OxMq1fTTz+xTQf\\/cefOnXXr1kVERFhYWISHhy9dupT54BsAAFBx0p2BycvLq23btg8fPqxTp47otnoiGjRokHjMUQsLi0ePHkVGRuro6DSSybDy9+\\/T0KHUoAHFxJCR0f\\/b4+LiioqK6tevL4MMIG80NTXFy6qqNHcu9ehBQ4fSyZMUEIBxFeRFZGRkUFCQ6AqcvXv3\\/vbbb5mZmbKcIwQAAKRB6tOBGhoaigdvEtHS0ip9twSPx2vZsqW0YxCRQEBr1tDGjbRhw2e+l09ISODz+ShGQcTOjiIiaOlScnSkrVupd2\\/WgYBo\\/Pjx4mUTE5OVK1cyDAMAAJKiLHPTv3lDQ4aQhgZFRpK5Oes0oAjU1OjXX6lbNxo6lEJCyM+P\\/jsaBAAAAEiAXNxFJW3HjlGzZuThQefPoxKF79OiBcXEkKYmNWlCkZGs01QKOTk54eHhly5dev36NessAADAXiU\\/M5qTQ5MnU3g4hYSQkxPrNKCYNDVp0yY6coS6dKHZs2n6dMJYQD8mPT190vRJwSeCNUw1SJ0EHwSGVQz\\/+O2Pio\\/T9Pbt26dPnzZs2FB8IxoAACiKynxm9MEDcnYmLpciI1GJQkX170+3b9OxY9S9O6WksE6jgFJTUx2bOR5\\/czxvcl6ad1pa77TMsZmvWr7yGua1e+\\/uimzZ39\\/f0dFx7dq1tra2hw8fllBeAACQkUpbjAYEkIcHzZ9PO3bgUj+QDEtLunqVGjYkJye6do11GkUz5ZcpiWaJBW0LqPRcaZaU7Z3984yfy8wVXH7p6elz5swJDQ0NCQk5ePDgtGnTRJPXAwCAoqicxWh6OgUH0\\/XrNGQI6yhQuaip0erVFBhIAwaQry8JhawDKYjc3Nzg4OBCl8LPPFaV+Lb8fQf2fXMju3fvdnV1FU0gvHXrVg8Pj6KionPnztWpU8fR0ZGIPD09ORzOjRs3JB0fAACkqHIWo1WrUkgI2dh8x1McHByc8F0+lE\\/HjnTnDp06RT16UFoa6zSKIDY2Vt1Y\\/T\\/nREspMC24cfvbFeSIESOqV68+a9asmJiYJUuWbNmyRVVVNT4+Xjz3L4fDsbS0jMP0WQAACqVyFqM\\/QFtbW0dHh3UKUBjm5nTlCllbk7Mz3bvHOo3cy8vLI7UvP6xKubm55dnOjh07Tp8+7enpuWnTJtGowPn5+Tze\\/4tcdXX1vLy8isYFAAAZQjEK8IPU1GjjRlq1ijp2pP37WaeRb5aWlvwPfPrCVQ3cVG79OuWab6JKlSqWlpZZWVktWrQQtZiYmHz8+FHcISUlpUaNGhXOCwAAsoNiFKBC+ven69dp5UoaN44KP3dJJBCRqalpTbOa9OJzjxWT9kNt777e5dnOihUriouLFy9ePGDAgMLCQiJq3rz5nTt38vPziSg5Ofn58+fOzs6SjA4AAFKGYhSgomxsKCyM3r0jT0\\/68IF1GnkVsDlA528dSv5vq4A0zmu4NnZ1dXX95hauX7++efPmffv2zZo1q0aNGgsWLCAiR0fHZs2aDR48+OTJk4MHD+7Xr5+ZmZl0jgAAAKQCxWiJsLCwaxitB35U1ap08iS1aUPNmlF0NOs0csnV1fVA4AG9I3paIVoUQ\\/SUVG6q6O7U7Viz4\\/Gg4+XZQnR09LFjxywsLDgczo4dO1RVVdPS0ojoxIkT9vb2Bw8e9PT0DAwMlPJxAACAhFXyGZgAZIbLpeXLyd6eOnSgLVuob1\\/WgeRPjx494l7EHTx48HLY5ezsbLsmdv1X9i\\/\\/t+qTJ08WLxsZGa1cuVK0XKVKlcWLF0s+LgAAyASKUQBJ6teP6talXr3o4UNatAgTh5ZVpUqV8ePHjx8\\/nnUQAACQF\\/iaHkDCHB3p7l26eJEGDCCMMgQAAPB1KEYBJM\\/IiEJDSV2d3N0pKYl1GgAAADmGYhRAKtTVae9e6tCBWrakx49ZpwEAAJBXuGYUQFo4HFq6lOrWJXd3OnSI2rZlHQgAAED+4MxoCR0dHUwHCtIwZAgdO0aDBmGWJgAAgM\\/AmdES9vb2QuEXJisEqJhWrSg0lLp2pfh4mjuXdRopKCwsPHr0KOsU343P57OOUCInJ2fv3r1RUVEZGRmBgYF6enqf9klPT\\/fx8bl165aVlZWvr6+trS0RRURErF+\\/Xtxn4cKFjRo1kl1uAABJQDEKIAu2thQWRp0707t3tGkTcSvRdxJ6enorVqxQxGJ0wIAB2traubm5rINQamrqtWvXbGxstm\\/f7u\\/v\\/9k+48aNEwqFwcHBx48f79Sp04sXL9TU1BISEmJjY9etWyfqg9mnAEARcRTxdODz5887d+787NkzCW6zsLBQKBSqq6tLcJsKJC8vj8fjqaiosA7CRlZWlq6urgx2lJ1NffqQlhYdPEiamjLYYbnI7PDlk\\/wcfmpqqqGhYVJSkrGxcZmH3r9\\/b2Fh8fr1a1NTUyKysbFZtWqVl5fX8ePH\\/f39L1++\\/F07SkxMdHJySkxMlFh0BSQ\\/rzsTAoGgsLBQU37ehmSuoKCAw+HweDzWQZjJzc3V0NDgysepEbkIAaAkdHTo1Cni8ahLF8rIYJ0GFMeTJ0+qV68uqkSJqGnTpg8ePBA\\/1LFjR29v75MnT7ILCADw4\\/A1fYmkpCSBQGBlZcU6CFRy6uoUFERTp5K7O4WE0CenwAA+48OHD6UvJNXX109OTiYia2vrVatW1apV6+HDhyNHjly3bt1PP\\/1Ung1mZWXVqlVLvPrXX38p21f8OTk5HCWeIU10ZlQgELAOwgzOjObm5hYVFcngzKiWltY394JitMSLFy\\/4fD6KUZABLpc2byZfX2rZkv7+m6ytWQcCuaenp5eTkyNezcrKMjc3JyJHR0dHR0ciatu2bXFxcUBAQDmLUW1t7YsXL4pXLSwsVFWV68+BUChU5hFU8DW9mpqakhejXC5Xfr6mV653HwD5MXs2aWmVnB+1tWWdBuRbrVq1EhMTs7OzRfVTbGysq6trmT4mJiaZmZnl3CCXy61du7aEUwIA\\/BC5qIgBlNPPP9PKldS+PUVFsY4CrKWlpaWnpxNRRkZGWlqaqPHIkSOnTp0iorp16zo4OGzdupWIwsPDY2Ji+vTpQ0R3797Ny8sjoqSkpPXr13t4eDA7AACAH4ViFIClwYMpIIC6dKGbN1lHAabq16\\/v7Oysr6\\/fvHnzOnXqiBovXLhw\\/fp10XJgYOCOHTtq1qzZo0ePHTt26OvrE9GBAwcMDAxMTExq1apVr169lStXMjsAAIAfha\\/pARjr1o0OHaI+fUrmsgfllJSU9GljQECAeNne3v7JkycfP37U09NTU1MTNfr5+a1ZsyYjI8PAwEBOrv0CAPheePMCYK9dOzp2jIYOpTNnWEcBOcbhcIyMjMSVqIiampqRkREqUQBQXHj\\/ApALrq4UEkJjxtCJE6yjAAAAyBC+pi9haWmpzCOugTxwcqKQEOrUifLyaPBg1mkAAABkAsVoCTMzM0WcGRUqGUdHOn+eOncmLpcGDmSdBgAAQPpQjALIFwcHCg0tuZMJ9SgAAFR6KEYB5I6dHV26RO3bk0BAQ4awTgMAACBNKEYB5JGNDYWGkqcncTi4fhQAACozFKMlYmJi+Hx+y5YtWQcBKFG\\/PoWEUIcOxONRv36s0wAAAEgHitES2dnZfD6fdQqA\\/2jYkM6fL6lHe\\/ZknQYAAEAKUIwCyLVGjSgkhDp3JhUV6taNdRoAAABJw6D3APLO0ZH+\\/JNGjqSQENZRAAAAJA3FKIACaN6cTpygESPo5k3WUQAAACQKxSiAYmjdmg4eJC8vioxkHQUAAEBypF6MFhcXx8bGfvjwQdo7Aqj0PDwoIIC6d6dHj1hHAQAAkBDpFqMJCQn29vY9e\\/a0tbWdMmXKp\\/Nt7tu3j8fjGfzrzp07Us0DoOh69qQ1a6hTJ3r1inUUAAAASZDu3fQLFy5s2bJlYGBgSkqKg4NDnz592rZtW6ZPhw4dzpw5I9UY5eHi4oK56UEhDBlCWVnUoQNdv04mJqzTAAAAVIwUz4wWFxcfOXJkwoQJRGRkZNS3b9+goKDP9szIyBAIBNJLAlDJTJhAI0ZQhw6UlsY6CgAAQMVIsRhNTk7Ozc2tU6eOaLVOnTpv3rz5tFtoaGjdunV1dHRGjRqVl5dXzo3z+fzIUoqKiiSWG0ARzJ9PHTpQly6Uk8M6CgAAQAVU9Gv6PXv2hIeHl2m0srKaM2dOVlYWEWloaIgatbS0MjMzy\\/Ts0KHDhw8fqlSp8vbt227dui1btmzVqlXl2W9mZuaYMWPEqydPntTX1\\/\\/xwyAqLCwUCoVKOwlTXl4ej8dTUVFhHYSNnJwcDofDOsV3W7yYxo\\/X6NOHgoLy1dR+fDsKeviS8s3D19LS4nIx8AgAgLRUtBitVavWpwVctWrViMjExISI0tLSqlevTkSpqakmn1zgJnqIiMzMzKZOnbply5ZyFqOGhoZRUVEVDF9aWlqaUCjU0dGR4DYViIqKijIXo4r70u\\/ZQ7170\\/TpOrt20Q\\/Xk4p7+BKh5IcPAMBcRYvRNmQkNpwAACAASURBVG3atGnT5rMP6erqWltbh4eH9+rVi4jCw8OdnJy+sinRKdIK5vlh0dHRfD7f09OTVQCAH6CqSkeOkKcnzZtH5fscBwAAIF+kezf9lClT5s6da2Bg8Pjx40uXLvn7+xPRmzdv2rdvf\\/v2bX19\\/fXr19esWdPU1PT+\\/fsrVqzYtm2bVPMAVD6amnTyJLVuTdWr07RprNMAAAB8J+kWoz\\/\\/\\/LNQKFy6dKmBgcH58+dNTU2JSFNTs02bNmpqakRkbGwcFBSUlpZmZmZ2+PDhjh07SjUPQKVkaEghIeTqSqam1L8\\/6zQAAADfQ7rFKIfDmTp16tSpU0s3Ghsb79ixQ7Q8dOjQoUOHSjUDgDKwtKSzZ8nTk2rUoNatWacBAAAoN9wiClBJ2NvT4cPUty89eMA6CgAAQLmhGAWoPNq1o02bqGtXSkhgHQUAAKB8pPs1PQDImLc3vXhBPXvS1auEAYsAAED+4cxoCRMTk0+HQQVQRPPnU5MmNHAgYZJdAACQfyhGS9SuXbtevXqsUwBIxu+\\/ExFNnMg6BwAAwLegGAWohFRU6OBBunWLfvuNdRQAAICvwjWjAJWTri6dOkWtWlGtWtS9O+s0AAAAX4AzowCVlqUlBQfT6NEUHc06CgAAwBegGC0RFxf36tUr1ikAJKxpU\\/r9d+rWjd6+ZR0FAADgc1CMlkhISIiPj2edAkDyvLxo3Djq2ZNyc1lHAQAA+ASKUYDKb\\/58atCAhg8noZB1FAAAgP9CMQpQ+XE4FBhIb9\\/S8uWsowAAAPwX7qYHUAoaGhQcTM2aUf361L8\\/6zQAAAD\\/QjEKoCyqV6eTJ8nTk6ytqUkT1mkAAACICF\\/TAygVR0f64w\\/q25eSk1lHAQAAICIUowDKxsuLhg6lvn2Jz2cdBQAAAMWomIODg5OTE+sUALKwdCkZGNDUqaxzAAAAoBgV09bW1tHRYZ0CQBY4HNq\\/n65do8BA1lEAAEDp4QYmAGWko0PBwdSqFdWvT46OrNMAAIASw5lRACVVty7t3k2DBlFiIod1FgAAUF4oRgGUV5cuNH48DRumWVjIOgoAACgr7oQJE3bs2PHq1SvWSRgLCwu7du0a6xQAsjZvHtWoIZwxg3UOAABQVtyDBw+OHj3a2traw8Pj9OnTrPMAgExxOLR1a\\/7ly7RzJ+soAACglLgZGRnx8fFBQUFVq1bt16+fm5tbMobDBlAmOjrCEydo7lyKjGQdBQAAlA+XiMzNzQcMGHD8+PHXr187ODgkJiayTgUAMmVjQ\\/7+1K8fpaayjgIAAErmP0M7mZiYbNy4kVUUAGCoXz+6fZuGDqXTp4mLOxsBAEBW\\/v83p7CwUCAQMIwCAGytWkU5ObRyJescAACgTEqK0Tdv3rRt2zYrK4ttGgBgSFWVDh+mP\\/6g8+dZRwEAAKXBJaLDhw\\/b29t\\/\\/PhRQ0ODdR5mdHR0MB0oQPXqdPgwjRhBr1+zjgIAAMqBO27cOG9v7+7du0dGRipzMWpvb+\\/k5MQ6BQB7Li40fToNGkR8Puso8InPXkyFK6wAQKFx9+\\/fv2PHjv379+vq6rIOAwBywceHqlenuXNZ55Bjhw4d+rRRIBAsWbKkqKjoe7cWGRk5aNAgOzu7Dh06fKnP2bNnzc3Nq1at2qxZs+fPn4saCwoKhg4dqq+vr6ent3Dhwu\\/dLwCAPODq6+vXq1ePdQwAkCMcDu3cScHBFBzMOoq8mjlzppeXV1pamrjl3bt37du3X7FixQ9sjc\\/nu7q6ent7JyQkfLZDZmbmoEGDduzYkZGR0aFDh9GjR4vaN23a9OLFi\\/fv3z958mTv3r3nzp37gb0DALDFrVevnpub24oVK4qLi1mHAQB5oa9Phw7RhAmk9FMFf97vv\\/9+7do1R0fHmzdvEtHFixebNGny\\/PnzS5cuqaqqfvPpZbRo0WLixIl2dnZf6nD8+PF69ep17NiRy+X6+PiEhYWJ5nDevXv39OnTtbS0atSoMXLkyN27d1fgmAAA2FANDQ1dvnz54sWLr1y5cu7cOTU1NdaR2EhKShIIBFZWVqyDAMiLpk1p3jwaMIBu3CAej3UaOdO9e\\/eoqKiBAwe6ubl17dr15MmTXbt23bVrl5GRkTR29\\/z5c3GpqqenZ2Zm9vz5cysrq5cvX9ra2orabW1tT506Vc4NFqtqvEpKF69WqVKFq2Sjy2YXcooKWIdgRyAgPp+Tr1yv+X8UFBCHQzwh6xzs5BVy1DmyGFW6Co9UON\\/oo6qiorJkyRI3N7dBgwbl5ORUrVpV6rnk0osXL\\/h8PopRgNJ+\\/pmuXqVZswizYXzKwsJi3759Tk5Of\\/75Z8OGDY8cOaKpqSmlfaWnp2tra4tXdXV109LScnJyCgoKxMOA6OrqppZ7Bq3UNlOtj\\/z\\/DjVd3UJlK0aFQjUOp5B1Cra4RMr8ExDVR8r8E1Ah+u4L3H\\/AlS4qDkYqX+9T8nVS27Zt7927p6WlJf1UAKAwOBzasYOcnKhdO+rVi3UaOXPq1KmRI0caGBjMmDFj9erVrVq1OnTokJQuwTcyMnr58qV4NS0tzdjYWEdHR0tLKyMjQ9SYnp5evXr18m7wkm\\/igWmSD6o4srKylPm2XYFAUFhYKL2PT\\/KvoKCAw+HwlPhLn9zcXA0NDTn5FPr\\/EMbGxsr8qgDAZ1WtSocP07hxGHn0P2bPnt2rVy83N7eoqKhFixZFRETk5eU5OzsfOHBAGrtr0KDBvXv3RMvJyclJSUmiqrd+\\/fr3798Xtd+\\/f79+\\/frS2DsAgFT9pyLOyclZs2bN48ePWaUBADnUtCnNnEkDBmDk0f87duyYn5\\/f0aNHRZc2NWrUKCoqauTIkUOGDOF\\/\\/48pOzs7MjLy5cuX+fn5kZGRsbGxovahQ4dev36diHr16vXhw4eAgICUlJR58+Z17tzZ1NSUiMaOHevr6\\/vq1au7d+\\/u3LlzzJgxEj1KAABZ4BJRQUHBzZs3p0yZYmlpuWfPnipVqrBOBQDyZeZMMjKiRYtY55Ab58+fnzp1Kofz\\/8vyNTU1N23atGfPntKN5fTmzZs5c+acP3\\/e2tp6zpw5AQEBovb8\\/HzRgPYaGhpnzpzZu3evo6NjZmZmYGCgqMOYMWP69Onj4eExfPjwVatWubq6SuLgAABkimNnZxcbG8vn8+vXrz99+vSffvrpB8YlkbHnz5937tz52bNnEtzmlStX+Hy+p6enBLepQPLy8ng8norKNy4xrqyU\\/Oqxch5+Sgo1bky7dlH79jIIJTtK+OonJiY6OTklJiayDsKSEr7upeGaUVwzKlfXjKpaW1v379\\/fw8PDxcXlBz7QA4CSMDKi\\/ftp4ECKiiITE9ZpAACgslA9efIk6wxywdLSEvM7A3xd27Y0YgSNHEnnzhE+ugIAgETIxelZeWBmZlazZk3WKQDk3bJllJFBmzaxzgEAAJWFdC8P\\/eeff+7evRsbG+vt7W1vb\\/\\/ZPmfPnj127Ji2tvbEiRPFU4kAgHxSVaUDB6hFC2rXjhwdWacBAADFp3rhwgXxSrt27SR799KoUaNMTU1v3Ljh6Oj42WL05MmTo0ePXr9+fXx8vKur64MHD8zMzCQYAAAkrlYt2riRBg2iu3cJE2UAAEAFqZa+fzwtLU2y04FGREQQkYODw5c6rF+\\/ftmyZcOGDSOimJiYgICApUuXSjAAAEjDwIEUEkIzZ9LWrayjAACAglO9e\\/eueEXG41wIhcKIiIht27aJVtu2bcvwbqqYmBg+n9+yZUtWAQAUy9at5OREp05Rjx6sowAAgCJTbdKkSUWen5qa+ulN6FpaWtra2uV5bmFhoZGRkWi1WrVq5R\\/3Lj093cvLS7zq7+9fwbH6U1NT+Xx+dnZ2RTaiuJR8nNGcnBxlHtfshw8\\/MJDr7a1pa5trYiKUeCqZ+ebha2lpyclQfAAAlVJFrxDt1KlTfHx8mcaJEycuXLjwm88VDbdbWFgoWs3Pz9cq9wVoGhoa3t7e4lV9fX11dfVyPvez1NTUiKj8ASoZ0di\\/SluMCgQCpX3pqQKH37o1jR9PEydqhYQIFbeY\\/+bhoxIFAJCqihajt2\\/f\\/uHnamlp6evrx8XFmZubE1FcXFz5717S0NDo37\\/\\/D+\\/6UxwOh8PhKO1fHe6\\/WAdhQ5mPnSp2+PPnU5s2tGULZ8oUyYaSHSV\\/9QEAmGPwFvzy5cu\\/\\/vpLtOzl5bVv3z4iKiwsPHLkSJ8+fWSfBwB+mGikp19\\/pQcPWEcBAADFJN1idPjw4dbW1k+ePJkyZYq1tbXoNOqlS5dmzpwp6rBgwYKQkBA3NzcnJycTE5O+fftKNQ8ASFytWrRqFQ0fTv9ecQMAAPAdpDvo\\/erVq\\/Py8sSrpqamROTt7d2lSxdRi5WV1ZMnT+7cuaOtrd24cWNlvokEQHGNGkXnz9OiRbR6NesoAACgaKRbjNaoUePTRh0dHR0dHfGqhoZG69atpRoDAKRt61ZycKCuXQm\\/zQAA8F2kW4wqEBcXF6FQgYenAWDLyIgCA2nECLp\\/n2Q7YDEAACg23EMKAJLRpQu1b0+\\/\\/MI6BwAAKBQUowAgMRs20JUrdOYM6xwAAKA4UIwCgMRoa9Pu3TR2LCUns44CAAAKAsVoiZycHKWdCxRAglxcaOhQmjyZdQ4AAFAQKEZLREdHR0VFsU4BUBksW0aPHlFQEOscAACgCFCMAoCEqavTvn00dSolJLCOAgAAcg\\/FKABIXuPGNGECTZjAOgcAAMg9FKMAIBULF1JiIu3ezToHAADINxSjACAVqqq0dy\\/Nnk1xcayjAACAHEMxCgDSYmtLU6bQ2LGE2c0AAOBLUIwCgBTNnk0fP9KuXaxzAACAvMLc9CVMTEz4fD7rFACVjaoq7dlDbm7k6Uk1a7JOAwAA8gdnRkvUrl27Xr16rFMAVEK2tjRpEo0fzzoHAADIJRSjACB18+ZRUhLt2cM6BwAAyB8UowAgdaqqtH07zZpFiYmsowAAgJxBMQoAsuDoSOPH09ixrHMAAICcQTFaIi4u7tWrV6xTAFRm8+fT69d09CjrHAAAIE9QjJZISEiIj49nnQKgMuPxaMcO+vln+vCBdRQAAJAbKEYBQHaaNaPBg2nGDNY5AABAbqAYBQCZWr6cwsPp3DnWOQAAQD6gGAUAmdLSooAAmjCBsrJYRwEAADmAYhQAZM3dnTw9af581jkAAEAOoBgFAAbWr6fgYLp5k3UOAABgDcUoADCgp0cbNtDo0ZSfzzoKAAAwhWK0hIODg5OTE+sUAEqkXz+qX59Wr2adAwAAmEIxWkJbW1tHR4d1CgDl4u9PW7fSo0escwAAADsoRgGAGTMzWrqUxo0joZB1FAAAYATFKACwJKpEt29nnQMAABhBMQoALHG5tG0bzZtH796xjgIAACygGC0RFhZ27do11ikAlFHDhjR2LP3yC+scAADAAopRAGBv0SK6d49On2adAwAAZA7FKACwp65OW7bQlCmUm8s6CgAAyBaKUQCQCx4e1KoVLVvGOgcAAMgWilEAkBcbN9KePRQdzToHAADIEIpRAJAXRkYlw44WF7OOAgAAsoJiFADkyOjRpKJCO3awzgEAALKCYrSEjo4OpgMFYE407OiCBZSczDoKAADIBIrREvb29k5OTqxTAAA1akTDh5OPD+scAAAgEyhGAUDuLFlC167R5cusc8jW27dvo6Ki8vLyvtQhPT393r17qamp4pbCwsK0Uvh8vkySAgBIEopRAJA7Wlq0bh39\\/DMpT3G1ePFiR0fHyZMnW1tb3759+9MOfn5+NjY2v\\/zyS4MGDXbt2iVqPH36tLGxsfW\\/wsLCZJsaAEACUIwCgDzq04esrGjjRtY5ZCI2NtbPz+\\/u3bthYWE+Pj7Tp08v0+Hp06fz58+\\/cePGpUuXLl26NH369PT0dNFDrq6uqf9q27atzLMDAFQUitESSUlJiYmJrFMAwP9t2kS+vvT6Nesc0nf06FEPDw9LS0siGjlyZEREREJCQukOUVFRdevWrVu3LhHZ2dmZmJicOnVK\\/GhcXFwupq4CAIUl3WLU39\\/f0dFRTU1t0qRJn+2wb98+Tinh4eFSzfMVL168ePbsGau9A8CnrK1pyhSaOZN1DumLi4urVauWaLlq1ar6+vpxcXGlOxgZGSUlJYkuCS0oKPjw4cObN29ED926dcvNzc3Q0LB3795paWnl3GNRUdGFUr5yoSoAgLSpSnXrNjY2Gzdu3Ldv31f6dO3a9cyZM1KNAQAKatYsatSIzp+njh1ZR5Gm3NxcAwMD8aqmpmZ2dnbpDu3atatWrdrw4cP79u0bFBTE4XBE5aObm1tqaqqmpmZaWlqvXr3mzp27bdu28uyxoKBg5cqV4tXAwMDq1atL6GgUQ05ODofDYZ2CGYFAUFhYKBAIWAdhpqCggMPh8Hg81kGYyc3NLSoq4nKl\\/g25lpbWN\\/ci3WLU09OTiIKDg4uKir7SLTs7G2N8AsCnNDRoyxaaNIkePCANDdZppMbExER8j7xQKPz48WONGjVKd1BTU7tx48a2bdsuXrw4ePDg1NRUKysrIhKXsPr6+lOmTFmwYEE596itrX3p0iWJHYACEgqFyvx3R1SMampqsg7CjJqampIXo1wuV0NDQwbFaHmwD\\/H333+bm5vr6upOmDAhPz+\\/nM\\/i8\\/mRpXy92AUAxdWhA9nZ0YYNrHNIU5MmTW7evClavnfvHo\\/Hq1OnTpk+enp6s2fP3rJlS\\/PmzcPDw9u0aVOmQ0JCgr6+viziAgBIVEXPjB48eDAiIqJMo6Wl5YwZM8rzdA8Pj6SkJH19\\/Tdv3nTv3v3XX3\\/99ddfy\\/PEzMzM0aNHi1dPnjxZwXfhgoICPp+flZVVkY0orry8PB6Pp6KiwjoIG2W+ElU28n\\/4q1ZxW7fW6tkz18JC8pPWf\\/PwtbW1pX3yoHfv3nPmzPHx8fH09Fy4cOH48eNFp6wmT55cpUoV0ffpGzZsqFOnTmZmpq+v77hx4+rXr09Evr6++vr6NWvWfPjw4fLly7du3SrVnAAA0lDRYtTExMTGxqZMo7GxcTmfbmpqKlqwtLScPn3677\\/\\/Xs5i1NDQ8N69e+XP+U3q6upcLldXV1eC21QgqqqqylyMEpHSvvQicn74DRrQ1Km0aJH28eNS2T7zw1dXV7969aqvr+\\/mzZsHDBgwZcoUUXuLFi3EX6Sqq6vv2rVLRUVl1qxZQ4YMETU2aNDgxIkTKSkppqamf\\/75p5ubG5sDAACogIoWo+7u7u7u7hKJkpqaqsxX8ADAV\\/j4VPI7mSwtLT89rykuOolo0qRJnw5L0qNHjx49ekg9HACANEn3BqbHjx\\/\\/888\\/z549EwgER48etbOzs7W1jYuL69y5882bN6tWrbpp0yYLCwtzc\\/P79++vWLHit99+k2qer7C0tFTm+woB5JyGBm3aRFOnUkwMKfEtBwAAlZDUi9GjR4+KzncePXqUw+HY2tqqq6s3btxYVVWViHR1dXfu3JmcnFyzZs3du3cz\\/IhvZmYmFApZ7R0AvqlLF\\/r9d9q0iXx8WEcBAADJ4ShiBfb8+fPOnTtLdoz6wsJCoVCorq4uwW0qECW\\/gSkrK4v5VYMMKdDhv3hBLVvS\\/fv079XmEqBAhy8piYmJTk5OSj7nnBK+7qVhaCeMM5qbm4uhnQAAvpu1NY0dS7Nns84BAACSg2IUABTJ\\/Pl04wZdvco6BwAASAiK0RIxMTFRUVGsUwDAN2hq0po1NG0a4YZDAIDKAcVoiezsbPkf+hsAiKhfP6palQIDWecAAABJQDEKAIrH358WL6aPH1nnAACACkMxCgCKx86O+valpUtZ5wAAgApDMQoACmn5cjpyhB48YJ0DAAAqBsUoACgkAwNasICmTWOdAwAAKgbFKAAoqvHjKTmZ\\/vyTdQ4AAKgAFKMAoKhUVWnjRpo5kwoKWEcBAIAfhWK0hIuLS5s2bVinAIDv4+FBDRvSpk2scwAAwI9CMQoAim3DBlq7lpR7onUAAAWGYhQAFFvt2jRiBC1axDoHAAD8EBSjAKDwFi2ic+fo7l3WOQAA4PuhGC2Rk5OD6UABFJSuLi1eTNOmkVDIOgoAAHwnFKMloqOjo6KiWKcAgB80ahRlZ1NwMOscAADwnVCMAkBloKJCfn7k44NhngAAFAyKUQCoJNzcyM6O\\/P1Z5wAAgO+BYhQAKg8\\/P1qzhlJSWOcAAIByQzEKAJWHtTV5e9PSpaxzAABAuaEYBYBKZckSOnKEHj5knQMAAMoHxSgAVCr6+jR3Ls2ezToHAACUD4rREiYmJiYmJqxTAIAETJpEsbEUGso6BwAAlIMq6wDyonbt2kKMlw1QKaip0apV5ONDUVHExSduAAD5hvdpAKiE+vQhXV3at491DgAA+BYUowBQOa1fTwsWUE4O6xwAAPBVKEYBoHJq1oxatSI\\/P9Y5AADgq1CMloiLi3v16hXrFAAgSatW0aZNlJTEOgcAAHwZitESCQkJ8fHxrFMAgCTVqkXDh9OSJaxzAADAl6EYBYDKbP58OnGCHj1inQMAAL4AxSgAVGb6+uTjQ\\/Pns84BAABfgGIUACq5KVPowQO6cYN1DgAA+BwUowBQyfF4tHQp\\/fILYV4LAAA5hGIUACq\\/QYNIIKBjx1jnAACAT6AYBYDKj8MhX1+aN4\\/4fNZRAADgv1CMlnBwcHBycmKdAgCkxcODrK0pIIB1DgAA+C8UoyW0tbV1dHRYpwAAKVqzhn79lbKyWOcAAIBSUIwCgLKwt6f27WnDBtY5AACgFBSjAKBEli+nzZvp\\/XvWOQAA4F8oRgFAiVhZ0dChtGIF6xwAAPAvFKMlwsLCrl27xjoFAEjd\\/Pl06BC9eME6BwAAEBGKUQBQNkZGNG0aLVzIOgcAABARilEAUELTptHVqxQVxToHAAAQqUpv0\\/n5+efOnbt+\\/Xp+fn7Tpk2HDh2qpqb2abfQ0NCjR4\\/q6uqOHTvWxsZGenkAAES0tWnePFqwgM6dYx0FAEDpSfHM6LVr1\\/z8\\/MzMzJo0abJx48YhQ4Z82ufs2bPe3t7NmjXT0dFxcXFJTEyUXh4AALGxYyk2li5fZp0DAEDpSfHMqIeHR4cOHUTLLVu2tLe3z87OLjOw\\/Nq1a5cuXTp69GgievjwYWBg4KJFi6QXCQBARE2Nli2jOXMoNJR1FAAA5SbFM6MqKiri5dTUVC0tLU1NzdIdhEJheHi4u7u7aNXNze3mzZvSywMAUNrAgcTn07lzUvxMDgAA31TRd+Hs7Ozi4uIyjerq6urq6uLV\\/Pz8qVOnzp07t3R5SkSpqamFhYVGRkai1WrVqpX\\/a\\/r09PQ+ffqIV7ds2VKlSpUfOYB\\/8Xg8DoeTm5tbkY0orry8vKKiojIvkPLIy8tT2mMn5T78hQtV9u\\/n9OjxtV98TU1NDocjs0gAAMqmosVo69at4+LiyjT+\\/PPPS5YsES0XFhb27dvXxsZm9uzZZbppaGiIOoh7ljl1+hUaGhoDBgwQr+rp6ZUuf3+Ak5OTUCis4EYUl1Ao5PF4SluR8Pl80f9G5aTMh9+zJ7m5ZWlo6H6lDypRAACpqmgxeu\\/eva88yufzBw4cyOPx9u7d+2mho62traenFx8fb25uTkTx8fFmZmbl3K+Ghkb\\/\\/v1\\/LPNncblcoVDI5SrpWFfcf7EOwoYyHzsp\\/eGrqCj14QMAMCfFt2CBQDBixIjc3NygoKDSgzq9fv364sWLomUvL68DBw4QEZ\\/PP3r0aO\\/evaWX5+tOnjx5+PBhVntnLjAw8MqVK6xTMLNy5crHjx+zTsHM1KlT09LSWKdgIz8\\/f+zYsaxTEBFlZWUdOnRo7969Hz58+GyHwsLCM2fO7Ny589mzZ6Xbk5OT9+7de\\/jw4ezs7HLuKyMjIzMzs6KJFdnjx49XrlzJOgVLV69eDQgIYJ2CpSNHjvz555+sU7Dk7+8fFhbGOkUJKRajp06dOnjwYEJCQqtWrZydnZ2dnd+8eUNEFy5cmDp1qqjP\\/PnzT5482blz52bNmlWtWlWyJzu\\/y5MnTx49esRq78xFRUW9evWKdQpmrl27lpKSwjoFMyEhIfn5+axTsFFUVHT69GnWKSg1NdXJyengwYMXLlyws7N7\\/vx5mQ5ZWVlNmzbdsmVLdHS0q6vryZMnRe1Pnz61s7O7ePHi\\/v37nZ2d09PTy7O7\\/Px8pX3FRVJSUpR8\\/ufXr19HRkayTsHS48ePlfkcBBHdvXs3Pj6edYoSUryNtEOHDi\\/+O\\/2zqakpEfXr1699+\\/aiFmtr6ydPnty8eVNXV7d58+b4sgwAlFBAQECdOnVOnTpFRJMnT167du0ff\\/xRusO2bdv09PRCQkKIqEOHDjNnzuzRoweHw\\/H19R00aNCmTZtE7Tt37pwxYwaTQwAA+GFSLEa1tbVr1679abuenp6enl7pbuLhSAEAlNDZs2eHDRsmWvby8hIviz179szJyUm07Ozs\\/OTJk9jYWBsbm7Nnzx45ckTU3rt372PHjqEYBQCFo6gD7OXk5Pj6+kpwg9evXy8sLJTsNhXIgwcPsrKyPn78yDoIG2\\/fvj1w4ID8XD0jYzk5OVu2bNHV\\/dod5ZVVYWEhn8\\/\\/+i\\/+mDFjDAwMpBrj3bt3oi+OiMjMzOz9+\\/cCgaD0TZ+1atUK\\/Xd0\\/ujoaCJ6+\\/Zt7dq1U1JSxPd9mpmZvXv3rpx7FAqFnTp1Eq82a9ZMqUZUeP36dUJCgjJfNhoZGfny5Utl\\/gmEhYWpqqoq80\\/g8ePHHA5HBlfojRo1qnr16l\\/vo5DFaO3atVesWPH06VMJbtPe3p6IlPY2jnbt2nG5XKU9fC8vL1VVVaU9\\/FGjRvH5fKU9\\/IkTJ3792D8dSlniiouLxQNIiUb2KC4uLl2Mjhs3bvv27b17965fv\\/7ff\\/8t+uRQXFwsFApLP7GoqKg8u2vYsOHYsWNLj4WSmpqqVMWojo5Oz549U1NTWQdhxsLCwtzcXJl\\/Ao6OjkSkYwDLvwAAD1tJREFUzD8Bd3d3Lpcrg58An8\\/\\/Zh+FLEa5XO7IkSNZpwAAkIwaNWokJyeLlt+\\/f1+tWrXSI5AQkYGBQXR0dEhISEFBwfjx462tra2trdXV1Q0MDJKTk62trUVPFJ9e\\/TpVVdVt27ZJ\\/CgAAH4MbhgCAGDM3d39r7\\/+Ei3\\/9ddf4kmSP3z4UFBQIFrW0dHp16\\/fkCFDTp061bBhQ0tLSyJyc3MTP\\/H8+fPiJwIAKBCFPDMKAFCZTJgwoXHjxj\\/\\/\\/HPVqlW3bNly+fJlUXvjxo39\\/Pz69euXkpIyadIke3v758+fnz59WlyAzpo1q3379kKh8OPHj9evX9+8eTO7gwAA+EE4MwoAwJiZmVlUVJSFhYW6unpERETjxo1F7X5+fs2aNSMiPT297t275+fnOzg4xMTEODs7izo0bdr01q1bPB7PysoqKirKxMSE2TEAAPwojlAoZJ0BAAAAAJQUzowCAAAAADMoRgEAAACAGRSjAAAAAMCMMt5NL5p449WrVy4uLrNmzVJXVy\\/Tgc\\/nb9iw4erVq+bm5vPmzbOysmIRU1ri4uJWrlz55s2b1q1bz5w5k8fjlemwdOlS8TwuderU8fHxkXlGaYmNjb1y5cqDBw9atGgxePDgz\\/a5devWb7\\/9lp2d3a9fv6FDh8o4oVQ9ffpUdPiurq7e3t6fdggPD9+9e7d4dc6cObVq1ZJdPmkqKio6fPjwhQsXkpOTbW1tp02bJp64qLTLly\\/\\/\\/vvvhYWFw4YN8\\/Lykn1OiSsuLvb39z9\\/\\/nz16tVnzZpVv379T\\/tcunRp27ZtfD5\\/2LBhvXv3ln1I6cnPzw8KCrp8+XJqaqq9vf306dOrVatWps\\/Zs2dPnTolXl2zZk3pCasVXVZW1syZM8Wr3bp16969e5k+RUVFmzZtunjxoqmp6Zw5c+rUqSPbjNJ18eJF8ZS5IqtWrSozp9qyZcvevn0rWra2tp41a5bs8klHenr6hQsX7t69W1hYuGHDBnF7UVGRn5\\/f5cuXzczM5s6d+9k520NCQrZv305Eo0aN6tKli2wCK92ZUYFA4OnpqaKi4uPjc+nSpc\\/O4zxv3rzg4OBffvlFX1\\/f3d29sLBQ9jmlpKioqH379pqamj4+PiEhIZ8tNI8dO1alSpUmTZo0adLExsZG9iGlZ+fOnRcuXLh9+\\/aNGzc+2+HVq1cdO3Z0dXUdN27cvHnzgoKCZJxQqrZv337p0qVbt27dvHnzsx2ePn0aERHR5F\\/a2toyTig9qampgYGBLi4ukydPTkpKat26dU5OTpk+Dx486NmzZ5cuXYYPHz5u3Djx8EkKzdfXd\\/v27dOmTatVq1a7du2ysrLKdIiOju7Vq1fXrl2HDRs2duzYv\\/\\/+m0lOKYmLizt06JCbm9ukSZOePHni7u7+6WQwUVFRsbGx4v\\/2ZaYbUHR5eXnbt28XH91np0VYtmxZUFDQjBkzatSo0a5du7y8PNnnlB5jY2Px4efm5oaEhHz6YeP48eO6urqiPp\\/9wKZwIiMj\\/\\/jjjzdv3uzZs6d0++LFi48cOTJjxgxjY+N27drl5+eXeWJ4ePjAgQP79u3bv3\\/\\/wYMHf+lvpeQJlczZs2ctLS1F0+g9e\\/ZMU1MzLS2tdIfs7OwqVarcu3dPtGpnZ3fkyBEGQaXjzz\\/\\/tLa2Fi0\\/evRIW1s7IyOjTJ+GDRtevXpV5tFkZ9q0aePHj\\/\\/sQ3PmzBk8eLBoeefOnU2bNpVhLhmZNGnS5MmTP\\/vQrl27evToIeM8sldUVKSnp3ft2rUy7WPHjhX\\/ZNavX9+xY0eZR5OwoqIiU1PTixcvilZbt269bdu2Mn1Gjx49depU0fLatWs7d+4s04gylJubq6Ki8uDBgzLty5YtmzRpEpNIMpCUlKSqqvqVDvn5+YaGhuHh4aLVJk2a7NmzRybRGOjcufOiRYs+bbe3t798+bLM40jdzZs3DQwMxKt5eXn6+voRERGi1caNG+\\/fv7\\/MU7y9vefPny9aXrx4cb9+\\/WQTVenOjN69e9fFxUU0m3OdOnWqVKny8OHD0h2ePXsmEAhEs9YSUatWre7evcsgqHRERka6uLiIlhs0aKCurv748eNPu23evHnUqFH+\\/v6ffmyq3CIjI1u1aiVabtWq1b179wQCAdtIMvb48eORI0fOnj07OjqadRZpSU5OzsnJMTc3L9Ne5tWvBL\\/47969e\\/funfhX\\/rMHVfo9oXIc9ZfExcVxOJwaNWp8+lBYWNiIESMWLFjw8uVL2QeTtuLi4gkTJkyaNCk4OPjTR1+\\/fp2RkSEazpYq9f+Bt2\\/fhoaGDhs27LOP+vv7\\/\\/TTT5s3b67Ef\\/VevnyZk5PTtGlT0eqX3hDEb4MuLi4y+8+gdMXo+\\/fvS18sYmho+P79+9IdkpKS9PX1v9JBoX3z8InIy8urU6dOLVu2PHDggJubW1FRkWwzspSUlCT++RgaGhYVFaWkpLCNJEsWFhYjR45s3759cXGxi4vLxYsXWSeSPIFAMGrUqJ9++unTy2HLvPqpqamKfonO+\\/fvtbS0NDQ0RKuf\\/X0vc9QpKSmV8le+sLBw1KhRv\\/zyi6GhYZmHbG1tBw8e7OnpmZKS8r\\/27jakqe8PAPhRy013ZxvmfFi7sq2ZTxRGPiT0YPVCexGVtWEmVBhEUBS96E30QEKEjIhkCD5MhDAIXwS+ScpmVCihL6JkpW4rXahzupzOPd7ze3H+v8uY\\/vv3B91t1+\\/n1bln98X37J57z7ln55zt3LkzYngi1iUmJl67dq28vFylUl25cuXmzZsRJ0xPT0skkvj4\\/3QGeNbkhevo6Dhw4IBarV750YkTJ6qqqsrLy7u6unjc6pFrTQbj0J89EKJWGTbcAiaKoubm5thDj8cjFovDTxCJROEvRitPiGkikSh8PtCqpbt37x5J1NTUZGdn9\\/f3Hz58OHohcio5OZn9fkiCoihOI4qqQ4cOkT83r62tFQgEer2eZ5eeYZj6+nq\\/3\\/\\/48eOVn0ZcfYFAEOvTBymK8vl8GGPS\\/Kx6v0eUWigUbtrEt3YhGAzW1NTIZLKGhoaVn1ZXV5NEbW2tx+N58uRJc3NzdANcRxKJRK\\/Xk3RZWVlFRcX9+\\/fD163yu8ljYYw7OjrY1i3C3bt3SYK0eiaT6ciRI9ELLlr+5FpHPBCiVhk23MgoTdNWq5Wkl5eXp6amFApFxAnz8\\/O\\/fv0ih1arNeKEmBZe\\/KWlJYfD8ZvSiUSirKwsh8MRrei4R9O0zWYjaavVmpqayqdFPP8XjUYzMzPDdRRrCWN8+fJli8Xy4sULdrAwXMTVVygU7BBCjCI7Bvz48YMcrvo0iyg1TdNRDDAaQqFQXV2d1+t99uzZ\\/+xn86\\/ah8vJyQkEAi6XKzxToVCQtoAc8qzJY5lMJofDcfz48d+fJhKJ5HI5X+uAQqFwu91Op5Mc\\/skDIWqVYcN1Rk+ePDkwMGA2mxFCT58+zcnJycvLQwi9ffuW\\/ChJ03RxcXF7eztCyGaz9fX1nTp1ituY11B1dfW7d+9GR0cRQp2dnYWFhRqNBiFkMpnevHmDEFpYWGB\\/mH716tXo6Cj7L9h8tbCwYDAYyLugVqvt6uoi66xbW1t1Oh3X0a07l8tlMBh8Ph9CiJ0wt7i4aDQa9+7dy2loawljfPXq1U+fPvX09IS\\/YDgcDoPBwDAMQkin03V2dpKhxLa2Nq1Wy128ayMlJaWyspLs0jI9Pd3T00MKNTMzYzAYMMbo31L7\\/X7elDocwzDnz593Op3d3d3hw4GTk5MtLS0kzVb72dnZrq4uPlV7hJDdbid3N8a4qalJpVLJZDKE0IcPH8jOCWRVNakkk5OTL1++5FkdINrb28+ePZucnMzm9Pf3r2z1+vr6vn37xs6q5JnMzMx9+\\/a1tbUhhCYmJnp7e0+fPo0Qstvt7O2g1WqNRmMoFAqFQkajMXqVITrrpP4qer0+NTW1rKwsPT2dXVF76dKluro6kh4cHMzMzCwtLd26dWtDQwN3ka6Lhw8fkuJnZGS8f\\/+eZNbX11+4cAFj\\/OXLF4qiCgoKCgoKpFJpa2srp8GusUePHkmlUoFAIBAIpFLpgwcPMMbj4+MIoenpaYxxMBjU6XQKhWLXrl0FBQU\\/f\\/7kOuS11NjYGF78xsZGjDF5MXM6nRjjY8eOyeXyPXv2SCSSysrKiI0mYtrY2BhCiKIo6b+6u7sxxh8\\/fkQIka6Y1+s9evSoUqnMz88vLi4m30ms+\\/z5M3nBlslkN27cIJmDg4MIoWAwiDFeXl6urKxUqVT5+fklJSVzc3OcxrvGyPUVi8XsdSd7C\\/T29opEInJOUVGRUqncvXu3WCw+c+YMeRvhjebmZolEUlRURNO0RqMZGBgg+devX2cXSg8PD8vl8pKSkrS0tFu3bnEX7HpxuVzJyclDQ0PhmRcvXjx37hzGeGRkhLR6hYWFEomkpaWFozDXksVikUqlYrE4Li5OKpWWlpaS\\/KGhoaysrNLS0rS0tDt37pDM169fJyUlkfTi4uLBgwc1Gk1OTs7+\\/fvdbnd0Ao7DGEep2\\/s3mZ2dnZiYyM3NTUpKIjlkIgX7453X6zWbzZmZmenp6ZxFuW4cDofdbt+xY8eqxfd4PBaLJT4+Xq1Wr\\/xHgJjm9XrDp8wKhUJyB7rdbnLTknybzba0tJSXl8dO6ueHiOInJSUJhUKGYch2ZiTz+\\/fvTqdz27ZtZPiENxiGYefeECKRKDExMaL4CKGxsbFAIJCbmxvrv9GzAoHAyMhIWloau8fkRig1EQwGI7ZWpShq8+bNoVCInTDHMIzVanW73TRNR+yFzg9Op3NiYmLLli00TSckJJBMn8\\/HMAzbBPh8PrPZnJ6enpGRwV2k64VUg\\/Clyei\\/tHoqlWrVOTwxJ+KJl5CQwN7vK691+O1AfP36FSEUzY3GN2hnFAAAAAAA\\/A14NfADAAAAAABiC3RGAQAAAAAAZ6AzCgAAAAAAOAOdUQAAAAAAwBnojAIAAAAAAM5AZxQAAAAAAHAGOqMAAAAAAIAz0BkFAAAAAACcgc4oAAAAAADgDHRGAQAAAPA7vb29Wq12aWmJ60AAP0FnFAAAAAC\\/Mz4+\\/vz580AgwHUggJ82cR0AAOtramrK4\\/Eolcq4uDiS43a7HQ6HTCajKIrb2AAA4O\\/ncrlmZ2cRQjabLSUlBSGUnZ2dkJDAdVyAP2BkFPDc8PDw9u3bm5qayGEwGKyqqqqoqPD7\\/dwGBgAAMaGpqen27dsIoaKiIrVarVar5+fnuQ4K8Mo\\/DjF3M8mfhVoAAAAASUVORK5CYII=\\\" \\/>\"},\"nodeType\":\"DOM\",\"type\":\"node\",\"instanceArgs\":{\"namespace\":\"html\",\"tag\":\"div\"},\"children\":[]}]}}}},\"children\":[{\"props\":{},\"nodeType\":\"ObservableNode\",\"type\":\"node\",\"instanceArgs\":{\"id\":\"2706999171657579152\",\"name\":\"obs-node\"},\"children\":[]}]}]},\n",
       "        window,\n",
       "    );\n",
       "    })()\n",
       "    </script>\n",
       "</div>\n"
      ],
      "text/plain": [
       "Node{WebIO.DOM}(WebIO.DOM(:html, :div), Any[Node{WebIO.DOM}(WebIO.DOM(:html, :div), Any[Scope(Node{WebIO.DOM}(WebIO.DOM(:html, :div), Any[Node{WebIO.DOM}(WebIO.DOM(:html, :div), Any[Node{WebIO.DOM}(WebIO.DOM(:html, :label), Any[\"R\"], Dict{Symbol, Any}(:className => \"interact \", :style => Dict{Any, Any}(:padding => \"5px 10px 0px 10px\")))], Dict{Symbol, Any}(:className => \"interact-flex-row-left\")), Node{WebIO.DOM}(WebIO.DOM(:html, :div), Any[Node{WebIO.DOM}(WebIO.DOM(:html, :input), Any[], Dict{Symbol, Any}(:max => 101, :min => 1, :attributes => Dict{Any, Any}(:type => \"range\", Symbol(\"data-bind\") => \"numericValue: index, valueUpdate: 'input', event: {change: function (){this.changes(this.changes()+1)}}\", \"orient\" => \"horizontal\"), :step => 1, :className => \"slider slider is-fullwidth\", :style => Dict{Any, Any}()))], Dict{Symbol, Any}(:className => \"interact-flex-row-center\")), Node{WebIO.DOM}(WebIO.DOM(:html, :div), Any[Node{WebIO.DOM}(WebIO.DOM(:html, :p), Any[], Dict{Symbol, Any}(:attributes => Dict(\"data-bind\" => \"text: formatted_val\")))], Dict{Symbol, Any}(:className => \"interact-flex-row-right\"))], Dict{Symbol, Any}(:className => \"interact-flex-row interact-widget\")), Dict{String, Tuple{Observables.AbstractObservable, Union{Nothing, Bool}}}(\"changes\" => (Observable{Int64} with 1 listeners. Value:\n",
       "0, nothing), \"index\" => (Observable{Any} with 2 listeners. Value:\n",
       "51, nothing)), Set{String}(), nothing, Asset[Asset(\"js\", \"knockout\", \"C:\\\\Users\\\\Camilo\\\\.julia\\\\packages\\\\Knockout\\\\3gjS1\\\\src\\\\..\\\\assets\\\\knockout.js\"), Asset(\"js\", \"knockout_punches\", \"C:\\\\Users\\\\Camilo\\\\.julia\\\\packages\\\\Knockout\\\\3gjS1\\\\src\\\\..\\\\assets\\\\knockout_punches.js\"), Asset(\"js\", nothing, \"C:\\\\Users\\\\Camilo\\\\.julia\\\\packages\\\\InteractBase\\\\h8Fwe\\\\src\\\\..\\\\assets\\\\all.js\"), Asset(\"css\", nothing, \"C:\\\\Users\\\\Camilo\\\\.julia\\\\packages\\\\InteractBase\\\\h8Fwe\\\\src\\\\..\\\\assets\\\\style.css\"), Asset(\"css\", nothing, \"C:\\\\Users\\\\Camilo\\\\.julia\\\\packages\\\\Interact\\\\pVyN2\\\\src\\\\..\\\\assets\\\\bulma_confined.min.css\")], Dict{Any, Any}(\"changes\" => Any[WebIO.JSString(\"(function (val){return (val!=this.model[\\\"changes\\\"]()) ? (this.valueFromJulia[\\\"changes\\\"]=true, this.model[\\\"changes\\\"](val)) : undefined})\")], \"index\" => Any[WebIO.JSString(\"(function (val){return (val!=this.model[\\\"index\\\"]()) ? (this.valueFromJulia[\\\"index\\\"]=true, this.model[\\\"index\\\"](val)) : undefined})\")]), WebIO.ConnectionPool(Channel{Any}(32), Set{AbstractConnection}(), Condition(Base.InvasiveLinkedList{Task}(Task (runnable) @0x000000000f405f50, Task (runnable) @0x000000000f405f50), Base.AlwaysLockedST(1))), WebIO.JSString[WebIO.JSString(\"function () {\\n    var handler = (function (ko, koPunches) {\\n    ko.punches.enableAll();\\n    ko.bindingHandlers.numericValue = {\\n        init: function(element, valueAccessor, allBindings, data, context) {\\n            var stringified = ko.observable(ko.unwrap(valueAccessor()));\\n            stringified.subscribe(function(value) {\\n                var val = parseFloat(value);\\n                if (!isNaN(val)) {\\n                    valueAccessor()(val);\\n                }\\n            });\\n            valueAccessor().subscribe(function(value) {\\n                var str = JSON.stringify(value);\\n                if ((str == \\\"0\\\") && ([\\\"-0\\\", \\\"-0.\\\"].indexOf(stringified()) >= 0))\\n                     return;\\n                 if ([\\\"null\\\", \\\"\\\"].indexOf(str) >= 0)\\n                     return;\\n                stringified(str);\\n            });\\n            ko.applyBindingsToNode(\\n                element,\\n                {\\n                    value: stringified,\\n                    valueUpdate: allBindings.get('valueUpdate'),\\n                },\\n                context,\\n            );\\n        }\\n    };\\n    var json_data = {\\\"formatted_vals\\\":[\\\"0.0\\\",\\\"0.02\\\",\\\"0.04\\\",\\\"0.06\\\",\\\"0.08\\\",\\\"0.1\\\",\\\"0.12\\\",\\\"0.14\\\",\\\"0.16\\\",\\\"0.18\\\",\\\"0.2\\\",\\\"0.22\\\",\\\"0.24\\\",\\\"0.26\\\",\\\"0.28\\\",\\\"0.3\\\",\\\"0.32\\\",\\\"0.34\\\",\\\"0.36\\\",\\\"0.38\\\",\\\"0.4\\\",\\\"0.42\\\",\\\"0.44\\\",\\\"0.46\\\",\\\"0.48\\\",\\\"0.5\\\",\\\"0.52\\\",\\\"0.54\\\",\\\"0.56\\\",\\\"0.58\\\",\\\"0.6\\\",\\\"0.62\\\",\\\"0.64\\\",\\\"0.66\\\",\\\"0.68\\\",\\\"0.7\\\",\\\"0.72\\\",\\\"0.74\\\",\\\"0.76\\\",\\\"0.78\\\",\\\"0.8\\\",\\\"0.82\\\",\\\"0.84\\\",\\\"0.86\\\",\\\"0.88\\\",\\\"0.9\\\",\\\"0.92\\\",\\\"0.94\\\",\\\"0.96\\\",\\\"0.98\\\",\\\"1.0\\\",\\\"1.02\\\",\\\"1.04\\\",\\\"1.06\\\",\\\"1.08\\\",\\\"1.1\\\",\\\"1.12\\\",\\\"1.14\\\",\\\"1.16\\\",\\\"1.18\\\",\\\"1.2\\\",\\\"1.22\\\",\\\"1.24\\\",\\\"1.26\\\",\\\"1.28\\\",\\\"1.3\\\",\\\"1.32\\\",\\\"1.34\\\",\\\"1.36\\\",\\\"1.38\\\",\\\"1.4\\\",\\\"1.42\\\",\\\"1.44\\\",\\\"1.46\\\",\\\"1.48\\\",\\\"1.5\\\",\\\"1.52\\\",\\\"1.54\\\",\\\"1.56\\\",\\\"1.58\\\",\\\"1.6\\\",\\\"1.62\\\",\\\"1.64\\\",\\\"1.66\\\",\\\"1.68\\\",\\\"1.7\\\",\\\"1.72\\\",\\\"1.74\\\",\\\"1.76\\\",\\\"1.78\\\",\\\"1.8\\\",\\\"1.82\\\",\\\"1.84\\\",\\\"1.86\\\",\\\"1.88\\\",\\\"1.9\\\",\\\"1.92\\\",\\\"1.94\\\",\\\"1.96\\\",\\\"1.98\\\",\\\"2.0\\\"],\\\"changes\\\":WebIO.getval({\\\"name\\\":\\\"changes\\\",\\\"scope\\\":\\\"9868383134663832101\\\",\\\"id\\\":\\\"17480948514705851403\\\",\\\"type\\\":\\\"observable\\\"}),\\\"index\\\":WebIO.getval({\\\"name\\\":\\\"index\\\",\\\"scope\\\":\\\"9868383134663832101\\\",\\\"id\\\":\\\"2112244266798267618\\\",\\\"type\\\":\\\"observable\\\"})};\\n    var self = this;\\n    function AppViewModel() {\\n        for (var key in json_data) {\\n            var el = json_data[key];\\n            this[key] = Array.isArray(el) ? ko.observableArray(el) : ko.observable(el);\\n        }\\n        \\n        [this[\\\"formatted_val\\\"]=ko.computed(    function(){\\n        return this.formatted_vals()[parseInt(this.index())-(1)];\\n    }\\n,this)]\\n        [this[\\\"changes\\\"].subscribe((function (val){!(this.valueFromJulia[\\\"changes\\\"]) ? (WebIO.setval({\\\"name\\\":\\\"changes\\\",\\\"scope\\\":\\\"9868383134663832101\\\",\\\"id\\\":\\\"17480948514705851403\\\",\\\"type\\\":\\\"observable\\\"},val)) : undefined; return this.valueFromJulia[\\\"changes\\\"]=false}),self),this[\\\"index\\\"].subscribe((function (val){!(this.valueFromJulia[\\\"index\\\"]) ? (WebIO.setval({\\\"name\\\":\\\"index\\\",\\\"scope\\\":\\\"9868383134663832101\\\",\\\"id\\\":\\\"2112244266798267618\\\",\\\"type\\\":\\\"observable\\\"},val)) : undefined; return this.valueFromJulia[\\\"index\\\"]=false}),self)]\\n        \\n    }\\n    self.model = new AppViewModel();\\n    self.valueFromJulia = {};\\n    for (var key in json_data) {\\n        self.valueFromJulia[key] = false;\\n    }\\n    ko.applyBindings(self.model, self.dom);\\n}\\n);\\n    (WebIO.importBlock({\\\"data\\\":[{\\\"name\\\":\\\"knockout\\\",\\\"type\\\":\\\"js\\\",\\\"url\\\":\\\"/assetserver/2712bb0a7395d062608c2f218a74b700f6c76b99-knockout.js\\\"},{\\\"name\\\":\\\"knockout_punches\\\",\\\"type\\\":\\\"js\\\",\\\"url\\\":\\\"/assetserver/fb4445501a2be4ab82176667f844e40da26fa007-knockout_punches.js\\\"}],\\\"type\\\":\\\"async_block\\\"})).then((imports) => handler.apply(this, imports));\\n}\\n\")])], Dict{Symbol, Any}(:className => \"field interact-widget\")), Node{WebIO.DOM}(WebIO.DOM(:html, :div), Any[Scope(Node{WebIO.DOM}(WebIO.DOM(:html, :div), Any[Node{WebIO.DOM}(WebIO.DOM(:html, :div), Any[Node{WebIO.DOM}(WebIO.DOM(:html, :label), Any[\"K\"], Dict{Symbol, Any}(:className => \"interact \", :style => Dict{Any, Any}(:padding => \"5px 10px 0px 10px\")))], Dict{Symbol, Any}(:className => \"interact-flex-row-left\")), Node{WebIO.DOM}(WebIO.DOM(:html, :div), Any[Node{WebIO.DOM}(WebIO.DOM(:html, :input), Any[], Dict{Symbol, Any}(:max => 200, :min => 1, :attributes => Dict{Any, Any}(:type => \"range\", Symbol(\"data-bind\") => \"numericValue: index, valueUpdate: 'input', event: {change: function (){this.changes(this.changes()+1)}}\", \"orient\" => \"horizontal\"), :step => 1, :className => \"slider slider is-fullwidth\", :style => Dict{Any, Any}()))], Dict{Symbol, Any}(:className => \"interact-flex-row-center\")), Node{WebIO.DOM}(WebIO.DOM(:html, :div), Any[Node{WebIO.DOM}(WebIO.DOM(:html, :p), Any[], Dict{Symbol, Any}(:attributes => Dict(\"data-bind\" => \"text: formatted_val\")))], Dict{Symbol, Any}(:className => \"interact-flex-row-right\"))], Dict{Symbol, Any}(:className => \"interact-flex-row interact-widget\")), Dict{String, Tuple{Observables.AbstractObservable, Union{Nothing, Bool}}}(\"changes\" => (Observable{Int64} with 1 listeners. Value:\n",
       "0, nothing), \"index\" => (Observable{Any} with 2 listeners. Value:\n",
       "100, nothing)), Set{String}(), nothing, Asset[Asset(\"js\", \"knockout\", \"C:\\\\Users\\\\Camilo\\\\.julia\\\\packages\\\\Knockout\\\\3gjS1\\\\src\\\\..\\\\assets\\\\knockout.js\"), Asset(\"js\", \"knockout_punches\", \"C:\\\\Users\\\\Camilo\\\\.julia\\\\packages\\\\Knockout\\\\3gjS1\\\\src\\\\..\\\\assets\\\\knockout_punches.js\"), Asset(\"js\", nothing, \"C:\\\\Users\\\\Camilo\\\\.julia\\\\packages\\\\InteractBase\\\\h8Fwe\\\\src\\\\..\\\\assets\\\\all.js\"), Asset(\"css\", nothing, \"C:\\\\Users\\\\Camilo\\\\.julia\\\\packages\\\\InteractBase\\\\h8Fwe\\\\src\\\\..\\\\assets\\\\style.css\"), Asset(\"css\", nothing, \"C:\\\\Users\\\\Camilo\\\\.julia\\\\packages\\\\Interact\\\\pVyN2\\\\src\\\\..\\\\assets\\\\bulma_confined.min.css\")], Dict{Any, Any}(\"changes\" => Any[WebIO.JSString(\"(function (val){return (val!=this.model[\\\"changes\\\"]()) ? (this.valueFromJulia[\\\"changes\\\"]=true, this.model[\\\"changes\\\"](val)) : undefined})\")], \"index\" => Any[WebIO.JSString(\"(function (val){return (val!=this.model[\\\"index\\\"]()) ? (this.valueFromJulia[\\\"index\\\"]=true, this.model[\\\"index\\\"](val)) : undefined})\")]), WebIO.ConnectionPool(Channel{Any}(32), Set{AbstractConnection}(), Condition(Base.InvasiveLinkedList{Task}(Task (runnable) @0x000000000fc8dc30, Task (runnable) @0x000000000fc8dc30), Base.AlwaysLockedST(1))), WebIO.JSString[WebIO.JSString(\"function () {\\n    var handler = (function (ko, koPunches) {\\n    ko.punches.enableAll();\\n    ko.bindingHandlers.numericValue = {\\n        init: function(element, valueAccessor, allBindings, data, context) {\\n            var stringified = ko.observable(ko.unwrap(valueAccessor()));\\n            stringified.subscribe(function(value) {\\n                var val = parseFloat(value);\\n                if (!isNaN(val)) {\\n                    valueAccessor()(val);\\n                }\\n            });\\n            valueAccessor().subscribe(function(value) {\\n                var str = JSON.stringify(value);\\n                if ((str == \\\"0\\\") && ([\\\"-0\\\", \\\"-0.\\\"].indexOf(stringified()) >= 0))\\n                     return;\\n                 if ([\\\"null\\\", \\\"\\\"].indexOf(str) >= 0)\\n                     return;\\n                stringified(str);\\n            });\\n            ko.applyBindingsToNode(\\n                element,\\n                {\\n                    value: stringified,\\n                    valueUpdate: allBindings.get('valueUpdate'),\\n                },\\n                context,\\n            );\\n        }\\n    };\\n    var json_data = {\\\"formatted_vals\\\":[\\\"0.01\\\",\\\"0.02\\\",\\\"0.03\\\",\\\"0.04\\\",\\\"0.05\\\",\\\"0.06\\\",\\\"0.07\\\",\\\"0.08\\\",\\\"0.09\\\",\\\"0.1\\\",\\\"0.11\\\",\\\"0.12\\\",\\\"0.13\\\",\\\"0.14\\\",\\\"0.15\\\",\\\"0.16\\\",\\\"0.17\\\",\\\"0.18\\\",\\\"0.19\\\",\\\"0.2\\\",\\\"0.21\\\",\\\"0.22\\\",\\\"0.23\\\",\\\"0.24\\\",\\\"0.25\\\",\\\"0.26\\\",\\\"0.27\\\",\\\"0.28\\\",\\\"0.29\\\",\\\"0.3\\\",\\\"0.31\\\",\\\"0.32\\\",\\\"0.33\\\",\\\"0.34\\\",\\\"0.35\\\",\\\"0.36\\\",\\\"0.37\\\",\\\"0.38\\\",\\\"0.39\\\",\\\"0.4\\\",\\\"0.41\\\",\\\"0.42\\\",\\\"0.43\\\",\\\"0.44\\\",\\\"0.45\\\",\\\"0.46\\\",\\\"0.47\\\",\\\"0.48\\\",\\\"0.49\\\",\\\"0.5\\\",\\\"0.51\\\",\\\"0.52\\\",\\\"0.53\\\",\\\"0.54\\\",\\\"0.55\\\",\\\"0.56\\\",\\\"0.57\\\",\\\"0.58\\\",\\\"0.59\\\",\\\"0.6\\\",\\\"0.61\\\",\\\"0.62\\\",\\\"0.63\\\",\\\"0.64\\\",\\\"0.65\\\",\\\"0.66\\\",\\\"0.67\\\",\\\"0.68\\\",\\\"0.69\\\",\\\"0.7\\\",\\\"0.71\\\",\\\"0.72\\\",\\\"0.73\\\",\\\"0.74\\\",\\\"0.75\\\",\\\"0.76\\\",\\\"0.77\\\",\\\"0.78\\\",\\\"0.79\\\",\\\"0.8\\\",\\\"0.81\\\",\\\"0.82\\\",\\\"0.83\\\",\\\"0.84\\\",\\\"0.85\\\",\\\"0.86\\\",\\\"0.87\\\",\\\"0.88\\\",\\\"0.89\\\",\\\"0.9\\\",\\\"0.91\\\",\\\"0.92\\\",\\\"0.93\\\",\\\"0.94\\\",\\\"0.95\\\",\\\"0.96\\\",\\\"0.97\\\",\\\"0.98\\\",\\\"0.99\\\",\\\"1.0\\\",\\\"1.01\\\",\\\"1.02\\\",\\\"1.03\\\",\\\"1.04\\\",\\\"1.05\\\",\\\"1.06\\\",\\\"1.07\\\",\\\"1.08\\\",\\\"1.09\\\",\\\"1.1\\\",\\\"1.11\\\",\\\"1.12\\\",\\\"1.13\\\",\\\"1.14\\\",\\\"1.15\\\",\\\"1.16\\\",\\\"1.17\\\",\\\"1.18\\\",\\\"1.19\\\",\\\"1.2\\\",\\\"1.21\\\",\\\"1.22\\\",\\\"1.23\\\",\\\"1.24\\\",\\\"1.25\\\",\\\"1.26\\\",\\\"1.27\\\",\\\"1.28\\\",\\\"1.29\\\",\\\"1.3\\\",\\\"1.31\\\",\\\"1.32\\\",\\\"1.33\\\",\\\"1.34\\\",\\\"1.35\\\",\\\"1.36\\\",\\\"1.37\\\",\\\"1.38\\\",\\\"1.39\\\",\\\"1.4\\\",\\\"1.41\\\",\\\"1.42\\\",\\\"1.43\\\",\\\"1.44\\\",\\\"1.45\\\",\\\"1.46\\\",\\\"1.47\\\",\\\"1.48\\\",\\\"1.49\\\",\\\"1.5\\\",\\\"1.51\\\",\\\"1.52\\\",\\\"1.53\\\",\\\"1.54\\\",\\\"1.55\\\",\\\"1.56\\\",\\\"1.57\\\",\\\"1.58\\\",\\\"1.59\\\",\\\"1.6\\\",\\\"1.61\\\",\\\"1.62\\\",\\\"1.63\\\",\\\"1.64\\\",\\\"1.65\\\",\\\"1.66\\\",\\\"1.67\\\",\\\"1.68\\\",\\\"1.69\\\",\\\"1.7\\\",\\\"1.71\\\",\\\"1.72\\\",\\\"1.73\\\",\\\"1.74\\\",\\\"1.75\\\",\\\"1.76\\\",\\\"1.77\\\",\\\"1.78\\\",\\\"1.79\\\",\\\"1.8\\\",\\\"1.81\\\",\\\"1.82\\\",\\\"1.83\\\",\\\"1.84\\\",\\\"1.85\\\",\\\"1.86\\\",\\\"1.87\\\",\\\"1.88\\\",\\\"1.89\\\",\\\"1.9\\\",\\\"1.91\\\",\\\"1.92\\\",\\\"1.93\\\",\\\"1.94\\\",\\\"1.95\\\",\\\"1.96\\\",\\\"1.97\\\",\\\"1.98\\\",\\\"1.99\\\",\\\"2.0\\\"],\\\"changes\\\":WebIO.getval({\\\"name\\\":\\\"changes\\\",\\\"scope\\\":\\\"18193555901765134699\\\",\\\"id\\\":\\\"9234867641224040246\\\",\\\"type\\\":\\\"observable\\\"}),\\\"index\\\":WebIO.getval({\\\"name\\\":\\\"index\\\",\\\"scope\\\":\\\"18193555901765134699\\\",\\\"id\\\":\\\"4728462105325643028\\\",\\\"type\\\":\\\"observable\\\"})};\\n    var self = this;\\n    function AppViewModel() {\\n        for (var key in json_data) {\\n            var el = json_data[key];\\n            this[key] = Array.isArray(el) ? ko.observableArray(el) : ko.observable(el);\\n        }\\n        \\n        [this[\\\"formatted_val\\\"]=ko.computed(    function(){\\n        return this.formatted_vals()[parseInt(this.index())-(1)];\\n    }\\n,this)]\\n        [this[\\\"changes\\\"].subscribe((function (val){!(this.valueFromJulia[\\\"changes\\\"]) ? (WebIO.setval({\\\"name\\\":\\\"changes\\\",\\\"scope\\\":\\\"18193555901765134699\\\",\\\"id\\\":\\\"9234867641224040246\\\",\\\"type\\\":\\\"observable\\\"},val)) : undefined; return this.valueFromJulia[\\\"changes\\\"]=false}),self),this[\\\"index\\\"].subscribe((function (val){!(this.valueFromJulia[\\\"index\\\"]) ? (WebIO.setval({\\\"name\\\":\\\"index\\\",\\\"scope\\\":\\\"18193555901765134699\\\",\\\"id\\\":\\\"4728462105325643028\\\",\\\"type\\\":\\\"observable\\\"},val)) : undefined; return this.valueFromJulia[\\\"index\\\"]=false}),self)]\\n        \\n    }\\n    self.model = new AppViewModel();\\n    self.valueFromJulia = {};\\n    for (var key in json_data) {\\n        self.valueFromJulia[key] = false;\\n    }\\n    ko.applyBindings(self.model, self.dom);\\n}\\n);\\n    (WebIO.importBlock({\\\"data\\\":[{\\\"name\\\":\\\"knockout\\\",\\\"type\\\":\\\"js\\\",\\\"url\\\":\\\"/assetserver/2712bb0a7395d062608c2f218a74b700f6c76b99-knockout.js\\\"},{\\\"name\\\":\\\"knockout_punches\\\",\\\"type\\\":\\\"js\\\",\\\"url\\\":\\\"/assetserver/fb4445501a2be4ab82176667f844e40da26fa007-knockout_punches.js\\\"}],\\\"type\\\":\\\"async_block\\\"})).then((imports) => handler.apply(this, imports));\\n}\\n\")])], Dict{Symbol, Any}(:className => \"field interact-widget\")), Node{WebIO.DOM}(WebIO.DOM(:html, :div), Any[Scope(Node{WebIO.DOM}(WebIO.DOM(:html, :div), Any[Node{WebIO.DOM}(WebIO.DOM(:html, :div), Any[Node{WebIO.DOM}(WebIO.DOM(:html, :label), Any[\"x0\"], Dict{Symbol, Any}(:className => \"interact \", :style => Dict{Any, Any}(:padding => \"5px 10px 0px 10px\")))], Dict{Symbol, Any}(:className => \"interact-flex-row-left\")), Node{WebIO.DOM}(WebIO.DOM(:html, :div), Any[Node{WebIO.DOM}(WebIO.DOM(:html, :input), Any[], Dict{Symbol, Any}(:max => 101, :min => 1, :attributes => Dict{Any, Any}(:type => \"range\", Symbol(\"data-bind\") => \"numericValue: index, valueUpdate: 'input', event: {change: function (){this.changes(this.changes()+1)}}\", \"orient\" => \"horizontal\"), :step => 1, :className => \"slider slider is-fullwidth\", :style => Dict{Any, Any}()))], Dict{Symbol, Any}(:className => \"interact-flex-row-center\")), Node{WebIO.DOM}(WebIO.DOM(:html, :div), Any[Node{WebIO.DOM}(WebIO.DOM(:html, :p), Any[], Dict{Symbol, Any}(:attributes => Dict(\"data-bind\" => \"text: formatted_val\")))], Dict{Symbol, Any}(:className => \"interact-flex-row-right\"))], Dict{Symbol, Any}(:className => \"interact-flex-row interact-widget\")), Dict{String, Tuple{Observables.AbstractObservable, Union{Nothing, Bool}}}(\"changes\" => (Observable{Int64} with 1 listeners. Value:\n",
       "0, nothing), \"index\" => (Observable{Any} with 2 listeners. Value:\n",
       "51, nothing)), Set{String}(), nothing, Asset[Asset(\"js\", \"knockout\", \"C:\\\\Users\\\\Camilo\\\\.julia\\\\packages\\\\Knockout\\\\3gjS1\\\\src\\\\..\\\\assets\\\\knockout.js\"), Asset(\"js\", \"knockout_punches\", \"C:\\\\Users\\\\Camilo\\\\.julia\\\\packages\\\\Knockout\\\\3gjS1\\\\src\\\\..\\\\assets\\\\knockout_punches.js\"), Asset(\"js\", nothing, \"C:\\\\Users\\\\Camilo\\\\.julia\\\\packages\\\\InteractBase\\\\h8Fwe\\\\src\\\\..\\\\assets\\\\all.js\"), Asset(\"css\", nothing, \"C:\\\\Users\\\\Camilo\\\\.julia\\\\packages\\\\InteractBase\\\\h8Fwe\\\\src\\\\..\\\\assets\\\\style.css\"), Asset(\"css\", nothing, \"C:\\\\Users\\\\Camilo\\\\.julia\\\\packages\\\\Interact\\\\pVyN2\\\\src\\\\..\\\\assets\\\\bulma_confined.min.css\")], Dict{Any, Any}(\"changes\" => Any[WebIO.JSString(\"(function (val){return (val!=this.model[\\\"changes\\\"]()) ? (this.valueFromJulia[\\\"changes\\\"]=true, this.model[\\\"changes\\\"](val)) : undefined})\")], \"index\" => Any[WebIO.JSString(\"(function (val){return (val!=this.model[\\\"index\\\"]()) ? (this.valueFromJulia[\\\"index\\\"]=true, this.model[\\\"index\\\"](val)) : undefined})\")]), WebIO.ConnectionPool(Channel{Any}(32), Set{AbstractConnection}(), Condition(Base.InvasiveLinkedList{Task}(Task (runnable) @0x000000000fd17080, Task (runnable) @0x000000000fd17080), Base.AlwaysLockedST(1))), WebIO.JSString[WebIO.JSString(\"function () {\\n    var handler = (function (ko, koPunches) {\\n    ko.punches.enableAll();\\n    ko.bindingHandlers.numericValue = {\\n        init: function(element, valueAccessor, allBindings, data, context) {\\n            var stringified = ko.observable(ko.unwrap(valueAccessor()));\\n            stringified.subscribe(function(value) {\\n                var val = parseFloat(value);\\n                if (!isNaN(val)) {\\n                    valueAccessor()(val);\\n                }\\n            });\\n            valueAccessor().subscribe(function(value) {\\n                var str = JSON.stringify(value);\\n                if ((str == \\\"0\\\") && ([\\\"-0\\\", \\\"-0.\\\"].indexOf(stringified()) >= 0))\\n                     return;\\n                 if ([\\\"null\\\", \\\"\\\"].indexOf(str) >= 0)\\n                     return;\\n                stringified(str);\\n            });\\n            ko.applyBindingsToNode(\\n                element,\\n                {\\n                    value: stringified,\\n                    valueUpdate: allBindings.get('valueUpdate'),\\n                },\\n                context,\\n            );\\n        }\\n    };\\n    var json_data = {\\\"formatted_vals\\\":[\\\"0.0\\\",\\\"0.02\\\",\\\"0.04\\\",\\\"0.06\\\",\\\"0.08\\\",\\\"0.1\\\",\\\"0.12\\\",\\\"0.14\\\",\\\"0.16\\\",\\\"0.18\\\",\\\"0.2\\\",\\\"0.22\\\",\\\"0.24\\\",\\\"0.26\\\",\\\"0.28\\\",\\\"0.3\\\",\\\"0.32\\\",\\\"0.34\\\",\\\"0.36\\\",\\\"0.38\\\",\\\"0.4\\\",\\\"0.42\\\",\\\"0.44\\\",\\\"0.46\\\",\\\"0.48\\\",\\\"0.5\\\",\\\"0.52\\\",\\\"0.54\\\",\\\"0.56\\\",\\\"0.58\\\",\\\"0.6\\\",\\\"0.62\\\",\\\"0.64\\\",\\\"0.66\\\",\\\"0.68\\\",\\\"0.7\\\",\\\"0.72\\\",\\\"0.74\\\",\\\"0.76\\\",\\\"0.78\\\",\\\"0.8\\\",\\\"0.82\\\",\\\"0.84\\\",\\\"0.86\\\",\\\"0.88\\\",\\\"0.9\\\",\\\"0.92\\\",\\\"0.94\\\",\\\"0.96\\\",\\\"0.98\\\",\\\"1.0\\\",\\\"1.02\\\",\\\"1.04\\\",\\\"1.06\\\",\\\"1.08\\\",\\\"1.1\\\",\\\"1.12\\\",\\\"1.14\\\",\\\"1.16\\\",\\\"1.18\\\",\\\"1.2\\\",\\\"1.22\\\",\\\"1.24\\\",\\\"1.26\\\",\\\"1.28\\\",\\\"1.3\\\",\\\"1.32\\\",\\\"1.34\\\",\\\"1.36\\\",\\\"1.38\\\",\\\"1.4\\\",\\\"1.42\\\",\\\"1.44\\\",\\\"1.46\\\",\\\"1.48\\\",\\\"1.5\\\",\\\"1.52\\\",\\\"1.54\\\",\\\"1.56\\\",\\\"1.58\\\",\\\"1.6\\\",\\\"1.62\\\",\\\"1.64\\\",\\\"1.66\\\",\\\"1.68\\\",\\\"1.7\\\",\\\"1.72\\\",\\\"1.74\\\",\\\"1.76\\\",\\\"1.78\\\",\\\"1.8\\\",\\\"1.82\\\",\\\"1.84\\\",\\\"1.86\\\",\\\"1.88\\\",\\\"1.9\\\",\\\"1.92\\\",\\\"1.94\\\",\\\"1.96\\\",\\\"1.98\\\",\\\"2.0\\\"],\\\"changes\\\":WebIO.getval({\\\"name\\\":\\\"changes\\\",\\\"scope\\\":\\\"5573521046135323285\\\",\\\"id\\\":\\\"1612109867697794794\\\",\\\"type\\\":\\\"observable\\\"}),\\\"index\\\":WebIO.getval({\\\"name\\\":\\\"index\\\",\\\"scope\\\":\\\"5573521046135323285\\\",\\\"id\\\":\\\"7019835746590632195\\\",\\\"type\\\":\\\"observable\\\"})};\\n    var self = this;\\n    function AppViewModel() {\\n        for (var key in json_data) {\\n            var el = json_data[key];\\n            this[key] = Array.isArray(el) ? ko.observableArray(el) : ko.observable(el);\\n        }\\n        \\n        [this[\\\"formatted_val\\\"]=ko.computed(    function(){\\n        return this.formatted_vals()[parseInt(this.index())-(1)];\\n    }\\n,this)]\\n        [this[\\\"changes\\\"].subscribe((function (val){!(this.valueFromJulia[\\\"changes\\\"]) ? (WebIO.setval({\\\"name\\\":\\\"changes\\\",\\\"scope\\\":\\\"5573521046135323285\\\",\\\"id\\\":\\\"1612109867697794794\\\",\\\"type\\\":\\\"observable\\\"},val)) : undefined; return this.valueFromJulia[\\\"changes\\\"]=false}),self),this[\\\"index\\\"].subscribe((function (val){!(this.valueFromJulia[\\\"index\\\"]) ? (WebIO.setval({\\\"name\\\":\\\"index\\\",\\\"scope\\\":\\\"5573521046135323285\\\",\\\"id\\\":\\\"7019835746590632195\\\",\\\"type\\\":\\\"observable\\\"},val)) : undefined; return this.valueFromJulia[\\\"index\\\"]=false}),self)]\\n        \\n    }\\n    self.model = new AppViewModel();\\n    self.valueFromJulia = {};\\n    for (var key in json_data) {\\n        self.valueFromJulia[key] = false;\\n    }\\n    ko.applyBindings(self.model, self.dom);\\n}\\n);\\n    (WebIO.importBlock({\\\"data\\\":[{\\\"name\\\":\\\"knockout\\\",\\\"type\\\":\\\"js\\\",\\\"url\\\":\\\"/assetserver/2712bb0a7395d062608c2f218a74b700f6c76b99-knockout.js\\\"},{\\\"name\\\":\\\"knockout_punches\\\",\\\"type\\\":\\\"js\\\",\\\"url\\\":\\\"/assetserver/fb4445501a2be4ab82176667f844e40da26fa007-knockout_punches.js\\\"}],\\\"type\\\":\\\"async_block\\\"})).then((imports) => handler.apply(this, imports));\\n}\\n\")])], Dict{Symbol, Any}(:className => \"field interact-widget\")), Node{WebIO.DOM}(WebIO.DOM(:html, :div), Any[Scope(Node{WebIO.DOM}(WebIO.DOM(:html, :div), Any[Node{WebIO.DOM}(WebIO.DOM(:html, :div), Any[Node{WebIO.DOM}(WebIO.DOM(:html, :label), Any[\"tmax\"], Dict{Symbol, Any}(:className => \"interact \", :style => Dict{Any, Any}(:padding => \"5px 10px 0px 10px\")))], Dict{Symbol, Any}(:className => \"interact-flex-row-left\")), Node{WebIO.DOM}(WebIO.DOM(:html, :div), Any[Node{WebIO.DOM}(WebIO.DOM(:html, :input), Any[], Dict{Symbol, Any}(:max => 6, :min => 1, :attributes => Dict{Any, Any}(:type => \"range\", Symbol(\"data-bind\") => \"numericValue: index, valueUpdate: 'input', event: {change: function (){this.changes(this.changes()+1)}}\", \"orient\" => \"horizontal\"), :step => 1, :className => \"slider slider is-fullwidth\", :style => Dict{Any, Any}()))], Dict{Symbol, Any}(:className => \"interact-flex-row-center\")), Node{WebIO.DOM}(WebIO.DOM(:html, :div), Any[Node{WebIO.DOM}(WebIO.DOM(:html, :p), Any[], Dict{Symbol, Any}(:attributes => Dict(\"data-bind\" => \"text: formatted_val\")))], Dict{Symbol, Any}(:className => \"interact-flex-row-right\"))], Dict{Symbol, Any}(:className => \"interact-flex-row interact-widget\")), Dict{String, Tuple{Observables.AbstractObservable, Union{Nothing, Bool}}}(\"changes\" => (Observable{Int64} with 1 listeners. Value:\n",
       "0, nothing), \"index\" => (Observable{Any} with 2 listeners. Value:\n",
       "3, nothing)), Set{String}(), nothing, Asset[Asset(\"js\", \"knockout\", \"C:\\\\Users\\\\Camilo\\\\.julia\\\\packages\\\\Knockout\\\\3gjS1\\\\src\\\\..\\\\assets\\\\knockout.js\"), Asset(\"js\", \"knockout_punches\", \"C:\\\\Users\\\\Camilo\\\\.julia\\\\packages\\\\Knockout\\\\3gjS1\\\\src\\\\..\\\\assets\\\\knockout_punches.js\"), Asset(\"js\", nothing, \"C:\\\\Users\\\\Camilo\\\\.julia\\\\packages\\\\InteractBase\\\\h8Fwe\\\\src\\\\..\\\\assets\\\\all.js\"), Asset(\"css\", nothing, \"C:\\\\Users\\\\Camilo\\\\.julia\\\\packages\\\\InteractBase\\\\h8Fwe\\\\src\\\\..\\\\assets\\\\style.css\"), Asset(\"css\", nothing, \"C:\\\\Users\\\\Camilo\\\\.julia\\\\packages\\\\Interact\\\\pVyN2\\\\src\\\\..\\\\assets\\\\bulma_confined.min.css\")], Dict{Any, Any}(\"changes\" => Any[WebIO.JSString(\"(function (val){return (val!=this.model[\\\"changes\\\"]()) ? (this.valueFromJulia[\\\"changes\\\"]=true, this.model[\\\"changes\\\"](val)) : undefined})\")], \"index\" => Any[WebIO.JSString(\"(function (val){return (val!=this.model[\\\"index\\\"]()) ? (this.valueFromJulia[\\\"index\\\"]=true, this.model[\\\"index\\\"](val)) : undefined})\")]), WebIO.ConnectionPool(Channel{Any}(32), Set{AbstractConnection}(), Condition(Base.InvasiveLinkedList{Task}(Task (runnable) @0x0000000010264b00, Task (runnable) @0x0000000010264b00), Base.AlwaysLockedST(1))), WebIO.JSString[WebIO.JSString(\"function () {\\n    var handler = (function (ko, koPunches) {\\n    ko.punches.enableAll();\\n    ko.bindingHandlers.numericValue = {\\n        init: function(element, valueAccessor, allBindings, data, context) {\\n            var stringified = ko.observable(ko.unwrap(valueAccessor()));\\n            stringified.subscribe(function(value) {\\n                var val = parseFloat(value);\\n                if (!isNaN(val)) {\\n                    valueAccessor()(val);\\n                }\\n            });\\n            valueAccessor().subscribe(function(value) {\\n                var str = JSON.stringify(value);\\n                if ((str == \\\"0\\\") && ([\\\"-0\\\", \\\"-0.\\\"].indexOf(stringified()) >= 0))\\n                     return;\\n                 if ([\\\"null\\\", \\\"\\\"].indexOf(str) >= 0)\\n                     return;\\n                stringified(str);\\n            });\\n            ko.applyBindingsToNode(\\n                element,\\n                {\\n                    value: stringified,\\n                    valueUpdate: allBindings.get('valueUpdate'),\\n                },\\n                context,\\n            );\\n        }\\n    };\\n    var json_data = {\\\"formatted_vals\\\":[\\\"1.0\\\",\\\"6.0\\\",\\\"11.0\\\",\\\"16.0\\\",\\\"21.0\\\",\\\"26.0\\\"],\\\"changes\\\":WebIO.getval({\\\"name\\\":\\\"changes\\\",\\\"scope\\\":\\\"3728034245224788230\\\",\\\"id\\\":\\\"2965447878542056802\\\",\\\"type\\\":\\\"observable\\\"}),\\\"index\\\":WebIO.getval({\\\"name\\\":\\\"index\\\",\\\"scope\\\":\\\"3728034245224788230\\\",\\\"id\\\":\\\"3504693184005843809\\\",\\\"type\\\":\\\"observable\\\"})};\\n    var self = this;\\n    function AppViewModel() {\\n        for (var key in json_data) {\\n            var el = json_data[key];\\n            this[key] = Array.isArray(el) ? ko.observableArray(el) : ko.observable(el);\\n        }\\n        \\n        [this[\\\"formatted_val\\\"]=ko.computed(    function(){\\n        return this.formatted_vals()[parseInt(this.index())-(1)];\\n    }\\n,this)]\\n        [this[\\\"changes\\\"].subscribe((function (val){!(this.valueFromJulia[\\\"changes\\\"]) ? (WebIO.setval({\\\"name\\\":\\\"changes\\\",\\\"scope\\\":\\\"3728034245224788230\\\",\\\"id\\\":\\\"2965447878542056802\\\",\\\"type\\\":\\\"observable\\\"},val)) : undefined; return this.valueFromJulia[\\\"changes\\\"]=false}),self),this[\\\"index\\\"].subscribe((function (val){!(this.valueFromJulia[\\\"index\\\"]) ? (WebIO.setval({\\\"name\\\":\\\"index\\\",\\\"scope\\\":\\\"3728034245224788230\\\",\\\"id\\\":\\\"3504693184005843809\\\",\\\"type\\\":\\\"observable\\\"},val)) : undefined; return this.valueFromJulia[\\\"index\\\"]=false}),self)]\\n        \\n    }\\n    self.model = new AppViewModel();\\n    self.valueFromJulia = {};\\n    for (var key in json_data) {\\n        self.valueFromJulia[key] = false;\\n    }\\n    ko.applyBindings(self.model, self.dom);\\n}\\n);\\n    (WebIO.importBlock({\\\"data\\\":[{\\\"name\\\":\\\"knockout\\\",\\\"type\\\":\\\"js\\\",\\\"url\\\":\\\"/assetserver/2712bb0a7395d062608c2f218a74b700f6c76b99-knockout.js\\\"},{\\\"name\\\":\\\"knockout_punches\\\",\\\"type\\\":\\\"js\\\",\\\"url\\\":\\\"/assetserver/fb4445501a2be4ab82176667f844e40da26fa007-knockout_punches.js\\\"}],\\\"type\\\":\\\"async_block\\\"})).then((imports) => handler.apply(this, imports));\\n}\\n\")])], Dict{Symbol, Any}(:className => \"field interact-widget\")), Observable{Node{WebIO.DOM}} with 0 listeners. Value:\n",
       "Node{WebIO.DOM}(WebIO.DOM(:html, :div), Any[Plot{Plots.GRBackend() n=6}], Dict{Symbol, Any}(:className => \"interact-flex-row interact-widget\"))], Dict{Symbol, Any}())"
      ]
     },
     "execution_count": 4,
     "metadata": {
      "application/vnd.webio.node+json": {
       "kernelId": "7d0ebb77-0b73-4d89-9442-4ca48ef9ada1"
      }
     },
     "output_type": "execute_result"
    }
   ],
   "source": [
    "@manipulate throttle=.1 for R=0:0.02:2.0,K=0.01:0.01:2.0,x0=0:0.02:2.0,tmax=1.0:5:30\n",
    "    flux1D(logistic,x0,tmax,[R,K];xlims=[-0.1,2.0])\n",
    "end"
   ]
  },
  {
   "cell_type": "markdown",
   "id": "ac1e2514",
   "metadata": {},
   "source": [
    "## Potencial de la Ecuacion Logistica\n",
    "\n",
    "En este caso el potencial es una función cúbica:\n",
    "\n",
    "$V(x) = \\frac{Rx^2}{3K}\\left(x- \\frac{3K}{2}\\right)$\n",
    "\n",
    "que tiene un minimo en $x=K/2$ y corta el eje horizontal en $x=3K/2$ y lo toca tangencialmente con un pico (raiz doble) en $x=0$. Veamos el aspecto que tiene y como evoluciona la trayectoria desde el punto inicial hasta el fondo del pozo."
   ]
  },
  {
   "cell_type": "code",
   "execution_count": null,
   "id": "e554271e",
   "metadata": {
    "ExecuteTime": {
     "end_time": "2022-01-27T02:06:20.505000-03:00",
     "start_time": "2022-01-27T05:06:19.455Z"
    }
   },
   "outputs": [],
   "source": [
    "Vlogistic(x,p) = p[1]*x*x/(3*p[2])*(x-3*p[2]/2)\n",
    "@manipulate throttle=.1 for R=0:0.02:2.0,K=0.01:0.01:2.0,x0=0:0.01:2.0\n",
    "    potential1D(Vlogistic,x0,100.0,[R,K];xlims=[0.0,max(2*K,x0)])\n",
    "end"
   ]
  },
  {
   "cell_type": "markdown",
   "id": "46c310c0",
   "metadata": {},
   "source": [
    "# Bifurcacion de Atractor - Repulsor (Saddle Node)\n",
    "\n",
    "El flujo 1D queda caracterizado cualitativamente por sus puntos fijos y su estabilidad. Pueden estos cambiar? Cuál es la forma más general? Antes habiamos hablado de la estabilidad estructural y la habiamos referido a la invariancia de la estructura topológica frente a pequeñas perturbaciones en los parámetros. También nos habiamos preguntado por lo que sucedía cuando $f(x)$ rozaba tangencialmente el eje horizontal en un punto fijo y la linealización dejaba de ser válida. No es difil ver que cuando esto último sucede estamos ante la inminencia de un cambio en la estructura topológica del flujo. Podemos pensar en la funcion f(x) como una soga serpenteante que varia con los parametros. La estructura topológica del flujo no va a cambiar siempre que tengamos la misma cantidad de cruces (cantidad de puntos fijos) y no cambie la secuencia de cruces para arriba, para abajo, para arriba, etc. Cual es la forma genérica en que puede cambiar? cuando un \"lazo\" que está del lado positivo o negativo cruza el eje como se ve en la secuencia de dibujos siguiente en las que tenemos tres valores de parametros del sistema diferentes:\n",
    "\n",
    "<div>\n",
    "  <img src=\"../files/flujos1DSN.png\" width=\"500px\">\n",
    "</div>\n",
    "\n",
    "En ese caso en el punto exacto donde se produce el cambio (diagrama del centro) suceden dos cosas simultáneamente:\n",
    "\n",
    "- dos puntos fijos están fusionados en uno solo. Cualquier perturbacion por más pequeña que sea hacia un lado los hace desaparecer y hacia el otro genera dos puntos fijos. Ademas esos dos puntos fijos son siempre un atractor y un repulsor. \n",
    "- la derivada del campor vector es cero en ese punto $f'(x_*)=0$ por lo tanto deja de valer la linealización\n",
    "\n",
    "La conclusion es que no hay forma genérica de cambiar la estabilidad de los puntos fijos sin crear o destruir un par de puntos fijos: un atractor y un repulsor. Esto es la bifurcación de **nodo-repulsor** (que que conoce como nodo silla o saddle node **SN** en sistemas de mas de una dimension). dicho de otra manera un punto fijo no puede pasar de ser estable a inestable sin pasar por cero y esto no lo puede hacer de forma genérica sin colapsar con otro punto fijo de estabilidad complementaria (pensemos que intentamos invertir la pendiente de uno de los tramos de la cuerda negra de arriba donde corta el eje horizontal. \n",
    "Acá \"forma genérica\" se refiere a que no hay impuesta ninguna condición adicional. Si forzamos a que el origen sea siempre un punto fijo o hay alguna condición de simetría hay otros casos posibles como vamos a ver más adelante\n",
    "\n",
    "Vamos a definir más formalmente una bifurcación:\n",
    "**Cualquier cambio de la cantidad de puntos fijos o de su estabilidad al variar los parámetros del sistema se conoce como  una bifuración local**. Local se refiere a que ocurre en un punto determinado del espacio de fases. \n"
   ]
  },
  {
   "cell_type": "markdown",
   "id": "dba3cc46",
   "metadata": {},
   "source": [
    "## Forma normal de la Bifurcación SN \n",
    "\n",
    "mas adelante vamos a dar una definición más formal de forma normal, por ahora la vamos a presentar como el modelo \n",
    "más general o más \"sencillo\" que presenta una determinada bifurcación que se produce en el origen y para un valor de parámetro igual a cero. Sistemas particulares que tengan una bifurcacion local en algun otro punto para algun otro valor de parámetros se van a poder llevar a la forma normal mediante un cambio de coordenadas.\n",
    "\n",
    "En el caso de la bifurcacion de atractor repulsor (o SN en una dimensión) resulta medianamente intuitivo, tanto por el dibujo de arriba como por lo que discutimos cuando nos preguntabamos que pasaba con la linealización si la derivada de $f$ se hacía cero en el punto fijo, que la forma más simple y genérica de tener una bifurcacion de SN es mediante una parábola (cuadrática) que corta el eje horizontal en el origen para el valor de parámetro cero. Es decir:}\n",
    "\n",
    "$\\dot{x} = a-x^2$\n",
    "\n",
    "esta es la versión con la parábola invertida pero podriamos tener de forma equivalente otra ecuación con el término cuadrático positivo.\n",
    "\n",
    "Para este sistema tenemos dos puntos fijos (el repulsor a la izquierda y el atractor a la derecha) cuando $a>0$ y ningún punto fijo para $a<0$. En $a=0$ la parabola \"besa\" el eje horizontal y los dos puntos fijos colapsan en uno solo (que es atractor  por la derecha y repulsor por la izquierda). \n",
    "\n",
    "La forma normal nos da otra información importante que tiene que ver con el escaleo. En un entorno de la bifurcación, cuando se crean los dos puntos fijos con estabilidad complementaria están ubicados en $x_*=\\pm \\sqrt{a}$. Es decir que se alejan del punto de coalescencia (o de surgimiento) con un escaleo que va como la raiz cuadrada del parámetro. Cuando encontremos bifurcaciones de repulsor atractor (o de nodo silla en dimensiones superiores) habrá siempre un entorno, para valores de parámetro cercanos al valor de la bifurcación, donde este escaleo se observa también, por lo tanto podremos anticipar la ubicación de los puntos fijos sin necesidad de encontrar los ceros del campo vector.\n"
   ]
  },
  {
   "cell_type": "markdown",
   "id": "87ecccf1",
   "metadata": {},
   "source": [
    "## Diagrama de bifurcaciones\n",
    "\n",
    "Una representación que vamos a encontrar de forma muy frecuente y que sirve para caracterizar un sistema dinámico dado es el **diagrama de bifurcaciones** en el espacio producto de las variables y parámetros. En el caso de la forma normal de la SN tenemos una variable ($x$) y un parametro ($a$) y es practica usual representar el parámetro en el eje horizontal (porque de hecho es la variable independiente de control de nuestro problema y la variable en el eje vertical. Es decir que ahora el espacio de fases va a aparecer de forma vertical. También es usual no representar todo el flujo sino solo los puntos de fijos. Los puntos fijos son **ramas** en el diagrama de bifurcaciones que dan para cada valor del parámetro la ubicacion del mismo (podriamos escribirlos incluso como una funcion del parametro, por ejemplo $x_*(a)$). Finalmente podemos usar el color azul para las ramas correspondientes a los puntos fijos estables (o atractores) y rojo para los inestables (o repulsores). \n",
    "\n",
    "Teniendo en cuenta todo esto el diagrama de bifurcaciones para la forma normal de la bifurcación SN es el siguiente:\n",
    "\n",
    "<div>\n",
    "  <img src=\"../files/BifurcationDiagram.png\" width=\"500px\">\n",
    "</div>\n",
    "\n",
    "La bifurcacion de SN ocurre en el punto $a=0$, $x=0$ del diagrama (punto verde) del cual surgen para la derecha ($a>0$) una rama estable para el atractor (azul) y otra inestable para el repulsor (rojo) que se alejan del punto de bifurcacion como $\\pm \\sqrt{a}$. \n",
    "\n",
    "Vamos a interactuar con la forma normal de la bifurcación SN usando la funcion **flux1D** pero con un metodo adicional. Las funciones en Julia tienen multiple dispatch, es decir pueden recibir diferentes tipos argumentos, generando diferentes metodos. En este caso le agregamos un argumento mas luego del vector de parametros que es una funcion anonima para cortar la integracion. Como detalle tecnico eso se hace mediante una funcion de Callback **DiscreteCallback** que si cumple una condicion (en este caso que la variable sea menor que -1), llama a la una funcion que termine la integracion (**terminate!**). Pero de todas maneras eso es interno a flux1D, lo unico que le pasamos aca es la funcion que da la condicion para terminar: $(u)->(u<-1.0)$\n"
   ]
  },
  {
   "cell_type": "code",
   "execution_count": null,
   "id": "6e8bf430",
   "metadata": {
    "ExecuteTime": {
     "end_time": "2022-01-27T02:07:49.024000-03:00",
     "start_time": "2022-01-27T05:07:46.739Z"
    }
   },
   "outputs": [],
   "source": [
    "@manipulate throttle=.05 for a=-0.5:0.01:0.5,x0=-1:0.02:1,tmax=1.0:5:50\n",
    "    nodosilla(x,p,t)=p[1]-x*x\n",
    "    flux1D(nodosilla,x0,tmax,[a],(u)->(u<-1.0);xlims=[-1.0,1.0])\n",
    "end"
   ]
  },
  {
   "cell_type": "markdown",
   "id": "7717ef52",
   "metadata": {},
   "source": [
    "# Ecuacion Logistica con Harvest"
   ]
  },
  {
   "cell_type": "markdown",
   "id": "dc08d90a",
   "metadata": {},
   "source": [
    "Vamos a ver ahora un modelo de población simple que atraviesa una bifurcacion de atractor-repulsor (o SN en 1D). \n",
    "\n",
    "Todos los modelos poblacionales que vamos aver a continuación se basan en el modelo logístico y agregan un término adicional que da cuenta de la predación, ya sea por otra especie o por la explotación de la especie como recurso. En su version mas simple se agrega un termino de decrecimiento constante que representa el harvest (cosecha, caza, pesca)\n",
    "\n",
    "$ \\dot{x} = Rx\\left(1-\\displaystyle \\frac{x}{K}\\right) - H$ \n",
    "\n",
    "Atencion: no es un modelo realista para una poblacion porque me puede dar un valor de x negativo. Debido a esto vamos a tener que introducir una condicion de corte como en el caso anterior pero en este caso cuando la variable se hace negativa: $(u)->(u<0)$"
   ]
  },
  {
   "cell_type": "code",
   "execution_count": null,
   "id": "095b20b0",
   "metadata": {
    "ExecuteTime": {
     "end_time": "2022-01-27T02:07:02.635000-03:00",
     "start_time": "2022-01-27T05:07:02.533Z"
    }
   },
   "outputs": [],
   "source": [
    "# Ecuacion Logistica con harvest\n",
    "logharvest1(x,p,t)=p[1]*x*(1.0-x/p[2])-p[3]"
   ]
  },
  {
   "cell_type": "code",
   "execution_count": null,
   "id": "04f7069c",
   "metadata": {
    "ExecuteTime": {
     "end_time": "2022-01-27T02:07:09.994000-03:00",
     "start_time": "2022-01-27T05:07:07.691Z"
    }
   },
   "outputs": [],
   "source": [
    "@manipulate throttle=.05 for R=0:0.02:2.0,K=0.01:0.01:2.0,H=0:0.01:0.5,x0=0:0.02:2.0,tmax=1.0:5:50\n",
    "    flux1D(logharvest1,x0,tmax,[R,K,H],(u)->(u<0);xlims=[0.0,2.0])\n",
    "end"
   ]
  },
  {
   "cell_type": "markdown",
   "id": "14bbadab",
   "metadata": {},
   "source": [
    "Ahora para calcular los puntos fijos tenemos que resolver una ecuación cuadrática. Pero antes de meternos en eso vamos a volver a la interpretación geométrica del campo vector $f(x)$. El primer término es el mismo que el de la ecuación logística y es una parábola invertida que corta el eje horizontal en $x=0$ y $x=K$ con la misma pendiente de signo opuesto $R$ y $-R$ respectivamente, por lo tanto el punto máximo de la parábola está justo en el centro de los dos puntos fijos $x=K/2$. En ese punto el valor del campo vector es $f(K/2)=RK/4-H$. Notar que si bien hicimos algunas cuentas, utilizamos únicamente argumentos geométricos y evaluaciones del campo vector.\n",
    "\n",
    "Cuál es el efecto del término constante $-H$? Simplemente bajar el gráfico de la parábola invertida lo cual hace que los dos puntos fijos se acerquen simétricamente al punto medio $x=K/2$. La estabilidad de los mismos sigue siendo igual. El repulsor a la izquierda se corre para un valor de $x$ positivo y el atractor de la derecha se corre para un valor menor. la interpretación de este corrimiento en términos del modelo poblacional es la siguiente: (a) que el atractor sea menor que $K$ da cuenta del efecto de la predación o explotación al disminuir el valor hacia el cual tiende la población, (b) que el repulsor tenga un valor positivo implica que si la población inicial no alcanza un valor mínimo (el de ese punto fijo) no alcanza el valor de equilibrio y la población se extingue. A mayor valor del parámetro $H$ mayor proximidad de los puntos fijos y más crítica se torna la situación. La población máxima es cada vez menor y el punto de inflexión que separa los dos futuros posibles de sustentaibilidad o extinción se hace cada vez mayor. Finalmente los dos puntos fijos van a colapsar cuando el campo vector en ese punto se haga cero, es decir cuando $H=RK/4$. Para ese valor de parámetros vamos a tener una bifurcación de atractor y repulsor, todo el flujo es hacia la izquierda y la población se extingue para cualquier condición incial.\n",
    "\n",
    "Todo este análisis, mas lo que se ve en las celdas interactivas permite suponer que se produce una bifurcación SN. Pero para demostrar que esa es la bifurcacion que se produce efectivamente deberiamos poder llevar la ecuación diferencial en un entorno de la bifurcación a la forma normal de la SN. En este caso además podemos hacer un cambio de coordenadas que va a llevarnos todo el flujo a la forma normal (esto sucede solo en este caso porque tenemos sólo términos cuadráticos). \n",
    "\n",
    "Nuestro cambio de coordenadas propuesto es llevar el punto donde se produce la bifurcación al origen. Comenzamos definiendo la variable $\\chi = x-K/2$. Si reemplazamos en la ecuación diferencial obtenemos:\n",
    "\n",
    "$\\dot{\\chi}=R\\left(\\chi+\\displaystyle\\frac{K}{2}\\right)\\left(\\displaystyle\\frac{1}{2}-\\displaystyle\\frac{\\chi}{K}\\right)-H = \\displaystyle\\frac{RK}{4}-H-\\displaystyle\\frac{R}{K}\\chi^2$\n",
    "\n",
    "El paso siguiente es hacer un re-escaleo del tiempo definiendo un nuevo tiempo $\\tau=tK/R$. Volvemos a la notación explícita de la derivada para que quede claro que cambiamos la escala temporal y la ecuación queda:\n",
    "\n",
    "$\\displaystyle\\frac{d\\chi}{d\\tau} = \\displaystyle\\frac{K^2}{4}-\\displaystyle\\frac{KH}{R} - \\chi^2$\n",
    "\n",
    "notar que el escaleo temporal multiplico el miembro derecho por $K/r$.\n",
    "El último paso es definir nuestro parámetor de control como $a=K^2/4-KH/R$, con lo cual llegamos a la forma normal de la SN:\n",
    "\n",
    "$\\displaystyle\\frac{d\\chi}{d\\tau} = a - \\chi^2$\n",
    "\n",
    "que tiene una bifurcacion de SN en ($a=0$,$\\chi=0$), es decir cuando $H=RK/4$ y $x=K/2$. Y los puntos fijos se van a alejar de ese punto medio como $\\pm\\sqrt{a}$, es decir como $\\pm\\sqrt{K^2/4-KH/R}$. De hecho como en este caso, sólo tenemos términos cuadráticos esta aproximación cerca de la bifurcación vale para todo los valores del parámetro. Los puntos fijos van aa estar ubicados entonces en \n",
    "\n",
    "$\\chi_* = \\pm\\sqrt{a}$\n",
    "\n",
    "$x_* = K/2  \\pm \\sqrt{K^2/4-KH/R}  $\n",
    "\n",
    "Este último resultado es el mismo que hubiésemos obtenido al principio resolviendo la cuadrática. Llegamos a lo mismo tras un largo recorrido que podriamos resumir en: (a) cambio de coordenadas, (b) reescaleo del tiempo, (c) redefinicion del parametro de control, para llevar nuestro sistema a la forma normal de la bifurcación SN. Si bien puede parecer más arduo en este caso es el mecanismo general que nos va a servir para campos vectores más complicados e incluso para dimensiones mayores. "
   ]
  },
  {
   "cell_type": "markdown",
   "id": "bc0e3a86",
   "metadata": {},
   "source": [
    "## Bifurcacion SN usando BifurcationKit\n",
    "\n",
    "Vamos a utilizar este caso sencillo para ejemplificar el uso de un paquete muy poderoso para el estudio de sistemas dinámicos en Julia: el package BifurcationKit. Como vamos a ver tiene sus complejidades pero por ahora lo que nos va a importar es que:\n",
    "\n",
    "- Tenemos que definir la funcion del fampo vector $F$ como funcion solo de x y los parametros es decir le asignamos t=0, esto se hace en la primera linea (el macro @. es para aplicar un broadcast a lo que sigue)\n",
    "- Barremos el parametro H que es el tercer elemento del array p, y eso lo indicamos con @lens _[3]\n",
    "- Barremos el parametro desde pMin hasta pMax. Es importante que en pMin haya al menos una solucion."
   ]
  },
  {
   "cell_type": "code",
   "execution_count": null,
   "id": "d173ef78",
   "metadata": {
    "ExecuteTime": {
     "end_time": "2022-01-27T02:07:42.962000-03:00",
     "start_time": "2022-01-27T05:07:27.217Z"
    }
   },
   "outputs": [],
   "source": [
    "R=1.0; K=1.0\n",
    "Hmin=0.05; Hmax=0.3\n",
    "F=(x,p) ->  @. logharvest1(x,(p,),0)\n",
    "opts = ContinuationPar(pMin=Hmin,pMax=Hmax, detectBifurcation=3)\n",
    "br, = continuation(F,[1.0],[R,K,Hmin],(@lens _[3]), opts)\n",
    "plot(br)"
   ]
  },
  {
   "cell_type": "markdown",
   "id": "d320944a",
   "metadata": {},
   "source": [
    "... y tenemos el diagrama de bifurcaciones. \n",
    "\n",
    "El eje horizontal corresponde a $H$ (por mas que diga p porque estamos usando el graficador por defecto del paquete). Para $H=RK/4=0.25$ tenemos la bifurcacion de SN (indicada por el punto azul), la rama estable en linea gruesa y la inestable en linea fina. Por que esta invertido con respecto a al forma normal de derecha a izquierda? Pensar en la redefinición de parámetros del paso anterior."
   ]
  },
  {
   "cell_type": "markdown",
   "id": "b9079419",
   "metadata": {},
   "source": [
    "## Critical Slowing Down\n",
    "\n",
    "Supongamos que tenemos el modelo logistico con harvest para los valores de capacidad y crecimiento $K=1$ y $R=1$, y queremos saber cual es el maximo valor de recursos que podemos extraer $H$ antes de que se extinga (catastroficamente) la poblacion. Segun el modelo sabemos que cuando la poblacion se aproxime a $K/2=0.5$ extrayendo algo menos de $KR/4=0.25$ recursos estamos al borde de la extincion. Pero si no tenemos el modelo. Hay alguna indicacion en la dinamica que nos de una pista de que estamos cerca de la bifurcacion? \n",
    "\n",
    "Una posibilidad es perturbar el sistema que se encuentra en su punto fijo estable. con un pequeño pulso en la variable de amplitud $S$. Como el punto fijo es estable va a volver al equilibro con un decaimiento exponencial. Lo interesante es que a medida que nos aproximamos a la bifurcacion SN ese tiempo de decaimiento se va haciendo más y más largo (de ahi el \"slowing down\" y el \"critical\" es porque nos acercamos al punto crítico de la bifurcación). Por qué sucede esto? Si bien no le prestamos mucha atencion hasta ahora a la \"velocidad\" del flujo sobre el espacio de fases, la misma está dada por la magnitud de $f(x)$. A medida que nos acercamos a la bifurcación el \"pedacito\" de $f(x)$ que está entre los dos puntos fijos se va aproximando a cero y el flujo se va enlenteciendo. Pensemos que en la bifurcación propiamente dicha el flujo se detiene por completo en ese punto.\n",
    "\n",
    "Para realizar esta perturbación en el paquete del curso agregamos un metodo adicional  **flux1D**, como un escalar luego del tiempo $tmax$. En este caso vamos a poder controlarlo con el manipulate y corresponde a la amplitud de la perturbacion $S$. Notar como a medida que nos acercamos al valor de la bifurcación $H=0.25$ el retoirno al punto fijo se hace cada vez más lento (critical slowing down)."
   ]
  },
  {
   "cell_type": "code",
   "execution_count": null,
   "id": "d0aaf03d",
   "metadata": {},
   "outputs": [],
   "source": [
    "@manipulate throttle=.05 for H=0.2:0.001:0.25,S=0.0:0.001:0.1, tmax=10.0:5.0:500.0\n",
    "    x0 = 0.5+sqrt(0.25-H)\n",
    "    flux1D(logharvest1,x0,tmax,[1.0,1.0,H],10.0,S,(u)->(u<0);xlims=[0.0,1.0])\n",
    "end"
   ]
  },
  {
   "cell_type": "markdown",
   "id": "e08beb69",
   "metadata": {},
   "source": [
    "## Potencial de Logistica con Harvest\n",
    "\n",
    "Una interpretacion del CSD es que el pozo de potencial se hace mas \"plano\" cerca de la bifurcacion. Veamos que pasa a medida que nos acercamos a la bifurcacion con el potencial y con la trayectoria perturbada con la patada.\n",
    "\n",
    "Al potencial de la logistica se le agrega un término $-Hx$ que corre los puntos fijos y hace que la barrera de potencial (punto fijo inestable) que antes estaba en 0 y no se podia cruzar se mueva a $K/2  - \\sqrt{K^2/4-KH/R}  $\n",
    "\n",
    "$V(x) = \\frac{Rx^2}{3K}\\left(x- \\frac{3K}{2}\\right) + Hx$\n",
    "\n",
    "La bifurcacion de Nodo silla corresponde a el cambio del potencial cubico de una curva tipo N (una barrera y un pozo, punto fijo inestable y estable) a una curva sin vueltas (sin punto fijo)\n",
    "\n",
    "\n"
   ]
  },
  {
   "cell_type": "code",
   "execution_count": null,
   "id": "fb61976a",
   "metadata": {},
   "outputs": [],
   "source": [
    "Vlogharvest(x,p) = p[1]*x*x/(3*p[2])*(x-3*p[2]/2)+p[3]*x\n",
    "@manipulate throttle=.05 for  H=0.2:0.001:0.25,S=-0.1:0.01:0.12, tmax=10.0:5.0:100.0\n",
    "    x0 = 0.5+sqrt(0.25-H)\n",
    "    potential1D(Vlogharvest,x0,tmax,[1.0,1.0,H],10.0,S,(u)->(u<0);xlims=[0.0,1.0])\n",
    "end"
   ]
  }
 ],
 "metadata": {
  "@webio": {
   "lastCommId": "18eda9150f8f479aa187ec3259281e0d",
   "lastKernelId": "5abef8bf-4628-4402-ae12-af48d94e9eea"
  },
  "kernelspec": {
   "display_name": "Julia 1.6.5",
   "language": "julia",
   "name": "julia-1.6"
  },
  "language_info": {
   "file_extension": ".jl",
   "mimetype": "application/julia",
   "name": "julia",
   "version": "1.6.5"
  },
  "toc": {
   "base_numbering": 1,
   "nav_menu": {},
   "number_sections": true,
   "sideBar": true,
   "skip_h1_title": false,
   "title_cell": "Table of Contents",
   "title_sidebar": "Contents",
   "toc_cell": false,
   "toc_position": {
    "height": "calc(100% - 180px)",
    "left": "10px",
    "top": "150px",
    "width": "320px"
   },
   "toc_section_display": true,
   "toc_window_display": true
  },
  "varInspector": {
   "cols": {
    "lenName": 16,
    "lenType": 16,
    "lenVar": 40
   },
   "kernels_config": {
    "python": {
     "delete_cmd_postfix": "",
     "delete_cmd_prefix": "del ",
     "library": "var_list.py",
     "varRefreshCmd": "print(var_dic_list())"
    },
    "r": {
     "delete_cmd_postfix": ") ",
     "delete_cmd_prefix": "rm(",
     "library": "var_list.r",
     "varRefreshCmd": "cat(var_dic_list()) "
    }
   },
   "types_to_exclude": [
    "module",
    "function",
    "builtin_function_or_method",
    "instance",
    "_Feature"
   ],
   "window_display": true
  }
 },
 "nbformat": 4,
 "nbformat_minor": 5
}
