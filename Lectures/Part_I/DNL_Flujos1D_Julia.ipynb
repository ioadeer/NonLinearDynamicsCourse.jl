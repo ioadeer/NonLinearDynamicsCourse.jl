{
 "cells": [
  {
   "cell_type": "code",
   "execution_count": 1,
   "id": "2254df9f",
   "metadata": {
    "ExecuteTime": {
     "end_time": "2022-01-27T02:04:17.904000-03:00",
     "start_time": "2022-01-27T05:04:02.207Z"
    }
   },
   "outputs": [
    {
     "data": {
      "application/vnd.webio.node+json": {
       "children": [],
       "instanceArgs": {
        "namespace": "html",
        "tag": "div"
       },
       "nodeType": "DOM",
       "props": {},
       "type": "node"
      },
      "text/html": [
       "<div style=\"padding: 1em; background-color: #f8d6da; border: 1px solid #f5c6cb; font-weight: bold;\">\n",
       "<p>The WebIO Jupyter extension was not detected. See the\n",
       "<a href=\"https://juliagizmos.github.io/WebIO.jl/latest/providers/ijulia/\" target=\"_blank\">\n",
       "    WebIO Jupyter integration documentation\n",
       "</a>\n",
       "for more information.\n",
       "</div>\n"
      ],
      "text/plain": [
       "WebIO._IJuliaInit()"
      ]
     },
     "metadata": {
      "application/vnd.webio.node+json": {
       "kernelId": "3fc7bb62-8e80-4615-87cb-b83688e6e5dd"
      }
     },
     "output_type": "display_data"
    }
   ],
   "source": [
    "using Interact, Plots, DifferentialEquations, BifurcationKit, Setfield\n",
    "using NonLinearDynamicsCourse"
   ]
  },
  {
   "cell_type": "markdown",
   "id": "f8c2d1ee",
   "metadata": {},
   "source": [
    "# CLASE 1"
   ]
  },
  {
   "cell_type": "markdown",
   "id": "f96aaaff",
   "metadata": {},
   "source": [
    "# Ecuacion diferencial lineal. \n",
    "\n",
    "## Crecimiento Exponencial\n",
    "\n",
    "Vamos a comenzar con la ecuacion diferencial mas sencilla que tiene al menos un punto fijo y que sirve para modelar, aún en una versión muy simplificada un comportamiento observado en el mundo natural.\n",
    "\n",
    "Esta es la **ecuación diferencial lineal** sin ningun factor ni constante:\n",
    "\n",
    "$\\displaystyle \\frac{dx}{dt} = x$ \n",
    "\n",
    "Y corresponde a un **crecimiento exponencial**. De hecho podria decirse que el crecimiento exponencial queda definido por esta ecuacion: la función solución $x(t)$ es aquella cuya derivada es igual a si misma punto a punto, es decir que **su crecimiento es directamente proporcional a su magnitud**. Esta es la famosa funcion exponencial $x(t) = e^t$.\n",
    "\n",
    "Para una introducción amena y con algo de historia de por que esa es la función de crecimiento mas \"natural\" pueden verse los videos de Numberphile (https://www.youtube.com/watch?v=AuA2EAgAegE) o de 3Blue1Brown (https://www.youtube.com/watch?v=m2MIpDrF7Es).\n",
    "\n",
    "Una forma rápida de ver por qué la derivada (y la integral definida) de $e^t$ es igual a sí misma puede verse si aceptamos como definicion de la funcion exponencial lo siguiente (para los que conozcan el desarrollo de Taylor esto es como algo que se muerde la cola pero de hecho es como se calcula numericamente esta funcion):\n",
    "\n",
    "$\\displaystyle e^t = 1+t+\\displaystyle \\frac{t^2}{2}+\\frac{t^3}{2.3}+\\frac{t^4}{2.3.4}+\\frac{t^5}{2.3.4.5}+ ...$\n",
    "\n",
    "Si derivamos termino a termino esta expresion el $1$ desaparece, el término $t$ se transforma en $1$, $t^2/2$ se transforma en $t$ y asi sucesivamente cada termino se transforma en el de la izquierda y la serie es la misma es decir que la derivada de $e(t)$ es igual a si misma. De forma similar, al hacer la integral definida desde $-\\infty$ da un $1$ al integrar hasta $0$ y luego un termino $t$ al integrar el $1$ y asi sucesivamente cada termino se transforma en el de la derecha. \n",
    "\n",
    "Es esta es la unica funcion que tiene esta propiedad? En realidad sí, pero a menos de un factor multiplicativo. Es decir que $x(t)=x_0e^t$ tambien es solucion (con $x_0$ un numero real) ya que lo único que hace es multiplicar a cada termino por un factor constante que se preserva en la derivada. \n",
    "\n",
    "Entonces, las ecuaciones diferenciales no tienen solucion unica? Si, pero es necesario especificar una **condicion inicial** (en realidad tantas como variables pero aca tenemos sólo una). Recordemos que el sistema dinamico (en este caso dado por una sola ecuacion diferencial) determinaba el flujo en el espacio de fases, que en este caso corresponde a la recta de los reales. Por lo tanto, las infinitas soluciones $x(t)=x_0e^t$ corresponden a las infinitas condiciones iniciales $x_0$, ya que $x(t=0)=x_0$, y una solucion particular para una condicion inicial dada corresponde a una trayectoria en ese espacio de fases.\n"
   ]
  },
  {
   "cell_type": "markdown",
   "id": "7bda25ef",
   "metadata": {},
   "source": [
    "## Tasa de Crecimiento (Decrecimiento) exponencial\n",
    "\n",
    "Una forma mas general de la ecuacion diferencial lineal es\n",
    "\n",
    "$\\displaystyle \\frac{dx}{dt} = ax$ \n",
    "\n",
    "con $a$ un número real. En este caso la solución va a ser una función que derivada es igual a si misma multiplicada por la constante $a$. Tomando como base la definición de la exponencial como serie no es difícil ver que\n",
    "\n",
    "$\\displaystyle e^{at} = 1+at+\\displaystyle \\frac{(at)^2}{2}+\\frac{(at)^3}{2.3}+\\frac{(at)^4}{2.3.4}+ ...$\n",
    "\n",
    "al ser derivada baja en uno el exponente de $t$ pero no el de $a$ entonces tenemos:\n",
    "\n",
    "$\\displaystyle \\frac{d}{dt} e^{at} = a+a^2t+\\displaystyle \\frac{a^3t^2}{2}+\\frac{a^4t^3}{2.3}+ ... = ae^{at} $\n",
    "\n",
    "O sea que satisface la ecuacion diferencial. Al igual que antes, si incorporamos la condicion inicial $x(t) = x_0 e^{at}$ es la solucion para una condicion inicial especifica (trayectoria). \n",
    "\n",
    "La constante $a$ representa la **tasa de crecimiento (o decrecimiento) exponencial**. \n",
    "\n",
    "Si $a<0$ tenemos un decrecimiento exponencial que se va aproximando a cero (tanto desde los positivos como desde los negativos) sin llegar nunca. En el espacio de fases todas las trayectorias convergen al $x=0$, por lo tanto este es un **atractor**.\n",
    "\n",
    "\n",
    "Y $x=0$ es un punto fijo porque evoluciona en si mismo ya que con esa condicion inicial $x(t)=0$. \n",
    "\n",
    "Si ahora volvemos al caso $a>0$, el origen $x=0$ sigue siendo un punto fijo pero ahora es un **repulsor**. Cualquier condicion inicial se aleja del cero tanto para $+\\infty$ como para $-\\infty$\n",
    "\n"
   ]
  },
  {
   "cell_type": "markdown",
   "id": "b4acc8e0",
   "metadata": {},
   "source": [
    "# Ecuacion diferencial lineal más general\n",
    "\n",
    "La ecuacion anterior es lineal porque la funcion del miembro derecho (tambien llamada campo vector que de forma general vamos a denotar como $f(x)$) es lineal con respecto a la variable ($ax$). Pero la forma mas general de una función lineal incorpora una constante con lo cual tenemos la ecuacion diferencial lineal no homogénea.\n",
    "\n",
    "$\\displaystyle \\frac{dx}{dt} = ax+b$ \n",
    "\n",
    "con $b$ otra constante real. \n",
    "A partir de ahora (porque es practica habitual y para ahorrar espoacio vertical) vamos a reemplazar la derivada temporal por el punto arriba de la funcion, es decir que la ecuacion anterior la escribimos como \n",
    "\n",
    "$\\dot{x} = ax+b$\n",
    "\n",
    "Para encontrar la solución en lugar de seguir usando la serie, vamos a usar una estrategia muy recurrente y util: hacer un cambio de coordenadas. En este caso va a ser un cambio de coordenadas lineal. \n",
    "\n",
    "El primer paso es calcular donde está el punto fijo, es decir para que valor de $x$ se cumple que $f(x)=0$. En este caso el único punto fijo está en $x_*=-b/a$ (la notacion con estrella vamos a utilizarla tambien para distinguir los puntos fijos). De hecho no es dificil ver que **las ecuaciones lineales solo pueden tener un punto fijo** (sacando el caso \"patologico\" en que $a=0$) porque  resolver geometricamente $ax+b=0$ equivale a calcular el punto en el que una funcion lineal (una recta) corta el eje horizontal. Y esto de forma genérica sólo ocurre en un punto.\n",
    "\n",
    "El cambio de coordenadas que vamos a hacer (y que vamos a repetir muchas veces en lo que sigue) es llevar el punto fijo al origen. Para eso creamos una nueva variable $\\chi=x+b/a$. En la nueva variable la ecuación diferencial queda escrita como \n",
    "\n",
    "$\\dot{\\chi} = a(\\chi-b/a)+b = a\\chi $ \n",
    "\n",
    "Es decir que logramos la delicia de la matematica: volvimos al caso anterior! Ya conocemos la solucion general $\\chi(t)=A e^{at}$ (ojo que acá pusimos $A$ en lugar de $x_0$ porque en este caso la constante multiplicativa no es la condicion inicial). \n",
    "\n",
    "Si tenemos ganas de hacer un poco de cuentas podemos volver a la variable original y fijar la constante multiplicativa a partir de la condicion inicial. Pero no lo vamos a hacer acá porque el espíritu es poder aplicar la interpretación geométrica toda vez que sea posible, representar todo en el espacio de fases antes que en expresiones analíticas cerradas (sobre todo porque despues con los sistemas no lineales esto último es imposible).\n",
    "\n",
    "Entonces lo que tenemos es que el punto fijo (atractor si $a<0$ y repulsor si $a>0$) se desplazó del origen a $-b/a$ pero la estructura del retrato de fases es identica que el caso anterior. O sea que lo unico que hizo el termino no homogéneo es corrernos el punto fijo sin ningún cambio en el flujo.\n",
    "\n",
    "\n",
    "Vamos a ver un ejemplo de un sistema \"real\" que obedece a esta ecuacion.\n"
   ]
  },
  {
   "cell_type": "markdown",
   "id": "f618ea2b",
   "metadata": {},
   "source": [
    "# Ley de enfriamiento de Newton\n",
    "\n",
    "En este caso la variable $x$ es la temperatura del objeto y R es su tasa de intercambio de calor (que depende del calor especifico y el area de contacto). $x_{eq}$ es la temperatura de equilibrio (temperatura ambiente).\n",
    "La evolucion de la temperatura esta dada por \n",
    "\n",
    "$\\dot{x} = -R(x-x_{eq})$\n",
    "\n",
    "Si bien está escrita de forma diferente es una ecuacion lineal no homogénea como la anterior con tasa $-R$ y termino constante $R/x_{eq}$. Pero escrita de esta forma queda mas claro que el punto fijo está en $x=x_{eq}$ y si restringimos a que $R$ sea positivo entonces ese punto fijo es atractor. Lo cual tiene sentido físico porque independientemente de cual sea la temperatura inicial del objeto va a terminar alcanzando la temperatura ambiente $x_eq$ ya sea que se enfrie un plato de pasta o se caliente bebida helada.\n",
    "\n",
    "Vamos a considerar $R$ y $x_{eq}$ como los parámetros de nuestro sistema y vamos a definir la ecuación usando una función de la variable $x$ y un vector de parametros $p$ ($p[1]=R$ y $p[2]=x_{eq}$)."
   ]
  },
  {
   "cell_type": "code",
   "execution_count": 2,
   "id": "d120bd8b",
   "metadata": {
    "ExecuteTime": {
     "end_time": "2022-01-27T02:04:23.960000-03:00",
     "start_time": "2022-01-27T05:04:05.326Z"
    }
   },
   "outputs": [
    {
     "data": {
      "text/plain": [
       "cooling (generic function with 1 method)"
      ]
     },
     "execution_count": 2,
     "metadata": {},
     "output_type": "execute_result"
    }
   ],
   "source": [
    "cooling(x,p,t) = -p[1]*(x-p[2])"
   ]
  },
  {
   "cell_type": "markdown",
   "id": "c6c76646",
   "metadata": {},
   "source": [
    "Luego definimos el problema usando la funcion ODEProblem de DifferentialEquations. El problema queda definido por la funcion (cooling), la condicion inicial (x0), el tiempo inicial (0) y final (tspan) y el vector de parametros $p=[R,x_{eq}]$)"
   ]
  },
  {
   "cell_type": "code",
   "execution_count": 3,
   "id": "c621c0f7",
   "metadata": {
    "ExecuteTime": {
     "end_time": "2022-01-27T02:04:24.659000-03:00",
     "start_time": "2022-01-27T05:04:07.535Z"
    }
   },
   "outputs": [
    {
     "data": {
      "text/plain": [
       "\u001b[36mODEProblem\u001b[0m with uType \u001b[36mInt64\u001b[0m and tType \u001b[36mFloat64\u001b[0m. In-place: \u001b[36mfalse\u001b[0m\n",
       "timespan: (0.0, 150.0)\n",
       "u0: 80"
      ]
     },
     "execution_count": 3,
     "metadata": {},
     "output_type": "execute_result"
    }
   ],
   "source": [
    "x0 = 80\n",
    "R = 0.03\n",
    "xeq = 25\n",
    "tspan = (0,150.0)\n",
    "prob = ODEProblem(cooling, x0, tspan, [R,xeq])"
   ]
  },
  {
   "cell_type": "markdown",
   "id": "9bedae1f",
   "metadata": {},
   "source": [
    "## Evolucion temporal \n",
    "Podemos graficar la solucion del sistema y para un valor particular del parametro y de la condicion inicial"
   ]
  },
  {
   "cell_type": "code",
   "execution_count": null,
   "id": "c926c0f5",
   "metadata": {
    "ExecuteTime": {
     "end_time": "2022-01-27T02:04:42.365000-03:00",
     "start_time": "2022-01-27T05:04:09.038Z"
    }
   },
   "outputs": [],
   "source": [
    "sol = solve(prob)\n",
    "plot(sol,size=(900,300),label=\"x(t)\",ylabel=\"x\")"
   ]
  },
  {
   "cell_type": "markdown",
   "id": "42284c47",
   "metadata": {},
   "source": [
    "## Multiples condiciones iniciales\n",
    "\n",
    "Usando EnsembleProblem y un vector de condiciones iniciales (x0_arr) podemos evolucionar varias condiciones iniciales al mismo tiempo\n"
   ]
  },
  {
   "cell_type": "code",
   "execution_count": null,
   "id": "2136b569",
   "metadata": {
    "ExecuteTime": {
     "end_time": "2022-01-27T02:04:51.429000-03:00",
     "start_time": "2022-01-27T05:04:50.133Z"
    }
   },
   "outputs": [],
   "source": [
    "x0_arr=10.0:5.0:80.0\n",
    "function prob_func(prob,i,repeat)\n",
    "  remake(prob,u0=x0_arr[i])\n",
    "end\n",
    "sol = solve(EnsembleProblem(prob,prob_func=prob_func),EnsembleThreads(),trajectories=length(x0_arr))\n",
    "plot(sol,ylabel=\"x\",size = (900,300))"
   ]
  },
  {
   "cell_type": "markdown",
   "id": "53a6d95d",
   "metadata": {},
   "source": [
    "## Interaccion\n",
    "usando @manipulate podemos darle un rango al parametro, la condicion incial y el tiempo maximo de integracion y jugar con eso de forma interactiva "
   ]
  },
  {
   "cell_type": "code",
   "execution_count": null,
   "id": "545271fd",
   "metadata": {
    "ExecuteTime": {
     "end_time": "2022-01-27T02:05:05.228000-03:00",
     "start_time": "2022-01-27T05:04:53.039Z"
    }
   },
   "outputs": [],
   "source": [
    "@manipulate throttle=.1 for R=0:0.02:1.0,x0=0:0.1:30,xeq=0:1.0:100.0,tmax=1.0:10:150\n",
    "    prob = ODEProblem(cooling, x0, (0,tmax), [R,xeq])\n",
    "    sol = solve(prob)\n",
    "    plot(sol,label=\"x(t)\",ylabel=\"x\",ylim=(0,100),size=(900,300))\n",
    "end"
   ]
  },
  {
   "cell_type": "markdown",
   "id": "77f77c98",
   "metadata": {},
   "source": [
    "## Potencial\n",
    "\n",
    "Todos los sistemas 1D se pueden escribir derivados de un Potencial. Un potencial $V(x)$ se define a partir de:\n",
    "\n",
    "$\\dot{x} = - \\frac{dV}{dx}$\n",
    "\n",
    "Es decir si la funcion de la derecha de la ecuacion diferencial $f(x)$ se puede escribir como la derivada de una funcion $V(x)$ (con un signo menos) entonces esa funcion es el potencial. Esa funcion siempre va a existir a menos de una constante arbitraria y se va a poder calcular integrando $f(x)$.\n",
    "\n",
    "Cual es la utilidad del potencial? Por ahora solo como una representacion. La dinámica temporal de la variable $x$ se puede interpretar también como el movimiento de una partícula con mucha friccion que se mueve bajo la accion de la gravedad en ese potencial. Los picos y valles de ese potencial representan los puntos fijos inestables y estables respectivamente. Las trayectorias $x(t)$ se mueven naturalmente hacia los pozos, minimos locales del potencial, y si son colocadas cerca de un pico se apartan del mismo.\n",
    "\n",
    "Para la Ley de Enfriamiento de Newton el potencial se puede calcular de forma explicita:\n",
    "\n",
    "$V(x) = Rx(x/2-x_{eq})$\n",
    "\n",
    "se puede verificar que:\n",
    "\n",
    "$\\frac{dV}{dx} = R(x-x_{eq})$\n",
    "\n",
    "La forma del potencial es una parabola que corta al eje horizontal en $x=0$ y $x=2x_{eq}$ son el minimo de potencial (punto fijo estable) en $x=x_{eq}$. Por lo tanto cualquier condicion inicial para $x$ va a evolucionar hacia el  fondo del pozo (no nos interesa aca la forma en la que se aproxima sino el destino final).\n"
   ]
  },
  {
   "cell_type": "markdown",
   "id": "3bd69313",
   "metadata": {},
   "source": [
    "# Flujos en 1D. \n",
    "\n",
    "Si bien lo que vimos antes también eran flujos en 1D ahora vamos a escribirlos de la forma mas general posible:\n",
    "\n",
    "$\\dot{x} = f(x)$\n",
    "\n",
    "Los puntos fijos seran todos aquellos valores $x_*$ para los cuales se cumple $f(x_*)=0$, es decir los **ceros** de la funcion. Y el flujo sobre el espacio de fases (la recta horizontal) va a tener solo dos sentidos posibles: hacia la derecha cuando $f(x)>0$ y hacia la izquierda cuando $f(x)<0$. \n",
    "\n",
    "Podemos incluir en un mismo grafico $f(x)$ en el eje vertical y $x$ con el flujo sobre la recta (espacio de fases) en el eje horizontal. Para una funcion arbitraria solo con graficarla tenemos los puntos fijos y los intervalos de positividad y negatividad me determinan el ordenamiento del flujo. Por ejemplo:\n",
    "\n",
    "<div>\n",
    "  <img src=\"../files/flujos1Dposneg.png\" width=\"700px\">\n",
    "</div>\n",
    "\n",
    "En este grafico podemos aplicar algunas de las primeras herramientas geométricas y **topológicas** de la dinámica (o mas formalmente de la teoría cualitativa de los sistemas dinámicos) sin necesidad de cálculos analíticos. \n",
    "\n",
    "El campo vector $f(x)$ puede ser una función muy complicada con muchos cruces del cero pero a partir de este gráfico queda completamente determinado el sentido del flujo en todo el espacio de fases (para mayor claridad cambiamos de color al cambiar el sentido), aunque no tengamos una expresión para $x(t)$. El sentido del flujo determina que puntos fijos seran atractores o repulsores y en este caso tenemos de izquierda a derecha: atractor-repulsor-atractor-repulsor-atractor. La alternancia de atractor repulsor es generica para cualquier función (por qué?). Esto implica que si **conozco los puntos fijos y la estabilidad de uno de ellos conozco el sentido del flujo en todo el espacio de fases**. Aca el sentido del flujo se refiere a las flechas rojas y verdes del grafico anterior y constituye una característica **topologica** del retrato de fases. No importa la posicion de los puntos fijos ni si el flujo va mas rapido o mas lento, lo que importa es la cantidad de puntos fijos y el sentido del flujo (o de forma equivalente su estabilidad que determina el sentido). Si esto no cambia para pequeñas perturbaciones de los parámetros del sistema se dice que el sistema es **estructuralmente estable** (o robusto). Si lo hace para perturbaciones no importa cuan pequeñas seas es porque estamos en una **bifurcación** (lo vamos a ver más adelante).\n",
    "\n",
    "Observamos tambien que cada vez que la función cruza el eje horizontal (punto fijo) con pendiente negativa el punto fijo es atractor (ya que una perturbacion hacia la derecha vuelve a la izquierda y viceversa), mientras que si la pendiente es positiva el punto fijo es repulsor (una perturbacion para la derecha se sigue moviendo a la derecha y lo mismo hacia el otro lado, la perturbacion se amplifica). \n",
    "\n",
    "Esto ultimo que indicamos como una observacion puede probarse que tiene caracter general: **la derivada de la funcion del campo vector  ($df/dx$) evaluada en el punto fijo me determina su estabilidad. Si la derivada es negativa el punto fijo es atractor y si la derivada es positiva es repulsor** \n",
    "\n",
    "Derivar la funcion y evaluarla en el punto fijo se conoce como **linealización**. Por qué? Porque para cualquier funcion $f$ la mejor aproximación lineal en un entorno de un punto $x_*$ equivale a la funcion evaluada en ese punto $f(x_*)$ (que es cero porque estamos en un punto fijo) sumado a la derivada (pendiente de la recta tangente a la funcion en ese punto esa es la interpretacion geometrica de la derivada) multiplicada por el apartamiento del punto $f'(x_*)(x-x*)$, donde usamos la prima $'$ para denotar la derivada con respecto a la variable $x$. Tener en cuenta que $f'(x_*)$ es una constante porque es la derivada evaluada en el punto fijo. Dicho de otra manera, podemos aproximar muy cerca del punto fijo a nuestro sistema dinamico no lineal como un sistema lineal:\n",
    "\n",
    "$\\dot{x}=f'(x_*)(x-x_*)$\n",
    "\n",
    "Es decir que en un entorno de un punto fijo atractor (si $f'(x_*)<0$ ) las trayectorias convergen como una exponencial decreciente al atractor, mientras que en un punto fijo repulsor (si $f'(x_*)>0$ ) las trayectorias divergen exponencialmente, al igual que en un sistema lineal. \n",
    "\n",
    "Otra forma de pensarlo es la siguiente: la función $f(x)$ se va a poder aproximar en un entorno del punto fijo $x_*$ como un desarrollo en potencias de $(x-x_*)$ (es lo que se conoce como desarrollo de Taylor):\n",
    "\n",
    "$f(x) = f'(x_*)(x-x_*)+\\frac{1}{2}f''(x_*)(x-x_*)^2+\\frac{1}{2.3}f'''(x_*)(x-x_*)^3+...$\n",
    "\n",
    "Cuando estoy suficientemente cerca del punto fijo, el término que domina es el lineal y entonces podemos aproximar nuestro sistema como uno lineal.\n",
    "\n",
    "Pero, qué pasa cuando $f(x)$ es tangente a la recta? Lo anterior deja de valer poque la derivada es cero, el término lineal no está presente y la mejor aproximación es una parábola (función cuadrática). Y que pasa cuando una parábola cruza el eje horizontal con los puntos fijos? Vamos a ver esto en seguida porque es el elemento central de la clase, pero antes vamos a ver un ejemplo clásico de sistema no lineal y su linealización.\n"
   ]
  },
  {
   "cell_type": "markdown",
   "id": "26ea65d2",
   "metadata": {},
   "source": [
    "# Ecuacion Logistica\n",
    "\n",
    "En lo que sigue vamos a trabajar con modelos simples de dinámica de poblaciones donde la variable continua puede representar la densidad de una población (es decir tanto variable como el tiempo evolucionan de forma continua). En este contexto es usual denotar la tasa de crecimiento como $R$ (rate). Por lo tanto la ecuación:\n",
    "\n",
    "$\\dot{x} = Rx$\n",
    "\n",
    "corresponde al crecimiento exponencial ilimitado de la densidad de poblacion a tasa $R$. \n",
    "\n",
    "Pero El crecimiento exponencial no se puede mantener por siempre, por lo tanto si queremos modelar de una forma un poco mas realista una magnitud que crece con recursos limitados (que acá vamos a llamar capacidad $K$) tenemos que limitar la tasa de crecimiento $R$. Una forma posible (la mas simple) es limitar $R$ con una funcion lineal haciendo que se haga cero cuando la poblacion alcanza la capacidad maxima $K$. Es decir que nuestra tasa de crecimiento variable sea: $R(x)=R(1-x/K)$. Reemplazando este rate en la ecuacion original obtenemos la ecuación logística \n",
    "\n",
    "$ \\dot{x} = Rx(1-x/K) $ \n",
    "\n",
    "con $K>0$ y $R>0$.\n",
    "\n",
    "Este es el sistema mas simple que modela el crecimiento de una poblacion con capacidad K."
   ]
  },
  {
   "cell_type": "markdown",
   "id": "1638759a",
   "metadata": {},
   "source": [
    "## Análisis de puntos fijos y estabilidad \n",
    "\n",
    "Esta ecuacion presenta dos puntos fijos. Uno en $x=0$ y el otro en $x=K$. Para evaluar su estabilidad calculamos la derivada del campo vector $f(x)=Rx(1-x/K)$, que es igual a $f'(x)=R-2Rx/K$, y la evaluamos en los puntos fijos.\n",
    "\n",
    "- Punto fijo $x_*=0$: $f'(0)=R$ siempre positiva, el punto fijo es inestable (repulsor). En su vecindad, para una pequeña poblacion positiva se presenta un crecimiento exponencial con tasa R ya que 1 es mucho mayor que $x/K$.\n",
    "\n",
    "- Punto fijo $x_*=K$: $f'(K)=-R$ siempre negativa, el punto fijo es estable (atractor). Representa la poblacion maxima que alcanza el crecimiento.  Si $x$ es ligeramente inferior a $K$ entonces $(1-x/K)$ es positivo, la derivada es positiva y la población crece. Si en cambio $x$ es ligeramente superior a $K$ luego $(1-x/K)$ es negativo, la derivada es negativa y la población decrece hasta alcanzar el equilibrio en $x=K$.\n"
   ]
  },
  {
   "cell_type": "code",
   "execution_count": 2,
   "id": "ac8817ea",
   "metadata": {
    "ExecuteTime": {
     "end_time": "2022-01-27T02:05:52.318000-03:00",
     "start_time": "2022-01-27T05:05:52.219Z"
    }
   },
   "outputs": [
    {
     "data": {
      "text/plain": [
       "logistic (generic function with 1 method)"
      ]
     },
     "execution_count": 2,
     "metadata": {},
     "output_type": "execute_result"
    }
   ],
   "source": [
    "# Ecuacion Logistica\n",
    "logistic(x,p,t)=p[1]*x*(1.0-x/p[2])"
   ]
  },
  {
   "cell_type": "code",
   "execution_count": null,
   "id": "d1284122",
   "metadata": {
    "ExecuteTime": {
     "end_time": "2022-01-27T02:05:55.760000-03:00",
     "start_time": "2022-01-27T05:05:53.612Z"
    }
   },
   "outputs": [],
   "source": [
    "@manipulate throttle=.1 for R=0:0.02:2.0,K=0:0.01:2.0,x0=0:0.02:2.0,tmax=1.0:5:50\n",
    "    prob = ODEProblem(logistic, x0, (0,tmax), [R,K])\n",
    "    sol = solve(prob)\n",
    "    plot(sol,label=\"x(t)\",ylabel=\"x\",ylim=(0,2.0),size=(900,300))\n",
    "end"
   ]
  },
  {
   "cell_type": "code",
   "execution_count": null,
   "id": "b9559442",
   "metadata": {
    "ExecuteTime": {
     "end_time": "2022-01-27T02:06:04.236000-03:00",
     "start_time": "2022-01-27T05:06:03.327Z"
    }
   },
   "outputs": [],
   "source": [
    "# multiples trayectorias\n",
    "x0_arr=0.0:0.1:2.0\n",
    "prob = ODEProblem(logistic, 0.2, (0,50), [0.3,1.0])\n",
    "sol = solve(EnsembleProblem(prob,prob_func=prob_func),EnsembleThreads(),trajectories=length(x0_arr))\n",
    "plot(sol,ylabel=\"x\",size = (900,300))"
   ]
  },
  {
   "cell_type": "markdown",
   "id": "ef03f599",
   "metadata": {},
   "source": [
    "## Evolucion temporal y f(x)\n",
    "Ahora vamos graficar, ademas de la evolucion temporal, la funcion $f(x)$ para poder visualizar los puntos fijos y el flujo sobre la linea.\n",
    "\n",
    "Para eso vamos a usar la función del paquete del curso **flux1D** cuyos argumentos son (para el método básico)\n",
    "\n",
    "**flux1D(f,x0,tmax,p;xlims)**\n",
    "- f es una Funcion f(x,p,t) que define el flujo (devuelve la derivada)\n",
    "- x0 es un escalar que da la condicion inicial\n",
    "- tmax es un escalar que da el tiempo final de integracion (siempre parte de t=0)\n",
    "- p es un vector (array 1D) con los parametros del sistema. Aunque tengamos un solo parametro lo tenemos que pasar como un array de un solo elemento\n",
    "- la tupla xlims=(xmin,xmax) limita el grafico de f(x) entre el intervalo (xmin,xmax). Este parametro es opcional por eso esta despues del punto y coma\n",
    "\n",
    "\n",
    "Podemos ver que $f(x)$ es una parabola invertida que corta el eje horizontal siempre en los puntos fijos $x=0$ y $x=K$\n",
    "y siempre con la misma estabilidad. Es decir no hay cambios topológicos (no hay bifurcaciones).\n",
    "Por qué invertida? Cómo sería al revés en los positivos?\n"
   ]
  },
  {
   "cell_type": "code",
   "execution_count": 4,
   "id": "fec630b1",
   "metadata": {
    "ExecuteTime": {
     "end_time": "2022-01-27T02:06:08.868000-03:00",
     "start_time": "2022-01-27T05:06:07.196Z"
    }
   },
   "outputs": [
    {
     "data": {
      "application/vnd.webio.node+json": {
       "children": [
        {
         "children": [
          {
           "children": [
            {
             "children": [
              {
               "children": [
                {
                 "children": [
                  "R"
                 ],
                 "instanceArgs": {
                  "namespace": "html",
                  "tag": "label"
                 },
                 "nodeType": "DOM",
                 "props": {
                  "className": "interact ",
                  "style": {
                   "padding": "5px 10px 0px 10px"
                  }
                 },
                 "type": "node"
                }
               ],
               "instanceArgs": {
                "namespace": "html",
                "tag": "div"
               },
               "nodeType": "DOM",
               "props": {
                "className": "interact-flex-row-left"
               },
               "type": "node"
              },
              {
               "children": [
                {
                 "children": [],
                 "instanceArgs": {
                  "namespace": "html",
                  "tag": "input"
                 },
                 "nodeType": "DOM",
                 "props": {
                  "attributes": {
                   "data-bind": "numericValue: index, valueUpdate: 'input', event: {change: function (){this.changes(this.changes()+1)}}",
                   "orient": "horizontal",
                   "type": "range"
                  },
                  "className": "slider slider is-fullwidth",
                  "max": 101,
                  "min": 1,
                  "step": 1,
                  "style": {}
                 },
                 "type": "node"
                }
               ],
               "instanceArgs": {
                "namespace": "html",
                "tag": "div"
               },
               "nodeType": "DOM",
               "props": {
                "className": "interact-flex-row-center"
               },
               "type": "node"
              },
              {
               "children": [
                {
                 "children": [],
                 "instanceArgs": {
                  "namespace": "html",
                  "tag": "p"
                 },
                 "nodeType": "DOM",
                 "props": {
                  "attributes": {
                   "data-bind": "text: formatted_val"
                  }
                 },
                 "type": "node"
                }
               ],
               "instanceArgs": {
                "namespace": "html",
                "tag": "div"
               },
               "nodeType": "DOM",
               "props": {
                "className": "interact-flex-row-right"
               },
               "type": "node"
              }
             ],
             "instanceArgs": {
              "namespace": "html",
              "tag": "div"
             },
             "nodeType": "DOM",
             "props": {
              "className": "interact-flex-row interact-widget"
             },
             "type": "node"
            }
           ],
           "instanceArgs": {
            "handlers": {
             "changes": [
              "(function (val){return (val!=this.model[\"changes\"]()) ? (this.valueFromJulia[\"changes\"]=true, this.model[\"changes\"](val)) : undefined})"
             ],
             "index": [
              "(function (val){return (val!=this.model[\"index\"]()) ? (this.valueFromJulia[\"index\"]=true, this.model[\"index\"](val)) : undefined})"
             ]
            },
            "id": "9868383134663832101",
            "imports": {
             "data": [
              {
               "name": "knockout",
               "type": "js",
               "url": "/assetserver/2712bb0a7395d062608c2f218a74b700f6c76b99-knockout.js"
              },
              {
               "name": "knockout_punches",
               "type": "js",
               "url": "/assetserver/fb4445501a2be4ab82176667f844e40da26fa007-knockout_punches.js"
              },
              {
               "name": null,
               "type": "js",
               "url": "/assetserver/a8ea7d9192d5fa85c6fac26c72d7fece1e500138-all.js"
              },
              {
               "name": null,
               "type": "css",
               "url": "/assetserver/620a53798cfdb29a4a2142ce0588e9aadc351d94-style.css"
              },
              {
               "name": null,
               "type": "css",
               "url": "/assetserver/9f2f17f677abbfd015a7c6b0c0f09a2da809bee2-bulma_confined.min.css"
              }
             ],
             "type": "async_block"
            },
            "mount_callbacks": [
             "function () {\n    var handler = (function (ko, koPunches) {\n    ko.punches.enableAll();\n    ko.bindingHandlers.numericValue = {\n        init: function(element, valueAccessor, allBindings, data, context) {\n            var stringified = ko.observable(ko.unwrap(valueAccessor()));\n            stringified.subscribe(function(value) {\n                var val = parseFloat(value);\n                if (!isNaN(val)) {\n                    valueAccessor()(val);\n                }\n            });\n            valueAccessor().subscribe(function(value) {\n                var str = JSON.stringify(value);\n                if ((str == \"0\") && ([\"-0\", \"-0.\"].indexOf(stringified()) >= 0))\n                     return;\n                 if ([\"null\", \"\"].indexOf(str) >= 0)\n                     return;\n                stringified(str);\n            });\n            ko.applyBindingsToNode(\n                element,\n                {\n                    value: stringified,\n                    valueUpdate: allBindings.get('valueUpdate'),\n                },\n                context,\n            );\n        }\n    };\n    var json_data = {\"formatted_vals\":[\"0.0\",\"0.02\",\"0.04\",\"0.06\",\"0.08\",\"0.1\",\"0.12\",\"0.14\",\"0.16\",\"0.18\",\"0.2\",\"0.22\",\"0.24\",\"0.26\",\"0.28\",\"0.3\",\"0.32\",\"0.34\",\"0.36\",\"0.38\",\"0.4\",\"0.42\",\"0.44\",\"0.46\",\"0.48\",\"0.5\",\"0.52\",\"0.54\",\"0.56\",\"0.58\",\"0.6\",\"0.62\",\"0.64\",\"0.66\",\"0.68\",\"0.7\",\"0.72\",\"0.74\",\"0.76\",\"0.78\",\"0.8\",\"0.82\",\"0.84\",\"0.86\",\"0.88\",\"0.9\",\"0.92\",\"0.94\",\"0.96\",\"0.98\",\"1.0\",\"1.02\",\"1.04\",\"1.06\",\"1.08\",\"1.1\",\"1.12\",\"1.14\",\"1.16\",\"1.18\",\"1.2\",\"1.22\",\"1.24\",\"1.26\",\"1.28\",\"1.3\",\"1.32\",\"1.34\",\"1.36\",\"1.38\",\"1.4\",\"1.42\",\"1.44\",\"1.46\",\"1.48\",\"1.5\",\"1.52\",\"1.54\",\"1.56\",\"1.58\",\"1.6\",\"1.62\",\"1.64\",\"1.66\",\"1.68\",\"1.7\",\"1.72\",\"1.74\",\"1.76\",\"1.78\",\"1.8\",\"1.82\",\"1.84\",\"1.86\",\"1.88\",\"1.9\",\"1.92\",\"1.94\",\"1.96\",\"1.98\",\"2.0\"],\"changes\":WebIO.getval({\"name\":\"changes\",\"scope\":\"9868383134663832101\",\"id\":\"17480948514705851403\",\"type\":\"observable\"}),\"index\":WebIO.getval({\"name\":\"index\",\"scope\":\"9868383134663832101\",\"id\":\"2112244266798267618\",\"type\":\"observable\"})};\n    var self = this;\n    function AppViewModel() {\n        for (var key in json_data) {\n            var el = json_data[key];\n            this[key] = Array.isArray(el) ? ko.observableArray(el) : ko.observable(el);\n        }\n        \n        [this[\"formatted_val\"]=ko.computed(    function(){\n        return this.formatted_vals()[parseInt(this.index())-(1)];\n    }\n,this)]\n        [this[\"changes\"].subscribe((function (val){!(this.valueFromJulia[\"changes\"]) ? (WebIO.setval({\"name\":\"changes\",\"scope\":\"9868383134663832101\",\"id\":\"17480948514705851403\",\"type\":\"observable\"},val)) : undefined; return this.valueFromJulia[\"changes\"]=false}),self),this[\"index\"].subscribe((function (val){!(this.valueFromJulia[\"index\"]) ? (WebIO.setval({\"name\":\"index\",\"scope\":\"9868383134663832101\",\"id\":\"2112244266798267618\",\"type\":\"observable\"},val)) : undefined; return this.valueFromJulia[\"index\"]=false}),self)]\n        \n    }\n    self.model = new AppViewModel();\n    self.valueFromJulia = {};\n    for (var key in json_data) {\n        self.valueFromJulia[key] = false;\n    }\n    ko.applyBindings(self.model, self.dom);\n}\n);\n    (WebIO.importBlock({\"data\":[{\"name\":\"knockout\",\"type\":\"js\",\"url\":\"/assetserver/2712bb0a7395d062608c2f218a74b700f6c76b99-knockout.js\"},{\"name\":\"knockout_punches\",\"type\":\"js\",\"url\":\"/assetserver/fb4445501a2be4ab82176667f844e40da26fa007-knockout_punches.js\"}],\"type\":\"async_block\"})).then((imports) => handler.apply(this, imports));\n}\n"
            ],
            "observables": {
             "changes": {
              "id": "17480948514705851403",
              "sync": false,
              "value": 0
             },
             "index": {
              "id": "2112244266798267618",
              "sync": true,
              "value": 51
             }
            },
            "systemjs_options": null
           },
           "nodeType": "Scope",
           "props": {},
           "type": "node"
          }
         ],
         "instanceArgs": {
          "namespace": "html",
          "tag": "div"
         },
         "nodeType": "DOM",
         "props": {
          "className": "field interact-widget"
         },
         "type": "node"
        },
        {
         "children": [
          {
           "children": [
            {
             "children": [
              {
               "children": [
                {
                 "children": [
                  "K"
                 ],
                 "instanceArgs": {
                  "namespace": "html",
                  "tag": "label"
                 },
                 "nodeType": "DOM",
                 "props": {
                  "className": "interact ",
                  "style": {
                   "padding": "5px 10px 0px 10px"
                  }
                 },
                 "type": "node"
                }
               ],
               "instanceArgs": {
                "namespace": "html",
                "tag": "div"
               },
               "nodeType": "DOM",
               "props": {
                "className": "interact-flex-row-left"
               },
               "type": "node"
              },
              {
               "children": [
                {
                 "children": [],
                 "instanceArgs": {
                  "namespace": "html",
                  "tag": "input"
                 },
                 "nodeType": "DOM",
                 "props": {
                  "attributes": {
                   "data-bind": "numericValue: index, valueUpdate: 'input', event: {change: function (){this.changes(this.changes()+1)}}",
                   "orient": "horizontal",
                   "type": "range"
                  },
                  "className": "slider slider is-fullwidth",
                  "max": 200,
                  "min": 1,
                  "step": 1,
                  "style": {}
                 },
                 "type": "node"
                }
               ],
               "instanceArgs": {
                "namespace": "html",
                "tag": "div"
               },
               "nodeType": "DOM",
               "props": {
                "className": "interact-flex-row-center"
               },
               "type": "node"
              },
              {
               "children": [
                {
                 "children": [],
                 "instanceArgs": {
                  "namespace": "html",
                  "tag": "p"
                 },
                 "nodeType": "DOM",
                 "props": {
                  "attributes": {
                   "data-bind": "text: formatted_val"
                  }
                 },
                 "type": "node"
                }
               ],
               "instanceArgs": {
                "namespace": "html",
                "tag": "div"
               },
               "nodeType": "DOM",
               "props": {
                "className": "interact-flex-row-right"
               },
               "type": "node"
              }
             ],
             "instanceArgs": {
              "namespace": "html",
              "tag": "div"
             },
             "nodeType": "DOM",
             "props": {
              "className": "interact-flex-row interact-widget"
             },
             "type": "node"
            }
           ],
           "instanceArgs": {
            "handlers": {
             "changes": [
              "(function (val){return (val!=this.model[\"changes\"]()) ? (this.valueFromJulia[\"changes\"]=true, this.model[\"changes\"](val)) : undefined})"
             ],
             "index": [
              "(function (val){return (val!=this.model[\"index\"]()) ? (this.valueFromJulia[\"index\"]=true, this.model[\"index\"](val)) : undefined})"
             ]
            },
            "id": "18193555901765134699",
            "imports": {
             "data": [
              {
               "name": "knockout",
               "type": "js",
               "url": "/assetserver/2712bb0a7395d062608c2f218a74b700f6c76b99-knockout.js"
              },
              {
               "name": "knockout_punches",
               "type": "js",
               "url": "/assetserver/fb4445501a2be4ab82176667f844e40da26fa007-knockout_punches.js"
              },
              {
               "name": null,
               "type": "js",
               "url": "/assetserver/a8ea7d9192d5fa85c6fac26c72d7fece1e500138-all.js"
              },
              {
               "name": null,
               "type": "css",
               "url": "/assetserver/620a53798cfdb29a4a2142ce0588e9aadc351d94-style.css"
              },
              {
               "name": null,
               "type": "css",
               "url": "/assetserver/9f2f17f677abbfd015a7c6b0c0f09a2da809bee2-bulma_confined.min.css"
              }
             ],
             "type": "async_block"
            },
            "mount_callbacks": [
             "function () {\n    var handler = (function (ko, koPunches) {\n    ko.punches.enableAll();\n    ko.bindingHandlers.numericValue = {\n        init: function(element, valueAccessor, allBindings, data, context) {\n            var stringified = ko.observable(ko.unwrap(valueAccessor()));\n            stringified.subscribe(function(value) {\n                var val = parseFloat(value);\n                if (!isNaN(val)) {\n                    valueAccessor()(val);\n                }\n            });\n            valueAccessor().subscribe(function(value) {\n                var str = JSON.stringify(value);\n                if ((str == \"0\") && ([\"-0\", \"-0.\"].indexOf(stringified()) >= 0))\n                     return;\n                 if ([\"null\", \"\"].indexOf(str) >= 0)\n                     return;\n                stringified(str);\n            });\n            ko.applyBindingsToNode(\n                element,\n                {\n                    value: stringified,\n                    valueUpdate: allBindings.get('valueUpdate'),\n                },\n                context,\n            );\n        }\n    };\n    var json_data = {\"formatted_vals\":[\"0.01\",\"0.02\",\"0.03\",\"0.04\",\"0.05\",\"0.06\",\"0.07\",\"0.08\",\"0.09\",\"0.1\",\"0.11\",\"0.12\",\"0.13\",\"0.14\",\"0.15\",\"0.16\",\"0.17\",\"0.18\",\"0.19\",\"0.2\",\"0.21\",\"0.22\",\"0.23\",\"0.24\",\"0.25\",\"0.26\",\"0.27\",\"0.28\",\"0.29\",\"0.3\",\"0.31\",\"0.32\",\"0.33\",\"0.34\",\"0.35\",\"0.36\",\"0.37\",\"0.38\",\"0.39\",\"0.4\",\"0.41\",\"0.42\",\"0.43\",\"0.44\",\"0.45\",\"0.46\",\"0.47\",\"0.48\",\"0.49\",\"0.5\",\"0.51\",\"0.52\",\"0.53\",\"0.54\",\"0.55\",\"0.56\",\"0.57\",\"0.58\",\"0.59\",\"0.6\",\"0.61\",\"0.62\",\"0.63\",\"0.64\",\"0.65\",\"0.66\",\"0.67\",\"0.68\",\"0.69\",\"0.7\",\"0.71\",\"0.72\",\"0.73\",\"0.74\",\"0.75\",\"0.76\",\"0.77\",\"0.78\",\"0.79\",\"0.8\",\"0.81\",\"0.82\",\"0.83\",\"0.84\",\"0.85\",\"0.86\",\"0.87\",\"0.88\",\"0.89\",\"0.9\",\"0.91\",\"0.92\",\"0.93\",\"0.94\",\"0.95\",\"0.96\",\"0.97\",\"0.98\",\"0.99\",\"1.0\",\"1.01\",\"1.02\",\"1.03\",\"1.04\",\"1.05\",\"1.06\",\"1.07\",\"1.08\",\"1.09\",\"1.1\",\"1.11\",\"1.12\",\"1.13\",\"1.14\",\"1.15\",\"1.16\",\"1.17\",\"1.18\",\"1.19\",\"1.2\",\"1.21\",\"1.22\",\"1.23\",\"1.24\",\"1.25\",\"1.26\",\"1.27\",\"1.28\",\"1.29\",\"1.3\",\"1.31\",\"1.32\",\"1.33\",\"1.34\",\"1.35\",\"1.36\",\"1.37\",\"1.38\",\"1.39\",\"1.4\",\"1.41\",\"1.42\",\"1.43\",\"1.44\",\"1.45\",\"1.46\",\"1.47\",\"1.48\",\"1.49\",\"1.5\",\"1.51\",\"1.52\",\"1.53\",\"1.54\",\"1.55\",\"1.56\",\"1.57\",\"1.58\",\"1.59\",\"1.6\",\"1.61\",\"1.62\",\"1.63\",\"1.64\",\"1.65\",\"1.66\",\"1.67\",\"1.68\",\"1.69\",\"1.7\",\"1.71\",\"1.72\",\"1.73\",\"1.74\",\"1.75\",\"1.76\",\"1.77\",\"1.78\",\"1.79\",\"1.8\",\"1.81\",\"1.82\",\"1.83\",\"1.84\",\"1.85\",\"1.86\",\"1.87\",\"1.88\",\"1.89\",\"1.9\",\"1.91\",\"1.92\",\"1.93\",\"1.94\",\"1.95\",\"1.96\",\"1.97\",\"1.98\",\"1.99\",\"2.0\"],\"changes\":WebIO.getval({\"name\":\"changes\",\"scope\":\"18193555901765134699\",\"id\":\"9234867641224040246\",\"type\":\"observable\"}),\"index\":WebIO.getval({\"name\":\"index\",\"scope\":\"18193555901765134699\",\"id\":\"4728462105325643028\",\"type\":\"observable\"})};\n    var self = this;\n    function AppViewModel() {\n        for (var key in json_data) {\n            var el = json_data[key];\n            this[key] = Array.isArray(el) ? ko.observableArray(el) : ko.observable(el);\n        }\n        \n        [this[\"formatted_val\"]=ko.computed(    function(){\n        return this.formatted_vals()[parseInt(this.index())-(1)];\n    }\n,this)]\n        [this[\"changes\"].subscribe((function (val){!(this.valueFromJulia[\"changes\"]) ? (WebIO.setval({\"name\":\"changes\",\"scope\":\"18193555901765134699\",\"id\":\"9234867641224040246\",\"type\":\"observable\"},val)) : undefined; return this.valueFromJulia[\"changes\"]=false}),self),this[\"index\"].subscribe((function (val){!(this.valueFromJulia[\"index\"]) ? (WebIO.setval({\"name\":\"index\",\"scope\":\"18193555901765134699\",\"id\":\"4728462105325643028\",\"type\":\"observable\"},val)) : undefined; return this.valueFromJulia[\"index\"]=false}),self)]\n        \n    }\n    self.model = new AppViewModel();\n    self.valueFromJulia = {};\n    for (var key in json_data) {\n        self.valueFromJulia[key] = false;\n    }\n    ko.applyBindings(self.model, self.dom);\n}\n);\n    (WebIO.importBlock({\"data\":[{\"name\":\"knockout\",\"type\":\"js\",\"url\":\"/assetserver/2712bb0a7395d062608c2f218a74b700f6c76b99-knockout.js\"},{\"name\":\"knockout_punches\",\"type\":\"js\",\"url\":\"/assetserver/fb4445501a2be4ab82176667f844e40da26fa007-knockout_punches.js\"}],\"type\":\"async_block\"})).then((imports) => handler.apply(this, imports));\n}\n"
            ],
            "observables": {
             "changes": {
              "id": "9234867641224040246",
              "sync": false,
              "value": 0
             },
             "index": {
              "id": "4728462105325643028",
              "sync": true,
              "value": 100
             }
            },
            "systemjs_options": null
           },
           "nodeType": "Scope",
           "props": {},
           "type": "node"
          }
         ],
         "instanceArgs": {
          "namespace": "html",
          "tag": "div"
         },
         "nodeType": "DOM",
         "props": {
          "className": "field interact-widget"
         },
         "type": "node"
        },
        {
         "children": [
          {
           "children": [
            {
             "children": [
              {
               "children": [
                {
                 "children": [
                  "x0"
                 ],
                 "instanceArgs": {
                  "namespace": "html",
                  "tag": "label"
                 },
                 "nodeType": "DOM",
                 "props": {
                  "className": "interact ",
                  "style": {
                   "padding": "5px 10px 0px 10px"
                  }
                 },
                 "type": "node"
                }
               ],
               "instanceArgs": {
                "namespace": "html",
                "tag": "div"
               },
               "nodeType": "DOM",
               "props": {
                "className": "interact-flex-row-left"
               },
               "type": "node"
              },
              {
               "children": [
                {
                 "children": [],
                 "instanceArgs": {
                  "namespace": "html",
                  "tag": "input"
                 },
                 "nodeType": "DOM",
                 "props": {
                  "attributes": {
                   "data-bind": "numericValue: index, valueUpdate: 'input', event: {change: function (){this.changes(this.changes()+1)}}",
                   "orient": "horizontal",
                   "type": "range"
                  },
                  "className": "slider slider is-fullwidth",
                  "max": 101,
                  "min": 1,
                  "step": 1,
                  "style": {}
                 },
                 "type": "node"
                }
               ],
               "instanceArgs": {
                "namespace": "html",
                "tag": "div"
               },
               "nodeType": "DOM",
               "props": {
                "className": "interact-flex-row-center"
               },
               "type": "node"
              },
              {
               "children": [
                {
                 "children": [],
                 "instanceArgs": {
                  "namespace": "html",
                  "tag": "p"
                 },
                 "nodeType": "DOM",
                 "props": {
                  "attributes": {
                   "data-bind": "text: formatted_val"
                  }
                 },
                 "type": "node"
                }
               ],
               "instanceArgs": {
                "namespace": "html",
                "tag": "div"
               },
               "nodeType": "DOM",
               "props": {
                "className": "interact-flex-row-right"
               },
               "type": "node"
              }
             ],
             "instanceArgs": {
              "namespace": "html",
              "tag": "div"
             },
             "nodeType": "DOM",
             "props": {
              "className": "interact-flex-row interact-widget"
             },
             "type": "node"
            }
           ],
           "instanceArgs": {
            "handlers": {
             "changes": [
              "(function (val){return (val!=this.model[\"changes\"]()) ? (this.valueFromJulia[\"changes\"]=true, this.model[\"changes\"](val)) : undefined})"
             ],
             "index": [
              "(function (val){return (val!=this.model[\"index\"]()) ? (this.valueFromJulia[\"index\"]=true, this.model[\"index\"](val)) : undefined})"
             ]
            },
            "id": "5573521046135323285",
            "imports": {
             "data": [
              {
               "name": "knockout",
               "type": "js",
               "url": "/assetserver/2712bb0a7395d062608c2f218a74b700f6c76b99-knockout.js"
              },
              {
               "name": "knockout_punches",
               "type": "js",
               "url": "/assetserver/fb4445501a2be4ab82176667f844e40da26fa007-knockout_punches.js"
              },
              {
               "name": null,
               "type": "js",
               "url": "/assetserver/a8ea7d9192d5fa85c6fac26c72d7fece1e500138-all.js"
              },
              {
               "name": null,
               "type": "css",
               "url": "/assetserver/620a53798cfdb29a4a2142ce0588e9aadc351d94-style.css"
              },
              {
               "name": null,
               "type": "css",
               "url": "/assetserver/9f2f17f677abbfd015a7c6b0c0f09a2da809bee2-bulma_confined.min.css"
              }
             ],
             "type": "async_block"
            },
            "mount_callbacks": [
             "function () {\n    var handler = (function (ko, koPunches) {\n    ko.punches.enableAll();\n    ko.bindingHandlers.numericValue = {\n        init: function(element, valueAccessor, allBindings, data, context) {\n            var stringified = ko.observable(ko.unwrap(valueAccessor()));\n            stringified.subscribe(function(value) {\n                var val = parseFloat(value);\n                if (!isNaN(val)) {\n                    valueAccessor()(val);\n                }\n            });\n            valueAccessor().subscribe(function(value) {\n                var str = JSON.stringify(value);\n                if ((str == \"0\") && ([\"-0\", \"-0.\"].indexOf(stringified()) >= 0))\n                     return;\n                 if ([\"null\", \"\"].indexOf(str) >= 0)\n                     return;\n                stringified(str);\n            });\n            ko.applyBindingsToNode(\n                element,\n                {\n                    value: stringified,\n                    valueUpdate: allBindings.get('valueUpdate'),\n                },\n                context,\n            );\n        }\n    };\n    var json_data = {\"formatted_vals\":[\"0.0\",\"0.02\",\"0.04\",\"0.06\",\"0.08\",\"0.1\",\"0.12\",\"0.14\",\"0.16\",\"0.18\",\"0.2\",\"0.22\",\"0.24\",\"0.26\",\"0.28\",\"0.3\",\"0.32\",\"0.34\",\"0.36\",\"0.38\",\"0.4\",\"0.42\",\"0.44\",\"0.46\",\"0.48\",\"0.5\",\"0.52\",\"0.54\",\"0.56\",\"0.58\",\"0.6\",\"0.62\",\"0.64\",\"0.66\",\"0.68\",\"0.7\",\"0.72\",\"0.74\",\"0.76\",\"0.78\",\"0.8\",\"0.82\",\"0.84\",\"0.86\",\"0.88\",\"0.9\",\"0.92\",\"0.94\",\"0.96\",\"0.98\",\"1.0\",\"1.02\",\"1.04\",\"1.06\",\"1.08\",\"1.1\",\"1.12\",\"1.14\",\"1.16\",\"1.18\",\"1.2\",\"1.22\",\"1.24\",\"1.26\",\"1.28\",\"1.3\",\"1.32\",\"1.34\",\"1.36\",\"1.38\",\"1.4\",\"1.42\",\"1.44\",\"1.46\",\"1.48\",\"1.5\",\"1.52\",\"1.54\",\"1.56\",\"1.58\",\"1.6\",\"1.62\",\"1.64\",\"1.66\",\"1.68\",\"1.7\",\"1.72\",\"1.74\",\"1.76\",\"1.78\",\"1.8\",\"1.82\",\"1.84\",\"1.86\",\"1.88\",\"1.9\",\"1.92\",\"1.94\",\"1.96\",\"1.98\",\"2.0\"],\"changes\":WebIO.getval({\"name\":\"changes\",\"scope\":\"5573521046135323285\",\"id\":\"1612109867697794794\",\"type\":\"observable\"}),\"index\":WebIO.getval({\"name\":\"index\",\"scope\":\"5573521046135323285\",\"id\":\"7019835746590632195\",\"type\":\"observable\"})};\n    var self = this;\n    function AppViewModel() {\n        for (var key in json_data) {\n            var el = json_data[key];\n            this[key] = Array.isArray(el) ? ko.observableArray(el) : ko.observable(el);\n        }\n        \n        [this[\"formatted_val\"]=ko.computed(    function(){\n        return this.formatted_vals()[parseInt(this.index())-(1)];\n    }\n,this)]\n        [this[\"changes\"].subscribe((function (val){!(this.valueFromJulia[\"changes\"]) ? (WebIO.setval({\"name\":\"changes\",\"scope\":\"5573521046135323285\",\"id\":\"1612109867697794794\",\"type\":\"observable\"},val)) : undefined; return this.valueFromJulia[\"changes\"]=false}),self),this[\"index\"].subscribe((function (val){!(this.valueFromJulia[\"index\"]) ? (WebIO.setval({\"name\":\"index\",\"scope\":\"5573521046135323285\",\"id\":\"7019835746590632195\",\"type\":\"observable\"},val)) : undefined; return this.valueFromJulia[\"index\"]=false}),self)]\n        \n    }\n    self.model = new AppViewModel();\n    self.valueFromJulia = {};\n    for (var key in json_data) {\n        self.valueFromJulia[key] = false;\n    }\n    ko.applyBindings(self.model, self.dom);\n}\n);\n    (WebIO.importBlock({\"data\":[{\"name\":\"knockout\",\"type\":\"js\",\"url\":\"/assetserver/2712bb0a7395d062608c2f218a74b700f6c76b99-knockout.js\"},{\"name\":\"knockout_punches\",\"type\":\"js\",\"url\":\"/assetserver/fb4445501a2be4ab82176667f844e40da26fa007-knockout_punches.js\"}],\"type\":\"async_block\"})).then((imports) => handler.apply(this, imports));\n}\n"
            ],
            "observables": {
             "changes": {
              "id": "1612109867697794794",
              "sync": false,
              "value": 0
             },
             "index": {
              "id": "7019835746590632195",
              "sync": true,
              "value": 51
             }
            },
            "systemjs_options": null
           },
           "nodeType": "Scope",
           "props": {},
           "type": "node"
          }
         ],
         "instanceArgs": {
          "namespace": "html",
          "tag": "div"
         },
         "nodeType": "DOM",
         "props": {
          "className": "field interact-widget"
         },
         "type": "node"
        },
        {
         "children": [
          {
           "children": [
            {
             "children": [
              {
               "children": [
                {
                 "children": [
                  "tmax"
                 ],
                 "instanceArgs": {
                  "namespace": "html",
                  "tag": "label"
                 },
                 "nodeType": "DOM",
                 "props": {
                  "className": "interact ",
                  "style": {
                   "padding": "5px 10px 0px 10px"
                  }
                 },
                 "type": "node"
                }
               ],
               "instanceArgs": {
                "namespace": "html",
                "tag": "div"
               },
               "nodeType": "DOM",
               "props": {
                "className": "interact-flex-row-left"
               },
               "type": "node"
              },
              {
               "children": [
                {
                 "children": [],
                 "instanceArgs": {
                  "namespace": "html",
                  "tag": "input"
                 },
                 "nodeType": "DOM",
                 "props": {
                  "attributes": {
                   "data-bind": "numericValue: index, valueUpdate: 'input', event: {change: function (){this.changes(this.changes()+1)}}",
                   "orient": "horizontal",
                   "type": "range"
                  },
                  "className": "slider slider is-fullwidth",
                  "max": 6,
                  "min": 1,
                  "step": 1,
                  "style": {}
                 },
                 "type": "node"
                }
               ],
               "instanceArgs": {
                "namespace": "html",
                "tag": "div"
               },
               "nodeType": "DOM",
               "props": {
                "className": "interact-flex-row-center"
               },
               "type": "node"
              },
              {
               "children": [
                {
                 "children": [],
                 "instanceArgs": {
                  "namespace": "html",
                  "tag": "p"
                 },
                 "nodeType": "DOM",
                 "props": {
                  "attributes": {
                   "data-bind": "text: formatted_val"
                  }
                 },
                 "type": "node"
                }
               ],
               "instanceArgs": {
                "namespace": "html",
                "tag": "div"
               },
               "nodeType": "DOM",
               "props": {
                "className": "interact-flex-row-right"
               },
               "type": "node"
              }
             ],
             "instanceArgs": {
              "namespace": "html",
              "tag": "div"
             },
             "nodeType": "DOM",
             "props": {
              "className": "interact-flex-row interact-widget"
             },
             "type": "node"
            }
           ],
           "instanceArgs": {
            "handlers": {
             "changes": [
              "(function (val){return (val!=this.model[\"changes\"]()) ? (this.valueFromJulia[\"changes\"]=true, this.model[\"changes\"](val)) : undefined})"
             ],
             "index": [
              "(function (val){return (val!=this.model[\"index\"]()) ? (this.valueFromJulia[\"index\"]=true, this.model[\"index\"](val)) : undefined})"
             ]
            },
            "id": "3728034245224788230",
            "imports": {
             "data": [
              {
               "name": "knockout",
               "type": "js",
               "url": "/assetserver/2712bb0a7395d062608c2f218a74b700f6c76b99-knockout.js"
              },
              {
               "name": "knockout_punches",
               "type": "js",
               "url": "/assetserver/fb4445501a2be4ab82176667f844e40da26fa007-knockout_punches.js"
              },
              {
               "name": null,
               "type": "js",
               "url": "/assetserver/a8ea7d9192d5fa85c6fac26c72d7fece1e500138-all.js"
              },
              {
               "name": null,
               "type": "css",
               "url": "/assetserver/620a53798cfdb29a4a2142ce0588e9aadc351d94-style.css"
              },
              {
               "name": null,
               "type": "css",
               "url": "/assetserver/9f2f17f677abbfd015a7c6b0c0f09a2da809bee2-bulma_confined.min.css"
              }
             ],
             "type": "async_block"
            },
            "mount_callbacks": [
             "function () {\n    var handler = (function (ko, koPunches) {\n    ko.punches.enableAll();\n    ko.bindingHandlers.numericValue = {\n        init: function(element, valueAccessor, allBindings, data, context) {\n            var stringified = ko.observable(ko.unwrap(valueAccessor()));\n            stringified.subscribe(function(value) {\n                var val = parseFloat(value);\n                if (!isNaN(val)) {\n                    valueAccessor()(val);\n                }\n            });\n            valueAccessor().subscribe(function(value) {\n                var str = JSON.stringify(value);\n                if ((str == \"0\") && ([\"-0\", \"-0.\"].indexOf(stringified()) >= 0))\n                     return;\n                 if ([\"null\", \"\"].indexOf(str) >= 0)\n                     return;\n                stringified(str);\n            });\n            ko.applyBindingsToNode(\n                element,\n                {\n                    value: stringified,\n                    valueUpdate: allBindings.get('valueUpdate'),\n                },\n                context,\n            );\n        }\n    };\n    var json_data = {\"formatted_vals\":[\"1.0\",\"6.0\",\"11.0\",\"16.0\",\"21.0\",\"26.0\"],\"changes\":WebIO.getval({\"name\":\"changes\",\"scope\":\"3728034245224788230\",\"id\":\"2965447878542056802\",\"type\":\"observable\"}),\"index\":WebIO.getval({\"name\":\"index\",\"scope\":\"3728034245224788230\",\"id\":\"3504693184005843809\",\"type\":\"observable\"})};\n    var self = this;\n    function AppViewModel() {\n        for (var key in json_data) {\n            var el = json_data[key];\n            this[key] = Array.isArray(el) ? ko.observableArray(el) : ko.observable(el);\n        }\n        \n        [this[\"formatted_val\"]=ko.computed(    function(){\n        return this.formatted_vals()[parseInt(this.index())-(1)];\n    }\n,this)]\n        [this[\"changes\"].subscribe((function (val){!(this.valueFromJulia[\"changes\"]) ? (WebIO.setval({\"name\":\"changes\",\"scope\":\"3728034245224788230\",\"id\":\"2965447878542056802\",\"type\":\"observable\"},val)) : undefined; return this.valueFromJulia[\"changes\"]=false}),self),this[\"index\"].subscribe((function (val){!(this.valueFromJulia[\"index\"]) ? (WebIO.setval({\"name\":\"index\",\"scope\":\"3728034245224788230\",\"id\":\"3504693184005843809\",\"type\":\"observable\"},val)) : undefined; return this.valueFromJulia[\"index\"]=false}),self)]\n        \n    }\n    self.model = new AppViewModel();\n    self.valueFromJulia = {};\n    for (var key in json_data) {\n        self.valueFromJulia[key] = false;\n    }\n    ko.applyBindings(self.model, self.dom);\n}\n);\n    (WebIO.importBlock({\"data\":[{\"name\":\"knockout\",\"type\":\"js\",\"url\":\"/assetserver/2712bb0a7395d062608c2f218a74b700f6c76b99-knockout.js\"},{\"name\":\"knockout_punches\",\"type\":\"js\",\"url\":\"/assetserver/fb4445501a2be4ab82176667f844e40da26fa007-knockout_punches.js\"}],\"type\":\"async_block\"})).then((imports) => handler.apply(this, imports));\n}\n"
            ],
            "observables": {
             "changes": {
              "id": "2965447878542056802",
              "sync": false,
              "value": 0
             },
             "index": {
              "id": "3504693184005843809",
              "sync": true,
              "value": 3
             }
            },
            "systemjs_options": null
           },
           "nodeType": "Scope",
           "props": {},
           "type": "node"
          }
         ],
         "instanceArgs": {
          "namespace": "html",
          "tag": "div"
         },
         "nodeType": "DOM",
         "props": {
          "className": "field interact-widget"
         },
         "type": "node"
        },
        {
         "children": [
          {
           "children": [],
           "instanceArgs": {
            "id": "9400087627581163437",
            "name": "obs-node"
           },
           "nodeType": "ObservableNode",
           "props": {},
           "type": "node"
          }
         ],
         "instanceArgs": {
          "handlers": {},
          "id": "1758176146920250053",
          "imports": {
           "data": [],
           "type": "async_block"
          },
          "mount_callbacks": [],
          "observables": {
           "obs-node": {
            "id": "9400087627581163437",
            "sync": false,
            "value": {
             "children": [
              {
               "children": [],
               "instanceArgs": {
                "namespace": "html",
                "tag": "div"
               },
               "nodeType": "DOM",
               "props": {
                "setInnerHtml": "<img src=\"data:image/png;base64,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\" />"
               },
               "type": "node"
              }
             ],
             "instanceArgs": {
              "namespace": "html",
              "tag": "div"
             },
             "nodeType": "DOM",
             "props": {
              "className": "interact-flex-row interact-widget"
             },
             "type": "node"
            }
           }
          },
          "systemjs_options": null
         },
         "nodeType": "Scope",
         "props": {},
         "type": "node"
        }
       ],
       "instanceArgs": {
        "namespace": "html",
        "tag": "div"
       },
       "nodeType": "DOM",
       "props": {},
       "type": "node"
      },
      "text/html": [
       "<div\n",
       "    class=\"webio-mountpoint\"\n",
       "    data-webio-mountpoint=\"7979439184891037430\"\n",
       ">\n",
       "    <script>\n",
       "    (function(){\n",
       "    // Some integrations (namely, IJulia/Jupyter) use an alternate render pathway than\n",
       "    // just putting the html on the page. If WebIO isn't defined, then it's pretty likely\n",
       "    // that we're in one of those situations and the integration just isn't installed\n",
       "    // correctly.\n",
       "    if (typeof window.WebIO === \"undefined\") {\n",
       "        document\n",
       "            .querySelector('[data-webio-mountpoint=\"7979439184891037430\"]')\n",
       "            .innerHTML = (\n",
       "                '<div style=\"padding: 1em; background-color: #f8d6da; border: 1px solid #f5c6cb; font-weight: bold;\">' +\n",
       "                '<p><strong>WebIO not detected.</strong></p>' +\n",
       "                '<p>Please read ' +\n",
       "                '<a href=\"https://juliagizmos.github.io/WebIO.jl/latest/troubleshooting/not-detected/\" target=\"_blank\">the troubleshooting guide</a> ' +\n",
       "                'for more information on how to resolve this issue.</p>' +\n",
       "                '<p><a href=\"https://juliagizmos.github.io/WebIO.jl/latest/troubleshooting/not-detected/\" target=\"_blank\">https://juliagizmos.github.io/WebIO.jl/latest/troubleshooting/not-detected/</a></p>' +\n",
       "                '</div>'\n",
       "            );\n",
       "        return;\n",
       "    }\n",
       "    WebIO.mount(\n",
       "        document.querySelector('[data-webio-mountpoint=\"7979439184891037430\"]'),\n",
       "        {\"props\":{},\"nodeType\":\"DOM\",\"type\":\"node\",\"instanceArgs\":{\"namespace\":\"html\",\"tag\":\"div\"},\"children\":[{\"props\":{\"className\":\"field interact-widget\"},\"nodeType\":\"DOM\",\"type\":\"node\",\"instanceArgs\":{\"namespace\":\"html\",\"tag\":\"div\"},\"children\":[{\"props\":{},\"nodeType\":\"Scope\",\"type\":\"node\",\"instanceArgs\":{\"imports\":{\"data\":[{\"name\":\"knockout\",\"type\":\"js\",\"url\":\"\\/assetserver\\/2712bb0a7395d062608c2f218a74b700f6c76b99-knockout.js\"},{\"name\":\"knockout_punches\",\"type\":\"js\",\"url\":\"\\/assetserver\\/fb4445501a2be4ab82176667f844e40da26fa007-knockout_punches.js\"},{\"name\":null,\"type\":\"js\",\"url\":\"\\/assetserver\\/a8ea7d9192d5fa85c6fac26c72d7fece1e500138-all.js\"},{\"name\":null,\"type\":\"css\",\"url\":\"\\/assetserver\\/620a53798cfdb29a4a2142ce0588e9aadc351d94-style.css\"},{\"name\":null,\"type\":\"css\",\"url\":\"\\/assetserver\\/9f2f17f677abbfd015a7c6b0c0f09a2da809bee2-bulma_confined.min.css\"}],\"type\":\"async_block\"},\"id\":\"9868383134663832101\",\"handlers\":{\"changes\":[\"(function (val){return (val!=this.model[\\\"changes\\\"]()) ? (this.valueFromJulia[\\\"changes\\\"]=true, this.model[\\\"changes\\\"](val)) : undefined})\"],\"index\":[\"(function (val){return (val!=this.model[\\\"index\\\"]()) ? (this.valueFromJulia[\\\"index\\\"]=true, this.model[\\\"index\\\"](val)) : undefined})\"]},\"systemjs_options\":null,\"mount_callbacks\":[\"function () {\\n    var handler = (function (ko, koPunches) {\\n    ko.punches.enableAll();\\n    ko.bindingHandlers.numericValue = {\\n        init: function(element, valueAccessor, allBindings, data, context) {\\n            var stringified = ko.observable(ko.unwrap(valueAccessor()));\\n            stringified.subscribe(function(value) {\\n                var val = parseFloat(value);\\n                if (!isNaN(val)) {\\n                    valueAccessor()(val);\\n                }\\n            });\\n            valueAccessor().subscribe(function(value) {\\n                var str = JSON.stringify(value);\\n                if ((str == \\\"0\\\") && ([\\\"-0\\\", \\\"-0.\\\"].indexOf(stringified()) >= 0))\\n                     return;\\n                 if ([\\\"null\\\", \\\"\\\"].indexOf(str) >= 0)\\n                     return;\\n                stringified(str);\\n            });\\n            ko.applyBindingsToNode(\\n                element,\\n                {\\n                    value: stringified,\\n                    valueUpdate: allBindings.get('valueUpdate'),\\n                },\\n                context,\\n            );\\n        }\\n    };\\n    var json_data = {\\\"formatted_vals\\\":[\\\"0.0\\\",\\\"0.02\\\",\\\"0.04\\\",\\\"0.06\\\",\\\"0.08\\\",\\\"0.1\\\",\\\"0.12\\\",\\\"0.14\\\",\\\"0.16\\\",\\\"0.18\\\",\\\"0.2\\\",\\\"0.22\\\",\\\"0.24\\\",\\\"0.26\\\",\\\"0.28\\\",\\\"0.3\\\",\\\"0.32\\\",\\\"0.34\\\",\\\"0.36\\\",\\\"0.38\\\",\\\"0.4\\\",\\\"0.42\\\",\\\"0.44\\\",\\\"0.46\\\",\\\"0.48\\\",\\\"0.5\\\",\\\"0.52\\\",\\\"0.54\\\",\\\"0.56\\\",\\\"0.58\\\",\\\"0.6\\\",\\\"0.62\\\",\\\"0.64\\\",\\\"0.66\\\",\\\"0.68\\\",\\\"0.7\\\",\\\"0.72\\\",\\\"0.74\\\",\\\"0.76\\\",\\\"0.78\\\",\\\"0.8\\\",\\\"0.82\\\",\\\"0.84\\\",\\\"0.86\\\",\\\"0.88\\\",\\\"0.9\\\",\\\"0.92\\\",\\\"0.94\\\",\\\"0.96\\\",\\\"0.98\\\",\\\"1.0\\\",\\\"1.02\\\",\\\"1.04\\\",\\\"1.06\\\",\\\"1.08\\\",\\\"1.1\\\",\\\"1.12\\\",\\\"1.14\\\",\\\"1.16\\\",\\\"1.18\\\",\\\"1.2\\\",\\\"1.22\\\",\\\"1.24\\\",\\\"1.26\\\",\\\"1.28\\\",\\\"1.3\\\",\\\"1.32\\\",\\\"1.34\\\",\\\"1.36\\\",\\\"1.38\\\",\\\"1.4\\\",\\\"1.42\\\",\\\"1.44\\\",\\\"1.46\\\",\\\"1.48\\\",\\\"1.5\\\",\\\"1.52\\\",\\\"1.54\\\",\\\"1.56\\\",\\\"1.58\\\",\\\"1.6\\\",\\\"1.62\\\",\\\"1.64\\\",\\\"1.66\\\",\\\"1.68\\\",\\\"1.7\\\",\\\"1.72\\\",\\\"1.74\\\",\\\"1.76\\\",\\\"1.78\\\",\\\"1.8\\\",\\\"1.82\\\",\\\"1.84\\\",\\\"1.86\\\",\\\"1.88\\\",\\\"1.9\\\",\\\"1.92\\\",\\\"1.94\\\",\\\"1.96\\\",\\\"1.98\\\",\\\"2.0\\\"],\\\"changes\\\":WebIO.getval({\\\"name\\\":\\\"changes\\\",\\\"scope\\\":\\\"9868383134663832101\\\",\\\"id\\\":\\\"17480948514705851403\\\",\\\"type\\\":\\\"observable\\\"}),\\\"index\\\":WebIO.getval({\\\"name\\\":\\\"index\\\",\\\"scope\\\":\\\"9868383134663832101\\\",\\\"id\\\":\\\"2112244266798267618\\\",\\\"type\\\":\\\"observable\\\"})};\\n    var self = this;\\n    function AppViewModel() {\\n        for (var key in json_data) {\\n            var el = json_data[key];\\n            this[key] = Array.isArray(el) ? ko.observableArray(el) : ko.observable(el);\\n        }\\n        \\n        [this[\\\"formatted_val\\\"]=ko.computed(    function(){\\n        return this.formatted_vals()[parseInt(this.index())-(1)];\\n    }\\n,this)]\\n        [this[\\\"changes\\\"].subscribe((function (val){!(this.valueFromJulia[\\\"changes\\\"]) ? (WebIO.setval({\\\"name\\\":\\\"changes\\\",\\\"scope\\\":\\\"9868383134663832101\\\",\\\"id\\\":\\\"17480948514705851403\\\",\\\"type\\\":\\\"observable\\\"},val)) : undefined; return this.valueFromJulia[\\\"changes\\\"]=false}),self),this[\\\"index\\\"].subscribe((function (val){!(this.valueFromJulia[\\\"index\\\"]) ? (WebIO.setval({\\\"name\\\":\\\"index\\\",\\\"scope\\\":\\\"9868383134663832101\\\",\\\"id\\\":\\\"2112244266798267618\\\",\\\"type\\\":\\\"observable\\\"},val)) : undefined; return this.valueFromJulia[\\\"index\\\"]=false}),self)]\\n        \\n    }\\n    self.model = new AppViewModel();\\n    self.valueFromJulia = {};\\n    for (var key in json_data) {\\n        self.valueFromJulia[key] = false;\\n    }\\n    ko.applyBindings(self.model, self.dom);\\n}\\n);\\n    (WebIO.importBlock({\\\"data\\\":[{\\\"name\\\":\\\"knockout\\\",\\\"type\\\":\\\"js\\\",\\\"url\\\":\\\"\\/assetserver\\/2712bb0a7395d062608c2f218a74b700f6c76b99-knockout.js\\\"},{\\\"name\\\":\\\"knockout_punches\\\",\\\"type\\\":\\\"js\\\",\\\"url\\\":\\\"\\/assetserver\\/fb4445501a2be4ab82176667f844e40da26fa007-knockout_punches.js\\\"}],\\\"type\\\":\\\"async_block\\\"})).then((imports) => handler.apply(this, imports));\\n}\\n\"],\"observables\":{\"changes\":{\"sync\":false,\"id\":\"17480948514705851403\",\"value\":0},\"index\":{\"sync\":true,\"id\":\"2112244266798267618\",\"value\":51}}},\"children\":[{\"props\":{\"className\":\"interact-flex-row interact-widget\"},\"nodeType\":\"DOM\",\"type\":\"node\",\"instanceArgs\":{\"namespace\":\"html\",\"tag\":\"div\"},\"children\":[{\"props\":{\"className\":\"interact-flex-row-left\"},\"nodeType\":\"DOM\",\"type\":\"node\",\"instanceArgs\":{\"namespace\":\"html\",\"tag\":\"div\"},\"children\":[{\"props\":{\"className\":\"interact \",\"style\":{\"padding\":\"5px 10px 0px 10px\"}},\"nodeType\":\"DOM\",\"type\":\"node\",\"instanceArgs\":{\"namespace\":\"html\",\"tag\":\"label\"},\"children\":[\"R\"]}]},{\"props\":{\"className\":\"interact-flex-row-center\"},\"nodeType\":\"DOM\",\"type\":\"node\",\"instanceArgs\":{\"namespace\":\"html\",\"tag\":\"div\"},\"children\":[{\"props\":{\"max\":101,\"min\":1,\"attributes\":{\"type\":\"range\",\"data-bind\":\"numericValue: index, valueUpdate: 'input', event: {change: function (){this.changes(this.changes()+1)}}\",\"orient\":\"horizontal\"},\"step\":1,\"className\":\"slider slider is-fullwidth\",\"style\":{}},\"nodeType\":\"DOM\",\"type\":\"node\",\"instanceArgs\":{\"namespace\":\"html\",\"tag\":\"input\"},\"children\":[]}]},{\"props\":{\"className\":\"interact-flex-row-right\"},\"nodeType\":\"DOM\",\"type\":\"node\",\"instanceArgs\":{\"namespace\":\"html\",\"tag\":\"div\"},\"children\":[{\"props\":{\"attributes\":{\"data-bind\":\"text: formatted_val\"}},\"nodeType\":\"DOM\",\"type\":\"node\",\"instanceArgs\":{\"namespace\":\"html\",\"tag\":\"p\"},\"children\":[]}]}]}]}]},{\"props\":{\"className\":\"field interact-widget\"},\"nodeType\":\"DOM\",\"type\":\"node\",\"instanceArgs\":{\"namespace\":\"html\",\"tag\":\"div\"},\"children\":[{\"props\":{},\"nodeType\":\"Scope\",\"type\":\"node\",\"instanceArgs\":{\"imports\":{\"data\":[{\"name\":\"knockout\",\"type\":\"js\",\"url\":\"\\/assetserver\\/2712bb0a7395d062608c2f218a74b700f6c76b99-knockout.js\"},{\"name\":\"knockout_punches\",\"type\":\"js\",\"url\":\"\\/assetserver\\/fb4445501a2be4ab82176667f844e40da26fa007-knockout_punches.js\"},{\"name\":null,\"type\":\"js\",\"url\":\"\\/assetserver\\/a8ea7d9192d5fa85c6fac26c72d7fece1e500138-all.js\"},{\"name\":null,\"type\":\"css\",\"url\":\"\\/assetserver\\/620a53798cfdb29a4a2142ce0588e9aadc351d94-style.css\"},{\"name\":null,\"type\":\"css\",\"url\":\"\\/assetserver\\/9f2f17f677abbfd015a7c6b0c0f09a2da809bee2-bulma_confined.min.css\"}],\"type\":\"async_block\"},\"id\":\"18193555901765134699\",\"handlers\":{\"changes\":[\"(function (val){return (val!=this.model[\\\"changes\\\"]()) ? (this.valueFromJulia[\\\"changes\\\"]=true, this.model[\\\"changes\\\"](val)) : undefined})\"],\"index\":[\"(function (val){return (val!=this.model[\\\"index\\\"]()) ? (this.valueFromJulia[\\\"index\\\"]=true, this.model[\\\"index\\\"](val)) : undefined})\"]},\"systemjs_options\":null,\"mount_callbacks\":[\"function () {\\n    var handler = (function (ko, koPunches) {\\n    ko.punches.enableAll();\\n    ko.bindingHandlers.numericValue = {\\n        init: function(element, valueAccessor, allBindings, data, context) {\\n            var stringified = ko.observable(ko.unwrap(valueAccessor()));\\n            stringified.subscribe(function(value) {\\n                var val = parseFloat(value);\\n                if (!isNaN(val)) {\\n                    valueAccessor()(val);\\n                }\\n            });\\n            valueAccessor().subscribe(function(value) {\\n                var str = JSON.stringify(value);\\n                if ((str == \\\"0\\\") && ([\\\"-0\\\", \\\"-0.\\\"].indexOf(stringified()) >= 0))\\n                     return;\\n                 if ([\\\"null\\\", \\\"\\\"].indexOf(str) >= 0)\\n                     return;\\n                stringified(str);\\n            });\\n            ko.applyBindingsToNode(\\n                element,\\n                {\\n                    value: stringified,\\n                    valueUpdate: allBindings.get('valueUpdate'),\\n                },\\n                context,\\n            );\\n        }\\n    };\\n    var json_data = {\\\"formatted_vals\\\":[\\\"0.01\\\",\\\"0.02\\\",\\\"0.03\\\",\\\"0.04\\\",\\\"0.05\\\",\\\"0.06\\\",\\\"0.07\\\",\\\"0.08\\\",\\\"0.09\\\",\\\"0.1\\\",\\\"0.11\\\",\\\"0.12\\\",\\\"0.13\\\",\\\"0.14\\\",\\\"0.15\\\",\\\"0.16\\\",\\\"0.17\\\",\\\"0.18\\\",\\\"0.19\\\",\\\"0.2\\\",\\\"0.21\\\",\\\"0.22\\\",\\\"0.23\\\",\\\"0.24\\\",\\\"0.25\\\",\\\"0.26\\\",\\\"0.27\\\",\\\"0.28\\\",\\\"0.29\\\",\\\"0.3\\\",\\\"0.31\\\",\\\"0.32\\\",\\\"0.33\\\",\\\"0.34\\\",\\\"0.35\\\",\\\"0.36\\\",\\\"0.37\\\",\\\"0.38\\\",\\\"0.39\\\",\\\"0.4\\\",\\\"0.41\\\",\\\"0.42\\\",\\\"0.43\\\",\\\"0.44\\\",\\\"0.45\\\",\\\"0.46\\\",\\\"0.47\\\",\\\"0.48\\\",\\\"0.49\\\",\\\"0.5\\\",\\\"0.51\\\",\\\"0.52\\\",\\\"0.53\\\",\\\"0.54\\\",\\\"0.55\\\",\\\"0.56\\\",\\\"0.57\\\",\\\"0.58\\\",\\\"0.59\\\",\\\"0.6\\\",\\\"0.61\\\",\\\"0.62\\\",\\\"0.63\\\",\\\"0.64\\\",\\\"0.65\\\",\\\"0.66\\\",\\\"0.67\\\",\\\"0.68\\\",\\\"0.69\\\",\\\"0.7\\\",\\\"0.71\\\",\\\"0.72\\\",\\\"0.73\\\",\\\"0.74\\\",\\\"0.75\\\",\\\"0.76\\\",\\\"0.77\\\",\\\"0.78\\\",\\\"0.79\\\",\\\"0.8\\\",\\\"0.81\\\",\\\"0.82\\\",\\\"0.83\\\",\\\"0.84\\\",\\\"0.85\\\",\\\"0.86\\\",\\\"0.87\\\",\\\"0.88\\\",\\\"0.89\\\",\\\"0.9\\\",\\\"0.91\\\",\\\"0.92\\\",\\\"0.93\\\",\\\"0.94\\\",\\\"0.95\\\",\\\"0.96\\\",\\\"0.97\\\",\\\"0.98\\\",\\\"0.99\\\",\\\"1.0\\\",\\\"1.01\\\",\\\"1.02\\\",\\\"1.03\\\",\\\"1.04\\\",\\\"1.05\\\",\\\"1.06\\\",\\\"1.07\\\",\\\"1.08\\\",\\\"1.09\\\",\\\"1.1\\\",\\\"1.11\\\",\\\"1.12\\\",\\\"1.13\\\",\\\"1.14\\\",\\\"1.15\\\",\\\"1.16\\\",\\\"1.17\\\",\\\"1.18\\\",\\\"1.19\\\",\\\"1.2\\\",\\\"1.21\\\",\\\"1.22\\\",\\\"1.23\\\",\\\"1.24\\\",\\\"1.25\\\",\\\"1.26\\\",\\\"1.27\\\",\\\"1.28\\\",\\\"1.29\\\",\\\"1.3\\\",\\\"1.31\\\",\\\"1.32\\\",\\\"1.33\\\",\\\"1.34\\\",\\\"1.35\\\",\\\"1.36\\\",\\\"1.37\\\",\\\"1.38\\\",\\\"1.39\\\",\\\"1.4\\\",\\\"1.41\\\",\\\"1.42\\\",\\\"1.43\\\",\\\"1.44\\\",\\\"1.45\\\",\\\"1.46\\\",\\\"1.47\\\",\\\"1.48\\\",\\\"1.49\\\",\\\"1.5\\\",\\\"1.51\\\",\\\"1.52\\\",\\\"1.53\\\",\\\"1.54\\\",\\\"1.55\\\",\\\"1.56\\\",\\\"1.57\\\",\\\"1.58\\\",\\\"1.59\\\",\\\"1.6\\\",\\\"1.61\\\",\\\"1.62\\\",\\\"1.63\\\",\\\"1.64\\\",\\\"1.65\\\",\\\"1.66\\\",\\\"1.67\\\",\\\"1.68\\\",\\\"1.69\\\",\\\"1.7\\\",\\\"1.71\\\",\\\"1.72\\\",\\\"1.73\\\",\\\"1.74\\\",\\\"1.75\\\",\\\"1.76\\\",\\\"1.77\\\",\\\"1.78\\\",\\\"1.79\\\",\\\"1.8\\\",\\\"1.81\\\",\\\"1.82\\\",\\\"1.83\\\",\\\"1.84\\\",\\\"1.85\\\",\\\"1.86\\\",\\\"1.87\\\",\\\"1.88\\\",\\\"1.89\\\",\\\"1.9\\\",\\\"1.91\\\",\\\"1.92\\\",\\\"1.93\\\",\\\"1.94\\\",\\\"1.95\\\",\\\"1.96\\\",\\\"1.97\\\",\\\"1.98\\\",\\\"1.99\\\",\\\"2.0\\\"],\\\"changes\\\":WebIO.getval({\\\"name\\\":\\\"changes\\\",\\\"scope\\\":\\\"18193555901765134699\\\",\\\"id\\\":\\\"9234867641224040246\\\",\\\"type\\\":\\\"observable\\\"}),\\\"index\\\":WebIO.getval({\\\"name\\\":\\\"index\\\",\\\"scope\\\":\\\"18193555901765134699\\\",\\\"id\\\":\\\"4728462105325643028\\\",\\\"type\\\":\\\"observable\\\"})};\\n    var self = this;\\n    function AppViewModel() {\\n        for (var key in json_data) {\\n            var el = json_data[key];\\n            this[key] = Array.isArray(el) ? ko.observableArray(el) : ko.observable(el);\\n        }\\n        \\n        [this[\\\"formatted_val\\\"]=ko.computed(    function(){\\n        return this.formatted_vals()[parseInt(this.index())-(1)];\\n    }\\n,this)]\\n        [this[\\\"changes\\\"].subscribe((function (val){!(this.valueFromJulia[\\\"changes\\\"]) ? (WebIO.setval({\\\"name\\\":\\\"changes\\\",\\\"scope\\\":\\\"18193555901765134699\\\",\\\"id\\\":\\\"9234867641224040246\\\",\\\"type\\\":\\\"observable\\\"},val)) : undefined; return this.valueFromJulia[\\\"changes\\\"]=false}),self),this[\\\"index\\\"].subscribe((function (val){!(this.valueFromJulia[\\\"index\\\"]) ? (WebIO.setval({\\\"name\\\":\\\"index\\\",\\\"scope\\\":\\\"18193555901765134699\\\",\\\"id\\\":\\\"4728462105325643028\\\",\\\"type\\\":\\\"observable\\\"},val)) : undefined; return this.valueFromJulia[\\\"index\\\"]=false}),self)]\\n        \\n    }\\n    self.model = new AppViewModel();\\n    self.valueFromJulia = {};\\n    for (var key in json_data) {\\n        self.valueFromJulia[key] = false;\\n    }\\n    ko.applyBindings(self.model, self.dom);\\n}\\n);\\n    (WebIO.importBlock({\\\"data\\\":[{\\\"name\\\":\\\"knockout\\\",\\\"type\\\":\\\"js\\\",\\\"url\\\":\\\"\\/assetserver\\/2712bb0a7395d062608c2f218a74b700f6c76b99-knockout.js\\\"},{\\\"name\\\":\\\"knockout_punches\\\",\\\"type\\\":\\\"js\\\",\\\"url\\\":\\\"\\/assetserver\\/fb4445501a2be4ab82176667f844e40da26fa007-knockout_punches.js\\\"}],\\\"type\\\":\\\"async_block\\\"})).then((imports) => handler.apply(this, imports));\\n}\\n\"],\"observables\":{\"changes\":{\"sync\":false,\"id\":\"9234867641224040246\",\"value\":0},\"index\":{\"sync\":true,\"id\":\"4728462105325643028\",\"value\":100}}},\"children\":[{\"props\":{\"className\":\"interact-flex-row interact-widget\"},\"nodeType\":\"DOM\",\"type\":\"node\",\"instanceArgs\":{\"namespace\":\"html\",\"tag\":\"div\"},\"children\":[{\"props\":{\"className\":\"interact-flex-row-left\"},\"nodeType\":\"DOM\",\"type\":\"node\",\"instanceArgs\":{\"namespace\":\"html\",\"tag\":\"div\"},\"children\":[{\"props\":{\"className\":\"interact \",\"style\":{\"padding\":\"5px 10px 0px 10px\"}},\"nodeType\":\"DOM\",\"type\":\"node\",\"instanceArgs\":{\"namespace\":\"html\",\"tag\":\"label\"},\"children\":[\"K\"]}]},{\"props\":{\"className\":\"interact-flex-row-center\"},\"nodeType\":\"DOM\",\"type\":\"node\",\"instanceArgs\":{\"namespace\":\"html\",\"tag\":\"div\"},\"children\":[{\"props\":{\"max\":200,\"min\":1,\"attributes\":{\"type\":\"range\",\"data-bind\":\"numericValue: index, valueUpdate: 'input', event: {change: function (){this.changes(this.changes()+1)}}\",\"orient\":\"horizontal\"},\"step\":1,\"className\":\"slider slider is-fullwidth\",\"style\":{}},\"nodeType\":\"DOM\",\"type\":\"node\",\"instanceArgs\":{\"namespace\":\"html\",\"tag\":\"input\"},\"children\":[]}]},{\"props\":{\"className\":\"interact-flex-row-right\"},\"nodeType\":\"DOM\",\"type\":\"node\",\"instanceArgs\":{\"namespace\":\"html\",\"tag\":\"div\"},\"children\":[{\"props\":{\"attributes\":{\"data-bind\":\"text: formatted_val\"}},\"nodeType\":\"DOM\",\"type\":\"node\",\"instanceArgs\":{\"namespace\":\"html\",\"tag\":\"p\"},\"children\":[]}]}]}]}]},{\"props\":{\"className\":\"field interact-widget\"},\"nodeType\":\"DOM\",\"type\":\"node\",\"instanceArgs\":{\"namespace\":\"html\",\"tag\":\"div\"},\"children\":[{\"props\":{},\"nodeType\":\"Scope\",\"type\":\"node\",\"instanceArgs\":{\"imports\":{\"data\":[{\"name\":\"knockout\",\"type\":\"js\",\"url\":\"\\/assetserver\\/2712bb0a7395d062608c2f218a74b700f6c76b99-knockout.js\"},{\"name\":\"knockout_punches\",\"type\":\"js\",\"url\":\"\\/assetserver\\/fb4445501a2be4ab82176667f844e40da26fa007-knockout_punches.js\"},{\"name\":null,\"type\":\"js\",\"url\":\"\\/assetserver\\/a8ea7d9192d5fa85c6fac26c72d7fece1e500138-all.js\"},{\"name\":null,\"type\":\"css\",\"url\":\"\\/assetserver\\/620a53798cfdb29a4a2142ce0588e9aadc351d94-style.css\"},{\"name\":null,\"type\":\"css\",\"url\":\"\\/assetserver\\/9f2f17f677abbfd015a7c6b0c0f09a2da809bee2-bulma_confined.min.css\"}],\"type\":\"async_block\"},\"id\":\"5573521046135323285\",\"handlers\":{\"changes\":[\"(function (val){return (val!=this.model[\\\"changes\\\"]()) ? (this.valueFromJulia[\\\"changes\\\"]=true, this.model[\\\"changes\\\"](val)) : undefined})\"],\"index\":[\"(function (val){return (val!=this.model[\\\"index\\\"]()) ? (this.valueFromJulia[\\\"index\\\"]=true, this.model[\\\"index\\\"](val)) : undefined})\"]},\"systemjs_options\":null,\"mount_callbacks\":[\"function () {\\n    var handler = (function (ko, koPunches) {\\n    ko.punches.enableAll();\\n    ko.bindingHandlers.numericValue = {\\n        init: function(element, valueAccessor, allBindings, data, context) {\\n            var stringified = ko.observable(ko.unwrap(valueAccessor()));\\n            stringified.subscribe(function(value) {\\n                var val = parseFloat(value);\\n                if (!isNaN(val)) {\\n                    valueAccessor()(val);\\n                }\\n            });\\n            valueAccessor().subscribe(function(value) {\\n                var str = JSON.stringify(value);\\n                if ((str == \\\"0\\\") && ([\\\"-0\\\", \\\"-0.\\\"].indexOf(stringified()) >= 0))\\n                     return;\\n                 if ([\\\"null\\\", \\\"\\\"].indexOf(str) >= 0)\\n                     return;\\n                stringified(str);\\n            });\\n            ko.applyBindingsToNode(\\n                element,\\n                {\\n                    value: stringified,\\n                    valueUpdate: allBindings.get('valueUpdate'),\\n                },\\n                context,\\n            );\\n        }\\n    };\\n    var json_data = {\\\"formatted_vals\\\":[\\\"0.0\\\",\\\"0.02\\\",\\\"0.04\\\",\\\"0.06\\\",\\\"0.08\\\",\\\"0.1\\\",\\\"0.12\\\",\\\"0.14\\\",\\\"0.16\\\",\\\"0.18\\\",\\\"0.2\\\",\\\"0.22\\\",\\\"0.24\\\",\\\"0.26\\\",\\\"0.28\\\",\\\"0.3\\\",\\\"0.32\\\",\\\"0.34\\\",\\\"0.36\\\",\\\"0.38\\\",\\\"0.4\\\",\\\"0.42\\\",\\\"0.44\\\",\\\"0.46\\\",\\\"0.48\\\",\\\"0.5\\\",\\\"0.52\\\",\\\"0.54\\\",\\\"0.56\\\",\\\"0.58\\\",\\\"0.6\\\",\\\"0.62\\\",\\\"0.64\\\",\\\"0.66\\\",\\\"0.68\\\",\\\"0.7\\\",\\\"0.72\\\",\\\"0.74\\\",\\\"0.76\\\",\\\"0.78\\\",\\\"0.8\\\",\\\"0.82\\\",\\\"0.84\\\",\\\"0.86\\\",\\\"0.88\\\",\\\"0.9\\\",\\\"0.92\\\",\\\"0.94\\\",\\\"0.96\\\",\\\"0.98\\\",\\\"1.0\\\",\\\"1.02\\\",\\\"1.04\\\",\\\"1.06\\\",\\\"1.08\\\",\\\"1.1\\\",\\\"1.12\\\",\\\"1.14\\\",\\\"1.16\\\",\\\"1.18\\\",\\\"1.2\\\",\\\"1.22\\\",\\\"1.24\\\",\\\"1.26\\\",\\\"1.28\\\",\\\"1.3\\\",\\\"1.32\\\",\\\"1.34\\\",\\\"1.36\\\",\\\"1.38\\\",\\\"1.4\\\",\\\"1.42\\\",\\\"1.44\\\",\\\"1.46\\\",\\\"1.48\\\",\\\"1.5\\\",\\\"1.52\\\",\\\"1.54\\\",\\\"1.56\\\",\\\"1.58\\\",\\\"1.6\\\",\\\"1.62\\\",\\\"1.64\\\",\\\"1.66\\\",\\\"1.68\\\",\\\"1.7\\\",\\\"1.72\\\",\\\"1.74\\\",\\\"1.76\\\",\\\"1.78\\\",\\\"1.8\\\",\\\"1.82\\\",\\\"1.84\\\",\\\"1.86\\\",\\\"1.88\\\",\\\"1.9\\\",\\\"1.92\\\",\\\"1.94\\\",\\\"1.96\\\",\\\"1.98\\\",\\\"2.0\\\"],\\\"changes\\\":WebIO.getval({\\\"name\\\":\\\"changes\\\",\\\"scope\\\":\\\"5573521046135323285\\\",\\\"id\\\":\\\"1612109867697794794\\\",\\\"type\\\":\\\"observable\\\"}),\\\"index\\\":WebIO.getval({\\\"name\\\":\\\"index\\\",\\\"scope\\\":\\\"5573521046135323285\\\",\\\"id\\\":\\\"7019835746590632195\\\",\\\"type\\\":\\\"observable\\\"})};\\n    var self = this;\\n    function AppViewModel() {\\n        for (var key in json_data) {\\n            var el = json_data[key];\\n            this[key] = Array.isArray(el) ? ko.observableArray(el) : ko.observable(el);\\n        }\\n        \\n        [this[\\\"formatted_val\\\"]=ko.computed(    function(){\\n        return this.formatted_vals()[parseInt(this.index())-(1)];\\n    }\\n,this)]\\n        [this[\\\"changes\\\"].subscribe((function (val){!(this.valueFromJulia[\\\"changes\\\"]) ? (WebIO.setval({\\\"name\\\":\\\"changes\\\",\\\"scope\\\":\\\"5573521046135323285\\\",\\\"id\\\":\\\"1612109867697794794\\\",\\\"type\\\":\\\"observable\\\"},val)) : undefined; return this.valueFromJulia[\\\"changes\\\"]=false}),self),this[\\\"index\\\"].subscribe((function (val){!(this.valueFromJulia[\\\"index\\\"]) ? (WebIO.setval({\\\"name\\\":\\\"index\\\",\\\"scope\\\":\\\"5573521046135323285\\\",\\\"id\\\":\\\"7019835746590632195\\\",\\\"type\\\":\\\"observable\\\"},val)) : undefined; return this.valueFromJulia[\\\"index\\\"]=false}),self)]\\n        \\n    }\\n    self.model = new AppViewModel();\\n    self.valueFromJulia = {};\\n    for (var key in json_data) {\\n        self.valueFromJulia[key] = false;\\n    }\\n    ko.applyBindings(self.model, self.dom);\\n}\\n);\\n    (WebIO.importBlock({\\\"data\\\":[{\\\"name\\\":\\\"knockout\\\",\\\"type\\\":\\\"js\\\",\\\"url\\\":\\\"\\/assetserver\\/2712bb0a7395d062608c2f218a74b700f6c76b99-knockout.js\\\"},{\\\"name\\\":\\\"knockout_punches\\\",\\\"type\\\":\\\"js\\\",\\\"url\\\":\\\"\\/assetserver\\/fb4445501a2be4ab82176667f844e40da26fa007-knockout_punches.js\\\"}],\\\"type\\\":\\\"async_block\\\"})).then((imports) => handler.apply(this, imports));\\n}\\n\"],\"observables\":{\"changes\":{\"sync\":false,\"id\":\"1612109867697794794\",\"value\":0},\"index\":{\"sync\":true,\"id\":\"7019835746590632195\",\"value\":51}}},\"children\":[{\"props\":{\"className\":\"interact-flex-row interact-widget\"},\"nodeType\":\"DOM\",\"type\":\"node\",\"instanceArgs\":{\"namespace\":\"html\",\"tag\":\"div\"},\"children\":[{\"props\":{\"className\":\"interact-flex-row-left\"},\"nodeType\":\"DOM\",\"type\":\"node\",\"instanceArgs\":{\"namespace\":\"html\",\"tag\":\"div\"},\"children\":[{\"props\":{\"className\":\"interact \",\"style\":{\"padding\":\"5px 10px 0px 10px\"}},\"nodeType\":\"DOM\",\"type\":\"node\",\"instanceArgs\":{\"namespace\":\"html\",\"tag\":\"label\"},\"children\":[\"x0\"]}]},{\"props\":{\"className\":\"interact-flex-row-center\"},\"nodeType\":\"DOM\",\"type\":\"node\",\"instanceArgs\":{\"namespace\":\"html\",\"tag\":\"div\"},\"children\":[{\"props\":{\"max\":101,\"min\":1,\"attributes\":{\"type\":\"range\",\"data-bind\":\"numericValue: index, valueUpdate: 'input', event: {change: function (){this.changes(this.changes()+1)}}\",\"orient\":\"horizontal\"},\"step\":1,\"className\":\"slider slider is-fullwidth\",\"style\":{}},\"nodeType\":\"DOM\",\"type\":\"node\",\"instanceArgs\":{\"namespace\":\"html\",\"tag\":\"input\"},\"children\":[]}]},{\"props\":{\"className\":\"interact-flex-row-right\"},\"nodeType\":\"DOM\",\"type\":\"node\",\"instanceArgs\":{\"namespace\":\"html\",\"tag\":\"div\"},\"children\":[{\"props\":{\"attributes\":{\"data-bind\":\"text: formatted_val\"}},\"nodeType\":\"DOM\",\"type\":\"node\",\"instanceArgs\":{\"namespace\":\"html\",\"tag\":\"p\"},\"children\":[]}]}]}]}]},{\"props\":{\"className\":\"field interact-widget\"},\"nodeType\":\"DOM\",\"type\":\"node\",\"instanceArgs\":{\"namespace\":\"html\",\"tag\":\"div\"},\"children\":[{\"props\":{},\"nodeType\":\"Scope\",\"type\":\"node\",\"instanceArgs\":{\"imports\":{\"data\":[{\"name\":\"knockout\",\"type\":\"js\",\"url\":\"\\/assetserver\\/2712bb0a7395d062608c2f218a74b700f6c76b99-knockout.js\"},{\"name\":\"knockout_punches\",\"type\":\"js\",\"url\":\"\\/assetserver\\/fb4445501a2be4ab82176667f844e40da26fa007-knockout_punches.js\"},{\"name\":null,\"type\":\"js\",\"url\":\"\\/assetserver\\/a8ea7d9192d5fa85c6fac26c72d7fece1e500138-all.js\"},{\"name\":null,\"type\":\"css\",\"url\":\"\\/assetserver\\/620a53798cfdb29a4a2142ce0588e9aadc351d94-style.css\"},{\"name\":null,\"type\":\"css\",\"url\":\"\\/assetserver\\/9f2f17f677abbfd015a7c6b0c0f09a2da809bee2-bulma_confined.min.css\"}],\"type\":\"async_block\"},\"id\":\"3728034245224788230\",\"handlers\":{\"changes\":[\"(function (val){return (val!=this.model[\\\"changes\\\"]()) ? (this.valueFromJulia[\\\"changes\\\"]=true, this.model[\\\"changes\\\"](val)) : undefined})\"],\"index\":[\"(function (val){return (val!=this.model[\\\"index\\\"]()) ? (this.valueFromJulia[\\\"index\\\"]=true, this.model[\\\"index\\\"](val)) : undefined})\"]},\"systemjs_options\":null,\"mount_callbacks\":[\"function () {\\n    var handler = (function (ko, koPunches) {\\n    ko.punches.enableAll();\\n    ko.bindingHandlers.numericValue = {\\n        init: function(element, valueAccessor, allBindings, data, context) {\\n            var stringified = ko.observable(ko.unwrap(valueAccessor()));\\n            stringified.subscribe(function(value) {\\n                var val = parseFloat(value);\\n                if (!isNaN(val)) {\\n                    valueAccessor()(val);\\n                }\\n            });\\n            valueAccessor().subscribe(function(value) {\\n                var str = JSON.stringify(value);\\n                if ((str == \\\"0\\\") && ([\\\"-0\\\", \\\"-0.\\\"].indexOf(stringified()) >= 0))\\n                     return;\\n                 if ([\\\"null\\\", \\\"\\\"].indexOf(str) >= 0)\\n                     return;\\n                stringified(str);\\n            });\\n            ko.applyBindingsToNode(\\n                element,\\n                {\\n                    value: stringified,\\n                    valueUpdate: allBindings.get('valueUpdate'),\\n                },\\n                context,\\n            );\\n        }\\n    };\\n    var json_data = {\\\"formatted_vals\\\":[\\\"1.0\\\",\\\"6.0\\\",\\\"11.0\\\",\\\"16.0\\\",\\\"21.0\\\",\\\"26.0\\\"],\\\"changes\\\":WebIO.getval({\\\"name\\\":\\\"changes\\\",\\\"scope\\\":\\\"3728034245224788230\\\",\\\"id\\\":\\\"2965447878542056802\\\",\\\"type\\\":\\\"observable\\\"}),\\\"index\\\":WebIO.getval({\\\"name\\\":\\\"index\\\",\\\"scope\\\":\\\"3728034245224788230\\\",\\\"id\\\":\\\"3504693184005843809\\\",\\\"type\\\":\\\"observable\\\"})};\\n    var self = this;\\n    function AppViewModel() {\\n        for (var key in json_data) {\\n            var el = json_data[key];\\n            this[key] = Array.isArray(el) ? ko.observableArray(el) : ko.observable(el);\\n        }\\n        \\n        [this[\\\"formatted_val\\\"]=ko.computed(    function(){\\n        return this.formatted_vals()[parseInt(this.index())-(1)];\\n    }\\n,this)]\\n        [this[\\\"changes\\\"].subscribe((function (val){!(this.valueFromJulia[\\\"changes\\\"]) ? (WebIO.setval({\\\"name\\\":\\\"changes\\\",\\\"scope\\\":\\\"3728034245224788230\\\",\\\"id\\\":\\\"2965447878542056802\\\",\\\"type\\\":\\\"observable\\\"},val)) : undefined; return this.valueFromJulia[\\\"changes\\\"]=false}),self),this[\\\"index\\\"].subscribe((function (val){!(this.valueFromJulia[\\\"index\\\"]) ? (WebIO.setval({\\\"name\\\":\\\"index\\\",\\\"scope\\\":\\\"3728034245224788230\\\",\\\"id\\\":\\\"3504693184005843809\\\",\\\"type\\\":\\\"observable\\\"},val)) : undefined; return this.valueFromJulia[\\\"index\\\"]=false}),self)]\\n        \\n    }\\n    self.model = new AppViewModel();\\n    self.valueFromJulia = {};\\n    for (var key in json_data) {\\n        self.valueFromJulia[key] = false;\\n    }\\n    ko.applyBindings(self.model, self.dom);\\n}\\n);\\n    (WebIO.importBlock({\\\"data\\\":[{\\\"name\\\":\\\"knockout\\\",\\\"type\\\":\\\"js\\\",\\\"url\\\":\\\"\\/assetserver\\/2712bb0a7395d062608c2f218a74b700f6c76b99-knockout.js\\\"},{\\\"name\\\":\\\"knockout_punches\\\",\\\"type\\\":\\\"js\\\",\\\"url\\\":\\\"\\/assetserver\\/fb4445501a2be4ab82176667f844e40da26fa007-knockout_punches.js\\\"}],\\\"type\\\":\\\"async_block\\\"})).then((imports) => handler.apply(this, imports));\\n}\\n\"],\"observables\":{\"changes\":{\"sync\":false,\"id\":\"2965447878542056802\",\"value\":0},\"index\":{\"sync\":true,\"id\":\"3504693184005843809\",\"value\":3}}},\"children\":[{\"props\":{\"className\":\"interact-flex-row interact-widget\"},\"nodeType\":\"DOM\",\"type\":\"node\",\"instanceArgs\":{\"namespace\":\"html\",\"tag\":\"div\"},\"children\":[{\"props\":{\"className\":\"interact-flex-row-left\"},\"nodeType\":\"DOM\",\"type\":\"node\",\"instanceArgs\":{\"namespace\":\"html\",\"tag\":\"div\"},\"children\":[{\"props\":{\"className\":\"interact \",\"style\":{\"padding\":\"5px 10px 0px 10px\"}},\"nodeType\":\"DOM\",\"type\":\"node\",\"instanceArgs\":{\"namespace\":\"html\",\"tag\":\"label\"},\"children\":[\"tmax\"]}]},{\"props\":{\"className\":\"interact-flex-row-center\"},\"nodeType\":\"DOM\",\"type\":\"node\",\"instanceArgs\":{\"namespace\":\"html\",\"tag\":\"div\"},\"children\":[{\"props\":{\"max\":6,\"min\":1,\"attributes\":{\"type\":\"range\",\"data-bind\":\"numericValue: index, valueUpdate: 'input', event: {change: function (){this.changes(this.changes()+1)}}\",\"orient\":\"horizontal\"},\"step\":1,\"className\":\"slider slider is-fullwidth\",\"style\":{}},\"nodeType\":\"DOM\",\"type\":\"node\",\"instanceArgs\":{\"namespace\":\"html\",\"tag\":\"input\"},\"children\":[]}]},{\"props\":{\"className\":\"interact-flex-row-right\"},\"nodeType\":\"DOM\",\"type\":\"node\",\"instanceArgs\":{\"namespace\":\"html\",\"tag\":\"div\"},\"children\":[{\"props\":{\"attributes\":{\"data-bind\":\"text: formatted_val\"}},\"nodeType\":\"DOM\",\"type\":\"node\",\"instanceArgs\":{\"namespace\":\"html\",\"tag\":\"p\"},\"children\":[]}]}]}]}]},{\"props\":{},\"nodeType\":\"Scope\",\"type\":\"node\",\"instanceArgs\":{\"imports\":{\"data\":[],\"type\":\"async_block\"},\"id\":\"5511494993591992566\",\"handlers\":{},\"systemjs_options\":null,\"mount_callbacks\":[],\"observables\":{\"obs-node\":{\"sync\":false,\"id\":\"2706999171657579152\",\"value\":{\"props\":{\"className\":\"interact-flex-row interact-widget\"},\"nodeType\":\"DOM\",\"type\":\"node\",\"instanceArgs\":{\"namespace\":\"html\",\"tag\":\"div\"},\"children\":[{\"props\":{\"setInnerHtml\":\"<img src=\\\"data:image\\/png;base64,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\\\" \\/>\"},\"nodeType\":\"DOM\",\"type\":\"node\",\"instanceArgs\":{\"namespace\":\"html\",\"tag\":\"div\"},\"children\":[]}]}}}},\"children\":[{\"props\":{},\"nodeType\":\"ObservableNode\",\"type\":\"node\",\"instanceArgs\":{\"id\":\"2706999171657579152\",\"name\":\"obs-node\"},\"children\":[]}]}]},\n",
       "        window,\n",
       "    );\n",
       "    })()\n",
       "    </script>\n",
       "</div>\n"
      ],
      "text/plain": [
       "Node{WebIO.DOM}(WebIO.DOM(:html, :div), Any[Node{WebIO.DOM}(WebIO.DOM(:html, :div), Any[Scope(Node{WebIO.DOM}(WebIO.DOM(:html, :div), Any[Node{WebIO.DOM}(WebIO.DOM(:html, :div), Any[Node{WebIO.DOM}(WebIO.DOM(:html, :label), Any[\"R\"], Dict{Symbol, Any}(:className => \"interact \", :style => Dict{Any, Any}(:padding => \"5px 10px 0px 10px\")))], Dict{Symbol, Any}(:className => \"interact-flex-row-left\")), Node{WebIO.DOM}(WebIO.DOM(:html, :div), Any[Node{WebIO.DOM}(WebIO.DOM(:html, :input), Any[], Dict{Symbol, Any}(:max => 101, :min => 1, :attributes => Dict{Any, Any}(:type => \"range\", Symbol(\"data-bind\") => \"numericValue: index, valueUpdate: 'input', event: {change: function (){this.changes(this.changes()+1)}}\", \"orient\" => \"horizontal\"), :step => 1, :className => \"slider slider is-fullwidth\", :style => Dict{Any, Any}()))], Dict{Symbol, Any}(:className => \"interact-flex-row-center\")), Node{WebIO.DOM}(WebIO.DOM(:html, :div), Any[Node{WebIO.DOM}(WebIO.DOM(:html, :p), Any[], Dict{Symbol, Any}(:attributes => Dict(\"data-bind\" => \"text: formatted_val\")))], Dict{Symbol, Any}(:className => \"interact-flex-row-right\"))], Dict{Symbol, Any}(:className => \"interact-flex-row interact-widget\")), Dict{String, Tuple{Observables.AbstractObservable, Union{Nothing, Bool}}}(\"changes\" => (Observable{Int64} with 1 listeners. Value:\n",
       "0, nothing), \"index\" => (Observable{Any} with 2 listeners. Value:\n",
       "51, nothing)), Set{String}(), nothing, Asset[Asset(\"js\", \"knockout\", \"C:\\\\Users\\\\Camilo\\\\.julia\\\\packages\\\\Knockout\\\\3gjS1\\\\src\\\\..\\\\assets\\\\knockout.js\"), Asset(\"js\", \"knockout_punches\", \"C:\\\\Users\\\\Camilo\\\\.julia\\\\packages\\\\Knockout\\\\3gjS1\\\\src\\\\..\\\\assets\\\\knockout_punches.js\"), Asset(\"js\", nothing, \"C:\\\\Users\\\\Camilo\\\\.julia\\\\packages\\\\InteractBase\\\\h8Fwe\\\\src\\\\..\\\\assets\\\\all.js\"), Asset(\"css\", nothing, \"C:\\\\Users\\\\Camilo\\\\.julia\\\\packages\\\\InteractBase\\\\h8Fwe\\\\src\\\\..\\\\assets\\\\style.css\"), Asset(\"css\", nothing, \"C:\\\\Users\\\\Camilo\\\\.julia\\\\packages\\\\Interact\\\\pVyN2\\\\src\\\\..\\\\assets\\\\bulma_confined.min.css\")], Dict{Any, Any}(\"changes\" => Any[WebIO.JSString(\"(function (val){return (val!=this.model[\\\"changes\\\"]()) ? (this.valueFromJulia[\\\"changes\\\"]=true, this.model[\\\"changes\\\"](val)) : undefined})\")], \"index\" => Any[WebIO.JSString(\"(function (val){return (val!=this.model[\\\"index\\\"]()) ? (this.valueFromJulia[\\\"index\\\"]=true, this.model[\\\"index\\\"](val)) : undefined})\")]), WebIO.ConnectionPool(Channel{Any}(32), Set{AbstractConnection}(), Condition(Base.InvasiveLinkedList{Task}(Task (runnable) @0x000000000f405f50, Task (runnable) @0x000000000f405f50), Base.AlwaysLockedST(1))), WebIO.JSString[WebIO.JSString(\"function () {\\n    var handler = (function (ko, koPunches) {\\n    ko.punches.enableAll();\\n    ko.bindingHandlers.numericValue = {\\n        init: function(element, valueAccessor, allBindings, data, context) {\\n            var stringified = ko.observable(ko.unwrap(valueAccessor()));\\n            stringified.subscribe(function(value) {\\n                var val = parseFloat(value);\\n                if (!isNaN(val)) {\\n                    valueAccessor()(val);\\n                }\\n            });\\n            valueAccessor().subscribe(function(value) {\\n                var str = JSON.stringify(value);\\n                if ((str == \\\"0\\\") && ([\\\"-0\\\", \\\"-0.\\\"].indexOf(stringified()) >= 0))\\n                     return;\\n                 if ([\\\"null\\\", \\\"\\\"].indexOf(str) >= 0)\\n                     return;\\n                stringified(str);\\n            });\\n            ko.applyBindingsToNode(\\n                element,\\n                {\\n                    value: stringified,\\n                    valueUpdate: allBindings.get('valueUpdate'),\\n                },\\n                context,\\n            );\\n        }\\n    };\\n    var json_data = {\\\"formatted_vals\\\":[\\\"0.0\\\",\\\"0.02\\\",\\\"0.04\\\",\\\"0.06\\\",\\\"0.08\\\",\\\"0.1\\\",\\\"0.12\\\",\\\"0.14\\\",\\\"0.16\\\",\\\"0.18\\\",\\\"0.2\\\",\\\"0.22\\\",\\\"0.24\\\",\\\"0.26\\\",\\\"0.28\\\",\\\"0.3\\\",\\\"0.32\\\",\\\"0.34\\\",\\\"0.36\\\",\\\"0.38\\\",\\\"0.4\\\",\\\"0.42\\\",\\\"0.44\\\",\\\"0.46\\\",\\\"0.48\\\",\\\"0.5\\\",\\\"0.52\\\",\\\"0.54\\\",\\\"0.56\\\",\\\"0.58\\\",\\\"0.6\\\",\\\"0.62\\\",\\\"0.64\\\",\\\"0.66\\\",\\\"0.68\\\",\\\"0.7\\\",\\\"0.72\\\",\\\"0.74\\\",\\\"0.76\\\",\\\"0.78\\\",\\\"0.8\\\",\\\"0.82\\\",\\\"0.84\\\",\\\"0.86\\\",\\\"0.88\\\",\\\"0.9\\\",\\\"0.92\\\",\\\"0.94\\\",\\\"0.96\\\",\\\"0.98\\\",\\\"1.0\\\",\\\"1.02\\\",\\\"1.04\\\",\\\"1.06\\\",\\\"1.08\\\",\\\"1.1\\\",\\\"1.12\\\",\\\"1.14\\\",\\\"1.16\\\",\\\"1.18\\\",\\\"1.2\\\",\\\"1.22\\\",\\\"1.24\\\",\\\"1.26\\\",\\\"1.28\\\",\\\"1.3\\\",\\\"1.32\\\",\\\"1.34\\\",\\\"1.36\\\",\\\"1.38\\\",\\\"1.4\\\",\\\"1.42\\\",\\\"1.44\\\",\\\"1.46\\\",\\\"1.48\\\",\\\"1.5\\\",\\\"1.52\\\",\\\"1.54\\\",\\\"1.56\\\",\\\"1.58\\\",\\\"1.6\\\",\\\"1.62\\\",\\\"1.64\\\",\\\"1.66\\\",\\\"1.68\\\",\\\"1.7\\\",\\\"1.72\\\",\\\"1.74\\\",\\\"1.76\\\",\\\"1.78\\\",\\\"1.8\\\",\\\"1.82\\\",\\\"1.84\\\",\\\"1.86\\\",\\\"1.88\\\",\\\"1.9\\\",\\\"1.92\\\",\\\"1.94\\\",\\\"1.96\\\",\\\"1.98\\\",\\\"2.0\\\"],\\\"changes\\\":WebIO.getval({\\\"name\\\":\\\"changes\\\",\\\"scope\\\":\\\"9868383134663832101\\\",\\\"id\\\":\\\"17480948514705851403\\\",\\\"type\\\":\\\"observable\\\"}),\\\"index\\\":WebIO.getval({\\\"name\\\":\\\"index\\\",\\\"scope\\\":\\\"9868383134663832101\\\",\\\"id\\\":\\\"2112244266798267618\\\",\\\"type\\\":\\\"observable\\\"})};\\n    var self = this;\\n    function AppViewModel() {\\n        for (var key in json_data) {\\n            var el = json_data[key];\\n            this[key] = Array.isArray(el) ? ko.observableArray(el) : ko.observable(el);\\n        }\\n        \\n        [this[\\\"formatted_val\\\"]=ko.computed(    function(){\\n        return this.formatted_vals()[parseInt(this.index())-(1)];\\n    }\\n,this)]\\n        [this[\\\"changes\\\"].subscribe((function (val){!(this.valueFromJulia[\\\"changes\\\"]) ? (WebIO.setval({\\\"name\\\":\\\"changes\\\",\\\"scope\\\":\\\"9868383134663832101\\\",\\\"id\\\":\\\"17480948514705851403\\\",\\\"type\\\":\\\"observable\\\"},val)) : undefined; return this.valueFromJulia[\\\"changes\\\"]=false}),self),this[\\\"index\\\"].subscribe((function (val){!(this.valueFromJulia[\\\"index\\\"]) ? (WebIO.setval({\\\"name\\\":\\\"index\\\",\\\"scope\\\":\\\"9868383134663832101\\\",\\\"id\\\":\\\"2112244266798267618\\\",\\\"type\\\":\\\"observable\\\"},val)) : undefined; return this.valueFromJulia[\\\"index\\\"]=false}),self)]\\n        \\n    }\\n    self.model = new AppViewModel();\\n    self.valueFromJulia = {};\\n    for (var key in json_data) {\\n        self.valueFromJulia[key] = false;\\n    }\\n    ko.applyBindings(self.model, self.dom);\\n}\\n);\\n    (WebIO.importBlock({\\\"data\\\":[{\\\"name\\\":\\\"knockout\\\",\\\"type\\\":\\\"js\\\",\\\"url\\\":\\\"/assetserver/2712bb0a7395d062608c2f218a74b700f6c76b99-knockout.js\\\"},{\\\"name\\\":\\\"knockout_punches\\\",\\\"type\\\":\\\"js\\\",\\\"url\\\":\\\"/assetserver/fb4445501a2be4ab82176667f844e40da26fa007-knockout_punches.js\\\"}],\\\"type\\\":\\\"async_block\\\"})).then((imports) => handler.apply(this, imports));\\n}\\n\")])], Dict{Symbol, Any}(:className => \"field interact-widget\")), Node{WebIO.DOM}(WebIO.DOM(:html, :div), Any[Scope(Node{WebIO.DOM}(WebIO.DOM(:html, :div), Any[Node{WebIO.DOM}(WebIO.DOM(:html, :div), Any[Node{WebIO.DOM}(WebIO.DOM(:html, :label), Any[\"K\"], Dict{Symbol, Any}(:className => \"interact \", :style => Dict{Any, Any}(:padding => \"5px 10px 0px 10px\")))], Dict{Symbol, Any}(:className => \"interact-flex-row-left\")), Node{WebIO.DOM}(WebIO.DOM(:html, :div), Any[Node{WebIO.DOM}(WebIO.DOM(:html, :input), Any[], Dict{Symbol, Any}(:max => 200, :min => 1, :attributes => Dict{Any, Any}(:type => \"range\", Symbol(\"data-bind\") => \"numericValue: index, valueUpdate: 'input', event: {change: function (){this.changes(this.changes()+1)}}\", \"orient\" => \"horizontal\"), :step => 1, :className => \"slider slider is-fullwidth\", :style => Dict{Any, Any}()))], Dict{Symbol, Any}(:className => \"interact-flex-row-center\")), Node{WebIO.DOM}(WebIO.DOM(:html, :div), Any[Node{WebIO.DOM}(WebIO.DOM(:html, :p), Any[], Dict{Symbol, Any}(:attributes => Dict(\"data-bind\" => \"text: formatted_val\")))], Dict{Symbol, Any}(:className => \"interact-flex-row-right\"))], Dict{Symbol, Any}(:className => \"interact-flex-row interact-widget\")), Dict{String, Tuple{Observables.AbstractObservable, Union{Nothing, Bool}}}(\"changes\" => (Observable{Int64} with 1 listeners. Value:\n",
       "0, nothing), \"index\" => (Observable{Any} with 2 listeners. Value:\n",
       "100, nothing)), Set{String}(), nothing, Asset[Asset(\"js\", \"knockout\", \"C:\\\\Users\\\\Camilo\\\\.julia\\\\packages\\\\Knockout\\\\3gjS1\\\\src\\\\..\\\\assets\\\\knockout.js\"), Asset(\"js\", \"knockout_punches\", \"C:\\\\Users\\\\Camilo\\\\.julia\\\\packages\\\\Knockout\\\\3gjS1\\\\src\\\\..\\\\assets\\\\knockout_punches.js\"), Asset(\"js\", nothing, \"C:\\\\Users\\\\Camilo\\\\.julia\\\\packages\\\\InteractBase\\\\h8Fwe\\\\src\\\\..\\\\assets\\\\all.js\"), Asset(\"css\", nothing, \"C:\\\\Users\\\\Camilo\\\\.julia\\\\packages\\\\InteractBase\\\\h8Fwe\\\\src\\\\..\\\\assets\\\\style.css\"), Asset(\"css\", nothing, \"C:\\\\Users\\\\Camilo\\\\.julia\\\\packages\\\\Interact\\\\pVyN2\\\\src\\\\..\\\\assets\\\\bulma_confined.min.css\")], Dict{Any, Any}(\"changes\" => Any[WebIO.JSString(\"(function (val){return (val!=this.model[\\\"changes\\\"]()) ? (this.valueFromJulia[\\\"changes\\\"]=true, this.model[\\\"changes\\\"](val)) : undefined})\")], \"index\" => Any[WebIO.JSString(\"(function (val){return (val!=this.model[\\\"index\\\"]()) ? (this.valueFromJulia[\\\"index\\\"]=true, this.model[\\\"index\\\"](val)) : undefined})\")]), WebIO.ConnectionPool(Channel{Any}(32), Set{AbstractConnection}(), Condition(Base.InvasiveLinkedList{Task}(Task (runnable) @0x000000000fc8dc30, Task (runnable) @0x000000000fc8dc30), Base.AlwaysLockedST(1))), WebIO.JSString[WebIO.JSString(\"function () {\\n    var handler = (function (ko, koPunches) {\\n    ko.punches.enableAll();\\n    ko.bindingHandlers.numericValue = {\\n        init: function(element, valueAccessor, allBindings, data, context) {\\n            var stringified = ko.observable(ko.unwrap(valueAccessor()));\\n            stringified.subscribe(function(value) {\\n                var val = parseFloat(value);\\n                if (!isNaN(val)) {\\n                    valueAccessor()(val);\\n                }\\n            });\\n            valueAccessor().subscribe(function(value) {\\n                var str = JSON.stringify(value);\\n                if ((str == \\\"0\\\") && ([\\\"-0\\\", \\\"-0.\\\"].indexOf(stringified()) >= 0))\\n                     return;\\n                 if ([\\\"null\\\", \\\"\\\"].indexOf(str) >= 0)\\n                     return;\\n                stringified(str);\\n            });\\n            ko.applyBindingsToNode(\\n                element,\\n                {\\n                    value: stringified,\\n                    valueUpdate: allBindings.get('valueUpdate'),\\n                },\\n                context,\\n            );\\n        }\\n    };\\n    var json_data = {\\\"formatted_vals\\\":[\\\"0.01\\\",\\\"0.02\\\",\\\"0.03\\\",\\\"0.04\\\",\\\"0.05\\\",\\\"0.06\\\",\\\"0.07\\\",\\\"0.08\\\",\\\"0.09\\\",\\\"0.1\\\",\\\"0.11\\\",\\\"0.12\\\",\\\"0.13\\\",\\\"0.14\\\",\\\"0.15\\\",\\\"0.16\\\",\\\"0.17\\\",\\\"0.18\\\",\\\"0.19\\\",\\\"0.2\\\",\\\"0.21\\\",\\\"0.22\\\",\\\"0.23\\\",\\\"0.24\\\",\\\"0.25\\\",\\\"0.26\\\",\\\"0.27\\\",\\\"0.28\\\",\\\"0.29\\\",\\\"0.3\\\",\\\"0.31\\\",\\\"0.32\\\",\\\"0.33\\\",\\\"0.34\\\",\\\"0.35\\\",\\\"0.36\\\",\\\"0.37\\\",\\\"0.38\\\",\\\"0.39\\\",\\\"0.4\\\",\\\"0.41\\\",\\\"0.42\\\",\\\"0.43\\\",\\\"0.44\\\",\\\"0.45\\\",\\\"0.46\\\",\\\"0.47\\\",\\\"0.48\\\",\\\"0.49\\\",\\\"0.5\\\",\\\"0.51\\\",\\\"0.52\\\",\\\"0.53\\\",\\\"0.54\\\",\\\"0.55\\\",\\\"0.56\\\",\\\"0.57\\\",\\\"0.58\\\",\\\"0.59\\\",\\\"0.6\\\",\\\"0.61\\\",\\\"0.62\\\",\\\"0.63\\\",\\\"0.64\\\",\\\"0.65\\\",\\\"0.66\\\",\\\"0.67\\\",\\\"0.68\\\",\\\"0.69\\\",\\\"0.7\\\",\\\"0.71\\\",\\\"0.72\\\",\\\"0.73\\\",\\\"0.74\\\",\\\"0.75\\\",\\\"0.76\\\",\\\"0.77\\\",\\\"0.78\\\",\\\"0.79\\\",\\\"0.8\\\",\\\"0.81\\\",\\\"0.82\\\",\\\"0.83\\\",\\\"0.84\\\",\\\"0.85\\\",\\\"0.86\\\",\\\"0.87\\\",\\\"0.88\\\",\\\"0.89\\\",\\\"0.9\\\",\\\"0.91\\\",\\\"0.92\\\",\\\"0.93\\\",\\\"0.94\\\",\\\"0.95\\\",\\\"0.96\\\",\\\"0.97\\\",\\\"0.98\\\",\\\"0.99\\\",\\\"1.0\\\",\\\"1.01\\\",\\\"1.02\\\",\\\"1.03\\\",\\\"1.04\\\",\\\"1.05\\\",\\\"1.06\\\",\\\"1.07\\\",\\\"1.08\\\",\\\"1.09\\\",\\\"1.1\\\",\\\"1.11\\\",\\\"1.12\\\",\\\"1.13\\\",\\\"1.14\\\",\\\"1.15\\\",\\\"1.16\\\",\\\"1.17\\\",\\\"1.18\\\",\\\"1.19\\\",\\\"1.2\\\",\\\"1.21\\\",\\\"1.22\\\",\\\"1.23\\\",\\\"1.24\\\",\\\"1.25\\\",\\\"1.26\\\",\\\"1.27\\\",\\\"1.28\\\",\\\"1.29\\\",\\\"1.3\\\",\\\"1.31\\\",\\\"1.32\\\",\\\"1.33\\\",\\\"1.34\\\",\\\"1.35\\\",\\\"1.36\\\",\\\"1.37\\\",\\\"1.38\\\",\\\"1.39\\\",\\\"1.4\\\",\\\"1.41\\\",\\\"1.42\\\",\\\"1.43\\\",\\\"1.44\\\",\\\"1.45\\\",\\\"1.46\\\",\\\"1.47\\\",\\\"1.48\\\",\\\"1.49\\\",\\\"1.5\\\",\\\"1.51\\\",\\\"1.52\\\",\\\"1.53\\\",\\\"1.54\\\",\\\"1.55\\\",\\\"1.56\\\",\\\"1.57\\\",\\\"1.58\\\",\\\"1.59\\\",\\\"1.6\\\",\\\"1.61\\\",\\\"1.62\\\",\\\"1.63\\\",\\\"1.64\\\",\\\"1.65\\\",\\\"1.66\\\",\\\"1.67\\\",\\\"1.68\\\",\\\"1.69\\\",\\\"1.7\\\",\\\"1.71\\\",\\\"1.72\\\",\\\"1.73\\\",\\\"1.74\\\",\\\"1.75\\\",\\\"1.76\\\",\\\"1.77\\\",\\\"1.78\\\",\\\"1.79\\\",\\\"1.8\\\",\\\"1.81\\\",\\\"1.82\\\",\\\"1.83\\\",\\\"1.84\\\",\\\"1.85\\\",\\\"1.86\\\",\\\"1.87\\\",\\\"1.88\\\",\\\"1.89\\\",\\\"1.9\\\",\\\"1.91\\\",\\\"1.92\\\",\\\"1.93\\\",\\\"1.94\\\",\\\"1.95\\\",\\\"1.96\\\",\\\"1.97\\\",\\\"1.98\\\",\\\"1.99\\\",\\\"2.0\\\"],\\\"changes\\\":WebIO.getval({\\\"name\\\":\\\"changes\\\",\\\"scope\\\":\\\"18193555901765134699\\\",\\\"id\\\":\\\"9234867641224040246\\\",\\\"type\\\":\\\"observable\\\"}),\\\"index\\\":WebIO.getval({\\\"name\\\":\\\"index\\\",\\\"scope\\\":\\\"18193555901765134699\\\",\\\"id\\\":\\\"4728462105325643028\\\",\\\"type\\\":\\\"observable\\\"})};\\n    var self = this;\\n    function AppViewModel() {\\n        for (var key in json_data) {\\n            var el = json_data[key];\\n            this[key] = Array.isArray(el) ? ko.observableArray(el) : ko.observable(el);\\n        }\\n        \\n        [this[\\\"formatted_val\\\"]=ko.computed(    function(){\\n        return this.formatted_vals()[parseInt(this.index())-(1)];\\n    }\\n,this)]\\n        [this[\\\"changes\\\"].subscribe((function (val){!(this.valueFromJulia[\\\"changes\\\"]) ? (WebIO.setval({\\\"name\\\":\\\"changes\\\",\\\"scope\\\":\\\"18193555901765134699\\\",\\\"id\\\":\\\"9234867641224040246\\\",\\\"type\\\":\\\"observable\\\"},val)) : undefined; return this.valueFromJulia[\\\"changes\\\"]=false}),self),this[\\\"index\\\"].subscribe((function (val){!(this.valueFromJulia[\\\"index\\\"]) ? (WebIO.setval({\\\"name\\\":\\\"index\\\",\\\"scope\\\":\\\"18193555901765134699\\\",\\\"id\\\":\\\"4728462105325643028\\\",\\\"type\\\":\\\"observable\\\"},val)) : undefined; return this.valueFromJulia[\\\"index\\\"]=false}),self)]\\n        \\n    }\\n    self.model = new AppViewModel();\\n    self.valueFromJulia = {};\\n    for (var key in json_data) {\\n        self.valueFromJulia[key] = false;\\n    }\\n    ko.applyBindings(self.model, self.dom);\\n}\\n);\\n    (WebIO.importBlock({\\\"data\\\":[{\\\"name\\\":\\\"knockout\\\",\\\"type\\\":\\\"js\\\",\\\"url\\\":\\\"/assetserver/2712bb0a7395d062608c2f218a74b700f6c76b99-knockout.js\\\"},{\\\"name\\\":\\\"knockout_punches\\\",\\\"type\\\":\\\"js\\\",\\\"url\\\":\\\"/assetserver/fb4445501a2be4ab82176667f844e40da26fa007-knockout_punches.js\\\"}],\\\"type\\\":\\\"async_block\\\"})).then((imports) => handler.apply(this, imports));\\n}\\n\")])], Dict{Symbol, Any}(:className => \"field interact-widget\")), Node{WebIO.DOM}(WebIO.DOM(:html, :div), Any[Scope(Node{WebIO.DOM}(WebIO.DOM(:html, :div), Any[Node{WebIO.DOM}(WebIO.DOM(:html, :div), Any[Node{WebIO.DOM}(WebIO.DOM(:html, :label), Any[\"x0\"], Dict{Symbol, Any}(:className => \"interact \", :style => Dict{Any, Any}(:padding => \"5px 10px 0px 10px\")))], Dict{Symbol, Any}(:className => \"interact-flex-row-left\")), Node{WebIO.DOM}(WebIO.DOM(:html, :div), Any[Node{WebIO.DOM}(WebIO.DOM(:html, :input), Any[], Dict{Symbol, Any}(:max => 101, :min => 1, :attributes => Dict{Any, Any}(:type => \"range\", Symbol(\"data-bind\") => \"numericValue: index, valueUpdate: 'input', event: {change: function (){this.changes(this.changes()+1)}}\", \"orient\" => \"horizontal\"), :step => 1, :className => \"slider slider is-fullwidth\", :style => Dict{Any, Any}()))], Dict{Symbol, Any}(:className => \"interact-flex-row-center\")), Node{WebIO.DOM}(WebIO.DOM(:html, :div), Any[Node{WebIO.DOM}(WebIO.DOM(:html, :p), Any[], Dict{Symbol, Any}(:attributes => Dict(\"data-bind\" => \"text: formatted_val\")))], Dict{Symbol, Any}(:className => \"interact-flex-row-right\"))], Dict{Symbol, Any}(:className => \"interact-flex-row interact-widget\")), Dict{String, Tuple{Observables.AbstractObservable, Union{Nothing, Bool}}}(\"changes\" => (Observable{Int64} with 1 listeners. Value:\n",
       "0, nothing), \"index\" => (Observable{Any} with 2 listeners. Value:\n",
       "51, nothing)), Set{String}(), nothing, Asset[Asset(\"js\", \"knockout\", \"C:\\\\Users\\\\Camilo\\\\.julia\\\\packages\\\\Knockout\\\\3gjS1\\\\src\\\\..\\\\assets\\\\knockout.js\"), Asset(\"js\", \"knockout_punches\", \"C:\\\\Users\\\\Camilo\\\\.julia\\\\packages\\\\Knockout\\\\3gjS1\\\\src\\\\..\\\\assets\\\\knockout_punches.js\"), Asset(\"js\", nothing, \"C:\\\\Users\\\\Camilo\\\\.julia\\\\packages\\\\InteractBase\\\\h8Fwe\\\\src\\\\..\\\\assets\\\\all.js\"), Asset(\"css\", nothing, \"C:\\\\Users\\\\Camilo\\\\.julia\\\\packages\\\\InteractBase\\\\h8Fwe\\\\src\\\\..\\\\assets\\\\style.css\"), Asset(\"css\", nothing, \"C:\\\\Users\\\\Camilo\\\\.julia\\\\packages\\\\Interact\\\\pVyN2\\\\src\\\\..\\\\assets\\\\bulma_confined.min.css\")], Dict{Any, Any}(\"changes\" => Any[WebIO.JSString(\"(function (val){return (val!=this.model[\\\"changes\\\"]()) ? (this.valueFromJulia[\\\"changes\\\"]=true, this.model[\\\"changes\\\"](val)) : undefined})\")], \"index\" => Any[WebIO.JSString(\"(function (val){return (val!=this.model[\\\"index\\\"]()) ? (this.valueFromJulia[\\\"index\\\"]=true, this.model[\\\"index\\\"](val)) : undefined})\")]), WebIO.ConnectionPool(Channel{Any}(32), Set{AbstractConnection}(), Condition(Base.InvasiveLinkedList{Task}(Task (runnable) @0x000000000fd17080, Task (runnable) @0x000000000fd17080), Base.AlwaysLockedST(1))), WebIO.JSString[WebIO.JSString(\"function () {\\n    var handler = (function (ko, koPunches) {\\n    ko.punches.enableAll();\\n    ko.bindingHandlers.numericValue = {\\n        init: function(element, valueAccessor, allBindings, data, context) {\\n            var stringified = ko.observable(ko.unwrap(valueAccessor()));\\n            stringified.subscribe(function(value) {\\n                var val = parseFloat(value);\\n                if (!isNaN(val)) {\\n                    valueAccessor()(val);\\n                }\\n            });\\n            valueAccessor().subscribe(function(value) {\\n                var str = JSON.stringify(value);\\n                if ((str == \\\"0\\\") && ([\\\"-0\\\", \\\"-0.\\\"].indexOf(stringified()) >= 0))\\n                     return;\\n                 if ([\\\"null\\\", \\\"\\\"].indexOf(str) >= 0)\\n                     return;\\n                stringified(str);\\n            });\\n            ko.applyBindingsToNode(\\n                element,\\n                {\\n                    value: stringified,\\n                    valueUpdate: allBindings.get('valueUpdate'),\\n                },\\n                context,\\n            );\\n        }\\n    };\\n    var json_data = {\\\"formatted_vals\\\":[\\\"0.0\\\",\\\"0.02\\\",\\\"0.04\\\",\\\"0.06\\\",\\\"0.08\\\",\\\"0.1\\\",\\\"0.12\\\",\\\"0.14\\\",\\\"0.16\\\",\\\"0.18\\\",\\\"0.2\\\",\\\"0.22\\\",\\\"0.24\\\",\\\"0.26\\\",\\\"0.28\\\",\\\"0.3\\\",\\\"0.32\\\",\\\"0.34\\\",\\\"0.36\\\",\\\"0.38\\\",\\\"0.4\\\",\\\"0.42\\\",\\\"0.44\\\",\\\"0.46\\\",\\\"0.48\\\",\\\"0.5\\\",\\\"0.52\\\",\\\"0.54\\\",\\\"0.56\\\",\\\"0.58\\\",\\\"0.6\\\",\\\"0.62\\\",\\\"0.64\\\",\\\"0.66\\\",\\\"0.68\\\",\\\"0.7\\\",\\\"0.72\\\",\\\"0.74\\\",\\\"0.76\\\",\\\"0.78\\\",\\\"0.8\\\",\\\"0.82\\\",\\\"0.84\\\",\\\"0.86\\\",\\\"0.88\\\",\\\"0.9\\\",\\\"0.92\\\",\\\"0.94\\\",\\\"0.96\\\",\\\"0.98\\\",\\\"1.0\\\",\\\"1.02\\\",\\\"1.04\\\",\\\"1.06\\\",\\\"1.08\\\",\\\"1.1\\\",\\\"1.12\\\",\\\"1.14\\\",\\\"1.16\\\",\\\"1.18\\\",\\\"1.2\\\",\\\"1.22\\\",\\\"1.24\\\",\\\"1.26\\\",\\\"1.28\\\",\\\"1.3\\\",\\\"1.32\\\",\\\"1.34\\\",\\\"1.36\\\",\\\"1.38\\\",\\\"1.4\\\",\\\"1.42\\\",\\\"1.44\\\",\\\"1.46\\\",\\\"1.48\\\",\\\"1.5\\\",\\\"1.52\\\",\\\"1.54\\\",\\\"1.56\\\",\\\"1.58\\\",\\\"1.6\\\",\\\"1.62\\\",\\\"1.64\\\",\\\"1.66\\\",\\\"1.68\\\",\\\"1.7\\\",\\\"1.72\\\",\\\"1.74\\\",\\\"1.76\\\",\\\"1.78\\\",\\\"1.8\\\",\\\"1.82\\\",\\\"1.84\\\",\\\"1.86\\\",\\\"1.88\\\",\\\"1.9\\\",\\\"1.92\\\",\\\"1.94\\\",\\\"1.96\\\",\\\"1.98\\\",\\\"2.0\\\"],\\\"changes\\\":WebIO.getval({\\\"name\\\":\\\"changes\\\",\\\"scope\\\":\\\"5573521046135323285\\\",\\\"id\\\":\\\"1612109867697794794\\\",\\\"type\\\":\\\"observable\\\"}),\\\"index\\\":WebIO.getval({\\\"name\\\":\\\"index\\\",\\\"scope\\\":\\\"5573521046135323285\\\",\\\"id\\\":\\\"7019835746590632195\\\",\\\"type\\\":\\\"observable\\\"})};\\n    var self = this;\\n    function AppViewModel() {\\n        for (var key in json_data) {\\n            var el = json_data[key];\\n            this[key] = Array.isArray(el) ? ko.observableArray(el) : ko.observable(el);\\n        }\\n        \\n        [this[\\\"formatted_val\\\"]=ko.computed(    function(){\\n        return this.formatted_vals()[parseInt(this.index())-(1)];\\n    }\\n,this)]\\n        [this[\\\"changes\\\"].subscribe((function (val){!(this.valueFromJulia[\\\"changes\\\"]) ? (WebIO.setval({\\\"name\\\":\\\"changes\\\",\\\"scope\\\":\\\"5573521046135323285\\\",\\\"id\\\":\\\"1612109867697794794\\\",\\\"type\\\":\\\"observable\\\"},val)) : undefined; return this.valueFromJulia[\\\"changes\\\"]=false}),self),this[\\\"index\\\"].subscribe((function (val){!(this.valueFromJulia[\\\"index\\\"]) ? (WebIO.setval({\\\"name\\\":\\\"index\\\",\\\"scope\\\":\\\"5573521046135323285\\\",\\\"id\\\":\\\"7019835746590632195\\\",\\\"type\\\":\\\"observable\\\"},val)) : undefined; return this.valueFromJulia[\\\"index\\\"]=false}),self)]\\n        \\n    }\\n    self.model = new AppViewModel();\\n    self.valueFromJulia = {};\\n    for (var key in json_data) {\\n        self.valueFromJulia[key] = false;\\n    }\\n    ko.applyBindings(self.model, self.dom);\\n}\\n);\\n    (WebIO.importBlock({\\\"data\\\":[{\\\"name\\\":\\\"knockout\\\",\\\"type\\\":\\\"js\\\",\\\"url\\\":\\\"/assetserver/2712bb0a7395d062608c2f218a74b700f6c76b99-knockout.js\\\"},{\\\"name\\\":\\\"knockout_punches\\\",\\\"type\\\":\\\"js\\\",\\\"url\\\":\\\"/assetserver/fb4445501a2be4ab82176667f844e40da26fa007-knockout_punches.js\\\"}],\\\"type\\\":\\\"async_block\\\"})).then((imports) => handler.apply(this, imports));\\n}\\n\")])], Dict{Symbol, Any}(:className => \"field interact-widget\")), Node{WebIO.DOM}(WebIO.DOM(:html, :div), Any[Scope(Node{WebIO.DOM}(WebIO.DOM(:html, :div), Any[Node{WebIO.DOM}(WebIO.DOM(:html, :div), Any[Node{WebIO.DOM}(WebIO.DOM(:html, :label), Any[\"tmax\"], Dict{Symbol, Any}(:className => \"interact \", :style => Dict{Any, Any}(:padding => \"5px 10px 0px 10px\")))], Dict{Symbol, Any}(:className => \"interact-flex-row-left\")), Node{WebIO.DOM}(WebIO.DOM(:html, :div), Any[Node{WebIO.DOM}(WebIO.DOM(:html, :input), Any[], Dict{Symbol, Any}(:max => 6, :min => 1, :attributes => Dict{Any, Any}(:type => \"range\", Symbol(\"data-bind\") => \"numericValue: index, valueUpdate: 'input', event: {change: function (){this.changes(this.changes()+1)}}\", \"orient\" => \"horizontal\"), :step => 1, :className => \"slider slider is-fullwidth\", :style => Dict{Any, Any}()))], Dict{Symbol, Any}(:className => \"interact-flex-row-center\")), Node{WebIO.DOM}(WebIO.DOM(:html, :div), Any[Node{WebIO.DOM}(WebIO.DOM(:html, :p), Any[], Dict{Symbol, Any}(:attributes => Dict(\"data-bind\" => \"text: formatted_val\")))], Dict{Symbol, Any}(:className => \"interact-flex-row-right\"))], Dict{Symbol, Any}(:className => \"interact-flex-row interact-widget\")), Dict{String, Tuple{Observables.AbstractObservable, Union{Nothing, Bool}}}(\"changes\" => (Observable{Int64} with 1 listeners. Value:\n",
       "0, nothing), \"index\" => (Observable{Any} with 2 listeners. Value:\n",
       "3, nothing)), Set{String}(), nothing, Asset[Asset(\"js\", \"knockout\", \"C:\\\\Users\\\\Camilo\\\\.julia\\\\packages\\\\Knockout\\\\3gjS1\\\\src\\\\..\\\\assets\\\\knockout.js\"), Asset(\"js\", \"knockout_punches\", \"C:\\\\Users\\\\Camilo\\\\.julia\\\\packages\\\\Knockout\\\\3gjS1\\\\src\\\\..\\\\assets\\\\knockout_punches.js\"), Asset(\"js\", nothing, \"C:\\\\Users\\\\Camilo\\\\.julia\\\\packages\\\\InteractBase\\\\h8Fwe\\\\src\\\\..\\\\assets\\\\all.js\"), Asset(\"css\", nothing, \"C:\\\\Users\\\\Camilo\\\\.julia\\\\packages\\\\InteractBase\\\\h8Fwe\\\\src\\\\..\\\\assets\\\\style.css\"), Asset(\"css\", nothing, \"C:\\\\Users\\\\Camilo\\\\.julia\\\\packages\\\\Interact\\\\pVyN2\\\\src\\\\..\\\\assets\\\\bulma_confined.min.css\")], Dict{Any, Any}(\"changes\" => Any[WebIO.JSString(\"(function (val){return (val!=this.model[\\\"changes\\\"]()) ? (this.valueFromJulia[\\\"changes\\\"]=true, this.model[\\\"changes\\\"](val)) : undefined})\")], \"index\" => Any[WebIO.JSString(\"(function (val){return (val!=this.model[\\\"index\\\"]()) ? (this.valueFromJulia[\\\"index\\\"]=true, this.model[\\\"index\\\"](val)) : undefined})\")]), WebIO.ConnectionPool(Channel{Any}(32), Set{AbstractConnection}(), Condition(Base.InvasiveLinkedList{Task}(Task (runnable) @0x0000000010264b00, Task (runnable) @0x0000000010264b00), Base.AlwaysLockedST(1))), WebIO.JSString[WebIO.JSString(\"function () {\\n    var handler = (function (ko, koPunches) {\\n    ko.punches.enableAll();\\n    ko.bindingHandlers.numericValue = {\\n        init: function(element, valueAccessor, allBindings, data, context) {\\n            var stringified = ko.observable(ko.unwrap(valueAccessor()));\\n            stringified.subscribe(function(value) {\\n                var val = parseFloat(value);\\n                if (!isNaN(val)) {\\n                    valueAccessor()(val);\\n                }\\n            });\\n            valueAccessor().subscribe(function(value) {\\n                var str = JSON.stringify(value);\\n                if ((str == \\\"0\\\") && ([\\\"-0\\\", \\\"-0.\\\"].indexOf(stringified()) >= 0))\\n                     return;\\n                 if ([\\\"null\\\", \\\"\\\"].indexOf(str) >= 0)\\n                     return;\\n                stringified(str);\\n            });\\n            ko.applyBindingsToNode(\\n                element,\\n                {\\n                    value: stringified,\\n                    valueUpdate: allBindings.get('valueUpdate'),\\n                },\\n                context,\\n            );\\n        }\\n    };\\n    var json_data = {\\\"formatted_vals\\\":[\\\"1.0\\\",\\\"6.0\\\",\\\"11.0\\\",\\\"16.0\\\",\\\"21.0\\\",\\\"26.0\\\"],\\\"changes\\\":WebIO.getval({\\\"name\\\":\\\"changes\\\",\\\"scope\\\":\\\"3728034245224788230\\\",\\\"id\\\":\\\"2965447878542056802\\\",\\\"type\\\":\\\"observable\\\"}),\\\"index\\\":WebIO.getval({\\\"name\\\":\\\"index\\\",\\\"scope\\\":\\\"3728034245224788230\\\",\\\"id\\\":\\\"3504693184005843809\\\",\\\"type\\\":\\\"observable\\\"})};\\n    var self = this;\\n    function AppViewModel() {\\n        for (var key in json_data) {\\n            var el = json_data[key];\\n            this[key] = Array.isArray(el) ? ko.observableArray(el) : ko.observable(el);\\n        }\\n        \\n        [this[\\\"formatted_val\\\"]=ko.computed(    function(){\\n        return this.formatted_vals()[parseInt(this.index())-(1)];\\n    }\\n,this)]\\n        [this[\\\"changes\\\"].subscribe((function (val){!(this.valueFromJulia[\\\"changes\\\"]) ? (WebIO.setval({\\\"name\\\":\\\"changes\\\",\\\"scope\\\":\\\"3728034245224788230\\\",\\\"id\\\":\\\"2965447878542056802\\\",\\\"type\\\":\\\"observable\\\"},val)) : undefined; return this.valueFromJulia[\\\"changes\\\"]=false}),self),this[\\\"index\\\"].subscribe((function (val){!(this.valueFromJulia[\\\"index\\\"]) ? (WebIO.setval({\\\"name\\\":\\\"index\\\",\\\"scope\\\":\\\"3728034245224788230\\\",\\\"id\\\":\\\"3504693184005843809\\\",\\\"type\\\":\\\"observable\\\"},val)) : undefined; return this.valueFromJulia[\\\"index\\\"]=false}),self)]\\n        \\n    }\\n    self.model = new AppViewModel();\\n    self.valueFromJulia = {};\\n    for (var key in json_data) {\\n        self.valueFromJulia[key] = false;\\n    }\\n    ko.applyBindings(self.model, self.dom);\\n}\\n);\\n    (WebIO.importBlock({\\\"data\\\":[{\\\"name\\\":\\\"knockout\\\",\\\"type\\\":\\\"js\\\",\\\"url\\\":\\\"/assetserver/2712bb0a7395d062608c2f218a74b700f6c76b99-knockout.js\\\"},{\\\"name\\\":\\\"knockout_punches\\\",\\\"type\\\":\\\"js\\\",\\\"url\\\":\\\"/assetserver/fb4445501a2be4ab82176667f844e40da26fa007-knockout_punches.js\\\"}],\\\"type\\\":\\\"async_block\\\"})).then((imports) => handler.apply(this, imports));\\n}\\n\")])], Dict{Symbol, Any}(:className => \"field interact-widget\")), Observable{Node{WebIO.DOM}} with 0 listeners. Value:\n",
       "Node{WebIO.DOM}(WebIO.DOM(:html, :div), Any[Plot{Plots.GRBackend() n=6}], Dict{Symbol, Any}(:className => \"interact-flex-row interact-widget\"))], Dict{Symbol, Any}())"
      ]
     },
     "execution_count": 4,
     "metadata": {
      "application/vnd.webio.node+json": {
       "kernelId": "7d0ebb77-0b73-4d89-9442-4ca48ef9ada1"
      }
     },
     "output_type": "execute_result"
    }
   ],
   "source": [
    "@manipulate throttle=.1 for R=0:0.02:2.0,K=0.01:0.01:2.0,x0=0:0.02:2.0,tmax=1.0:5:30\n",
    "    flux1D(logistic,x0,tmax,[R,K];xlims=[-0.1,2.0])\n",
    "end"
   ]
  },
  {
   "cell_type": "markdown",
   "id": "ac1e2514",
   "metadata": {},
   "source": [
    "## Potencial de la Ecuacion Logistica\n",
    "\n",
    "En este caso el potencial es una función cúbica:\n",
    "\n",
    "$V(x) = \\frac{Rx^2}{3K}\\left(x- \\frac{3K}{2}\\right)$\n",
    "\n",
    "que tiene un minimo en $x=K/2$ y corta el eje horizontal en $x=3K/2$ y lo toca tangencialmente con un pico (raiz doble) en $x=0$. Veamos el aspecto que tiene y como evoluciona la trayectoria desde el punto inicial hasta el fondo del pozo."
   ]
  },
  {
   "cell_type": "code",
   "execution_count": null,
   "id": "e554271e",
   "metadata": {
    "ExecuteTime": {
     "end_time": "2022-01-27T02:06:20.505000-03:00",
     "start_time": "2022-01-27T05:06:19.455Z"
    }
   },
   "outputs": [],
   "source": [
    "Vlogistic(x,p) = p[1]*x*x/(3*p[2])*(x-3*p[2]/2)\n",
    "@manipulate throttle=.1 for R=0:0.02:2.0,K=0.01:0.01:2.0,x0=0:0.01:2.0\n",
    "    potential1D(Vlogistic,x0,100.0,[R,K];xlims=[0.0,max(2*K,x0)])\n",
    "end"
   ]
  },
  {
   "cell_type": "markdown",
   "id": "46c310c0",
   "metadata": {},
   "source": [
    "# Bifurcacion de Atractor - Repulsor (Saddle Node)\n",
    "\n",
    "El flujo 1D queda caracterizado cualitativamente por sus puntos fijos y su estabilidad. Pueden estos cambiar? Cuál es la forma más general? Antes habiamos hablado de la estabilidad estructural y la habiamos referido a la invariancia de la estructura topológica frente a pequeñas perturbaciones en los parámetros. También nos habiamos preguntado por lo que sucedía cuando $f(x)$ rozaba tangencialmente el eje horizontal en un punto fijo y la linealización dejaba de ser válida. No es difil ver que cuando esto último sucede estamos ante la inminencia de un cambio en la estructura topológica del flujo. Podemos pensar en la funcion f(x) como una soga serpenteante que varia con los parametros. La estructura topológica del flujo no va a cambiar siempre que tengamos la misma cantidad de cruces (cantidad de puntos fijos) y no cambie la secuencia de cruces para arriba, para abajo, para arriba, etc. Cual es la forma genérica en que puede cambiar? cuando un \"lazo\" que está del lado positivo o negativo cruza el eje como se ve en la secuencia de dibujos siguiente en las que tenemos tres valores de parametros del sistema diferentes:\n",
    "\n",
    "<div>\n",
    "  <img src=\"../files/flujos1DSN.png\" width=\"500px\">\n",
    "</div>\n",
    "\n",
    "En ese caso en el punto exacto donde se produce el cambio (diagrama del centro) suceden dos cosas simultáneamente:\n",
    "\n",
    "- dos puntos fijos están fusionados en uno solo. Cualquier perturbacion por más pequeña que sea hacia un lado los hace desaparecer y hacia el otro genera dos puntos fijos. Ademas esos dos puntos fijos son siempre un atractor y un repulsor. \n",
    "- la derivada del campor vector es cero en ese punto $f'(x_*)=0$ por lo tanto deja de valer la linealización\n",
    "\n",
    "La conclusion es que no hay forma genérica de cambiar la estabilidad de los puntos fijos sin crear o destruir un par de puntos fijos: un atractor y un repulsor. Esto es la bifurcación de **nodo-repulsor** (que que conoce como nodo silla o saddle node **SN** en sistemas de mas de una dimension). dicho de otra manera un punto fijo no puede pasar de ser estable a inestable sin pasar por cero y esto no lo puede hacer de forma genérica sin colapsar con otro punto fijo de estabilidad complementaria (pensemos que intentamos invertir la pendiente de uno de los tramos de la cuerda negra de arriba donde corta el eje horizontal. \n",
    "Acá \"forma genérica\" se refiere a que no hay impuesta ninguna condición adicional. Si forzamos a que el origen sea siempre un punto fijo o hay alguna condición de simetría hay otros casos posibles como vamos a ver más adelante\n",
    "\n",
    "Vamos a definir más formalmente una bifurcación:\n",
    "**Cualquier cambio de la cantidad de puntos fijos o de su estabilidad al variar los parámetros del sistema se conoce como  una bifuración local**. Local se refiere a que ocurre en un punto determinado del espacio de fases. \n"
   ]
  },
  {
   "cell_type": "markdown",
   "id": "dba3cc46",
   "metadata": {},
   "source": [
    "## Forma normal de la Bifurcación SN \n",
    "\n",
    "mas adelante vamos a dar una definición más formal de forma normal, por ahora la vamos a presentar como el modelo \n",
    "más general o más \"sencillo\" que presenta una determinada bifurcación que se produce en el origen y para un valor de parámetro igual a cero. Sistemas particulares que tengan una bifurcacion local en algun otro punto para algun otro valor de parámetros se van a poder llevar a la forma normal mediante un cambio de coordenadas.\n",
    "\n",
    "En el caso de la bifurcacion de atractor repulsor (o SN en una dimensión) resulta medianamente intuitivo, tanto por el dibujo de arriba como por lo que discutimos cuando nos preguntabamos que pasaba con la linealización si la derivada de $f$ se hacía cero en el punto fijo, que la forma más simple y genérica de tener una bifurcacion de SN es mediante una parábola (cuadrática) que corta el eje horizontal en el origen para el valor de parámetro cero. Es decir:}\n",
    "\n",
    "$\\dot{x} = a-x^2$\n",
    "\n",
    "esta es la versión con la parábola invertida pero podriamos tener de forma equivalente otra ecuación con el término cuadrático positivo.\n",
    "\n",
    "Para este sistema tenemos dos puntos fijos (el repulsor a la izquierda y el atractor a la derecha) cuando $a>0$ y ningún punto fijo para $a<0$. En $a=0$ la parabola \"besa\" el eje horizontal y los dos puntos fijos colapsan en uno solo (que es atractor  por la derecha y repulsor por la izquierda). \n",
    "\n",
    "La forma normal nos da otra información importante que tiene que ver con el escaleo. En un entorno de la bifurcación, cuando se crean los dos puntos fijos con estabilidad complementaria están ubicados en $x_*=\\pm \\sqrt{a}$. Es decir que se alejan del punto de coalescencia (o de surgimiento) con un escaleo que va como la raiz cuadrada del parámetro. Cuando encontremos bifurcaciones de repulsor atractor (o de nodo silla en dimensiones superiores) habrá siempre un entorno, para valores de parámetro cercanos al valor de la bifurcación, donde este escaleo se observa también, por lo tanto podremos anticipar la ubicación de los puntos fijos sin necesidad de encontrar los ceros del campo vector.\n"
   ]
  },
  {
   "cell_type": "markdown",
   "id": "87ecccf1",
   "metadata": {},
   "source": [
    "## Diagrama de bifurcaciones\n",
    "\n",
    "Una representación que vamos a encontrar de forma muy frecuente y que sirve para caracterizar un sistema dinámico dado es el **diagrama de bifurcaciones** en el espacio producto de las variables y parámetros. En el caso de la forma normal de la SN tenemos una variable ($x$) y un parametro ($a$) y es practica usual representar el parámetro en el eje horizontal (porque de hecho es la variable independiente de control de nuestro problema y la variable en el eje vertical. Es decir que ahora el espacio de fases va a aparecer de forma vertical. También es usual no representar todo el flujo sino solo los puntos de fijos. Los puntos fijos son **ramas** en el diagrama de bifurcaciones que dan para cada valor del parámetro la ubicacion del mismo (podriamos escribirlos incluso como una funcion del parametro, por ejemplo $x_*(a)$). Finalmente podemos usar el color azul para las ramas correspondientes a los puntos fijos estables (o atractores) y rojo para los inestables (o repulsores). \n",
    "\n",
    "Teniendo en cuenta todo esto el diagrama de bifurcaciones para la forma normal de la bifurcación SN es el siguiente:\n",
    "\n",
    "<div>\n",
    "  <img src=\"../files/BifurcationDiagram.png\" width=\"500px\">\n",
    "</div>\n",
    "\n",
    "La bifurcacion de SN ocurre en el punto $a=0$, $x=0$ del diagrama (punto verde) del cual surgen para la derecha ($a>0$) una rama estable para el atractor (azul) y otra inestable para el repulsor (rojo) que se alejan del punto de bifurcacion como $\\pm \\sqrt{a}$. \n",
    "\n",
    "Vamos a interactuar con la forma normal de la bifurcación SN usando la funcion **flux1D** pero con un metodo adicional. Las funciones en Julia tienen multiple dispatch, es decir pueden recibir diferentes tipos argumentos, generando diferentes metodos. En este caso le agregamos un argumento mas luego del vector de parametros que es una funcion anonima para cortar la integracion. Como detalle tecnico eso se hace mediante una funcion de Callback **DiscreteCallback** que si cumple una condicion (en este caso que la variable sea menor que -1), llama a la una funcion que termine la integracion (**terminate!**). Pero de todas maneras eso es interno a flux1D, lo unico que le pasamos aca es la funcion que da la condicion para terminar: $(u)->(u<-1.0)$\n"
   ]
  },
  {
   "cell_type": "code",
   "execution_count": 5,
   "id": "6e8bf430",
   "metadata": {
    "ExecuteTime": {
     "end_time": "2022-01-27T02:07:49.024000-03:00",
     "start_time": "2022-01-27T05:07:46.739Z"
    }
   },
   "outputs": [
    {
     "data": {
      "application/vnd.webio.node+json": {
       "children": [
        {
         "children": [
          {
           "children": [
            {
             "children": [
              {
               "children": [
                {
                 "children": [
                  "a"
                 ],
                 "instanceArgs": {
                  "namespace": "html",
                  "tag": "label"
                 },
                 "nodeType": "DOM",
                 "props": {
                  "className": "interact ",
                  "style": {
                   "padding": "5px 10px 0px 10px"
                  }
                 },
                 "type": "node"
                }
               ],
               "instanceArgs": {
                "namespace": "html",
                "tag": "div"
               },
               "nodeType": "DOM",
               "props": {
                "className": "interact-flex-row-left"
               },
               "type": "node"
              },
              {
               "children": [
                {
                 "children": [],
                 "instanceArgs": {
                  "namespace": "html",
                  "tag": "input"
                 },
                 "nodeType": "DOM",
                 "props": {
                  "attributes": {
                   "data-bind": "numericValue: index, valueUpdate: 'input', event: {change: function (){this.changes(this.changes()+1)}}",
                   "orient": "horizontal",
                   "type": "range"
                  },
                  "className": "slider slider is-fullwidth",
                  "max": 101,
                  "min": 1,
                  "step": 1,
                  "style": {}
                 },
                 "type": "node"
                }
               ],
               "instanceArgs": {
                "namespace": "html",
                "tag": "div"
               },
               "nodeType": "DOM",
               "props": {
                "className": "interact-flex-row-center"
               },
               "type": "node"
              },
              {
               "children": [
                {
                 "children": [],
                 "instanceArgs": {
                  "namespace": "html",
                  "tag": "p"
                 },
                 "nodeType": "DOM",
                 "props": {
                  "attributes": {
                   "data-bind": "text: formatted_val"
                  }
                 },
                 "type": "node"
                }
               ],
               "instanceArgs": {
                "namespace": "html",
                "tag": "div"
               },
               "nodeType": "DOM",
               "props": {
                "className": "interact-flex-row-right"
               },
               "type": "node"
              }
             ],
             "instanceArgs": {
              "namespace": "html",
              "tag": "div"
             },
             "nodeType": "DOM",
             "props": {
              "className": "interact-flex-row interact-widget"
             },
             "type": "node"
            }
           ],
           "instanceArgs": {
            "handlers": {
             "changes": [
              "(function (val){return (val!=this.model[\"changes\"]()) ? (this.valueFromJulia[\"changes\"]=true, this.model[\"changes\"](val)) : undefined})"
             ],
             "index": [
              "(function (val){return (val!=this.model[\"index\"]()) ? (this.valueFromJulia[\"index\"]=true, this.model[\"index\"](val)) : undefined})"
             ]
            },
            "id": "2589758200497687403",
            "imports": {
             "data": [
              {
               "name": "knockout",
               "type": "js",
               "url": "/assetserver/2712bb0a7395d062608c2f218a74b700f6c76b99-knockout.js"
              },
              {
               "name": "knockout_punches",
               "type": "js",
               "url": "/assetserver/fb4445501a2be4ab82176667f844e40da26fa007-knockout_punches.js"
              },
              {
               "name": null,
               "type": "js",
               "url": "/assetserver/a8ea7d9192d5fa85c6fac26c72d7fece1e500138-all.js"
              },
              {
               "name": null,
               "type": "css",
               "url": "/assetserver/620a53798cfdb29a4a2142ce0588e9aadc351d94-style.css"
              },
              {
               "name": null,
               "type": "css",
               "url": "/assetserver/9f2f17f677abbfd015a7c6b0c0f09a2da809bee2-bulma_confined.min.css"
              }
             ],
             "type": "async_block"
            },
            "mount_callbacks": [
             "function () {\n    var handler = (function (ko, koPunches) {\n    ko.punches.enableAll();\n    ko.bindingHandlers.numericValue = {\n        init: function(element, valueAccessor, allBindings, data, context) {\n            var stringified = ko.observable(ko.unwrap(valueAccessor()));\n            stringified.subscribe(function(value) {\n                var val = parseFloat(value);\n                if (!isNaN(val)) {\n                    valueAccessor()(val);\n                }\n            });\n            valueAccessor().subscribe(function(value) {\n                var str = JSON.stringify(value);\n                if ((str == \"0\") && ([\"-0\", \"-0.\"].indexOf(stringified()) >= 0))\n                     return;\n                 if ([\"null\", \"\"].indexOf(str) >= 0)\n                     return;\n                stringified(str);\n            });\n            ko.applyBindingsToNode(\n                element,\n                {\n                    value: stringified,\n                    valueUpdate: allBindings.get('valueUpdate'),\n                },\n                context,\n            );\n        }\n    };\n    var json_data = {\"formatted_vals\":[\"-0.5\",\"-0.49\",\"-0.48\",\"-0.47\",\"-0.46\",\"-0.45\",\"-0.44\",\"-0.43\",\"-0.42\",\"-0.41\",\"-0.4\",\"-0.39\",\"-0.38\",\"-0.37\",\"-0.36\",\"-0.35\",\"-0.34\",\"-0.33\",\"-0.32\",\"-0.31\",\"-0.3\",\"-0.29\",\"-0.28\",\"-0.27\",\"-0.26\",\"-0.25\",\"-0.24\",\"-0.23\",\"-0.22\",\"-0.21\",\"-0.2\",\"-0.19\",\"-0.18\",\"-0.17\",\"-0.16\",\"-0.15\",\"-0.14\",\"-0.13\",\"-0.12\",\"-0.11\",\"-0.1\",\"-0.09\",\"-0.08\",\"-0.07\",\"-0.06\",\"-0.05\",\"-0.04\",\"-0.03\",\"-0.02\",\"-0.01\",\"0.0\",\"0.01\",\"0.02\",\"0.03\",\"0.04\",\"0.05\",\"0.06\",\"0.07\",\"0.08\",\"0.09\",\"0.1\",\"0.11\",\"0.12\",\"0.13\",\"0.14\",\"0.15\",\"0.16\",\"0.17\",\"0.18\",\"0.19\",\"0.2\",\"0.21\",\"0.22\",\"0.23\",\"0.24\",\"0.25\",\"0.26\",\"0.27\",\"0.28\",\"0.29\",\"0.3\",\"0.31\",\"0.32\",\"0.33\",\"0.34\",\"0.35\",\"0.36\",\"0.37\",\"0.38\",\"0.39\",\"0.4\",\"0.41\",\"0.42\",\"0.43\",\"0.44\",\"0.45\",\"0.46\",\"0.47\",\"0.48\",\"0.49\",\"0.5\"],\"changes\":WebIO.getval({\"name\":\"changes\",\"scope\":\"2589758200497687403\",\"id\":\"18442256713514707364\",\"type\":\"observable\"}),\"index\":WebIO.getval({\"name\":\"index\",\"scope\":\"2589758200497687403\",\"id\":\"8077201286311420233\",\"type\":\"observable\"})};\n    var self = this;\n    function AppViewModel() {\n        for (var key in json_data) {\n            var el = json_data[key];\n            this[key] = Array.isArray(el) ? ko.observableArray(el) : ko.observable(el);\n        }\n        \n        [this[\"formatted_val\"]=ko.computed(    function(){\n        return this.formatted_vals()[parseInt(this.index())-(1)];\n    }\n,this)]\n        [this[\"changes\"].subscribe((function (val){!(this.valueFromJulia[\"changes\"]) ? (WebIO.setval({\"name\":\"changes\",\"scope\":\"2589758200497687403\",\"id\":\"18442256713514707364\",\"type\":\"observable\"},val)) : undefined; return this.valueFromJulia[\"changes\"]=false}),self),this[\"index\"].subscribe((function (val){!(this.valueFromJulia[\"index\"]) ? (WebIO.setval({\"name\":\"index\",\"scope\":\"2589758200497687403\",\"id\":\"8077201286311420233\",\"type\":\"observable\"},val)) : undefined; return this.valueFromJulia[\"index\"]=false}),self)]\n        \n    }\n    self.model = new AppViewModel();\n    self.valueFromJulia = {};\n    for (var key in json_data) {\n        self.valueFromJulia[key] = false;\n    }\n    ko.applyBindings(self.model, self.dom);\n}\n);\n    (WebIO.importBlock({\"data\":[{\"name\":\"knockout\",\"type\":\"js\",\"url\":\"/assetserver/2712bb0a7395d062608c2f218a74b700f6c76b99-knockout.js\"},{\"name\":\"knockout_punches\",\"type\":\"js\",\"url\":\"/assetserver/fb4445501a2be4ab82176667f844e40da26fa007-knockout_punches.js\"}],\"type\":\"async_block\"})).then((imports) => handler.apply(this, imports));\n}\n"
            ],
            "observables": {
             "changes": {
              "id": "18442256713514707364",
              "sync": false,
              "value": 0
             },
             "index": {
              "id": "8077201286311420233",
              "sync": true,
              "value": 51
             }
            },
            "systemjs_options": null
           },
           "nodeType": "Scope",
           "props": {},
           "type": "node"
          }
         ],
         "instanceArgs": {
          "namespace": "html",
          "tag": "div"
         },
         "nodeType": "DOM",
         "props": {
          "className": "field interact-widget"
         },
         "type": "node"
        },
        {
         "children": [
          {
           "children": [
            {
             "children": [
              {
               "children": [
                {
                 "children": [
                  "x0"
                 ],
                 "instanceArgs": {
                  "namespace": "html",
                  "tag": "label"
                 },
                 "nodeType": "DOM",
                 "props": {
                  "className": "interact ",
                  "style": {
                   "padding": "5px 10px 0px 10px"
                  }
                 },
                 "type": "node"
                }
               ],
               "instanceArgs": {
                "namespace": "html",
                "tag": "div"
               },
               "nodeType": "DOM",
               "props": {
                "className": "interact-flex-row-left"
               },
               "type": "node"
              },
              {
               "children": [
                {
                 "children": [],
                 "instanceArgs": {
                  "namespace": "html",
                  "tag": "input"
                 },
                 "nodeType": "DOM",
                 "props": {
                  "attributes": {
                   "data-bind": "numericValue: index, valueUpdate: 'input', event: {change: function (){this.changes(this.changes()+1)}}",
                   "orient": "horizontal",
                   "type": "range"
                  },
                  "className": "slider slider is-fullwidth",
                  "max": 101,
                  "min": 1,
                  "step": 1,
                  "style": {}
                 },
                 "type": "node"
                }
               ],
               "instanceArgs": {
                "namespace": "html",
                "tag": "div"
               },
               "nodeType": "DOM",
               "props": {
                "className": "interact-flex-row-center"
               },
               "type": "node"
              },
              {
               "children": [
                {
                 "children": [],
                 "instanceArgs": {
                  "namespace": "html",
                  "tag": "p"
                 },
                 "nodeType": "DOM",
                 "props": {
                  "attributes": {
                   "data-bind": "text: formatted_val"
                  }
                 },
                 "type": "node"
                }
               ],
               "instanceArgs": {
                "namespace": "html",
                "tag": "div"
               },
               "nodeType": "DOM",
               "props": {
                "className": "interact-flex-row-right"
               },
               "type": "node"
              }
             ],
             "instanceArgs": {
              "namespace": "html",
              "tag": "div"
             },
             "nodeType": "DOM",
             "props": {
              "className": "interact-flex-row interact-widget"
             },
             "type": "node"
            }
           ],
           "instanceArgs": {
            "handlers": {
             "changes": [
              "(function (val){return (val!=this.model[\"changes\"]()) ? (this.valueFromJulia[\"changes\"]=true, this.model[\"changes\"](val)) : undefined})"
             ],
             "index": [
              "(function (val){return (val!=this.model[\"index\"]()) ? (this.valueFromJulia[\"index\"]=true, this.model[\"index\"](val)) : undefined})"
             ]
            },
            "id": "7819012724128509527",
            "imports": {
             "data": [
              {
               "name": "knockout",
               "type": "js",
               "url": "/assetserver/2712bb0a7395d062608c2f218a74b700f6c76b99-knockout.js"
              },
              {
               "name": "knockout_punches",
               "type": "js",
               "url": "/assetserver/fb4445501a2be4ab82176667f844e40da26fa007-knockout_punches.js"
              },
              {
               "name": null,
               "type": "js",
               "url": "/assetserver/a8ea7d9192d5fa85c6fac26c72d7fece1e500138-all.js"
              },
              {
               "name": null,
               "type": "css",
               "url": "/assetserver/620a53798cfdb29a4a2142ce0588e9aadc351d94-style.css"
              },
              {
               "name": null,
               "type": "css",
               "url": "/assetserver/9f2f17f677abbfd015a7c6b0c0f09a2da809bee2-bulma_confined.min.css"
              }
             ],
             "type": "async_block"
            },
            "mount_callbacks": [
             "function () {\n    var handler = (function (ko, koPunches) {\n    ko.punches.enableAll();\n    ko.bindingHandlers.numericValue = {\n        init: function(element, valueAccessor, allBindings, data, context) {\n            var stringified = ko.observable(ko.unwrap(valueAccessor()));\n            stringified.subscribe(function(value) {\n                var val = parseFloat(value);\n                if (!isNaN(val)) {\n                    valueAccessor()(val);\n                }\n            });\n            valueAccessor().subscribe(function(value) {\n                var str = JSON.stringify(value);\n                if ((str == \"0\") && ([\"-0\", \"-0.\"].indexOf(stringified()) >= 0))\n                     return;\n                 if ([\"null\", \"\"].indexOf(str) >= 0)\n                     return;\n                stringified(str);\n            });\n            ko.applyBindingsToNode(\n                element,\n                {\n                    value: stringified,\n                    valueUpdate: allBindings.get('valueUpdate'),\n                },\n                context,\n            );\n        }\n    };\n    var json_data = {\"formatted_vals\":[\"-1.0\",\"-0.98\",\"-0.96\",\"-0.94\",\"-0.92\",\"-0.9\",\"-0.88\",\"-0.86\",\"-0.84\",\"-0.82\",\"-0.8\",\"-0.78\",\"-0.76\",\"-0.74\",\"-0.72\",\"-0.7\",\"-0.68\",\"-0.66\",\"-0.64\",\"-0.62\",\"-0.6\",\"-0.58\",\"-0.56\",\"-0.54\",\"-0.52\",\"-0.5\",\"-0.48\",\"-0.46\",\"-0.44\",\"-0.42\",\"-0.4\",\"-0.38\",\"-0.36\",\"-0.34\",\"-0.32\",\"-0.3\",\"-0.28\",\"-0.26\",\"-0.24\",\"-0.22\",\"-0.2\",\"-0.18\",\"-0.16\",\"-0.14\",\"-0.12\",\"-0.1\",\"-0.08\",\"-0.06\",\"-0.04\",\"-0.02\",\"0.0\",\"0.02\",\"0.04\",\"0.06\",\"0.08\",\"0.1\",\"0.12\",\"0.14\",\"0.16\",\"0.18\",\"0.2\",\"0.22\",\"0.24\",\"0.26\",\"0.28\",\"0.3\",\"0.32\",\"0.34\",\"0.36\",\"0.38\",\"0.4\",\"0.42\",\"0.44\",\"0.46\",\"0.48\",\"0.5\",\"0.52\",\"0.54\",\"0.56\",\"0.58\",\"0.6\",\"0.62\",\"0.64\",\"0.66\",\"0.68\",\"0.7\",\"0.72\",\"0.74\",\"0.76\",\"0.78\",\"0.8\",\"0.82\",\"0.84\",\"0.86\",\"0.88\",\"0.9\",\"0.92\",\"0.94\",\"0.96\",\"0.98\",\"1.0\"],\"changes\":WebIO.getval({\"name\":\"changes\",\"scope\":\"7819012724128509527\",\"id\":\"269376758501332998\",\"type\":\"observable\"}),\"index\":WebIO.getval({\"name\":\"index\",\"scope\":\"7819012724128509527\",\"id\":\"2057787919331705925\",\"type\":\"observable\"})};\n    var self = this;\n    function AppViewModel() {\n        for (var key in json_data) {\n            var el = json_data[key];\n            this[key] = Array.isArray(el) ? ko.observableArray(el) : ko.observable(el);\n        }\n        \n        [this[\"formatted_val\"]=ko.computed(    function(){\n        return this.formatted_vals()[parseInt(this.index())-(1)];\n    }\n,this)]\n        [this[\"changes\"].subscribe((function (val){!(this.valueFromJulia[\"changes\"]) ? (WebIO.setval({\"name\":\"changes\",\"scope\":\"7819012724128509527\",\"id\":\"269376758501332998\",\"type\":\"observable\"},val)) : undefined; return this.valueFromJulia[\"changes\"]=false}),self),this[\"index\"].subscribe((function (val){!(this.valueFromJulia[\"index\"]) ? (WebIO.setval({\"name\":\"index\",\"scope\":\"7819012724128509527\",\"id\":\"2057787919331705925\",\"type\":\"observable\"},val)) : undefined; return this.valueFromJulia[\"index\"]=false}),self)]\n        \n    }\n    self.model = new AppViewModel();\n    self.valueFromJulia = {};\n    for (var key in json_data) {\n        self.valueFromJulia[key] = false;\n    }\n    ko.applyBindings(self.model, self.dom);\n}\n);\n    (WebIO.importBlock({\"data\":[{\"name\":\"knockout\",\"type\":\"js\",\"url\":\"/assetserver/2712bb0a7395d062608c2f218a74b700f6c76b99-knockout.js\"},{\"name\":\"knockout_punches\",\"type\":\"js\",\"url\":\"/assetserver/fb4445501a2be4ab82176667f844e40da26fa007-knockout_punches.js\"}],\"type\":\"async_block\"})).then((imports) => handler.apply(this, imports));\n}\n"
            ],
            "observables": {
             "changes": {
              "id": "269376758501332998",
              "sync": false,
              "value": 0
             },
             "index": {
              "id": "2057787919331705925",
              "sync": true,
              "value": 51
             }
            },
            "systemjs_options": null
           },
           "nodeType": "Scope",
           "props": {},
           "type": "node"
          }
         ],
         "instanceArgs": {
          "namespace": "html",
          "tag": "div"
         },
         "nodeType": "DOM",
         "props": {
          "className": "field interact-widget"
         },
         "type": "node"
        },
        {
         "children": [
          {
           "children": [
            {
             "children": [
              {
               "children": [
                {
                 "children": [
                  "tmax"
                 ],
                 "instanceArgs": {
                  "namespace": "html",
                  "tag": "label"
                 },
                 "nodeType": "DOM",
                 "props": {
                  "className": "interact ",
                  "style": {
                   "padding": "5px 10px 0px 10px"
                  }
                 },
                 "type": "node"
                }
               ],
               "instanceArgs": {
                "namespace": "html",
                "tag": "div"
               },
               "nodeType": "DOM",
               "props": {
                "className": "interact-flex-row-left"
               },
               "type": "node"
              },
              {
               "children": [
                {
                 "children": [],
                 "instanceArgs": {
                  "namespace": "html",
                  "tag": "input"
                 },
                 "nodeType": "DOM",
                 "props": {
                  "attributes": {
                   "data-bind": "numericValue: index, valueUpdate: 'input', event: {change: function (){this.changes(this.changes()+1)}}",
                   "orient": "horizontal",
                   "type": "range"
                  },
                  "className": "slider slider is-fullwidth",
                  "max": 10,
                  "min": 1,
                  "step": 1,
                  "style": {}
                 },
                 "type": "node"
                }
               ],
               "instanceArgs": {
                "namespace": "html",
                "tag": "div"
               },
               "nodeType": "DOM",
               "props": {
                "className": "interact-flex-row-center"
               },
               "type": "node"
              },
              {
               "children": [
                {
                 "children": [],
                 "instanceArgs": {
                  "namespace": "html",
                  "tag": "p"
                 },
                 "nodeType": "DOM",
                 "props": {
                  "attributes": {
                   "data-bind": "text: formatted_val"
                  }
                 },
                 "type": "node"
                }
               ],
               "instanceArgs": {
                "namespace": "html",
                "tag": "div"
               },
               "nodeType": "DOM",
               "props": {
                "className": "interact-flex-row-right"
               },
               "type": "node"
              }
             ],
             "instanceArgs": {
              "namespace": "html",
              "tag": "div"
             },
             "nodeType": "DOM",
             "props": {
              "className": "interact-flex-row interact-widget"
             },
             "type": "node"
            }
           ],
           "instanceArgs": {
            "handlers": {
             "changes": [
              "(function (val){return (val!=this.model[\"changes\"]()) ? (this.valueFromJulia[\"changes\"]=true, this.model[\"changes\"](val)) : undefined})"
             ],
             "index": [
              "(function (val){return (val!=this.model[\"index\"]()) ? (this.valueFromJulia[\"index\"]=true, this.model[\"index\"](val)) : undefined})"
             ]
            },
            "id": "9555248574976903244",
            "imports": {
             "data": [
              {
               "name": "knockout",
               "type": "js",
               "url": "/assetserver/2712bb0a7395d062608c2f218a74b700f6c76b99-knockout.js"
              },
              {
               "name": "knockout_punches",
               "type": "js",
               "url": "/assetserver/fb4445501a2be4ab82176667f844e40da26fa007-knockout_punches.js"
              },
              {
               "name": null,
               "type": "js",
               "url": "/assetserver/a8ea7d9192d5fa85c6fac26c72d7fece1e500138-all.js"
              },
              {
               "name": null,
               "type": "css",
               "url": "/assetserver/620a53798cfdb29a4a2142ce0588e9aadc351d94-style.css"
              },
              {
               "name": null,
               "type": "css",
               "url": "/assetserver/9f2f17f677abbfd015a7c6b0c0f09a2da809bee2-bulma_confined.min.css"
              }
             ],
             "type": "async_block"
            },
            "mount_callbacks": [
             "function () {\n    var handler = (function (ko, koPunches) {\n    ko.punches.enableAll();\n    ko.bindingHandlers.numericValue = {\n        init: function(element, valueAccessor, allBindings, data, context) {\n            var stringified = ko.observable(ko.unwrap(valueAccessor()));\n            stringified.subscribe(function(value) {\n                var val = parseFloat(value);\n                if (!isNaN(val)) {\n                    valueAccessor()(val);\n                }\n            });\n            valueAccessor().subscribe(function(value) {\n                var str = JSON.stringify(value);\n                if ((str == \"0\") && ([\"-0\", \"-0.\"].indexOf(stringified()) >= 0))\n                     return;\n                 if ([\"null\", \"\"].indexOf(str) >= 0)\n                     return;\n                stringified(str);\n            });\n            ko.applyBindingsToNode(\n                element,\n                {\n                    value: stringified,\n                    valueUpdate: allBindings.get('valueUpdate'),\n                },\n                context,\n            );\n        }\n    };\n    var json_data = {\"formatted_vals\":[\"1.0\",\"6.0\",\"11.0\",\"16.0\",\"21.0\",\"26.0\",\"31.0\",\"36.0\",\"41.0\",\"46.0\"],\"changes\":WebIO.getval({\"name\":\"changes\",\"scope\":\"9555248574976903244\",\"id\":\"8787250801199051660\",\"type\":\"observable\"}),\"index\":WebIO.getval({\"name\":\"index\",\"scope\":\"9555248574976903244\",\"id\":\"10413769646542003327\",\"type\":\"observable\"})};\n    var self = this;\n    function AppViewModel() {\n        for (var key in json_data) {\n            var el = json_data[key];\n            this[key] = Array.isArray(el) ? ko.observableArray(el) : ko.observable(el);\n        }\n        \n        [this[\"formatted_val\"]=ko.computed(    function(){\n        return this.formatted_vals()[parseInt(this.index())-(1)];\n    }\n,this)]\n        [this[\"changes\"].subscribe((function (val){!(this.valueFromJulia[\"changes\"]) ? (WebIO.setval({\"name\":\"changes\",\"scope\":\"9555248574976903244\",\"id\":\"8787250801199051660\",\"type\":\"observable\"},val)) : undefined; return this.valueFromJulia[\"changes\"]=false}),self),this[\"index\"].subscribe((function (val){!(this.valueFromJulia[\"index\"]) ? (WebIO.setval({\"name\":\"index\",\"scope\":\"9555248574976903244\",\"id\":\"10413769646542003327\",\"type\":\"observable\"},val)) : undefined; return this.valueFromJulia[\"index\"]=false}),self)]\n        \n    }\n    self.model = new AppViewModel();\n    self.valueFromJulia = {};\n    for (var key in json_data) {\n        self.valueFromJulia[key] = false;\n    }\n    ko.applyBindings(self.model, self.dom);\n}\n);\n    (WebIO.importBlock({\"data\":[{\"name\":\"knockout\",\"type\":\"js\",\"url\":\"/assetserver/2712bb0a7395d062608c2f218a74b700f6c76b99-knockout.js\"},{\"name\":\"knockout_punches\",\"type\":\"js\",\"url\":\"/assetserver/fb4445501a2be4ab82176667f844e40da26fa007-knockout_punches.js\"}],\"type\":\"async_block\"})).then((imports) => handler.apply(this, imports));\n}\n"
            ],
            "observables": {
             "changes": {
              "id": "8787250801199051660",
              "sync": false,
              "value": 0
             },
             "index": {
              "id": "10413769646542003327",
              "sync": true,
              "value": 5
             }
            },
            "systemjs_options": null
           },
           "nodeType": "Scope",
           "props": {},
           "type": "node"
          }
         ],
         "instanceArgs": {
          "namespace": "html",
          "tag": "div"
         },
         "nodeType": "DOM",
         "props": {
          "className": "field interact-widget"
         },
         "type": "node"
        },
        {
         "children": [
          {
           "children": [],
           "instanceArgs": {
            "id": "16349627581311428320",
            "name": "obs-node"
           },
           "nodeType": "ObservableNode",
           "props": {},
           "type": "node"
          }
         ],
         "instanceArgs": {
          "handlers": {},
          "id": "9612171545873410019",
          "imports": {
           "data": [],
           "type": "async_block"
          },
          "mount_callbacks": [],
          "observables": {
           "obs-node": {
            "id": "16349627581311428320",
            "sync": false,
            "value": {
             "children": [
              {
               "children": [],
               "instanceArgs": {
                "namespace": "html",
                "tag": "div"
               },
               "nodeType": "DOM",
               "props": {
                "setInnerHtml": "<img src=\"data:image/png;base64,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\" />"
               },
               "type": "node"
              }
             ],
             "instanceArgs": {
              "namespace": "html",
              "tag": "div"
             },
             "nodeType": "DOM",
             "props": {
              "className": "interact-flex-row interact-widget"
             },
             "type": "node"
            }
           }
          },
          "systemjs_options": null
         },
         "nodeType": "Scope",
         "props": {},
         "type": "node"
        }
       ],
       "instanceArgs": {
        "namespace": "html",
        "tag": "div"
       },
       "nodeType": "DOM",
       "props": {},
       "type": "node"
      },
      "text/html": [
       "<div\n",
       "    class=\"webio-mountpoint\"\n",
       "    data-webio-mountpoint=\"7657972446278073231\"\n",
       ">\n",
       "    <script>\n",
       "    (function(){\n",
       "    // Some integrations (namely, IJulia/Jupyter) use an alternate render pathway than\n",
       "    // just putting the html on the page. If WebIO isn't defined, then it's pretty likely\n",
       "    // that we're in one of those situations and the integration just isn't installed\n",
       "    // correctly.\n",
       "    if (typeof window.WebIO === \"undefined\") {\n",
       "        document\n",
       "            .querySelector('[data-webio-mountpoint=\"7657972446278073231\"]')\n",
       "            .innerHTML = (\n",
       "                '<div style=\"padding: 1em; background-color: #f8d6da; border: 1px solid #f5c6cb; font-weight: bold;\">' +\n",
       "                '<p><strong>WebIO not detected.</strong></p>' +\n",
       "                '<p>Please read ' +\n",
       "                '<a href=\"https://juliagizmos.github.io/WebIO.jl/latest/troubleshooting/not-detected/\" target=\"_blank\">the troubleshooting guide</a> ' +\n",
       "                'for more information on how to resolve this issue.</p>' +\n",
       "                '<p><a href=\"https://juliagizmos.github.io/WebIO.jl/latest/troubleshooting/not-detected/\" target=\"_blank\">https://juliagizmos.github.io/WebIO.jl/latest/troubleshooting/not-detected/</a></p>' +\n",
       "                '</div>'\n",
       "            );\n",
       "        return;\n",
       "    }\n",
       "    WebIO.mount(\n",
       "        document.querySelector('[data-webio-mountpoint=\"7657972446278073231\"]'),\n",
       "        {\"props\":{},\"nodeType\":\"DOM\",\"type\":\"node\",\"instanceArgs\":{\"namespace\":\"html\",\"tag\":\"div\"},\"children\":[{\"props\":{\"className\":\"field interact-widget\"},\"nodeType\":\"DOM\",\"type\":\"node\",\"instanceArgs\":{\"namespace\":\"html\",\"tag\":\"div\"},\"children\":[{\"props\":{},\"nodeType\":\"Scope\",\"type\":\"node\",\"instanceArgs\":{\"imports\":{\"data\":[{\"name\":\"knockout\",\"type\":\"js\",\"url\":\"\\/assetserver\\/2712bb0a7395d062608c2f218a74b700f6c76b99-knockout.js\"},{\"name\":\"knockout_punches\",\"type\":\"js\",\"url\":\"\\/assetserver\\/fb4445501a2be4ab82176667f844e40da26fa007-knockout_punches.js\"},{\"name\":null,\"type\":\"js\",\"url\":\"\\/assetserver\\/a8ea7d9192d5fa85c6fac26c72d7fece1e500138-all.js\"},{\"name\":null,\"type\":\"css\",\"url\":\"\\/assetserver\\/620a53798cfdb29a4a2142ce0588e9aadc351d94-style.css\"},{\"name\":null,\"type\":\"css\",\"url\":\"\\/assetserver\\/9f2f17f677abbfd015a7c6b0c0f09a2da809bee2-bulma_confined.min.css\"}],\"type\":\"async_block\"},\"id\":\"2589758200497687403\",\"handlers\":{\"changes\":[\"(function (val){return (val!=this.model[\\\"changes\\\"]()) ? (this.valueFromJulia[\\\"changes\\\"]=true, this.model[\\\"changes\\\"](val)) : undefined})\"],\"index\":[\"(function (val){return (val!=this.model[\\\"index\\\"]()) ? (this.valueFromJulia[\\\"index\\\"]=true, this.model[\\\"index\\\"](val)) : undefined})\"]},\"systemjs_options\":null,\"mount_callbacks\":[\"function () {\\n    var handler = (function (ko, koPunches) {\\n    ko.punches.enableAll();\\n    ko.bindingHandlers.numericValue = {\\n        init: function(element, valueAccessor, allBindings, data, context) {\\n            var stringified = ko.observable(ko.unwrap(valueAccessor()));\\n            stringified.subscribe(function(value) {\\n                var val = parseFloat(value);\\n                if (!isNaN(val)) {\\n                    valueAccessor()(val);\\n                }\\n            });\\n            valueAccessor().subscribe(function(value) {\\n                var str = JSON.stringify(value);\\n                if ((str == \\\"0\\\") && ([\\\"-0\\\", \\\"-0.\\\"].indexOf(stringified()) >= 0))\\n                     return;\\n                 if ([\\\"null\\\", \\\"\\\"].indexOf(str) >= 0)\\n                     return;\\n                stringified(str);\\n            });\\n            ko.applyBindingsToNode(\\n                element,\\n                {\\n                    value: stringified,\\n                    valueUpdate: allBindings.get('valueUpdate'),\\n                },\\n                context,\\n            );\\n        }\\n    };\\n    var json_data = {\\\"formatted_vals\\\":[\\\"-0.5\\\",\\\"-0.49\\\",\\\"-0.48\\\",\\\"-0.47\\\",\\\"-0.46\\\",\\\"-0.45\\\",\\\"-0.44\\\",\\\"-0.43\\\",\\\"-0.42\\\",\\\"-0.41\\\",\\\"-0.4\\\",\\\"-0.39\\\",\\\"-0.38\\\",\\\"-0.37\\\",\\\"-0.36\\\",\\\"-0.35\\\",\\\"-0.34\\\",\\\"-0.33\\\",\\\"-0.32\\\",\\\"-0.31\\\",\\\"-0.3\\\",\\\"-0.29\\\",\\\"-0.28\\\",\\\"-0.27\\\",\\\"-0.26\\\",\\\"-0.25\\\",\\\"-0.24\\\",\\\"-0.23\\\",\\\"-0.22\\\",\\\"-0.21\\\",\\\"-0.2\\\",\\\"-0.19\\\",\\\"-0.18\\\",\\\"-0.17\\\",\\\"-0.16\\\",\\\"-0.15\\\",\\\"-0.14\\\",\\\"-0.13\\\",\\\"-0.12\\\",\\\"-0.11\\\",\\\"-0.1\\\",\\\"-0.09\\\",\\\"-0.08\\\",\\\"-0.07\\\",\\\"-0.06\\\",\\\"-0.05\\\",\\\"-0.04\\\",\\\"-0.03\\\",\\\"-0.02\\\",\\\"-0.01\\\",\\\"0.0\\\",\\\"0.01\\\",\\\"0.02\\\",\\\"0.03\\\",\\\"0.04\\\",\\\"0.05\\\",\\\"0.06\\\",\\\"0.07\\\",\\\"0.08\\\",\\\"0.09\\\",\\\"0.1\\\",\\\"0.11\\\",\\\"0.12\\\",\\\"0.13\\\",\\\"0.14\\\",\\\"0.15\\\",\\\"0.16\\\",\\\"0.17\\\",\\\"0.18\\\",\\\"0.19\\\",\\\"0.2\\\",\\\"0.21\\\",\\\"0.22\\\",\\\"0.23\\\",\\\"0.24\\\",\\\"0.25\\\",\\\"0.26\\\",\\\"0.27\\\",\\\"0.28\\\",\\\"0.29\\\",\\\"0.3\\\",\\\"0.31\\\",\\\"0.32\\\",\\\"0.33\\\",\\\"0.34\\\",\\\"0.35\\\",\\\"0.36\\\",\\\"0.37\\\",\\\"0.38\\\",\\\"0.39\\\",\\\"0.4\\\",\\\"0.41\\\",\\\"0.42\\\",\\\"0.43\\\",\\\"0.44\\\",\\\"0.45\\\",\\\"0.46\\\",\\\"0.47\\\",\\\"0.48\\\",\\\"0.49\\\",\\\"0.5\\\"],\\\"changes\\\":WebIO.getval({\\\"name\\\":\\\"changes\\\",\\\"scope\\\":\\\"2589758200497687403\\\",\\\"id\\\":\\\"18442256713514707364\\\",\\\"type\\\":\\\"observable\\\"}),\\\"index\\\":WebIO.getval({\\\"name\\\":\\\"index\\\",\\\"scope\\\":\\\"2589758200497687403\\\",\\\"id\\\":\\\"8077201286311420233\\\",\\\"type\\\":\\\"observable\\\"})};\\n    var self = this;\\n    function AppViewModel() {\\n        for (var key in json_data) {\\n            var el = json_data[key];\\n            this[key] = Array.isArray(el) ? ko.observableArray(el) : ko.observable(el);\\n        }\\n        \\n        [this[\\\"formatted_val\\\"]=ko.computed(    function(){\\n        return this.formatted_vals()[parseInt(this.index())-(1)];\\n    }\\n,this)]\\n        [this[\\\"changes\\\"].subscribe((function (val){!(this.valueFromJulia[\\\"changes\\\"]) ? (WebIO.setval({\\\"name\\\":\\\"changes\\\",\\\"scope\\\":\\\"2589758200497687403\\\",\\\"id\\\":\\\"18442256713514707364\\\",\\\"type\\\":\\\"observable\\\"},val)) : undefined; return this.valueFromJulia[\\\"changes\\\"]=false}),self),this[\\\"index\\\"].subscribe((function (val){!(this.valueFromJulia[\\\"index\\\"]) ? (WebIO.setval({\\\"name\\\":\\\"index\\\",\\\"scope\\\":\\\"2589758200497687403\\\",\\\"id\\\":\\\"8077201286311420233\\\",\\\"type\\\":\\\"observable\\\"},val)) : undefined; return this.valueFromJulia[\\\"index\\\"]=false}),self)]\\n        \\n    }\\n    self.model = new AppViewModel();\\n    self.valueFromJulia = {};\\n    for (var key in json_data) {\\n        self.valueFromJulia[key] = false;\\n    }\\n    ko.applyBindings(self.model, self.dom);\\n}\\n);\\n    (WebIO.importBlock({\\\"data\\\":[{\\\"name\\\":\\\"knockout\\\",\\\"type\\\":\\\"js\\\",\\\"url\\\":\\\"\\/assetserver\\/2712bb0a7395d062608c2f218a74b700f6c76b99-knockout.js\\\"},{\\\"name\\\":\\\"knockout_punches\\\",\\\"type\\\":\\\"js\\\",\\\"url\\\":\\\"\\/assetserver\\/fb4445501a2be4ab82176667f844e40da26fa007-knockout_punches.js\\\"}],\\\"type\\\":\\\"async_block\\\"})).then((imports) => handler.apply(this, imports));\\n}\\n\"],\"observables\":{\"changes\":{\"sync\":false,\"id\":\"18442256713514707364\",\"value\":0},\"index\":{\"sync\":true,\"id\":\"8077201286311420233\",\"value\":51}}},\"children\":[{\"props\":{\"className\":\"interact-flex-row interact-widget\"},\"nodeType\":\"DOM\",\"type\":\"node\",\"instanceArgs\":{\"namespace\":\"html\",\"tag\":\"div\"},\"children\":[{\"props\":{\"className\":\"interact-flex-row-left\"},\"nodeType\":\"DOM\",\"type\":\"node\",\"instanceArgs\":{\"namespace\":\"html\",\"tag\":\"div\"},\"children\":[{\"props\":{\"className\":\"interact \",\"style\":{\"padding\":\"5px 10px 0px 10px\"}},\"nodeType\":\"DOM\",\"type\":\"node\",\"instanceArgs\":{\"namespace\":\"html\",\"tag\":\"label\"},\"children\":[\"a\"]}]},{\"props\":{\"className\":\"interact-flex-row-center\"},\"nodeType\":\"DOM\",\"type\":\"node\",\"instanceArgs\":{\"namespace\":\"html\",\"tag\":\"div\"},\"children\":[{\"props\":{\"max\":101,\"min\":1,\"attributes\":{\"type\":\"range\",\"data-bind\":\"numericValue: index, valueUpdate: 'input', event: {change: function (){this.changes(this.changes()+1)}}\",\"orient\":\"horizontal\"},\"step\":1,\"className\":\"slider slider is-fullwidth\",\"style\":{}},\"nodeType\":\"DOM\",\"type\":\"node\",\"instanceArgs\":{\"namespace\":\"html\",\"tag\":\"input\"},\"children\":[]}]},{\"props\":{\"className\":\"interact-flex-row-right\"},\"nodeType\":\"DOM\",\"type\":\"node\",\"instanceArgs\":{\"namespace\":\"html\",\"tag\":\"div\"},\"children\":[{\"props\":{\"attributes\":{\"data-bind\":\"text: formatted_val\"}},\"nodeType\":\"DOM\",\"type\":\"node\",\"instanceArgs\":{\"namespace\":\"html\",\"tag\":\"p\"},\"children\":[]}]}]}]}]},{\"props\":{\"className\":\"field interact-widget\"},\"nodeType\":\"DOM\",\"type\":\"node\",\"instanceArgs\":{\"namespace\":\"html\",\"tag\":\"div\"},\"children\":[{\"props\":{},\"nodeType\":\"Scope\",\"type\":\"node\",\"instanceArgs\":{\"imports\":{\"data\":[{\"name\":\"knockout\",\"type\":\"js\",\"url\":\"\\/assetserver\\/2712bb0a7395d062608c2f218a74b700f6c76b99-knockout.js\"},{\"name\":\"knockout_punches\",\"type\":\"js\",\"url\":\"\\/assetserver\\/fb4445501a2be4ab82176667f844e40da26fa007-knockout_punches.js\"},{\"name\":null,\"type\":\"js\",\"url\":\"\\/assetserver\\/a8ea7d9192d5fa85c6fac26c72d7fece1e500138-all.js\"},{\"name\":null,\"type\":\"css\",\"url\":\"\\/assetserver\\/620a53798cfdb29a4a2142ce0588e9aadc351d94-style.css\"},{\"name\":null,\"type\":\"css\",\"url\":\"\\/assetserver\\/9f2f17f677abbfd015a7c6b0c0f09a2da809bee2-bulma_confined.min.css\"}],\"type\":\"async_block\"},\"id\":\"7819012724128509527\",\"handlers\":{\"changes\":[\"(function (val){return (val!=this.model[\\\"changes\\\"]()) ? (this.valueFromJulia[\\\"changes\\\"]=true, this.model[\\\"changes\\\"](val)) : undefined})\"],\"index\":[\"(function (val){return (val!=this.model[\\\"index\\\"]()) ? (this.valueFromJulia[\\\"index\\\"]=true, this.model[\\\"index\\\"](val)) : undefined})\"]},\"systemjs_options\":null,\"mount_callbacks\":[\"function () {\\n    var handler = (function (ko, koPunches) {\\n    ko.punches.enableAll();\\n    ko.bindingHandlers.numericValue = {\\n        init: function(element, valueAccessor, allBindings, data, context) {\\n            var stringified = ko.observable(ko.unwrap(valueAccessor()));\\n            stringified.subscribe(function(value) {\\n                var val = parseFloat(value);\\n                if (!isNaN(val)) {\\n                    valueAccessor()(val);\\n                }\\n            });\\n            valueAccessor().subscribe(function(value) {\\n                var str = JSON.stringify(value);\\n                if ((str == \\\"0\\\") && ([\\\"-0\\\", \\\"-0.\\\"].indexOf(stringified()) >= 0))\\n                     return;\\n                 if ([\\\"null\\\", \\\"\\\"].indexOf(str) >= 0)\\n                     return;\\n                stringified(str);\\n            });\\n            ko.applyBindingsToNode(\\n                element,\\n                {\\n                    value: stringified,\\n                    valueUpdate: allBindings.get('valueUpdate'),\\n                },\\n                context,\\n            );\\n        }\\n    };\\n    var json_data = {\\\"formatted_vals\\\":[\\\"-1.0\\\",\\\"-0.98\\\",\\\"-0.96\\\",\\\"-0.94\\\",\\\"-0.92\\\",\\\"-0.9\\\",\\\"-0.88\\\",\\\"-0.86\\\",\\\"-0.84\\\",\\\"-0.82\\\",\\\"-0.8\\\",\\\"-0.78\\\",\\\"-0.76\\\",\\\"-0.74\\\",\\\"-0.72\\\",\\\"-0.7\\\",\\\"-0.68\\\",\\\"-0.66\\\",\\\"-0.64\\\",\\\"-0.62\\\",\\\"-0.6\\\",\\\"-0.58\\\",\\\"-0.56\\\",\\\"-0.54\\\",\\\"-0.52\\\",\\\"-0.5\\\",\\\"-0.48\\\",\\\"-0.46\\\",\\\"-0.44\\\",\\\"-0.42\\\",\\\"-0.4\\\",\\\"-0.38\\\",\\\"-0.36\\\",\\\"-0.34\\\",\\\"-0.32\\\",\\\"-0.3\\\",\\\"-0.28\\\",\\\"-0.26\\\",\\\"-0.24\\\",\\\"-0.22\\\",\\\"-0.2\\\",\\\"-0.18\\\",\\\"-0.16\\\",\\\"-0.14\\\",\\\"-0.12\\\",\\\"-0.1\\\",\\\"-0.08\\\",\\\"-0.06\\\",\\\"-0.04\\\",\\\"-0.02\\\",\\\"0.0\\\",\\\"0.02\\\",\\\"0.04\\\",\\\"0.06\\\",\\\"0.08\\\",\\\"0.1\\\",\\\"0.12\\\",\\\"0.14\\\",\\\"0.16\\\",\\\"0.18\\\",\\\"0.2\\\",\\\"0.22\\\",\\\"0.24\\\",\\\"0.26\\\",\\\"0.28\\\",\\\"0.3\\\",\\\"0.32\\\",\\\"0.34\\\",\\\"0.36\\\",\\\"0.38\\\",\\\"0.4\\\",\\\"0.42\\\",\\\"0.44\\\",\\\"0.46\\\",\\\"0.48\\\",\\\"0.5\\\",\\\"0.52\\\",\\\"0.54\\\",\\\"0.56\\\",\\\"0.58\\\",\\\"0.6\\\",\\\"0.62\\\",\\\"0.64\\\",\\\"0.66\\\",\\\"0.68\\\",\\\"0.7\\\",\\\"0.72\\\",\\\"0.74\\\",\\\"0.76\\\",\\\"0.78\\\",\\\"0.8\\\",\\\"0.82\\\",\\\"0.84\\\",\\\"0.86\\\",\\\"0.88\\\",\\\"0.9\\\",\\\"0.92\\\",\\\"0.94\\\",\\\"0.96\\\",\\\"0.98\\\",\\\"1.0\\\"],\\\"changes\\\":WebIO.getval({\\\"name\\\":\\\"changes\\\",\\\"scope\\\":\\\"7819012724128509527\\\",\\\"id\\\":\\\"269376758501332998\\\",\\\"type\\\":\\\"observable\\\"}),\\\"index\\\":WebIO.getval({\\\"name\\\":\\\"index\\\",\\\"scope\\\":\\\"7819012724128509527\\\",\\\"id\\\":\\\"2057787919331705925\\\",\\\"type\\\":\\\"observable\\\"})};\\n    var self = this;\\n    function AppViewModel() {\\n        for (var key in json_data) {\\n            var el = json_data[key];\\n            this[key] = Array.isArray(el) ? ko.observableArray(el) : ko.observable(el);\\n        }\\n        \\n        [this[\\\"formatted_val\\\"]=ko.computed(    function(){\\n        return this.formatted_vals()[parseInt(this.index())-(1)];\\n    }\\n,this)]\\n        [this[\\\"changes\\\"].subscribe((function (val){!(this.valueFromJulia[\\\"changes\\\"]) ? (WebIO.setval({\\\"name\\\":\\\"changes\\\",\\\"scope\\\":\\\"7819012724128509527\\\",\\\"id\\\":\\\"269376758501332998\\\",\\\"type\\\":\\\"observable\\\"},val)) : undefined; return this.valueFromJulia[\\\"changes\\\"]=false}),self),this[\\\"index\\\"].subscribe((function (val){!(this.valueFromJulia[\\\"index\\\"]) ? (WebIO.setval({\\\"name\\\":\\\"index\\\",\\\"scope\\\":\\\"7819012724128509527\\\",\\\"id\\\":\\\"2057787919331705925\\\",\\\"type\\\":\\\"observable\\\"},val)) : undefined; return this.valueFromJulia[\\\"index\\\"]=false}),self)]\\n        \\n    }\\n    self.model = new AppViewModel();\\n    self.valueFromJulia = {};\\n    for (var key in json_data) {\\n        self.valueFromJulia[key] = false;\\n    }\\n    ko.applyBindings(self.model, self.dom);\\n}\\n);\\n    (WebIO.importBlock({\\\"data\\\":[{\\\"name\\\":\\\"knockout\\\",\\\"type\\\":\\\"js\\\",\\\"url\\\":\\\"\\/assetserver\\/2712bb0a7395d062608c2f218a74b700f6c76b99-knockout.js\\\"},{\\\"name\\\":\\\"knockout_punches\\\",\\\"type\\\":\\\"js\\\",\\\"url\\\":\\\"\\/assetserver\\/fb4445501a2be4ab82176667f844e40da26fa007-knockout_punches.js\\\"}],\\\"type\\\":\\\"async_block\\\"})).then((imports) => handler.apply(this, imports));\\n}\\n\"],\"observables\":{\"changes\":{\"sync\":false,\"id\":\"269376758501332998\",\"value\":0},\"index\":{\"sync\":true,\"id\":\"2057787919331705925\",\"value\":51}}},\"children\":[{\"props\":{\"className\":\"interact-flex-row interact-widget\"},\"nodeType\":\"DOM\",\"type\":\"node\",\"instanceArgs\":{\"namespace\":\"html\",\"tag\":\"div\"},\"children\":[{\"props\":{\"className\":\"interact-flex-row-left\"},\"nodeType\":\"DOM\",\"type\":\"node\",\"instanceArgs\":{\"namespace\":\"html\",\"tag\":\"div\"},\"children\":[{\"props\":{\"className\":\"interact \",\"style\":{\"padding\":\"5px 10px 0px 10px\"}},\"nodeType\":\"DOM\",\"type\":\"node\",\"instanceArgs\":{\"namespace\":\"html\",\"tag\":\"label\"},\"children\":[\"x0\"]}]},{\"props\":{\"className\":\"interact-flex-row-center\"},\"nodeType\":\"DOM\",\"type\":\"node\",\"instanceArgs\":{\"namespace\":\"html\",\"tag\":\"div\"},\"children\":[{\"props\":{\"max\":101,\"min\":1,\"attributes\":{\"type\":\"range\",\"data-bind\":\"numericValue: index, valueUpdate: 'input', event: {change: function (){this.changes(this.changes()+1)}}\",\"orient\":\"horizontal\"},\"step\":1,\"className\":\"slider slider is-fullwidth\",\"style\":{}},\"nodeType\":\"DOM\",\"type\":\"node\",\"instanceArgs\":{\"namespace\":\"html\",\"tag\":\"input\"},\"children\":[]}]},{\"props\":{\"className\":\"interact-flex-row-right\"},\"nodeType\":\"DOM\",\"type\":\"node\",\"instanceArgs\":{\"namespace\":\"html\",\"tag\":\"div\"},\"children\":[{\"props\":{\"attributes\":{\"data-bind\":\"text: formatted_val\"}},\"nodeType\":\"DOM\",\"type\":\"node\",\"instanceArgs\":{\"namespace\":\"html\",\"tag\":\"p\"},\"children\":[]}]}]}]}]},{\"props\":{\"className\":\"field interact-widget\"},\"nodeType\":\"DOM\",\"type\":\"node\",\"instanceArgs\":{\"namespace\":\"html\",\"tag\":\"div\"},\"children\":[{\"props\":{},\"nodeType\":\"Scope\",\"type\":\"node\",\"instanceArgs\":{\"imports\":{\"data\":[{\"name\":\"knockout\",\"type\":\"js\",\"url\":\"\\/assetserver\\/2712bb0a7395d062608c2f218a74b700f6c76b99-knockout.js\"},{\"name\":\"knockout_punches\",\"type\":\"js\",\"url\":\"\\/assetserver\\/fb4445501a2be4ab82176667f844e40da26fa007-knockout_punches.js\"},{\"name\":null,\"type\":\"js\",\"url\":\"\\/assetserver\\/a8ea7d9192d5fa85c6fac26c72d7fece1e500138-all.js\"},{\"name\":null,\"type\":\"css\",\"url\":\"\\/assetserver\\/620a53798cfdb29a4a2142ce0588e9aadc351d94-style.css\"},{\"name\":null,\"type\":\"css\",\"url\":\"\\/assetserver\\/9f2f17f677abbfd015a7c6b0c0f09a2da809bee2-bulma_confined.min.css\"}],\"type\":\"async_block\"},\"id\":\"9555248574976903244\",\"handlers\":{\"changes\":[\"(function (val){return (val!=this.model[\\\"changes\\\"]()) ? (this.valueFromJulia[\\\"changes\\\"]=true, this.model[\\\"changes\\\"](val)) : undefined})\"],\"index\":[\"(function (val){return (val!=this.model[\\\"index\\\"]()) ? (this.valueFromJulia[\\\"index\\\"]=true, this.model[\\\"index\\\"](val)) : undefined})\"]},\"systemjs_options\":null,\"mount_callbacks\":[\"function () {\\n    var handler = (function (ko, koPunches) {\\n    ko.punches.enableAll();\\n    ko.bindingHandlers.numericValue = {\\n        init: function(element, valueAccessor, allBindings, data, context) {\\n            var stringified = ko.observable(ko.unwrap(valueAccessor()));\\n            stringified.subscribe(function(value) {\\n                var val = parseFloat(value);\\n                if (!isNaN(val)) {\\n                    valueAccessor()(val);\\n                }\\n            });\\n            valueAccessor().subscribe(function(value) {\\n                var str = JSON.stringify(value);\\n                if ((str == \\\"0\\\") && ([\\\"-0\\\", \\\"-0.\\\"].indexOf(stringified()) >= 0))\\n                     return;\\n                 if ([\\\"null\\\", \\\"\\\"].indexOf(str) >= 0)\\n                     return;\\n                stringified(str);\\n            });\\n            ko.applyBindingsToNode(\\n                element,\\n                {\\n                    value: stringified,\\n                    valueUpdate: allBindings.get('valueUpdate'),\\n                },\\n                context,\\n            );\\n        }\\n    };\\n    var json_data = {\\\"formatted_vals\\\":[\\\"1.0\\\",\\\"6.0\\\",\\\"11.0\\\",\\\"16.0\\\",\\\"21.0\\\",\\\"26.0\\\",\\\"31.0\\\",\\\"36.0\\\",\\\"41.0\\\",\\\"46.0\\\"],\\\"changes\\\":WebIO.getval({\\\"name\\\":\\\"changes\\\",\\\"scope\\\":\\\"9555248574976903244\\\",\\\"id\\\":\\\"8787250801199051660\\\",\\\"type\\\":\\\"observable\\\"}),\\\"index\\\":WebIO.getval({\\\"name\\\":\\\"index\\\",\\\"scope\\\":\\\"9555248574976903244\\\",\\\"id\\\":\\\"10413769646542003327\\\",\\\"type\\\":\\\"observable\\\"})};\\n    var self = this;\\n    function AppViewModel() {\\n        for (var key in json_data) {\\n            var el = json_data[key];\\n            this[key] = Array.isArray(el) ? ko.observableArray(el) : ko.observable(el);\\n        }\\n        \\n        [this[\\\"formatted_val\\\"]=ko.computed(    function(){\\n        return this.formatted_vals()[parseInt(this.index())-(1)];\\n    }\\n,this)]\\n        [this[\\\"changes\\\"].subscribe((function (val){!(this.valueFromJulia[\\\"changes\\\"]) ? (WebIO.setval({\\\"name\\\":\\\"changes\\\",\\\"scope\\\":\\\"9555248574976903244\\\",\\\"id\\\":\\\"8787250801199051660\\\",\\\"type\\\":\\\"observable\\\"},val)) : undefined; return this.valueFromJulia[\\\"changes\\\"]=false}),self),this[\\\"index\\\"].subscribe((function (val){!(this.valueFromJulia[\\\"index\\\"]) ? (WebIO.setval({\\\"name\\\":\\\"index\\\",\\\"scope\\\":\\\"9555248574976903244\\\",\\\"id\\\":\\\"10413769646542003327\\\",\\\"type\\\":\\\"observable\\\"},val)) : undefined; return this.valueFromJulia[\\\"index\\\"]=false}),self)]\\n        \\n    }\\n    self.model = new AppViewModel();\\n    self.valueFromJulia = {};\\n    for (var key in json_data) {\\n        self.valueFromJulia[key] = false;\\n    }\\n    ko.applyBindings(self.model, self.dom);\\n}\\n);\\n    (WebIO.importBlock({\\\"data\\\":[{\\\"name\\\":\\\"knockout\\\",\\\"type\\\":\\\"js\\\",\\\"url\\\":\\\"\\/assetserver\\/2712bb0a7395d062608c2f218a74b700f6c76b99-knockout.js\\\"},{\\\"name\\\":\\\"knockout_punches\\\",\\\"type\\\":\\\"js\\\",\\\"url\\\":\\\"\\/assetserver\\/fb4445501a2be4ab82176667f844e40da26fa007-knockout_punches.js\\\"}],\\\"type\\\":\\\"async_block\\\"})).then((imports) => handler.apply(this, imports));\\n}\\n\"],\"observables\":{\"changes\":{\"sync\":false,\"id\":\"8787250801199051660\",\"value\":0},\"index\":{\"sync\":true,\"id\":\"10413769646542003327\",\"value\":5}}},\"children\":[{\"props\":{\"className\":\"interact-flex-row interact-widget\"},\"nodeType\":\"DOM\",\"type\":\"node\",\"instanceArgs\":{\"namespace\":\"html\",\"tag\":\"div\"},\"children\":[{\"props\":{\"className\":\"interact-flex-row-left\"},\"nodeType\":\"DOM\",\"type\":\"node\",\"instanceArgs\":{\"namespace\":\"html\",\"tag\":\"div\"},\"children\":[{\"props\":{\"className\":\"interact \",\"style\":{\"padding\":\"5px 10px 0px 10px\"}},\"nodeType\":\"DOM\",\"type\":\"node\",\"instanceArgs\":{\"namespace\":\"html\",\"tag\":\"label\"},\"children\":[\"tmax\"]}]},{\"props\":{\"className\":\"interact-flex-row-center\"},\"nodeType\":\"DOM\",\"type\":\"node\",\"instanceArgs\":{\"namespace\":\"html\",\"tag\":\"div\"},\"children\":[{\"props\":{\"max\":10,\"min\":1,\"attributes\":{\"type\":\"range\",\"data-bind\":\"numericValue: index, valueUpdate: 'input', event: {change: function (){this.changes(this.changes()+1)}}\",\"orient\":\"horizontal\"},\"step\":1,\"className\":\"slider slider is-fullwidth\",\"style\":{}},\"nodeType\":\"DOM\",\"type\":\"node\",\"instanceArgs\":{\"namespace\":\"html\",\"tag\":\"input\"},\"children\":[]}]},{\"props\":{\"className\":\"interact-flex-row-right\"},\"nodeType\":\"DOM\",\"type\":\"node\",\"instanceArgs\":{\"namespace\":\"html\",\"tag\":\"div\"},\"children\":[{\"props\":{\"attributes\":{\"data-bind\":\"text: formatted_val\"}},\"nodeType\":\"DOM\",\"type\":\"node\",\"instanceArgs\":{\"namespace\":\"html\",\"tag\":\"p\"},\"children\":[]}]}]}]}]},{\"props\":{},\"nodeType\":\"Scope\",\"type\":\"node\",\"instanceArgs\":{\"imports\":{\"data\":[],\"type\":\"async_block\"},\"id\":\"12940293829125234389\",\"handlers\":{},\"systemjs_options\":null,\"mount_callbacks\":[],\"observables\":{\"obs-node\":{\"sync\":false,\"id\":\"7978198546883700401\",\"value\":{\"props\":{\"className\":\"interact-flex-row interact-widget\"},\"nodeType\":\"DOM\",\"type\":\"node\",\"instanceArgs\":{\"namespace\":\"html\",\"tag\":\"div\"},\"children\":[{\"props\":{\"setInnerHtml\":\"<img src=\\\"data:image\\/png;base64,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\\\" \\/>\"},\"nodeType\":\"DOM\",\"type\":\"node\",\"instanceArgs\":{\"namespace\":\"html\",\"tag\":\"div\"},\"children\":[]}]}}}},\"children\":[{\"props\":{},\"nodeType\":\"ObservableNode\",\"type\":\"node\",\"instanceArgs\":{\"id\":\"7978198546883700401\",\"name\":\"obs-node\"},\"children\":[]}]}]},\n",
       "        window,\n",
       "    );\n",
       "    })()\n",
       "    </script>\n",
       "</div>\n"
      ],
      "text/plain": [
       "Node{WebIO.DOM}(WebIO.DOM(:html, :div), Any[Node{WebIO.DOM}(WebIO.DOM(:html, :div), Any[Scope(Node{WebIO.DOM}(WebIO.DOM(:html, :div), Any[Node{WebIO.DOM}(WebIO.DOM(:html, :div), Any[Node{WebIO.DOM}(WebIO.DOM(:html, :label), Any[\"a\"], Dict{Symbol, Any}(:className => \"interact \", :style => Dict{Any, Any}(:padding => \"5px 10px 0px 10px\")))], Dict{Symbol, Any}(:className => \"interact-flex-row-left\")), Node{WebIO.DOM}(WebIO.DOM(:html, :div), Any[Node{WebIO.DOM}(WebIO.DOM(:html, :input), Any[], Dict{Symbol, Any}(:max => 101, :min => 1, :attributes => Dict{Any, Any}(:type => \"range\", Symbol(\"data-bind\") => \"numericValue: index, valueUpdate: 'input', event: {change: function (){this.changes(this.changes()+1)}}\", \"orient\" => \"horizontal\"), :step => 1, :className => \"slider slider is-fullwidth\", :style => Dict{Any, Any}()))], Dict{Symbol, Any}(:className => \"interact-flex-row-center\")), Node{WebIO.DOM}(WebIO.DOM(:html, :div), Any[Node{WebIO.DOM}(WebIO.DOM(:html, :p), Any[], Dict{Symbol, Any}(:attributes => Dict(\"data-bind\" => \"text: formatted_val\")))], Dict{Symbol, Any}(:className => \"interact-flex-row-right\"))], Dict{Symbol, Any}(:className => \"interact-flex-row interact-widget\")), Dict{String, Tuple{Observables.AbstractObservable, Union{Nothing, Bool}}}(\"changes\" => (Observable{Int64} with 1 listeners. Value:\n",
       "0, nothing), \"index\" => (Observable{Any} with 2 listeners. Value:\n",
       "51, nothing)), Set{String}(), nothing, Asset[Asset(\"js\", \"knockout\", \"C:\\\\Users\\\\Camilo\\\\.julia\\\\packages\\\\Knockout\\\\3gjS1\\\\src\\\\..\\\\assets\\\\knockout.js\"), Asset(\"js\", \"knockout_punches\", \"C:\\\\Users\\\\Camilo\\\\.julia\\\\packages\\\\Knockout\\\\3gjS1\\\\src\\\\..\\\\assets\\\\knockout_punches.js\"), Asset(\"js\", nothing, \"C:\\\\Users\\\\Camilo\\\\.julia\\\\packages\\\\InteractBase\\\\h8Fwe\\\\src\\\\..\\\\assets\\\\all.js\"), Asset(\"css\", nothing, \"C:\\\\Users\\\\Camilo\\\\.julia\\\\packages\\\\InteractBase\\\\h8Fwe\\\\src\\\\..\\\\assets\\\\style.css\"), Asset(\"css\", nothing, \"C:\\\\Users\\\\Camilo\\\\.julia\\\\packages\\\\Interact\\\\pVyN2\\\\src\\\\..\\\\assets\\\\bulma_confined.min.css\")], Dict{Any, Any}(\"changes\" => Any[WebIO.JSString(\"(function (val){return (val!=this.model[\\\"changes\\\"]()) ? (this.valueFromJulia[\\\"changes\\\"]=true, this.model[\\\"changes\\\"](val)) : undefined})\")], \"index\" => Any[WebIO.JSString(\"(function (val){return (val!=this.model[\\\"index\\\"]()) ? (this.valueFromJulia[\\\"index\\\"]=true, this.model[\\\"index\\\"](val)) : undefined})\")]), WebIO.ConnectionPool(Channel{Any}(32), Set{AbstractConnection}(), Condition(Base.InvasiveLinkedList{Task}(Task (runnable) @0x0000000077b5ed60, Task (runnable) @0x0000000077b5ed60), Base.AlwaysLockedST(1))), WebIO.JSString[WebIO.JSString(\"function () {\\n    var handler = (function (ko, koPunches) {\\n    ko.punches.enableAll();\\n    ko.bindingHandlers.numericValue = {\\n        init: function(element, valueAccessor, allBindings, data, context) {\\n            var stringified = ko.observable(ko.unwrap(valueAccessor()));\\n            stringified.subscribe(function(value) {\\n                var val = parseFloat(value);\\n                if (!isNaN(val)) {\\n                    valueAccessor()(val);\\n                }\\n            });\\n            valueAccessor().subscribe(function(value) {\\n                var str = JSON.stringify(value);\\n                if ((str == \\\"0\\\") && ([\\\"-0\\\", \\\"-0.\\\"].indexOf(stringified()) >= 0))\\n                     return;\\n                 if ([\\\"null\\\", \\\"\\\"].indexOf(str) >= 0)\\n                     return;\\n                stringified(str);\\n            });\\n            ko.applyBindingsToNode(\\n                element,\\n                {\\n                    value: stringified,\\n                    valueUpdate: allBindings.get('valueUpdate'),\\n                },\\n                context,\\n            );\\n        }\\n    };\\n    var json_data = {\\\"formatted_vals\\\":[\\\"-0.5\\\",\\\"-0.49\\\",\\\"-0.48\\\",\\\"-0.47\\\",\\\"-0.46\\\",\\\"-0.45\\\",\\\"-0.44\\\",\\\"-0.43\\\",\\\"-0.42\\\",\\\"-0.41\\\",\\\"-0.4\\\",\\\"-0.39\\\",\\\"-0.38\\\",\\\"-0.37\\\",\\\"-0.36\\\",\\\"-0.35\\\",\\\"-0.34\\\",\\\"-0.33\\\",\\\"-0.32\\\",\\\"-0.31\\\",\\\"-0.3\\\",\\\"-0.29\\\",\\\"-0.28\\\",\\\"-0.27\\\",\\\"-0.26\\\",\\\"-0.25\\\",\\\"-0.24\\\",\\\"-0.23\\\",\\\"-0.22\\\",\\\"-0.21\\\",\\\"-0.2\\\",\\\"-0.19\\\",\\\"-0.18\\\",\\\"-0.17\\\",\\\"-0.16\\\",\\\"-0.15\\\",\\\"-0.14\\\",\\\"-0.13\\\",\\\"-0.12\\\",\\\"-0.11\\\",\\\"-0.1\\\",\\\"-0.09\\\",\\\"-0.08\\\",\\\"-0.07\\\",\\\"-0.06\\\",\\\"-0.05\\\",\\\"-0.04\\\",\\\"-0.03\\\",\\\"-0.02\\\",\\\"-0.01\\\",\\\"0.0\\\",\\\"0.01\\\",\\\"0.02\\\",\\\"0.03\\\",\\\"0.04\\\",\\\"0.05\\\",\\\"0.06\\\",\\\"0.07\\\",\\\"0.08\\\",\\\"0.09\\\",\\\"0.1\\\",\\\"0.11\\\",\\\"0.12\\\",\\\"0.13\\\",\\\"0.14\\\",\\\"0.15\\\",\\\"0.16\\\",\\\"0.17\\\",\\\"0.18\\\",\\\"0.19\\\",\\\"0.2\\\",\\\"0.21\\\",\\\"0.22\\\",\\\"0.23\\\",\\\"0.24\\\",\\\"0.25\\\",\\\"0.26\\\",\\\"0.27\\\",\\\"0.28\\\",\\\"0.29\\\",\\\"0.3\\\",\\\"0.31\\\",\\\"0.32\\\",\\\"0.33\\\",\\\"0.34\\\",\\\"0.35\\\",\\\"0.36\\\",\\\"0.37\\\",\\\"0.38\\\",\\\"0.39\\\",\\\"0.4\\\",\\\"0.41\\\",\\\"0.42\\\",\\\"0.43\\\",\\\"0.44\\\",\\\"0.45\\\",\\\"0.46\\\",\\\"0.47\\\",\\\"0.48\\\",\\\"0.49\\\",\\\"0.5\\\"],\\\"changes\\\":WebIO.getval({\\\"name\\\":\\\"changes\\\",\\\"scope\\\":\\\"2589758200497687403\\\",\\\"id\\\":\\\"18442256713514707364\\\",\\\"type\\\":\\\"observable\\\"}),\\\"index\\\":WebIO.getval({\\\"name\\\":\\\"index\\\",\\\"scope\\\":\\\"2589758200497687403\\\",\\\"id\\\":\\\"8077201286311420233\\\",\\\"type\\\":\\\"observable\\\"})};\\n    var self = this;\\n    function AppViewModel() {\\n        for (var key in json_data) {\\n            var el = json_data[key];\\n            this[key] = Array.isArray(el) ? ko.observableArray(el) : ko.observable(el);\\n        }\\n        \\n        [this[\\\"formatted_val\\\"]=ko.computed(    function(){\\n        return this.formatted_vals()[parseInt(this.index())-(1)];\\n    }\\n,this)]\\n        [this[\\\"changes\\\"].subscribe((function (val){!(this.valueFromJulia[\\\"changes\\\"]) ? (WebIO.setval({\\\"name\\\":\\\"changes\\\",\\\"scope\\\":\\\"2589758200497687403\\\",\\\"id\\\":\\\"18442256713514707364\\\",\\\"type\\\":\\\"observable\\\"},val)) : undefined; return this.valueFromJulia[\\\"changes\\\"]=false}),self),this[\\\"index\\\"].subscribe((function (val){!(this.valueFromJulia[\\\"index\\\"]) ? (WebIO.setval({\\\"name\\\":\\\"index\\\",\\\"scope\\\":\\\"2589758200497687403\\\",\\\"id\\\":\\\"8077201286311420233\\\",\\\"type\\\":\\\"observable\\\"},val)) : undefined; return this.valueFromJulia[\\\"index\\\"]=false}),self)]\\n        \\n    }\\n    self.model = new AppViewModel();\\n    self.valueFromJulia = {};\\n    for (var key in json_data) {\\n        self.valueFromJulia[key] = false;\\n    }\\n    ko.applyBindings(self.model, self.dom);\\n}\\n);\\n    (WebIO.importBlock({\\\"data\\\":[{\\\"name\\\":\\\"knockout\\\",\\\"type\\\":\\\"js\\\",\\\"url\\\":\\\"/assetserver/2712bb0a7395d062608c2f218a74b700f6c76b99-knockout.js\\\"},{\\\"name\\\":\\\"knockout_punches\\\",\\\"type\\\":\\\"js\\\",\\\"url\\\":\\\"/assetserver/fb4445501a2be4ab82176667f844e40da26fa007-knockout_punches.js\\\"}],\\\"type\\\":\\\"async_block\\\"})).then((imports) => handler.apply(this, imports));\\n}\\n\")])], Dict{Symbol, Any}(:className => \"field interact-widget\")), Node{WebIO.DOM}(WebIO.DOM(:html, :div), Any[Scope(Node{WebIO.DOM}(WebIO.DOM(:html, :div), Any[Node{WebIO.DOM}(WebIO.DOM(:html, :div), Any[Node{WebIO.DOM}(WebIO.DOM(:html, :label), Any[\"x0\"], Dict{Symbol, Any}(:className => \"interact \", :style => Dict{Any, Any}(:padding => \"5px 10px 0px 10px\")))], Dict{Symbol, Any}(:className => \"interact-flex-row-left\")), Node{WebIO.DOM}(WebIO.DOM(:html, :div), Any[Node{WebIO.DOM}(WebIO.DOM(:html, :input), Any[], Dict{Symbol, Any}(:max => 101, :min => 1, :attributes => Dict{Any, Any}(:type => \"range\", Symbol(\"data-bind\") => \"numericValue: index, valueUpdate: 'input', event: {change: function (){this.changes(this.changes()+1)}}\", \"orient\" => \"horizontal\"), :step => 1, :className => \"slider slider is-fullwidth\", :style => Dict{Any, Any}()))], Dict{Symbol, Any}(:className => \"interact-flex-row-center\")), Node{WebIO.DOM}(WebIO.DOM(:html, :div), Any[Node{WebIO.DOM}(WebIO.DOM(:html, :p), Any[], Dict{Symbol, Any}(:attributes => Dict(\"data-bind\" => \"text: formatted_val\")))], Dict{Symbol, Any}(:className => \"interact-flex-row-right\"))], Dict{Symbol, Any}(:className => \"interact-flex-row interact-widget\")), Dict{String, Tuple{Observables.AbstractObservable, Union{Nothing, Bool}}}(\"changes\" => (Observable{Int64} with 1 listeners. Value:\n",
       "0, nothing), \"index\" => (Observable{Any} with 2 listeners. Value:\n",
       "51, nothing)), Set{String}(), nothing, Asset[Asset(\"js\", \"knockout\", \"C:\\\\Users\\\\Camilo\\\\.julia\\\\packages\\\\Knockout\\\\3gjS1\\\\src\\\\..\\\\assets\\\\knockout.js\"), Asset(\"js\", \"knockout_punches\", \"C:\\\\Users\\\\Camilo\\\\.julia\\\\packages\\\\Knockout\\\\3gjS1\\\\src\\\\..\\\\assets\\\\knockout_punches.js\"), Asset(\"js\", nothing, \"C:\\\\Users\\\\Camilo\\\\.julia\\\\packages\\\\InteractBase\\\\h8Fwe\\\\src\\\\..\\\\assets\\\\all.js\"), Asset(\"css\", nothing, \"C:\\\\Users\\\\Camilo\\\\.julia\\\\packages\\\\InteractBase\\\\h8Fwe\\\\src\\\\..\\\\assets\\\\style.css\"), Asset(\"css\", nothing, \"C:\\\\Users\\\\Camilo\\\\.julia\\\\packages\\\\Interact\\\\pVyN2\\\\src\\\\..\\\\assets\\\\bulma_confined.min.css\")], Dict{Any, Any}(\"changes\" => Any[WebIO.JSString(\"(function (val){return (val!=this.model[\\\"changes\\\"]()) ? (this.valueFromJulia[\\\"changes\\\"]=true, this.model[\\\"changes\\\"](val)) : undefined})\")], \"index\" => Any[WebIO.JSString(\"(function (val){return (val!=this.model[\\\"index\\\"]()) ? (this.valueFromJulia[\\\"index\\\"]=true, this.model[\\\"index\\\"](val)) : undefined})\")]), WebIO.ConnectionPool(Channel{Any}(32), Set{AbstractConnection}(), Condition(Base.InvasiveLinkedList{Task}(Task (runnable) @0x0000000077adeef0, Task (runnable) @0x0000000077adeef0), Base.AlwaysLockedST(1))), WebIO.JSString[WebIO.JSString(\"function () {\\n    var handler = (function (ko, koPunches) {\\n    ko.punches.enableAll();\\n    ko.bindingHandlers.numericValue = {\\n        init: function(element, valueAccessor, allBindings, data, context) {\\n            var stringified = ko.observable(ko.unwrap(valueAccessor()));\\n            stringified.subscribe(function(value) {\\n                var val = parseFloat(value);\\n                if (!isNaN(val)) {\\n                    valueAccessor()(val);\\n                }\\n            });\\n            valueAccessor().subscribe(function(value) {\\n                var str = JSON.stringify(value);\\n                if ((str == \\\"0\\\") && ([\\\"-0\\\", \\\"-0.\\\"].indexOf(stringified()) >= 0))\\n                     return;\\n                 if ([\\\"null\\\", \\\"\\\"].indexOf(str) >= 0)\\n                     return;\\n                stringified(str);\\n            });\\n            ko.applyBindingsToNode(\\n                element,\\n                {\\n                    value: stringified,\\n                    valueUpdate: allBindings.get('valueUpdate'),\\n                },\\n                context,\\n            );\\n        }\\n    };\\n    var json_data = {\\\"formatted_vals\\\":[\\\"-1.0\\\",\\\"-0.98\\\",\\\"-0.96\\\",\\\"-0.94\\\",\\\"-0.92\\\",\\\"-0.9\\\",\\\"-0.88\\\",\\\"-0.86\\\",\\\"-0.84\\\",\\\"-0.82\\\",\\\"-0.8\\\",\\\"-0.78\\\",\\\"-0.76\\\",\\\"-0.74\\\",\\\"-0.72\\\",\\\"-0.7\\\",\\\"-0.68\\\",\\\"-0.66\\\",\\\"-0.64\\\",\\\"-0.62\\\",\\\"-0.6\\\",\\\"-0.58\\\",\\\"-0.56\\\",\\\"-0.54\\\",\\\"-0.52\\\",\\\"-0.5\\\",\\\"-0.48\\\",\\\"-0.46\\\",\\\"-0.44\\\",\\\"-0.42\\\",\\\"-0.4\\\",\\\"-0.38\\\",\\\"-0.36\\\",\\\"-0.34\\\",\\\"-0.32\\\",\\\"-0.3\\\",\\\"-0.28\\\",\\\"-0.26\\\",\\\"-0.24\\\",\\\"-0.22\\\",\\\"-0.2\\\",\\\"-0.18\\\",\\\"-0.16\\\",\\\"-0.14\\\",\\\"-0.12\\\",\\\"-0.1\\\",\\\"-0.08\\\",\\\"-0.06\\\",\\\"-0.04\\\",\\\"-0.02\\\",\\\"0.0\\\",\\\"0.02\\\",\\\"0.04\\\",\\\"0.06\\\",\\\"0.08\\\",\\\"0.1\\\",\\\"0.12\\\",\\\"0.14\\\",\\\"0.16\\\",\\\"0.18\\\",\\\"0.2\\\",\\\"0.22\\\",\\\"0.24\\\",\\\"0.26\\\",\\\"0.28\\\",\\\"0.3\\\",\\\"0.32\\\",\\\"0.34\\\",\\\"0.36\\\",\\\"0.38\\\",\\\"0.4\\\",\\\"0.42\\\",\\\"0.44\\\",\\\"0.46\\\",\\\"0.48\\\",\\\"0.5\\\",\\\"0.52\\\",\\\"0.54\\\",\\\"0.56\\\",\\\"0.58\\\",\\\"0.6\\\",\\\"0.62\\\",\\\"0.64\\\",\\\"0.66\\\",\\\"0.68\\\",\\\"0.7\\\",\\\"0.72\\\",\\\"0.74\\\",\\\"0.76\\\",\\\"0.78\\\",\\\"0.8\\\",\\\"0.82\\\",\\\"0.84\\\",\\\"0.86\\\",\\\"0.88\\\",\\\"0.9\\\",\\\"0.92\\\",\\\"0.94\\\",\\\"0.96\\\",\\\"0.98\\\",\\\"1.0\\\"],\\\"changes\\\":WebIO.getval({\\\"name\\\":\\\"changes\\\",\\\"scope\\\":\\\"7819012724128509527\\\",\\\"id\\\":\\\"269376758501332998\\\",\\\"type\\\":\\\"observable\\\"}),\\\"index\\\":WebIO.getval({\\\"name\\\":\\\"index\\\",\\\"scope\\\":\\\"7819012724128509527\\\",\\\"id\\\":\\\"2057787919331705925\\\",\\\"type\\\":\\\"observable\\\"})};\\n    var self = this;\\n    function AppViewModel() {\\n        for (var key in json_data) {\\n            var el = json_data[key];\\n            this[key] = Array.isArray(el) ? ko.observableArray(el) : ko.observable(el);\\n        }\\n        \\n        [this[\\\"formatted_val\\\"]=ko.computed(    function(){\\n        return this.formatted_vals()[parseInt(this.index())-(1)];\\n    }\\n,this)]\\n        [this[\\\"changes\\\"].subscribe((function (val){!(this.valueFromJulia[\\\"changes\\\"]) ? (WebIO.setval({\\\"name\\\":\\\"changes\\\",\\\"scope\\\":\\\"7819012724128509527\\\",\\\"id\\\":\\\"269376758501332998\\\",\\\"type\\\":\\\"observable\\\"},val)) : undefined; return this.valueFromJulia[\\\"changes\\\"]=false}),self),this[\\\"index\\\"].subscribe((function (val){!(this.valueFromJulia[\\\"index\\\"]) ? (WebIO.setval({\\\"name\\\":\\\"index\\\",\\\"scope\\\":\\\"7819012724128509527\\\",\\\"id\\\":\\\"2057787919331705925\\\",\\\"type\\\":\\\"observable\\\"},val)) : undefined; return this.valueFromJulia[\\\"index\\\"]=false}),self)]\\n        \\n    }\\n    self.model = new AppViewModel();\\n    self.valueFromJulia = {};\\n    for (var key in json_data) {\\n        self.valueFromJulia[key] = false;\\n    }\\n    ko.applyBindings(self.model, self.dom);\\n}\\n);\\n    (WebIO.importBlock({\\\"data\\\":[{\\\"name\\\":\\\"knockout\\\",\\\"type\\\":\\\"js\\\",\\\"url\\\":\\\"/assetserver/2712bb0a7395d062608c2f218a74b700f6c76b99-knockout.js\\\"},{\\\"name\\\":\\\"knockout_punches\\\",\\\"type\\\":\\\"js\\\",\\\"url\\\":\\\"/assetserver/fb4445501a2be4ab82176667f844e40da26fa007-knockout_punches.js\\\"}],\\\"type\\\":\\\"async_block\\\"})).then((imports) => handler.apply(this, imports));\\n}\\n\")])], Dict{Symbol, Any}(:className => \"field interact-widget\")), Node{WebIO.DOM}(WebIO.DOM(:html, :div), Any[Scope(Node{WebIO.DOM}(WebIO.DOM(:html, :div), Any[Node{WebIO.DOM}(WebIO.DOM(:html, :div), Any[Node{WebIO.DOM}(WebIO.DOM(:html, :label), Any[\"tmax\"], Dict{Symbol, Any}(:className => \"interact \", :style => Dict{Any, Any}(:padding => \"5px 10px 0px 10px\")))], Dict{Symbol, Any}(:className => \"interact-flex-row-left\")), Node{WebIO.DOM}(WebIO.DOM(:html, :div), Any[Node{WebIO.DOM}(WebIO.DOM(:html, :input), Any[], Dict{Symbol, Any}(:max => 10, :min => 1, :attributes => Dict{Any, Any}(:type => \"range\", Symbol(\"data-bind\") => \"numericValue: index, valueUpdate: 'input', event: {change: function (){this.changes(this.changes()+1)}}\", \"orient\" => \"horizontal\"), :step => 1, :className => \"slider slider is-fullwidth\", :style => Dict{Any, Any}()))], Dict{Symbol, Any}(:className => \"interact-flex-row-center\")), Node{WebIO.DOM}(WebIO.DOM(:html, :div), Any[Node{WebIO.DOM}(WebIO.DOM(:html, :p), Any[], Dict{Symbol, Any}(:attributes => Dict(\"data-bind\" => \"text: formatted_val\")))], Dict{Symbol, Any}(:className => \"interact-flex-row-right\"))], Dict{Symbol, Any}(:className => \"interact-flex-row interact-widget\")), Dict{String, Tuple{Observables.AbstractObservable, Union{Nothing, Bool}}}(\"changes\" => (Observable{Int64} with 1 listeners. Value:\n",
       "0, nothing), \"index\" => (Observable{Any} with 2 listeners. Value:\n",
       "5, nothing)), Set{String}(), nothing, Asset[Asset(\"js\", \"knockout\", \"C:\\\\Users\\\\Camilo\\\\.julia\\\\packages\\\\Knockout\\\\3gjS1\\\\src\\\\..\\\\assets\\\\knockout.js\"), Asset(\"js\", \"knockout_punches\", \"C:\\\\Users\\\\Camilo\\\\.julia\\\\packages\\\\Knockout\\\\3gjS1\\\\src\\\\..\\\\assets\\\\knockout_punches.js\"), Asset(\"js\", nothing, \"C:\\\\Users\\\\Camilo\\\\.julia\\\\packages\\\\InteractBase\\\\h8Fwe\\\\src\\\\..\\\\assets\\\\all.js\"), Asset(\"css\", nothing, \"C:\\\\Users\\\\Camilo\\\\.julia\\\\packages\\\\InteractBase\\\\h8Fwe\\\\src\\\\..\\\\assets\\\\style.css\"), Asset(\"css\", nothing, \"C:\\\\Users\\\\Camilo\\\\.julia\\\\packages\\\\Interact\\\\pVyN2\\\\src\\\\..\\\\assets\\\\bulma_confined.min.css\")], Dict{Any, Any}(\"changes\" => Any[WebIO.JSString(\"(function (val){return (val!=this.model[\\\"changes\\\"]()) ? (this.valueFromJulia[\\\"changes\\\"]=true, this.model[\\\"changes\\\"](val)) : undefined})\")], \"index\" => Any[WebIO.JSString(\"(function (val){return (val!=this.model[\\\"index\\\"]()) ? (this.valueFromJulia[\\\"index\\\"]=true, this.model[\\\"index\\\"](val)) : undefined})\")]), WebIO.ConnectionPool(Channel{Any}(32), Set{AbstractConnection}(), Condition(Base.InvasiveLinkedList{Task}(Task (runnable) @0x0000000077acf080, Task (runnable) @0x0000000077acf080), Base.AlwaysLockedST(1))), WebIO.JSString[WebIO.JSString(\"function () {\\n    var handler = (function (ko, koPunches) {\\n    ko.punches.enableAll();\\n    ko.bindingHandlers.numericValue = {\\n        init: function(element, valueAccessor, allBindings, data, context) {\\n            var stringified = ko.observable(ko.unwrap(valueAccessor()));\\n            stringified.subscribe(function(value) {\\n                var val = parseFloat(value);\\n                if (!isNaN(val)) {\\n                    valueAccessor()(val);\\n                }\\n            });\\n            valueAccessor().subscribe(function(value) {\\n                var str = JSON.stringify(value);\\n                if ((str == \\\"0\\\") && ([\\\"-0\\\", \\\"-0.\\\"].indexOf(stringified()) >= 0))\\n                     return;\\n                 if ([\\\"null\\\", \\\"\\\"].indexOf(str) >= 0)\\n                     return;\\n                stringified(str);\\n            });\\n            ko.applyBindingsToNode(\\n                element,\\n                {\\n                    value: stringified,\\n                    valueUpdate: allBindings.get('valueUpdate'),\\n                },\\n                context,\\n            );\\n        }\\n    };\\n    var json_data = {\\\"formatted_vals\\\":[\\\"1.0\\\",\\\"6.0\\\",\\\"11.0\\\",\\\"16.0\\\",\\\"21.0\\\",\\\"26.0\\\",\\\"31.0\\\",\\\"36.0\\\",\\\"41.0\\\",\\\"46.0\\\"],\\\"changes\\\":WebIO.getval({\\\"name\\\":\\\"changes\\\",\\\"scope\\\":\\\"9555248574976903244\\\",\\\"id\\\":\\\"8787250801199051660\\\",\\\"type\\\":\\\"observable\\\"}),\\\"index\\\":WebIO.getval({\\\"name\\\":\\\"index\\\",\\\"scope\\\":\\\"9555248574976903244\\\",\\\"id\\\":\\\"10413769646542003327\\\",\\\"type\\\":\\\"observable\\\"})};\\n    var self = this;\\n    function AppViewModel() {\\n        for (var key in json_data) {\\n            var el = json_data[key];\\n            this[key] = Array.isArray(el) ? ko.observableArray(el) : ko.observable(el);\\n        }\\n        \\n        [this[\\\"formatted_val\\\"]=ko.computed(    function(){\\n        return this.formatted_vals()[parseInt(this.index())-(1)];\\n    }\\n,this)]\\n        [this[\\\"changes\\\"].subscribe((function (val){!(this.valueFromJulia[\\\"changes\\\"]) ? (WebIO.setval({\\\"name\\\":\\\"changes\\\",\\\"scope\\\":\\\"9555248574976903244\\\",\\\"id\\\":\\\"8787250801199051660\\\",\\\"type\\\":\\\"observable\\\"},val)) : undefined; return this.valueFromJulia[\\\"changes\\\"]=false}),self),this[\\\"index\\\"].subscribe((function (val){!(this.valueFromJulia[\\\"index\\\"]) ? (WebIO.setval({\\\"name\\\":\\\"index\\\",\\\"scope\\\":\\\"9555248574976903244\\\",\\\"id\\\":\\\"10413769646542003327\\\",\\\"type\\\":\\\"observable\\\"},val)) : undefined; return this.valueFromJulia[\\\"index\\\"]=false}),self)]\\n        \\n    }\\n    self.model = new AppViewModel();\\n    self.valueFromJulia = {};\\n    for (var key in json_data) {\\n        self.valueFromJulia[key] = false;\\n    }\\n    ko.applyBindings(self.model, self.dom);\\n}\\n);\\n    (WebIO.importBlock({\\\"data\\\":[{\\\"name\\\":\\\"knockout\\\",\\\"type\\\":\\\"js\\\",\\\"url\\\":\\\"/assetserver/2712bb0a7395d062608c2f218a74b700f6c76b99-knockout.js\\\"},{\\\"name\\\":\\\"knockout_punches\\\",\\\"type\\\":\\\"js\\\",\\\"url\\\":\\\"/assetserver/fb4445501a2be4ab82176667f844e40da26fa007-knockout_punches.js\\\"}],\\\"type\\\":\\\"async_block\\\"})).then((imports) => handler.apply(this, imports));\\n}\\n\")])], Dict{Symbol, Any}(:className => \"field interact-widget\")), Observable{Node{WebIO.DOM}} with 0 listeners. Value:\n",
       "Node{WebIO.DOM}(WebIO.DOM(:html, :div), Any[Plot{Plots.GRBackend() n=6}], Dict{Symbol, Any}(:className => \"interact-flex-row interact-widget\"))], Dict{Symbol, Any}())"
      ]
     },
     "execution_count": 5,
     "metadata": {
      "application/vnd.webio.node+json": {
       "kernelId": "3fc7bb62-8e80-4615-87cb-b83688e6e5dd"
      }
     },
     "output_type": "execute_result"
    }
   ],
   "source": [
    "@manipulate throttle=.05 for a=-0.5:0.01:0.5,x0=-1:0.02:1,tmax=1.0:5:50\n",
    "    nodosilla(x,p,t)=p[1]-x*x\n",
    "    flux1D(nodosilla,x0,tmax,[a],(u)->(u<-1.0);xlims=[-1.0,1.0],title=\"Nodo Silla\")\n",
    "end"
   ]
  },
  {
   "cell_type": "markdown",
   "id": "7717ef52",
   "metadata": {},
   "source": [
    "# Ecuacion Logistica con Harvest"
   ]
  },
  {
   "cell_type": "markdown",
   "id": "dc08d90a",
   "metadata": {},
   "source": [
    "Vamos a ver ahora un modelo de población simple que atraviesa una bifurcacion de atractor-repulsor (o SN en 1D). \n",
    "\n",
    "Todos los modelos poblacionales que vamos aver a continuación se basan en el modelo logístico y agregan un término adicional que da cuenta de la predación, ya sea por otra especie o por la explotación de la especie como recurso. En su version mas simple se agrega un termino de decrecimiento constante que representa el harvest (cosecha, caza, pesca)\n",
    "\n",
    "$ \\dot{x} = Rx\\left(1-\\displaystyle \\frac{x}{K}\\right) - H$ \n",
    "\n",
    "Atencion: no es un modelo realista para una poblacion porque me puede dar un valor de x negativo. Debido a esto vamos a tener que introducir una condicion de corte como en el caso anterior pero en este caso cuando la variable se hace negativa: $(u)->(u<0)$"
   ]
  },
  {
   "cell_type": "code",
   "execution_count": 7,
   "id": "095b20b0",
   "metadata": {
    "ExecuteTime": {
     "end_time": "2022-01-27T02:07:02.635000-03:00",
     "start_time": "2022-01-27T05:07:02.533Z"
    }
   },
   "outputs": [
    {
     "data": {
      "text/plain": [
       "logharvest1 (generic function with 1 method)"
      ]
     },
     "execution_count": 7,
     "metadata": {},
     "output_type": "execute_result"
    }
   ],
   "source": [
    "# Ecuacion Logistica con harvest\n",
    "logharvest1(x,p,t)=p[1]*x*(1.0-x/p[2])-p[3]"
   ]
  },
  {
   "cell_type": "code",
   "execution_count": 8,
   "id": "04f7069c",
   "metadata": {
    "ExecuteTime": {
     "end_time": "2022-01-27T02:07:09.994000-03:00",
     "start_time": "2022-01-27T05:07:07.691Z"
    }
   },
   "outputs": [
    {
     "data": {
      "application/vnd.webio.node+json": {
       "children": [
        {
         "children": [
          {
           "children": [
            {
             "children": [
              {
               "children": [
                {
                 "children": [
                  "R"
                 ],
                 "instanceArgs": {
                  "namespace": "html",
                  "tag": "label"
                 },
                 "nodeType": "DOM",
                 "props": {
                  "className": "interact ",
                  "style": {
                   "padding": "5px 10px 0px 10px"
                  }
                 },
                 "type": "node"
                }
               ],
               "instanceArgs": {
                "namespace": "html",
                "tag": "div"
               },
               "nodeType": "DOM",
               "props": {
                "className": "interact-flex-row-left"
               },
               "type": "node"
              },
              {
               "children": [
                {
                 "children": [],
                 "instanceArgs": {
                  "namespace": "html",
                  "tag": "input"
                 },
                 "nodeType": "DOM",
                 "props": {
                  "attributes": {
                   "data-bind": "numericValue: index, valueUpdate: 'input', event: {change: function (){this.changes(this.changes()+1)}}",
                   "orient": "horizontal",
                   "type": "range"
                  },
                  "className": "slider slider is-fullwidth",
                  "max": 101,
                  "min": 1,
                  "step": 1,
                  "style": {}
                 },
                 "type": "node"
                }
               ],
               "instanceArgs": {
                "namespace": "html",
                "tag": "div"
               },
               "nodeType": "DOM",
               "props": {
                "className": "interact-flex-row-center"
               },
               "type": "node"
              },
              {
               "children": [
                {
                 "children": [],
                 "instanceArgs": {
                  "namespace": "html",
                  "tag": "p"
                 },
                 "nodeType": "DOM",
                 "props": {
                  "attributes": {
                   "data-bind": "text: formatted_val"
                  }
                 },
                 "type": "node"
                }
               ],
               "instanceArgs": {
                "namespace": "html",
                "tag": "div"
               },
               "nodeType": "DOM",
               "props": {
                "className": "interact-flex-row-right"
               },
               "type": "node"
              }
             ],
             "instanceArgs": {
              "namespace": "html",
              "tag": "div"
             },
             "nodeType": "DOM",
             "props": {
              "className": "interact-flex-row interact-widget"
             },
             "type": "node"
            }
           ],
           "instanceArgs": {
            "handlers": {
             "changes": [
              "(function (val){return (val!=this.model[\"changes\"]()) ? (this.valueFromJulia[\"changes\"]=true, this.model[\"changes\"](val)) : undefined})"
             ],
             "index": [
              "(function (val){return (val!=this.model[\"index\"]()) ? (this.valueFromJulia[\"index\"]=true, this.model[\"index\"](val)) : undefined})"
             ]
            },
            "id": "12237093131708729984",
            "imports": {
             "data": [
              {
               "name": "knockout",
               "type": "js",
               "url": "/assetserver/2712bb0a7395d062608c2f218a74b700f6c76b99-knockout.js"
              },
              {
               "name": "knockout_punches",
               "type": "js",
               "url": "/assetserver/fb4445501a2be4ab82176667f844e40da26fa007-knockout_punches.js"
              },
              {
               "name": null,
               "type": "js",
               "url": "/assetserver/a8ea7d9192d5fa85c6fac26c72d7fece1e500138-all.js"
              },
              {
               "name": null,
               "type": "css",
               "url": "/assetserver/620a53798cfdb29a4a2142ce0588e9aadc351d94-style.css"
              },
              {
               "name": null,
               "type": "css",
               "url": "/assetserver/9f2f17f677abbfd015a7c6b0c0f09a2da809bee2-bulma_confined.min.css"
              }
             ],
             "type": "async_block"
            },
            "mount_callbacks": [
             "function () {\n    var handler = (function (ko, koPunches) {\n    ko.punches.enableAll();\n    ko.bindingHandlers.numericValue = {\n        init: function(element, valueAccessor, allBindings, data, context) {\n            var stringified = ko.observable(ko.unwrap(valueAccessor()));\n            stringified.subscribe(function(value) {\n                var val = parseFloat(value);\n                if (!isNaN(val)) {\n                    valueAccessor()(val);\n                }\n            });\n            valueAccessor().subscribe(function(value) {\n                var str = JSON.stringify(value);\n                if ((str == \"0\") && ([\"-0\", \"-0.\"].indexOf(stringified()) >= 0))\n                     return;\n                 if ([\"null\", \"\"].indexOf(str) >= 0)\n                     return;\n                stringified(str);\n            });\n            ko.applyBindingsToNode(\n                element,\n                {\n                    value: stringified,\n                    valueUpdate: allBindings.get('valueUpdate'),\n                },\n                context,\n            );\n        }\n    };\n    var json_data = {\"formatted_vals\":[\"0.0\",\"0.02\",\"0.04\",\"0.06\",\"0.08\",\"0.1\",\"0.12\",\"0.14\",\"0.16\",\"0.18\",\"0.2\",\"0.22\",\"0.24\",\"0.26\",\"0.28\",\"0.3\",\"0.32\",\"0.34\",\"0.36\",\"0.38\",\"0.4\",\"0.42\",\"0.44\",\"0.46\",\"0.48\",\"0.5\",\"0.52\",\"0.54\",\"0.56\",\"0.58\",\"0.6\",\"0.62\",\"0.64\",\"0.66\",\"0.68\",\"0.7\",\"0.72\",\"0.74\",\"0.76\",\"0.78\",\"0.8\",\"0.82\",\"0.84\",\"0.86\",\"0.88\",\"0.9\",\"0.92\",\"0.94\",\"0.96\",\"0.98\",\"1.0\",\"1.02\",\"1.04\",\"1.06\",\"1.08\",\"1.1\",\"1.12\",\"1.14\",\"1.16\",\"1.18\",\"1.2\",\"1.22\",\"1.24\",\"1.26\",\"1.28\",\"1.3\",\"1.32\",\"1.34\",\"1.36\",\"1.38\",\"1.4\",\"1.42\",\"1.44\",\"1.46\",\"1.48\",\"1.5\",\"1.52\",\"1.54\",\"1.56\",\"1.58\",\"1.6\",\"1.62\",\"1.64\",\"1.66\",\"1.68\",\"1.7\",\"1.72\",\"1.74\",\"1.76\",\"1.78\",\"1.8\",\"1.82\",\"1.84\",\"1.86\",\"1.88\",\"1.9\",\"1.92\",\"1.94\",\"1.96\",\"1.98\",\"2.0\"],\"changes\":WebIO.getval({\"name\":\"changes\",\"scope\":\"12237093131708729984\",\"id\":\"1243761539175935025\",\"type\":\"observable\"}),\"index\":WebIO.getval({\"name\":\"index\",\"scope\":\"12237093131708729984\",\"id\":\"5678606400129295007\",\"type\":\"observable\"})};\n    var self = this;\n    function AppViewModel() {\n        for (var key in json_data) {\n            var el = json_data[key];\n            this[key] = Array.isArray(el) ? ko.observableArray(el) : ko.observable(el);\n        }\n        \n        [this[\"formatted_val\"]=ko.computed(    function(){\n        return this.formatted_vals()[parseInt(this.index())-(1)];\n    }\n,this)]\n        [this[\"changes\"].subscribe((function (val){!(this.valueFromJulia[\"changes\"]) ? (WebIO.setval({\"name\":\"changes\",\"scope\":\"12237093131708729984\",\"id\":\"1243761539175935025\",\"type\":\"observable\"},val)) : undefined; return this.valueFromJulia[\"changes\"]=false}),self),this[\"index\"].subscribe((function (val){!(this.valueFromJulia[\"index\"]) ? (WebIO.setval({\"name\":\"index\",\"scope\":\"12237093131708729984\",\"id\":\"5678606400129295007\",\"type\":\"observable\"},val)) : undefined; return this.valueFromJulia[\"index\"]=false}),self)]\n        \n    }\n    self.model = new AppViewModel();\n    self.valueFromJulia = {};\n    for (var key in json_data) {\n        self.valueFromJulia[key] = false;\n    }\n    ko.applyBindings(self.model, self.dom);\n}\n);\n    (WebIO.importBlock({\"data\":[{\"name\":\"knockout\",\"type\":\"js\",\"url\":\"/assetserver/2712bb0a7395d062608c2f218a74b700f6c76b99-knockout.js\"},{\"name\":\"knockout_punches\",\"type\":\"js\",\"url\":\"/assetserver/fb4445501a2be4ab82176667f844e40da26fa007-knockout_punches.js\"}],\"type\":\"async_block\"})).then((imports) => handler.apply(this, imports));\n}\n"
            ],
            "observables": {
             "changes": {
              "id": "1243761539175935025",
              "sync": false,
              "value": 0
             },
             "index": {
              "id": "5678606400129295007",
              "sync": true,
              "value": 51
             }
            },
            "systemjs_options": null
           },
           "nodeType": "Scope",
           "props": {},
           "type": "node"
          }
         ],
         "instanceArgs": {
          "namespace": "html",
          "tag": "div"
         },
         "nodeType": "DOM",
         "props": {
          "className": "field interact-widget"
         },
         "type": "node"
        },
        {
         "children": [
          {
           "children": [
            {
             "children": [
              {
               "children": [
                {
                 "children": [
                  "K"
                 ],
                 "instanceArgs": {
                  "namespace": "html",
                  "tag": "label"
                 },
                 "nodeType": "DOM",
                 "props": {
                  "className": "interact ",
                  "style": {
                   "padding": "5px 10px 0px 10px"
                  }
                 },
                 "type": "node"
                }
               ],
               "instanceArgs": {
                "namespace": "html",
                "tag": "div"
               },
               "nodeType": "DOM",
               "props": {
                "className": "interact-flex-row-left"
               },
               "type": "node"
              },
              {
               "children": [
                {
                 "children": [],
                 "instanceArgs": {
                  "namespace": "html",
                  "tag": "input"
                 },
                 "nodeType": "DOM",
                 "props": {
                  "attributes": {
                   "data-bind": "numericValue: index, valueUpdate: 'input', event: {change: function (){this.changes(this.changes()+1)}}",
                   "orient": "horizontal",
                   "type": "range"
                  },
                  "className": "slider slider is-fullwidth",
                  "max": 200,
                  "min": 1,
                  "step": 1,
                  "style": {}
                 },
                 "type": "node"
                }
               ],
               "instanceArgs": {
                "namespace": "html",
                "tag": "div"
               },
               "nodeType": "DOM",
               "props": {
                "className": "interact-flex-row-center"
               },
               "type": "node"
              },
              {
               "children": [
                {
                 "children": [],
                 "instanceArgs": {
                  "namespace": "html",
                  "tag": "p"
                 },
                 "nodeType": "DOM",
                 "props": {
                  "attributes": {
                   "data-bind": "text: formatted_val"
                  }
                 },
                 "type": "node"
                }
               ],
               "instanceArgs": {
                "namespace": "html",
                "tag": "div"
               },
               "nodeType": "DOM",
               "props": {
                "className": "interact-flex-row-right"
               },
               "type": "node"
              }
             ],
             "instanceArgs": {
              "namespace": "html",
              "tag": "div"
             },
             "nodeType": "DOM",
             "props": {
              "className": "interact-flex-row interact-widget"
             },
             "type": "node"
            }
           ],
           "instanceArgs": {
            "handlers": {
             "changes": [
              "(function (val){return (val!=this.model[\"changes\"]()) ? (this.valueFromJulia[\"changes\"]=true, this.model[\"changes\"](val)) : undefined})"
             ],
             "index": [
              "(function (val){return (val!=this.model[\"index\"]()) ? (this.valueFromJulia[\"index\"]=true, this.model[\"index\"](val)) : undefined})"
             ]
            },
            "id": "1005215311942123234",
            "imports": {
             "data": [
              {
               "name": "knockout",
               "type": "js",
               "url": "/assetserver/2712bb0a7395d062608c2f218a74b700f6c76b99-knockout.js"
              },
              {
               "name": "knockout_punches",
               "type": "js",
               "url": "/assetserver/fb4445501a2be4ab82176667f844e40da26fa007-knockout_punches.js"
              },
              {
               "name": null,
               "type": "js",
               "url": "/assetserver/a8ea7d9192d5fa85c6fac26c72d7fece1e500138-all.js"
              },
              {
               "name": null,
               "type": "css",
               "url": "/assetserver/620a53798cfdb29a4a2142ce0588e9aadc351d94-style.css"
              },
              {
               "name": null,
               "type": "css",
               "url": "/assetserver/9f2f17f677abbfd015a7c6b0c0f09a2da809bee2-bulma_confined.min.css"
              }
             ],
             "type": "async_block"
            },
            "mount_callbacks": [
             "function () {\n    var handler = (function (ko, koPunches) {\n    ko.punches.enableAll();\n    ko.bindingHandlers.numericValue = {\n        init: function(element, valueAccessor, allBindings, data, context) {\n            var stringified = ko.observable(ko.unwrap(valueAccessor()));\n            stringified.subscribe(function(value) {\n                var val = parseFloat(value);\n                if (!isNaN(val)) {\n                    valueAccessor()(val);\n                }\n            });\n            valueAccessor().subscribe(function(value) {\n                var str = JSON.stringify(value);\n                if ((str == \"0\") && ([\"-0\", \"-0.\"].indexOf(stringified()) >= 0))\n                     return;\n                 if ([\"null\", \"\"].indexOf(str) >= 0)\n                     return;\n                stringified(str);\n            });\n            ko.applyBindingsToNode(\n                element,\n                {\n                    value: stringified,\n                    valueUpdate: allBindings.get('valueUpdate'),\n                },\n                context,\n            );\n        }\n    };\n    var json_data = {\"formatted_vals\":[\"0.01\",\"0.02\",\"0.03\",\"0.04\",\"0.05\",\"0.06\",\"0.07\",\"0.08\",\"0.09\",\"0.1\",\"0.11\",\"0.12\",\"0.13\",\"0.14\",\"0.15\",\"0.16\",\"0.17\",\"0.18\",\"0.19\",\"0.2\",\"0.21\",\"0.22\",\"0.23\",\"0.24\",\"0.25\",\"0.26\",\"0.27\",\"0.28\",\"0.29\",\"0.3\",\"0.31\",\"0.32\",\"0.33\",\"0.34\",\"0.35\",\"0.36\",\"0.37\",\"0.38\",\"0.39\",\"0.4\",\"0.41\",\"0.42\",\"0.43\",\"0.44\",\"0.45\",\"0.46\",\"0.47\",\"0.48\",\"0.49\",\"0.5\",\"0.51\",\"0.52\",\"0.53\",\"0.54\",\"0.55\",\"0.56\",\"0.57\",\"0.58\",\"0.59\",\"0.6\",\"0.61\",\"0.62\",\"0.63\",\"0.64\",\"0.65\",\"0.66\",\"0.67\",\"0.68\",\"0.69\",\"0.7\",\"0.71\",\"0.72\",\"0.73\",\"0.74\",\"0.75\",\"0.76\",\"0.77\",\"0.78\",\"0.79\",\"0.8\",\"0.81\",\"0.82\",\"0.83\",\"0.84\",\"0.85\",\"0.86\",\"0.87\",\"0.88\",\"0.89\",\"0.9\",\"0.91\",\"0.92\",\"0.93\",\"0.94\",\"0.95\",\"0.96\",\"0.97\",\"0.98\",\"0.99\",\"1.0\",\"1.01\",\"1.02\",\"1.03\",\"1.04\",\"1.05\",\"1.06\",\"1.07\",\"1.08\",\"1.09\",\"1.1\",\"1.11\",\"1.12\",\"1.13\",\"1.14\",\"1.15\",\"1.16\",\"1.17\",\"1.18\",\"1.19\",\"1.2\",\"1.21\",\"1.22\",\"1.23\",\"1.24\",\"1.25\",\"1.26\",\"1.27\",\"1.28\",\"1.29\",\"1.3\",\"1.31\",\"1.32\",\"1.33\",\"1.34\",\"1.35\",\"1.36\",\"1.37\",\"1.38\",\"1.39\",\"1.4\",\"1.41\",\"1.42\",\"1.43\",\"1.44\",\"1.45\",\"1.46\",\"1.47\",\"1.48\",\"1.49\",\"1.5\",\"1.51\",\"1.52\",\"1.53\",\"1.54\",\"1.55\",\"1.56\",\"1.57\",\"1.58\",\"1.59\",\"1.6\",\"1.61\",\"1.62\",\"1.63\",\"1.64\",\"1.65\",\"1.66\",\"1.67\",\"1.68\",\"1.69\",\"1.7\",\"1.71\",\"1.72\",\"1.73\",\"1.74\",\"1.75\",\"1.76\",\"1.77\",\"1.78\",\"1.79\",\"1.8\",\"1.81\",\"1.82\",\"1.83\",\"1.84\",\"1.85\",\"1.86\",\"1.87\",\"1.88\",\"1.89\",\"1.9\",\"1.91\",\"1.92\",\"1.93\",\"1.94\",\"1.95\",\"1.96\",\"1.97\",\"1.98\",\"1.99\",\"2.0\"],\"changes\":WebIO.getval({\"name\":\"changes\",\"scope\":\"1005215311942123234\",\"id\":\"18398655189247060278\",\"type\":\"observable\"}),\"index\":WebIO.getval({\"name\":\"index\",\"scope\":\"1005215311942123234\",\"id\":\"11458423742931576318\",\"type\":\"observable\"})};\n    var self = this;\n    function AppViewModel() {\n        for (var key in json_data) {\n            var el = json_data[key];\n            this[key] = Array.isArray(el) ? ko.observableArray(el) : ko.observable(el);\n        }\n        \n        [this[\"formatted_val\"]=ko.computed(    function(){\n        return this.formatted_vals()[parseInt(this.index())-(1)];\n    }\n,this)]\n        [this[\"changes\"].subscribe((function (val){!(this.valueFromJulia[\"changes\"]) ? (WebIO.setval({\"name\":\"changes\",\"scope\":\"1005215311942123234\",\"id\":\"18398655189247060278\",\"type\":\"observable\"},val)) : undefined; return this.valueFromJulia[\"changes\"]=false}),self),this[\"index\"].subscribe((function (val){!(this.valueFromJulia[\"index\"]) ? (WebIO.setval({\"name\":\"index\",\"scope\":\"1005215311942123234\",\"id\":\"11458423742931576318\",\"type\":\"observable\"},val)) : undefined; return this.valueFromJulia[\"index\"]=false}),self)]\n        \n    }\n    self.model = new AppViewModel();\n    self.valueFromJulia = {};\n    for (var key in json_data) {\n        self.valueFromJulia[key] = false;\n    }\n    ko.applyBindings(self.model, self.dom);\n}\n);\n    (WebIO.importBlock({\"data\":[{\"name\":\"knockout\",\"type\":\"js\",\"url\":\"/assetserver/2712bb0a7395d062608c2f218a74b700f6c76b99-knockout.js\"},{\"name\":\"knockout_punches\",\"type\":\"js\",\"url\":\"/assetserver/fb4445501a2be4ab82176667f844e40da26fa007-knockout_punches.js\"}],\"type\":\"async_block\"})).then((imports) => handler.apply(this, imports));\n}\n"
            ],
            "observables": {
             "changes": {
              "id": "18398655189247060278",
              "sync": false,
              "value": 0
             },
             "index": {
              "id": "11458423742931576318",
              "sync": true,
              "value": 100
             }
            },
            "systemjs_options": null
           },
           "nodeType": "Scope",
           "props": {},
           "type": "node"
          }
         ],
         "instanceArgs": {
          "namespace": "html",
          "tag": "div"
         },
         "nodeType": "DOM",
         "props": {
          "className": "field interact-widget"
         },
         "type": "node"
        },
        {
         "children": [
          {
           "children": [
            {
             "children": [
              {
               "children": [
                {
                 "children": [
                  "H"
                 ],
                 "instanceArgs": {
                  "namespace": "html",
                  "tag": "label"
                 },
                 "nodeType": "DOM",
                 "props": {
                  "className": "interact ",
                  "style": {
                   "padding": "5px 10px 0px 10px"
                  }
                 },
                 "type": "node"
                }
               ],
               "instanceArgs": {
                "namespace": "html",
                "tag": "div"
               },
               "nodeType": "DOM",
               "props": {
                "className": "interact-flex-row-left"
               },
               "type": "node"
              },
              {
               "children": [
                {
                 "children": [],
                 "instanceArgs": {
                  "namespace": "html",
                  "tag": "input"
                 },
                 "nodeType": "DOM",
                 "props": {
                  "attributes": {
                   "data-bind": "numericValue: index, valueUpdate: 'input', event: {change: function (){this.changes(this.changes()+1)}}",
                   "orient": "horizontal",
                   "type": "range"
                  },
                  "className": "slider slider is-fullwidth",
                  "max": 51,
                  "min": 1,
                  "step": 1,
                  "style": {}
                 },
                 "type": "node"
                }
               ],
               "instanceArgs": {
                "namespace": "html",
                "tag": "div"
               },
               "nodeType": "DOM",
               "props": {
                "className": "interact-flex-row-center"
               },
               "type": "node"
              },
              {
               "children": [
                {
                 "children": [],
                 "instanceArgs": {
                  "namespace": "html",
                  "tag": "p"
                 },
                 "nodeType": "DOM",
                 "props": {
                  "attributes": {
                   "data-bind": "text: formatted_val"
                  }
                 },
                 "type": "node"
                }
               ],
               "instanceArgs": {
                "namespace": "html",
                "tag": "div"
               },
               "nodeType": "DOM",
               "props": {
                "className": "interact-flex-row-right"
               },
               "type": "node"
              }
             ],
             "instanceArgs": {
              "namespace": "html",
              "tag": "div"
             },
             "nodeType": "DOM",
             "props": {
              "className": "interact-flex-row interact-widget"
             },
             "type": "node"
            }
           ],
           "instanceArgs": {
            "handlers": {
             "changes": [
              "(function (val){return (val!=this.model[\"changes\"]()) ? (this.valueFromJulia[\"changes\"]=true, this.model[\"changes\"](val)) : undefined})"
             ],
             "index": [
              "(function (val){return (val!=this.model[\"index\"]()) ? (this.valueFromJulia[\"index\"]=true, this.model[\"index\"](val)) : undefined})"
             ]
            },
            "id": "17424577962348644107",
            "imports": {
             "data": [
              {
               "name": "knockout",
               "type": "js",
               "url": "/assetserver/2712bb0a7395d062608c2f218a74b700f6c76b99-knockout.js"
              },
              {
               "name": "knockout_punches",
               "type": "js",
               "url": "/assetserver/fb4445501a2be4ab82176667f844e40da26fa007-knockout_punches.js"
              },
              {
               "name": null,
               "type": "js",
               "url": "/assetserver/a8ea7d9192d5fa85c6fac26c72d7fece1e500138-all.js"
              },
              {
               "name": null,
               "type": "css",
               "url": "/assetserver/620a53798cfdb29a4a2142ce0588e9aadc351d94-style.css"
              },
              {
               "name": null,
               "type": "css",
               "url": "/assetserver/9f2f17f677abbfd015a7c6b0c0f09a2da809bee2-bulma_confined.min.css"
              }
             ],
             "type": "async_block"
            },
            "mount_callbacks": [
             "function () {\n    var handler = (function (ko, koPunches) {\n    ko.punches.enableAll();\n    ko.bindingHandlers.numericValue = {\n        init: function(element, valueAccessor, allBindings, data, context) {\n            var stringified = ko.observable(ko.unwrap(valueAccessor()));\n            stringified.subscribe(function(value) {\n                var val = parseFloat(value);\n                if (!isNaN(val)) {\n                    valueAccessor()(val);\n                }\n            });\n            valueAccessor().subscribe(function(value) {\n                var str = JSON.stringify(value);\n                if ((str == \"0\") && ([\"-0\", \"-0.\"].indexOf(stringified()) >= 0))\n                     return;\n                 if ([\"null\", \"\"].indexOf(str) >= 0)\n                     return;\n                stringified(str);\n            });\n            ko.applyBindingsToNode(\n                element,\n                {\n                    value: stringified,\n                    valueUpdate: allBindings.get('valueUpdate'),\n                },\n                context,\n            );\n        }\n    };\n    var json_data = {\"formatted_vals\":[\"0.0\",\"0.01\",\"0.02\",\"0.03\",\"0.04\",\"0.05\",\"0.06\",\"0.07\",\"0.08\",\"0.09\",\"0.1\",\"0.11\",\"0.12\",\"0.13\",\"0.14\",\"0.15\",\"0.16\",\"0.17\",\"0.18\",\"0.19\",\"0.2\",\"0.21\",\"0.22\",\"0.23\",\"0.24\",\"0.25\",\"0.26\",\"0.27\",\"0.28\",\"0.29\",\"0.3\",\"0.31\",\"0.32\",\"0.33\",\"0.34\",\"0.35\",\"0.36\",\"0.37\",\"0.38\",\"0.39\",\"0.4\",\"0.41\",\"0.42\",\"0.43\",\"0.44\",\"0.45\",\"0.46\",\"0.47\",\"0.48\",\"0.49\",\"0.5\"],\"changes\":WebIO.getval({\"name\":\"changes\",\"scope\":\"17424577962348644107\",\"id\":\"4170441215540915838\",\"type\":\"observable\"}),\"index\":WebIO.getval({\"name\":\"index\",\"scope\":\"17424577962348644107\",\"id\":\"6998936633805940167\",\"type\":\"observable\"})};\n    var self = this;\n    function AppViewModel() {\n        for (var key in json_data) {\n            var el = json_data[key];\n            this[key] = Array.isArray(el) ? ko.observableArray(el) : ko.observable(el);\n        }\n        \n        [this[\"formatted_val\"]=ko.computed(    function(){\n        return this.formatted_vals()[parseInt(this.index())-(1)];\n    }\n,this)]\n        [this[\"changes\"].subscribe((function (val){!(this.valueFromJulia[\"changes\"]) ? (WebIO.setval({\"name\":\"changes\",\"scope\":\"17424577962348644107\",\"id\":\"4170441215540915838\",\"type\":\"observable\"},val)) : undefined; return this.valueFromJulia[\"changes\"]=false}),self),this[\"index\"].subscribe((function (val){!(this.valueFromJulia[\"index\"]) ? (WebIO.setval({\"name\":\"index\",\"scope\":\"17424577962348644107\",\"id\":\"6998936633805940167\",\"type\":\"observable\"},val)) : undefined; return this.valueFromJulia[\"index\"]=false}),self)]\n        \n    }\n    self.model = new AppViewModel();\n    self.valueFromJulia = {};\n    for (var key in json_data) {\n        self.valueFromJulia[key] = false;\n    }\n    ko.applyBindings(self.model, self.dom);\n}\n);\n    (WebIO.importBlock({\"data\":[{\"name\":\"knockout\",\"type\":\"js\",\"url\":\"/assetserver/2712bb0a7395d062608c2f218a74b700f6c76b99-knockout.js\"},{\"name\":\"knockout_punches\",\"type\":\"js\",\"url\":\"/assetserver/fb4445501a2be4ab82176667f844e40da26fa007-knockout_punches.js\"}],\"type\":\"async_block\"})).then((imports) => handler.apply(this, imports));\n}\n"
            ],
            "observables": {
             "changes": {
              "id": "4170441215540915838",
              "sync": false,
              "value": 0
             },
             "index": {
              "id": "6998936633805940167",
              "sync": true,
              "value": 26
             }
            },
            "systemjs_options": null
           },
           "nodeType": "Scope",
           "props": {},
           "type": "node"
          }
         ],
         "instanceArgs": {
          "namespace": "html",
          "tag": "div"
         },
         "nodeType": "DOM",
         "props": {
          "className": "field interact-widget"
         },
         "type": "node"
        },
        {
         "children": [
          {
           "children": [
            {
             "children": [
              {
               "children": [
                {
                 "children": [
                  "x0"
                 ],
                 "instanceArgs": {
                  "namespace": "html",
                  "tag": "label"
                 },
                 "nodeType": "DOM",
                 "props": {
                  "className": "interact ",
                  "style": {
                   "padding": "5px 10px 0px 10px"
                  }
                 },
                 "type": "node"
                }
               ],
               "instanceArgs": {
                "namespace": "html",
                "tag": "div"
               },
               "nodeType": "DOM",
               "props": {
                "className": "interact-flex-row-left"
               },
               "type": "node"
              },
              {
               "children": [
                {
                 "children": [],
                 "instanceArgs": {
                  "namespace": "html",
                  "tag": "input"
                 },
                 "nodeType": "DOM",
                 "props": {
                  "attributes": {
                   "data-bind": "numericValue: index, valueUpdate: 'input', event: {change: function (){this.changes(this.changes()+1)}}",
                   "orient": "horizontal",
                   "type": "range"
                  },
                  "className": "slider slider is-fullwidth",
                  "max": 101,
                  "min": 1,
                  "step": 1,
                  "style": {}
                 },
                 "type": "node"
                }
               ],
               "instanceArgs": {
                "namespace": "html",
                "tag": "div"
               },
               "nodeType": "DOM",
               "props": {
                "className": "interact-flex-row-center"
               },
               "type": "node"
              },
              {
               "children": [
                {
                 "children": [],
                 "instanceArgs": {
                  "namespace": "html",
                  "tag": "p"
                 },
                 "nodeType": "DOM",
                 "props": {
                  "attributes": {
                   "data-bind": "text: formatted_val"
                  }
                 },
                 "type": "node"
                }
               ],
               "instanceArgs": {
                "namespace": "html",
                "tag": "div"
               },
               "nodeType": "DOM",
               "props": {
                "className": "interact-flex-row-right"
               },
               "type": "node"
              }
             ],
             "instanceArgs": {
              "namespace": "html",
              "tag": "div"
             },
             "nodeType": "DOM",
             "props": {
              "className": "interact-flex-row interact-widget"
             },
             "type": "node"
            }
           ],
           "instanceArgs": {
            "handlers": {
             "changes": [
              "(function (val){return (val!=this.model[\"changes\"]()) ? (this.valueFromJulia[\"changes\"]=true, this.model[\"changes\"](val)) : undefined})"
             ],
             "index": [
              "(function (val){return (val!=this.model[\"index\"]()) ? (this.valueFromJulia[\"index\"]=true, this.model[\"index\"](val)) : undefined})"
             ]
            },
            "id": "6190959811095594612",
            "imports": {
             "data": [
              {
               "name": "knockout",
               "type": "js",
               "url": "/assetserver/2712bb0a7395d062608c2f218a74b700f6c76b99-knockout.js"
              },
              {
               "name": "knockout_punches",
               "type": "js",
               "url": "/assetserver/fb4445501a2be4ab82176667f844e40da26fa007-knockout_punches.js"
              },
              {
               "name": null,
               "type": "js",
               "url": "/assetserver/a8ea7d9192d5fa85c6fac26c72d7fece1e500138-all.js"
              },
              {
               "name": null,
               "type": "css",
               "url": "/assetserver/620a53798cfdb29a4a2142ce0588e9aadc351d94-style.css"
              },
              {
               "name": null,
               "type": "css",
               "url": "/assetserver/9f2f17f677abbfd015a7c6b0c0f09a2da809bee2-bulma_confined.min.css"
              }
             ],
             "type": "async_block"
            },
            "mount_callbacks": [
             "function () {\n    var handler = (function (ko, koPunches) {\n    ko.punches.enableAll();\n    ko.bindingHandlers.numericValue = {\n        init: function(element, valueAccessor, allBindings, data, context) {\n            var stringified = ko.observable(ko.unwrap(valueAccessor()));\n            stringified.subscribe(function(value) {\n                var val = parseFloat(value);\n                if (!isNaN(val)) {\n                    valueAccessor()(val);\n                }\n            });\n            valueAccessor().subscribe(function(value) {\n                var str = JSON.stringify(value);\n                if ((str == \"0\") && ([\"-0\", \"-0.\"].indexOf(stringified()) >= 0))\n                     return;\n                 if ([\"null\", \"\"].indexOf(str) >= 0)\n                     return;\n                stringified(str);\n            });\n            ko.applyBindingsToNode(\n                element,\n                {\n                    value: stringified,\n                    valueUpdate: allBindings.get('valueUpdate'),\n                },\n                context,\n            );\n        }\n    };\n    var json_data = {\"formatted_vals\":[\"0.0\",\"0.02\",\"0.04\",\"0.06\",\"0.08\",\"0.1\",\"0.12\",\"0.14\",\"0.16\",\"0.18\",\"0.2\",\"0.22\",\"0.24\",\"0.26\",\"0.28\",\"0.3\",\"0.32\",\"0.34\",\"0.36\",\"0.38\",\"0.4\",\"0.42\",\"0.44\",\"0.46\",\"0.48\",\"0.5\",\"0.52\",\"0.54\",\"0.56\",\"0.58\",\"0.6\",\"0.62\",\"0.64\",\"0.66\",\"0.68\",\"0.7\",\"0.72\",\"0.74\",\"0.76\",\"0.78\",\"0.8\",\"0.82\",\"0.84\",\"0.86\",\"0.88\",\"0.9\",\"0.92\",\"0.94\",\"0.96\",\"0.98\",\"1.0\",\"1.02\",\"1.04\",\"1.06\",\"1.08\",\"1.1\",\"1.12\",\"1.14\",\"1.16\",\"1.18\",\"1.2\",\"1.22\",\"1.24\",\"1.26\",\"1.28\",\"1.3\",\"1.32\",\"1.34\",\"1.36\",\"1.38\",\"1.4\",\"1.42\",\"1.44\",\"1.46\",\"1.48\",\"1.5\",\"1.52\",\"1.54\",\"1.56\",\"1.58\",\"1.6\",\"1.62\",\"1.64\",\"1.66\",\"1.68\",\"1.7\",\"1.72\",\"1.74\",\"1.76\",\"1.78\",\"1.8\",\"1.82\",\"1.84\",\"1.86\",\"1.88\",\"1.9\",\"1.92\",\"1.94\",\"1.96\",\"1.98\",\"2.0\"],\"changes\":WebIO.getval({\"name\":\"changes\",\"scope\":\"6190959811095594612\",\"id\":\"15432487282891538261\",\"type\":\"observable\"}),\"index\":WebIO.getval({\"name\":\"index\",\"scope\":\"6190959811095594612\",\"id\":\"14108817306263894304\",\"type\":\"observable\"})};\n    var self = this;\n    function AppViewModel() {\n        for (var key in json_data) {\n            var el = json_data[key];\n            this[key] = Array.isArray(el) ? ko.observableArray(el) : ko.observable(el);\n        }\n        \n        [this[\"formatted_val\"]=ko.computed(    function(){\n        return this.formatted_vals()[parseInt(this.index())-(1)];\n    }\n,this)]\n        [this[\"changes\"].subscribe((function (val){!(this.valueFromJulia[\"changes\"]) ? (WebIO.setval({\"name\":\"changes\",\"scope\":\"6190959811095594612\",\"id\":\"15432487282891538261\",\"type\":\"observable\"},val)) : undefined; return this.valueFromJulia[\"changes\"]=false}),self),this[\"index\"].subscribe((function (val){!(this.valueFromJulia[\"index\"]) ? (WebIO.setval({\"name\":\"index\",\"scope\":\"6190959811095594612\",\"id\":\"14108817306263894304\",\"type\":\"observable\"},val)) : undefined; return this.valueFromJulia[\"index\"]=false}),self)]\n        \n    }\n    self.model = new AppViewModel();\n    self.valueFromJulia = {};\n    for (var key in json_data) {\n        self.valueFromJulia[key] = false;\n    }\n    ko.applyBindings(self.model, self.dom);\n}\n);\n    (WebIO.importBlock({\"data\":[{\"name\":\"knockout\",\"type\":\"js\",\"url\":\"/assetserver/2712bb0a7395d062608c2f218a74b700f6c76b99-knockout.js\"},{\"name\":\"knockout_punches\",\"type\":\"js\",\"url\":\"/assetserver/fb4445501a2be4ab82176667f844e40da26fa007-knockout_punches.js\"}],\"type\":\"async_block\"})).then((imports) => handler.apply(this, imports));\n}\n"
            ],
            "observables": {
             "changes": {
              "id": "15432487282891538261",
              "sync": false,
              "value": 0
             },
             "index": {
              "id": "14108817306263894304",
              "sync": true,
              "value": 51
             }
            },
            "systemjs_options": null
           },
           "nodeType": "Scope",
           "props": {},
           "type": "node"
          }
         ],
         "instanceArgs": {
          "namespace": "html",
          "tag": "div"
         },
         "nodeType": "DOM",
         "props": {
          "className": "field interact-widget"
         },
         "type": "node"
        },
        {
         "children": [
          {
           "children": [
            {
             "children": [
              {
               "children": [
                {
                 "children": [
                  "tmax"
                 ],
                 "instanceArgs": {
                  "namespace": "html",
                  "tag": "label"
                 },
                 "nodeType": "DOM",
                 "props": {
                  "className": "interact ",
                  "style": {
                   "padding": "5px 10px 0px 10px"
                  }
                 },
                 "type": "node"
                }
               ],
               "instanceArgs": {
                "namespace": "html",
                "tag": "div"
               },
               "nodeType": "DOM",
               "props": {
                "className": "interact-flex-row-left"
               },
               "type": "node"
              },
              {
               "children": [
                {
                 "children": [],
                 "instanceArgs": {
                  "namespace": "html",
                  "tag": "input"
                 },
                 "nodeType": "DOM",
                 "props": {
                  "attributes": {
                   "data-bind": "numericValue: index, valueUpdate: 'input', event: {change: function (){this.changes(this.changes()+1)}}",
                   "orient": "horizontal",
                   "type": "range"
                  },
                  "className": "slider slider is-fullwidth",
                  "max": 10,
                  "min": 1,
                  "step": 1,
                  "style": {}
                 },
                 "type": "node"
                }
               ],
               "instanceArgs": {
                "namespace": "html",
                "tag": "div"
               },
               "nodeType": "DOM",
               "props": {
                "className": "interact-flex-row-center"
               },
               "type": "node"
              },
              {
               "children": [
                {
                 "children": [],
                 "instanceArgs": {
                  "namespace": "html",
                  "tag": "p"
                 },
                 "nodeType": "DOM",
                 "props": {
                  "attributes": {
                   "data-bind": "text: formatted_val"
                  }
                 },
                 "type": "node"
                }
               ],
               "instanceArgs": {
                "namespace": "html",
                "tag": "div"
               },
               "nodeType": "DOM",
               "props": {
                "className": "interact-flex-row-right"
               },
               "type": "node"
              }
             ],
             "instanceArgs": {
              "namespace": "html",
              "tag": "div"
             },
             "nodeType": "DOM",
             "props": {
              "className": "interact-flex-row interact-widget"
             },
             "type": "node"
            }
           ],
           "instanceArgs": {
            "handlers": {
             "changes": [
              "(function (val){return (val!=this.model[\"changes\"]()) ? (this.valueFromJulia[\"changes\"]=true, this.model[\"changes\"](val)) : undefined})"
             ],
             "index": [
              "(function (val){return (val!=this.model[\"index\"]()) ? (this.valueFromJulia[\"index\"]=true, this.model[\"index\"](val)) : undefined})"
             ]
            },
            "id": "862945207391209522",
            "imports": {
             "data": [
              {
               "name": "knockout",
               "type": "js",
               "url": "/assetserver/2712bb0a7395d062608c2f218a74b700f6c76b99-knockout.js"
              },
              {
               "name": "knockout_punches",
               "type": "js",
               "url": "/assetserver/fb4445501a2be4ab82176667f844e40da26fa007-knockout_punches.js"
              },
              {
               "name": null,
               "type": "js",
               "url": "/assetserver/a8ea7d9192d5fa85c6fac26c72d7fece1e500138-all.js"
              },
              {
               "name": null,
               "type": "css",
               "url": "/assetserver/620a53798cfdb29a4a2142ce0588e9aadc351d94-style.css"
              },
              {
               "name": null,
               "type": "css",
               "url": "/assetserver/9f2f17f677abbfd015a7c6b0c0f09a2da809bee2-bulma_confined.min.css"
              }
             ],
             "type": "async_block"
            },
            "mount_callbacks": [
             "function () {\n    var handler = (function (ko, koPunches) {\n    ko.punches.enableAll();\n    ko.bindingHandlers.numericValue = {\n        init: function(element, valueAccessor, allBindings, data, context) {\n            var stringified = ko.observable(ko.unwrap(valueAccessor()));\n            stringified.subscribe(function(value) {\n                var val = parseFloat(value);\n                if (!isNaN(val)) {\n                    valueAccessor()(val);\n                }\n            });\n            valueAccessor().subscribe(function(value) {\n                var str = JSON.stringify(value);\n                if ((str == \"0\") && ([\"-0\", \"-0.\"].indexOf(stringified()) >= 0))\n                     return;\n                 if ([\"null\", \"\"].indexOf(str) >= 0)\n                     return;\n                stringified(str);\n            });\n            ko.applyBindingsToNode(\n                element,\n                {\n                    value: stringified,\n                    valueUpdate: allBindings.get('valueUpdate'),\n                },\n                context,\n            );\n        }\n    };\n    var json_data = {\"formatted_vals\":[\"1.0\",\"6.0\",\"11.0\",\"16.0\",\"21.0\",\"26.0\",\"31.0\",\"36.0\",\"41.0\",\"46.0\"],\"changes\":WebIO.getval({\"name\":\"changes\",\"scope\":\"862945207391209522\",\"id\":\"16024736303038927898\",\"type\":\"observable\"}),\"index\":WebIO.getval({\"name\":\"index\",\"scope\":\"862945207391209522\",\"id\":\"14735203198942212517\",\"type\":\"observable\"})};\n    var self = this;\n    function AppViewModel() {\n        for (var key in json_data) {\n            var el = json_data[key];\n            this[key] = Array.isArray(el) ? ko.observableArray(el) : ko.observable(el);\n        }\n        \n        [this[\"formatted_val\"]=ko.computed(    function(){\n        return this.formatted_vals()[parseInt(this.index())-(1)];\n    }\n,this)]\n        [this[\"changes\"].subscribe((function (val){!(this.valueFromJulia[\"changes\"]) ? (WebIO.setval({\"name\":\"changes\",\"scope\":\"862945207391209522\",\"id\":\"16024736303038927898\",\"type\":\"observable\"},val)) : undefined; return this.valueFromJulia[\"changes\"]=false}),self),this[\"index\"].subscribe((function (val){!(this.valueFromJulia[\"index\"]) ? (WebIO.setval({\"name\":\"index\",\"scope\":\"862945207391209522\",\"id\":\"14735203198942212517\",\"type\":\"observable\"},val)) : undefined; return this.valueFromJulia[\"index\"]=false}),self)]\n        \n    }\n    self.model = new AppViewModel();\n    self.valueFromJulia = {};\n    for (var key in json_data) {\n        self.valueFromJulia[key] = false;\n    }\n    ko.applyBindings(self.model, self.dom);\n}\n);\n    (WebIO.importBlock({\"data\":[{\"name\":\"knockout\",\"type\":\"js\",\"url\":\"/assetserver/2712bb0a7395d062608c2f218a74b700f6c76b99-knockout.js\"},{\"name\":\"knockout_punches\",\"type\":\"js\",\"url\":\"/assetserver/fb4445501a2be4ab82176667f844e40da26fa007-knockout_punches.js\"}],\"type\":\"async_block\"})).then((imports) => handler.apply(this, imports));\n}\n"
            ],
            "observables": {
             "changes": {
              "id": "16024736303038927898",
              "sync": false,
              "value": 0
             },
             "index": {
              "id": "14735203198942212517",
              "sync": true,
              "value": 5
             }
            },
            "systemjs_options": null
           },
           "nodeType": "Scope",
           "props": {},
           "type": "node"
          }
         ],
         "instanceArgs": {
          "namespace": "html",
          "tag": "div"
         },
         "nodeType": "DOM",
         "props": {
          "className": "field interact-widget"
         },
         "type": "node"
        },
        {
         "children": [
          {
           "children": [],
           "instanceArgs": {
            "id": "15835132667421142649",
            "name": "obs-node"
           },
           "nodeType": "ObservableNode",
           "props": {},
           "type": "node"
          }
         ],
         "instanceArgs": {
          "handlers": {},
          "id": "12862050140442256205",
          "imports": {
           "data": [],
           "type": "async_block"
          },
          "mount_callbacks": [],
          "observables": {
           "obs-node": {
            "id": "15835132667421142649",
            "sync": false,
            "value": {
             "children": [
              {
               "children": [],
               "instanceArgs": {
                "namespace": "html",
                "tag": "div"
               },
               "nodeType": "DOM",
               "props": {
                "setInnerHtml": "<img src=\"data:image/png;base64,iVBORw0KGgoAAAANSUhEUgAAA4QAAAEsCAIAAAAU/OrGAAAABmJLR0QA/wD/AP+gvaeTAAAgAElEQVR4nOzdd1hT1/sA8DcJCVM2spQligIqCKgoCgqIA0VFxFVH0TrQqrTu1omr1lGtA+sExb0HqIgKKEOmKKiI7I3smZDk98dt88s3wYgauAHez9OnT3JzcvLmRk7e3LMoXC4XEEIIIYQQIgOV7AAQQgghhFDnhckoakZdXZ2Xl9e2bdu+v6rIyEgvL687d+58f1UIISTJdu7c6eXlVVVV9Z311NbWenl5bd++XSxRIST5MBltHxobGxkMBoPBYLPZbfNyp06dunXrVsufEhMTc/z48fT0dIHjaWlpp06dio+PF2uAEk1OTo7BYDT7hbR161YGg7F+/fq2j+r7vXnz5vjx469evSI7EIRaavTo0QwGo81+DN+5c+fUqVP19fUtLF9YWHj8+PEnT54IHG9oaPjaFri9mzJlCoPBuHTpkvBDL1++ZDAYFhYWbR/V96uqqjp+/Pjdu3fJDkTSYTLaPnC5XBaLxWKx2maML51Od3BwsLa2bvlTbt68uXDhwpcvXwoc19LScnBwMDQ0FGuAEo3JZH7uk2pqamKxWE1NTW0f1fd78uTJwoULHz16RHYgCLUU0WxyOJy2eTkrKysHBwcGg9HC8h8+fFi4cOHp06cFjn9DC9zeEZ9Us1dbOBwO8WjbR/X9SktLFy5cuH//frIDkXRSZAeAJJGCgoLwj/VvM2rUqFGjRomlKoQQkmSHDh0SSz2KioriaoERahcwGe1o0tPTw8LCSkpKiEuSenp6wmXq6uqCgoIyMzM1NDRcXFw0NTXfvXtXU1PTr18/Op0OAGw2OzExUV5evnfv3rxnsdnsFy9epKenl5aWqqurGxoa2traEtcAXr16VVBQAAAZGRlxcXFEeVNTU1lZ2bKysoyMDB0dHW1tbf4Y2Gx2ZGTkq1evGhsbdXR0bG1tBUJ9//59UlJSXl4ejUYzMzMbPny4lFRL/7lWVVU9efIkMzNTSkrKwMDA3t5eQUFB4AyEhIR8/PiRRqP169fPzs6ORqPxF0hOTmYymVZWVkwmMzg4+MOHD8rKys7Ozt27d29hDC3HZrNjY2Pfv39fWFiooqIycODAfv36CZRJSUmpr6+3tLRks9mPHj1KS0vT1NQcNmxYYWFht27dNDU1Bcrn5uYWFRV17969a9euvINlZWUhISG5ubkyMjKDBg2ysrISeBaXy3358uXbt2+Li4tVVVX19PSGDBkiJycHAG/fvs3JySFq5n3ExsbGSkpK4j0bCLW98vLykJCQnJwcWVlZa2trGxsb4TJcLjc8PDwhIYHBYAwdOrRfv36FhYV5eXn6+vrq6upEGaIh7d+/P39jlZqampiYmJ+fr6CgoKurO2TIEFVVVQDIysp69+4dAHz69In3N6Wrq6ulpdVsC8x7iRcvXpSWlmpqapqamlpZWVEoFN6jnz59ioyMzMnJqa+v19fXHzlypIqKSgtPwhfbZC6XGxUVFR8fz2Qy9fX1nZycFBUV+QtkZ2eXlJQQzUJMTEx0dDQA2NrattIl3g8fPiQmJubm5tJotD59+tjb2xPfXzx5eXmFhYVGRkYqKirx8fHR0dENDQ0zZ87MyclRVFTs2bOnQIXV1dXv378XeIjJZIaFhaWmprLZbBMTk5EjR0pLSws88ePHj3FxcUTTqq2tbWtrS7TJ+fn5r1+/JmrmfcQaGhrNfi93dlzUHvAGIRH9v81qaGjw8vLib5hoNNqKFSuampr4i0VHR+vq6vLKSEtLnz592s7ODgDy8/OJMmVlZQBgZWXFe1ZaWpqpqanAP55u3boRj/JXyJOYmMjlcs+ePQsAmzdv5o8hLCxMoCGgUCjbt28nHq2srBRuJoyNjRMSElpyrvbv3y/QRMrKykZFRfEK3L17VyB7Mzc3T0lJ4a/EwMAAAN68eWNsbMx/rvz9/b8YAJHXVlRUCD/0+++/A8CqVat4R0JDQ3nfZDxjxowpKyvjf6KZmRkAREdH8+KxtLS8efMmAEydOlX4hYYOHQoAL1++JO5yOJzt27cTaSWPs7Pzp0+feE8pLCwcPHiwQCQyMjINDQ1cLnfgwIHCH/G9e/e+eDYQItHIkSMB4ObNmyLK/PPPP126dOH/hz18+HBeY0goLy93cHDgLzNnzpytW7cCwIkTJ3jFbG1tAaCwsJC429DQ4OnpKfBXQ6PR4uLiuFzuTz/9JPw3RTSDpaWlAGBjY8MfQ2Fh4dixYwXKDx06lFdgzpw5Aj+qFRQU+MMTQXSbzOVyMzMzBRoBFRWVwMBA/kq8vb0B4MqVK25ubvwl586dy+FwRAcwYcIEADh//rzwQ1FRUQBgamrKO1JbW9urVy+BU2FoaBgbG8v/xNWrVwPA6dOnx48fzyv27t07OTk5VVVVomXjR8wY4/+2evjwob6+Pv+r6Ovr83+bsNlsb29v/q9d4tTdvXuXy+Vu2rRJ+CP29vYWfSo6J0xG24eWJKNz5swBgP79+wcFBaWnp9+6dYtoXJYvX84rU1hYqKamRqFQNmzY8Pbt2/T09D179sjJyRHXz0Qko8OGDQMAHx+fxMTE7Ozs2NjY06dPT5kyhXg0LCxs2rRpALBhw4ZH/6muruY2l4xGRUVJS0vTaLRff/315cuX7969e/To0S+//OLr60sUKCkpsbCw+Ouvv8LCwtLS0iIiIpYuXUqlUnV1dWtqakSfKKI10dTUPHLkSEpKyuvXr69everh4fH06VPeq9PpdAaDsXPnztTU1ISEhAULFgCAlpZWcXExrx4iGTU0NJwyZUpwcPDLly83bdokJSUlKyubl5cnOoavSkYvXbrk6up6/vz5mJiYd+/eBQUFOTo6AoCHhwf/E4lkVE9Pz9XV9dKlSy9evLh+/TqLxdLS0mIwGKWlpfyF09LSKBSKmZmZwOuamJgEBgampKSEh4dPnz4dAOzt7XlfEsQnOG/evJiYmOzs7MTExMDAQFdXV6LJjo6OXrp0KQAQw0YJJSUlok8FQuT6YjJKzJhRVlb28/N7//59VFQUkUiZm5vX19fzio0ePRoAxowZQ/x13LhxQ09PT0dHB0Qmo7t27QIAR0fH0NDQ7OzsN2/e3L59e/bs2cTv6pSUFGIooZOTE+9vKiMjg9tcMlpVVUVcJR09evSDBw/S09NfvHixf//+iRMn8sq4ubmtXbs2ODg4JSUlISHhwIEDampqVCo1PDxc9FnitcmrVq1qtk2urq4mfgZPnz6dKPDXX3/Jy8tTKJT79+/z6iGSUUNDQ1NT04sXLyYkJPj7+xO//AMCAkTH8FXJaEVFRb9+/fbv3//s2bO0tLTnz58vX76cSqVqa2tXVVXxihHJqJ6eXq9evfz8/F68eHHp0qXKyspZs2YBwNWrVwVeqHfv3hQKJT09nbgbFhZGp9MVFRV3794dGxubmJi4Y8cOaWlpZWXl7OxsokxAQAAAWFtb379/PysrKzU1NTg4eNGiRQ8fPuRyuenp6f7+/gBgYWHB+4hTU1NFn4rOCZPR9uGLyWhiYiIAKCkp8ecHWVlZMjIyNBqN99dF/HEuWbKE/7m8BUQ+l4w2NjZSKJS+ffuKiHDdunUAcOHCBYHjwsko0Tvs5+fXonf+nxUrVgDA2bNnRZTJzs6m0+kKCgpv3779XJnhw4cDwL59+/gPElcvfvnlF94RIhmdMWMGf7H58+cDwPHjx0WHSiSjNjY2g4V069ZNIBkVxmQyLSwsqFRqbm4u7yCRjDo4OAhcYFi5ciUAHD16lP/gb7/9BgB79uwh7qalpdFotO7du5eXl/MXI1p/3tVNTU1NVVVVERcwiPFwf/75p+i3j5DkEJ2MNjU1Ede9+As0NTUNGjQIAI4cOUIcefr0KQD07NmTyWTyiiUkJBDXw0Qko8Rw+aysrM+FFx4eDgA//PCDwHHhZJT4PTlx4kQ2m93SN8/lPnz4ED7TecJvwIABols2Iqt2cnLibx+Itr1Pnz68g0Qy2q1bN+JKBOH69esA4ObmJjoGojkyNjYWbjbNzc0FktFmrVq1SuDjIL7vFBQUCgoK+EsSszDHjx/PfzAyMhIARowYQdzlcDhmZmZUKvXJkyf8xY4dO8b/HTpv3jwAiIyM/FxUxAozI0eOFB08wtn0HcSNGzcAYMGCBfx9vnp6ejNmzGCz2bwlQm7fvg0ARAbD4+3tLXr6J5Hh5eXlZWdnf2ecb9++jYuLMzQ0JK5HthxxuSImJkZEmcuXL7NYrLlz55qYmDRboLS0NDw8XEVFZeHChfzH165dCwBEo8nv119/5b/r7OwMABkZGS0J+O3bt2+EFBcXf/GJdDp97NixHA4nNjZW4KFVq1YJ9Af9+OOPAEB8KxC4XO758+elpKRmzpxJHAkMDGSz2UuXLlVWVuZ/7uLFiwHg/v37xF1lZeWamhpihBNCnUFcXFxWVpapqSmRCRFoNBqRxFy7do04QqwM5e3tzT8k0cLCQqDjXhgxXpPIcr5TYGAgAPj6+lKpX/Gt7ejoqKCgILrZTE1NjY+PNzIyIn5sN4v4flmzZg1/+zNz5kw9Pb3U1NTU1FT+wosWLeIfo09k5C1sNvPy8oSbzY8fP7bkuZ/7jpgzZ46Wlhb/kZEjR+rp6QUFBRUWFvIOEq0o0cEIAPHx8W/evLGzsxP4lL28vKSlpYOCgoi7YvyIOzmcwNRBpKSkAIClpaXAcSsrq1OnTr158wYAuFxuWlqatLR0jx49+MsoKSl1795deIlQHgqFMm/evIMHD5qYmLi4uIwcOdLZ2blPnz7fEGdSUhIAWFhYCCRVAt6/f7979+6oqKjc3Fz+BTuJCwZfrPxzBYiBob179xYYPdm3b18Gg5GRkVFXV8f/kEBSS/Q38bdfIuTk5AhP7tm4caPwVgLBwcGHDx9OTU3Ny8traGjgHRd+s8T1UX7m5uaWlpZRUVFv374levGePHmSkZHh6urKmzGWkJAAALGxsUTOzfPp0ycAyMzMJO7++OOPa9asGTBggKOjo5OTk6Ojo/A/J4Q6El6zKdAcEb03RLMJAO/fvwcA4UHz5ubmoue8z5s37/Lly9OmTTtw4ICLi8uIESOGDh3a8omYPDU1Nenp6TIyMqJb3erq6n379t29ezc3N5e/mRLd2BIrB/fv319EMeJEERdQeWg0moWFRXZ2dkpKCv/JEWg25eXlFRQUWthsnjhxYsaMGQIHo6OjhYezp6en79q1KzIyMjc3t7KykndcuNkU/uCoVOrs2bN9fX0vXLhAXJppaGi4dOmSvLy8u7s7UYZoNmtqagSaTQCQlZXNzs7mcDhUKvWHH344dOiQj4/P2bNnx4wZ4+Dg4ODgIDzDCX0RJqMdRE1NDfyXLfEjBoNWV1cDAJPJZLPZxJhRgWIC18yE7du3z8jI6Pjx47du3SKus5qZmR06dGjEiBFfFSeRWQrMrBeQkJBgb29fV1dnb28/btw4VVVVCoWSn59/8OBB0Wv+f7Fy4izxTzAn0Gg0dXX1/Pz86upq/mRUIGclrklwxbrU69GjR5csWdKlS5exY8d6enoSU6+ePXsWFBQkvByp8FQnAJgzZw4xNmvHjh0g9PseAMrLywHgwYMHApMbAEBFRYV3cNWqVV27dj106NCDBw8ePHgAAAYGBvv27Zs0aZK43ixCEuVzDQJ/swkAxCgp4Ubyi82mi4vLo0ePduzYERYWFhUVtWXLFlVV1d9++23FihWiE0QBRMumqakp4rJofX39sGHDkpKSTE1Np06dqq6uTvR3bd++XfTCxl9sNrlcbm1tLZ1OJxYB4Ed84/BOFEGg2QQAKpUq3mYzOTl52LBhNTU1w4YNGzt2rIqKCpVKLSwsPHDggPB3xOeaze3bt586dYpIRm/fvl1eXj5v3jzeNV2i2UxNTRW+pkuhUBQVFZlMpoyMjIWFxfPnzzdv3vz48eOkpKRdu3YpKCj4+Phs2LCh5cvNIsBktMMgZoMWFRUJHCeOECmOtLS0nJxcaWkpk8kU+DvJz88XXT+NRlu+fPny5cuzsrJCQ0OvXbt2//79sWPHJiYmfq5PvFnExcK8vDwRZTZv3lxdXR0QEEAMMycEBwcfPHhQdOXEd4OI9/K5s8Rms0tKSogm5kvvQJyYTOa6deu6dOkSHx/PP22/uLiY1w30RbNmzVqzZo2/v/+2bdsaGhquX7+uqqrKP3uUeNeBgYHjxo0TUQ+FQpk7d+7cuXMLCgqePHly69ata9euTZky5dmzZ8RiCwh1MMSfhvDgGf5mE/7rihVuWL7YbAKAo6Ojo6NjZWVlWFjY/fv3AwICfHx8ZGRkiEEyLUQ0m4WFhcTVuGbLBAQEJCUlzZgx49y5c7xMt6mpaePGjcK/QoUrF/FeKBSKgoJCVVVVWVmZQD5KXO9s42YTALZu3VpZWXny5ElinBLh8ePHBw4caGENxsbGQ4cOjYiISExMtLCwEP4NT/zbmDt37pEjR0RXZWNjc+/evZqamhcvXjx48OD06dNbt25ls9m+vr5f/cY6MRwz2kEQHbi8lcx4iC2RiAHgAGBlZcXhcIhR8zypqakt7EMBAH19/Xnz5t29e3fp0qUNDQ337t0jjvMWKBX9dKLnNzExUcSeKElJSTQaberUqfwHhd/a5yoXUdLMzIxCoaSmptbW1vIfT0hIYLFYPXr0kJWV/eKriFFmZmZlZaWNjQ1/JgoAX7V7qpqa2tixY/Py8kJDQ69cuVJTUzNjxgz+fiLitDx//ryFFWpra8+YMePSpUu+vr4cDocYLgYAxA+YttmQFqE2QDSMxEJL/MeJZrNv377EXaJ7+tmzZ/xl2Gx2WFhYC19ISUlp/PjxR48evXr1KgAQ/4f/ms0vbskmLy/fq1evxsZGEUO6iUFKnp6e/NdcX79+zWQyRVdOtA8JCQki2mTi+0VgFDuLxSL6snnfL20mKSmJQqEQC4DwtOQ7gh+Rep49e7aoqOjhw4cGBgbE9FYCcVpaPhhUQUFh1KhRe/fuJaa7fe1HjDAZ7SDc3d0pFMqJEydKSkp4BzMyMi5evCglJcXraZ09ezYAbNy4kddCcTic9evXi+5DYTKZwi0a0a3T2NhI3CVWOSHWRRehZ8+etra2WVlZIn5uamhosNns3Nxc3pGysrKW/OSdOnUqsRQob7CXAFVVVeIqxdGjR/mPE3NFp0yZ8sWXEC+i/yg3N5f/ayA0NJRozlqO16oK/74HgB9++IFGo/n5+fGGh/JwOBwiL+fd4Ed8pl/7ESPUXlhaWvbo0ePt27fEkr2EpqamP/74AwA8PDyII9OnT6fT6SdOnOAfWH/y5Mm0tDTR9RPDAPgJNJvECs0t+Zv64YcfAGD9+vWf+zVINCZZWVm8I9zPrHMpgNcmC7SK/Ii2cffu3fzfFAEBAbm5uf369fuqzjGxUFdX53K5/OetsrJy3759X1XJ1KlT5eTkzp8/f+rUqaamprlz5/Ln8TY2NmZmZomJiRcvXhR+Lu+TFf6IBZpNLS0tGo3G/3WGmoXd9O3M8uXLhQcbzZo1a/DgwQsWLDh+/LiDg8P27dt79uz55s2bNWvWNDY2rl69mrffw7x5886dO/fs2TMrK6tp06bR6fTr16/n5eWZmpqmpKR8bhhTbm7u4MGDZ8+ePXz4cCMjIy6XGxERsWvXLjqdPnHiRKIMscfGvn37amtru3XrRqFQ3N3d1dTUhGs7cuTI0KFDly9fnpqaSoxtyszMDA4OVlNT27x5MwCMGDEiNjbWw8Nj+/btRkZGr1+//v333xUVFUXPXgIAbW3tnTt3+vj42Nvbr1+/npgF+f79+wsXLqxYsYIY3rp7925bW9v169fX1ta6ubnV1dUdO3bs2rVr3bp1I1YGaUuqqqr9+/dPSkqaPXv2smXLFBUVHz16tGnTJiMjoxZOICWMHTu2a9eu165dYzKZZmZmAvud9OzZc9u2bevXrx80aNCvv/5qbW2tpqaWlZUVFxfn7++/f/9+Nzc3JpOpq6s7Y8YMJycnIyMjOp0eFxe3du1aCoXC+0q2tLSUkpI6c+aMnJycgYEBjUYbM2ZMa2xJhZB4HT9+nFjNh5+lpaWXl9fevXsnTZo0Z86cnJwcR0fHoqKiPXv2xMbGWlpaEj/dAUBfX3/Lli3r168fOHDgjz/+qKurGxMTc+XKFUdHx8ePH4sY/WlnZ2diYuLm5mZsbKyoqPju3TsiO+R1+2hra+vq6j5//nzRokXm5uYMBsPGxqbZiYM+Pj5Xrly5d++ek5PTypUre/ToUVxc/PLly2fPnhHdUw4ODlu3bt20aZO8vPyQIUNKSkoOHjwYGRnZpUuXL16WI9rkn3/+mWiT1dTUBNrkRYsWnThxIjQ01MPD4+eff1ZRUbl///7mzZupVOrXpoBiMWLEiMjISE9Pz507d/bo0SMlJWXjxo3y8vJfVYmiouLkyZPPnTvn6+tLoVB4HzeBSqWePHnSwcFh1qxZz58/d3Fx0dfXLyoqIr5QzMzMiDWe3N3dGQzGlClTevbsqa6unpGRQYzd533EdDq9f//+8fHxM2fOHDRokIyMjJmZGbEpCfof5Kwohb4Sb53RZp06dYrL5TKZzGXLlvFP1WQwGMQvaf6qqqqqfvrpJ6I/mkqlOjk5paWlER1SvOWCBdYZzc/PJxbI5KelpSWwet+ePXv4h4qL2IEpOjpaYGK4lJTU3r17iUerq6uJhd95HB0dQ0JCAIC3zL4Ix44dExjYpKyszL8zR0hIiMBubDY2NmlpafyVEOuMCtRM9MrNnTtXdABfteh9cnIyfzBUKnXVqlW7d+8GgGPHjvGKEadLxJr/vOW6eMuLCvjnn3+EJ2r069cvPj6ey+U2NjYKrLFAnLeTJ0/yV3L69Gn+3bZwByYk4Yh1Rpvl7u5OlDl37pzAz+bRo0fzb4FB+Pvvv3mzfHr16nXr1i1iBaiLFy/yygisM+rq6iowxJPBYKxbt46/TX727Bn/dG8ROzCVlpZOnjxZIPcdNWoUr8CmTZv4X6579+5RUVE6OjqysrJfPFGi22Qul5uXl2dvb89fQFNT88aNG/yVEOuMCjcLioqKGhoaogP42h2YXFxc+INxcHAgVjbgX9CU+IAuXbr0uRfl/UThLS8qICYmRvi3gZaWFm9N1vnz5wsMyaXRaAsXLmxsbORVkpiYyL9rK+7A1CwKV6xz3FAr4XK5Hz58+NyjmpqavCHk+fn54eHh5eXlampq9vb2wvkHobGxsbCwUF1dXV5ens1mKykpSUtLl5aWEn8wHA6HWEmE/7rXhw8fUlJSioqKZGVljYyMrK2tm50tWFlZSawZ1K1bNwaDUV1dTWz7JJAgcjicuLi4N2/esFgsbW3twYMHC8x5jIuLS05OJhbbHzBgQGNjY15enry8vPCKAcLq6uoiIiIyMjJkZWW7d+8+ZMgQgbU2mEzm8+fP09LS6HR63759BfZ3BoDs7OympiYjIyP+gw0NDfn5+V26dNHQ0BDx6h8+fOByuT169BCealBWVvbp0ydVVVX+L7/GxkYiWnl5+WHDhnXr1q2ioqKsrExdXZ33sebm5jKZTENDw89dhqmpqSHmYejo6MjIyDRbprGxMSoqKj09ncPhaGtrm5qaGhoa8hfIyclJSkoqLCxkMBh6enqDBg1qdhBtbW0tMcNDS0tLeOYsQpIjLy+vrq6u2Ye6dOnCW36ytrY2LCwsKytLVlbWxsZGeDEgAofDKSwspNPpRAswefLkGzduREZG8hYeys3Nra+vNzIy4iUoxL7zBQUFTU1N3bt3t7Kyara/iGiQ2Wy2qqqqsrJysy0wITMzMzIysqqqSk1NzdzcXGDz+szMzNjY2PLycgMDA3t7ewaDkZWVxeFwBP7SP/fuRLfJAPDq1auEhISGhgYjIyM7OzuB9qG0tLSqqkq4WcjMzKRQKAL7agooKCioqanR0tIS2JqVODnZ2dnS0tICFxHi4+OTk5O5XK65ubm1tTWTyczNzZWTk+N9rGVlZRUVFZqamp+7aMrhcIjBS8rKysJrBRC4XO7r168TExNra2u7du1qYGBAbErCK1BVVfXy5cv8/PzGxkZdXV1LS0uBZU0JTCazqKiIxWIpKio2O8G/k8NkFIG/v/+cOXM8PDwuX75MdiwIdXaJiYnLly9PSEig0WjE+jLCJk6cGBsbm5eX9+zZM/5ZF6jNZGdnm5qaSktL5+fn47qSCH0nHDPa6fz6669qamoODg66urr5+fkPHz7csWMHnU5fs2YN2aEhhEBRUdHHx6epqUnEjjiTJ0/29fX92lV+0Te7cuVKaGiou7t7jx49qqur4+Pjt2zZUltbu2HDBsxEEfp+mIx2OkVFRXv37uU/oqWl5efnR2w6ghAil5GRkZGRkeg1ZYjJFl+1MyT6Hmw2+9ixY8ScFYK0tPT69evxNzxCYoHJaKcTEBCwdu3aV69elZaWSklJ9erVa+jQoZ8bZYgQ6jDKysr4t5MxMDBodvwiEjZt2jQHB4fo6OjCwsLGxkYdHR17e3vRY8cRQi3XLpPRwsLCHTt2iNiPh8vlMplM7D0hcDgcFovFfzbMzMyEdznvJDgcTlNTE27URsCzwY/NZrPZ7A58NubMmZOZmUmswg0A69atGzNmDLkhCZDkpltBQYFY5aOhoYH49S68xqSEkOTTyMM7jRILT6NYcLlcKSmpL24o0y6T0ZqaGtGbJXK5XNwnhgfPBj8ul4vpFw/+2+DX4c/Gu3fv7ty50/ZLlLcch8Oh0WgSvkQDl8vl7WAumfA0igWx+erXLl/axtrFaRS9NiWh1YcclZaWPnv2TMRe5Ewm88WLF69evWrtSBBCCCGEkKRp3WT02rVrvXv33rFjh4WFxaFDh4QLZGdn9+nTZ/Xq1R4eHq6uriwWq1XjQaipqamhoYHsKBD6rNraWmLuNovFunLlSnBwMHHcw8Pj/PnzxO2HDx9euXKlsbHx6dOnV65cqa6uJi9ehBD6XqrvKVAAACAASURBVK2YjDY1NS1fvvz06dMPHjwIDQ1du3YtsRY6v+3bt48YMSIiIiIpKSkzM/PatWutFw/q5MrLy11nufYZ36f/tP4Dxw5MfJVIdkQINaO+vj4kJCQ7O3vmzJkhISG8afXm5ua8HR+ioqJCQkI8PT3z8vJCQkI+t647Qgi1C604ZjQyMpLJZI4bNw4A+vbta2pqeu/ePYHtX69evXrr1i0AkJGRmTZt2tWrV6dNm9Z6IaHOzHOR5yOdR9ATACC3KddzhWfsrVjh3T4QIpe6urqfn5/wcWJbc8LGjRvbMCKEEGpdrZiM5uTk6Onp8VbCMzAwyMnJ4S9QV1dXVlZGbAJOFLhz504LK2cymbxdZQFg2LBh/FNSOBxOXl5eZ1uEr7aWWlNDZTIplZVULheqqv59+wIzpuXkuHQ6V06Ow5Bi67x9Li/PIS/ktlPX2JhSEA+8Tf6k4KP2xwuXLjiOcCQzLLKx2eympiYJny7aZthstpaWloizQaFQPrcdK0IIoW/WisloQ0MDf4IoLS0t0JdE3OWVES4gQm1t7c6dO3l3TU1NlZSUeHc5HE5CQkIH67qqrWWUliqUlclXVMhXVMiWlclVV8vU1MhUV0vX1srU1TEYDJasLItOZ8vJMSkUrpwc87+nUgH+/4NobGSw2dSGBjqF1XS+4jSbTaVSuTQah0bjSEkR/2fT6cT/2XQ6W0qqI8wvrmpqalKt5D/SJNP0PPo5Q6pTT6vncrnExFtxVchkMtvpyG9paWkajebk5CTiRyyVSpXwGcoIoXantraWyWR+uVxzampqmpqaxBtPyzEYDHGtNtCKyaimpib/INHS0tLBgwfzF1BTU6PT6Z8+feratStRQFtbu4WVq6iohIaGfu5RDofj6urafr82qqshJQVSUiAt7d//MjKAQgEDA9DTg27doEcP6N4d1NVBXR3U1EBdHZSVgUqlA9CFa2Oz2Y2NjZ85G48BoKoKKiqgpARKSqC0FAoKIC8P8vMhNxcyM6GsDPT0oEcP6NULevUCExMwM4MWf1CSQgdAeUTvIu47+O/Clmah5ob9G3r16kVqXCRjs9lMJvOLK8C1XP/+/bOystpdpwSLxZo4ceLp06dZLJYYzwZCCH2Rnp4eh8Npp70uZWVlYqmnFZPRAQMGZGZmFhQUaGtrM5nM6Ojobdu28RegUCgDBw4MDw/v06cPAISHhw8aNKj14pFYXC5kZEB8PCQkQGIipKRASQn06QO9e4OJCUyZAj17gpERKCu3VgCKiqCoCHp6zT/a0ACZmfDhA7x/D8nJcO0avH4NbDaYm0O/fmBpCZaWYG4O9GbSYMny59o/vf/wzjbOBjpoZGvMtJ7ZyTPR1lBXVxcbG2tsbEx2IF/n+vXrvInqCCHUlurq6srLyyV87XphjY2N/D3S36kVk1Ftbe1p06bNmjVr+fLlgYGB/fr1s7GxAQB/f/8jR45ERUUBgI+Pz+LFixUVFXNzc4OCgjrPaqNlZRAZCTExEB0NMTGgoAADBoClJfz0E/TtCwYGIDmXlmRkoHdv6N37fw6WlEByMiQlwdOnsH8/fPwIffvCoEEwcCDY2oKREUmxiuTq4jqg74CAywFllWWeXp4DLAeQHRFCCCGEWnkHJj8/v4MHD547d87ExIQ3P9TU1HT69OnE7cmTJ1Op1KtXr8rLyz979qx79+6tGg+5CgvhyROIiICwMMjJgYEDYdAgWLoUBg6Erl3JDu4raWjAyJEwcuS/d+vqID4eoqPh1i1YvRoAYNgwsLODkSPB1FRENW1NR0fn12W/fn7QAkIIIYTaWusmozIyMquJ3ISPtbW1tbU17+7EiRMnTpzYqmGQqK4OnjyBhw8hNBTy8sDBAezt4ccfwcICxDdphHxycmBnB3Z2/979+BHCwyEsDPbtg4YGGDkSnJzAxaX9jTRFCCGEUGtrl3vTS74PH+DOHQgKgqgosLGBUaPg1CkYMKBDJaAiGBmBkRHMmQMAkJEBjx9DcDD88gvo6cGYMTBuHAwe3FlOBUIIIYREw2RUbLhciIqC27fh9m2orARXV/D2huvXQUGB7MhIZWgI8+fD/PnAZkN0NAQFwbJlkJcH48bBhAng4gI4dxkhhBDqzDAZ/V4cDrx4AVevwrVroKQEkybB2bNgZQXtc5WGVkSjwZAhMGQIbNsG2dlw+zYcPgxz54KLC0yZAuPGAQ7jRAghhDohiZmz3Q4lJsKqVWBgAN7eoKYGDx/C69ewbRtYW2Mm+gV6erB0KTx6BB8+gJMTnDgBurowaxbcuwftc8V0RILS0tKnT5/yluCIiIgQsfiz6EcRQqjTqqysTEhIED7+9u3boqKitokBk9GvlpcHu3eDqSm4u4O0NAQHQ1IS/P479OlDdmTtkLo6LFgADx7A+/cwZAjs3Am6urBsGcTFkR0ZkmyZmZl9+/Y9c+bM8+fPAeDFixfbtm2TkvpsV8/Vq1dPnjzZhgEihFD7sGHDhvj4eAAoKChYtWoV73hOTs6CBQvaJgZMRluKyYTLl2HMGOjXDz5+hBMn4MMH8PWVrKWL2i8NDViyBCIiICYGNDTA0xP69oV9+6C0lOzIkEQKDQ21s7M7c+bM4sWLAWDTpk0rVqwQUX7FihU7d+5kszvC3rYIISQuBQUF165d++GHHwCgoqIiICCA95Czs3NGRkazF03FDpPRL0tLg9WrQU8Pjh+H2bMhNxf8/GDIEOyLbxUGBrBxI6SlweHDkJwMPXvC9OkQGgpcLtmRIYkRGBi4efPm0NBQa2vrGzdu5OTkxMbGOjs7A0BBQcHw4cPT0tIAoK6ubsyYMc+ePQMAAwMDLS2tkJAQkkNHCCEyFBUV2dvbp6amAkBDQ4Orq+vjx48BIDAwcOzYsQwGAwDmzZtXVlZGrL9ZXFwMAFOmTDl9+nQbhIcTmD6LzYY7d+DIEUhOhjlzICIC2tseh+0YhQLDh8Pw4bB/P5w/DytXQmMjLFkCc+aA+LYfQ62rqQmys8VWm6YmyMv/e3vy5Mm5ubmxsbF+fn5ycnJXrlwZMGAA0Uevra3t6ek5ZcqUqKiopUuXKikp2dvbE88aNGjQ06dPXVxcxBYTQgiJVQMb8uvEdulFV44i/d8qipqamjNnzpw6dWp0dLSPj4+cnJyjoyMAPH36dPz48USZgwcPurq6Pnr0CACIrT4HDx7M33HfejAZbUZZGfzzDxw9Cjo6sHQpTJkCDAbZMXVWysrg7Q3e3hARAYcPw5YtMHUqLF8uuD0pkkDFxeDsLLbajh6FUaP+vS0jIyMrK8tgMFRUVAAgMzNTV1eXV9Lb2/vp06cjRowoLy+PjY3lHdfR0UlMTBRbQAghJG5vyrlTH4ttNNFNZ1pf1f/vw/3pp5+ePn06cuTI0tLSuP9mZvC3n126dKFSqUS7StDV1c3MzBRXPCJgMvo/3r+Hv/6CixdhwgS4fh0G4O7lEoPY4amwEPz8YMQIGDAAVq4ER0ccLCG5dHQgPb0tXohCoXD/dxjHwoULnZ2dDxw40KVLF95BLpdLwX8uCCEJZqVOSfdsxcRs4cKFDg4Oe/bsUfqvk1G4/eTXZs0mjhn9V1QUTJoEw4eDmhq8eQOnT2MmKom0tGDTJsjMBHd38PEBCws4fx5wxZ5OTl9fPy8vj3e3oqLip59++u2333bs2JGRkcE7np+fr6+vT0aACCFEvqqqqvnz52/YsOGPP/748OEDcdDAwCA/P5+4TaPROBwO/1Py8vIMDAzaILbOnoxyuXD/Ptjbw8yZ4OwMGRmwdStoaZEdFhJJWhp+/BGSkmD3bjh5Enr2hL//hvp6ssNCJLG3t09ISOAtI7p48eJx48Zt27Zt9erVnp6eTCaTOB4dHe3g4EBalAghRKolS5Y4Ojr6+vr+9ttv7u7uDQ0NAGBvbx8VFUUU0NHRqa2tDQoKiouLY7FYABAdHc0bdt+qOm8yyuXCjRtgbQ3r18OiRfDuHSxZgltTticUCoweDaGhcOkShIZCjx6wZw/U1JAdFmoT3bt3NzMz4922sbF58OABAERERHC53D179gCAj4+PtbX17du3ASAjI6OoqMjJyYnEmBFCiCxRUVFMJnP//v0AsGzZMnt7+5s3bwLAzJkzg4KCiB/tCgoK586d8/f3X7t2bWVlJQBcuXJl3rx5bRBeZxwzyuHAtWuwbRvIyMCmTTB+PI47bN8GDoTr1+H1a9i+HXr0gOXLYdky4BsriDqgiRMnTpw4kXd3y5YtmzZtGjdunJ2dnZ2dHXGQQqEcOXKEuH3gwIH169fTaLRm6kIIoY5u8ODBly9fJm5TKJSDBw8St7W0tDw8PM6ePUusbz9p0qRJkyYRDz18+NDY2NjS0rINwutcySiXC7dvw8aNICsLf/wBo0eTHRASH3NzuHAB3r0DX1/o2RN++QW8vXG/+87C1tZ206ZNTU1Nn9uEycPDw9bWto2jQgghybdt27aPHz8KH9fT0/Pz82ubGDpRN/3DhzBwIGzZAtu3Q1QUZqIdk4kJBATAkycQGwvGxnDoEPw3YhB1cEOHDhWxHaidnR1eFkUIIWFKSkrNXv7s3bu3pqZm28TQKZLRmBhwdITly2HtWoiLA1dXsgNCraxPH7h0CYKD4eFD6N0bzp2D/50giBBCCCFJ0cGT0Q8fwMMDpkyB6dMhORnc3XF4aCfSrx/cuQP+/nDsGFhawoMHZAeEEEIIISEdNhktL6esXAm2tmBlBe/ewfz58PkePNSR2dlBRARs3QrLl8Po0fD6Nf4cQQghhCRIx0xGORxwcpJmMiElBdauxQWbELi5QXIyuLqCiwt16VJGcTHZAaHvUF9f7+rqGhISAgBsNnvatGlXrlwhOyiEEELfqGNeLaRSISysQUMDp1Kj/0enw9KlMGMGe8sWrrk5rFkDP/8MdDrZYXVgTU2QnS222jQ1QV6euCkrK/vrr7/OmDEjLi7u6NGjRUVFkydPFtsLIYRQ28rIyJCWliY7iq/DFOvs4I6ZjALwvrYQ+h9KSrBzJ2vJErqPD/zzD/z1F7i4kB1TR1VcDM7OYqvt6FEYNYp3z8HBYf78+S4uLp8+fYqLi8OZ8gihdmrBggWu3zqxus32jm/WoEGDxFVVh01GERLBxATu3YP792HpUujXD/bvBz09smPqeHR0ID299aqfOXPm9u3blyxZotURN/DNz8+n0+kaGhqfK/DmzZvKykorK6t2d0EFIcTv4MGDvCXov1Z1dXWXDrHFS8ccM4pQS4wdC8nJ0L8/WFnBrl3AYpEdEGqxxsbGGTNmrF+//urVq2FhYWSHI0579uzp2rVrt27dVq1a1WwBNpvt7u4+YcKEtWvXmpiYNLtaNUIItSOYjKJOTUYGNm6EmBiIiABLS3j+nOyAUMusWrVKR0dn69atp06dmjVrVmlpKdkRiY2zs3NERMTq1as/V+DevXtJSUmvXr0KCwtzc3PbsmVLW4aHEEJih8koQmBoCHfvwqZN4OkJCxdCRQXZASGRMjIyysrK/P39KRTKmDFjVq5cefPmTbKDEhsLC4tevXpRqZ9tnK9everh4SEvLw8Ac+bMuXr1KpfLbcMAEUJIzHDMKEL/8vCAUaNgwwYwN4dDh2DSJLIDQp9haGh47tw53t2VK1eSGEzby87OHjp0KHHb0NCwrq7u06dP6urqX3wim81+/vx59n9LHPTp00dHR6cVA/16nP+QHYgo7SXCdhEk2VGIgqdRLFoYHiajCP0/JSX4+2+YORPmz4dTp+DYMdDVJTsmhP5XfX09b9IScaOurq4lTyxy2bL/2kON+lzi7s8//+zk5NRKQX4bDofT0NBAdhRfUF9fL+GrN+BpFAviNJI4V70l2sVpbMk5xGQUIUG2thAfD76+YGUFf/4Js2aRHVDHVVFRUVpaqqio2LVrV7JjaTe0tLQ+ffpE3C4tLaVQKJqami15Io3OmLp69+/22q0Z3XfhcDhSUlJychK9RDSXy1VQUCA7ClHwNIoFh8Oh0Wjykr1OZLs4jfX19V8shmNGEWqGtDRs2waPHsH+/TBuHOTlkR1Qh/Po0SMzKzMdA52BowYamRl1M+r2z4l/xDL2saCgoKCg4PvrkViDBg3iLSAQHh5uYWHRwtWdpIvfva1ltGZoCCH0LTAZReiz+vaFyEiwsgIrK7h4kexoOpB9f+2bPHdyillK/Yr68jnltUtr80bn+fzpM232tO/JRxsaGlxdXa2tra2srNzc3CS/p7JZsbGxu3fvjoyMTE5O3r1799OnTwGgsLBQSUkpJycHAH788cfw8PCdO3devXp17dq1v/zySwtrli5+m1qDyShCSOJgMoqQKAwGbN0K9+7Btm0wfTqUlZEdUPuXnJy8afummhk10AOAN5RIE2qm1tyPvu/v7//NNfv5+ZWVlWVmZmZmZhYVFZ04cUIsAbexhoaG8vLyQYMGOTs7l5eXEz1c8vLyixcvJla31tLSCg8Pz8rKun79+r59+2bOnNnCmqWL376vZXBw5j1CSMLgmFGEvszKCuLiYPNm6NsX/PzgW3duQwAAew/urbWpBeFhTjSosa/ZsXfHnDlzRNdQV1c3ZsyYNWvWjB07lsViubm5zZw5c+bMmYGBgYsWLaLT6QAwf/78U6dOLV26tHXeRCuys7Ozs7MTONilS5ddu3bx7pqZmR07duxra6Y2VqvSOWlVXBMliZ6TgRDqbPDKKEItIiMDu3ZBQAAsXQrLl0P77AGWCOEvwrmGn7k6pwtZ6VlsNlt0DXJycr6+vnPnzs3KytqwYQMAzJgxAwAyMzONjY2JMj179szMzBRj2B2DqUJjfCleGkUISRZMRhH6CiNHwqtX8OkTWFlBUhLZ0bRPdbV18Ln5NhSgSdNqa2u/WMmwYcNWrFjh4uJy8eJFYvV7AKipqZGVlSUKyMnJVVVViS3ojsJUgZnwCZNRhJBkwWQUoa+jqAjnzsHq1eDsDIcPA+5987U0tTXhc3tcMQHYoKio2JJ63Nzc0tLSXF1deeu9d+3ateK/7bPKysq0tLTEEG7HYqrQGIdXRhFCEgaTUYS+xZw58OIFnDkDkydDeTnZ0bQr0ydNl02RbfYh6muqg6NDSyqpr6+fPn36tm3bbt26FRISQhy0sLCIiooibkdHR1tYWIgj3g7FXKExrhR/QCGEJAsmowh9I2NjiIyE/v3B0hIiIsiOpv3wXuKtmKdISRGaQ1MI8i/k/9z+Z0sqWbFiRZ8+fdavX3/+/PnZs2cTC4t6e3sfOHAgODg4KCjo4MGD3t7eYg++vVOhs5UYlI9VmI4ihCQIJqMIfTspKdi8Gf7+Gzw8YPdu7LJvEQUFhWePnunG6ircUoC3APkA6SDzSEbpmtKVc1f69OnzxRqys7PpdPo///wDAA4ODlu2bAkNDQUAJyenw4cP7927d//+/UePHh0xYkSrv5l2yEaDEos99QghSYJLOyH0vVxdISYGpk2DiAg4exZUVckOSOKZmJikvUk7f/78pZuXct/nqqqquo53XTB/gZqaWkuerqen9/fff/PuLliwgHfb09PT09NT/BF3INbqlJclXE8jsuNACKH/tHoyyuVys7KyFBQUeJMMEOp4uneHZ8/gt9/A0hIuXYLBg8kOSOLJyMh4eXl5eXmRHUinY6NB2RrPITsKhBD6f63bTZ+Xl2dhYeHs7Ny7d28fHx/hAgEBARQ+kZGRrRoPQq1HSgp27YIDB8DNDb5+PXKE2oi1OiX+E7cJ01GEkMRo3WR048aN1tbWaWlpqampFy9eDAsLEy4zbtw47n9sbW1bNR6EWtukSfD8ORw5Aj/8AHV1ZEeDkBAlBnSTp6RU4LBRhJCkaMVklMPhXLx4ccmSJQCgoaHh4eFx4cKFZktWVVVxceoH6iiIWfZsNgwbBrgHEJJAgzQo0cXY5CKEJEUrJqPFxcV1dXW83fmMjY2b3Z3v4cOHBgYG8vLyP/30U319fQsrZ7FYcXyamprEFTZC309eHgIDYfZssLWFx4/Jjgah/zWoKyW6BJNRhJCk+N4JTAEBAbxVpnn09fVXr15dXV0NAKJ353NyciouLlZWVs7JyXF1dfX19d2+fXtLXreqqop/Cu2tW7dUVFR4dzkcTkNDA4eDo6IAANhsdmNjI54NQlueDS8vMDWl/fCDzOLFrJUrmW3wil+LzWYzmcwv7gXfcu23i4PNZtfU1LBYLBFng0qlysnJtWVUrWRwV8rfb7BBQAhJiu9NRrt3714nNDKua9euAKCpqQkA5eXlxI2ysjLiBj9tbW1ePStXrjxy5EgLk1E1NbX4+PjPPcrhcKSkpDrG18b3Y7PZdDodzwahjc+GszNERsKkSYy0NMbx4yAj0zYv21JEMsr7xfj9KBTK69evKysrxVVh2/j48SONRlNQUGCxWGI8GxKrrwolp5ZbwQRlBtmhIITQ9yejDg4ODg4OzT6kqKhoZGQUHR09YcIEAIiKirK0tBRRVWlpqYKCwnfGg5Ck0deHiAjw8gJ7e7h5E/77/dUxrVixwtfXl+wovkWnWp1UigrW6pSoYu7obkL7YCGEUJtr3XVGly1btm7dOjU1tdTU1MePHx88eBAAsrKyXFxcoqKilJWV9+/f3717d11d3aSkpO3btx8+fLhV40GIFHJyEBgIf/wBAwfC9etgY0N2QK3G29u7/W7C2amGng/RpEQWcUZ3o5EdCEIItXIy+vPPP3O53PXr16upqQUFBenq6gKAjIzM4MGDpaSkAEBFRSUgIODTp0/dunU7f/782LFjWzUehMhCocCaNdCzJ4wbB4cPg4cH2QGhzm2IJnVfstjGCiOE0Pdo3WSUSqWuXLly5cqV/Ac1NTXPnDlD3J47d+7cuXNbNQaEJMfkyWBkBBMnQloarF9PdjSoExuiSZkWym3igFTrLjaNEEJfhu0QQm3KwgKiouDmTZg+HRoayI4GdVbKDDDoQkn41F5XP0AIdSSYjCLU1rS04OlTYLFg9GgoKyM7GtRZ2WlSIoowGUUIkQ+TUYRIICcHly/D4MEwZAh8/Eh2NKhTGq5FiSjEZBQhRD5MRhEiB5UKu3bB6tUwdCg8f052NKjzGa5NCSvkYDaKECIdJqMIkenHH+HsWZgyBW7fJjsU1MnoyFFUpClvyjEdRQiRDJNRhEg2ahTcuQNLloCfH9mhoE7GXovytACTUYQQyTAZRYh81tYQEQH798PatdBud3dH7Y+DNiajCCHyYTKKkEQwMIAXLyAiAubNAxaL7GhQ5+CgTXlWwMFxowghcmEyipCkUFWFBw+gpATc3aG+nuxoUCegK09Rk6a8KsNsFCFEJkxGEZIg8vJw+zZoaMCIEfDpE9nRoE7AUZfyOB+TUYQQmTAZRUiy0Ghw4gQMGwb29pCXR3Y0qKNz1KE8zueQHQVCqFNr3b3pEULfgEKBPXtAWRkcHODhQzA0JDsg1LYqKyufPn0qLS09cuRIBoMhXKCuru7Fixe1tbX29vbKysrf81ojdajznrEb2SBN+55qEELo2+GVUYQk1IYN4OMD9vaQmkp2KKgNpaen9+7d+8yZMzt27LC1ta2trRUokJub269fvwMHDly4cMHU1DT1+/59KDOgjwolqhh76hFCpMFkFCHJtXgx7N4NDg4QHU12KKit7Nq1a9KkSTdu3Hj69KmsrKy/v79Aga1bt9rZ2d29e/fixYve3t5btmz5zlccpUt5mIc99Qgh0mAyipBEmz4djh+HCRMgPJzsUFCbuH37tqenJwBQqVQPD49bt24JFEhJSRkyZAhxe8iQITdv3uRwviuVHKVLfZCLV0YRQqTBMaMISTo3N1BQgClT4Px5cHIiOxrUmphMZklJSffu3Ym73bp1yxOaxda9e3de13xqampjY2NJSYmmpuYXK2exWBcvXuSVHD58uImJCQDYqMHHam5+DVtTVmxv5NtwOBw2m81ms0mOQyTJjxBPo1jgaRQLDofDbcFWLpiMItQOODrC9eswaRIcPw4TJ5IdDWo1LBaLy+XSaP9OJqLT6UwmU6DMr7/+6uzsTKFQunTpcvv2bQBo4ZVRNpv9+vXrnJwc4m7v3r2NjIyI2w6a1KDspplGJF8f5XA4LBaLJdm7Pkh+hHgaxQJPo1hgMopQhzJ0KAQFwfjxwGaDuzvZ0aDWIS8vr6ioWFJSoq+vDwDFxcU6OjoCZaysrOLj4+/fvy8jI3PgwIGxY8dqaWm1pHIZGRlfX1/iaqiA8QacB7lcL1OSZ9QTWbWMjAy5YYjGYrEkPEI8jWJBZFESHmS7OI31LdjEBceMItRuWFnB/fuwbBlcvEh2KKjVDBs2LCQkhLgdEhIybNgw4nZdXR3vAoOBgcGSJUt+/PHHW7dujR49mkKhfOeLju5GfZTHacJZTAghMuCVUYTaEwsLePQIRo0CNhtmziQ7GtQKVq9ePX78eDqdXlJSEhISsnfvXgCoqqpSUlJ6/fq1mZlZQkJCQECAkZFRTExMSEjI8+fPv/9FteXAsAvleRHXXvt781qEEPpaeGUUoXbGzAxCQ2HdOjh7luxQUCsYPnz4o0ePCgoK6HR6TEyMrq4uABA98tra2gCgr6+vq6v79u3bvn37JiUlGYppU4TxetS72XhpFCFEArwyilD7Y2ICISHg5ARcLsydS3Y0SNwGDhw4cOBA/iMMBmP58uXEbVVV1V9++UXsLzpejzLjCWfPILFXjBBCX4DJKELtUq9e/+ajFArMmUN2NKj9s1Sn1DXB2wpub2XsqUcItSlMRhFqr3r1gsePwdERKBSYPZvsaFA7RwGYoE+5lYXJKEKoreGYUYTasZ49ISQENmyAgACyQ0Htn5s+9WYWDhtFCLU1vDKKUPvWqxc8fAhOTiAlBdOnkx0Nas8ctClpldy8Wq6uPF4cRQi1HbwyilC716cPPHwIv/wC16+THQpqz+hUcNWjXs/EfeoRQm0Kk1GEOgIzKYdzRwAAIABJREFUMwgOBm9vuHOH7FBQezbFkHo1A3vqEUJtCpNRhDqIfv0gKAgWLID798kOBbVbzrqU5HJu4Zd370MIIbHBZBShjsPCAq5fh3nzICyM7FBQ+yRNg/F6eHEUIdSmMBlFqEMZMgQuXgQPD3j5kuxQUPvkaUS9mI7JKEKo7WAyilBHM2IEBATA+PGQmEh2KKgdctalvKvkZtfgNCaEUBvBZBShDmjUKDhyBMaOhbdvyQ4FtTd0KrgbUAPTMRlFCLURTEYR6pgmT4Zt22DMGMjNJTsU1N7MNKYGYk89Qqit4KL3CHVYXl5QVweOjhAWBpqaZEeD2g87LUo1C5LKuP1VcfV7hFCrwyujCHVky5bBlCkwfjxUV5MdCmo/KACzjCn+aXhxFCHUFjAZRaiD274dhgwBNzdoaCA7FNR+zDamBn7gNGE6ihBqfZiMItTx7dsHGhowaxaw2WSHgtqJnkqUHoqUoFzMRhFCrQ6TUYQ6PioVzp2DmhpYsoTsUFD7Ma8X9fR7nFOPEGp1mIwi1CnQ6XD9OiQnw+bNZIeC2glPI+rTAg5uDYoQam0SkYw2NDQ0NTWRHQVCHZycHNy+DRcvwl9/kR0Kag8U6DDFkHrmPfbUI4RaV+smo+vWrbO1tVVXV79582azBWpqatzc3LS0tNTU1DZu3NiqwSCE1NUhKAj27IHr18kOBbUHC0yoJ95xONhXjxBqTa2bjOro6GzcuFFNTY3JZDZbYNeuXfX19SUlJampqSdPngwNDW3VeBBChoYQFATe3hARQXYoSOLZaFCUGBCSj9koQqgVtW4yumzZsjFjxsjIyHyugL+//8qVK+l0uo6OzqxZs/z9/Vs1HoQQAPTtC4GB4O4Or1/jkuboCxb3oR5NwZ56hFArInPMKJPJzM3NNTU1Je726dMnPT29hc/lcDjlfLhc/OGO0FcYMQIOHIDx46m5uZiPIlGm96BGFHGyarCNRQi1FikTExMbGxtnZ2d3d3cFBYWvff7hw4crKioEDtra2o4cOfKLz62oqOByuXJycsRdBQWFsrKyFr5uaWmpkZER725CQoKamhrvLofDaWxsZOOaigAAwGazmUwmng0Cng0eV1d4+5bu7i714EGNggKmGtDU1MRisURMpqRQKN/QSLZ38lIwuyf1SApn90Aa2bEghDomKTMzs5iYmPPnz//888/z58/fsGGDqqpqy5/PYrGEx4O2cGq8mpoajUarrKzU0NAAgPLycs0W75/dtWvXtLS0zz3K4XDodDovze3k2Gx2Y2Mjng0Cng1+Gzeyi4q4Xl4Kt2+DlBTZ0ZCNSEZlZWXJDkTieJtSB99q2jSAJtfp/5EghFqD1PXr1wGgqKjo8uXLp06dOnPmTHR0tLGxcQufv2LFim9+bRqN1qtXr/j4eOLlEhISeF32CKG28eefrFmzpBYtghMnyA4FSSqjLpQhmtSAD5yFvSViNUCEUAfzb8uiqam5bNmy+Pj4U6dO0Whi64uJj48PCQmpqalJTk4OCQkpLy8HgPv373t5eREFFi5c6Ovr+/79+ydPnly4cGH+/PniemmEUEvQaBAYCK9fw65dZIeCJNhKc+r+ZFzjCSHUKv6n04VCobi5uYmx9kuXLsXHxxsZGUVFRUVFRe3du1dFRYVKpfLy3aVLl3769GnixIlycnJ+fn4WFhZifHWEUEvIycGNGzBkCBgYwLRpZEeDJJK9NqULHe5mcybo48VRhJCY/X8ympGRoaOjIy0tLcbad+/eLXxw9OjRo0ePJm7TaLStW7du3bpVjC+KEPpa2tpw7x44OoKeHgwZQnY0SCL92o/6ZzImowgh8fu3Wblx44aVlVV9PW5CjFAnZWoKZ86Auzt8+EB2KJ1eVlbWkSNHzp49W1VV1WyBkpKSs2fP/v333y9fvmyzqKYYUvPr4HkRdtUjhMSM2tDQsGTJksmTJ7u4uHTCVUsQQjwuLuDrC+PHQ3k52aF0YvHx8RYWFqmpqbdu3bKxsRHOR1NTU01MTMLCwoqKiiZOnLhjx462CYxGgVX9qDsTcVk0hJCYUQcNGnTmzJnjx49fuHBBChd3Qahz8/KCsWPBwwNYLLJDaf++bTnbnTt3Ll269NChQ9euXdPV1T1z5oxAgQsXLjg4OJw8eXLbtm3Hjh07duyYGGJtmbk9qUllkPAJL44ihMSJWl1dHRMTs2DBArIjQQhJhD17QE4Oli0jO4524uPHj5s3bxbOO1++fDlv3rxvqDA4OJiYSEqhUCZMmBAcHCxQQFdXt7i4mNh2rqioSFdX95sC/xbSNPi1L3VbAu4OihASJ6mcnJy7d++amppSqTgsHSEEVCoEBsLQoXDwIPz8M9nRSDwpKSlfX9/w8PBz585pa2sDAJfL/fPPPzds2ODu7v61tVVVVdXU1Ojo6BB3tbW1CwoKBMp4eXm9evXKzMxMS0urtLT0xo0bLaycyWQeO3ZMXV2duDt69Ghzc/OvjXCOIfzxivqysKmfytc+9cuIzfPEuLxga2hsbGQwGGRHIQqeRrEgTqOE9xi3i9PYkg3bqevWrduwYcOYMWOKi4vbICyEkORTUIDbt2H3brh7l+xQJJ6enl5oaOi7d+/69+8fFBRUWlo6fvz4NWvWLF682N/f/2trI1pt/rZbuB0PDw+/e/fu6tWrV61apa2t/ccff7S88qqqqor/NDY2fm14ACArBb+YcX2T8OIFQkhspLZu3erg4DBr1iwLC4sPHz7gNokIIQDQ14erV2HiRHjyBHBnNNGGDx+ekJAwe/ZsV1dXVVVVKpUaHBw8atSob6hKSUlJXl6e1/leVFREXG3lt3fv3p9++mnu3LkAYGFhoaOjs23btq5du36xcmlp6dWrV5uYmHxDYPyWmMP+lKZXVQwbDcp3ViWAuIgi3hUGxY7JZEp4hHgaxYLD4XA4HAkPsl2cxpas1EQFgJEjRyYkJJibmwvvMo8Q6rRsbWHvXpgwAT59IjsUiaempmZra8vhcEpLS21tbW1tbb+5Kmdn53v37hG379275+zsDAAcDic9PZ3FYgGArKxsRUUFUaC8vJxCocjKyn73O/gKMjT4zZK6IRan1SOExOPfwRCamprCw+QRQp3crFmQnAyTJkFICEj2wCQyFRUVzZo168mTJ1u3bu3Vq9fChQutrKwuXbpkaWn5DbWtXbvWxcWluro6Pz///fv3Fy9eBICysjJjY+P379/37NnT29t7woQJjY2NmpqaZ8+eXbBgQZcuXcT9nr7Aqxd1XzLncT7XUUfMF0cRQp3Q/4/7oVKpxBymlgw1RQh1Ejt3grIy+PiQHYekKikpsbCwSElJefz48e+//+7p6RkfH6+kpGRra3vixIlvqHDQoEEvX77U1tYeNmxYXFyciooKACgqKl6+fJnosndwcHj16pWpqamsrOzRo0f9/PzE/JZaQIoKvtbUNTFs3K0eIfT9/mcQelRU1NixY9tySw+EkISjUuH8eXj2DNpwOcv2pKKiwtTUNC4uzt7enjhiZGQUGRm5du3as2fPfludPXv2XLly5cKFC1VVVYkjDAbDw8ODty+JgYHBokWLfHx8HB0dv/8tfJsphlQ6FQLTcZknhND3kiopKXn9+vWLFy8uXbqUkpLi5eXVu3dvsqNCCEmQLl3g5k2ws/u/9u48Lqpy/wP498wCM8AwDPsuKIIbKWouoEbicvVa7qhpZiglmfuWqan36s2tMs1KzfwpaimSmra4ew13MJE0RQQFBRHZl1mYOef3xzHiIiolcM7A5/2Hr3POPIyfeYCZL+c8z3OoVSvq0UPoNCLTpEmTI0eOVFkaTyaTLV68ePjw4UKlqgcM0UedpaNOmIb6SJSiXv0GAMROxs/BVKlUo0eP3rVrV8uWLYWOBACi06wZbd9O4eF09iz5+gqdRkyesshf69at6zNJ/Qt2Ybo6MyuvsIvaY6UnAPj7ZB9//HHHjh07deok8tUBAEBYYWE0Zw4NGUKnTxOWgAPeyk6SDvuMb/oz3jaYyQQAf5Nk+vTp3bt3RyUKAM80Ywa1b0+4eTBU8LZhpraWzjiPkaMA8Pfh2goA/AWffUbJybR6tdA5QDRmvSBJzOUO3cW8egD4m1CMAsBfoFTSd9/Rxx/TsWNCRwFxUEhpXbB00hmT1ih0FAAwT7L33nuvYmfRokX1fCcPADA7Xl4UE0PDhtHp09S0qdBpQAT+4cl0dGSWXjYt6ygVOgsAmB/Zxo0bK3bmzZuHYhQAnikkhObOpSFD6MwZTGYCIqI1XaVtvysPbyppa4+ZTADw10jyKlGr1ULnAQDzMG0aBQXRW28JnQPEwVVJy1+Ujj9lMmIuEwD8RRgzCgB/0/r19NtvtH690DlAHMb5SxwVtOIKqlEA+GtQjALA32RlRfv309KlFBcndBQQAYZoU3fp2qumxDzMrAeAvwDFKAD8fU2a0KZNNGIEZWUJHQVEwMuaWdVJOvakSW8SOgoAmA8UowDwXAYMoIgIGj2ajFjZB4jGNpf4q5n341GNAkBNoRgFgOe1eDHJ5bRggdA5QBw2dJPGpGIZfACoKRSjAPC8pFLasYO+/Za+/17oKCAC9pYUHSqNOGW6rxU6CgCYAxSjAFALHB1p926KjKRbt4SOAiLwkhvzdkvJa8eNJpweBYBnQTEKALWjUyeaP5+GDCEtzocB0YJ2EqmEFiVg8CgAPAOKUQCoNVOm0Asv0LRpQucAEZAwtPNlWXQKdyAdK48CwNOgGAWA2vT553TqFEVHC50DRMBJQTFh0gm/mG4U4mo9ADwRilEAqE0qFe3ZQzNn0rVrQkcBEejkxHz4onTgYVOBQegoACBWKEYBoJa1bk3Ll1N4OJWVCR0FRCDCX/IPL2bEMSNuWw8A1UIxCgC1LyKCOnakyZOFzgHi8FFnqVRCU85iMhMAVAPFKADUifXr6dw52rpV6BwgAlKGdvWUncnmVifh7CgAVIViFADqhLU17d5Ns2dj8CgQEankdLCvdN1V9ptbqEcB4H+gGAWAuoLBo1CZpzXzQ1/pjHOmw/cwuR4A/oRiFADqUEQEtW9P06cLnQPEoY2Gie0le/2k8ewD1KMA8AiKUQCoW/zKozt2CJ0DxCHYhdn2kmzwEeOvuahHAYAIxSgA1DUbG9q9m6ZPpxs3hI4C4tDXk/mym7T/z8akPNSjAIBiFADqXmAgLVpEY8aQASufAxERDWoiWRss7fOT8QrqUYBGTyZ0AABoFCZNoqNHaf58WrVK6Ciil56eHh0drdfrhw0b9sILL1R59Pfff//ll18qHwkPD7ezs6vHgLVjuK+EiP7xs/GHvrIgB0boOAAgmLo9M3rgwIFx48Z17tx5+fLl1Tb48ccfO1aSlJRUp3kAQEBff00xMXTwoNA5xC0zM7NDhw4PHjyQyWTdu3e/cOFClQY5OTkJf9i9e/esWbPkcrkgUZ/fcF/J5yHSfj9jPhNAo1a3Z0azs7ODgoLy8vIyMjKqbZCbm6tUKtesWcPvNm3atE7zAICANBqKjqYRIyghgdzchE4jVhs2bAgNDf3000+JiOO4VatWxcTEVG7Qo0ePHj168NsTJkzw9fW1trYWIGgtGdREopQyg44Yo0NlvfBTAdAo1W0xOmHCBCJKTU01Go1PaqNWqzt06FCnMQBAJLp3pwkTaNw4+uknkmDIenVOnDjxxhtv8Nt9+/Zdt27dk1qWlpbu3r370KFD9RWtrvT1ZPb2kg05avy4s2SQu9BpAKDeCT9m9Ny5c/7+/s7Ozq+//vpbb73FMBg5BNCQffABhYbSmjU0Y4bQUUQpKyvL2dmZ33ZxccnLy9PpdAqF4vGWu3fvdnd379KlSw2fWafTLViwQK1W87tjxoyp+dfWtfZq+iGMBp+glKbsnLY6oeM8jU6nE/m4CJZldTqdRNx/7ZlLN0qlUqGDPI1ZdCPLPvuma89bjMbFxd28ebPKQScnpwEDBtTky9u3bx8TE+Pj45OYmBgVFcWybFRUVE2+MDs7u3LZmpqa6uTkVLHL/wzV5PU3BiaTSa/Xozd46I3KTCaTwWAwmUz1/P9+9RUTGmrVubO2bVsRfSOMRmN5eflTekMikVhZWdV1DKlUWpHBaDQyDCOTVf9GvXnz5gkTJtT8D3ipVNqmTRsXFxd+19nZWVQfY+2c6FR/9pUjFlnlkjWdGZlYSym5XC6qfnscy7Imk0nkIc2iG41Go8hDmkU31kcxmpKScvbs2SoHfXx8aliMtm7dunXr1kTk6+ubkZGxc+fOGhajLi4uRUVFT3qUZVmZTFYPHxtmgX9XQm/w0BuV8cWoUqms5/+3RQv67DOKjLSKjyfxfCv4YrT+e6MKDw+PzMxMfjszM9PZ2bnaYjQ5OfnChQt79uyp+TPL5fKRI0cGBATUTtA64K1ijvXRv3FGMvAY921PmZ2F0IGqI5VKRX62jGEY8YcUf0J0Y61gGKYmfzA/bzE6bty4cePGPeeT8BQKxVOGlgJAQzJsGB04QDNn0hdfCB1FZP75z3/GxsZGRUUxDBMbG1vxh318fLyPj4+joyO/u3nz5gEDBri6ugqXtE7YyLiDfWUzz5u67Dd+30fqr8bALYCGr24vhBQUFKSmphYWFhYVFaWmpubn5xNRdnb26NGjS0pKiOjgwYNpaWkGg+HixYsrVqx49dVX6zQPAIjH+vV0/Dj970xxoPHjx9+/f79fv36jR4/evXv3nDlz+OPDhg07cuQIv200GqOjoyMiIoSLWYekDK3pIp39gqT7QeOBdBEN5ACAOlK3E5i+++67zz//nN8ODw9/++23IyMj9Xp9YmIifxL07NmzEydOzM3N9fDwGDt27OzZs+s0DwCIh40Nbd1KgwZRSAi5Yw71H9Rq9cWLFw8dOqTT6dauXevg4MAf37Nnj4+PD7+t1+u3bdsWGhoqVMh6MD5A0kbDDD9mupjDLWovleIMKUDDxXCc+S01nJKS0q9fv8cnTlXgJzBhXCCPn7KD3uChNyoTasxoZYsX05kzdOgQCb6QhkjGjNYdf3//AwcOiHnM6ONv3Q+0NOqEkSHa8bLMRRzfmeLiYpVKJXSKpzGLT0Cz6EatVivyRXwbTDeKdb4iADQOCxZQSQmtXSt0DhAlZyUd7icLcWHa7zUeuWd+p04AoCZQjAKAkGQy2r6dli2jK1eEjgKiJGVoSQfpjpelEadMcy6Y9PW9EBkA1DkUowAgsKZN6cMP6bXXSCfqxc5BSKFuzOUhsltF1Hm/8bd8nCIFaFBQjAKA8MaPp4AA+uADoXOAiDlYUmwv6bQ2kp4/GJcnskbMswdoKFCMAoAobNhAO3fSyZNC5wBxG+cviR8kO57JBh/AKVKABgLFKACIgqMjff01RUTQk++tBkBE5G3DHOone7uFJOxH48IEkw6jSAHMHIpRABCLPn2oTx+aNk3oHCB6DNH4AMnlwfLrBfTCd8ajmGgPYM5QjAKAiHz0EZ0+TX/ljuvQeLlZUUyY9JMu0rfjTCOOm+6WoiQFMEsoRgFARKyt6f/+j6ZMoexsoaOAmfinF/PbUFlLOwraa1x2mdUahQ4EAH8RilEAEJeuXenNN+mtt4TOAeZDKaPF7aUXB8ou53It9xi/vcXiHCmAGUExCgCis3gx3btHW7cKnQPMio+KiQmTbguVfvwb22W/8WQWKlIA84BiFABERy6nrVtpzhxKTxc6CpibHq7M+YGy6W0k40+Z+h8y/pqLkhRA7FCMAoAYtW5N06ZRRARxqCXgL2KIRjaT/D5c9k8vyYBDpmHHTFexIimAiKEYBQCRmjOHSkvp88+FzgHmyUJCk1pJbobLujozvX40jjhuSspDSQogRihGAUCkpFLaupWWLKFbt4SOAmbLSkYzAyUpI+SdnJi+PxsHHzGdf4CSFEBcUIwCgHj5+9P779MbbxCLG5HDc7CW0cxASeoIeS8PZuQJU88fjD/fxQAQALFAMQoAojZlCslktG6d0DnA/CmkNKmV5OZw2fgAybyLpsBY49fJLO4mCiA4FKMAIGoSCW3ZQv/5DyUnCx0FGgSZhEb7SX4dLFvTRfpdGuvzbfnCBNM93L0JQDgoRgFA7Hx9aeFCGjeOTDiJBbWnlwdzsK/s1ABZoYFe+M4Yfsx0IgvX7gEEgGIUAMzApElkaUlr1gidAxocfzWztqv09kh5qBsz5YypZYzx4yT2oU7oWACNCYpRADADDENbttDy5XTtmtBRoCFSyemdVpKkobLNPaRX8jj/mPIRx00/3+VMOFMKUPdQjAKAefDxoQ8+oAkTcLEe6lCIC/N/L0nTRshfdmMWJZiafGucd9F0rQA1KUAdQjEKAGZj0iSysMDMeqhzagua2FJyfqDscD8py1Gfn0wd9xk/+Y3NLENVClD7UIwCgNngZ9Z/+CHdvCl0FGgcWtkxKzpJ00fKVnSSJuVxgbHGAScsNlxnczCoFKD2oBgFAHPi60vz5tGECVgGH+qPhKEwd+brHtLM1+RR/sb/ZnH+u8t7/2TccJ3N1godDsD8oRgFADMzZQqxLG3YIHQOaHwspfRPD3bny9LM1+RRLSWnsriWe8q7HzR+nMSmFuMKPsDfJBM6AADAXyOR0FdfUbdu9I9/kK+v0GmgUVLKaIiPZIgP6U3S45nc3jtstwMmRwXzijczwFvS2YmRMEJHBDAfKEYBwPwEBNCMGRQZSUeOEINPfRCOpZT6eTH9vKQsJ72Yw32fzk6MM2WVcf/wlPT3Ynp7ShwshY4IIHq4TA8AZmn2bCoooOhooXMAEBGRhKHOzsyyjtLEIbL4QbIQV+bbVK7ZrvKu3xsXXzKdyeaMGOUM8AQ4MwoAZkkmo02bqF8/6tuXXFyETlOr9u3bt3//fo1GM2nSpGbNmj3ewGAwbN68+ezZs3Z2duHh4d26dav/kPAU3jbM2y2Yt1uQgZWezuYO3WXfPWNKK+Z6uEl6uTNhHkwrO5zPB/gTzowCgLkKCqLx42nyZKFz1KqdO3e+8847PXv2VCgUwcHBeXl5VRqYTKb+/fvHxMS89NJLLVq0SE5OFiQn1ISFhF52Y5a/KL00WHZjuHxUUyYxjxtwyOS+s3z0CdOm62xyIaY9AeDMKACYsw8+oKAg2rePBg0SOkotWbly5cqVK8eMGUNEly5d2rp16/Tp0ys3iI6OzszMTEpKkkqlAmWEv8NZSSObSUY2IyJKK+ZOZnEns7ill9lylnvJTdLNhenhyrTWYOYTNEYoRgHAjFla0pdf0muvUWgo2dkJnea5lZWVJSYmhoaG8ruhoaFnzpypUowePXp0+PDh33777bVr1zp27Dh48GABgsLz8VUxvirmTX8iotvF3Kn73Kn73LqrbLaWC3ZhujpLQlyZTk6MNT6ioXHATzoAmLcePWjAAHrvPfryS6GjPLf79+8TkaOjI7/r5OSUlZVVpc3t27dPnjw5cODAwMDA+fPnnzlzZtWqVTV5cq1WO3nyZBsbG343MjKye/futZe9FrAsq9PpWHHfz6C0tJSp1RUcHBka4kZD3IiIcnTM+VzmXI7k/fPMlXymuS11cmQ72rMvOnJ+Kq6G/2vj7MZax3cjx4l6HIVZdGNNEqIYBQCzt3IltWlDx49Tz55CR3k+CoWCiAwGA7+h0+msrKyqtLGwsGjZsuX69euJ6MUXX+zSpcvSpUstLZ+9gJBcLu/fv7+7uzu/GxAQ8PiTC4tlWYlEIrZUVZhMprpL2MSKmthTeHMiIgNLlx5yF3KkJ3K4FdcoT891dKQXnZgXnZj2DuRl/cQPeHRjreCrKJGHNItu1Ov1z2yGYhQAzJ6tLa1bR1FRlJhICoXQaZ6Ds7OzXC5PT09v06YNEWVkZHh4eFRp4+XlpVQq+e1mzZoZjcacnBxPT89nPrlMJuvXr19AQECtx65FEolEIhH1zNp6S6iQULArBbs+2n2oows5XPxD7utk9p0cjiXq4Mh0cGSCHJggB8ZX9T+1KbqxVog/pPgT1lBDeA0AAAMHUtu2tGyZ0Dmej0wmGzhw4I4dO4hIq9V+9913Q4YMIaLS0tKYmBiDwUBEw4cPj4uLKy8vJ6Ljx487OztXnOyEBsxRQf29mA+CJAf6yLJGyy8Nkk1sIZEQbUlmux802UeX9/zBOOOcaetN9nIuZxD1JXqAqnBmFAAaiLVrqV07GjmSWrcWOspzWLJkSa9evX799df09PRWrVr179+fiLKyssLDwx88eODk5NS/f/+tW7e2a9cuICDg9OnTmzZtahinRuAv8bBmPKyZV5s82s3R0eVc7tdc7vBdbvUV7lax3M/WGKhhXrBn2tgzre3IRyXqkYXQyKEYBYAGwtWVliyh8ePpzBky3/KsVatWN2/ePH/+vJ2dXVBQED/238fHJyUlxcHBgYgkEklMTMzly5cLCgq++uore3t7oSOD8JwU1NuD6e3BEBHLskVlujS9MimP+y2fW3eVvZpPhQaulYYJ1DAt7ZjWGqaFHTWxQXkKYoFiFAAajrfeol27aMMGiooSOspzsLa27vm/U7FkMlmVWzG1a9eufkOBObGQED+WtOJIgYGu5nNX87lrBdxPd9nrBVRg4FqomRZ2TEs7JkBNLewYP1vGEmvXghBQjAJAw8Ew9MUX1KMHvfoqPTbzB6DxsrOgEBcmxOXP8rTQQNcLuGsF3I1CbnsK/V7A3inhPKyZ5rYUYMf42zLN1YyfLXnbMFKcQoU6VofF6P3791evXh0XF1dWVta5c+clS5Y8PsqeZdmlS5fGxMTY2NjMnj2bH6oPAPC3BQRQVBRNmUKxsUJHARAxtQV1dmY6O/9ZaRpZSivmbhRSciF3JY+Lvc2mFNEDLeejYprbMn621MyWaWbLNFNRExVjYbYjYUCE6rAYTU1NlUqlH3/8sVqtXrJkycCBAy9evFilzRdffLFr167du3dnZGSMHDmyefPmgYGBdRcJABqDefMoKIj276euqHQ6AAAbQ0lEQVSBA4WOAmA+ZBJqrmaaq4nozwpVZ6KUIi6liEspot/yuf132FtFdK+Mc1UyTVXU1JbxVTG+KvJVMT42jJuol7wE8arDYjQ4ODg4OJjfXrlypa+vb2FhoVqtrtzmiy++WLhwYevWrVu3bj1y5MhNmzatXbu27iIBQGNgaUlffEFjx1JYGP1xvyEA+DsUUmqjYdpo/udSvZGl9FIurZhSi7jUYu5AOqUVs7eLuUID+agYHxtqYsM0UTHe1uSjYprYkJsVrvXD09TTmNELFy54eHhUqURNJtP169c7duzI73bs2HHnzp31kwcAGraXXqLQUFq8mFavFjoKQIMjk1BTFdNURWHu/1Njao2UVsLdLqY7JdydEu6HPEovYW+XUI6Wc7NivGyoiQ3jaU1e1oyTVNLckfOwYpyVQr0IEJHnLUb/+9//arXaKgd9fX0r3+Tj7t27U6dO/eyzz6o0y8vLM5lMFRWqnZ3dgwcPavj/Pnz40NfXt2L35MmTldc34W8/ZTKZav5CGjCTyWQwGNAbPPRGZXxvGI1GoYPUiX/9i+nc2XrQIG3btjX6dhuNxvLy8qf0BsMwNjjRCvBkShm1smNa2VHlC/1EVM7SvVIuo5TulHB3S+laAZdWIMu6ZrpXyhWVk6c1425F3jaMm5I8rRkPa3KzYrysydUKI1Mbi+ctRrdt25adnV3l4NChQyuK0fv374eFhc2aNWvo0KFVmqnVaoZhSktLnZyciKi4uFij0dTw/9VoNEePHq3Y9fT0lEr/XJGCZVm5XC7yG7bWG5PJpNfr0Rs89EZlfDFacW/JBkalov/8h6ZPtzp3jqQ1WLCGL0Ybam8ACEguIR8V46Oi7n8UqcXFZSqVioh0JrpbymWWUXoJl1VGaSXcL9mUVcZmlFC2lrOzJBcl42n9578eVuSiZNytyEXJKLEgUEPxvN/JzZs3P+XRnJycXr16jR07dubMmY8/amFh4e7ufuPGDR8fHyJKTk6ufLLz6aRSadOmTf96XgBoRN58k7Ztoy+/pEmThI4CANVRSMnPlvGzpSonU3nZWsrWcndLH/17o4A7do8e6NjMMrpfxllKyd2KcVKQuzXjrCAXJeNqRc4KxkVJ/AaWTTUXdfhnRW5ubq9evcLCwt555538/HwisrW1lUqlFy5c+OWXX/jy9PXXX//000979eqVm5u7ffv2r7/+uu7yAEBjwzC0cSN160aDBxPu3w5gdlyU5KJkXrCnakvVQgNllnE5Osos5bK19EDH/XKfcrTsAx1llVGOjrOUkJsV46QkB0vGVUnOSnJSMI4KclYyzgpyVDCOCpJjJIAI1GExGhcXl5GRER0dHR0dzR+5cOGCn59fcnLy3r17+WJ03rx5o0aNcnJyYlk2Kiqqd+/edZcHABohf3+KjKRZswjTIwEaGLUFqS2YlkTVlqpEVGig+1ouR0s5Ou6+lnJ0dLOIO/OAssvYHB091HEP9WQtIxcl42D5qDZ1sCQnJeOoIHsLzoYknuWcvSXjoCCsBlCn6rAYHThwYF5e3uPHx4wZM2bMGH7b1tb2hx9+KC0tlclklpaWdRcGABqtBQuoTRv66Sfq10/oKABQj/hqNeB/V06tIk9POTruoY5yddxDPT3UUY6Wu15AOVouRyspKDfl6rk8PaktyMGScVCQgyXZWzL2f/77aENjSfaWjMYSZevfIYrRv9bW1kJHAIAGS6mkzz+nd9+lpCRSKIROAwBiwleTjxesLMtqtXpr60enyXL1lKfjcvWUq6c8PZenozw9l1xIeXrK07N5eso3UJ6Oy9OTrQVpLBmNBWksH23Y8Ucsyc6C7CwebagtGI0lKTCqlYhEUowCANSpvn2pbVtavpwWLxY6CgCYIQdLcrBkmj/ae9rJzwID5eu5fD3l/7FRYKA8PZdRyj/EFhioQE8FBq7AQESPClM7C1JbkJ0FY2dJajmpLRi1BaktyNaC1BaMrZw0lqS2YFRyapDLXaEYBYBGYc0aat+exowhPz+howBAw8Wf/vRV8XvPuGavM1GBgQoNXIGeCgxUVM7l66nQQIUGLruQCg1UVE6FBrao/FH9WlxOUoZsLchWzqgtyEZqYacwqeSkkpOtBdlZMLZyspGTSk4qOcPXstYyspEzdhZ1/8qfA4pRAGgUPD1p7lyaNIkOHRI6CgAAEREppOSqJFdlRc367AGnWiMVlVORgSsqp8wCvUkuLy6nYgMVl1O+gcsofbRdYmQL9PwGlZRzhQZSyclGTlYyxs6CVPJHRaragmzkZC0jaxljZ0nWMlJKH52CtZKRtZzUFoyVlOp6SVcUowDQWEydStHR9N13NGSI0FEAAP4WpYyUMnJRMkTkb8mqVDW9bF9UTiXlXJnx0QnX0nIqKeeKyqm4nEqNlG/gUoup1MgXu2yRgcqMVGakAgNXZiSdiTSWpJQyShnZWZBSRkop2VkwShkppMQPflVKGTtLUkjJSkYqOaOQkkpOCgnnJqNnTgxCMQoAjYVMRp99RqNHU58+hPt6AkCjYisnW3mVM681nfnPERXoqczIaU1UaKAyI2lNVPhHnVqgJ62J48tZnelROaszUUk5lRppRwhjb/uM50cxCgCNSLdu9PLLtHQpLV8udBQAADPB0KPFAR47/Awsy2q13DObNcRJWQAAT7ZyJW3ZQteuCZ0DAACICMUoADQ2zs70wQe4Wz0AgFigGAWARicqikpL6dtvhc4BAAAoRgGgEZJIaM0amjGDCguFjgIA0OihGAWAxig4mPr2paVLhc4BANDooRgFgEZqxQr6v/+jpCShcwAANG4oRgGgkXJ2pkWLaNo0oXMAADRuKEYBoPGKiqK8PNq9W+gcAACNGIpRAGi8pFL67DOaNYtKS4WOAgDQWKEYBYBGLSSEevTADZkAAASDYhQAGrvVq2nDBrp5s6a3aQYAgFqEe9MDQGPn6kqzZtGcORKRDB49derU2rVrdTrdiBEjXn/99SqPlpaWzpgxo2K3f//+AwcOrN+AAAC1CcUoAABNm0abN9PRo9JXXhE4yY0bNwYMGLBmzRpXV9fIyEiFQjF8+PDKDXQ63caNGzds2MDvuru7CxETAKDWoBgFACALC9q7l3VxMQkdhL788svhw4dHREQQ0eLFiz/99NMqxSjvrbfeqvdoAAB1AmNGAQCIiPz9OSsroUMQJSQkhISE8NvBwcEJCQkcxz3eLDIy8u233961a1e1jwIAmJGGeWb0zJkzZ86cmTNnjtBBROH06dMXLlyYNWuW0EFE4dSpU5cvX54+fbrQQUThxIkTv//+++TJk4UOIgrHjh1LSUmZNGmSsDGys7M1Gg2/bW9vr9PpCgsL7ezsKhrI5fJZs2YFBQXl5ubOmTPn3Llzn3zySU2eOSsr65VXXrG2tuZ3582b169fv1rP/zzOnj17/vz5aeK+D8GsWbOmT5/u4eEhdJAnOn/+/OnTpysPLBahWbNmTZs2zdPTU+ggT3Tx4sX//ve/Iv/onDNnzuTJk728vIQO8kTx8fFxcXELFy58erOGWYzevXv34sWLQqcQizt37sTHxwudQixu376dkJAgdAqxSEtLu3TpktApxCI1NfXXX38VOgXZ2NhotVp+u6ysTCKRVJSPPFtb21WrVvHbnTt3Dg4O/vDDDxUKxTOf2WAwTJ48OTg4mN/18fFRqVS1mv155eXlXblyRWypqjh16tTUqVPFHNIsujEuLm7y5MliDpmfn3/58mUxJySi06dPT5w4UcwhCwoKalKPNcxiFADATHl7e6elpfHbaWlpbm5ucrn8SY39/PxMJlN+fr6bm1tNnrx58+YdOnSonaAAALUEY0YBAERkxIgRO3bsKC0tJaJNmzaNGDGCPx4dHX39+nUiysjI4E+dchy3Zs0aX1/fGlaiAADiZK5nRktLS1esWPGkRxMTE2/cuPGUBo3KpUuX0BsV4uPjb926hd7gXbhw4c6dO+gN3rlz5+7du/eU3rCxsamHEaXDhg3bu3dvQECAWq1WKBSfffYZf/zf//73/PnzW7RocejQoZkzZzZp0iQvL8/Gxuabb76p4TNzHLd79+7ExMQ6y/68zOKtOzc3d/Pmzc7OzkIHeaIrV64kJyeLvBsfPnz49ddfu7i4CB3kiX777beUlBSRd2NOTs6WLVvE/Ofo1atX9Xr9M5sx5jgTk2XZrVu33rhx40kNTCYTy7JPubbVqKA3KkNvVIbeqOyZvWFra/v+++/XT5j09PSysrKAgACGeXRfKJ1OJ5fLpVIpERUUFGRkZNjZ2Xl6elY0eKbDhw8fPXpUIhHvBTGz+IHU6/UWFhY17/b6h26sFSzLGo1GCwsLoYM8jVl044QJE/z9/Z/ezCyLUQAAAABoGMT7JzIAAAAANHgoRgEAAABAMChGAQAAAEAwKEYBAAAAQDAoRgEAAABAMChGAQAAAEAwKEYBAAAAQDDmegemCgUFBcuWLUtKSgoMDJw/f76dnV2VBhzHbdq06fvvv9doNDNnzmzXrp0gOeuHTqdbsWLF2bNn/fz85s+f//hdGXbt2nX8+PGK3fXr18tkZv8zUK3i4uKjR4/Gx8fn5eV98cUX1bYpKipatmxZYmJimzZt5s+fr9Fo6jlkvdHr9UeOHElISMjMzFy1apWtre3jbRYuXPjgwQN+u2XLltOmTavfjPXn3r1727Zti4+Pl0gkPXv2jIyMfPy3wGg0fvrpp8eOHXN3d3/vvff8/PwEiVpbDAbDqlWr4uLifHx83n//fS8vL6ETVXXlypVNmzalpaVZWVn16dPnzTff5Jf3F5sTJ05s3rw5Ly+vRYsWy5YtUyqVQieq6ueff46Oji4tLQ0PD3/ttdeEjvPIzZs3T548eeXKlRdffHHs2LH8wYyMjOjo6Pj4eKlU2rt374iICAE/j8rKyviPjOzs7LVr11paWvLHN2zYcOnSJX5bpVKtXr1aqIRElJCQcPr06evXrw8bNqxnz54Vxw8ePLhz587i4uJOnTpNnTq12nf4+pGXl7d9+/bTp0/r9frg4OB3333XysqKiHJyco4ePXrp0iVra+vFixc//oVmf2Z01KhRd+7cmTt3bnp6+siRIx9vsGHDhpUrV7777rtBQUE9e/bMzs6u/5D1ZvLkyadOnZo7dy7Lsn379mVZtkqDs2fPZmZmdviDmO/F8pyuXbu2bt269PT0r7766kltRo8enZKSMnfu3KysrOHDh9dnvHp2//795cuXZ2Zmbty4saysrNo2u3btsre3538wmjdvXs8J69PBgwfv3LkzatSo8PDwTz/9dM6cOY+3WbJkyTfffDNjxgw3N7eXX36Zvxe8+Zo9e/bPP/88e/ZspVIZFhZmNBqFTlRVTk6Ov7//u+++O3jw4OXLl//nP/8ROlE1YmJiRowY0bVr1ylTpri6uhoMBqETVXXgwIGxY8cOGTJk4sSJixYt2rFjh9CJHtm6devhw4cvXrx46tSpioMHDhy4e/fu6NGjhw8fvnr16vnz5wuY8Pbt2x999NHdu3c3btxY+RfkyJEjWq2Wf2Ns27atgAmJ6KOPPoqPjz98+HBSUlLFwSNHjrz++usDBw6cO3duXFzc+PHjBUx49uzZc+fODR48OCIiYu/evWPGjOGPnzhxYtu2bcnJybt3767+Kzlzdu3aNaVSWVxczHFcSUmJlZXV1atXq7Tx9/ePjY3lt1955ZUPP/ywvlPWl5ycHEtLy7S0NI7jWJb19PQ8fPhwlTZTp05dtGhR/WcTSlJSkkwmq/ah5ORkS0vLgoICjuPKyspsbGwSExPrN119y8/PJ6KsrKxqH23evPm5c+fqOZLg9u3b5+3tXeWgTqdzcHA4e/Ysv9uhQ4dt27bVe7RaU1hYaG1tXfHe6Ofnt2/fPmEjPd369etfeukloVNUVV5e7ubmtn//fqGDPM2AAQOWLl3Kb+/cubNdu3bC5qli1qxZ48ePr/ahPXv2NGvWrJ7zPC49PZ2ISkpKKo4MHTp048aNAkZ6XN++fdesWVOxu2DBglGjRvHbp06dcnR0FChXVYmJiTKZTK/XVxyJjY1t2bJltY3N+8RYQkJCYGCgjY0NEVlbW7dr1y4hIaFyg+Li4uTk5JCQEH43JCQkPj5egKD14rfffnNwcPDx8SEihmGCg4OrfbGHDx8eN27c4sWLMzMz6zuimCQkJLRu3VqtVhORUqls3759lR+eRuiTTz4ZP378559/rtfrhc5ST1JTUx+/Zp2WllZYWNipUyd+19zfN65fv25hYdGqVSt+V7Qvx2Qy5efnp6Sk7Nmzp0+fPkLHqermzZv5+fnOzs5TpkyZM2fO9evXhU5UjcLCQgcHB37b0dExMTFRhKdvq3Xr1i1PT0+hU1QvJiZm3Lhxy5cv5/+eF5vQ0NDz58/fvn1br9fHxMSEhYUJneiRW7duOTs7W1hY1KSxeRej2dnZ9vb2FbsODg5ZWVlVGhBRxVhAe3v7+/fv12fC+vR4bzz+YoOCgkaMGNGrV6/U1NQ2bdrcuXOnfjOKyDN/eBqb8PDwPn36dOnSZcuWLdWO8Wh4UlJS/v3vfy9durTK8ezsbDs7u4pBLNX+KpmR7OzsyuOhRftyrl692qxZsxYtWpSXl7/77rtCx6nqzp07EolkxowZPXr0UKlUnTp1SklJETpUVcHBwTExMQaDgeO47du3cxxnFiPTbty48eGHHz7+mygGPXr0GDx48Msvv3zmzJl27doVFBQInaiqsLCwYcOG+fr6WltbHz58+OOPPxY6ERFRbm7utGnTaj7exryLUWtra51OV7FbVlamUqmqNCCiijZarbZKg4bkmb1BRG+88cbUqVPHjBmzbdu2rl27btiwoX4zikhNuqtRWbp0aURERGRk5LFjx3799dezZ88KnahuZWRk9OnTZ9myZaGhoVUeamA/G+bycl544YW8vLyioiI/P79Ro0YJHacqKyursrKydevWDRs2bOHChX369NmyZYvQoaqaN2+elZVVkyZN/P39+Sk44p+XeefOnb59+65cubJbt25CZ6nGlClToqKi3njjjX379tnb2+/cuVPoRFWtX7/+yJEj9+7d0+l0Y8aM6devn8lkEjZSYWFh3759R44c+cYbb9TwS8y7GPX29r59+3bFblpaWpUrbs7OzgqFIi0t7UkNGhJvb+/MzMyKC6zPfLH+/v45OTn1Ek2M+B8ejuP43bS0NG9vb2EjiYStra2Li0vD/tnIzMwMCwubPHlyVFTU4496eXmVlpZW9IC5v294e3vn5OSUlJTwuyJ/OVZWVlFRUSdPnhQ6SFX8+4O7uzu/6+Hh8fDhQ0ETVUOtVh84cODmzZtJSUlDhgzx9PTkh7GJ1t27d8PCwmbOnBkZGSl0lmeQSCR+fn4ifGM8ePDgyJEj3d3dZTLZtGnTrly5kpGRIWCe4uLifv36hYSErFixouZfZd7FaM+ePUtKSo4ePUpEx48fLyws7NWrFxFdvnx57969RCSVSocOHcrPpy4oKIiNjQ0PDxc2c90JDAz09vb+5ptviOjatWvx8fGDBg0iopSUlO3bt/NtUlNT+Y179+7FxsZ27dpVqLRC2b9/P79OR2hoqMFg+Pnnn4nol19+ycnJ6d27t9Dp6tuxY8f4ya0FBQV5eXn8wR9//DEjI6N9+/aCRqtDDx486N2795tvvjl9+vTKx0+fPn348GEicnFxeemllzZv3kxEd+/ePXTokFm/b/j5+QUGBm7bto2IUlJS4uLihg4dKnSoqlJTU/m/DFmWjY2NDQwMFDpRVT4+PsHBwd9//z0RabXaw4cPd+7cWehQVZWVlZlMJhsbG51Ot3jx4rffflvoRE+TnZ3dp0+fyMjIyZMnC52leiaTqWIw2++//37kyBERfmj6+vrysy2JKC4uTqlUPr6qY70pKyt79dVXW7VqtWbNmr/2lfUwo6pO8evRBAcHOzg47Nq1iz+4atWqkJAQfjs1NdXPz699+/Zubm6RkZEsywoXts4dP37c2dm5S5cuDg4Oa9eu5Q9+8803TZo04be9vb2bN28eFBRkY2MzceJEk8kkWNY6lpOTo9Fo+OXWNBpNq1at+OOhoaHLli3jt2NjYx0cHIKDg+3t7Xfs2CFc2Prg6urKr8KrVqs1Gg3/izBmzJioqCiO4xISEmxsbNq0adOqVSt7e3uznjz+TIsXL2YYRvOHismn06ZNGz58OL996dIlDw+PTp06OTk5LViwQLiwtSMuLs7V1ZV/Z1ixYoXQcaoxYcIEFxeXjh07uru7BwYGXrlyRehE1UhISPD09AwJCfHy8ho9erTRaBQ6UVW//PKLk5NT+/bt1Wp1ZGRkeXm50IkeWbdunUajUSgUlpaWGo3mX//6F8dxCxYsqPyb6OrqKmBCvV6v0Wj4Ka12dnaenp4cx/FjWlq0aNG2bVuVSrVw4UIBE3IcN3HiRI1GI5fLraysNBoNv1LQvXv3goKCAgICunfvbm9vv3XrVgETbt26le/Aim9rRkYGx3Hnz5/XaDQ2NjZSqVSj0QwYMKDKFzLcH5cpzVdRUdHNmzebN29esdCrwWAwGo38UqtEZDKZrl69qtFoxHxxqraUlZXduHHD29u7Yk6l0WjU6XT8xRqTyXTr1i2tVtukSZPHbxDQkHAcV3mkuUQi4d9lysrKZDJZxfy+4uLimzdvNmvWjH+0AasyD5QfScYPJVQoFERUWlqalpYmlUqbNm1aseBzg6TVaiuPoaQ/ekOv17MsW7GMuV6vv379uouLi6urqwApa5tWq71x44aHh4eTk5PQWaqXnZ197949JycnT09PhmGEjlM9g8Hw+++/u7q6uri4CJ2leg8fPrxz546Xl5ezs7PQWf6k0+kqL9arUCiUSmWV30SGYYT9VKr8JlkRpry8PCUlxWg0+vr6Cj7mobS0tPLyCNbW1vxnGcuy6enpJSUlTZs2rah8BGEwGEpLSysfUavVEonEaDQWFxdXHJTJZFVGrjeEYhQAAAAAzJR5jxkFAAAAALOGYhQAAAAABINiFAAAAAAEg2IUAAAAAASDYhQAAAAABINiFAAAAAAEg2IUAAAAAASDYhQAAAAABINiFAAAAAAEg2IUAAAAqnf58uXw8PDbt28LHQQaMhSjAAAAUL2srKyYmJiCggKhg0BDJhM6AEB9yMjI4DjO29u74kh+fn5+fr67u7tCoRAwGACAaJWUlNy/f5+I7t27Z2trS0QeHh6WlpZC54KGBmdGoVHYv3+/j4/Pvn37+N3i4uIuXbqMHDlSIsGvAABA9fbt2xcREUFEAwYMaNasWbNmzZKSkoQOBQ3Q/wN2s4vSLH+9YwAAAABJRU5ErkJggg==\" />"
               },
               "type": "node"
              }
             ],
             "instanceArgs": {
              "namespace": "html",
              "tag": "div"
             },
             "nodeType": "DOM",
             "props": {
              "className": "interact-flex-row interact-widget"
             },
             "type": "node"
            }
           }
          },
          "systemjs_options": null
         },
         "nodeType": "Scope",
         "props": {},
         "type": "node"
        }
       ],
       "instanceArgs": {
        "namespace": "html",
        "tag": "div"
       },
       "nodeType": "DOM",
       "props": {},
       "type": "node"
      },
      "text/html": [
       "<div\n",
       "    class=\"webio-mountpoint\"\n",
       "    data-webio-mountpoint=\"17762538644478341224\"\n",
       ">\n",
       "    <script>\n",
       "    (function(){\n",
       "    // Some integrations (namely, IJulia/Jupyter) use an alternate render pathway than\n",
       "    // just putting the html on the page. If WebIO isn't defined, then it's pretty likely\n",
       "    // that we're in one of those situations and the integration just isn't installed\n",
       "    // correctly.\n",
       "    if (typeof window.WebIO === \"undefined\") {\n",
       "        document\n",
       "            .querySelector('[data-webio-mountpoint=\"17762538644478341224\"]')\n",
       "            .innerHTML = (\n",
       "                '<div style=\"padding: 1em; background-color: #f8d6da; border: 1px solid #f5c6cb; font-weight: bold;\">' +\n",
       "                '<p><strong>WebIO not detected.</strong></p>' +\n",
       "                '<p>Please read ' +\n",
       "                '<a href=\"https://juliagizmos.github.io/WebIO.jl/latest/troubleshooting/not-detected/\" target=\"_blank\">the troubleshooting guide</a> ' +\n",
       "                'for more information on how to resolve this issue.</p>' +\n",
       "                '<p><a href=\"https://juliagizmos.github.io/WebIO.jl/latest/troubleshooting/not-detected/\" target=\"_blank\">https://juliagizmos.github.io/WebIO.jl/latest/troubleshooting/not-detected/</a></p>' +\n",
       "                '</div>'\n",
       "            );\n",
       "        return;\n",
       "    }\n",
       "    WebIO.mount(\n",
       "        document.querySelector('[data-webio-mountpoint=\"17762538644478341224\"]'),\n",
       "        {\"props\":{},\"nodeType\":\"DOM\",\"type\":\"node\",\"instanceArgs\":{\"namespace\":\"html\",\"tag\":\"div\"},\"children\":[{\"props\":{\"className\":\"field interact-widget\"},\"nodeType\":\"DOM\",\"type\":\"node\",\"instanceArgs\":{\"namespace\":\"html\",\"tag\":\"div\"},\"children\":[{\"props\":{},\"nodeType\":\"Scope\",\"type\":\"node\",\"instanceArgs\":{\"imports\":{\"data\":[{\"name\":\"knockout\",\"type\":\"js\",\"url\":\"\\/assetserver\\/2712bb0a7395d062608c2f218a74b700f6c76b99-knockout.js\"},{\"name\":\"knockout_punches\",\"type\":\"js\",\"url\":\"\\/assetserver\\/fb4445501a2be4ab82176667f844e40da26fa007-knockout_punches.js\"},{\"name\":null,\"type\":\"js\",\"url\":\"\\/assetserver\\/a8ea7d9192d5fa85c6fac26c72d7fece1e500138-all.js\"},{\"name\":null,\"type\":\"css\",\"url\":\"\\/assetserver\\/620a53798cfdb29a4a2142ce0588e9aadc351d94-style.css\"},{\"name\":null,\"type\":\"css\",\"url\":\"\\/assetserver\\/9f2f17f677abbfd015a7c6b0c0f09a2da809bee2-bulma_confined.min.css\"}],\"type\":\"async_block\"},\"id\":\"12237093131708729984\",\"handlers\":{\"changes\":[\"(function (val){return (val!=this.model[\\\"changes\\\"]()) ? (this.valueFromJulia[\\\"changes\\\"]=true, this.model[\\\"changes\\\"](val)) : undefined})\"],\"index\":[\"(function (val){return (val!=this.model[\\\"index\\\"]()) ? (this.valueFromJulia[\\\"index\\\"]=true, this.model[\\\"index\\\"](val)) : undefined})\"]},\"systemjs_options\":null,\"mount_callbacks\":[\"function () {\\n    var handler = (function (ko, koPunches) {\\n    ko.punches.enableAll();\\n    ko.bindingHandlers.numericValue = {\\n        init: function(element, valueAccessor, allBindings, data, context) {\\n            var stringified = ko.observable(ko.unwrap(valueAccessor()));\\n            stringified.subscribe(function(value) {\\n                var val = parseFloat(value);\\n                if (!isNaN(val)) {\\n                    valueAccessor()(val);\\n                }\\n            });\\n            valueAccessor().subscribe(function(value) {\\n                var str = JSON.stringify(value);\\n                if ((str == \\\"0\\\") && ([\\\"-0\\\", \\\"-0.\\\"].indexOf(stringified()) >= 0))\\n                     return;\\n                 if ([\\\"null\\\", \\\"\\\"].indexOf(str) >= 0)\\n                     return;\\n                stringified(str);\\n            });\\n            ko.applyBindingsToNode(\\n                element,\\n                {\\n                    value: stringified,\\n                    valueUpdate: allBindings.get('valueUpdate'),\\n                },\\n                context,\\n            );\\n        }\\n    };\\n    var json_data = {\\\"formatted_vals\\\":[\\\"0.0\\\",\\\"0.02\\\",\\\"0.04\\\",\\\"0.06\\\",\\\"0.08\\\",\\\"0.1\\\",\\\"0.12\\\",\\\"0.14\\\",\\\"0.16\\\",\\\"0.18\\\",\\\"0.2\\\",\\\"0.22\\\",\\\"0.24\\\",\\\"0.26\\\",\\\"0.28\\\",\\\"0.3\\\",\\\"0.32\\\",\\\"0.34\\\",\\\"0.36\\\",\\\"0.38\\\",\\\"0.4\\\",\\\"0.42\\\",\\\"0.44\\\",\\\"0.46\\\",\\\"0.48\\\",\\\"0.5\\\",\\\"0.52\\\",\\\"0.54\\\",\\\"0.56\\\",\\\"0.58\\\",\\\"0.6\\\",\\\"0.62\\\",\\\"0.64\\\",\\\"0.66\\\",\\\"0.68\\\",\\\"0.7\\\",\\\"0.72\\\",\\\"0.74\\\",\\\"0.76\\\",\\\"0.78\\\",\\\"0.8\\\",\\\"0.82\\\",\\\"0.84\\\",\\\"0.86\\\",\\\"0.88\\\",\\\"0.9\\\",\\\"0.92\\\",\\\"0.94\\\",\\\"0.96\\\",\\\"0.98\\\",\\\"1.0\\\",\\\"1.02\\\",\\\"1.04\\\",\\\"1.06\\\",\\\"1.08\\\",\\\"1.1\\\",\\\"1.12\\\",\\\"1.14\\\",\\\"1.16\\\",\\\"1.18\\\",\\\"1.2\\\",\\\"1.22\\\",\\\"1.24\\\",\\\"1.26\\\",\\\"1.28\\\",\\\"1.3\\\",\\\"1.32\\\",\\\"1.34\\\",\\\"1.36\\\",\\\"1.38\\\",\\\"1.4\\\",\\\"1.42\\\",\\\"1.44\\\",\\\"1.46\\\",\\\"1.48\\\",\\\"1.5\\\",\\\"1.52\\\",\\\"1.54\\\",\\\"1.56\\\",\\\"1.58\\\",\\\"1.6\\\",\\\"1.62\\\",\\\"1.64\\\",\\\"1.66\\\",\\\"1.68\\\",\\\"1.7\\\",\\\"1.72\\\",\\\"1.74\\\",\\\"1.76\\\",\\\"1.78\\\",\\\"1.8\\\",\\\"1.82\\\",\\\"1.84\\\",\\\"1.86\\\",\\\"1.88\\\",\\\"1.9\\\",\\\"1.92\\\",\\\"1.94\\\",\\\"1.96\\\",\\\"1.98\\\",\\\"2.0\\\"],\\\"changes\\\":WebIO.getval({\\\"name\\\":\\\"changes\\\",\\\"scope\\\":\\\"12237093131708729984\\\",\\\"id\\\":\\\"1243761539175935025\\\",\\\"type\\\":\\\"observable\\\"}),\\\"index\\\":WebIO.getval({\\\"name\\\":\\\"index\\\",\\\"scope\\\":\\\"12237093131708729984\\\",\\\"id\\\":\\\"5678606400129295007\\\",\\\"type\\\":\\\"observable\\\"})};\\n    var self = this;\\n    function AppViewModel() {\\n        for (var key in json_data) {\\n            var el = json_data[key];\\n            this[key] = Array.isArray(el) ? ko.observableArray(el) : ko.observable(el);\\n        }\\n        \\n        [this[\\\"formatted_val\\\"]=ko.computed(    function(){\\n        return this.formatted_vals()[parseInt(this.index())-(1)];\\n    }\\n,this)]\\n        [this[\\\"changes\\\"].subscribe((function (val){!(this.valueFromJulia[\\\"changes\\\"]) ? (WebIO.setval({\\\"name\\\":\\\"changes\\\",\\\"scope\\\":\\\"12237093131708729984\\\",\\\"id\\\":\\\"1243761539175935025\\\",\\\"type\\\":\\\"observable\\\"},val)) : undefined; return this.valueFromJulia[\\\"changes\\\"]=false}),self),this[\\\"index\\\"].subscribe((function (val){!(this.valueFromJulia[\\\"index\\\"]) ? (WebIO.setval({\\\"name\\\":\\\"index\\\",\\\"scope\\\":\\\"12237093131708729984\\\",\\\"id\\\":\\\"5678606400129295007\\\",\\\"type\\\":\\\"observable\\\"},val)) : undefined; return this.valueFromJulia[\\\"index\\\"]=false}),self)]\\n        \\n    }\\n    self.model = new AppViewModel();\\n    self.valueFromJulia = {};\\n    for (var key in json_data) {\\n        self.valueFromJulia[key] = false;\\n    }\\n    ko.applyBindings(self.model, self.dom);\\n}\\n);\\n    (WebIO.importBlock({\\\"data\\\":[{\\\"name\\\":\\\"knockout\\\",\\\"type\\\":\\\"js\\\",\\\"url\\\":\\\"\\/assetserver\\/2712bb0a7395d062608c2f218a74b700f6c76b99-knockout.js\\\"},{\\\"name\\\":\\\"knockout_punches\\\",\\\"type\\\":\\\"js\\\",\\\"url\\\":\\\"\\/assetserver\\/fb4445501a2be4ab82176667f844e40da26fa007-knockout_punches.js\\\"}],\\\"type\\\":\\\"async_block\\\"})).then((imports) => handler.apply(this, imports));\\n}\\n\"],\"observables\":{\"changes\":{\"sync\":false,\"id\":\"1243761539175935025\",\"value\":0},\"index\":{\"sync\":true,\"id\":\"5678606400129295007\",\"value\":51}}},\"children\":[{\"props\":{\"className\":\"interact-flex-row interact-widget\"},\"nodeType\":\"DOM\",\"type\":\"node\",\"instanceArgs\":{\"namespace\":\"html\",\"tag\":\"div\"},\"children\":[{\"props\":{\"className\":\"interact-flex-row-left\"},\"nodeType\":\"DOM\",\"type\":\"node\",\"instanceArgs\":{\"namespace\":\"html\",\"tag\":\"div\"},\"children\":[{\"props\":{\"className\":\"interact \",\"style\":{\"padding\":\"5px 10px 0px 10px\"}},\"nodeType\":\"DOM\",\"type\":\"node\",\"instanceArgs\":{\"namespace\":\"html\",\"tag\":\"label\"},\"children\":[\"R\"]}]},{\"props\":{\"className\":\"interact-flex-row-center\"},\"nodeType\":\"DOM\",\"type\":\"node\",\"instanceArgs\":{\"namespace\":\"html\",\"tag\":\"div\"},\"children\":[{\"props\":{\"max\":101,\"min\":1,\"attributes\":{\"type\":\"range\",\"data-bind\":\"numericValue: index, valueUpdate: 'input', event: {change: function (){this.changes(this.changes()+1)}}\",\"orient\":\"horizontal\"},\"step\":1,\"className\":\"slider slider is-fullwidth\",\"style\":{}},\"nodeType\":\"DOM\",\"type\":\"node\",\"instanceArgs\":{\"namespace\":\"html\",\"tag\":\"input\"},\"children\":[]}]},{\"props\":{\"className\":\"interact-flex-row-right\"},\"nodeType\":\"DOM\",\"type\":\"node\",\"instanceArgs\":{\"namespace\":\"html\",\"tag\":\"div\"},\"children\":[{\"props\":{\"attributes\":{\"data-bind\":\"text: formatted_val\"}},\"nodeType\":\"DOM\",\"type\":\"node\",\"instanceArgs\":{\"namespace\":\"html\",\"tag\":\"p\"},\"children\":[]}]}]}]}]},{\"props\":{\"className\":\"field interact-widget\"},\"nodeType\":\"DOM\",\"type\":\"node\",\"instanceArgs\":{\"namespace\":\"html\",\"tag\":\"div\"},\"children\":[{\"props\":{},\"nodeType\":\"Scope\",\"type\":\"node\",\"instanceArgs\":{\"imports\":{\"data\":[{\"name\":\"knockout\",\"type\":\"js\",\"url\":\"\\/assetserver\\/2712bb0a7395d062608c2f218a74b700f6c76b99-knockout.js\"},{\"name\":\"knockout_punches\",\"type\":\"js\",\"url\":\"\\/assetserver\\/fb4445501a2be4ab82176667f844e40da26fa007-knockout_punches.js\"},{\"name\":null,\"type\":\"js\",\"url\":\"\\/assetserver\\/a8ea7d9192d5fa85c6fac26c72d7fece1e500138-all.js\"},{\"name\":null,\"type\":\"css\",\"url\":\"\\/assetserver\\/620a53798cfdb29a4a2142ce0588e9aadc351d94-style.css\"},{\"name\":null,\"type\":\"css\",\"url\":\"\\/assetserver\\/9f2f17f677abbfd015a7c6b0c0f09a2da809bee2-bulma_confined.min.css\"}],\"type\":\"async_block\"},\"id\":\"1005215311942123234\",\"handlers\":{\"changes\":[\"(function (val){return (val!=this.model[\\\"changes\\\"]()) ? (this.valueFromJulia[\\\"changes\\\"]=true, this.model[\\\"changes\\\"](val)) : undefined})\"],\"index\":[\"(function (val){return (val!=this.model[\\\"index\\\"]()) ? (this.valueFromJulia[\\\"index\\\"]=true, this.model[\\\"index\\\"](val)) : undefined})\"]},\"systemjs_options\":null,\"mount_callbacks\":[\"function () {\\n    var handler = (function (ko, koPunches) {\\n    ko.punches.enableAll();\\n    ko.bindingHandlers.numericValue = {\\n        init: function(element, valueAccessor, allBindings, data, context) {\\n            var stringified = ko.observable(ko.unwrap(valueAccessor()));\\n            stringified.subscribe(function(value) {\\n                var val = parseFloat(value);\\n                if (!isNaN(val)) {\\n                    valueAccessor()(val);\\n                }\\n            });\\n            valueAccessor().subscribe(function(value) {\\n                var str = JSON.stringify(value);\\n                if ((str == \\\"0\\\") && ([\\\"-0\\\", \\\"-0.\\\"].indexOf(stringified()) >= 0))\\n                     return;\\n                 if ([\\\"null\\\", \\\"\\\"].indexOf(str) >= 0)\\n                     return;\\n                stringified(str);\\n            });\\n            ko.applyBindingsToNode(\\n                element,\\n                {\\n                    value: stringified,\\n                    valueUpdate: allBindings.get('valueUpdate'),\\n                },\\n                context,\\n            );\\n        }\\n    };\\n    var json_data = {\\\"formatted_vals\\\":[\\\"0.01\\\",\\\"0.02\\\",\\\"0.03\\\",\\\"0.04\\\",\\\"0.05\\\",\\\"0.06\\\",\\\"0.07\\\",\\\"0.08\\\",\\\"0.09\\\",\\\"0.1\\\",\\\"0.11\\\",\\\"0.12\\\",\\\"0.13\\\",\\\"0.14\\\",\\\"0.15\\\",\\\"0.16\\\",\\\"0.17\\\",\\\"0.18\\\",\\\"0.19\\\",\\\"0.2\\\",\\\"0.21\\\",\\\"0.22\\\",\\\"0.23\\\",\\\"0.24\\\",\\\"0.25\\\",\\\"0.26\\\",\\\"0.27\\\",\\\"0.28\\\",\\\"0.29\\\",\\\"0.3\\\",\\\"0.31\\\",\\\"0.32\\\",\\\"0.33\\\",\\\"0.34\\\",\\\"0.35\\\",\\\"0.36\\\",\\\"0.37\\\",\\\"0.38\\\",\\\"0.39\\\",\\\"0.4\\\",\\\"0.41\\\",\\\"0.42\\\",\\\"0.43\\\",\\\"0.44\\\",\\\"0.45\\\",\\\"0.46\\\",\\\"0.47\\\",\\\"0.48\\\",\\\"0.49\\\",\\\"0.5\\\",\\\"0.51\\\",\\\"0.52\\\",\\\"0.53\\\",\\\"0.54\\\",\\\"0.55\\\",\\\"0.56\\\",\\\"0.57\\\",\\\"0.58\\\",\\\"0.59\\\",\\\"0.6\\\",\\\"0.61\\\",\\\"0.62\\\",\\\"0.63\\\",\\\"0.64\\\",\\\"0.65\\\",\\\"0.66\\\",\\\"0.67\\\",\\\"0.68\\\",\\\"0.69\\\",\\\"0.7\\\",\\\"0.71\\\",\\\"0.72\\\",\\\"0.73\\\",\\\"0.74\\\",\\\"0.75\\\",\\\"0.76\\\",\\\"0.77\\\",\\\"0.78\\\",\\\"0.79\\\",\\\"0.8\\\",\\\"0.81\\\",\\\"0.82\\\",\\\"0.83\\\",\\\"0.84\\\",\\\"0.85\\\",\\\"0.86\\\",\\\"0.87\\\",\\\"0.88\\\",\\\"0.89\\\",\\\"0.9\\\",\\\"0.91\\\",\\\"0.92\\\",\\\"0.93\\\",\\\"0.94\\\",\\\"0.95\\\",\\\"0.96\\\",\\\"0.97\\\",\\\"0.98\\\",\\\"0.99\\\",\\\"1.0\\\",\\\"1.01\\\",\\\"1.02\\\",\\\"1.03\\\",\\\"1.04\\\",\\\"1.05\\\",\\\"1.06\\\",\\\"1.07\\\",\\\"1.08\\\",\\\"1.09\\\",\\\"1.1\\\",\\\"1.11\\\",\\\"1.12\\\",\\\"1.13\\\",\\\"1.14\\\",\\\"1.15\\\",\\\"1.16\\\",\\\"1.17\\\",\\\"1.18\\\",\\\"1.19\\\",\\\"1.2\\\",\\\"1.21\\\",\\\"1.22\\\",\\\"1.23\\\",\\\"1.24\\\",\\\"1.25\\\",\\\"1.26\\\",\\\"1.27\\\",\\\"1.28\\\",\\\"1.29\\\",\\\"1.3\\\",\\\"1.31\\\",\\\"1.32\\\",\\\"1.33\\\",\\\"1.34\\\",\\\"1.35\\\",\\\"1.36\\\",\\\"1.37\\\",\\\"1.38\\\",\\\"1.39\\\",\\\"1.4\\\",\\\"1.41\\\",\\\"1.42\\\",\\\"1.43\\\",\\\"1.44\\\",\\\"1.45\\\",\\\"1.46\\\",\\\"1.47\\\",\\\"1.48\\\",\\\"1.49\\\",\\\"1.5\\\",\\\"1.51\\\",\\\"1.52\\\",\\\"1.53\\\",\\\"1.54\\\",\\\"1.55\\\",\\\"1.56\\\",\\\"1.57\\\",\\\"1.58\\\",\\\"1.59\\\",\\\"1.6\\\",\\\"1.61\\\",\\\"1.62\\\",\\\"1.63\\\",\\\"1.64\\\",\\\"1.65\\\",\\\"1.66\\\",\\\"1.67\\\",\\\"1.68\\\",\\\"1.69\\\",\\\"1.7\\\",\\\"1.71\\\",\\\"1.72\\\",\\\"1.73\\\",\\\"1.74\\\",\\\"1.75\\\",\\\"1.76\\\",\\\"1.77\\\",\\\"1.78\\\",\\\"1.79\\\",\\\"1.8\\\",\\\"1.81\\\",\\\"1.82\\\",\\\"1.83\\\",\\\"1.84\\\",\\\"1.85\\\",\\\"1.86\\\",\\\"1.87\\\",\\\"1.88\\\",\\\"1.89\\\",\\\"1.9\\\",\\\"1.91\\\",\\\"1.92\\\",\\\"1.93\\\",\\\"1.94\\\",\\\"1.95\\\",\\\"1.96\\\",\\\"1.97\\\",\\\"1.98\\\",\\\"1.99\\\",\\\"2.0\\\"],\\\"changes\\\":WebIO.getval({\\\"name\\\":\\\"changes\\\",\\\"scope\\\":\\\"1005215311942123234\\\",\\\"id\\\":\\\"18398655189247060278\\\",\\\"type\\\":\\\"observable\\\"}),\\\"index\\\":WebIO.getval({\\\"name\\\":\\\"index\\\",\\\"scope\\\":\\\"1005215311942123234\\\",\\\"id\\\":\\\"11458423742931576318\\\",\\\"type\\\":\\\"observable\\\"})};\\n    var self = this;\\n    function AppViewModel() {\\n        for (var key in json_data) {\\n            var el = json_data[key];\\n            this[key] = Array.isArray(el) ? ko.observableArray(el) : ko.observable(el);\\n        }\\n        \\n        [this[\\\"formatted_val\\\"]=ko.computed(    function(){\\n        return this.formatted_vals()[parseInt(this.index())-(1)];\\n    }\\n,this)]\\n        [this[\\\"changes\\\"].subscribe((function (val){!(this.valueFromJulia[\\\"changes\\\"]) ? (WebIO.setval({\\\"name\\\":\\\"changes\\\",\\\"scope\\\":\\\"1005215311942123234\\\",\\\"id\\\":\\\"18398655189247060278\\\",\\\"type\\\":\\\"observable\\\"},val)) : undefined; return this.valueFromJulia[\\\"changes\\\"]=false}),self),this[\\\"index\\\"].subscribe((function (val){!(this.valueFromJulia[\\\"index\\\"]) ? (WebIO.setval({\\\"name\\\":\\\"index\\\",\\\"scope\\\":\\\"1005215311942123234\\\",\\\"id\\\":\\\"11458423742931576318\\\",\\\"type\\\":\\\"observable\\\"},val)) : undefined; return this.valueFromJulia[\\\"index\\\"]=false}),self)]\\n        \\n    }\\n    self.model = new AppViewModel();\\n    self.valueFromJulia = {};\\n    for (var key in json_data) {\\n        self.valueFromJulia[key] = false;\\n    }\\n    ko.applyBindings(self.model, self.dom);\\n}\\n);\\n    (WebIO.importBlock({\\\"data\\\":[{\\\"name\\\":\\\"knockout\\\",\\\"type\\\":\\\"js\\\",\\\"url\\\":\\\"\\/assetserver\\/2712bb0a7395d062608c2f218a74b700f6c76b99-knockout.js\\\"},{\\\"name\\\":\\\"knockout_punches\\\",\\\"type\\\":\\\"js\\\",\\\"url\\\":\\\"\\/assetserver\\/fb4445501a2be4ab82176667f844e40da26fa007-knockout_punches.js\\\"}],\\\"type\\\":\\\"async_block\\\"})).then((imports) => handler.apply(this, imports));\\n}\\n\"],\"observables\":{\"changes\":{\"sync\":false,\"id\":\"18398655189247060278\",\"value\":0},\"index\":{\"sync\":true,\"id\":\"11458423742931576318\",\"value\":100}}},\"children\":[{\"props\":{\"className\":\"interact-flex-row interact-widget\"},\"nodeType\":\"DOM\",\"type\":\"node\",\"instanceArgs\":{\"namespace\":\"html\",\"tag\":\"div\"},\"children\":[{\"props\":{\"className\":\"interact-flex-row-left\"},\"nodeType\":\"DOM\",\"type\":\"node\",\"instanceArgs\":{\"namespace\":\"html\",\"tag\":\"div\"},\"children\":[{\"props\":{\"className\":\"interact \",\"style\":{\"padding\":\"5px 10px 0px 10px\"}},\"nodeType\":\"DOM\",\"type\":\"node\",\"instanceArgs\":{\"namespace\":\"html\",\"tag\":\"label\"},\"children\":[\"K\"]}]},{\"props\":{\"className\":\"interact-flex-row-center\"},\"nodeType\":\"DOM\",\"type\":\"node\",\"instanceArgs\":{\"namespace\":\"html\",\"tag\":\"div\"},\"children\":[{\"props\":{\"max\":200,\"min\":1,\"attributes\":{\"type\":\"range\",\"data-bind\":\"numericValue: index, valueUpdate: 'input', event: {change: function (){this.changes(this.changes()+1)}}\",\"orient\":\"horizontal\"},\"step\":1,\"className\":\"slider slider is-fullwidth\",\"style\":{}},\"nodeType\":\"DOM\",\"type\":\"node\",\"instanceArgs\":{\"namespace\":\"html\",\"tag\":\"input\"},\"children\":[]}]},{\"props\":{\"className\":\"interact-flex-row-right\"},\"nodeType\":\"DOM\",\"type\":\"node\",\"instanceArgs\":{\"namespace\":\"html\",\"tag\":\"div\"},\"children\":[{\"props\":{\"attributes\":{\"data-bind\":\"text: formatted_val\"}},\"nodeType\":\"DOM\",\"type\":\"node\",\"instanceArgs\":{\"namespace\":\"html\",\"tag\":\"p\"},\"children\":[]}]}]}]}]},{\"props\":{\"className\":\"field interact-widget\"},\"nodeType\":\"DOM\",\"type\":\"node\",\"instanceArgs\":{\"namespace\":\"html\",\"tag\":\"div\"},\"children\":[{\"props\":{},\"nodeType\":\"Scope\",\"type\":\"node\",\"instanceArgs\":{\"imports\":{\"data\":[{\"name\":\"knockout\",\"type\":\"js\",\"url\":\"\\/assetserver\\/2712bb0a7395d062608c2f218a74b700f6c76b99-knockout.js\"},{\"name\":\"knockout_punches\",\"type\":\"js\",\"url\":\"\\/assetserver\\/fb4445501a2be4ab82176667f844e40da26fa007-knockout_punches.js\"},{\"name\":null,\"type\":\"js\",\"url\":\"\\/assetserver\\/a8ea7d9192d5fa85c6fac26c72d7fece1e500138-all.js\"},{\"name\":null,\"type\":\"css\",\"url\":\"\\/assetserver\\/620a53798cfdb29a4a2142ce0588e9aadc351d94-style.css\"},{\"name\":null,\"type\":\"css\",\"url\":\"\\/assetserver\\/9f2f17f677abbfd015a7c6b0c0f09a2da809bee2-bulma_confined.min.css\"}],\"type\":\"async_block\"},\"id\":\"17424577962348644107\",\"handlers\":{\"changes\":[\"(function (val){return (val!=this.model[\\\"changes\\\"]()) ? (this.valueFromJulia[\\\"changes\\\"]=true, this.model[\\\"changes\\\"](val)) : undefined})\"],\"index\":[\"(function (val){return (val!=this.model[\\\"index\\\"]()) ? (this.valueFromJulia[\\\"index\\\"]=true, this.model[\\\"index\\\"](val)) : undefined})\"]},\"systemjs_options\":null,\"mount_callbacks\":[\"function () {\\n    var handler = (function (ko, koPunches) {\\n    ko.punches.enableAll();\\n    ko.bindingHandlers.numericValue = {\\n        init: function(element, valueAccessor, allBindings, data, context) {\\n            var stringified = ko.observable(ko.unwrap(valueAccessor()));\\n            stringified.subscribe(function(value) {\\n                var val = parseFloat(value);\\n                if (!isNaN(val)) {\\n                    valueAccessor()(val);\\n                }\\n            });\\n            valueAccessor().subscribe(function(value) {\\n                var str = JSON.stringify(value);\\n                if ((str == \\\"0\\\") && ([\\\"-0\\\", \\\"-0.\\\"].indexOf(stringified()) >= 0))\\n                     return;\\n                 if ([\\\"null\\\", \\\"\\\"].indexOf(str) >= 0)\\n                     return;\\n                stringified(str);\\n            });\\n            ko.applyBindingsToNode(\\n                element,\\n                {\\n                    value: stringified,\\n                    valueUpdate: allBindings.get('valueUpdate'),\\n                },\\n                context,\\n            );\\n        }\\n    };\\n    var json_data = {\\\"formatted_vals\\\":[\\\"0.0\\\",\\\"0.01\\\",\\\"0.02\\\",\\\"0.03\\\",\\\"0.04\\\",\\\"0.05\\\",\\\"0.06\\\",\\\"0.07\\\",\\\"0.08\\\",\\\"0.09\\\",\\\"0.1\\\",\\\"0.11\\\",\\\"0.12\\\",\\\"0.13\\\",\\\"0.14\\\",\\\"0.15\\\",\\\"0.16\\\",\\\"0.17\\\",\\\"0.18\\\",\\\"0.19\\\",\\\"0.2\\\",\\\"0.21\\\",\\\"0.22\\\",\\\"0.23\\\",\\\"0.24\\\",\\\"0.25\\\",\\\"0.26\\\",\\\"0.27\\\",\\\"0.28\\\",\\\"0.29\\\",\\\"0.3\\\",\\\"0.31\\\",\\\"0.32\\\",\\\"0.33\\\",\\\"0.34\\\",\\\"0.35\\\",\\\"0.36\\\",\\\"0.37\\\",\\\"0.38\\\",\\\"0.39\\\",\\\"0.4\\\",\\\"0.41\\\",\\\"0.42\\\",\\\"0.43\\\",\\\"0.44\\\",\\\"0.45\\\",\\\"0.46\\\",\\\"0.47\\\",\\\"0.48\\\",\\\"0.49\\\",\\\"0.5\\\"],\\\"changes\\\":WebIO.getval({\\\"name\\\":\\\"changes\\\",\\\"scope\\\":\\\"17424577962348644107\\\",\\\"id\\\":\\\"4170441215540915838\\\",\\\"type\\\":\\\"observable\\\"}),\\\"index\\\":WebIO.getval({\\\"name\\\":\\\"index\\\",\\\"scope\\\":\\\"17424577962348644107\\\",\\\"id\\\":\\\"6998936633805940167\\\",\\\"type\\\":\\\"observable\\\"})};\\n    var self = this;\\n    function AppViewModel() {\\n        for (var key in json_data) {\\n            var el = json_data[key];\\n            this[key] = Array.isArray(el) ? ko.observableArray(el) : ko.observable(el);\\n        }\\n        \\n        [this[\\\"formatted_val\\\"]=ko.computed(    function(){\\n        return this.formatted_vals()[parseInt(this.index())-(1)];\\n    }\\n,this)]\\n        [this[\\\"changes\\\"].subscribe((function (val){!(this.valueFromJulia[\\\"changes\\\"]) ? (WebIO.setval({\\\"name\\\":\\\"changes\\\",\\\"scope\\\":\\\"17424577962348644107\\\",\\\"id\\\":\\\"4170441215540915838\\\",\\\"type\\\":\\\"observable\\\"},val)) : undefined; return this.valueFromJulia[\\\"changes\\\"]=false}),self),this[\\\"index\\\"].subscribe((function (val){!(this.valueFromJulia[\\\"index\\\"]) ? (WebIO.setval({\\\"name\\\":\\\"index\\\",\\\"scope\\\":\\\"17424577962348644107\\\",\\\"id\\\":\\\"6998936633805940167\\\",\\\"type\\\":\\\"observable\\\"},val)) : undefined; return this.valueFromJulia[\\\"index\\\"]=false}),self)]\\n        \\n    }\\n    self.model = new AppViewModel();\\n    self.valueFromJulia = {};\\n    for (var key in json_data) {\\n        self.valueFromJulia[key] = false;\\n    }\\n    ko.applyBindings(self.model, self.dom);\\n}\\n);\\n    (WebIO.importBlock({\\\"data\\\":[{\\\"name\\\":\\\"knockout\\\",\\\"type\\\":\\\"js\\\",\\\"url\\\":\\\"\\/assetserver\\/2712bb0a7395d062608c2f218a74b700f6c76b99-knockout.js\\\"},{\\\"name\\\":\\\"knockout_punches\\\",\\\"type\\\":\\\"js\\\",\\\"url\\\":\\\"\\/assetserver\\/fb4445501a2be4ab82176667f844e40da26fa007-knockout_punches.js\\\"}],\\\"type\\\":\\\"async_block\\\"})).then((imports) => handler.apply(this, imports));\\n}\\n\"],\"observables\":{\"changes\":{\"sync\":false,\"id\":\"4170441215540915838\",\"value\":0},\"index\":{\"sync\":true,\"id\":\"6998936633805940167\",\"value\":26}}},\"children\":[{\"props\":{\"className\":\"interact-flex-row interact-widget\"},\"nodeType\":\"DOM\",\"type\":\"node\",\"instanceArgs\":{\"namespace\":\"html\",\"tag\":\"div\"},\"children\":[{\"props\":{\"className\":\"interact-flex-row-left\"},\"nodeType\":\"DOM\",\"type\":\"node\",\"instanceArgs\":{\"namespace\":\"html\",\"tag\":\"div\"},\"children\":[{\"props\":{\"className\":\"interact \",\"style\":{\"padding\":\"5px 10px 0px 10px\"}},\"nodeType\":\"DOM\",\"type\":\"node\",\"instanceArgs\":{\"namespace\":\"html\",\"tag\":\"label\"},\"children\":[\"H\"]}]},{\"props\":{\"className\":\"interact-flex-row-center\"},\"nodeType\":\"DOM\",\"type\":\"node\",\"instanceArgs\":{\"namespace\":\"html\",\"tag\":\"div\"},\"children\":[{\"props\":{\"max\":51,\"min\":1,\"attributes\":{\"type\":\"range\",\"data-bind\":\"numericValue: index, valueUpdate: 'input', event: {change: function (){this.changes(this.changes()+1)}}\",\"orient\":\"horizontal\"},\"step\":1,\"className\":\"slider slider is-fullwidth\",\"style\":{}},\"nodeType\":\"DOM\",\"type\":\"node\",\"instanceArgs\":{\"namespace\":\"html\",\"tag\":\"input\"},\"children\":[]}]},{\"props\":{\"className\":\"interact-flex-row-right\"},\"nodeType\":\"DOM\",\"type\":\"node\",\"instanceArgs\":{\"namespace\":\"html\",\"tag\":\"div\"},\"children\":[{\"props\":{\"attributes\":{\"data-bind\":\"text: formatted_val\"}},\"nodeType\":\"DOM\",\"type\":\"node\",\"instanceArgs\":{\"namespace\":\"html\",\"tag\":\"p\"},\"children\":[]}]}]}]}]},{\"props\":{\"className\":\"field interact-widget\"},\"nodeType\":\"DOM\",\"type\":\"node\",\"instanceArgs\":{\"namespace\":\"html\",\"tag\":\"div\"},\"children\":[{\"props\":{},\"nodeType\":\"Scope\",\"type\":\"node\",\"instanceArgs\":{\"imports\":{\"data\":[{\"name\":\"knockout\",\"type\":\"js\",\"url\":\"\\/assetserver\\/2712bb0a7395d062608c2f218a74b700f6c76b99-knockout.js\"},{\"name\":\"knockout_punches\",\"type\":\"js\",\"url\":\"\\/assetserver\\/fb4445501a2be4ab82176667f844e40da26fa007-knockout_punches.js\"},{\"name\":null,\"type\":\"js\",\"url\":\"\\/assetserver\\/a8ea7d9192d5fa85c6fac26c72d7fece1e500138-all.js\"},{\"name\":null,\"type\":\"css\",\"url\":\"\\/assetserver\\/620a53798cfdb29a4a2142ce0588e9aadc351d94-style.css\"},{\"name\":null,\"type\":\"css\",\"url\":\"\\/assetserver\\/9f2f17f677abbfd015a7c6b0c0f09a2da809bee2-bulma_confined.min.css\"}],\"type\":\"async_block\"},\"id\":\"6190959811095594612\",\"handlers\":{\"changes\":[\"(function (val){return (val!=this.model[\\\"changes\\\"]()) ? (this.valueFromJulia[\\\"changes\\\"]=true, this.model[\\\"changes\\\"](val)) : undefined})\"],\"index\":[\"(function (val){return (val!=this.model[\\\"index\\\"]()) ? (this.valueFromJulia[\\\"index\\\"]=true, this.model[\\\"index\\\"](val)) : undefined})\"]},\"systemjs_options\":null,\"mount_callbacks\":[\"function () {\\n    var handler = (function (ko, koPunches) {\\n    ko.punches.enableAll();\\n    ko.bindingHandlers.numericValue = {\\n        init: function(element, valueAccessor, allBindings, data, context) {\\n            var stringified = ko.observable(ko.unwrap(valueAccessor()));\\n            stringified.subscribe(function(value) {\\n                var val = parseFloat(value);\\n                if (!isNaN(val)) {\\n                    valueAccessor()(val);\\n                }\\n            });\\n            valueAccessor().subscribe(function(value) {\\n                var str = JSON.stringify(value);\\n                if ((str == \\\"0\\\") && ([\\\"-0\\\", \\\"-0.\\\"].indexOf(stringified()) >= 0))\\n                     return;\\n                 if ([\\\"null\\\", \\\"\\\"].indexOf(str) >= 0)\\n                     return;\\n                stringified(str);\\n            });\\n            ko.applyBindingsToNode(\\n                element,\\n                {\\n                    value: stringified,\\n                    valueUpdate: allBindings.get('valueUpdate'),\\n                },\\n                context,\\n            );\\n        }\\n    };\\n    var json_data = {\\\"formatted_vals\\\":[\\\"0.0\\\",\\\"0.02\\\",\\\"0.04\\\",\\\"0.06\\\",\\\"0.08\\\",\\\"0.1\\\",\\\"0.12\\\",\\\"0.14\\\",\\\"0.16\\\",\\\"0.18\\\",\\\"0.2\\\",\\\"0.22\\\",\\\"0.24\\\",\\\"0.26\\\",\\\"0.28\\\",\\\"0.3\\\",\\\"0.32\\\",\\\"0.34\\\",\\\"0.36\\\",\\\"0.38\\\",\\\"0.4\\\",\\\"0.42\\\",\\\"0.44\\\",\\\"0.46\\\",\\\"0.48\\\",\\\"0.5\\\",\\\"0.52\\\",\\\"0.54\\\",\\\"0.56\\\",\\\"0.58\\\",\\\"0.6\\\",\\\"0.62\\\",\\\"0.64\\\",\\\"0.66\\\",\\\"0.68\\\",\\\"0.7\\\",\\\"0.72\\\",\\\"0.74\\\",\\\"0.76\\\",\\\"0.78\\\",\\\"0.8\\\",\\\"0.82\\\",\\\"0.84\\\",\\\"0.86\\\",\\\"0.88\\\",\\\"0.9\\\",\\\"0.92\\\",\\\"0.94\\\",\\\"0.96\\\",\\\"0.98\\\",\\\"1.0\\\",\\\"1.02\\\",\\\"1.04\\\",\\\"1.06\\\",\\\"1.08\\\",\\\"1.1\\\",\\\"1.12\\\",\\\"1.14\\\",\\\"1.16\\\",\\\"1.18\\\",\\\"1.2\\\",\\\"1.22\\\",\\\"1.24\\\",\\\"1.26\\\",\\\"1.28\\\",\\\"1.3\\\",\\\"1.32\\\",\\\"1.34\\\",\\\"1.36\\\",\\\"1.38\\\",\\\"1.4\\\",\\\"1.42\\\",\\\"1.44\\\",\\\"1.46\\\",\\\"1.48\\\",\\\"1.5\\\",\\\"1.52\\\",\\\"1.54\\\",\\\"1.56\\\",\\\"1.58\\\",\\\"1.6\\\",\\\"1.62\\\",\\\"1.64\\\",\\\"1.66\\\",\\\"1.68\\\",\\\"1.7\\\",\\\"1.72\\\",\\\"1.74\\\",\\\"1.76\\\",\\\"1.78\\\",\\\"1.8\\\",\\\"1.82\\\",\\\"1.84\\\",\\\"1.86\\\",\\\"1.88\\\",\\\"1.9\\\",\\\"1.92\\\",\\\"1.94\\\",\\\"1.96\\\",\\\"1.98\\\",\\\"2.0\\\"],\\\"changes\\\":WebIO.getval({\\\"name\\\":\\\"changes\\\",\\\"scope\\\":\\\"6190959811095594612\\\",\\\"id\\\":\\\"15432487282891538261\\\",\\\"type\\\":\\\"observable\\\"}),\\\"index\\\":WebIO.getval({\\\"name\\\":\\\"index\\\",\\\"scope\\\":\\\"6190959811095594612\\\",\\\"id\\\":\\\"14108817306263894304\\\",\\\"type\\\":\\\"observable\\\"})};\\n    var self = this;\\n    function AppViewModel() {\\n        for (var key in json_data) {\\n            var el = json_data[key];\\n            this[key] = Array.isArray(el) ? ko.observableArray(el) : ko.observable(el);\\n        }\\n        \\n        [this[\\\"formatted_val\\\"]=ko.computed(    function(){\\n        return this.formatted_vals()[parseInt(this.index())-(1)];\\n    }\\n,this)]\\n        [this[\\\"changes\\\"].subscribe((function (val){!(this.valueFromJulia[\\\"changes\\\"]) ? (WebIO.setval({\\\"name\\\":\\\"changes\\\",\\\"scope\\\":\\\"6190959811095594612\\\",\\\"id\\\":\\\"15432487282891538261\\\",\\\"type\\\":\\\"observable\\\"},val)) : undefined; return this.valueFromJulia[\\\"changes\\\"]=false}),self),this[\\\"index\\\"].subscribe((function (val){!(this.valueFromJulia[\\\"index\\\"]) ? (WebIO.setval({\\\"name\\\":\\\"index\\\",\\\"scope\\\":\\\"6190959811095594612\\\",\\\"id\\\":\\\"14108817306263894304\\\",\\\"type\\\":\\\"observable\\\"},val)) : undefined; return this.valueFromJulia[\\\"index\\\"]=false}),self)]\\n        \\n    }\\n    self.model = new AppViewModel();\\n    self.valueFromJulia = {};\\n    for (var key in json_data) {\\n        self.valueFromJulia[key] = false;\\n    }\\n    ko.applyBindings(self.model, self.dom);\\n}\\n);\\n    (WebIO.importBlock({\\\"data\\\":[{\\\"name\\\":\\\"knockout\\\",\\\"type\\\":\\\"js\\\",\\\"url\\\":\\\"\\/assetserver\\/2712bb0a7395d062608c2f218a74b700f6c76b99-knockout.js\\\"},{\\\"name\\\":\\\"knockout_punches\\\",\\\"type\\\":\\\"js\\\",\\\"url\\\":\\\"\\/assetserver\\/fb4445501a2be4ab82176667f844e40da26fa007-knockout_punches.js\\\"}],\\\"type\\\":\\\"async_block\\\"})).then((imports) => handler.apply(this, imports));\\n}\\n\"],\"observables\":{\"changes\":{\"sync\":false,\"id\":\"15432487282891538261\",\"value\":0},\"index\":{\"sync\":true,\"id\":\"14108817306263894304\",\"value\":51}}},\"children\":[{\"props\":{\"className\":\"interact-flex-row interact-widget\"},\"nodeType\":\"DOM\",\"type\":\"node\",\"instanceArgs\":{\"namespace\":\"html\",\"tag\":\"div\"},\"children\":[{\"props\":{\"className\":\"interact-flex-row-left\"},\"nodeType\":\"DOM\",\"type\":\"node\",\"instanceArgs\":{\"namespace\":\"html\",\"tag\":\"div\"},\"children\":[{\"props\":{\"className\":\"interact \",\"style\":{\"padding\":\"5px 10px 0px 10px\"}},\"nodeType\":\"DOM\",\"type\":\"node\",\"instanceArgs\":{\"namespace\":\"html\",\"tag\":\"label\"},\"children\":[\"x0\"]}]},{\"props\":{\"className\":\"interact-flex-row-center\"},\"nodeType\":\"DOM\",\"type\":\"node\",\"instanceArgs\":{\"namespace\":\"html\",\"tag\":\"div\"},\"children\":[{\"props\":{\"max\":101,\"min\":1,\"attributes\":{\"type\":\"range\",\"data-bind\":\"numericValue: index, valueUpdate: 'input', event: {change: function (){this.changes(this.changes()+1)}}\",\"orient\":\"horizontal\"},\"step\":1,\"className\":\"slider slider is-fullwidth\",\"style\":{}},\"nodeType\":\"DOM\",\"type\":\"node\",\"instanceArgs\":{\"namespace\":\"html\",\"tag\":\"input\"},\"children\":[]}]},{\"props\":{\"className\":\"interact-flex-row-right\"},\"nodeType\":\"DOM\",\"type\":\"node\",\"instanceArgs\":{\"namespace\":\"html\",\"tag\":\"div\"},\"children\":[{\"props\":{\"attributes\":{\"data-bind\":\"text: formatted_val\"}},\"nodeType\":\"DOM\",\"type\":\"node\",\"instanceArgs\":{\"namespace\":\"html\",\"tag\":\"p\"},\"children\":[]}]}]}]}]},{\"props\":{\"className\":\"field interact-widget\"},\"nodeType\":\"DOM\",\"type\":\"node\",\"instanceArgs\":{\"namespace\":\"html\",\"tag\":\"div\"},\"children\":[{\"props\":{},\"nodeType\":\"Scope\",\"type\":\"node\",\"instanceArgs\":{\"imports\":{\"data\":[{\"name\":\"knockout\",\"type\":\"js\",\"url\":\"\\/assetserver\\/2712bb0a7395d062608c2f218a74b700f6c76b99-knockout.js\"},{\"name\":\"knockout_punches\",\"type\":\"js\",\"url\":\"\\/assetserver\\/fb4445501a2be4ab82176667f844e40da26fa007-knockout_punches.js\"},{\"name\":null,\"type\":\"js\",\"url\":\"\\/assetserver\\/a8ea7d9192d5fa85c6fac26c72d7fece1e500138-all.js\"},{\"name\":null,\"type\":\"css\",\"url\":\"\\/assetserver\\/620a53798cfdb29a4a2142ce0588e9aadc351d94-style.css\"},{\"name\":null,\"type\":\"css\",\"url\":\"\\/assetserver\\/9f2f17f677abbfd015a7c6b0c0f09a2da809bee2-bulma_confined.min.css\"}],\"type\":\"async_block\"},\"id\":\"862945207391209522\",\"handlers\":{\"changes\":[\"(function (val){return (val!=this.model[\\\"changes\\\"]()) ? (this.valueFromJulia[\\\"changes\\\"]=true, this.model[\\\"changes\\\"](val)) : undefined})\"],\"index\":[\"(function (val){return (val!=this.model[\\\"index\\\"]()) ? (this.valueFromJulia[\\\"index\\\"]=true, this.model[\\\"index\\\"](val)) : undefined})\"]},\"systemjs_options\":null,\"mount_callbacks\":[\"function () {\\n    var handler = (function (ko, koPunches) {\\n    ko.punches.enableAll();\\n    ko.bindingHandlers.numericValue = {\\n        init: function(element, valueAccessor, allBindings, data, context) {\\n            var stringified = ko.observable(ko.unwrap(valueAccessor()));\\n            stringified.subscribe(function(value) {\\n                var val = parseFloat(value);\\n                if (!isNaN(val)) {\\n                    valueAccessor()(val);\\n                }\\n            });\\n            valueAccessor().subscribe(function(value) {\\n                var str = JSON.stringify(value);\\n                if ((str == \\\"0\\\") && ([\\\"-0\\\", \\\"-0.\\\"].indexOf(stringified()) >= 0))\\n                     return;\\n                 if ([\\\"null\\\", \\\"\\\"].indexOf(str) >= 0)\\n                     return;\\n                stringified(str);\\n            });\\n            ko.applyBindingsToNode(\\n                element,\\n                {\\n                    value: stringified,\\n                    valueUpdate: allBindings.get('valueUpdate'),\\n                },\\n                context,\\n            );\\n        }\\n    };\\n    var json_data = {\\\"formatted_vals\\\":[\\\"1.0\\\",\\\"6.0\\\",\\\"11.0\\\",\\\"16.0\\\",\\\"21.0\\\",\\\"26.0\\\",\\\"31.0\\\",\\\"36.0\\\",\\\"41.0\\\",\\\"46.0\\\"],\\\"changes\\\":WebIO.getval({\\\"name\\\":\\\"changes\\\",\\\"scope\\\":\\\"862945207391209522\\\",\\\"id\\\":\\\"16024736303038927898\\\",\\\"type\\\":\\\"observable\\\"}),\\\"index\\\":WebIO.getval({\\\"name\\\":\\\"index\\\",\\\"scope\\\":\\\"862945207391209522\\\",\\\"id\\\":\\\"14735203198942212517\\\",\\\"type\\\":\\\"observable\\\"})};\\n    var self = this;\\n    function AppViewModel() {\\n        for (var key in json_data) {\\n            var el = json_data[key];\\n            this[key] = Array.isArray(el) ? ko.observableArray(el) : ko.observable(el);\\n        }\\n        \\n        [this[\\\"formatted_val\\\"]=ko.computed(    function(){\\n        return this.formatted_vals()[parseInt(this.index())-(1)];\\n    }\\n,this)]\\n        [this[\\\"changes\\\"].subscribe((function (val){!(this.valueFromJulia[\\\"changes\\\"]) ? (WebIO.setval({\\\"name\\\":\\\"changes\\\",\\\"scope\\\":\\\"862945207391209522\\\",\\\"id\\\":\\\"16024736303038927898\\\",\\\"type\\\":\\\"observable\\\"},val)) : undefined; return this.valueFromJulia[\\\"changes\\\"]=false}),self),this[\\\"index\\\"].subscribe((function (val){!(this.valueFromJulia[\\\"index\\\"]) ? (WebIO.setval({\\\"name\\\":\\\"index\\\",\\\"scope\\\":\\\"862945207391209522\\\",\\\"id\\\":\\\"14735203198942212517\\\",\\\"type\\\":\\\"observable\\\"},val)) : undefined; return this.valueFromJulia[\\\"index\\\"]=false}),self)]\\n        \\n    }\\n    self.model = new AppViewModel();\\n    self.valueFromJulia = {};\\n    for (var key in json_data) {\\n        self.valueFromJulia[key] = false;\\n    }\\n    ko.applyBindings(self.model, self.dom);\\n}\\n);\\n    (WebIO.importBlock({\\\"data\\\":[{\\\"name\\\":\\\"knockout\\\",\\\"type\\\":\\\"js\\\",\\\"url\\\":\\\"\\/assetserver\\/2712bb0a7395d062608c2f218a74b700f6c76b99-knockout.js\\\"},{\\\"name\\\":\\\"knockout_punches\\\",\\\"type\\\":\\\"js\\\",\\\"url\\\":\\\"\\/assetserver\\/fb4445501a2be4ab82176667f844e40da26fa007-knockout_punches.js\\\"}],\\\"type\\\":\\\"async_block\\\"})).then((imports) => handler.apply(this, imports));\\n}\\n\"],\"observables\":{\"changes\":{\"sync\":false,\"id\":\"16024736303038927898\",\"value\":0},\"index\":{\"sync\":true,\"id\":\"14735203198942212517\",\"value\":5}}},\"children\":[{\"props\":{\"className\":\"interact-flex-row interact-widget\"},\"nodeType\":\"DOM\",\"type\":\"node\",\"instanceArgs\":{\"namespace\":\"html\",\"tag\":\"div\"},\"children\":[{\"props\":{\"className\":\"interact-flex-row-left\"},\"nodeType\":\"DOM\",\"type\":\"node\",\"instanceArgs\":{\"namespace\":\"html\",\"tag\":\"div\"},\"children\":[{\"props\":{\"className\":\"interact \",\"style\":{\"padding\":\"5px 10px 0px 10px\"}},\"nodeType\":\"DOM\",\"type\":\"node\",\"instanceArgs\":{\"namespace\":\"html\",\"tag\":\"label\"},\"children\":[\"tmax\"]}]},{\"props\":{\"className\":\"interact-flex-row-center\"},\"nodeType\":\"DOM\",\"type\":\"node\",\"instanceArgs\":{\"namespace\":\"html\",\"tag\":\"div\"},\"children\":[{\"props\":{\"max\":10,\"min\":1,\"attributes\":{\"type\":\"range\",\"data-bind\":\"numericValue: index, valueUpdate: 'input', event: {change: function (){this.changes(this.changes()+1)}}\",\"orient\":\"horizontal\"},\"step\":1,\"className\":\"slider slider is-fullwidth\",\"style\":{}},\"nodeType\":\"DOM\",\"type\":\"node\",\"instanceArgs\":{\"namespace\":\"html\",\"tag\":\"input\"},\"children\":[]}]},{\"props\":{\"className\":\"interact-flex-row-right\"},\"nodeType\":\"DOM\",\"type\":\"node\",\"instanceArgs\":{\"namespace\":\"html\",\"tag\":\"div\"},\"children\":[{\"props\":{\"attributes\":{\"data-bind\":\"text: formatted_val\"}},\"nodeType\":\"DOM\",\"type\":\"node\",\"instanceArgs\":{\"namespace\":\"html\",\"tag\":\"p\"},\"children\":[]}]}]}]}]},{\"props\":{},\"nodeType\":\"Scope\",\"type\":\"node\",\"instanceArgs\":{\"imports\":{\"data\":[],\"type\":\"async_block\"},\"id\":\"8808651394780906924\",\"handlers\":{},\"systemjs_options\":null,\"mount_callbacks\":[],\"observables\":{\"obs-node\":{\"sync\":false,\"id\":\"15940596701849917347\",\"value\":{\"props\":{\"className\":\"interact-flex-row interact-widget\"},\"nodeType\":\"DOM\",\"type\":\"node\",\"instanceArgs\":{\"namespace\":\"html\",\"tag\":\"div\"},\"children\":[{\"props\":{\"setInnerHtml\":\"<img src=\\\"data:image\\/png;base64,iVBORw0KGgoAAAANSUhEUgAAA4QAAAEsCAIAAAAU\\/OrGAAAABmJLR0QA\\/wD\\/AP+gvaeTAAAgAElEQVR4nOzdd1hT1\\/sA8DcJCVM2spQligIqCKgoCgqIA0VFxFVH0TrQqrTu1omr1lGtA+sExb0HqIgKKEOmKKiI7I3smZDk98dt88s3wYgauAHez9OnT3JzcvLmRk7e3LMoXC4XEEIIIYQQIgOV7AAQQgghhFDnhckoakZdXZ2Xl9e2bdu+v6rIyEgvL687d+58f1UIISTJdu7c6eXlVVVV9Z311NbWenl5bd++XSxRIST5MBltHxobGxkMBoPBYLPZbfNyp06dunXrVsufEhMTc\\/z48fT0dIHjaWlpp06dio+PF2uAEk1OTo7BYDT7hbR161YGg7F+\\/fq2j+r7vXnz5vjx469evSI7EIRaavTo0QwGo81+DN+5c+fUqVP19fUtLF9YWHj8+PEnT54IHG9oaPjaFri9mzJlCoPBuHTpkvBDL1++ZDAYFhYWbR\\/V96uqqjp+\\/Pjdu3fJDkTSYTLaPnC5XBaLxWKx2maML51Od3BwsLa2bvlTbt68uXDhwpcvXwoc19LScnBwMDQ0FGuAEo3JZH7uk2pqamKxWE1NTW0f1fd78uTJwoULHz16RHYgCLUU0WxyOJy2eTkrKysHBwcGg9HC8h8+fFi4cOHp06cFjn9DC9zeEZ9Us1dbOBwO8WjbR\\/X9SktLFy5cuH\\/\\/frIDkXRSZAeAJJGCgoLwj\\/VvM2rUqFGjRomlKoQQkmSHDh0SSz2KioriaoERahcwGe1o0tPTw8LCSkpKiEuSenp6wmXq6uqCgoIyMzM1NDRcXFw0NTXfvXtXU1PTr18\\/Op0OAGw2OzExUV5evnfv3rxnsdnsFy9epKenl5aWqqurGxoa2traEtcAXr16VVBQAAAZGRlxcXFEeVNTU1lZ2bKysoyMDB0dHW1tbf4Y2Gx2ZGTkq1evGhsbdXR0bG1tBUJ9\\/\\/59UlJSXl4ejUYzMzMbPny4lFRL\\/7lWVVU9efIkMzNTSkrKwMDA3t5eQUFB4AyEhIR8\\/PiRRqP169fPzs6ORqPxF0hOTmYymVZWVkwmMzg4+MOHD8rKys7Ozt27d29hDC3HZrNjY2Pfv39fWFiooqIycODAfv36CZRJSUmpr6+3tLRks9mPHj1KS0vT1NQcNmxYYWFht27dNDU1Bcrn5uYWFRV17969a9euvINlZWUhISG5ubkyMjKDBg2ysrISeBaXy3358uXbt2+Li4tVVVX19PSGDBkiJycHAG\\/fvs3JySFq5n3ExsbGSkpK4j0bCLW98vLykJCQnJwcWVlZa2trGxsb4TJcLjc8PDwhIYHBYAwdOrRfv36FhYV5eXn6+vrq6upEGaIh7d+\\/P39jlZqampiYmJ+fr6CgoKurO2TIEFVVVQDIysp69+4dAHz69In3N6Wrq6ulpdVsC8x7iRcvXpSWlmpqapqamlpZWVEoFN6jnz59ioyMzMnJqa+v19fXHzlypIqKSgtPwhfbZC6XGxUVFR8fz2Qy9fX1nZycFBUV+QtkZ2eXlJQQzUJMTEx0dDQA2NrattIl3g8fPiQmJubm5tJotD59+tjb2xPfXzx5eXmFhYVGRkYqKirx8fHR0dENDQ0zZ87MyclRVFTs2bOnQIXV1dXv378XeIjJZIaFhaWmprLZbBMTk5EjR0pLSws88ePHj3FxcUTTqq2tbWtrS7TJ+fn5r1+\\/JmrmfcQaGhrNfi93dlzUHvAGIRH9v81qaGjw8vLib5hoNNqKFSuampr4i0VHR+vq6vLKSEtLnz592s7ODgDy8\\/OJMmVlZQBgZWXFe1ZaWpqpqanAP55u3boRj\\/JXyJOYmMjlcs+ePQsAmzdv5o8hLCxMoCGgUCjbt28nHq2srBRuJoyNjRMSElpyrvbv3y\\/QRMrKykZFRfEK3L17VyB7Mzc3T0lJ4a\\/EwMAAAN68eWNsbMx\\/rvz9\\/b8YAJHXVlRUCD\\/0+++\\/A8CqVat4R0JDQ3nfZDxjxowpKyvjf6KZmRkAREdH8+KxtLS8efMmAEydOlX4hYYOHQoAL1++JO5yOJzt27cTaSWPs7Pzp0+feE8pLCwcPHiwQCQyMjINDQ1cLnfgwIHCH\\/G9e\\/e+eDYQItHIkSMB4ObNmyLK\\/PPPP126dOH\\/hz18+HBeY0goLy93cHDgLzNnzpytW7cCwIkTJ3jFbG1tAaCwsJC429DQ4OnpKfBXQ6PR4uLiuFzuTz\\/9JPw3RTSDpaWlAGBjY8MfQ2Fh4dixYwXKDx06lFdgzpw5Aj+qFRQU+MMTQXSbzOVyMzMzBRoBFRWVwMBA\\/kq8vb0B4MqVK25ubvwl586dy+FwRAcwYcIEADh\\/\\/rzwQ1FRUQBgamrKO1JbW9urVy+BU2FoaBgbG8v\\/xNWrVwPA6dOnx48fzyv27t07OTk5VVVVomXjR8wY4\\/+2evjwob6+Pv+r6Ovr83+bsNlsb29v\\/q9d4tTdvXuXy+Vu2rRJ+CP29vYWfSo6J0xG24eWJKNz5swBgP79+wcFBaWnp9+6dYtoXJYvX84rU1hYqKamRqFQNmzY8Pbt2\\/T09D179sjJyRHXz0Qko8OGDQMAHx+fxMTE7Ozs2NjY06dPT5kyhXg0LCxs2rRpALBhw4ZH\\/6muruY2l4xGRUVJS0vTaLRff\\/315cuX7969e\\/To0S+\\/\\/OLr60sUKCkpsbCw+Ouvv8LCwtLS0iIiIpYuXUqlUnV1dWtqakSfKKI10dTUPHLkSEpKyuvXr69everh4fH06VPeq9PpdAaDsXPnztTU1ISEhAULFgCAlpZWcXExrx4iGTU0NJwyZUpwcPDLly83bdokJSUlKyubl5cnOoavSkYvXbrk6up6\\/vz5mJiYd+\\/eBQUFOTo6AoCHhwf\\/E4lkVE9Pz9XV9dKlSy9evLh+\\/TqLxdLS0mIwGKWlpfyF09LSKBSKmZmZwOuamJgEBgampKSEh4dPnz4dAOzt7XlfEsQnOG\\/evJiYmOzs7MTExMDAQFdXV6LJjo6OXrp0KQAQw0YJJSUlok8FQuT6YjJKzJhRVlb28\\/N7\\/\\/59VFQUkUiZm5vX19fzio0ePRoAxowZQ\\/x13LhxQ09PT0dHB0Qmo7t27QIAR0fH0NDQ7OzsN2\\/e3L59e\\/bs2cTv6pSUFGIooZOTE+9vKiMjg9tcMlpVVUVcJR09evSDBw\\/S09NfvHixf\\/\\/+iRMn8sq4ubmtXbs2ODg4JSUlISHhwIEDampqVCo1PDxc9FnitcmrVq1qtk2urq4mfgZPnz6dKPDXX3\\/Jy8tTKJT79+\\/z6iGSUUNDQ1NT04sXLyYkJPj7+xO\\/\\/AMCAkTH8FXJaEVFRb9+\\/fbv3\\/\\/s2bO0tLTnz58vX76cSqVqa2tXVVXxihHJqJ6eXq9evfz8\\/F68eHHp0qXKyspZs2YBwNWrVwVeqHfv3hQKJT09nbgbFhZGp9MVFRV3794dGxubmJi4Y8cOaWlpZWXl7OxsokxAQAAAWFtb379\\/PysrKzU1NTg4eNGiRQ8fPuRyuenp6f7+\\/gBgYWHB+4hTU1NFn4rOCZPR9uGLyWhiYiIAKCkp8ecHWVlZMjIyNBqN99dF\\/HEuWbKE\\/7m8BUQ+l4w2NjZSKJS+ffuKiHDdunUAcOHCBYHjwsko0Tvs5+fXonf+nxUrVgDA2bNnRZTJzs6m0+kKCgpv3779XJnhw4cDwL59+\\/gPElcvfvnlF94RIhmdMWMGf7H58+cDwPHjx0WHSiSjNjY2g4V069ZNIBkVxmQyLSwsqFRqbm4u7yCRjDo4OAhcYFi5ciUAHD16lP\\/gb7\\/9BgB79uwh7qalpdFotO7du5eXl\\/MXI1p\\/3tVNTU1NVVVVERcwiPFwf\\/75p+i3j5DkEJ2MNjU1Ede9+As0NTUNGjQIAI4cOUIcefr0KQD07NmTyWTyiiUkJBDXw0Qko8Rw+aysrM+FFx4eDgA\\/\\/PCDwHHhZJT4PTlx4kQ2m93SN8\\/lPnz4ED7TecJvwIABols2Iqt2cnLibx+Itr1Pnz68g0Qy2q1bN+JKBOH69esA4ObmJjoGojkyNjYWbjbNzc0FktFmrVq1SuDjIL7vFBQUCgoK+EsSszDHjx\\/PfzAyMhIARowYQdzlcDhmZmZUKvXJkyf8xY4dO8b\\/HTpv3jwAiIyM\\/FxUxAozI0eOFB08wtn0HcSNGzcAYMGCBfx9vnp6ejNmzGCz2bwlQm7fvg0ARAbD4+3tLXr6J5Hh5eXlZWdnf2ecb9++jYuLMzQ0JK5HthxxuSImJkZEmcuXL7NYrLlz55qYmDRboLS0NDw8XEVFZeHChfzH165dCwBEo8nv119\\/5b\\/r7OwMABkZGS0J+O3bt2+EFBcXf\\/GJdDp97NixHA4nNjZW4KFVq1YJ9Af9+OOPAEB8KxC4XO758+elpKRmzpxJHAkMDGSz2UuXLlVWVuZ\\/7uLFiwHg\\/v37xF1lZeWamhpihBNCnUFcXFxWVpapqSmRCRFoNBqRxFy7do04QqwM5e3tzT8k0cLCQqDjXhgxXpPIcr5TYGAgAPj6+lKpX\\/Gt7ejoqKCgILrZTE1NjY+PNzIyIn5sN4v4flmzZg1\\/+zNz5kw9Pb3U1NTU1FT+wosWLeIfo09k5C1sNvPy8oSbzY8fP7bkuZ\\/7jpgzZ46Wlhb\\/kZEjR+rp6QUFBRUWFvIOEq0o0cEIAPHx8W\\/evLGzsxP4lL28vKSlpYOCgoi7YvyIOzmcwNRBpKSkAIClpaXAcSsrq1OnTr158wYAuFxuWlqatLR0jx49+MsoKSl1795deIlQHgqFMm\\/evIMHD5qYmLi4uIwcOdLZ2blPnz7fEGdSUhIAWFhYCCRVAt6\\/f7979+6oqKjc3Fz+BTuJCwZfrPxzBYiBob179xYYPdm3b18Gg5GRkVFXV8f\\/kEBSS\\/Q38bdfIuTk5AhP7tm4caPwVgLBwcGHDx9OTU3Ny8traGjgHRd+s8T1UX7m5uaWlpZRUVFv374levGePHmSkZHh6urKmzGWkJAAALGxsUTOzfPp0ycAyMzMJO7++OOPa9asGTBggKOjo5OTk6Ojo\\/A\\/J4Q6El6zKdAcEb03RLMJAO\\/fvwcA4UHz5ubmoue8z5s37\\/Lly9OmTTtw4ICLi8uIESOGDh3a8omYPDU1Nenp6TIyMqJb3erq6n379t29ezc3N5e\\/mRLd2BIrB\\/fv319EMeJEERdQeWg0moWFRXZ2dkpKCv\\/JEWg25eXlFRQUWthsnjhxYsaMGQIHo6OjhYezp6en79q1KzIyMjc3t7KykndcuNkU\\/uCoVOrs2bN9fX0vXLhAXJppaGi4dOmSvLy8u7s7UYZoNmtqagSaTQCQlZXNzs7mcDhUKvWHH344dOiQj4\\/P2bNnx4wZ4+Dg4ODgIDzDCX0RJqMdRE1NDfyXLfEjBoNWV1cDAJPJZLPZxJhRgWIC18yE7du3z8jI6Pjx47du3SKus5qZmR06dGjEiBFfFSeRWQrMrBeQkJBgb29fV1dnb28\\/btw4VVVVCoWSn59\\/8OBB0Wv+f7Fy4izxTzAn0Gg0dXX1\\/Pz86upq\\/mRUIGclrklwxbrU69GjR5csWdKlS5exY8d6enoSU6+ePXsWFBQkvByp8FQnAJgzZw4xNmvHjh0g9PseAMrLywHgwYMHApMbAEBFRYV3cNWqVV27dj106NCDBw8ePHgAAAYGBvv27Zs0aZK43ixCEuVzDQJ\\/swkAxCgp4Ubyi82mi4vLo0ePduzYERYWFhUVtWXLFlVV1d9++23FihWiE0QBRMumqakp4rJofX39sGHDkpKSTE1Np06dqq6uTvR3bd++XfTCxl9sNrlcbm1tLZ1OJxYB4Ed84\\/BOFEGg2QQAKpUq3mYzOTl52LBhNTU1w4YNGzt2rIqKCpVKLSwsPHDggPB3xOeaze3bt586dYpIRm\\/fvl1eXj5v3jzeNV2i2UxNTRW+pkuhUBQVFZlMpoyMjIWFxfPnzzdv3vz48eOkpKRdu3YpKCj4+Phs2LCh5cvNIsBktMMgZoMWFRUJHCeOECmOtLS0nJxcaWkpk8kU+DvJz88XXT+NRlu+fPny5cuzsrJCQ0OvXbt2\\/\\/79sWPHJiYmfq5PvFnExcK8vDwRZTZv3lxdXR0QEEAMMycEBwcfPHhQdOXEd4OI9\\/K5s8Rms0tKSogm5kvvQJyYTOa6deu6dOkSHx\\/PP22\\/uLiY1w30RbNmzVqzZo2\\/v\\/+2bdsaGhquX7+uqqrKP3uUeNeBgYHjxo0TUQ+FQpk7d+7cuXMLCgqePHly69ata9euTZky5dmzZ8RiCwh1MMSfhvDgGf5mE\\/7rihVuWL7YbAKAo6Ojo6NjZWVlWFjY\\/fv3AwICfHx8ZGRkiEEyLUQ0m4WFhcTVuGbLBAQEJCUlzZgx49y5c7xMt6mpaePGjcK\\/QoUrF\\/FeKBSKgoJCVVVVWVmZQD5KXO9s42YTALZu3VpZWXny5ElinBLh8ePHBw4caGENxsbGQ4cOjYiISExMtLCwEP4NT\\/zbmDt37pEjR0RXZWNjc+\\/evZqamhcvXjx48OD06dNbt25ls9m+vr5f\\/cY6MRwz2kEQHbi8lcx4iC2RiAHgAGBlZcXhcIhR8zypqakt7EMBAH19\\/Xnz5t29e3fp0qUNDQ337t0jjvMWKBX9dKLnNzExUcSeKElJSTQaberUqfwHhd\\/a5yoXUdLMzIxCoaSmptbW1vIfT0hIYLFYPXr0kJWV\\/eKriFFmZmZlZaWNjQ1\\/JgoAX7V7qpqa2tixY\\/Py8kJDQ69cuVJTUzNjxgz+fiLitDx\\/\\/ryFFWpra8+YMePSpUu+vr4cDocYLgYAxA+YttmQFqE2QDSMxEJL\\/MeJZrNv377EXaJ7+tmzZ\\/xl2Gx2WFhYC19ISUlp\\/PjxR48evXr1KgAQ\\/4f\\/ms0vbskmLy\\/fq1evxsZGEUO6iUFKnp6e\\/NdcX79+zWQyRVdOtA8JCQki2mTi+0VgFDuLxSL6snnfL20mKSmJQqEQC4DwtOQ7gh+Rep49e7aoqOjhw4cGBgbE9FYCcVpaPhhUQUFh1KhRe\\/fuJaa7fe1HjDAZ7SDc3d0pFMqJEydKSkp4BzMyMi5evCglJcXraZ09ezYAbNy4kddCcTic9evXi+5DYTKZwi0a0a3T2NhI3CVWOSHWRRehZ8+etra2WVlZIn5uamhosNns3Nxc3pGysrKW\\/OSdOnUqsRQob7CXAFVVVeIqxdGjR\\/mPE3NFp0yZ8sWXEC+i\\/yg3N5f\\/ayA0NJRozlqO16oK\\/74HgB9++IFGo\\/n5+fGGh\\/JwOBwiL+fd4Ed8pl\\/7ESPUXlhaWvbo0ePt27fEkr2EpqamP\\/74AwA8PDyII9OnT6fT6SdOnOAfWH\\/y5Mm0tDTR9RPDAPgJNJvECs0t+Zv64YcfAGD9+vWf+zVINCZZWVm8I9zPrHMpgNcmC7SK\\/Ii2cffu3fzfFAEBAbm5uf369fuqzjGxUFdX53K5\\/OetsrJy3759X1XJ1KlT5eTkzp8\\/f+rUqaamprlz5\\/Ln8TY2NmZmZomJiRcvXhR+Lu+TFf6IBZpNLS0tGo3G\\/3WGmoXd9O3M8uXLhQcbzZo1a\\/DgwQsWLDh+\\/LiDg8P27dt79uz55s2bNWvWNDY2rl69mrffw7x5886dO\\/fs2TMrK6tp06bR6fTr16\\/n5eWZmpqmpKR8bhhTbm7u4MGDZ8+ePXz4cCMjIy6XGxERsWvXLjqdPnHiRKIMscfGvn37amtru3XrRqFQ3N3d1dTUhGs7cuTI0KFDly9fnpqaSoxtyszMDA4OVlNT27x5MwCMGDEiNjbWw8Nj+\\/btRkZGr1+\\/\\/v333xUVFUXPXgIAbW3tnTt3+vj42Nvbr1+\\/npgF+f79+wsXLqxYsYIY3rp7925bW9v169fX1ta6ubnV1dUdO3bs2rVr3bp1I1YGaUuqqqr9+\\/dPSkqaPXv2smXLFBUVHz16tGnTJiMjoxZOICWMHTu2a9eu165dYzKZZmZmAvud9OzZc9u2bevXrx80aNCvv\\/5qbW2tpqaWlZUVFxfn7++\\/f\\/9+Nzc3JpOpq6s7Y8YMJycnIyMjOp0eFxe3du1aCoXC+0q2tLSUkpI6c+aMnJycgYEBjUYbM2ZMa2xJhZB4HT9+nFjNh5+lpaWXl9fevXsnTZo0Z86cnJwcR0fHoqKiPXv2xMbGWlpaEj\\/dAUBfX3\\/Lli3r168fOHDgjz\\/+qKurGxMTc+XKFUdHx8ePH4sY\\/WlnZ2diYuLm5mZsbKyoqPju3TsiO+R1+2hra+vq6j5\\/\\/nzRokXm5uYMBsPGxqbZiYM+Pj5Xrly5d++ek5PTypUre\\/ToUVxc\\/PLly2fPnhHdUw4ODlu3bt20aZO8vPyQIUNKSkoOHjwYGRnZpUuXL16WI9rkn3\\/+mWiT1dTUBNrkRYsWnThxIjQ01MPD4+eff1ZRUbl\\/\\/\\/7mzZupVOrXpoBiMWLEiMjISE9Pz507d\\/bo0SMlJWXjxo3y8vJfVYmiouLkyZPPnTvn6+tLoVB4HzeBSqWePHnSwcFh1qxZz58\\/d3Fx0dfXLyoqIr5QzMzMiDWe3N3dGQzGlClTevbsqa6unpGRQYzd533EdDq9f\\/\\/+8fHxM2fOHDRokIyMjJmZGbEpCfof5Kwohb4Sb53RZp06dYrL5TKZzGXLlvFP1WQwGMQvaf6qqqqqfvrpJ6I\\/mkqlOjk5paWlER1SvOWCBdYZzc\\/PJxbI5KelpSWwet+ePXv4h4qL2IEpOjpaYGK4lJTU3r17iUerq6uJhd95HB0dQ0JCAIC3zL4Ix44dExjYpKyszL8zR0hIiMBubDY2NmlpafyVEOuMCtRM9MrNnTtXdABfteh9cnIyfzBUKnXVqlW7d+8GgGPHjvGKEadLxJr\\/vOW6eMuLCvjnn3+EJ2r069cvPj6ey+U2NjYKrLFAnLeTJ0\\/yV3L69Gn+3bZwByYk4Yh1Rpvl7u5OlDl37pzAz+bRo0fzb4FB+Pvvv3mzfHr16nXr1i1iBaiLFy\\/yygisM+rq6iowxJPBYKxbt46\\/TX727Bn\\/dG8ROzCVlpZOnjxZIPcdNWoUr8CmTZv4X6579+5RUVE6OjqysrJfPFGi22Qul5uXl2dvb89fQFNT88aNG\\/yVEOuMCjcLioqKGhoaogP42h2YXFxc+INxcHAgVjbgX9CU+IAuXbr0uRfl\\/UThLS8qICYmRvi3gZaWFm9N1vnz5wsMyaXRaAsXLmxsbORVkpiYyL9rK+7A1CwKV6xz3FAr4XK5Hz58+NyjmpqavCHk+fn54eHh5eXlampq9vb2wvkHobGxsbCwUF1dXV5ens1mKykpSUtLl5aWEn8wHA6HWEmE\\/7rXhw8fUlJSioqKZGVljYyMrK2tm50tWFlZSawZ1K1bNwaDUV1dTWz7JJAgcjicuLi4N2\\/esFgsbW3twYMHC8x5jIuLS05OJhbbHzBgQGNjY15enry8vPCKAcLq6uoiIiIyMjJkZWW7d+8+ZMgQgbU2mEzm8+fP09LS6HR63759BfZ3BoDs7OympiYjIyP+gw0NDfn5+V26dNHQ0BDx6h8+fOByuT169BCealBWVvbp0ydVVVX+L7\\/GxkYiWnl5+WHDhnXr1q2ioqKsrExdXZ33sebm5jKZTENDw89dhqmpqSHmYejo6MjIyDRbprGxMSoqKj09ncPhaGtrm5qaGhoa8hfIyclJSkoqLCxkMBh6enqDBg1qdhBtbW0tMcNDS0tLeOYsQpIjLy+vrq6u2Ye6dOnCW36ytrY2LCwsKytLVlbWxsZGeDEgAofDKSwspNPpRAswefLkGzduREZG8hYeys3Nra+vNzIy4iUoxL7zBQUFTU1N3bt3t7Kyara\\/iGiQ2Wy2qqqqsrJysy0wITMzMzIysqqqSk1NzdzcXGDz+szMzNjY2PLycgMDA3t7ewaDkZWVxeFwBP7SP\\/fuRLfJAPDq1auEhISGhgYjIyM7OzuB9qG0tLSqqkq4WcjMzKRQKAL7agooKCioqanR0tIS2JqVODnZ2dnS0tICFxHi4+OTk5O5XK65ubm1tTWTyczNzZWTk+N9rGVlZRUVFZqamp+7aMrhcIjBS8rKysJrBRC4XO7r168TExNra2u7du1qYGBAbErCK1BVVfXy5cv8\\/PzGxkZdXV1LS0uBZU0JTCazqKiIxWIpKio2O8G\\/k8NkFIG\\/v\\/+cOXM8PDwuX75MdiwIdXaJiYnLly9PSEig0WjE+jLCJk6cGBsbm5eX9+zZM\\/5ZF6jNZGdnm5qaSktL5+fn47qSCH0nHDPa6fz6669qamoODg66urr5+fkPHz7csWMHnU5fs2YN2aEhhEBRUdHHx6epqUnEjjiTJ0\\/29fX92lV+0Te7cuVKaGiou7t7jx49qqur4+Pjt2zZUltbu2HDBsxEEfp+mIx2OkVFRXv37uU\\/oqWl5efnR2w6ghAil5GRkZGRkeg1ZYjJFl+1MyT6Hmw2+9ixY8ScFYK0tPT69evxNzxCYoHJaKcTEBCwdu3aV69elZaWSklJ9erVa+jQoZ8bZYgQ6jDKysr4t5MxMDBodvwiEjZt2jQHB4fo6OjCwsLGxkYdHR17e3vRY8cRQi3XLpPRwsLCHTt2iNiPh8vlMplM7D0hcDgcFovFfzbMzMyEdznvJDgcTlNTE27URsCzwY\\/NZrPZ7A58NubMmZOZmUmswg0A69atGzNmDLkhCZDkpltBQYFY5aOhoYH49S68xqSEkOTTyMM7jRILT6NYcLlcKSmpL24o0y6T0ZqaGtGbJXK5XNwnhgfPBj8ul4vpFw\\/+2+DX4c\\/Gu3fv7ty50\\/ZLlLcch8Oh0WgSvkQDl8vl7WAumfA0igWx+erXLl\\/axtrFaRS9NiWh1YcclZaWPnv2TMRe5Ewm88WLF69evWrtSBBCCCGEkKRp3WT02rVrvXv33rFjh4WFxaFDh4QLZGdn9+nTZ\\/Xq1R4eHq6uriwWq1XjQaipqamhoYHsKBD6rNraWmLuNovFunLlSnBwMHHcw8Pj\\/PnzxO2HDx9euXKlsbHx6dOnV65cqa6uJi9ehBD6XqrvKVAAACAASURBVK2YjDY1NS1fvvz06dMPHjwIDQ1du3YtsRY6v+3bt48YMSIiIiIpKSkzM\\/PatWutFw\\/q5MrLy11nufYZ36f\\/tP4Dxw5MfJVIdkQINaO+vj4kJCQ7O3vmzJkhISG8afXm5ua8HR+ioqJCQkI8PT3z8vJCQkI+t647Qgi1C604ZjQyMpLJZI4bNw4A+vbta2pqeu\\/ePYHtX69evXrr1i0AkJGRmTZt2tWrV6dNm9Z6IaHOzHOR5yOdR9ATACC3KddzhWfsrVjh3T4QIpe6urqfn5\\/wcWJbc8LGjRvbMCKEEGpdrZiM5uTk6Onp8VbCMzAwyMnJ4S9QV1dXVlZGbAJOFLhz504LK2cymbxdZQFg2LBh\\/FNSOBxOXl5eZ1uEr7aWWlNDZTIplZVULheqqv59+wIzpuXkuHQ6V06Ow5Bi67x9Li\\/PIS\\/ktlPX2JhSEA+8Tf6k4KP2xwuXLjiOcCQzLLKx2eympiYJny7aZthstpaWloizQaFQPrcdK0IIoW\\/WisloQ0MDf4IoLS0t0JdE3OWVES4gQm1t7c6dO3l3TU1NlZSUeHc5HE5CQkIH67qqrWWUliqUlclXVMhXVMiWlclVV8vU1MhUV0vX1srU1TEYDJasLItOZ8vJMSkUrpwc87+nUgH+\\/4NobGSw2dSGBjqF1XS+4jSbTaVSuTQah0bjSEkR\\/2fT6cT\\/2XQ6W0qqI8wvrmpqalKt5D\\/SJNP0PPo5Q6pTT6vncrnExFtxVchkMtvpyG9paWkajebk5CTiRyyVSpXwGcoIoXantraWyWR+uVxzampqmpqaxBtPyzEYDHGtNtCKyaimpib\\/INHS0tLBgwfzF1BTU6PT6Z8+feratStRQFtbu4WVq6iohIaGfu5RDofj6urafr82qqshJQVSUiAt7d\\/\\/MjKAQgEDA9DTg27doEcP6N4d1NVBXR3U1EBdHZSVgUqlA9CFa2Oz2Y2NjZ85G48BoKoKKiqgpARKSqC0FAoKIC8P8vMhNxcyM6GsDPT0oEcP6NULevUCExMwM4MWf1CSQgdAeUTvIu47+O\\/Clmah5ob9G3r16kVqXCRjs9lMJvOLK8C1XP\\/+\\/bOystpdpwSLxZo4ceLp06dZLJYYzwZCCH2Rnp4eh8Npp70uZWVlYqmnFZPRAQMGZGZmFhQUaGtrM5nM6Ojobdu28RegUCgDBw4MDw\\/v06cPAISHhw8aNKj14pFYXC5kZEB8PCQkQGIipKRASQn06QO9e4OJCUyZAj17gpERKCu3VgCKiqCoCHp6zT\\/a0ACZmfDhA7x\\/D8nJcO0avH4NbDaYm0O\\/fmBpCZaWYG4O9GbSYMny59o\\/vf\\/wzjbOBjpoZGvMtJ7ZyTPR1lBXVxcbG2tsbEx2IF\\/n+vXrvInqCCHUlurq6srLyyV87XphjY2N\\/D3S36kVk1Ftbe1p06bNmjVr+fLlgYGB\\/fr1s7GxAQB\\/f\\/8jR45ERUUBgI+Pz+LFixUVFXNzc4OCgjrPaqNlZRAZCTExEB0NMTGgoAADBoClJfz0E\\/TtCwYGIDmXlmRkoHdv6N37fw6WlEByMiQlwdOnsH8\\/fPwIffvCoEEwcCDY2oKREUmxiuTq4jqg74CAywFllWWeXp4DLAeQHRFCCCGEWnkHJj8\\/v4MHD547d87ExIQ3P9TU1HT69OnE7cmTJ1Op1KtXr8rLyz979qx79+6tGg+5CgvhyROIiICwMMjJgYEDYdAgWLoUBg6Erl3JDu4raWjAyJEwcuS\\/d+vqID4eoqPh1i1YvRoAYNgwsLODkSPB1FRENW1NR0fn12W\\/fn7QAkIIIYTaWusmozIyMquJ3ISPtbW1tbU17+7EiRMnTpzYqmGQqK4OnjyBhw8hNBTy8sDBAezt4ccfwcICxDdphHxycmBnB3Z2\\/979+BHCwyEsDPbtg4YGGDkSnJzAxaX9jTRFCCGEUGtrl3vTS74PH+DOHQgKgqgosLGBUaPg1CkYMKBDJaAiGBmBkRHMmQMAkJEBjx9DcDD88gvo6cGYMTBuHAwe3FlOBUIIIYREw2RUbLhciIqC27fh9m2orARXV\\/D2huvXQUGB7MhIZWgI8+fD\\/PnAZkN0NAQFwbJlkJcH48bBhAng4gI4dxkhhBDqzDAZ\\/V4cDrx4AVevwrVroKQEkybB2bNgZQXtc5WGVkSjwZAhMGQIbNsG2dlw+zYcPgxz54KLC0yZAuPGAQ7jRAghhDohiZmz3Q4lJsKqVWBgAN7eoKYGDx\\/C69ewbRtYW2Mm+gV6erB0KTx6BB8+gJMTnDgBurowaxbcuwftc8V0RILS0tKnT5\\/yluCIiIgQsfiz6EcRQqjTqqysTEhIED7+9u3boqKitokBk9GvlpcHu3eDqSm4u4O0NAQHQ1IS\\/P479OlDdmTtkLo6LFgADx7A+\\/cwZAjs3Am6urBsGcTFkR0ZkmyZmZl9+\\/Y9c+bM8+fPAeDFixfbtm2TkvpsV8\\/Vq1dPnjzZhgEihFD7sGHDhvj4eAAoKChYtWoV73hOTs6CBQvaJgZMRluKyYTLl2HMGOjXDz5+hBMn4MMH8PWVrKWL2i8NDViyBCIiICYGNDTA0xP69oV9+6C0lOzIkEQKDQ21s7M7c+bM4sWLAWDTpk0rVqwQUX7FihU7d+5kszvC3rYIISQuBQUF165d++GHHwCgoqIiICCA95Czs3NGRkazF03FDpPRL0tLg9WrQU8Pjh+H2bMhNxf8\\/GDIEOyLbxUGBrBxI6SlweHDkJwMPXvC9OkQGgpcLtmRIYkRGBi4efPm0NBQa2vrGzdu5OTkxMbGOjs7A0BBQcHw4cPT0tIAoK6ubsyYMc+ePQMAAwMDLS2tkJAQkkNHCCEyFBUV2dvbp6amAkBDQ4Orq+vjx48BIDAwcOzYsQwGAwDmzZtXVlZGrL9ZXFwMAFOmTDl9+nQbhIcTmD6LzYY7d+DIEUhOhjlzICIC2tseh+0YhQLDh8Pw4bB\\/P5w\\/DytXQmMjLFkCc+aA+LYfQ62rqQmys8VWm6YmyMv\\/e3vy5Mm5ubmxsbF+fn5ycnJXrlwZMGAA0Uevra3t6ek5ZcqUqKiopUuXKikp2dvbE88aNGjQ06dPXVxcxBYTQgiJVQMb8uvEdulFV44i\\/d8qipqamjNnzpw6dWp0dLSPj4+cnJyjoyMAPH36dPz48USZgwcPurq6Pnr0CACIrT4HDx7M33HfejAZbUZZGfzzDxw9Cjo6sHQpTJkCDAbZMXVWysrg7Q3e3hARAYcPw5YtMHUqLF8uuD0pkkDFxeDsLLbajh6FUaP+vS0jIyMrK8tgMFRUVAAgMzNTV1eXV9Lb2\\/vp06cjRowoLy+PjY3lHdfR0UlMTBRbQAghJG5vyrlTH4ttNNFNZ1pf1f\\/vw\\/3pp5+ePn06cuTI0tLSuP9mZvC3n126dKFSqUS7StDV1c3MzBRXPCJgMvo\\/3r+Hv\\/6CixdhwgS4fh0G4O7lEoPY4amwEPz8YMQIGDAAVq4ER0ccLCG5dHQgPb0tXohCoXD\\/dxjHwoULnZ2dDxw40KVLF95BLpdLwX8uCCEJZqVOSfdsxcRs4cKFDg4Oe\\/bsUfqvk1G4\\/eTXZs0mjhn9V1QUTJoEw4eDmhq8eQOnT2MmKom0tGDTJsjMBHd38PEBCws4fx5wxZ5OTl9fPy8vj3e3oqLip59++u2333bs2JGRkcE7np+fr6+vT0aACCFEvqqqqvnz52\\/YsOGPP\\/748OEDcdDAwCA\\/P5+4TaPROBwO\\/1Py8vIMDAzaILbOnoxyuXD\\/Ptjbw8yZ4OwMGRmwdStoaZEdFhJJWhp+\\/BGSkmD3bjh5Enr2hL\\/\\/hvp6ssNCJLG3t09ISOAtI7p48eJx48Zt27Zt9erVnp6eTCaTOB4dHe3g4EBalAghRKolS5Y4Ojr6+vr+9ttv7u7uDQ0NAGBvbx8VFUUU0NHRqa2tDQoKiouLY7FYABAdHc0bdt+qOm8yyuXCjRtgbQ3r18OiRfDuHSxZgltTticUCoweDaGhcOkShIZCjx6wZw\\/U1JAdFmoT3bt3NzMz4922sbF58OABAERERHC53D179gCAj4+PtbX17du3ASAjI6OoqMjJyYnEmBFCiCxRUVFMJnP\\/\\/v0AsGzZMnt7+5s3bwLAzJkzg4KCiB\\/tCgoK586d8\\/f3X7t2bWVlJQBcuXJl3rx5bRBeZxwzyuHAtWuwbRvIyMCmTTB+PI47bN8GDoTr1+H1a9i+HXr0gOXLYdky4BsriDqgiRMnTpw4kXd3y5YtmzZtGjdunJ2dnZ2dHXGQQqEcOXKEuH3gwIH169fTaLRm6kIIoY5u8ODBly9fJm5TKJSDBw8St7W0tDw8PM6ePUusbz9p0qRJkyYRDz18+NDY2NjS0rINwutcySiXC7dvw8aNICsLf\\/wBo0eTHRASH3NzuHAB3r0DX1\\/o2RN++QW8vXG\\/+87C1tZ206ZNTU1Nn9uEycPDw9bWto2jQgghybdt27aPHz8KH9fT0\\/Pz82ubGDpRN\\/3DhzBwIGzZAtu3Q1QUZqIdk4kJBATAkycQGwvGxnDoEPw3YhB1cEOHDhWxHaidnR1eFkUIIWFKSkrNXv7s3bu3pqZm28TQKZLRmBhwdITly2HtWoiLA1dXsgNCraxPH7h0CYKD4eFD6N0bzp2D\\/50giBBCCCFJ0cGT0Q8fwMMDpkyB6dMhORnc3XF4aCfSrx\\/cuQP+\\/nDsGFhawoMHZAeEEEIIISEdNhktL6esXAm2tmBlBe\\/ewfz58PkePNSR2dlBRARs3QrLl8Po0fD6Nf4cQQghhCRIx0xGORxwcpJmMiElBdauxQWbELi5QXIyuLqCiwt16VJGcTHZAaHvUF9f7+rqGhISAgBsNnvatGlXrlwhOyiEEELfqGNeLaRSISysQUMDp1Kj\\/0enw9KlMGMGe8sWrrk5rFkDP\\/8MdDrZYXVgTU2QnS222jQ1QV6euCkrK\\/vrr7\\/OmDEjLi7u6NGjRUVFkydPFtsLIYRQ28rIyJCWliY7iq\\/DFOvs4I6ZjALwvrYQ+h9KSrBzJ2vJErqPD\\/zzD\\/z1F7i4kB1TR1VcDM7OYqvt6FEYNYp3z8HBYf78+S4uLp8+fYqLi8OZ8gihdmrBggWu3zqxus32jm\\/WoEGDxFVVh01GERLBxATu3YP792HpUujXD\\/bvBz09smPqeHR0ID299aqfOXPm9u3blyxZotURN\\/DNz8+n0+kaGhqfK\\/DmzZvKykorK6t2d0EFIcTv4MGDvCXov1Z1dXWXDrHFS8ccM4pQS4wdC8nJ0L8\\/WFnBrl3AYpEdEGqxxsbGGTNmrF+\\/\\/urVq2FhYWSHI0579uzp2rVrt27dVq1a1WwBNpvt7u4+YcKEtWvXmpiYNLtaNUIItSOYjKJOTUYGNm6EmBiIiABLS3j+nOyAUMusWrVKR0dn69atp06dmjVrVmlpKdkRiY2zs3NERMTq1as\\/V+DevXtJSUmvXr0KCwtzc3PbsmVLW4aHEEJih8koQmBoCHfvwqZN4OkJCxdCRQXZASGRMjIyysrK\\/P39KRTKmDFjVq5cefPmTbKDEhsLC4tevXpRqZ9tnK9everh4SEvLw8Ac+bMuXr1KpfLbcMAEUJIzHDMKEL\\/8vCAUaNgwwYwN4dDh2DSJLIDQp9haGh47tw53t2VK1eSGEzby87OHjp0KHHb0NCwrq7u06dP6urqX3wim81+\\/vx59n9LHPTp00dHR6cVA\\/16nP+QHYgo7SXCdhEk2VGIgqdRLFoYHiajCP0\\/JSX4+2+YORPmz4dTp+DYMdDVJTsmhP5XfX09b9IScaOurq4lTyxy2bL\\/2kON+lzi7s8\\/\\/+zk5NRKQX4bDofT0NBAdhRfUF9fL+GrN+BpFAviNJI4V70l2sVpbMk5xGQUIUG2thAfD76+YGUFf\\/4Js2aRHVDHVVFRUVpaqqio2LVrV7JjaTe0tLQ+ffpE3C4tLaVQKJqami15Io3OmLp69+\\/22q0Z3XfhcDhSUlJychK9RDSXy1VQUCA7ClHwNIoFh8Oh0Wjykr1OZLs4jfX19V8shmNGEWqGtDRs2waPHsH+\\/TBuHOTlkR1Qh\\/Po0SMzKzMdA52BowYamRl1M+r2z4l\\/xDL2saCgoKCg4PvrkViDBg3iLSAQHh5uYWHRwtWdpIvfva1ltGZoCCH0LTAZReiz+vaFyEiwsgIrK7h4kexoOpB9f+2bPHdyillK\\/Yr68jnltUtr80bn+fzpM232tO\\/JRxsaGlxdXa2tra2srNzc3CS\\/p7JZsbGxu3fvjoyMTE5O3r1799OnTwGgsLBQSUkpJycHAH788cfw8PCdO3devXp17dq1v\\/zySwtrli5+m1qDyShCSOJgMoqQKAwGbN0K9+7Btm0wfTqUlZEdUPuXnJy8afummhk10AOAN5RIE2qm1tyPvu\\/v7\\/\\/NNfv5+ZWVlWVmZmZmZhYVFZ04cUIsAbexhoaG8vLyQYMGOTs7l5eXEz1c8vLyixcvJla31tLSCg8Pz8rKun79+r59+2bOnNnCmqWL376vZXBw5j1CSMLgmFGEvszKCuLiYPNm6NsX\\/PzgW3duQwAAew\\/urbWpBeFhTjSosa\\/ZsXfHnDlzRNdQV1c3ZsyYNWvWjB07lsViubm5zZw5c+bMmYGBgYsWLaLT6QAwf\\/78U6dOLV26tHXeRCuys7Ozs7MTONilS5ddu3bx7pqZmR07duxra6Y2VqvSOWlVXBMliZ6TgRDqbPDKKEItIiMDu3ZBQAAsXQrLl0P77AGWCOEvwrmGn7k6pwtZ6VlsNlt0DXJycr6+vnPnzs3KytqwYQMAzJgxAwAyMzONjY2JMj179szMzBRj2B2DqUJjfCleGkUISRZMRhH6CiNHwqtX8OkTWFlBUhLZ0bRPdbV18Ln5NhSgSdNqa2u\\/WMmwYcNWrFjh4uJy8eJFYvV7AKipqZGVlSUKyMnJVVVViS3ojsJUgZnwCZNRhJBkwWQUoa+jqAjnzsHq1eDsDIcPA+5987U0tTXhc3tcMQHYoKio2JJ63Nzc0tLSXF1deeu9d+3ateK\\/7bPKysq0tLTEEG7HYqrQGIdXRhFCEgaTUYS+xZw58OIFnDkDkydDeTnZ0bQr0ydNl02RbfYh6muqg6NDSyqpr6+fPn36tm3bbt26FRISQhy0sLCIiooibkdHR1tYWIgj3g7FXKExrhR\\/QCGEJAsmowh9I2NjiIyE\\/v3B0hIiIsiOpv3wXuKtmKdISRGaQ1MI8i\\/k\\/9z+Z0sqWbFiRZ8+fdavX3\\/+\\/PnZs2cTC4t6e3sfOHAgODg4KCjo4MGD3t7eYg++vVOhs5UYlI9VmI4ihCQIJqMIfTspKdi8Gf7+Gzw8YPdu7LJvEQUFhWePnunG6ircUoC3APkA6SDzSEbpmtKVc1f69OnzxRqys7PpdPo\\/\\/\\/wDAA4ODlu2bAkNDQUAJyenw4cP7927d\\/\\/+\\/UePHh0xYkSrv5l2yEaDEos99QghSYJLOyH0vVxdISYGpk2DiAg4exZUVckOSOKZmJikvUk7f\\/78pZuXct\\/nqqqquo53XTB\\/gZqaWkuerqen9\\/fff\\/PuLliwgHfb09PT09NT\\/BF3INbqlJclXE8jsuNACKH\\/tHoyyuVys7KyFBQUeJMMEOp4uneHZ8\\/gt9\\/A0hIuXYLBg8kOSOLJyMh4eXl5eXmRHUinY6NB2RrPITsKhBD6f63bTZ+Xl2dhYeHs7Ny7d28fHx\\/hAgEBARQ+kZGRrRoPQq1HSgp27YIDB8DNDb5+PXKE2oi1OiX+E7cJ01GEkMRo3WR048aN1tbWaWlpqampFy9eDAsLEy4zbtw47n9sbW1bNR6EWtukSfD8ORw5Aj\\/8AHV1ZEeDkBAlBnSTp6RU4LBRhJCkaMVklMPhXLx4ccmSJQCgoaHh4eFx4cKFZktWVVVxceoH6iiIWfZsNgwbBrgHEJJAgzQo0cXY5CKEJEUrJqPFxcV1dXW83fmMjY2b3Z3v4cOHBgYG8vLyP\\/30U319fQsrZ7FYcXyamprEFTZC309eHgIDYfZssLWFx4\\/Jjgah\\/zWoKyW6BJNRhJCk+N4JTAEBAbxVpnn09fVXr15dXV0NAKJ353NyciouLlZWVs7JyXF1dfX19d2+fXtLXreqqop\\/Cu2tW7dUVFR4dzkcTkNDA4eDo6IAANhsdmNjI54NQlueDS8vMDWl\\/fCDzOLFrJUrmW3wil+LzWYzmcwv7gXfcu23i4PNZtfU1LBYLBFng0qlysnJtWVUrWRwV8rfb7BBQAhJiu9NRrt3714nNDKua9euAKCpqQkA5eXlxI2ysjLiBj9tbW1ePStXrjxy5EgLk1E1NbX4+PjPPcrhcKSkpDrG18b3Y7PZdDodzwahjc+GszNERsKkSYy0NMbx4yAj0zYv21JEMsr7xfj9KBTK69evKysrxVVh2\\/j48SONRlNQUGCxWGI8GxKrrwolp5ZbwQRlBtmhIITQ9yejDg4ODg4OzT6kqKhoZGQUHR09YcIEAIiKirK0tBRRVWlpqYKCwnfGg5Ck0deHiAjw8gJ7e7h5E\\/77\\/dUxrVixwtfXl+wovkWnWp1UigrW6pSoYu7obkL7YCGEUJtr3XVGly1btm7dOjU1tdTU1MePHx88eBAAsrKyXFxcoqKilJWV9+\\/f3717d11d3aSkpO3btx8+fLhV40GIFHJyEBgIf\\/wBAwfC9etgY0N2QK3G29u7\\/W7C2amGng\\/RpEQWcUZ3o5EdCEIItXIy+vPPP3O53PXr16upqQUFBenq6gKAjIzM4MGDpaSkAEBFRSUgIODTp0\\/dunU7f\\/782LFjWzUehMhCocCaNdCzJ4wbB4cPg4cH2QGhzm2IJnVfstjGCiOE0Pdo3WSUSqWuXLly5cqV\\/Ac1NTXPnDlD3J47d+7cuXNbNQaEJMfkyWBkBBMnQloarF9PdjSoExuiSZkWym3igFTrLjaNEEJfhu0QQm3KwgKiouDmTZg+HRoayI4GdVbKDDDoQkn41F5XP0AIdSSYjCLU1rS04OlTYLFg9GgoKyM7GtRZ2WlSIoowGUUIkQ+TUYRIICcHly\\/D4MEwZAh8\\/Eh2NKhTGq5FiSjEZBQhRD5MRhEiB5UKu3bB6tUwdCg8f052NKjzGa5NCSvkYDaKECIdJqMIkenHH+HsWZgyBW7fJjsU1MnoyFFUpClvyjEdRQiRDJNRhEg2ahTcuQNLloCfH9mhoE7GXovytACTUYQQyTAZRYh81tYQEQH798PatdBud3dH7Y+DNiajCCHyYTKKkEQwMIAXLyAiAubNAxaL7GhQ5+CgTXlWwMFxowghcmEyipCkUFWFBw+gpATc3aG+nuxoUCegK09Rk6a8KsNsFCFEJkxGEZIg8vJw+zZoaMCIEfDpE9nRoE7AUZfyOB+TUYQQmTAZRUiy0Ghw4gQMGwb29pCXR3Y0qKNz1KE8zueQHQVCqFNr3b3pEULfgEKBPXtAWRkcHODhQzA0JDsg1LYqKyufPn0qLS09cuRIBoMhXKCuru7Fixe1tbX29vbKysrf81ojdajznrEb2SBN+55qEELo2+GVUYQk1IYN4OMD9vaQmkp2KKgNpaen9+7d+8yZMzt27LC1ta2trRUokJub269fvwMHDly4cMHU1DT1+\\/59KDOgjwolqhh76hFCpMFkFCHJtXgx7N4NDg4QHU12KKit7Nq1a9KkSTdu3Hj69KmsrKy\\/v79Aga1bt9rZ2d29e\\/fixYve3t5btmz5zlccpUt5mIc99Qgh0mAyipBEmz4djh+HCRMgPJzsUFCbuH37tqenJwBQqVQPD49bt24JFEhJSRkyZAhxe8iQITdv3uRwviuVHKVLfZCLV0YRQqTBMaMISTo3N1BQgClT4Px5cHIiOxrUmphMZklJSffu3Ym73bp1yxOaxda9e3de13xqampjY2NJSYmmpuYXK2exWBcvXuSVHD58uImJCQDYqMHHam5+DVtTVmxv5NtwOBw2m81ms0mOQyTJjxBPo1jgaRQLDofDbcFWLpiMItQOODrC9eswaRIcPw4TJ5IdDWo1LBaLy+XSaP9OJqLT6UwmU6DMr7\\/+6uzsTKFQunTpcvv2bQBo4ZVRNpv9+vXrnJwc4m7v3r2NjIyI2w6a1KDspplGJF8f5XA4LBaLJdm7Pkh+hHgaxQJPo1hgMopQhzJ0KAQFwfjxwGaDuzvZ0aDWIS8vr6ioWFJSoq+vDwDFxcU6OjoCZaysrOLj4+\\/fvy8jI3PgwIGxY8dqaWm1pHIZGRlfX1\\/iaqiA8QacB7lcL1OSZ9QTWbWMjAy5YYjGYrEkPEI8jWJBZFESHmS7OI31LdjEBceMItRuWFnB\\/fuwbBlcvEh2KKjVDBs2LCQkhLgdEhIybNgw4nZdXR3vAoOBgcGSJUt+\\/PHHW7dujR49mkKhfOeLju5GfZTHacJZTAghMuCVUYTaEwsLePQIRo0CNhtmziQ7GtQKVq9ePX78eDqdXlJSEhISsnfvXgCoqqpSUlJ6\\/fq1mZlZQkJCQECAkZFRTExMSEjI8+fPv\\/9FteXAsAvleRHXXvt781qEEPpaeGUUoXbGzAxCQ2HdOjh7luxQUCsYPnz4o0ePCgoK6HR6TEyMrq4uABA98tra2gCgr6+vq6v79u3bvn37JiUlGYppU4TxetS72XhpFCFEArwyilD7Y2ICISHg5ARcLsydS3Y0SNwGDhw4cOBA\\/iMMBmP58uXEbVVV1V9++UXsLzpejzLjCWfPILFXjBBCX4DJKELtUq9e\\/+ajFArMmUN2NKj9s1Sn1DXB2wpub2XsqUcItSlMRhFqr3r1gsePwdERKBSYPZvsaFA7RwGYoE+5lYXJKEKoreGYUYTasZ49ISQENmyAgACyQ0Htn5s+9WYWDhtFCLU1vDKKUPvWqxc8fAhOTiAlBdOnkx0Nas8ctClpldy8Wq6uPF4cRQi1HbwyilC716cPPHwIv\\/wC16+THQpqz+hUcNWjXs\\/EfeoRQm0Kk1GEOgIzKYdzRwAAIABJREFUMwgOBm9vuHOH7FBQezbFkHo1A3vqEUJtCpNRhDqIfv0gKAgWLID798kOBbVbzrqU5HJu4Zd370MIIbHBZBShjsPCAq5fh3nzICyM7FBQ+yRNg\\/F6eHEUIdSmMBlFqEMZMgQuXgQPD3j5kuxQUPvkaUS9mI7JKEKo7WAyilBHM2IEBATA+PGQmEh2KKgdctalvKvkZtfgNCaEUBvBZBShDmjUKDhyBMaOhbdvyQ4FtTd0KrgbUAPTMRlFCLURTEYR6pgmT4Zt22DMGMjNJTsU1N7MNKYGYk89Qqit4KL3CHVYXl5QVweOjhAWBpqaZEeD2g87LUo1C5LKuP1VcfV7hFCrwyujCHVky5bBlCkwfjxUV5MdCmo\\/KACzjCn+aXhxFCHUFjAZRaiD274dhgwBNzdoaCA7FNR+zDamBn7gNGE6ihBqfZiMItTx7dsHGhowaxaw2WSHgtqJnkqUHoqUoFzMRhFCrQ6TUYQ6PioVzp2DmhpYsoTsUFD7Ma8X9fR7nFOPEGp1mIwi1CnQ6XD9OiQnw+bNZIeC2glPI+rTAg5uDYoQam0SkYw2NDQ0NTWRHQVCHZycHNy+DRcvwl9\\/kR0Kag8U6DDFkHrmPfbUI4RaV+smo+vWrbO1tVVXV79582azBWpqatzc3LS0tNTU1DZu3NiqwSCE1NUhKAj27IHr18kOBbUHC0yoJ95xONhXjxBqTa2bjOro6GzcuFFNTY3JZDZbYNeuXfX19SUlJampqSdPngwNDW3VeBBChoYQFATe3hARQXYoSOLZaFCUGBCSj9koQqgVtW4yumzZsjFjxsjIyHyugL+\\/\\/8qVK+l0uo6OzqxZs\\/z9\\/Vs1HoQQAPTtC4GB4O4Or1\\/jkuboCxb3oR5NwZ56hFArInPMKJPJzM3NNTU1Je726dMnPT29hc\\/lcDjlfLhc\\/OGO0FcYMQIOHIDx46m5uZiPIlGm96BGFHGyarCNRQi1FikTExMbGxtnZ2d3d3cFBYWvff7hw4crKioEDtra2o4cOfKLz62oqOByuXJycsRdBQWFsrKyFr5uaWmpkZER725CQoKamhrvLofDaWxsZOOaigAAwGazmUwmng0Cng0eV1d4+5bu7i714EGNggKmGtDU1MRisURMpqRQKN\\/QSLZ38lIwuyf1SApn90Aa2bEghDomKTMzs5iYmPPnz\\/\\/888\\/z58\\/fsGGDqqpqy5\\/PYrGEx4O2cGq8mpoajUarrKzU0NAAgPLycs0W75\\/dtWvXtLS0zz3K4XDodDovze3k2Gx2Y2Mjng0Cng1+Gzeyi4q4Xl4Kt2+DlBTZ0ZCNSEZlZWXJDkTieJtSB99q2jSAJtfp\\/5EghFqD1PXr1wGgqKjo8uXLp06dOnPmTHR0tLGxcQufv2LFim9+bRqN1qtXr\\/j4eOLlEhISeF32CKG28eefrFmzpBYtghMnyA4FSSqjLpQhmtSAD5yFvSViNUCEUAfzb8uiqam5bNmy+Pj4U6dO0Whi64uJj48PCQmpqalJTk4OCQkpLy8HgPv373t5eREFFi5c6Ovr+\\/79+ydPnly4cGH+\\/PniemmEUEvQaBAYCK9fw65dZIeCJNhKc+r+ZFzjCSHUKv6n04VCobi5uYmx9kuXLsXHxxsZGUVFRUVFRe3du1dFRYVKpfLy3aVLl3769GnixIlycnJ+fn4WFhZifHWEUEvIycGNGzBkCBgYwLRpZEeDJJK9NqULHe5mcybo48VRhJCY\\/X8ympGRoaOjIy0tLcbad+\\/eLXxw9OjRo0ePJm7TaLStW7du3bpVjC+KEPpa2tpw7x44OoKeHgwZQnY0SCL92o\\/6ZzImowgh8fu3Wblx44aVlVV9PW5CjFAnZWoKZ86Auzt8+EB2KJ1eVlbWkSNHzp49W1VV1WyBkpKSs2fP\\/v333y9fvmyzqKYYUvPr4HkRdtUjhMSM2tDQsGTJksmTJ7u4uHTCVUsQQjwuLuDrC+PHQ3k52aF0YvHx8RYWFqmpqbdu3bKxsRHOR1NTU01MTMLCwoqKiiZOnLhjx462CYxGgVX9qDsTcVk0hJCYUQcNGnTmzJnjx49fuHBBChd3Qahz8\\/KCsWPBwwNYLLJDaf++bTnbnTt3Ll269NChQ9euXdPV1T1z5oxAgQsXLjg4OJw8eXLbtm3Hjh07duyYGGJtmbk9qUllkPAJL44ihMSJWl1dHRMTs2DBArIjQQhJhD17QE4Oli0jO4524uPHj5s3bxbOO1++fDlv3rxvqDA4OJiYSEqhUCZMmBAcHCxQQFdXt7i4mNh2rqioSFdX95sC\\/xbSNPi1L3VbAu4OihASJ6mcnJy7d++amppSqTgsHSEEVCoEBsLQoXDwIPz8M9nRSDwpKSlfX9\\/w8PBz585pa2sDAJfL\\/fPPPzds2ODu7v61tVVVVdXU1Ojo6BB3tbW1CwoKBMp4eXm9evXKzMxMS0urtLT0xo0bLaycyWQeO3ZMXV2duDt69Ghzc\\/OvjXCOIfzxivqysKmfytc+9cuIzfPEuLxga2hsbGQwGGRHIQqeRrEgTqOE9xi3i9PYkg3bqevWrduwYcOYMWOKi4vbICyEkORTUIDbt2H3brh7l+xQJJ6enl5oaOi7d+\\/69+8fFBRUWlo6fvz4NWvWLF682N\\/f\\/2trI1pt\\/rZbuB0PDw+\\/e\\/fu6tWrV61apa2t\\/ccff7S88qqqqor\\/NDY2fm14ACArBb+YcX2T8OIFQkhspLZu3erg4DBr1iwLC4sPHz7gNokIIQDQ14erV2HiRHjyBHBnNNGGDx+ekJAwe\\/ZsV1dXVVVVKpUaHBw8atSob6hKSUlJXl6e1\\/leVFREXG3lt3fv3p9++mnu3LkAYGFhoaOjs23btq5du36xcmlp6dWrV5uYmHxDYPyWmMP+lKZXVQwbDcp3ViWAuIgi3hUGxY7JZEp4hHgaxYLD4XA4HAkPsl2cxpas1EQFgJEjRyYkJJibmwvvMo8Q6rRsbWHvXpgwAT59IjsUiaempmZra8vhcEpLS21tbW1tbb+5Kmdn53v37hG379275+zsDAAcDic9PZ3FYgGArKxsRUUFUaC8vJxCocjKyn73O\\/gKMjT4zZK6IRan1SOExOPfwRCamprCw+QRQp3crFmQnAyTJkFICEj2wCQyFRUVzZo168mTJ1u3bu3Vq9fChQutrKwuXbpkaWn5DbWtXbvWxcWluro6Pz\\/\\/\\/fv3Fy9eBICysjJjY+P379\\/37NnT29t7woQJjY2NmpqaZ8+eXbBgQZcuXcT9nr7Aqxd1XzLncT7XUUfMF0cRQp3Q\\/4\\/7oVKpxBymlgw1RQh1Ejt3grIy+PiQHYekKikpsbCwSElJefz48e+\\/\\/+7p6RkfH6+kpGRra3vixIlvqHDQoEEvX77U1tYeNmxYXFyciooKACgqKl6+fJnosndwcHj16pWpqamsrOzRo0f9\\/PzE\\/JZaQIoKvtbUNTFs3K0eIfT9\\/mcQelRU1NixY9tySw+EkISjUuH8eXj2DNpwOcv2pKKiwtTUNC4uzt7enjhiZGQUGRm5du3as2fPfludPXv2XLly5cKFC1VVVYkjDAbDw8ODty+JgYHBokWLfHx8HB0dv\\/8tfJsphlQ6FQLTcZknhND3kiopKXn9+vWLFy8uXbqUkpLi5eXVu3dvsqNCCEmQLl3g5k2ws\\/u\\/9u48Lqpy\\/wP498wCM8AwDPsuKIIbKWouoEbicvVa7qhpZiglmfuWqan36s2tMs1KzfwpaimSmra4ew13MJE0RQQFBRHZl1mYOef3xzHiIiolcM7A5\\/2Hr3POPIyfeYCZL+c8z3OoVSvq0UPoNCLTpEmTI0eOVFkaTyaTLV68ePjw4UKlqgcM0UedpaNOmIb6SJSiXv0GAMROxs\\/BVKlUo0eP3rVrV8uWLYWOBACi06wZbd9O4eF09iz5+gqdRkyesshf69at6zNJ\\/Qt2Ybo6MyuvsIvaY6UnAPj7ZB9\\/\\/HHHjh07deok8tUBAEBYYWE0Zw4NGUKnTxOWgAPeyk6SDvuMb\\/oz3jaYyQQAf5Nk+vTp3bt3RyUKAM80Ywa1b0+4eTBU8LZhpraWzjiPkaMA8Pfh2goA\\/AWffUbJybR6tdA5QDRmvSBJzOUO3cW8egD4m1CMAsBfoFTSd9\\/Rxx\\/TsWNCRwFxUEhpXbB00hmT1ih0FAAwT7L33nuvYmfRokX1fCcPADA7Xl4UE0PDhtHp09S0qdBpQAT+4cl0dGSWXjYt6ygVOgsAmB\\/Zxo0bK3bmzZuHYhQAnikkhObOpSFD6MwZTGYCIqI1XaVtvysPbyppa4+ZTADw10jyKlGr1ULnAQDzMG0aBQXRW28JnQPEwVVJy1+Ujj9lMmIuEwD8RRgzCgB\\/0\\/r19NtvtH690DlAHMb5SxwVtOIKqlEA+GtQjALA32RlRfv309KlFBcndBQQAYZoU3fp2qumxDzMrAeAvwDFKAD8fU2a0KZNNGIEZWUJHQVEwMuaWdVJOvakSW8SOgoAmA8UowDwXAYMoIgIGj2ajFjZB4jGNpf4q5n341GNAkBNoRgFgOe1eDHJ5bRggdA5QBw2dJPGpGIZfACoKRSjAPC8pFLasYO+\\/Za+\\/17oKCAC9pYUHSqNOGW6rxU6CgCYAxSjAFALHB1p926KjKRbt4SOAiLwkhvzdkvJa8eNJpweBYBnQTEKALWjUyeaP5+GDCEtzocB0YJ2EqmEFiVg8CgAPAOKUQCoNVOm0Asv0LRpQucAEZAwtPNlWXQKdyAdK48CwNOgGAWA2vT553TqFEVHC50DRMBJQTFh0gm\\/mG4U4mo9ADwRilEAqE0qFe3ZQzNn0rVrQkcBEejkxHz4onTgYVOBQegoACBWKEYBoJa1bk3Ll1N4OJWVCR0FRCDCX\\/IPL2bEMSNuWw8A1UIxCgC1LyKCOnakyZOFzgHi8FFnqVRCU85iMhMAVAPFKADUifXr6dw52rpV6BwgAlKGdvWUncnmVifh7CgAVIViFADqhLU17d5Ns2dj8CgQEankdLCvdN1V9ptbqEcB4H+gGAWAuoLBo1CZpzXzQ1\\/pjHOmw\\/cwuR4A\\/oRiFADqUEQEtW9P06cLnQPEoY2Gie0le\\/2k8ewD1KMA8AiKUQCoW\\/zKozt2CJ0DxCHYhdn2kmzwEeOvuahHAYAIxSgA1DUbG9q9m6ZPpxs3hI4C4tDXk\\/mym7T\\/z8akPNSjAIBiFADqXmAgLVpEY8aQASufAxERDWoiWRss7fOT8QrqUYBGTyZ0AABoFCZNoqNHaf58WrVK6Ciil56eHh0drdfrhw0b9sILL1R59Pfff\\/\\/ll18qHwkPD7ezs6vHgLVjuK+EiP7xs\\/GHvrIgB0boOAAgmLo9M3rgwIFx48Z17tx5+fLl1Tb48ccfO1aSlJRUp3kAQEBff00xMXTwoNA5xC0zM7NDhw4PHjyQyWTdu3e\\/cOFClQY5OTkJf9i9e\\/esWbPkcrkgUZ\\/fcF\\/J5yHSfj9jPhNAo1a3Z0azs7ODgoLy8vIyMjKqbZCbm6tUKtesWcPvNm3atE7zAICANBqKjqYRIyghgdzchE4jVhs2bAgNDf3000+JiOO4VatWxcTEVG7Qo0ePHj168NsTJkzw9fW1trYWIGgtGdREopQyg44Yo0NlvfBTAdAo1W0xOmHCBCJKTU01Go1PaqNWqzt06FCnMQBAJLp3pwkTaNw4+uknkmDIenVOnDjxxhtv8Nt9+\\/Zdt27dk1qWlpbu3r370KFD9RWtrvT1ZPb2kg05avy4s2SQu9BpAKDeCT9m9Ny5c\\/7+\\/s7Ozq+\\/\\/vpbb73FMBg5BNCQffABhYbSmjU0Y4bQUUQpKyvL2dmZ33ZxccnLy9PpdAqF4vGWu3fvdnd379KlSw2fWafTLViwQK1W87tjxoyp+dfWtfZq+iGMBp+glKbsnLY6oeM8jU6nE\\/m4CJZldTqdRNx\\/7ZlLN0qlUqGDPI1ZdCPLPvuma89bjMbFxd28ebPKQScnpwEDBtTky9u3bx8TE+Pj45OYmBgVFcWybFRUVE2+MDs7u3LZmpqa6uTkVLHL\\/wzV5PU3BiaTSa\\/Xozd46I3KTCaTwWAwmUz1\\/P9+9RUTGmrVubO2bVsRfSOMRmN5eflTekMikVhZWdV1DKlUWpHBaDQyDCOTVf9GvXnz5gkTJtT8D3ipVNqmTRsXFxd+19nZWVQfY+2c6FR\\/9pUjFlnlkjWdGZlYSym5XC6qfnscy7Imk0nkIc2iG41Go8hDmkU31kcxmpKScvbs2SoHfXx8aliMtm7dunXr1kTk6+ubkZGxc+fOGhajLi4uRUVFT3qUZVmZTFYPHxtmgX9XQm\\/w0BuV8cWoUqms5\\/+3RQv67DOKjLSKjyfxfCv4YrT+e6MKDw+PzMxMfjszM9PZ2bnaYjQ5OfnChQt79uyp+TPL5fKRI0cGBATUTtA64K1ijvXRv3FGMvAY921PmZ2F0IGqI5VKRX62jGEY8YcUf0J0Y61gGKYmfzA\\/bzE6bty4cePGPeeT8BQKxVOGlgJAQzJsGB04QDNn0hdfCB1FZP75z3\\/GxsZGRUUxDBMbG1vxh318fLyPj4+joyO\\/u3nz5gEDBri6ugqXtE7YyLiDfWUzz5u67Dd+30fqr8bALYCGr24vhBQUFKSmphYWFhYVFaWmpubn5xNRdnb26NGjS0pKiOjgwYNpaWkGg+HixYsrVqx49dVX6zQPAIjH+vV0\\/Dj970xxoPHjx9+\\/f79fv36jR4\\/evXv3nDlz+OPDhg07cuQIv200GqOjoyMiIoSLWYekDK3pIp39gqT7QeOBdBEN5ACAOlK3E5i+++67zz\\/\\/nN8ODw9\\/++23IyMj9Xp9YmIifxL07NmzEydOzM3N9fDwGDt27OzZs+s0DwCIh40Nbd1KgwZRSAi5Yw71H9Rq9cWLFw8dOqTT6dauXevg4MAf37Nnj4+PD7+t1+u3bdsWGhoqVMh6MD5A0kbDDD9mupjDLWovleIMKUDDxXCc+S01nJKS0q9fv8cnTlXgJzBhXCCPn7KD3uChNyoTasxoZYsX05kzdOgQCb6QhkjGjNYdf3\\/\\/AwcOiHnM6ONv3Q+0NOqEkSHa8bLMRRzfmeLiYpVKJXSKpzGLT0Cz6EatVivyRXwbTDeKdb4iADQOCxZQSQmtXSt0DhAlZyUd7icLcWHa7zUeuWd+p04AoCZQjAKAkGQy2r6dli2jK1eEjgKiJGVoSQfpjpelEadMcy6Y9PW9EBkA1DkUowAgsKZN6cMP6bXXSCfqxc5BSKFuzOUhsltF1Hm\\/8bd8nCIFaFBQjAKA8MaPp4AA+uADoXOAiDlYUmwv6bQ2kp4\\/GJcnskbMswdoKFCMAoAobNhAO3fSyZNC5wBxG+cviR8kO57JBh\\/AKVKABgLFKACIgqMjff01RUTQk++tBkBE5G3DHOone7uFJOxH48IEkw6jSAHMHIpRABCLPn2oTx+aNk3oHCB6DNH4AMnlwfLrBfTCd8ajmGgPYM5QjAKAiHz0EZ0+TX\\/ljuvQeLlZUUyY9JMu0rfjTCOOm+6WoiQFMEsoRgFARKyt6f\\/+j6ZMoexsoaOAmfinF\\/PbUFlLOwraa1x2mdUahQ4EAH8RilEAEJeuXenNN+mtt4TOAeZDKaPF7aUXB8ou53It9xi\\/vcXiHCmAGUExCgCis3gx3btHW7cKnQPMio+KiQmTbguVfvwb22W\\/8WQWKlIA84BiFABERy6nrVtpzhxKTxc6CpibHq7M+YGy6W0k40+Z+h8y\\/pqLkhRA7FCMAoAYtW5N06ZRRARxqCXgL2KIRjaT\\/D5c9k8vyYBDpmHHTFexIimAiKEYBQCRmjOHSkvp88+FzgHmyUJCk1pJbobLujozvX40jjhuSspDSQogRihGAUCkpFLaupWWLKFbt4SOAmbLSkYzAyUpI+SdnJi+PxsHHzGdf4CSFEBcUIwCgHj5+9P779MbbxCLG5HDc7CW0cxASeoIeS8PZuQJU88fjD\\/fxQAQALFAMQoAojZlCslktG6d0DnA\\/CmkNKmV5OZw2fgAybyLpsBY49fJLO4mCiA4FKMAIGoSCW3ZQv\\/5DyUnCx0FGgSZhEb7SX4dLFvTRfpdGuvzbfnCBNM93L0JQDgoRgFA7Hx9aeFCGjeOTDiJBbWnlwdzsK\\/s1ABZoYFe+M4Yfsx0IgvX7gEEgGIUAMzApElkaUlr1gidAxocfzWztqv09kh5qBsz5YypZYzx4yT2oU7oWACNCYpRADADDENbttDy5XTtmtBRoCFSyemdVpKkobLNPaRX8jj\\/mPIRx00\\/3+VMOFMKUPdQjAKAefDxoQ8+oAkTcLEe6lCIC\\/N\\/L0nTRshfdmMWJZiafGucd9F0rQA1KUAdQjEKAGZj0iSysMDMeqhzagua2FJyfqDscD8py1Gfn0wd9xk\\/+Y3NLENVClD7UIwCgNngZ9Z\\/+CHdvCl0FGgcWtkxKzpJ00fKVnSSJuVxgbHGAScsNlxnczCoFKD2oBgFAHPi60vz5tGECVgGH+qPhKEwd+brHtLM1+RR\\/sb\\/ZnH+u8t7\\/2TccJ3N1godDsD8oRgFADMzZQqxLG3YIHQOaHwspfRPD3bny9LM1+RRLSWnsriWe8q7HzR+nMSmFuMKPsDfJBM6AADAXyOR0FdfUbdu9I9\\/kK+v0GmgUVLKaIiPZIgP6U3S45nc3jtstwMmRwXzijczwFvS2YmRMEJHBDAfKEYBwPwEBNCMGRQZSUeOEINPfRCOpZT6eTH9vKQsJ72Yw32fzk6MM2WVcf\\/wlPT3Ynp7ShwshY4IIHq4TA8AZmn2bCoooOhooXMAEBGRhKHOzsyyjtLEIbL4QbIQV+bbVK7ZrvKu3xsXXzKdyeaMGOUM8AQ4MwoAZkkmo02bqF8\\/6tuXXFyETlOr9u3bt3\\/\\/fo1GM2nSpGbNmj3ewGAwbN68+ezZs3Z2duHh4d26dav\\/kPAU3jbM2y2Yt1uQgZWezuYO3WXfPWNKK+Z6uEl6uTNhHkwrO5zPB\\/gTzowCgLkKCqLx42nyZKFz1KqdO3e+8847PXv2VCgUwcHBeXl5VRqYTKb+\\/fvHxMS89NJLLVq0SE5OFiQn1ISFhF52Y5a\\/KL00WHZjuHxUUyYxjxtwyOS+s3z0CdOm62xyIaY9AeDMKACYsw8+oKAg2rePBg0SOkotWbly5cqVK8eMGUNEly5d2rp16\\/Tp0ys3iI6OzszMTEpKkkqlAmWEv8NZSSObSUY2IyJKK+ZOZnEns7ill9lylnvJTdLNhenhyrTWYOYTNEYoRgHAjFla0pdf0muvUWgo2dkJnea5lZWVJSYmhoaG8ruhoaFnzpypUowePXp0+PDh33777bVr1zp27Dh48GABgsLz8VUxvirmTX8iotvF3Kn73Kn73LqrbLaWC3ZhujpLQlyZTk6MNT6ioXHATzoAmLcePWjAAHrvPfryS6GjPLf79+8TkaOjI7\\/r5OSUlZVVpc3t27dPnjw5cODAwMDA+fPnnzlzZtWqVTV5cq1WO3nyZBsbG343MjKye\\/futZe9FrAsq9PpWHHfz6C0tJSp1RUcHBka4kZD3IiIcnTM+VzmXI7k\\/fPMlXymuS11cmQ72rMvOnJ+Kq6G\\/2vj7MZax3cjx4l6HIVZdGNNEqIYBQCzt3IltWlDx49Tz55CR3k+CoWCiAwGA7+h0+msrKyqtLGwsGjZsuX69euJ6MUXX+zSpcvSpUstLZ+9gJBcLu\\/fv7+7uzu\\/GxAQ8PiTC4tlWYlEIrZUVZhMprpL2MSKmthTeHMiIgNLlx5yF3KkJ3K4FdcoT891dKQXnZgXnZj2DuRl\\/cQPeHRjreCrKJGHNItu1Ov1z2yGYhQAzJ6tLa1bR1FRlJhICoXQaZ6Ds7OzXC5PT09v06YNEWVkZHh4eFRp4+XlpVQq+e1mzZoZjcacnBxPT89nPrlMJuvXr19AQECtx65FEolEIhH1zNp6S6iQULArBbs+2n2oows5XPxD7utk9p0cjiXq4Mh0cGSCHJggB8ZX9T+1KbqxVog\\/pPgT1lBDeA0AAAMHUtu2tGyZ0Dmej0wmGzhw4I4dO4hIq9V+9913Q4YMIaLS0tKYmBiDwUBEw4cPj4uLKy8vJ6Ljx487OztXnOyEBsxRQf29mA+CJAf6yLJGyy8Nkk1sIZEQbUlmux802UeX9\\/zBOOOcaetN9nIuZxD1JXqAqnBmFAAaiLVrqV07GjmSWrcWOspzWLJkSa9evX799df09PRWrVr179+fiLKyssLDwx88eODk5NS\\/f\\/+tW7e2a9cuICDg9OnTmzZtahinRuAv8bBmPKyZV5s82s3R0eVc7tdc7vBdbvUV7lax3M\\/WGKhhXrBn2tgzre3IRyXqkYXQyKEYBYAGwtWVliyh8ePpzBky3\\/KsVatWN2\\/ePH\\/+vJ2dXVBQED\\/238fHJyUlxcHBgYgkEklMTMzly5cLCgq++uore3t7oSOD8JwU1NuD6e3BEBHLskVlujS9MimP+y2fW3eVvZpPhQaulYYJ1DAt7ZjWGqaFHTWxQXkKYoFiFAAajrfeol27aMMGiooSOspzsLa27vm\\/U7FkMlmVWzG1a9eufkOBObGQED+WtOJIgYGu5nNX87lrBdxPd9nrBVRg4FqomRZ2TEs7JkBNLewYP1vGEmvXghBQjAJAw8Ew9MUX1KMHvfoqPTbzB6DxsrOgEBcmxOXP8rTQQNcLuGsF3I1CbnsK\\/V7A3inhPKyZ5rYUYMf42zLN1YyfLXnbMFKcQoU6VofF6P3791evXh0XF1dWVta5c+clS5Y8PsqeZdmlS5fGxMTY2NjMnj2bH6oPAPC3BQRQVBRNmUKxsUJHARAxtQV1dmY6O\\/9ZaRpZSivmbhRSciF3JY+Lvc2mFNEDLeejYprbMn621MyWaWbLNFNRExVjYbYjYUCE6rAYTU1NlUqlH3\\/8sVqtXrJkycCBAy9evFilzRdffLFr167du3dnZGSMHDmyefPmgYGBdRcJABqDefMoKIj276euqHQ6AAAbQ0lEQVSBA4WOAmA+ZBJqrmaaq4nozwpVZ6KUIi6liEspot\\/yuf132FtFdK+Mc1UyTVXU1JbxVTG+KvJVMT42jJuol7wE8arDYjQ4ODg4OJjfXrlypa+vb2FhoVqtrtzmiy++WLhwYevWrVu3bj1y5MhNmzatXbu27iIBQGNgaUlffEFjx1JYGP1xvyEA+DsUUmqjYdpo\\/udSvZGl9FIurZhSi7jUYu5AOqUVs7eLuUID+agYHxtqYsM0UTHe1uSjYprYkJsVrvXD09TTmNELFy54eHhUqURNJtP169c7duzI73bs2HHnzp31kwcAGraXXqLQUFq8mFavFjoKQIMjk1BTFdNURWHu\\/1Njao2UVsLdLqY7JdydEu6HPEovYW+XUI6Wc7NivGyoiQ3jaU1e1oyTVNLckfOwYpyVQr0IEJHnLUb\\/+9\\/\\/arXaKgd9fX0r3+Tj7t27U6dO\\/eyzz6o0y8vLM5lMFRWqnZ3dgwcPavj\\/Pnz40NfXt2L35MmTldc34W8\\/ZTKZav5CGjCTyWQwGNAbPPRGZXxvGI1GoYPUiX\\/9i+nc2XrQIG3btjX6dhuNxvLy8qf0BsMwNjjRCvBkShm1smNa2VHlC\\/1EVM7SvVIuo5TulHB3S+laAZdWIMu6ZrpXyhWVk6c1425F3jaMm5I8rRkPa3KzYrysydUKI1Mbi+ctRrdt25adnV3l4NChQyuK0fv374eFhc2aNWvo0KFVmqnVaoZhSktLnZyciKi4uFij0dTw\\/9VoNEePHq3Y9fT0lEr\\/XJGCZVm5XC7yG7bWG5PJpNfr0Rs89EZlfDFacW\\/JBkalov\\/8h6ZPtzp3jqQ1WLCGL0Ybam8ACEguIR8V46Oi7n8UqcXFZSqVioh0JrpbymWWUXoJl1VGaSXcL9mUVcZmlFC2lrOzJBcl42n9578eVuSiZNytyEXJKLEgUEPxvN\\/JzZs3P+XRnJycXr16jR07dubMmY8\\/amFh4e7ufuPGDR8fHyJKTk6ufLLz6aRSadOmTf96XgBoRN58k7Ztoy+\\/pEmThI4CANVRSMnPlvGzpSonU3nZWsrWcndLH\\/17o4A7do8e6NjMMrpfxllKyd2KcVKQuzXjrCAXJeNqRc4KxkVJ\\/AaWTTUXdfhnRW5ubq9evcLCwt555538\\/HwisrW1lUqlFy5c+OWXX\\/jy9PXXX\\/\\/000979eqVm5u7ffv2r7\\/+uu7yAEBjwzC0cSN160aDBxPu3w5gdlyU5KJkXrCnakvVQgNllnE5Osos5bK19EDH\\/XKfcrTsAx1llVGOjrOUkJsV46QkB0vGVUnOSnJSMI4KclYyzgpyVDCOCpJjJIAI1GExGhcXl5GRER0dHR0dzR+5cOGCn59fcnLy3r17+WJ03rx5o0aNcnJyYlk2Kiqqd+\\/edZcHABohf3+KjKRZswjTIwEaGLUFqS2YlkTVlqpEVGig+1ouR0s5Ou6+lnJ0dLOIO\\/OAssvYHB091HEP9WQtIxcl42D5qDZ1sCQnJeOoIHsLzoYknuWcvSXjoCCsBlCn6rAYHThwYF5e3uPHx4wZM2bMGH7b1tb2hx9+KC0tlclklpaWdRcGABqtBQuoTRv66Sfq10\\/oKABQj\\/hqNeB\\/V06tIk9POTruoY5yddxDPT3UUY6Wu15AOVouRyspKDfl6rk8PaktyMGScVCQgyXZWzL2f\\/77aENjSfaWjMYSZevfIYrRv9bW1kJHAIAGS6mkzz+nd9+lpCRSKIROAwBiwleTjxesLMtqtXpr60enyXL1lKfjcvWUq6c8PZenozw9l1xIeXrK07N5eso3UJ6Oy9OTrQVpLBmNBWksH23Y8Ucsyc6C7CwebagtGI0lKTCqlYhEUowCANSpvn2pbVtavpwWLxY6CgCYIQdLcrBkmj\\/ae9rJzwID5eu5fD3l\\/7FRYKA8PZdRyj\\/EFhioQE8FBq7AQESPClM7C1JbkJ0FY2dJajmpLRi1BaktyNaC1BaMrZw0lqS2YFRyapDLXaEYBYBGYc0aat+exowhPz+howBAw8Wf\\/vRV8XvPuGavM1GBgQoNXIGeCgxUVM7l66nQQIUGLruQCg1UVE6FBrao\\/FH9WlxOUoZsLchWzqgtyEZqYacwqeSkkpOtBdlZMLZyspGTSk4qOcPXstYyspEzdhZ1\\/8qfA4pRAGgUPD1p7lyaNIkOHRI6CgAAEREppOSqJFdlRc367AGnWiMVlVORgSsqp8wCvUkuLy6nYgMVl1O+gcsofbRdYmQL9PwGlZRzhQZSyclGTlYyxs6CVPJHRaragmzkZC0jaxljZ0nWMlJKH52CtZKRtZzUFoyVlOp6SVcUowDQWEydStHR9N13NGSI0FEAAP4WpYyUMnJRMkTkb8mqVDW9bF9UTiXlXJnx0QnX0nIqKeeKyqm4nEqNlG\\/gUoup1MgXu2yRgcqMVGakAgNXZiSdiTSWpJQyShnZWZBSRkop2VkwShkppMQPflVKGTtLUkjJSkYqOaOQkkpOCgnnJqNnTgxCMQoAjYVMRp99RqNHU58+hPt6AkCjYisnW3mVM681nfnPERXoqczIaU1UaKAyI2lNVPhHnVqgJ62J48tZnelROaszUUk5lRppRwhjb\\/uM50cxCgCNSLdu9PLLtHQpLV8udBQAADPB0KPFAR47\\/Awsy2q13DObNcRJWQAAT7ZyJW3ZQteuCZ0DAACICMUoADQ2zs70wQe4Wz0AgFigGAWARicqikpL6dtvhc4BAAAoRgGgEZJIaM0amjGDCguFjgIA0OihGAWAxig4mPr2paVLhc4BANDooRgFgEZqxQr6v\\/+jpCShcwAANG4oRgGgkXJ2pkWLaNo0oXMAADRuKEYBoPGKiqK8PNq9W+gcAACNGIpRAGi8pFL67DOaNYtKS4WOAgDQWKEYBYBGLSSEevTADZkAAASDYhQAGrvVq2nDBrp5s6a3aQYAgFqEe9MDQGPn6kqzZtGcORKRDB49derU2rVrdTrdiBEjXn\\/99SqPlpaWzpgxo2K3f\\/\\/+AwcOrN+AAAC1CcUoAABNm0abN9PRo9JXXhE4yY0bNwYMGLBmzRpXV9fIyEiFQjF8+PDKDXQ63caNGzds2MDvuru7CxETAKDWoBgFACALC9q7l3VxMQkdhL788svhw4dHREQQ0eLFiz\\/99NMqxSjvrbfeqvdoAAB1AmNGAQCIiPz9OSsroUMQJSQkhISE8NvBwcEJCQkcxz3eLDIy8u233961a1e1jwIAmJGGeWb0zJkzZ86cmTNnjtBBROH06dMXLlyYNWuW0EFE4dSpU5cvX54+fbrQQUThxIkTv\\/\\/+++TJk4UOIgrHjh1LSUmZNGmSsDGys7M1Gg2\\/bW9vr9PpCgsL7ezsKhrI5fJZs2YFBQXl5ubOmTPn3Llzn3zySU2eOSsr65VXXrG2tuZ3582b169fv1rP\\/zzOnj17\\/vz5aeK+D8GsWbOmT5\\/u4eEhdJAnOn\\/+\\/OnTpysPLBahWbNmTZs2zdPTU+ggT3Tx4sX\\/\\/ve\\/Iv\\/onDNnzuTJk728vIQO8kTx8fFxcXELFy58erOGWYzevXv34sWLQqcQizt37sTHxwudQixu376dkJAgdAqxSEtLu3TpktApxCI1NfXXX38VOgXZ2NhotVp+u6ysTCKRVJSPPFtb21WrVvHbnTt3Dg4O\\/vDDDxUKxTOf2WAwTJ48OTg4mN\\/18fFRqVS1mv155eXlXblyRWypqjh16tTUqVPFHNIsujEuLm7y5MliDpmfn3\\/58mUxJySi06dPT5w4UcwhCwoKalKPNcxiFADATHl7e6elpfHbaWlpbm5ucrn8SY39\\/PxMJlN+fr6bm1tNnrx58+YdOnSonaAAALUEY0YBAERkxIgRO3bsKC0tJaJNmzaNGDGCPx4dHX39+nUiysjI4E+dchy3Zs0aX1\\/fGlaiAADiZK5nRktLS1esWPGkRxMTE2\\/cuPGUBo3KpUuX0BsV4uPjb926hd7gXbhw4c6dO+gN3rlz5+7du\\/eU3rCxsamHEaXDhg3bu3dvQECAWq1WKBSfffYZf\\/zf\\/\\/73\\/PnzW7RocejQoZkzZzZp0iQvL8\\/Gxuabb76p4TNzHLd79+7ExMQ6y\\/68zOKtOzc3d\\/Pmzc7OzkIHeaIrV64kJyeLvBsfPnz49ddfu7i4CB3kiX777beUlBSRd2NOTs6WLVvE\\/Ofo1atX9Xr9M5sx5jgTk2XZrVu33rhx40kNTCYTy7JPubbVqKA3KkNvVIbeqOyZvWFra\\/v+++\\/XT5j09PSysrKAgACGeXRfKJ1OJ5fLpVIpERUUFGRkZNjZ2Xl6elY0eKbDhw8fPXpUIhHvBTGz+IHU6\\/UWFhY17\\/b6h26sFSzLGo1GCwsLoYM8jVl044QJE\\/z9\\/Z\\/ezCyLUQAAAABoGMT7JzIAAAAANHgoRgEAAABAMChGAQAAAEAwKEYBAAAAQDAoRgEAAABAMChGAQAAAEAwKEYBAAAAQDDmegemCgUFBcuWLUtKSgoMDJw\\/f76dnV2VBhzHbdq06fvvv9doNDNnzmzXrp0gOeuHTqdbsWLF2bNn\\/fz85s+f\\/\\/hdGXbt2nX8+PGK3fXr18tkZv8zUK3i4uKjR4\\/Gx8fn5eV98cUX1bYpKipatmxZYmJimzZt5s+fr9Fo6jlkvdHr9UeOHElISMjMzFy1apWtre3jbRYuXPjgwQN+u2XLltOmTavfjPXn3r1727Zti4+Pl0gkPXv2jIyMfPy3wGg0fvrpp8eOHXN3d3\\/vvff8\\/PwEiVpbDAbDqlWr4uLifHx83n\\/\\/fS8vL6ETVXXlypVNmzalpaVZWVn16dPnzTff5Jf3F5sTJ05s3rw5Ly+vRYsWy5YtUyqVQieq6ueff46Oji4tLQ0PD3\\/ttdeEjvPIzZs3T548eeXKlRdffHHs2LH8wYyMjOjo6Pj4eKlU2rt374iICAE\\/j8rKyviPjOzs7LVr11paWvLHN2zYcOnSJX5bpVKtXr1aqIRElJCQcPr06evXrw8bNqxnz54Vxw8ePLhz587i4uJOnTpNnTq12nf4+pGXl7d9+\\/bTp0\\/r9frg4OB3333XysqKiHJyco4ePXrp0iVra+vFixc\\/\\/oVmf2Z01KhRd+7cmTt3bnp6+siRIx9vsGHDhpUrV7777rtBQUE9e\\/bMzs6u\\/5D1ZvLkyadOnZo7dy7Lsn379mVZtkqDs2fPZmZmdviDmO\\/F8pyuXbu2bt269PT0r7766kltRo8enZKSMnfu3KysrOHDh9dnvHp2\\/\\/795cuXZ2Zmbty4saysrNo2u3btsre3538wmjdvXs8J69PBgwfv3LkzatSo8PDwTz\\/9dM6cOY+3WbJkyTfffDNjxgw3N7eXX36Zvxe8+Zo9e\\/bPP\\/88e\\/ZspVIZFhZmNBqFTlRVTk6Ov7\\/\\/u+++O3jw4OXLl\\/\\/nP\\/8ROlE1YmJiRowY0bVr1ylTpri6uhoMBqETVXXgwIGxY8cOGTJk4sSJixYt2rFjh9CJHtm6devhw4cvXrx46tSpioMHDhy4e\\/fu6NGjhw8fvnr16vnz5wuY8Pbt2x999NHdu3c3btxY+RfkyJEjWq2Wf2Ns27atgAmJ6KOPPoqPjz98+HBSUlLFwSNHjrz++usDBw6cO3duXFzc+PHjBUx49uzZc+fODR48OCIiYu\\/evWPGjOGPnzhxYtu2bcnJybt3767+Kzlzdu3aNaVSWVxczHFcSUmJlZXV1atXq7Tx9\\/ePjY3lt1955ZUPP\\/ywvlPWl5ycHEtLy7S0NI7jWJb19PQ8fPhwlTZTp05dtGhR\\/WcTSlJSkkwmq\\/ah5ORkS0vLgoICjuPKyspsbGwSExPrN119y8\\/PJ6KsrKxqH23evPm5c+fqOZLg9u3b5+3tXeWgTqdzcHA4e\\/Ysv9uhQ4dt27bVe7RaU1hYaG1tXfHe6Ofnt2\\/fPmEjPd369etfeukloVNUVV5e7ubmtn\\/\\/fqGDPM2AAQOWLl3Kb+\\/cubNdu3bC5qli1qxZ48ePr\\/ahPXv2NGvWrJ7zPC49PZ2ISkpKKo4MHTp048aNAkZ6XN++fdesWVOxu2DBglGjRvHbp06dcnR0FChXVYmJiTKZTK\\/XVxyJjY1t2bJltY3N+8RYQkJCYGCgjY0NEVlbW7dr1y4hIaFyg+Li4uTk5JCQEH43JCQkPj5egKD14rfffnNwcPDx8SEihmGCg4OrfbGHDx8eN27c4sWLMzMz6zuimCQkJLRu3VqtVhORUqls3759lR+eRuiTTz4ZP378559\\/rtfrhc5ST1JTUx+\\/Zp2WllZYWNipUyd+19zfN65fv25hYdGqVSt+V7Qvx2Qy5efnp6Sk7Nmzp0+fPkLHqermzZv5+fnOzs5TpkyZM2fO9evXhU5UjcLCQgcHB37b0dExMTFRhKdvq3Xr1i1PT0+hU1QvJiZm3Lhxy5cv5\\/+eF5vQ0NDz58\\/fvn1br9fHxMSEhYUJneiRW7duOTs7W1hY1KSxeRej2dnZ9vb2FbsODg5ZWVlVGhBRxVhAe3v7+\\/fv12fC+vR4bzz+YoOCgkaMGNGrV6\\/U1NQ2bdrcuXOnfjOKyDN\\/eBqb8PDwPn36dOnSZcuWLdWO8Wh4UlJS\\/v3vfy9durTK8ezsbDs7u4pBLNX+KpmR7OzsyuOhRftyrl692qxZsxYtWpSXl7\\/77rtCx6nqzp07EolkxowZPXr0UKlUnTp1SklJETpUVcHBwTExMQaDgeO47du3cxxnFiPTbty48eGHHz7+mygGPXr0GDx48Msvv3zmzJl27doVFBQInaiqsLCwYcOG+fr6WltbHz58+OOPPxY6ERFRbm7utGnTaj7exryLUWtra51OV7FbVlamUqmqNCCiijZarbZKg4bkmb1BRG+88cbUqVPHjBmzbdu2rl27btiwoX4zikhNuqtRWbp0aURERGRk5LFjx3799dezZ88KnahuZWRk9OnTZ9myZaGhoVUeamA\\/G+bycl544YW8vLyioiI\\/P79Ro0YJHacqKyursrKydevWDRs2bOHChX369NmyZYvQoaqaN2+elZVVkyZN\\/P39+Sk44p+XeefOnb59+65cubJbt25CZ6nGlClToqKi3njjjX379tnb2+\\/cuVPoRFWtX7\\/+yJEj9+7d0+l0Y8aM6devn8lkEjZSYWFh3759R44c+cYbb9TwS8y7GPX29r59+3bFblpaWpUrbs7OzgqFIi0t7UkNGhJvb+\\/MzMyKC6zPfLH+\\/v45OTn1Ek2M+B8ejuP43bS0NG9vb2EjiYStra2Li0vD\\/tnIzMwMCwubPHlyVFTU4496eXmVlpZW9IC5v294e3vn5OSUlJTwuyJ\\/OVZWVlFRUSdPnhQ6SFX8+4O7uzu\\/6+Hh8fDhQ0ETVUOtVh84cODmzZtJSUlDhgzx9PTkh7GJ1t27d8PCwmbOnBkZGSl0lmeQSCR+fn4ifGM8ePDgyJEj3d3dZTLZtGnTrly5kpGRIWCe4uLifv36hYSErFixouZfZd7FaM+ePUtKSo4ePUpEx48fLyws7NWrFxFdvnx57969RCSVSocOHcrPpy4oKIiNjQ0PDxc2c90JDAz09vb+5ptviOjatWvx8fGDBg0iopSUlO3bt\\/NtUlNT+Y179+7FxsZ27dpVqLRC2b9\\/P79OR2hoqMFg+Pnnn4nol19+ycnJ6d27t9Dp6tuxY8f4ya0FBQV5eXn8wR9\\/\\/DEjI6N9+\\/aCRqtDDx486N2795tvvjl9+vTKx0+fPn348GEicnFxeemllzZv3kxEd+\\/ePXTokFm\\/b\\/j5+QUGBm7bto2IUlJS4uLihg4dKnSoqlJTU\\/m\\/DFmWjY2NDQwMFDpRVT4+PsHBwd9\\/\\/z0RabXaw4cPd+7cWehQVZWVlZlMJhsbG51Ot3jx4rffflvoRE+TnZ3dp0+fyMjIyZMnC52leiaTqWIw2++\\/\\/37kyBERfmj6+vrysy2JKC4uTqlUPr6qY70pKyt79dVXW7VqtWbNmr\\/2lfUwo6pO8evRBAcHOzg47Nq1iz+4atWqkJAQfjs1NdXPz699+\\/Zubm6RkZEsywoXts4dP37c2dm5S5cuDg4Oa9eu5Q9+8803TZo04be9vb2bN28eFBRkY2MzceJEk8kkWNY6lpOTo9Fo+OXWNBpNq1at+OOhoaHLli3jt2NjYx0cHIKDg+3t7Xfs2CFc2Prg6urKr8KrVqs1Gg3\\/izBmzJioqCiO4xISEmxsbNq0adOqVSt7e3uznjz+TIsXL2YYRvOHismn06ZNGz58OL996dIlDw+PTp06OTk5LViwQLiwtSMuLs7V1ZV\\/Z1ixYoXQcaoxYcIEFxeXjh07uru7BwYGXrlyRehE1UhISPD09AwJCfHy8ho9erTRaBQ6UVW\\/\\/PKLk5NT+\\/bt1Wp1ZGRkeXm50IkeWbdunUajUSgUlpaWGo3mX\\/\\/6F8dxCxYsqPyb6OrqKmBCvV6v0Wj4Ka12dnaenp4cx\\/FjWlq0aNG2bVuVSrVw4UIBE3IcN3HiRI1GI5fLraysNBoNv1LQvXv3goKCAgICunfvbm9vv3XrVgETbt26le\\/Aim9rRkYGx3Hnz5\\/XaDQ2NjZSqVSj0QwYMKDKFzLcH5cpzVdRUdHNmzebN29esdCrwWAwGo38UqtEZDKZrl69qtFoxHxxqraUlZXduHHD29u7Yk6l0WjU6XT8xRqTyXTr1i2tVtukSZPHbxDQkHAcV3mkuUQi4d9lysrKZDJZxfy+4uLimzdvNmvWjH+0AasyD5QfScYPJVQoFERUWlqalpYmlUqbNm1aseBzg6TVaiuPoaQ\\/ekOv17MsW7GMuV6vv379uouLi6urqwApa5tWq71x44aHh4eTk5PQWaqXnZ197949JycnT09PhmGEjlM9g8Hw+++\\/u7q6uri4CJ2leg8fPrxz546Xl5ezs7PQWf6k0+kqL9arUCiUSmWV30SGYYT9VKr8JlkRpry8PCUlxWg0+vr6Cj7mobS0tPLyCNbW1vxnGcuy6enpJSUlTZs2rah8BGEwGEpLSysfUavVEonEaDQWFxdXHJTJZFVGrjeEYhQAAAAAzJR5jxkFAAAAALOGYhQAAAAABINiFAAAAAAEg2IUAAAAAASDYhQAAAAABINiFAAAAAAEg2IUAAAAAASDYhQAAAAABINiFAAAAAAEg2IUAAAAqnf58uXw8PDbt28LHQQaMhSjAAAAUL2srKyYmJiCggKhg0BDJhM6AEB9yMjI4DjO29u74kh+fn5+fr67u7tCoRAwGACAaJWUlNy\\/f5+I7t27Z2trS0QeHh6WlpZC54KGBmdGoVHYv3+\\/j4\\/Pvn37+N3i4uIuXbqMHDlSIsGvAABA9fbt2xcREUFEAwYMaNasWbNmzZKSkoQOBQ3Q\\/wN2s4vSLH+9YwAAAABJRU5ErkJggg==\\\" \\/>\"},\"nodeType\":\"DOM\",\"type\":\"node\",\"instanceArgs\":{\"namespace\":\"html\",\"tag\":\"div\"},\"children\":[]}]}}}},\"children\":[{\"props\":{},\"nodeType\":\"ObservableNode\",\"type\":\"node\",\"instanceArgs\":{\"id\":\"15940596701849917347\",\"name\":\"obs-node\"},\"children\":[]}]}]},\n",
       "        window,\n",
       "    );\n",
       "    })()\n",
       "    </script>\n",
       "</div>\n"
      ],
      "text/plain": [
       "Node{WebIO.DOM}(WebIO.DOM(:html, :div), Any[Node{WebIO.DOM}(WebIO.DOM(:html, :div), Any[Scope(Node{WebIO.DOM}(WebIO.DOM(:html, :div), Any[Node{WebIO.DOM}(WebIO.DOM(:html, :div), Any[Node{WebIO.DOM}(WebIO.DOM(:html, :label), Any[\"R\"], Dict{Symbol, Any}(:className => \"interact \", :style => Dict{Any, Any}(:padding => \"5px 10px 0px 10px\")))], Dict{Symbol, Any}(:className => \"interact-flex-row-left\")), Node{WebIO.DOM}(WebIO.DOM(:html, :div), Any[Node{WebIO.DOM}(WebIO.DOM(:html, :input), Any[], Dict{Symbol, Any}(:max => 101, :min => 1, :attributes => Dict{Any, Any}(:type => \"range\", Symbol(\"data-bind\") => \"numericValue: index, valueUpdate: 'input', event: {change: function (){this.changes(this.changes()+1)}}\", \"orient\" => \"horizontal\"), :step => 1, :className => \"slider slider is-fullwidth\", :style => Dict{Any, Any}()))], Dict{Symbol, Any}(:className => \"interact-flex-row-center\")), Node{WebIO.DOM}(WebIO.DOM(:html, :div), Any[Node{WebIO.DOM}(WebIO.DOM(:html, :p), Any[], Dict{Symbol, Any}(:attributes => Dict(\"data-bind\" => \"text: formatted_val\")))], Dict{Symbol, Any}(:className => \"interact-flex-row-right\"))], Dict{Symbol, Any}(:className => \"interact-flex-row interact-widget\")), Dict{String, Tuple{Observables.AbstractObservable, Union{Nothing, Bool}}}(\"changes\" => (Observable{Int64} with 1 listeners. Value:\n",
       "0, nothing), \"index\" => (Observable{Any} with 2 listeners. Value:\n",
       "51, nothing)), Set{String}(), nothing, Asset[Asset(\"js\", \"knockout\", \"C:\\\\Users\\\\Camilo\\\\.julia\\\\packages\\\\Knockout\\\\3gjS1\\\\src\\\\..\\\\assets\\\\knockout.js\"), Asset(\"js\", \"knockout_punches\", \"C:\\\\Users\\\\Camilo\\\\.julia\\\\packages\\\\Knockout\\\\3gjS1\\\\src\\\\..\\\\assets\\\\knockout_punches.js\"), Asset(\"js\", nothing, \"C:\\\\Users\\\\Camilo\\\\.julia\\\\packages\\\\InteractBase\\\\h8Fwe\\\\src\\\\..\\\\assets\\\\all.js\"), Asset(\"css\", nothing, \"C:\\\\Users\\\\Camilo\\\\.julia\\\\packages\\\\InteractBase\\\\h8Fwe\\\\src\\\\..\\\\assets\\\\style.css\"), Asset(\"css\", nothing, \"C:\\\\Users\\\\Camilo\\\\.julia\\\\packages\\\\Interact\\\\pVyN2\\\\src\\\\..\\\\assets\\\\bulma_confined.min.css\")], Dict{Any, Any}(\"changes\" => Any[WebIO.JSString(\"(function (val){return (val!=this.model[\\\"changes\\\"]()) ? (this.valueFromJulia[\\\"changes\\\"]=true, this.model[\\\"changes\\\"](val)) : undefined})\")], \"index\" => Any[WebIO.JSString(\"(function (val){return (val!=this.model[\\\"index\\\"]()) ? (this.valueFromJulia[\\\"index\\\"]=true, this.model[\\\"index\\\"](val)) : undefined})\")]), WebIO.ConnectionPool(Channel{Any}(32), Set{AbstractConnection}(), Condition(Base.InvasiveLinkedList{Task}(Task (runnable) @0x000000008a671910, Task (runnable) @0x000000008a671910), Base.AlwaysLockedST(1))), WebIO.JSString[WebIO.JSString(\"function () {\\n    var handler = (function (ko, koPunches) {\\n    ko.punches.enableAll();\\n    ko.bindingHandlers.numericValue = {\\n        init: function(element, valueAccessor, allBindings, data, context) {\\n            var stringified = ko.observable(ko.unwrap(valueAccessor()));\\n            stringified.subscribe(function(value) {\\n                var val = parseFloat(value);\\n                if (!isNaN(val)) {\\n                    valueAccessor()(val);\\n                }\\n            });\\n            valueAccessor().subscribe(function(value) {\\n                var str = JSON.stringify(value);\\n                if ((str == \\\"0\\\") && ([\\\"-0\\\", \\\"-0.\\\"].indexOf(stringified()) >= 0))\\n                     return;\\n                 if ([\\\"null\\\", \\\"\\\"].indexOf(str) >= 0)\\n                     return;\\n                stringified(str);\\n            });\\n            ko.applyBindingsToNode(\\n                element,\\n                {\\n                    value: stringified,\\n                    valueUpdate: allBindings.get('valueUpdate'),\\n                },\\n                context,\\n            );\\n        }\\n    };\\n    var json_data = {\\\"formatted_vals\\\":[\\\"0.0\\\",\\\"0.02\\\",\\\"0.04\\\",\\\"0.06\\\",\\\"0.08\\\",\\\"0.1\\\",\\\"0.12\\\",\\\"0.14\\\",\\\"0.16\\\",\\\"0.18\\\",\\\"0.2\\\",\\\"0.22\\\",\\\"0.24\\\",\\\"0.26\\\",\\\"0.28\\\",\\\"0.3\\\",\\\"0.32\\\",\\\"0.34\\\",\\\"0.36\\\",\\\"0.38\\\",\\\"0.4\\\",\\\"0.42\\\",\\\"0.44\\\",\\\"0.46\\\",\\\"0.48\\\",\\\"0.5\\\",\\\"0.52\\\",\\\"0.54\\\",\\\"0.56\\\",\\\"0.58\\\",\\\"0.6\\\",\\\"0.62\\\",\\\"0.64\\\",\\\"0.66\\\",\\\"0.68\\\",\\\"0.7\\\",\\\"0.72\\\",\\\"0.74\\\",\\\"0.76\\\",\\\"0.78\\\",\\\"0.8\\\",\\\"0.82\\\",\\\"0.84\\\",\\\"0.86\\\",\\\"0.88\\\",\\\"0.9\\\",\\\"0.92\\\",\\\"0.94\\\",\\\"0.96\\\",\\\"0.98\\\",\\\"1.0\\\",\\\"1.02\\\",\\\"1.04\\\",\\\"1.06\\\",\\\"1.08\\\",\\\"1.1\\\",\\\"1.12\\\",\\\"1.14\\\",\\\"1.16\\\",\\\"1.18\\\",\\\"1.2\\\",\\\"1.22\\\",\\\"1.24\\\",\\\"1.26\\\",\\\"1.28\\\",\\\"1.3\\\",\\\"1.32\\\",\\\"1.34\\\",\\\"1.36\\\",\\\"1.38\\\",\\\"1.4\\\",\\\"1.42\\\",\\\"1.44\\\",\\\"1.46\\\",\\\"1.48\\\",\\\"1.5\\\",\\\"1.52\\\",\\\"1.54\\\",\\\"1.56\\\",\\\"1.58\\\",\\\"1.6\\\",\\\"1.62\\\",\\\"1.64\\\",\\\"1.66\\\",\\\"1.68\\\",\\\"1.7\\\",\\\"1.72\\\",\\\"1.74\\\",\\\"1.76\\\",\\\"1.78\\\",\\\"1.8\\\",\\\"1.82\\\",\\\"1.84\\\",\\\"1.86\\\",\\\"1.88\\\",\\\"1.9\\\",\\\"1.92\\\",\\\"1.94\\\",\\\"1.96\\\",\\\"1.98\\\",\\\"2.0\\\"],\\\"changes\\\":WebIO.getval({\\\"name\\\":\\\"changes\\\",\\\"scope\\\":\\\"12237093131708729984\\\",\\\"id\\\":\\\"1243761539175935025\\\",\\\"type\\\":\\\"observable\\\"}),\\\"index\\\":WebIO.getval({\\\"name\\\":\\\"index\\\",\\\"scope\\\":\\\"12237093131708729984\\\",\\\"id\\\":\\\"5678606400129295007\\\",\\\"type\\\":\\\"observable\\\"})};\\n    var self = this;\\n    function AppViewModel() {\\n        for (var key in json_data) {\\n            var el = json_data[key];\\n            this[key] = Array.isArray(el) ? ko.observableArray(el) : ko.observable(el);\\n        }\\n        \\n        [this[\\\"formatted_val\\\"]=ko.computed(    function(){\\n        return this.formatted_vals()[parseInt(this.index())-(1)];\\n    }\\n,this)]\\n        [this[\\\"changes\\\"].subscribe((function (val){!(this.valueFromJulia[\\\"changes\\\"]) ? (WebIO.setval({\\\"name\\\":\\\"changes\\\",\\\"scope\\\":\\\"12237093131708729984\\\",\\\"id\\\":\\\"1243761539175935025\\\",\\\"type\\\":\\\"observable\\\"},val)) : undefined; return this.valueFromJulia[\\\"changes\\\"]=false}),self),this[\\\"index\\\"].subscribe((function (val){!(this.valueFromJulia[\\\"index\\\"]) ? (WebIO.setval({\\\"name\\\":\\\"index\\\",\\\"scope\\\":\\\"12237093131708729984\\\",\\\"id\\\":\\\"5678606400129295007\\\",\\\"type\\\":\\\"observable\\\"},val)) : undefined; return this.valueFromJulia[\\\"index\\\"]=false}),self)]\\n        \\n    }\\n    self.model = new AppViewModel();\\n    self.valueFromJulia = {};\\n    for (var key in json_data) {\\n        self.valueFromJulia[key] = false;\\n    }\\n    ko.applyBindings(self.model, self.dom);\\n}\\n);\\n    (WebIO.importBlock({\\\"data\\\":[{\\\"name\\\":\\\"knockout\\\",\\\"type\\\":\\\"js\\\",\\\"url\\\":\\\"/assetserver/2712bb0a7395d062608c2f218a74b700f6c76b99-knockout.js\\\"},{\\\"name\\\":\\\"knockout_punches\\\",\\\"type\\\":\\\"js\\\",\\\"url\\\":\\\"/assetserver/fb4445501a2be4ab82176667f844e40da26fa007-knockout_punches.js\\\"}],\\\"type\\\":\\\"async_block\\\"})).then((imports) => handler.apply(this, imports));\\n}\\n\")])], Dict{Symbol, Any}(:className => \"field interact-widget\")), Node{WebIO.DOM}(WebIO.DOM(:html, :div), Any[Scope(Node{WebIO.DOM}(WebIO.DOM(:html, :div), Any[Node{WebIO.DOM}(WebIO.DOM(:html, :div), Any[Node{WebIO.DOM}(WebIO.DOM(:html, :label), Any[\"K\"], Dict{Symbol, Any}(:className => \"interact \", :style => Dict{Any, Any}(:padding => \"5px 10px 0px 10px\")))], Dict{Symbol, Any}(:className => \"interact-flex-row-left\")), Node{WebIO.DOM}(WebIO.DOM(:html, :div), Any[Node{WebIO.DOM}(WebIO.DOM(:html, :input), Any[], Dict{Symbol, Any}(:max => 200, :min => 1, :attributes => Dict{Any, Any}(:type => \"range\", Symbol(\"data-bind\") => \"numericValue: index, valueUpdate: 'input', event: {change: function (){this.changes(this.changes()+1)}}\", \"orient\" => \"horizontal\"), :step => 1, :className => \"slider slider is-fullwidth\", :style => Dict{Any, Any}()))], Dict{Symbol, Any}(:className => \"interact-flex-row-center\")), Node{WebIO.DOM}(WebIO.DOM(:html, :div), Any[Node{WebIO.DOM}(WebIO.DOM(:html, :p), Any[], Dict{Symbol, Any}(:attributes => Dict(\"data-bind\" => \"text: formatted_val\")))], Dict{Symbol, Any}(:className => \"interact-flex-row-right\"))], Dict{Symbol, Any}(:className => \"interact-flex-row interact-widget\")), Dict{String, Tuple{Observables.AbstractObservable, Union{Nothing, Bool}}}(\"changes\" => (Observable{Int64} with 1 listeners. Value:\n",
       "0, nothing), \"index\" => (Observable{Any} with 2 listeners. Value:\n",
       "100, nothing)), Set{String}(), nothing, Asset[Asset(\"js\", \"knockout\", \"C:\\\\Users\\\\Camilo\\\\.julia\\\\packages\\\\Knockout\\\\3gjS1\\\\src\\\\..\\\\assets\\\\knockout.js\"), Asset(\"js\", \"knockout_punches\", \"C:\\\\Users\\\\Camilo\\\\.julia\\\\packages\\\\Knockout\\\\3gjS1\\\\src\\\\..\\\\assets\\\\knockout_punches.js\"), Asset(\"js\", nothing, \"C:\\\\Users\\\\Camilo\\\\.julia\\\\packages\\\\InteractBase\\\\h8Fwe\\\\src\\\\..\\\\assets\\\\all.js\"), Asset(\"css\", nothing, \"C:\\\\Users\\\\Camilo\\\\.julia\\\\packages\\\\InteractBase\\\\h8Fwe\\\\src\\\\..\\\\assets\\\\style.css\"), Asset(\"css\", nothing, \"C:\\\\Users\\\\Camilo\\\\.julia\\\\packages\\\\Interact\\\\pVyN2\\\\src\\\\..\\\\assets\\\\bulma_confined.min.css\")], Dict{Any, Any}(\"changes\" => Any[WebIO.JSString(\"(function (val){return (val!=this.model[\\\"changes\\\"]()) ? (this.valueFromJulia[\\\"changes\\\"]=true, this.model[\\\"changes\\\"](val)) : undefined})\")], \"index\" => Any[WebIO.JSString(\"(function (val){return (val!=this.model[\\\"index\\\"]()) ? (this.valueFromJulia[\\\"index\\\"]=true, this.model[\\\"index\\\"](val)) : undefined})\")]), WebIO.ConnectionPool(Channel{Any}(32), Set{AbstractConnection}(), Condition(Base.InvasiveLinkedList{Task}(Task (runnable) @0x000000008a601aa0, Task (runnable) @0x000000008a601aa0), Base.AlwaysLockedST(1))), WebIO.JSString[WebIO.JSString(\"function () {\\n    var handler = (function (ko, koPunches) {\\n    ko.punches.enableAll();\\n    ko.bindingHandlers.numericValue = {\\n        init: function(element, valueAccessor, allBindings, data, context) {\\n            var stringified = ko.observable(ko.unwrap(valueAccessor()));\\n            stringified.subscribe(function(value) {\\n                var val = parseFloat(value);\\n                if (!isNaN(val)) {\\n                    valueAccessor()(val);\\n                }\\n            });\\n            valueAccessor().subscribe(function(value) {\\n                var str = JSON.stringify(value);\\n                if ((str == \\\"0\\\") && ([\\\"-0\\\", \\\"-0.\\\"].indexOf(stringified()) >= 0))\\n                     return;\\n                 if ([\\\"null\\\", \\\"\\\"].indexOf(str) >= 0)\\n                     return;\\n                stringified(str);\\n            });\\n            ko.applyBindingsToNode(\\n                element,\\n                {\\n                    value: stringified,\\n                    valueUpdate: allBindings.get('valueUpdate'),\\n                },\\n                context,\\n            );\\n        }\\n    };\\n    var json_data = {\\\"formatted_vals\\\":[\\\"0.01\\\",\\\"0.02\\\",\\\"0.03\\\",\\\"0.04\\\",\\\"0.05\\\",\\\"0.06\\\",\\\"0.07\\\",\\\"0.08\\\",\\\"0.09\\\",\\\"0.1\\\",\\\"0.11\\\",\\\"0.12\\\",\\\"0.13\\\",\\\"0.14\\\",\\\"0.15\\\",\\\"0.16\\\",\\\"0.17\\\",\\\"0.18\\\",\\\"0.19\\\",\\\"0.2\\\",\\\"0.21\\\",\\\"0.22\\\",\\\"0.23\\\",\\\"0.24\\\",\\\"0.25\\\",\\\"0.26\\\",\\\"0.27\\\",\\\"0.28\\\",\\\"0.29\\\",\\\"0.3\\\",\\\"0.31\\\",\\\"0.32\\\",\\\"0.33\\\",\\\"0.34\\\",\\\"0.35\\\",\\\"0.36\\\",\\\"0.37\\\",\\\"0.38\\\",\\\"0.39\\\",\\\"0.4\\\",\\\"0.41\\\",\\\"0.42\\\",\\\"0.43\\\",\\\"0.44\\\",\\\"0.45\\\",\\\"0.46\\\",\\\"0.47\\\",\\\"0.48\\\",\\\"0.49\\\",\\\"0.5\\\",\\\"0.51\\\",\\\"0.52\\\",\\\"0.53\\\",\\\"0.54\\\",\\\"0.55\\\",\\\"0.56\\\",\\\"0.57\\\",\\\"0.58\\\",\\\"0.59\\\",\\\"0.6\\\",\\\"0.61\\\",\\\"0.62\\\",\\\"0.63\\\",\\\"0.64\\\",\\\"0.65\\\",\\\"0.66\\\",\\\"0.67\\\",\\\"0.68\\\",\\\"0.69\\\",\\\"0.7\\\",\\\"0.71\\\",\\\"0.72\\\",\\\"0.73\\\",\\\"0.74\\\",\\\"0.75\\\",\\\"0.76\\\",\\\"0.77\\\",\\\"0.78\\\",\\\"0.79\\\",\\\"0.8\\\",\\\"0.81\\\",\\\"0.82\\\",\\\"0.83\\\",\\\"0.84\\\",\\\"0.85\\\",\\\"0.86\\\",\\\"0.87\\\",\\\"0.88\\\",\\\"0.89\\\",\\\"0.9\\\",\\\"0.91\\\",\\\"0.92\\\",\\\"0.93\\\",\\\"0.94\\\",\\\"0.95\\\",\\\"0.96\\\",\\\"0.97\\\",\\\"0.98\\\",\\\"0.99\\\",\\\"1.0\\\",\\\"1.01\\\",\\\"1.02\\\",\\\"1.03\\\",\\\"1.04\\\",\\\"1.05\\\",\\\"1.06\\\",\\\"1.07\\\",\\\"1.08\\\",\\\"1.09\\\",\\\"1.1\\\",\\\"1.11\\\",\\\"1.12\\\",\\\"1.13\\\",\\\"1.14\\\",\\\"1.15\\\",\\\"1.16\\\",\\\"1.17\\\",\\\"1.18\\\",\\\"1.19\\\",\\\"1.2\\\",\\\"1.21\\\",\\\"1.22\\\",\\\"1.23\\\",\\\"1.24\\\",\\\"1.25\\\",\\\"1.26\\\",\\\"1.27\\\",\\\"1.28\\\",\\\"1.29\\\",\\\"1.3\\\",\\\"1.31\\\",\\\"1.32\\\",\\\"1.33\\\",\\\"1.34\\\",\\\"1.35\\\",\\\"1.36\\\",\\\"1.37\\\",\\\"1.38\\\",\\\"1.39\\\",\\\"1.4\\\",\\\"1.41\\\",\\\"1.42\\\",\\\"1.43\\\",\\\"1.44\\\",\\\"1.45\\\",\\\"1.46\\\",\\\"1.47\\\",\\\"1.48\\\",\\\"1.49\\\",\\\"1.5\\\",\\\"1.51\\\",\\\"1.52\\\",\\\"1.53\\\",\\\"1.54\\\",\\\"1.55\\\",\\\"1.56\\\",\\\"1.57\\\",\\\"1.58\\\",\\\"1.59\\\",\\\"1.6\\\",\\\"1.61\\\",\\\"1.62\\\",\\\"1.63\\\",\\\"1.64\\\",\\\"1.65\\\",\\\"1.66\\\",\\\"1.67\\\",\\\"1.68\\\",\\\"1.69\\\",\\\"1.7\\\",\\\"1.71\\\",\\\"1.72\\\",\\\"1.73\\\",\\\"1.74\\\",\\\"1.75\\\",\\\"1.76\\\",\\\"1.77\\\",\\\"1.78\\\",\\\"1.79\\\",\\\"1.8\\\",\\\"1.81\\\",\\\"1.82\\\",\\\"1.83\\\",\\\"1.84\\\",\\\"1.85\\\",\\\"1.86\\\",\\\"1.87\\\",\\\"1.88\\\",\\\"1.89\\\",\\\"1.9\\\",\\\"1.91\\\",\\\"1.92\\\",\\\"1.93\\\",\\\"1.94\\\",\\\"1.95\\\",\\\"1.96\\\",\\\"1.97\\\",\\\"1.98\\\",\\\"1.99\\\",\\\"2.0\\\"],\\\"changes\\\":WebIO.getval({\\\"name\\\":\\\"changes\\\",\\\"scope\\\":\\\"1005215311942123234\\\",\\\"id\\\":\\\"18398655189247060278\\\",\\\"type\\\":\\\"observable\\\"}),\\\"index\\\":WebIO.getval({\\\"name\\\":\\\"index\\\",\\\"scope\\\":\\\"1005215311942123234\\\",\\\"id\\\":\\\"11458423742931576318\\\",\\\"type\\\":\\\"observable\\\"})};\\n    var self = this;\\n    function AppViewModel() {\\n        for (var key in json_data) {\\n            var el = json_data[key];\\n            this[key] = Array.isArray(el) ? ko.observableArray(el) : ko.observable(el);\\n        }\\n        \\n        [this[\\\"formatted_val\\\"]=ko.computed(    function(){\\n        return this.formatted_vals()[parseInt(this.index())-(1)];\\n    }\\n,this)]\\n        [this[\\\"changes\\\"].subscribe((function (val){!(this.valueFromJulia[\\\"changes\\\"]) ? (WebIO.setval({\\\"name\\\":\\\"changes\\\",\\\"scope\\\":\\\"1005215311942123234\\\",\\\"id\\\":\\\"18398655189247060278\\\",\\\"type\\\":\\\"observable\\\"},val)) : undefined; return this.valueFromJulia[\\\"changes\\\"]=false}),self),this[\\\"index\\\"].subscribe((function (val){!(this.valueFromJulia[\\\"index\\\"]) ? (WebIO.setval({\\\"name\\\":\\\"index\\\",\\\"scope\\\":\\\"1005215311942123234\\\",\\\"id\\\":\\\"11458423742931576318\\\",\\\"type\\\":\\\"observable\\\"},val)) : undefined; return this.valueFromJulia[\\\"index\\\"]=false}),self)]\\n        \\n    }\\n    self.model = new AppViewModel();\\n    self.valueFromJulia = {};\\n    for (var key in json_data) {\\n        self.valueFromJulia[key] = false;\\n    }\\n    ko.applyBindings(self.model, self.dom);\\n}\\n);\\n    (WebIO.importBlock({\\\"data\\\":[{\\\"name\\\":\\\"knockout\\\",\\\"type\\\":\\\"js\\\",\\\"url\\\":\\\"/assetserver/2712bb0a7395d062608c2f218a74b700f6c76b99-knockout.js\\\"},{\\\"name\\\":\\\"knockout_punches\\\",\\\"type\\\":\\\"js\\\",\\\"url\\\":\\\"/assetserver/fb4445501a2be4ab82176667f844e40da26fa007-knockout_punches.js\\\"}],\\\"type\\\":\\\"async_block\\\"})).then((imports) => handler.apply(this, imports));\\n}\\n\")])], Dict{Symbol, Any}(:className => \"field interact-widget\")), Node{WebIO.DOM}(WebIO.DOM(:html, :div), Any[Scope(Node{WebIO.DOM}(WebIO.DOM(:html, :div), Any[Node{WebIO.DOM}(WebIO.DOM(:html, :div), Any[Node{WebIO.DOM}(WebIO.DOM(:html, :label), Any[\"H\"], Dict{Symbol, Any}(:className => \"interact \", :style => Dict{Any, Any}(:padding => \"5px 10px 0px 10px\")))], Dict{Symbol, Any}(:className => \"interact-flex-row-left\")), Node{WebIO.DOM}(WebIO.DOM(:html, :div), Any[Node{WebIO.DOM}(WebIO.DOM(:html, :input), Any[], Dict{Symbol, Any}(:max => 51, :min => 1, :attributes => Dict{Any, Any}(:type => \"range\", Symbol(\"data-bind\") => \"numericValue: index, valueUpdate: 'input', event: {change: function (){this.changes(this.changes()+1)}}\", \"orient\" => \"horizontal\"), :step => 1, :className => \"slider slider is-fullwidth\", :style => Dict{Any, Any}()))], Dict{Symbol, Any}(:className => \"interact-flex-row-center\")), Node{WebIO.DOM}(WebIO.DOM(:html, :div), Any[Node{WebIO.DOM}(WebIO.DOM(:html, :p), Any[], Dict{Symbol, Any}(:attributes => Dict(\"data-bind\" => \"text: formatted_val\")))], Dict{Symbol, Any}(:className => \"interact-flex-row-right\"))], Dict{Symbol, Any}(:className => \"interact-flex-row interact-widget\")), Dict{String, Tuple{Observables.AbstractObservable, Union{Nothing, Bool}}}(\"changes\" => (Observable{Int64} with 1 listeners. Value:\n",
       "0, nothing), \"index\" => (Observable{Any} with 2 listeners. Value:\n",
       "26, nothing)), Set{String}(), nothing, Asset[Asset(\"js\", \"knockout\", \"C:\\\\Users\\\\Camilo\\\\.julia\\\\packages\\\\Knockout\\\\3gjS1\\\\src\\\\..\\\\assets\\\\knockout.js\"), Asset(\"js\", \"knockout_punches\", \"C:\\\\Users\\\\Camilo\\\\.julia\\\\packages\\\\Knockout\\\\3gjS1\\\\src\\\\..\\\\assets\\\\knockout_punches.js\"), Asset(\"js\", nothing, \"C:\\\\Users\\\\Camilo\\\\.julia\\\\packages\\\\InteractBase\\\\h8Fwe\\\\src\\\\..\\\\assets\\\\all.js\"), Asset(\"css\", nothing, \"C:\\\\Users\\\\Camilo\\\\.julia\\\\packages\\\\InteractBase\\\\h8Fwe\\\\src\\\\..\\\\assets\\\\style.css\"), Asset(\"css\", nothing, \"C:\\\\Users\\\\Camilo\\\\.julia\\\\packages\\\\Interact\\\\pVyN2\\\\src\\\\..\\\\assets\\\\bulma_confined.min.css\")], Dict{Any, Any}(\"changes\" => Any[WebIO.JSString(\"(function (val){return (val!=this.model[\\\"changes\\\"]()) ? (this.valueFromJulia[\\\"changes\\\"]=true, this.model[\\\"changes\\\"](val)) : undefined})\")], \"index\" => Any[WebIO.JSString(\"(function (val){return (val!=this.model[\\\"index\\\"]()) ? (this.valueFromJulia[\\\"index\\\"]=true, this.model[\\\"index\\\"](val)) : undefined})\")]), WebIO.ConnectionPool(Channel{Any}(32), Set{AbstractConnection}(), Condition(Base.InvasiveLinkedList{Task}(Task (runnable) @0x000000008a519c30, Task (runnable) @0x000000008a519c30), Base.AlwaysLockedST(1))), WebIO.JSString[WebIO.JSString(\"function () {\\n    var handler = (function (ko, koPunches) {\\n    ko.punches.enableAll();\\n    ko.bindingHandlers.numericValue = {\\n        init: function(element, valueAccessor, allBindings, data, context) {\\n            var stringified = ko.observable(ko.unwrap(valueAccessor()));\\n            stringified.subscribe(function(value) {\\n                var val = parseFloat(value);\\n                if (!isNaN(val)) {\\n                    valueAccessor()(val);\\n                }\\n            });\\n            valueAccessor().subscribe(function(value) {\\n                var str = JSON.stringify(value);\\n                if ((str == \\\"0\\\") && ([\\\"-0\\\", \\\"-0.\\\"].indexOf(stringified()) >= 0))\\n                     return;\\n                 if ([\\\"null\\\", \\\"\\\"].indexOf(str) >= 0)\\n                     return;\\n                stringified(str);\\n            });\\n            ko.applyBindingsToNode(\\n                element,\\n                {\\n                    value: stringified,\\n                    valueUpdate: allBindings.get('valueUpdate'),\\n                },\\n                context,\\n            );\\n        }\\n    };\\n    var json_data = {\\\"formatted_vals\\\":[\\\"0.0\\\",\\\"0.01\\\",\\\"0.02\\\",\\\"0.03\\\",\\\"0.04\\\",\\\"0.05\\\",\\\"0.06\\\",\\\"0.07\\\",\\\"0.08\\\",\\\"0.09\\\",\\\"0.1\\\",\\\"0.11\\\",\\\"0.12\\\",\\\"0.13\\\",\\\"0.14\\\",\\\"0.15\\\",\\\"0.16\\\",\\\"0.17\\\",\\\"0.18\\\",\\\"0.19\\\",\\\"0.2\\\",\\\"0.21\\\",\\\"0.22\\\",\\\"0.23\\\",\\\"0.24\\\",\\\"0.25\\\",\\\"0.26\\\",\\\"0.27\\\",\\\"0.28\\\",\\\"0.29\\\",\\\"0.3\\\",\\\"0.31\\\",\\\"0.32\\\",\\\"0.33\\\",\\\"0.34\\\",\\\"0.35\\\",\\\"0.36\\\",\\\"0.37\\\",\\\"0.38\\\",\\\"0.39\\\",\\\"0.4\\\",\\\"0.41\\\",\\\"0.42\\\",\\\"0.43\\\",\\\"0.44\\\",\\\"0.45\\\",\\\"0.46\\\",\\\"0.47\\\",\\\"0.48\\\",\\\"0.49\\\",\\\"0.5\\\"],\\\"changes\\\":WebIO.getval({\\\"name\\\":\\\"changes\\\",\\\"scope\\\":\\\"17424577962348644107\\\",\\\"id\\\":\\\"4170441215540915838\\\",\\\"type\\\":\\\"observable\\\"}),\\\"index\\\":WebIO.getval({\\\"name\\\":\\\"index\\\",\\\"scope\\\":\\\"17424577962348644107\\\",\\\"id\\\":\\\"6998936633805940167\\\",\\\"type\\\":\\\"observable\\\"})};\\n    var self = this;\\n    function AppViewModel() {\\n        for (var key in json_data) {\\n            var el = json_data[key];\\n            this[key] = Array.isArray(el) ? ko.observableArray(el) : ko.observable(el);\\n        }\\n        \\n        [this[\\\"formatted_val\\\"]=ko.computed(    function(){\\n        return this.formatted_vals()[parseInt(this.index())-(1)];\\n    }\\n,this)]\\n        [this[\\\"changes\\\"].subscribe((function (val){!(this.valueFromJulia[\\\"changes\\\"]) ? (WebIO.setval({\\\"name\\\":\\\"changes\\\",\\\"scope\\\":\\\"17424577962348644107\\\",\\\"id\\\":\\\"4170441215540915838\\\",\\\"type\\\":\\\"observable\\\"},val)) : undefined; return this.valueFromJulia[\\\"changes\\\"]=false}),self),this[\\\"index\\\"].subscribe((function (val){!(this.valueFromJulia[\\\"index\\\"]) ? (WebIO.setval({\\\"name\\\":\\\"index\\\",\\\"scope\\\":\\\"17424577962348644107\\\",\\\"id\\\":\\\"6998936633805940167\\\",\\\"type\\\":\\\"observable\\\"},val)) : undefined; return this.valueFromJulia[\\\"index\\\"]=false}),self)]\\n        \\n    }\\n    self.model = new AppViewModel();\\n    self.valueFromJulia = {};\\n    for (var key in json_data) {\\n        self.valueFromJulia[key] = false;\\n    }\\n    ko.applyBindings(self.model, self.dom);\\n}\\n);\\n    (WebIO.importBlock({\\\"data\\\":[{\\\"name\\\":\\\"knockout\\\",\\\"type\\\":\\\"js\\\",\\\"url\\\":\\\"/assetserver/2712bb0a7395d062608c2f218a74b700f6c76b99-knockout.js\\\"},{\\\"name\\\":\\\"knockout_punches\\\",\\\"type\\\":\\\"js\\\",\\\"url\\\":\\\"/assetserver/fb4445501a2be4ab82176667f844e40da26fa007-knockout_punches.js\\\"}],\\\"type\\\":\\\"async_block\\\"})).then((imports) => handler.apply(this, imports));\\n}\\n\")])], Dict{Symbol, Any}(:className => \"field interact-widget\")), Node{WebIO.DOM}(WebIO.DOM(:html, :div), Any[Scope(Node{WebIO.DOM}(WebIO.DOM(:html, :div), Any[Node{WebIO.DOM}(WebIO.DOM(:html, :div), Any[Node{WebIO.DOM}(WebIO.DOM(:html, :label), Any[\"x0\"], Dict{Symbol, Any}(:className => \"interact \", :style => Dict{Any, Any}(:padding => \"5px 10px 0px 10px\")))], Dict{Symbol, Any}(:className => \"interact-flex-row-left\")), Node{WebIO.DOM}(WebIO.DOM(:html, :div), Any[Node{WebIO.DOM}(WebIO.DOM(:html, :input), Any[], Dict{Symbol, Any}(:max => 101, :min => 1, :attributes => Dict{Any, Any}(:type => \"range\", Symbol(\"data-bind\") => \"numericValue: index, valueUpdate: 'input', event: {change: function (){this.changes(this.changes()+1)}}\", \"orient\" => \"horizontal\"), :step => 1, :className => \"slider slider is-fullwidth\", :style => Dict{Any, Any}()))], Dict{Symbol, Any}(:className => \"interact-flex-row-center\")), Node{WebIO.DOM}(WebIO.DOM(:html, :div), Any[Node{WebIO.DOM}(WebIO.DOM(:html, :p), Any[], Dict{Symbol, Any}(:attributes => Dict(\"data-bind\" => \"text: formatted_val\")))], Dict{Symbol, Any}(:className => \"interact-flex-row-right\"))], Dict{Symbol, Any}(:className => \"interact-flex-row interact-widget\")), Dict{String, Tuple{Observables.AbstractObservable, Union{Nothing, Bool}}}(\"changes\" => (Observable{Int64} with 1 listeners. Value:\n",
       "0, nothing), \"index\" => (Observable{Any} with 2 listeners. Value:\n",
       "51, nothing)), Set{String}(), nothing, Asset[Asset(\"js\", \"knockout\", \"C:\\\\Users\\\\Camilo\\\\.julia\\\\packages\\\\Knockout\\\\3gjS1\\\\src\\\\..\\\\assets\\\\knockout.js\"), Asset(\"js\", \"knockout_punches\", \"C:\\\\Users\\\\Camilo\\\\.julia\\\\packages\\\\Knockout\\\\3gjS1\\\\src\\\\..\\\\assets\\\\knockout_punches.js\"), Asset(\"js\", nothing, \"C:\\\\Users\\\\Camilo\\\\.julia\\\\packages\\\\InteractBase\\\\h8Fwe\\\\src\\\\..\\\\assets\\\\all.js\"), Asset(\"css\", nothing, \"C:\\\\Users\\\\Camilo\\\\.julia\\\\packages\\\\InteractBase\\\\h8Fwe\\\\src\\\\..\\\\assets\\\\style.css\"), Asset(\"css\", nothing, \"C:\\\\Users\\\\Camilo\\\\.julia\\\\packages\\\\Interact\\\\pVyN2\\\\src\\\\..\\\\assets\\\\bulma_confined.min.css\")], Dict{Any, Any}(\"changes\" => Any[WebIO.JSString(\"(function (val){return (val!=this.model[\\\"changes\\\"]()) ? (this.valueFromJulia[\\\"changes\\\"]=true, this.model[\\\"changes\\\"](val)) : undefined})\")], \"index\" => Any[WebIO.JSString(\"(function (val){return (val!=this.model[\\\"index\\\"]()) ? (this.valueFromJulia[\\\"index\\\"]=true, this.model[\\\"index\\\"](val)) : undefined})\")]), WebIO.ConnectionPool(Channel{Any}(32), Set{AbstractConnection}(), Condition(Base.InvasiveLinkedList{Task}(Task (runnable) @0x000000008a4dddc0, Task (runnable) @0x000000008a4dddc0), Base.AlwaysLockedST(1))), WebIO.JSString[WebIO.JSString(\"function () {\\n    var handler = (function (ko, koPunches) {\\n    ko.punches.enableAll();\\n    ko.bindingHandlers.numericValue = {\\n        init: function(element, valueAccessor, allBindings, data, context) {\\n            var stringified = ko.observable(ko.unwrap(valueAccessor()));\\n            stringified.subscribe(function(value) {\\n                var val = parseFloat(value);\\n                if (!isNaN(val)) {\\n                    valueAccessor()(val);\\n                }\\n            });\\n            valueAccessor().subscribe(function(value) {\\n                var str = JSON.stringify(value);\\n                if ((str == \\\"0\\\") && ([\\\"-0\\\", \\\"-0.\\\"].indexOf(stringified()) >= 0))\\n                     return;\\n                 if ([\\\"null\\\", \\\"\\\"].indexOf(str) >= 0)\\n                     return;\\n                stringified(str);\\n            });\\n            ko.applyBindingsToNode(\\n                element,\\n                {\\n                    value: stringified,\\n                    valueUpdate: allBindings.get('valueUpdate'),\\n                },\\n                context,\\n            );\\n        }\\n    };\\n    var json_data = {\\\"formatted_vals\\\":[\\\"0.0\\\",\\\"0.02\\\",\\\"0.04\\\",\\\"0.06\\\",\\\"0.08\\\",\\\"0.1\\\",\\\"0.12\\\",\\\"0.14\\\",\\\"0.16\\\",\\\"0.18\\\",\\\"0.2\\\",\\\"0.22\\\",\\\"0.24\\\",\\\"0.26\\\",\\\"0.28\\\",\\\"0.3\\\",\\\"0.32\\\",\\\"0.34\\\",\\\"0.36\\\",\\\"0.38\\\",\\\"0.4\\\",\\\"0.42\\\",\\\"0.44\\\",\\\"0.46\\\",\\\"0.48\\\",\\\"0.5\\\",\\\"0.52\\\",\\\"0.54\\\",\\\"0.56\\\",\\\"0.58\\\",\\\"0.6\\\",\\\"0.62\\\",\\\"0.64\\\",\\\"0.66\\\",\\\"0.68\\\",\\\"0.7\\\",\\\"0.72\\\",\\\"0.74\\\",\\\"0.76\\\",\\\"0.78\\\",\\\"0.8\\\",\\\"0.82\\\",\\\"0.84\\\",\\\"0.86\\\",\\\"0.88\\\",\\\"0.9\\\",\\\"0.92\\\",\\\"0.94\\\",\\\"0.96\\\",\\\"0.98\\\",\\\"1.0\\\",\\\"1.02\\\",\\\"1.04\\\",\\\"1.06\\\",\\\"1.08\\\",\\\"1.1\\\",\\\"1.12\\\",\\\"1.14\\\",\\\"1.16\\\",\\\"1.18\\\",\\\"1.2\\\",\\\"1.22\\\",\\\"1.24\\\",\\\"1.26\\\",\\\"1.28\\\",\\\"1.3\\\",\\\"1.32\\\",\\\"1.34\\\",\\\"1.36\\\",\\\"1.38\\\",\\\"1.4\\\",\\\"1.42\\\",\\\"1.44\\\",\\\"1.46\\\",\\\"1.48\\\",\\\"1.5\\\",\\\"1.52\\\",\\\"1.54\\\",\\\"1.56\\\",\\\"1.58\\\",\\\"1.6\\\",\\\"1.62\\\",\\\"1.64\\\",\\\"1.66\\\",\\\"1.68\\\",\\\"1.7\\\",\\\"1.72\\\",\\\"1.74\\\",\\\"1.76\\\",\\\"1.78\\\",\\\"1.8\\\",\\\"1.82\\\",\\\"1.84\\\",\\\"1.86\\\",\\\"1.88\\\",\\\"1.9\\\",\\\"1.92\\\",\\\"1.94\\\",\\\"1.96\\\",\\\"1.98\\\",\\\"2.0\\\"],\\\"changes\\\":WebIO.getval({\\\"name\\\":\\\"changes\\\",\\\"scope\\\":\\\"6190959811095594612\\\",\\\"id\\\":\\\"15432487282891538261\\\",\\\"type\\\":\\\"observable\\\"}),\\\"index\\\":WebIO.getval({\\\"name\\\":\\\"index\\\",\\\"scope\\\":\\\"6190959811095594612\\\",\\\"id\\\":\\\"14108817306263894304\\\",\\\"type\\\":\\\"observable\\\"})};\\n    var self = this;\\n    function AppViewModel() {\\n        for (var key in json_data) {\\n            var el = json_data[key];\\n            this[key] = Array.isArray(el) ? ko.observableArray(el) : ko.observable(el);\\n        }\\n        \\n        [this[\\\"formatted_val\\\"]=ko.computed(    function(){\\n        return this.formatted_vals()[parseInt(this.index())-(1)];\\n    }\\n,this)]\\n        [this[\\\"changes\\\"].subscribe((function (val){!(this.valueFromJulia[\\\"changes\\\"]) ? (WebIO.setval({\\\"name\\\":\\\"changes\\\",\\\"scope\\\":\\\"6190959811095594612\\\",\\\"id\\\":\\\"15432487282891538261\\\",\\\"type\\\":\\\"observable\\\"},val)) : undefined; return this.valueFromJulia[\\\"changes\\\"]=false}),self),this[\\\"index\\\"].subscribe((function (val){!(this.valueFromJulia[\\\"index\\\"]) ? (WebIO.setval({\\\"name\\\":\\\"index\\\",\\\"scope\\\":\\\"6190959811095594612\\\",\\\"id\\\":\\\"14108817306263894304\\\",\\\"type\\\":\\\"observable\\\"},val)) : undefined; return this.valueFromJulia[\\\"index\\\"]=false}),self)]\\n        \\n    }\\n    self.model = new AppViewModel();\\n    self.valueFromJulia = {};\\n    for (var key in json_data) {\\n        self.valueFromJulia[key] = false;\\n    }\\n    ko.applyBindings(self.model, self.dom);\\n}\\n);\\n    (WebIO.importBlock({\\\"data\\\":[{\\\"name\\\":\\\"knockout\\\",\\\"type\\\":\\\"js\\\",\\\"url\\\":\\\"/assetserver/2712bb0a7395d062608c2f218a74b700f6c76b99-knockout.js\\\"},{\\\"name\\\":\\\"knockout_punches\\\",\\\"type\\\":\\\"js\\\",\\\"url\\\":\\\"/assetserver/fb4445501a2be4ab82176667f844e40da26fa007-knockout_punches.js\\\"}],\\\"type\\\":\\\"async_block\\\"})).then((imports) => handler.apply(this, imports));\\n}\\n\")])], Dict{Symbol, Any}(:className => \"field interact-widget\")), Node{WebIO.DOM}(WebIO.DOM(:html, :div), Any[Scope(Node{WebIO.DOM}(WebIO.DOM(:html, :div), Any[Node{WebIO.DOM}(WebIO.DOM(:html, :div), Any[Node{WebIO.DOM}(WebIO.DOM(:html, :label), Any[\"tmax\"], Dict{Symbol, Any}(:className => \"interact \", :style => Dict{Any, Any}(:padding => \"5px 10px 0px 10px\")))], Dict{Symbol, Any}(:className => \"interact-flex-row-left\")), Node{WebIO.DOM}(WebIO.DOM(:html, :div), Any[Node{WebIO.DOM}(WebIO.DOM(:html, :input), Any[], Dict{Symbol, Any}(:max => 10, :min => 1, :attributes => Dict{Any, Any}(:type => \"range\", Symbol(\"data-bind\") => \"numericValue: index, valueUpdate: 'input', event: {change: function (){this.changes(this.changes()+1)}}\", \"orient\" => \"horizontal\"), :step => 1, :className => \"slider slider is-fullwidth\", :style => Dict{Any, Any}()))], Dict{Symbol, Any}(:className => \"interact-flex-row-center\")), Node{WebIO.DOM}(WebIO.DOM(:html, :div), Any[Node{WebIO.DOM}(WebIO.DOM(:html, :p), Any[], Dict{Symbol, Any}(:attributes => Dict(\"data-bind\" => \"text: formatted_val\")))], Dict{Symbol, Any}(:className => \"interact-flex-row-right\"))], Dict{Symbol, Any}(:className => \"interact-flex-row interact-widget\")), Dict{String, Tuple{Observables.AbstractObservable, Union{Nothing, Bool}}}(\"changes\" => (Observable{Int64} with 1 listeners. Value:\n",
       "0, nothing), \"index\" => (Observable{Any} with 2 listeners. Value:\n",
       "5, nothing)), Set{String}(), nothing, Asset[Asset(\"js\", \"knockout\", \"C:\\\\Users\\\\Camilo\\\\.julia\\\\packages\\\\Knockout\\\\3gjS1\\\\src\\\\..\\\\assets\\\\knockout.js\"), Asset(\"js\", \"knockout_punches\", \"C:\\\\Users\\\\Camilo\\\\.julia\\\\packages\\\\Knockout\\\\3gjS1\\\\src\\\\..\\\\assets\\\\knockout_punches.js\"), Asset(\"js\", nothing, \"C:\\\\Users\\\\Camilo\\\\.julia\\\\packages\\\\InteractBase\\\\h8Fwe\\\\src\\\\..\\\\assets\\\\all.js\"), Asset(\"css\", nothing, \"C:\\\\Users\\\\Camilo\\\\.julia\\\\packages\\\\InteractBase\\\\h8Fwe\\\\src\\\\..\\\\assets\\\\style.css\"), Asset(\"css\", nothing, \"C:\\\\Users\\\\Camilo\\\\.julia\\\\packages\\\\Interact\\\\pVyN2\\\\src\\\\..\\\\assets\\\\bulma_confined.min.css\")], Dict{Any, Any}(\"changes\" => Any[WebIO.JSString(\"(function (val){return (val!=this.model[\\\"changes\\\"]()) ? (this.valueFromJulia[\\\"changes\\\"]=true, this.model[\\\"changes\\\"](val)) : undefined})\")], \"index\" => Any[WebIO.JSString(\"(function (val){return (val!=this.model[\\\"index\\\"]()) ? (this.valueFromJulia[\\\"index\\\"]=true, this.model[\\\"index\\\"](val)) : undefined})\")]), WebIO.ConnectionPool(Channel{Any}(32), Set{AbstractConnection}(), Condition(Base.InvasiveLinkedList{Task}(Task (runnable) @0x000000008a4a9f50, Task (runnable) @0x000000008a4a9f50), Base.AlwaysLockedST(1))), WebIO.JSString[WebIO.JSString(\"function () {\\n    var handler = (function (ko, koPunches) {\\n    ko.punches.enableAll();\\n    ko.bindingHandlers.numericValue = {\\n        init: function(element, valueAccessor, allBindings, data, context) {\\n            var stringified = ko.observable(ko.unwrap(valueAccessor()));\\n            stringified.subscribe(function(value) {\\n                var val = parseFloat(value);\\n                if (!isNaN(val)) {\\n                    valueAccessor()(val);\\n                }\\n            });\\n            valueAccessor().subscribe(function(value) {\\n                var str = JSON.stringify(value);\\n                if ((str == \\\"0\\\") && ([\\\"-0\\\", \\\"-0.\\\"].indexOf(stringified()) >= 0))\\n                     return;\\n                 if ([\\\"null\\\", \\\"\\\"].indexOf(str) >= 0)\\n                     return;\\n                stringified(str);\\n            });\\n            ko.applyBindingsToNode(\\n                element,\\n                {\\n                    value: stringified,\\n                    valueUpdate: allBindings.get('valueUpdate'),\\n                },\\n                context,\\n            );\\n        }\\n    };\\n    var json_data = {\\\"formatted_vals\\\":[\\\"1.0\\\",\\\"6.0\\\",\\\"11.0\\\",\\\"16.0\\\",\\\"21.0\\\",\\\"26.0\\\",\\\"31.0\\\",\\\"36.0\\\",\\\"41.0\\\",\\\"46.0\\\"],\\\"changes\\\":WebIO.getval({\\\"name\\\":\\\"changes\\\",\\\"scope\\\":\\\"862945207391209522\\\",\\\"id\\\":\\\"16024736303038927898\\\",\\\"type\\\":\\\"observable\\\"}),\\\"index\\\":WebIO.getval({\\\"name\\\":\\\"index\\\",\\\"scope\\\":\\\"862945207391209522\\\",\\\"id\\\":\\\"14735203198942212517\\\",\\\"type\\\":\\\"observable\\\"})};\\n    var self = this;\\n    function AppViewModel() {\\n        for (var key in json_data) {\\n            var el = json_data[key];\\n            this[key] = Array.isArray(el) ? ko.observableArray(el) : ko.observable(el);\\n        }\\n        \\n        [this[\\\"formatted_val\\\"]=ko.computed(    function(){\\n        return this.formatted_vals()[parseInt(this.index())-(1)];\\n    }\\n,this)]\\n        [this[\\\"changes\\\"].subscribe((function (val){!(this.valueFromJulia[\\\"changes\\\"]) ? (WebIO.setval({\\\"name\\\":\\\"changes\\\",\\\"scope\\\":\\\"862945207391209522\\\",\\\"id\\\":\\\"16024736303038927898\\\",\\\"type\\\":\\\"observable\\\"},val)) : undefined; return this.valueFromJulia[\\\"changes\\\"]=false}),self),this[\\\"index\\\"].subscribe((function (val){!(this.valueFromJulia[\\\"index\\\"]) ? (WebIO.setval({\\\"name\\\":\\\"index\\\",\\\"scope\\\":\\\"862945207391209522\\\",\\\"id\\\":\\\"14735203198942212517\\\",\\\"type\\\":\\\"observable\\\"},val)) : undefined; return this.valueFromJulia[\\\"index\\\"]=false}),self)]\\n        \\n    }\\n    self.model = new AppViewModel();\\n    self.valueFromJulia = {};\\n    for (var key in json_data) {\\n        self.valueFromJulia[key] = false;\\n    }\\n    ko.applyBindings(self.model, self.dom);\\n}\\n);\\n    (WebIO.importBlock({\\\"data\\\":[{\\\"name\\\":\\\"knockout\\\",\\\"type\\\":\\\"js\\\",\\\"url\\\":\\\"/assetserver/2712bb0a7395d062608c2f218a74b700f6c76b99-knockout.js\\\"},{\\\"name\\\":\\\"knockout_punches\\\",\\\"type\\\":\\\"js\\\",\\\"url\\\":\\\"/assetserver/fb4445501a2be4ab82176667f844e40da26fa007-knockout_punches.js\\\"}],\\\"type\\\":\\\"async_block\\\"})).then((imports) => handler.apply(this, imports));\\n}\\n\")])], Dict{Symbol, Any}(:className => \"field interact-widget\")), Observable{Node{WebIO.DOM}} with 0 listeners. Value:\n",
       "Node{WebIO.DOM}(WebIO.DOM(:html, :div), Any[Plot{Plots.GRBackend() n=5}], Dict{Symbol, Any}(:className => \"interact-flex-row interact-widget\"))], Dict{Symbol, Any}())"
      ]
     },
     "execution_count": 8,
     "metadata": {
      "application/vnd.webio.node+json": {
       "kernelId": "3fc7bb62-8e80-4615-87cb-b83688e6e5dd"
      }
     },
     "output_type": "execute_result"
    }
   ],
   "source": [
    "@manipulate throttle=.05 for R=0:0.02:2.0,K=0.01:0.01:2.0,H=0:0.01:0.5,x0=0:0.02:2.0,tmax=1.0:5:50\n",
    "    flux1D(logharvest1,x0,tmax,[R,K,H],(u)->(u<0);xlims=[0.0,2.0],title=\"Logistica con Harvest\")\n",
    "end"
   ]
  },
  {
   "cell_type": "markdown",
   "id": "14bbadab",
   "metadata": {},
   "source": [
    "Ahora para calcular los puntos fijos tenemos que resolver una ecuación cuadrática. Pero antes de meternos en eso vamos a volver a la interpretación geométrica del campo vector $f(x)$. El primer término es el mismo que el de la ecuación logística y es una parábola invertida que corta el eje horizontal en $x=0$ y $x=K$ con la misma pendiente de signo opuesto $R$ y $-R$ respectivamente, por lo tanto el punto máximo de la parábola está justo en el centro de los dos puntos fijos $x=K/2$. En ese punto el valor del campo vector es $f(K/2)=RK/4-H$. Notar que si bien hicimos algunas cuentas, utilizamos únicamente argumentos geométricos y evaluaciones del campo vector.\n",
    "\n",
    "Cuál es el efecto del término constante $-H$? Simplemente bajar el gráfico de la parábola invertida lo cual hace que los dos puntos fijos se acerquen simétricamente al punto medio $x=K/2$. La estabilidad de los mismos sigue siendo igual. El repulsor a la izquierda se corre para un valor de $x$ positivo y el atractor de la derecha se corre para un valor menor. la interpretación de este corrimiento en términos del modelo poblacional es la siguiente: (a) que el atractor sea menor que $K$ da cuenta del efecto de la predación o explotación al disminuir el valor hacia el cual tiende la población, (b) que el repulsor tenga un valor positivo implica que si la población inicial no alcanza un valor mínimo (el de ese punto fijo) no alcanza el valor de equilibrio y la población se extingue. A mayor valor del parámetro $H$ mayor proximidad de los puntos fijos y más crítica se torna la situación. La población máxima es cada vez menor y el punto de inflexión que separa los dos futuros posibles de sustentaibilidad o extinción se hace cada vez mayor. Finalmente los dos puntos fijos van a colapsar cuando el campo vector en ese punto se haga cero, es decir cuando $H=RK/4$. Para ese valor de parámetros vamos a tener una bifurcación de atractor y repulsor, todo el flujo es hacia la izquierda y la población se extingue para cualquier condición incial.\n",
    "\n",
    "Todo este análisis, mas lo que se ve en las celdas interactivas permite suponer que se produce una bifurcación SN. Pero para demostrar que esa es la bifurcacion que se produce efectivamente deberiamos poder llevar la ecuación diferencial en un entorno de la bifurcación a la forma normal de la SN. En este caso además podemos hacer un cambio de coordenadas que va a llevarnos todo el flujo a la forma normal (esto sucede solo en este caso porque tenemos sólo términos cuadráticos). \n",
    "\n",
    "Nuestro cambio de coordenadas propuesto es llevar el punto donde se produce la bifurcación al origen. Comenzamos definiendo la variable $\\chi = x-K/2$. Si reemplazamos en la ecuación diferencial obtenemos:\n",
    "\n",
    "$\\dot{\\chi}=R\\left(\\chi+\\displaystyle\\frac{K}{2}\\right)\\left(\\displaystyle\\frac{1}{2}-\\displaystyle\\frac{\\chi}{K}\\right)-H = \\displaystyle\\frac{RK}{4}-H-\\displaystyle\\frac{R}{K}\\chi^2$\n",
    "\n",
    "El paso siguiente es hacer un re-escaleo del tiempo definiendo un nuevo tiempo $\\tau=tK/R$. Volvemos a la notación explícita de la derivada para que quede claro que cambiamos la escala temporal y la ecuación queda:\n",
    "\n",
    "$\\displaystyle\\frac{d\\chi}{d\\tau} = \\displaystyle\\frac{K^2}{4}-\\displaystyle\\frac{KH}{R} - \\chi^2$\n",
    "\n",
    "notar que el escaleo temporal multiplico el miembro derecho por $K/r$.\n",
    "El último paso es definir nuestro parámetor de control como $a=K^2/4-KH/R$, con lo cual llegamos a la forma normal de la SN:\n",
    "\n",
    "$\\displaystyle\\frac{d\\chi}{d\\tau} = a - \\chi^2$\n",
    "\n",
    "que tiene una bifurcacion de SN en ($a=0$,$\\chi=0$), es decir cuando $H=RK/4$ y $x=K/2$. Y los puntos fijos se van a alejar de ese punto medio como $\\pm\\sqrt{a}$, es decir como $\\pm\\sqrt{K^2/4-KH/R}$. De hecho como en este caso, sólo tenemos términos cuadráticos esta aproximación cerca de la bifurcación vale para todo los valores del parámetro. Los puntos fijos van aa estar ubicados entonces en \n",
    "\n",
    "$\\chi_* = \\pm\\sqrt{a}$\n",
    "\n",
    "$x_* = K/2  \\pm \\sqrt{K^2/4-KH/R}  $\n",
    "\n",
    "Este último resultado es el mismo que hubiésemos obtenido al principio resolviendo la cuadrática. Llegamos a lo mismo tras un largo recorrido que podriamos resumir en: (a) cambio de coordenadas, (b) reescaleo del tiempo, (c) redefinicion del parametro de control, para llevar nuestro sistema a la forma normal de la bifurcación SN. Si bien puede parecer más arduo en este caso es el mecanismo general que nos va a servir para campos vectores más complicados e incluso para dimensiones mayores. "
   ]
  },
  {
   "cell_type": "markdown",
   "id": "bc0e3a86",
   "metadata": {},
   "source": [
    "## Bifurcacion SN usando BifurcationKit\n",
    "\n",
    "Vamos a utilizar este caso sencillo para ejemplificar el uso de un paquete muy poderoso para el estudio de sistemas dinámicos en Julia: el package BifurcationKit. Como vamos a ver tiene sus complejidades pero por ahora lo que nos va a importar es que:\n",
    "\n",
    "- Tenemos que definir la funcion del fampo vector $F$ como funcion solo de x y los parametros es decir le asignamos t=0, esto se hace en la primera linea (el macro @. es para aplicar un broadcast a lo que sigue)\n",
    "- Barremos el parametro H que es el tercer elemento del array p, y eso lo indicamos con @lens _[3]\n",
    "- Barremos el parametro desde pMin hasta pMax. Es importante que en pMin haya al menos una solucion."
   ]
  },
  {
   "cell_type": "code",
   "execution_count": 10,
   "id": "d173ef78",
   "metadata": {
    "ExecuteTime": {
     "end_time": "2022-01-27T02:07:42.962000-03:00",
     "start_time": "2022-01-27T05:07:27.217Z"
    }
   },
   "outputs": [
    {
     "data": {
      "image/svg+xml": [
       "<?xml version=\"1.0\" encoding=\"utf-8\"?>\n",
       "<svg xmlns=\"http://www.w3.org/2000/svg\" xmlns:xlink=\"http://www.w3.org/1999/xlink\" width=\"600\" height=\"400\" viewBox=\"0 0 2400 1600\">\n",
       "<defs>\n",
       "  <clipPath id=\"clip430\">\n",
       "    <rect x=\"0\" y=\"0\" width=\"2400\" height=\"1600\"/>\n",
       "  </clipPath>\n",
       "</defs>\n",
       "<path clip-path=\"url(#clip430)\" d=\"\n",
       "M0 1600 L2400 1600 L2400 0 L0 0  Z\n",
       "  \" fill=\"#ffffff\" fill-rule=\"evenodd\" fill-opacity=\"1\"/>\n",
       "<defs>\n",
       "  <clipPath id=\"clip431\">\n",
       "    <rect x=\"480\" y=\"0\" width=\"1681\" height=\"1600\"/>\n",
       "  </clipPath>\n",
       "</defs>\n",
       "<path clip-path=\"url(#clip430)\" d=\"\n",
       "M219.866 1423.18 L2352.76 1423.18 L2352.76 123.472 L219.866 123.472  Z\n",
       "  \" fill=\"#ffffff\" fill-rule=\"evenodd\" fill-opacity=\"1\"/>\n",
       "<defs>\n",
       "  <clipPath id=\"clip432\">\n",
       "    <rect x=\"219\" y=\"123\" width=\"2134\" height=\"1301\"/>\n",
       "  </clipPath>\n",
       "</defs>\n",
       "<polyline clip-path=\"url(#clip432)\" style=\"stroke:#000000; stroke-linecap:butt; stroke-linejoin:round; stroke-width:2; stroke-opacity:0.1; fill:none\" points=\"\n",
       "  280.231,1423.18 280.231,123.472 \n",
       "  \"/>\n",
       "<polyline clip-path=\"url(#clip432)\" style=\"stroke:#000000; stroke-linecap:butt; stroke-linejoin:round; stroke-width:2; stroke-opacity:0.1; fill:none\" points=\"\n",
       "  783.271,1423.18 783.271,123.472 \n",
       "  \"/>\n",
       "<polyline clip-path=\"url(#clip432)\" style=\"stroke:#000000; stroke-linecap:butt; stroke-linejoin:round; stroke-width:2; stroke-opacity:0.1; fill:none\" points=\"\n",
       "  1286.31,1423.18 1286.31,123.472 \n",
       "  \"/>\n",
       "<polyline clip-path=\"url(#clip432)\" style=\"stroke:#000000; stroke-linecap:butt; stroke-linejoin:round; stroke-width:2; stroke-opacity:0.1; fill:none\" points=\"\n",
       "  1789.35,1423.18 1789.35,123.472 \n",
       "  \"/>\n",
       "<polyline clip-path=\"url(#clip432)\" style=\"stroke:#000000; stroke-linecap:butt; stroke-linejoin:round; stroke-width:2; stroke-opacity:0.1; fill:none\" points=\"\n",
       "  2292.39,1423.18 2292.39,123.472 \n",
       "  \"/>\n",
       "<polyline clip-path=\"url(#clip430)\" style=\"stroke:#000000; stroke-linecap:butt; stroke-linejoin:round; stroke-width:4; stroke-opacity:1; fill:none\" points=\"\n",
       "  219.866,1423.18 2352.76,1423.18 \n",
       "  \"/>\n",
       "<polyline clip-path=\"url(#clip430)\" style=\"stroke:#000000; stroke-linecap:butt; stroke-linejoin:round; stroke-width:4; stroke-opacity:1; fill:none\" points=\"\n",
       "  280.231,1423.18 280.231,1404.28 \n",
       "  \"/>\n",
       "<polyline clip-path=\"url(#clip430)\" style=\"stroke:#000000; stroke-linecap:butt; stroke-linejoin:round; stroke-width:4; stroke-opacity:1; fill:none\" points=\"\n",
       "  783.271,1423.18 783.271,1404.28 \n",
       "  \"/>\n",
       "<polyline clip-path=\"url(#clip430)\" style=\"stroke:#000000; stroke-linecap:butt; stroke-linejoin:round; stroke-width:4; stroke-opacity:1; fill:none\" points=\"\n",
       "  1286.31,1423.18 1286.31,1404.28 \n",
       "  \"/>\n",
       "<polyline clip-path=\"url(#clip430)\" style=\"stroke:#000000; stroke-linecap:butt; stroke-linejoin:round; stroke-width:4; stroke-opacity:1; fill:none\" points=\"\n",
       "  1789.35,1423.18 1789.35,1404.28 \n",
       "  \"/>\n",
       "<polyline clip-path=\"url(#clip430)\" style=\"stroke:#000000; stroke-linecap:butt; stroke-linejoin:round; stroke-width:4; stroke-opacity:1; fill:none\" points=\"\n",
       "  2292.39,1423.18 2292.39,1404.28 \n",
       "  \"/>\n",
       "<path clip-path=\"url(#clip430)\" d=\"M243.032 1454.1 Q239.421 1454.1 237.592 1457.66 Q235.787 1461.2 235.787 1468.33 Q235.787 1475.44 237.592 1479.01 Q239.421 1482.55 243.032 1482.55 Q246.666 1482.55 248.472 1479.01 Q250.301 1475.44 250.301 1468.33 Q250.301 1461.2 248.472 1457.66 Q246.666 1454.1 243.032 1454.1 M243.032 1450.39 Q248.842 1450.39 251.898 1455 Q254.977 1459.58 254.977 1468.33 Q254.977 1477.06 251.898 1481.67 Q248.842 1486.25 243.032 1486.25 Q237.222 1486.25 234.143 1481.67 Q231.088 1477.06 231.088 1468.33 Q231.088 1459.58 234.143 1455 Q237.222 1450.39 243.032 1450.39 Z\" fill=\"#000000\" fill-rule=\"evenodd\" fill-opacity=\"1\" /><path clip-path=\"url(#clip430)\" d=\"M263.194 1479.7 L268.078 1479.7 L268.078 1485.58 L263.194 1485.58 L263.194 1479.7 Z\" fill=\"#000000\" fill-rule=\"evenodd\" fill-opacity=\"1\" /><path clip-path=\"url(#clip430)\" d=\"M288.263 1454.1 Q284.652 1454.1 282.824 1457.66 Q281.018 1461.2 281.018 1468.33 Q281.018 1475.44 282.824 1479.01 Q284.652 1482.55 288.263 1482.55 Q291.898 1482.55 293.703 1479.01 Q295.532 1475.44 295.532 1468.33 Q295.532 1461.2 293.703 1457.66 Q291.898 1454.1 288.263 1454.1 M288.263 1450.39 Q294.074 1450.39 297.129 1455 Q300.208 1459.58 300.208 1468.33 Q300.208 1477.06 297.129 1481.67 Q294.074 1486.25 288.263 1486.25 Q282.453 1486.25 279.375 1481.67 Q276.319 1477.06 276.319 1468.33 Q276.319 1459.58 279.375 1455 Q282.453 1450.39 288.263 1450.39 Z\" fill=\"#000000\" fill-rule=\"evenodd\" fill-opacity=\"1\" /><path clip-path=\"url(#clip430)\" d=\"M308.472 1451.02 L326.828 1451.02 L326.828 1454.96 L312.754 1454.96 L312.754 1463.43 Q313.773 1463.08 314.791 1462.92 Q315.81 1462.73 316.828 1462.73 Q322.615 1462.73 325.995 1465.9 Q329.374 1469.08 329.374 1474.49 Q329.374 1480.07 325.902 1483.17 Q322.43 1486.25 316.111 1486.25 Q313.935 1486.25 311.666 1485.88 Q309.421 1485.51 307.013 1484.77 L307.013 1480.07 Q309.097 1481.2 311.319 1481.76 Q313.541 1482.32 316.018 1482.32 Q320.023 1482.32 322.36 1480.21 Q324.698 1478.1 324.698 1474.49 Q324.698 1470.88 322.36 1468.77 Q320.023 1466.67 316.018 1466.67 Q314.143 1466.67 312.268 1467.08 Q310.416 1467.5 308.472 1468.38 L308.472 1451.02 Z\" fill=\"#000000\" fill-rule=\"evenodd\" fill-opacity=\"1\" /><path clip-path=\"url(#clip430)\" d=\"M745.575 1454.1 Q741.964 1454.1 740.135 1457.66 Q738.329 1461.2 738.329 1468.33 Q738.329 1475.44 740.135 1479.01 Q741.964 1482.55 745.575 1482.55 Q749.209 1482.55 751.014 1479.01 Q752.843 1475.44 752.843 1468.33 Q752.843 1461.2 751.014 1457.66 Q749.209 1454.1 745.575 1454.1 M745.575 1450.39 Q751.385 1450.39 754.44 1455 Q757.519 1459.58 757.519 1468.33 Q757.519 1477.06 754.44 1481.67 Q751.385 1486.25 745.575 1486.25 Q739.764 1486.25 736.686 1481.67 Q733.63 1477.06 733.63 1468.33 Q733.63 1459.58 736.686 1455 Q739.764 1450.39 745.575 1450.39 Z\" fill=\"#000000\" fill-rule=\"evenodd\" fill-opacity=\"1\" /><path clip-path=\"url(#clip430)\" d=\"M765.737 1479.7 L770.621 1479.7 L770.621 1485.58 L765.737 1485.58 L765.737 1479.7 Z\" fill=\"#000000\" fill-rule=\"evenodd\" fill-opacity=\"1\" /><path clip-path=\"url(#clip430)\" d=\"M781.616 1481.64 L789.255 1481.64 L789.255 1455.28 L780.945 1456.95 L780.945 1452.69 L789.209 1451.02 L793.885 1451.02 L793.885 1481.64 L801.523 1481.64 L801.523 1485.58 L781.616 1485.58 L781.616 1481.64 Z\" fill=\"#000000\" fill-rule=\"evenodd\" fill-opacity=\"1\" /><path clip-path=\"url(#clip430)\" d=\"M820.968 1454.1 Q817.357 1454.1 815.528 1457.66 Q813.722 1461.2 813.722 1468.33 Q813.722 1475.44 815.528 1479.01 Q817.357 1482.55 820.968 1482.55 Q824.602 1482.55 826.408 1479.01 Q828.236 1475.44 828.236 1468.33 Q828.236 1461.2 826.408 1457.66 Q824.602 1454.1 820.968 1454.1 M820.968 1450.39 Q826.778 1450.39 829.833 1455 Q832.912 1459.58 832.912 1468.33 Q832.912 1477.06 829.833 1481.67 Q826.778 1486.25 820.968 1486.25 Q815.158 1486.25 812.079 1481.67 Q809.023 1477.06 809.023 1468.33 Q809.023 1459.58 812.079 1455 Q815.158 1450.39 820.968 1450.39 Z\" fill=\"#000000\" fill-rule=\"evenodd\" fill-opacity=\"1\" /><path clip-path=\"url(#clip430)\" d=\"M1249.11 1454.1 Q1245.5 1454.1 1243.67 1457.66 Q1241.87 1461.2 1241.87 1468.33 Q1241.87 1475.44 1243.67 1479.01 Q1245.5 1482.55 1249.11 1482.55 Q1252.75 1482.55 1254.55 1479.01 Q1256.38 1475.44 1256.38 1468.33 Q1256.38 1461.2 1254.55 1457.66 Q1252.75 1454.1 1249.11 1454.1 M1249.11 1450.39 Q1254.92 1450.39 1257.98 1455 Q1261.06 1459.58 1261.06 1468.33 Q1261.06 1477.06 1257.98 1481.67 Q1254.92 1486.25 1249.11 1486.25 Q1243.3 1486.25 1240.22 1481.67 Q1237.17 1477.06 1237.17 1468.33 Q1237.17 1459.58 1240.22 1455 Q1243.3 1450.39 1249.11 1450.39 Z\" fill=\"#000000\" fill-rule=\"evenodd\" fill-opacity=\"1\" /><path clip-path=\"url(#clip430)\" d=\"M1269.27 1479.7 L1274.16 1479.7 L1274.16 1485.58 L1269.27 1485.58 L1269.27 1479.7 Z\" fill=\"#000000\" fill-rule=\"evenodd\" fill-opacity=\"1\" /><path clip-path=\"url(#clip430)\" d=\"M1285.15 1481.64 L1292.79 1481.64 L1292.79 1455.28 L1284.48 1456.95 L1284.48 1452.69 L1292.75 1451.02 L1297.42 1451.02 L1297.42 1481.64 L1305.06 1481.64 L1305.06 1485.58 L1285.15 1485.58 L1285.15 1481.64 Z\" fill=\"#000000\" fill-rule=\"evenodd\" fill-opacity=\"1\" /><path clip-path=\"url(#clip430)\" d=\"M1314.55 1451.02 L1332.91 1451.02 L1332.91 1454.96 L1318.83 1454.96 L1318.83 1463.43 Q1319.85 1463.08 1320.87 1462.92 Q1321.89 1462.73 1322.91 1462.73 Q1328.7 1462.73 1332.07 1465.9 Q1335.45 1469.08 1335.45 1474.49 Q1335.45 1480.07 1331.98 1483.17 Q1328.51 1486.25 1322.19 1486.25 Q1320.01 1486.25 1317.75 1485.88 Q1315.5 1485.51 1313.09 1484.77 L1313.09 1480.07 Q1315.18 1481.2 1317.4 1481.76 Q1319.62 1482.32 1322.1 1482.32 Q1326.1 1482.32 1328.44 1480.21 Q1330.78 1478.1 1330.78 1474.49 Q1330.78 1470.88 1328.44 1468.77 Q1326.1 1466.67 1322.1 1466.67 Q1320.22 1466.67 1318.35 1467.08 Q1316.5 1467.5 1314.55 1468.38 L1314.55 1451.02 Z\" fill=\"#000000\" fill-rule=\"evenodd\" fill-opacity=\"1\" /><path clip-path=\"url(#clip430)\" d=\"M1751.65 1454.1 Q1748.04 1454.1 1746.21 1457.66 Q1744.41 1461.2 1744.41 1468.33 Q1744.41 1475.44 1746.21 1479.01 Q1748.04 1482.55 1751.65 1482.55 Q1755.29 1482.55 1757.09 1479.01 Q1758.92 1475.44 1758.92 1468.33 Q1758.92 1461.2 1757.09 1457.66 Q1755.29 1454.1 1751.65 1454.1 M1751.65 1450.39 Q1757.46 1450.39 1760.52 1455 Q1763.6 1459.58 1763.6 1468.33 Q1763.6 1477.06 1760.52 1481.67 Q1757.46 1486.25 1751.65 1486.25 Q1745.84 1486.25 1742.77 1481.67 Q1739.71 1477.06 1739.71 1468.33 Q1739.71 1459.58 1742.77 1455 Q1745.84 1450.39 1751.65 1450.39 Z\" fill=\"#000000\" fill-rule=\"evenodd\" fill-opacity=\"1\" /><path clip-path=\"url(#clip430)\" d=\"M1771.82 1479.7 L1776.7 1479.7 L1776.7 1485.58 L1771.82 1485.58 L1771.82 1479.7 Z\" fill=\"#000000\" fill-rule=\"evenodd\" fill-opacity=\"1\" /><path clip-path=\"url(#clip430)\" d=\"M1790.91 1481.64 L1807.23 1481.64 L1807.23 1485.58 L1785.29 1485.58 L1785.29 1481.64 Q1787.95 1478.89 1792.53 1474.26 Q1797.14 1469.61 1798.32 1468.27 Q1800.57 1465.74 1801.45 1464.01 Q1802.35 1462.25 1802.35 1460.56 Q1802.35 1457.8 1800.4 1456.07 Q1798.48 1454.33 1795.38 1454.33 Q1793.18 1454.33 1790.73 1455.09 Q1788.3 1455.86 1785.52 1457.41 L1785.52 1452.69 Q1788.34 1451.55 1790.8 1450.97 Q1793.25 1450.39 1795.29 1450.39 Q1800.66 1450.39 1803.85 1453.08 Q1807.05 1455.77 1807.05 1460.26 Q1807.05 1462.39 1806.24 1464.31 Q1805.45 1466.2 1803.34 1468.8 Q1802.77 1469.47 1799.66 1472.69 Q1796.56 1475.88 1790.91 1481.64 Z\" fill=\"#000000\" fill-rule=\"evenodd\" fill-opacity=\"1\" /><path clip-path=\"url(#clip430)\" d=\"M1827.05 1454.1 Q1823.44 1454.1 1821.61 1457.66 Q1819.8 1461.2 1819.8 1468.33 Q1819.8 1475.44 1821.61 1479.01 Q1823.44 1482.55 1827.05 1482.55 Q1830.68 1482.55 1832.49 1479.01 Q1834.32 1475.44 1834.32 1468.33 Q1834.32 1461.2 1832.49 1457.66 Q1830.68 1454.1 1827.05 1454.1 M1827.05 1450.39 Q1832.86 1450.39 1835.91 1455 Q1838.99 1459.58 1838.99 1468.33 Q1838.99 1477.06 1835.91 1481.67 Q1832.86 1486.25 1827.05 1486.25 Q1821.24 1486.25 1818.16 1481.67 Q1815.1 1477.06 1815.1 1468.33 Q1815.1 1459.58 1818.16 1455 Q1821.24 1450.39 1827.05 1450.39 Z\" fill=\"#000000\" fill-rule=\"evenodd\" fill-opacity=\"1\" /><path clip-path=\"url(#clip430)\" d=\"M2255.19 1454.1 Q2251.58 1454.1 2249.75 1457.66 Q2247.95 1461.2 2247.95 1468.33 Q2247.95 1475.44 2249.75 1479.01 Q2251.58 1482.55 2255.19 1482.55 Q2258.83 1482.55 2260.63 1479.01 Q2262.46 1475.44 2262.46 1468.33 Q2262.46 1461.2 2260.63 1457.66 Q2258.83 1454.1 2255.19 1454.1 M2255.19 1450.39 Q2261 1450.39 2264.06 1455 Q2267.14 1459.58 2267.14 1468.33 Q2267.14 1477.06 2264.06 1481.67 Q2261 1486.25 2255.19 1486.25 Q2249.38 1486.25 2246.3 1481.67 Q2243.25 1477.06 2243.25 1468.33 Q2243.25 1459.58 2246.3 1455 Q2249.38 1450.39 2255.19 1450.39 Z\" fill=\"#000000\" fill-rule=\"evenodd\" fill-opacity=\"1\" /><path clip-path=\"url(#clip430)\" d=\"M2275.35 1479.7 L2280.24 1479.7 L2280.24 1485.58 L2275.35 1485.58 L2275.35 1479.7 Z\" fill=\"#000000\" fill-rule=\"evenodd\" fill-opacity=\"1\" /><path clip-path=\"url(#clip430)\" d=\"M2294.45 1481.64 L2310.77 1481.64 L2310.77 1485.58 L2288.83 1485.58 L2288.83 1481.64 Q2291.49 1478.89 2296.07 1474.26 Q2300.68 1469.61 2301.86 1468.27 Q2304.1 1465.74 2304.98 1464.01 Q2305.89 1462.25 2305.89 1460.56 Q2305.89 1457.8 2303.94 1456.07 Q2302.02 1454.33 2298.92 1454.33 Q2296.72 1454.33 2294.27 1455.09 Q2291.84 1455.86 2289.06 1457.41 L2289.06 1452.69 Q2291.88 1451.55 2294.34 1450.97 Q2296.79 1450.39 2298.83 1450.39 Q2304.2 1450.39 2307.39 1453.08 Q2310.59 1455.77 2310.59 1460.26 Q2310.59 1462.39 2309.78 1464.31 Q2308.99 1466.2 2306.88 1468.8 Q2306.3 1469.47 2303.2 1472.69 Q2300.1 1475.88 2294.45 1481.64 Z\" fill=\"#000000\" fill-rule=\"evenodd\" fill-opacity=\"1\" /><path clip-path=\"url(#clip430)\" d=\"M2320.63 1451.02 L2338.99 1451.02 L2338.99 1454.96 L2324.91 1454.96 L2324.91 1463.43 Q2325.93 1463.08 2326.95 1462.92 Q2327.97 1462.73 2328.99 1462.73 Q2334.78 1462.73 2338.16 1465.9 Q2341.53 1469.08 2341.53 1474.49 Q2341.53 1480.07 2338.06 1483.17 Q2334.59 1486.25 2328.27 1486.25 Q2326.09 1486.25 2323.83 1485.88 Q2321.58 1485.51 2319.17 1484.77 L2319.17 1480.07 Q2321.26 1481.2 2323.48 1481.76 Q2325.7 1482.32 2328.18 1482.32 Q2332.18 1482.32 2334.52 1480.21 Q2336.86 1478.1 2336.86 1474.49 Q2336.86 1470.88 2334.52 1468.77 Q2332.18 1466.67 2328.18 1466.67 Q2326.3 1466.67 2324.43 1467.08 Q2322.58 1467.5 2320.63 1468.38 L2320.63 1451.02 Z\" fill=\"#000000\" fill-rule=\"evenodd\" fill-opacity=\"1\" /><path clip-path=\"url(#clip430)\" d=\"M1268.2 1520.52 L1274.63 1520.52 L1274.63 1540 L1297.99 1540 L1297.99 1520.52 L1304.42 1520.52 L1304.42 1568.04 L1297.99 1568.04 L1297.99 1545.41 L1274.63 1545.41 L1274.63 1568.04 L1268.2 1568.04 L1268.2 1520.52 Z\" fill=\"#000000\" fill-rule=\"evenodd\" fill-opacity=\"1\" /><polyline clip-path=\"url(#clip432)\" style=\"stroke:#000000; stroke-linecap:butt; stroke-linejoin:round; stroke-width:2; stroke-opacity:0.1; fill:none\" points=\"\n",
       "  219.866,1184.59 2352.76,1184.59 \n",
       "  \"/>\n",
       "<polyline clip-path=\"url(#clip432)\" style=\"stroke:#000000; stroke-linecap:butt; stroke-linejoin:round; stroke-width:2; stroke-opacity:0.1; fill:none\" points=\"\n",
       "  219.866,910.413 2352.76,910.413 \n",
       "  \"/>\n",
       "<polyline clip-path=\"url(#clip432)\" style=\"stroke:#000000; stroke-linecap:butt; stroke-linejoin:round; stroke-width:2; stroke-opacity:0.1; fill:none\" points=\"\n",
       "  219.866,636.239 2352.76,636.239 \n",
       "  \"/>\n",
       "<polyline clip-path=\"url(#clip432)\" style=\"stroke:#000000; stroke-linecap:butt; stroke-linejoin:round; stroke-width:2; stroke-opacity:0.1; fill:none\" points=\"\n",
       "  219.866,362.066 2352.76,362.066 \n",
       "  \"/>\n",
       "<polyline clip-path=\"url(#clip430)\" style=\"stroke:#000000; stroke-linecap:butt; stroke-linejoin:round; stroke-width:4; stroke-opacity:1; fill:none\" points=\"\n",
       "  219.866,1423.18 219.866,123.472 \n",
       "  \"/>\n",
       "<polyline clip-path=\"url(#clip430)\" style=\"stroke:#000000; stroke-linecap:butt; stroke-linejoin:round; stroke-width:4; stroke-opacity:1; fill:none\" points=\"\n",
       "  219.866,1184.59 238.764,1184.59 \n",
       "  \"/>\n",
       "<polyline clip-path=\"url(#clip430)\" style=\"stroke:#000000; stroke-linecap:butt; stroke-linejoin:round; stroke-width:4; stroke-opacity:1; fill:none\" points=\"\n",
       "  219.866,910.413 238.764,910.413 \n",
       "  \"/>\n",
       "<polyline clip-path=\"url(#clip430)\" style=\"stroke:#000000; stroke-linecap:butt; stroke-linejoin:round; stroke-width:4; stroke-opacity:1; fill:none\" points=\"\n",
       "  219.866,636.239 238.764,636.239 \n",
       "  \"/>\n",
       "<polyline clip-path=\"url(#clip430)\" style=\"stroke:#000000; stroke-linecap:butt; stroke-linejoin:round; stroke-width:4; stroke-opacity:1; fill:none\" points=\"\n",
       "  219.866,362.066 238.764,362.066 \n",
       "  \"/>\n",
       "<path clip-path=\"url(#clip430)\" d=\"M128.288 1170.38 Q124.677 1170.38 122.848 1173.95 Q121.043 1177.49 121.043 1184.62 Q121.043 1191.73 122.848 1195.29 Q124.677 1198.83 128.288 1198.83 Q131.922 1198.83 133.728 1195.29 Q135.556 1191.73 135.556 1184.62 Q135.556 1177.49 133.728 1173.95 Q131.922 1170.38 128.288 1170.38 M128.288 1166.68 Q134.098 1166.68 137.154 1171.29 Q140.232 1175.87 140.232 1184.62 Q140.232 1193.35 137.154 1197.95 Q134.098 1202.54 128.288 1202.54 Q122.478 1202.54 119.399 1197.95 Q116.343 1193.35 116.343 1184.62 Q116.343 1175.87 119.399 1171.29 Q122.478 1166.68 128.288 1166.68 Z\" fill=\"#000000\" fill-rule=\"evenodd\" fill-opacity=\"1\" /><path clip-path=\"url(#clip430)\" d=\"M148.45 1195.99 L153.334 1195.99 L153.334 1201.87 L148.45 1201.87 L148.45 1195.99 Z\" fill=\"#000000\" fill-rule=\"evenodd\" fill-opacity=\"1\" /><path clip-path=\"url(#clip430)\" d=\"M167.547 1197.93 L183.866 1197.93 L183.866 1201.87 L161.922 1201.87 L161.922 1197.93 Q164.584 1195.18 169.167 1190.55 Q173.774 1185.89 174.954 1184.55 Q177.2 1182.03 178.079 1180.29 Q178.982 1178.53 178.982 1176.84 Q178.982 1174.09 177.038 1172.35 Q175.116 1170.62 172.014 1170.62 Q169.815 1170.62 167.362 1171.38 Q164.931 1172.14 162.153 1173.69 L162.153 1168.97 Q164.977 1167.84 167.431 1167.26 Q169.885 1166.68 171.922 1166.68 Q177.292 1166.68 180.487 1169.37 Q183.681 1172.05 183.681 1176.54 Q183.681 1178.67 182.871 1180.59 Q182.084 1182.49 179.977 1185.08 Q179.399 1185.75 176.297 1188.97 Q173.195 1192.17 167.547 1197.93 Z\" fill=\"#000000\" fill-rule=\"evenodd\" fill-opacity=\"1\" /><path clip-path=\"url(#clip430)\" d=\"M126.205 896.211 Q122.593 896.211 120.765 899.776 Q118.959 903.318 118.959 910.447 Q118.959 917.554 120.765 921.118 Q122.593 924.66 126.205 924.66 Q129.839 924.66 131.644 921.118 Q133.473 917.554 133.473 910.447 Q133.473 903.318 131.644 899.776 Q129.839 896.211 126.205 896.211 M126.205 892.508 Q132.015 892.508 135.07 897.114 Q138.149 901.697 138.149 910.447 Q138.149 919.174 135.07 923.781 Q132.015 928.364 126.205 928.364 Q120.394 928.364 117.316 923.781 Q114.26 919.174 114.26 910.447 Q114.26 901.697 117.316 897.114 Q120.394 892.508 126.205 892.508 Z\" fill=\"#000000\" fill-rule=\"evenodd\" fill-opacity=\"1\" /><path clip-path=\"url(#clip430)\" d=\"M146.366 921.813 L151.251 921.813 L151.251 927.693 L146.366 927.693 L146.366 921.813 Z\" fill=\"#000000\" fill-rule=\"evenodd\" fill-opacity=\"1\" /><path clip-path=\"url(#clip430)\" d=\"M174.283 897.207 L162.477 915.656 L174.283 915.656 L174.283 897.207 M173.056 893.133 L178.936 893.133 L178.936 915.656 L183.866 915.656 L183.866 919.544 L178.936 919.544 L178.936 927.693 L174.283 927.693 L174.283 919.544 L158.681 919.544 L158.681 915.031 L173.056 893.133 Z\" fill=\"#000000\" fill-rule=\"evenodd\" fill-opacity=\"1\" /><path clip-path=\"url(#clip430)\" d=\"M126.529 622.038 Q122.918 622.038 121.089 625.603 Q119.283 629.145 119.283 636.274 Q119.283 643.381 121.089 646.945 Q122.918 650.487 126.529 650.487 Q130.163 650.487 131.968 646.945 Q133.797 643.381 133.797 636.274 Q133.797 629.145 131.968 625.603 Q130.163 622.038 126.529 622.038 M126.529 618.334 Q132.339 618.334 135.394 622.941 Q138.473 627.524 138.473 636.274 Q138.473 645.001 135.394 649.607 Q132.339 654.191 126.529 654.191 Q120.718 654.191 117.64 649.607 Q114.584 645.001 114.584 636.274 Q114.584 627.524 117.64 622.941 Q120.718 618.334 126.529 618.334 Z\" fill=\"#000000\" fill-rule=\"evenodd\" fill-opacity=\"1\" /><path clip-path=\"url(#clip430)\" d=\"M146.691 647.64 L151.575 647.64 L151.575 653.519 L146.691 653.519 L146.691 647.64 Z\" fill=\"#000000\" fill-rule=\"evenodd\" fill-opacity=\"1\" /><path clip-path=\"url(#clip430)\" d=\"M172.339 634.376 Q169.19 634.376 167.339 636.529 Q165.51 638.682 165.51 642.432 Q165.51 646.158 167.339 648.334 Q169.19 650.487 172.339 650.487 Q175.487 650.487 177.315 648.334 Q179.167 646.158 179.167 642.432 Q179.167 638.682 177.315 636.529 Q175.487 634.376 172.339 634.376 M181.621 619.723 L181.621 623.983 Q179.862 623.149 178.056 622.709 Q176.274 622.27 174.514 622.27 Q169.885 622.27 167.431 625.395 Q165.001 628.52 164.653 634.839 Q166.019 632.825 168.079 631.76 Q170.139 630.672 172.616 630.672 Q177.825 630.672 180.834 633.844 Q183.866 636.992 183.866 642.432 Q183.866 647.756 180.718 650.973 Q177.57 654.191 172.339 654.191 Q166.343 654.191 163.172 649.607 Q160.001 645.001 160.001 636.274 Q160.001 628.08 163.89 623.219 Q167.778 618.334 174.329 618.334 Q176.089 618.334 177.871 618.682 Q179.676 619.029 181.621 619.723 Z\" fill=\"#000000\" fill-rule=\"evenodd\" fill-opacity=\"1\" /><path clip-path=\"url(#clip430)\" d=\"M126.783 347.865 Q123.172 347.865 121.343 351.43 Q119.538 354.971 119.538 362.101 Q119.538 369.208 121.343 372.772 Q123.172 376.314 126.783 376.314 Q130.417 376.314 132.223 372.772 Q134.052 369.208 134.052 362.101 Q134.052 354.971 132.223 351.43 Q130.417 347.865 126.783 347.865 M126.783 344.161 Q132.593 344.161 135.649 348.768 Q138.728 353.351 138.728 362.101 Q138.728 370.828 135.649 375.434 Q132.593 380.018 126.783 380.018 Q120.973 380.018 117.894 375.434 Q114.839 370.828 114.839 362.101 Q114.839 353.351 117.894 348.768 Q120.973 344.161 126.783 344.161 Z\" fill=\"#000000\" fill-rule=\"evenodd\" fill-opacity=\"1\" /><path clip-path=\"url(#clip430)\" d=\"M146.945 373.467 L151.829 373.467 L151.829 379.346 L146.945 379.346 L146.945 373.467 Z\" fill=\"#000000\" fill-rule=\"evenodd\" fill-opacity=\"1\" /><path clip-path=\"url(#clip430)\" d=\"M172.014 362.934 Q168.681 362.934 166.76 364.717 Q164.862 366.499 164.862 369.624 Q164.862 372.749 166.76 374.532 Q168.681 376.314 172.014 376.314 Q175.348 376.314 177.269 374.532 Q179.19 372.726 179.19 369.624 Q179.19 366.499 177.269 364.717 Q175.371 362.934 172.014 362.934 M167.339 360.944 Q164.329 360.203 162.64 358.143 Q160.973 356.083 160.973 353.12 Q160.973 348.976 163.913 346.569 Q166.876 344.161 172.014 344.161 Q177.176 344.161 180.116 346.569 Q183.056 348.976 183.056 353.12 Q183.056 356.083 181.366 358.143 Q179.7 360.203 176.714 360.944 Q180.093 361.731 181.968 364.022 Q183.866 366.314 183.866 369.624 Q183.866 374.647 180.788 377.332 Q177.732 380.018 172.014 380.018 Q166.297 380.018 163.218 377.332 Q160.163 374.647 160.163 369.624 Q160.163 366.314 162.061 364.022 Q163.959 361.731 167.339 360.944 M165.626 353.559 Q165.626 356.245 167.292 357.749 Q168.982 359.254 172.014 359.254 Q175.024 359.254 176.714 357.749 Q178.426 356.245 178.426 353.559 Q178.426 350.874 176.714 349.37 Q175.024 347.865 172.014 347.865 Q168.982 347.865 167.292 349.37 Q165.626 350.874 165.626 353.559 Z\" fill=\"#000000\" fill-rule=\"evenodd\" fill-opacity=\"1\" /><path clip-path=\"url(#clip430)\" d=\"M28.3562 756.711 L45.7028 769.602 L64.0042 756.043 L64.0042 762.95 L49.9996 773.326 L64.0042 783.702 L64.0042 790.609 L45.3526 776.763 L28.3562 789.431 L28.3562 782.524 L41.0558 773.071 L28.3562 763.618 L28.3562 756.711 Z\" fill=\"#000000\" fill-rule=\"evenodd\" fill-opacity=\"1\" /><path clip-path=\"url(#clip430)\" d=\"M845.674 12.096 L853.857 12.096 L853.857 65.6895 L883.307 65.6895 L883.307 72.576 L845.674 72.576 L845.674 12.096 Z\" fill=\"#000000\" fill-rule=\"evenodd\" fill-opacity=\"1\" /><path clip-path=\"url(#clip430)\" d=\"M907.693 32.4315 Q901.698 32.4315 898.214 37.1306 Q894.73 41.7891 894.73 49.9314 Q894.73 58.0738 898.174 62.7728 Q901.657 67.4314 907.693 67.4314 Q913.648 67.4314 917.132 62.7323 Q920.616 58.0333 920.616 49.9314 Q920.616 41.8701 917.132 37.1711 Q913.648 32.4315 907.693 32.4315 M907.693 26.1121 Q917.415 26.1121 922.965 32.4315 Q928.515 38.7509 928.515 49.9314 Q928.515 61.0714 922.965 67.4314 Q917.415 73.7508 907.693 73.7508 Q897.931 73.7508 892.381 67.4314 Q886.872 61.0714 886.872 49.9314 Q886.872 38.7509 892.381 32.4315 Q897.931 26.1121 907.693 26.1121 Z\" fill=\"#000000\" fill-rule=\"evenodd\" fill-opacity=\"1\" /><path clip-path=\"url(#clip430)\" d=\"M970.725 49.3643 Q970.725 41.2625 967.363 36.8065 Q964.041 32.3505 958.006 32.3505 Q952.01 32.3505 948.648 36.8065 Q945.326 41.2625 945.326 49.3643 Q945.326 57.4256 948.648 61.8816 Q952.01 66.3376 958.006 66.3376 Q964.041 66.3376 967.363 61.8816 Q970.725 57.4256 970.725 49.3643 M978.179 66.9452 Q978.179 78.5308 973.034 84.1616 Q967.89 89.8329 957.276 89.8329 Q953.347 89.8329 949.863 89.2252 Q946.379 88.6581 943.098 87.4428 L943.098 80.1917 Q946.379 81.9741 949.58 82.8248 Q952.78 83.6755 956.102 83.6755 Q963.434 83.6755 967.08 79.8271 Q970.725 76.0193 970.725 68.282 L970.725 64.5957 Q968.416 68.6061 964.811 70.5911 Q961.206 72.576 956.183 72.576 Q947.838 72.576 942.734 66.2161 Q937.63 59.8562 937.63 49.3643 Q937.63 38.832 942.734 32.472 Q947.838 26.1121 956.183 26.1121 Q961.206 26.1121 964.811 28.0971 Q968.416 30.082 970.725 34.0924 L970.725 27.2059 L978.179 27.2059 L978.179 66.9452 Z\" fill=\"#000000\" fill-rule=\"evenodd\" fill-opacity=\"1\" /><path clip-path=\"url(#clip430)\" d=\"M993.532 27.2059 L1000.99 27.2059 L1000.99 72.576 L993.532 72.576 L993.532 27.2059 M993.532 9.54393 L1000.99 9.54393 L1000.99 18.9825 L993.532 18.9825 L993.532 9.54393 Z\" fill=\"#000000\" fill-rule=\"evenodd\" fill-opacity=\"1\" /><path clip-path=\"url(#clip430)\" d=\"M1045.51 28.5427 L1045.51 35.5912 Q1042.35 33.9709 1038.94 33.1607 Q1035.54 32.3505 1031.89 32.3505 Q1026.34 32.3505 1023.55 34.0519 Q1020.79 35.7533 1020.79 39.156 Q1020.79 41.7486 1022.78 43.2475 Q1024.76 44.7058 1030.76 46.0426 L1033.31 46.6097 Q1041.25 48.3111 1044.57 51.4303 Q1047.94 54.509 1047.94 60.0587 Q1047.94 66.3781 1042.91 70.0644 Q1037.93 73.7508 1029.18 73.7508 Q1025.53 73.7508 1021.56 73.0216 Q1017.63 72.3329 1013.26 70.9151 L1013.26 63.2184 Q1017.39 65.3654 1021.4 66.4591 Q1025.41 67.5124 1029.34 67.5124 Q1034.61 67.5124 1037.44 65.73 Q1040.28 63.9071 1040.28 60.6258 Q1040.28 57.5877 1038.21 55.9673 Q1036.19 54.3469 1029.26 52.8481 L1026.67 52.2405 Q1019.74 50.7821 1016.66 47.7845 Q1013.58 44.7463 1013.58 39.4801 Q1013.58 33.0797 1018.12 29.5959 Q1022.66 26.1121 1031 26.1121 Q1035.13 26.1121 1038.78 26.7198 Q1042.43 27.3274 1045.51 28.5427 Z\" fill=\"#000000\" fill-rule=\"evenodd\" fill-opacity=\"1\" /><path clip-path=\"url(#clip430)\" d=\"M1067.18 14.324 L1067.18 27.2059 L1082.53 27.2059 L1082.53 32.9987 L1067.18 32.9987 L1067.18 57.6282 Q1067.18 63.1779 1068.68 64.7578 Q1070.22 66.3376 1074.87 66.3376 L1082.53 66.3376 L1082.53 72.576 L1074.87 72.576 Q1066.25 72.576 1062.96 69.3758 Q1059.68 66.1351 1059.68 57.6282 L1059.68 32.9987 L1054.21 32.9987 L1054.21 27.2059 L1059.68 27.2059 L1059.68 14.324 L1067.18 14.324 Z\" fill=\"#000000\" fill-rule=\"evenodd\" fill-opacity=\"1\" /><path clip-path=\"url(#clip430)\" d=\"M1092.33 27.2059 L1099.79 27.2059 L1099.79 72.576 L1092.33 72.576 L1092.33 27.2059 M1092.33 9.54393 L1099.79 9.54393 L1099.79 18.9825 L1092.33 18.9825 L1092.33 9.54393 Z\" fill=\"#000000\" fill-rule=\"evenodd\" fill-opacity=\"1\" /><path clip-path=\"url(#clip430)\" d=\"M1148.03 28.9478 L1148.03 35.9153 Q1144.87 34.1734 1141.67 33.3227 Q1138.51 32.4315 1135.27 32.4315 Q1128.02 32.4315 1124.01 37.0496 Q1120 41.6271 1120 49.9314 Q1120 58.2358 1124.01 62.8538 Q1128.02 67.4314 1135.27 67.4314 Q1138.51 67.4314 1141.67 66.5807 Q1144.87 65.6895 1148.03 63.9476 L1148.03 70.8341 Q1144.91 72.2924 1141.55 73.0216 Q1138.23 73.7508 1134.46 73.7508 Q1124.21 73.7508 1118.18 67.3098 Q1112.14 60.8689 1112.14 49.9314 Q1112.14 38.832 1118.22 32.472 Q1124.34 26.1121 1134.95 26.1121 Q1138.39 26.1121 1141.67 26.8413 Q1144.95 27.5299 1148.03 28.9478 Z\" fill=\"#000000\" fill-rule=\"evenodd\" fill-opacity=\"1\" /><path clip-path=\"url(#clip430)\" d=\"M1181.62 49.7694 Q1172.58 49.7694 1169.1 51.8354 Q1165.61 53.9013 1165.61 58.8839 Q1165.61 62.8538 1168.21 65.2034 Q1170.84 67.5124 1175.34 67.5124 Q1181.53 67.5124 1185.26 63.1374 Q1189.03 58.7219 1189.03 51.4303 L1189.03 49.7694 L1181.62 49.7694 M1196.48 46.6907 L1196.48 72.576 L1189.03 72.576 L1189.03 65.6895 Q1186.48 69.8214 1182.67 71.8063 Q1178.86 73.7508 1173.35 73.7508 Q1166.38 73.7508 1162.25 69.8619 Q1158.16 65.9325 1158.16 59.3701 Q1158.16 51.7138 1163.26 47.825 Q1168.41 43.9361 1178.58 43.9361 L1189.03 43.9361 L1189.03 43.2069 Q1189.03 38.0623 1185.63 35.2672 Q1182.26 32.4315 1176.15 32.4315 Q1172.26 32.4315 1168.57 33.3632 Q1164.89 34.295 1161.48 36.1584 L1161.48 29.2718 Q1165.57 27.692 1169.42 26.9223 Q1173.27 26.1121 1176.92 26.1121 Q1186.76 26.1121 1191.62 31.2163 Q1196.48 36.3204 1196.48 46.6907 Z\" fill=\"#000000\" fill-rule=\"evenodd\" fill-opacity=\"1\" /><path clip-path=\"url(#clip430)\" d=\"M1270.86 28.9478 L1270.86 35.9153 Q1267.7 34.1734 1264.5 33.3227 Q1261.34 32.4315 1258.1 32.4315 Q1250.85 32.4315 1246.84 37.0496 Q1242.82 41.6271 1242.82 49.9314 Q1242.82 58.2358 1246.84 62.8538 Q1250.85 67.4314 1258.1 67.4314 Q1261.34 67.4314 1264.5 66.5807 Q1267.7 65.6895 1270.86 63.9476 L1270.86 70.8341 Q1267.74 72.2924 1264.38 73.0216 Q1261.05 73.7508 1257.29 73.7508 Q1247.04 73.7508 1241 67.3098 Q1234.97 60.8689 1234.97 49.9314 Q1234.97 38.832 1241.04 32.472 Q1247.16 26.1121 1257.77 26.1121 Q1261.22 26.1121 1264.5 26.8413 Q1267.78 27.5299 1270.86 28.9478 Z\" fill=\"#000000\" fill-rule=\"evenodd\" fill-opacity=\"1\" /><path clip-path=\"url(#clip430)\" d=\"M1301.4 32.4315 Q1295.41 32.4315 1291.92 37.1306 Q1288.44 41.7891 1288.44 49.9314 Q1288.44 58.0738 1291.88 62.7728 Q1295.36 67.4314 1301.4 67.4314 Q1307.36 67.4314 1310.84 62.7323 Q1314.32 58.0333 1314.32 49.9314 Q1314.32 41.8701 1310.84 37.1711 Q1307.36 32.4315 1301.4 32.4315 M1301.4 26.1121 Q1311.12 26.1121 1316.67 32.4315 Q1322.22 38.7509 1322.22 49.9314 Q1322.22 61.0714 1316.67 67.4314 Q1311.12 73.7508 1301.4 73.7508 Q1291.64 73.7508 1286.09 67.4314 Q1280.58 61.0714 1280.58 49.9314 Q1280.58 38.7509 1286.09 32.4315 Q1291.64 26.1121 1301.4 26.1121 Z\" fill=\"#000000\" fill-rule=\"evenodd\" fill-opacity=\"1\" /><path clip-path=\"url(#clip430)\" d=\"M1372.29 45.1919 L1372.29 72.576 L1364.84 72.576 L1364.84 45.4349 Q1364.84 38.994 1362.33 35.7938 Q1359.81 32.5936 1354.79 32.5936 Q1348.76 32.5936 1345.27 36.4419 Q1341.79 40.2903 1341.79 46.9338 L1341.79 72.576 L1334.29 72.576 L1334.29 27.2059 L1341.79 27.2059 L1341.79 34.2544 Q1344.46 30.163 1348.07 28.1376 Q1351.71 26.1121 1356.45 26.1121 Q1364.27 26.1121 1368.28 30.9732 Q1372.29 35.7938 1372.29 45.1919 Z\" fill=\"#000000\" fill-rule=\"evenodd\" fill-opacity=\"1\" /><path clip-path=\"url(#clip430)\" d=\"M1413.85 12.096 L1422.04 12.096 L1422.04 36.8875 L1451.77 36.8875 L1451.77 12.096 L1459.95 12.096 L1459.95 72.576 L1451.77 72.576 L1451.77 43.7741 L1422.04 43.7741 L1422.04 72.576 L1413.85 72.576 L1413.85 12.096 Z\" fill=\"#000000\" fill-rule=\"evenodd\" fill-opacity=\"1\" /><path clip-path=\"url(#clip430)\" d=\"M1496.53 49.7694 Q1487.5 49.7694 1484.02 51.8354 Q1480.53 53.9013 1480.53 58.8839 Q1480.53 62.8538 1483.12 65.2034 Q1485.76 67.5124 1490.25 67.5124 Q1496.45 67.5124 1500.18 63.1374 Q1503.95 58.7219 1503.95 51.4303 L1503.95 49.7694 L1496.53 49.7694 M1511.4 46.6907 L1511.4 72.576 L1503.95 72.576 L1503.95 65.6895 Q1501.39 69.8214 1497.59 71.8063 Q1493.78 73.7508 1488.27 73.7508 Q1481.3 73.7508 1477.17 69.8619 Q1473.08 65.9325 1473.08 59.3701 Q1473.08 51.7138 1478.18 47.825 Q1483.33 43.9361 1493.49 43.9361 L1503.95 43.9361 L1503.95 43.2069 Q1503.95 38.0623 1500.54 35.2672 Q1497.18 32.4315 1491.06 32.4315 Q1487.18 32.4315 1483.49 33.3632 Q1479.8 34.295 1476.4 36.1584 L1476.4 29.2718 Q1480.49 27.692 1484.34 26.9223 Q1488.19 26.1121 1491.83 26.1121 Q1501.68 26.1121 1506.54 31.2163 Q1511.4 36.3204 1511.4 46.6907 Z\" fill=\"#000000\" fill-rule=\"evenodd\" fill-opacity=\"1\" /><path clip-path=\"url(#clip430)\" d=\"M1553.04 34.1734 Q1551.79 33.4443 1550.29 33.1202 Q1548.83 32.7556 1547.05 32.7556 Q1540.73 32.7556 1537.33 36.8875 Q1533.96 40.9789 1533.96 48.6757 L1533.96 72.576 L1526.47 72.576 L1526.47 27.2059 L1533.96 27.2059 L1533.96 34.2544 Q1536.31 30.1225 1540.08 28.1376 Q1543.85 26.1121 1549.24 26.1121 Q1550 26.1121 1550.94 26.2337 Q1551.87 26.3147 1553 26.5172 L1553.04 34.1734 Z\" fill=\"#000000\" fill-rule=\"evenodd\" fill-opacity=\"1\" /><path clip-path=\"url(#clip430)\" d=\"M1555.51 27.2059 L1563.41 27.2059 L1577.59 65.2844 L1591.77 27.2059 L1599.67 27.2059 L1582.65 72.576 L1572.53 72.576 L1555.51 27.2059 Z\" fill=\"#000000\" fill-rule=\"evenodd\" fill-opacity=\"1\" /><path clip-path=\"url(#clip430)\" d=\"M1648.77 48.0275 L1648.77 51.6733 L1614.5 51.6733 Q1614.98 59.3701 1619.11 63.421 Q1623.29 67.4314 1630.7 67.4314 Q1634.99 67.4314 1639 66.3781 Q1643.05 65.3249 1647.02 63.2184 L1647.02 70.267 Q1643.01 71.9684 1638.8 72.8596 Q1634.59 73.7508 1630.25 73.7508 Q1619.4 73.7508 1613.04 67.4314 Q1606.72 61.1119 1606.72 50.3365 Q1606.72 39.1965 1612.71 32.6746 Q1618.75 26.1121 1628.96 26.1121 Q1638.11 26.1121 1643.42 32.0264 Q1648.77 37.9003 1648.77 48.0275 M1641.31 45.84 Q1641.23 39.7232 1637.87 36.0774 Q1634.55 32.4315 1629.04 32.4315 Q1622.8 32.4315 1619.03 35.9558 Q1615.31 39.4801 1614.74 45.8805 L1641.31 45.84 Z\" fill=\"#000000\" fill-rule=\"evenodd\" fill-opacity=\"1\" /><path clip-path=\"url(#clip430)\" d=\"M1689.92 28.5427 L1689.92 35.5912 Q1686.76 33.9709 1683.36 33.1607 Q1679.96 32.3505 1676.31 32.3505 Q1670.76 32.3505 1667.97 34.0519 Q1665.21 35.7533 1665.21 39.156 Q1665.21 41.7486 1667.2 43.2475 Q1669.18 44.7058 1675.18 46.0426 L1677.73 46.6097 Q1685.67 48.3111 1688.99 51.4303 Q1692.35 54.509 1692.35 60.0587 Q1692.35 66.3781 1687.33 70.0644 Q1682.35 73.7508 1673.6 73.7508 Q1669.95 73.7508 1665.98 73.0216 Q1662.05 72.3329 1657.68 70.9151 L1657.68 63.2184 Q1661.81 65.3654 1665.82 66.4591 Q1669.83 67.5124 1673.76 67.5124 Q1679.03 67.5124 1681.86 65.73 Q1684.7 63.9071 1684.7 60.6258 Q1684.7 57.5877 1682.63 55.9673 Q1680.61 54.3469 1673.68 52.8481 L1671.09 52.2405 Q1664.16 50.7821 1661.08 47.7845 Q1658 44.7463 1658 39.4801 Q1658 33.0797 1662.54 29.5959 Q1667.08 26.1121 1675.42 26.1121 Q1679.55 26.1121 1683.2 26.7198 Q1686.84 27.3274 1689.92 28.5427 Z\" fill=\"#000000\" fill-rule=\"evenodd\" fill-opacity=\"1\" /><path clip-path=\"url(#clip430)\" d=\"M1711.6 14.324 L1711.6 27.2059 L1726.95 27.2059 L1726.95 32.9987 L1711.6 32.9987 L1711.6 57.6282 Q1711.6 63.1779 1713.09 64.7578 Q1714.63 66.3376 1719.29 66.3376 L1726.95 66.3376 L1726.95 72.576 L1719.29 72.576 Q1710.66 72.576 1707.38 69.3758 Q1704.1 66.1351 1704.1 57.6282 L1704.1 32.9987 L1698.63 32.9987 L1698.63 27.2059 L1704.1 27.2059 L1704.1 14.324 L1711.6 14.324 Z\" fill=\"#000000\" fill-rule=\"evenodd\" fill-opacity=\"1\" /><polyline clip-path=\"url(#clip432)\" style=\"stroke:#009af9; stroke-linecap:butt; stroke-linejoin:round; stroke-width:8; stroke-opacity:1; fill:none\" points=\"\n",
       "  280.231,160.256 374.458,174.783 \n",
       "  \"/>\n",
       "<polyline clip-path=\"url(#clip432)\" style=\"stroke:#009af9; stroke-linecap:butt; stroke-linejoin:round; stroke-width:8; stroke-opacity:1; fill:none\" points=\"\n",
       "  374.458,174.783 506.326,195.726 \n",
       "  \"/>\n",
       "<polyline clip-path=\"url(#clip432)\" style=\"stroke:#009af9; stroke-linecap:butt; stroke-linejoin:round; stroke-width:8; stroke-opacity:1; fill:none\" points=\"\n",
       "  506.326,195.726 689.176,226.09 \n",
       "  \"/>\n",
       "<polyline clip-path=\"url(#clip432)\" style=\"stroke:#009af9; stroke-linecap:butt; stroke-linejoin:round; stroke-width:8; stroke-opacity:1; fill:none\" points=\"\n",
       "  689.176,226.09 938.728,270.481 \n",
       "  \"/>\n",
       "<polyline clip-path=\"url(#clip432)\" style=\"stroke:#009af9; stroke-linecap:butt; stroke-linejoin:round; stroke-width:8; stroke-opacity:1; fill:none\" points=\"\n",
       "  938.728,270.481 1269.3,336.17 \n",
       "  \"/>\n",
       "<polyline clip-path=\"url(#clip432)\" style=\"stroke:#009af9; stroke-linecap:butt; stroke-linejoin:round; stroke-width:8; stroke-opacity:1; fill:none\" points=\"\n",
       "  1269.3,336.17 1670.42,432.475 \n",
       "  \"/>\n",
       "<polyline clip-path=\"url(#clip432)\" style=\"stroke:#009af9; stroke-linecap:butt; stroke-linejoin:round; stroke-width:8; stroke-opacity:1; fill:none\" points=\"\n",
       "  1670.42,432.475 2084.82,576.416 \n",
       "  \"/>\n",
       "<polyline clip-path=\"url(#clip432)\" style=\"stroke:#009af9; stroke-linecap:butt; stroke-linejoin:round; stroke-width:8; stroke-opacity:1; fill:none\" points=\"\n",
       "  2084.82,576.416 2292.39,773.574 \n",
       "  \"/>\n",
       "<polyline clip-path=\"url(#clip432)\" style=\"stroke:#009af9; stroke-linecap:butt; stroke-linejoin:round; stroke-width:4; stroke-opacity:1; fill:none\" points=\"\n",
       "  2292.39,773.574 2077.6,973.627 \n",
       "  \"/>\n",
       "<polyline clip-path=\"url(#clip432)\" style=\"stroke:#009af9; stroke-linecap:butt; stroke-linejoin:round; stroke-width:4; stroke-opacity:1; fill:none\" points=\"\n",
       "  2077.6,973.627 1500.01,1158.05 \n",
       "  \"/>\n",
       "<polyline clip-path=\"url(#clip432)\" style=\"stroke:#009af9; stroke-linecap:butt; stroke-linejoin:round; stroke-width:4; stroke-opacity:1; fill:none\" points=\"\n",
       "  1500.01,1158.05 684.273,1321.4 \n",
       "  \"/>\n",
       "<polyline clip-path=\"url(#clip432)\" style=\"stroke:#009af9; stroke-linecap:butt; stroke-linejoin:round; stroke-width:4; stroke-opacity:1; fill:none\" points=\"\n",
       "  684.273,1321.4 280.231,1386.4 \n",
       "  \"/>\n",
       "<path clip-path=\"url(#clip432)\" d=\"M2280.39 761.574 L2280.39 785.574 L2304.39 785.574 L2304.39 761.574 L2280.39 761.574 Z\" fill=\"#0000ff\" fill-rule=\"evenodd\" fill-opacity=\"1\" stroke=\"#000000\" stroke-opacity=\"1\" stroke-width=\"0\"/>\n",
       "<circle clip-path=\"url(#clip432)\" cx=\"2292.39\" cy=\"773.574\" r=\"10\" fill=\"#0000ff\" fill-rule=\"evenodd\" fill-opacity=\"1\" stroke=\"#000000\" stroke-opacity=\"1\" stroke-width=\"0\"/>\n",
       "<path clip-path=\"url(#clip430)\" d=\"\n",
       "M1991.39 270.476 L2281.66 270.476 L2281.66 166.796 L1991.39 166.796  Z\n",
       "  \" fill=\"#ffffff\" fill-rule=\"evenodd\" fill-opacity=\"1\"/>\n",
       "<polyline clip-path=\"url(#clip430)\" style=\"stroke:#000000; stroke-linecap:butt; stroke-linejoin:round; stroke-width:4; stroke-opacity:1; fill:none\" points=\"\n",
       "  1991.39,270.476 2281.66,270.476 2281.66,166.796 1991.39,166.796 1991.39,270.476 \n",
       "  \"/>\n",
       "<circle clip-path=\"url(#clip430)\" cx=\"2086.18\" cy=\"218.636\" r=\"23\" fill=\"#0000ff\" fill-rule=\"evenodd\" fill-opacity=\"1\" stroke=\"#000000\" stroke-opacity=\"1\" stroke-width=\"0\"/>\n",
       "<path clip-path=\"url(#clip430)\" d=\"M2199.75 222.976 Q2199.75 218.277 2197.8 215.615 Q2195.88 212.93 2192.5 212.93 Q2189.12 212.93 2187.18 215.615 Q2185.26 218.277 2185.26 222.976 Q2185.26 227.675 2187.18 230.36 Q2189.12 233.022 2192.5 233.022 Q2195.88 233.022 2197.8 230.36 Q2199.75 227.675 2199.75 222.976 M2185.26 213.925 Q2186.6 211.61 2188.64 210.499 Q2190.7 209.365 2193.54 209.365 Q2198.27 209.365 2201.21 213.115 Q2204.17 216.865 2204.17 222.976 Q2204.17 229.087 2201.21 232.837 Q2198.27 236.587 2193.54 236.587 Q2190.7 236.587 2188.64 235.476 Q2186.6 234.342 2185.26 232.027 L2185.26 235.916 L2180.98 235.916 L2180.98 199.897 L2185.26 199.897 L2185.26 213.925 Z\" fill=\"#000000\" fill-rule=\"evenodd\" fill-opacity=\"1\" /><path clip-path=\"url(#clip430)\" d=\"M2215.35 232.027 L2215.35 245.777 L2211.07 245.777 L2211.07 209.99 L2215.35 209.99 L2215.35 213.925 Q2216.69 211.61 2218.73 210.499 Q2220.79 209.365 2223.64 209.365 Q2228.36 209.365 2231.3 213.115 Q2234.26 216.865 2234.26 222.976 Q2234.26 229.087 2231.3 232.837 Q2228.36 236.587 2223.64 236.587 Q2220.79 236.587 2218.73 235.476 Q2216.69 234.342 2215.35 232.027 M2229.84 222.976 Q2229.84 218.277 2227.9 215.615 Q2225.98 212.93 2222.6 212.93 Q2219.22 212.93 2217.27 215.615 Q2215.35 218.277 2215.35 222.976 Q2215.35 227.675 2217.27 230.36 Q2219.22 233.022 2222.6 233.022 Q2225.98 233.022 2227.9 230.36 Q2229.84 227.675 2229.84 222.976 Z\" fill=\"#000000\" fill-rule=\"evenodd\" fill-opacity=\"1\" /></svg>\n"
      ]
     },
     "execution_count": 10,
     "metadata": {},
     "output_type": "execute_result"
    }
   ],
   "source": [
    "R=1.0; K=1.0\n",
    "Hmin=0.05; Hmax=0.3\n",
    "F=(x,p) ->  @. logharvest1(x,(p,),0)\n",
    "opts = ContinuationPar(pMin=Hmin,pMax=Hmax, detectBifurcation=3)\n",
    "br, = continuation(F,[1.0],[R,K,Hmin],(@lens _[3]), opts)\n",
    "plot(br,xlabel=\"H\",title=\"Logistica con Harvest\")"
   ]
  },
  {
   "cell_type": "markdown",
   "id": "d320944a",
   "metadata": {},
   "source": [
    "... y tenemos el diagrama de bifurcaciones. \n",
    "\n",
    "El eje horizontal corresponde a $H$. Para $H=RK/4=0.25$ tenemos la bifurcacion de SN (indicada por el punto azul), la rama estable en linea gruesa y la inestable en linea fina. Por que esta invertido con respecto a al forma normal de derecha a izquierda? Pensar en la redefinición de parámetros del paso anterior."
   ]
  },
  {
   "cell_type": "markdown",
   "id": "b9079419",
   "metadata": {},
   "source": [
    "## Critical Slowing Down\n",
    "\n",
    "Supongamos que tenemos el modelo logistico con harvest para los valores de capacidad y crecimiento $K=1$ y $R=1$, y queremos saber cual es el maximo valor de recursos que podemos extraer $H$ antes de que se extinga (catastroficamente) la poblacion. Segun el modelo sabemos que cuando la poblacion se aproxime a $K/2=0.5$ extrayendo algo menos de $KR/4=0.25$ recursos estamos al borde de la extincion. Pero si no tenemos el modelo. Hay alguna indicacion en la dinamica que nos de una pista de que estamos cerca de la bifurcacion? \n",
    "\n",
    "Una posibilidad es perturbar el sistema que se encuentra en su punto fijo estable. con un pequeño pulso en la variable de amplitud $S$. Como el punto fijo es estable va a volver al equilibro con un decaimiento exponencial. Lo interesante es que a medida que nos aproximamos a la bifurcacion SN ese tiempo de decaimiento se va haciendo más y más largo (de ahi el \"slowing down\" y el \"critical\" es porque nos acercamos al punto crítico de la bifurcación). Por qué sucede esto? Si bien no le prestamos mucha atencion hasta ahora a la \"velocidad\" del flujo sobre el espacio de fases, la misma está dada por la magnitud de $f(x)$. A medida que nos acercamos a la bifurcación el \"pedacito\" de $f(x)$ que está entre los dos puntos fijos se va aproximando a cero y el flujo se va enlenteciendo. Pensemos que en la bifurcación propiamente dicha el flujo se detiene por completo en ese punto.\n",
    "\n",
    "Para realizar esta perturbación en el paquete del curso agregamos un metodo adicional  **flux1D**, como un escalar luego del tiempo $tmax$. En este caso vamos a poder controlarlo con el manipulate y corresponde a la amplitud de la perturbacion $S$. Notar como a medida que nos acercamos al valor de la bifurcación $H=0.25$ el retoirno al punto fijo se hace cada vez más lento (critical slowing down)."
   ]
  },
  {
   "cell_type": "code",
   "execution_count": 12,
   "id": "d0aaf03d",
   "metadata": {},
   "outputs": [
    {
     "data": {
      "application/vnd.webio.node+json": {
       "children": [
        {
         "children": [
          {
           "children": [
            {
             "children": [
              {
               "children": [
                {
                 "children": [
                  "H"
                 ],
                 "instanceArgs": {
                  "namespace": "html",
                  "tag": "label"
                 },
                 "nodeType": "DOM",
                 "props": {
                  "className": "interact ",
                  "style": {
                   "padding": "5px 10px 0px 10px"
                  }
                 },
                 "type": "node"
                }
               ],
               "instanceArgs": {
                "namespace": "html",
                "tag": "div"
               },
               "nodeType": "DOM",
               "props": {
                "className": "interact-flex-row-left"
               },
               "type": "node"
              },
              {
               "children": [
                {
                 "children": [],
                 "instanceArgs": {
                  "namespace": "html",
                  "tag": "input"
                 },
                 "nodeType": "DOM",
                 "props": {
                  "attributes": {
                   "data-bind": "numericValue: index, valueUpdate: 'input', event: {change: function (){this.changes(this.changes()+1)}}",
                   "orient": "horizontal",
                   "type": "range"
                  },
                  "className": "slider slider is-fullwidth",
                  "max": 51,
                  "min": 1,
                  "step": 1,
                  "style": {}
                 },
                 "type": "node"
                }
               ],
               "instanceArgs": {
                "namespace": "html",
                "tag": "div"
               },
               "nodeType": "DOM",
               "props": {
                "className": "interact-flex-row-center"
               },
               "type": "node"
              },
              {
               "children": [
                {
                 "children": [],
                 "instanceArgs": {
                  "namespace": "html",
                  "tag": "p"
                 },
                 "nodeType": "DOM",
                 "props": {
                  "attributes": {
                   "data-bind": "text: formatted_val"
                  }
                 },
                 "type": "node"
                }
               ],
               "instanceArgs": {
                "namespace": "html",
                "tag": "div"
               },
               "nodeType": "DOM",
               "props": {
                "className": "interact-flex-row-right"
               },
               "type": "node"
              }
             ],
             "instanceArgs": {
              "namespace": "html",
              "tag": "div"
             },
             "nodeType": "DOM",
             "props": {
              "className": "interact-flex-row interact-widget"
             },
             "type": "node"
            }
           ],
           "instanceArgs": {
            "handlers": {
             "changes": [
              "(function (val){return (val!=this.model[\"changes\"]()) ? (this.valueFromJulia[\"changes\"]=true, this.model[\"changes\"](val)) : undefined})"
             ],
             "index": [
              "(function (val){return (val!=this.model[\"index\"]()) ? (this.valueFromJulia[\"index\"]=true, this.model[\"index\"](val)) : undefined})"
             ]
            },
            "id": "8465035724588018924",
            "imports": {
             "data": [
              {
               "name": "knockout",
               "type": "js",
               "url": "/assetserver/2712bb0a7395d062608c2f218a74b700f6c76b99-knockout.js"
              },
              {
               "name": "knockout_punches",
               "type": "js",
               "url": "/assetserver/fb4445501a2be4ab82176667f844e40da26fa007-knockout_punches.js"
              },
              {
               "name": null,
               "type": "js",
               "url": "/assetserver/a8ea7d9192d5fa85c6fac26c72d7fece1e500138-all.js"
              },
              {
               "name": null,
               "type": "css",
               "url": "/assetserver/620a53798cfdb29a4a2142ce0588e9aadc351d94-style.css"
              },
              {
               "name": null,
               "type": "css",
               "url": "/assetserver/9f2f17f677abbfd015a7c6b0c0f09a2da809bee2-bulma_confined.min.css"
              }
             ],
             "type": "async_block"
            },
            "mount_callbacks": [
             "function () {\n    var handler = (function (ko, koPunches) {\n    ko.punches.enableAll();\n    ko.bindingHandlers.numericValue = {\n        init: function(element, valueAccessor, allBindings, data, context) {\n            var stringified = ko.observable(ko.unwrap(valueAccessor()));\n            stringified.subscribe(function(value) {\n                var val = parseFloat(value);\n                if (!isNaN(val)) {\n                    valueAccessor()(val);\n                }\n            });\n            valueAccessor().subscribe(function(value) {\n                var str = JSON.stringify(value);\n                if ((str == \"0\") && ([\"-0\", \"-0.\"].indexOf(stringified()) >= 0))\n                     return;\n                 if ([\"null\", \"\"].indexOf(str) >= 0)\n                     return;\n                stringified(str);\n            });\n            ko.applyBindingsToNode(\n                element,\n                {\n                    value: stringified,\n                    valueUpdate: allBindings.get('valueUpdate'),\n                },\n                context,\n            );\n        }\n    };\n    var json_data = {\"formatted_vals\":[\"0.2\",\"0.201\",\"0.202\",\"0.203\",\"0.204\",\"0.205\",\"0.206\",\"0.207\",\"0.208\",\"0.209\",\"0.21\",\"0.211\",\"0.212\",\"0.213\",\"0.214\",\"0.215\",\"0.216\",\"0.217\",\"0.218\",\"0.219\",\"0.22\",\"0.221\",\"0.222\",\"0.223\",\"0.224\",\"0.225\",\"0.226\",\"0.227\",\"0.228\",\"0.229\",\"0.23\",\"0.231\",\"0.232\",\"0.233\",\"0.234\",\"0.235\",\"0.236\",\"0.237\",\"0.238\",\"0.239\",\"0.24\",\"0.241\",\"0.242\",\"0.243\",\"0.244\",\"0.245\",\"0.246\",\"0.247\",\"0.248\",\"0.249\",\"0.25\"],\"changes\":WebIO.getval({\"name\":\"changes\",\"scope\":\"8465035724588018924\",\"id\":\"3032764322665198207\",\"type\":\"observable\"}),\"index\":WebIO.getval({\"name\":\"index\",\"scope\":\"8465035724588018924\",\"id\":\"10912187645402716569\",\"type\":\"observable\"})};\n    var self = this;\n    function AppViewModel() {\n        for (var key in json_data) {\n            var el = json_data[key];\n            this[key] = Array.isArray(el) ? ko.observableArray(el) : ko.observable(el);\n        }\n        \n        [this[\"formatted_val\"]=ko.computed(    function(){\n        return this.formatted_vals()[parseInt(this.index())-(1)];\n    }\n,this)]\n        [this[\"changes\"].subscribe((function (val){!(this.valueFromJulia[\"changes\"]) ? (WebIO.setval({\"name\":\"changes\",\"scope\":\"8465035724588018924\",\"id\":\"3032764322665198207\",\"type\":\"observable\"},val)) : undefined; return this.valueFromJulia[\"changes\"]=false}),self),this[\"index\"].subscribe((function (val){!(this.valueFromJulia[\"index\"]) ? (WebIO.setval({\"name\":\"index\",\"scope\":\"8465035724588018924\",\"id\":\"10912187645402716569\",\"type\":\"observable\"},val)) : undefined; return this.valueFromJulia[\"index\"]=false}),self)]\n        \n    }\n    self.model = new AppViewModel();\n    self.valueFromJulia = {};\n    for (var key in json_data) {\n        self.valueFromJulia[key] = false;\n    }\n    ko.applyBindings(self.model, self.dom);\n}\n);\n    (WebIO.importBlock({\"data\":[{\"name\":\"knockout\",\"type\":\"js\",\"url\":\"/assetserver/2712bb0a7395d062608c2f218a74b700f6c76b99-knockout.js\"},{\"name\":\"knockout_punches\",\"type\":\"js\",\"url\":\"/assetserver/fb4445501a2be4ab82176667f844e40da26fa007-knockout_punches.js\"}],\"type\":\"async_block\"})).then((imports) => handler.apply(this, imports));\n}\n"
            ],
            "observables": {
             "changes": {
              "id": "3032764322665198207",
              "sync": false,
              "value": 0
             },
             "index": {
              "id": "10912187645402716569",
              "sync": true,
              "value": 26
             }
            },
            "systemjs_options": null
           },
           "nodeType": "Scope",
           "props": {},
           "type": "node"
          }
         ],
         "instanceArgs": {
          "namespace": "html",
          "tag": "div"
         },
         "nodeType": "DOM",
         "props": {
          "className": "field interact-widget"
         },
         "type": "node"
        },
        {
         "children": [
          {
           "children": [
            {
             "children": [
              {
               "children": [
                {
                 "children": [
                  "S"
                 ],
                 "instanceArgs": {
                  "namespace": "html",
                  "tag": "label"
                 },
                 "nodeType": "DOM",
                 "props": {
                  "className": "interact ",
                  "style": {
                   "padding": "5px 10px 0px 10px"
                  }
                 },
                 "type": "node"
                }
               ],
               "instanceArgs": {
                "namespace": "html",
                "tag": "div"
               },
               "nodeType": "DOM",
               "props": {
                "className": "interact-flex-row-left"
               },
               "type": "node"
              },
              {
               "children": [
                {
                 "children": [],
                 "instanceArgs": {
                  "namespace": "html",
                  "tag": "input"
                 },
                 "nodeType": "DOM",
                 "props": {
                  "attributes": {
                   "data-bind": "numericValue: index, valueUpdate: 'input', event: {change: function (){this.changes(this.changes()+1)}}",
                   "orient": "horizontal",
                   "type": "range"
                  },
                  "className": "slider slider is-fullwidth",
                  "max": 101,
                  "min": 1,
                  "step": 1,
                  "style": {}
                 },
                 "type": "node"
                }
               ],
               "instanceArgs": {
                "namespace": "html",
                "tag": "div"
               },
               "nodeType": "DOM",
               "props": {
                "className": "interact-flex-row-center"
               },
               "type": "node"
              },
              {
               "children": [
                {
                 "children": [],
                 "instanceArgs": {
                  "namespace": "html",
                  "tag": "p"
                 },
                 "nodeType": "DOM",
                 "props": {
                  "attributes": {
                   "data-bind": "text: formatted_val"
                  }
                 },
                 "type": "node"
                }
               ],
               "instanceArgs": {
                "namespace": "html",
                "tag": "div"
               },
               "nodeType": "DOM",
               "props": {
                "className": "interact-flex-row-right"
               },
               "type": "node"
              }
             ],
             "instanceArgs": {
              "namespace": "html",
              "tag": "div"
             },
             "nodeType": "DOM",
             "props": {
              "className": "interact-flex-row interact-widget"
             },
             "type": "node"
            }
           ],
           "instanceArgs": {
            "handlers": {
             "changes": [
              "(function (val){return (val!=this.model[\"changes\"]()) ? (this.valueFromJulia[\"changes\"]=true, this.model[\"changes\"](val)) : undefined})"
             ],
             "index": [
              "(function (val){return (val!=this.model[\"index\"]()) ? (this.valueFromJulia[\"index\"]=true, this.model[\"index\"](val)) : undefined})"
             ]
            },
            "id": "11298723019580491897",
            "imports": {
             "data": [
              {
               "name": "knockout",
               "type": "js",
               "url": "/assetserver/2712bb0a7395d062608c2f218a74b700f6c76b99-knockout.js"
              },
              {
               "name": "knockout_punches",
               "type": "js",
               "url": "/assetserver/fb4445501a2be4ab82176667f844e40da26fa007-knockout_punches.js"
              },
              {
               "name": null,
               "type": "js",
               "url": "/assetserver/a8ea7d9192d5fa85c6fac26c72d7fece1e500138-all.js"
              },
              {
               "name": null,
               "type": "css",
               "url": "/assetserver/620a53798cfdb29a4a2142ce0588e9aadc351d94-style.css"
              },
              {
               "name": null,
               "type": "css",
               "url": "/assetserver/9f2f17f677abbfd015a7c6b0c0f09a2da809bee2-bulma_confined.min.css"
              }
             ],
             "type": "async_block"
            },
            "mount_callbacks": [
             "function () {\n    var handler = (function (ko, koPunches) {\n    ko.punches.enableAll();\n    ko.bindingHandlers.numericValue = {\n        init: function(element, valueAccessor, allBindings, data, context) {\n            var stringified = ko.observable(ko.unwrap(valueAccessor()));\n            stringified.subscribe(function(value) {\n                var val = parseFloat(value);\n                if (!isNaN(val)) {\n                    valueAccessor()(val);\n                }\n            });\n            valueAccessor().subscribe(function(value) {\n                var str = JSON.stringify(value);\n                if ((str == \"0\") && ([\"-0\", \"-0.\"].indexOf(stringified()) >= 0))\n                     return;\n                 if ([\"null\", \"\"].indexOf(str) >= 0)\n                     return;\n                stringified(str);\n            });\n            ko.applyBindingsToNode(\n                element,\n                {\n                    value: stringified,\n                    valueUpdate: allBindings.get('valueUpdate'),\n                },\n                context,\n            );\n        }\n    };\n    var json_data = {\"formatted_vals\":[\"0.0\",\"0.001\",\"0.002\",\"0.003\",\"0.004\",\"0.005\",\"0.006\",\"0.007\",\"0.008\",\"0.009\",\"0.01\",\"0.011\",\"0.012\",\"0.013\",\"0.014\",\"0.015\",\"0.016\",\"0.017\",\"0.018\",\"0.019\",\"0.02\",\"0.021\",\"0.022\",\"0.023\",\"0.024\",\"0.025\",\"0.026\",\"0.027\",\"0.028\",\"0.029\",\"0.03\",\"0.031\",\"0.032\",\"0.033\",\"0.034\",\"0.035\",\"0.036\",\"0.037\",\"0.038\",\"0.039\",\"0.04\",\"0.041\",\"0.042\",\"0.043\",\"0.044\",\"0.045\",\"0.046\",\"0.047\",\"0.048\",\"0.049\",\"0.05\",\"0.051\",\"0.052\",\"0.053\",\"0.054\",\"0.055\",\"0.056\",\"0.057\",\"0.058\",\"0.059\",\"0.06\",\"0.061\",\"0.062\",\"0.063\",\"0.064\",\"0.065\",\"0.066\",\"0.067\",\"0.068\",\"0.069\",\"0.07\",\"0.071\",\"0.072\",\"0.073\",\"0.074\",\"0.075\",\"0.076\",\"0.077\",\"0.078\",\"0.079\",\"0.08\",\"0.081\",\"0.082\",\"0.083\",\"0.084\",\"0.085\",\"0.086\",\"0.087\",\"0.088\",\"0.089\",\"0.09\",\"0.091\",\"0.092\",\"0.093\",\"0.094\",\"0.095\",\"0.096\",\"0.097\",\"0.098\",\"0.099\",\"0.1\"],\"changes\":WebIO.getval({\"name\":\"changes\",\"scope\":\"11298723019580491897\",\"id\":\"6048188631968714772\",\"type\":\"observable\"}),\"index\":WebIO.getval({\"name\":\"index\",\"scope\":\"11298723019580491897\",\"id\":\"14967569390346503044\",\"type\":\"observable\"})};\n    var self = this;\n    function AppViewModel() {\n        for (var key in json_data) {\n            var el = json_data[key];\n            this[key] = Array.isArray(el) ? ko.observableArray(el) : ko.observable(el);\n        }\n        \n        [this[\"formatted_val\"]=ko.computed(    function(){\n        return this.formatted_vals()[parseInt(this.index())-(1)];\n    }\n,this)]\n        [this[\"changes\"].subscribe((function (val){!(this.valueFromJulia[\"changes\"]) ? (WebIO.setval({\"name\":\"changes\",\"scope\":\"11298723019580491897\",\"id\":\"6048188631968714772\",\"type\":\"observable\"},val)) : undefined; return this.valueFromJulia[\"changes\"]=false}),self),this[\"index\"].subscribe((function (val){!(this.valueFromJulia[\"index\"]) ? (WebIO.setval({\"name\":\"index\",\"scope\":\"11298723019580491897\",\"id\":\"14967569390346503044\",\"type\":\"observable\"},val)) : undefined; return this.valueFromJulia[\"index\"]=false}),self)]\n        \n    }\n    self.model = new AppViewModel();\n    self.valueFromJulia = {};\n    for (var key in json_data) {\n        self.valueFromJulia[key] = false;\n    }\n    ko.applyBindings(self.model, self.dom);\n}\n);\n    (WebIO.importBlock({\"data\":[{\"name\":\"knockout\",\"type\":\"js\",\"url\":\"/assetserver/2712bb0a7395d062608c2f218a74b700f6c76b99-knockout.js\"},{\"name\":\"knockout_punches\",\"type\":\"js\",\"url\":\"/assetserver/fb4445501a2be4ab82176667f844e40da26fa007-knockout_punches.js\"}],\"type\":\"async_block\"})).then((imports) => handler.apply(this, imports));\n}\n"
            ],
            "observables": {
             "changes": {
              "id": "6048188631968714772",
              "sync": false,
              "value": 0
             },
             "index": {
              "id": "14967569390346503044",
              "sync": true,
              "value": 51
             }
            },
            "systemjs_options": null
           },
           "nodeType": "Scope",
           "props": {},
           "type": "node"
          }
         ],
         "instanceArgs": {
          "namespace": "html",
          "tag": "div"
         },
         "nodeType": "DOM",
         "props": {
          "className": "field interact-widget"
         },
         "type": "node"
        },
        {
         "children": [
          {
           "children": [
            {
             "children": [
              {
               "children": [
                {
                 "children": [
                  "tmax"
                 ],
                 "instanceArgs": {
                  "namespace": "html",
                  "tag": "label"
                 },
                 "nodeType": "DOM",
                 "props": {
                  "className": "interact ",
                  "style": {
                   "padding": "5px 10px 0px 10px"
                  }
                 },
                 "type": "node"
                }
               ],
               "instanceArgs": {
                "namespace": "html",
                "tag": "div"
               },
               "nodeType": "DOM",
               "props": {
                "className": "interact-flex-row-left"
               },
               "type": "node"
              },
              {
               "children": [
                {
                 "children": [],
                 "instanceArgs": {
                  "namespace": "html",
                  "tag": "input"
                 },
                 "nodeType": "DOM",
                 "props": {
                  "attributes": {
                   "data-bind": "numericValue: index, valueUpdate: 'input', event: {change: function (){this.changes(this.changes()+1)}}",
                   "orient": "horizontal",
                   "type": "range"
                  },
                  "className": "slider slider is-fullwidth",
                  "max": 99,
                  "min": 1,
                  "step": 1,
                  "style": {}
                 },
                 "type": "node"
                }
               ],
               "instanceArgs": {
                "namespace": "html",
                "tag": "div"
               },
               "nodeType": "DOM",
               "props": {
                "className": "interact-flex-row-center"
               },
               "type": "node"
              },
              {
               "children": [
                {
                 "children": [],
                 "instanceArgs": {
                  "namespace": "html",
                  "tag": "p"
                 },
                 "nodeType": "DOM",
                 "props": {
                  "attributes": {
                   "data-bind": "text: formatted_val"
                  }
                 },
                 "type": "node"
                }
               ],
               "instanceArgs": {
                "namespace": "html",
                "tag": "div"
               },
               "nodeType": "DOM",
               "props": {
                "className": "interact-flex-row-right"
               },
               "type": "node"
              }
             ],
             "instanceArgs": {
              "namespace": "html",
              "tag": "div"
             },
             "nodeType": "DOM",
             "props": {
              "className": "interact-flex-row interact-widget"
             },
             "type": "node"
            }
           ],
           "instanceArgs": {
            "handlers": {
             "changes": [
              "(function (val){return (val!=this.model[\"changes\"]()) ? (this.valueFromJulia[\"changes\"]=true, this.model[\"changes\"](val)) : undefined})"
             ],
             "index": [
              "(function (val){return (val!=this.model[\"index\"]()) ? (this.valueFromJulia[\"index\"]=true, this.model[\"index\"](val)) : undefined})"
             ]
            },
            "id": "9418889206319006040",
            "imports": {
             "data": [
              {
               "name": "knockout",
               "type": "js",
               "url": "/assetserver/2712bb0a7395d062608c2f218a74b700f6c76b99-knockout.js"
              },
              {
               "name": "knockout_punches",
               "type": "js",
               "url": "/assetserver/fb4445501a2be4ab82176667f844e40da26fa007-knockout_punches.js"
              },
              {
               "name": null,
               "type": "js",
               "url": "/assetserver/a8ea7d9192d5fa85c6fac26c72d7fece1e500138-all.js"
              },
              {
               "name": null,
               "type": "css",
               "url": "/assetserver/620a53798cfdb29a4a2142ce0588e9aadc351d94-style.css"
              },
              {
               "name": null,
               "type": "css",
               "url": "/assetserver/9f2f17f677abbfd015a7c6b0c0f09a2da809bee2-bulma_confined.min.css"
              }
             ],
             "type": "async_block"
            },
            "mount_callbacks": [
             "function () {\n    var handler = (function (ko, koPunches) {\n    ko.punches.enableAll();\n    ko.bindingHandlers.numericValue = {\n        init: function(element, valueAccessor, allBindings, data, context) {\n            var stringified = ko.observable(ko.unwrap(valueAccessor()));\n            stringified.subscribe(function(value) {\n                var val = parseFloat(value);\n                if (!isNaN(val)) {\n                    valueAccessor()(val);\n                }\n            });\n            valueAccessor().subscribe(function(value) {\n                var str = JSON.stringify(value);\n                if ((str == \"0\") && ([\"-0\", \"-0.\"].indexOf(stringified()) >= 0))\n                     return;\n                 if ([\"null\", \"\"].indexOf(str) >= 0)\n                     return;\n                stringified(str);\n            });\n            ko.applyBindingsToNode(\n                element,\n                {\n                    value: stringified,\n                    valueUpdate: allBindings.get('valueUpdate'),\n                },\n                context,\n            );\n        }\n    };\n    var json_data = {\"formatted_vals\":[\"10.0\",\"15.0\",\"20.0\",\"25.0\",\"30.0\",\"35.0\",\"40.0\",\"45.0\",\"50.0\",\"55.0\",\"60.0\",\"65.0\",\"70.0\",\"75.0\",\"80.0\",\"85.0\",\"90.0\",\"95.0\",\"100.0\",\"105.0\",\"110.0\",\"115.0\",\"120.0\",\"125.0\",\"130.0\",\"135.0\",\"140.0\",\"145.0\",\"150.0\",\"155.0\",\"160.0\",\"165.0\",\"170.0\",\"175.0\",\"180.0\",\"185.0\",\"190.0\",\"195.0\",\"200.0\",\"205.0\",\"210.0\",\"215.0\",\"220.0\",\"225.0\",\"230.0\",\"235.0\",\"240.0\",\"245.0\",\"250.0\",\"255.0\",\"260.0\",\"265.0\",\"270.0\",\"275.0\",\"280.0\",\"285.0\",\"290.0\",\"295.0\",\"300.0\",\"305.0\",\"310.0\",\"315.0\",\"320.0\",\"325.0\",\"330.0\",\"335.0\",\"340.0\",\"345.0\",\"350.0\",\"355.0\",\"360.0\",\"365.0\",\"370.0\",\"375.0\",\"380.0\",\"385.0\",\"390.0\",\"395.0\",\"400.0\",\"405.0\",\"410.0\",\"415.0\",\"420.0\",\"425.0\",\"430.0\",\"435.0\",\"440.0\",\"445.0\",\"450.0\",\"455.0\",\"460.0\",\"465.0\",\"470.0\",\"475.0\",\"480.0\",\"485.0\",\"490.0\",\"495.0\",\"500.0\"],\"changes\":WebIO.getval({\"name\":\"changes\",\"scope\":\"9418889206319006040\",\"id\":\"13721752690347096992\",\"type\":\"observable\"}),\"index\":WebIO.getval({\"name\":\"index\",\"scope\":\"9418889206319006040\",\"id\":\"2967188295943348602\",\"type\":\"observable\"})};\n    var self = this;\n    function AppViewModel() {\n        for (var key in json_data) {\n            var el = json_data[key];\n            this[key] = Array.isArray(el) ? ko.observableArray(el) : ko.observable(el);\n        }\n        \n        [this[\"formatted_val\"]=ko.computed(    function(){\n        return this.formatted_vals()[parseInt(this.index())-(1)];\n    }\n,this)]\n        [this[\"changes\"].subscribe((function (val){!(this.valueFromJulia[\"changes\"]) ? (WebIO.setval({\"name\":\"changes\",\"scope\":\"9418889206319006040\",\"id\":\"13721752690347096992\",\"type\":\"observable\"},val)) : undefined; return this.valueFromJulia[\"changes\"]=false}),self),this[\"index\"].subscribe((function (val){!(this.valueFromJulia[\"index\"]) ? (WebIO.setval({\"name\":\"index\",\"scope\":\"9418889206319006040\",\"id\":\"2967188295943348602\",\"type\":\"observable\"},val)) : undefined; return this.valueFromJulia[\"index\"]=false}),self)]\n        \n    }\n    self.model = new AppViewModel();\n    self.valueFromJulia = {};\n    for (var key in json_data) {\n        self.valueFromJulia[key] = false;\n    }\n    ko.applyBindings(self.model, self.dom);\n}\n);\n    (WebIO.importBlock({\"data\":[{\"name\":\"knockout\",\"type\":\"js\",\"url\":\"/assetserver/2712bb0a7395d062608c2f218a74b700f6c76b99-knockout.js\"},{\"name\":\"knockout_punches\",\"type\":\"js\",\"url\":\"/assetserver/fb4445501a2be4ab82176667f844e40da26fa007-knockout_punches.js\"}],\"type\":\"async_block\"})).then((imports) => handler.apply(this, imports));\n}\n"
            ],
            "observables": {
             "changes": {
              "id": "13721752690347096992",
              "sync": false,
              "value": 0
             },
             "index": {
              "id": "2967188295943348602",
              "sync": true,
              "value": 50
             }
            },
            "systemjs_options": null
           },
           "nodeType": "Scope",
           "props": {},
           "type": "node"
          }
         ],
         "instanceArgs": {
          "namespace": "html",
          "tag": "div"
         },
         "nodeType": "DOM",
         "props": {
          "className": "field interact-widget"
         },
         "type": "node"
        },
        {
         "children": [
          {
           "children": [],
           "instanceArgs": {
            "id": "10546571183172478997",
            "name": "obs-node"
           },
           "nodeType": "ObservableNode",
           "props": {},
           "type": "node"
          }
         ],
         "instanceArgs": {
          "handlers": {},
          "id": "7285077771790291697",
          "imports": {
           "data": [],
           "type": "async_block"
          },
          "mount_callbacks": [],
          "observables": {
           "obs-node": {
            "id": "10546571183172478997",
            "sync": false,
            "value": {
             "children": [
              {
               "children": [],
               "instanceArgs": {
                "namespace": "html",
                "tag": "div"
               },
               "nodeType": "DOM",
               "props": {
                "setInnerHtml": "<img src=\"data:image/png;base64,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\" />"
               },
               "type": "node"
              }
             ],
             "instanceArgs": {
              "namespace": "html",
              "tag": "div"
             },
             "nodeType": "DOM",
             "props": {
              "className": "interact-flex-row interact-widget"
             },
             "type": "node"
            }
           }
          },
          "systemjs_options": null
         },
         "nodeType": "Scope",
         "props": {},
         "type": "node"
        }
       ],
       "instanceArgs": {
        "namespace": "html",
        "tag": "div"
       },
       "nodeType": "DOM",
       "props": {},
       "type": "node"
      },
      "text/html": [
       "<div\n",
       "    class=\"webio-mountpoint\"\n",
       "    data-webio-mountpoint=\"10805844675963444712\"\n",
       ">\n",
       "    <script>\n",
       "    (function(){\n",
       "    // Some integrations (namely, IJulia/Jupyter) use an alternate render pathway than\n",
       "    // just putting the html on the page. If WebIO isn't defined, then it's pretty likely\n",
       "    // that we're in one of those situations and the integration just isn't installed\n",
       "    // correctly.\n",
       "    if (typeof window.WebIO === \"undefined\") {\n",
       "        document\n",
       "            .querySelector('[data-webio-mountpoint=\"10805844675963444712\"]')\n",
       "            .innerHTML = (\n",
       "                '<div style=\"padding: 1em; background-color: #f8d6da; border: 1px solid #f5c6cb; font-weight: bold;\">' +\n",
       "                '<p><strong>WebIO not detected.</strong></p>' +\n",
       "                '<p>Please read ' +\n",
       "                '<a href=\"https://juliagizmos.github.io/WebIO.jl/latest/troubleshooting/not-detected/\" target=\"_blank\">the troubleshooting guide</a> ' +\n",
       "                'for more information on how to resolve this issue.</p>' +\n",
       "                '<p><a href=\"https://juliagizmos.github.io/WebIO.jl/latest/troubleshooting/not-detected/\" target=\"_blank\">https://juliagizmos.github.io/WebIO.jl/latest/troubleshooting/not-detected/</a></p>' +\n",
       "                '</div>'\n",
       "            );\n",
       "        return;\n",
       "    }\n",
       "    WebIO.mount(\n",
       "        document.querySelector('[data-webio-mountpoint=\"10805844675963444712\"]'),\n",
       "        {\"props\":{},\"nodeType\":\"DOM\",\"type\":\"node\",\"instanceArgs\":{\"namespace\":\"html\",\"tag\":\"div\"},\"children\":[{\"props\":{\"className\":\"field interact-widget\"},\"nodeType\":\"DOM\",\"type\":\"node\",\"instanceArgs\":{\"namespace\":\"html\",\"tag\":\"div\"},\"children\":[{\"props\":{},\"nodeType\":\"Scope\",\"type\":\"node\",\"instanceArgs\":{\"imports\":{\"data\":[{\"name\":\"knockout\",\"type\":\"js\",\"url\":\"\\/assetserver\\/2712bb0a7395d062608c2f218a74b700f6c76b99-knockout.js\"},{\"name\":\"knockout_punches\",\"type\":\"js\",\"url\":\"\\/assetserver\\/fb4445501a2be4ab82176667f844e40da26fa007-knockout_punches.js\"},{\"name\":null,\"type\":\"js\",\"url\":\"\\/assetserver\\/a8ea7d9192d5fa85c6fac26c72d7fece1e500138-all.js\"},{\"name\":null,\"type\":\"css\",\"url\":\"\\/assetserver\\/620a53798cfdb29a4a2142ce0588e9aadc351d94-style.css\"},{\"name\":null,\"type\":\"css\",\"url\":\"\\/assetserver\\/9f2f17f677abbfd015a7c6b0c0f09a2da809bee2-bulma_confined.min.css\"}],\"type\":\"async_block\"},\"id\":\"8465035724588018924\",\"handlers\":{\"changes\":[\"(function (val){return (val!=this.model[\\\"changes\\\"]()) ? (this.valueFromJulia[\\\"changes\\\"]=true, this.model[\\\"changes\\\"](val)) : undefined})\"],\"index\":[\"(function (val){return (val!=this.model[\\\"index\\\"]()) ? (this.valueFromJulia[\\\"index\\\"]=true, this.model[\\\"index\\\"](val)) : undefined})\"]},\"systemjs_options\":null,\"mount_callbacks\":[\"function () {\\n    var handler = (function (ko, koPunches) {\\n    ko.punches.enableAll();\\n    ko.bindingHandlers.numericValue = {\\n        init: function(element, valueAccessor, allBindings, data, context) {\\n            var stringified = ko.observable(ko.unwrap(valueAccessor()));\\n            stringified.subscribe(function(value) {\\n                var val = parseFloat(value);\\n                if (!isNaN(val)) {\\n                    valueAccessor()(val);\\n                }\\n            });\\n            valueAccessor().subscribe(function(value) {\\n                var str = JSON.stringify(value);\\n                if ((str == \\\"0\\\") && ([\\\"-0\\\", \\\"-0.\\\"].indexOf(stringified()) >= 0))\\n                     return;\\n                 if ([\\\"null\\\", \\\"\\\"].indexOf(str) >= 0)\\n                     return;\\n                stringified(str);\\n            });\\n            ko.applyBindingsToNode(\\n                element,\\n                {\\n                    value: stringified,\\n                    valueUpdate: allBindings.get('valueUpdate'),\\n                },\\n                context,\\n            );\\n        }\\n    };\\n    var json_data = {\\\"formatted_vals\\\":[\\\"0.2\\\",\\\"0.201\\\",\\\"0.202\\\",\\\"0.203\\\",\\\"0.204\\\",\\\"0.205\\\",\\\"0.206\\\",\\\"0.207\\\",\\\"0.208\\\",\\\"0.209\\\",\\\"0.21\\\",\\\"0.211\\\",\\\"0.212\\\",\\\"0.213\\\",\\\"0.214\\\",\\\"0.215\\\",\\\"0.216\\\",\\\"0.217\\\",\\\"0.218\\\",\\\"0.219\\\",\\\"0.22\\\",\\\"0.221\\\",\\\"0.222\\\",\\\"0.223\\\",\\\"0.224\\\",\\\"0.225\\\",\\\"0.226\\\",\\\"0.227\\\",\\\"0.228\\\",\\\"0.229\\\",\\\"0.23\\\",\\\"0.231\\\",\\\"0.232\\\",\\\"0.233\\\",\\\"0.234\\\",\\\"0.235\\\",\\\"0.236\\\",\\\"0.237\\\",\\\"0.238\\\",\\\"0.239\\\",\\\"0.24\\\",\\\"0.241\\\",\\\"0.242\\\",\\\"0.243\\\",\\\"0.244\\\",\\\"0.245\\\",\\\"0.246\\\",\\\"0.247\\\",\\\"0.248\\\",\\\"0.249\\\",\\\"0.25\\\"],\\\"changes\\\":WebIO.getval({\\\"name\\\":\\\"changes\\\",\\\"scope\\\":\\\"8465035724588018924\\\",\\\"id\\\":\\\"3032764322665198207\\\",\\\"type\\\":\\\"observable\\\"}),\\\"index\\\":WebIO.getval({\\\"name\\\":\\\"index\\\",\\\"scope\\\":\\\"8465035724588018924\\\",\\\"id\\\":\\\"10912187645402716569\\\",\\\"type\\\":\\\"observable\\\"})};\\n    var self = this;\\n    function AppViewModel() {\\n        for (var key in json_data) {\\n            var el = json_data[key];\\n            this[key] = Array.isArray(el) ? ko.observableArray(el) : ko.observable(el);\\n        }\\n        \\n        [this[\\\"formatted_val\\\"]=ko.computed(    function(){\\n        return this.formatted_vals()[parseInt(this.index())-(1)];\\n    }\\n,this)]\\n        [this[\\\"changes\\\"].subscribe((function (val){!(this.valueFromJulia[\\\"changes\\\"]) ? (WebIO.setval({\\\"name\\\":\\\"changes\\\",\\\"scope\\\":\\\"8465035724588018924\\\",\\\"id\\\":\\\"3032764322665198207\\\",\\\"type\\\":\\\"observable\\\"},val)) : undefined; return this.valueFromJulia[\\\"changes\\\"]=false}),self),this[\\\"index\\\"].subscribe((function (val){!(this.valueFromJulia[\\\"index\\\"]) ? (WebIO.setval({\\\"name\\\":\\\"index\\\",\\\"scope\\\":\\\"8465035724588018924\\\",\\\"id\\\":\\\"10912187645402716569\\\",\\\"type\\\":\\\"observable\\\"},val)) : undefined; return this.valueFromJulia[\\\"index\\\"]=false}),self)]\\n        \\n    }\\n    self.model = new AppViewModel();\\n    self.valueFromJulia = {};\\n    for (var key in json_data) {\\n        self.valueFromJulia[key] = false;\\n    }\\n    ko.applyBindings(self.model, self.dom);\\n}\\n);\\n    (WebIO.importBlock({\\\"data\\\":[{\\\"name\\\":\\\"knockout\\\",\\\"type\\\":\\\"js\\\",\\\"url\\\":\\\"\\/assetserver\\/2712bb0a7395d062608c2f218a74b700f6c76b99-knockout.js\\\"},{\\\"name\\\":\\\"knockout_punches\\\",\\\"type\\\":\\\"js\\\",\\\"url\\\":\\\"\\/assetserver\\/fb4445501a2be4ab82176667f844e40da26fa007-knockout_punches.js\\\"}],\\\"type\\\":\\\"async_block\\\"})).then((imports) => handler.apply(this, imports));\\n}\\n\"],\"observables\":{\"changes\":{\"sync\":false,\"id\":\"3032764322665198207\",\"value\":0},\"index\":{\"sync\":true,\"id\":\"10912187645402716569\",\"value\":26}}},\"children\":[{\"props\":{\"className\":\"interact-flex-row interact-widget\"},\"nodeType\":\"DOM\",\"type\":\"node\",\"instanceArgs\":{\"namespace\":\"html\",\"tag\":\"div\"},\"children\":[{\"props\":{\"className\":\"interact-flex-row-left\"},\"nodeType\":\"DOM\",\"type\":\"node\",\"instanceArgs\":{\"namespace\":\"html\",\"tag\":\"div\"},\"children\":[{\"props\":{\"className\":\"interact \",\"style\":{\"padding\":\"5px 10px 0px 10px\"}},\"nodeType\":\"DOM\",\"type\":\"node\",\"instanceArgs\":{\"namespace\":\"html\",\"tag\":\"label\"},\"children\":[\"H\"]}]},{\"props\":{\"className\":\"interact-flex-row-center\"},\"nodeType\":\"DOM\",\"type\":\"node\",\"instanceArgs\":{\"namespace\":\"html\",\"tag\":\"div\"},\"children\":[{\"props\":{\"max\":51,\"min\":1,\"attributes\":{\"type\":\"range\",\"data-bind\":\"numericValue: index, valueUpdate: 'input', event: {change: function (){this.changes(this.changes()+1)}}\",\"orient\":\"horizontal\"},\"step\":1,\"className\":\"slider slider is-fullwidth\",\"style\":{}},\"nodeType\":\"DOM\",\"type\":\"node\",\"instanceArgs\":{\"namespace\":\"html\",\"tag\":\"input\"},\"children\":[]}]},{\"props\":{\"className\":\"interact-flex-row-right\"},\"nodeType\":\"DOM\",\"type\":\"node\",\"instanceArgs\":{\"namespace\":\"html\",\"tag\":\"div\"},\"children\":[{\"props\":{\"attributes\":{\"data-bind\":\"text: formatted_val\"}},\"nodeType\":\"DOM\",\"type\":\"node\",\"instanceArgs\":{\"namespace\":\"html\",\"tag\":\"p\"},\"children\":[]}]}]}]}]},{\"props\":{\"className\":\"field interact-widget\"},\"nodeType\":\"DOM\",\"type\":\"node\",\"instanceArgs\":{\"namespace\":\"html\",\"tag\":\"div\"},\"children\":[{\"props\":{},\"nodeType\":\"Scope\",\"type\":\"node\",\"instanceArgs\":{\"imports\":{\"data\":[{\"name\":\"knockout\",\"type\":\"js\",\"url\":\"\\/assetserver\\/2712bb0a7395d062608c2f218a74b700f6c76b99-knockout.js\"},{\"name\":\"knockout_punches\",\"type\":\"js\",\"url\":\"\\/assetserver\\/fb4445501a2be4ab82176667f844e40da26fa007-knockout_punches.js\"},{\"name\":null,\"type\":\"js\",\"url\":\"\\/assetserver\\/a8ea7d9192d5fa85c6fac26c72d7fece1e500138-all.js\"},{\"name\":null,\"type\":\"css\",\"url\":\"\\/assetserver\\/620a53798cfdb29a4a2142ce0588e9aadc351d94-style.css\"},{\"name\":null,\"type\":\"css\",\"url\":\"\\/assetserver\\/9f2f17f677abbfd015a7c6b0c0f09a2da809bee2-bulma_confined.min.css\"}],\"type\":\"async_block\"},\"id\":\"11298723019580491897\",\"handlers\":{\"changes\":[\"(function (val){return (val!=this.model[\\\"changes\\\"]()) ? (this.valueFromJulia[\\\"changes\\\"]=true, this.model[\\\"changes\\\"](val)) : undefined})\"],\"index\":[\"(function (val){return (val!=this.model[\\\"index\\\"]()) ? (this.valueFromJulia[\\\"index\\\"]=true, this.model[\\\"index\\\"](val)) : undefined})\"]},\"systemjs_options\":null,\"mount_callbacks\":[\"function () {\\n    var handler = (function (ko, koPunches) {\\n    ko.punches.enableAll();\\n    ko.bindingHandlers.numericValue = {\\n        init: function(element, valueAccessor, allBindings, data, context) {\\n            var stringified = ko.observable(ko.unwrap(valueAccessor()));\\n            stringified.subscribe(function(value) {\\n                var val = parseFloat(value);\\n                if (!isNaN(val)) {\\n                    valueAccessor()(val);\\n                }\\n            });\\n            valueAccessor().subscribe(function(value) {\\n                var str = JSON.stringify(value);\\n                if ((str == \\\"0\\\") && ([\\\"-0\\\", \\\"-0.\\\"].indexOf(stringified()) >= 0))\\n                     return;\\n                 if ([\\\"null\\\", \\\"\\\"].indexOf(str) >= 0)\\n                     return;\\n                stringified(str);\\n            });\\n            ko.applyBindingsToNode(\\n                element,\\n                {\\n                    value: stringified,\\n                    valueUpdate: allBindings.get('valueUpdate'),\\n                },\\n                context,\\n            );\\n        }\\n    };\\n    var json_data = {\\\"formatted_vals\\\":[\\\"0.0\\\",\\\"0.001\\\",\\\"0.002\\\",\\\"0.003\\\",\\\"0.004\\\",\\\"0.005\\\",\\\"0.006\\\",\\\"0.007\\\",\\\"0.008\\\",\\\"0.009\\\",\\\"0.01\\\",\\\"0.011\\\",\\\"0.012\\\",\\\"0.013\\\",\\\"0.014\\\",\\\"0.015\\\",\\\"0.016\\\",\\\"0.017\\\",\\\"0.018\\\",\\\"0.019\\\",\\\"0.02\\\",\\\"0.021\\\",\\\"0.022\\\",\\\"0.023\\\",\\\"0.024\\\",\\\"0.025\\\",\\\"0.026\\\",\\\"0.027\\\",\\\"0.028\\\",\\\"0.029\\\",\\\"0.03\\\",\\\"0.031\\\",\\\"0.032\\\",\\\"0.033\\\",\\\"0.034\\\",\\\"0.035\\\",\\\"0.036\\\",\\\"0.037\\\",\\\"0.038\\\",\\\"0.039\\\",\\\"0.04\\\",\\\"0.041\\\",\\\"0.042\\\",\\\"0.043\\\",\\\"0.044\\\",\\\"0.045\\\",\\\"0.046\\\",\\\"0.047\\\",\\\"0.048\\\",\\\"0.049\\\",\\\"0.05\\\",\\\"0.051\\\",\\\"0.052\\\",\\\"0.053\\\",\\\"0.054\\\",\\\"0.055\\\",\\\"0.056\\\",\\\"0.057\\\",\\\"0.058\\\",\\\"0.059\\\",\\\"0.06\\\",\\\"0.061\\\",\\\"0.062\\\",\\\"0.063\\\",\\\"0.064\\\",\\\"0.065\\\",\\\"0.066\\\",\\\"0.067\\\",\\\"0.068\\\",\\\"0.069\\\",\\\"0.07\\\",\\\"0.071\\\",\\\"0.072\\\",\\\"0.073\\\",\\\"0.074\\\",\\\"0.075\\\",\\\"0.076\\\",\\\"0.077\\\",\\\"0.078\\\",\\\"0.079\\\",\\\"0.08\\\",\\\"0.081\\\",\\\"0.082\\\",\\\"0.083\\\",\\\"0.084\\\",\\\"0.085\\\",\\\"0.086\\\",\\\"0.087\\\",\\\"0.088\\\",\\\"0.089\\\",\\\"0.09\\\",\\\"0.091\\\",\\\"0.092\\\",\\\"0.093\\\",\\\"0.094\\\",\\\"0.095\\\",\\\"0.096\\\",\\\"0.097\\\",\\\"0.098\\\",\\\"0.099\\\",\\\"0.1\\\"],\\\"changes\\\":WebIO.getval({\\\"name\\\":\\\"changes\\\",\\\"scope\\\":\\\"11298723019580491897\\\",\\\"id\\\":\\\"6048188631968714772\\\",\\\"type\\\":\\\"observable\\\"}),\\\"index\\\":WebIO.getval({\\\"name\\\":\\\"index\\\",\\\"scope\\\":\\\"11298723019580491897\\\",\\\"id\\\":\\\"14967569390346503044\\\",\\\"type\\\":\\\"observable\\\"})};\\n    var self = this;\\n    function AppViewModel() {\\n        for (var key in json_data) {\\n            var el = json_data[key];\\n            this[key] = Array.isArray(el) ? ko.observableArray(el) : ko.observable(el);\\n        }\\n        \\n        [this[\\\"formatted_val\\\"]=ko.computed(    function(){\\n        return this.formatted_vals()[parseInt(this.index())-(1)];\\n    }\\n,this)]\\n        [this[\\\"changes\\\"].subscribe((function (val){!(this.valueFromJulia[\\\"changes\\\"]) ? (WebIO.setval({\\\"name\\\":\\\"changes\\\",\\\"scope\\\":\\\"11298723019580491897\\\",\\\"id\\\":\\\"6048188631968714772\\\",\\\"type\\\":\\\"observable\\\"},val)) : undefined; return this.valueFromJulia[\\\"changes\\\"]=false}),self),this[\\\"index\\\"].subscribe((function (val){!(this.valueFromJulia[\\\"index\\\"]) ? (WebIO.setval({\\\"name\\\":\\\"index\\\",\\\"scope\\\":\\\"11298723019580491897\\\",\\\"id\\\":\\\"14967569390346503044\\\",\\\"type\\\":\\\"observable\\\"},val)) : undefined; return this.valueFromJulia[\\\"index\\\"]=false}),self)]\\n        \\n    }\\n    self.model = new AppViewModel();\\n    self.valueFromJulia = {};\\n    for (var key in json_data) {\\n        self.valueFromJulia[key] = false;\\n    }\\n    ko.applyBindings(self.model, self.dom);\\n}\\n);\\n    (WebIO.importBlock({\\\"data\\\":[{\\\"name\\\":\\\"knockout\\\",\\\"type\\\":\\\"js\\\",\\\"url\\\":\\\"\\/assetserver\\/2712bb0a7395d062608c2f218a74b700f6c76b99-knockout.js\\\"},{\\\"name\\\":\\\"knockout_punches\\\",\\\"type\\\":\\\"js\\\",\\\"url\\\":\\\"\\/assetserver\\/fb4445501a2be4ab82176667f844e40da26fa007-knockout_punches.js\\\"}],\\\"type\\\":\\\"async_block\\\"})).then((imports) => handler.apply(this, imports));\\n}\\n\"],\"observables\":{\"changes\":{\"sync\":false,\"id\":\"6048188631968714772\",\"value\":0},\"index\":{\"sync\":true,\"id\":\"14967569390346503044\",\"value\":51}}},\"children\":[{\"props\":{\"className\":\"interact-flex-row interact-widget\"},\"nodeType\":\"DOM\",\"type\":\"node\",\"instanceArgs\":{\"namespace\":\"html\",\"tag\":\"div\"},\"children\":[{\"props\":{\"className\":\"interact-flex-row-left\"},\"nodeType\":\"DOM\",\"type\":\"node\",\"instanceArgs\":{\"namespace\":\"html\",\"tag\":\"div\"},\"children\":[{\"props\":{\"className\":\"interact \",\"style\":{\"padding\":\"5px 10px 0px 10px\"}},\"nodeType\":\"DOM\",\"type\":\"node\",\"instanceArgs\":{\"namespace\":\"html\",\"tag\":\"label\"},\"children\":[\"S\"]}]},{\"props\":{\"className\":\"interact-flex-row-center\"},\"nodeType\":\"DOM\",\"type\":\"node\",\"instanceArgs\":{\"namespace\":\"html\",\"tag\":\"div\"},\"children\":[{\"props\":{\"max\":101,\"min\":1,\"attributes\":{\"type\":\"range\",\"data-bind\":\"numericValue: index, valueUpdate: 'input', event: {change: function (){this.changes(this.changes()+1)}}\",\"orient\":\"horizontal\"},\"step\":1,\"className\":\"slider slider is-fullwidth\",\"style\":{}},\"nodeType\":\"DOM\",\"type\":\"node\",\"instanceArgs\":{\"namespace\":\"html\",\"tag\":\"input\"},\"children\":[]}]},{\"props\":{\"className\":\"interact-flex-row-right\"},\"nodeType\":\"DOM\",\"type\":\"node\",\"instanceArgs\":{\"namespace\":\"html\",\"tag\":\"div\"},\"children\":[{\"props\":{\"attributes\":{\"data-bind\":\"text: formatted_val\"}},\"nodeType\":\"DOM\",\"type\":\"node\",\"instanceArgs\":{\"namespace\":\"html\",\"tag\":\"p\"},\"children\":[]}]}]}]}]},{\"props\":{\"className\":\"field interact-widget\"},\"nodeType\":\"DOM\",\"type\":\"node\",\"instanceArgs\":{\"namespace\":\"html\",\"tag\":\"div\"},\"children\":[{\"props\":{},\"nodeType\":\"Scope\",\"type\":\"node\",\"instanceArgs\":{\"imports\":{\"data\":[{\"name\":\"knockout\",\"type\":\"js\",\"url\":\"\\/assetserver\\/2712bb0a7395d062608c2f218a74b700f6c76b99-knockout.js\"},{\"name\":\"knockout_punches\",\"type\":\"js\",\"url\":\"\\/assetserver\\/fb4445501a2be4ab82176667f844e40da26fa007-knockout_punches.js\"},{\"name\":null,\"type\":\"js\",\"url\":\"\\/assetserver\\/a8ea7d9192d5fa85c6fac26c72d7fece1e500138-all.js\"},{\"name\":null,\"type\":\"css\",\"url\":\"\\/assetserver\\/620a53798cfdb29a4a2142ce0588e9aadc351d94-style.css\"},{\"name\":null,\"type\":\"css\",\"url\":\"\\/assetserver\\/9f2f17f677abbfd015a7c6b0c0f09a2da809bee2-bulma_confined.min.css\"}],\"type\":\"async_block\"},\"id\":\"9418889206319006040\",\"handlers\":{\"changes\":[\"(function (val){return (val!=this.model[\\\"changes\\\"]()) ? (this.valueFromJulia[\\\"changes\\\"]=true, this.model[\\\"changes\\\"](val)) : undefined})\"],\"index\":[\"(function (val){return (val!=this.model[\\\"index\\\"]()) ? (this.valueFromJulia[\\\"index\\\"]=true, this.model[\\\"index\\\"](val)) : undefined})\"]},\"systemjs_options\":null,\"mount_callbacks\":[\"function () {\\n    var handler = (function (ko, koPunches) {\\n    ko.punches.enableAll();\\n    ko.bindingHandlers.numericValue = {\\n        init: function(element, valueAccessor, allBindings, data, context) {\\n            var stringified = ko.observable(ko.unwrap(valueAccessor()));\\n            stringified.subscribe(function(value) {\\n                var val = parseFloat(value);\\n                if (!isNaN(val)) {\\n                    valueAccessor()(val);\\n                }\\n            });\\n            valueAccessor().subscribe(function(value) {\\n                var str = JSON.stringify(value);\\n                if ((str == \\\"0\\\") && ([\\\"-0\\\", \\\"-0.\\\"].indexOf(stringified()) >= 0))\\n                     return;\\n                 if ([\\\"null\\\", \\\"\\\"].indexOf(str) >= 0)\\n                     return;\\n                stringified(str);\\n            });\\n            ko.applyBindingsToNode(\\n                element,\\n                {\\n                    value: stringified,\\n                    valueUpdate: allBindings.get('valueUpdate'),\\n                },\\n                context,\\n            );\\n        }\\n    };\\n    var json_data = {\\\"formatted_vals\\\":[\\\"10.0\\\",\\\"15.0\\\",\\\"20.0\\\",\\\"25.0\\\",\\\"30.0\\\",\\\"35.0\\\",\\\"40.0\\\",\\\"45.0\\\",\\\"50.0\\\",\\\"55.0\\\",\\\"60.0\\\",\\\"65.0\\\",\\\"70.0\\\",\\\"75.0\\\",\\\"80.0\\\",\\\"85.0\\\",\\\"90.0\\\",\\\"95.0\\\",\\\"100.0\\\",\\\"105.0\\\",\\\"110.0\\\",\\\"115.0\\\",\\\"120.0\\\",\\\"125.0\\\",\\\"130.0\\\",\\\"135.0\\\",\\\"140.0\\\",\\\"145.0\\\",\\\"150.0\\\",\\\"155.0\\\",\\\"160.0\\\",\\\"165.0\\\",\\\"170.0\\\",\\\"175.0\\\",\\\"180.0\\\",\\\"185.0\\\",\\\"190.0\\\",\\\"195.0\\\",\\\"200.0\\\",\\\"205.0\\\",\\\"210.0\\\",\\\"215.0\\\",\\\"220.0\\\",\\\"225.0\\\",\\\"230.0\\\",\\\"235.0\\\",\\\"240.0\\\",\\\"245.0\\\",\\\"250.0\\\",\\\"255.0\\\",\\\"260.0\\\",\\\"265.0\\\",\\\"270.0\\\",\\\"275.0\\\",\\\"280.0\\\",\\\"285.0\\\",\\\"290.0\\\",\\\"295.0\\\",\\\"300.0\\\",\\\"305.0\\\",\\\"310.0\\\",\\\"315.0\\\",\\\"320.0\\\",\\\"325.0\\\",\\\"330.0\\\",\\\"335.0\\\",\\\"340.0\\\",\\\"345.0\\\",\\\"350.0\\\",\\\"355.0\\\",\\\"360.0\\\",\\\"365.0\\\",\\\"370.0\\\",\\\"375.0\\\",\\\"380.0\\\",\\\"385.0\\\",\\\"390.0\\\",\\\"395.0\\\",\\\"400.0\\\",\\\"405.0\\\",\\\"410.0\\\",\\\"415.0\\\",\\\"420.0\\\",\\\"425.0\\\",\\\"430.0\\\",\\\"435.0\\\",\\\"440.0\\\",\\\"445.0\\\",\\\"450.0\\\",\\\"455.0\\\",\\\"460.0\\\",\\\"465.0\\\",\\\"470.0\\\",\\\"475.0\\\",\\\"480.0\\\",\\\"485.0\\\",\\\"490.0\\\",\\\"495.0\\\",\\\"500.0\\\"],\\\"changes\\\":WebIO.getval({\\\"name\\\":\\\"changes\\\",\\\"scope\\\":\\\"9418889206319006040\\\",\\\"id\\\":\\\"13721752690347096992\\\",\\\"type\\\":\\\"observable\\\"}),\\\"index\\\":WebIO.getval({\\\"name\\\":\\\"index\\\",\\\"scope\\\":\\\"9418889206319006040\\\",\\\"id\\\":\\\"2967188295943348602\\\",\\\"type\\\":\\\"observable\\\"})};\\n    var self = this;\\n    function AppViewModel() {\\n        for (var key in json_data) {\\n            var el = json_data[key];\\n            this[key] = Array.isArray(el) ? ko.observableArray(el) : ko.observable(el);\\n        }\\n        \\n        [this[\\\"formatted_val\\\"]=ko.computed(    function(){\\n        return this.formatted_vals()[parseInt(this.index())-(1)];\\n    }\\n,this)]\\n        [this[\\\"changes\\\"].subscribe((function (val){!(this.valueFromJulia[\\\"changes\\\"]) ? (WebIO.setval({\\\"name\\\":\\\"changes\\\",\\\"scope\\\":\\\"9418889206319006040\\\",\\\"id\\\":\\\"13721752690347096992\\\",\\\"type\\\":\\\"observable\\\"},val)) : undefined; return this.valueFromJulia[\\\"changes\\\"]=false}),self),this[\\\"index\\\"].subscribe((function (val){!(this.valueFromJulia[\\\"index\\\"]) ? (WebIO.setval({\\\"name\\\":\\\"index\\\",\\\"scope\\\":\\\"9418889206319006040\\\",\\\"id\\\":\\\"2967188295943348602\\\",\\\"type\\\":\\\"observable\\\"},val)) : undefined; return this.valueFromJulia[\\\"index\\\"]=false}),self)]\\n        \\n    }\\n    self.model = new AppViewModel();\\n    self.valueFromJulia = {};\\n    for (var key in json_data) {\\n        self.valueFromJulia[key] = false;\\n    }\\n    ko.applyBindings(self.model, self.dom);\\n}\\n);\\n    (WebIO.importBlock({\\\"data\\\":[{\\\"name\\\":\\\"knockout\\\",\\\"type\\\":\\\"js\\\",\\\"url\\\":\\\"\\/assetserver\\/2712bb0a7395d062608c2f218a74b700f6c76b99-knockout.js\\\"},{\\\"name\\\":\\\"knockout_punches\\\",\\\"type\\\":\\\"js\\\",\\\"url\\\":\\\"\\/assetserver\\/fb4445501a2be4ab82176667f844e40da26fa007-knockout_punches.js\\\"}],\\\"type\\\":\\\"async_block\\\"})).then((imports) => handler.apply(this, imports));\\n}\\n\"],\"observables\":{\"changes\":{\"sync\":false,\"id\":\"13721752690347096992\",\"value\":0},\"index\":{\"sync\":true,\"id\":\"2967188295943348602\",\"value\":50}}},\"children\":[{\"props\":{\"className\":\"interact-flex-row interact-widget\"},\"nodeType\":\"DOM\",\"type\":\"node\",\"instanceArgs\":{\"namespace\":\"html\",\"tag\":\"div\"},\"children\":[{\"props\":{\"className\":\"interact-flex-row-left\"},\"nodeType\":\"DOM\",\"type\":\"node\",\"instanceArgs\":{\"namespace\":\"html\",\"tag\":\"div\"},\"children\":[{\"props\":{\"className\":\"interact \",\"style\":{\"padding\":\"5px 10px 0px 10px\"}},\"nodeType\":\"DOM\",\"type\":\"node\",\"instanceArgs\":{\"namespace\":\"html\",\"tag\":\"label\"},\"children\":[\"tmax\"]}]},{\"props\":{\"className\":\"interact-flex-row-center\"},\"nodeType\":\"DOM\",\"type\":\"node\",\"instanceArgs\":{\"namespace\":\"html\",\"tag\":\"div\"},\"children\":[{\"props\":{\"max\":99,\"min\":1,\"attributes\":{\"type\":\"range\",\"data-bind\":\"numericValue: index, valueUpdate: 'input', event: {change: function (){this.changes(this.changes()+1)}}\",\"orient\":\"horizontal\"},\"step\":1,\"className\":\"slider slider is-fullwidth\",\"style\":{}},\"nodeType\":\"DOM\",\"type\":\"node\",\"instanceArgs\":{\"namespace\":\"html\",\"tag\":\"input\"},\"children\":[]}]},{\"props\":{\"className\":\"interact-flex-row-right\"},\"nodeType\":\"DOM\",\"type\":\"node\",\"instanceArgs\":{\"namespace\":\"html\",\"tag\":\"div\"},\"children\":[{\"props\":{\"attributes\":{\"data-bind\":\"text: formatted_val\"}},\"nodeType\":\"DOM\",\"type\":\"node\",\"instanceArgs\":{\"namespace\":\"html\",\"tag\":\"p\"},\"children\":[]}]}]}]}]},{\"props\":{},\"nodeType\":\"Scope\",\"type\":\"node\",\"instanceArgs\":{\"imports\":{\"data\":[],\"type\":\"async_block\"},\"id\":\"5014292397725708801\",\"handlers\":{},\"systemjs_options\":null,\"mount_callbacks\":[],\"observables\":{\"obs-node\":{\"sync\":false,\"id\":\"8572050295376561131\",\"value\":{\"props\":{\"className\":\"interact-flex-row interact-widget\"},\"nodeType\":\"DOM\",\"type\":\"node\",\"instanceArgs\":{\"namespace\":\"html\",\"tag\":\"div\"},\"children\":[{\"props\":{\"setInnerHtml\":\"<img src=\\\"data:image\\/png;base64,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\\\" \\/>\"},\"nodeType\":\"DOM\",\"type\":\"node\",\"instanceArgs\":{\"namespace\":\"html\",\"tag\":\"div\"},\"children\":[]}]}}}},\"children\":[{\"props\":{},\"nodeType\":\"ObservableNode\",\"type\":\"node\",\"instanceArgs\":{\"id\":\"8572050295376561131\",\"name\":\"obs-node\"},\"children\":[]}]}]},\n",
       "        window,\n",
       "    );\n",
       "    })()\n",
       "    </script>\n",
       "</div>\n"
      ],
      "text/plain": [
       "Node{WebIO.DOM}(WebIO.DOM(:html, :div), Any[Node{WebIO.DOM}(WebIO.DOM(:html, :div), Any[Scope(Node{WebIO.DOM}(WebIO.DOM(:html, :div), Any[Node{WebIO.DOM}(WebIO.DOM(:html, :div), Any[Node{WebIO.DOM}(WebIO.DOM(:html, :label), Any[\"H\"], Dict{Symbol, Any}(:className => \"interact \", :style => Dict{Any, Any}(:padding => \"5px 10px 0px 10px\")))], Dict{Symbol, Any}(:className => \"interact-flex-row-left\")), Node{WebIO.DOM}(WebIO.DOM(:html, :div), Any[Node{WebIO.DOM}(WebIO.DOM(:html, :input), Any[], Dict{Symbol, Any}(:max => 51, :min => 1, :attributes => Dict{Any, Any}(:type => \"range\", Symbol(\"data-bind\") => \"numericValue: index, valueUpdate: 'input', event: {change: function (){this.changes(this.changes()+1)}}\", \"orient\" => \"horizontal\"), :step => 1, :className => \"slider slider is-fullwidth\", :style => Dict{Any, Any}()))], Dict{Symbol, Any}(:className => \"interact-flex-row-center\")), Node{WebIO.DOM}(WebIO.DOM(:html, :div), Any[Node{WebIO.DOM}(WebIO.DOM(:html, :p), Any[], Dict{Symbol, Any}(:attributes => Dict(\"data-bind\" => \"text: formatted_val\")))], Dict{Symbol, Any}(:className => \"interact-flex-row-right\"))], Dict{Symbol, Any}(:className => \"interact-flex-row interact-widget\")), Dict{String, Tuple{Observables.AbstractObservable, Union{Nothing, Bool}}}(\"changes\" => (Observable{Int64} with 1 listeners. Value:\n",
       "0, nothing), \"index\" => (Observable{Any} with 2 listeners. Value:\n",
       "26, nothing)), Set{String}(), nothing, Asset[Asset(\"js\", \"knockout\", \"C:\\\\Users\\\\Camilo\\\\.julia\\\\packages\\\\Knockout\\\\3gjS1\\\\src\\\\..\\\\assets\\\\knockout.js\"), Asset(\"js\", \"knockout_punches\", \"C:\\\\Users\\\\Camilo\\\\.julia\\\\packages\\\\Knockout\\\\3gjS1\\\\src\\\\..\\\\assets\\\\knockout_punches.js\"), Asset(\"js\", nothing, \"C:\\\\Users\\\\Camilo\\\\.julia\\\\packages\\\\InteractBase\\\\h8Fwe\\\\src\\\\..\\\\assets\\\\all.js\"), Asset(\"css\", nothing, \"C:\\\\Users\\\\Camilo\\\\.julia\\\\packages\\\\InteractBase\\\\h8Fwe\\\\src\\\\..\\\\assets\\\\style.css\"), Asset(\"css\", nothing, \"C:\\\\Users\\\\Camilo\\\\.julia\\\\packages\\\\Interact\\\\pVyN2\\\\src\\\\..\\\\assets\\\\bulma_confined.min.css\")], Dict{Any, Any}(\"changes\" => Any[WebIO.JSString(\"(function (val){return (val!=this.model[\\\"changes\\\"]()) ? (this.valueFromJulia[\\\"changes\\\"]=true, this.model[\\\"changes\\\"](val)) : undefined})\")], \"index\" => Any[WebIO.JSString(\"(function (val){return (val!=this.model[\\\"index\\\"]()) ? (this.valueFromJulia[\\\"index\\\"]=true, this.model[\\\"index\\\"](val)) : undefined})\")]), WebIO.ConnectionPool(Channel{Any}(32), Set{AbstractConnection}(), Condition(Base.InvasiveLinkedList{Task}(Task (runnable) @0x0000000077cef210, Task (runnable) @0x0000000077cef210), Base.AlwaysLockedST(1))), WebIO.JSString[WebIO.JSString(\"function () {\\n    var handler = (function (ko, koPunches) {\\n    ko.punches.enableAll();\\n    ko.bindingHandlers.numericValue = {\\n        init: function(element, valueAccessor, allBindings, data, context) {\\n            var stringified = ko.observable(ko.unwrap(valueAccessor()));\\n            stringified.subscribe(function(value) {\\n                var val = parseFloat(value);\\n                if (!isNaN(val)) {\\n                    valueAccessor()(val);\\n                }\\n            });\\n            valueAccessor().subscribe(function(value) {\\n                var str = JSON.stringify(value);\\n                if ((str == \\\"0\\\") && ([\\\"-0\\\", \\\"-0.\\\"].indexOf(stringified()) >= 0))\\n                     return;\\n                 if ([\\\"null\\\", \\\"\\\"].indexOf(str) >= 0)\\n                     return;\\n                stringified(str);\\n            });\\n            ko.applyBindingsToNode(\\n                element,\\n                {\\n                    value: stringified,\\n                    valueUpdate: allBindings.get('valueUpdate'),\\n                },\\n                context,\\n            );\\n        }\\n    };\\n    var json_data = {\\\"formatted_vals\\\":[\\\"0.2\\\",\\\"0.201\\\",\\\"0.202\\\",\\\"0.203\\\",\\\"0.204\\\",\\\"0.205\\\",\\\"0.206\\\",\\\"0.207\\\",\\\"0.208\\\",\\\"0.209\\\",\\\"0.21\\\",\\\"0.211\\\",\\\"0.212\\\",\\\"0.213\\\",\\\"0.214\\\",\\\"0.215\\\",\\\"0.216\\\",\\\"0.217\\\",\\\"0.218\\\",\\\"0.219\\\",\\\"0.22\\\",\\\"0.221\\\",\\\"0.222\\\",\\\"0.223\\\",\\\"0.224\\\",\\\"0.225\\\",\\\"0.226\\\",\\\"0.227\\\",\\\"0.228\\\",\\\"0.229\\\",\\\"0.23\\\",\\\"0.231\\\",\\\"0.232\\\",\\\"0.233\\\",\\\"0.234\\\",\\\"0.235\\\",\\\"0.236\\\",\\\"0.237\\\",\\\"0.238\\\",\\\"0.239\\\",\\\"0.24\\\",\\\"0.241\\\",\\\"0.242\\\",\\\"0.243\\\",\\\"0.244\\\",\\\"0.245\\\",\\\"0.246\\\",\\\"0.247\\\",\\\"0.248\\\",\\\"0.249\\\",\\\"0.25\\\"],\\\"changes\\\":WebIO.getval({\\\"name\\\":\\\"changes\\\",\\\"scope\\\":\\\"8465035724588018924\\\",\\\"id\\\":\\\"3032764322665198207\\\",\\\"type\\\":\\\"observable\\\"}),\\\"index\\\":WebIO.getval({\\\"name\\\":\\\"index\\\",\\\"scope\\\":\\\"8465035724588018924\\\",\\\"id\\\":\\\"10912187645402716569\\\",\\\"type\\\":\\\"observable\\\"})};\\n    var self = this;\\n    function AppViewModel() {\\n        for (var key in json_data) {\\n            var el = json_data[key];\\n            this[key] = Array.isArray(el) ? ko.observableArray(el) : ko.observable(el);\\n        }\\n        \\n        [this[\\\"formatted_val\\\"]=ko.computed(    function(){\\n        return this.formatted_vals()[parseInt(this.index())-(1)];\\n    }\\n,this)]\\n        [this[\\\"changes\\\"].subscribe((function (val){!(this.valueFromJulia[\\\"changes\\\"]) ? (WebIO.setval({\\\"name\\\":\\\"changes\\\",\\\"scope\\\":\\\"8465035724588018924\\\",\\\"id\\\":\\\"3032764322665198207\\\",\\\"type\\\":\\\"observable\\\"},val)) : undefined; return this.valueFromJulia[\\\"changes\\\"]=false}),self),this[\\\"index\\\"].subscribe((function (val){!(this.valueFromJulia[\\\"index\\\"]) ? (WebIO.setval({\\\"name\\\":\\\"index\\\",\\\"scope\\\":\\\"8465035724588018924\\\",\\\"id\\\":\\\"10912187645402716569\\\",\\\"type\\\":\\\"observable\\\"},val)) : undefined; return this.valueFromJulia[\\\"index\\\"]=false}),self)]\\n        \\n    }\\n    self.model = new AppViewModel();\\n    self.valueFromJulia = {};\\n    for (var key in json_data) {\\n        self.valueFromJulia[key] = false;\\n    }\\n    ko.applyBindings(self.model, self.dom);\\n}\\n);\\n    (WebIO.importBlock({\\\"data\\\":[{\\\"name\\\":\\\"knockout\\\",\\\"type\\\":\\\"js\\\",\\\"url\\\":\\\"/assetserver/2712bb0a7395d062608c2f218a74b700f6c76b99-knockout.js\\\"},{\\\"name\\\":\\\"knockout_punches\\\",\\\"type\\\":\\\"js\\\",\\\"url\\\":\\\"/assetserver/fb4445501a2be4ab82176667f844e40da26fa007-knockout_punches.js\\\"}],\\\"type\\\":\\\"async_block\\\"})).then((imports) => handler.apply(this, imports));\\n}\\n\")])], Dict{Symbol, Any}(:className => \"field interact-widget\")), Node{WebIO.DOM}(WebIO.DOM(:html, :div), Any[Scope(Node{WebIO.DOM}(WebIO.DOM(:html, :div), Any[Node{WebIO.DOM}(WebIO.DOM(:html, :div), Any[Node{WebIO.DOM}(WebIO.DOM(:html, :label), Any[\"S\"], Dict{Symbol, Any}(:className => \"interact \", :style => Dict{Any, Any}(:padding => \"5px 10px 0px 10px\")))], Dict{Symbol, Any}(:className => \"interact-flex-row-left\")), Node{WebIO.DOM}(WebIO.DOM(:html, :div), Any[Node{WebIO.DOM}(WebIO.DOM(:html, :input), Any[], Dict{Symbol, Any}(:max => 101, :min => 1, :attributes => Dict{Any, Any}(:type => \"range\", Symbol(\"data-bind\") => \"numericValue: index, valueUpdate: 'input', event: {change: function (){this.changes(this.changes()+1)}}\", \"orient\" => \"horizontal\"), :step => 1, :className => \"slider slider is-fullwidth\", :style => Dict{Any, Any}()))], Dict{Symbol, Any}(:className => \"interact-flex-row-center\")), Node{WebIO.DOM}(WebIO.DOM(:html, :div), Any[Node{WebIO.DOM}(WebIO.DOM(:html, :p), Any[], Dict{Symbol, Any}(:attributes => Dict(\"data-bind\" => \"text: formatted_val\")))], Dict{Symbol, Any}(:className => \"interact-flex-row-right\"))], Dict{Symbol, Any}(:className => \"interact-flex-row interact-widget\")), Dict{String, Tuple{Observables.AbstractObservable, Union{Nothing, Bool}}}(\"changes\" => (Observable{Int64} with 1 listeners. Value:\n",
       "0, nothing), \"index\" => (Observable{Any} with 2 listeners. Value:\n",
       "51, nothing)), Set{String}(), nothing, Asset[Asset(\"js\", \"knockout\", \"C:\\\\Users\\\\Camilo\\\\.julia\\\\packages\\\\Knockout\\\\3gjS1\\\\src\\\\..\\\\assets\\\\knockout.js\"), Asset(\"js\", \"knockout_punches\", \"C:\\\\Users\\\\Camilo\\\\.julia\\\\packages\\\\Knockout\\\\3gjS1\\\\src\\\\..\\\\assets\\\\knockout_punches.js\"), Asset(\"js\", nothing, \"C:\\\\Users\\\\Camilo\\\\.julia\\\\packages\\\\InteractBase\\\\h8Fwe\\\\src\\\\..\\\\assets\\\\all.js\"), Asset(\"css\", nothing, \"C:\\\\Users\\\\Camilo\\\\.julia\\\\packages\\\\InteractBase\\\\h8Fwe\\\\src\\\\..\\\\assets\\\\style.css\"), Asset(\"css\", nothing, \"C:\\\\Users\\\\Camilo\\\\.julia\\\\packages\\\\Interact\\\\pVyN2\\\\src\\\\..\\\\assets\\\\bulma_confined.min.css\")], Dict{Any, Any}(\"changes\" => Any[WebIO.JSString(\"(function (val){return (val!=this.model[\\\"changes\\\"]()) ? (this.valueFromJulia[\\\"changes\\\"]=true, this.model[\\\"changes\\\"](val)) : undefined})\")], \"index\" => Any[WebIO.JSString(\"(function (val){return (val!=this.model[\\\"index\\\"]()) ? (this.valueFromJulia[\\\"index\\\"]=true, this.model[\\\"index\\\"](val)) : undefined})\")]), WebIO.ConnectionPool(Channel{Any}(32), Set{AbstractConnection}(), Condition(Base.InvasiveLinkedList{Task}(Task (runnable) @0x0000000077d07530, Task (runnable) @0x0000000077d07530), Base.AlwaysLockedST(1))), WebIO.JSString[WebIO.JSString(\"function () {\\n    var handler = (function (ko, koPunches) {\\n    ko.punches.enableAll();\\n    ko.bindingHandlers.numericValue = {\\n        init: function(element, valueAccessor, allBindings, data, context) {\\n            var stringified = ko.observable(ko.unwrap(valueAccessor()));\\n            stringified.subscribe(function(value) {\\n                var val = parseFloat(value);\\n                if (!isNaN(val)) {\\n                    valueAccessor()(val);\\n                }\\n            });\\n            valueAccessor().subscribe(function(value) {\\n                var str = JSON.stringify(value);\\n                if ((str == \\\"0\\\") && ([\\\"-0\\\", \\\"-0.\\\"].indexOf(stringified()) >= 0))\\n                     return;\\n                 if ([\\\"null\\\", \\\"\\\"].indexOf(str) >= 0)\\n                     return;\\n                stringified(str);\\n            });\\n            ko.applyBindingsToNode(\\n                element,\\n                {\\n                    value: stringified,\\n                    valueUpdate: allBindings.get('valueUpdate'),\\n                },\\n                context,\\n            );\\n        }\\n    };\\n    var json_data = {\\\"formatted_vals\\\":[\\\"0.0\\\",\\\"0.001\\\",\\\"0.002\\\",\\\"0.003\\\",\\\"0.004\\\",\\\"0.005\\\",\\\"0.006\\\",\\\"0.007\\\",\\\"0.008\\\",\\\"0.009\\\",\\\"0.01\\\",\\\"0.011\\\",\\\"0.012\\\",\\\"0.013\\\",\\\"0.014\\\",\\\"0.015\\\",\\\"0.016\\\",\\\"0.017\\\",\\\"0.018\\\",\\\"0.019\\\",\\\"0.02\\\",\\\"0.021\\\",\\\"0.022\\\",\\\"0.023\\\",\\\"0.024\\\",\\\"0.025\\\",\\\"0.026\\\",\\\"0.027\\\",\\\"0.028\\\",\\\"0.029\\\",\\\"0.03\\\",\\\"0.031\\\",\\\"0.032\\\",\\\"0.033\\\",\\\"0.034\\\",\\\"0.035\\\",\\\"0.036\\\",\\\"0.037\\\",\\\"0.038\\\",\\\"0.039\\\",\\\"0.04\\\",\\\"0.041\\\",\\\"0.042\\\",\\\"0.043\\\",\\\"0.044\\\",\\\"0.045\\\",\\\"0.046\\\",\\\"0.047\\\",\\\"0.048\\\",\\\"0.049\\\",\\\"0.05\\\",\\\"0.051\\\",\\\"0.052\\\",\\\"0.053\\\",\\\"0.054\\\",\\\"0.055\\\",\\\"0.056\\\",\\\"0.057\\\",\\\"0.058\\\",\\\"0.059\\\",\\\"0.06\\\",\\\"0.061\\\",\\\"0.062\\\",\\\"0.063\\\",\\\"0.064\\\",\\\"0.065\\\",\\\"0.066\\\",\\\"0.067\\\",\\\"0.068\\\",\\\"0.069\\\",\\\"0.07\\\",\\\"0.071\\\",\\\"0.072\\\",\\\"0.073\\\",\\\"0.074\\\",\\\"0.075\\\",\\\"0.076\\\",\\\"0.077\\\",\\\"0.078\\\",\\\"0.079\\\",\\\"0.08\\\",\\\"0.081\\\",\\\"0.082\\\",\\\"0.083\\\",\\\"0.084\\\",\\\"0.085\\\",\\\"0.086\\\",\\\"0.087\\\",\\\"0.088\\\",\\\"0.089\\\",\\\"0.09\\\",\\\"0.091\\\",\\\"0.092\\\",\\\"0.093\\\",\\\"0.094\\\",\\\"0.095\\\",\\\"0.096\\\",\\\"0.097\\\",\\\"0.098\\\",\\\"0.099\\\",\\\"0.1\\\"],\\\"changes\\\":WebIO.getval({\\\"name\\\":\\\"changes\\\",\\\"scope\\\":\\\"11298723019580491897\\\",\\\"id\\\":\\\"6048188631968714772\\\",\\\"type\\\":\\\"observable\\\"}),\\\"index\\\":WebIO.getval({\\\"name\\\":\\\"index\\\",\\\"scope\\\":\\\"11298723019580491897\\\",\\\"id\\\":\\\"14967569390346503044\\\",\\\"type\\\":\\\"observable\\\"})};\\n    var self = this;\\n    function AppViewModel() {\\n        for (var key in json_data) {\\n            var el = json_data[key];\\n            this[key] = Array.isArray(el) ? ko.observableArray(el) : ko.observable(el);\\n        }\\n        \\n        [this[\\\"formatted_val\\\"]=ko.computed(    function(){\\n        return this.formatted_vals()[parseInt(this.index())-(1)];\\n    }\\n,this)]\\n        [this[\\\"changes\\\"].subscribe((function (val){!(this.valueFromJulia[\\\"changes\\\"]) ? (WebIO.setval({\\\"name\\\":\\\"changes\\\",\\\"scope\\\":\\\"11298723019580491897\\\",\\\"id\\\":\\\"6048188631968714772\\\",\\\"type\\\":\\\"observable\\\"},val)) : undefined; return this.valueFromJulia[\\\"changes\\\"]=false}),self),this[\\\"index\\\"].subscribe((function (val){!(this.valueFromJulia[\\\"index\\\"]) ? (WebIO.setval({\\\"name\\\":\\\"index\\\",\\\"scope\\\":\\\"11298723019580491897\\\",\\\"id\\\":\\\"14967569390346503044\\\",\\\"type\\\":\\\"observable\\\"},val)) : undefined; return this.valueFromJulia[\\\"index\\\"]=false}),self)]\\n        \\n    }\\n    self.model = new AppViewModel();\\n    self.valueFromJulia = {};\\n    for (var key in json_data) {\\n        self.valueFromJulia[key] = false;\\n    }\\n    ko.applyBindings(self.model, self.dom);\\n}\\n);\\n    (WebIO.importBlock({\\\"data\\\":[{\\\"name\\\":\\\"knockout\\\",\\\"type\\\":\\\"js\\\",\\\"url\\\":\\\"/assetserver/2712bb0a7395d062608c2f218a74b700f6c76b99-knockout.js\\\"},{\\\"name\\\":\\\"knockout_punches\\\",\\\"type\\\":\\\"js\\\",\\\"url\\\":\\\"/assetserver/fb4445501a2be4ab82176667f844e40da26fa007-knockout_punches.js\\\"}],\\\"type\\\":\\\"async_block\\\"})).then((imports) => handler.apply(this, imports));\\n}\\n\")])], Dict{Symbol, Any}(:className => \"field interact-widget\")), Node{WebIO.DOM}(WebIO.DOM(:html, :div), Any[Scope(Node{WebIO.DOM}(WebIO.DOM(:html, :div), Any[Node{WebIO.DOM}(WebIO.DOM(:html, :div), Any[Node{WebIO.DOM}(WebIO.DOM(:html, :label), Any[\"tmax\"], Dict{Symbol, Any}(:className => \"interact \", :style => Dict{Any, Any}(:padding => \"5px 10px 0px 10px\")))], Dict{Symbol, Any}(:className => \"interact-flex-row-left\")), Node{WebIO.DOM}(WebIO.DOM(:html, :div), Any[Node{WebIO.DOM}(WebIO.DOM(:html, :input), Any[], Dict{Symbol, Any}(:max => 99, :min => 1, :attributes => Dict{Any, Any}(:type => \"range\", Symbol(\"data-bind\") => \"numericValue: index, valueUpdate: 'input', event: {change: function (){this.changes(this.changes()+1)}}\", \"orient\" => \"horizontal\"), :step => 1, :className => \"slider slider is-fullwidth\", :style => Dict{Any, Any}()))], Dict{Symbol, Any}(:className => \"interact-flex-row-center\")), Node{WebIO.DOM}(WebIO.DOM(:html, :div), Any[Node{WebIO.DOM}(WebIO.DOM(:html, :p), Any[], Dict{Symbol, Any}(:attributes => Dict(\"data-bind\" => \"text: formatted_val\")))], Dict{Symbol, Any}(:className => \"interact-flex-row-right\"))], Dict{Symbol, Any}(:className => \"interact-flex-row interact-widget\")), Dict{String, Tuple{Observables.AbstractObservable, Union{Nothing, Bool}}}(\"changes\" => (Observable{Int64} with 1 listeners. Value:\n",
       "0, nothing), \"index\" => (Observable{Any} with 2 listeners. Value:\n",
       "50, nothing)), Set{String}(), nothing, Asset[Asset(\"js\", \"knockout\", \"C:\\\\Users\\\\Camilo\\\\.julia\\\\packages\\\\Knockout\\\\3gjS1\\\\src\\\\..\\\\assets\\\\knockout.js\"), Asset(\"js\", \"knockout_punches\", \"C:\\\\Users\\\\Camilo\\\\.julia\\\\packages\\\\Knockout\\\\3gjS1\\\\src\\\\..\\\\assets\\\\knockout_punches.js\"), Asset(\"js\", nothing, \"C:\\\\Users\\\\Camilo\\\\.julia\\\\packages\\\\InteractBase\\\\h8Fwe\\\\src\\\\..\\\\assets\\\\all.js\"), Asset(\"css\", nothing, \"C:\\\\Users\\\\Camilo\\\\.julia\\\\packages\\\\InteractBase\\\\h8Fwe\\\\src\\\\..\\\\assets\\\\style.css\"), Asset(\"css\", nothing, \"C:\\\\Users\\\\Camilo\\\\.julia\\\\packages\\\\Interact\\\\pVyN2\\\\src\\\\..\\\\assets\\\\bulma_confined.min.css\")], Dict{Any, Any}(\"changes\" => Any[WebIO.JSString(\"(function (val){return (val!=this.model[\\\"changes\\\"]()) ? (this.valueFromJulia[\\\"changes\\\"]=true, this.model[\\\"changes\\\"](val)) : undefined})\")], \"index\" => Any[WebIO.JSString(\"(function (val){return (val!=this.model[\\\"index\\\"]()) ? (this.valueFromJulia[\\\"index\\\"]=true, this.model[\\\"index\\\"](val)) : undefined})\")]), WebIO.ConnectionPool(Channel{Any}(32), Set{AbstractConnection}(), Condition(Base.InvasiveLinkedList{Task}(Task (runnable) @0x0000000077d239e0, Task (runnable) @0x0000000077d239e0), Base.AlwaysLockedST(1))), WebIO.JSString[WebIO.JSString(\"function () {\\n    var handler = (function (ko, koPunches) {\\n    ko.punches.enableAll();\\n    ko.bindingHandlers.numericValue = {\\n        init: function(element, valueAccessor, allBindings, data, context) {\\n            var stringified = ko.observable(ko.unwrap(valueAccessor()));\\n            stringified.subscribe(function(value) {\\n                var val = parseFloat(value);\\n                if (!isNaN(val)) {\\n                    valueAccessor()(val);\\n                }\\n            });\\n            valueAccessor().subscribe(function(value) {\\n                var str = JSON.stringify(value);\\n                if ((str == \\\"0\\\") && ([\\\"-0\\\", \\\"-0.\\\"].indexOf(stringified()) >= 0))\\n                     return;\\n                 if ([\\\"null\\\", \\\"\\\"].indexOf(str) >= 0)\\n                     return;\\n                stringified(str);\\n            });\\n            ko.applyBindingsToNode(\\n                element,\\n                {\\n                    value: stringified,\\n                    valueUpdate: allBindings.get('valueUpdate'),\\n                },\\n                context,\\n            );\\n        }\\n    };\\n    var json_data = {\\\"formatted_vals\\\":[\\\"10.0\\\",\\\"15.0\\\",\\\"20.0\\\",\\\"25.0\\\",\\\"30.0\\\",\\\"35.0\\\",\\\"40.0\\\",\\\"45.0\\\",\\\"50.0\\\",\\\"55.0\\\",\\\"60.0\\\",\\\"65.0\\\",\\\"70.0\\\",\\\"75.0\\\",\\\"80.0\\\",\\\"85.0\\\",\\\"90.0\\\",\\\"95.0\\\",\\\"100.0\\\",\\\"105.0\\\",\\\"110.0\\\",\\\"115.0\\\",\\\"120.0\\\",\\\"125.0\\\",\\\"130.0\\\",\\\"135.0\\\",\\\"140.0\\\",\\\"145.0\\\",\\\"150.0\\\",\\\"155.0\\\",\\\"160.0\\\",\\\"165.0\\\",\\\"170.0\\\",\\\"175.0\\\",\\\"180.0\\\",\\\"185.0\\\",\\\"190.0\\\",\\\"195.0\\\",\\\"200.0\\\",\\\"205.0\\\",\\\"210.0\\\",\\\"215.0\\\",\\\"220.0\\\",\\\"225.0\\\",\\\"230.0\\\",\\\"235.0\\\",\\\"240.0\\\",\\\"245.0\\\",\\\"250.0\\\",\\\"255.0\\\",\\\"260.0\\\",\\\"265.0\\\",\\\"270.0\\\",\\\"275.0\\\",\\\"280.0\\\",\\\"285.0\\\",\\\"290.0\\\",\\\"295.0\\\",\\\"300.0\\\",\\\"305.0\\\",\\\"310.0\\\",\\\"315.0\\\",\\\"320.0\\\",\\\"325.0\\\",\\\"330.0\\\",\\\"335.0\\\",\\\"340.0\\\",\\\"345.0\\\",\\\"350.0\\\",\\\"355.0\\\",\\\"360.0\\\",\\\"365.0\\\",\\\"370.0\\\",\\\"375.0\\\",\\\"380.0\\\",\\\"385.0\\\",\\\"390.0\\\",\\\"395.0\\\",\\\"400.0\\\",\\\"405.0\\\",\\\"410.0\\\",\\\"415.0\\\",\\\"420.0\\\",\\\"425.0\\\",\\\"430.0\\\",\\\"435.0\\\",\\\"440.0\\\",\\\"445.0\\\",\\\"450.0\\\",\\\"455.0\\\",\\\"460.0\\\",\\\"465.0\\\",\\\"470.0\\\",\\\"475.0\\\",\\\"480.0\\\",\\\"485.0\\\",\\\"490.0\\\",\\\"495.0\\\",\\\"500.0\\\"],\\\"changes\\\":WebIO.getval({\\\"name\\\":\\\"changes\\\",\\\"scope\\\":\\\"9418889206319006040\\\",\\\"id\\\":\\\"13721752690347096992\\\",\\\"type\\\":\\\"observable\\\"}),\\\"index\\\":WebIO.getval({\\\"name\\\":\\\"index\\\",\\\"scope\\\":\\\"9418889206319006040\\\",\\\"id\\\":\\\"2967188295943348602\\\",\\\"type\\\":\\\"observable\\\"})};\\n    var self = this;\\n    function AppViewModel() {\\n        for (var key in json_data) {\\n            var el = json_data[key];\\n            this[key] = Array.isArray(el) ? ko.observableArray(el) : ko.observable(el);\\n        }\\n        \\n        [this[\\\"formatted_val\\\"]=ko.computed(    function(){\\n        return this.formatted_vals()[parseInt(this.index())-(1)];\\n    }\\n,this)]\\n        [this[\\\"changes\\\"].subscribe((function (val){!(this.valueFromJulia[\\\"changes\\\"]) ? (WebIO.setval({\\\"name\\\":\\\"changes\\\",\\\"scope\\\":\\\"9418889206319006040\\\",\\\"id\\\":\\\"13721752690347096992\\\",\\\"type\\\":\\\"observable\\\"},val)) : undefined; return this.valueFromJulia[\\\"changes\\\"]=false}),self),this[\\\"index\\\"].subscribe((function (val){!(this.valueFromJulia[\\\"index\\\"]) ? (WebIO.setval({\\\"name\\\":\\\"index\\\",\\\"scope\\\":\\\"9418889206319006040\\\",\\\"id\\\":\\\"2967188295943348602\\\",\\\"type\\\":\\\"observable\\\"},val)) : undefined; return this.valueFromJulia[\\\"index\\\"]=false}),self)]\\n        \\n    }\\n    self.model = new AppViewModel();\\n    self.valueFromJulia = {};\\n    for (var key in json_data) {\\n        self.valueFromJulia[key] = false;\\n    }\\n    ko.applyBindings(self.model, self.dom);\\n}\\n);\\n    (WebIO.importBlock({\\\"data\\\":[{\\\"name\\\":\\\"knockout\\\",\\\"type\\\":\\\"js\\\",\\\"url\\\":\\\"/assetserver/2712bb0a7395d062608c2f218a74b700f6c76b99-knockout.js\\\"},{\\\"name\\\":\\\"knockout_punches\\\",\\\"type\\\":\\\"js\\\",\\\"url\\\":\\\"/assetserver/fb4445501a2be4ab82176667f844e40da26fa007-knockout_punches.js\\\"}],\\\"type\\\":\\\"async_block\\\"})).then((imports) => handler.apply(this, imports));\\n}\\n\")])], Dict{Symbol, Any}(:className => \"field interact-widget\")), Observable{Node{WebIO.DOM}} with 0 listeners. Value:\n",
       "Node{WebIO.DOM}(WebIO.DOM(:html, :div), Any[Plot{Plots.GRBackend() n=5}], Dict{Symbol, Any}(:className => \"interact-flex-row interact-widget\"))], Dict{Symbol, Any}())"
      ]
     },
     "execution_count": 12,
     "metadata": {
      "application/vnd.webio.node+json": {
       "kernelId": "3fc7bb62-8e80-4615-87cb-b83688e6e5dd"
      }
     },
     "output_type": "execute_result"
    }
   ],
   "source": [
    "@manipulate throttle=.05 for H=0.2:0.001:0.25,S=0.0:0.001:0.1, tmax=10.0:5.0:500.0\n",
    "    x0 = 0.5+sqrt(0.25-H)\n",
    "    flux1D(logharvest1,x0,tmax,[1.0,1.0,H],10.0,S,(u)->(u<0);xlims=[0.0,1.0],title=\"Log con Harvest perturbada\")\n",
    "end"
   ]
  },
  {
   "cell_type": "markdown",
   "id": "e08beb69",
   "metadata": {},
   "source": [
    "## Potencial de Logistica con Harvest\n",
    "\n",
    "Una interpretacion del CSD es que el pozo de potencial se hace mas \"plano\" cerca de la bifurcacion. Veamos que pasa a medida que nos acercamos a la bifurcacion con el potencial y con la trayectoria perturbada con la patada.\n",
    "\n",
    "Al potencial de la logistica se le agrega un término $-Hx$ que corre los puntos fijos y hace que la barrera de potencial (punto fijo inestable) que antes estaba en 0 y no se podia cruzar se mueva a $K/2  - \\sqrt{K^2/4-KH/R}  $\n",
    "\n",
    "$V(x) = \\frac{Rx^2}{3K}\\left(x- \\frac{3K}{2}\\right) + Hx$\n",
    "\n",
    "La bifurcacion de Nodo silla corresponde a el cambio del potencial cubico de una curva tipo N (una barrera y un pozo, punto fijo inestable y estable) a una curva sin vueltas (sin punto fijo)\n",
    "\n",
    "\n"
   ]
  },
  {
   "cell_type": "code",
   "execution_count": 14,
   "id": "fb61976a",
   "metadata": {},
   "outputs": [
    {
     "data": {
      "application/vnd.webio.node+json": {
       "children": [
        {
         "children": [
          {
           "children": [
            {
             "children": [
              {
               "children": [
                {
                 "children": [
                  "H"
                 ],
                 "instanceArgs": {
                  "namespace": "html",
                  "tag": "label"
                 },
                 "nodeType": "DOM",
                 "props": {
                  "className": "interact ",
                  "style": {
                   "padding": "5px 10px 0px 10px"
                  }
                 },
                 "type": "node"
                }
               ],
               "instanceArgs": {
                "namespace": "html",
                "tag": "div"
               },
               "nodeType": "DOM",
               "props": {
                "className": "interact-flex-row-left"
               },
               "type": "node"
              },
              {
               "children": [
                {
                 "children": [],
                 "instanceArgs": {
                  "namespace": "html",
                  "tag": "input"
                 },
                 "nodeType": "DOM",
                 "props": {
                  "attributes": {
                   "data-bind": "numericValue: index, valueUpdate: 'input', event: {change: function (){this.changes(this.changes()+1)}}",
                   "orient": "horizontal",
                   "type": "range"
                  },
                  "className": "slider slider is-fullwidth",
                  "max": 51,
                  "min": 1,
                  "step": 1,
                  "style": {}
                 },
                 "type": "node"
                }
               ],
               "instanceArgs": {
                "namespace": "html",
                "tag": "div"
               },
               "nodeType": "DOM",
               "props": {
                "className": "interact-flex-row-center"
               },
               "type": "node"
              },
              {
               "children": [
                {
                 "children": [],
                 "instanceArgs": {
                  "namespace": "html",
                  "tag": "p"
                 },
                 "nodeType": "DOM",
                 "props": {
                  "attributes": {
                   "data-bind": "text: formatted_val"
                  }
                 },
                 "type": "node"
                }
               ],
               "instanceArgs": {
                "namespace": "html",
                "tag": "div"
               },
               "nodeType": "DOM",
               "props": {
                "className": "interact-flex-row-right"
               },
               "type": "node"
              }
             ],
             "instanceArgs": {
              "namespace": "html",
              "tag": "div"
             },
             "nodeType": "DOM",
             "props": {
              "className": "interact-flex-row interact-widget"
             },
             "type": "node"
            }
           ],
           "instanceArgs": {
            "handlers": {
             "changes": [
              "(function (val){return (val!=this.model[\"changes\"]()) ? (this.valueFromJulia[\"changes\"]=true, this.model[\"changes\"](val)) : undefined})"
             ],
             "index": [
              "(function (val){return (val!=this.model[\"index\"]()) ? (this.valueFromJulia[\"index\"]=true, this.model[\"index\"](val)) : undefined})"
             ]
            },
            "id": "9685351474924793259",
            "imports": {
             "data": [
              {
               "name": "knockout",
               "type": "js",
               "url": "/assetserver/2712bb0a7395d062608c2f218a74b700f6c76b99-knockout.js"
              },
              {
               "name": "knockout_punches",
               "type": "js",
               "url": "/assetserver/fb4445501a2be4ab82176667f844e40da26fa007-knockout_punches.js"
              },
              {
               "name": null,
               "type": "js",
               "url": "/assetserver/a8ea7d9192d5fa85c6fac26c72d7fece1e500138-all.js"
              },
              {
               "name": null,
               "type": "css",
               "url": "/assetserver/620a53798cfdb29a4a2142ce0588e9aadc351d94-style.css"
              },
              {
               "name": null,
               "type": "css",
               "url": "/assetserver/9f2f17f677abbfd015a7c6b0c0f09a2da809bee2-bulma_confined.min.css"
              }
             ],
             "type": "async_block"
            },
            "mount_callbacks": [
             "function () {\n    var handler = (function (ko, koPunches) {\n    ko.punches.enableAll();\n    ko.bindingHandlers.numericValue = {\n        init: function(element, valueAccessor, allBindings, data, context) {\n            var stringified = ko.observable(ko.unwrap(valueAccessor()));\n            stringified.subscribe(function(value) {\n                var val = parseFloat(value);\n                if (!isNaN(val)) {\n                    valueAccessor()(val);\n                }\n            });\n            valueAccessor().subscribe(function(value) {\n                var str = JSON.stringify(value);\n                if ((str == \"0\") && ([\"-0\", \"-0.\"].indexOf(stringified()) >= 0))\n                     return;\n                 if ([\"null\", \"\"].indexOf(str) >= 0)\n                     return;\n                stringified(str);\n            });\n            ko.applyBindingsToNode(\n                element,\n                {\n                    value: stringified,\n                    valueUpdate: allBindings.get('valueUpdate'),\n                },\n                context,\n            );\n        }\n    };\n    var json_data = {\"formatted_vals\":[\"0.2\",\"0.201\",\"0.202\",\"0.203\",\"0.204\",\"0.205\",\"0.206\",\"0.207\",\"0.208\",\"0.209\",\"0.21\",\"0.211\",\"0.212\",\"0.213\",\"0.214\",\"0.215\",\"0.216\",\"0.217\",\"0.218\",\"0.219\",\"0.22\",\"0.221\",\"0.222\",\"0.223\",\"0.224\",\"0.225\",\"0.226\",\"0.227\",\"0.228\",\"0.229\",\"0.23\",\"0.231\",\"0.232\",\"0.233\",\"0.234\",\"0.235\",\"0.236\",\"0.237\",\"0.238\",\"0.239\",\"0.24\",\"0.241\",\"0.242\",\"0.243\",\"0.244\",\"0.245\",\"0.246\",\"0.247\",\"0.248\",\"0.249\",\"0.25\"],\"changes\":WebIO.getval({\"name\":\"changes\",\"scope\":\"9685351474924793259\",\"id\":\"6635548621866852085\",\"type\":\"observable\"}),\"index\":WebIO.getval({\"name\":\"index\",\"scope\":\"9685351474924793259\",\"id\":\"16090750183727704534\",\"type\":\"observable\"})};\n    var self = this;\n    function AppViewModel() {\n        for (var key in json_data) {\n            var el = json_data[key];\n            this[key] = Array.isArray(el) ? ko.observableArray(el) : ko.observable(el);\n        }\n        \n        [this[\"formatted_val\"]=ko.computed(    function(){\n        return this.formatted_vals()[parseInt(this.index())-(1)];\n    }\n,this)]\n        [this[\"changes\"].subscribe((function (val){!(this.valueFromJulia[\"changes\"]) ? (WebIO.setval({\"name\":\"changes\",\"scope\":\"9685351474924793259\",\"id\":\"6635548621866852085\",\"type\":\"observable\"},val)) : undefined; return this.valueFromJulia[\"changes\"]=false}),self),this[\"index\"].subscribe((function (val){!(this.valueFromJulia[\"index\"]) ? (WebIO.setval({\"name\":\"index\",\"scope\":\"9685351474924793259\",\"id\":\"16090750183727704534\",\"type\":\"observable\"},val)) : undefined; return this.valueFromJulia[\"index\"]=false}),self)]\n        \n    }\n    self.model = new AppViewModel();\n    self.valueFromJulia = {};\n    for (var key in json_data) {\n        self.valueFromJulia[key] = false;\n    }\n    ko.applyBindings(self.model, self.dom);\n}\n);\n    (WebIO.importBlock({\"data\":[{\"name\":\"knockout\",\"type\":\"js\",\"url\":\"/assetserver/2712bb0a7395d062608c2f218a74b700f6c76b99-knockout.js\"},{\"name\":\"knockout_punches\",\"type\":\"js\",\"url\":\"/assetserver/fb4445501a2be4ab82176667f844e40da26fa007-knockout_punches.js\"}],\"type\":\"async_block\"})).then((imports) => handler.apply(this, imports));\n}\n"
            ],
            "observables": {
             "changes": {
              "id": "6635548621866852085",
              "sync": false,
              "value": 0
             },
             "index": {
              "id": "16090750183727704534",
              "sync": true,
              "value": 26
             }
            },
            "systemjs_options": null
           },
           "nodeType": "Scope",
           "props": {},
           "type": "node"
          }
         ],
         "instanceArgs": {
          "namespace": "html",
          "tag": "div"
         },
         "nodeType": "DOM",
         "props": {
          "className": "field interact-widget"
         },
         "type": "node"
        },
        {
         "children": [
          {
           "children": [
            {
             "children": [
              {
               "children": [
                {
                 "children": [
                  "S"
                 ],
                 "instanceArgs": {
                  "namespace": "html",
                  "tag": "label"
                 },
                 "nodeType": "DOM",
                 "props": {
                  "className": "interact ",
                  "style": {
                   "padding": "5px 10px 0px 10px"
                  }
                 },
                 "type": "node"
                }
               ],
               "instanceArgs": {
                "namespace": "html",
                "tag": "div"
               },
               "nodeType": "DOM",
               "props": {
                "className": "interact-flex-row-left"
               },
               "type": "node"
              },
              {
               "children": [
                {
                 "children": [],
                 "instanceArgs": {
                  "namespace": "html",
                  "tag": "input"
                 },
                 "nodeType": "DOM",
                 "props": {
                  "attributes": {
                   "data-bind": "numericValue: index, valueUpdate: 'input', event: {change: function (){this.changes(this.changes()+1)}}",
                   "orient": "horizontal",
                   "type": "range"
                  },
                  "className": "slider slider is-fullwidth",
                  "max": 23,
                  "min": 1,
                  "step": 1,
                  "style": {}
                 },
                 "type": "node"
                }
               ],
               "instanceArgs": {
                "namespace": "html",
                "tag": "div"
               },
               "nodeType": "DOM",
               "props": {
                "className": "interact-flex-row-center"
               },
               "type": "node"
              },
              {
               "children": [
                {
                 "children": [],
                 "instanceArgs": {
                  "namespace": "html",
                  "tag": "p"
                 },
                 "nodeType": "DOM",
                 "props": {
                  "attributes": {
                   "data-bind": "text: formatted_val"
                  }
                 },
                 "type": "node"
                }
               ],
               "instanceArgs": {
                "namespace": "html",
                "tag": "div"
               },
               "nodeType": "DOM",
               "props": {
                "className": "interact-flex-row-right"
               },
               "type": "node"
              }
             ],
             "instanceArgs": {
              "namespace": "html",
              "tag": "div"
             },
             "nodeType": "DOM",
             "props": {
              "className": "interact-flex-row interact-widget"
             },
             "type": "node"
            }
           ],
           "instanceArgs": {
            "handlers": {
             "changes": [
              "(function (val){return (val!=this.model[\"changes\"]()) ? (this.valueFromJulia[\"changes\"]=true, this.model[\"changes\"](val)) : undefined})"
             ],
             "index": [
              "(function (val){return (val!=this.model[\"index\"]()) ? (this.valueFromJulia[\"index\"]=true, this.model[\"index\"](val)) : undefined})"
             ]
            },
            "id": "11547422516769688049",
            "imports": {
             "data": [
              {
               "name": "knockout",
               "type": "js",
               "url": "/assetserver/2712bb0a7395d062608c2f218a74b700f6c76b99-knockout.js"
              },
              {
               "name": "knockout_punches",
               "type": "js",
               "url": "/assetserver/fb4445501a2be4ab82176667f844e40da26fa007-knockout_punches.js"
              },
              {
               "name": null,
               "type": "js",
               "url": "/assetserver/a8ea7d9192d5fa85c6fac26c72d7fece1e500138-all.js"
              },
              {
               "name": null,
               "type": "css",
               "url": "/assetserver/620a53798cfdb29a4a2142ce0588e9aadc351d94-style.css"
              },
              {
               "name": null,
               "type": "css",
               "url": "/assetserver/9f2f17f677abbfd015a7c6b0c0f09a2da809bee2-bulma_confined.min.css"
              }
             ],
             "type": "async_block"
            },
            "mount_callbacks": [
             "function () {\n    var handler = (function (ko, koPunches) {\n    ko.punches.enableAll();\n    ko.bindingHandlers.numericValue = {\n        init: function(element, valueAccessor, allBindings, data, context) {\n            var stringified = ko.observable(ko.unwrap(valueAccessor()));\n            stringified.subscribe(function(value) {\n                var val = parseFloat(value);\n                if (!isNaN(val)) {\n                    valueAccessor()(val);\n                }\n            });\n            valueAccessor().subscribe(function(value) {\n                var str = JSON.stringify(value);\n                if ((str == \"0\") && ([\"-0\", \"-0.\"].indexOf(stringified()) >= 0))\n                     return;\n                 if ([\"null\", \"\"].indexOf(str) >= 0)\n                     return;\n                stringified(str);\n            });\n            ko.applyBindingsToNode(\n                element,\n                {\n                    value: stringified,\n                    valueUpdate: allBindings.get('valueUpdate'),\n                },\n                context,\n            );\n        }\n    };\n    var json_data = {\"formatted_vals\":[\"-0.1\",\"-0.09\",\"-0.08\",\"-0.07\",\"-0.06\",\"-0.05\",\"-0.04\",\"-0.03\",\"-0.02\",\"-0.01\",\"0.0\",\"0.01\",\"0.02\",\"0.03\",\"0.04\",\"0.05\",\"0.06\",\"0.07\",\"0.08\",\"0.09\",\"0.1\",\"0.11\",\"0.12\"],\"changes\":WebIO.getval({\"name\":\"changes\",\"scope\":\"11547422516769688049\",\"id\":\"2965949320030201615\",\"type\":\"observable\"}),\"index\":WebIO.getval({\"name\":\"index\",\"scope\":\"11547422516769688049\",\"id\":\"11472258248448355775\",\"type\":\"observable\"})};\n    var self = this;\n    function AppViewModel() {\n        for (var key in json_data) {\n            var el = json_data[key];\n            this[key] = Array.isArray(el) ? ko.observableArray(el) : ko.observable(el);\n        }\n        \n        [this[\"formatted_val\"]=ko.computed(    function(){\n        return this.formatted_vals()[parseInt(this.index())-(1)];\n    }\n,this)]\n        [this[\"changes\"].subscribe((function (val){!(this.valueFromJulia[\"changes\"]) ? (WebIO.setval({\"name\":\"changes\",\"scope\":\"11547422516769688049\",\"id\":\"2965949320030201615\",\"type\":\"observable\"},val)) : undefined; return this.valueFromJulia[\"changes\"]=false}),self),this[\"index\"].subscribe((function (val){!(this.valueFromJulia[\"index\"]) ? (WebIO.setval({\"name\":\"index\",\"scope\":\"11547422516769688049\",\"id\":\"11472258248448355775\",\"type\":\"observable\"},val)) : undefined; return this.valueFromJulia[\"index\"]=false}),self)]\n        \n    }\n    self.model = new AppViewModel();\n    self.valueFromJulia = {};\n    for (var key in json_data) {\n        self.valueFromJulia[key] = false;\n    }\n    ko.applyBindings(self.model, self.dom);\n}\n);\n    (WebIO.importBlock({\"data\":[{\"name\":\"knockout\",\"type\":\"js\",\"url\":\"/assetserver/2712bb0a7395d062608c2f218a74b700f6c76b99-knockout.js\"},{\"name\":\"knockout_punches\",\"type\":\"js\",\"url\":\"/assetserver/fb4445501a2be4ab82176667f844e40da26fa007-knockout_punches.js\"}],\"type\":\"async_block\"})).then((imports) => handler.apply(this, imports));\n}\n"
            ],
            "observables": {
             "changes": {
              "id": "2965949320030201615",
              "sync": false,
              "value": 0
             },
             "index": {
              "id": "11472258248448355775",
              "sync": true,
              "value": 12
             }
            },
            "systemjs_options": null
           },
           "nodeType": "Scope",
           "props": {},
           "type": "node"
          }
         ],
         "instanceArgs": {
          "namespace": "html",
          "tag": "div"
         },
         "nodeType": "DOM",
         "props": {
          "className": "field interact-widget"
         },
         "type": "node"
        },
        {
         "children": [
          {
           "children": [
            {
             "children": [
              {
               "children": [
                {
                 "children": [
                  "tmax"
                 ],
                 "instanceArgs": {
                  "namespace": "html",
                  "tag": "label"
                 },
                 "nodeType": "DOM",
                 "props": {
                  "className": "interact ",
                  "style": {
                   "padding": "5px 10px 0px 10px"
                  }
                 },
                 "type": "node"
                }
               ],
               "instanceArgs": {
                "namespace": "html",
                "tag": "div"
               },
               "nodeType": "DOM",
               "props": {
                "className": "interact-flex-row-left"
               },
               "type": "node"
              },
              {
               "children": [
                {
                 "children": [],
                 "instanceArgs": {
                  "namespace": "html",
                  "tag": "input"
                 },
                 "nodeType": "DOM",
                 "props": {
                  "attributes": {
                   "data-bind": "numericValue: index, valueUpdate: 'input', event: {change: function (){this.changes(this.changes()+1)}}",
                   "orient": "horizontal",
                   "type": "range"
                  },
                  "className": "slider slider is-fullwidth",
                  "max": 19,
                  "min": 1,
                  "step": 1,
                  "style": {}
                 },
                 "type": "node"
                }
               ],
               "instanceArgs": {
                "namespace": "html",
                "tag": "div"
               },
               "nodeType": "DOM",
               "props": {
                "className": "interact-flex-row-center"
               },
               "type": "node"
              },
              {
               "children": [
                {
                 "children": [],
                 "instanceArgs": {
                  "namespace": "html",
                  "tag": "p"
                 },
                 "nodeType": "DOM",
                 "props": {
                  "attributes": {
                   "data-bind": "text: formatted_val"
                  }
                 },
                 "type": "node"
                }
               ],
               "instanceArgs": {
                "namespace": "html",
                "tag": "div"
               },
               "nodeType": "DOM",
               "props": {
                "className": "interact-flex-row-right"
               },
               "type": "node"
              }
             ],
             "instanceArgs": {
              "namespace": "html",
              "tag": "div"
             },
             "nodeType": "DOM",
             "props": {
              "className": "interact-flex-row interact-widget"
             },
             "type": "node"
            }
           ],
           "instanceArgs": {
            "handlers": {
             "changes": [
              "(function (val){return (val!=this.model[\"changes\"]()) ? (this.valueFromJulia[\"changes\"]=true, this.model[\"changes\"](val)) : undefined})"
             ],
             "index": [
              "(function (val){return (val!=this.model[\"index\"]()) ? (this.valueFromJulia[\"index\"]=true, this.model[\"index\"](val)) : undefined})"
             ]
            },
            "id": "11584702583806033045",
            "imports": {
             "data": [
              {
               "name": "knockout",
               "type": "js",
               "url": "/assetserver/2712bb0a7395d062608c2f218a74b700f6c76b99-knockout.js"
              },
              {
               "name": "knockout_punches",
               "type": "js",
               "url": "/assetserver/fb4445501a2be4ab82176667f844e40da26fa007-knockout_punches.js"
              },
              {
               "name": null,
               "type": "js",
               "url": "/assetserver/a8ea7d9192d5fa85c6fac26c72d7fece1e500138-all.js"
              },
              {
               "name": null,
               "type": "css",
               "url": "/assetserver/620a53798cfdb29a4a2142ce0588e9aadc351d94-style.css"
              },
              {
               "name": null,
               "type": "css",
               "url": "/assetserver/9f2f17f677abbfd015a7c6b0c0f09a2da809bee2-bulma_confined.min.css"
              }
             ],
             "type": "async_block"
            },
            "mount_callbacks": [
             "function () {\n    var handler = (function (ko, koPunches) {\n    ko.punches.enableAll();\n    ko.bindingHandlers.numericValue = {\n        init: function(element, valueAccessor, allBindings, data, context) {\n            var stringified = ko.observable(ko.unwrap(valueAccessor()));\n            stringified.subscribe(function(value) {\n                var val = parseFloat(value);\n                if (!isNaN(val)) {\n                    valueAccessor()(val);\n                }\n            });\n            valueAccessor().subscribe(function(value) {\n                var str = JSON.stringify(value);\n                if ((str == \"0\") && ([\"-0\", \"-0.\"].indexOf(stringified()) >= 0))\n                     return;\n                 if ([\"null\", \"\"].indexOf(str) >= 0)\n                     return;\n                stringified(str);\n            });\n            ko.applyBindingsToNode(\n                element,\n                {\n                    value: stringified,\n                    valueUpdate: allBindings.get('valueUpdate'),\n                },\n                context,\n            );\n        }\n    };\n    var json_data = {\"formatted_vals\":[\"10.0\",\"15.0\",\"20.0\",\"25.0\",\"30.0\",\"35.0\",\"40.0\",\"45.0\",\"50.0\",\"55.0\",\"60.0\",\"65.0\",\"70.0\",\"75.0\",\"80.0\",\"85.0\",\"90.0\",\"95.0\",\"100.0\"],\"changes\":WebIO.getval({\"name\":\"changes\",\"scope\":\"11584702583806033045\",\"id\":\"14129414433213550740\",\"type\":\"observable\"}),\"index\":WebIO.getval({\"name\":\"index\",\"scope\":\"11584702583806033045\",\"id\":\"8440401168766773373\",\"type\":\"observable\"})};\n    var self = this;\n    function AppViewModel() {\n        for (var key in json_data) {\n            var el = json_data[key];\n            this[key] = Array.isArray(el) ? ko.observableArray(el) : ko.observable(el);\n        }\n        \n        [this[\"formatted_val\"]=ko.computed(    function(){\n        return this.formatted_vals()[parseInt(this.index())-(1)];\n    }\n,this)]\n        [this[\"changes\"].subscribe((function (val){!(this.valueFromJulia[\"changes\"]) ? (WebIO.setval({\"name\":\"changes\",\"scope\":\"11584702583806033045\",\"id\":\"14129414433213550740\",\"type\":\"observable\"},val)) : undefined; return this.valueFromJulia[\"changes\"]=false}),self),this[\"index\"].subscribe((function (val){!(this.valueFromJulia[\"index\"]) ? (WebIO.setval({\"name\":\"index\",\"scope\":\"11584702583806033045\",\"id\":\"8440401168766773373\",\"type\":\"observable\"},val)) : undefined; return this.valueFromJulia[\"index\"]=false}),self)]\n        \n    }\n    self.model = new AppViewModel();\n    self.valueFromJulia = {};\n    for (var key in json_data) {\n        self.valueFromJulia[key] = false;\n    }\n    ko.applyBindings(self.model, self.dom);\n}\n);\n    (WebIO.importBlock({\"data\":[{\"name\":\"knockout\",\"type\":\"js\",\"url\":\"/assetserver/2712bb0a7395d062608c2f218a74b700f6c76b99-knockout.js\"},{\"name\":\"knockout_punches\",\"type\":\"js\",\"url\":\"/assetserver/fb4445501a2be4ab82176667f844e40da26fa007-knockout_punches.js\"}],\"type\":\"async_block\"})).then((imports) => handler.apply(this, imports));\n}\n"
            ],
            "observables": {
             "changes": {
              "id": "14129414433213550740",
              "sync": false,
              "value": 0
             },
             "index": {
              "id": "8440401168766773373",
              "sync": true,
              "value": 10
             }
            },
            "systemjs_options": null
           },
           "nodeType": "Scope",
           "props": {},
           "type": "node"
          }
         ],
         "instanceArgs": {
          "namespace": "html",
          "tag": "div"
         },
         "nodeType": "DOM",
         "props": {
          "className": "field interact-widget"
         },
         "type": "node"
        },
        {
         "children": [
          {
           "children": [],
           "instanceArgs": {
            "id": "13147936173220437562",
            "name": "obs-node"
           },
           "nodeType": "ObservableNode",
           "props": {},
           "type": "node"
          }
         ],
         "instanceArgs": {
          "handlers": {},
          "id": "15210404541600808561",
          "imports": {
           "data": [],
           "type": "async_block"
          },
          "mount_callbacks": [],
          "observables": {
           "obs-node": {
            "id": "13147936173220437562",
            "sync": false,
            "value": {
             "children": [
              {
               "children": [],
               "instanceArgs": {
                "namespace": "html",
                "tag": "div"
               },
               "nodeType": "DOM",
               "props": {
                "setInnerHtml": "<img src=\"data:image/png;base64,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\" />"
               },
               "type": "node"
              }
             ],
             "instanceArgs": {
              "namespace": "html",
              "tag": "div"
             },
             "nodeType": "DOM",
             "props": {
              "className": "interact-flex-row interact-widget"
             },
             "type": "node"
            }
           }
          },
          "systemjs_options": null
         },
         "nodeType": "Scope",
         "props": {},
         "type": "node"
        }
       ],
       "instanceArgs": {
        "namespace": "html",
        "tag": "div"
       },
       "nodeType": "DOM",
       "props": {},
       "type": "node"
      },
      "text/html": [
       "<div\n",
       "    class=\"webio-mountpoint\"\n",
       "    data-webio-mountpoint=\"7989312982724621159\"\n",
       ">\n",
       "    <script>\n",
       "    (function(){\n",
       "    // Some integrations (namely, IJulia/Jupyter) use an alternate render pathway than\n",
       "    // just putting the html on the page. If WebIO isn't defined, then it's pretty likely\n",
       "    // that we're in one of those situations and the integration just isn't installed\n",
       "    // correctly.\n",
       "    if (typeof window.WebIO === \"undefined\") {\n",
       "        document\n",
       "            .querySelector('[data-webio-mountpoint=\"7989312982724621159\"]')\n",
       "            .innerHTML = (\n",
       "                '<div style=\"padding: 1em; background-color: #f8d6da; border: 1px solid #f5c6cb; font-weight: bold;\">' +\n",
       "                '<p><strong>WebIO not detected.</strong></p>' +\n",
       "                '<p>Please read ' +\n",
       "                '<a href=\"https://juliagizmos.github.io/WebIO.jl/latest/troubleshooting/not-detected/\" target=\"_blank\">the troubleshooting guide</a> ' +\n",
       "                'for more information on how to resolve this issue.</p>' +\n",
       "                '<p><a href=\"https://juliagizmos.github.io/WebIO.jl/latest/troubleshooting/not-detected/\" target=\"_blank\">https://juliagizmos.github.io/WebIO.jl/latest/troubleshooting/not-detected/</a></p>' +\n",
       "                '</div>'\n",
       "            );\n",
       "        return;\n",
       "    }\n",
       "    WebIO.mount(\n",
       "        document.querySelector('[data-webio-mountpoint=\"7989312982724621159\"]'),\n",
       "        {\"props\":{},\"nodeType\":\"DOM\",\"type\":\"node\",\"instanceArgs\":{\"namespace\":\"html\",\"tag\":\"div\"},\"children\":[{\"props\":{\"className\":\"field interact-widget\"},\"nodeType\":\"DOM\",\"type\":\"node\",\"instanceArgs\":{\"namespace\":\"html\",\"tag\":\"div\"},\"children\":[{\"props\":{},\"nodeType\":\"Scope\",\"type\":\"node\",\"instanceArgs\":{\"imports\":{\"data\":[{\"name\":\"knockout\",\"type\":\"js\",\"url\":\"\\/assetserver\\/2712bb0a7395d062608c2f218a74b700f6c76b99-knockout.js\"},{\"name\":\"knockout_punches\",\"type\":\"js\",\"url\":\"\\/assetserver\\/fb4445501a2be4ab82176667f844e40da26fa007-knockout_punches.js\"},{\"name\":null,\"type\":\"js\",\"url\":\"\\/assetserver\\/a8ea7d9192d5fa85c6fac26c72d7fece1e500138-all.js\"},{\"name\":null,\"type\":\"css\",\"url\":\"\\/assetserver\\/620a53798cfdb29a4a2142ce0588e9aadc351d94-style.css\"},{\"name\":null,\"type\":\"css\",\"url\":\"\\/assetserver\\/9f2f17f677abbfd015a7c6b0c0f09a2da809bee2-bulma_confined.min.css\"}],\"type\":\"async_block\"},\"id\":\"9685351474924793259\",\"handlers\":{\"changes\":[\"(function (val){return (val!=this.model[\\\"changes\\\"]()) ? (this.valueFromJulia[\\\"changes\\\"]=true, this.model[\\\"changes\\\"](val)) : undefined})\"],\"index\":[\"(function (val){return (val!=this.model[\\\"index\\\"]()) ? (this.valueFromJulia[\\\"index\\\"]=true, this.model[\\\"index\\\"](val)) : undefined})\"]},\"systemjs_options\":null,\"mount_callbacks\":[\"function () {\\n    var handler = (function (ko, koPunches) {\\n    ko.punches.enableAll();\\n    ko.bindingHandlers.numericValue = {\\n        init: function(element, valueAccessor, allBindings, data, context) {\\n            var stringified = ko.observable(ko.unwrap(valueAccessor()));\\n            stringified.subscribe(function(value) {\\n                var val = parseFloat(value);\\n                if (!isNaN(val)) {\\n                    valueAccessor()(val);\\n                }\\n            });\\n            valueAccessor().subscribe(function(value) {\\n                var str = JSON.stringify(value);\\n                if ((str == \\\"0\\\") && ([\\\"-0\\\", \\\"-0.\\\"].indexOf(stringified()) >= 0))\\n                     return;\\n                 if ([\\\"null\\\", \\\"\\\"].indexOf(str) >= 0)\\n                     return;\\n                stringified(str);\\n            });\\n            ko.applyBindingsToNode(\\n                element,\\n                {\\n                    value: stringified,\\n                    valueUpdate: allBindings.get('valueUpdate'),\\n                },\\n                context,\\n            );\\n        }\\n    };\\n    var json_data = {\\\"formatted_vals\\\":[\\\"0.2\\\",\\\"0.201\\\",\\\"0.202\\\",\\\"0.203\\\",\\\"0.204\\\",\\\"0.205\\\",\\\"0.206\\\",\\\"0.207\\\",\\\"0.208\\\",\\\"0.209\\\",\\\"0.21\\\",\\\"0.211\\\",\\\"0.212\\\",\\\"0.213\\\",\\\"0.214\\\",\\\"0.215\\\",\\\"0.216\\\",\\\"0.217\\\",\\\"0.218\\\",\\\"0.219\\\",\\\"0.22\\\",\\\"0.221\\\",\\\"0.222\\\",\\\"0.223\\\",\\\"0.224\\\",\\\"0.225\\\",\\\"0.226\\\",\\\"0.227\\\",\\\"0.228\\\",\\\"0.229\\\",\\\"0.23\\\",\\\"0.231\\\",\\\"0.232\\\",\\\"0.233\\\",\\\"0.234\\\",\\\"0.235\\\",\\\"0.236\\\",\\\"0.237\\\",\\\"0.238\\\",\\\"0.239\\\",\\\"0.24\\\",\\\"0.241\\\",\\\"0.242\\\",\\\"0.243\\\",\\\"0.244\\\",\\\"0.245\\\",\\\"0.246\\\",\\\"0.247\\\",\\\"0.248\\\",\\\"0.249\\\",\\\"0.25\\\"],\\\"changes\\\":WebIO.getval({\\\"name\\\":\\\"changes\\\",\\\"scope\\\":\\\"9685351474924793259\\\",\\\"id\\\":\\\"6635548621866852085\\\",\\\"type\\\":\\\"observable\\\"}),\\\"index\\\":WebIO.getval({\\\"name\\\":\\\"index\\\",\\\"scope\\\":\\\"9685351474924793259\\\",\\\"id\\\":\\\"16090750183727704534\\\",\\\"type\\\":\\\"observable\\\"})};\\n    var self = this;\\n    function AppViewModel() {\\n        for (var key in json_data) {\\n            var el = json_data[key];\\n            this[key] = Array.isArray(el) ? ko.observableArray(el) : ko.observable(el);\\n        }\\n        \\n        [this[\\\"formatted_val\\\"]=ko.computed(    function(){\\n        return this.formatted_vals()[parseInt(this.index())-(1)];\\n    }\\n,this)]\\n        [this[\\\"changes\\\"].subscribe((function (val){!(this.valueFromJulia[\\\"changes\\\"]) ? (WebIO.setval({\\\"name\\\":\\\"changes\\\",\\\"scope\\\":\\\"9685351474924793259\\\",\\\"id\\\":\\\"6635548621866852085\\\",\\\"type\\\":\\\"observable\\\"},val)) : undefined; return this.valueFromJulia[\\\"changes\\\"]=false}),self),this[\\\"index\\\"].subscribe((function (val){!(this.valueFromJulia[\\\"index\\\"]) ? (WebIO.setval({\\\"name\\\":\\\"index\\\",\\\"scope\\\":\\\"9685351474924793259\\\",\\\"id\\\":\\\"16090750183727704534\\\",\\\"type\\\":\\\"observable\\\"},val)) : undefined; return this.valueFromJulia[\\\"index\\\"]=false}),self)]\\n        \\n    }\\n    self.model = new AppViewModel();\\n    self.valueFromJulia = {};\\n    for (var key in json_data) {\\n        self.valueFromJulia[key] = false;\\n    }\\n    ko.applyBindings(self.model, self.dom);\\n}\\n);\\n    (WebIO.importBlock({\\\"data\\\":[{\\\"name\\\":\\\"knockout\\\",\\\"type\\\":\\\"js\\\",\\\"url\\\":\\\"\\/assetserver\\/2712bb0a7395d062608c2f218a74b700f6c76b99-knockout.js\\\"},{\\\"name\\\":\\\"knockout_punches\\\",\\\"type\\\":\\\"js\\\",\\\"url\\\":\\\"\\/assetserver\\/fb4445501a2be4ab82176667f844e40da26fa007-knockout_punches.js\\\"}],\\\"type\\\":\\\"async_block\\\"})).then((imports) => handler.apply(this, imports));\\n}\\n\"],\"observables\":{\"changes\":{\"sync\":false,\"id\":\"6635548621866852085\",\"value\":0},\"index\":{\"sync\":true,\"id\":\"16090750183727704534\",\"value\":26}}},\"children\":[{\"props\":{\"className\":\"interact-flex-row interact-widget\"},\"nodeType\":\"DOM\",\"type\":\"node\",\"instanceArgs\":{\"namespace\":\"html\",\"tag\":\"div\"},\"children\":[{\"props\":{\"className\":\"interact-flex-row-left\"},\"nodeType\":\"DOM\",\"type\":\"node\",\"instanceArgs\":{\"namespace\":\"html\",\"tag\":\"div\"},\"children\":[{\"props\":{\"className\":\"interact \",\"style\":{\"padding\":\"5px 10px 0px 10px\"}},\"nodeType\":\"DOM\",\"type\":\"node\",\"instanceArgs\":{\"namespace\":\"html\",\"tag\":\"label\"},\"children\":[\"H\"]}]},{\"props\":{\"className\":\"interact-flex-row-center\"},\"nodeType\":\"DOM\",\"type\":\"node\",\"instanceArgs\":{\"namespace\":\"html\",\"tag\":\"div\"},\"children\":[{\"props\":{\"max\":51,\"min\":1,\"attributes\":{\"type\":\"range\",\"data-bind\":\"numericValue: index, valueUpdate: 'input', event: {change: function (){this.changes(this.changes()+1)}}\",\"orient\":\"horizontal\"},\"step\":1,\"className\":\"slider slider is-fullwidth\",\"style\":{}},\"nodeType\":\"DOM\",\"type\":\"node\",\"instanceArgs\":{\"namespace\":\"html\",\"tag\":\"input\"},\"children\":[]}]},{\"props\":{\"className\":\"interact-flex-row-right\"},\"nodeType\":\"DOM\",\"type\":\"node\",\"instanceArgs\":{\"namespace\":\"html\",\"tag\":\"div\"},\"children\":[{\"props\":{\"attributes\":{\"data-bind\":\"text: formatted_val\"}},\"nodeType\":\"DOM\",\"type\":\"node\",\"instanceArgs\":{\"namespace\":\"html\",\"tag\":\"p\"},\"children\":[]}]}]}]}]},{\"props\":{\"className\":\"field interact-widget\"},\"nodeType\":\"DOM\",\"type\":\"node\",\"instanceArgs\":{\"namespace\":\"html\",\"tag\":\"div\"},\"children\":[{\"props\":{},\"nodeType\":\"Scope\",\"type\":\"node\",\"instanceArgs\":{\"imports\":{\"data\":[{\"name\":\"knockout\",\"type\":\"js\",\"url\":\"\\/assetserver\\/2712bb0a7395d062608c2f218a74b700f6c76b99-knockout.js\"},{\"name\":\"knockout_punches\",\"type\":\"js\",\"url\":\"\\/assetserver\\/fb4445501a2be4ab82176667f844e40da26fa007-knockout_punches.js\"},{\"name\":null,\"type\":\"js\",\"url\":\"\\/assetserver\\/a8ea7d9192d5fa85c6fac26c72d7fece1e500138-all.js\"},{\"name\":null,\"type\":\"css\",\"url\":\"\\/assetserver\\/620a53798cfdb29a4a2142ce0588e9aadc351d94-style.css\"},{\"name\":null,\"type\":\"css\",\"url\":\"\\/assetserver\\/9f2f17f677abbfd015a7c6b0c0f09a2da809bee2-bulma_confined.min.css\"}],\"type\":\"async_block\"},\"id\":\"11547422516769688049\",\"handlers\":{\"changes\":[\"(function (val){return (val!=this.model[\\\"changes\\\"]()) ? (this.valueFromJulia[\\\"changes\\\"]=true, this.model[\\\"changes\\\"](val)) : undefined})\"],\"index\":[\"(function (val){return (val!=this.model[\\\"index\\\"]()) ? (this.valueFromJulia[\\\"index\\\"]=true, this.model[\\\"index\\\"](val)) : undefined})\"]},\"systemjs_options\":null,\"mount_callbacks\":[\"function () {\\n    var handler = (function (ko, koPunches) {\\n    ko.punches.enableAll();\\n    ko.bindingHandlers.numericValue = {\\n        init: function(element, valueAccessor, allBindings, data, context) {\\n            var stringified = ko.observable(ko.unwrap(valueAccessor()));\\n            stringified.subscribe(function(value) {\\n                var val = parseFloat(value);\\n                if (!isNaN(val)) {\\n                    valueAccessor()(val);\\n                }\\n            });\\n            valueAccessor().subscribe(function(value) {\\n                var str = JSON.stringify(value);\\n                if ((str == \\\"0\\\") && ([\\\"-0\\\", \\\"-0.\\\"].indexOf(stringified()) >= 0))\\n                     return;\\n                 if ([\\\"null\\\", \\\"\\\"].indexOf(str) >= 0)\\n                     return;\\n                stringified(str);\\n            });\\n            ko.applyBindingsToNode(\\n                element,\\n                {\\n                    value: stringified,\\n                    valueUpdate: allBindings.get('valueUpdate'),\\n                },\\n                context,\\n            );\\n        }\\n    };\\n    var json_data = {\\\"formatted_vals\\\":[\\\"-0.1\\\",\\\"-0.09\\\",\\\"-0.08\\\",\\\"-0.07\\\",\\\"-0.06\\\",\\\"-0.05\\\",\\\"-0.04\\\",\\\"-0.03\\\",\\\"-0.02\\\",\\\"-0.01\\\",\\\"0.0\\\",\\\"0.01\\\",\\\"0.02\\\",\\\"0.03\\\",\\\"0.04\\\",\\\"0.05\\\",\\\"0.06\\\",\\\"0.07\\\",\\\"0.08\\\",\\\"0.09\\\",\\\"0.1\\\",\\\"0.11\\\",\\\"0.12\\\"],\\\"changes\\\":WebIO.getval({\\\"name\\\":\\\"changes\\\",\\\"scope\\\":\\\"11547422516769688049\\\",\\\"id\\\":\\\"2965949320030201615\\\",\\\"type\\\":\\\"observable\\\"}),\\\"index\\\":WebIO.getval({\\\"name\\\":\\\"index\\\",\\\"scope\\\":\\\"11547422516769688049\\\",\\\"id\\\":\\\"11472258248448355775\\\",\\\"type\\\":\\\"observable\\\"})};\\n    var self = this;\\n    function AppViewModel() {\\n        for (var key in json_data) {\\n            var el = json_data[key];\\n            this[key] = Array.isArray(el) ? ko.observableArray(el) : ko.observable(el);\\n        }\\n        \\n        [this[\\\"formatted_val\\\"]=ko.computed(    function(){\\n        return this.formatted_vals()[parseInt(this.index())-(1)];\\n    }\\n,this)]\\n        [this[\\\"changes\\\"].subscribe((function (val){!(this.valueFromJulia[\\\"changes\\\"]) ? (WebIO.setval({\\\"name\\\":\\\"changes\\\",\\\"scope\\\":\\\"11547422516769688049\\\",\\\"id\\\":\\\"2965949320030201615\\\",\\\"type\\\":\\\"observable\\\"},val)) : undefined; return this.valueFromJulia[\\\"changes\\\"]=false}),self),this[\\\"index\\\"].subscribe((function (val){!(this.valueFromJulia[\\\"index\\\"]) ? (WebIO.setval({\\\"name\\\":\\\"index\\\",\\\"scope\\\":\\\"11547422516769688049\\\",\\\"id\\\":\\\"11472258248448355775\\\",\\\"type\\\":\\\"observable\\\"},val)) : undefined; return this.valueFromJulia[\\\"index\\\"]=false}),self)]\\n        \\n    }\\n    self.model = new AppViewModel();\\n    self.valueFromJulia = {};\\n    for (var key in json_data) {\\n        self.valueFromJulia[key] = false;\\n    }\\n    ko.applyBindings(self.model, self.dom);\\n}\\n);\\n    (WebIO.importBlock({\\\"data\\\":[{\\\"name\\\":\\\"knockout\\\",\\\"type\\\":\\\"js\\\",\\\"url\\\":\\\"\\/assetserver\\/2712bb0a7395d062608c2f218a74b700f6c76b99-knockout.js\\\"},{\\\"name\\\":\\\"knockout_punches\\\",\\\"type\\\":\\\"js\\\",\\\"url\\\":\\\"\\/assetserver\\/fb4445501a2be4ab82176667f844e40da26fa007-knockout_punches.js\\\"}],\\\"type\\\":\\\"async_block\\\"})).then((imports) => handler.apply(this, imports));\\n}\\n\"],\"observables\":{\"changes\":{\"sync\":false,\"id\":\"2965949320030201615\",\"value\":0},\"index\":{\"sync\":true,\"id\":\"11472258248448355775\",\"value\":12}}},\"children\":[{\"props\":{\"className\":\"interact-flex-row interact-widget\"},\"nodeType\":\"DOM\",\"type\":\"node\",\"instanceArgs\":{\"namespace\":\"html\",\"tag\":\"div\"},\"children\":[{\"props\":{\"className\":\"interact-flex-row-left\"},\"nodeType\":\"DOM\",\"type\":\"node\",\"instanceArgs\":{\"namespace\":\"html\",\"tag\":\"div\"},\"children\":[{\"props\":{\"className\":\"interact \",\"style\":{\"padding\":\"5px 10px 0px 10px\"}},\"nodeType\":\"DOM\",\"type\":\"node\",\"instanceArgs\":{\"namespace\":\"html\",\"tag\":\"label\"},\"children\":[\"S\"]}]},{\"props\":{\"className\":\"interact-flex-row-center\"},\"nodeType\":\"DOM\",\"type\":\"node\",\"instanceArgs\":{\"namespace\":\"html\",\"tag\":\"div\"},\"children\":[{\"props\":{\"max\":23,\"min\":1,\"attributes\":{\"type\":\"range\",\"data-bind\":\"numericValue: index, valueUpdate: 'input', event: {change: function (){this.changes(this.changes()+1)}}\",\"orient\":\"horizontal\"},\"step\":1,\"className\":\"slider slider is-fullwidth\",\"style\":{}},\"nodeType\":\"DOM\",\"type\":\"node\",\"instanceArgs\":{\"namespace\":\"html\",\"tag\":\"input\"},\"children\":[]}]},{\"props\":{\"className\":\"interact-flex-row-right\"},\"nodeType\":\"DOM\",\"type\":\"node\",\"instanceArgs\":{\"namespace\":\"html\",\"tag\":\"div\"},\"children\":[{\"props\":{\"attributes\":{\"data-bind\":\"text: formatted_val\"}},\"nodeType\":\"DOM\",\"type\":\"node\",\"instanceArgs\":{\"namespace\":\"html\",\"tag\":\"p\"},\"children\":[]}]}]}]}]},{\"props\":{\"className\":\"field interact-widget\"},\"nodeType\":\"DOM\",\"type\":\"node\",\"instanceArgs\":{\"namespace\":\"html\",\"tag\":\"div\"},\"children\":[{\"props\":{},\"nodeType\":\"Scope\",\"type\":\"node\",\"instanceArgs\":{\"imports\":{\"data\":[{\"name\":\"knockout\",\"type\":\"js\",\"url\":\"\\/assetserver\\/2712bb0a7395d062608c2f218a74b700f6c76b99-knockout.js\"},{\"name\":\"knockout_punches\",\"type\":\"js\",\"url\":\"\\/assetserver\\/fb4445501a2be4ab82176667f844e40da26fa007-knockout_punches.js\"},{\"name\":null,\"type\":\"js\",\"url\":\"\\/assetserver\\/a8ea7d9192d5fa85c6fac26c72d7fece1e500138-all.js\"},{\"name\":null,\"type\":\"css\",\"url\":\"\\/assetserver\\/620a53798cfdb29a4a2142ce0588e9aadc351d94-style.css\"},{\"name\":null,\"type\":\"css\",\"url\":\"\\/assetserver\\/9f2f17f677abbfd015a7c6b0c0f09a2da809bee2-bulma_confined.min.css\"}],\"type\":\"async_block\"},\"id\":\"11584702583806033045\",\"handlers\":{\"changes\":[\"(function (val){return (val!=this.model[\\\"changes\\\"]()) ? (this.valueFromJulia[\\\"changes\\\"]=true, this.model[\\\"changes\\\"](val)) : undefined})\"],\"index\":[\"(function (val){return (val!=this.model[\\\"index\\\"]()) ? (this.valueFromJulia[\\\"index\\\"]=true, this.model[\\\"index\\\"](val)) : undefined})\"]},\"systemjs_options\":null,\"mount_callbacks\":[\"function () {\\n    var handler = (function (ko, koPunches) {\\n    ko.punches.enableAll();\\n    ko.bindingHandlers.numericValue = {\\n        init: function(element, valueAccessor, allBindings, data, context) {\\n            var stringified = ko.observable(ko.unwrap(valueAccessor()));\\n            stringified.subscribe(function(value) {\\n                var val = parseFloat(value);\\n                if (!isNaN(val)) {\\n                    valueAccessor()(val);\\n                }\\n            });\\n            valueAccessor().subscribe(function(value) {\\n                var str = JSON.stringify(value);\\n                if ((str == \\\"0\\\") && ([\\\"-0\\\", \\\"-0.\\\"].indexOf(stringified()) >= 0))\\n                     return;\\n                 if ([\\\"null\\\", \\\"\\\"].indexOf(str) >= 0)\\n                     return;\\n                stringified(str);\\n            });\\n            ko.applyBindingsToNode(\\n                element,\\n                {\\n                    value: stringified,\\n                    valueUpdate: allBindings.get('valueUpdate'),\\n                },\\n                context,\\n            );\\n        }\\n    };\\n    var json_data = {\\\"formatted_vals\\\":[\\\"10.0\\\",\\\"15.0\\\",\\\"20.0\\\",\\\"25.0\\\",\\\"30.0\\\",\\\"35.0\\\",\\\"40.0\\\",\\\"45.0\\\",\\\"50.0\\\",\\\"55.0\\\",\\\"60.0\\\",\\\"65.0\\\",\\\"70.0\\\",\\\"75.0\\\",\\\"80.0\\\",\\\"85.0\\\",\\\"90.0\\\",\\\"95.0\\\",\\\"100.0\\\"],\\\"changes\\\":WebIO.getval({\\\"name\\\":\\\"changes\\\",\\\"scope\\\":\\\"11584702583806033045\\\",\\\"id\\\":\\\"14129414433213550740\\\",\\\"type\\\":\\\"observable\\\"}),\\\"index\\\":WebIO.getval({\\\"name\\\":\\\"index\\\",\\\"scope\\\":\\\"11584702583806033045\\\",\\\"id\\\":\\\"8440401168766773373\\\",\\\"type\\\":\\\"observable\\\"})};\\n    var self = this;\\n    function AppViewModel() {\\n        for (var key in json_data) {\\n            var el = json_data[key];\\n            this[key] = Array.isArray(el) ? ko.observableArray(el) : ko.observable(el);\\n        }\\n        \\n        [this[\\\"formatted_val\\\"]=ko.computed(    function(){\\n        return this.formatted_vals()[parseInt(this.index())-(1)];\\n    }\\n,this)]\\n        [this[\\\"changes\\\"].subscribe((function (val){!(this.valueFromJulia[\\\"changes\\\"]) ? (WebIO.setval({\\\"name\\\":\\\"changes\\\",\\\"scope\\\":\\\"11584702583806033045\\\",\\\"id\\\":\\\"14129414433213550740\\\",\\\"type\\\":\\\"observable\\\"},val)) : undefined; return this.valueFromJulia[\\\"changes\\\"]=false}),self),this[\\\"index\\\"].subscribe((function (val){!(this.valueFromJulia[\\\"index\\\"]) ? (WebIO.setval({\\\"name\\\":\\\"index\\\",\\\"scope\\\":\\\"11584702583806033045\\\",\\\"id\\\":\\\"8440401168766773373\\\",\\\"type\\\":\\\"observable\\\"},val)) : undefined; return this.valueFromJulia[\\\"index\\\"]=false}),self)]\\n        \\n    }\\n    self.model = new AppViewModel();\\n    self.valueFromJulia = {};\\n    for (var key in json_data) {\\n        self.valueFromJulia[key] = false;\\n    }\\n    ko.applyBindings(self.model, self.dom);\\n}\\n);\\n    (WebIO.importBlock({\\\"data\\\":[{\\\"name\\\":\\\"knockout\\\",\\\"type\\\":\\\"js\\\",\\\"url\\\":\\\"\\/assetserver\\/2712bb0a7395d062608c2f218a74b700f6c76b99-knockout.js\\\"},{\\\"name\\\":\\\"knockout_punches\\\",\\\"type\\\":\\\"js\\\",\\\"url\\\":\\\"\\/assetserver\\/fb4445501a2be4ab82176667f844e40da26fa007-knockout_punches.js\\\"}],\\\"type\\\":\\\"async_block\\\"})).then((imports) => handler.apply(this, imports));\\n}\\n\"],\"observables\":{\"changes\":{\"sync\":false,\"id\":\"14129414433213550740\",\"value\":0},\"index\":{\"sync\":true,\"id\":\"8440401168766773373\",\"value\":10}}},\"children\":[{\"props\":{\"className\":\"interact-flex-row interact-widget\"},\"nodeType\":\"DOM\",\"type\":\"node\",\"instanceArgs\":{\"namespace\":\"html\",\"tag\":\"div\"},\"children\":[{\"props\":{\"className\":\"interact-flex-row-left\"},\"nodeType\":\"DOM\",\"type\":\"node\",\"instanceArgs\":{\"namespace\":\"html\",\"tag\":\"div\"},\"children\":[{\"props\":{\"className\":\"interact \",\"style\":{\"padding\":\"5px 10px 0px 10px\"}},\"nodeType\":\"DOM\",\"type\":\"node\",\"instanceArgs\":{\"namespace\":\"html\",\"tag\":\"label\"},\"children\":[\"tmax\"]}]},{\"props\":{\"className\":\"interact-flex-row-center\"},\"nodeType\":\"DOM\",\"type\":\"node\",\"instanceArgs\":{\"namespace\":\"html\",\"tag\":\"div\"},\"children\":[{\"props\":{\"max\":19,\"min\":1,\"attributes\":{\"type\":\"range\",\"data-bind\":\"numericValue: index, valueUpdate: 'input', event: {change: function (){this.changes(this.changes()+1)}}\",\"orient\":\"horizontal\"},\"step\":1,\"className\":\"slider slider is-fullwidth\",\"style\":{}},\"nodeType\":\"DOM\",\"type\":\"node\",\"instanceArgs\":{\"namespace\":\"html\",\"tag\":\"input\"},\"children\":[]}]},{\"props\":{\"className\":\"interact-flex-row-right\"},\"nodeType\":\"DOM\",\"type\":\"node\",\"instanceArgs\":{\"namespace\":\"html\",\"tag\":\"div\"},\"children\":[{\"props\":{\"attributes\":{\"data-bind\":\"text: formatted_val\"}},\"nodeType\":\"DOM\",\"type\":\"node\",\"instanceArgs\":{\"namespace\":\"html\",\"tag\":\"p\"},\"children\":[]}]}]}]}]},{\"props\":{},\"nodeType\":\"Scope\",\"type\":\"node\",\"instanceArgs\":{\"imports\":{\"data\":[],\"type\":\"async_block\"},\"id\":\"16539140739263394537\",\"handlers\":{},\"systemjs_options\":null,\"mount_callbacks\":[],\"observables\":{\"obs-node\":{\"sync\":false,\"id\":\"11751165475626422197\",\"value\":{\"props\":{\"className\":\"interact-flex-row interact-widget\"},\"nodeType\":\"DOM\",\"type\":\"node\",\"instanceArgs\":{\"namespace\":\"html\",\"tag\":\"div\"},\"children\":[{\"props\":{\"setInnerHtml\":\"<img src=\\\"data:image\\/png;base64,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\\\" \\/>\"},\"nodeType\":\"DOM\",\"type\":\"node\",\"instanceArgs\":{\"namespace\":\"html\",\"tag\":\"div\"},\"children\":[]}]}}}},\"children\":[{\"props\":{},\"nodeType\":\"ObservableNode\",\"type\":\"node\",\"instanceArgs\":{\"id\":\"11751165475626422197\",\"name\":\"obs-node\"},\"children\":[]}]}]},\n",
       "        window,\n",
       "    );\n",
       "    })()\n",
       "    </script>\n",
       "</div>\n"
      ],
      "text/plain": [
       "Node{WebIO.DOM}(WebIO.DOM(:html, :div), Any[Node{WebIO.DOM}(WebIO.DOM(:html, :div), Any[Scope(Node{WebIO.DOM}(WebIO.DOM(:html, :div), Any[Node{WebIO.DOM}(WebIO.DOM(:html, :div), Any[Node{WebIO.DOM}(WebIO.DOM(:html, :label), Any[\"H\"], Dict{Symbol, Any}(:className => \"interact \", :style => Dict{Any, Any}(:padding => \"5px 10px 0px 10px\")))], Dict{Symbol, Any}(:className => \"interact-flex-row-left\")), Node{WebIO.DOM}(WebIO.DOM(:html, :div), Any[Node{WebIO.DOM}(WebIO.DOM(:html, :input), Any[], Dict{Symbol, Any}(:max => 51, :min => 1, :attributes => Dict{Any, Any}(:type => \"range\", Symbol(\"data-bind\") => \"numericValue: index, valueUpdate: 'input', event: {change: function (){this.changes(this.changes()+1)}}\", \"orient\" => \"horizontal\"), :step => 1, :className => \"slider slider is-fullwidth\", :style => Dict{Any, Any}()))], Dict{Symbol, Any}(:className => \"interact-flex-row-center\")), Node{WebIO.DOM}(WebIO.DOM(:html, :div), Any[Node{WebIO.DOM}(WebIO.DOM(:html, :p), Any[], Dict{Symbol, Any}(:attributes => Dict(\"data-bind\" => \"text: formatted_val\")))], Dict{Symbol, Any}(:className => \"interact-flex-row-right\"))], Dict{Symbol, Any}(:className => \"interact-flex-row interact-widget\")), Dict{String, Tuple{Observables.AbstractObservable, Union{Nothing, Bool}}}(\"changes\" => (Observable{Int64} with 1 listeners. Value:\n",
       "0, nothing), \"index\" => (Observable{Any} with 2 listeners. Value:\n",
       "26, nothing)), Set{String}(), nothing, Asset[Asset(\"js\", \"knockout\", \"C:\\\\Users\\\\Camilo\\\\.julia\\\\packages\\\\Knockout\\\\3gjS1\\\\src\\\\..\\\\assets\\\\knockout.js\"), Asset(\"js\", \"knockout_punches\", \"C:\\\\Users\\\\Camilo\\\\.julia\\\\packages\\\\Knockout\\\\3gjS1\\\\src\\\\..\\\\assets\\\\knockout_punches.js\"), Asset(\"js\", nothing, \"C:\\\\Users\\\\Camilo\\\\.julia\\\\packages\\\\InteractBase\\\\h8Fwe\\\\src\\\\..\\\\assets\\\\all.js\"), Asset(\"css\", nothing, \"C:\\\\Users\\\\Camilo\\\\.julia\\\\packages\\\\InteractBase\\\\h8Fwe\\\\src\\\\..\\\\assets\\\\style.css\"), Asset(\"css\", nothing, \"C:\\\\Users\\\\Camilo\\\\.julia\\\\packages\\\\Interact\\\\pVyN2\\\\src\\\\..\\\\assets\\\\bulma_confined.min.css\")], Dict{Any, Any}(\"changes\" => Any[WebIO.JSString(\"(function (val){return (val!=this.model[\\\"changes\\\"]()) ? (this.valueFromJulia[\\\"changes\\\"]=true, this.model[\\\"changes\\\"](val)) : undefined})\")], \"index\" => Any[WebIO.JSString(\"(function (val){return (val!=this.model[\\\"index\\\"]()) ? (this.valueFromJulia[\\\"index\\\"]=true, this.model[\\\"index\\\"](val)) : undefined})\")]), WebIO.ConnectionPool(Channel{Any}(32), Set{AbstractConnection}(), Condition(Base.InvasiveLinkedList{Task}(Task (runnable) @0x000000008a2b3b70, Task (runnable) @0x000000008a2b3b70), Base.AlwaysLockedST(1))), WebIO.JSString[WebIO.JSString(\"function () {\\n    var handler = (function (ko, koPunches) {\\n    ko.punches.enableAll();\\n    ko.bindingHandlers.numericValue = {\\n        init: function(element, valueAccessor, allBindings, data, context) {\\n            var stringified = ko.observable(ko.unwrap(valueAccessor()));\\n            stringified.subscribe(function(value) {\\n                var val = parseFloat(value);\\n                if (!isNaN(val)) {\\n                    valueAccessor()(val);\\n                }\\n            });\\n            valueAccessor().subscribe(function(value) {\\n                var str = JSON.stringify(value);\\n                if ((str == \\\"0\\\") && ([\\\"-0\\\", \\\"-0.\\\"].indexOf(stringified()) >= 0))\\n                     return;\\n                 if ([\\\"null\\\", \\\"\\\"].indexOf(str) >= 0)\\n                     return;\\n                stringified(str);\\n            });\\n            ko.applyBindingsToNode(\\n                element,\\n                {\\n                    value: stringified,\\n                    valueUpdate: allBindings.get('valueUpdate'),\\n                },\\n                context,\\n            );\\n        }\\n    };\\n    var json_data = {\\\"formatted_vals\\\":[\\\"0.2\\\",\\\"0.201\\\",\\\"0.202\\\",\\\"0.203\\\",\\\"0.204\\\",\\\"0.205\\\",\\\"0.206\\\",\\\"0.207\\\",\\\"0.208\\\",\\\"0.209\\\",\\\"0.21\\\",\\\"0.211\\\",\\\"0.212\\\",\\\"0.213\\\",\\\"0.214\\\",\\\"0.215\\\",\\\"0.216\\\",\\\"0.217\\\",\\\"0.218\\\",\\\"0.219\\\",\\\"0.22\\\",\\\"0.221\\\",\\\"0.222\\\",\\\"0.223\\\",\\\"0.224\\\",\\\"0.225\\\",\\\"0.226\\\",\\\"0.227\\\",\\\"0.228\\\",\\\"0.229\\\",\\\"0.23\\\",\\\"0.231\\\",\\\"0.232\\\",\\\"0.233\\\",\\\"0.234\\\",\\\"0.235\\\",\\\"0.236\\\",\\\"0.237\\\",\\\"0.238\\\",\\\"0.239\\\",\\\"0.24\\\",\\\"0.241\\\",\\\"0.242\\\",\\\"0.243\\\",\\\"0.244\\\",\\\"0.245\\\",\\\"0.246\\\",\\\"0.247\\\",\\\"0.248\\\",\\\"0.249\\\",\\\"0.25\\\"],\\\"changes\\\":WebIO.getval({\\\"name\\\":\\\"changes\\\",\\\"scope\\\":\\\"9685351474924793259\\\",\\\"id\\\":\\\"6635548621866852085\\\",\\\"type\\\":\\\"observable\\\"}),\\\"index\\\":WebIO.getval({\\\"name\\\":\\\"index\\\",\\\"scope\\\":\\\"9685351474924793259\\\",\\\"id\\\":\\\"16090750183727704534\\\",\\\"type\\\":\\\"observable\\\"})};\\n    var self = this;\\n    function AppViewModel() {\\n        for (var key in json_data) {\\n            var el = json_data[key];\\n            this[key] = Array.isArray(el) ? ko.observableArray(el) : ko.observable(el);\\n        }\\n        \\n        [this[\\\"formatted_val\\\"]=ko.computed(    function(){\\n        return this.formatted_vals()[parseInt(this.index())-(1)];\\n    }\\n,this)]\\n        [this[\\\"changes\\\"].subscribe((function (val){!(this.valueFromJulia[\\\"changes\\\"]) ? (WebIO.setval({\\\"name\\\":\\\"changes\\\",\\\"scope\\\":\\\"9685351474924793259\\\",\\\"id\\\":\\\"6635548621866852085\\\",\\\"type\\\":\\\"observable\\\"},val)) : undefined; return this.valueFromJulia[\\\"changes\\\"]=false}),self),this[\\\"index\\\"].subscribe((function (val){!(this.valueFromJulia[\\\"index\\\"]) ? (WebIO.setval({\\\"name\\\":\\\"index\\\",\\\"scope\\\":\\\"9685351474924793259\\\",\\\"id\\\":\\\"16090750183727704534\\\",\\\"type\\\":\\\"observable\\\"},val)) : undefined; return this.valueFromJulia[\\\"index\\\"]=false}),self)]\\n        \\n    }\\n    self.model = new AppViewModel();\\n    self.valueFromJulia = {};\\n    for (var key in json_data) {\\n        self.valueFromJulia[key] = false;\\n    }\\n    ko.applyBindings(self.model, self.dom);\\n}\\n);\\n    (WebIO.importBlock({\\\"data\\\":[{\\\"name\\\":\\\"knockout\\\",\\\"type\\\":\\\"js\\\",\\\"url\\\":\\\"/assetserver/2712bb0a7395d062608c2f218a74b700f6c76b99-knockout.js\\\"},{\\\"name\\\":\\\"knockout_punches\\\",\\\"type\\\":\\\"js\\\",\\\"url\\\":\\\"/assetserver/fb4445501a2be4ab82176667f844e40da26fa007-knockout_punches.js\\\"}],\\\"type\\\":\\\"async_block\\\"})).then((imports) => handler.apply(this, imports));\\n}\\n\")])], Dict{Symbol, Any}(:className => \"field interact-widget\")), Node{WebIO.DOM}(WebIO.DOM(:html, :div), Any[Scope(Node{WebIO.DOM}(WebIO.DOM(:html, :div), Any[Node{WebIO.DOM}(WebIO.DOM(:html, :div), Any[Node{WebIO.DOM}(WebIO.DOM(:html, :label), Any[\"S\"], Dict{Symbol, Any}(:className => \"interact \", :style => Dict{Any, Any}(:padding => \"5px 10px 0px 10px\")))], Dict{Symbol, Any}(:className => \"interact-flex-row-left\")), Node{WebIO.DOM}(WebIO.DOM(:html, :div), Any[Node{WebIO.DOM}(WebIO.DOM(:html, :input), Any[], Dict{Symbol, Any}(:max => 23, :min => 1, :attributes => Dict{Any, Any}(:type => \"range\", Symbol(\"data-bind\") => \"numericValue: index, valueUpdate: 'input', event: {change: function (){this.changes(this.changes()+1)}}\", \"orient\" => \"horizontal\"), :step => 1, :className => \"slider slider is-fullwidth\", :style => Dict{Any, Any}()))], Dict{Symbol, Any}(:className => \"interact-flex-row-center\")), Node{WebIO.DOM}(WebIO.DOM(:html, :div), Any[Node{WebIO.DOM}(WebIO.DOM(:html, :p), Any[], Dict{Symbol, Any}(:attributes => Dict(\"data-bind\" => \"text: formatted_val\")))], Dict{Symbol, Any}(:className => \"interact-flex-row-right\"))], Dict{Symbol, Any}(:className => \"interact-flex-row interact-widget\")), Dict{String, Tuple{Observables.AbstractObservable, Union{Nothing, Bool}}}(\"changes\" => (Observable{Int64} with 1 listeners. Value:\n",
       "0, nothing), \"index\" => (Observable{Any} with 2 listeners. Value:\n",
       "12, nothing)), Set{String}(), nothing, Asset[Asset(\"js\", \"knockout\", \"C:\\\\Users\\\\Camilo\\\\.julia\\\\packages\\\\Knockout\\\\3gjS1\\\\src\\\\..\\\\assets\\\\knockout.js\"), Asset(\"js\", \"knockout_punches\", \"C:\\\\Users\\\\Camilo\\\\.julia\\\\packages\\\\Knockout\\\\3gjS1\\\\src\\\\..\\\\assets\\\\knockout_punches.js\"), Asset(\"js\", nothing, \"C:\\\\Users\\\\Camilo\\\\.julia\\\\packages\\\\InteractBase\\\\h8Fwe\\\\src\\\\..\\\\assets\\\\all.js\"), Asset(\"css\", nothing, \"C:\\\\Users\\\\Camilo\\\\.julia\\\\packages\\\\InteractBase\\\\h8Fwe\\\\src\\\\..\\\\assets\\\\style.css\"), Asset(\"css\", nothing, \"C:\\\\Users\\\\Camilo\\\\.julia\\\\packages\\\\Interact\\\\pVyN2\\\\src\\\\..\\\\assets\\\\bulma_confined.min.css\")], Dict{Any, Any}(\"changes\" => Any[WebIO.JSString(\"(function (val){return (val!=this.model[\\\"changes\\\"]()) ? (this.valueFromJulia[\\\"changes\\\"]=true, this.model[\\\"changes\\\"](val)) : undefined})\")], \"index\" => Any[WebIO.JSString(\"(function (val){return (val!=this.model[\\\"index\\\"]()) ? (this.valueFromJulia[\\\"index\\\"]=true, this.model[\\\"index\\\"](val)) : undefined})\")]), WebIO.ConnectionPool(Channel{Any}(32), Set{AbstractConnection}(), Condition(Base.InvasiveLinkedList{Task}(Task (runnable) @0x000000008a4a8010, Task (runnable) @0x000000008a4a8010), Base.AlwaysLockedST(1))), WebIO.JSString[WebIO.JSString(\"function () {\\n    var handler = (function (ko, koPunches) {\\n    ko.punches.enableAll();\\n    ko.bindingHandlers.numericValue = {\\n        init: function(element, valueAccessor, allBindings, data, context) {\\n            var stringified = ko.observable(ko.unwrap(valueAccessor()));\\n            stringified.subscribe(function(value) {\\n                var val = parseFloat(value);\\n                if (!isNaN(val)) {\\n                    valueAccessor()(val);\\n                }\\n            });\\n            valueAccessor().subscribe(function(value) {\\n                var str = JSON.stringify(value);\\n                if ((str == \\\"0\\\") && ([\\\"-0\\\", \\\"-0.\\\"].indexOf(stringified()) >= 0))\\n                     return;\\n                 if ([\\\"null\\\", \\\"\\\"].indexOf(str) >= 0)\\n                     return;\\n                stringified(str);\\n            });\\n            ko.applyBindingsToNode(\\n                element,\\n                {\\n                    value: stringified,\\n                    valueUpdate: allBindings.get('valueUpdate'),\\n                },\\n                context,\\n            );\\n        }\\n    };\\n    var json_data = {\\\"formatted_vals\\\":[\\\"-0.1\\\",\\\"-0.09\\\",\\\"-0.08\\\",\\\"-0.07\\\",\\\"-0.06\\\",\\\"-0.05\\\",\\\"-0.04\\\",\\\"-0.03\\\",\\\"-0.02\\\",\\\"-0.01\\\",\\\"0.0\\\",\\\"0.01\\\",\\\"0.02\\\",\\\"0.03\\\",\\\"0.04\\\",\\\"0.05\\\",\\\"0.06\\\",\\\"0.07\\\",\\\"0.08\\\",\\\"0.09\\\",\\\"0.1\\\",\\\"0.11\\\",\\\"0.12\\\"],\\\"changes\\\":WebIO.getval({\\\"name\\\":\\\"changes\\\",\\\"scope\\\":\\\"11547422516769688049\\\",\\\"id\\\":\\\"2965949320030201615\\\",\\\"type\\\":\\\"observable\\\"}),\\\"index\\\":WebIO.getval({\\\"name\\\":\\\"index\\\",\\\"scope\\\":\\\"11547422516769688049\\\",\\\"id\\\":\\\"11472258248448355775\\\",\\\"type\\\":\\\"observable\\\"})};\\n    var self = this;\\n    function AppViewModel() {\\n        for (var key in json_data) {\\n            var el = json_data[key];\\n            this[key] = Array.isArray(el) ? ko.observableArray(el) : ko.observable(el);\\n        }\\n        \\n        [this[\\\"formatted_val\\\"]=ko.computed(    function(){\\n        return this.formatted_vals()[parseInt(this.index())-(1)];\\n    }\\n,this)]\\n        [this[\\\"changes\\\"].subscribe((function (val){!(this.valueFromJulia[\\\"changes\\\"]) ? (WebIO.setval({\\\"name\\\":\\\"changes\\\",\\\"scope\\\":\\\"11547422516769688049\\\",\\\"id\\\":\\\"2965949320030201615\\\",\\\"type\\\":\\\"observable\\\"},val)) : undefined; return this.valueFromJulia[\\\"changes\\\"]=false}),self),this[\\\"index\\\"].subscribe((function (val){!(this.valueFromJulia[\\\"index\\\"]) ? (WebIO.setval({\\\"name\\\":\\\"index\\\",\\\"scope\\\":\\\"11547422516769688049\\\",\\\"id\\\":\\\"11472258248448355775\\\",\\\"type\\\":\\\"observable\\\"},val)) : undefined; return this.valueFromJulia[\\\"index\\\"]=false}),self)]\\n        \\n    }\\n    self.model = new AppViewModel();\\n    self.valueFromJulia = {};\\n    for (var key in json_data) {\\n        self.valueFromJulia[key] = false;\\n    }\\n    ko.applyBindings(self.model, self.dom);\\n}\\n);\\n    (WebIO.importBlock({\\\"data\\\":[{\\\"name\\\":\\\"knockout\\\",\\\"type\\\":\\\"js\\\",\\\"url\\\":\\\"/assetserver/2712bb0a7395d062608c2f218a74b700f6c76b99-knockout.js\\\"},{\\\"name\\\":\\\"knockout_punches\\\",\\\"type\\\":\\\"js\\\",\\\"url\\\":\\\"/assetserver/fb4445501a2be4ab82176667f844e40da26fa007-knockout_punches.js\\\"}],\\\"type\\\":\\\"async_block\\\"})).then((imports) => handler.apply(this, imports));\\n}\\n\")])], Dict{Symbol, Any}(:className => \"field interact-widget\")), Node{WebIO.DOM}(WebIO.DOM(:html, :div), Any[Scope(Node{WebIO.DOM}(WebIO.DOM(:html, :div), Any[Node{WebIO.DOM}(WebIO.DOM(:html, :div), Any[Node{WebIO.DOM}(WebIO.DOM(:html, :label), Any[\"tmax\"], Dict{Symbol, Any}(:className => \"interact \", :style => Dict{Any, Any}(:padding => \"5px 10px 0px 10px\")))], Dict{Symbol, Any}(:className => \"interact-flex-row-left\")), Node{WebIO.DOM}(WebIO.DOM(:html, :div), Any[Node{WebIO.DOM}(WebIO.DOM(:html, :input), Any[], Dict{Symbol, Any}(:max => 19, :min => 1, :attributes => Dict{Any, Any}(:type => \"range\", Symbol(\"data-bind\") => \"numericValue: index, valueUpdate: 'input', event: {change: function (){this.changes(this.changes()+1)}}\", \"orient\" => \"horizontal\"), :step => 1, :className => \"slider slider is-fullwidth\", :style => Dict{Any, Any}()))], Dict{Symbol, Any}(:className => \"interact-flex-row-center\")), Node{WebIO.DOM}(WebIO.DOM(:html, :div), Any[Node{WebIO.DOM}(WebIO.DOM(:html, :p), Any[], Dict{Symbol, Any}(:attributes => Dict(\"data-bind\" => \"text: formatted_val\")))], Dict{Symbol, Any}(:className => \"interact-flex-row-right\"))], Dict{Symbol, Any}(:className => \"interact-flex-row interact-widget\")), Dict{String, Tuple{Observables.AbstractObservable, Union{Nothing, Bool}}}(\"changes\" => (Observable{Int64} with 1 listeners. Value:\n",
       "0, nothing), \"index\" => (Observable{Any} with 2 listeners. Value:\n",
       "10, nothing)), Set{String}(), nothing, Asset[Asset(\"js\", \"knockout\", \"C:\\\\Users\\\\Camilo\\\\.julia\\\\packages\\\\Knockout\\\\3gjS1\\\\src\\\\..\\\\assets\\\\knockout.js\"), Asset(\"js\", \"knockout_punches\", \"C:\\\\Users\\\\Camilo\\\\.julia\\\\packages\\\\Knockout\\\\3gjS1\\\\src\\\\..\\\\assets\\\\knockout_punches.js\"), Asset(\"js\", nothing, \"C:\\\\Users\\\\Camilo\\\\.julia\\\\packages\\\\InteractBase\\\\h8Fwe\\\\src\\\\..\\\\assets\\\\all.js\"), Asset(\"css\", nothing, \"C:\\\\Users\\\\Camilo\\\\.julia\\\\packages\\\\InteractBase\\\\h8Fwe\\\\src\\\\..\\\\assets\\\\style.css\"), Asset(\"css\", nothing, \"C:\\\\Users\\\\Camilo\\\\.julia\\\\packages\\\\Interact\\\\pVyN2\\\\src\\\\..\\\\assets\\\\bulma_confined.min.css\")], Dict{Any, Any}(\"changes\" => Any[WebIO.JSString(\"(function (val){return (val!=this.model[\\\"changes\\\"]()) ? (this.valueFromJulia[\\\"changes\\\"]=true, this.model[\\\"changes\\\"](val)) : undefined})\")], \"index\" => Any[WebIO.JSString(\"(function (val){return (val!=this.model[\\\"index\\\"]()) ? (this.valueFromJulia[\\\"index\\\"]=true, this.model[\\\"index\\\"](val)) : undefined})\")]), WebIO.ConnectionPool(Channel{Any}(32), Set{AbstractConnection}(), Condition(Base.InvasiveLinkedList{Task}(Task (runnable) @0x000000008a4dc330, Task (runnable) @0x000000008a4dc330), Base.AlwaysLockedST(1))), WebIO.JSString[WebIO.JSString(\"function () {\\n    var handler = (function (ko, koPunches) {\\n    ko.punches.enableAll();\\n    ko.bindingHandlers.numericValue = {\\n        init: function(element, valueAccessor, allBindings, data, context) {\\n            var stringified = ko.observable(ko.unwrap(valueAccessor()));\\n            stringified.subscribe(function(value) {\\n                var val = parseFloat(value);\\n                if (!isNaN(val)) {\\n                    valueAccessor()(val);\\n                }\\n            });\\n            valueAccessor().subscribe(function(value) {\\n                var str = JSON.stringify(value);\\n                if ((str == \\\"0\\\") && ([\\\"-0\\\", \\\"-0.\\\"].indexOf(stringified()) >= 0))\\n                     return;\\n                 if ([\\\"null\\\", \\\"\\\"].indexOf(str) >= 0)\\n                     return;\\n                stringified(str);\\n            });\\n            ko.applyBindingsToNode(\\n                element,\\n                {\\n                    value: stringified,\\n                    valueUpdate: allBindings.get('valueUpdate'),\\n                },\\n                context,\\n            );\\n        }\\n    };\\n    var json_data = {\\\"formatted_vals\\\":[\\\"10.0\\\",\\\"15.0\\\",\\\"20.0\\\",\\\"25.0\\\",\\\"30.0\\\",\\\"35.0\\\",\\\"40.0\\\",\\\"45.0\\\",\\\"50.0\\\",\\\"55.0\\\",\\\"60.0\\\",\\\"65.0\\\",\\\"70.0\\\",\\\"75.0\\\",\\\"80.0\\\",\\\"85.0\\\",\\\"90.0\\\",\\\"95.0\\\",\\\"100.0\\\"],\\\"changes\\\":WebIO.getval({\\\"name\\\":\\\"changes\\\",\\\"scope\\\":\\\"11584702583806033045\\\",\\\"id\\\":\\\"14129414433213550740\\\",\\\"type\\\":\\\"observable\\\"}),\\\"index\\\":WebIO.getval({\\\"name\\\":\\\"index\\\",\\\"scope\\\":\\\"11584702583806033045\\\",\\\"id\\\":\\\"8440401168766773373\\\",\\\"type\\\":\\\"observable\\\"})};\\n    var self = this;\\n    function AppViewModel() {\\n        for (var key in json_data) {\\n            var el = json_data[key];\\n            this[key] = Array.isArray(el) ? ko.observableArray(el) : ko.observable(el);\\n        }\\n        \\n        [this[\\\"formatted_val\\\"]=ko.computed(    function(){\\n        return this.formatted_vals()[parseInt(this.index())-(1)];\\n    }\\n,this)]\\n        [this[\\\"changes\\\"].subscribe((function (val){!(this.valueFromJulia[\\\"changes\\\"]) ? (WebIO.setval({\\\"name\\\":\\\"changes\\\",\\\"scope\\\":\\\"11584702583806033045\\\",\\\"id\\\":\\\"14129414433213550740\\\",\\\"type\\\":\\\"observable\\\"},val)) : undefined; return this.valueFromJulia[\\\"changes\\\"]=false}),self),this[\\\"index\\\"].subscribe((function (val){!(this.valueFromJulia[\\\"index\\\"]) ? (WebIO.setval({\\\"name\\\":\\\"index\\\",\\\"scope\\\":\\\"11584702583806033045\\\",\\\"id\\\":\\\"8440401168766773373\\\",\\\"type\\\":\\\"observable\\\"},val)) : undefined; return this.valueFromJulia[\\\"index\\\"]=false}),self)]\\n        \\n    }\\n    self.model = new AppViewModel();\\n    self.valueFromJulia = {};\\n    for (var key in json_data) {\\n        self.valueFromJulia[key] = false;\\n    }\\n    ko.applyBindings(self.model, self.dom);\\n}\\n);\\n    (WebIO.importBlock({\\\"data\\\":[{\\\"name\\\":\\\"knockout\\\",\\\"type\\\":\\\"js\\\",\\\"url\\\":\\\"/assetserver/2712bb0a7395d062608c2f218a74b700f6c76b99-knockout.js\\\"},{\\\"name\\\":\\\"knockout_punches\\\",\\\"type\\\":\\\"js\\\",\\\"url\\\":\\\"/assetserver/fb4445501a2be4ab82176667f844e40da26fa007-knockout_punches.js\\\"}],\\\"type\\\":\\\"async_block\\\"})).then((imports) => handler.apply(this, imports));\\n}\\n\")])], Dict{Symbol, Any}(:className => \"field interact-widget\")), Observable{Node{WebIO.DOM}} with 0 listeners. Value:\n",
       "Node{WebIO.DOM}(WebIO.DOM(:html, :div), Any[Plot{Plots.GRBackend() n=4}], Dict{Symbol, Any}(:className => \"interact-flex-row interact-widget\"))], Dict{Symbol, Any}())"
      ]
     },
     "execution_count": 14,
     "metadata": {
      "application/vnd.webio.node+json": {
       "kernelId": "3fc7bb62-8e80-4615-87cb-b83688e6e5dd"
      }
     },
     "output_type": "execute_result"
    }
   ],
   "source": [
    "Vlogharvest(x,p) = p[1]*x*x/(3*p[2])*(x-3*p[2]/2)+p[3]*x\n",
    "@manipulate throttle=.05 for  H=0.2:0.001:0.25,S=-0.1:0.01:0.12, tmax=10.0:5.0:100.0\n",
    "    x0 = 0.5+sqrt(0.25-H)\n",
    "    potential1D(Vlogharvest,x0,tmax,[1.0,1.0,H],10.0,S,(u)->(u<0);xlims=[0.0,1.0],title=\"Log con Harvest\")\n",
    "end"
   ]
  },
  {
   "cell_type": "code",
   "execution_count": null,
   "id": "da0aec40",
   "metadata": {},
   "outputs": [],
   "source": []
  }
 ],
 "metadata": {
  "@webio": {
   "lastCommId": "7d635b8124484b1f8aa1fdd188abca3b",
   "lastKernelId": "3fc7bb62-8e80-4615-87cb-b83688e6e5dd"
  },
  "kernelspec": {
   "display_name": "Julia 1.6.5",
   "language": "julia",
   "name": "julia-1.6"
  },
  "language_info": {
   "file_extension": ".jl",
   "mimetype": "application/julia",
   "name": "julia",
   "version": "1.6.5"
  },
  "toc": {
   "base_numbering": 1,
   "nav_menu": {},
   "number_sections": true,
   "sideBar": true,
   "skip_h1_title": false,
   "title_cell": "Table of Contents",
   "title_sidebar": "Contents",
   "toc_cell": false,
   "toc_position": {
    "height": "calc(100% - 180px)",
    "left": "10px",
    "top": "150px",
    "width": "320px"
   },
   "toc_section_display": true,
   "toc_window_display": true
  },
  "varInspector": {
   "cols": {
    "lenName": 16,
    "lenType": 16,
    "lenVar": 40
   },
   "kernels_config": {
    "python": {
     "delete_cmd_postfix": "",
     "delete_cmd_prefix": "del ",
     "library": "var_list.py",
     "varRefreshCmd": "print(var_dic_list())"
    },
    "r": {
     "delete_cmd_postfix": ") ",
     "delete_cmd_prefix": "rm(",
     "library": "var_list.r",
     "varRefreshCmd": "cat(var_dic_list()) "
    }
   },
   "types_to_exclude": [
    "module",
    "function",
    "builtin_function_or_method",
    "instance",
    "_Feature"
   ],
   "window_display": true
  }
 },
 "nbformat": 4,
 "nbformat_minor": 5
}
