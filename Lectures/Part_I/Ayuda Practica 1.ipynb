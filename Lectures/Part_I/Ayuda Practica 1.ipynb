{
 "cells": [
  {
   "cell_type": "code",
   "execution_count": 1,
   "id": "82992db1",
   "metadata": {},
   "outputs": [],
   "source": [
    "using Plots, DifferentialEquations, BifurcationKit, Setfield, IntervalRootFinding, ForwardDiff\n",
    "using NonLinearDynamicsCourse"
   ]
  },
  {
   "cell_type": "markdown",
   "id": "cb566141",
   "metadata": {},
   "source": [
    "<div>\n",
    "      <img src=\"../files/Capture0.PNG\" width=\"700px\">\n",
    "</div>\n",
    "\n",
    "$x-x^3 = x(1-x^2) = x(1-x)(1+x)$"
   ]
  },
  {
   "cell_type": "code",
   "execution_count": 2,
   "id": "fa26f052",
   "metadata": {},
   "outputs": [
    {
     "data": {
      "text/plain": [
       "fa (generic function with 2 methods)"
      ]
     },
     "execution_count": 2,
     "metadata": {},
     "output_type": "execute_result"
    }
   ],
   "source": [
    "# para integrar con DifferentialEquations\n",
    "fa(x,p,t) = p[1]*x-x^3\n",
    "# pero tambien para calcular ceros \n",
    "fa(x) = 1.0*x-x^3"
   ]
  },
  {
   "cell_type": "code",
   "execution_count": 10,
   "id": "b41817cc",
   "metadata": {},
   "outputs": [
    {
     "data": {
      "text/plain": [
       "3-element Vector{Root{Interval{Float64}}}:\n",
       " Root([-2.20794e-17, 1.6172e-18], :unique)\n",
       " Root([0.999999, 1.00001], :unique)\n",
       " Root([-1.00001, -0.999999], :unique)"
      ]
     },
     "execution_count": 10,
     "metadata": {},
     "output_type": "execute_result"
    }
   ],
   "source": [
    "# calculamos los ceros con roots\n",
    "pf = roots(fa,-10..10)"
   ]
  },
  {
   "cell_type": "code",
   "execution_count": 11,
   "id": "38ccb738",
   "metadata": {},
   "outputs": [
    {
     "data": {
      "text/plain": [
       "3-element Vector{Float64}:\n",
       " -1.023109921164788e-17\n",
       "  1.0000000000050746\n",
       " -1.000000000867286"
      ]
     },
     "execution_count": 11,
     "metadata": {},
     "output_type": "execute_result"
    }
   ],
   "source": [
    "# transformamos la salida root a un array con los Puntos fijos\n",
    "xstar = [mid(p.interval) for p in pf]"
   ]
  },
  {
   "cell_type": "code",
   "execution_count": 21,
   "id": "5db0b7f9",
   "metadata": {},
   "outputs": [
    {
     "data": {
      "text/plain": [
       "3-element Vector{Float64}:\n",
       "  1.0\n",
       " -2.0000000000304476\n",
       " -2.000000005203716"
      ]
     },
     "execution_count": 21,
     "metadata": {},
     "output_type": "execute_result"
    }
   ],
   "source": [
    "# calculamos la derivada del campo vector fa(x) evaluada en cada uno de los puntos fijos\n",
    "xderivative = derivative.(fa,xstar)"
   ]
  },
  {
   "cell_type": "markdown",
   "id": "bac62bbc",
   "metadata": {},
   "source": [
    "<div>\n",
    "      <img src=\"../files/Capture2.PNG\" width=\"700px\">\n",
    "</div>\n"
   ]
  },
  {
   "cell_type": "code",
   "execution_count": 30,
   "id": "6061cdb4",
   "metadata": {},
   "outputs": [
    {
     "name": "stdout",
     "output_type": "stream",
     "text": [
      "[-4.0308603893937645e-17][-0.1]"
     ]
    }
   ],
   "source": [
    "F(x) = fa(x,-0.1,0)\n",
    "pf = roots(F,-10..10)\n",
    "xstar = [mid(p.interval) for p in pf]\n",
    "xderivative = derivative.(F,xstar)\n",
    "print(xstar)\n",
    "print(xderivative)"
   ]
  },
  {
   "cell_type": "markdown",
   "id": "b5e01fb5",
   "metadata": {},
   "source": [
    " Challenge 1 \n",
    " Realizar la celda anterior dentro de un loop barriendo a desde -1 a 1\n",
    " y para cada valor de a en el eje horizontal colocar circulitos azules (atractor) o rojos (repulsor ) en la coordenada x de los puntos fijos sobre el eje vertical"
   ]
  },
  {
   "cell_type": "code",
   "execution_count": 42,
   "id": "931c2cd2",
   "metadata": {},
   "outputs": [
    {
     "name": "stdout",
     "output_type": "stream",
     "text": [
      "[-0.11534672566444706, 0.35770894451734586, -0.24236221401110342][0.060085398635472374, -0.2838670669631409, -0.07621832834109168]"
     ]
    }
   ],
   "source": [
    "# para el ejercicio 3 en el caso de la ptchfork perturbada\n",
    "a = 0.1\n",
    "F(x) = a*x-x^3+0.01\n",
    "pf = roots(F,-10..10)\n",
    "xstar = [mid(p.interval) for p in pf]\n",
    "xderivative = derivative.(F,xstar)\n",
    "print(xstar)\n",
    "print(xderivative)"
   ]
  },
  {
   "cell_type": "code",
   "execution_count": null,
   "id": "5b93ff39",
   "metadata": {},
   "outputs": [],
   "source": []
  }
 ],
 "metadata": {
  "kernelspec": {
   "display_name": "Julia 1.6.5",
   "language": "julia",
   "name": "julia-1.6"
  },
  "language_info": {
   "file_extension": ".jl",
   "mimetype": "application/julia",
   "name": "julia",
   "version": "1.6.5"
  }
 },
 "nbformat": 4,
 "nbformat_minor": 5
}
